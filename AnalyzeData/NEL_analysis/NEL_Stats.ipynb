{
 "cells": [
  {
   "cell_type": "markdown",
   "metadata": {},
   "source": [
    "# Stats regarding the samples in the NEL, their MR parameters and how they relate to pathological outcome: "
   ]
  },
  {
   "cell_type": "code",
   "execution_count": 2,
   "metadata": {},
   "outputs": [],
   "source": [
    "options(repr.matrix.max.rows=600, repr.matrix.max.cols=200)"
   ]
  },
  {
   "cell_type": "markdown",
   "metadata": {},
   "source": [
    "## First read in the data: "
   ]
  },
  {
   "cell_type": "code",
   "execution_count": 3,
   "metadata": {},
   "outputs": [
    {
     "data": {
      "text/html": [
       "<ol class=list-inline>\n",
       "\t<li>'vialid'</li>\n",
       "\t<li>'b_number'</li>\n",
       "\t<li>'t_number_x'</li>\n",
       "\t<li>'t_number_y'</li>\n",
       "\t<li>'sf_number'</li>\n",
       "\t<li>'current_scan_date'</li>\n",
       "\t<li>'current_surgery_date'</li>\n",
       "\t<li>'current_hist_grade'</li>\n",
       "\t<li>'current_hist_type'</li>\n",
       "\t<li>'tumor_cell_evaluation'</li>\n",
       "\t<li>'necrosis'</li>\n",
       "\t<li>'mv_hyperplasia'</li>\n",
       "\t<li>'mv_delicate_vasculature'</li>\n",
       "\t<li>'f8_delicate'</li>\n",
       "\t<li>'f8_simple'</li>\n",
       "\t<li>'f8_complex'</li>\n",
       "\t<li>'mib_1'</li>\n",
       "\t<li>'avgerage_cells'</li>\n",
       "\t<li>'treatment_related_ab'</li>\n",
       "\t<li>'bx_pure_treatment_effect'</li>\n",
       "\t<li>'percent_tumor_nuclei'</li>\n",
       "\t<li>'nfl'</li>\n",
       "\t<li>'nfse'</li>\n",
       "\t<li>'nt1c'</li>\n",
       "\t<li>'nt1v'</li>\n",
       "\t<li>'nt1d'</li>\n",
       "\t<li>'nadc.1'</li>\n",
       "\t<li>'nfa.1'</li>\n",
       "\t<li>'nev1.1'</li>\n",
       "\t<li>'nev2.1'</li>\n",
       "\t<li>'nev3.1'</li>\n",
       "\t<li>'nevrad.1'</li>\n",
       "\t<li>'nadc.2'</li>\n",
       "\t<li>'nfa.2'</li>\n",
       "\t<li>'nev1.2'</li>\n",
       "\t<li>'nev2.2'</li>\n",
       "\t<li>'nev3.2'</li>\n",
       "\t<li>'nevrad.2'</li>\n",
       "\t<li>'cbvn_nlin'</li>\n",
       "\t<li>'phn_nlin'</li>\n",
       "\t<li>'recov_nlin'</li>\n",
       "\t<li>'phn_npar'</li>\n",
       "\t<li>'recov_npar'</li>\n",
       "\t<li>'recovn_npar'</li>\n",
       "\t<li>'ccri'</li>\n",
       "\t<li>'cni'</li>\n",
       "\t<li>'crni'</li>\n",
       "\t<li>'ncho'</li>\n",
       "\t<li>'ncre'</li>\n",
       "\t<li>'nnaa'</li>\n",
       "\t<li>'nlac'</li>\n",
       "\t<li>'nlip'</li>\n",
       "\t<li>'newdata'</li>\n",
       "\t<li>'olddata'</li>\n",
       "\t<li>'exclude_bc_hematoma_or_ventricle'</li>\n",
       "\t<li>'exclude_perf'</li>\n",
       "\t<li>'nLL'</li>\n",
       "\t<li>'comments'</li>\n",
       "\t<li>'perf_quant'</li>\n",
       "\t<li>'include_perf'</li>\n",
       "\t<li>'spec_quant'</li>\n",
       "\t<li>'include_spec'</li>\n",
       "\t<li>'diffu1000_quant'</li>\n",
       "\t<li>'diffu2000_quant'</li>\n",
       "\t<li>'exclude_bc_anat'</li>\n",
       "\t<li>'exclude_bc_pathology'</li>\n",
       "\t<li>'include_diffu1000'</li>\n",
       "\t<li>'include_diffu2000'</li>\n",
       "\t<li>'exclude_histology'</li>\n",
       "\t<li>'txe_comments'</li>\n",
       "\t<li>'outcome'</li>\n",
       "\t<li>'in_CEL'</li>\n",
       "\t<li>'in_T2all'</li>\n",
       "\t<li>'in_NEL'</li>\n",
       "\t<li>'CELorNEL'</li>\n",
       "</ol>\n"
      ],
      "text/latex": [
       "\\begin{enumerate*}\n",
       "\\item 'vialid'\n",
       "\\item 'b\\_number'\n",
       "\\item 't\\_number\\_x'\n",
       "\\item 't\\_number\\_y'\n",
       "\\item 'sf\\_number'\n",
       "\\item 'current\\_scan\\_date'\n",
       "\\item 'current\\_surgery\\_date'\n",
       "\\item 'current\\_hist\\_grade'\n",
       "\\item 'current\\_hist\\_type'\n",
       "\\item 'tumor\\_cell\\_evaluation'\n",
       "\\item 'necrosis'\n",
       "\\item 'mv\\_hyperplasia'\n",
       "\\item 'mv\\_delicate\\_vasculature'\n",
       "\\item 'f8\\_delicate'\n",
       "\\item 'f8\\_simple'\n",
       "\\item 'f8\\_complex'\n",
       "\\item 'mib\\_1'\n",
       "\\item 'avgerage\\_cells'\n",
       "\\item 'treatment\\_related\\_ab'\n",
       "\\item 'bx\\_pure\\_treatment\\_effect'\n",
       "\\item 'percent\\_tumor\\_nuclei'\n",
       "\\item 'nfl'\n",
       "\\item 'nfse'\n",
       "\\item 'nt1c'\n",
       "\\item 'nt1v'\n",
       "\\item 'nt1d'\n",
       "\\item 'nadc.1'\n",
       "\\item 'nfa.1'\n",
       "\\item 'nev1.1'\n",
       "\\item 'nev2.1'\n",
       "\\item 'nev3.1'\n",
       "\\item 'nevrad.1'\n",
       "\\item 'nadc.2'\n",
       "\\item 'nfa.2'\n",
       "\\item 'nev1.2'\n",
       "\\item 'nev2.2'\n",
       "\\item 'nev3.2'\n",
       "\\item 'nevrad.2'\n",
       "\\item 'cbvn\\_nlin'\n",
       "\\item 'phn\\_nlin'\n",
       "\\item 'recov\\_nlin'\n",
       "\\item 'phn\\_npar'\n",
       "\\item 'recov\\_npar'\n",
       "\\item 'recovn\\_npar'\n",
       "\\item 'ccri'\n",
       "\\item 'cni'\n",
       "\\item 'crni'\n",
       "\\item 'ncho'\n",
       "\\item 'ncre'\n",
       "\\item 'nnaa'\n",
       "\\item 'nlac'\n",
       "\\item 'nlip'\n",
       "\\item 'newdata'\n",
       "\\item 'olddata'\n",
       "\\item 'exclude\\_bc\\_hematoma\\_or\\_ventricle'\n",
       "\\item 'exclude\\_perf'\n",
       "\\item 'nLL'\n",
       "\\item 'comments'\n",
       "\\item 'perf\\_quant'\n",
       "\\item 'include\\_perf'\n",
       "\\item 'spec\\_quant'\n",
       "\\item 'include\\_spec'\n",
       "\\item 'diffu1000\\_quant'\n",
       "\\item 'diffu2000\\_quant'\n",
       "\\item 'exclude\\_bc\\_anat'\n",
       "\\item 'exclude\\_bc\\_pathology'\n",
       "\\item 'include\\_diffu1000'\n",
       "\\item 'include\\_diffu2000'\n",
       "\\item 'exclude\\_histology'\n",
       "\\item 'txe\\_comments'\n",
       "\\item 'outcome'\n",
       "\\item 'in\\_CEL'\n",
       "\\item 'in\\_T2all'\n",
       "\\item 'in\\_NEL'\n",
       "\\item 'CELorNEL'\n",
       "\\end{enumerate*}\n"
      ],
      "text/markdown": [
       "1. 'vialid'\n",
       "2. 'b_number'\n",
       "3. 't_number_x'\n",
       "4. 't_number_y'\n",
       "5. 'sf_number'\n",
       "6. 'current_scan_date'\n",
       "7. 'current_surgery_date'\n",
       "8. 'current_hist_grade'\n",
       "9. 'current_hist_type'\n",
       "10. 'tumor_cell_evaluation'\n",
       "11. 'necrosis'\n",
       "12. 'mv_hyperplasia'\n",
       "13. 'mv_delicate_vasculature'\n",
       "14. 'f8_delicate'\n",
       "15. 'f8_simple'\n",
       "16. 'f8_complex'\n",
       "17. 'mib_1'\n",
       "18. 'avgerage_cells'\n",
       "19. 'treatment_related_ab'\n",
       "20. 'bx_pure_treatment_effect'\n",
       "21. 'percent_tumor_nuclei'\n",
       "22. 'nfl'\n",
       "23. 'nfse'\n",
       "24. 'nt1c'\n",
       "25. 'nt1v'\n",
       "26. 'nt1d'\n",
       "27. 'nadc.1'\n",
       "28. 'nfa.1'\n",
       "29. 'nev1.1'\n",
       "30. 'nev2.1'\n",
       "31. 'nev3.1'\n",
       "32. 'nevrad.1'\n",
       "33. 'nadc.2'\n",
       "34. 'nfa.2'\n",
       "35. 'nev1.2'\n",
       "36. 'nev2.2'\n",
       "37. 'nev3.2'\n",
       "38. 'nevrad.2'\n",
       "39. 'cbvn_nlin'\n",
       "40. 'phn_nlin'\n",
       "41. 'recov_nlin'\n",
       "42. 'phn_npar'\n",
       "43. 'recov_npar'\n",
       "44. 'recovn_npar'\n",
       "45. 'ccri'\n",
       "46. 'cni'\n",
       "47. 'crni'\n",
       "48. 'ncho'\n",
       "49. 'ncre'\n",
       "50. 'nnaa'\n",
       "51. 'nlac'\n",
       "52. 'nlip'\n",
       "53. 'newdata'\n",
       "54. 'olddata'\n",
       "55. 'exclude_bc_hematoma_or_ventricle'\n",
       "56. 'exclude_perf'\n",
       "57. 'nLL'\n",
       "58. 'comments'\n",
       "59. 'perf_quant'\n",
       "60. 'include_perf'\n",
       "61. 'spec_quant'\n",
       "62. 'include_spec'\n",
       "63. 'diffu1000_quant'\n",
       "64. 'diffu2000_quant'\n",
       "65. 'exclude_bc_anat'\n",
       "66. 'exclude_bc_pathology'\n",
       "67. 'include_diffu1000'\n",
       "68. 'include_diffu2000'\n",
       "69. 'exclude_histology'\n",
       "70. 'txe_comments'\n",
       "71. 'outcome'\n",
       "72. 'in_CEL'\n",
       "73. 'in_T2all'\n",
       "74. 'in_NEL'\n",
       "75. 'CELorNEL'\n",
       "\n",
       "\n"
      ],
      "text/plain": [
       " [1] \"vialid\"                           \"b_number\"                        \n",
       " [3] \"t_number_x\"                       \"t_number_y\"                      \n",
       " [5] \"sf_number\"                        \"current_scan_date\"               \n",
       " [7] \"current_surgery_date\"             \"current_hist_grade\"              \n",
       " [9] \"current_hist_type\"                \"tumor_cell_evaluation\"           \n",
       "[11] \"necrosis\"                         \"mv_hyperplasia\"                  \n",
       "[13] \"mv_delicate_vasculature\"          \"f8_delicate\"                     \n",
       "[15] \"f8_simple\"                        \"f8_complex\"                      \n",
       "[17] \"mib_1\"                            \"avgerage_cells\"                  \n",
       "[19] \"treatment_related_ab\"             \"bx_pure_treatment_effect\"        \n",
       "[21] \"percent_tumor_nuclei\"             \"nfl\"                             \n",
       "[23] \"nfse\"                             \"nt1c\"                            \n",
       "[25] \"nt1v\"                             \"nt1d\"                            \n",
       "[27] \"nadc.1\"                           \"nfa.1\"                           \n",
       "[29] \"nev1.1\"                           \"nev2.1\"                          \n",
       "[31] \"nev3.1\"                           \"nevrad.1\"                        \n",
       "[33] \"nadc.2\"                           \"nfa.2\"                           \n",
       "[35] \"nev1.2\"                           \"nev2.2\"                          \n",
       "[37] \"nev3.2\"                           \"nevrad.2\"                        \n",
       "[39] \"cbvn_nlin\"                        \"phn_nlin\"                        \n",
       "[41] \"recov_nlin\"                       \"phn_npar\"                        \n",
       "[43] \"recov_npar\"                       \"recovn_npar\"                     \n",
       "[45] \"ccri\"                             \"cni\"                             \n",
       "[47] \"crni\"                             \"ncho\"                            \n",
       "[49] \"ncre\"                             \"nnaa\"                            \n",
       "[51] \"nlac\"                             \"nlip\"                            \n",
       "[53] \"newdata\"                          \"olddata\"                         \n",
       "[55] \"exclude_bc_hematoma_or_ventricle\" \"exclude_perf\"                    \n",
       "[57] \"nLL\"                              \"comments\"                        \n",
       "[59] \"perf_quant\"                       \"include_perf\"                    \n",
       "[61] \"spec_quant\"                       \"include_spec\"                    \n",
       "[63] \"diffu1000_quant\"                  \"diffu2000_quant\"                 \n",
       "[65] \"exclude_bc_anat\"                  \"exclude_bc_pathology\"            \n",
       "[67] \"include_diffu1000\"                \"include_diffu2000\"               \n",
       "[69] \"exclude_histology\"                \"txe_comments\"                    \n",
       "[71] \"outcome\"                          \"in_CEL\"                          \n",
       "[73] \"in_T2all\"                         \"in_NEL\"                          \n",
       "[75] \"CELorNEL\"                        "
      ]
     },
     "metadata": {},
     "output_type": "display_data"
    },
    {
     "data": {
      "text/html": [
       "<ol class=list-inline>\n",
       "\t<li>366</li>\n",
       "\t<li>75</li>\n",
       "</ol>\n"
      ],
      "text/latex": [
       "\\begin{enumerate*}\n",
       "\\item 366\n",
       "\\item 75\n",
       "\\end{enumerate*}\n"
      ],
      "text/markdown": [
       "1. 366\n",
       "2. 75\n",
       "\n",
       "\n"
      ],
      "text/plain": [
       "[1] 366  75"
      ]
     },
     "metadata": {},
     "output_type": "display_data"
    }
   ],
   "source": [
    "recgli = read.csv(\"/home/sf673542/MultiParametricMRI/MP_MRI_Final/AnnotateData/recgli_annotation10_onlyGoodBiopsies_alt1.csv\")\n",
    "colnames(recgli)\n",
    "dim(recgli)"
   ]
  },
  {
   "cell_type": "code",
   "execution_count": 4,
   "metadata": {},
   "outputs": [],
   "source": [
    "recgli = droplevels.data.frame(recgli)"
   ]
  },
  {
   "cell_type": "code",
   "execution_count": 5,
   "metadata": {},
   "outputs": [],
   "source": [
    "recgli = recgli[recgli$CELorNEL == \"NEL\",]"
   ]
  },
  {
   "cell_type": "code",
   "execution_count": 6,
   "metadata": {},
   "outputs": [
    {
     "data": {
      "text/html": [
       "<ol class=list-inline>\n",
       "\t<li>33</li>\n",
       "\t<li>75</li>\n",
       "</ol>\n"
      ],
      "text/latex": [
       "\\begin{enumerate*}\n",
       "\\item 33\n",
       "\\item 75\n",
       "\\end{enumerate*}\n"
      ],
      "text/markdown": [
       "1. 33\n",
       "2. 75\n",
       "\n",
       "\n"
      ],
      "text/plain": [
       "[1] 33 75"
      ]
     },
     "metadata": {},
     "output_type": "display_data"
    },
    {
     "data": {
      "text/html": [
       "<ol class=list-inline>\n",
       "\t<li>94</li>\n",
       "\t<li>75</li>\n",
       "</ol>\n"
      ],
      "text/latex": [
       "\\begin{enumerate*}\n",
       "\\item 94\n",
       "\\item 75\n",
       "\\end{enumerate*}\n"
      ],
      "text/markdown": [
       "1. 94\n",
       "2. 75\n",
       "\n",
       "\n"
      ],
      "text/plain": [
       "[1] 94 75"
      ]
     },
     "metadata": {},
     "output_type": "display_data"
    }
   ],
   "source": [
    "dim(recgli[recgli$outcome==\"txe\",])\n",
    "dim(recgli[recgli$outcome==\"rHGG\",])"
   ]
  },
  {
   "cell_type": "markdown",
   "metadata": {},
   "source": [
    "## Anatomical numbers: "
   ]
  },
  {
   "cell_type": "code",
   "execution_count": 7,
   "metadata": {},
   "outputs": [
    {
     "data": {
      "text/plain": [
       "\n",
       "rHGG  txe  unk \n",
       "  94   33   28 "
      ]
     },
     "metadata": {},
     "output_type": "display_data"
    }
   ],
   "source": [
    "table(recgli$outcome)"
   ]
  },
  {
   "cell_type": "code",
   "execution_count": 13,
   "metadata": {},
   "outputs": [
    {
     "name": "stdout",
     "output_type": "stream",
     "text": [
      "[1] \"there are \"\n",
      "[1] 83\n",
      "[1] \"patients contributing to this NEL cohort\"\n"
     ]
    }
   ],
   "source": [
    "print('there are ')\n",
    "print(length(unique(recgli$t_number_y[recgli$outcome == \"txe\" | recgli$outcome == \"rHGG\"])))\n",
    "print('patients contributing to this NEL cohort')"
   ]
  },
  {
   "cell_type": "code",
   "execution_count": 14,
   "metadata": {},
   "outputs": [],
   "source": [
    "recgli = droplevels.data.frame(recgli)"
   ]
  },
  {
   "cell_type": "code",
   "execution_count": 15,
   "metadata": {},
   "outputs": [
    {
     "data": {
      "text/plain": [
       "      \n",
       "       NEL\n",
       "  rHGG  94\n",
       "  txe   33\n",
       "  unk   28"
      ]
     },
     "metadata": {},
     "output_type": "display_data"
    }
   ],
   "source": [
    "table(recgli$outcome, recgli$CELorNEL)"
   ]
  },
  {
   "cell_type": "markdown",
   "metadata": {},
   "source": [
    "## Diffusion numbers: "
   ]
  },
  {
   "cell_type": "code",
   "execution_count": 16,
   "metadata": {},
   "outputs": [],
   "source": [
    "recgli_diffu = recgli[!is.na(recgli$nadc.1),]"
   ]
  },
  {
   "cell_type": "code",
   "execution_count": 17,
   "metadata": {},
   "outputs": [
    {
     "data": {
      "text/plain": [
       "\n",
       "rHGG  txe  unk \n",
       "  88   32   26 "
      ]
     },
     "metadata": {},
     "output_type": "display_data"
    },
    {
     "data": {
      "text/html": [
       "77"
      ],
      "text/latex": [
       "77"
      ],
      "text/markdown": [
       "77"
      ],
      "text/plain": [
       "[1] 77"
      ]
     },
     "metadata": {},
     "output_type": "display_data"
    }
   ],
   "source": [
    "table(recgli_diffu$outcome)\n",
    "length(unique(recgli_diffu$t_number_y[recgli_diffu$outcome == \"txe\" | recgli_diffu$outcome == \"rHGG\"]))"
   ]
  },
  {
   "cell_type": "markdown",
   "metadata": {},
   "source": [
    "## Perfusion numbers: "
   ]
  },
  {
   "cell_type": "code",
   "execution_count": 18,
   "metadata": {},
   "outputs": [],
   "source": [
    "recgli_perf = recgli[!is.na(recgli$cbvn_nlin),]"
   ]
  },
  {
   "cell_type": "code",
   "execution_count": 19,
   "metadata": {},
   "outputs": [
    {
     "data": {
      "text/plain": [
       "\n",
       "rHGG  txe  unk \n",
       "  64   24   18 "
      ]
     },
     "metadata": {},
     "output_type": "display_data"
    },
    {
     "data": {
      "text/html": [
       "58"
      ],
      "text/latex": [
       "58"
      ],
      "text/markdown": [
       "58"
      ],
      "text/plain": [
       "[1] 58"
      ]
     },
     "metadata": {},
     "output_type": "display_data"
    }
   ],
   "source": [
    "table(recgli_perf$outcome)\n",
    "length(unique(recgli_perf$t_number_y[recgli_perf$outcome == \"txe\" | recgli_perf$outcome == \"rHGG\"]))"
   ]
  },
  {
   "cell_type": "markdown",
   "metadata": {},
   "source": [
    "## Spectroscopy numbers: \n"
   ]
  },
  {
   "cell_type": "code",
   "execution_count": 20,
   "metadata": {},
   "outputs": [],
   "source": [
    "recgli_spec = recgli[!is.na(recgli$cni),]"
   ]
  },
  {
   "cell_type": "code",
   "execution_count": 21,
   "metadata": {},
   "outputs": [
    {
     "data": {
      "text/plain": [
       "\n",
       "rHGG  txe  unk \n",
       "  52   16   15 "
      ]
     },
     "metadata": {},
     "output_type": "display_data"
    },
    {
     "data": {
      "text/html": [
       "47"
      ],
      "text/latex": [
       "47"
      ],
      "text/markdown": [
       "47"
      ],
      "text/plain": [
       "[1] 47"
      ]
     },
     "metadata": {},
     "output_type": "display_data"
    }
   ],
   "source": [
    "table(recgli_spec$outcome)\n",
    "length(unique(recgli_spec$t_number_y[recgli_spec$outcome == \"txe\" | recgli_spec$outcome == \"rHGG\"]))"
   ]
  },
  {
   "cell_type": "code",
   "execution_count": 22,
   "metadata": {},
   "outputs": [
    {
     "data": {
      "text/html": [
       "<ol class=list-inline>\n",
       "\t<li>127</li>\n",
       "\t<li>75</li>\n",
       "</ol>\n"
      ],
      "text/latex": [
       "\\begin{enumerate*}\n",
       "\\item 127\n",
       "\\item 75\n",
       "\\end{enumerate*}\n"
      ],
      "text/markdown": [
       "1. 127\n",
       "2. 75\n",
       "\n",
       "\n"
      ],
      "text/plain": [
       "[1] 127  75"
      ]
     },
     "metadata": {},
     "output_type": "display_data"
    }
   ],
   "source": [
    "## Now let's subset down to JUST rHGG & TxE\n",
    "recgli = recgli[which(recgli$outcome == \"txe\" | recgli$outcome==\"rHGG\"), ]\n",
    "dim(recgli)"
   ]
  },
  {
   "cell_type": "code",
   "execution_count": 23,
   "metadata": {},
   "outputs": [
    {
     "data": {
      "text/plain": [
       "      \n",
       "       FALSE TRUE\n",
       "  rHGG    88    6\n",
       "  txe     32    1\n",
       "  unk      0    0"
      ]
     },
     "metadata": {},
     "output_type": "display_data"
    }
   ],
   "source": [
    "table(recgli$outcome, is.na(recgli$nadc.1))"
   ]
  },
  {
   "cell_type": "code",
   "execution_count": 24,
   "metadata": {},
   "outputs": [],
   "source": [
    "recgli = droplevels.data.frame(recgli)"
   ]
  },
  {
   "cell_type": "markdown",
   "metadata": {},
   "source": [
    "## First -- visualization: "
   ]
  },
  {
   "cell_type": "code",
   "execution_count": 25,
   "metadata": {
    "scrolled": true
   },
   "outputs": [
    {
     "data": {
      "image/png": "[encoded data removed]",
      "text/plain": [
       "Plot with title “Cre vs. outcome”"
      ]
     },
     "metadata": {},
     "output_type": "display_data"
    }
   ],
   "source": [
    "## Let's look at the differences among parameters: \n",
    "par(mfrow = c(3,3))\n",
    "a = boxplot(nadc.1 ~ outcome , data = recgli, ylab = \"normalized nadc.1\",  main = 'nadc.1 vs. outcome')\n",
    "b = boxplot(nfa.1 ~ outcome , data = recgli, ylab = \"normalized nfa.1\",  main = 'nfa.1 vs. outcome')\n",
    "a = boxplot(cbvn_nlin ~ outcome , data = recgli, ylab = \"normalized cbvn_nlin\",  main = 'cbvn_nlin vs. outcome')\n",
    "a = boxplot(ccri ~ outcome , data = recgli, ylab = \"CCRI\", main = 'CCRI vs. outcome')\n",
    "a = boxplot(cni ~ outcome , data = recgli, ylab = \"CNI\", main = 'CNI vs. outcome')\n",
    "a = boxplot(nnaa ~ outcome , data = recgli, ylab = \"NAA\", main = 'NAA vs. outcome')\n",
    "a = boxplot(ncho ~ outcome , data = recgli, ylab = \"Cho\", main = 'Cho vs. outcome')\n",
    "a = boxplot(ncre ~ outcome , data = recgli, ylab = \"Cre\", main = 'Cre vs. outcome')"
   ]
  },
  {
   "cell_type": "markdown",
   "metadata": {},
   "source": [
    "## Second -- Stats: "
   ]
  },
  {
   "cell_type": "code",
   "execution_count": 26,
   "metadata": {},
   "outputs": [
    {
     "name": "stderr",
     "output_type": "stream",
     "text": [
      "Loading required package: Matrix\n",
      "Loading required package: trust\n",
      "Loading required package: mvtnorm\n",
      "Warning message:\n",
      "“package ‘mvtnorm’ was built under R version 3.4.1”Loading required package: digest\n"
     ]
    }
   ],
   "source": [
    "library(lme4)\n",
    "library(geepack)\n",
    "library(glmm)"
   ]
  },
  {
   "cell_type": "code",
   "execution_count": 27,
   "metadata": {},
   "outputs": [
    {
     "data": {
      "text/html": [
       "<ol class=list-inline>\n",
       "\t<li>'vialid'</li>\n",
       "\t<li>'b_number'</li>\n",
       "\t<li>'t_number_x'</li>\n",
       "\t<li>'t_number_y'</li>\n",
       "\t<li>'sf_number'</li>\n",
       "\t<li>'current_scan_date'</li>\n",
       "\t<li>'current_surgery_date'</li>\n",
       "\t<li>'current_hist_grade'</li>\n",
       "\t<li>'current_hist_type'</li>\n",
       "\t<li>'tumor_cell_evaluation'</li>\n",
       "\t<li>'necrosis'</li>\n",
       "\t<li>'mv_hyperplasia'</li>\n",
       "\t<li>'mv_delicate_vasculature'</li>\n",
       "\t<li>'f8_delicate'</li>\n",
       "\t<li>'f8_simple'</li>\n",
       "\t<li>'f8_complex'</li>\n",
       "\t<li>'mib_1'</li>\n",
       "\t<li>'avgerage_cells'</li>\n",
       "\t<li>'treatment_related_ab'</li>\n",
       "\t<li>'bx_pure_treatment_effect'</li>\n",
       "\t<li>'percent_tumor_nuclei'</li>\n",
       "\t<li>'nfl'</li>\n",
       "\t<li>'nfse'</li>\n",
       "\t<li>'nt1c'</li>\n",
       "\t<li>'nt1v'</li>\n",
       "\t<li>'nt1d'</li>\n",
       "\t<li>'nadc.1'</li>\n",
       "\t<li>'nfa.1'</li>\n",
       "\t<li>'nev1.1'</li>\n",
       "\t<li>'nev2.1'</li>\n",
       "\t<li>'nev3.1'</li>\n",
       "\t<li>'nevrad.1'</li>\n",
       "\t<li>'nadc.2'</li>\n",
       "\t<li>'nfa.2'</li>\n",
       "\t<li>'nev1.2'</li>\n",
       "\t<li>'nev2.2'</li>\n",
       "\t<li>'nev3.2'</li>\n",
       "\t<li>'nevrad.2'</li>\n",
       "\t<li>'cbvn_nlin'</li>\n",
       "\t<li>'phn_nlin'</li>\n",
       "\t<li>'recov_nlin'</li>\n",
       "\t<li>'phn_npar'</li>\n",
       "\t<li>'recov_npar'</li>\n",
       "\t<li>'recovn_npar'</li>\n",
       "\t<li>'ccri'</li>\n",
       "\t<li>'cni'</li>\n",
       "\t<li>'crni'</li>\n",
       "\t<li>'ncho'</li>\n",
       "\t<li>'ncre'</li>\n",
       "\t<li>'nnaa'</li>\n",
       "\t<li>'nlac'</li>\n",
       "\t<li>'nlip'</li>\n",
       "\t<li>'newdata'</li>\n",
       "\t<li>'olddata'</li>\n",
       "\t<li>'exclude_bc_hematoma_or_ventricle'</li>\n",
       "\t<li>'exclude_perf'</li>\n",
       "\t<li>'nLL'</li>\n",
       "\t<li>'comments'</li>\n",
       "\t<li>'perf_quant'</li>\n",
       "\t<li>'include_perf'</li>\n",
       "\t<li>'spec_quant'</li>\n",
       "\t<li>'include_spec'</li>\n",
       "\t<li>'diffu1000_quant'</li>\n",
       "\t<li>'diffu2000_quant'</li>\n",
       "\t<li>'exclude_bc_anat'</li>\n",
       "\t<li>'exclude_bc_pathology'</li>\n",
       "\t<li>'include_diffu1000'</li>\n",
       "\t<li>'include_diffu2000'</li>\n",
       "\t<li>'exclude_histology'</li>\n",
       "\t<li>'txe_comments'</li>\n",
       "\t<li>'outcome'</li>\n",
       "\t<li>'in_CEL'</li>\n",
       "\t<li>'in_T2all'</li>\n",
       "\t<li>'in_NEL'</li>\n",
       "\t<li>'CELorNEL'</li>\n",
       "\t<li>'txe_rhgg'</li>\n",
       "</ol>\n"
      ],
      "text/latex": [
       "\\begin{enumerate*}\n",
       "\\item 'vialid'\n",
       "\\item 'b\\_number'\n",
       "\\item 't\\_number\\_x'\n",
       "\\item 't\\_number\\_y'\n",
       "\\item 'sf\\_number'\n",
       "\\item 'current\\_scan\\_date'\n",
       "\\item 'current\\_surgery\\_date'\n",
       "\\item 'current\\_hist\\_grade'\n",
       "\\item 'current\\_hist\\_type'\n",
       "\\item 'tumor\\_cell\\_evaluation'\n",
       "\\item 'necrosis'\n",
       "\\item 'mv\\_hyperplasia'\n",
       "\\item 'mv\\_delicate\\_vasculature'\n",
       "\\item 'f8\\_delicate'\n",
       "\\item 'f8\\_simple'\n",
       "\\item 'f8\\_complex'\n",
       "\\item 'mib\\_1'\n",
       "\\item 'avgerage\\_cells'\n",
       "\\item 'treatment\\_related\\_ab'\n",
       "\\item 'bx\\_pure\\_treatment\\_effect'\n",
       "\\item 'percent\\_tumor\\_nuclei'\n",
       "\\item 'nfl'\n",
       "\\item 'nfse'\n",
       "\\item 'nt1c'\n",
       "\\item 'nt1v'\n",
       "\\item 'nt1d'\n",
       "\\item 'nadc.1'\n",
       "\\item 'nfa.1'\n",
       "\\item 'nev1.1'\n",
       "\\item 'nev2.1'\n",
       "\\item 'nev3.1'\n",
       "\\item 'nevrad.1'\n",
       "\\item 'nadc.2'\n",
       "\\item 'nfa.2'\n",
       "\\item 'nev1.2'\n",
       "\\item 'nev2.2'\n",
       "\\item 'nev3.2'\n",
       "\\item 'nevrad.2'\n",
       "\\item 'cbvn\\_nlin'\n",
       "\\item 'phn\\_nlin'\n",
       "\\item 'recov\\_nlin'\n",
       "\\item 'phn\\_npar'\n",
       "\\item 'recov\\_npar'\n",
       "\\item 'recovn\\_npar'\n",
       "\\item 'ccri'\n",
       "\\item 'cni'\n",
       "\\item 'crni'\n",
       "\\item 'ncho'\n",
       "\\item 'ncre'\n",
       "\\item 'nnaa'\n",
       "\\item 'nlac'\n",
       "\\item 'nlip'\n",
       "\\item 'newdata'\n",
       "\\item 'olddata'\n",
       "\\item 'exclude\\_bc\\_hematoma\\_or\\_ventricle'\n",
       "\\item 'exclude\\_perf'\n",
       "\\item 'nLL'\n",
       "\\item 'comments'\n",
       "\\item 'perf\\_quant'\n",
       "\\item 'include\\_perf'\n",
       "\\item 'spec\\_quant'\n",
       "\\item 'include\\_spec'\n",
       "\\item 'diffu1000\\_quant'\n",
       "\\item 'diffu2000\\_quant'\n",
       "\\item 'exclude\\_bc\\_anat'\n",
       "\\item 'exclude\\_bc\\_pathology'\n",
       "\\item 'include\\_diffu1000'\n",
       "\\item 'include\\_diffu2000'\n",
       "\\item 'exclude\\_histology'\n",
       "\\item 'txe\\_comments'\n",
       "\\item 'outcome'\n",
       "\\item 'in\\_CEL'\n",
       "\\item 'in\\_T2all'\n",
       "\\item 'in\\_NEL'\n",
       "\\item 'CELorNEL'\n",
       "\\item 'txe\\_rhgg'\n",
       "\\end{enumerate*}\n"
      ],
      "text/markdown": [
       "1. 'vialid'\n",
       "2. 'b_number'\n",
       "3. 't_number_x'\n",
       "4. 't_number_y'\n",
       "5. 'sf_number'\n",
       "6. 'current_scan_date'\n",
       "7. 'current_surgery_date'\n",
       "8. 'current_hist_grade'\n",
       "9. 'current_hist_type'\n",
       "10. 'tumor_cell_evaluation'\n",
       "11. 'necrosis'\n",
       "12. 'mv_hyperplasia'\n",
       "13. 'mv_delicate_vasculature'\n",
       "14. 'f8_delicate'\n",
       "15. 'f8_simple'\n",
       "16. 'f8_complex'\n",
       "17. 'mib_1'\n",
       "18. 'avgerage_cells'\n",
       "19. 'treatment_related_ab'\n",
       "20. 'bx_pure_treatment_effect'\n",
       "21. 'percent_tumor_nuclei'\n",
       "22. 'nfl'\n",
       "23. 'nfse'\n",
       "24. 'nt1c'\n",
       "25. 'nt1v'\n",
       "26. 'nt1d'\n",
       "27. 'nadc.1'\n",
       "28. 'nfa.1'\n",
       "29. 'nev1.1'\n",
       "30. 'nev2.1'\n",
       "31. 'nev3.1'\n",
       "32. 'nevrad.1'\n",
       "33. 'nadc.2'\n",
       "34. 'nfa.2'\n",
       "35. 'nev1.2'\n",
       "36. 'nev2.2'\n",
       "37. 'nev3.2'\n",
       "38. 'nevrad.2'\n",
       "39. 'cbvn_nlin'\n",
       "40. 'phn_nlin'\n",
       "41. 'recov_nlin'\n",
       "42. 'phn_npar'\n",
       "43. 'recov_npar'\n",
       "44. 'recovn_npar'\n",
       "45. 'ccri'\n",
       "46. 'cni'\n",
       "47. 'crni'\n",
       "48. 'ncho'\n",
       "49. 'ncre'\n",
       "50. 'nnaa'\n",
       "51. 'nlac'\n",
       "52. 'nlip'\n",
       "53. 'newdata'\n",
       "54. 'olddata'\n",
       "55. 'exclude_bc_hematoma_or_ventricle'\n",
       "56. 'exclude_perf'\n",
       "57. 'nLL'\n",
       "58. 'comments'\n",
       "59. 'perf_quant'\n",
       "60. 'include_perf'\n",
       "61. 'spec_quant'\n",
       "62. 'include_spec'\n",
       "63. 'diffu1000_quant'\n",
       "64. 'diffu2000_quant'\n",
       "65. 'exclude_bc_anat'\n",
       "66. 'exclude_bc_pathology'\n",
       "67. 'include_diffu1000'\n",
       "68. 'include_diffu2000'\n",
       "69. 'exclude_histology'\n",
       "70. 'txe_comments'\n",
       "71. 'outcome'\n",
       "72. 'in_CEL'\n",
       "73. 'in_T2all'\n",
       "74. 'in_NEL'\n",
       "75. 'CELorNEL'\n",
       "76. 'txe_rhgg'\n",
       "\n",
       "\n"
      ],
      "text/plain": [
       " [1] \"vialid\"                           \"b_number\"                        \n",
       " [3] \"t_number_x\"                       \"t_number_y\"                      \n",
       " [5] \"sf_number\"                        \"current_scan_date\"               \n",
       " [7] \"current_surgery_date\"             \"current_hist_grade\"              \n",
       " [9] \"current_hist_type\"                \"tumor_cell_evaluation\"           \n",
       "[11] \"necrosis\"                         \"mv_hyperplasia\"                  \n",
       "[13] \"mv_delicate_vasculature\"          \"f8_delicate\"                     \n",
       "[15] \"f8_simple\"                        \"f8_complex\"                      \n",
       "[17] \"mib_1\"                            \"avgerage_cells\"                  \n",
       "[19] \"treatment_related_ab\"             \"bx_pure_treatment_effect\"        \n",
       "[21] \"percent_tumor_nuclei\"             \"nfl\"                             \n",
       "[23] \"nfse\"                             \"nt1c\"                            \n",
       "[25] \"nt1v\"                             \"nt1d\"                            \n",
       "[27] \"nadc.1\"                           \"nfa.1\"                           \n",
       "[29] \"nev1.1\"                           \"nev2.1\"                          \n",
       "[31] \"nev3.1\"                           \"nevrad.1\"                        \n",
       "[33] \"nadc.2\"                           \"nfa.2\"                           \n",
       "[35] \"nev1.2\"                           \"nev2.2\"                          \n",
       "[37] \"nev3.2\"                           \"nevrad.2\"                        \n",
       "[39] \"cbvn_nlin\"                        \"phn_nlin\"                        \n",
       "[41] \"recov_nlin\"                       \"phn_npar\"                        \n",
       "[43] \"recov_npar\"                       \"recovn_npar\"                     \n",
       "[45] \"ccri\"                             \"cni\"                             \n",
       "[47] \"crni\"                             \"ncho\"                            \n",
       "[49] \"ncre\"                             \"nnaa\"                            \n",
       "[51] \"nlac\"                             \"nlip\"                            \n",
       "[53] \"newdata\"                          \"olddata\"                         \n",
       "[55] \"exclude_bc_hematoma_or_ventricle\" \"exclude_perf\"                    \n",
       "[57] \"nLL\"                              \"comments\"                        \n",
       "[59] \"perf_quant\"                       \"include_perf\"                    \n",
       "[61] \"spec_quant\"                       \"include_spec\"                    \n",
       "[63] \"diffu1000_quant\"                  \"diffu2000_quant\"                 \n",
       "[65] \"exclude_bc_anat\"                  \"exclude_bc_pathology\"            \n",
       "[67] \"include_diffu1000\"                \"include_diffu2000\"               \n",
       "[69] \"exclude_histology\"                \"txe_comments\"                    \n",
       "[71] \"outcome\"                          \"in_CEL\"                          \n",
       "[73] \"in_T2all\"                         \"in_NEL\"                          \n",
       "[75] \"CELorNEL\"                         \"txe_rhgg\"                        "
      ]
     },
     "metadata": {},
     "output_type": "display_data"
    }
   ],
   "source": [
    "recgli$txe_rhgg = ifelse(recgli$outcome==\"txe\", 0, 1)\n",
    "colnames(recgli)"
   ]
  },
  {
   "cell_type": "code",
   "execution_count": 28,
   "metadata": {},
   "outputs": [
    {
     "name": "stdout",
     "output_type": "stream",
     "text": [
      "[1] \"nadc.1 gee\"\n"
     ]
    },
    {
     "data": {
      "text/html": [
       "<table>\n",
       "<thead><tr><th></th><th scope=col>Estimate</th><th scope=col>Std.err</th><th scope=col>Wald</th><th scope=col>Pr(&gt;|W|)</th></tr></thead>\n",
       "<tbody>\n",
       "\t<tr><th scope=row>(Intercept)</th><td>0.4077</td><td>0.6619</td><td>0.3794</td><td>0.5379</td></tr>\n",
       "\t<tr><th scope=row>nadc.1</th><td>0.2901</td><td>0.3560</td><td>0.6642</td><td>0.4151</td></tr>\n",
       "</tbody>\n",
       "</table>\n"
      ],
      "text/latex": [
       "\\begin{tabular}{r|llll}\n",
       "  & Estimate & Std.err & Wald & Pr(>\\textbar{}W\\textbar{})\\\\\n",
       "\\hline\n",
       "\t(Intercept) & 0.4077 & 0.6619 & 0.3794 & 0.5379\\\\\n",
       "\tnadc.1 & 0.2901 & 0.3560 & 0.6642 & 0.4151\\\\\n",
       "\\end{tabular}\n"
      ],
      "text/markdown": [
       "\n",
       "| <!--/--> | Estimate | Std.err | Wald | Pr(>|W|) | \n",
       "|---|---|\n",
       "| (Intercept) | 0.4077 | 0.6619 | 0.3794 | 0.5379 | \n",
       "| nadc.1 | 0.2901 | 0.3560 | 0.6642 | 0.4151 | \n",
       "\n",
       "\n"
      ],
      "text/plain": [
       "            Estimate Std.err Wald   Pr(>|W|)\n",
       "(Intercept) 0.4077   0.6619  0.3794 0.5379  \n",
       "nadc.1      0.2901   0.3560  0.6642 0.4151  "
      ]
     },
     "metadata": {},
     "output_type": "display_data"
    },
    {
     "name": "stdout",
     "output_type": "stream",
     "text": [
      "[1] \"nfa.1 gee\"\n"
     ]
    },
    {
     "data": {
      "text/html": [
       "<table>\n",
       "<thead><tr><th></th><th scope=col>Estimate</th><th scope=col>Std.err</th><th scope=col>Wald</th><th scope=col>Pr(&gt;|W|)</th></tr></thead>\n",
       "<tbody>\n",
       "\t<tr><th scope=row>(Intercept)</th><td> 1.1147</td><td>0.5262 </td><td>4.4877 </td><td>0.0341 </td></tr>\n",
       "\t<tr><th scope=row>nfa.1</th><td>-0.2480</td><td>0.5710 </td><td>0.1887 </td><td>0.6640 </td></tr>\n",
       "</tbody>\n",
       "</table>\n"
      ],
      "text/latex": [
       "\\begin{tabular}{r|llll}\n",
       "  & Estimate & Std.err & Wald & Pr(>\\textbar{}W\\textbar{})\\\\\n",
       "\\hline\n",
       "\t(Intercept) &  1.1147 & 0.5262  & 4.4877  & 0.0341 \\\\\n",
       "\tnfa.1 & -0.2480 & 0.5710  & 0.1887  & 0.6640 \\\\\n",
       "\\end{tabular}\n"
      ],
      "text/markdown": [
       "\n",
       "| <!--/--> | Estimate | Std.err | Wald | Pr(>|W|) | \n",
       "|---|---|\n",
       "| (Intercept) |  1.1147 | 0.5262  | 4.4877  | 0.0341  | \n",
       "| nfa.1 | -0.2480 | 0.5710  | 0.1887  | 0.6640  | \n",
       "\n",
       "\n"
      ],
      "text/plain": [
       "            Estimate Std.err Wald   Pr(>|W|)\n",
       "(Intercept)  1.1147  0.5262  4.4877 0.0341  \n",
       "nfa.1       -0.2480  0.5710  0.1887 0.6640  "
      ]
     },
     "metadata": {},
     "output_type": "display_data"
    }
   ],
   "source": [
    "\n",
    "print('nadc.1 gee')\n",
    "nadc.1.gee.fit = geeglm(txe_rhgg ~ nadc.1, data = recgli[!is.na(recgli$nadc.1),], id = factor(t_number_y), family = binomial, corstr = \"exchangeable\")\n",
    "round(summary(nadc.1.gee.fit)$coefficients, 4)\n",
    "print('nfa.1 gee')\n",
    "nfa.1.gee.fit = geeglm(txe_rhgg ~ nfa.1, data = recgli[!is.na(recgli$nfa.1),], id = factor(t_number_y), family = binomial, corstr = \"exchangeable\")\n",
    "round(summary(nfa.1.gee.fit)$coefficients, 4)\n"
   ]
  },
  {
   "cell_type": "code",
   "execution_count": 29,
   "metadata": {},
   "outputs": [],
   "source": [
    "library(\"BBmisc\")"
   ]
  },
  {
   "cell_type": "code",
   "execution_count": 30,
   "metadata": {},
   "outputs": [],
   "source": [
    "for (col in c('cbvn_nlin', 'phn_npar', 'recov_npar')){\n",
    "    recgli[,col] = normalize(recgli[,col], method = \"standardize\")\n",
    "}"
   ]
  },
  {
   "cell_type": "code",
   "execution_count": 31,
   "metadata": {},
   "outputs": [
    {
     "name": "stdout",
     "output_type": "stream",
     "text": [
      "[1] \"Perfusion:\"\n",
      "[1] \"cbvn_nlin gee\"\n"
     ]
    },
    {
     "data": {
      "text/html": [
       "<table>\n",
       "<thead><tr><th></th><th scope=col>Estimate</th><th scope=col>Std.err</th><th scope=col>Wald</th><th scope=col>Pr(&gt;|W|)</th></tr></thead>\n",
       "<tbody>\n",
       "\t<tr><th scope=row>(Intercept)</th><td>0.9066 </td><td>0.2498 </td><td>13.1744</td><td>0.0003 </td></tr>\n",
       "\t<tr><th scope=row>cbvn_nlin</th><td>0.2430 </td><td>0.2438 </td><td> 0.9935</td><td>0.3189 </td></tr>\n",
       "</tbody>\n",
       "</table>\n"
      ],
      "text/latex": [
       "\\begin{tabular}{r|llll}\n",
       "  & Estimate & Std.err & Wald & Pr(>\\textbar{}W\\textbar{})\\\\\n",
       "\\hline\n",
       "\t(Intercept) & 0.9066  & 0.2498  & 13.1744 & 0.0003 \\\\\n",
       "\tcbvn\\_nlin & 0.2430  & 0.2438  &  0.9935 & 0.3189 \\\\\n",
       "\\end{tabular}\n"
      ],
      "text/markdown": [
       "\n",
       "| <!--/--> | Estimate | Std.err | Wald | Pr(>|W|) | \n",
       "|---|---|\n",
       "| (Intercept) | 0.9066  | 0.2498  | 13.1744 | 0.0003  | \n",
       "| cbvn_nlin | 0.2430  | 0.2438  |  0.9935 | 0.3189  | \n",
       "\n",
       "\n"
      ],
      "text/plain": [
       "            Estimate Std.err Wald    Pr(>|W|)\n",
       "(Intercept) 0.9066   0.2498  13.1744 0.0003  \n",
       "cbvn_nlin   0.2430   0.2438   0.9935 0.3189  "
      ]
     },
     "metadata": {},
     "output_type": "display_data"
    }
   ],
   "source": [
    "print('Perfusion:')\n",
    "print('cbvn_nlin gee')\n",
    "cbvn_nlin.gee.fit = geeglm(txe_rhgg ~ cbvn_nlin, data = recgli[!is.na(recgli$cbvn_nlin),], id = factor(t_number_y), family = binomial, corstr = \"exchangeable\")\n",
    "round(summary(cbvn_nlin.gee.fit)$coefficients, 4)"
   ]
  },
  {
   "cell_type": "code",
   "execution_count": 32,
   "metadata": {},
   "outputs": [
    {
     "name": "stdout",
     "output_type": "stream",
     "text": [
      "[1] \"Spec:\"\n",
      "[1] \"ccri gee\"\n"
     ]
    },
    {
     "data": {
      "text/html": [
       "<table>\n",
       "<thead><tr><th></th><th scope=col>Estimate</th><th scope=col>Std.err</th><th scope=col>Wald</th><th scope=col>Pr(&gt;|W|)</th></tr></thead>\n",
       "<tbody>\n",
       "\t<tr><th scope=row>(Intercept)</th><td>0.7783</td><td>0.3575</td><td>4.7381</td><td>0.0295</td></tr>\n",
       "\t<tr><th scope=row>ccri</th><td>0.1598</td><td>0.0761</td><td>4.4130</td><td>0.0357</td></tr>\n",
       "</tbody>\n",
       "</table>\n"
      ],
      "text/latex": [
       "\\begin{tabular}{r|llll}\n",
       "  & Estimate & Std.err & Wald & Pr(>\\textbar{}W\\textbar{})\\\\\n",
       "\\hline\n",
       "\t(Intercept) & 0.7783 & 0.3575 & 4.7381 & 0.0295\\\\\n",
       "\tccri & 0.1598 & 0.0761 & 4.4130 & 0.0357\\\\\n",
       "\\end{tabular}\n"
      ],
      "text/markdown": [
       "\n",
       "| <!--/--> | Estimate | Std.err | Wald | Pr(>|W|) | \n",
       "|---|---|\n",
       "| (Intercept) | 0.7783 | 0.3575 | 4.7381 | 0.0295 | \n",
       "| ccri | 0.1598 | 0.0761 | 4.4130 | 0.0357 | \n",
       "\n",
       "\n"
      ],
      "text/plain": [
       "            Estimate Std.err Wald   Pr(>|W|)\n",
       "(Intercept) 0.7783   0.3575  4.7381 0.0295  \n",
       "ccri        0.1598   0.0761  4.4130 0.0357  "
      ]
     },
     "metadata": {},
     "output_type": "display_data"
    },
    {
     "name": "stdout",
     "output_type": "stream",
     "text": [
      "[1] \"cni gee\"\n"
     ]
    },
    {
     "data": {
      "text/html": [
       "<table>\n",
       "<thead><tr><th></th><th scope=col>Estimate</th><th scope=col>Std.err</th><th scope=col>Wald</th><th scope=col>Pr(&gt;|W|)</th></tr></thead>\n",
       "<tbody>\n",
       "\t<tr><th scope=row>(Intercept)</th><td>0.2036 </td><td>0.4345 </td><td> 0.2195</td><td>0.6394 </td></tr>\n",
       "\t<tr><th scope=row>cni</th><td>0.2930 </td><td>0.0906 </td><td>10.4513</td><td>0.0012 </td></tr>\n",
       "</tbody>\n",
       "</table>\n"
      ],
      "text/latex": [
       "\\begin{tabular}{r|llll}\n",
       "  & Estimate & Std.err & Wald & Pr(>\\textbar{}W\\textbar{})\\\\\n",
       "\\hline\n",
       "\t(Intercept) & 0.2036  & 0.4345  &  0.2195 & 0.6394 \\\\\n",
       "\tcni & 0.2930  & 0.0906  & 10.4513 & 0.0012 \\\\\n",
       "\\end{tabular}\n"
      ],
      "text/markdown": [
       "\n",
       "| <!--/--> | Estimate | Std.err | Wald | Pr(>|W|) | \n",
       "|---|---|\n",
       "| (Intercept) | 0.2036  | 0.4345  |  0.2195 | 0.6394  | \n",
       "| cni | 0.2930  | 0.0906  | 10.4513 | 0.0012  | \n",
       "\n",
       "\n"
      ],
      "text/plain": [
       "            Estimate Std.err Wald    Pr(>|W|)\n",
       "(Intercept) 0.2036   0.4345   0.2195 0.6394  \n",
       "cni         0.2930   0.0906  10.4513 0.0012  "
      ]
     },
     "metadata": {},
     "output_type": "display_data"
    },
    {
     "name": "stdout",
     "output_type": "stream",
     "text": [
      "[1] \"crni gee\"\n"
     ]
    },
    {
     "data": {
      "text/html": [
       "<table>\n",
       "<thead><tr><th></th><th scope=col>Estimate</th><th scope=col>Std.err</th><th scope=col>Wald</th><th scope=col>Pr(&gt;|W|)</th></tr></thead>\n",
       "<tbody>\n",
       "\t<tr><th scope=row>(Intercept)</th><td>0.8581</td><td>0.3259</td><td>6.9326</td><td>0.0085</td></tr>\n",
       "\t<tr><th scope=row>crni</th><td>0.2275</td><td>0.1150</td><td>3.9129</td><td>0.0479</td></tr>\n",
       "</tbody>\n",
       "</table>\n"
      ],
      "text/latex": [
       "\\begin{tabular}{r|llll}\n",
       "  & Estimate & Std.err & Wald & Pr(>\\textbar{}W\\textbar{})\\\\\n",
       "\\hline\n",
       "\t(Intercept) & 0.8581 & 0.3259 & 6.9326 & 0.0085\\\\\n",
       "\tcrni & 0.2275 & 0.1150 & 3.9129 & 0.0479\\\\\n",
       "\\end{tabular}\n"
      ],
      "text/markdown": [
       "\n",
       "| <!--/--> | Estimate | Std.err | Wald | Pr(>|W|) | \n",
       "|---|---|\n",
       "| (Intercept) | 0.8581 | 0.3259 | 6.9326 | 0.0085 | \n",
       "| crni | 0.2275 | 0.1150 | 3.9129 | 0.0479 | \n",
       "\n",
       "\n"
      ],
      "text/plain": [
       "            Estimate Std.err Wald   Pr(>|W|)\n",
       "(Intercept) 0.8581   0.3259  6.9326 0.0085  \n",
       "crni        0.2275   0.1150  3.9129 0.0479  "
      ]
     },
     "metadata": {},
     "output_type": "display_data"
    },
    {
     "name": "stdout",
     "output_type": "stream",
     "text": [
      "[1] \"ncho gee\"\n"
     ]
    },
    {
     "data": {
      "text/html": [
       "<table>\n",
       "<thead><tr><th></th><th scope=col>Estimate</th><th scope=col>Std.err</th><th scope=col>Wald</th><th scope=col>Pr(&gt;|W|)</th></tr></thead>\n",
       "<tbody>\n",
       "\t<tr><th scope=row>(Intercept)</th><td>-0.445 </td><td>0.5694 </td><td> 0.6109</td><td>0.4345 </td></tr>\n",
       "\t<tr><th scope=row>ncho</th><td> 1.395 </td><td>0.4118 </td><td>11.4767</td><td>0.0007 </td></tr>\n",
       "</tbody>\n",
       "</table>\n"
      ],
      "text/latex": [
       "\\begin{tabular}{r|llll}\n",
       "  & Estimate & Std.err & Wald & Pr(>\\textbar{}W\\textbar{})\\\\\n",
       "\\hline\n",
       "\t(Intercept) & -0.445  & 0.5694  &  0.6109 & 0.4345 \\\\\n",
       "\tncho &  1.395  & 0.4118  & 11.4767 & 0.0007 \\\\\n",
       "\\end{tabular}\n"
      ],
      "text/markdown": [
       "\n",
       "| <!--/--> | Estimate | Std.err | Wald | Pr(>|W|) | \n",
       "|---|---|\n",
       "| (Intercept) | -0.445  | 0.5694  |  0.6109 | 0.4345  | \n",
       "| ncho |  1.395  | 0.4118  | 11.4767 | 0.0007  | \n",
       "\n",
       "\n"
      ],
      "text/plain": [
       "            Estimate Std.err Wald    Pr(>|W|)\n",
       "(Intercept) -0.445   0.5694   0.6109 0.4345  \n",
       "ncho         1.395   0.4118  11.4767 0.0007  "
      ]
     },
     "metadata": {},
     "output_type": "display_data"
    },
    {
     "name": "stdout",
     "output_type": "stream",
     "text": [
      "[1] \"ncre gee\"\n"
     ]
    },
    {
     "data": {
      "text/html": [
       "<table>\n",
       "<thead><tr><th></th><th scope=col>Estimate</th><th scope=col>Std.err</th><th scope=col>Wald</th><th scope=col>Pr(&gt;|W|)</th></tr></thead>\n",
       "<tbody>\n",
       "\t<tr><th scope=row>(Intercept)</th><td>0.4717</td><td>0.4326</td><td>1.1886</td><td>0.2756</td></tr>\n",
       "\t<tr><th scope=row>ncre</th><td>0.9288</td><td>0.4555</td><td>4.1585</td><td>0.0414</td></tr>\n",
       "</tbody>\n",
       "</table>\n"
      ],
      "text/latex": [
       "\\begin{tabular}{r|llll}\n",
       "  & Estimate & Std.err & Wald & Pr(>\\textbar{}W\\textbar{})\\\\\n",
       "\\hline\n",
       "\t(Intercept) & 0.4717 & 0.4326 & 1.1886 & 0.2756\\\\\n",
       "\tncre & 0.9288 & 0.4555 & 4.1585 & 0.0414\\\\\n",
       "\\end{tabular}\n"
      ],
      "text/markdown": [
       "\n",
       "| <!--/--> | Estimate | Std.err | Wald | Pr(>|W|) | \n",
       "|---|---|\n",
       "| (Intercept) | 0.4717 | 0.4326 | 1.1886 | 0.2756 | \n",
       "| ncre | 0.9288 | 0.4555 | 4.1585 | 0.0414 | \n",
       "\n",
       "\n"
      ],
      "text/plain": [
       "            Estimate Std.err Wald   Pr(>|W|)\n",
       "(Intercept) 0.4717   0.4326  1.1886 0.2756  \n",
       "ncre        0.9288   0.4555  4.1585 0.0414  "
      ]
     },
     "metadata": {},
     "output_type": "display_data"
    },
    {
     "name": "stdout",
     "output_type": "stream",
     "text": [
      "[1] \"nnaa gee\"\n"
     ]
    },
    {
     "data": {
      "text/html": [
       "<table>\n",
       "<thead><tr><th></th><th scope=col>Estimate</th><th scope=col>Std.err</th><th scope=col>Wald</th><th scope=col>Pr(&gt;|W|)</th></tr></thead>\n",
       "<tbody>\n",
       "\t<tr><th scope=row>(Intercept)</th><td>0.8445</td><td>0.4449</td><td>3.6036</td><td>0.0577</td></tr>\n",
       "\t<tr><th scope=row>nnaa</th><td>0.4717</td><td>0.8223</td><td>0.3290</td><td>0.5663</td></tr>\n",
       "</tbody>\n",
       "</table>\n"
      ],
      "text/latex": [
       "\\begin{tabular}{r|llll}\n",
       "  & Estimate & Std.err & Wald & Pr(>\\textbar{}W\\textbar{})\\\\\n",
       "\\hline\n",
       "\t(Intercept) & 0.8445 & 0.4449 & 3.6036 & 0.0577\\\\\n",
       "\tnnaa & 0.4717 & 0.8223 & 0.3290 & 0.5663\\\\\n",
       "\\end{tabular}\n"
      ],
      "text/markdown": [
       "\n",
       "| <!--/--> | Estimate | Std.err | Wald | Pr(>|W|) | \n",
       "|---|---|\n",
       "| (Intercept) | 0.8445 | 0.4449 | 3.6036 | 0.0577 | \n",
       "| nnaa | 0.4717 | 0.8223 | 0.3290 | 0.5663 | \n",
       "\n",
       "\n"
      ],
      "text/plain": [
       "            Estimate Std.err Wald   Pr(>|W|)\n",
       "(Intercept) 0.8445   0.4449  3.6036 0.0577  \n",
       "nnaa        0.4717   0.8223  0.3290 0.5663  "
      ]
     },
     "metadata": {},
     "output_type": "display_data"
    }
   ],
   "source": [
    "print('Spec:')\n",
    "print('ccri gee')\n",
    "ccri.gee.fit = geeglm(txe_rhgg ~ ccri, data = recgli[!is.na(recgli$ccri),], id = factor(t_number_y), family = binomial, corstr = \"exchangeable\")\n",
    "round(summary(ccri.gee.fit)$coefficients, 4)\n",
    "#########################\n",
    "\n",
    "print('cni gee')\n",
    "cni.gee.fit = geeglm(txe_rhgg ~ cni, data = recgli[!is.na(recgli$cni),], id = factor(t_number_y), family = binomial, corstr = \"exchangeable\")\n",
    "round(summary(cni.gee.fit)$coefficients, 4)\n",
    "#########################\n",
    "\n",
    "print('crni gee')\n",
    "crni.gee.fit = geeglm(txe_rhgg ~ crni, data = recgli[!is.na(recgli$crni),], id = factor(t_number_y), family = binomial, corstr = \"exchangeable\")\n",
    "round(summary(crni.gee.fit)$coefficients, 4)\n",
    "#########################\n",
    "print('ncho gee')\n",
    "ncho.gee.fit = geeglm(txe_rhgg ~ ncho, data = recgli[!is.na(recgli$ncho),], id = factor(t_number_y), family = binomial, corstr = \"exchangeable\")\n",
    "round(summary(ncho.gee.fit)$coefficients, 4)\n",
    "#########################\n",
    "print('ncre gee')\n",
    "ncre.gee.fit = geeglm(txe_rhgg ~ ncre, data = recgli[!is.na(recgli$ncre),], id = factor(t_number_y), family = binomial, corstr = \"exchangeable\")\n",
    "round(summary(ncre.gee.fit)$coefficients, 4)\n",
    "#########################\n",
    "print('nnaa gee')\n",
    "recgli_nnaa = recgli[which((!is.na(recgli$nnaa)) & recgli$nnaa<1), ]\n",
    "nnaa.gee.fit = geeglm(txe_rhgg ~ nnaa, data = recgli_nnaa, id = factor(t_number_y), family = binomial, corstr = \"exchangeable\")\n",
    "round(summary(nnaa.gee.fit)$coefficients, 4)\n"
   ]
  },
  {
   "cell_type": "code",
   "execution_count": null,
   "metadata": {},
   "outputs": [],
   "source": []
  }
 ],
 "metadata": {
  "kernelspec": {
   "display_name": "R",
   "language": "R",
   "name": "ir"
  },
  "language_info": {
   "codemirror_mode": "r",
   "file_extension": ".r",
   "mimetype": "text/x-r-source",
   "name": "R",
   "pygments_lexer": "r",
   "version": "3.4.0"
  }
 },
 "nbformat": 4,
 "nbformat_minor": 2
}
