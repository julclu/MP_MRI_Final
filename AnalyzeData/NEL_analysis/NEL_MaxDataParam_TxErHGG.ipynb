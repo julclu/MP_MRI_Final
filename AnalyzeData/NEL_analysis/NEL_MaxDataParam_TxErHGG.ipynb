{
 "cells": [
  {
   "cell_type": "markdown",
   "metadata": {},
   "source": [
    "## In this notebook, I want to first try to see if it's possible with my newly QC'd data to figure out if there is any signal for differentiating TxE vs rHGG\n",
    "# ONLY IN NEL!"
   ]
  },
  {
   "cell_type": "code",
   "execution_count": 1,
   "metadata": {},
   "outputs": [],
   "source": [
    "options(repr.matrix.max.rows=600, repr.matrix.max.cols=200)"
   ]
  },
  {
   "cell_type": "code",
   "execution_count": 2,
   "metadata": {},
   "outputs": [],
   "source": [
    "## First read in the data: "
   ]
  },
  {
   "cell_type": "code",
   "execution_count": 1,
   "metadata": {},
   "outputs": [
    {
     "data": {
      "text/html": [
       "<ol class=list-inline>\n",
       "\t<li>'vialid'</li>\n",
       "\t<li>'b_number'</li>\n",
       "\t<li>'t_number_x'</li>\n",
       "\t<li>'t_number_y'</li>\n",
       "\t<li>'sf_number'</li>\n",
       "\t<li>'current_scan_date'</li>\n",
       "\t<li>'current_surgery_date'</li>\n",
       "\t<li>'current_hist_grade'</li>\n",
       "\t<li>'current_hist_type'</li>\n",
       "\t<li>'tumor_cell_evaluation'</li>\n",
       "\t<li>'necrosis'</li>\n",
       "\t<li>'mv_hyperplasia'</li>\n",
       "\t<li>'mv_delicate_vasculature'</li>\n",
       "\t<li>'f8_delicate'</li>\n",
       "\t<li>'f8_simple'</li>\n",
       "\t<li>'f8_complex'</li>\n",
       "\t<li>'mib_1'</li>\n",
       "\t<li>'avgerage_cells'</li>\n",
       "\t<li>'treatment_related_ab'</li>\n",
       "\t<li>'bx_pure_treatment_effect'</li>\n",
       "\t<li>'percent_tumor_nuclei'</li>\n",
       "\t<li>'nfl'</li>\n",
       "\t<li>'nfse'</li>\n",
       "\t<li>'nt1c'</li>\n",
       "\t<li>'nt1v'</li>\n",
       "\t<li>'nt1d'</li>\n",
       "\t<li>'nadc.1'</li>\n",
       "\t<li>'nfa.1'</li>\n",
       "\t<li>'nev1.1'</li>\n",
       "\t<li>'nev2.1'</li>\n",
       "\t<li>'nev3.1'</li>\n",
       "\t<li>'nevrad.1'</li>\n",
       "\t<li>'nadc.2'</li>\n",
       "\t<li>'nfa.2'</li>\n",
       "\t<li>'nev1.2'</li>\n",
       "\t<li>'nev2.2'</li>\n",
       "\t<li>'nev3.2'</li>\n",
       "\t<li>'nevrad.2'</li>\n",
       "\t<li>'cbvn_nlin'</li>\n",
       "\t<li>'phn_nlin'</li>\n",
       "\t<li>'recov_nlin'</li>\n",
       "\t<li>'phn_npar'</li>\n",
       "\t<li>'recov_npar'</li>\n",
       "\t<li>'recovn_npar'</li>\n",
       "\t<li>'ccri'</li>\n",
       "\t<li>'cni'</li>\n",
       "\t<li>'crni'</li>\n",
       "\t<li>'ncho'</li>\n",
       "\t<li>'ncre'</li>\n",
       "\t<li>'nnaa'</li>\n",
       "\t<li>'nlac'</li>\n",
       "\t<li>'nlip'</li>\n",
       "\t<li>'newdata'</li>\n",
       "\t<li>'olddata'</li>\n",
       "\t<li>'exclude_bc_hematoma_or_ventricle'</li>\n",
       "\t<li>'exclude_perf'</li>\n",
       "\t<li>'nLL'</li>\n",
       "\t<li>'comments'</li>\n",
       "\t<li>'perf_quant'</li>\n",
       "\t<li>'include_perf'</li>\n",
       "\t<li>'spec_quant'</li>\n",
       "\t<li>'include_spec'</li>\n",
       "\t<li>'diffu1000_quant'</li>\n",
       "\t<li>'diffu2000_quant'</li>\n",
       "\t<li>'exclude_bc_anat'</li>\n",
       "\t<li>'exclude_bc_pathology'</li>\n",
       "\t<li>'include_diffu1000'</li>\n",
       "\t<li>'include_diffu2000'</li>\n",
       "\t<li>'exclude_histology'</li>\n",
       "\t<li>'txe_comments'</li>\n",
       "\t<li>'outcome'</li>\n",
       "\t<li>'in_CEL'</li>\n",
       "\t<li>'in_T2all'</li>\n",
       "\t<li>'in_NEL'</li>\n",
       "</ol>\n"
      ],
      "text/latex": [
       "\\begin{enumerate*}\n",
       "\\item 'vialid'\n",
       "\\item 'b\\_number'\n",
       "\\item 't\\_number\\_x'\n",
       "\\item 't\\_number\\_y'\n",
       "\\item 'sf\\_number'\n",
       "\\item 'current\\_scan\\_date'\n",
       "\\item 'current\\_surgery\\_date'\n",
       "\\item 'current\\_hist\\_grade'\n",
       "\\item 'current\\_hist\\_type'\n",
       "\\item 'tumor\\_cell\\_evaluation'\n",
       "\\item 'necrosis'\n",
       "\\item 'mv\\_hyperplasia'\n",
       "\\item 'mv\\_delicate\\_vasculature'\n",
       "\\item 'f8\\_delicate'\n",
       "\\item 'f8\\_simple'\n",
       "\\item 'f8\\_complex'\n",
       "\\item 'mib\\_1'\n",
       "\\item 'avgerage\\_cells'\n",
       "\\item 'treatment\\_related\\_ab'\n",
       "\\item 'bx\\_pure\\_treatment\\_effect'\n",
       "\\item 'percent\\_tumor\\_nuclei'\n",
       "\\item 'nfl'\n",
       "\\item 'nfse'\n",
       "\\item 'nt1c'\n",
       "\\item 'nt1v'\n",
       "\\item 'nt1d'\n",
       "\\item 'nadc.1'\n",
       "\\item 'nfa.1'\n",
       "\\item 'nev1.1'\n",
       "\\item 'nev2.1'\n",
       "\\item 'nev3.1'\n",
       "\\item 'nevrad.1'\n",
       "\\item 'nadc.2'\n",
       "\\item 'nfa.2'\n",
       "\\item 'nev1.2'\n",
       "\\item 'nev2.2'\n",
       "\\item 'nev3.2'\n",
       "\\item 'nevrad.2'\n",
       "\\item 'cbvn\\_nlin'\n",
       "\\item 'phn\\_nlin'\n",
       "\\item 'recov\\_nlin'\n",
       "\\item 'phn\\_npar'\n",
       "\\item 'recov\\_npar'\n",
       "\\item 'recovn\\_npar'\n",
       "\\item 'ccri'\n",
       "\\item 'cni'\n",
       "\\item 'crni'\n",
       "\\item 'ncho'\n",
       "\\item 'ncre'\n",
       "\\item 'nnaa'\n",
       "\\item 'nlac'\n",
       "\\item 'nlip'\n",
       "\\item 'newdata'\n",
       "\\item 'olddata'\n",
       "\\item 'exclude\\_bc\\_hematoma\\_or\\_ventricle'\n",
       "\\item 'exclude\\_perf'\n",
       "\\item 'nLL'\n",
       "\\item 'comments'\n",
       "\\item 'perf\\_quant'\n",
       "\\item 'include\\_perf'\n",
       "\\item 'spec\\_quant'\n",
       "\\item 'include\\_spec'\n",
       "\\item 'diffu1000\\_quant'\n",
       "\\item 'diffu2000\\_quant'\n",
       "\\item 'exclude\\_bc\\_anat'\n",
       "\\item 'exclude\\_bc\\_pathology'\n",
       "\\item 'include\\_diffu1000'\n",
       "\\item 'include\\_diffu2000'\n",
       "\\item 'exclude\\_histology'\n",
       "\\item 'txe\\_comments'\n",
       "\\item 'outcome'\n",
       "\\item 'in\\_CEL'\n",
       "\\item 'in\\_T2all'\n",
       "\\item 'in\\_NEL'\n",
       "\\end{enumerate*}\n"
      ],
      "text/markdown": [
       "1. 'vialid'\n",
       "2. 'b_number'\n",
       "3. 't_number_x'\n",
       "4. 't_number_y'\n",
       "5. 'sf_number'\n",
       "6. 'current_scan_date'\n",
       "7. 'current_surgery_date'\n",
       "8. 'current_hist_grade'\n",
       "9. 'current_hist_type'\n",
       "10. 'tumor_cell_evaluation'\n",
       "11. 'necrosis'\n",
       "12. 'mv_hyperplasia'\n",
       "13. 'mv_delicate_vasculature'\n",
       "14. 'f8_delicate'\n",
       "15. 'f8_simple'\n",
       "16. 'f8_complex'\n",
       "17. 'mib_1'\n",
       "18. 'avgerage_cells'\n",
       "19. 'treatment_related_ab'\n",
       "20. 'bx_pure_treatment_effect'\n",
       "21. 'percent_tumor_nuclei'\n",
       "22. 'nfl'\n",
       "23. 'nfse'\n",
       "24. 'nt1c'\n",
       "25. 'nt1v'\n",
       "26. 'nt1d'\n",
       "27. 'nadc.1'\n",
       "28. 'nfa.1'\n",
       "29. 'nev1.1'\n",
       "30. 'nev2.1'\n",
       "31. 'nev3.1'\n",
       "32. 'nevrad.1'\n",
       "33. 'nadc.2'\n",
       "34. 'nfa.2'\n",
       "35. 'nev1.2'\n",
       "36. 'nev2.2'\n",
       "37. 'nev3.2'\n",
       "38. 'nevrad.2'\n",
       "39. 'cbvn_nlin'\n",
       "40. 'phn_nlin'\n",
       "41. 'recov_nlin'\n",
       "42. 'phn_npar'\n",
       "43. 'recov_npar'\n",
       "44. 'recovn_npar'\n",
       "45. 'ccri'\n",
       "46. 'cni'\n",
       "47. 'crni'\n",
       "48. 'ncho'\n",
       "49. 'ncre'\n",
       "50. 'nnaa'\n",
       "51. 'nlac'\n",
       "52. 'nlip'\n",
       "53. 'newdata'\n",
       "54. 'olddata'\n",
       "55. 'exclude_bc_hematoma_or_ventricle'\n",
       "56. 'exclude_perf'\n",
       "57. 'nLL'\n",
       "58. 'comments'\n",
       "59. 'perf_quant'\n",
       "60. 'include_perf'\n",
       "61. 'spec_quant'\n",
       "62. 'include_spec'\n",
       "63. 'diffu1000_quant'\n",
       "64. 'diffu2000_quant'\n",
       "65. 'exclude_bc_anat'\n",
       "66. 'exclude_bc_pathology'\n",
       "67. 'include_diffu1000'\n",
       "68. 'include_diffu2000'\n",
       "69. 'exclude_histology'\n",
       "70. 'txe_comments'\n",
       "71. 'outcome'\n",
       "72. 'in_CEL'\n",
       "73. 'in_T2all'\n",
       "74. 'in_NEL'\n",
       "\n",
       "\n"
      ],
      "text/plain": [
       " [1] \"vialid\"                           \"b_number\"                        \n",
       " [3] \"t_number_x\"                       \"t_number_y\"                      \n",
       " [5] \"sf_number\"                        \"current_scan_date\"               \n",
       " [7] \"current_surgery_date\"             \"current_hist_grade\"              \n",
       " [9] \"current_hist_type\"                \"tumor_cell_evaluation\"           \n",
       "[11] \"necrosis\"                         \"mv_hyperplasia\"                  \n",
       "[13] \"mv_delicate_vasculature\"          \"f8_delicate\"                     \n",
       "[15] \"f8_simple\"                        \"f8_complex\"                      \n",
       "[17] \"mib_1\"                            \"avgerage_cells\"                  \n",
       "[19] \"treatment_related_ab\"             \"bx_pure_treatment_effect\"        \n",
       "[21] \"percent_tumor_nuclei\"             \"nfl\"                             \n",
       "[23] \"nfse\"                             \"nt1c\"                            \n",
       "[25] \"nt1v\"                             \"nt1d\"                            \n",
       "[27] \"nadc.1\"                           \"nfa.1\"                           \n",
       "[29] \"nev1.1\"                           \"nev2.1\"                          \n",
       "[31] \"nev3.1\"                           \"nevrad.1\"                        \n",
       "[33] \"nadc.2\"                           \"nfa.2\"                           \n",
       "[35] \"nev1.2\"                           \"nev2.2\"                          \n",
       "[37] \"nev3.2\"                           \"nevrad.2\"                        \n",
       "[39] \"cbvn_nlin\"                        \"phn_nlin\"                        \n",
       "[41] \"recov_nlin\"                       \"phn_npar\"                        \n",
       "[43] \"recov_npar\"                       \"recovn_npar\"                     \n",
       "[45] \"ccri\"                             \"cni\"                             \n",
       "[47] \"crni\"                             \"ncho\"                            \n",
       "[49] \"ncre\"                             \"nnaa\"                            \n",
       "[51] \"nlac\"                             \"nlip\"                            \n",
       "[53] \"newdata\"                          \"olddata\"                         \n",
       "[55] \"exclude_bc_hematoma_or_ventricle\" \"exclude_perf\"                    \n",
       "[57] \"nLL\"                              \"comments\"                        \n",
       "[59] \"perf_quant\"                       \"include_perf\"                    \n",
       "[61] \"spec_quant\"                       \"include_spec\"                    \n",
       "[63] \"diffu1000_quant\"                  \"diffu2000_quant\"                 \n",
       "[65] \"exclude_bc_anat\"                  \"exclude_bc_pathology\"            \n",
       "[67] \"include_diffu1000\"                \"include_diffu2000\"               \n",
       "[69] \"exclude_histology\"                \"txe_comments\"                    \n",
       "[71] \"outcome\"                          \"in_CEL\"                          \n",
       "[73] \"in_T2all\"                         \"in_NEL\"                          "
      ]
     },
     "metadata": {},
     "output_type": "display_data"
    },
    {
     "data": {
      "text/html": [
       "<ol class=list-inline>\n",
       "\t<li>149</li>\n",
       "\t<li>74</li>\n",
       "</ol>\n"
      ],
      "text/latex": [
       "\\begin{enumerate*}\n",
       "\\item 149\n",
       "\\item 74\n",
       "\\end{enumerate*}\n"
      ],
      "text/markdown": [
       "1. 149\n",
       "2. 74\n",
       "\n",
       "\n"
      ],
      "text/plain": [
       "[1] 149  74"
      ]
     },
     "metadata": {},
     "output_type": "display_data"
    }
   ],
   "source": [
    "# recgli = read.csv(\"/home/sf673542/MultiParametricMRI/MP_MRI_Jan2019/AnnotateData/recgli_annotation9_onlyGoodBiopsies.csv\")\n",
    "recgli = read.csv(\"/home/sf673542/MultiParametricMRI/MP_MRI_Jan2019/NEL_analysis/AnnotateData/recgli_annotation10_nelOnly.csv\")\n",
    "colnames(recgli)\n",
    "dim(recgli)"
   ]
  },
  {
   "cell_type": "code",
   "execution_count": 2,
   "metadata": {},
   "outputs": [],
   "source": [
    "recgli = droplevels.data.frame(recgli)"
   ]
  },
  {
   "cell_type": "code",
   "execution_count": 3,
   "metadata": {},
   "outputs": [
    {
     "data": {
      "text/html": [
       "<table>\n",
       "<thead><tr><th></th><th scope=col>vialid</th><th scope=col>b_number</th><th scope=col>t_number_x</th><th scope=col>t_number_y</th><th scope=col>sf_number</th><th scope=col>current_scan_date</th><th scope=col>current_surgery_date</th><th scope=col>current_hist_grade</th><th scope=col>current_hist_type</th><th scope=col>tumor_cell_evaluation</th><th scope=col>⋯</th><th scope=col>exclude_bc_anat</th><th scope=col>exclude_bc_pathology</th><th scope=col>include_diffu1000</th><th scope=col>include_diffu2000</th><th scope=col>exclude_histology</th><th scope=col>txe_comments</th><th scope=col>outcome</th><th scope=col>in_CEL</th><th scope=col>in_T2all</th><th scope=col>in_NEL</th></tr></thead>\n",
       "<tbody>\n",
       "\t<tr><th scope=row>8</th><td>35B30            </td><td>2808             </td><td>t6551            </td><td> 6551            </td><td> 8217            </td><td>2010-01-12       </td><td>2010-01-13       </td><td>Grade III        </td><td>Astrocytoma      </td><td>1                </td><td>⋯                </td><td>NA               </td><td>NA               </td><td>1                </td><td>1                </td><td>NA               </td><td>False            </td><td>unk              </td><td>0                </td><td>1                </td><td>1                </td></tr>\n",
       "\t<tr><th scope=row>11</th><td>43B20            </td><td>2202             </td><td>t5788            </td><td> 5788            </td><td> 7844            </td><td>2008-10-28       </td><td>2008-10-29       </td><td>Grade IV         </td><td>Glioblastoma     </td><td>1                </td><td>⋯                </td><td>NA               </td><td>NA               </td><td>0                </td><td>0                </td><td>NA               </td><td>                 </td><td>unk              </td><td>0                </td><td>1                </td><td>1                </td></tr>\n",
       "\t<tr><th scope=row>20</th><td>5B37             </td><td>1788             </td><td>t7028            </td><td> 7028            </td><td> 8482            </td><td>2010-09-03       </td><td>2010-09-08       </td><td>Treatment Effect </td><td>Treatment Effect </td><td>1                </td><td>⋯                </td><td>NA               </td><td>NA               </td><td>1                </td><td>0                </td><td>NA               </td><td>                 </td><td>unk              </td><td>0                </td><td>1                </td><td>1                </td></tr>\n",
       "\t<tr><th scope=row>23</th><td>60B33            </td><td>2850             </td><td>t7016            </td><td> 7016            </td><td> 8314            </td><td>2010-04-23       </td><td>2010-04-23       </td><td>Grade IV         </td><td>Glioblastoma     </td><td>0                </td><td>⋯                </td><td>NA               </td><td>NA               </td><td>1                </td><td>1                </td><td>NA               </td><td>                 </td><td>unk              </td><td>0                </td><td>1                </td><td>1                </td></tr>\n",
       "\t<tr><th scope=row>25</th><td>61B21            </td><td>2517             </td><td>t5882            </td><td> 5882            </td><td> 7893            </td><td>2008-12-18       </td><td>2008-12-19       </td><td>Grade IV         </td><td>Glioblastoma     </td><td>1                </td><td>⋯                </td><td>NA               </td><td>NA               </td><td>1                </td><td>0                </td><td>NA               </td><td>True             </td><td>unk              </td><td>0                </td><td>1                </td><td>1                </td></tr>\n",
       "\t<tr><th scope=row>29</th><td>62B33            </td><td>2850             </td><td>t7016            </td><td> 7016            </td><td> 8314            </td><td>2010-04-23       </td><td>2010-04-23       </td><td>Grade IV         </td><td>Glioblastoma     </td><td>0                </td><td>⋯                </td><td>NA               </td><td>NA               </td><td>1                </td><td>1                </td><td>NA               </td><td>False            </td><td>unk              </td><td>0                </td><td>1                </td><td>1                </td></tr>\n",
       "\t<tr><th scope=row>30</th><td>68B45            </td><td>2593             </td><td>t7710            </td><td> 7710            </td><td> 8930            </td><td>2011-10-27       </td><td>2011-10-28       </td><td>Grade IV         </td><td>Glioblastoma     </td><td>0                </td><td>⋯                </td><td>NA               </td><td>NA               </td><td>1                </td><td>1                </td><td>NA               </td><td>True             </td><td>unk              </td><td>0                </td><td>1                </td><td>1                </td></tr>\n",
       "\t<tr><th scope=row>34</th><td>71B33            </td><td>2903             </td><td>t6771            </td><td> 6771            </td><td> 8324            </td><td>2010-04-27       </td><td>2010-04-28       </td><td>Grade IV         </td><td>Glioblastoma     </td><td>1                </td><td>⋯                </td><td>NA               </td><td>NA               </td><td>1                </td><td>0                </td><td>NA               </td><td>False            </td><td>unk              </td><td>0                </td><td>1                </td><td>1                </td></tr>\n",
       "\t<tr><th scope=row>37</th><td>7B23             </td><td>2264             </td><td>t6020            </td><td> 6020            </td><td> 7964            </td><td>2009-03-05       </td><td>2009-03-06       </td><td>Grade III        </td><td>Oligodendroglioma</td><td>1                </td><td>⋯                </td><td>NA               </td><td>NA               </td><td>0                </td><td>0                </td><td>NA               </td><td>True             </td><td>unk              </td><td>0                </td><td>1                </td><td>1                </td></tr>\n",
       "\t<tr><th scope=row>40</th><td>82B31            </td><td>2777             </td><td>t6671            </td><td> 6671            </td><td> 8263            </td><td>2010-03-09       </td><td>2010-03-10       </td><td>Grade IV         </td><td>Glioblastoma     </td><td>0                </td><td>⋯                </td><td>NA               </td><td>NA               </td><td>1                </td><td>1                </td><td>NA               </td><td>False            </td><td>unk              </td><td>0                </td><td>1                </td><td>1                </td></tr>\n",
       "\t<tr><th scope=row>41</th><td>86B41            </td><td>2592             </td><td>t7451            </td><td> 7451            </td><td> 8728            </td><td>2011-04-19       </td><td>2011-04-20       </td><td>Grade IV         </td><td>Glioblastoma     </td><td>1                </td><td>⋯                </td><td>NA               </td><td>NA               </td><td>1                </td><td>1                </td><td>NA               </td><td>                 </td><td>unk              </td><td>0                </td><td>1                </td><td>1                </td></tr>\n",
       "\t<tr><th scope=row>52</th><td>97B29            </td><td>2781             </td><td>t6495            </td><td> 6495            </td><td> 8196            </td><td>2009-12-08       </td><td>2009-12-09       </td><td>Grade IV         </td><td>Gliosarcoma      </td><td>1                </td><td>⋯                </td><td>NA               </td><td>NA               </td><td>1                </td><td>0                </td><td>NA               </td><td>False            </td><td>unk              </td><td>0                </td><td>1                </td><td>1                </td></tr>\n",
       "\t<tr><th scope=row>53</th><td>98B29            </td><td>2781             </td><td>t6495            </td><td> 6495            </td><td> 8196            </td><td>2009-12-08       </td><td>2009-12-09       </td><td>Grade IV         </td><td>Gliosarcoma      </td><td>1                </td><td>⋯                </td><td>NA               </td><td>NA               </td><td>1                </td><td>0                </td><td>NA               </td><td>                 </td><td>unk              </td><td>0                </td><td>1                </td><td>1                </td></tr>\n",
       "\t<tr><th scope=row>58</th><td>11B92            </td><td>4193             </td><td>                 </td><td>10790            </td><td>11065            </td><td>2016-11-22       </td><td>2016-11-23       </td><td>Grade IV         </td><td>Glioblastoma     </td><td>1                </td><td>⋯                </td><td>NA               </td><td>NA               </td><td>1                </td><td>1                </td><td>NA               </td><td>True             </td><td>unk              </td><td>0                </td><td>1                </td><td>1                </td></tr>\n",
       "\t<tr><th scope=row>70</th><td>26B81            </td><td>4033             </td><td>                 </td><td>10343            </td><td>10755            </td><td>2016-03-16       </td><td>2016-03-17       </td><td>Grade III        </td><td>Astrocytoma      </td><td>1                </td><td>⋯                </td><td>NA               </td><td>NA               </td><td>1                </td><td>1                </td><td>NA               </td><td>True             </td><td>unk              </td><td>0                </td><td>1                </td><td>1                </td></tr>\n",
       "\t<tr><th scope=row>72</th><td>31B61            </td><td>3472             </td><td>t8783            </td><td> 8783            </td><td> 9739            </td><td>2013-10-14       </td><td>2013-10-15       </td><td>Treatment Effect </td><td>Treatment Effect </td><td>1                </td><td>⋯                </td><td>NA               </td><td>NA               </td><td>1                </td><td>1                </td><td>NA               </td><td>True             </td><td>unk              </td><td>0                </td><td>1                </td><td>1                </td></tr>\n",
       "\t<tr><th scope=row>73</th><td>31B91            </td><td>4183             </td><td>                 </td><td>10699            </td><td>10942            </td><td>2016-08-15       </td><td>2016-08-16       </td><td>Grade IV         </td><td>Glioblastoma     </td><td>1                </td><td>⋯                </td><td>NA               </td><td>NA               </td><td>1                </td><td>1                </td><td>NA               </td><td>True             </td><td>unk              </td><td>0                </td><td>1                </td><td>1                </td></tr>\n",
       "\t<tr><th scope=row>91</th><td>42B61            </td><td>3125             </td><td>t8878            </td><td> 8878            </td><td> 9801            </td><td>2013-12-15       </td><td>2013-12-16       </td><td>Grade IV         </td><td>Glioblastoma     </td><td>1                </td><td>⋯                </td><td>NA               </td><td>NA               </td><td>1                </td><td>1                </td><td>NA               </td><td>True             </td><td>unk              </td><td>0                </td><td>1                </td><td>1                </td></tr>\n",
       "\t<tr><th scope=row>97</th><td>44B61            </td><td>3125             </td><td>t8878            </td><td> 8878            </td><td> 9801            </td><td>2013-12-15       </td><td>2013-12-16       </td><td>Grade IV         </td><td>Glioblastoma     </td><td>1                </td><td>⋯                </td><td>NA               </td><td>NA               </td><td>1                </td><td>1                </td><td>NA               </td><td>False            </td><td>unk              </td><td>0                </td><td>1                </td><td>1                </td></tr>\n",
       "\t<tr><th scope=row>102</th><td>48B78            </td><td>3791             </td><td>t9970            </td><td> 9970            </td><td>10507            </td><td>2015-08-25       </td><td>2015-08-26       </td><td>Treatment Effect </td><td>Treatment Effect </td><td>1                </td><td>⋯                </td><td>NA               </td><td>NA               </td><td>1                </td><td>1                </td><td>NA               </td><td>True             </td><td>unk              </td><td>0                </td><td>1                </td><td>1                </td></tr>\n",
       "\t<tr><th scope=row>111</th><td>52B75            </td><td>3528             </td><td>t9408            </td><td> 9408            </td><td>10205            </td><td>2014-12-22       </td><td>2014-12-23       </td><td>Grade III        </td><td>Oligodendroglioma</td><td>1                </td><td>⋯                </td><td>NA               </td><td>NA               </td><td>1                </td><td>1                </td><td>NA               </td><td>False            </td><td>unk              </td><td>0                </td><td>1                </td><td>1                </td></tr>\n",
       "\t<tr><th scope=row>113</th><td>56B64            </td><td>2456             </td><td>t9014            </td><td> 9014            </td><td> 9992            </td><td>2014-05-29       </td><td>2014-05-30       </td><td>Grade III        </td><td>Oligoastrocytoma </td><td>1                </td><td>⋯                </td><td>NA               </td><td>NA               </td><td>1                </td><td>1                </td><td>NA               </td><td>                 </td><td>unk              </td><td>0                </td><td>1                </td><td>1                </td></tr>\n",
       "\t<tr><th scope=row>138</th><td>79B91            </td><td>4208             </td><td>                 </td><td>10763            </td><td>11039            </td><td>2016-10-25       </td><td>2016-10-26       </td><td>Treatment Effect </td><td>Treatment Effect </td><td>1                </td><td>⋯                </td><td>NA               </td><td>NA               </td><td>1                </td><td>1                </td><td>NA               </td><td>                 </td><td>unk              </td><td>0                </td><td>1                </td><td>1                </td></tr>\n",
       "\t<tr><th scope=row>143</th><td>83B66            </td><td>3588             </td><td>t9084            </td><td> 9084            </td><td>10024            </td><td>2014-06-29       </td><td>2014-06-30       </td><td>Treatment Effect </td><td>Treatment Effect </td><td>1                </td><td>⋯                </td><td>NA               </td><td>NA               </td><td>1                </td><td>1                </td><td>NA               </td><td>                 </td><td>unk              </td><td>0                </td><td>1                </td><td>1                </td></tr>\n",
       "\t<tr><th scope=row>145</th><td>85B91            </td><td>4211             </td><td>t10770           </td><td>10770            </td><td>11045            </td><td>2016-11-01       </td><td>2016-11-02       </td><td>Grade IV         </td><td>Glioblastoma     </td><td>1                </td><td>⋯                </td><td>NA               </td><td>NA               </td><td>1                </td><td>1                </td><td>NA               </td><td>                 </td><td>unk              </td><td>0                </td><td>1                </td><td>1                </td></tr>\n",
       "</tbody>\n",
       "</table>\n"
      ],
      "text/latex": [
       "\\begin{tabular}{r|llllllllllllllllllllllllllllllllllllllllllllllllllllllllllllllllllllllllll}\n",
       "  & vialid & b\\_number & t\\_number\\_x & t\\_number\\_y & sf\\_number & current\\_scan\\_date & current\\_surgery\\_date & current\\_hist\\_grade & current\\_hist\\_type & tumor\\_cell\\_evaluation & ⋯ & exclude\\_bc\\_anat & exclude\\_bc\\_pathology & include\\_diffu1000 & include\\_diffu2000 & exclude\\_histology & txe\\_comments & outcome & in\\_CEL & in\\_T2all & in\\_NEL\\\\\n",
       "\\hline\n",
       "\t8 & 35B30             & 2808              & t6551             &  6551             &  8217             & 2010-01-12        & 2010-01-13        & Grade III         & Astrocytoma       & 1                 & ⋯                 & NA                & NA                & 1                 & 1                 & NA                & False             & unk               & 0                 & 1                 & 1                \\\\\n",
       "\t11 & 43B20             & 2202              & t5788             &  5788             &  7844             & 2008-10-28        & 2008-10-29        & Grade IV          & Glioblastoma      & 1                 & ⋯                 & NA                & NA                & 0                 & 0                 & NA                &                   & unk               & 0                 & 1                 & 1                \\\\\n",
       "\t20 & 5B37              & 1788              & t7028             &  7028             &  8482             & 2010-09-03        & 2010-09-08        & Treatment Effect  & Treatment Effect  & 1                 & ⋯                 & NA                & NA                & 1                 & 0                 & NA                &                   & unk               & 0                 & 1                 & 1                \\\\\n",
       "\t23 & 60B33             & 2850              & t7016             &  7016             &  8314             & 2010-04-23        & 2010-04-23        & Grade IV          & Glioblastoma      & 0                 & ⋯                 & NA                & NA                & 1                 & 1                 & NA                &                   & unk               & 0                 & 1                 & 1                \\\\\n",
       "\t25 & 61B21             & 2517              & t5882             &  5882             &  7893             & 2008-12-18        & 2008-12-19        & Grade IV          & Glioblastoma      & 1                 & ⋯                 & NA                & NA                & 1                 & 0                 & NA                & True              & unk               & 0                 & 1                 & 1                \\\\\n",
       "\t29 & 62B33             & 2850              & t7016             &  7016             &  8314             & 2010-04-23        & 2010-04-23        & Grade IV          & Glioblastoma      & 0                 & ⋯                 & NA                & NA                & 1                 & 1                 & NA                & False             & unk               & 0                 & 1                 & 1                \\\\\n",
       "\t30 & 68B45             & 2593              & t7710             &  7710             &  8930             & 2011-10-27        & 2011-10-28        & Grade IV          & Glioblastoma      & 0                 & ⋯                 & NA                & NA                & 1                 & 1                 & NA                & True              & unk               & 0                 & 1                 & 1                \\\\\n",
       "\t34 & 71B33             & 2903              & t6771             &  6771             &  8324             & 2010-04-27        & 2010-04-28        & Grade IV          & Glioblastoma      & 1                 & ⋯                 & NA                & NA                & 1                 & 0                 & NA                & False             & unk               & 0                 & 1                 & 1                \\\\\n",
       "\t37 & 7B23              & 2264              & t6020             &  6020             &  7964             & 2009-03-05        & 2009-03-06        & Grade III         & Oligodendroglioma & 1                 & ⋯                 & NA                & NA                & 0                 & 0                 & NA                & True              & unk               & 0                 & 1                 & 1                \\\\\n",
       "\t40 & 82B31             & 2777              & t6671             &  6671             &  8263             & 2010-03-09        & 2010-03-10        & Grade IV          & Glioblastoma      & 0                 & ⋯                 & NA                & NA                & 1                 & 1                 & NA                & False             & unk               & 0                 & 1                 & 1                \\\\\n",
       "\t41 & 86B41             & 2592              & t7451             &  7451             &  8728             & 2011-04-19        & 2011-04-20        & Grade IV          & Glioblastoma      & 1                 & ⋯                 & NA                & NA                & 1                 & 1                 & NA                &                   & unk               & 0                 & 1                 & 1                \\\\\n",
       "\t52 & 97B29             & 2781              & t6495             &  6495             &  8196             & 2009-12-08        & 2009-12-09        & Grade IV          & Gliosarcoma       & 1                 & ⋯                 & NA                & NA                & 1                 & 0                 & NA                & False             & unk               & 0                 & 1                 & 1                \\\\\n",
       "\t53 & 98B29             & 2781              & t6495             &  6495             &  8196             & 2009-12-08        & 2009-12-09        & Grade IV          & Gliosarcoma       & 1                 & ⋯                 & NA                & NA                & 1                 & 0                 & NA                &                   & unk               & 0                 & 1                 & 1                \\\\\n",
       "\t58 & 11B92             & 4193              &                   & 10790             & 11065             & 2016-11-22        & 2016-11-23        & Grade IV          & Glioblastoma      & 1                 & ⋯                 & NA                & NA                & 1                 & 1                 & NA                & True              & unk               & 0                 & 1                 & 1                \\\\\n",
       "\t70 & 26B81             & 4033              &                   & 10343             & 10755             & 2016-03-16        & 2016-03-17        & Grade III         & Astrocytoma       & 1                 & ⋯                 & NA                & NA                & 1                 & 1                 & NA                & True              & unk               & 0                 & 1                 & 1                \\\\\n",
       "\t72 & 31B61             & 3472              & t8783             &  8783             &  9739             & 2013-10-14        & 2013-10-15        & Treatment Effect  & Treatment Effect  & 1                 & ⋯                 & NA                & NA                & 1                 & 1                 & NA                & True              & unk               & 0                 & 1                 & 1                \\\\\n",
       "\t73 & 31B91             & 4183              &                   & 10699             & 10942             & 2016-08-15        & 2016-08-16        & Grade IV          & Glioblastoma      & 1                 & ⋯                 & NA                & NA                & 1                 & 1                 & NA                & True              & unk               & 0                 & 1                 & 1                \\\\\n",
       "\t91 & 42B61             & 3125              & t8878             &  8878             &  9801             & 2013-12-15        & 2013-12-16        & Grade IV          & Glioblastoma      & 1                 & ⋯                 & NA                & NA                & 1                 & 1                 & NA                & True              & unk               & 0                 & 1                 & 1                \\\\\n",
       "\t97 & 44B61             & 3125              & t8878             &  8878             &  9801             & 2013-12-15        & 2013-12-16        & Grade IV          & Glioblastoma      & 1                 & ⋯                 & NA                & NA                & 1                 & 1                 & NA                & False             & unk               & 0                 & 1                 & 1                \\\\\n",
       "\t102 & 48B78             & 3791              & t9970             &  9970             & 10507             & 2015-08-25        & 2015-08-26        & Treatment Effect  & Treatment Effect  & 1                 & ⋯                 & NA                & NA                & 1                 & 1                 & NA                & True              & unk               & 0                 & 1                 & 1                \\\\\n",
       "\t111 & 52B75             & 3528              & t9408             &  9408             & 10205             & 2014-12-22        & 2014-12-23        & Grade III         & Oligodendroglioma & 1                 & ⋯                 & NA                & NA                & 1                 & 1                 & NA                & False             & unk               & 0                 & 1                 & 1                \\\\\n",
       "\t113 & 56B64             & 2456              & t9014             &  9014             &  9992             & 2014-05-29        & 2014-05-30        & Grade III         & Oligoastrocytoma  & 1                 & ⋯                 & NA                & NA                & 1                 & 1                 & NA                &                   & unk               & 0                 & 1                 & 1                \\\\\n",
       "\t138 & 79B91             & 4208              &                   & 10763             & 11039             & 2016-10-25        & 2016-10-26        & Treatment Effect  & Treatment Effect  & 1                 & ⋯                 & NA                & NA                & 1                 & 1                 & NA                &                   & unk               & 0                 & 1                 & 1                \\\\\n",
       "\t143 & 83B66             & 3588              & t9084             &  9084             & 10024             & 2014-06-29        & 2014-06-30        & Treatment Effect  & Treatment Effect  & 1                 & ⋯                 & NA                & NA                & 1                 & 1                 & NA                &                   & unk               & 0                 & 1                 & 1                \\\\\n",
       "\t145 & 85B91             & 4211              & t10770            & 10770             & 11045             & 2016-11-01        & 2016-11-02        & Grade IV          & Glioblastoma      & 1                 & ⋯                 & NA                & NA                & 1                 & 1                 & NA                &                   & unk               & 0                 & 1                 & 1                \\\\\n",
       "\\end{tabular}\n"
      ],
      "text/markdown": [
       "\n",
       "| <!--/--> | vialid | b_number | t_number_x | t_number_y | sf_number | current_scan_date | current_surgery_date | current_hist_grade | current_hist_type | tumor_cell_evaluation | ⋯ | exclude_bc_anat | exclude_bc_pathology | include_diffu1000 | include_diffu2000 | exclude_histology | txe_comments | outcome | in_CEL | in_T2all | in_NEL | \n",
       "|---|---|---|---|---|---|---|---|---|---|---|---|---|---|---|---|---|---|---|---|---|---|---|---|---|\n",
       "| 8 | 35B30             | 2808              | t6551             |  6551             |  8217             | 2010-01-12        | 2010-01-13        | Grade III         | Astrocytoma       | 1                 | ⋯                 | NA                | NA                | 1                 | 1                 | NA                | False             | unk               | 0                 | 1                 | 1                 | \n",
       "| 11 | 43B20             | 2202              | t5788             |  5788             |  7844             | 2008-10-28        | 2008-10-29        | Grade IV          | Glioblastoma      | 1                 | ⋯                 | NA                | NA                | 0                 | 0                 | NA                |                   | unk               | 0                 | 1                 | 1                 | \n",
       "| 20 | 5B37              | 1788              | t7028             |  7028             |  8482             | 2010-09-03        | 2010-09-08        | Treatment Effect  | Treatment Effect  | 1                 | ⋯                 | NA                | NA                | 1                 | 0                 | NA                |                   | unk               | 0                 | 1                 | 1                 | \n",
       "| 23 | 60B33             | 2850              | t7016             |  7016             |  8314             | 2010-04-23        | 2010-04-23        | Grade IV          | Glioblastoma      | 0                 | ⋯                 | NA                | NA                | 1                 | 1                 | NA                |                   | unk               | 0                 | 1                 | 1                 | \n",
       "| 25 | 61B21             | 2517              | t5882             |  5882             |  7893             | 2008-12-18        | 2008-12-19        | Grade IV          | Glioblastoma      | 1                 | ⋯                 | NA                | NA                | 1                 | 0                 | NA                | True              | unk               | 0                 | 1                 | 1                 | \n",
       "| 29 | 62B33             | 2850              | t7016             |  7016             |  8314             | 2010-04-23        | 2010-04-23        | Grade IV          | Glioblastoma      | 0                 | ⋯                 | NA                | NA                | 1                 | 1                 | NA                | False             | unk               | 0                 | 1                 | 1                 | \n",
       "| 30 | 68B45             | 2593              | t7710             |  7710             |  8930             | 2011-10-27        | 2011-10-28        | Grade IV          | Glioblastoma      | 0                 | ⋯                 | NA                | NA                | 1                 | 1                 | NA                | True              | unk               | 0                 | 1                 | 1                 | \n",
       "| 34 | 71B33             | 2903              | t6771             |  6771             |  8324             | 2010-04-27        | 2010-04-28        | Grade IV          | Glioblastoma      | 1                 | ⋯                 | NA                | NA                | 1                 | 0                 | NA                | False             | unk               | 0                 | 1                 | 1                 | \n",
       "| 37 | 7B23              | 2264              | t6020             |  6020             |  7964             | 2009-03-05        | 2009-03-06        | Grade III         | Oligodendroglioma | 1                 | ⋯                 | NA                | NA                | 0                 | 0                 | NA                | True              | unk               | 0                 | 1                 | 1                 | \n",
       "| 40 | 82B31             | 2777              | t6671             |  6671             |  8263             | 2010-03-09        | 2010-03-10        | Grade IV          | Glioblastoma      | 0                 | ⋯                 | NA                | NA                | 1                 | 1                 | NA                | False             | unk               | 0                 | 1                 | 1                 | \n",
       "| 41 | 86B41             | 2592              | t7451             |  7451             |  8728             | 2011-04-19        | 2011-04-20        | Grade IV          | Glioblastoma      | 1                 | ⋯                 | NA                | NA                | 1                 | 1                 | NA                |                   | unk               | 0                 | 1                 | 1                 | \n",
       "| 52 | 97B29             | 2781              | t6495             |  6495             |  8196             | 2009-12-08        | 2009-12-09        | Grade IV          | Gliosarcoma       | 1                 | ⋯                 | NA                | NA                | 1                 | 0                 | NA                | False             | unk               | 0                 | 1                 | 1                 | \n",
       "| 53 | 98B29             | 2781              | t6495             |  6495             |  8196             | 2009-12-08        | 2009-12-09        | Grade IV          | Gliosarcoma       | 1                 | ⋯                 | NA                | NA                | 1                 | 0                 | NA                |                   | unk               | 0                 | 1                 | 1                 | \n",
       "| 58 | 11B92             | 4193              |                   | 10790             | 11065             | 2016-11-22        | 2016-11-23        | Grade IV          | Glioblastoma      | 1                 | ⋯                 | NA                | NA                | 1                 | 1                 | NA                | True              | unk               | 0                 | 1                 | 1                 | \n",
       "| 70 | 26B81             | 4033              |                   | 10343             | 10755             | 2016-03-16        | 2016-03-17        | Grade III         | Astrocytoma       | 1                 | ⋯                 | NA                | NA                | 1                 | 1                 | NA                | True              | unk               | 0                 | 1                 | 1                 | \n",
       "| 72 | 31B61             | 3472              | t8783             |  8783             |  9739             | 2013-10-14        | 2013-10-15        | Treatment Effect  | Treatment Effect  | 1                 | ⋯                 | NA                | NA                | 1                 | 1                 | NA                | True              | unk               | 0                 | 1                 | 1                 | \n",
       "| 73 | 31B91             | 4183              |                   | 10699             | 10942             | 2016-08-15        | 2016-08-16        | Grade IV          | Glioblastoma      | 1                 | ⋯                 | NA                | NA                | 1                 | 1                 | NA                | True              | unk               | 0                 | 1                 | 1                 | \n",
       "| 91 | 42B61             | 3125              | t8878             |  8878             |  9801             | 2013-12-15        | 2013-12-16        | Grade IV          | Glioblastoma      | 1                 | ⋯                 | NA                | NA                | 1                 | 1                 | NA                | True              | unk               | 0                 | 1                 | 1                 | \n",
       "| 97 | 44B61             | 3125              | t8878             |  8878             |  9801             | 2013-12-15        | 2013-12-16        | Grade IV          | Glioblastoma      | 1                 | ⋯                 | NA                | NA                | 1                 | 1                 | NA                | False             | unk               | 0                 | 1                 | 1                 | \n",
       "| 102 | 48B78             | 3791              | t9970             |  9970             | 10507             | 2015-08-25        | 2015-08-26        | Treatment Effect  | Treatment Effect  | 1                 | ⋯                 | NA                | NA                | 1                 | 1                 | NA                | True              | unk               | 0                 | 1                 | 1                 | \n",
       "| 111 | 52B75             | 3528              | t9408             |  9408             | 10205             | 2014-12-22        | 2014-12-23        | Grade III         | Oligodendroglioma | 1                 | ⋯                 | NA                | NA                | 1                 | 1                 | NA                | False             | unk               | 0                 | 1                 | 1                 | \n",
       "| 113 | 56B64             | 2456              | t9014             |  9014             |  9992             | 2014-05-29        | 2014-05-30        | Grade III         | Oligoastrocytoma  | 1                 | ⋯                 | NA                | NA                | 1                 | 1                 | NA                |                   | unk               | 0                 | 1                 | 1                 | \n",
       "| 138 | 79B91             | 4208              |                   | 10763             | 11039             | 2016-10-25        | 2016-10-26        | Treatment Effect  | Treatment Effect  | 1                 | ⋯                 | NA                | NA                | 1                 | 1                 | NA                |                   | unk               | 0                 | 1                 | 1                 | \n",
       "| 143 | 83B66             | 3588              | t9084             |  9084             | 10024             | 2014-06-29        | 2014-06-30        | Treatment Effect  | Treatment Effect  | 1                 | ⋯                 | NA                | NA                | 1                 | 1                 | NA                |                   | unk               | 0                 | 1                 | 1                 | \n",
       "| 145 | 85B91             | 4211              | t10770            | 10770             | 11045             | 2016-11-01        | 2016-11-02        | Grade IV          | Glioblastoma      | 1                 | ⋯                 | NA                | NA                | 1                 | 1                 | NA                |                   | unk               | 0                 | 1                 | 1                 | \n",
       "\n",
       "\n"
      ],
      "text/plain": [
       "    vialid b_number t_number_x t_number_y sf_number current_scan_date\n",
       "8   35B30  2808     t6551       6551       8217     2010-01-12       \n",
       "11  43B20  2202     t5788       5788       7844     2008-10-28       \n",
       "20  5B37   1788     t7028       7028       8482     2010-09-03       \n",
       "23  60B33  2850     t7016       7016       8314     2010-04-23       \n",
       "25  61B21  2517     t5882       5882       7893     2008-12-18       \n",
       "29  62B33  2850     t7016       7016       8314     2010-04-23       \n",
       "30  68B45  2593     t7710       7710       8930     2011-10-27       \n",
       "34  71B33  2903     t6771       6771       8324     2010-04-27       \n",
       "37  7B23   2264     t6020       6020       7964     2009-03-05       \n",
       "40  82B31  2777     t6671       6671       8263     2010-03-09       \n",
       "41  86B41  2592     t7451       7451       8728     2011-04-19       \n",
       "52  97B29  2781     t6495       6495       8196     2009-12-08       \n",
       "53  98B29  2781     t6495       6495       8196     2009-12-08       \n",
       "58  11B92  4193                10790      11065     2016-11-22       \n",
       "70  26B81  4033                10343      10755     2016-03-16       \n",
       "72  31B61  3472     t8783       8783       9739     2013-10-14       \n",
       "73  31B91  4183                10699      10942     2016-08-15       \n",
       "91  42B61  3125     t8878       8878       9801     2013-12-15       \n",
       "97  44B61  3125     t8878       8878       9801     2013-12-15       \n",
       "102 48B78  3791     t9970       9970      10507     2015-08-25       \n",
       "111 52B75  3528     t9408       9408      10205     2014-12-22       \n",
       "113 56B64  2456     t9014       9014       9992     2014-05-29       \n",
       "138 79B91  4208                10763      11039     2016-10-25       \n",
       "143 83B66  3588     t9084       9084      10024     2014-06-29       \n",
       "145 85B91  4211     t10770     10770      11045     2016-11-01       \n",
       "    current_surgery_date current_hist_grade current_hist_type\n",
       "8   2010-01-13           Grade III          Astrocytoma      \n",
       "11  2008-10-29           Grade IV           Glioblastoma     \n",
       "20  2010-09-08           Treatment Effect   Treatment Effect \n",
       "23  2010-04-23           Grade IV           Glioblastoma     \n",
       "25  2008-12-19           Grade IV           Glioblastoma     \n",
       "29  2010-04-23           Grade IV           Glioblastoma     \n",
       "30  2011-10-28           Grade IV           Glioblastoma     \n",
       "34  2010-04-28           Grade IV           Glioblastoma     \n",
       "37  2009-03-06           Grade III          Oligodendroglioma\n",
       "40  2010-03-10           Grade IV           Glioblastoma     \n",
       "41  2011-04-20           Grade IV           Glioblastoma     \n",
       "52  2009-12-09           Grade IV           Gliosarcoma      \n",
       "53  2009-12-09           Grade IV           Gliosarcoma      \n",
       "58  2016-11-23           Grade IV           Glioblastoma     \n",
       "70  2016-03-17           Grade III          Astrocytoma      \n",
       "72  2013-10-15           Treatment Effect   Treatment Effect \n",
       "73  2016-08-16           Grade IV           Glioblastoma     \n",
       "91  2013-12-16           Grade IV           Glioblastoma     \n",
       "97  2013-12-16           Grade IV           Glioblastoma     \n",
       "102 2015-08-26           Treatment Effect   Treatment Effect \n",
       "111 2014-12-23           Grade III          Oligodendroglioma\n",
       "113 2014-05-30           Grade III          Oligoastrocytoma \n",
       "138 2016-10-26           Treatment Effect   Treatment Effect \n",
       "143 2014-06-30           Treatment Effect   Treatment Effect \n",
       "145 2016-11-02           Grade IV           Glioblastoma     \n",
       "    tumor_cell_evaluation ⋯ exclude_bc_anat exclude_bc_pathology\n",
       "8   1                     ⋯ NA              NA                  \n",
       "11  1                     ⋯ NA              NA                  \n",
       "20  1                     ⋯ NA              NA                  \n",
       "23  0                     ⋯ NA              NA                  \n",
       "25  1                     ⋯ NA              NA                  \n",
       "29  0                     ⋯ NA              NA                  \n",
       "30  0                     ⋯ NA              NA                  \n",
       "34  1                     ⋯ NA              NA                  \n",
       "37  1                     ⋯ NA              NA                  \n",
       "40  0                     ⋯ NA              NA                  \n",
       "41  1                     ⋯ NA              NA                  \n",
       "52  1                     ⋯ NA              NA                  \n",
       "53  1                     ⋯ NA              NA                  \n",
       "58  1                     ⋯ NA              NA                  \n",
       "70  1                     ⋯ NA              NA                  \n",
       "72  1                     ⋯ NA              NA                  \n",
       "73  1                     ⋯ NA              NA                  \n",
       "91  1                     ⋯ NA              NA                  \n",
       "97  1                     ⋯ NA              NA                  \n",
       "102 1                     ⋯ NA              NA                  \n",
       "111 1                     ⋯ NA              NA                  \n",
       "113 1                     ⋯ NA              NA                  \n",
       "138 1                     ⋯ NA              NA                  \n",
       "143 1                     ⋯ NA              NA                  \n",
       "145 1                     ⋯ NA              NA                  \n",
       "    include_diffu1000 include_diffu2000 exclude_histology txe_comments outcome\n",
       "8   1                 1                 NA                False        unk    \n",
       "11  0                 0                 NA                             unk    \n",
       "20  1                 0                 NA                             unk    \n",
       "23  1                 1                 NA                             unk    \n",
       "25  1                 0                 NA                True         unk    \n",
       "29  1                 1                 NA                False        unk    \n",
       "30  1                 1                 NA                True         unk    \n",
       "34  1                 0                 NA                False        unk    \n",
       "37  0                 0                 NA                True         unk    \n",
       "40  1                 1                 NA                False        unk    \n",
       "41  1                 1                 NA                             unk    \n",
       "52  1                 0                 NA                False        unk    \n",
       "53  1                 0                 NA                             unk    \n",
       "58  1                 1                 NA                True         unk    \n",
       "70  1                 1                 NA                True         unk    \n",
       "72  1                 1                 NA                True         unk    \n",
       "73  1                 1                 NA                True         unk    \n",
       "91  1                 1                 NA                True         unk    \n",
       "97  1                 1                 NA                False        unk    \n",
       "102 1                 1                 NA                True         unk    \n",
       "111 1                 1                 NA                False        unk    \n",
       "113 1                 1                 NA                             unk    \n",
       "138 1                 1                 NA                             unk    \n",
       "143 1                 1                 NA                             unk    \n",
       "145 1                 1                 NA                             unk    \n",
       "    in_CEL in_T2all in_NEL\n",
       "8   0      1        1     \n",
       "11  0      1        1     \n",
       "20  0      1        1     \n",
       "23  0      1        1     \n",
       "25  0      1        1     \n",
       "29  0      1        1     \n",
       "30  0      1        1     \n",
       "34  0      1        1     \n",
       "37  0      1        1     \n",
       "40  0      1        1     \n",
       "41  0      1        1     \n",
       "52  0      1        1     \n",
       "53  0      1        1     \n",
       "58  0      1        1     \n",
       "70  0      1        1     \n",
       "72  0      1        1     \n",
       "73  0      1        1     \n",
       "91  0      1        1     \n",
       "97  0      1        1     \n",
       "102 0      1        1     \n",
       "111 0      1        1     \n",
       "113 0      1        1     \n",
       "138 0      1        1     \n",
       "143 0      1        1     \n",
       "145 0      1        1     "
      ]
     },
     "metadata": {},
     "output_type": "display_data"
    }
   ],
   "source": [
    "recgli[recgli$outcome==\"unk\",]"
   ]
  },
  {
   "cell_type": "markdown",
   "metadata": {},
   "source": [
    "## Anatomical numbers: "
   ]
  },
  {
   "cell_type": "code",
   "execution_count": 4,
   "metadata": {},
   "outputs": [
    {
     "data": {
      "text/plain": [
       "\n",
       " 0  1  2  3 \n",
       "37 21 49 42 "
      ]
     },
     "metadata": {},
     "output_type": "display_data"
    },
    {
     "data": {
      "text/plain": [
       "\n",
       "rHGG  txe  unk \n",
       "  91   33   25 "
      ]
     },
     "metadata": {},
     "output_type": "display_data"
    },
    {
     "data": {
      "text/html": [
       "65"
      ],
      "text/latex": [
       "65"
      ],
      "text/markdown": [
       "65"
      ],
      "text/plain": [
       "[1] 65"
      ]
     },
     "metadata": {},
     "output_type": "display_data"
    }
   ],
   "source": [
    "table(recgli$tumor_cell_evaluation)\n",
    "table(recgli$outcome)\n",
    "length(unique(recgli$t_number_x[recgli$outcome == \"txe\" | recgli$outcome == \"rHGG\"]))"
   ]
  },
  {
   "cell_type": "code",
   "execution_count": null,
   "metadata": {},
   "outputs": [],
   "source": []
  },
  {
   "cell_type": "markdown",
   "metadata": {},
   "source": [
    "## Diffusion numbers: "
   ]
  },
  {
   "cell_type": "code",
   "execution_count": 5,
   "metadata": {},
   "outputs": [],
   "source": [
    "recgli_diffu = recgli[!is.na(recgli$nadc.1),]"
   ]
  },
  {
   "cell_type": "code",
   "execution_count": 6,
   "metadata": {},
   "outputs": [
    {
     "data": {
      "text/plain": [
       "\n",
       "rHGG  txe  unk \n",
       "  86   32   23 "
      ]
     },
     "metadata": {},
     "output_type": "display_data"
    },
    {
     "data": {
      "text/html": [
       "62"
      ],
      "text/latex": [
       "62"
      ],
      "text/markdown": [
       "62"
      ],
      "text/plain": [
       "[1] 62"
      ]
     },
     "metadata": {},
     "output_type": "display_data"
    }
   ],
   "source": [
    "table(recgli_diffu$outcome)\n",
    "length(unique(recgli_diffu$t_number_x[recgli_diffu$outcome == \"txe\" | recgli_diffu$outcome == \"rHGG\"]))"
   ]
  },
  {
   "cell_type": "markdown",
   "metadata": {},
   "source": [
    "## perf"
   ]
  },
  {
   "cell_type": "code",
   "execution_count": 7,
   "metadata": {},
   "outputs": [],
   "source": [
    "recgli_perf = recgli[!is.na(recgli$cbvn_nlin),]"
   ]
  },
  {
   "cell_type": "code",
   "execution_count": 8,
   "metadata": {},
   "outputs": [
    {
     "data": {
      "text/plain": [
       "\n",
       "rHGG  txe  unk \n",
       "  60   24   18 "
      ]
     },
     "metadata": {},
     "output_type": "display_data"
    },
    {
     "data": {
      "text/html": [
       "56"
      ],
      "text/latex": [
       "56"
      ],
      "text/markdown": [
       "56"
      ],
      "text/plain": [
       "[1] 56"
      ]
     },
     "metadata": {},
     "output_type": "display_data"
    }
   ],
   "source": [
    "table(recgli_perf$outcome)\n",
    "length(unique(recgli_perf$t_number_x[recgli_perf$outcome == \"txe\" | recgli_perf$outcome == \"rHGG\"]))"
   ]
  },
  {
   "cell_type": "markdown",
   "metadata": {},
   "source": [
    "## spec\n"
   ]
  },
  {
   "cell_type": "code",
   "execution_count": 9,
   "metadata": {},
   "outputs": [],
   "source": [
    "recgli_spec = recgli[!is.na(recgli$cni),]"
   ]
  },
  {
   "cell_type": "code",
   "execution_count": 10,
   "metadata": {},
   "outputs": [
    {
     "data": {
      "text/plain": [
       "\n",
       "rHGG  txe  unk \n",
       "  51   16   14 "
      ]
     },
     "metadata": {},
     "output_type": "display_data"
    },
    {
     "data": {
      "text/html": [
       "36"
      ],
      "text/latex": [
       "36"
      ],
      "text/markdown": [
       "36"
      ],
      "text/plain": [
       "[1] 36"
      ]
     },
     "metadata": {},
     "output_type": "display_data"
    }
   ],
   "source": [
    "table(recgli_spec$outcome)\n",
    "length(unique(recgli_spec$t_number_x[recgli_spec$outcome == \"txe\" | recgli_spec$outcome == \"rHGG\"]))"
   ]
  },
  {
   "cell_type": "code",
   "execution_count": 11,
   "metadata": {},
   "outputs": [
    {
     "data": {
      "text/html": [
       "<ol class=list-inline>\n",
       "\t<li>124</li>\n",
       "\t<li>74</li>\n",
       "</ol>\n"
      ],
      "text/latex": [
       "\\begin{enumerate*}\n",
       "\\item 124\n",
       "\\item 74\n",
       "\\end{enumerate*}\n"
      ],
      "text/markdown": [
       "1. 124\n",
       "2. 74\n",
       "\n",
       "\n"
      ],
      "text/plain": [
       "[1] 124  74"
      ]
     },
     "metadata": {},
     "output_type": "display_data"
    }
   ],
   "source": [
    "## Now let's subset down to JUST rHGG & TxE\n",
    "recgli = recgli[which(recgli$outcome == \"txe\" | recgli$outcome==\"rHGG\"), ]\n",
    "dim(recgli)"
   ]
  },
  {
   "cell_type": "code",
   "execution_count": 12,
   "metadata": {},
   "outputs": [
    {
     "data": {
      "text/plain": [
       "      \n",
       "       FALSE TRUE\n",
       "  rHGG    86    5\n",
       "  txe     32    1\n",
       "  unk      0    0"
      ]
     },
     "metadata": {},
     "output_type": "display_data"
    }
   ],
   "source": [
    "table(recgli$outcome, is.na(recgli$nadc.1))"
   ]
  },
  {
   "cell_type": "code",
   "execution_count": 13,
   "metadata": {},
   "outputs": [],
   "source": [
    "recgli = droplevels.data.frame(recgli)"
   ]
  },
  {
   "cell_type": "code",
   "execution_count": 14,
   "metadata": {},
   "outputs": [],
   "source": [
    "anat = c('nfl', 'nfse',\n",
    "       'nt1c', 'nt1v', 'nt1d')\n",
    "diffu = c('nadc.1', 'nfa.1', 'nev1.1', 'nev2.1', 'nev3.1',\n",
    "       'nevrad.1')\n",
    "perf = c('cbvn_nlin', 'phn_nlin', 'recov_nlin', 'phn_npar', 'recov_npar')\n",
    "spec = c('ccri', 'cni', 'crni', 'ncho', 'ncre', 'nnaa', 'nlac',\n",
    "       'nlip', \"nLL\")"
   ]
  },
  {
   "cell_type": "markdown",
   "metadata": {},
   "source": [
    "## First -- visuals: "
   ]
  },
  {
   "cell_type": "code",
   "execution_count": 15,
   "metadata": {
    "scrolled": false
   },
   "outputs": [
    {
     "data": {
      "image/png": "[encoded data removed]",
      "text/plain": [
       "Plot with title “nt1d vs. ts”"
      ]
     },
     "metadata": {},
     "output_type": "display_data"
    }
   ],
   "source": [
    "## Let's look at the differences among parameters: \n",
    "par(mfrow = c(2, 3), bg =\"black\", fg = \"white\")\n",
    "\n",
    "a = boxplot(nfse ~ outcome , data = recgli, ylab = \"normalized fse\", xlab = \"tumorscore\", main = 'nfse vs. ts')\n",
    "b = boxplot(nfl ~ outcome , data = recgli, ylab = \"normalized fl\", xlab = \"tumorscore\", main = 'nfl vs. ts')\n",
    "c = boxplot(nt1c ~ outcome , data = recgli, ylab = \"normalized t1c\", xlab = \"tumorscore\", main = 'nt1c vs. ts')\n",
    "d = boxplot(nt1v ~ outcome , data = recgli, ylab = \"normalized t1v\", xlab = \"tumorscore\", main = 'nt1v vs. ts')\n",
    "e = boxplot(nt1d ~ outcome , data = recgli, ylab = \"normalized t1d\", xlab = \"tumorscore\", main = 'nt1d vs. ts')"
   ]
  },
  {
   "cell_type": "code",
   "execution_count": 16,
   "metadata": {
    "scrolled": true
   },
   "outputs": [
    {
     "data": {
      "image/png": "[encoded data removed]",
      "text/plain": [
       "Plot with title “nevrad.1 vs. ts”"
      ]
     },
     "metadata": {},
     "output_type": "display_data"
    }
   ],
   "source": [
    "## Let's look at the differences among parameters: \n",
    "par(mfrow = c(2, 3), bg =\"black\", fg = \"white\")\n",
    "\n",
    "a = boxplot(nadc.1 ~ outcome , data = recgli, ylab = \"normalized nadc.1\", xlab = \"tumorscore\", main = 'nadc.1 vs. ts')\n",
    "b = boxplot(nfa.1 ~ outcome , data = recgli, ylab = \"normalized nfa.1\", xlab = \"tumorscore\", main = 'nfa.1 vs. ts')\n",
    "c = boxplot(nev1.1 ~ outcome , data = recgli, ylab = \"normalized nev1.1\", xlab = \"tumorscore\", main = 'nev1.1 vs. ts')\n",
    "d = boxplot(nev2.1 ~ outcome , data = recgli, ylab = \"normalized nev2.1\", xlab = \"tumorscore\", main = 'nev2.1 vs. ts')\n",
    "e = boxplot(nevrad.1 ~ outcome , data = recgli, ylab = \"normalized nevrad.1\", xlab = \"tumorscore\", main = 'nevrad.1 vs. ts')\n"
   ]
  },
  {
   "cell_type": "code",
   "execution_count": 17,
   "metadata": {},
   "outputs": [
    {
     "data": {
      "text/html": [
       "<ol class=list-inline>\n",
       "\t<li>'cbvn_nlin'</li>\n",
       "\t<li>'phn_nlin'</li>\n",
       "\t<li>'recov_nlin'</li>\n",
       "\t<li>'phn_npar'</li>\n",
       "\t<li>'recov_npar'</li>\n",
       "</ol>\n"
      ],
      "text/latex": [
       "\\begin{enumerate*}\n",
       "\\item 'cbvn\\_nlin'\n",
       "\\item 'phn\\_nlin'\n",
       "\\item 'recov\\_nlin'\n",
       "\\item 'phn\\_npar'\n",
       "\\item 'recov\\_npar'\n",
       "\\end{enumerate*}\n"
      ],
      "text/markdown": [
       "1. 'cbvn_nlin'\n",
       "2. 'phn_nlin'\n",
       "3. 'recov_nlin'\n",
       "4. 'phn_npar'\n",
       "5. 'recov_npar'\n",
       "\n",
       "\n"
      ],
      "text/plain": [
       "[1] \"cbvn_nlin\"  \"phn_nlin\"   \"recov_nlin\" \"phn_npar\"   \"recov_npar\""
      ]
     },
     "metadata": {},
     "output_type": "display_data"
    }
   ],
   "source": [
    "perf"
   ]
  },
  {
   "cell_type": "code",
   "execution_count": 18,
   "metadata": {
    "scrolled": false
   },
   "outputs": [
    {
     "data": {
      "image/png": "[encoded data removed]",
      "text/plain": [
       "Plot with title “recovn_npar vs. ts”"
      ]
     },
     "metadata": {},
     "output_type": "display_data"
    }
   ],
   "source": [
    "## Let's look at the differences among parameters: \n",
    "par(mfrow = c(2, 3), bg =\"black\", fg = \"white\")\n",
    "a = boxplot(cbvn_nlin ~ outcome , data = recgli, ylab = \"normalized cbvn_nlin\", xlab = \"tumorscore\", main = 'cbvn_nlin vs. ts')\n",
    "b = boxplot(phn_nlin ~ outcome , data = recgli, ylab = \"normalized phn_nlin\", xlab = \"tumorscore\", main = 'phn_nlin vs. ts')\n",
    "c = boxplot(recov_nlin ~ outcome , data = recgli, ylab = \"normalized recov_nlin\", xlab = \"tumorscore\", main = 'recov_nlin vs. ts')\n",
    "d = boxplot(phn_npar ~ outcome , data = recgli, ylab = \"normalized phn_npar\", xlab = \"tumorscore\", main = 'phn_npar vs. ts')\n",
    "e = boxplot(recov_npar ~ outcome , data = recgli, ylab = \"normalized recov_npar\", xlab = \"tumorscore\", main = 'recov_npar vs. ts')\n",
    "f = boxplot(recovn_npar ~ outcome , data = recgli, ylab = \"normalized recovn_npar\", xlab = \"tumorscore\", main = 'recovn_npar vs. ts')"
   ]
  },
  {
   "cell_type": "code",
   "execution_count": 19,
   "metadata": {},
   "outputs": [
    {
     "data": {
      "text/html": [
       "<ol class=list-inline>\n",
       "\t<li>'ccri'</li>\n",
       "\t<li>'cni'</li>\n",
       "\t<li>'crni'</li>\n",
       "\t<li>'ncho'</li>\n",
       "\t<li>'ncre'</li>\n",
       "\t<li>'nnaa'</li>\n",
       "\t<li>'nlac'</li>\n",
       "\t<li>'nlip'</li>\n",
       "\t<li>'nLL'</li>\n",
       "</ol>\n"
      ],
      "text/latex": [
       "\\begin{enumerate*}\n",
       "\\item 'ccri'\n",
       "\\item 'cni'\n",
       "\\item 'crni'\n",
       "\\item 'ncho'\n",
       "\\item 'ncre'\n",
       "\\item 'nnaa'\n",
       "\\item 'nlac'\n",
       "\\item 'nlip'\n",
       "\\item 'nLL'\n",
       "\\end{enumerate*}\n"
      ],
      "text/markdown": [
       "1. 'ccri'\n",
       "2. 'cni'\n",
       "3. 'crni'\n",
       "4. 'ncho'\n",
       "5. 'ncre'\n",
       "6. 'nnaa'\n",
       "7. 'nlac'\n",
       "8. 'nlip'\n",
       "9. 'nLL'\n",
       "\n",
       "\n"
      ],
      "text/plain": [
       "[1] \"ccri\" \"cni\"  \"crni\" \"ncho\" \"ncre\" \"nnaa\" \"nlac\" \"nlip\" \"nLL\" "
      ]
     },
     "metadata": {},
     "output_type": "display_data"
    }
   ],
   "source": [
    "spec"
   ]
  },
  {
   "cell_type": "code",
   "execution_count": 20,
   "metadata": {
    "scrolled": false
   },
   "outputs": [
    {
     "data": {
      "image/png": "[encoded data removed]",
      "text/plain": [
       "Plot with title “N-aspartyl Acetate vs. outcome”"
      ]
     },
     "metadata": {},
     "output_type": "display_data"
    },
    {
     "data": {
      "image/png": "[encoded data removed]",
      "text/plain": [
       "Plot with title “Lactate+Lipid vs. outcome”"
      ]
     },
     "metadata": {},
     "output_type": "display_data"
    }
   ],
   "source": [
    "## Let's look at the differences among parameters: \n",
    "par(mfrow = c(2, 3), bg =\"black\", fg = \"white\")\n",
    "a = boxplot(ccri ~ outcome , data = recgli, ylab = \" CCRI\", \n",
    "            xlab = \"outcome\", main = 'CCRI vs. outcome', \n",
    "           col.axis = \"white\", col.main = \"white\")\n",
    "b = boxplot(cni ~ outcome , data = recgli, ylab = \"CNI\", \n",
    "            xlab = \"outcome\", main = 'CNI vs. outcome', \n",
    "           col.axis = \"white\", col.main = \"white\")\n",
    "c = boxplot(crni ~ outcome , data = recgli, ylab = \"CRNI\",\n",
    "            xlab = \"outcome\", main = 'CRNI vs. outcome', \n",
    "           col.axis = \"white\", col.main = \"white\")\n",
    "d = boxplot(ncho ~ outcome , data = recgli, ylab = \"CHO\",\n",
    "            xlab = \"outcome\", main = 'Choline vs. outcome', \n",
    "           col.axis = \"white\", col.main = \"white\")\n",
    "e = boxplot(ncre ~ outcome , data = recgli, ylab = \"CRE\", \n",
    "            xlab = \"outcome\", main = 'Creatine vs. outcome', \n",
    "           col.axis = \"white\", col.main = \"white\")\n",
    "f = boxplot(nnaa ~ outcome , data = recgli, ylab = \"NAA\", \n",
    "            xlab = \"outcome\", main = 'N-aspartyl Acetate vs. outcome', \n",
    "            col.axis = \"white\", col.main = \"white\")\n",
    "f = boxplot(nlac ~ outcome , data = recgli, ylab = \"Lactate\", \n",
    "            xlab = \"outcome\", main = 'Lactate vs. outcome', \n",
    "           col.axis = \"white\", col.main = \"white\")\n",
    "f = boxplot(nlip ~ outcome , data = recgli, ylab = \"Lipid\", \n",
    "            xlab = \"outcome\", main = 'Lipid vs. outcome', \n",
    "           col.axis = \"white\", col.main = \"white\")\n",
    "f = boxplot(nLL ~ outcome , data = recgli, ylab = \"Lactate+Lipid\", \n",
    "            xlab = \"outcome\", main = 'Lactate+Lipid vs. outcome', \n",
    "           col.axis = \"white\", col.main = \"white\")\n"
   ]
  },
  {
   "cell_type": "markdown",
   "metadata": {},
   "source": [
    "## Second -- Stats: "
   ]
  },
  {
   "cell_type": "code",
   "execution_count": 21,
   "metadata": {},
   "outputs": [
    {
     "name": "stderr",
     "output_type": "stream",
     "text": [
      "Loading required package: Matrix\n",
      "Loading required package: trust\n",
      "Loading required package: mvtnorm\n",
      "Warning message:\n",
      "“package ‘mvtnorm’ was built under R version 3.4.1”Loading required package: digest\n"
     ]
    }
   ],
   "source": [
    "library(lme4)\n",
    "library(geepack)\n",
    "library(glmm)\n"
   ]
  },
  {
   "cell_type": "code",
   "execution_count": 22,
   "metadata": {},
   "outputs": [
    {
     "data": {
      "text/html": [
       "<ol class=list-inline>\n",
       "\t<li>'vialid'</li>\n",
       "\t<li>'b_number'</li>\n",
       "\t<li>'t_number_x'</li>\n",
       "\t<li>'t_number_y'</li>\n",
       "\t<li>'sf_number'</li>\n",
       "\t<li>'current_scan_date'</li>\n",
       "\t<li>'current_surgery_date'</li>\n",
       "\t<li>'current_hist_grade'</li>\n",
       "\t<li>'current_hist_type'</li>\n",
       "\t<li>'tumor_cell_evaluation'</li>\n",
       "\t<li>'necrosis'</li>\n",
       "\t<li>'mv_hyperplasia'</li>\n",
       "\t<li>'mv_delicate_vasculature'</li>\n",
       "\t<li>'f8_delicate'</li>\n",
       "\t<li>'f8_simple'</li>\n",
       "\t<li>'f8_complex'</li>\n",
       "\t<li>'mib_1'</li>\n",
       "\t<li>'avgerage_cells'</li>\n",
       "\t<li>'treatment_related_ab'</li>\n",
       "\t<li>'bx_pure_treatment_effect'</li>\n",
       "\t<li>'percent_tumor_nuclei'</li>\n",
       "\t<li>'nfl'</li>\n",
       "\t<li>'nfse'</li>\n",
       "\t<li>'nt1c'</li>\n",
       "\t<li>'nt1v'</li>\n",
       "\t<li>'nt1d'</li>\n",
       "\t<li>'nadc.1'</li>\n",
       "\t<li>'nfa.1'</li>\n",
       "\t<li>'nev1.1'</li>\n",
       "\t<li>'nev2.1'</li>\n",
       "\t<li>'nev3.1'</li>\n",
       "\t<li>'nevrad.1'</li>\n",
       "\t<li>'nadc.2'</li>\n",
       "\t<li>'nfa.2'</li>\n",
       "\t<li>'nev1.2'</li>\n",
       "\t<li>'nev2.2'</li>\n",
       "\t<li>'nev3.2'</li>\n",
       "\t<li>'nevrad.2'</li>\n",
       "\t<li>'cbvn_nlin'</li>\n",
       "\t<li>'phn_nlin'</li>\n",
       "\t<li>'recov_nlin'</li>\n",
       "\t<li>'phn_npar'</li>\n",
       "\t<li>'recov_npar'</li>\n",
       "\t<li>'recovn_npar'</li>\n",
       "\t<li>'ccri'</li>\n",
       "\t<li>'cni'</li>\n",
       "\t<li>'crni'</li>\n",
       "\t<li>'ncho'</li>\n",
       "\t<li>'ncre'</li>\n",
       "\t<li>'nnaa'</li>\n",
       "\t<li>'nlac'</li>\n",
       "\t<li>'nlip'</li>\n",
       "\t<li>'newdata'</li>\n",
       "\t<li>'olddata'</li>\n",
       "\t<li>'exclude_bc_hematoma_or_ventricle'</li>\n",
       "\t<li>'exclude_perf'</li>\n",
       "\t<li>'nLL'</li>\n",
       "\t<li>'comments'</li>\n",
       "\t<li>'perf_quant'</li>\n",
       "\t<li>'include_perf'</li>\n",
       "\t<li>'spec_quant'</li>\n",
       "\t<li>'include_spec'</li>\n",
       "\t<li>'diffu1000_quant'</li>\n",
       "\t<li>'diffu2000_quant'</li>\n",
       "\t<li>'exclude_bc_anat'</li>\n",
       "\t<li>'exclude_bc_pathology'</li>\n",
       "\t<li>'include_diffu1000'</li>\n",
       "\t<li>'include_diffu2000'</li>\n",
       "\t<li>'exclude_histology'</li>\n",
       "\t<li>'txe_comments'</li>\n",
       "\t<li>'outcome'</li>\n",
       "\t<li>'in_CEL'</li>\n",
       "\t<li>'in_T2all'</li>\n",
       "\t<li>'in_NEL'</li>\n",
       "\t<li>'txe_rhgg'</li>\n",
       "</ol>\n"
      ],
      "text/latex": [
       "\\begin{enumerate*}\n",
       "\\item 'vialid'\n",
       "\\item 'b\\_number'\n",
       "\\item 't\\_number\\_x'\n",
       "\\item 't\\_number\\_y'\n",
       "\\item 'sf\\_number'\n",
       "\\item 'current\\_scan\\_date'\n",
       "\\item 'current\\_surgery\\_date'\n",
       "\\item 'current\\_hist\\_grade'\n",
       "\\item 'current\\_hist\\_type'\n",
       "\\item 'tumor\\_cell\\_evaluation'\n",
       "\\item 'necrosis'\n",
       "\\item 'mv\\_hyperplasia'\n",
       "\\item 'mv\\_delicate\\_vasculature'\n",
       "\\item 'f8\\_delicate'\n",
       "\\item 'f8\\_simple'\n",
       "\\item 'f8\\_complex'\n",
       "\\item 'mib\\_1'\n",
       "\\item 'avgerage\\_cells'\n",
       "\\item 'treatment\\_related\\_ab'\n",
       "\\item 'bx\\_pure\\_treatment\\_effect'\n",
       "\\item 'percent\\_tumor\\_nuclei'\n",
       "\\item 'nfl'\n",
       "\\item 'nfse'\n",
       "\\item 'nt1c'\n",
       "\\item 'nt1v'\n",
       "\\item 'nt1d'\n",
       "\\item 'nadc.1'\n",
       "\\item 'nfa.1'\n",
       "\\item 'nev1.1'\n",
       "\\item 'nev2.1'\n",
       "\\item 'nev3.1'\n",
       "\\item 'nevrad.1'\n",
       "\\item 'nadc.2'\n",
       "\\item 'nfa.2'\n",
       "\\item 'nev1.2'\n",
       "\\item 'nev2.2'\n",
       "\\item 'nev3.2'\n",
       "\\item 'nevrad.2'\n",
       "\\item 'cbvn\\_nlin'\n",
       "\\item 'phn\\_nlin'\n",
       "\\item 'recov\\_nlin'\n",
       "\\item 'phn\\_npar'\n",
       "\\item 'recov\\_npar'\n",
       "\\item 'recovn\\_npar'\n",
       "\\item 'ccri'\n",
       "\\item 'cni'\n",
       "\\item 'crni'\n",
       "\\item 'ncho'\n",
       "\\item 'ncre'\n",
       "\\item 'nnaa'\n",
       "\\item 'nlac'\n",
       "\\item 'nlip'\n",
       "\\item 'newdata'\n",
       "\\item 'olddata'\n",
       "\\item 'exclude\\_bc\\_hematoma\\_or\\_ventricle'\n",
       "\\item 'exclude\\_perf'\n",
       "\\item 'nLL'\n",
       "\\item 'comments'\n",
       "\\item 'perf\\_quant'\n",
       "\\item 'include\\_perf'\n",
       "\\item 'spec\\_quant'\n",
       "\\item 'include\\_spec'\n",
       "\\item 'diffu1000\\_quant'\n",
       "\\item 'diffu2000\\_quant'\n",
       "\\item 'exclude\\_bc\\_anat'\n",
       "\\item 'exclude\\_bc\\_pathology'\n",
       "\\item 'include\\_diffu1000'\n",
       "\\item 'include\\_diffu2000'\n",
       "\\item 'exclude\\_histology'\n",
       "\\item 'txe\\_comments'\n",
       "\\item 'outcome'\n",
       "\\item 'in\\_CEL'\n",
       "\\item 'in\\_T2all'\n",
       "\\item 'in\\_NEL'\n",
       "\\item 'txe\\_rhgg'\n",
       "\\end{enumerate*}\n"
      ],
      "text/markdown": [
       "1. 'vialid'\n",
       "2. 'b_number'\n",
       "3. 't_number_x'\n",
       "4. 't_number_y'\n",
       "5. 'sf_number'\n",
       "6. 'current_scan_date'\n",
       "7. 'current_surgery_date'\n",
       "8. 'current_hist_grade'\n",
       "9. 'current_hist_type'\n",
       "10. 'tumor_cell_evaluation'\n",
       "11. 'necrosis'\n",
       "12. 'mv_hyperplasia'\n",
       "13. 'mv_delicate_vasculature'\n",
       "14. 'f8_delicate'\n",
       "15. 'f8_simple'\n",
       "16. 'f8_complex'\n",
       "17. 'mib_1'\n",
       "18. 'avgerage_cells'\n",
       "19. 'treatment_related_ab'\n",
       "20. 'bx_pure_treatment_effect'\n",
       "21. 'percent_tumor_nuclei'\n",
       "22. 'nfl'\n",
       "23. 'nfse'\n",
       "24. 'nt1c'\n",
       "25. 'nt1v'\n",
       "26. 'nt1d'\n",
       "27. 'nadc.1'\n",
       "28. 'nfa.1'\n",
       "29. 'nev1.1'\n",
       "30. 'nev2.1'\n",
       "31. 'nev3.1'\n",
       "32. 'nevrad.1'\n",
       "33. 'nadc.2'\n",
       "34. 'nfa.2'\n",
       "35. 'nev1.2'\n",
       "36. 'nev2.2'\n",
       "37. 'nev3.2'\n",
       "38. 'nevrad.2'\n",
       "39. 'cbvn_nlin'\n",
       "40. 'phn_nlin'\n",
       "41. 'recov_nlin'\n",
       "42. 'phn_npar'\n",
       "43. 'recov_npar'\n",
       "44. 'recovn_npar'\n",
       "45. 'ccri'\n",
       "46. 'cni'\n",
       "47. 'crni'\n",
       "48. 'ncho'\n",
       "49. 'ncre'\n",
       "50. 'nnaa'\n",
       "51. 'nlac'\n",
       "52. 'nlip'\n",
       "53. 'newdata'\n",
       "54. 'olddata'\n",
       "55. 'exclude_bc_hematoma_or_ventricle'\n",
       "56. 'exclude_perf'\n",
       "57. 'nLL'\n",
       "58. 'comments'\n",
       "59. 'perf_quant'\n",
       "60. 'include_perf'\n",
       "61. 'spec_quant'\n",
       "62. 'include_spec'\n",
       "63. 'diffu1000_quant'\n",
       "64. 'diffu2000_quant'\n",
       "65. 'exclude_bc_anat'\n",
       "66. 'exclude_bc_pathology'\n",
       "67. 'include_diffu1000'\n",
       "68. 'include_diffu2000'\n",
       "69. 'exclude_histology'\n",
       "70. 'txe_comments'\n",
       "71. 'outcome'\n",
       "72. 'in_CEL'\n",
       "73. 'in_T2all'\n",
       "74. 'in_NEL'\n",
       "75. 'txe_rhgg'\n",
       "\n",
       "\n"
      ],
      "text/plain": [
       " [1] \"vialid\"                           \"b_number\"                        \n",
       " [3] \"t_number_x\"                       \"t_number_y\"                      \n",
       " [5] \"sf_number\"                        \"current_scan_date\"               \n",
       " [7] \"current_surgery_date\"             \"current_hist_grade\"              \n",
       " [9] \"current_hist_type\"                \"tumor_cell_evaluation\"           \n",
       "[11] \"necrosis\"                         \"mv_hyperplasia\"                  \n",
       "[13] \"mv_delicate_vasculature\"          \"f8_delicate\"                     \n",
       "[15] \"f8_simple\"                        \"f8_complex\"                      \n",
       "[17] \"mib_1\"                            \"avgerage_cells\"                  \n",
       "[19] \"treatment_related_ab\"             \"bx_pure_treatment_effect\"        \n",
       "[21] \"percent_tumor_nuclei\"             \"nfl\"                             \n",
       "[23] \"nfse\"                             \"nt1c\"                            \n",
       "[25] \"nt1v\"                             \"nt1d\"                            \n",
       "[27] \"nadc.1\"                           \"nfa.1\"                           \n",
       "[29] \"nev1.1\"                           \"nev2.1\"                          \n",
       "[31] \"nev3.1\"                           \"nevrad.1\"                        \n",
       "[33] \"nadc.2\"                           \"nfa.2\"                           \n",
       "[35] \"nev1.2\"                           \"nev2.2\"                          \n",
       "[37] \"nev3.2\"                           \"nevrad.2\"                        \n",
       "[39] \"cbvn_nlin\"                        \"phn_nlin\"                        \n",
       "[41] \"recov_nlin\"                       \"phn_npar\"                        \n",
       "[43] \"recov_npar\"                       \"recovn_npar\"                     \n",
       "[45] \"ccri\"                             \"cni\"                             \n",
       "[47] \"crni\"                             \"ncho\"                            \n",
       "[49] \"ncre\"                             \"nnaa\"                            \n",
       "[51] \"nlac\"                             \"nlip\"                            \n",
       "[53] \"newdata\"                          \"olddata\"                         \n",
       "[55] \"exclude_bc_hematoma_or_ventricle\" \"exclude_perf\"                    \n",
       "[57] \"nLL\"                              \"comments\"                        \n",
       "[59] \"perf_quant\"                       \"include_perf\"                    \n",
       "[61] \"spec_quant\"                       \"include_spec\"                    \n",
       "[63] \"diffu1000_quant\"                  \"diffu2000_quant\"                 \n",
       "[65] \"exclude_bc_anat\"                  \"exclude_bc_pathology\"            \n",
       "[67] \"include_diffu1000\"                \"include_diffu2000\"               \n",
       "[69] \"exclude_histology\"                \"txe_comments\"                    \n",
       "[71] \"outcome\"                          \"in_CEL\"                          \n",
       "[73] \"in_T2all\"                         \"in_NEL\"                          \n",
       "[75] \"txe_rhgg\"                        "
      ]
     },
     "metadata": {},
     "output_type": "display_data"
    }
   ],
   "source": [
    "recgli$txe_rhgg = ifelse(recgli$outcome==\"txe\", 0, 1)\n",
    "colnames(recgli)"
   ]
  },
  {
   "cell_type": "code",
   "execution_count": 23,
   "metadata": {},
   "outputs": [
    {
     "name": "stdout",
     "output_type": "stream",
     "text": [
      "[1] \"ANATOMICAL:\"\n",
      "[1] \"nfse glmm\"\n"
     ]
    },
    {
     "data": {
      "text/html": [
       "<table>\n",
       "<thead><tr><th></th><th scope=col>Estimate</th><th scope=col>Std. Error</th><th scope=col>z value</th><th scope=col>Pr(&gt;|z|)</th></tr></thead>\n",
       "<tbody>\n",
       "\t<tr><th scope=row>(Intercept)</th><td>-0.9803</td><td>0.7626 </td><td>-1.2856</td><td>0.1986 </td></tr>\n",
       "\t<tr><th scope=row>nfse</th><td>-0.0028</td><td>0.3588 </td><td>-0.0078</td><td>0.9938 </td></tr>\n",
       "</tbody>\n",
       "</table>\n"
      ],
      "text/latex": [
       "\\begin{tabular}{r|llll}\n",
       "  & Estimate & Std. Error & z value & Pr(>\\textbar{}z\\textbar{})\\\\\n",
       "\\hline\n",
       "\t(Intercept) & -0.9803 & 0.7626  & -1.2856 & 0.1986 \\\\\n",
       "\tnfse & -0.0028 & 0.3588  & -0.0078 & 0.9938 \\\\\n",
       "\\end{tabular}\n"
      ],
      "text/markdown": [
       "\n",
       "| <!--/--> | Estimate | Std. Error | z value | Pr(>|z|) | \n",
       "|---|---|\n",
       "| (Intercept) | -0.9803 | 0.7626  | -1.2856 | 0.1986  | \n",
       "| nfse | -0.0028 | 0.3588  | -0.0078 | 0.9938  | \n",
       "\n",
       "\n"
      ],
      "text/plain": [
       "            Estimate Std. Error z value Pr(>|z|)\n",
       "(Intercept) -0.9803  0.7626     -1.2856 0.1986  \n",
       "nfse        -0.0028  0.3588     -0.0078 0.9938  "
      ]
     },
     "metadata": {},
     "output_type": "display_data"
    },
    {
     "name": "stdout",
     "output_type": "stream",
     "text": [
      "[1] \"nfse gee\"\n"
     ]
    },
    {
     "data": {
      "text/html": [
       "<table>\n",
       "<thead><tr><th></th><th scope=col>Estimate</th><th scope=col>Std.err</th><th scope=col>Wald</th><th scope=col>Pr(&gt;|W|)</th></tr></thead>\n",
       "<tbody>\n",
       "\t<tr><th scope=row>(Intercept)</th><td> 1.1784</td><td>0.6304 </td><td>3.4945 </td><td>0.0616 </td></tr>\n",
       "\t<tr><th scope=row>nfse</th><td>-0.0777</td><td>0.2993 </td><td>0.0674 </td><td>0.7951 </td></tr>\n",
       "</tbody>\n",
       "</table>\n"
      ],
      "text/latex": [
       "\\begin{tabular}{r|llll}\n",
       "  & Estimate & Std.err & Wald & Pr(>\\textbar{}W\\textbar{})\\\\\n",
       "\\hline\n",
       "\t(Intercept) &  1.1784 & 0.6304  & 3.4945  & 0.0616 \\\\\n",
       "\tnfse & -0.0777 & 0.2993  & 0.0674  & 0.7951 \\\\\n",
       "\\end{tabular}\n"
      ],
      "text/markdown": [
       "\n",
       "| <!--/--> | Estimate | Std.err | Wald | Pr(>|W|) | \n",
       "|---|---|\n",
       "| (Intercept) |  1.1784 | 0.6304  | 3.4945  | 0.0616  | \n",
       "| nfse | -0.0777 | 0.2993  | 0.0674  | 0.7951  | \n",
       "\n",
       "\n"
      ],
      "text/plain": [
       "            Estimate Std.err Wald   Pr(>|W|)\n",
       "(Intercept)  1.1784  0.6304  3.4945 0.0616  \n",
       "nfse        -0.0777  0.2993  0.0674 0.7951  "
      ]
     },
     "metadata": {},
     "output_type": "display_data"
    },
    {
     "name": "stdout",
     "output_type": "stream",
     "text": [
      "[1] \"nfl\"\n"
     ]
    },
    {
     "data": {
      "text/html": [
       "<table>\n",
       "<thead><tr><th></th><th scope=col>Estimate</th><th scope=col>Std. Error</th><th scope=col>z value</th><th scope=col>Pr(&gt;|z|)</th></tr></thead>\n",
       "<tbody>\n",
       "\t<tr><th scope=row>(Intercept)</th><td>-0.3166</td><td>0.9284 </td><td>-0.3410</td><td>0.7331 </td></tr>\n",
       "\t<tr><th scope=row>nfl</th><td>-0.3775</td><td>0.5100 </td><td>-0.7401</td><td>0.4592 </td></tr>\n",
       "</tbody>\n",
       "</table>\n"
      ],
      "text/latex": [
       "\\begin{tabular}{r|llll}\n",
       "  & Estimate & Std. Error & z value & Pr(>\\textbar{}z\\textbar{})\\\\\n",
       "\\hline\n",
       "\t(Intercept) & -0.3166 & 0.9284  & -0.3410 & 0.7331 \\\\\n",
       "\tnfl & -0.3775 & 0.5100  & -0.7401 & 0.4592 \\\\\n",
       "\\end{tabular}\n"
      ],
      "text/markdown": [
       "\n",
       "| <!--/--> | Estimate | Std. Error | z value | Pr(>|z|) | \n",
       "|---|---|\n",
       "| (Intercept) | -0.3166 | 0.9284  | -0.3410 | 0.7331  | \n",
       "| nfl | -0.3775 | 0.5100  | -0.7401 | 0.4592  | \n",
       "\n",
       "\n"
      ],
      "text/plain": [
       "            Estimate Std. Error z value Pr(>|z|)\n",
       "(Intercept) -0.3166  0.9284     -0.3410 0.7331  \n",
       "nfl         -0.3775  0.5100     -0.7401 0.4592  "
      ]
     },
     "metadata": {},
     "output_type": "display_data"
    },
    {
     "name": "stdout",
     "output_type": "stream",
     "text": [
      "[1] \"nfl gee\"\n"
     ]
    },
    {
     "data": {
      "text/html": [
       "<table>\n",
       "<thead><tr><th></th><th scope=col>Estimate</th><th scope=col>Std.err</th><th scope=col>Wald</th><th scope=col>Pr(&gt;|W|)</th></tr></thead>\n",
       "<tbody>\n",
       "\t<tr><th scope=row>(Intercept)</th><td>0.2825</td><td>1.1006</td><td>0.0659</td><td>0.7974</td></tr>\n",
       "\t<tr><th scope=row>nfl</th><td>0.4150</td><td>0.6124</td><td>0.4593</td><td>0.4980</td></tr>\n",
       "</tbody>\n",
       "</table>\n"
      ],
      "text/latex": [
       "\\begin{tabular}{r|llll}\n",
       "  & Estimate & Std.err & Wald & Pr(>\\textbar{}W\\textbar{})\\\\\n",
       "\\hline\n",
       "\t(Intercept) & 0.2825 & 1.1006 & 0.0659 & 0.7974\\\\\n",
       "\tnfl & 0.4150 & 0.6124 & 0.4593 & 0.4980\\\\\n",
       "\\end{tabular}\n"
      ],
      "text/markdown": [
       "\n",
       "| <!--/--> | Estimate | Std.err | Wald | Pr(>|W|) | \n",
       "|---|---|\n",
       "| (Intercept) | 0.2825 | 1.1006 | 0.0659 | 0.7974 | \n",
       "| nfl | 0.4150 | 0.6124 | 0.4593 | 0.4980 | \n",
       "\n",
       "\n"
      ],
      "text/plain": [
       "            Estimate Std.err Wald   Pr(>|W|)\n",
       "(Intercept) 0.2825   1.1006  0.0659 0.7974  \n",
       "nfl         0.4150   0.6124  0.4593 0.4980  "
      ]
     },
     "metadata": {},
     "output_type": "display_data"
    },
    {
     "name": "stdout",
     "output_type": "stream",
     "text": [
      "[1] \"nt1v\"\n"
     ]
    },
    {
     "name": "stderr",
     "output_type": "stream",
     "text": [
      "Warning message in checkConv(attr(opt, \"derivs\"), opt$par, ctrl = control$checkConv, :\n",
      "“Model failed to converge with max|grad| = 0.0159113 (tol = 0.001, component 1)”"
     ]
    },
    {
     "data": {
      "text/html": [
       "<table>\n",
       "<thead><tr><th></th><th scope=col>Estimate</th><th scope=col>Std. Error</th><th scope=col>z value</th><th scope=col>Pr(&gt;|z|)</th></tr></thead>\n",
       "<tbody>\n",
       "\t<tr><th scope=row>(Intercept)</th><td>-2.5880  </td><td>0.0044   </td><td>-585.9397</td><td>0        </td></tr>\n",
       "\t<tr><th scope=row>nt1v</th><td> 1.9876  </td><td>0.0044   </td><td> 450.1062</td><td>0        </td></tr>\n",
       "</tbody>\n",
       "</table>\n"
      ],
      "text/latex": [
       "\\begin{tabular}{r|llll}\n",
       "  & Estimate & Std. Error & z value & Pr(>\\textbar{}z\\textbar{})\\\\\n",
       "\\hline\n",
       "\t(Intercept) & -2.5880   & 0.0044    & -585.9397 & 0        \\\\\n",
       "\tnt1v &  1.9876   & 0.0044    &  450.1062 & 0        \\\\\n",
       "\\end{tabular}\n"
      ],
      "text/markdown": [
       "\n",
       "| <!--/--> | Estimate | Std. Error | z value | Pr(>|z|) | \n",
       "|---|---|\n",
       "| (Intercept) | -2.5880   | 0.0044    | -585.9397 | 0         | \n",
       "| nt1v |  1.9876   | 0.0044    |  450.1062 | 0         | \n",
       "\n",
       "\n"
      ],
      "text/plain": [
       "            Estimate Std. Error z value   Pr(>|z|)\n",
       "(Intercept) -2.5880  0.0044     -585.9397 0       \n",
       "nt1v         1.9876  0.0044      450.1062 0       "
      ]
     },
     "metadata": {},
     "output_type": "display_data"
    },
    {
     "name": "stdout",
     "output_type": "stream",
     "text": [
      "[1] \"nt1v gee\"\n"
     ]
    },
    {
     "data": {
      "text/html": [
       "<table>\n",
       "<thead><tr><th></th><th scope=col>Estimate</th><th scope=col>Std.err</th><th scope=col>Wald</th><th scope=col>Pr(&gt;|W|)</th></tr></thead>\n",
       "<tbody>\n",
       "\t<tr><th scope=row>(Intercept)</th><td> 2.4189</td><td>1.1061 </td><td>4.7826 </td><td>0.0287 </td></tr>\n",
       "\t<tr><th scope=row>nt1v</th><td>-1.7377</td><td>1.2596 </td><td>1.9032 </td><td>0.1677 </td></tr>\n",
       "</tbody>\n",
       "</table>\n"
      ],
      "text/latex": [
       "\\begin{tabular}{r|llll}\n",
       "  & Estimate & Std.err & Wald & Pr(>\\textbar{}W\\textbar{})\\\\\n",
       "\\hline\n",
       "\t(Intercept) &  2.4189 & 1.1061  & 4.7826  & 0.0287 \\\\\n",
       "\tnt1v & -1.7377 & 1.2596  & 1.9032  & 0.1677 \\\\\n",
       "\\end{tabular}\n"
      ],
      "text/markdown": [
       "\n",
       "| <!--/--> | Estimate | Std.err | Wald | Pr(>|W|) | \n",
       "|---|---|\n",
       "| (Intercept) |  2.4189 | 1.1061  | 4.7826  | 0.0287  | \n",
       "| nt1v | -1.7377 | 1.2596  | 1.9032  | 0.1677  | \n",
       "\n",
       "\n"
      ],
      "text/plain": [
       "            Estimate Std.err Wald   Pr(>|W|)\n",
       "(Intercept)  2.4189  1.1061  4.7826 0.0287  \n",
       "nt1v        -1.7377  1.2596  1.9032 0.1677  "
      ]
     },
     "metadata": {},
     "output_type": "display_data"
    },
    {
     "name": "stdout",
     "output_type": "stream",
     "text": [
      "[1] \"nt1c\"\n"
     ]
    },
    {
     "data": {
      "text/html": [
       "<table>\n",
       "<thead><tr><th></th><th scope=col>Estimate</th><th scope=col>Std. Error</th><th scope=col>z value</th><th scope=col>Pr(&gt;|z|)</th></tr></thead>\n",
       "<tbody>\n",
       "\t<tr><th scope=row>(Intercept)</th><td>-1.2991</td><td>1.1525 </td><td>-1.1271</td><td>0.2597 </td></tr>\n",
       "\t<tr><th scope=row>nt1c</th><td> 0.3657</td><td>1.3101 </td><td> 0.2792</td><td>0.7801 </td></tr>\n",
       "</tbody>\n",
       "</table>\n"
      ],
      "text/latex": [
       "\\begin{tabular}{r|llll}\n",
       "  & Estimate & Std. Error & z value & Pr(>\\textbar{}z\\textbar{})\\\\\n",
       "\\hline\n",
       "\t(Intercept) & -1.2991 & 1.1525  & -1.1271 & 0.2597 \\\\\n",
       "\tnt1c &  0.3657 & 1.3101  &  0.2792 & 0.7801 \\\\\n",
       "\\end{tabular}\n"
      ],
      "text/markdown": [
       "\n",
       "| <!--/--> | Estimate | Std. Error | z value | Pr(>|z|) | \n",
       "|---|---|\n",
       "| (Intercept) | -1.2991 | 1.1525  | -1.1271 | 0.2597  | \n",
       "| nt1c |  0.3657 | 1.3101  |  0.2792 | 0.7801  | \n",
       "\n",
       "\n"
      ],
      "text/plain": [
       "            Estimate Std. Error z value Pr(>|z|)\n",
       "(Intercept) -1.2991  1.1525     -1.1271 0.2597  \n",
       "nt1c         0.3657  1.3101      0.2792 0.7801  "
      ]
     },
     "metadata": {},
     "output_type": "display_data"
    },
    {
     "name": "stdout",
     "output_type": "stream",
     "text": [
      "[1] \"nt1c gee\"\n"
     ]
    },
    {
     "data": {
      "text/html": [
       "<table>\n",
       "<thead><tr><th></th><th scope=col>Estimate</th><th scope=col>Std.err</th><th scope=col>Wald</th><th scope=col>Pr(&gt;|W|)</th></tr></thead>\n",
       "<tbody>\n",
       "\t<tr><th scope=row>(Intercept)</th><td> 1.0820</td><td>1.0137 </td><td>1.1393 </td><td>0.2858 </td></tr>\n",
       "\t<tr><th scope=row>nt1c</th><td>-0.0717</td><td>1.1632 </td><td>0.0038 </td><td>0.9509 </td></tr>\n",
       "</tbody>\n",
       "</table>\n"
      ],
      "text/latex": [
       "\\begin{tabular}{r|llll}\n",
       "  & Estimate & Std.err & Wald & Pr(>\\textbar{}W\\textbar{})\\\\\n",
       "\\hline\n",
       "\t(Intercept) &  1.0820 & 1.0137  & 1.1393  & 0.2858 \\\\\n",
       "\tnt1c & -0.0717 & 1.1632  & 0.0038  & 0.9509 \\\\\n",
       "\\end{tabular}\n"
      ],
      "text/markdown": [
       "\n",
       "| <!--/--> | Estimate | Std.err | Wald | Pr(>|W|) | \n",
       "|---|---|\n",
       "| (Intercept) |  1.0820 | 1.0137  | 1.1393  | 0.2858  | \n",
       "| nt1c | -0.0717 | 1.1632  | 0.0038  | 0.9509  | \n",
       "\n",
       "\n"
      ],
      "text/plain": [
       "            Estimate Std.err Wald   Pr(>|W|)\n",
       "(Intercept)  1.0820  1.0137  1.1393 0.2858  \n",
       "nt1c        -0.0717  1.1632  0.0038 0.9509  "
      ]
     },
     "metadata": {},
     "output_type": "display_data"
    },
    {
     "name": "stdout",
     "output_type": "stream",
     "text": [
      "[1] \"nt1d\"\n"
     ]
    },
    {
     "data": {
      "text/html": [
       "<table>\n",
       "<thead><tr><th></th><th scope=col>Estimate</th><th scope=col>Std. Error</th><th scope=col>z value</th><th scope=col>Pr(&gt;|z|)</th></tr></thead>\n",
       "<tbody>\n",
       "\t<tr><th scope=row>(Intercept)</th><td>-0.8942</td><td>0.2465 </td><td>-3.6278</td><td>0.0003 </td></tr>\n",
       "\t<tr><th scope=row>nt1d</th><td> 0.3541</td><td>0.7063 </td><td> 0.5013</td><td>0.6162 </td></tr>\n",
       "</tbody>\n",
       "</table>\n"
      ],
      "text/latex": [
       "\\begin{tabular}{r|llll}\n",
       "  & Estimate & Std. Error & z value & Pr(>\\textbar{}z\\textbar{})\\\\\n",
       "\\hline\n",
       "\t(Intercept) & -0.8942 & 0.2465  & -3.6278 & 0.0003 \\\\\n",
       "\tnt1d &  0.3541 & 0.7063  &  0.5013 & 0.6162 \\\\\n",
       "\\end{tabular}\n"
      ],
      "text/markdown": [
       "\n",
       "| <!--/--> | Estimate | Std. Error | z value | Pr(>|z|) | \n",
       "|---|---|\n",
       "| (Intercept) | -0.8942 | 0.2465  | -3.6278 | 0.0003  | \n",
       "| nt1d |  0.3541 | 0.7063  |  0.5013 | 0.6162  | \n",
       "\n",
       "\n"
      ],
      "text/plain": [
       "            Estimate Std. Error z value Pr(>|z|)\n",
       "(Intercept) -0.8942  0.2465     -3.6278 0.0003  \n",
       "nt1d         0.3541  0.7063      0.5013 0.6162  "
      ]
     },
     "metadata": {},
     "output_type": "display_data"
    },
    {
     "name": "stdout",
     "output_type": "stream",
     "text": [
      "[1] \"nt1d gee\"\n"
     ]
    },
    {
     "data": {
      "text/html": [
       "<table>\n",
       "<thead><tr><th></th><th scope=col>Estimate</th><th scope=col>Std.err</th><th scope=col>Wald</th><th scope=col>Pr(&gt;|W|)</th></tr></thead>\n",
       "<tbody>\n",
       "\t<tr><th scope=row>(Intercept)</th><td> 0.9401</td><td>0.2077 </td><td>20.4847</td><td>0.0000 </td></tr>\n",
       "\t<tr><th scope=row>nt1d</th><td>-0.4188</td><td>0.5533 </td><td> 0.5729</td><td>0.4491 </td></tr>\n",
       "</tbody>\n",
       "</table>\n"
      ],
      "text/latex": [
       "\\begin{tabular}{r|llll}\n",
       "  & Estimate & Std.err & Wald & Pr(>\\textbar{}W\\textbar{})\\\\\n",
       "\\hline\n",
       "\t(Intercept) &  0.9401 & 0.2077  & 20.4847 & 0.0000 \\\\\n",
       "\tnt1d & -0.4188 & 0.5533  &  0.5729 & 0.4491 \\\\\n",
       "\\end{tabular}\n"
      ],
      "text/markdown": [
       "\n",
       "| <!--/--> | Estimate | Std.err | Wald | Pr(>|W|) | \n",
       "|---|---|\n",
       "| (Intercept) |  0.9401 | 0.2077  | 20.4847 | 0.0000  | \n",
       "| nt1d | -0.4188 | 0.5533  |  0.5729 | 0.4491  | \n",
       "\n",
       "\n"
      ],
      "text/plain": [
       "            Estimate Std.err Wald    Pr(>|W|)\n",
       "(Intercept)  0.9401  0.2077  20.4847 0.0000  \n",
       "nt1d        -0.4188  0.5533   0.5729 0.4491  "
      ]
     },
     "metadata": {},
     "output_type": "display_data"
    }
   ],
   "source": [
    "print('ANATOMICAL:')\n",
    "print('nfse glmm')\n",
    "nfse.glmm.fit = glmer(outcome ~ nfse + (1|t_number_x), data = recgli, family=\"binomial\")\n",
    "round(summary(nfse.glmm.fit)$coefficients, 4) \n",
    "print('nfse gee')\n",
    "nfse.gee.fit = geeglm(txe_rhgg ~ nfse, data = recgli, id = factor(t_number_x), family = binomial, corstr = \"exchangeable\")\n",
    "round(summary(nfse.gee.fit)$coefficients, 4)\n",
    "print('nfl')\n",
    "nfl.glmm.fit = glmer(outcome ~ nfl + (1|t_number_x), data = recgli, family=\"binomial\")\n",
    "round(summary(nfl.glmm.fit)$coefficients, 4) \n",
    "print('nfl gee')\n",
    "nfl.gee.fit = geeglm(txe_rhgg ~ nfl, data = recgli, id = factor(t_number_x), family = binomial, corstr = \"exchangeable\")\n",
    "round(summary(nfl.gee.fit)$coefficients, 4)\n",
    "print('nt1v')\n",
    "nt1v.glmm.fit = glmer(outcome ~ nt1v + (1|t_number_x), data = recgli, family=\"binomial\")\n",
    "round(summary(nt1v.glmm.fit)$coefficients, 4) \n",
    "print('nt1v gee')\n",
    "nt1v.gee.fit = geeglm(txe_rhgg ~ nt1v, data = recgli[!is.na(recgli$nt1v),], id = factor(t_number_x), family = binomial, corstr = \"exchangeable\")\n",
    "round(summary(nt1v.gee.fit)$coefficients, 4)\n",
    "print('nt1c')\n",
    "nt1c.glmm.fit = glmer(outcome ~ nt1c + (1|t_number_x), data = recgli, family=\"binomial\")\n",
    "round(summary(nt1c.glmm.fit)$coefficients, 4) \n",
    "print('nt1c gee')\n",
    "nt1c.gee.fit = geeglm(txe_rhgg ~ nt1c, data = recgli, id = factor(t_number_x), family = binomial, corstr = \"exchangeable\")\n",
    "round(summary(nt1c.gee.fit)$coefficients, 4)\n",
    "print('nt1d')\n",
    "nt1d.glmm.fit = glmer(outcome ~ nt1d + (1|t_number_x), data = recgli, family=\"binomial\")\n",
    "round(summary(nt1d.glmm.fit)$coefficients, 4) \n",
    "print('nt1d gee')\n",
    "nt1d.gee.fit = geeglm(txe_rhgg ~ nt1d, data = recgli[!is.na(recgli$nt1d),], id = factor(t_number_x), family = binomial, corstr = \"exchangeable\")\n",
    "round(summary(nt1d.gee.fit)$coefficients, 4)"
   ]
  },
  {
   "cell_type": "code",
   "execution_count": 24,
   "metadata": {},
   "outputs": [],
   "source": [
    "nt1d.gee.fit = geeglm(txe_rhgg ~ nt1d, \n",
    "                      data = recgli[!is.na(recgli$nt1d),], \n",
    "                      id = factor(t_number_x), \n",
    "                      family = binomial, corstr = \"exchangeable\")\n"
   ]
  },
  {
   "cell_type": "code",
   "execution_count": 25,
   "metadata": {},
   "outputs": [
    {
     "name": "stdout",
     "output_type": "stream",
     "text": [
      "[1] \"Diffusion:\"\n",
      "[1] \"nadc.1\"\n"
     ]
    },
    {
     "data": {
      "text/html": [
       "<table>\n",
       "<thead><tr><th></th><th scope=col>Estimate</th><th scope=col>Std. Error</th><th scope=col>z value</th><th scope=col>Pr(&gt;|z|)</th></tr></thead>\n",
       "<tbody>\n",
       "\t<tr><th scope=row>(Intercept)</th><td>-0.6295</td><td>0.7430 </td><td>-0.8473</td><td>0.3968 </td></tr>\n",
       "\t<tr><th scope=row>nadc.1</th><td>-0.1972</td><td>0.4089 </td><td>-0.4823</td><td>0.6296 </td></tr>\n",
       "</tbody>\n",
       "</table>\n"
      ],
      "text/latex": [
       "\\begin{tabular}{r|llll}\n",
       "  & Estimate & Std. Error & z value & Pr(>\\textbar{}z\\textbar{})\\\\\n",
       "\\hline\n",
       "\t(Intercept) & -0.6295 & 0.7430  & -0.8473 & 0.3968 \\\\\n",
       "\tnadc.1 & -0.1972 & 0.4089  & -0.4823 & 0.6296 \\\\\n",
       "\\end{tabular}\n"
      ],
      "text/markdown": [
       "\n",
       "| <!--/--> | Estimate | Std. Error | z value | Pr(>|z|) | \n",
       "|---|---|\n",
       "| (Intercept) | -0.6295 | 0.7430  | -0.8473 | 0.3968  | \n",
       "| nadc.1 | -0.1972 | 0.4089  | -0.4823 | 0.6296  | \n",
       "\n",
       "\n"
      ],
      "text/plain": [
       "            Estimate Std. Error z value Pr(>|z|)\n",
       "(Intercept) -0.6295  0.7430     -0.8473 0.3968  \n",
       "nadc.1      -0.1972  0.4089     -0.4823 0.6296  "
      ]
     },
     "metadata": {},
     "output_type": "display_data"
    },
    {
     "name": "stdout",
     "output_type": "stream",
     "text": [
      "[1] \"nadc.1 gee\"\n"
     ]
    },
    {
     "data": {
      "text/html": [
       "<table>\n",
       "<thead><tr><th></th><th scope=col>Estimate</th><th scope=col>Std.err</th><th scope=col>Wald</th><th scope=col>Pr(&gt;|W|)</th></tr></thead>\n",
       "<tbody>\n",
       "\t<tr><th scope=row>(Intercept)</th><td>0.7387</td><td>0.6444</td><td>1.3143</td><td>0.2516</td></tr>\n",
       "\t<tr><th scope=row>nadc.1</th><td>0.1474</td><td>0.3444</td><td>0.1832</td><td>0.6686</td></tr>\n",
       "</tbody>\n",
       "</table>\n"
      ],
      "text/latex": [
       "\\begin{tabular}{r|llll}\n",
       "  & Estimate & Std.err & Wald & Pr(>\\textbar{}W\\textbar{})\\\\\n",
       "\\hline\n",
       "\t(Intercept) & 0.7387 & 0.6444 & 1.3143 & 0.2516\\\\\n",
       "\tnadc.1 & 0.1474 & 0.3444 & 0.1832 & 0.6686\\\\\n",
       "\\end{tabular}\n"
      ],
      "text/markdown": [
       "\n",
       "| <!--/--> | Estimate | Std.err | Wald | Pr(>|W|) | \n",
       "|---|---|\n",
       "| (Intercept) | 0.7387 | 0.6444 | 1.3143 | 0.2516 | \n",
       "| nadc.1 | 0.1474 | 0.3444 | 0.1832 | 0.6686 | \n",
       "\n",
       "\n"
      ],
      "text/plain": [
       "            Estimate Std.err Wald   Pr(>|W|)\n",
       "(Intercept) 0.7387   0.6444  1.3143 0.2516  \n",
       "nadc.1      0.1474   0.3444  0.1832 0.6686  "
      ]
     },
     "metadata": {},
     "output_type": "display_data"
    },
    {
     "name": "stdout",
     "output_type": "stream",
     "text": [
      "[1] \"nfa.1\"\n"
     ]
    },
    {
     "data": {
      "text/html": [
       "<table>\n",
       "<thead><tr><th></th><th scope=col>Estimate</th><th scope=col>Std. Error</th><th scope=col>z value</th><th scope=col>Pr(&gt;|z|)</th></tr></thead>\n",
       "<tbody>\n",
       "\t<tr><th scope=row>(Intercept)</th><td>-1.3414</td><td>0.6172 </td><td>-2.1733</td><td>0.0298 </td></tr>\n",
       "\t<tr><th scope=row>nfa.1</th><td> 0.4725</td><td>0.7019 </td><td> 0.6732</td><td>0.5008 </td></tr>\n",
       "</tbody>\n",
       "</table>\n"
      ],
      "text/latex": [
       "\\begin{tabular}{r|llll}\n",
       "  & Estimate & Std. Error & z value & Pr(>\\textbar{}z\\textbar{})\\\\\n",
       "\\hline\n",
       "\t(Intercept) & -1.3414 & 0.6172  & -2.1733 & 0.0298 \\\\\n",
       "\tnfa.1 &  0.4725 & 0.7019  &  0.6732 & 0.5008 \\\\\n",
       "\\end{tabular}\n"
      ],
      "text/markdown": [
       "\n",
       "| <!--/--> | Estimate | Std. Error | z value | Pr(>|z|) | \n",
       "|---|---|\n",
       "| (Intercept) | -1.3414 | 0.6172  | -2.1733 | 0.0298  | \n",
       "| nfa.1 |  0.4725 | 0.7019  |  0.6732 | 0.5008  | \n",
       "\n",
       "\n"
      ],
      "text/plain": [
       "            Estimate Std. Error z value Pr(>|z|)\n",
       "(Intercept) -1.3414  0.6172     -2.1733 0.0298  \n",
       "nfa.1        0.4725  0.7019      0.6732 0.5008  "
      ]
     },
     "metadata": {},
     "output_type": "display_data"
    },
    {
     "name": "stdout",
     "output_type": "stream",
     "text": [
      "[1] \"nfa.1 gee\"\n"
     ]
    },
    {
     "data": {
      "text/html": [
       "<table>\n",
       "<thead><tr><th></th><th scope=col>Estimate</th><th scope=col>Std.err</th><th scope=col>Wald</th><th scope=col>Pr(&gt;|W|)</th></tr></thead>\n",
       "<tbody>\n",
       "\t<tr><th scope=row>(Intercept)</th><td> 1.2966</td><td>0.5243 </td><td>6.1168 </td><td>0.0134 </td></tr>\n",
       "\t<tr><th scope=row>nfa.1</th><td>-0.3736</td><td>0.5997 </td><td>0.3881 </td><td>0.5333 </td></tr>\n",
       "</tbody>\n",
       "</table>\n"
      ],
      "text/latex": [
       "\\begin{tabular}{r|llll}\n",
       "  & Estimate & Std.err & Wald & Pr(>\\textbar{}W\\textbar{})\\\\\n",
       "\\hline\n",
       "\t(Intercept) &  1.2966 & 0.5243  & 6.1168  & 0.0134 \\\\\n",
       "\tnfa.1 & -0.3736 & 0.5997  & 0.3881  & 0.5333 \\\\\n",
       "\\end{tabular}\n"
      ],
      "text/markdown": [
       "\n",
       "| <!--/--> | Estimate | Std.err | Wald | Pr(>|W|) | \n",
       "|---|---|\n",
       "| (Intercept) |  1.2966 | 0.5243  | 6.1168  | 0.0134  | \n",
       "| nfa.1 | -0.3736 | 0.5997  | 0.3881  | 0.5333  | \n",
       "\n",
       "\n"
      ],
      "text/plain": [
       "            Estimate Std.err Wald   Pr(>|W|)\n",
       "(Intercept)  1.2966  0.5243  6.1168 0.0134  \n",
       "nfa.1       -0.3736  0.5997  0.3881 0.5333  "
      ]
     },
     "metadata": {},
     "output_type": "display_data"
    },
    {
     "name": "stdout",
     "output_type": "stream",
     "text": [
      "[1] \"nev1.1\"\n"
     ]
    },
    {
     "name": "stderr",
     "output_type": "stream",
     "text": [
      "Warning message in checkConv(attr(opt, \"derivs\"), opt$par, ctrl = control$checkConv, :\n",
      "“Model failed to converge with max|grad| = 0.0173909 (tol = 0.001, component 1)”"
     ]
    },
    {
     "data": {
      "text/html": [
       "<table>\n",
       "<thead><tr><th></th><th scope=col>Estimate</th><th scope=col>Std. Error</th><th scope=col>z value</th><th scope=col>Pr(&gt;|z|)</th></tr></thead>\n",
       "<tbody>\n",
       "\t<tr><th scope=row>(Intercept)</th><td>-0.5383  </td><td>0.0041   </td><td>-132.3005</td><td>0        </td></tr>\n",
       "\t<tr><th scope=row>nev1.1</th><td>-0.2588  </td><td>0.0041   </td><td> -63.5910</td><td>0        </td></tr>\n",
       "</tbody>\n",
       "</table>\n"
      ],
      "text/latex": [
       "\\begin{tabular}{r|llll}\n",
       "  & Estimate & Std. Error & z value & Pr(>\\textbar{}z\\textbar{})\\\\\n",
       "\\hline\n",
       "\t(Intercept) & -0.5383   & 0.0041    & -132.3005 & 0        \\\\\n",
       "\tnev1.1 & -0.2588   & 0.0041    &  -63.5910 & 0        \\\\\n",
       "\\end{tabular}\n"
      ],
      "text/markdown": [
       "\n",
       "| <!--/--> | Estimate | Std. Error | z value | Pr(>|z|) | \n",
       "|---|---|\n",
       "| (Intercept) | -0.5383   | 0.0041    | -132.3005 | 0         | \n",
       "| nev1.1 | -0.2588   | 0.0041    |  -63.5910 | 0         | \n",
       "\n",
       "\n"
      ],
      "text/plain": [
       "            Estimate Std. Error z value   Pr(>|z|)\n",
       "(Intercept) -0.5383  0.0041     -132.3005 0       \n",
       "nev1.1      -0.2588  0.0041      -63.5910 0       "
      ]
     },
     "metadata": {},
     "output_type": "display_data"
    },
    {
     "name": "stdout",
     "output_type": "stream",
     "text": [
      "[1] \"nev1.1 gee\"\n"
     ]
    },
    {
     "data": {
      "text/html": [
       "<table>\n",
       "<thead><tr><th></th><th scope=col>Estimate</th><th scope=col>Std.err</th><th scope=col>Wald</th><th scope=col>Pr(&gt;|W|)</th></tr></thead>\n",
       "<tbody>\n",
       "\t<tr><th scope=row>(Intercept)</th><td>0.5982</td><td>0.6946</td><td>0.7416</td><td>0.3891</td></tr>\n",
       "\t<tr><th scope=row>nev1.1</th><td>0.2499</td><td>0.4524</td><td>0.3052</td><td>0.5807</td></tr>\n",
       "</tbody>\n",
       "</table>\n"
      ],
      "text/latex": [
       "\\begin{tabular}{r|llll}\n",
       "  & Estimate & Std.err & Wald & Pr(>\\textbar{}W\\textbar{})\\\\\n",
       "\\hline\n",
       "\t(Intercept) & 0.5982 & 0.6946 & 0.7416 & 0.3891\\\\\n",
       "\tnev1.1 & 0.2499 & 0.4524 & 0.3052 & 0.5807\\\\\n",
       "\\end{tabular}\n"
      ],
      "text/markdown": [
       "\n",
       "| <!--/--> | Estimate | Std.err | Wald | Pr(>|W|) | \n",
       "|---|---|\n",
       "| (Intercept) | 0.5982 | 0.6946 | 0.7416 | 0.3891 | \n",
       "| nev1.1 | 0.2499 | 0.4524 | 0.3052 | 0.5807 | \n",
       "\n",
       "\n"
      ],
      "text/plain": [
       "            Estimate Std.err Wald   Pr(>|W|)\n",
       "(Intercept) 0.5982   0.6946  0.7416 0.3891  \n",
       "nev1.1      0.2499   0.4524  0.3052 0.5807  "
      ]
     },
     "metadata": {},
     "output_type": "display_data"
    },
    {
     "name": "stdout",
     "output_type": "stream",
     "text": [
      "[1] \"nev2.1\"\n"
     ]
    },
    {
     "name": "stderr",
     "output_type": "stream",
     "text": [
      "Warning message in checkConv(attr(opt, \"derivs\"), opt$par, ctrl = control$checkConv, :\n",
      "“Model failed to converge with max|grad| = 0.0172709 (tol = 0.001, component 1)”"
     ]
    },
    {
     "data": {
      "text/html": [
       "<table>\n",
       "<thead><tr><th></th><th scope=col>Estimate</th><th scope=col>Std. Error</th><th scope=col>z value</th><th scope=col>Pr(&gt;|z|)</th></tr></thead>\n",
       "<tbody>\n",
       "\t<tr><th scope=row>(Intercept)</th><td>-0.4904  </td><td>0.0041   </td><td>-119.7101</td><td>0        </td></tr>\n",
       "\t<tr><th scope=row>nev2.1</th><td>-0.2598  </td><td>0.0041   </td><td> -63.3791</td><td>0        </td></tr>\n",
       "</tbody>\n",
       "</table>\n"
      ],
      "text/latex": [
       "\\begin{tabular}{r|llll}\n",
       "  & Estimate & Std. Error & z value & Pr(>\\textbar{}z\\textbar{})\\\\\n",
       "\\hline\n",
       "\t(Intercept) & -0.4904   & 0.0041    & -119.7101 & 0        \\\\\n",
       "\tnev2.1 & -0.2598   & 0.0041    &  -63.3791 & 0        \\\\\n",
       "\\end{tabular}\n"
      ],
      "text/markdown": [
       "\n",
       "| <!--/--> | Estimate | Std. Error | z value | Pr(>|z|) | \n",
       "|---|---|\n",
       "| (Intercept) | -0.4904   | 0.0041    | -119.7101 | 0         | \n",
       "| nev2.1 | -0.2598   | 0.0041    |  -63.3791 | 0         | \n",
       "\n",
       "\n"
      ],
      "text/plain": [
       "            Estimate Std. Error z value   Pr(>|z|)\n",
       "(Intercept) -0.4904  0.0041     -119.7101 0       \n",
       "nev2.1      -0.2598  0.0041      -63.3791 0       "
      ]
     },
     "metadata": {},
     "output_type": "display_data"
    },
    {
     "name": "stdout",
     "output_type": "stream",
     "text": [
      "[1] \"nev2.1 gee\"\n"
     ]
    },
    {
     "data": {
      "text/html": [
       "<table>\n",
       "<thead><tr><th></th><th scope=col>Estimate</th><th scope=col>Std.err</th><th scope=col>Wald</th><th scope=col>Pr(&gt;|W|)</th></tr></thead>\n",
       "<tbody>\n",
       "\t<tr><th scope=row>(Intercept)</th><td>0.561 </td><td>0.5841</td><td>0.9223</td><td>0.3369</td></tr>\n",
       "\t<tr><th scope=row>nev2.1</th><td>0.246 </td><td>0.3270</td><td>0.5658</td><td>0.4519</td></tr>\n",
       "</tbody>\n",
       "</table>\n"
      ],
      "text/latex": [
       "\\begin{tabular}{r|llll}\n",
       "  & Estimate & Std.err & Wald & Pr(>\\textbar{}W\\textbar{})\\\\\n",
       "\\hline\n",
       "\t(Intercept) & 0.561  & 0.5841 & 0.9223 & 0.3369\\\\\n",
       "\tnev2.1 & 0.246  & 0.3270 & 0.5658 & 0.4519\\\\\n",
       "\\end{tabular}\n"
      ],
      "text/markdown": [
       "\n",
       "| <!--/--> | Estimate | Std.err | Wald | Pr(>|W|) | \n",
       "|---|---|\n",
       "| (Intercept) | 0.561  | 0.5841 | 0.9223 | 0.3369 | \n",
       "| nev2.1 | 0.246  | 0.3270 | 0.5658 | 0.4519 | \n",
       "\n",
       "\n"
      ],
      "text/plain": [
       "            Estimate Std.err Wald   Pr(>|W|)\n",
       "(Intercept) 0.561    0.5841  0.9223 0.3369  \n",
       "nev2.1      0.246    0.3270  0.5658 0.4519  "
      ]
     },
     "metadata": {},
     "output_type": "display_data"
    },
    {
     "name": "stdout",
     "output_type": "stream",
     "text": [
      "[1] \"nevrad.1\"\n"
     ]
    },
    {
     "data": {
      "text/html": [
       "<table>\n",
       "<thead><tr><th></th><th scope=col>Estimate</th><th scope=col>Std. Error</th><th scope=col>z value</th><th scope=col>Pr(&gt;|z|)</th></tr></thead>\n",
       "<tbody>\n",
       "\t<tr><th scope=row>(Intercept)</th><td>-0.5982</td><td>0.6405 </td><td>-0.9340</td><td>0.3503 </td></tr>\n",
       "\t<tr><th scope=row>nevrad.1</th><td>-0.1920</td><td>0.3690 </td><td>-0.5204</td><td>0.6028 </td></tr>\n",
       "</tbody>\n",
       "</table>\n"
      ],
      "text/latex": [
       "\\begin{tabular}{r|llll}\n",
       "  & Estimate & Std. Error & z value & Pr(>\\textbar{}z\\textbar{})\\\\\n",
       "\\hline\n",
       "\t(Intercept) & -0.5982 & 0.6405  & -0.9340 & 0.3503 \\\\\n",
       "\tnevrad.1 & -0.1920 & 0.3690  & -0.5204 & 0.6028 \\\\\n",
       "\\end{tabular}\n"
      ],
      "text/markdown": [
       "\n",
       "| <!--/--> | Estimate | Std. Error | z value | Pr(>|z|) | \n",
       "|---|---|\n",
       "| (Intercept) | -0.5982 | 0.6405  | -0.9340 | 0.3503  | \n",
       "| nevrad.1 | -0.1920 | 0.3690  | -0.5204 | 0.6028  | \n",
       "\n",
       "\n"
      ],
      "text/plain": [
       "            Estimate Std. Error z value Pr(>|z|)\n",
       "(Intercept) -0.5982  0.6405     -0.9340 0.3503  \n",
       "nevrad.1    -0.1920  0.3690     -0.5204 0.6028  "
      ]
     },
     "metadata": {},
     "output_type": "display_data"
    },
    {
     "name": "stdout",
     "output_type": "stream",
     "text": [
      "[1] \"nevrad.1 gee\"\n"
     ]
    },
    {
     "data": {
      "text/html": [
       "<table>\n",
       "<thead><tr><th></th><th scope=col>Estimate</th><th scope=col>Std.err</th><th scope=col>Wald</th><th scope=col>Pr(&gt;|W|)</th></tr></thead>\n",
       "<tbody>\n",
       "\t<tr><th scope=row>(Intercept)</th><td>0.7062</td><td>0.5364</td><td>1.7333</td><td>0.188 </td></tr>\n",
       "\t<tr><th scope=row>nevrad.1</th><td>0.1556</td><td>0.2967</td><td>0.2750</td><td>0.600 </td></tr>\n",
       "</tbody>\n",
       "</table>\n"
      ],
      "text/latex": [
       "\\begin{tabular}{r|llll}\n",
       "  & Estimate & Std.err & Wald & Pr(>\\textbar{}W\\textbar{})\\\\\n",
       "\\hline\n",
       "\t(Intercept) & 0.7062 & 0.5364 & 1.7333 & 0.188 \\\\\n",
       "\tnevrad.1 & 0.1556 & 0.2967 & 0.2750 & 0.600 \\\\\n",
       "\\end{tabular}\n"
      ],
      "text/markdown": [
       "\n",
       "| <!--/--> | Estimate | Std.err | Wald | Pr(>|W|) | \n",
       "|---|---|\n",
       "| (Intercept) | 0.7062 | 0.5364 | 1.7333 | 0.188  | \n",
       "| nevrad.1 | 0.1556 | 0.2967 | 0.2750 | 0.600  | \n",
       "\n",
       "\n"
      ],
      "text/plain": [
       "            Estimate Std.err Wald   Pr(>|W|)\n",
       "(Intercept) 0.7062   0.5364  1.7333 0.188   \n",
       "nevrad.1    0.1556   0.2967  0.2750 0.600   "
      ]
     },
     "metadata": {},
     "output_type": "display_data"
    }
   ],
   "source": [
    "print('Diffusion:')\n",
    "print('nadc.1')\n",
    "nadc.1.glmm.fit = glmer(outcome ~ nadc.1 + (1|t_number_x), data = recgli, family=\"binomial\")\n",
    "round(summary(nadc.1.glmm.fit)$coefficients, 4) \n",
    "print('nadc.1 gee')\n",
    "nadc.1.gee.fit = geeglm(txe_rhgg ~ nadc.1, data = recgli[!is.na(recgli$nadc.1),], id = factor(t_number_x), family = binomial, corstr = \"exchangeable\")\n",
    "round(summary(nadc.1.gee.fit)$coefficients, 4)\n",
    "print('nfa.1')\n",
    "nfa.1.glmm.fit = glmer(outcome ~ nfa.1 + (1|t_number_x), data = recgli, family=\"binomial\")\n",
    "round(summary(nfa.1.glmm.fit)$coefficients, 4) \n",
    "print('nfa.1 gee')\n",
    "nfa.1.gee.fit = geeglm(txe_rhgg ~ nfa.1, data = recgli[!is.na(recgli$nfa.1),], id = factor(t_number_x), family = binomial, corstr = \"exchangeable\")\n",
    "round(summary(nfa.1.gee.fit)$coefficients, 4)\n",
    "print('nev1.1')\n",
    "nev1.1.glmm.fit = glmer(outcome ~ nev1.1 + (1|t_number_x), data = recgli, family=\"binomial\")\n",
    "round(summary(nev1.1.glmm.fit)$coefficients, 4) \n",
    "print('nev1.1 gee')\n",
    "nev1.1.gee.fit = geeglm(txe_rhgg ~ nev1.1, data = recgli[!is.na(recgli$nev1.1),], id = factor(t_number_x), family = binomial, corstr = \"exchangeable\")\n",
    "round(summary(nev1.1.gee.fit)$coefficients, 4)\n",
    "print('nev2.1')\n",
    "nev2.1.glmm.fit = glmer(outcome ~ nev2.1 + (1|t_number_x), data = recgli, family=\"binomial\")\n",
    "round(summary(nev2.1.glmm.fit)$coefficients, 4) \n",
    "print('nev2.1 gee')\n",
    "nev2.1.gee.fit = geeglm(txe_rhgg ~ nev2.1, data = recgli[!is.na(recgli$nev2.1),], id = factor(t_number_x), family = binomial, corstr = \"exchangeable\")\n",
    "round(summary(nev2.1.gee.fit)$coefficients, 4)\n",
    "print(\"nevrad.1\")\n",
    "nevrad.1.glmm.fit = glmer(outcome ~ nevrad.1 + (1|t_number_x), data = recgli, family=\"binomial\")\n",
    "round(summary(nevrad.1.glmm.fit)$coefficients, 4) \n",
    "print('nevrad.1 gee')\n",
    "nevrad.1.gee.fit = geeglm(txe_rhgg ~ nevrad.1, data = recgli[!is.na(recgli$nevrad.1),], id = factor(t_number_x), family = binomial, corstr = \"exchangeable\")\n",
    "round(summary(nevrad.1.gee.fit)$coefficients, 4)"
   ]
  },
  {
   "cell_type": "code",
   "execution_count": 26,
   "metadata": {},
   "outputs": [
    {
     "data": {
      "text/plain": [
       "\n",
       "rHGG  txe \n",
       "  91   33 "
      ]
     },
     "metadata": {},
     "output_type": "display_data"
    }
   ],
   "source": [
    "table(recgli$outcome)"
   ]
  },
  {
   "cell_type": "code",
   "execution_count": 27,
   "metadata": {},
   "outputs": [
    {
     "name": "stdout",
     "output_type": "stream",
     "text": [
      "[1] \"Perfusion:\"\n",
      "[1] \"cbvn_nlin\"  \"phn_nlin\"   \"recov_nlin\" \"phn_npar\"   \"recov_npar\"\n",
      "[1] \"cbvn_nlin\"\n"
     ]
    },
    {
     "data": {
      "text/html": [
       "<table>\n",
       "<thead><tr><th></th><th scope=col>Estimate</th><th scope=col>Std. Error</th><th scope=col>z value</th><th scope=col>Pr(&gt;|z|)</th></tr></thead>\n",
       "<tbody>\n",
       "\t<tr><th scope=row>(Intercept)</th><td>-0.7535</td><td>0.5161 </td><td>-1.4599</td><td>0.1443 </td></tr>\n",
       "\t<tr><th scope=row>cbvn_nlin</th><td>-0.2195</td><td>0.3791 </td><td>-0.5789</td><td>0.5626 </td></tr>\n",
       "</tbody>\n",
       "</table>\n"
      ],
      "text/latex": [
       "\\begin{tabular}{r|llll}\n",
       "  & Estimate & Std. Error & z value & Pr(>\\textbar{}z\\textbar{})\\\\\n",
       "\\hline\n",
       "\t(Intercept) & -0.7535 & 0.5161  & -1.4599 & 0.1443 \\\\\n",
       "\tcbvn\\_nlin & -0.2195 & 0.3791  & -0.5789 & 0.5626 \\\\\n",
       "\\end{tabular}\n"
      ],
      "text/markdown": [
       "\n",
       "| <!--/--> | Estimate | Std. Error | z value | Pr(>|z|) | \n",
       "|---|---|\n",
       "| (Intercept) | -0.7535 | 0.5161  | -1.4599 | 0.1443  | \n",
       "| cbvn_nlin | -0.2195 | 0.3791  | -0.5789 | 0.5626  | \n",
       "\n",
       "\n"
      ],
      "text/plain": [
       "            Estimate Std. Error z value Pr(>|z|)\n",
       "(Intercept) -0.7535  0.5161     -1.4599 0.1443  \n",
       "cbvn_nlin   -0.2195  0.3791     -0.5789 0.5626  "
      ]
     },
     "metadata": {},
     "output_type": "display_data"
    },
    {
     "name": "stdout",
     "output_type": "stream",
     "text": [
      "[1] \"cbvn_nlin gee\"\n"
     ]
    },
    {
     "data": {
      "text/html": [
       "<table>\n",
       "<thead><tr><th></th><th scope=col>Estimate</th><th scope=col>Std.err</th><th scope=col>Wald</th><th scope=col>Pr(&gt;|W|)</th></tr></thead>\n",
       "<tbody>\n",
       "\t<tr><th scope=row>(Intercept)</th><td>0.7271</td><td>0.3853</td><td>3.5614</td><td>0.0591</td></tr>\n",
       "\t<tr><th scope=row>cbvn_nlin</th><td>0.1847</td><td>0.2671</td><td>0.4785</td><td>0.4891</td></tr>\n",
       "</tbody>\n",
       "</table>\n"
      ],
      "text/latex": [
       "\\begin{tabular}{r|llll}\n",
       "  & Estimate & Std.err & Wald & Pr(>\\textbar{}W\\textbar{})\\\\\n",
       "\\hline\n",
       "\t(Intercept) & 0.7271 & 0.3853 & 3.5614 & 0.0591\\\\\n",
       "\tcbvn\\_nlin & 0.1847 & 0.2671 & 0.4785 & 0.4891\\\\\n",
       "\\end{tabular}\n"
      ],
      "text/markdown": [
       "\n",
       "| <!--/--> | Estimate | Std.err | Wald | Pr(>|W|) | \n",
       "|---|---|\n",
       "| (Intercept) | 0.7271 | 0.3853 | 3.5614 | 0.0591 | \n",
       "| cbvn_nlin | 0.1847 | 0.2671 | 0.4785 | 0.4891 | \n",
       "\n",
       "\n"
      ],
      "text/plain": [
       "            Estimate Std.err Wald   Pr(>|W|)\n",
       "(Intercept) 0.7271   0.3853  3.5614 0.0591  \n",
       "cbvn_nlin   0.1847   0.2671  0.4785 0.4891  "
      ]
     },
     "metadata": {},
     "output_type": "display_data"
    },
    {
     "name": "stdout",
     "output_type": "stream",
     "text": [
      "[1] \"phn_nlin\"\n"
     ]
    },
    {
     "data": {
      "text/html": [
       "<table>\n",
       "<thead><tr><th></th><th scope=col>Estimate</th><th scope=col>Std. Error</th><th scope=col>z value</th><th scope=col>Pr(&gt;|z|)</th></tr></thead>\n",
       "<tbody>\n",
       "\t<tr><th scope=row>(Intercept)</th><td>-0.8840</td><td>0.5377 </td><td>-1.6439</td><td>0.1002 </td></tr>\n",
       "\t<tr><th scope=row>phn_nlin</th><td>-0.1064</td><td>0.3999 </td><td>-0.2660</td><td>0.7903 </td></tr>\n",
       "</tbody>\n",
       "</table>\n"
      ],
      "text/latex": [
       "\\begin{tabular}{r|llll}\n",
       "  & Estimate & Std. Error & z value & Pr(>\\textbar{}z\\textbar{})\\\\\n",
       "\\hline\n",
       "\t(Intercept) & -0.8840 & 0.5377  & -1.6439 & 0.1002 \\\\\n",
       "\tphn\\_nlin & -0.1064 & 0.3999  & -0.2660 & 0.7903 \\\\\n",
       "\\end{tabular}\n"
      ],
      "text/markdown": [
       "\n",
       "| <!--/--> | Estimate | Std. Error | z value | Pr(>|z|) | \n",
       "|---|---|\n",
       "| (Intercept) | -0.8840 | 0.5377  | -1.6439 | 0.1002  | \n",
       "| phn_nlin | -0.1064 | 0.3999  | -0.2660 | 0.7903  | \n",
       "\n",
       "\n"
      ],
      "text/plain": [
       "            Estimate Std. Error z value Pr(>|z|)\n",
       "(Intercept) -0.8840  0.5377     -1.6439 0.1002  \n",
       "phn_nlin    -0.1064  0.3999     -0.2660 0.7903  "
      ]
     },
     "metadata": {},
     "output_type": "display_data"
    },
    {
     "name": "stdout",
     "output_type": "stream",
     "text": [
      "[1] \"phn_nlin gee\"\n"
     ]
    },
    {
     "data": {
      "text/html": [
       "<table>\n",
       "<thead><tr><th></th><th scope=col>Estimate</th><th scope=col>Std.err</th><th scope=col>Wald</th><th scope=col>Pr(&gt;|W|)</th></tr></thead>\n",
       "<tbody>\n",
       "\t<tr><th scope=row>(Intercept)</th><td>0.8240</td><td>0.3960</td><td>4.3297</td><td>0.0375</td></tr>\n",
       "\t<tr><th scope=row>phn_nlin</th><td>0.0992</td><td>0.2889</td><td>0.1180</td><td>0.7312</td></tr>\n",
       "</tbody>\n",
       "</table>\n"
      ],
      "text/latex": [
       "\\begin{tabular}{r|llll}\n",
       "  & Estimate & Std.err & Wald & Pr(>\\textbar{}W\\textbar{})\\\\\n",
       "\\hline\n",
       "\t(Intercept) & 0.8240 & 0.3960 & 4.3297 & 0.0375\\\\\n",
       "\tphn\\_nlin & 0.0992 & 0.2889 & 0.1180 & 0.7312\\\\\n",
       "\\end{tabular}\n"
      ],
      "text/markdown": [
       "\n",
       "| <!--/--> | Estimate | Std.err | Wald | Pr(>|W|) | \n",
       "|---|---|\n",
       "| (Intercept) | 0.8240 | 0.3960 | 4.3297 | 0.0375 | \n",
       "| phn_nlin | 0.0992 | 0.2889 | 0.1180 | 0.7312 | \n",
       "\n",
       "\n"
      ],
      "text/plain": [
       "            Estimate Std.err Wald   Pr(>|W|)\n",
       "(Intercept) 0.8240   0.3960  4.3297 0.0375  \n",
       "phn_nlin    0.0992   0.2889  0.1180 0.7312  "
      ]
     },
     "metadata": {},
     "output_type": "display_data"
    },
    {
     "name": "stdout",
     "output_type": "stream",
     "text": [
      "[1] \"recov_nlin\"\n"
     ]
    },
    {
     "data": {
      "text/html": [
       "<table>\n",
       "<thead><tr><th></th><th scope=col>Estimate</th><th scope=col>Std. Error</th><th scope=col>z value</th><th scope=col>Pr(&gt;|z|)</th></tr></thead>\n",
       "<tbody>\n",
       "\t<tr><th scope=row>(Intercept)</th><td> 1.9942</td><td>1.8767 </td><td> 1.0627</td><td>0.2879 </td></tr>\n",
       "\t<tr><th scope=row>recov_nlin</th><td>-0.0349</td><td>0.0222 </td><td>-1.5710</td><td>0.1162 </td></tr>\n",
       "</tbody>\n",
       "</table>\n"
      ],
      "text/latex": [
       "\\begin{tabular}{r|llll}\n",
       "  & Estimate & Std. Error & z value & Pr(>\\textbar{}z\\textbar{})\\\\\n",
       "\\hline\n",
       "\t(Intercept) &  1.9942 & 1.8767  &  1.0627 & 0.2879 \\\\\n",
       "\trecov\\_nlin & -0.0349 & 0.0222  & -1.5710 & 0.1162 \\\\\n",
       "\\end{tabular}\n"
      ],
      "text/markdown": [
       "\n",
       "| <!--/--> | Estimate | Std. Error | z value | Pr(>|z|) | \n",
       "|---|---|\n",
       "| (Intercept) |  1.9942 | 1.8767  |  1.0627 | 0.2879  | \n",
       "| recov_nlin | -0.0349 | 0.0222  | -1.5710 | 0.1162  | \n",
       "\n",
       "\n"
      ],
      "text/plain": [
       "            Estimate Std. Error z value Pr(>|z|)\n",
       "(Intercept)  1.9942  1.8767      1.0627 0.2879  \n",
       "recov_nlin  -0.0349  0.0222     -1.5710 0.1162  "
      ]
     },
     "metadata": {},
     "output_type": "display_data"
    },
    {
     "name": "stdout",
     "output_type": "stream",
     "text": [
      "[1] \"recov_nlin gee\"\n"
     ]
    },
    {
     "data": {
      "text/html": [
       "<table>\n",
       "<thead><tr><th></th><th scope=col>Estimate</th><th scope=col>Std.err</th><th scope=col>Wald</th><th scope=col>Pr(&gt;|W|)</th></tr></thead>\n",
       "<tbody>\n",
       "\t<tr><th scope=row>(Intercept)</th><td>-1.5419</td><td>1.3157 </td><td>1.3733 </td><td>0.2412 </td></tr>\n",
       "\t<tr><th scope=row>recov_nlin</th><td> 0.0287</td><td>0.0150 </td><td>3.6604 </td><td>0.0557 </td></tr>\n",
       "</tbody>\n",
       "</table>\n"
      ],
      "text/latex": [
       "\\begin{tabular}{r|llll}\n",
       "  & Estimate & Std.err & Wald & Pr(>\\textbar{}W\\textbar{})\\\\\n",
       "\\hline\n",
       "\t(Intercept) & -1.5419 & 1.3157  & 1.3733  & 0.2412 \\\\\n",
       "\trecov\\_nlin &  0.0287 & 0.0150  & 3.6604  & 0.0557 \\\\\n",
       "\\end{tabular}\n"
      ],
      "text/markdown": [
       "\n",
       "| <!--/--> | Estimate | Std.err | Wald | Pr(>|W|) | \n",
       "|---|---|\n",
       "| (Intercept) | -1.5419 | 1.3157  | 1.3733  | 0.2412  | \n",
       "| recov_nlin |  0.0287 | 0.0150  | 3.6604  | 0.0557  | \n",
       "\n",
       "\n"
      ],
      "text/plain": [
       "            Estimate Std.err Wald   Pr(>|W|)\n",
       "(Intercept) -1.5419  1.3157  1.3733 0.2412  \n",
       "recov_nlin   0.0287  0.0150  3.6604 0.0557  "
      ]
     },
     "metadata": {},
     "output_type": "display_data"
    },
    {
     "name": "stdout",
     "output_type": "stream",
     "text": [
      "[1] \"phn_npar\"\n"
     ]
    },
    {
     "data": {
      "text/html": [
       "<table>\n",
       "<thead><tr><th></th><th scope=col>Estimate</th><th scope=col>Std. Error</th><th scope=col>z value</th><th scope=col>Pr(&gt;|z|)</th></tr></thead>\n",
       "<tbody>\n",
       "\t<tr><th scope=row>(Intercept)</th><td>-1.0201</td><td>0.5732 </td><td>-1.7795</td><td>0.0752 </td></tr>\n",
       "\t<tr><th scope=row>phn_npar</th><td> 0.0169</td><td>0.4218 </td><td> 0.0400</td><td>0.9681 </td></tr>\n",
       "</tbody>\n",
       "</table>\n"
      ],
      "text/latex": [
       "\\begin{tabular}{r|llll}\n",
       "  & Estimate & Std. Error & z value & Pr(>\\textbar{}z\\textbar{})\\\\\n",
       "\\hline\n",
       "\t(Intercept) & -1.0201 & 0.5732  & -1.7795 & 0.0752 \\\\\n",
       "\tphn\\_npar &  0.0169 & 0.4218  &  0.0400 & 0.9681 \\\\\n",
       "\\end{tabular}\n"
      ],
      "text/markdown": [
       "\n",
       "| <!--/--> | Estimate | Std. Error | z value | Pr(>|z|) | \n",
       "|---|---|\n",
       "| (Intercept) | -1.0201 | 0.5732  | -1.7795 | 0.0752  | \n",
       "| phn_npar |  0.0169 | 0.4218  |  0.0400 | 0.9681  | \n",
       "\n",
       "\n"
      ],
      "text/plain": [
       "            Estimate Std. Error z value Pr(>|z|)\n",
       "(Intercept) -1.0201  0.5732     -1.7795 0.0752  \n",
       "phn_npar     0.0169  0.4218      0.0400 0.9681  "
      ]
     },
     "metadata": {},
     "output_type": "display_data"
    },
    {
     "name": "stdout",
     "output_type": "stream",
     "text": [
      "[1] \"phn_npar gee\"\n"
     ]
    },
    {
     "data": {
      "text/html": [
       "<table>\n",
       "<thead><tr><th></th><th scope=col>Estimate</th><th scope=col>Std.err</th><th scope=col>Wald</th><th scope=col>Pr(&gt;|W|)</th></tr></thead>\n",
       "<tbody>\n",
       "\t<tr><th scope=row>(Intercept)</th><td> 0.9340</td><td>0.4143 </td><td>5.0833 </td><td>0.0242 </td></tr>\n",
       "\t<tr><th scope=row>phn_npar</th><td>-0.0043</td><td>0.3064 </td><td>0.0002 </td><td>0.9888 </td></tr>\n",
       "</tbody>\n",
       "</table>\n"
      ],
      "text/latex": [
       "\\begin{tabular}{r|llll}\n",
       "  & Estimate & Std.err & Wald & Pr(>\\textbar{}W\\textbar{})\\\\\n",
       "\\hline\n",
       "\t(Intercept) &  0.9340 & 0.4143  & 5.0833  & 0.0242 \\\\\n",
       "\tphn\\_npar & -0.0043 & 0.3064  & 0.0002  & 0.9888 \\\\\n",
       "\\end{tabular}\n"
      ],
      "text/markdown": [
       "\n",
       "| <!--/--> | Estimate | Std.err | Wald | Pr(>|W|) | \n",
       "|---|---|\n",
       "| (Intercept) |  0.9340 | 0.4143  | 5.0833  | 0.0242  | \n",
       "| phn_npar | -0.0043 | 0.3064  | 0.0002  | 0.9888  | \n",
       "\n",
       "\n"
      ],
      "text/plain": [
       "            Estimate Std.err Wald   Pr(>|W|)\n",
       "(Intercept)  0.9340  0.4143  5.0833 0.0242  \n",
       "phn_npar    -0.0043  0.3064  0.0002 0.9888  "
      ]
     },
     "metadata": {},
     "output_type": "display_data"
    },
    {
     "name": "stdout",
     "output_type": "stream",
     "text": [
      "[1] \"recov_npar\"\n"
     ]
    },
    {
     "data": {
      "text/html": [
       "<table>\n",
       "<thead><tr><th></th><th scope=col>Estimate</th><th scope=col>Std. Error</th><th scope=col>z value</th><th scope=col>Pr(&gt;|z|)</th></tr></thead>\n",
       "<tbody>\n",
       "\t<tr><th scope=row>(Intercept)</th><td> 2.0853</td><td>2.2484 </td><td> 0.9275</td><td>0.3537 </td></tr>\n",
       "\t<tr><th scope=row>recov_npar</th><td>-0.0346</td><td>0.0256 </td><td>-1.3560</td><td>0.1751 </td></tr>\n",
       "</tbody>\n",
       "</table>\n"
      ],
      "text/latex": [
       "\\begin{tabular}{r|llll}\n",
       "  & Estimate & Std. Error & z value & Pr(>\\textbar{}z\\textbar{})\\\\\n",
       "\\hline\n",
       "\t(Intercept) &  2.0853 & 2.2484  &  0.9275 & 0.3537 \\\\\n",
       "\trecov\\_npar & -0.0346 & 0.0256  & -1.3560 & 0.1751 \\\\\n",
       "\\end{tabular}\n"
      ],
      "text/markdown": [
       "\n",
       "| <!--/--> | Estimate | Std. Error | z value | Pr(>|z|) | \n",
       "|---|---|\n",
       "| (Intercept) |  2.0853 | 2.2484  |  0.9275 | 0.3537  | \n",
       "| recov_npar | -0.0346 | 0.0256  | -1.3560 | 0.1751  | \n",
       "\n",
       "\n"
      ],
      "text/plain": [
       "            Estimate Std. Error z value Pr(>|z|)\n",
       "(Intercept)  2.0853  2.2484      0.9275 0.3537  \n",
       "recov_npar  -0.0346  0.0256     -1.3560 0.1751  "
      ]
     },
     "metadata": {},
     "output_type": "display_data"
    },
    {
     "name": "stdout",
     "output_type": "stream",
     "text": [
      "[1] \"recov_npar gee\"\n"
     ]
    },
    {
     "data": {
      "text/html": [
       "<table>\n",
       "<thead><tr><th></th><th scope=col>Estimate</th><th scope=col>Std.err</th><th scope=col>Wald</th><th scope=col>Pr(&gt;|W|)</th></tr></thead>\n",
       "<tbody>\n",
       "\t<tr><th scope=row>(Intercept)</th><td>-1.7311</td><td>1.7930 </td><td>0.9322 </td><td>0.3343 </td></tr>\n",
       "\t<tr><th scope=row>recov_npar</th><td> 0.0299</td><td>0.0199 </td><td>2.2547 </td><td>0.1332 </td></tr>\n",
       "</tbody>\n",
       "</table>\n"
      ],
      "text/latex": [
       "\\begin{tabular}{r|llll}\n",
       "  & Estimate & Std.err & Wald & Pr(>\\textbar{}W\\textbar{})\\\\\n",
       "\\hline\n",
       "\t(Intercept) & -1.7311 & 1.7930  & 0.9322  & 0.3343 \\\\\n",
       "\trecov\\_npar &  0.0299 & 0.0199  & 2.2547  & 0.1332 \\\\\n",
       "\\end{tabular}\n"
      ],
      "text/markdown": [
       "\n",
       "| <!--/--> | Estimate | Std.err | Wald | Pr(>|W|) | \n",
       "|---|---|\n",
       "| (Intercept) | -1.7311 | 1.7930  | 0.9322  | 0.3343  | \n",
       "| recov_npar |  0.0299 | 0.0199  | 2.2547  | 0.1332  | \n",
       "\n",
       "\n"
      ],
      "text/plain": [
       "            Estimate Std.err Wald   Pr(>|W|)\n",
       "(Intercept) -1.7311  1.7930  0.9322 0.3343  \n",
       "recov_npar   0.0299  0.0199  2.2547 0.1332  "
      ]
     },
     "metadata": {},
     "output_type": "display_data"
    }
   ],
   "source": [
    "print('Perfusion:')\n",
    "print(perf)\n",
    "print('cbvn_nlin')\n",
    "cbvn_nlin.glmm.fit = glmer(outcome ~ cbvn_nlin + (1|t_number_x), data = recgli, family=\"binomial\")\n",
    "round(summary(cbvn_nlin.glmm.fit)$coefficients, 4) \n",
    "print('cbvn_nlin gee')\n",
    "cbvn_nlin.gee.fit = geeglm(txe_rhgg ~ cbvn_nlin, data = recgli[!is.na(recgli$cbvn_nlin),], id = factor(t_number_x), family = binomial, corstr = \"exchangeable\")\n",
    "round(summary(cbvn_nlin.gee.fit)$coefficients, 4)\n",
    "print('phn_nlin')\n",
    "phn_nlin.glmm.fit = glmer(outcome ~phn_nlin + (1|t_number_x), data = recgli, family=\"binomial\")\n",
    "round(summary(phn_nlin.glmm.fit)$coefficients, 4) \n",
    "print('phn_nlin gee')\n",
    "phn_nlin.gee.fit = geeglm(txe_rhgg ~ phn_nlin, data = recgli[!is.na(recgli$phn_nlin),], id = factor(t_number_x), family = binomial, corstr = \"exchangeable\")\n",
    "round(summary(phn_nlin.gee.fit)$coefficients, 4)\n",
    "print('recov_nlin')\n",
    "recov_nlin.glmm.fit = glmer(outcome ~ recov_nlin + (1|t_number_x), data = recgli, family=\"binomial\")\n",
    "round(summary(recov_nlin.glmm.fit)$coefficients, 4) \n",
    "print('recov_nlin gee')\n",
    "recov_nlin.gee.fit = geeglm(txe_rhgg ~ recov_nlin, data = recgli[!is.na(recgli$recov_nlin),], id = factor(t_number_x), family = binomial, corstr = \"exchangeable\")\n",
    "round(summary(recov_nlin.gee.fit)$coefficients, 4)\n",
    "print('phn_npar')\n",
    "phn_npar.glmm.fit = glmer(outcome ~ phn_npar + (1|t_number_x), data = recgli, family=\"binomial\")\n",
    "round(summary(phn_npar.glmm.fit)$coefficients, 4) \n",
    "print('phn_npar gee')\n",
    "phn_npar.gee.fit = geeglm(txe_rhgg ~ phn_npar, data = recgli[!is.na(recgli$phn_npar),], id = factor(t_number_x), family = binomial, corstr = \"exchangeable\")\n",
    "round(summary(phn_npar.gee.fit)$coefficients, 4)\n",
    "print(\"recov_npar\")\n",
    "recov_npar.glmm.fit = glmer(outcome ~ recov_npar + (1|t_number_x), data = recgli, family=\"binomial\")\n",
    "round(summary(recov_npar.glmm.fit)$coefficients, 4) \n",
    "print('recov_npar gee')\n",
    "recov_npar.gee.fit = geeglm(txe_rhgg ~ recov_npar, data = recgli[!is.na(recgli$recov_npar),], id = factor(t_number_x), family = binomial, corstr = \"exchangeable\")\n",
    "round(summary(recov_npar.gee.fit)$coefficients, 4)"
   ]
  },
  {
   "cell_type": "code",
   "execution_count": 28,
   "metadata": {},
   "outputs": [
    {
     "name": "stdout",
     "output_type": "stream",
     "text": [
      "[1] \"Spec:\"\n",
      "[1] \"ccri\" \"cni\"  \"crni\" \"ncho\" \"ncre\" \"nnaa\" \"nlac\" \"nlip\" \"nLL\" \n",
      "[1] \"ccri\"\n"
     ]
    },
    {
     "data": {
      "text/html": [
       "<table>\n",
       "<thead><tr><th></th><th scope=col>Estimate</th><th scope=col>Std. Error</th><th scope=col>z value</th><th scope=col>Pr(&gt;|z|)</th></tr></thead>\n",
       "<tbody>\n",
       "\t<tr><th scope=row>(Intercept)</th><td>-0.8622</td><td>0.3409 </td><td>-2.5288</td><td>0.0114 </td></tr>\n",
       "\t<tr><th scope=row>ccri</th><td>-0.1870</td><td>0.1312 </td><td>-1.4248</td><td>0.1542 </td></tr>\n",
       "</tbody>\n",
       "</table>\n"
      ],
      "text/latex": [
       "\\begin{tabular}{r|llll}\n",
       "  & Estimate & Std. Error & z value & Pr(>\\textbar{}z\\textbar{})\\\\\n",
       "\\hline\n",
       "\t(Intercept) & -0.8622 & 0.3409  & -2.5288 & 0.0114 \\\\\n",
       "\tccri & -0.1870 & 0.1312  & -1.4248 & 0.1542 \\\\\n",
       "\\end{tabular}\n"
      ],
      "text/markdown": [
       "\n",
       "| <!--/--> | Estimate | Std. Error | z value | Pr(>|z|) | \n",
       "|---|---|\n",
       "| (Intercept) | -0.8622 | 0.3409  | -2.5288 | 0.0114  | \n",
       "| ccri | -0.1870 | 0.1312  | -1.4248 | 0.1542  | \n",
       "\n",
       "\n"
      ],
      "text/plain": [
       "            Estimate Std. Error z value Pr(>|z|)\n",
       "(Intercept) -0.8622  0.3409     -2.5288 0.0114  \n",
       "ccri        -0.1870  0.1312     -1.4248 0.1542  "
      ]
     },
     "metadata": {},
     "output_type": "display_data"
    },
    {
     "name": "stdout",
     "output_type": "stream",
     "text": [
      "[1] \"ccri gee\"\n"
     ]
    },
    {
     "data": {
      "text/html": [
       "<table>\n",
       "<thead><tr><th></th><th scope=col>Estimate</th><th scope=col>Std.err</th><th scope=col>Wald</th><th scope=col>Pr(&gt;|W|)</th></tr></thead>\n",
       "<tbody>\n",
       "\t<tr><th scope=row>(Intercept)</th><td>0.8484</td><td>0.3474</td><td>5.9640</td><td>0.0146</td></tr>\n",
       "\t<tr><th scope=row>ccri</th><td>0.1953</td><td>0.1100</td><td>3.1517</td><td>0.0758</td></tr>\n",
       "</tbody>\n",
       "</table>\n"
      ],
      "text/latex": [
       "\\begin{tabular}{r|llll}\n",
       "  & Estimate & Std.err & Wald & Pr(>\\textbar{}W\\textbar{})\\\\\n",
       "\\hline\n",
       "\t(Intercept) & 0.8484 & 0.3474 & 5.9640 & 0.0146\\\\\n",
       "\tccri & 0.1953 & 0.1100 & 3.1517 & 0.0758\\\\\n",
       "\\end{tabular}\n"
      ],
      "text/markdown": [
       "\n",
       "| <!--/--> | Estimate | Std.err | Wald | Pr(>|W|) | \n",
       "|---|---|\n",
       "| (Intercept) | 0.8484 | 0.3474 | 5.9640 | 0.0146 | \n",
       "| ccri | 0.1953 | 0.1100 | 3.1517 | 0.0758 | \n",
       "\n",
       "\n"
      ],
      "text/plain": [
       "            Estimate Std.err Wald   Pr(>|W|)\n",
       "(Intercept) 0.8484   0.3474  5.9640 0.0146  \n",
       "ccri        0.1953   0.1100  3.1517 0.0758  "
      ]
     },
     "metadata": {},
     "output_type": "display_data"
    },
    {
     "name": "stdout",
     "output_type": "stream",
     "text": [
      "[1] \"cni\"\n"
     ]
    },
    {
     "data": {
      "text/html": [
       "<table>\n",
       "<thead><tr><th></th><th scope=col>Estimate</th><th scope=col>Std. Error</th><th scope=col>z value</th><th scope=col>Pr(&gt;|z|)</th></tr></thead>\n",
       "<tbody>\n",
       "\t<tr><th scope=row>(Intercept)</th><td>-0.1935</td><td>0.4646 </td><td>-0.4163</td><td>0.6772 </td></tr>\n",
       "\t<tr><th scope=row>cni</th><td>-0.3259</td><td>0.1505 </td><td>-2.1657</td><td>0.0303 </td></tr>\n",
       "</tbody>\n",
       "</table>\n"
      ],
      "text/latex": [
       "\\begin{tabular}{r|llll}\n",
       "  & Estimate & Std. Error & z value & Pr(>\\textbar{}z\\textbar{})\\\\\n",
       "\\hline\n",
       "\t(Intercept) & -0.1935 & 0.4646  & -0.4163 & 0.6772 \\\\\n",
       "\tcni & -0.3259 & 0.1505  & -2.1657 & 0.0303 \\\\\n",
       "\\end{tabular}\n"
      ],
      "text/markdown": [
       "\n",
       "| <!--/--> | Estimate | Std. Error | z value | Pr(>|z|) | \n",
       "|---|---|\n",
       "| (Intercept) | -0.1935 | 0.4646  | -0.4163 | 0.6772  | \n",
       "| cni | -0.3259 | 0.1505  | -2.1657 | 0.0303  | \n",
       "\n",
       "\n"
      ],
      "text/plain": [
       "            Estimate Std. Error z value Pr(>|z|)\n",
       "(Intercept) -0.1935  0.4646     -0.4163 0.6772  \n",
       "cni         -0.3259  0.1505     -2.1657 0.0303  "
      ]
     },
     "metadata": {},
     "output_type": "display_data"
    },
    {
     "name": "stdout",
     "output_type": "stream",
     "text": [
      "[1] \"cni gee\"\n"
     ]
    },
    {
     "data": {
      "text/html": [
       "<table>\n",
       "<thead><tr><th></th><th scope=col>Estimate</th><th scope=col>Std.err</th><th scope=col>Wald</th><th scope=col>Pr(&gt;|W|)</th></tr></thead>\n",
       "<tbody>\n",
       "\t<tr><th scope=row>(Intercept)</th><td>0.1936 </td><td>0.4267 </td><td> 0.2059</td><td>0.6500 </td></tr>\n",
       "\t<tr><th scope=row>cni</th><td>0.3259 </td><td>0.0922 </td><td>12.4974</td><td>0.0004 </td></tr>\n",
       "</tbody>\n",
       "</table>\n"
      ],
      "text/latex": [
       "\\begin{tabular}{r|llll}\n",
       "  & Estimate & Std.err & Wald & Pr(>\\textbar{}W\\textbar{})\\\\\n",
       "\\hline\n",
       "\t(Intercept) & 0.1936  & 0.4267  &  0.2059 & 0.6500 \\\\\n",
       "\tcni & 0.3259  & 0.0922  & 12.4974 & 0.0004 \\\\\n",
       "\\end{tabular}\n"
      ],
      "text/markdown": [
       "\n",
       "| <!--/--> | Estimate | Std.err | Wald | Pr(>|W|) | \n",
       "|---|---|\n",
       "| (Intercept) | 0.1936  | 0.4267  |  0.2059 | 0.6500  | \n",
       "| cni | 0.3259  | 0.0922  | 12.4974 | 0.0004  | \n",
       "\n",
       "\n"
      ],
      "text/plain": [
       "            Estimate Std.err Wald    Pr(>|W|)\n",
       "(Intercept) 0.1936   0.4267   0.2059 0.6500  \n",
       "cni         0.3259   0.0922  12.4974 0.0004  "
      ]
     },
     "metadata": {},
     "output_type": "display_data"
    },
    {
     "name": "stdout",
     "output_type": "stream",
     "text": [
      "[1] \"crni\"\n"
     ]
    },
    {
     "data": {
      "text/html": [
       "<table>\n",
       "<thead><tr><th></th><th scope=col>Estimate</th><th scope=col>Std. Error</th><th scope=col>z value</th><th scope=col>Pr(&gt;|z|)</th></tr></thead>\n",
       "<tbody>\n",
       "\t<tr><th scope=row>(Intercept)</th><td>-0.9195</td><td>0.3225 </td><td>-2.8516</td><td>0.0044 </td></tr>\n",
       "\t<tr><th scope=row>crni</th><td>-0.2663</td><td>0.2112 </td><td>-1.2610</td><td>0.2073 </td></tr>\n",
       "</tbody>\n",
       "</table>\n"
      ],
      "text/latex": [
       "\\begin{tabular}{r|llll}\n",
       "  & Estimate & Std. Error & z value & Pr(>\\textbar{}z\\textbar{})\\\\\n",
       "\\hline\n",
       "\t(Intercept) & -0.9195 & 0.3225  & -2.8516 & 0.0044 \\\\\n",
       "\tcrni & -0.2663 & 0.2112  & -1.2610 & 0.2073 \\\\\n",
       "\\end{tabular}\n"
      ],
      "text/markdown": [
       "\n",
       "| <!--/--> | Estimate | Std. Error | z value | Pr(>|z|) | \n",
       "|---|---|\n",
       "| (Intercept) | -0.9195 | 0.3225  | -2.8516 | 0.0044  | \n",
       "| crni | -0.2663 | 0.2112  | -1.2610 | 0.2073  | \n",
       "\n",
       "\n"
      ],
      "text/plain": [
       "            Estimate Std. Error z value Pr(>|z|)\n",
       "(Intercept) -0.9195  0.3225     -2.8516 0.0044  \n",
       "crni        -0.2663  0.2112     -1.2610 0.2073  "
      ]
     },
     "metadata": {},
     "output_type": "display_data"
    },
    {
     "name": "stdout",
     "output_type": "stream",
     "text": [
      "[1] \"crni gee\"\n"
     ]
    },
    {
     "data": {
      "text/html": [
       "<table>\n",
       "<thead><tr><th></th><th scope=col>Estimate</th><th scope=col>Std.err</th><th scope=col>Wald</th><th scope=col>Pr(&gt;|W|)</th></tr></thead>\n",
       "<tbody>\n",
       "\t<tr><th scope=row>(Intercept)</th><td>0.9162</td><td>0.3191</td><td>8.2428</td><td>0.0041</td></tr>\n",
       "\t<tr><th scope=row>crni</th><td>0.2779</td><td>0.1274</td><td>4.7611</td><td>0.0291</td></tr>\n",
       "</tbody>\n",
       "</table>\n"
      ],
      "text/latex": [
       "\\begin{tabular}{r|llll}\n",
       "  & Estimate & Std.err & Wald & Pr(>\\textbar{}W\\textbar{})\\\\\n",
       "\\hline\n",
       "\t(Intercept) & 0.9162 & 0.3191 & 8.2428 & 0.0041\\\\\n",
       "\tcrni & 0.2779 & 0.1274 & 4.7611 & 0.0291\\\\\n",
       "\\end{tabular}\n"
      ],
      "text/markdown": [
       "\n",
       "| <!--/--> | Estimate | Std.err | Wald | Pr(>|W|) | \n",
       "|---|---|\n",
       "| (Intercept) | 0.9162 | 0.3191 | 8.2428 | 0.0041 | \n",
       "| crni | 0.2779 | 0.1274 | 4.7611 | 0.0291 | \n",
       "\n",
       "\n"
      ],
      "text/plain": [
       "            Estimate Std.err Wald   Pr(>|W|)\n",
       "(Intercept) 0.9162   0.3191  8.2428 0.0041  \n",
       "crni        0.2779   0.1274  4.7611 0.0291  "
      ]
     },
     "metadata": {},
     "output_type": "display_data"
    }
   ],
   "source": [
    "print('Spec:')\n",
    "print(spec)\n",
    "print('ccri')\n",
    "ccri.glmm.fit = glmer(outcome ~ ccri + (1|t_number_x), data = recgli, family=\"binomial\")\n",
    "round(summary(ccri.glmm.fit)$coefficients, 4) \n",
    "print('ccri gee')\n",
    "ccri.gee.fit = geeglm(txe_rhgg ~ ccri, data = recgli[!is.na(recgli$ccri),], id = factor(t_number_x), family = binomial, corstr = \"exchangeable\")\n",
    "round(summary(ccri.gee.fit)$coefficients, 4)\n",
    "#########################\n",
    "print('cni')\n",
    "cni.glmm.fit = glmer(outcome ~cni + (1|t_number_x), data = recgli, family=\"binomial\")\n",
    "round(summary(cni.glmm.fit)$coefficients, 4) \n",
    "print('cni gee')\n",
    "cni.gee.fit = geeglm(txe_rhgg ~ cni, data = recgli[!is.na(recgli$cni),], id = factor(t_number_x), family = binomial, corstr = \"exchangeable\")\n",
    "round(summary(cni.gee.fit)$coefficients, 4)\n",
    "#########################\n",
    "print('crni')\n",
    "crni.glmm.fit = glmer(outcome ~ crni + (1|t_number_x), data = recgli, family=\"binomial\")\n",
    "round(summary(crni.glmm.fit)$coefficients, 4) \n",
    "print('crni gee')\n",
    "crni.gee.fit = geeglm(txe_rhgg ~ crni, data = recgli[!is.na(recgli$crni),], id = factor(t_number_x), family = binomial, corstr = \"exchangeable\")\n",
    "round(summary(crni.gee.fit)$coefficients, 4)\n",
    "#########################\n"
   ]
  },
  {
   "cell_type": "code",
   "execution_count": 29,
   "metadata": {},
   "outputs": [
    {
     "data": {
      "text/html": [
       "<table>\n",
       "<thead><tr><th></th><th scope=col>Estimate</th><th scope=col>Std. Error</th><th scope=col>z value</th><th scope=col>Pr(&gt;|z|)</th></tr></thead>\n",
       "<tbody>\n",
       "\t<tr><th scope=row>(Intercept)</th><td> 0.5575</td><td>0.6696 </td><td> 0.8327</td><td>0.4050 </td></tr>\n",
       "\t<tr><th scope=row>ncho</th><td>-1.5458</td><td>0.6280 </td><td>-2.4613</td><td>0.0138 </td></tr>\n",
       "</tbody>\n",
       "</table>\n"
      ],
      "text/latex": [
       "\\begin{tabular}{r|llll}\n",
       "  & Estimate & Std. Error & z value & Pr(>\\textbar{}z\\textbar{})\\\\\n",
       "\\hline\n",
       "\t(Intercept) &  0.5575 & 0.6696  &  0.8327 & 0.4050 \\\\\n",
       "\tncho & -1.5458 & 0.6280  & -2.4613 & 0.0138 \\\\\n",
       "\\end{tabular}\n"
      ],
      "text/markdown": [
       "\n",
       "| <!--/--> | Estimate | Std. Error | z value | Pr(>|z|) | \n",
       "|---|---|\n",
       "| (Intercept) |  0.5575 | 0.6696  |  0.8327 | 0.4050  | \n",
       "| ncho | -1.5458 | 0.6280  | -2.4613 | 0.0138  | \n",
       "\n",
       "\n"
      ],
      "text/plain": [
       "            Estimate Std. Error z value Pr(>|z|)\n",
       "(Intercept)  0.5575  0.6696      0.8327 0.4050  \n",
       "ncho        -1.5458  0.6280     -2.4613 0.0138  "
      ]
     },
     "metadata": {},
     "output_type": "display_data"
    },
    {
     "name": "stdout",
     "output_type": "stream",
     "text": [
      "[1] \"ncho gee\"\n"
     ]
    },
    {
     "data": {
      "text/html": [
       "<table>\n",
       "<thead><tr><th></th><th scope=col>Estimate</th><th scope=col>Std.err</th><th scope=col>Wald</th><th scope=col>Pr(&gt;|W|)</th></tr></thead>\n",
       "<tbody>\n",
       "\t<tr><th scope=row>(Intercept)</th><td>-0.6132</td><td>0.6147 </td><td> 0.9952</td><td>0.3185 </td></tr>\n",
       "\t<tr><th scope=row>ncho</th><td> 1.5833</td><td>0.4768 </td><td>11.0285</td><td>0.0009 </td></tr>\n",
       "</tbody>\n",
       "</table>\n"
      ],
      "text/latex": [
       "\\begin{tabular}{r|llll}\n",
       "  & Estimate & Std.err & Wald & Pr(>\\textbar{}W\\textbar{})\\\\\n",
       "\\hline\n",
       "\t(Intercept) & -0.6132 & 0.6147  &  0.9952 & 0.3185 \\\\\n",
       "\tncho &  1.5833 & 0.4768  & 11.0285 & 0.0009 \\\\\n",
       "\\end{tabular}\n"
      ],
      "text/markdown": [
       "\n",
       "| <!--/--> | Estimate | Std.err | Wald | Pr(>|W|) | \n",
       "|---|---|\n",
       "| (Intercept) | -0.6132 | 0.6147  |  0.9952 | 0.3185  | \n",
       "| ncho |  1.5833 | 0.4768  | 11.0285 | 0.0009  | \n",
       "\n",
       "\n"
      ],
      "text/plain": [
       "            Estimate Std.err Wald    Pr(>|W|)\n",
       "(Intercept) -0.6132  0.6147   0.9952 0.3185  \n",
       "ncho         1.5833  0.4768  11.0285 0.0009  "
      ]
     },
     "metadata": {},
     "output_type": "display_data"
    },
    {
     "name": "stdout",
     "output_type": "stream",
     "text": [
      "[1] \"ncre\"\n"
     ]
    },
    {
     "data": {
      "text/html": [
       "<table>\n",
       "<thead><tr><th></th><th scope=col>Estimate</th><th scope=col>Std. Error</th><th scope=col>z value</th><th scope=col>Pr(&gt;|z|)</th></tr></thead>\n",
       "<tbody>\n",
       "\t<tr><th scope=row>(Intercept)</th><td>-0.3969</td><td>0.4948 </td><td>-0.8023</td><td>0.4224 </td></tr>\n",
       "\t<tr><th scope=row>ncre</th><td>-1.1284</td><td>0.6817 </td><td>-1.6553</td><td>0.0979 </td></tr>\n",
       "</tbody>\n",
       "</table>\n"
      ],
      "text/latex": [
       "\\begin{tabular}{r|llll}\n",
       "  & Estimate & Std. Error & z value & Pr(>\\textbar{}z\\textbar{})\\\\\n",
       "\\hline\n",
       "\t(Intercept) & -0.3969 & 0.4948  & -0.8023 & 0.4224 \\\\\n",
       "\tncre & -1.1284 & 0.6817  & -1.6553 & 0.0979 \\\\\n",
       "\\end{tabular}\n"
      ],
      "text/markdown": [
       "\n",
       "| <!--/--> | Estimate | Std. Error | z value | Pr(>|z|) | \n",
       "|---|---|\n",
       "| (Intercept) | -0.3969 | 0.4948  | -0.8023 | 0.4224  | \n",
       "| ncre | -1.1284 | 0.6817  | -1.6553 | 0.0979  | \n",
       "\n",
       "\n"
      ],
      "text/plain": [
       "            Estimate Std. Error z value Pr(>|z|)\n",
       "(Intercept) -0.3969  0.4948     -0.8023 0.4224  \n",
       "ncre        -1.1284  0.6817     -1.6553 0.0979  "
      ]
     },
     "metadata": {},
     "output_type": "display_data"
    },
    {
     "name": "stdout",
     "output_type": "stream",
     "text": [
      "[1] \"ncre gee\"\n"
     ]
    },
    {
     "data": {
      "text/html": [
       "<table>\n",
       "<thead><tr><th></th><th scope=col>Estimate</th><th scope=col>Std.err</th><th scope=col>Wald</th><th scope=col>Pr(&gt;|W|)</th></tr></thead>\n",
       "<tbody>\n",
       "\t<tr><th scope=row>(Intercept)</th><td>0.3933</td><td>0.4563</td><td>0.7432</td><td>0.3886</td></tr>\n",
       "\t<tr><th scope=row>ncre</th><td>1.1319</td><td>0.5090</td><td>4.9458</td><td>0.0262</td></tr>\n",
       "</tbody>\n",
       "</table>\n"
      ],
      "text/latex": [
       "\\begin{tabular}{r|llll}\n",
       "  & Estimate & Std.err & Wald & Pr(>\\textbar{}W\\textbar{})\\\\\n",
       "\\hline\n",
       "\t(Intercept) & 0.3933 & 0.4563 & 0.7432 & 0.3886\\\\\n",
       "\tncre & 1.1319 & 0.5090 & 4.9458 & 0.0262\\\\\n",
       "\\end{tabular}\n"
      ],
      "text/markdown": [
       "\n",
       "| <!--/--> | Estimate | Std.err | Wald | Pr(>|W|) | \n",
       "|---|---|\n",
       "| (Intercept) | 0.3933 | 0.4563 | 0.7432 | 0.3886 | \n",
       "| ncre | 1.1319 | 0.5090 | 4.9458 | 0.0262 | \n",
       "\n",
       "\n"
      ],
      "text/plain": [
       "            Estimate Std.err Wald   Pr(>|W|)\n",
       "(Intercept) 0.3933   0.4563  0.7432 0.3886  \n",
       "ncre        1.1319   0.5090  4.9458 0.0262  "
      ]
     },
     "metadata": {},
     "output_type": "display_data"
    }
   ],
   "source": [
    "ncho.glmm.fit = glmer(outcome ~ ncho + (1|t_number_x), data = recgli, family=\"binomial\")\n",
    "round(summary(ncho.glmm.fit)$coefficients, 4) \n",
    "print('ncho gee')\n",
    "ncho.gee.fit = geeglm(txe_rhgg ~ ncho, data = recgli[!is.na(recgli$ncho),], id = factor(t_number_x), family = binomial, corstr = \"exchangeable\")\n",
    "round(summary(ncho.gee.fit)$coefficients, 4)\n",
    "#########################\n",
    "print('ncre')\n",
    "ncre.glmm.fit = glmer(outcome ~ncre + (1|t_number_x), data = recgli, family=\"binomial\")\n",
    "round(summary(ncre.glmm.fit)$coefficients, 4) \n",
    "print('ncre gee')\n",
    "ncre.gee.fit = geeglm(txe_rhgg ~ ncre, data = recgli[!is.na(recgli$ncre),], id = factor(t_number_x), family = binomial, corstr = \"exchangeable\")\n",
    "round(summary(ncre.gee.fit)$coefficients, 4)\n",
    "#########################\n",
    "\n"
   ]
  },
  {
   "cell_type": "code",
   "execution_count": 32,
   "metadata": {
    "scrolled": true
   },
   "outputs": [
    {
     "name": "stdout",
     "output_type": "stream",
     "text": [
      "[1] \"nnaa\"\n",
      "[1] \"nnaa gee\"\n"
     ]
    },
    {
     "data": {
      "text/plain": [
       "   Min. 1st Qu.  Median    Mean 3rd Qu.    Max. \n",
       "-0.0900  0.1800  0.3600  0.3836  0.5700  0.8500 "
      ]
     },
     "metadata": {},
     "output_type": "display_data"
    },
    {
     "data": {
      "text/html": [
       "<table>\n",
       "<thead><tr><th></th><th scope=col>Estimate</th><th scope=col>Std.err</th><th scope=col>Wald</th><th scope=col>Pr(&gt;|W|)</th></tr></thead>\n",
       "<tbody>\n",
       "\t<tr><th scope=row>(Intercept)</th><td>0.6433</td><td>0.5571</td><td>1.3337</td><td>0.2482</td></tr>\n",
       "\t<tr><th scope=row>nnaa</th><td>1.8891</td><td>1.2465</td><td>2.2970</td><td>0.1296</td></tr>\n",
       "</tbody>\n",
       "</table>\n"
      ],
      "text/latex": [
       "\\begin{tabular}{r|llll}\n",
       "  & Estimate & Std.err & Wald & Pr(>\\textbar{}W\\textbar{})\\\\\n",
       "\\hline\n",
       "\t(Intercept) & 0.6433 & 0.5571 & 1.3337 & 0.2482\\\\\n",
       "\tnnaa & 1.8891 & 1.2465 & 2.2970 & 0.1296\\\\\n",
       "\\end{tabular}\n"
      ],
      "text/markdown": [
       "\n",
       "| <!--/--> | Estimate | Std.err | Wald | Pr(>|W|) | \n",
       "|---|---|\n",
       "| (Intercept) | 0.6433 | 0.5571 | 1.3337 | 0.2482 | \n",
       "| nnaa | 1.8891 | 1.2465 | 2.2970 | 0.1296 | \n",
       "\n",
       "\n"
      ],
      "text/plain": [
       "            Estimate Std.err Wald   Pr(>|W|)\n",
       "(Intercept) 0.6433   0.5571  1.3337 0.2482  \n",
       "nnaa        1.8891   1.2465  2.2970 0.1296  "
      ]
     },
     "metadata": {},
     "output_type": "display_data"
    }
   ],
   "source": [
    "print('nnaa')\n",
    "# nnaa.glmm.fit = glmer(outcome ~ nnaa + (1|t_number_x), data = recgli[which(recgli$nnaa > 1),], family=\"binomial\")\n",
    "# round(summary(nnaa.glmm.fit)$coefficients, 4) \n",
    "print('nnaa gee')\n",
    "recgli_nnaa = recgli[which((!is.na(recgli$nnaa)) & recgli$nnaa<1), ]\n",
    "summary(recgli_nnaa$nnaa)\n",
    "nnaa.gee.fit = geeglm(txe_rhgg ~ nnaa, data = recgli_nnaa, id = factor(t_number_x), family = binomial, corstr = \"exchangeable\")\n",
    "round(summary(nnaa.gee.fit)$coefficients, 4)\n",
    "#########################"
   ]
  },
  {
   "cell_type": "code",
   "execution_count": 33,
   "metadata": {},
   "outputs": [
    {
     "data": {
      "text/html": [
       "<table>\n",
       "<thead><tr><th></th><th scope=col>vialid</th><th scope=col>b_number</th><th scope=col>t_number_x</th><th scope=col>t_number_y</th><th scope=col>sf_number</th><th scope=col>current_scan_date</th><th scope=col>current_surgery_date</th><th scope=col>current_hist_grade</th><th scope=col>current_hist_type</th><th scope=col>tumor_cell_evaluation</th><th scope=col>necrosis</th><th scope=col>mv_hyperplasia</th><th scope=col>mv_delicate_vasculature</th><th scope=col>f8_delicate</th><th scope=col>f8_simple</th><th scope=col>f8_complex</th><th scope=col>mib_1</th><th scope=col>avgerage_cells</th><th scope=col>treatment_related_ab</th><th scope=col>bx_pure_treatment_effect</th><th scope=col>percent_tumor_nuclei</th><th scope=col>nfl</th><th scope=col>nfse</th><th scope=col>nt1c</th><th scope=col>nt1v</th><th scope=col>nt1d</th><th scope=col>nadc.1</th><th scope=col>nfa.1</th><th scope=col>nev1.1</th><th scope=col>nev2.1</th><th scope=col>nev3.1</th><th scope=col>nevrad.1</th><th scope=col>nadc.2</th><th scope=col>nfa.2</th><th scope=col>nev1.2</th><th scope=col>nev2.2</th><th scope=col>nev3.2</th><th scope=col>nevrad.2</th><th scope=col>cbvn_nlin</th><th scope=col>phn_nlin</th><th scope=col>recov_nlin</th><th scope=col>phn_npar</th><th scope=col>recov_npar</th><th scope=col>recovn_npar</th><th scope=col>ccri</th><th scope=col>cni</th><th scope=col>crni</th><th scope=col>ncho</th><th scope=col>ncre</th><th scope=col>nnaa</th><th scope=col>nlac</th><th scope=col>nlip</th><th scope=col>newdata</th><th scope=col>olddata</th><th scope=col>exclude_bc_hematoma_or_ventricle</th><th scope=col>exclude_perf</th><th scope=col>nLL</th><th scope=col>comments</th><th scope=col>perf_quant</th><th scope=col>include_perf</th><th scope=col>spec_quant</th><th scope=col>include_spec</th><th scope=col>diffu1000_quant</th><th scope=col>diffu2000_quant</th><th scope=col>exclude_bc_anat</th><th scope=col>exclude_bc_pathology</th><th scope=col>include_diffu1000</th><th scope=col>include_diffu2000</th><th scope=col>exclude_histology</th><th scope=col>txe_comments</th><th scope=col>outcome</th><th scope=col>in_CEL</th><th scope=col>in_T2all</th><th scope=col>in_NEL</th><th scope=col>txe_rhgg</th></tr></thead>\n",
       "<tbody>\n",
       "\t<tr><th scope=row>19</th><td>5B26                        </td><td>2671                        </td><td>t6218                       </td><td> 6218                       </td><td> 8057                       </td><td>2009-06-28                  </td><td>2009-06-29                  </td><td>Treatment Effect            </td><td>Treatment Effect            </td><td>2                           </td><td>0                           </td><td>1                           </td><td> 0                          </td><td>1                           </td><td>2                           </td><td>0                           </td><td>0.99                        </td><td>200.0                       </td><td> 1                          </td><td>f                           </td><td>NA                          </td><td>1.68                        </td><td>2.77                        </td><td>0.59                        </td><td>0.67                        </td><td>-0.12                       </td><td>1.74                        </td><td>0.58                        </td><td>1.32                        </td><td>1.55                        </td><td>1.60                        </td><td>1.52                        </td><td>1.67                        </td><td>0.61                        </td><td>1.32                        </td><td>1.48                        </td><td>1.58                        </td><td>1.44                        </td><td>0.22                        </td><td>0.22                        </td><td>100.00                      </td><td>0.20                        </td><td>99.91                       </td><td>    NA                      </td><td>1.43                        </td><td>-0.87                       </td><td>-1.81                       </td><td>0.74                        </td><td>0.14                        </td><td>1.05                        </td><td>0.57                        </td><td>16.87                       </td><td>0                           </td><td>1                           </td><td> 0                          </td><td> 0                          </td><td>17.44                       </td><td>Hyalin BV                   </td><td>                            </td><td>NA                          </td><td>                            </td><td>1                           </td><td>                            </td><td>                            </td><td>NA                          </td><td>NA                          </td><td>1                           </td><td>1                           </td><td>NA                          </td><td>True                        </td><td>rHGG                        </td><td>0                           </td><td>1                           </td><td>1                           </td><td>1                           </td></tr>\n",
       "\t<tr><th scope=row>59</th><td>12D1                        </td><td>3737                        </td><td>t11482                      </td><td>11482                       </td><td>11334                       </td><td>2017-06-27                  </td><td>2017-06-28                  </td><td>Grade III                   </td><td>Astrocytoma                 </td><td>3                           </td><td>0                           </td><td>1                           </td><td>NA                          </td><td>                            </td><td>                            </td><td>                            </td><td>2.58                        </td><td>213.0                       </td><td>NA                          </td><td>f                           </td><td>65                          </td><td>1.90                        </td><td>0.94                        </td><td>0.77                        </td><td>0.92                        </td><td>-0.14                       </td><td>2.24                        </td><td>0.65                        </td><td>1.82                        </td><td>2.17                        </td><td>2.39                        </td><td>2.06                        </td><td>2.19                        </td><td>0.83                        </td><td>  NA                        </td><td>  NA                        </td><td>  NA                        </td><td>  NA                        </td><td>0.74                        </td><td>0.75                        </td><td> 93.30                      </td><td>0.80                        </td><td>95.22                       </td><td>100.00                      </td><td>1.91                        </td><td> 0.11                       </td><td>-1.82                       </td><td>1.65                        </td><td>1.09                        </td><td>1.68                        </td><td>0.36                        </td><td> 0.36                       </td><td>1                           </td><td>0                           </td><td>NA                          </td><td>NA                          </td><td> 0.36                       </td><td>                            </td><td>                            </td><td>NA                          </td><td>                            </td><td>1                           </td><td>                            </td><td>                            </td><td>NA                          </td><td>NA                          </td><td>1                           </td><td>1                           </td><td>NA                          </td><td>                            </td><td>rHGG                        </td><td>0                           </td><td>1                           </td><td>1                           </td><td>1                           </td></tr>\n",
       "\t<tr><th scope=row>90</th><td>41D3                        </td><td>4298                        </td><td>                            </td><td>11412                       </td><td>11291                       </td><td>2017-05-16                  </td><td>2017-05-17                  </td><td>Grade III                   </td><td>Astrocytoma                 </td><td>3                           </td><td>0                           </td><td>1                           </td><td>NA                          </td><td>2                           </td><td>2                           </td><td>0                           </td><td>5.54                        </td><td>216.6                       </td><td>NA                          </td><td>f                           </td><td>80                          </td><td>1.48                        </td><td>2.97                        </td><td>0.39                        </td><td>0.43                        </td><td>-0.03                       </td><td>3.16                        </td><td>0.50                        </td><td>2.56                        </td><td>2.98                        </td><td>3.34                        </td><td>3.06                        </td><td>3.04                        </td><td>0.50                        </td><td>2.30                        </td><td>2.66                        </td><td>2.88                        </td><td>2.70                        </td><td>  NA                        </td><td>  NA                        </td><td>    NA                      </td><td>  NA                        </td><td>   NA                       </td><td>    NA                      </td><td>1.14                        </td><td> 0.95                       </td><td>-0.33                       </td><td>1.12                        </td><td>0.68                        </td><td>1.10                        </td><td>0.79                        </td><td> 0.79                       </td><td>1                           </td><td>0                           </td><td>NA                          </td><td>NA                          </td><td> 0.79                       </td><td>\"tumor 3, small region of 1\"</td><td>all_nas                     </td><td> 1                          </td><td>                            </td><td>1                           </td><td>                            </td><td>                            </td><td>NA                          </td><td>NA                          </td><td>1                           </td><td>1                           </td><td>NA                          </td><td>False                       </td><td>rHGG                        </td><td>0                           </td><td>1                           </td><td>1                           </td><td>1                           </td></tr>\n",
       "\t<tr><th scope=row>131</th><td>68B91                       </td><td>4205                        </td><td>t10756                      </td><td>10756                       </td><td>11017                       </td><td>2016-10-11                  </td><td>2016-10-12                  </td><td>Treatment Effect            </td><td>Treatment Effect            </td><td>0                           </td><td>0                           </td><td>0                           </td><td>NA                          </td><td>                            </td><td>                            </td><td>                            </td><td>1.03                        </td><td> 97.0                       </td><td>NA                          </td><td>f                           </td><td> 0                          </td><td>1.38                        </td><td>2.74                        </td><td>1.02                        </td><td>0.96                        </td><td> 0.00                       </td><td>1.78                        </td><td>1.17                        </td><td>1.52                        </td><td>1.83                        </td><td>1.95                        </td><td>1.83                        </td><td>1.76                        </td><td>1.28                        </td><td>1.50                        </td><td>1.63                        </td><td>1.58                        </td><td>1.60                        </td><td>0.75                        </td><td>0.69                        </td><td> 90.47                      </td><td>0.69                        </td><td>93.63                       </td><td> 99.57                      </td><td>0.30                        </td><td> 0.76                       </td><td> 0.26                       </td><td>1.25                        </td><td>1.17                        </td><td>1.08                        </td><td>0.04                        </td><td> 0.04                       </td><td>1                           </td><td>0                           </td><td> 0                          </td><td> 0                          </td><td> 0.04                       </td><td>\"rare macrophages\"          </td><td>                            </td><td>NA                          </td><td>                            </td><td>1                           </td><td>                            </td><td>                            </td><td>NA                          </td><td>NA                          </td><td>1                           </td><td>1                           </td><td>NA                          </td><td>True                        </td><td>txe                         </td><td>0                           </td><td>1                           </td><td>1                           </td><td>0                           </td></tr>\n",
       "</tbody>\n",
       "</table>\n"
      ],
      "text/latex": [
       "\\begin{tabular}{r|lllllllllllllllllllllllllllllllllllllllllllllllllllllllllllllllllllllllllll}\n",
       "  & vialid & b\\_number & t\\_number\\_x & t\\_number\\_y & sf\\_number & current\\_scan\\_date & current\\_surgery\\_date & current\\_hist\\_grade & current\\_hist\\_type & tumor\\_cell\\_evaluation & necrosis & mv\\_hyperplasia & mv\\_delicate\\_vasculature & f8\\_delicate & f8\\_simple & f8\\_complex & mib\\_1 & avgerage\\_cells & treatment\\_related\\_ab & bx\\_pure\\_treatment\\_effect & percent\\_tumor\\_nuclei & nfl & nfse & nt1c & nt1v & nt1d & nadc.1 & nfa.1 & nev1.1 & nev2.1 & nev3.1 & nevrad.1 & nadc.2 & nfa.2 & nev1.2 & nev2.2 & nev3.2 & nevrad.2 & cbvn\\_nlin & phn\\_nlin & recov\\_nlin & phn\\_npar & recov\\_npar & recovn\\_npar & ccri & cni & crni & ncho & ncre & nnaa & nlac & nlip & newdata & olddata & exclude\\_bc\\_hematoma\\_or\\_ventricle & exclude\\_perf & nLL & comments & perf\\_quant & include\\_perf & spec\\_quant & include\\_spec & diffu1000\\_quant & diffu2000\\_quant & exclude\\_bc\\_anat & exclude\\_bc\\_pathology & include\\_diffu1000 & include\\_diffu2000 & exclude\\_histology & txe\\_comments & outcome & in\\_CEL & in\\_T2all & in\\_NEL & txe\\_rhgg\\\\\n",
       "\\hline\n",
       "\t19 & 5B26                         & 2671                         & t6218                        &  6218                        &  8057                        & 2009-06-28                   & 2009-06-29                   & Treatment Effect             & Treatment Effect             & 2                            & 0                            & 1                            &  0                           & 1                            & 2                            & 0                            & 0.99                         & 200.0                        &  1                           & f                            & NA                           & 1.68                         & 2.77                         & 0.59                         & 0.67                         & -0.12                        & 1.74                         & 0.58                         & 1.32                         & 1.55                         & 1.60                         & 1.52                         & 1.67                         & 0.61                         & 1.32                         & 1.48                         & 1.58                         & 1.44                         & 0.22                         & 0.22                         & 100.00                       & 0.20                         & 99.91                        &     NA                       & 1.43                         & -0.87                        & -1.81                        & 0.74                         & 0.14                         & 1.05                         & 0.57                         & 16.87                        & 0                            & 1                            &  0                           &  0                           & 17.44                        & Hyalin BV                    &                              & NA                           &                              & 1                            &                              &                              & NA                           & NA                           & 1                            & 1                            & NA                           & True                         & rHGG                         & 0                            & 1                            & 1                            & 1                           \\\\\n",
       "\t59 & 12D1                         & 3737                         & t11482                       & 11482                        & 11334                        & 2017-06-27                   & 2017-06-28                   & Grade III                    & Astrocytoma                  & 3                            & 0                            & 1                            & NA                           &                              &                              &                              & 2.58                         & 213.0                        & NA                           & f                            & 65                           & 1.90                         & 0.94                         & 0.77                         & 0.92                         & -0.14                        & 2.24                         & 0.65                         & 1.82                         & 2.17                         & 2.39                         & 2.06                         & 2.19                         & 0.83                         &   NA                         &   NA                         &   NA                         &   NA                         & 0.74                         & 0.75                         &  93.30                       & 0.80                         & 95.22                        & 100.00                       & 1.91                         &  0.11                        & -1.82                        & 1.65                         & 1.09                         & 1.68                         & 0.36                         &  0.36                        & 1                            & 0                            & NA                           & NA                           &  0.36                        &                              &                              & NA                           &                              & 1                            &                              &                              & NA                           & NA                           & 1                            & 1                            & NA                           &                              & rHGG                         & 0                            & 1                            & 1                            & 1                           \\\\\n",
       "\t90 & 41D3                         & 4298                         &                              & 11412                        & 11291                        & 2017-05-16                   & 2017-05-17                   & Grade III                    & Astrocytoma                  & 3                            & 0                            & 1                            & NA                           & 2                            & 2                            & 0                            & 5.54                         & 216.6                        & NA                           & f                            & 80                           & 1.48                         & 2.97                         & 0.39                         & 0.43                         & -0.03                        & 3.16                         & 0.50                         & 2.56                         & 2.98                         & 3.34                         & 3.06                         & 3.04                         & 0.50                         & 2.30                         & 2.66                         & 2.88                         & 2.70                         &   NA                         &   NA                         &     NA                       &   NA                         &    NA                        &     NA                       & 1.14                         &  0.95                        & -0.33                        & 1.12                         & 0.68                         & 1.10                         & 0.79                         &  0.79                        & 1                            & 0                            & NA                           & NA                           &  0.79                        & \"tumor 3, small region of 1\" & all\\_nas                    &  1                           &                              & 1                            &                              &                              & NA                           & NA                           & 1                            & 1                            & NA                           & False                        & rHGG                         & 0                            & 1                            & 1                            & 1                           \\\\\n",
       "\t131 & 68B91                        & 4205                         & t10756                       & 10756                        & 11017                        & 2016-10-11                   & 2016-10-12                   & Treatment Effect             & Treatment Effect             & 0                            & 0                            & 0                            & NA                           &                              &                              &                              & 1.03                         &  97.0                        & NA                           & f                            &  0                           & 1.38                         & 2.74                         & 1.02                         & 0.96                         &  0.00                        & 1.78                         & 1.17                         & 1.52                         & 1.83                         & 1.95                         & 1.83                         & 1.76                         & 1.28                         & 1.50                         & 1.63                         & 1.58                         & 1.60                         & 0.75                         & 0.69                         &  90.47                       & 0.69                         & 93.63                        &  99.57                       & 0.30                         &  0.76                        &  0.26                        & 1.25                         & 1.17                         & 1.08                         & 0.04                         &  0.04                        & 1                            & 0                            &  0                           &  0                           &  0.04                        & \"rare macrophages\"           &                              & NA                           &                              & 1                            &                              &                              & NA                           & NA                           & 1                            & 1                            & NA                           & True                         & txe                          & 0                            & 1                            & 1                            & 0                           \\\\\n",
       "\\end{tabular}\n"
      ],
      "text/markdown": [
       "\n",
       "| <!--/--> | vialid | b_number | t_number_x | t_number_y | sf_number | current_scan_date | current_surgery_date | current_hist_grade | current_hist_type | tumor_cell_evaluation | necrosis | mv_hyperplasia | mv_delicate_vasculature | f8_delicate | f8_simple | f8_complex | mib_1 | avgerage_cells | treatment_related_ab | bx_pure_treatment_effect | percent_tumor_nuclei | nfl | nfse | nt1c | nt1v | nt1d | nadc.1 | nfa.1 | nev1.1 | nev2.1 | nev3.1 | nevrad.1 | nadc.2 | nfa.2 | nev1.2 | nev2.2 | nev3.2 | nevrad.2 | cbvn_nlin | phn_nlin | recov_nlin | phn_npar | recov_npar | recovn_npar | ccri | cni | crni | ncho | ncre | nnaa | nlac | nlip | newdata | olddata | exclude_bc_hematoma_or_ventricle | exclude_perf | nLL | comments | perf_quant | include_perf | spec_quant | include_spec | diffu1000_quant | diffu2000_quant | exclude_bc_anat | exclude_bc_pathology | include_diffu1000 | include_diffu2000 | exclude_histology | txe_comments | outcome | in_CEL | in_T2all | in_NEL | txe_rhgg | \n",
       "|---|---|---|---|\n",
       "| 19 | 5B26                         | 2671                         | t6218                        |  6218                        |  8057                        | 2009-06-28                   | 2009-06-29                   | Treatment Effect             | Treatment Effect             | 2                            | 0                            | 1                            |  0                           | 1                            | 2                            | 0                            | 0.99                         | 200.0                        |  1                           | f                            | NA                           | 1.68                         | 2.77                         | 0.59                         | 0.67                         | -0.12                        | 1.74                         | 0.58                         | 1.32                         | 1.55                         | 1.60                         | 1.52                         | 1.67                         | 0.61                         | 1.32                         | 1.48                         | 1.58                         | 1.44                         | 0.22                         | 0.22                         | 100.00                       | 0.20                         | 99.91                        |     NA                       | 1.43                         | -0.87                        | -1.81                        | 0.74                         | 0.14                         | 1.05                         | 0.57                         | 16.87                        | 0                            | 1                            |  0                           |  0                           | 17.44                        | Hyalin BV                    |                              | NA                           |                              | 1                            |                              |                              | NA                           | NA                           | 1                            | 1                            | NA                           | True                         | rHGG                         | 0                            | 1                            | 1                            | 1                            | \n",
       "| 59 | 12D1                         | 3737                         | t11482                       | 11482                        | 11334                        | 2017-06-27                   | 2017-06-28                   | Grade III                    | Astrocytoma                  | 3                            | 0                            | 1                            | NA                           |                              |                              |                              | 2.58                         | 213.0                        | NA                           | f                            | 65                           | 1.90                         | 0.94                         | 0.77                         | 0.92                         | -0.14                        | 2.24                         | 0.65                         | 1.82                         | 2.17                         | 2.39                         | 2.06                         | 2.19                         | 0.83                         |   NA                         |   NA                         |   NA                         |   NA                         | 0.74                         | 0.75                         |  93.30                       | 0.80                         | 95.22                        | 100.00                       | 1.91                         |  0.11                        | -1.82                        | 1.65                         | 1.09                         | 1.68                         | 0.36                         |  0.36                        | 1                            | 0                            | NA                           | NA                           |  0.36                        |                              |                              | NA                           |                              | 1                            |                              |                              | NA                           | NA                           | 1                            | 1                            | NA                           |                              | rHGG                         | 0                            | 1                            | 1                            | 1                            | \n",
       "| 90 | 41D3                         | 4298                         |                              | 11412                        | 11291                        | 2017-05-16                   | 2017-05-17                   | Grade III                    | Astrocytoma                  | 3                            | 0                            | 1                            | NA                           | 2                            | 2                            | 0                            | 5.54                         | 216.6                        | NA                           | f                            | 80                           | 1.48                         | 2.97                         | 0.39                         | 0.43                         | -0.03                        | 3.16                         | 0.50                         | 2.56                         | 2.98                         | 3.34                         | 3.06                         | 3.04                         | 0.50                         | 2.30                         | 2.66                         | 2.88                         | 2.70                         |   NA                         |   NA                         |     NA                       |   NA                         |    NA                        |     NA                       | 1.14                         |  0.95                        | -0.33                        | 1.12                         | 0.68                         | 1.10                         | 0.79                         |  0.79                        | 1                            | 0                            | NA                           | NA                           |  0.79                        | \"tumor 3, small region of 1\" | all_nas                      |  1                           |                              | 1                            |                              |                              | NA                           | NA                           | 1                            | 1                            | NA                           | False                        | rHGG                         | 0                            | 1                            | 1                            | 1                            | \n",
       "| 131 | 68B91                        | 4205                         | t10756                       | 10756                        | 11017                        | 2016-10-11                   | 2016-10-12                   | Treatment Effect             | Treatment Effect             | 0                            | 0                            | 0                            | NA                           |                              |                              |                              | 1.03                         |  97.0                        | NA                           | f                            |  0                           | 1.38                         | 2.74                         | 1.02                         | 0.96                         |  0.00                        | 1.78                         | 1.17                         | 1.52                         | 1.83                         | 1.95                         | 1.83                         | 1.76                         | 1.28                         | 1.50                         | 1.63                         | 1.58                         | 1.60                         | 0.75                         | 0.69                         |  90.47                       | 0.69                         | 93.63                        |  99.57                       | 0.30                         |  0.76                        |  0.26                        | 1.25                         | 1.17                         | 1.08                         | 0.04                         |  0.04                        | 1                            | 0                            |  0                           |  0                           |  0.04                        | \"rare macrophages\"           |                              | NA                           |                              | 1                            |                              |                              | NA                           | NA                           | 1                            | 1                            | NA                           | True                         | txe                          | 0                            | 1                            | 1                            | 0                            | \n",
       "\n",
       "\n"
      ],
      "text/plain": [
       "    vialid b_number t_number_x t_number_y sf_number current_scan_date\n",
       "19  5B26   2671     t6218       6218       8057     2009-06-28       \n",
       "59  12D1   3737     t11482     11482      11334     2017-06-27       \n",
       "90  41D3   4298                11412      11291     2017-05-16       \n",
       "131 68B91  4205     t10756     10756      11017     2016-10-11       \n",
       "    current_surgery_date current_hist_grade current_hist_type\n",
       "19  2009-06-29           Treatment Effect   Treatment Effect \n",
       "59  2017-06-28           Grade III          Astrocytoma      \n",
       "90  2017-05-17           Grade III          Astrocytoma      \n",
       "131 2016-10-12           Treatment Effect   Treatment Effect \n",
       "    tumor_cell_evaluation necrosis mv_hyperplasia mv_delicate_vasculature\n",
       "19  2                     0        1               0                     \n",
       "59  3                     0        1              NA                     \n",
       "90  3                     0        1              NA                     \n",
       "131 0                     0        0              NA                     \n",
       "    f8_delicate f8_simple f8_complex mib_1 avgerage_cells treatment_related_ab\n",
       "19  1           2         0          0.99  200.0           1                  \n",
       "59                                   2.58  213.0          NA                  \n",
       "90  2           2         0          5.54  216.6          NA                  \n",
       "131                                  1.03   97.0          NA                  \n",
       "    bx_pure_treatment_effect percent_tumor_nuclei nfl  nfse nt1c nt1v nt1d \n",
       "19  f                        NA                   1.68 2.77 0.59 0.67 -0.12\n",
       "59  f                        65                   1.90 0.94 0.77 0.92 -0.14\n",
       "90  f                        80                   1.48 2.97 0.39 0.43 -0.03\n",
       "131 f                         0                   1.38 2.74 1.02 0.96  0.00\n",
       "    nadc.1 nfa.1 nev1.1 nev2.1 nev3.1 nevrad.1 nadc.2 nfa.2 nev1.2 nev2.2\n",
       "19  1.74   0.58  1.32   1.55   1.60   1.52     1.67   0.61  1.32   1.48  \n",
       "59  2.24   0.65  1.82   2.17   2.39   2.06     2.19   0.83    NA     NA  \n",
       "90  3.16   0.50  2.56   2.98   3.34   3.06     3.04   0.50  2.30   2.66  \n",
       "131 1.78   1.17  1.52   1.83   1.95   1.83     1.76   1.28  1.50   1.63  \n",
       "    nev3.2 nevrad.2 cbvn_nlin phn_nlin recov_nlin phn_npar recov_npar\n",
       "19  1.58   1.44     0.22      0.22     100.00     0.20     99.91     \n",
       "59    NA     NA     0.74      0.75      93.30     0.80     95.22     \n",
       "90  2.88   2.70       NA        NA         NA       NA        NA     \n",
       "131 1.58   1.60     0.75      0.69      90.47     0.69     93.63     \n",
       "    recovn_npar ccri cni   crni  ncho ncre nnaa nlac nlip  newdata olddata\n",
       "19      NA      1.43 -0.87 -1.81 0.74 0.14 1.05 0.57 16.87 0       1      \n",
       "59  100.00      1.91  0.11 -1.82 1.65 1.09 1.68 0.36  0.36 1       0      \n",
       "90      NA      1.14  0.95 -0.33 1.12 0.68 1.10 0.79  0.79 1       0      \n",
       "131  99.57      0.30  0.76  0.26 1.25 1.17 1.08 0.04  0.04 1       0      \n",
       "    exclude_bc_hematoma_or_ventricle exclude_perf nLL  \n",
       "19   0                                0           17.44\n",
       "59  NA                               NA            0.36\n",
       "90  NA                               NA            0.79\n",
       "131  0                                0            0.04\n",
       "    comments                     perf_quant include_perf spec_quant\n",
       "19  Hyalin BV                               NA                     \n",
       "59                                          NA                     \n",
       "90  \"tumor 3, small region of 1\" all_nas     1                     \n",
       "131 \"rare macrophages\"                      NA                     \n",
       "    include_spec diffu1000_quant diffu2000_quant exclude_bc_anat\n",
       "19  1                                            NA             \n",
       "59  1                                            NA             \n",
       "90  1                                            NA             \n",
       "131 1                                            NA             \n",
       "    exclude_bc_pathology include_diffu1000 include_diffu2000 exclude_histology\n",
       "19  NA                   1                 1                 NA               \n",
       "59  NA                   1                 1                 NA               \n",
       "90  NA                   1                 1                 NA               \n",
       "131 NA                   1                 1                 NA               \n",
       "    txe_comments outcome in_CEL in_T2all in_NEL txe_rhgg\n",
       "19  True         rHGG    0      1        1      1       \n",
       "59               rHGG    0      1        1      1       \n",
       "90  False        rHGG    0      1        1      1       \n",
       "131 True         txe     0      1        1      0       "
      ]
     },
     "metadata": {},
     "output_type": "display_data"
    }
   ],
   "source": [
    "recgli[which(recgli$nnaa > 1),]"
   ]
  },
  {
   "cell_type": "code",
   "execution_count": 34,
   "metadata": {},
   "outputs": [
    {
     "name": "stdout",
     "output_type": "stream",
     "text": [
      "[1] \"nlac \"\n"
     ]
    },
    {
     "data": {
      "text/html": [
       "<table>\n",
       "<thead><tr><th></th><th scope=col>Estimate</th><th scope=col>Std. Error</th><th scope=col>z value</th><th scope=col>Pr(&gt;|z|)</th></tr></thead>\n",
       "<tbody>\n",
       "\t<tr><th scope=row>(Intercept)</th><td>-1.7193</td><td>0.4769 </td><td>-3.6054</td><td>0.0003 </td></tr>\n",
       "\t<tr><th scope=row>nlac</th><td> 1.0271</td><td>0.8181 </td><td> 1.2555</td><td>0.2093 </td></tr>\n",
       "</tbody>\n",
       "</table>\n"
      ],
      "text/latex": [
       "\\begin{tabular}{r|llll}\n",
       "  & Estimate & Std. Error & z value & Pr(>\\textbar{}z\\textbar{})\\\\\n",
       "\\hline\n",
       "\t(Intercept) & -1.7193 & 0.4769  & -3.6054 & 0.0003 \\\\\n",
       "\tnlac &  1.0271 & 0.8181  &  1.2555 & 0.2093 \\\\\n",
       "\\end{tabular}\n"
      ],
      "text/markdown": [
       "\n",
       "| <!--/--> | Estimate | Std. Error | z value | Pr(>|z|) | \n",
       "|---|---|\n",
       "| (Intercept) | -1.7193 | 0.4769  | -3.6054 | 0.0003  | \n",
       "| nlac |  1.0271 | 0.8181  |  1.2555 | 0.2093  | \n",
       "\n",
       "\n"
      ],
      "text/plain": [
       "            Estimate Std. Error z value Pr(>|z|)\n",
       "(Intercept) -1.7193  0.4769     -3.6054 0.0003  \n",
       "nlac         1.0271  0.8181      1.2555 0.2093  "
      ]
     },
     "metadata": {},
     "output_type": "display_data"
    },
    {
     "name": "stdout",
     "output_type": "stream",
     "text": [
      "[1] \"nlac gee\"\n"
     ]
    },
    {
     "data": {
      "text/html": [
       "<table>\n",
       "<thead><tr><th></th><th scope=col>Estimate</th><th scope=col>Std.err</th><th scope=col>Wald</th><th scope=col>Pr(&gt;|W|)</th></tr></thead>\n",
       "<tbody>\n",
       "\t<tr><th scope=row>(Intercept)</th><td> 1.7382</td><td>0.4898 </td><td>12.5928</td><td>0.0004 </td></tr>\n",
       "\t<tr><th scope=row>nlac</th><td>-1.0778</td><td>0.8913 </td><td> 1.4622</td><td>0.2266 </td></tr>\n",
       "</tbody>\n",
       "</table>\n"
      ],
      "text/latex": [
       "\\begin{tabular}{r|llll}\n",
       "  & Estimate & Std.err & Wald & Pr(>\\textbar{}W\\textbar{})\\\\\n",
       "\\hline\n",
       "\t(Intercept) &  1.7382 & 0.4898  & 12.5928 & 0.0004 \\\\\n",
       "\tnlac & -1.0778 & 0.8913  &  1.4622 & 0.2266 \\\\\n",
       "\\end{tabular}\n"
      ],
      "text/markdown": [
       "\n",
       "| <!--/--> | Estimate | Std.err | Wald | Pr(>|W|) | \n",
       "|---|---|\n",
       "| (Intercept) |  1.7382 | 0.4898  | 12.5928 | 0.0004  | \n",
       "| nlac | -1.0778 | 0.8913  |  1.4622 | 0.2266  | \n",
       "\n",
       "\n"
      ],
      "text/plain": [
       "            Estimate Std.err Wald    Pr(>|W|)\n",
       "(Intercept)  1.7382  0.4898  12.5928 0.0004  \n",
       "nlac        -1.0778  0.8913   1.4622 0.2266  "
      ]
     },
     "metadata": {},
     "output_type": "display_data"
    },
    {
     "name": "stdout",
     "output_type": "stream",
     "text": [
      "[1] \"nlip\"\n"
     ]
    },
    {
     "data": {
      "text/html": [
       "<table>\n",
       "<thead><tr><th></th><th scope=col>Estimate</th><th scope=col>Std. Error</th><th scope=col>z value</th><th scope=col>Pr(&gt;|z|)</th></tr></thead>\n",
       "<tbody>\n",
       "\t<tr><th scope=row>(Intercept)</th><td>-1.3098</td><td>0.3229 </td><td>-4.0566</td><td>0.000  </td></tr>\n",
       "\t<tr><th scope=row>nlip</th><td> 0.0048</td><td>0.0311 </td><td> 0.1535</td><td>0.878  </td></tr>\n",
       "</tbody>\n",
       "</table>\n"
      ],
      "text/latex": [
       "\\begin{tabular}{r|llll}\n",
       "  & Estimate & Std. Error & z value & Pr(>\\textbar{}z\\textbar{})\\\\\n",
       "\\hline\n",
       "\t(Intercept) & -1.3098 & 0.3229  & -4.0566 & 0.000  \\\\\n",
       "\tnlip &  0.0048 & 0.0311  &  0.1535 & 0.878  \\\\\n",
       "\\end{tabular}\n"
      ],
      "text/markdown": [
       "\n",
       "| <!--/--> | Estimate | Std. Error | z value | Pr(>|z|) | \n",
       "|---|---|\n",
       "| (Intercept) | -1.3098 | 0.3229  | -4.0566 | 0.000   | \n",
       "| nlip |  0.0048 | 0.0311  |  0.1535 | 0.878   | \n",
       "\n",
       "\n"
      ],
      "text/plain": [
       "            Estimate Std. Error z value Pr(>|z|)\n",
       "(Intercept) -1.3098  0.3229     -4.0566 0.000   \n",
       "nlip         0.0048  0.0311      0.1535 0.878   "
      ]
     },
     "metadata": {},
     "output_type": "display_data"
    },
    {
     "name": "stdout",
     "output_type": "stream",
     "text": [
      "[1] \"nlip gee\"\n"
     ]
    },
    {
     "data": {
      "text/html": [
       "<table>\n",
       "<thead><tr><th></th><th scope=col>Estimate</th><th scope=col>Std.err</th><th scope=col>Wald</th><th scope=col>Pr(&gt;|W|)</th></tr></thead>\n",
       "<tbody>\n",
       "\t<tr><th scope=row>(Intercept)</th><td> 1.3082</td><td>0.3174 </td><td>16.9895</td><td>0.0000 </td></tr>\n",
       "\t<tr><th scope=row>nlip</th><td>-0.0034</td><td>0.0353 </td><td> 0.0095</td><td>0.9224 </td></tr>\n",
       "</tbody>\n",
       "</table>\n"
      ],
      "text/latex": [
       "\\begin{tabular}{r|llll}\n",
       "  & Estimate & Std.err & Wald & Pr(>\\textbar{}W\\textbar{})\\\\\n",
       "\\hline\n",
       "\t(Intercept) &  1.3082 & 0.3174  & 16.9895 & 0.0000 \\\\\n",
       "\tnlip & -0.0034 & 0.0353  &  0.0095 & 0.9224 \\\\\n",
       "\\end{tabular}\n"
      ],
      "text/markdown": [
       "\n",
       "| <!--/--> | Estimate | Std.err | Wald | Pr(>|W|) | \n",
       "|---|---|\n",
       "| (Intercept) |  1.3082 | 0.3174  | 16.9895 | 0.0000  | \n",
       "| nlip | -0.0034 | 0.0353  |  0.0095 | 0.9224  | \n",
       "\n",
       "\n"
      ],
      "text/plain": [
       "            Estimate Std.err Wald    Pr(>|W|)\n",
       "(Intercept)  1.3082  0.3174  16.9895 0.0000  \n",
       "nlip        -0.0034  0.0353   0.0095 0.9224  "
      ]
     },
     "metadata": {},
     "output_type": "display_data"
    },
    {
     "name": "stdout",
     "output_type": "stream",
     "text": [
      "[1] \"nLL\"\n"
     ]
    },
    {
     "data": {
      "text/html": [
       "<table>\n",
       "<thead><tr><th></th><th scope=col>Estimate</th><th scope=col>Std. Error</th><th scope=col>z value</th><th scope=col>Pr(&gt;|z|)</th></tr></thead>\n",
       "<tbody>\n",
       "\t<tr><th scope=row>(Intercept)</th><td>-1.3160</td><td>0.3244 </td><td>-4.0574</td><td>0.0000 </td></tr>\n",
       "\t<tr><th scope=row>nLL</th><td> 0.0062</td><td>0.0302 </td><td> 0.2040</td><td>0.8383 </td></tr>\n",
       "</tbody>\n",
       "</table>\n"
      ],
      "text/latex": [
       "\\begin{tabular}{r|llll}\n",
       "  & Estimate & Std. Error & z value & Pr(>\\textbar{}z\\textbar{})\\\\\n",
       "\\hline\n",
       "\t(Intercept) & -1.3160 & 0.3244  & -4.0574 & 0.0000 \\\\\n",
       "\tnLL &  0.0062 & 0.0302  &  0.2040 & 0.8383 \\\\\n",
       "\\end{tabular}\n"
      ],
      "text/markdown": [
       "\n",
       "| <!--/--> | Estimate | Std. Error | z value | Pr(>|z|) | \n",
       "|---|---|\n",
       "| (Intercept) | -1.3160 | 0.3244  | -4.0574 | 0.0000  | \n",
       "| nLL |  0.0062 | 0.0302  |  0.2040 | 0.8383  | \n",
       "\n",
       "\n"
      ],
      "text/plain": [
       "            Estimate Std. Error z value Pr(>|z|)\n",
       "(Intercept) -1.3160  0.3244     -4.0574 0.0000  \n",
       "nLL          0.0062  0.0302      0.2040 0.8383  "
      ]
     },
     "metadata": {},
     "output_type": "display_data"
    },
    {
     "name": "stdout",
     "output_type": "stream",
     "text": [
      "[1] \"nLL gee\"\n"
     ]
    },
    {
     "data": {
      "text/html": [
       "<table>\n",
       "<thead><tr><th></th><th scope=col>Estimate</th><th scope=col>Std.err</th><th scope=col>Wald</th><th scope=col>Pr(&gt;|W|)</th></tr></thead>\n",
       "<tbody>\n",
       "\t<tr><th scope=row>(Intercept)</th><td> 1.3144</td><td>0.3185 </td><td>17.0266</td><td>0.0000 </td></tr>\n",
       "\t<tr><th scope=row>nLL</th><td>-0.0050</td><td>0.0344 </td><td> 0.0208</td><td>0.8853 </td></tr>\n",
       "</tbody>\n",
       "</table>\n"
      ],
      "text/latex": [
       "\\begin{tabular}{r|llll}\n",
       "  & Estimate & Std.err & Wald & Pr(>\\textbar{}W\\textbar{})\\\\\n",
       "\\hline\n",
       "\t(Intercept) &  1.3144 & 0.3185  & 17.0266 & 0.0000 \\\\\n",
       "\tnLL & -0.0050 & 0.0344  &  0.0208 & 0.8853 \\\\\n",
       "\\end{tabular}\n"
      ],
      "text/markdown": [
       "\n",
       "| <!--/--> | Estimate | Std.err | Wald | Pr(>|W|) | \n",
       "|---|---|\n",
       "| (Intercept) |  1.3144 | 0.3185  | 17.0266 | 0.0000  | \n",
       "| nLL | -0.0050 | 0.0344  |  0.0208 | 0.8853  | \n",
       "\n",
       "\n"
      ],
      "text/plain": [
       "            Estimate Std.err Wald    Pr(>|W|)\n",
       "(Intercept)  1.3144  0.3185  17.0266 0.0000  \n",
       "nLL         -0.0050  0.0344   0.0208 0.8853  "
      ]
     },
     "metadata": {},
     "output_type": "display_data"
    }
   ],
   "source": [
    "print('nlac ')\n",
    "nlac.glmm.fit = glmer(outcome ~ nlac + (1|t_number_x), data = recgli, family=\"binomial\")\n",
    "round(summary(nlac.glmm.fit)$coefficients, 4) \n",
    "print('nlac gee')\n",
    "nlac.gee.fit = geeglm(txe_rhgg ~ nlac, data = recgli[!is.na(recgli$nlac),], id = factor(t_number_x), family = binomial, corstr = \"exchangeable\")\n",
    "round(summary(nlac.gee.fit)$coefficients, 4)\n",
    "#########################\n",
    "print('nlip')\n",
    "nlip.glmm.fit = glmer(outcome ~nlip + (1|t_number_x), data = recgli, family=\"binomial\")\n",
    "round(summary(nlip.glmm.fit)$coefficients, 4) \n",
    "print('nlip gee')\n",
    "nlip.gee.fit = geeglm(txe_rhgg ~ nlip, data = recgli[!is.na(recgli$nlip),], id = factor(t_number_x), family = binomial, corstr = \"exchangeable\")\n",
    "round(summary(nlip.gee.fit)$coefficients, 4)\n",
    "#########################\n",
    "print('nLL')\n",
    "nLL.glmm.fit = glmer(outcome ~ nLL + (1|t_number_x), data = recgli, family=\"binomial\")\n",
    "round(summary(nLL.glmm.fit)$coefficients, 4) \n",
    "print('nLL gee')\n",
    "nLL.gee.fit = geeglm(txe_rhgg ~ nLL, data = recgli[!is.na(recgli$nLL),], id = factor(t_number_x), family = binomial, corstr = \"exchangeable\")\n",
    "round(summary(nLL.gee.fit)$coefficients, 4)\n",
    "#########################\n"
   ]
  },
  {
   "cell_type": "markdown",
   "metadata": {},
   "source": [
    "## Third  -- ML: We have 97 patients w/ 207 samples\n",
    "### Our goal is to maximize the specificity of detection of 0's "
   ]
  },
  {
   "cell_type": "code",
   "execution_count": 52,
   "metadata": {},
   "outputs": [
    {
     "data": {
      "text/html": [
       "<dl class=dl-horizontal>\n",
       "\t<dt>vialid</dt>\n",
       "\t\t<dd>0</dd>\n",
       "\t<dt>b_number</dt>\n",
       "\t\t<dd>0</dd>\n",
       "\t<dt>t_number_x</dt>\n",
       "\t\t<dd>0</dd>\n",
       "\t<dt>t_number_y</dt>\n",
       "\t\t<dd>0</dd>\n",
       "\t<dt>sf_number</dt>\n",
       "\t\t<dd>0</dd>\n",
       "\t<dt>current_scan_date</dt>\n",
       "\t\t<dd>0</dd>\n",
       "\t<dt>current_surgery_date</dt>\n",
       "\t\t<dd>0</dd>\n",
       "\t<dt>current_hist_grade</dt>\n",
       "\t\t<dd>0</dd>\n",
       "\t<dt>current_hist_type</dt>\n",
       "\t\t<dd>0</dd>\n",
       "\t<dt>tumor_cell_evaluation</dt>\n",
       "\t\t<dd>0</dd>\n",
       "\t<dt>necrosis</dt>\n",
       "\t\t<dd>0</dd>\n",
       "\t<dt>mv_hyperplasia</dt>\n",
       "\t\t<dd>0</dd>\n",
       "\t<dt>mv_delicate_vasculature</dt>\n",
       "\t\t<dd>0</dd>\n",
       "\t<dt>f8_delicate</dt>\n",
       "\t\t<dd>0</dd>\n",
       "\t<dt>f8_simple</dt>\n",
       "\t\t<dd>0</dd>\n",
       "\t<dt>f8_complex</dt>\n",
       "\t\t<dd>0</dd>\n",
       "\t<dt>mib_1</dt>\n",
       "\t\t<dd>4</dd>\n",
       "\t<dt>avgerage_cells</dt>\n",
       "\t\t<dd>7</dd>\n",
       "\t<dt>treatment_related_ab</dt>\n",
       "\t\t<dd>114</dd>\n",
       "\t<dt>bx_pure_treatment_effect</dt>\n",
       "\t\t<dd>0</dd>\n",
       "\t<dt>percent_tumor_nuclei</dt>\n",
       "\t\t<dd>84</dd>\n",
       "\t<dt>nfl</dt>\n",
       "\t\t<dd>0</dd>\n",
       "\t<dt>nfse</dt>\n",
       "\t\t<dd>0</dd>\n",
       "\t<dt>nt1c</dt>\n",
       "\t\t<dd>0</dd>\n",
       "\t<dt>nt1v</dt>\n",
       "\t\t<dd>14</dd>\n",
       "\t<dt>nt1d</dt>\n",
       "\t\t<dd>14</dd>\n",
       "\t<dt>nadc.1</dt>\n",
       "\t\t<dd>8</dd>\n",
       "\t<dt>nfa.1</dt>\n",
       "\t\t<dd>8</dd>\n",
       "\t<dt>nev1.1</dt>\n",
       "\t\t<dd>19</dd>\n",
       "\t<dt>nev2.1</dt>\n",
       "\t\t<dd>19</dd>\n",
       "\t<dt>nev3.1</dt>\n",
       "\t\t<dd>19</dd>\n",
       "\t<dt>nevrad.1</dt>\n",
       "\t\t<dd>19</dd>\n",
       "\t<dt>nadc.2</dt>\n",
       "\t\t<dd>49</dd>\n",
       "\t<dt>nfa.2</dt>\n",
       "\t\t<dd>49</dd>\n",
       "\t<dt>nev1.2</dt>\n",
       "\t\t<dd>82</dd>\n",
       "\t<dt>nev2.2</dt>\n",
       "\t\t<dd>82</dd>\n",
       "\t<dt>nev3.2</dt>\n",
       "\t\t<dd>82</dd>\n",
       "\t<dt>nevrad.2</dt>\n",
       "\t\t<dd>82</dd>\n",
       "\t<dt>cbvn_nlin</dt>\n",
       "\t\t<dd>60</dd>\n",
       "\t<dt>phn_nlin</dt>\n",
       "\t\t<dd>60</dd>\n",
       "\t<dt>recov_nlin</dt>\n",
       "\t\t<dd>60</dd>\n",
       "\t<dt>phn_npar</dt>\n",
       "\t\t<dd>60</dd>\n",
       "\t<dt>recov_npar</dt>\n",
       "\t\t<dd>60</dd>\n",
       "\t<dt>recovn_npar</dt>\n",
       "\t\t<dd>121</dd>\n",
       "\t<dt>ccri</dt>\n",
       "\t\t<dd>84</dd>\n",
       "\t<dt>cni</dt>\n",
       "\t\t<dd>84</dd>\n",
       "\t<dt>crni</dt>\n",
       "\t\t<dd>84</dd>\n",
       "\t<dt>ncho</dt>\n",
       "\t\t<dd>84</dd>\n",
       "\t<dt>ncre</dt>\n",
       "\t\t<dd>84</dd>\n",
       "\t<dt>nnaa</dt>\n",
       "\t\t<dd>84</dd>\n",
       "\t<dt>nlac</dt>\n",
       "\t\t<dd>84</dd>\n",
       "\t<dt>nlip</dt>\n",
       "\t\t<dd>84</dd>\n",
       "\t<dt>newdata</dt>\n",
       "\t\t<dd>0</dd>\n",
       "\t<dt>olddata</dt>\n",
       "\t\t<dd>0</dd>\n",
       "\t<dt>exclude_bc_hematoma_or_ventricle</dt>\n",
       "\t\t<dd>37</dd>\n",
       "\t<dt>exclude_perf</dt>\n",
       "\t\t<dd>37</dd>\n",
       "\t<dt>nLL</dt>\n",
       "\t\t<dd>84</dd>\n",
       "\t<dt>comments</dt>\n",
       "\t\t<dd>0</dd>\n",
       "\t<dt>perf_quant</dt>\n",
       "\t\t<dd>0</dd>\n",
       "\t<dt>include_perf</dt>\n",
       "\t\t<dd>104</dd>\n",
       "\t<dt>spec_quant</dt>\n",
       "\t\t<dd>0</dd>\n",
       "\t<dt>include_spec</dt>\n",
       "\t\t<dd>0</dd>\n",
       "\t<dt>diffu1000_quant</dt>\n",
       "\t\t<dd>0</dd>\n",
       "\t<dt>diffu2000_quant</dt>\n",
       "\t\t<dd>0</dd>\n",
       "\t<dt>exclude_bc_anat</dt>\n",
       "\t\t<dd>167</dd>\n",
       "\t<dt>exclude_bc_pathology</dt>\n",
       "\t\t<dd>167</dd>\n",
       "\t<dt>include_diffu1000</dt>\n",
       "\t\t<dd>0</dd>\n",
       "\t<dt>include_diffu2000</dt>\n",
       "\t\t<dd>0</dd>\n",
       "\t<dt>exclude_histology</dt>\n",
       "\t\t<dd>167</dd>\n",
       "\t<dt>txe_comments</dt>\n",
       "\t\t<dd>0</dd>\n",
       "\t<dt>outcome</dt>\n",
       "\t\t<dd>0</dd>\n",
       "\t<dt>in_CEL</dt>\n",
       "\t\t<dd>0</dd>\n",
       "\t<dt>in_NEL</dt>\n",
       "\t\t<dd>1</dd>\n",
       "\t<dt>txe_rhgg</dt>\n",
       "\t\t<dd>0</dd>\n",
       "</dl>\n"
      ],
      "text/latex": [
       "\\begin{description*}\n",
       "\\item[vialid] 0\n",
       "\\item[b\\textbackslash{}\\_number] 0\n",
       "\\item[t\\textbackslash{}\\_number\\textbackslash{}\\_x] 0\n",
       "\\item[t\\textbackslash{}\\_number\\textbackslash{}\\_y] 0\n",
       "\\item[sf\\textbackslash{}\\_number] 0\n",
       "\\item[current\\textbackslash{}\\_scan\\textbackslash{}\\_date] 0\n",
       "\\item[current\\textbackslash{}\\_surgery\\textbackslash{}\\_date] 0\n",
       "\\item[current\\textbackslash{}\\_hist\\textbackslash{}\\_grade] 0\n",
       "\\item[current\\textbackslash{}\\_hist\\textbackslash{}\\_type] 0\n",
       "\\item[tumor\\textbackslash{}\\_cell\\textbackslash{}\\_evaluation] 0\n",
       "\\item[necrosis] 0\n",
       "\\item[mv\\textbackslash{}\\_hyperplasia] 0\n",
       "\\item[mv\\textbackslash{}\\_delicate\\textbackslash{}\\_vasculature] 0\n",
       "\\item[f8\\textbackslash{}\\_delicate] 0\n",
       "\\item[f8\\textbackslash{}\\_simple] 0\n",
       "\\item[f8\\textbackslash{}\\_complex] 0\n",
       "\\item[mib\\textbackslash{}\\_1] 4\n",
       "\\item[avgerage\\textbackslash{}\\_cells] 7\n",
       "\\item[treatment\\textbackslash{}\\_related\\textbackslash{}\\_ab] 114\n",
       "\\item[bx\\textbackslash{}\\_pure\\textbackslash{}\\_treatment\\textbackslash{}\\_effect] 0\n",
       "\\item[percent\\textbackslash{}\\_tumor\\textbackslash{}\\_nuclei] 84\n",
       "\\item[nfl] 0\n",
       "\\item[nfse] 0\n",
       "\\item[nt1c] 0\n",
       "\\item[nt1v] 14\n",
       "\\item[nt1d] 14\n",
       "\\item[nadc.1] 8\n",
       "\\item[nfa.1] 8\n",
       "\\item[nev1.1] 19\n",
       "\\item[nev2.1] 19\n",
       "\\item[nev3.1] 19\n",
       "\\item[nevrad.1] 19\n",
       "\\item[nadc.2] 49\n",
       "\\item[nfa.2] 49\n",
       "\\item[nev1.2] 82\n",
       "\\item[nev2.2] 82\n",
       "\\item[nev3.2] 82\n",
       "\\item[nevrad.2] 82\n",
       "\\item[cbvn\\textbackslash{}\\_nlin] 60\n",
       "\\item[phn\\textbackslash{}\\_nlin] 60\n",
       "\\item[recov\\textbackslash{}\\_nlin] 60\n",
       "\\item[phn\\textbackslash{}\\_npar] 60\n",
       "\\item[recov\\textbackslash{}\\_npar] 60\n",
       "\\item[recovn\\textbackslash{}\\_npar] 121\n",
       "\\item[ccri] 84\n",
       "\\item[cni] 84\n",
       "\\item[crni] 84\n",
       "\\item[ncho] 84\n",
       "\\item[ncre] 84\n",
       "\\item[nnaa] 84\n",
       "\\item[nlac] 84\n",
       "\\item[nlip] 84\n",
       "\\item[newdata] 0\n",
       "\\item[olddata] 0\n",
       "\\item[exclude\\textbackslash{}\\_bc\\textbackslash{}\\_hematoma\\textbackslash{}\\_or\\textbackslash{}\\_ventricle] 37\n",
       "\\item[exclude\\textbackslash{}\\_perf] 37\n",
       "\\item[nLL] 84\n",
       "\\item[comments] 0\n",
       "\\item[perf\\textbackslash{}\\_quant] 0\n",
       "\\item[include\\textbackslash{}\\_perf] 104\n",
       "\\item[spec\\textbackslash{}\\_quant] 0\n",
       "\\item[include\\textbackslash{}\\_spec] 0\n",
       "\\item[diffu1000\\textbackslash{}\\_quant] 0\n",
       "\\item[diffu2000\\textbackslash{}\\_quant] 0\n",
       "\\item[exclude\\textbackslash{}\\_bc\\textbackslash{}\\_anat] 167\n",
       "\\item[exclude\\textbackslash{}\\_bc\\textbackslash{}\\_pathology] 167\n",
       "\\item[include\\textbackslash{}\\_diffu1000] 0\n",
       "\\item[include\\textbackslash{}\\_diffu2000] 0\n",
       "\\item[exclude\\textbackslash{}\\_histology] 167\n",
       "\\item[txe\\textbackslash{}\\_comments] 0\n",
       "\\item[outcome] 0\n",
       "\\item[in\\textbackslash{}\\_CEL] 0\n",
       "\\item[in\\textbackslash{}\\_NEL] 1\n",
       "\\item[txe\\textbackslash{}\\_rhgg] 0\n",
       "\\end{description*}\n"
      ],
      "text/markdown": [
       "vialid\n",
       ":   0b_number\n",
       ":   0t_number_x\n",
       ":   0t_number_y\n",
       ":   0sf_number\n",
       ":   0current_scan_date\n",
       ":   0current_surgery_date\n",
       ":   0current_hist_grade\n",
       ":   0current_hist_type\n",
       ":   0tumor_cell_evaluation\n",
       ":   0necrosis\n",
       ":   0mv_hyperplasia\n",
       ":   0mv_delicate_vasculature\n",
       ":   0f8_delicate\n",
       ":   0f8_simple\n",
       ":   0f8_complex\n",
       ":   0mib_1\n",
       ":   4avgerage_cells\n",
       ":   7treatment_related_ab\n",
       ":   114bx_pure_treatment_effect\n",
       ":   0percent_tumor_nuclei\n",
       ":   84nfl\n",
       ":   0nfse\n",
       ":   0nt1c\n",
       ":   0nt1v\n",
       ":   14nt1d\n",
       ":   14nadc.1\n",
       ":   8nfa.1\n",
       ":   8nev1.1\n",
       ":   19nev2.1\n",
       ":   19nev3.1\n",
       ":   19nevrad.1\n",
       ":   19nadc.2\n",
       ":   49nfa.2\n",
       ":   49nev1.2\n",
       ":   82nev2.2\n",
       ":   82nev3.2\n",
       ":   82nevrad.2\n",
       ":   82cbvn_nlin\n",
       ":   60phn_nlin\n",
       ":   60recov_nlin\n",
       ":   60phn_npar\n",
       ":   60recov_npar\n",
       ":   60recovn_npar\n",
       ":   121ccri\n",
       ":   84cni\n",
       ":   84crni\n",
       ":   84ncho\n",
       ":   84ncre\n",
       ":   84nnaa\n",
       ":   84nlac\n",
       ":   84nlip\n",
       ":   84newdata\n",
       ":   0olddata\n",
       ":   0exclude_bc_hematoma_or_ventricle\n",
       ":   37exclude_perf\n",
       ":   37nLL\n",
       ":   84comments\n",
       ":   0perf_quant\n",
       ":   0include_perf\n",
       ":   104spec_quant\n",
       ":   0include_spec\n",
       ":   0diffu1000_quant\n",
       ":   0diffu2000_quant\n",
       ":   0exclude_bc_anat\n",
       ":   167exclude_bc_pathology\n",
       ":   167include_diffu1000\n",
       ":   0include_diffu2000\n",
       ":   0exclude_histology\n",
       ":   167txe_comments\n",
       ":   0outcome\n",
       ":   0in_CEL\n",
       ":   0in_NEL\n",
       ":   1txe_rhgg\n",
       ":   0\n",
       "\n"
      ],
      "text/plain": [
       "                          vialid                         b_number \n",
       "                               0                                0 \n",
       "                      t_number_x                       t_number_y \n",
       "                               0                                0 \n",
       "                       sf_number                current_scan_date \n",
       "                               0                                0 \n",
       "            current_surgery_date               current_hist_grade \n",
       "                               0                                0 \n",
       "               current_hist_type            tumor_cell_evaluation \n",
       "                               0                                0 \n",
       "                        necrosis                   mv_hyperplasia \n",
       "                               0                                0 \n",
       "         mv_delicate_vasculature                      f8_delicate \n",
       "                               0                                0 \n",
       "                       f8_simple                       f8_complex \n",
       "                               0                                0 \n",
       "                           mib_1                   avgerage_cells \n",
       "                               4                                7 \n",
       "            treatment_related_ab         bx_pure_treatment_effect \n",
       "                             114                                0 \n",
       "            percent_tumor_nuclei                              nfl \n",
       "                              84                                0 \n",
       "                            nfse                             nt1c \n",
       "                               0                                0 \n",
       "                            nt1v                             nt1d \n",
       "                              14                               14 \n",
       "                          nadc.1                            nfa.1 \n",
       "                               8                                8 \n",
       "                          nev1.1                           nev2.1 \n",
       "                              19                               19 \n",
       "                          nev3.1                         nevrad.1 \n",
       "                              19                               19 \n",
       "                          nadc.2                            nfa.2 \n",
       "                              49                               49 \n",
       "                          nev1.2                           nev2.2 \n",
       "                              82                               82 \n",
       "                          nev3.2                         nevrad.2 \n",
       "                              82                               82 \n",
       "                       cbvn_nlin                         phn_nlin \n",
       "                              60                               60 \n",
       "                      recov_nlin                         phn_npar \n",
       "                              60                               60 \n",
       "                      recov_npar                      recovn_npar \n",
       "                              60                              121 \n",
       "                            ccri                              cni \n",
       "                              84                               84 \n",
       "                            crni                             ncho \n",
       "                              84                               84 \n",
       "                            ncre                             nnaa \n",
       "                              84                               84 \n",
       "                            nlac                             nlip \n",
       "                              84                               84 \n",
       "                         newdata                          olddata \n",
       "                               0                                0 \n",
       "exclude_bc_hematoma_or_ventricle                     exclude_perf \n",
       "                              37                               37 \n",
       "                             nLL                         comments \n",
       "                              84                                0 \n",
       "                      perf_quant                     include_perf \n",
       "                               0                              104 \n",
       "                      spec_quant                     include_spec \n",
       "                               0                                0 \n",
       "                 diffu1000_quant                  diffu2000_quant \n",
       "                               0                                0 \n",
       "                 exclude_bc_anat             exclude_bc_pathology \n",
       "                             167                              167 \n",
       "               include_diffu1000                include_diffu2000 \n",
       "                               0                                0 \n",
       "               exclude_histology                     txe_comments \n",
       "                             167                                0 \n",
       "                         outcome                           in_CEL \n",
       "                               0                                0 \n",
       "                          in_NEL                         txe_rhgg \n",
       "                               1                                0 "
      ]
     },
     "metadata": {},
     "output_type": "display_data"
    }
   ],
   "source": [
    "colSums(is.na(recgli))"
   ]
  },
  {
   "cell_type": "code",
   "execution_count": 53,
   "metadata": {},
   "outputs": [
    {
     "name": "stderr",
     "output_type": "stream",
     "text": [
      "randomForest 4.6-14\n",
      "Type rfNews() to see new features/changes/bug fixes.\n",
      "\n",
      " randomForestSRC 2.7.0 \n",
      " \n",
      " Type rfsrc.news() to see new features, changes, and bug fixes. \n",
      " \n",
      "\n",
      "Loading required package: lattice\n",
      "Loading required package: ggplot2\n",
      "\n",
      "Attaching package: ‘ggplot2’\n",
      "\n",
      "The following object is masked from ‘package:randomForest’:\n",
      "\n",
      "    margin\n",
      "\n"
     ]
    }
   ],
   "source": [
    "library(randomForest)\n",
    "library(randomForestSRC)\n",
    "library(caret)\n",
    "library(tictoc)"
   ]
  },
  {
   "cell_type": "code",
   "execution_count": 54,
   "metadata": {},
   "outputs": [
    {
     "data": {
      "text/html": [
       "84"
      ],
      "text/latex": [
       "84"
      ],
      "text/markdown": [
       "84"
      ],
      "text/plain": [
       "[1] 84"
      ]
     },
     "metadata": {},
     "output_type": "display_data"
    },
    {
     "data": {
      "text/html": [
       "<ol class=list-inline>\n",
       "\t<li>167</li>\n",
       "\t<li>74</li>\n",
       "</ol>\n"
      ],
      "text/latex": [
       "\\begin{enumerate*}\n",
       "\\item 167\n",
       "\\item 74\n",
       "\\end{enumerate*}\n"
      ],
      "text/markdown": [
       "1. 167\n",
       "2. 74\n",
       "\n",
       "\n"
      ],
      "text/plain": [
       "[1] 167  74"
      ]
     },
     "metadata": {},
     "output_type": "display_data"
    }
   ],
   "source": [
    "length(unique(recgli$t_number_x))\n",
    "dim(recgli)\n",
    "unique_tnums = unique(recgli$t_number_x)\n"
   ]
  },
  {
   "cell_type": "code",
   "execution_count": 55,
   "metadata": {},
   "outputs": [],
   "source": [
    "## Set seed & split by t_number_x\n",
    "set.seed(120)\n",
    "train_tnums = unique_tnums[sample(c(1:length(unique_tnums)), size = round(length(unique_tnums)*.75))]\n",
    "test_tnums = unique_tnums[! unique_tnums %in% train_tnums]"
   ]
  },
  {
   "cell_type": "code",
   "execution_count": 56,
   "metadata": {},
   "outputs": [
    {
     "data": {
      "text/html": [
       "<ol class=list-inline>\n",
       "\t<li>131</li>\n",
       "\t<li>74</li>\n",
       "</ol>\n"
      ],
      "text/latex": [
       "\\begin{enumerate*}\n",
       "\\item 131\n",
       "\\item 74\n",
       "\\end{enumerate*}\n"
      ],
      "text/markdown": [
       "1. 131\n",
       "2. 74\n",
       "\n",
       "\n"
      ],
      "text/plain": [
       "[1] 131  74"
      ]
     },
     "metadata": {},
     "output_type": "display_data"
    },
    {
     "data": {
      "text/html": [
       "<ol class=list-inline>\n",
       "\t<li>36</li>\n",
       "\t<li>74</li>\n",
       "</ol>\n"
      ],
      "text/latex": [
       "\\begin{enumerate*}\n",
       "\\item 36\n",
       "\\item 74\n",
       "\\end{enumerate*}\n"
      ],
      "text/markdown": [
       "1. 36\n",
       "2. 74\n",
       "\n",
       "\n"
      ],
      "text/plain": [
       "[1] 36 74"
      ]
     },
     "metadata": {},
     "output_type": "display_data"
    }
   ],
   "source": [
    "## split data by patient split above: \n",
    "recgli_train= recgli[recgli$t_number_x %in% train_tnums, ]\n",
    "dim(recgli_train)\n",
    "recgli_test= recgli[recgli$t_number_x %in% test_tnums, ]\n",
    "dim(recgli_test)"
   ]
  },
  {
   "cell_type": "code",
   "execution_count": 55,
   "metadata": {},
   "outputs": [
    {
     "data": {
      "text/plain": [
       "\n",
       "rHGG  txe \n",
       " 106   25 "
      ]
     },
     "metadata": {},
     "output_type": "display_data"
    },
    {
     "data": {
      "text/plain": [
       "\n",
       "rHGG  txe \n",
       "  25   11 "
      ]
     },
     "metadata": {},
     "output_type": "display_data"
    }
   ],
   "source": [
    "## make sure that the balance of outcome is good: \n",
    "table(recgli_train$outcome)\n",
    "table(recgli_test$outcome)\n",
    "## looks alright."
   ]
  },
  {
   "cell_type": "code",
   "execution_count": 36,
   "metadata": {},
   "outputs": [
    {
     "data": {
      "text/plain": [
       "\n",
       "rHGG  txe \n",
       " 131   36 "
      ]
     },
     "metadata": {},
     "output_type": "display_data"
    }
   ],
   "source": [
    "table(recgli$outcome)"
   ]
  },
  {
   "cell_type": "markdown",
   "metadata": {},
   "source": [
    "## All significant params: "
   ]
  },
  {
   "cell_type": "code",
   "execution_count": 57,
   "metadata": {},
   "outputs": [],
   "source": [
    "## let's extract confusion matrix and put that in a data frame: \n",
    "outcome_experiment_template = data.frame(expnum = NA,\n",
    "                                        node_size = NA,\n",
    "                                        mtry = NA,\n",
    "                                        cwtxe = NA, \n",
    "                                        cwrHGG = NA, \n",
    "                                        tr_outtxe_predtxe = NA, \n",
    "                                        tr_outtxe_predrHGG = NA, \n",
    "                                        tr_outrHGG_predtxe = NA, \n",
    "                                        tr_outrHGG_predrHGG = NA, \n",
    "                                        cv_outtxe_predtxe = NA, \n",
    "                                        cv_outtxe_predrHGG = NA, \n",
    "                                        cv_outrHGG_predtxe = NA, \n",
    "                                        cv_outrHGG_predrHGG = NA)"
   ]
  },
  {
   "cell_type": "code",
   "execution_count": 58,
   "metadata": {},
   "outputs": [],
   "source": [
    "outcome_all_experiment = outcome_experiment_template"
   ]
  },
  {
   "cell_type": "code",
   "execution_count": 64,
   "metadata": {},
   "outputs": [
    {
     "name": "stdout",
     "output_type": "stream",
     "text": [
      "25.434 sec elapsed\n"
     ]
    }
   ],
   "source": [
    "# let's begin by running experiments for allomic features only: \n",
    "## for each experiment, we'll run the random forest with a variety of parameters \n",
    "expnum = 1\n",
    "tic()\n",
    "for (i in 1:25){\n",
    "    set.seed(i)\n",
    "    \n",
    "    ## define features and outcome: \n",
    "    outcome = \"outcome\"\n",
    "    features = c('nt1d', 'cbvn_nlin', 'recov_npar', 'nnaa', 'cni')\n",
    "    features.addsign <- paste(features, collapse = \"+\")\n",
    "    rf_formula = as.formula(paste(outcome, features.addsign, sep = \"~\"))\n",
    "    \n",
    "    ## define training and testing (from the training) basically for x-val: \n",
    "    unique_tnums = unique(recgli_train$t_number_y)\n",
    "    train_tnums = unique_tnums[sample(c(1:length(unique_tnums)), size = round(length(unique_tnums)*.75))]\n",
    "    test_tnums = unique_tnums[! unique_tnums %in% train_tnums]\n",
    "    \n",
    "    recgli_exp_train= recgli_train[recgli_train$t_number_y %in% train_tnums, ]\n",
    "    recgli_exp_cv = recgli_train[! recgli_train$t_number_y %in% train_tnums, ]\n",
    "    \n",
    "    for (nodesize in c(1)){\n",
    "        for (mtry in c(2, 3, 4)){\n",
    "            for (cwtxe in c(1, 10, 100, 1000, 10000)){\n",
    "                for (cwrHGG in c(1, 10, .1)){\n",
    "                    rf = randomForest(formula = rf_formula, \n",
    "                         data = recgli_exp_train, nodesize = nodesize, mtry = mtry, cw = c(cwtxe, cwrHGG), na.action = na.omit)\n",
    "\n",
    "                    cv_preds = predict(rf, recgli_exp_cv)\n",
    "\n",
    "                    cv_conf_mat = confusionMatrix(cv_preds, recgli_exp_cv$outcome)\n",
    "\n",
    "                    outcome_all_experiment[expnum,'expnum'] = expnum\n",
    "                    outcome_all_experiment[expnum,'node_size'] = nodesize\n",
    "                    outcome_all_experiment[expnum,'mtry'] = mtry\n",
    "                    outcome_all_experiment[expnum,'cwtxe'] = cwtxe\n",
    "                    outcome_all_experiment[expnum,'cwrHGG'] = cwrHGG\n",
    "                    outcome_all_experiment[expnum,'tr_outtxe_predtxe'] = rf$confusion['txe', 'txe']\n",
    "                    outcome_all_experiment[expnum,'tr_outtxe_predrHGG'] = rf$confusion['txe', 'rHGG']\n",
    "                    outcome_all_experiment[expnum,'tr_outrHGG_predtxe'] = rf$confusion['rHGG', 'txe']\n",
    "                    outcome_all_experiment[expnum,'tr_outrHGG_predrHGG'] = rf$confusion['rHGG', 'rHGG']\n",
    "                    outcome_all_experiment[expnum,'cv_outtxe_predtxe'] = cv_conf_mat$table['txe', 'txe']\n",
    "                    outcome_all_experiment[expnum,'cv_outtxe_predrHGG'] = cv_conf_mat$table['txe', 'rHGG']\n",
    "                    outcome_all_experiment[expnum,'cv_outrHGG_predtxe'] = cv_conf_mat$table['rHGG', 'txe']\n",
    "                    outcome_all_experiment[expnum,'cv_outrHGG_predrHGG'] = cv_conf_mat$table['rHGG', 'rHGG']\n",
    "                    expnum = expnum + 1\n",
    "                }\n",
    "            }\n",
    "\n",
    "        }\n",
    "    }\n",
    "}\n",
    "toc()"
   ]
  },
  {
   "cell_type": "code",
   "execution_count": 65,
   "metadata": {},
   "outputs": [
    {
     "data": {
      "text/html": [
       "<table>\n",
       "<thead><tr><th></th><th scope=col>expnum</th><th scope=col>node_size</th><th scope=col>mtry</th><th scope=col>cwtxe</th><th scope=col>cwrHGG</th><th scope=col>tr_outtxe_predtxe</th><th scope=col>tr_outtxe_predrHGG</th><th scope=col>tr_outrHGG_predtxe</th><th scope=col>tr_outrHGG_predrHGG</th><th scope=col>cv_outtxe_predtxe</th><th scope=col>cv_outtxe_predrHGG</th><th scope=col>cv_outrHGG_predtxe</th><th scope=col>cv_outrHGG_predrHGG</th></tr></thead>\n",
       "<tbody>\n",
       "\t<tr><th scope=row>1075</th><td>1075 </td><td>1    </td><td>4    </td><td> 1000</td><td> 1.0 </td><td>0    </td><td>5    </td><td>5    </td><td>25   </td><td>1    </td><td>1    </td><td>1    </td><td>11   </td></tr>\n",
       "\t<tr><th scope=row>1076</th><td>1076 </td><td>1    </td><td>4    </td><td> 1000</td><td>10.0 </td><td>0    </td><td>5    </td><td>4    </td><td>26   </td><td>1    </td><td>1    </td><td>1    </td><td>11   </td></tr>\n",
       "\t<tr><th scope=row>1077</th><td>1077 </td><td>1    </td><td>4    </td><td> 1000</td><td> 0.1 </td><td>0    </td><td>5    </td><td>4    </td><td>26   </td><td>1    </td><td>1    </td><td>1    </td><td>11   </td></tr>\n",
       "\t<tr><th scope=row>1078</th><td>1078 </td><td>1    </td><td>4    </td><td>10000</td><td> 1.0 </td><td>0    </td><td>5    </td><td>4    </td><td>26   </td><td>1    </td><td>1    </td><td>1    </td><td>11   </td></tr>\n",
       "\t<tr><th scope=row>1079</th><td>1079 </td><td>1    </td><td>4    </td><td>10000</td><td>10.0 </td><td>0    </td><td>5    </td><td>5    </td><td>25   </td><td>1    </td><td>1    </td><td>1    </td><td>11   </td></tr>\n",
       "\t<tr><th scope=row>1080</th><td>1080 </td><td>1    </td><td>4    </td><td>10000</td><td> 0.1 </td><td>0    </td><td>5    </td><td>5    </td><td>25   </td><td>1    </td><td>1    </td><td>1    </td><td>11   </td></tr>\n",
       "</tbody>\n",
       "</table>\n"
      ],
      "text/latex": [
       "\\begin{tabular}{r|lllllllllllll}\n",
       "  & expnum & node\\_size & mtry & cwtxe & cwrHGG & tr\\_outtxe\\_predtxe & tr\\_outtxe\\_predrHGG & tr\\_outrHGG\\_predtxe & tr\\_outrHGG\\_predrHGG & cv\\_outtxe\\_predtxe & cv\\_outtxe\\_predrHGG & cv\\_outrHGG\\_predtxe & cv\\_outrHGG\\_predrHGG\\\\\n",
       "\\hline\n",
       "\t1075 & 1075  & 1     & 4     &  1000 &  1.0  & 0     & 5     & 5     & 25    & 1     & 1     & 1     & 11   \\\\\n",
       "\t1076 & 1076  & 1     & 4     &  1000 & 10.0  & 0     & 5     & 4     & 26    & 1     & 1     & 1     & 11   \\\\\n",
       "\t1077 & 1077  & 1     & 4     &  1000 &  0.1  & 0     & 5     & 4     & 26    & 1     & 1     & 1     & 11   \\\\\n",
       "\t1078 & 1078  & 1     & 4     & 10000 &  1.0  & 0     & 5     & 4     & 26    & 1     & 1     & 1     & 11   \\\\\n",
       "\t1079 & 1079  & 1     & 4     & 10000 & 10.0  & 0     & 5     & 5     & 25    & 1     & 1     & 1     & 11   \\\\\n",
       "\t1080 & 1080  & 1     & 4     & 10000 &  0.1  & 0     & 5     & 5     & 25    & 1     & 1     & 1     & 11   \\\\\n",
       "\\end{tabular}\n"
      ],
      "text/markdown": [
       "\n",
       "| <!--/--> | expnum | node_size | mtry | cwtxe | cwrHGG | tr_outtxe_predtxe | tr_outtxe_predrHGG | tr_outrHGG_predtxe | tr_outrHGG_predrHGG | cv_outtxe_predtxe | cv_outtxe_predrHGG | cv_outrHGG_predtxe | cv_outrHGG_predrHGG | \n",
       "|---|---|---|---|---|---|\n",
       "| 1075 | 1075  | 1     | 4     |  1000 |  1.0  | 0     | 5     | 5     | 25    | 1     | 1     | 1     | 11    | \n",
       "| 1076 | 1076  | 1     | 4     |  1000 | 10.0  | 0     | 5     | 4     | 26    | 1     | 1     | 1     | 11    | \n",
       "| 1077 | 1077  | 1     | 4     |  1000 |  0.1  | 0     | 5     | 4     | 26    | 1     | 1     | 1     | 11    | \n",
       "| 1078 | 1078  | 1     | 4     | 10000 |  1.0  | 0     | 5     | 4     | 26    | 1     | 1     | 1     | 11    | \n",
       "| 1079 | 1079  | 1     | 4     | 10000 | 10.0  | 0     | 5     | 5     | 25    | 1     | 1     | 1     | 11    | \n",
       "| 1080 | 1080  | 1     | 4     | 10000 |  0.1  | 0     | 5     | 5     | 25    | 1     | 1     | 1     | 11    | \n",
       "\n",
       "\n"
      ],
      "text/plain": [
       "     expnum node_size mtry cwtxe cwrHGG tr_outtxe_predtxe tr_outtxe_predrHGG\n",
       "1075 1075   1         4     1000  1.0   0                 5                 \n",
       "1076 1076   1         4     1000 10.0   0                 5                 \n",
       "1077 1077   1         4     1000  0.1   0                 5                 \n",
       "1078 1078   1         4    10000  1.0   0                 5                 \n",
       "1079 1079   1         4    10000 10.0   0                 5                 \n",
       "1080 1080   1         4    10000  0.1   0                 5                 \n",
       "     tr_outrHGG_predtxe tr_outrHGG_predrHGG cv_outtxe_predtxe\n",
       "1075 5                  25                  1                \n",
       "1076 4                  26                  1                \n",
       "1077 4                  26                  1                \n",
       "1078 4                  26                  1                \n",
       "1079 5                  25                  1                \n",
       "1080 5                  25                  1                \n",
       "     cv_outtxe_predrHGG cv_outrHGG_predtxe cv_outrHGG_predrHGG\n",
       "1075 1                  1                  11                 \n",
       "1076 1                  1                  11                 \n",
       "1077 1                  1                  11                 \n",
       "1078 1                  1                  11                 \n",
       "1079 1                  1                  11                 \n",
       "1080 1                  1                  11                 "
      ]
     },
     "metadata": {},
     "output_type": "display_data"
    }
   ],
   "source": [
    "tail(outcome_all_experiment[order(outcome_all_experiment$cv_outtxe_predtxe),])"
   ]
  },
  {
   "cell_type": "code",
   "execution_count": 49,
   "metadata": {},
   "outputs": [],
   "source": [
    "outcome_anat_experiment['tr_sensitivity'] = (outcome_anat_experiment$tr_outtxe_predtxe)/(outcome_anat_experiment$tr_outtxe_predtxe+outcome_anat_experiment$tr_outrHGG_predtxe)\n",
    "outcome_anat_experiment['cv_sensitivity'] = (outcome_anat_experiment$cv_outtxe_predtxe)/(outcome_anat_experiment$cv_outtxe_predtxe+outcome_anat_experiment$cv_outrHGG_predtxe)"
   ]
  },
  {
   "cell_type": "code",
   "execution_count": 50,
   "metadata": {},
   "outputs": [
    {
     "name": "stdout",
     "output_type": "stream",
     "text": [
      "[1] \"summary for cwtxe:  1 and cwrHGG:  1\"\n",
      "   Min. 1st Qu.  Median    Mean 3rd Qu.    Max. \n",
      " 0.0000  0.0000  0.0000  0.1247  0.2000  1.0000 \n",
      "[1] \"summary for cwtxe:  1 and cwrHGG:  10\"\n",
      "   Min. 1st Qu.  Median    Mean 3rd Qu.    Max. \n",
      " 0.0000  0.0000  0.0000  0.1388  0.2000  1.0000 \n",
      "[1] \"summary for cwtxe:  1 and cwrHGG:  0.1\"\n",
      "   Min. 1st Qu.  Median    Mean 3rd Qu.    Max. \n",
      " 0.0000  0.0000  0.0000  0.1395  0.2000  1.0000 \n",
      "[1] \"summary for cwtxe:  10 and cwrHGG:  1\"\n",
      "   Min. 1st Qu.  Median    Mean 3rd Qu.    Max. \n",
      " 0.0000  0.0000  0.0000  0.1518  0.2500  1.0000 \n",
      "[1] \"summary for cwtxe:  10 and cwrHGG:  10\"\n",
      "   Min. 1st Qu.  Median    Mean 3rd Qu.    Max. \n",
      " 0.0000  0.0000  0.0000  0.1235  0.2000  1.0000 \n",
      "[1] \"summary for cwtxe:  10 and cwrHGG:  0.1\"\n",
      "   Min. 1st Qu.  Median    Mean 3rd Qu.    Max. \n",
      " 0.0000  0.0000  0.0000  0.1194  0.2000  1.0000 \n",
      "[1] \"summary for cwtxe:  100 and cwrHGG:  1\"\n",
      "   Min. 1st Qu.  Median    Mean 3rd Qu.    Max. \n",
      " 0.0000  0.0000  0.0000  0.1328  0.2000  1.0000 \n",
      "[1] \"summary for cwtxe:  100 and cwrHGG:  10\"\n",
      "   Min. 1st Qu.  Median    Mean 3rd Qu.    Max. \n",
      " 0.0000  0.0000  0.0000  0.1269  0.2000  1.0000 \n",
      "[1] \"summary for cwtxe:  100 and cwrHGG:  0.1\"\n",
      "   Min. 1st Qu.  Median    Mean 3rd Qu.    Max. \n",
      " 0.0000  0.0000  0.0000  0.1335  0.2000  1.0000 \n",
      "[1] \"summary for cwtxe:  1000 and cwrHGG:  1\"\n",
      "   Min. 1st Qu.  Median    Mean 3rd Qu.    Max. \n",
      " 0.0000  0.0000  0.0000  0.1281  0.2000  1.0000 \n",
      "[1] \"summary for cwtxe:  1000 and cwrHGG:  10\"\n",
      "   Min. 1st Qu.  Median    Mean 3rd Qu.    Max. \n",
      "  0.000   0.000   0.000   0.137   0.200   1.000 \n",
      "[1] \"summary for cwtxe:  1000 and cwrHGG:  0.1\"\n",
      "   Min. 1st Qu.  Median    Mean 3rd Qu.    Max. \n",
      "  0.000   0.000   0.000   0.135   0.200   1.000 \n",
      "[1] \"summary for cwtxe:  10000 and cwrHGG:  1\"\n",
      "   Min. 1st Qu.  Median    Mean 3rd Qu.    Max. \n",
      " 0.0000  0.0000  0.0000  0.1229  0.2000  1.0000 \n",
      "[1] \"summary for cwtxe:  10000 and cwrHGG:  10\"\n",
      "   Min. 1st Qu.  Median    Mean 3rd Qu.    Max. \n",
      " 0.0000  0.0000  0.0000  0.1391  0.2000  1.0000 \n",
      "[1] \"summary for cwtxe:  10000 and cwrHGG:  0.1\"\n",
      "   Min. 1st Qu.  Median    Mean 3rd Qu.    Max. \n",
      " 0.0000  0.0000  0.0000  0.1381  0.2000  1.0000 \n"
     ]
    }
   ],
   "source": [
    "## let's see what mtry looks the best for exp2: \n",
    "for (cwtxe in c(1, 10, 100, 1000, 10000)){\n",
    "    for (cwrHGG in c(1, 10, .1)){\n",
    "        cwtxe_outcome = outcome_anat_experiment[which(outcome_anat_experiment$cwtxe==cwtxe),]\n",
    "        cwrHGG_outcome = cwtxe_outcome[which(cwtxe_outcome$cwrHGG==cwrHGG),]\n",
    "        print(paste('summary for cwtxe: ', as.character(cwtxe), 'and cwrHGG: ', as.character(cwrHGG)))\n",
    "        print(summary(cwrHGG_outcome[,grep('specificity', colnames(cwrHGG_outcome))]))\n",
    "    }\n",
    "}"
   ]
  },
  {
   "cell_type": "code",
   "execution_count": 51,
   "metadata": {},
   "outputs": [],
   "source": [
    "\n",
    "outcome = \"outcome\"\n",
    "features.addsign <- paste(anat, collapse = \"+\")\n",
    "rf_formula = as.formula(paste(outcome, features.addsign, sep = \"~\"))"
   ]
  },
  {
   "cell_type": "code",
   "execution_count": 53,
   "metadata": {},
   "outputs": [],
   "source": [
    "rf = randomForest(formula = rf_formula, \n",
    "                         data = recgli_train, nodesize = nodesize, mtry = mtry, cw = c(cw0, cw3), na.action = na.omit)\n",
    "\n",
    "                    cv_preds = predict(rf, recgli_test)\n",
    "\n",
    "                    cv_conf_mat = confusionMatrix(cv_preds, recgli_test$outcome)\n"
   ]
  },
  {
   "cell_type": "code",
   "execution_count": 54,
   "metadata": {
    "scrolled": true
   },
   "outputs": [
    {
     "data": {
      "text/plain": [
       "Confusion Matrix and Statistics\n",
       "\n",
       "          Reference\n",
       "Prediction rHGG txe\n",
       "      rHGG   24  10\n",
       "      txe     0   0\n",
       "                                         \n",
       "               Accuracy : 0.7059         \n",
       "                 95% CI : (0.5252, 0.849)\n",
       "    No Information Rate : 0.7059         \n",
       "    P-Value [Acc > NIR] : 0.584308       \n",
       "                                         \n",
       "                  Kappa : 0              \n",
       " Mcnemar's Test P-Value : 0.004427       \n",
       "                                         \n",
       "            Sensitivity : 1.0000         \n",
       "            Specificity : 0.0000         \n",
       "         Pos Pred Value : 0.7059         \n",
       "         Neg Pred Value :    NaN         \n",
       "             Prevalence : 0.7059         \n",
       "         Detection Rate : 0.7059         \n",
       "   Detection Prevalence : 1.0000         \n",
       "      Balanced Accuracy : 0.5000         \n",
       "                                         \n",
       "       'Positive' Class : rHGG           \n",
       "                                         "
      ]
     },
     "metadata": {},
     "output_type": "display_data"
    }
   ],
   "source": [
    "cv_conf_mat"
   ]
  },
  {
   "cell_type": "markdown",
   "metadata": {},
   "source": [
    "### Diffu: "
   ]
  },
  {
   "cell_type": "code",
   "execution_count": 61,
   "metadata": {},
   "outputs": [],
   "source": [
    "outcome_diffu_expt = outcome_experiment_template"
   ]
  },
  {
   "cell_type": "code",
   "execution_count": 62,
   "metadata": {},
   "outputs": [
    {
     "name": "stdout",
     "output_type": "stream",
     "text": [
      "55.677 sec elapsed\n"
     ]
    }
   ],
   "source": [
    "# let's begin by running expts for diffuomic features only: \n",
    "## for each expt, we'll run the random forest with a variety of parameters \n",
    "expnum = 1\n",
    "tic()\n",
    "for (i in 1:25){\n",
    "    set.seed(i)\n",
    "    \n",
    "    ## define features and outcome: \n",
    "    outcome = \"outcome\"\n",
    "    features = c(anat, diffu)\n",
    "    features.addsign <- paste(features, collapse = \"+\")\n",
    "    rf_formula = as.formula(paste(outcome, features.addsign, sep = \"~\"))\n",
    "    \n",
    "    ## define training and testing (from the training) basically for x-val: \n",
    "    unique_tnums = unique(recgli_train$t_number_y)\n",
    "    train_tnums = unique_tnums[sample(c(1:length(unique_tnums)), size = round(length(unique_tnums)*.75))]\n",
    "    test_tnums = unique_tnums[! unique_tnums %in% train_tnums]\n",
    "    \n",
    "    recgli_exp_train= recgli_train[recgli_train$t_number_y %in% train_tnums, ]\n",
    "    recgli_exp_cv = recgli_train[! recgli_train$t_number_y %in% train_tnums, ]\n",
    "    \n",
    "    for (nodesize in c(1)){\n",
    "        for (mtry in c(2, 3, 4)){\n",
    "            for (cwtxe in c(1, 10, 100, 1000, 10000)){\n",
    "                for (cwrHGG in c(1, .01, .1)){\n",
    "                    rf = randomForest(formula = rf_formula, \n",
    "                         data = recgli_exp_train, nodesize = nodesize, mtry = mtry, cw = c(cwtxe, cwrHGG), na.action = na.omit)\n",
    "\n",
    "                    cv_preds = predict(rf, recgli_exp_cv)\n",
    "\n",
    "                    cv_conf_mat = confusionMatrix(cv_preds, recgli_exp_cv$outcome)\n",
    "\n",
    "                    outcome_diffu_expt[expnum,'expnum'] = expnum\n",
    "                    outcome_diffu_expt[expnum,'node_size'] = nodesize\n",
    "                    outcome_diffu_expt[expnum,'mtry'] = mtry\n",
    "                    outcome_diffu_expt[expnum,'cwtxe'] = cwtxe\n",
    "                    outcome_diffu_expt[expnum,'cwrHGG'] = cwrHGG\n",
    "                    outcome_diffu_expt[expnum,'tr_outtxe_predtxe'] = rf$confusion['txe', 'txe']\n",
    "                    outcome_diffu_expt[expnum,'tr_outtxe_predrHGG'] = rf$confusion['txe', 'rHGG']\n",
    "                    outcome_diffu_expt[expnum,'tr_outrHGG_predtxe'] = rf$confusion['rHGG', 'txe']\n",
    "                    outcome_diffu_expt[expnum,'tr_outrHGG_predrHGG'] = rf$confusion['rHGG', 'rHGG']\n",
    "                    outcome_diffu_expt[expnum,'cv_outtxe_predtxe'] = cv_conf_mat$table['txe', 'txe']\n",
    "                    outcome_diffu_expt[expnum,'cv_outtxe_predrHGG'] = cv_conf_mat$table['txe', 'rHGG']\n",
    "                    outcome_diffu_expt[expnum,'cv_outrHGG_predtxe'] = cv_conf_mat$table['rHGG', 'txe']\n",
    "                    outcome_diffu_expt[expnum,'cv_outrHGG_predrHGG'] = cv_conf_mat$table['rHGG', 'rHGG']\n",
    "                    expnum = expnum + 1\n",
    "                }\n",
    "            }\n",
    "\n",
    "        }\n",
    "    }\n",
    "}\n",
    "toc()"
   ]
  },
  {
   "cell_type": "code",
   "execution_count": 63,
   "metadata": {},
   "outputs": [],
   "source": [
    "outcome_diffu_expt['tr_specificity'] = (outcome_diffu_expt$tr_out0_pred0)/(outcome_diffu_expt$tr_out0_pred0+outcome_diffu_expt$tr_out3_pred0)\n",
    "outcome_diffu_expt['cv_specificity'] = (outcome_diffu_expt$cv_out0_pred0)/(outcome_diffu_expt$cv_out0_pred0+outcome_diffu_expt$cv_out3_pred0)"
   ]
  },
  {
   "cell_type": "code",
   "execution_count": 68,
   "metadata": {},
   "outputs": [],
   "source": [
    "outcome_diffu_expt = outcome_diffu_expt[order(outcome_diffu_expt$cv_outtxe_predtxe),]"
   ]
  },
  {
   "cell_type": "code",
   "execution_count": 71,
   "metadata": {},
   "outputs": [
    {
     "data": {
      "text/plain": [
       "\n",
       "   0 \n",
       "1125 "
      ]
     },
     "metadata": {},
     "output_type": "display_data"
    }
   ],
   "source": [
    "table(outcome_diffu_expt$cv_outtxe_predtxe)"
   ]
  },
  {
   "cell_type": "code",
   "execution_count": 72,
   "metadata": {},
   "outputs": [],
   "source": [
    "outcome = \"outcome\"\n",
    "features = c(anat, diffu)\n",
    "features.addsign <- paste(features, collapse = \"+\")\n",
    "rf_formula = as.formula(paste(outcome, features.addsign, sep = \"~\"))"
   ]
  },
  {
   "cell_type": "code",
   "execution_count": 73,
   "metadata": {},
   "outputs": [],
   "source": [
    "cwtxe  = 10000 \n",
    "cwrHGG = 0.01"
   ]
  },
  {
   "cell_type": "code",
   "execution_count": 74,
   "metadata": {},
   "outputs": [],
   "source": [
    "rf = randomForest(formula = rf_formula, \n",
    "                         data = recgli_train, nodesize = nodesize, mtry = mtry, cw = c(cwtxe, cwrHGG), na.action = na.omit)\n",
    "\n",
    "                    cv_preds = predict(rf, recgli_test)\n",
    "\n",
    "                    cv_conf_mat = confusionMatrix(cv_preds, recgli_test$outcome)\n"
   ]
  },
  {
   "cell_type": "code",
   "execution_count": 75,
   "metadata": {
    "scrolled": true
   },
   "outputs": [
    {
     "data": {
      "text/plain": [
       "Confusion Matrix and Statistics\n",
       "\n",
       "          Reference\n",
       "Prediction rHGG txe\n",
       "      rHGG   19  10\n",
       "      txe     0   0\n",
       "                                          \n",
       "               Accuracy : 0.6552          \n",
       "                 95% CI : (0.4567, 0.8206)\n",
       "    No Information Rate : 0.6552          \n",
       "    P-Value [Acc > NIR] : 0.584911        \n",
       "                                          \n",
       "                  Kappa : 0               \n",
       " Mcnemar's Test P-Value : 0.004427        \n",
       "                                          \n",
       "            Sensitivity : 1.0000          \n",
       "            Specificity : 0.0000          \n",
       "         Pos Pred Value : 0.6552          \n",
       "         Neg Pred Value :    NaN          \n",
       "             Prevalence : 0.6552          \n",
       "         Detection Rate : 0.6552          \n",
       "   Detection Prevalence : 1.0000          \n",
       "      Balanced Accuracy : 0.5000          \n",
       "                                          \n",
       "       'Positive' Class : rHGG            \n",
       "                                          "
      ]
     },
     "metadata": {},
     "output_type": "display_data"
    }
   ],
   "source": [
    "cv_conf_mat"
   ]
  },
  {
   "cell_type": "markdown",
   "metadata": {},
   "source": [
    "### Perfusion: "
   ]
  },
  {
   "cell_type": "code",
   "execution_count": 76,
   "metadata": {},
   "outputs": [],
   "source": [
    "outcome_perf_expt = outcome_experiment_template"
   ]
  },
  {
   "cell_type": "code",
   "execution_count": 77,
   "metadata": {},
   "outputs": [
    {
     "name": "stdout",
     "output_type": "stream",
     "text": [
      "43.967 sec elapsed\n"
     ]
    }
   ],
   "source": [
    "# let's begin by running expts for diffuomic features only: \n",
    "## for each expt, we'll run the random forest with a variety of parameters \n",
    "expnum = 1\n",
    "tic()\n",
    "for (i in 1:25){\n",
    "    set.seed(i)\n",
    "    \n",
    "    ## define features and outcome: \n",
    "    outcome = \"outcome\"\n",
    "    features = c(anat, diffu, perf)\n",
    "    features.addsign <- paste(features, collapse = \"+\")\n",
    "    rf_formula = as.formula(paste(outcome, features.addsign, sep = \"~\"))\n",
    "    \n",
    "    ## define training and testing (from the training) basically for x-val: \n",
    "    unique_tnums = unique(recgli_train$t_number_y)\n",
    "    train_tnums = unique_tnums[sample(c(1:length(unique_tnums)), size = round(length(unique_tnums)*.75))]\n",
    "    test_tnums = unique_tnums[! unique_tnums %in% train_tnums]\n",
    "    \n",
    "    recgli_exp_train= recgli_train[recgli_train$t_number_y %in% train_tnums, ]\n",
    "    recgli_exp_cv = recgli_train[! recgli_train$t_number_y %in% train_tnums, ]\n",
    "    \n",
    "    for (nodesize in c(1)){\n",
    "        for (mtry in c(2, 3, 4)){\n",
    "            for (cwtxe in c(1, 10, 100, 1000, 10000)){\n",
    "                for (cwrHGG in c(1, .01, .1)){\n",
    "                    rf = randomForest(formula = rf_formula, \n",
    "                         data = recgli_exp_train, nodesize = nodesize, mtry = mtry, cw = c(cwtxe, cwrHGG), na.action = na.omit)\n",
    "\n",
    "                    cv_preds = predict(rf, recgli_exp_cv)\n",
    "\n",
    "                    cv_conf_mat = confusionMatrix(cv_preds, recgli_exp_cv$outcome)\n",
    "\n",
    "                    outcome_perf_expt[expnum,'expnum'] = expnum\n",
    "                    outcome_perf_expt[expnum,'node_size'] = nodesize\n",
    "                    outcome_perf_expt[expnum,'mtry'] = mtry\n",
    "                    outcome_perf_expt[expnum,'cwtxe'] = cwtxe\n",
    "                    outcome_perf_expt[expnum,'cwrHGG'] = cwrHGG\n",
    "                    outcome_perf_expt[expnum,'tr_outtxe_predtxe'] = rf$confusion['txe', 'txe']\n",
    "                    outcome_perf_expt[expnum,'tr_outtxe_predrHGG'] = rf$confusion['txe', 'rHGG']\n",
    "                    outcome_perf_expt[expnum,'tr_outrHGG_predtxe'] = rf$confusion['rHGG', 'txe']\n",
    "                    outcome_perf_expt[expnum,'tr_outrHGG_predrHGG'] = rf$confusion['rHGG', 'rHGG']\n",
    "                    outcome_perf_expt[expnum,'cv_outtxe_predtxe'] = cv_conf_mat$table['txe', 'txe']\n",
    "                    outcome_perf_expt[expnum,'cv_outtxe_predrHGG'] = cv_conf_mat$table['txe', 'rHGG']\n",
    "                    outcome_perf_expt[expnum,'cv_outrHGG_predtxe'] = cv_conf_mat$table['rHGG', 'txe']\n",
    "                    outcome_perf_expt[expnum,'cv_outrHGG_predrHGG'] = cv_conf_mat$table['rHGG', 'rHGG']\n",
    "                    expnum = expnum + 1\n",
    "                }\n",
    "            }\n",
    "\n",
    "        }\n",
    "    }\n",
    "}\n",
    "toc()"
   ]
  },
  {
   "cell_type": "code",
   "execution_count": 82,
   "metadata": {},
   "outputs": [
    {
     "data": {
      "text/plain": [
       "\n",
       "  0   1   2   3   4 \n",
       "655 255 122  84   9 "
      ]
     },
     "metadata": {},
     "output_type": "display_data"
    }
   ],
   "source": [
    "table(outcome_diffu_expt$cv_outtxe_predrHGG)"
   ]
  },
  {
   "cell_type": "code",
   "execution_count": 54,
   "metadata": {},
   "outputs": [
    {
     "name": "stdout",
     "output_type": "stream",
     "text": [
      "[1] \"summary for cw0:  1 and cw3:  1\"\n",
      " tr_specificity   cv_specificity  \n",
      " Min.   :0.5556   Min.   :0.1250  \n",
      " 1st Qu.:0.6250   1st Qu.:0.4444  \n",
      " Median :0.6667   Median :0.5385  \n",
      " Mean   :0.6637   Mean   :0.5470  \n",
      " 3rd Qu.:0.7000   3rd Qu.:0.6667  \n",
      " Max.   :0.7879   Max.   :1.0000  \n",
      "[1] \"summary for cw0:  1 and cw3:  10\"\n",
      " tr_specificity   cv_specificity  \n",
      " Min.   :0.5429   Min.   :0.1250  \n",
      " 1st Qu.:0.6228   1st Qu.:0.4444  \n",
      " Median :0.6667   Median :0.5000  \n",
      " Mean   :0.6603   Mean   :0.5503  \n",
      " 3rd Qu.:0.7037   3rd Qu.:0.6667  \n",
      " Max.   :0.8065   Max.   :1.0000  \n",
      "[1] \"summary for cw0:  1 and cw3:  0.1\"\n",
      " tr_specificity   cv_specificity  \n",
      " Min.   :0.5556   Min.   :0.1250  \n",
      " 1st Qu.:0.6207   1st Qu.:0.4365  \n",
      " Median :0.6667   Median :0.5000  \n",
      " Mean   :0.6641   Mean   :0.5482  \n",
      " 3rd Qu.:0.7060   3rd Qu.:0.6667  \n",
      " Max.   :0.7879   Max.   :1.0000  \n",
      "[1] \"summary for cw0:  10 and cw3:  1\"\n",
      " tr_specificity   cv_specificity  \n",
      " Min.   :0.5588   Min.   :0.1250  \n",
      " 1st Qu.:0.6120   1st Qu.:0.4365  \n",
      " Median :0.6667   Median :0.5000  \n",
      " Mean   :0.6597   Mean   :0.5481  \n",
      " 3rd Qu.:0.7000   3rd Qu.:0.6667  \n",
      " Max.   :0.7879   Max.   :1.0000  \n",
      "[1] \"summary for cw0:  10 and cw3:  10\"\n",
      " tr_specificity   cv_specificity  \n",
      " Min.   :0.5588   Min.   :0.1250  \n",
      " 1st Qu.:0.6296   1st Qu.:0.4365  \n",
      " Median :0.6667   Median :0.5000  \n",
      " Mean   :0.6653   Mean   :0.5471  \n",
      " 3rd Qu.:0.7037   3rd Qu.:0.6667  \n",
      " Max.   :0.8065   Max.   :1.0000  \n",
      "[1] \"summary for cw0:  10 and cw3:  0.1\"\n",
      " tr_specificity   cv_specificity  \n",
      " Min.   :0.5455   Min.   :0.1250  \n",
      " 1st Qu.:0.6296   1st Qu.:0.4286  \n",
      " Median :0.6667   Median :0.5000  \n",
      " Mean   :0.6641   Mean   :0.5480  \n",
      " 3rd Qu.:0.7000   3rd Qu.:0.6667  \n",
      " Max.   :0.8125   Max.   :1.0000  \n",
      "[1] \"summary for cw0:  100 and cw3:  1\"\n",
      " tr_specificity   cv_specificity  \n",
      " Min.   :0.5588   Min.   :0.1250  \n",
      " 1st Qu.:0.6087   1st Qu.:0.4365  \n",
      " Median :0.6562   Median :0.5000  \n",
      " Mean   :0.6565   Mean   :0.5438  \n",
      " 3rd Qu.:0.7000   3rd Qu.:0.6667  \n",
      " Max.   :0.7879   Max.   :1.0000  \n",
      "[1] \"summary for cw0:  100 and cw3:  10\"\n",
      " tr_specificity   cv_specificity  \n",
      " Min.   :0.5484   Min.   :0.1250  \n",
      " 1st Qu.:0.6273   1st Qu.:0.4444  \n",
      " Median :0.6667   Median :0.5000  \n",
      " Mean   :0.6652   Mean   :0.5505  \n",
      " 3rd Qu.:0.7019   3rd Qu.:0.6667  \n",
      " Max.   :0.8065   Max.   :1.0000  \n",
      "[1] \"summary for cw0:  100 and cw3:  0.1\"\n",
      " tr_specificity   cv_specificity  \n",
      " Min.   :0.5333   Min.   :0.1250  \n",
      " 1st Qu.:0.6250   1st Qu.:0.4444  \n",
      " Median :0.6571   Median :0.5000  \n",
      " Mean   :0.6645   Mean   :0.5521  \n",
      " 3rd Qu.:0.7090   3rd Qu.:0.6667  \n",
      " Max.   :0.7812   Max.   :1.0000  \n",
      "[1] \"summary for cw0:  1000 and cw3:  1\"\n",
      " tr_specificity   cv_specificity  \n",
      " Min.   :0.5455   Min.   :0.1250  \n",
      " 1st Qu.:0.6250   1st Qu.:0.4444  \n",
      " Median :0.6552   Median :0.5000  \n",
      " Mean   :0.6650   Mean   :0.5459  \n",
      " 3rd Qu.:0.7037   3rd Qu.:0.6410  \n",
      " Max.   :0.8125   Max.   :1.0000  \n",
      "[1] \"summary for cw0:  1000 and cw3:  10\"\n",
      " tr_specificity   cv_specificity  \n",
      " Min.   :0.5294   Min.   :0.1250  \n",
      " 1st Qu.:0.6296   1st Qu.:0.4444  \n",
      " Median :0.6562   Median :0.5385  \n",
      " Mean   :0.6589   Mean   :0.5511  \n",
      " 3rd Qu.:0.6985   3rd Qu.:0.6410  \n",
      " Max.   :0.7812   Max.   :1.0000  \n",
      "[1] \"summary for cw0:  1000 and cw3:  0.1\"\n",
      " tr_specificity   cv_specificity  \n",
      " Min.   :0.5294   Min.   :0.1250  \n",
      " 1st Qu.:0.6250   1st Qu.:0.4365  \n",
      " Median :0.6667   Median :0.5000  \n",
      " Mean   :0.6638   Mean   :0.5476  \n",
      " 3rd Qu.:0.7000   3rd Qu.:0.6667  \n",
      " Max.   :0.8125   Max.   :1.0000  \n",
      "[1] \"summary for cw0:  10000 and cw3:  1\"\n",
      " tr_specificity   cv_specificity  \n",
      " Min.   :0.5417   Min.   :0.1250  \n",
      " 1st Qu.:0.6273   1st Qu.:0.4444  \n",
      " Median :0.6667   Median :0.5000  \n",
      " Mean   :0.6660   Mean   :0.5454  \n",
      " 3rd Qu.:0.7019   3rd Qu.:0.6410  \n",
      " Max.   :0.8000   Max.   :1.0000  \n",
      "[1] \"summary for cw0:  10000 and cw3:  10\"\n",
      " tr_specificity   cv_specificity  \n",
      " Min.   :0.5517   Min.   :0.1250  \n",
      " 1st Qu.:0.6220   1st Qu.:0.4365  \n",
      " Median :0.6667   Median :0.5000  \n",
      " Mean   :0.6636   Mean   :0.5459  \n",
      " 3rd Qu.:0.7060   3rd Qu.:0.6667  \n",
      " Max.   :0.8000   Max.   :1.0000  \n",
      "[1] \"summary for cw0:  10000 and cw3:  0.1\"\n",
      " tr_specificity   cv_specificity  \n",
      " Min.   :0.5357   Min.   :0.1250  \n",
      " 1st Qu.:0.6180   1st Qu.:0.4286  \n",
      " Median :0.6667   Median :0.5000  \n",
      " Mean   :0.6676   Mean   :0.5392  \n",
      " 3rd Qu.:0.7090   3rd Qu.:0.6667  \n",
      " Max.   :0.7812   Max.   :1.0000  \n"
     ]
    }
   ],
   "source": [
    "## let's see what mtry looks the best for exp2: \n",
    "for (cw0 in c(1, 10, 100, 1000, 10000)){\n",
    "    for (cw3 in c(1, 10, .1)){\n",
    "        cw0_outcome = outcome_perf_expt[which(outcome_perf_expt$cw0==cw0),]\n",
    "        cw3_outcome = cw0_outcome[which(cw0_outcome$cw3==cw3),]\n",
    "        print(paste('summary for cw0: ', as.character(cw0), 'and cw3: ', as.character(cw3)))\n",
    "        print(summary(cw3_outcome[,grep('specificity', colnames(cw3_outcome))]))\n",
    "    }\n",
    "}\n"
   ]
  },
  {
   "cell_type": "code",
   "execution_count": 55,
   "metadata": {},
   "outputs": [],
   "source": [
    "\n",
    "outcome = \"tumor_cell_evaluation\"\n",
    "features.addsign <- paste(perf, collapse = \"+\")\n",
    "rf_formula = as.formula(paste(outcome, features.addsign, sep = \"~\"))"
   ]
  },
  {
   "cell_type": "code",
   "execution_count": 56,
   "metadata": {},
   "outputs": [],
   "source": [
    "rf = randomForest(formula = rf_formula, \n",
    "                         data = recgli_train, nodesize = nodesize, mtry = mtry, cw = c(cw0, cw3), na.action = na.omit)\n",
    "\n",
    "                    cv_preds = predict(rf, recgli_test)\n",
    "\n",
    "                    cv_conf_mat = confusionMatrix(cv_preds, recgli_test$tumor_cell_evaluation)\n"
   ]
  },
  {
   "cell_type": "code",
   "execution_count": 57,
   "metadata": {},
   "outputs": [
    {
     "data": {
      "text/html": [
       "<ol class=list-inline>\n",
       "\t<li>'cbvn_nlin'</li>\n",
       "\t<li>'phn_nlin'</li>\n",
       "\t<li>'recov_nlin'</li>\n",
       "\t<li>'phn_npar'</li>\n",
       "\t<li>'recov_npar'</li>\n",
       "</ol>\n"
      ],
      "text/latex": [
       "\\begin{enumerate*}\n",
       "\\item 'cbvn\\_nlin'\n",
       "\\item 'phn\\_nlin'\n",
       "\\item 'recov\\_nlin'\n",
       "\\item 'phn\\_npar'\n",
       "\\item 'recov\\_npar'\n",
       "\\end{enumerate*}\n"
      ],
      "text/markdown": [
       "1. 'cbvn_nlin'\n",
       "2. 'phn_nlin'\n",
       "3. 'recov_nlin'\n",
       "4. 'phn_npar'\n",
       "5. 'recov_npar'\n",
       "\n",
       "\n"
      ],
      "text/plain": [
       "[1] \"cbvn_nlin\"  \"phn_nlin\"   \"recov_nlin\" \"phn_npar\"   \"recov_npar\""
      ]
     },
     "metadata": {},
     "output_type": "display_data"
    }
   ],
   "source": [
    "perf"
   ]
  },
  {
   "cell_type": "code",
   "execution_count": 58,
   "metadata": {
    "scrolled": true
   },
   "outputs": [
    {
     "data": {
      "text/plain": [
       "Confusion Matrix and Statistics\n",
       "\n",
       "          Reference\n",
       "Prediction  0  3\n",
       "         0 11  3\n",
       "         3  4 13\n",
       "                                         \n",
       "               Accuracy : 0.7742         \n",
       "                 95% CI : (0.589, 0.9041)\n",
       "    No Information Rate : 0.5161         \n",
       "    P-Value [Acc > NIR] : 0.002897       \n",
       "                                         \n",
       "                  Kappa : 0.547          \n",
       " Mcnemar's Test P-Value : 1.000000       \n",
       "                                         \n",
       "            Sensitivity : 0.7333         \n",
       "            Specificity : 0.8125         \n",
       "         Pos Pred Value : 0.7857         \n",
       "         Neg Pred Value : 0.7647         \n",
       "             Prevalence : 0.4839         \n",
       "         Detection Rate : 0.3548         \n",
       "   Detection Prevalence : 0.4516         \n",
       "      Balanced Accuracy : 0.7729         \n",
       "                                         \n",
       "       'Positive' Class : 0              \n",
       "                                         "
      ]
     },
     "metadata": {},
     "output_type": "display_data"
    }
   ],
   "source": [
    "cv_conf_mat"
   ]
  },
  {
   "cell_type": "markdown",
   "metadata": {},
   "source": [
    "### Spec: "
   ]
  },
  {
   "cell_type": "code",
   "execution_count": 59,
   "metadata": {},
   "outputs": [],
   "source": [
    "outcome_spec_expt = outcome_experiment_template"
   ]
  },
  {
   "cell_type": "code",
   "execution_count": 60,
   "metadata": {},
   "outputs": [
    {
     "name": "stdout",
     "output_type": "stream",
     "text": [
      "20.497 sec elapsed\n"
     ]
    }
   ],
   "source": [
    "## let's begin by running expts for specomic features only: \n",
    "## for each expt, we'll run the random forest with a variety of parameters \n",
    "expnum = 1\n",
    "tic()\n",
    "for (i in 1:25){\n",
    "    set.seed(i)\n",
    "    \n",
    "    ## define features and outcome: \n",
    "    outcome = \"tumor_cell_evaluation\"\n",
    "    features.addsign <- paste(spec, collapse = \"+\")\n",
    "    rf_formula = as.formula(paste(outcome, features.addsign, sep = \"~\"))\n",
    "    \n",
    "    ## define training and testing (from the training) basically for x-val: \n",
    "    unique_tnums = unique(recgli_train$t_number_y)\n",
    "    train_tnums = unique_tnums[sample(c(1:length(unique_tnums)), size = round(length(unique_tnums)*.75))]\n",
    "    test_tnums = unique_tnums[! unique_tnums %in% train_tnums]\n",
    "    \n",
    "    recgli_exp_train= recgli_train[recgli_train$t_number_y %in% train_tnums, ]\n",
    "    recgli_exp_cv = recgli_train[! recgli_train$t_number_y %in% train_tnums, ]\n",
    "    #print(table(is.na((recgli_exp_train$cbvn_nlin))))\n",
    "    for (nodesize in c(1)){\n",
    "        for (mtry in c(2, 3, 4)){\n",
    "            for (cw0 in c(1, 10, 100, 1000, 10000)){\n",
    "                for (cw3 in c(1, 10, .1)){\n",
    "                    rf = randomForest(formula = rf_formula, \n",
    "                         data = recgli_exp_train, nodesize = nodesize, mtry = mtry, cw = c(cw0, cw3), na.action = na.omit)\n",
    "\n",
    "                    cv_preds = predict(rf, recgli_exp_cv)\n",
    "\n",
    "                    cv_conf_mat = confusionMatrix(cv_preds, recgli_exp_cv$tumor_cell_evaluation)\n",
    "\n",
    "                    outcome_spec_expt[expnum,'expnum'] = expnum\n",
    "                    outcome_spec_expt[expnum,'node_size'] = nodesize\n",
    "                    outcome_spec_expt[expnum,'mtry'] = mtry\n",
    "                    outcome_spec_expt[expnum,'cw0'] = cw0\n",
    "                    outcome_spec_expt[expnum,'cw3'] = cw3\n",
    "                    outcome_spec_expt[expnum,'tr_out0_pred0'] = rf$confusion['0', '0']\n",
    "                    outcome_spec_expt[expnum,'tr_out0_pred3'] = rf$confusion['0', '3']\n",
    "                    outcome_spec_expt[expnum,'tr_out3_pred0'] = rf$confusion['3', '0']\n",
    "                    outcome_spec_expt[expnum,'tr_out3_pred3'] = rf$confusion['3', '3']\n",
    "                    outcome_spec_expt[expnum,'cv_out0_pred0'] = cv_conf_mat$table['0', '0']\n",
    "                    outcome_spec_expt[expnum,'cv_out0_pred3'] = cv_conf_mat$table['0', '3']\n",
    "                    outcome_spec_expt[expnum,'cv_out3_pred0'] = cv_conf_mat$table['3', '0']\n",
    "                    outcome_spec_expt[expnum,'cv_out3_pred3'] = cv_conf_mat$table['3', '3']\n",
    "                    expnum = expnum + 1\n",
    "                }\n",
    "            }\n",
    "\n",
    "        }\n",
    "    }\n",
    "}\n",
    "toc()"
   ]
  },
  {
   "cell_type": "code",
   "execution_count": 61,
   "metadata": {},
   "outputs": [],
   "source": [
    "outcome_spec_expt['tr_specificity'] = (outcome_spec_expt$tr_out0_pred0)/(outcome_spec_expt$tr_out0_pred0+outcome_spec_expt$tr_out3_pred0)\n",
    "outcome_spec_expt['cv_specificity'] = (outcome_spec_expt$cv_out0_pred0)/(outcome_spec_expt$cv_out0_pred0+outcome_spec_expt$cv_out3_pred0)"
   ]
  },
  {
   "cell_type": "code",
   "execution_count": 62,
   "metadata": {},
   "outputs": [
    {
     "name": "stdout",
     "output_type": "stream",
     "text": [
      "[1] \"summary for cw0:  1 and cw3:  1\"\n",
      " tr_specificity   cv_specificity  \n",
      " Min.   :0.0000   Min.   :0.0000  \n",
      " 1st Qu.:0.0000   1st Qu.:0.0000  \n",
      " Median :0.1429   Median :0.0000  \n",
      " Mean   :0.1876   Mean   :0.1234  \n",
      " 3rd Qu.:0.2929   3rd Qu.:0.1667  \n",
      " Max.   :0.7500   Max.   :1.0000  \n",
      "                  NA's   :6       \n",
      "[1] \"summary for cw0:  1 and cw3:  10\"\n",
      " tr_specificity   cv_specificity  \n",
      " Min.   :0.0000   Min.   :0.0000  \n",
      " 1st Qu.:0.0000   1st Qu.:0.0000  \n",
      " Median :0.1667   Median :0.0000  \n",
      " Mean   :0.1904   Mean   :0.1397  \n",
      " 3rd Qu.:0.3000   3rd Qu.:0.2000  \n",
      " Max.   :0.6667   Max.   :1.0000  \n",
      "                  NA's   :6       \n",
      "[1] \"summary for cw0:  1 and cw3:  0.1\"\n",
      " tr_specificity   cv_specificity  \n",
      " Min.   :0.0000   Min.   :0.0000  \n",
      " 1st Qu.:0.0000   1st Qu.:0.0000  \n",
      " Median :0.1250   Median :0.0000  \n",
      " Mean   :0.1708   Mean   :0.1065  \n",
      " 3rd Qu.:0.3000   3rd Qu.:0.1250  \n",
      " Max.   :0.6364   Max.   :1.0000  \n",
      "                  NA's   :6       \n",
      "[1] \"summary for cw0:  10 and cw3:  1\"\n",
      " tr_specificity   cv_specificity  \n",
      " Min.   :0.0000   Min.   :0.0000  \n",
      " 1st Qu.:0.0000   1st Qu.:0.0000  \n",
      " Median :0.1429   Median :0.0000  \n",
      " Mean   :0.1927   Mean   :0.1132  \n",
      " 3rd Qu.:0.3333   3rd Qu.:0.1667  \n",
      " Max.   :0.6667   Max.   :1.0000  \n",
      "                  NA's   :6       \n",
      "[1] \"summary for cw0:  10 and cw3:  10\"\n",
      " tr_specificity   cv_specificity  \n",
      " Min.   :0.0000   Min.   :0.0000  \n",
      " 1st Qu.:0.0000   1st Qu.:0.0000  \n",
      " Median :0.1667   Median :0.0000  \n",
      " Mean   :0.1899   Mean   :0.1132  \n",
      " 3rd Qu.:0.3333   3rd Qu.:0.1667  \n",
      " Max.   :0.6667   Max.   :1.0000  \n",
      "                  NA's   :6       \n",
      "[1] \"summary for cw0:  10 and cw3:  0.1\"\n",
      " tr_specificity   cv_specificity  \n",
      " Min.   :0.0000   Min.   :0.0000  \n",
      " 1st Qu.:0.0000   1st Qu.:0.0000  \n",
      " Median :0.1667   Median :0.0000  \n",
      " Mean   :0.1912   Mean   :0.1234  \n",
      " 3rd Qu.:0.3205   3rd Qu.:0.1667  \n",
      " Max.   :0.6667   Max.   :1.0000  \n",
      "                  NA's   :6       \n",
      "[1] \"summary for cw0:  100 and cw3:  1\"\n",
      " tr_specificity   cv_specificity  \n",
      " Min.   :0.0000   Min.   :0.0000  \n",
      " 1st Qu.:0.0000   1st Qu.:0.0000  \n",
      " Median :0.1429   Median :0.0000  \n",
      " Mean   :0.1874   Mean   :0.1132  \n",
      " 3rd Qu.:0.3333   3rd Qu.:0.1667  \n",
      " Max.   :0.6667   Max.   :1.0000  \n",
      "                  NA's   :6       \n",
      "[1] \"summary for cw0:  100 and cw3:  10\"\n",
      " tr_specificity   cv_specificity  \n",
      " Min.   :0.0000   Min.   :0.0000  \n",
      " 1st Qu.:0.0000   1st Qu.:0.0000  \n",
      " Median :0.1667   Median :0.0000  \n",
      " Mean   :0.1953   Mean   :0.1107  \n",
      " 3rd Qu.:0.3333   3rd Qu.:0.1667  \n",
      " Max.   :0.6667   Max.   :1.0000  \n",
      "                  NA's   :6       \n",
      "[1] \"summary for cw0:  100 and cw3:  0.1\"\n",
      " tr_specificity   cv_specificity  \n",
      " Min.   :0.0000   Min.   :0.0000  \n",
      " 1st Qu.:0.0000   1st Qu.:0.0000  \n",
      " Median :0.1429   Median :0.0000  \n",
      " Mean   :0.1779   Mean   :0.1446  \n",
      " 3rd Qu.:0.2967   3rd Qu.:0.2000  \n",
      " Max.   :0.5455   Max.   :1.0000  \n",
      "                  NA's   :6       \n",
      "[1] \"summary for cw0:  1000 and cw3:  1\"\n",
      " tr_specificity   cv_specificity  \n",
      " Min.   :0.0000   Min.   :0.0000  \n",
      " 1st Qu.:0.0000   1st Qu.:0.0000  \n",
      " Median :0.1818   Median :0.0000  \n",
      " Mean   :0.2015   Mean   :0.1397  \n",
      " 3rd Qu.:0.3333   3rd Qu.:0.2000  \n",
      " Max.   :0.8000   Max.   :1.0000  \n",
      "                  NA's   :6       \n",
      "[1] \"summary for cw0:  1000 and cw3:  10\"\n",
      " tr_specificity   cv_specificity  \n",
      " Min.   :0.0000   Min.   :0.0000  \n",
      " 1st Qu.:0.0000   1st Qu.:0.0000  \n",
      " Median :0.1667   Median :0.0000  \n",
      " Mean   :0.1952   Mean   :0.1397  \n",
      " 3rd Qu.:0.3333   3rd Qu.:0.2000  \n",
      " Max.   :0.6667   Max.   :1.0000  \n",
      "                  NA's   :6       \n",
      "[1] \"summary for cw0:  1000 and cw3:  0.1\"\n",
      " tr_specificity   cv_specificity  \n",
      " Min.   :0.0000   Min.   :0.0000  \n",
      " 1st Qu.:0.0000   1st Qu.:0.0000  \n",
      " Median :0.1818   Median :0.0000  \n",
      " Mean   :0.1953   Mean   :0.1421  \n",
      " 3rd Qu.:0.3333   3rd Qu.:0.2000  \n",
      " Max.   :0.6000   Max.   :1.0000  \n",
      "                  NA's   :6       \n",
      "[1] \"summary for cw0:  10000 and cw3:  1\"\n",
      " tr_specificity   cv_specificity  \n",
      " Min.   :0.0000   Min.   :0.0000  \n",
      " 1st Qu.:0.0000   1st Qu.:0.0000  \n",
      " Median :0.1429   Median :0.0000  \n",
      " Mean   :0.1772   Mean   :0.1258  \n",
      " 3rd Qu.:0.3000   3rd Qu.:0.1667  \n",
      " Max.   :0.6000   Max.   :1.0000  \n",
      "                  NA's   :6       \n",
      "[1] \"summary for cw0:  10000 and cw3:  10\"\n",
      " tr_specificity   cv_specificity  \n",
      " Min.   :0.0000   Min.   :0.0000  \n",
      " 1st Qu.:0.0000   1st Qu.:0.0000  \n",
      " Median :0.1250   Median :0.0000  \n",
      " Mean   :0.1756   Mean   :0.1397  \n",
      " 3rd Qu.:0.3333   3rd Qu.:0.2000  \n",
      " Max.   :0.6667   Max.   :1.0000  \n",
      "                  NA's   :6       \n",
      "[1] \"summary for cw0:  10000 and cw3:  0.1\"\n",
      " tr_specificity   cv_specificity  \n",
      " Min.   :0.0000   Min.   :0.0000  \n",
      " 1st Qu.:0.0000   1st Qu.:0.0000  \n",
      " Median :0.1667   Median :0.0000  \n",
      " Mean   :0.1893   Mean   :0.1107  \n",
      " 3rd Qu.:0.2929   3rd Qu.:0.1667  \n",
      " Max.   :0.7500   Max.   :1.0000  \n",
      "                  NA's   :6       \n"
     ]
    }
   ],
   "source": [
    "## let's see what mtry looks the best for exp2: \n",
    "for (cw0 in c(1, 10, 100, 1000, 10000)){\n",
    "    for (cw3 in c(1, 10, .1)){\n",
    "        cw0_outcome = outcome_spec_expt[which(outcome_spec_expt$cw0==cw0),]\n",
    "        cw3_outcome = cw0_outcome[which(cw0_outcome$cw3==cw3),]\n",
    "        print(paste('summary for cw0: ', as.character(cw0), 'and cw3: ', as.character(cw3)))\n",
    "        print(summary(cw3_outcome[,grep('specificity', colnames(cw3_outcome))]))\n",
    "    }\n",
    "}\n"
   ]
  },
  {
   "cell_type": "code",
   "execution_count": 63,
   "metadata": {},
   "outputs": [],
   "source": [
    "outcome = \"tumor_cell_evaluation\"\n",
    "features.addsign <- paste(spec, collapse = \"+\")\n",
    "rf_formula = as.formula(paste(outcome, features.addsign, sep = \"~\"))"
   ]
  },
  {
   "cell_type": "code",
   "execution_count": 64,
   "metadata": {},
   "outputs": [],
   "source": [
    "rf = randomForest(formula = rf_formula, \n",
    "                         data = recgli_train, nodesize = nodesize, mtry = mtry, na.action = na.omit, ntree = 10000)\n",
    "\n",
    "                    cv_preds = predict(rf, recgli_test)\n",
    "\n",
    "                    cv_conf_mat = confusionMatrix(cv_preds, recgli_test$tumor_cell_evaluation)\n"
   ]
  },
  {
   "cell_type": "code",
   "execution_count": 65,
   "metadata": {},
   "outputs": [
    {
     "data": {
      "text/html": [
       "<ol class=list-inline>\n",
       "\t<li>'ccri'</li>\n",
       "\t<li>'cni'</li>\n",
       "\t<li>'crni'</li>\n",
       "\t<li>'ncho'</li>\n",
       "\t<li>'ncre'</li>\n",
       "\t<li>'nnaa'</li>\n",
       "\t<li>'nlac'</li>\n",
       "\t<li>'nlip'</li>\n",
       "\t<li>'nLL'</li>\n",
       "</ol>\n"
      ],
      "text/latex": [
       "\\begin{enumerate*}\n",
       "\\item 'ccri'\n",
       "\\item 'cni'\n",
       "\\item 'crni'\n",
       "\\item 'ncho'\n",
       "\\item 'ncre'\n",
       "\\item 'nnaa'\n",
       "\\item 'nlac'\n",
       "\\item 'nlip'\n",
       "\\item 'nLL'\n",
       "\\end{enumerate*}\n"
      ],
      "text/markdown": [
       "1. 'ccri'\n",
       "2. 'cni'\n",
       "3. 'crni'\n",
       "4. 'ncho'\n",
       "5. 'ncre'\n",
       "6. 'nnaa'\n",
       "7. 'nlac'\n",
       "8. 'nlip'\n",
       "9. 'nLL'\n",
       "\n",
       "\n"
      ],
      "text/plain": [
       "[1] \"ccri\" \"cni\"  \"crni\" \"ncho\" \"ncre\" \"nnaa\" \"nlac\" \"nlip\" \"nLL\" "
      ]
     },
     "metadata": {},
     "output_type": "display_data"
    }
   ],
   "source": [
    "spec\n"
   ]
  },
  {
   "cell_type": "code",
   "execution_count": 66,
   "metadata": {
    "scrolled": true
   },
   "outputs": [
    {
     "data": {
      "text/plain": [
       "Confusion Matrix and Statistics\n",
       "\n",
       "          Reference\n",
       "Prediction  0  3\n",
       "         0  3  2\n",
       "         3 11 28\n",
       "                                         \n",
       "               Accuracy : 0.7045         \n",
       "                 95% CI : (0.548, 0.8324)\n",
       "    No Information Rate : 0.6818         \n",
       "    P-Value [Acc > NIR] : 0.4435         \n",
       "                                         \n",
       "                  Kappa : 0.1782         \n",
       " Mcnemar's Test P-Value : 0.0265         \n",
       "                                         \n",
       "            Sensitivity : 0.21429        \n",
       "            Specificity : 0.93333        \n",
       "         Pos Pred Value : 0.60000        \n",
       "         Neg Pred Value : 0.71795        \n",
       "             Prevalence : 0.31818        \n",
       "         Detection Rate : 0.06818        \n",
       "   Detection Prevalence : 0.11364        \n",
       "      Balanced Accuracy : 0.57381        \n",
       "                                         \n",
       "       'Positive' Class : 0              \n",
       "                                         "
      ]
     },
     "metadata": {},
     "output_type": "display_data"
    }
   ],
   "source": [
    "cv_conf_mat"
   ]
  },
  {
   "cell_type": "markdown",
   "metadata": {},
   "source": [
    "## All features: "
   ]
  },
  {
   "cell_type": "code",
   "execution_count": 67,
   "metadata": {},
   "outputs": [],
   "source": [
    "outcome_all_expt = outcome_experiment_template"
   ]
  },
  {
   "cell_type": "code",
   "execution_count": 68,
   "metadata": {},
   "outputs": [],
   "source": [
    "features = c(anat, diffu, perf, spec)"
   ]
  },
  {
   "cell_type": "code",
   "execution_count": 69,
   "metadata": {},
   "outputs": [
    {
     "name": "stdout",
     "output_type": "stream",
     "text": [
      "53.515 sec elapsed\n"
     ]
    }
   ],
   "source": [
    "## let's begin by running expts for allomic features only: \n",
    "## for each expt, we'll run the random forest with a variety of parameters \n",
    "expnum = 1\n",
    "tic()\n",
    "for (i in 1:25){\n",
    "    set.seed(i)\n",
    "    \n",
    "    ## define features and outcome: \n",
    "    outcome = \"tumor_cell_evaluation\"\n",
    "    all_features = c(anat, diffu, perf, spec)\n",
    "    features.addsign <- paste(all_features, collapse = \"+\")\n",
    "    rf_formula = as.formula(paste(outcome, features.addsign, sep = \"~\"))\n",
    "    \n",
    "    ## define training and testing (from the training) basically for x-val: \n",
    "    unique_tnums = unique(recgli_train$t_number_y)\n",
    "    train_tnums = unique_tnums[sample(c(1:length(unique_tnums)), size = round(length(unique_tnums)*.75))]\n",
    "    test_tnums = unique_tnums[! unique_tnums %in% train_tnums]\n",
    "    \n",
    "    recgli_exp_train= recgli_train[recgli_train$t_number_y %in% train_tnums, ]\n",
    "    recgli_exp_cv = recgli_train[! recgli_train$t_number_y %in% train_tnums, ]\n",
    "    #print(table(is.na((recgli_exp_train$cbvn_nlin))))\n",
    "    for (nodesize in c(1, 2)){\n",
    "        for (mtry in c(2, 4, 6)){\n",
    "            for (cw0 in c(1, 10, 100, 1000, 10000)){\n",
    "                for (cw3 in c(1, 10, .1)){\n",
    "                    rf = randomForest(formula = rf_formula, \n",
    "                         data = recgli_exp_train, nodesize = nodesize, mtry = mtry, cw = c(cw0, cw3), na.action = na.omit)\n",
    "\n",
    "                    cv_preds = predict(rf, recgli_exp_cv)\n",
    "\n",
    "                    cv_conf_mat = confusionMatrix(cv_preds, recgli_exp_cv$tumor_cell_evaluation)\n",
    "\n",
    "                    outcome_all_expt[expnum,'expnum'] = expnum\n",
    "                    outcome_all_expt[expnum,'node_size'] = nodesize\n",
    "                    outcome_all_expt[expnum,'mtry'] = mtry\n",
    "                    outcome_all_expt[expnum,'cw0'] = cw0\n",
    "                    outcome_all_expt[expnum,'cw3'] = cw3\n",
    "                    outcome_all_expt[expnum,'tr_out0_pred0'] = rf$confusion['0', '0']\n",
    "                    outcome_all_expt[expnum,'tr_out0_pred3'] = rf$confusion['0', '3']\n",
    "                    outcome_all_expt[expnum,'tr_out3_pred0'] = rf$confusion['3', '0']\n",
    "                    outcome_all_expt[expnum,'tr_out3_pred3'] = rf$confusion['3', '3']\n",
    "                    outcome_all_expt[expnum,'cv_out0_pred0'] = cv_conf_mat$table['0', '0']\n",
    "                    outcome_all_expt[expnum,'cv_out0_pred3'] = cv_conf_mat$table['0', '3']\n",
    "                    outcome_all_expt[expnum,'cv_out3_pred0'] = cv_conf_mat$table['3', '0']\n",
    "                    outcome_all_expt[expnum,'cv_out3_pred3'] = cv_conf_mat$table['3', '3']\n",
    "                    expnum = expnum + 1\n",
    "                }\n",
    "            }\n",
    "\n",
    "        }\n",
    "    }\n",
    "}\n",
    "toc()"
   ]
  },
  {
   "cell_type": "code",
   "execution_count": 70,
   "metadata": {},
   "outputs": [],
   "source": [
    "outcome_all_expt['tr_specificity'] = (outcome_all_expt$tr_out0_pred0)/(outcome_all_expt$tr_out0_pred0+outcome_all_expt$tr_out3_pred0)\n",
    "outcome_all_expt['cv_specificity'] = (outcome_all_expt$cv_out0_pred0)/(outcome_all_expt$cv_out0_pred0+outcome_all_expt$cv_out3_pred0)"
   ]
  },
  {
   "cell_type": "code",
   "execution_count": 71,
   "metadata": {},
   "outputs": [
    {
     "name": "stdout",
     "output_type": "stream",
     "text": [
      "[1] \"summary for cw0:  1 and cw3:  1\"\n",
      " tr_specificity   cv_specificity  \n",
      " Min.   :0.2000   Min.   :0.0000  \n",
      " 1st Qu.:0.5833   1st Qu.:0.0000  \n",
      " Median :0.6667   Median :0.0000  \n",
      " Mean   :0.6389   Mean   :0.1804  \n",
      " 3rd Qu.:0.7143   3rd Qu.:0.2589  \n",
      " Max.   :1.0000   Max.   :1.0000  \n",
      "                  NA's   :18      \n",
      "[1] \"summary for cw0:  1 and cw3:  10\"\n",
      " tr_specificity   cv_specificity  \n",
      " Min.   :0.2000   Min.   :0.0000  \n",
      " 1st Qu.:0.5714   1st Qu.:0.0000  \n",
      " Median :0.6667   Median :0.0000  \n",
      " Mean   :0.6397   Mean   :0.1838  \n",
      " 3rd Qu.:0.7143   3rd Qu.:0.2500  \n",
      " Max.   :0.8571   Max.   :1.0000  \n",
      "                  NA's   :18      \n",
      "[1] \"summary for cw0:  1 and cw3:  0.1\"\n",
      " tr_specificity   cv_specificity  \n",
      " Min.   :0.0000   Min.   :0.0000  \n",
      " 1st Qu.:0.5833   1st Qu.:0.0000  \n",
      " Median :0.6364   Median :0.0000  \n",
      " Mean   :0.6335   Mean   :0.1872  \n",
      " 3rd Qu.:0.7143   3rd Qu.:0.2500  \n",
      " Max.   :0.8889   Max.   :1.0000  \n",
      "                  NA's   :18      \n",
      "[1] \"summary for cw0:  10 and cw3:  1\"\n",
      " tr_specificity   cv_specificity  \n",
      " Min.   :0.2500   Min.   :0.0000  \n",
      " 1st Qu.:0.5556   1st Qu.:0.0000  \n",
      " Median :0.6364   Median :0.0000  \n",
      " Mean   :0.6260   Mean   :0.1864  \n",
      " 3rd Qu.:0.7000   3rd Qu.:0.2500  \n",
      " Max.   :0.8571   Max.   :1.0000  \n",
      "                  NA's   :18      \n",
      "[1] \"summary for cw0:  10 and cw3:  10\"\n",
      " tr_specificity   cv_specificity  \n",
      " Min.   :0.2500   Min.   :0.0000  \n",
      " 1st Qu.:0.5833   1st Qu.:0.0000  \n",
      " Median :0.6307   Median :0.0000  \n",
      " Mean   :0.6331   Mean   :0.1777  \n",
      " 3rd Qu.:0.7143   3rd Qu.:0.2500  \n",
      " Max.   :1.0000   Max.   :1.0000  \n",
      "                  NA's   :18      \n",
      "[1] \"summary for cw0:  10 and cw3:  0.1\"\n",
      " tr_specificity   cv_specificity  \n",
      " Min.   :0.2500   Min.   :0.0000  \n",
      " 1st Qu.:0.5714   1st Qu.:0.0000  \n",
      " Median :0.6364   Median :0.0000  \n",
      " Mean   :0.6324   Mean   :0.1847  \n",
      " 3rd Qu.:0.7143   3rd Qu.:0.2857  \n",
      " Max.   :1.0000   Max.   :1.0000  \n",
      "                  NA's   :18      \n",
      "[1] \"summary for cw0:  100 and cw3:  1\"\n",
      " tr_specificity   cv_specificity  \n",
      " Min.   :0.2000   Min.   :0.0000  \n",
      " 1st Qu.:0.5714   1st Qu.:0.0000  \n",
      " Median :0.6364   Median :0.0000  \n",
      " Mean   :0.6334   Mean   :0.1917  \n",
      " 3rd Qu.:0.7143   3rd Qu.:0.2500  \n",
      " Max.   :1.0000   Max.   :1.0000  \n",
      "                  NA's   :18      \n",
      "[1] \"summary for cw0:  100 and cw3:  10\"\n",
      " tr_specificity   cv_specificity  \n",
      " Min.   :0.2500   Min.   :0.0000  \n",
      " 1st Qu.:0.5714   1st Qu.:0.0000  \n",
      " Median :0.6396   Median :0.0000  \n",
      " Mean   :0.6325   Mean   :0.1709  \n",
      " 3rd Qu.:0.7143   3rd Qu.:0.2500  \n",
      " Max.   :1.0000   Max.   :1.0000  \n",
      "                  NA's   :18      \n",
      "[1] \"summary for cw0:  100 and cw3:  0.1\"\n",
      " tr_specificity   cv_specificity  \n",
      " Min.   :0.3333   Min.   :0.0000  \n",
      " 1st Qu.:0.5833   1st Qu.:0.0000  \n",
      " Median :0.6667   Median :0.0000  \n",
      " Mean   :0.6434   Mean   :0.1937  \n",
      " 3rd Qu.:0.7143   3rd Qu.:0.2500  \n",
      " Max.   :0.8571   Max.   :1.0000  \n",
      "                  NA's   :18      \n",
      "[1] \"summary for cw0:  1000 and cw3:  1\"\n",
      " tr_specificity   cv_specificity  \n",
      " Min.   :0.2500   Min.   :0.0000  \n",
      " 1st Qu.:0.5714   1st Qu.:0.0000  \n",
      " Median :0.6364   Median :0.0000  \n",
      " Mean   :0.6353   Mean   :0.1781  \n",
      " 3rd Qu.:0.7143   3rd Qu.:0.2500  \n",
      " Max.   :0.8571   Max.   :1.0000  \n",
      "                  NA's   :18      \n",
      "[1] \"summary for cw0:  1000 and cw3:  10\"\n",
      " tr_specificity   cv_specificity  \n",
      " Min.   :0.3333   Min.   :0.0000  \n",
      " 1st Qu.:0.5480   1st Qu.:0.0000  \n",
      " Median :0.6250   Median :0.0000  \n",
      " Mean   :0.6257   Mean   :0.1879  \n",
      " 3rd Qu.:0.7107   3rd Qu.:0.2589  \n",
      " Max.   :0.8571   Max.   :1.0000  \n",
      "                  NA's   :18      \n",
      "[1] \"summary for cw0:  1000 and cw3:  0.1\"\n",
      " tr_specificity   cv_specificity \n",
      " Min.   :0.2500   Min.   :0.000  \n",
      " 1st Qu.:0.6000   1st Qu.:0.000  \n",
      " Median :0.6667   Median :0.000  \n",
      " Mean   :0.6416   Mean   :0.183  \n",
      " 3rd Qu.:0.7143   3rd Qu.:0.250  \n",
      " Max.   :0.8571   Max.   :1.000  \n",
      "                  NA's   :18     \n",
      "[1] \"summary for cw0:  10000 and cw3:  1\"\n",
      " tr_specificity   cv_specificity  \n",
      " Min.   :0.3333   Min.   :0.0000  \n",
      " 1st Qu.:0.5714   1st Qu.:0.0000  \n",
      " Median :0.6667   Median :0.0000  \n",
      " Mean   :0.6344   Mean   :0.1765  \n",
      " 3rd Qu.:0.7107   3rd Qu.:0.2857  \n",
      " Max.   :0.8571   Max.   :1.0000  \n",
      "                  NA's   :18      \n",
      "[1] \"summary for cw0:  10000 and cw3:  10\"\n",
      " tr_specificity   cv_specificity  \n",
      " Min.   :0.3333   Min.   :0.0000  \n",
      " 1st Qu.:0.5714   1st Qu.:0.0000  \n",
      " Median :0.6667   Median :0.0000  \n",
      " Mean   :0.6426   Mean   :0.1819  \n",
      " 3rd Qu.:0.7240   3rd Qu.:0.2500  \n",
      " Max.   :1.0000   Max.   :1.0000  \n",
      "                  NA's   :18      \n",
      "[1] \"summary for cw0:  10000 and cw3:  0.1\"\n",
      " tr_specificity   cv_specificity  \n",
      " Min.   :0.2500   Min.   :0.0000  \n",
      " 1st Qu.:0.5744   1st Qu.:0.0000  \n",
      " Median :0.6667   Median :0.0000  \n",
      " Mean   :0.6389   Mean   :0.1808  \n",
      " 3rd Qu.:0.7240   3rd Qu.:0.2708  \n",
      " Max.   :1.0000   Max.   :1.0000  \n",
      "                  NA's   :18      \n"
     ]
    }
   ],
   "source": [
    "## let's see what mtry looks the best for exp2: \n",
    "for (cw0 in c(1, 10, 100, 1000, 10000)){\n",
    "    for (cw3 in c(1, 10, .1)){\n",
    "        cw0_outcome = outcome_all_expt[which(outcome_all_expt$cw0==cw0),]\n",
    "        cw3_outcome = cw0_outcome[which(cw0_outcome$cw3==cw3),]\n",
    "        print(paste('summary for cw0: ', as.character(cw0), 'and cw3: ', as.character(cw3)))\n",
    "        print(summary(cw3_outcome[,grep('specificity', colnames(cw3_outcome))]))\n",
    "    }\n",
    "}\n"
   ]
  },
  {
   "cell_type": "code",
   "execution_count": 72,
   "metadata": {
    "scrolled": true
   },
   "outputs": [
    {
     "name": "stdout",
     "output_type": "stream",
     "text": [
      "[1] \"summary for nodesize:  1 and mtry:  2\"\n",
      " tr_specificity   cv_specificity  \n",
      " Min.   :0.2500   Min.   :0.0000  \n",
      " 1st Qu.:0.6000   1st Qu.:0.0000  \n",
      " Median :0.6667   Median :0.0000  \n",
      " Mean   :0.6578   Mean   :0.1665  \n",
      " 3rd Qu.:0.7500   3rd Qu.:0.2500  \n",
      " Max.   :1.0000   Max.   :1.0000  \n",
      "                  NA's   :45      \n",
      "[1] \"summary for nodesize:  1 and mtry:  4\"\n",
      " tr_specificity   cv_specificity  \n",
      " Min.   :0.2500   Min.   :0.0000  \n",
      " 1st Qu.:0.5714   1st Qu.:0.0000  \n",
      " Median :0.6667   Median :0.0000  \n",
      " Mean   :0.6330   Mean   :0.1817  \n",
      " 3rd Qu.:0.7143   3rd Qu.:0.2500  \n",
      " Max.   :0.8571   Max.   :1.0000  \n",
      "                  NA's   :45      \n",
      "[1] \"summary for nodesize:  1 and mtry:  6\"\n",
      " tr_specificity   cv_specificity  \n",
      " Min.   :0.2000   Min.   :0.0000  \n",
      " 1st Qu.:0.5556   1st Qu.:0.0000  \n",
      " Median :0.6364   Median :0.0000  \n",
      " Mean   :0.6214   Mean   :0.1869  \n",
      " 3rd Qu.:0.7000   3rd Qu.:0.2500  \n",
      " Max.   :0.8571   Max.   :1.0000  \n",
      "                  NA's   :45      \n",
      "[1] \"summary for nodesize:  2 and mtry:  2\"\n",
      " tr_specificity   cv_specificity  \n",
      " Min.   :0.0000   Min.   :0.0000  \n",
      " 1st Qu.:0.6000   1st Qu.:0.0000  \n",
      " Median :0.6667   Median :0.0000  \n",
      " Mean   :0.6524   Mean   :0.1742  \n",
      " 3rd Qu.:0.7500   3rd Qu.:0.2500  \n",
      " Max.   :1.0000   Max.   :1.0000  \n",
      "                  NA's   :45      \n",
      "[1] \"summary for nodesize:  2 and mtry:  4\"\n",
      " tr_specificity   cv_specificity  \n",
      " Min.   :0.2500   Min.   :0.0000  \n",
      " 1st Qu.:0.5714   1st Qu.:0.0000  \n",
      " Median :0.6667   Median :0.0000  \n",
      " Mean   :0.6349   Mean   :0.1873  \n",
      " 3rd Qu.:0.7000   3rd Qu.:0.3214  \n",
      " Max.   :0.8571   Max.   :1.0000  \n",
      "                  NA's   :45      \n",
      "[1] \"summary for nodesize:  2 and mtry:  6\"\n",
      " tr_specificity   cv_specificity   \n",
      " Min.   :0.2000   Min.   :0.00000  \n",
      " 1st Qu.:0.5455   1st Qu.:0.00000  \n",
      " Median :0.6154   Median :0.07143  \n",
      " Mean   :0.6131   Mean   :0.20132  \n",
      " 3rd Qu.:0.7000   3rd Qu.:0.28571  \n",
      " Max.   :0.8571   Max.   :1.00000  \n",
      "                  NA's   :45       \n"
     ]
    }
   ],
   "source": [
    "## let's see what mtry looks the best for exp2: \n",
    "for (nodesize in c(1, 2)){\n",
    "    for (mtry in c(2, 4, 6)){\n",
    "        nodesize_outcome = outcome_all_expt[which(outcome_all_expt$node_size==nodesize),]\n",
    "        mtry_outcome = nodesize_outcome[which(nodesize_outcome$mtry==mtry),]\n",
    "        print(paste('summary for nodesize: ', as.character(nodesize), 'and mtry: ', as.character(mtry)))\n",
    "        print(summary(mtry_outcome[,grep('specificity', colnames(mtry_outcome))]))\n",
    "    }\n",
    "}\n"
   ]
  },
  {
   "cell_type": "code",
   "execution_count": 73,
   "metadata": {},
   "outputs": [
    {
     "data": {
      "text/plain": [
       "tumor_cell_evaluation ~ nfl + nfse + nt1c + nt1v + nt1d + nadc.1 + \n",
       "    nfa.1 + nev1.1 + nev2.1 + nev3.1 + nevrad.1 + cbvn_nlin + \n",
       "    phn_nlin + recov_nlin + phn_npar + recov_npar + ccri + cni + \n",
       "    crni + ncho + ncre + nnaa + nlac + nlip + nLL"
      ]
     },
     "metadata": {},
     "output_type": "display_data"
    }
   ],
   "source": [
    "outcome = \"tumor_cell_evaluation\"\n",
    "all_features = c(anat, diffu, perf, spec)\n",
    "features.addsign <- paste(all_features, collapse = \"+\")\n",
    "rf_formula = as.formula(paste(outcome, features.addsign, sep = \"~\"))\n",
    "rf_formula"
   ]
  },
  {
   "cell_type": "code",
   "execution_count": 74,
   "metadata": {},
   "outputs": [],
   "source": [
    "set.seed(10)"
   ]
  },
  {
   "cell_type": "code",
   "execution_count": 75,
   "metadata": {},
   "outputs": [],
   "source": [
    "rf = randomForest(formula = rf_formula, \n",
    "     data = recgli_train, nodesize = 2, mtry = 4, cw = c(1, 10), na.action = na.omit)\n"
   ]
  },
  {
   "cell_type": "code",
   "execution_count": 76,
   "metadata": {},
   "outputs": [
    {
     "data": {
      "text/plain": [
       "Confusion Matrix and Statistics\n",
       "\n",
       "          Reference\n",
       "Prediction 0 3\n",
       "         0 4 2\n",
       "         3 2 8\n",
       "                                          \n",
       "               Accuracy : 0.75            \n",
       "                 95% CI : (0.4762, 0.9273)\n",
       "    No Information Rate : 0.625           \n",
       "    P-Value [Acc > NIR] : 0.2226          \n",
       "                                          \n",
       "                  Kappa : 0.4667          \n",
       " Mcnemar's Test P-Value : 1.0000          \n",
       "                                          \n",
       "            Sensitivity : 0.6667          \n",
       "            Specificity : 0.8000          \n",
       "         Pos Pred Value : 0.6667          \n",
       "         Neg Pred Value : 0.8000          \n",
       "             Prevalence : 0.3750          \n",
       "         Detection Rate : 0.2500          \n",
       "   Detection Prevalence : 0.3750          \n",
       "      Balanced Accuracy : 0.7333          \n",
       "                                          \n",
       "       'Positive' Class : 0               \n",
       "                                          "
      ]
     },
     "metadata": {},
     "output_type": "display_data"
    }
   ],
   "source": [
    "preds = predict(rf, recgli_test)\n",
    "preds_conf_mat = confusionMatrix(preds, recgli_test$tumor_cell_evaluation)\n",
    "preds_conf_mat"
   ]
  },
  {
   "cell_type": "markdown",
   "metadata": {},
   "source": [
    "## All features with RFSRC: "
   ]
  },
  {
   "cell_type": "code",
   "execution_count": 77,
   "metadata": {},
   "outputs": [],
   "source": [
    "# library(randomForestSRC)"
   ]
  },
  {
   "cell_type": "code",
   "execution_count": 78,
   "metadata": {},
   "outputs": [],
   "source": [
    "# outcome_all_SRC_expt = outcome_experiment_template"
   ]
  },
  {
   "cell_type": "code",
   "execution_count": 79,
   "metadata": {},
   "outputs": [],
   "source": [
    "# features = c(anat, diffu, perf, spec)"
   ]
  },
  {
   "cell_type": "code",
   "execution_count": 80,
   "metadata": {},
   "outputs": [],
   "source": [
    "# ## let's begin by running expts for all_SRComic features only: \n",
    "# ## for each expt, we'll run the random forest with a variety of parameters \n",
    "# expnum = 1\n",
    "# tic()\n",
    "# for (i in 1:25){\n",
    "#     set.seed(i)\n",
    "    \n",
    "#     ## define features and outcome: \n",
    "#     outcome = \"tumor_cell_evaluation\"\n",
    "#     all_SRC_features = c(anat, diffu, perf, spec)\n",
    "#     features.addsign <- paste(all_SRC_features, collapse = \"+\")\n",
    "#     rf_formula = as.formula(paste(outcome, features.addsign, sep = \"~\"))\n",
    "    \n",
    "#     ## define training and testing (from the training) basicall_SRCy for x-val: \n",
    "#     unique_tnums = unique(recgli_train$t_number_y)\n",
    "#     train_tnums = unique_tnums[sample(c(1:length(unique_tnums)), size = round(length(unique_tnums)*.75))]\n",
    "#     test_tnums = unique_tnums[! unique_tnums %in% train_tnums]\n",
    "    \n",
    "#     recgli_exp_train= recgli_train[recgli_train$t_number_y %in% train_tnums, ]\n",
    "#     recgli_exp_cv = recgli_train[! recgli_train$t_number_y %in% train_tnums, ]\n",
    "#     for (nodesize in c(1, 2)){\n",
    "#         for (mtry in c(2, 4, 6)){\n",
    "#             for (cw0 in c(1, 10, 100, 1000, 10000)){\n",
    "#                 for (cw3 in c(1, 10, .1)){\n",
    "#                     rf = rfsrc(formula = rf_formula, \n",
    "#                          data = recgli_exp_train, nodesize = nodesize, mtry = mtry, #yvar.wt = c(cw0, cw3), \n",
    "#                                na.action = \"na.impute\")\n",
    "                    \n",
    "#                     train_preds_logreg =round(rf$predicted)\n",
    "#                     train_preds_final = ifelse(train_preds_logreg[,c('0')]==1, 0, 3) \n",
    "#                     train_conf_mat = confusionMatrix(as.factor(cv_preds_final), as.factor(as.numeric(as.character(recgli_exp_cv$tumor_cell_evaluation))))\n",
    "                    \n",
    "\n",
    "#                     cv_preds = predict(rf, recgli_exp_cv, na.action = \"na.impute\")\n",
    "#                     cv_preds_logreg =round(cv_preds$predicted)\n",
    "#                     cv_preds_final = ifelse(cv_preds_logreg[,c('0')]==1, 0, 3) \n",
    "#                     cv_conf_mat = confusionMatrix(as.factor(cv_preds_final), as.factor(as.numeric(as.character(recgli_exp_cv$tumor_cell_evaluation))))\n",
    "                    \n",
    "#                     outcome_all_SRC_expt[expnum,'expnum'] = expnum\n",
    "#                     outcome_all_SRC_expt[expnum,'node_size'] = nodesize\n",
    "#                     outcome_all_SRC_expt[expnum,'mtry'] = mtry\n",
    "#                     outcome_all_SRC_expt[expnum,'cw0'] = cw0\n",
    "#                     outcome_all_SRC_expt[expnum,'cw3'] = cw3\n",
    "#                     outcome_all_SRC_expt[expnum,'tr_out0_pred0'] = train_conf_mat$table['0', '0']\n",
    "#                     outcome_all_SRC_expt[expnum,'tr_out0_pred3'] = train_conf_mat$table['0', '3']\n",
    "#                     outcome_all_SRC_expt[expnum,'tr_out3_pred0'] = train_conf_mat$table['3', '0']\n",
    "#                     outcome_all_SRC_expt[expnum,'tr_out3_pred3'] = train_conf_mat$table['3', '3']\n",
    "#                     outcome_all_SRC_expt[expnum,'cv_out0_pred0'] = cv_conf_mat$table['0', '0']\n",
    "#                     outcome_all_SRC_expt[expnum,'cv_out0_pred3'] = cv_conf_mat$table['0', '3']\n",
    "#                     outcome_all_SRC_expt[expnum,'cv_out3_pred0'] = cv_conf_mat$table['3', '0']\n",
    "#                     outcome_all_SRC_expt[expnum,'cv_out3_pred3'] = cv_conf_mat$table['3', '3']\n",
    "#                     expnum = expnum + 1\n",
    "#                 }\n",
    "#             }\n",
    "\n",
    "#         }\n",
    "#     }\n",
    "# }\n",
    "# toc()"
   ]
  },
  {
   "cell_type": "code",
   "execution_count": 81,
   "metadata": {},
   "outputs": [],
   "source": [
    "# outcome_all_SRC_expt"
   ]
  },
  {
   "cell_type": "code",
   "execution_count": 82,
   "metadata": {},
   "outputs": [],
   "source": [
    "# outcome_all_SRC_expt['tr_specificity'] = (outcome_all_SRC_expt$tr_out0_pred0)/(outcome_all_SRC_expt$tr_out0_pred0+outcome_all_SRC_expt$tr_out3_pred0)\n",
    "# outcome_all_SRC_expt['cv_specificity'] = (outcome_all_SRC_expt$cv_out0_pred0)/(outcome_all_SRC_expt$cv_out0_pred0+outcome_all_SRC_expt$cv_out3_pred0)"
   ]
  },
  {
   "cell_type": "code",
   "execution_count": 83,
   "metadata": {},
   "outputs": [],
   "source": [
    "# ## let's see what mtry looks the best for exp2: \n",
    "# for (nodesize in c(1, 2)){\n",
    "#     for (mtry in c(2, 4, 6)){\n",
    "#         nodesize_outcome = outcome_all_SRC_expt[which(outcome_all_SRC_expt$node_size==nodesize),]\n",
    "#         mtry_outcome = nodesize_outcome[which(nodesize_outcome$mtry==mtry),]\n",
    "#         print(paste('summary for nodesize: ', as.character(nodesize), 'and mtry: ', as.character(mtry)))\n",
    "#         print(summary(mtry_outcome[,grep('specificity', colnames(mtry_outcome))]))\n",
    "#     }\n",
    "# }\n"
   ]
  },
  {
   "cell_type": "markdown",
   "metadata": {},
   "source": [
    "## All features with median imputation: "
   ]
  },
  {
   "cell_type": "code",
   "execution_count": 84,
   "metadata": {},
   "outputs": [
    {
     "data": {
      "text/html": [
       "2.49"
      ],
      "text/latex": [
       "2.49"
      ],
      "text/markdown": [
       "2.49"
      ],
      "text/plain": [
       "[1] 2.49"
      ]
     },
     "metadata": {},
     "output_type": "display_data"
    },
    {
     "data": {
      "text/html": [
       "<ol class=list-inline>\n",
       "\t<li>TRUE</li>\n",
       "\t<li>FALSE</li>\n",
       "\t<li>FALSE</li>\n",
       "\t<li>FALSE</li>\n",
       "\t<li>TRUE</li>\n",
       "\t<li>FALSE</li>\n",
       "\t<li>FALSE</li>\n",
       "\t<li>FALSE</li>\n",
       "\t<li>FALSE</li>\n",
       "\t<li>FALSE</li>\n",
       "\t<li>TRUE</li>\n",
       "\t<li>FALSE</li>\n",
       "\t<li>FALSE</li>\n",
       "\t<li>FALSE</li>\n",
       "\t<li>FALSE</li>\n",
       "\t<li>TRUE</li>\n",
       "\t<li>TRUE</li>\n",
       "\t<li>TRUE</li>\n",
       "\t<li>FALSE</li>\n",
       "\t<li>TRUE</li>\n",
       "\t<li>TRUE</li>\n",
       "\t<li>TRUE</li>\n",
       "\t<li>FALSE</li>\n",
       "\t<li>FALSE</li>\n",
       "\t<li>TRUE</li>\n",
       "\t<li>TRUE</li>\n",
       "\t<li>TRUE</li>\n",
       "\t<li>TRUE</li>\n",
       "\t<li>TRUE</li>\n",
       "\t<li>TRUE</li>\n",
       "\t<li>FALSE</li>\n",
       "\t<li>FALSE</li>\n",
       "\t<li>TRUE</li>\n",
       "\t<li>TRUE</li>\n",
       "\t<li>TRUE</li>\n",
       "\t<li>FALSE</li>\n",
       "\t<li>TRUE</li>\n",
       "\t<li>FALSE</li>\n",
       "\t<li>FALSE</li>\n",
       "\t<li>FALSE</li>\n",
       "\t<li>TRUE</li>\n",
       "\t<li>TRUE</li>\n",
       "\t<li>TRUE</li>\n",
       "\t<li>TRUE</li>\n",
       "\t<li>TRUE</li>\n",
       "\t<li>FALSE</li>\n",
       "\t<li>TRUE</li>\n",
       "\t<li>TRUE</li>\n",
       "\t<li>TRUE</li>\n",
       "\t<li>TRUE</li>\n",
       "\t<li>TRUE</li>\n",
       "\t<li>FALSE</li>\n",
       "\t<li>FALSE</li>\n",
       "\t<li>FALSE</li>\n",
       "\t<li>TRUE</li>\n",
       "\t<li>FALSE</li>\n",
       "\t<li>FALSE</li>\n",
       "\t<li>TRUE</li>\n",
       "\t<li>TRUE</li>\n",
       "\t<li>TRUE</li>\n",
       "\t<li>TRUE</li>\n",
       "\t<li>FALSE</li>\n",
       "\t<li>TRUE</li>\n",
       "\t<li>TRUE</li>\n",
       "\t<li>FALSE</li>\n",
       "\t<li>TRUE</li>\n",
       "\t<li>TRUE</li>\n",
       "\t<li>TRUE</li>\n",
       "\t<li>FALSE</li>\n",
       "\t<li>TRUE</li>\n",
       "\t<li>FALSE</li>\n",
       "\t<li>FALSE</li>\n",
       "\t<li>TRUE</li>\n",
       "\t<li>TRUE</li>\n",
       "\t<li>FALSE</li>\n",
       "\t<li>TRUE</li>\n",
       "\t<li>FALSE</li>\n",
       "\t<li>FALSE</li>\n",
       "\t<li>TRUE</li>\n",
       "\t<li>TRUE</li>\n",
       "\t<li>TRUE</li>\n",
       "\t<li>FALSE</li>\n",
       "</ol>\n"
      ],
      "text/latex": [
       "\\begin{enumerate*}\n",
       "\\item TRUE\n",
       "\\item FALSE\n",
       "\\item FALSE\n",
       "\\item FALSE\n",
       "\\item TRUE\n",
       "\\item FALSE\n",
       "\\item FALSE\n",
       "\\item FALSE\n",
       "\\item FALSE\n",
       "\\item FALSE\n",
       "\\item TRUE\n",
       "\\item FALSE\n",
       "\\item FALSE\n",
       "\\item FALSE\n",
       "\\item FALSE\n",
       "\\item TRUE\n",
       "\\item TRUE\n",
       "\\item TRUE\n",
       "\\item FALSE\n",
       "\\item TRUE\n",
       "\\item TRUE\n",
       "\\item TRUE\n",
       "\\item FALSE\n",
       "\\item FALSE\n",
       "\\item TRUE\n",
       "\\item TRUE\n",
       "\\item TRUE\n",
       "\\item TRUE\n",
       "\\item TRUE\n",
       "\\item TRUE\n",
       "\\item FALSE\n",
       "\\item FALSE\n",
       "\\item TRUE\n",
       "\\item TRUE\n",
       "\\item TRUE\n",
       "\\item FALSE\n",
       "\\item TRUE\n",
       "\\item FALSE\n",
       "\\item FALSE\n",
       "\\item FALSE\n",
       "\\item TRUE\n",
       "\\item TRUE\n",
       "\\item TRUE\n",
       "\\item TRUE\n",
       "\\item TRUE\n",
       "\\item FALSE\n",
       "\\item TRUE\n",
       "\\item TRUE\n",
       "\\item TRUE\n",
       "\\item TRUE\n",
       "\\item TRUE\n",
       "\\item FALSE\n",
       "\\item FALSE\n",
       "\\item FALSE\n",
       "\\item TRUE\n",
       "\\item FALSE\n",
       "\\item FALSE\n",
       "\\item TRUE\n",
       "\\item TRUE\n",
       "\\item TRUE\n",
       "\\item TRUE\n",
       "\\item FALSE\n",
       "\\item TRUE\n",
       "\\item TRUE\n",
       "\\item FALSE\n",
       "\\item TRUE\n",
       "\\item TRUE\n",
       "\\item TRUE\n",
       "\\item FALSE\n",
       "\\item TRUE\n",
       "\\item FALSE\n",
       "\\item FALSE\n",
       "\\item TRUE\n",
       "\\item TRUE\n",
       "\\item FALSE\n",
       "\\item TRUE\n",
       "\\item FALSE\n",
       "\\item FALSE\n",
       "\\item TRUE\n",
       "\\item TRUE\n",
       "\\item TRUE\n",
       "\\item FALSE\n",
       "\\end{enumerate*}\n"
      ],
      "text/markdown": [
       "1. TRUE\n",
       "2. FALSE\n",
       "3. FALSE\n",
       "4. FALSE\n",
       "5. TRUE\n",
       "6. FALSE\n",
       "7. FALSE\n",
       "8. FALSE\n",
       "9. FALSE\n",
       "10. FALSE\n",
       "11. TRUE\n",
       "12. FALSE\n",
       "13. FALSE\n",
       "14. FALSE\n",
       "15. FALSE\n",
       "16. TRUE\n",
       "17. TRUE\n",
       "18. TRUE\n",
       "19. FALSE\n",
       "20. TRUE\n",
       "21. TRUE\n",
       "22. TRUE\n",
       "23. FALSE\n",
       "24. FALSE\n",
       "25. TRUE\n",
       "26. TRUE\n",
       "27. TRUE\n",
       "28. TRUE\n",
       "29. TRUE\n",
       "30. TRUE\n",
       "31. FALSE\n",
       "32. FALSE\n",
       "33. TRUE\n",
       "34. TRUE\n",
       "35. TRUE\n",
       "36. FALSE\n",
       "37. TRUE\n",
       "38. FALSE\n",
       "39. FALSE\n",
       "40. FALSE\n",
       "41. TRUE\n",
       "42. TRUE\n",
       "43. TRUE\n",
       "44. TRUE\n",
       "45. TRUE\n",
       "46. FALSE\n",
       "47. TRUE\n",
       "48. TRUE\n",
       "49. TRUE\n",
       "50. TRUE\n",
       "51. TRUE\n",
       "52. FALSE\n",
       "53. FALSE\n",
       "54. FALSE\n",
       "55. TRUE\n",
       "56. FALSE\n",
       "57. FALSE\n",
       "58. TRUE\n",
       "59. TRUE\n",
       "60. TRUE\n",
       "61. TRUE\n",
       "62. FALSE\n",
       "63. TRUE\n",
       "64. TRUE\n",
       "65. FALSE\n",
       "66. TRUE\n",
       "67. TRUE\n",
       "68. TRUE\n",
       "69. FALSE\n",
       "70. TRUE\n",
       "71. FALSE\n",
       "72. FALSE\n",
       "73. TRUE\n",
       "74. TRUE\n",
       "75. FALSE\n",
       "76. TRUE\n",
       "77. FALSE\n",
       "78. FALSE\n",
       "79. TRUE\n",
       "80. TRUE\n",
       "81. TRUE\n",
       "82. FALSE\n",
       "\n",
       "\n"
      ],
      "text/plain": [
       " [1]  TRUE FALSE FALSE FALSE  TRUE FALSE FALSE FALSE FALSE FALSE  TRUE FALSE\n",
       "[13] FALSE FALSE FALSE  TRUE  TRUE  TRUE FALSE  TRUE  TRUE  TRUE FALSE FALSE\n",
       "[25]  TRUE  TRUE  TRUE  TRUE  TRUE  TRUE FALSE FALSE  TRUE  TRUE  TRUE FALSE\n",
       "[37]  TRUE FALSE FALSE FALSE  TRUE  TRUE  TRUE  TRUE  TRUE FALSE  TRUE  TRUE\n",
       "[49]  TRUE  TRUE  TRUE FALSE FALSE FALSE  TRUE FALSE FALSE  TRUE  TRUE  TRUE\n",
       "[61]  TRUE FALSE  TRUE  TRUE FALSE  TRUE  TRUE  TRUE FALSE  TRUE FALSE FALSE\n",
       "[73]  TRUE  TRUE FALSE  TRUE FALSE FALSE  TRUE  TRUE  TRUE FALSE"
      ]
     },
     "metadata": {},
     "output_type": "display_data"
    }
   ],
   "source": [
    "recgli_exp_train_imp = recgli_exp_train\n",
    "feature = 'cni'\n",
    "recgli_exp_train_median_feature = median(recgli_exp_train[,feature], na.rm = T)\n",
    "recgli_exp_train_median_feature\n",
    "is.na(recgli_exp_train[,feature])                                                             "
   ]
  },
  {
   "cell_type": "code",
   "execution_count": 85,
   "metadata": {},
   "outputs": [
    {
     "name": "stderr",
     "output_type": "stream",
     "text": [
      "Warning message in is.na(recgli_exp_train_imp$feature):\n",
      "“is.na() applied to non-(list or vector) of type 'NULL'”"
     ]
    },
    {
     "data": {
      "text/html": [],
      "text/latex": [],
      "text/markdown": [],
      "text/plain": [
       "logical(0)"
      ]
     },
     "metadata": {},
     "output_type": "display_data"
    }
   ],
   "source": [
    "is.na(recgli_exp_train_imp$feature)"
   ]
  },
  {
   "cell_type": "code",
   "execution_count": 86,
   "metadata": {},
   "outputs": [],
   "source": [
    "outcome_all_expt = outcome_experiment_template"
   ]
  },
  {
   "cell_type": "code",
   "execution_count": 87,
   "metadata": {},
   "outputs": [],
   "source": [
    "features = c(anat, diffu, perf, spec)"
   ]
  },
  {
   "cell_type": "code",
   "execution_count": 88,
   "metadata": {},
   "outputs": [
    {
     "name": "stdout",
     "output_type": "stream",
     "text": [
      "53.188 sec elapsed\n"
     ]
    }
   ],
   "source": [
    "## let's begin by running expts for allomic features only: \n",
    "## for each expt, we'll run the random forest with a variety of parameters \n",
    "expnum = 1\n",
    "tic()\n",
    "for (i in 1:25){\n",
    "    set.seed(i)\n",
    "    \n",
    "    ## define features and outcome: \n",
    "    outcome = \"tumor_cell_evaluation\"\n",
    "    all_features = c(anat, diffu, perf, spec)\n",
    "    features.addsign <- paste(all_features, collapse = \"+\")\n",
    "    rf_formula = as.formula(paste(outcome, features.addsign, sep = \"~\"))\n",
    "    \n",
    "    ## define training and testing (from the training) basically for x-val: \n",
    "    unique_tnums = unique(recgli_train$t_number_y)\n",
    "    train_tnums = unique_tnums[sample(c(1:length(unique_tnums)), size = round(length(unique_tnums)*.75))]\n",
    "    test_tnums = unique_tnums[! unique_tnums %in% train_tnums]   \n",
    "    recgli_exp_train= recgli_train[recgli_train$t_number_y %in% train_tnums, ]\n",
    "    recgli_exp_cv = recgli_train[! recgli_train$t_number_y %in% train_tnums, ]\n",
    "    \n",
    "    ## median imputation: \n",
    "    for (feature in all_features){\n",
    "        recgli_exp_train_median_feature = median(recgli_exp_train[,feature])\n",
    "        which(is.na(recgli_exp_train[,feature]))\n",
    "    }\n",
    "    \n",
    "    #print(table(is.na((recgli_exp_train$cbvn_nlin))))\n",
    "    for (nodesize in c(1, 2)){\n",
    "        for (mtry in c(2, 4, 6)){\n",
    "            for (cw0 in c(1, 10, 100, 1000, 10000)){\n",
    "                for (cw3 in c(1, 10, .1)){\n",
    "                    rf = randomForest(formula = rf_formula, \n",
    "                         data = recgli_exp_train, nodesize = nodesize, mtry = mtry, cw = c(cw0, cw3), na.action = na.omit)\n",
    "\n",
    "                    cv_preds = predict(rf, recgli_exp_cv)\n",
    "\n",
    "                    cv_conf_mat = confusionMatrix(cv_preds, recgli_exp_cv$tumor_cell_evaluation)\n",
    "\n",
    "                    outcome_all_expt[expnum,'expnum'] = expnum\n",
    "                    outcome_all_expt[expnum,'node_size'] = nodesize\n",
    "                    outcome_all_expt[expnum,'mtry'] = mtry\n",
    "                    outcome_all_expt[expnum,'cw0'] = cw0\n",
    "                    outcome_all_expt[expnum,'cw3'] = cw3\n",
    "                    outcome_all_expt[expnum,'tr_out0_pred0'] = rf$confusion['0', '0']\n",
    "                    outcome_all_expt[expnum,'tr_out0_pred3'] = rf$confusion['0', '3']\n",
    "                    outcome_all_expt[expnum,'tr_out3_pred0'] = rf$confusion['3', '0']\n",
    "                    outcome_all_expt[expnum,'tr_out3_pred3'] = rf$confusion['3', '3']\n",
    "                    outcome_all_expt[expnum,'cv_out0_pred0'] = cv_conf_mat$table['0', '0']\n",
    "                    outcome_all_expt[expnum,'cv_out0_pred3'] = cv_conf_mat$table['0', '3']\n",
    "                    outcome_all_expt[expnum,'cv_out3_pred0'] = cv_conf_mat$table['3', '0']\n",
    "                    outcome_all_expt[expnum,'cv_out3_pred3'] = cv_conf_mat$table['3', '3']\n",
    "                    expnum = expnum + 1\n",
    "                }\n",
    "            }\n",
    "\n",
    "        }\n",
    "    }\n",
    "}\n",
    "toc()"
   ]
  },
  {
   "cell_type": "code",
   "execution_count": 89,
   "metadata": {},
   "outputs": [],
   "source": [
    "outcome_all_expt['tr_specificity'] = (outcome_all_expt$tr_out0_pred0)/(outcome_all_expt$tr_out0_pred0+outcome_all_expt$tr_out3_pred0)\n",
    "outcome_all_expt['cv_specificity'] = (outcome_all_expt$cv_out0_pred0)/(outcome_all_expt$cv_out0_pred0+outcome_all_expt$cv_out3_pred0)"
   ]
  },
  {
   "cell_type": "code",
   "execution_count": 90,
   "metadata": {},
   "outputs": [
    {
     "name": "stdout",
     "output_type": "stream",
     "text": [
      "[1] \"summary for nodesize:  1 and mtry:  2\"\n",
      " tr_specificity   cv_specificity  \n",
      " Min.   :0.2500   Min.   :0.0000  \n",
      " 1st Qu.:0.6000   1st Qu.:0.0000  \n",
      " Median :0.6667   Median :0.0000  \n",
      " Mean   :0.6578   Mean   :0.1665  \n",
      " 3rd Qu.:0.7500   3rd Qu.:0.2500  \n",
      " Max.   :1.0000   Max.   :1.0000  \n",
      "                  NA's   :45      \n",
      "[1] \"summary for nodesize:  1 and mtry:  4\"\n",
      " tr_specificity   cv_specificity  \n",
      " Min.   :0.2500   Min.   :0.0000  \n",
      " 1st Qu.:0.5714   1st Qu.:0.0000  \n",
      " Median :0.6667   Median :0.0000  \n",
      " Mean   :0.6330   Mean   :0.1817  \n",
      " 3rd Qu.:0.7143   3rd Qu.:0.2500  \n",
      " Max.   :0.8571   Max.   :1.0000  \n",
      "                  NA's   :45      \n",
      "[1] \"summary for nodesize:  1 and mtry:  6\"\n",
      " tr_specificity   cv_specificity  \n",
      " Min.   :0.2000   Min.   :0.0000  \n",
      " 1st Qu.:0.5556   1st Qu.:0.0000  \n",
      " Median :0.6364   Median :0.0000  \n",
      " Mean   :0.6214   Mean   :0.1869  \n",
      " 3rd Qu.:0.7000   3rd Qu.:0.2500  \n",
      " Max.   :0.8571   Max.   :1.0000  \n",
      "                  NA's   :45      \n",
      "[1] \"summary for nodesize:  2 and mtry:  2\"\n",
      " tr_specificity   cv_specificity  \n",
      " Min.   :0.0000   Min.   :0.0000  \n",
      " 1st Qu.:0.6000   1st Qu.:0.0000  \n",
      " Median :0.6667   Median :0.0000  \n",
      " Mean   :0.6524   Mean   :0.1742  \n",
      " 3rd Qu.:0.7500   3rd Qu.:0.2500  \n",
      " Max.   :1.0000   Max.   :1.0000  \n",
      "                  NA's   :45      \n",
      "[1] \"summary for nodesize:  2 and mtry:  4\"\n",
      " tr_specificity   cv_specificity  \n",
      " Min.   :0.2500   Min.   :0.0000  \n",
      " 1st Qu.:0.5714   1st Qu.:0.0000  \n",
      " Median :0.6667   Median :0.0000  \n",
      " Mean   :0.6349   Mean   :0.1873  \n",
      " 3rd Qu.:0.7000   3rd Qu.:0.3214  \n",
      " Max.   :0.8571   Max.   :1.0000  \n",
      "                  NA's   :45      \n",
      "[1] \"summary for nodesize:  2 and mtry:  6\"\n",
      " tr_specificity   cv_specificity   \n",
      " Min.   :0.2000   Min.   :0.00000  \n",
      " 1st Qu.:0.5455   1st Qu.:0.00000  \n",
      " Median :0.6154   Median :0.07143  \n",
      " Mean   :0.6131   Mean   :0.20132  \n",
      " 3rd Qu.:0.7000   3rd Qu.:0.28571  \n",
      " Max.   :0.8571   Max.   :1.00000  \n",
      "                  NA's   :45       \n"
     ]
    }
   ],
   "source": [
    "## let's see what mtry looks the best for exp2: \n",
    "for (nodesize in c(1, 2)){\n",
    "    for (mtry in c(2, 4, 6)){\n",
    "        nodesize_outcome = outcome_all_expt[which(outcome_all_expt$node_size==nodesize),]\n",
    "        mtry_outcome = nodesize_outcome[which(nodesize_outcome$mtry==mtry),]\n",
    "        print(paste('summary for nodesize: ', as.character(nodesize), 'and mtry: ', as.character(mtry)))\n",
    "        print(summary(mtry_outcome[,grep('specificity', colnames(mtry_outcome))]))\n",
    "    }\n",
    "}\n"
   ]
  },
  {
   "cell_type": "code",
   "execution_count": 91,
   "metadata": {},
   "outputs": [],
   "source": [
    "outcome = \"tumor_cell_evaluation\"\n",
    "features.addsign <- paste(spec, collapse = \"+\")\n",
    "rf_formula = as.formula(paste(outcome, features.addsign, sep = \"~\"))"
   ]
  },
  {
   "cell_type": "code",
   "execution_count": null,
   "metadata": {},
   "outputs": [],
   "source": []
  }
 ],
 "metadata": {
  "kernelspec": {
   "display_name": "R",
   "language": "R",
   "name": "ir"
  },
  "language_info": {
   "codemirror_mode": "r",
   "file_extension": ".r",
   "mimetype": "text/x-r-source",
   "name": "R",
   "pygments_lexer": "r",
   "version": "3.4.0"
  }
 },
 "nbformat": 4,
 "nbformat_minor": 2
}
