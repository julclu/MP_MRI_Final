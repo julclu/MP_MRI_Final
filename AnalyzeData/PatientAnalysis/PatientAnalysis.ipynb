{
 "cells": [
  {
   "cell_type": "markdown",
   "metadata": {},
   "source": [
    "## Patient Analysis of Demographics"
   ]
  },
  {
   "cell_type": "markdown",
   "metadata": {},
   "source": [
    "1. go to cerebro \n",
    "2. download po1_preop_recur_ptdemographics\n",
    "3. download rec_hgg_ptdemographics\n",
    "4. download po1_preop_recur_gender_race\n",
    "4. download rechgg_gender_race\n",
    "4. save as csv\n",
    "5. upload to this directory"
   ]
  },
  {
   "cell_type": "code",
   "execution_count": 1,
   "metadata": {},
   "outputs": [],
   "source": [
    "options(repr.matrix.max.rows=600, repr.matrix.max.cols=200)"
   ]
  },
  {
   "cell_type": "code",
   "execution_count": 2,
   "metadata": {},
   "outputs": [],
   "source": [
    "po1_pt_dems = read.csv(\"po1_preop_recur_ptdemographics.csv\", na.strings=c(\"\",\"NA\"))\n",
    "rechgg_pt_dems = read.csv('rec_hgg_ptdemographics.csv', na.strings=c(\"\",\"NA\"))\n",
    "po1_pt_gender = read.csv('po1_preop_recur_gender_race.csv', na.strings=c(\"\",\"NA\"))\n",
    "rechgg_pt_gender = read.csv('rechgg_gender_race.csv', na.strings=c(\"\",\"NA\"))"
   ]
  },
  {
   "cell_type": "code",
   "execution_count": 3,
   "metadata": {},
   "outputs": [
    {
     "data": {
      "text/html": [
       "<ol class=list-inline>\n",
       "\t<li>147</li>\n",
       "\t<li>19</li>\n",
       "</ol>\n"
      ],
      "text/latex": [
       "\\begin{enumerate*}\n",
       "\\item 147\n",
       "\\item 19\n",
       "\\end{enumerate*}\n"
      ],
      "text/markdown": [
       "1. 147\n",
       "2. 19\n",
       "\n",
       "\n"
      ],
      "text/plain": [
       "[1] 147  19"
      ]
     },
     "metadata": {},
     "output_type": "display_data"
    },
    {
     "data": {
      "text/html": [
       "<ol class=list-inline>\n",
       "\t<li>140</li>\n",
       "\t<li>4</li>\n",
       "</ol>\n"
      ],
      "text/latex": [
       "\\begin{enumerate*}\n",
       "\\item 140\n",
       "\\item 4\n",
       "\\end{enumerate*}\n"
      ],
      "text/markdown": [
       "1. 140\n",
       "2. 4\n",
       "\n",
       "\n"
      ],
      "text/plain": [
       "[1] 140   4"
      ]
     },
     "metadata": {},
     "output_type": "display_data"
    },
    {
     "data": {
      "text/html": [
       "<ol class=list-inline>\n",
       "\t<li>'Gender'</li>\n",
       "\t<li>'Birthdate'</li>\n",
       "\t<li>'Brain.Group.Subject.ID'</li>\n",
       "\t<li>'Race'</li>\n",
       "</ol>\n"
      ],
      "text/latex": [
       "\\begin{enumerate*}\n",
       "\\item 'Gender'\n",
       "\\item 'Birthdate'\n",
       "\\item 'Brain.Group.Subject.ID'\n",
       "\\item 'Race'\n",
       "\\end{enumerate*}\n"
      ],
      "text/markdown": [
       "1. 'Gender'\n",
       "2. 'Birthdate'\n",
       "3. 'Brain.Group.Subject.ID'\n",
       "4. 'Race'\n",
       "\n",
       "\n"
      ],
      "text/plain": [
       "[1] \"Gender\"                 \"Birthdate\"              \"Brain.Group.Subject.ID\"\n",
       "[4] \"Race\"                  "
      ]
     },
     "metadata": {},
     "output_type": "display_data"
    },
    {
     "data": {
      "text/html": [
       "<ol class=list-inline>\n",
       "\t<li>'gender'</li>\n",
       "\t<li>'birthdate'</li>\n",
       "\t<li>'b_number'</li>\n",
       "\t<li>'race'</li>\n",
       "</ol>\n"
      ],
      "text/latex": [
       "\\begin{enumerate*}\n",
       "\\item 'gender'\n",
       "\\item 'birthdate'\n",
       "\\item 'b\\_number'\n",
       "\\item 'race'\n",
       "\\end{enumerate*}\n"
      ],
      "text/markdown": [
       "1. 'gender'\n",
       "2. 'birthdate'\n",
       "3. 'b_number'\n",
       "4. 'race'\n",
       "\n",
       "\n"
      ],
      "text/plain": [
       "[1] \"gender\"    \"birthdate\" \"b_number\"  \"race\"     "
      ]
     },
     "metadata": {},
     "output_type": "display_data"
    },
    {
     "data": {
      "text/html": [
       "<ol class=list-inline>\n",
       "\t<li>'b_number'</li>\n",
       "\t<li>'t_number'</li>\n",
       "\t<li>'sf_number'</li>\n",
       "\t<li>'current_scan_date'</li>\n",
       "\t<li>'current_surgery_date'</li>\n",
       "\t<li>'post_t_number'</li>\n",
       "\t<li>'post_scan_date'</li>\n",
       "\t<li>'current_hist_grade'</li>\n",
       "\t<li>'current_hist_type'</li>\n",
       "\t<li>'age_at_surgery'</li>\n",
       "\t<li>'extent_of_resection'</li>\n",
       "\t<li>'inital_kps'</li>\n",
       "\t<li>'last_contact_date'</li>\n",
       "\t<li>'progression_date'</li>\n",
       "\t<li>'pfs_censored'</li>\n",
       "\t<li>'pfs'</li>\n",
       "\t<li>'date_of_death'</li>\n",
       "\t<li>'os_censored'</li>\n",
       "\t<li>'os'</li>\n",
       "</ol>\n"
      ],
      "text/latex": [
       "\\begin{enumerate*}\n",
       "\\item 'b\\_number'\n",
       "\\item 't\\_number'\n",
       "\\item 'sf\\_number'\n",
       "\\item 'current\\_scan\\_date'\n",
       "\\item 'current\\_surgery\\_date'\n",
       "\\item 'post\\_t\\_number'\n",
       "\\item 'post\\_scan\\_date'\n",
       "\\item 'current\\_hist\\_grade'\n",
       "\\item 'current\\_hist\\_type'\n",
       "\\item 'age\\_at\\_surgery'\n",
       "\\item 'extent\\_of\\_resection'\n",
       "\\item 'inital\\_kps'\n",
       "\\item 'last\\_contact\\_date'\n",
       "\\item 'progression\\_date'\n",
       "\\item 'pfs\\_censored'\n",
       "\\item 'pfs'\n",
       "\\item 'date\\_of\\_death'\n",
       "\\item 'os\\_censored'\n",
       "\\item 'os'\n",
       "\\end{enumerate*}\n"
      ],
      "text/markdown": [
       "1. 'b_number'\n",
       "2. 't_number'\n",
       "3. 'sf_number'\n",
       "4. 'current_scan_date'\n",
       "5. 'current_surgery_date'\n",
       "6. 'post_t_number'\n",
       "7. 'post_scan_date'\n",
       "8. 'current_hist_grade'\n",
       "9. 'current_hist_type'\n",
       "10. 'age_at_surgery'\n",
       "11. 'extent_of_resection'\n",
       "12. 'inital_kps'\n",
       "13. 'last_contact_date'\n",
       "14. 'progression_date'\n",
       "15. 'pfs_censored'\n",
       "16. 'pfs'\n",
       "17. 'date_of_death'\n",
       "18. 'os_censored'\n",
       "19. 'os'\n",
       "\n",
       "\n"
      ],
      "text/plain": [
       " [1] \"b_number\"             \"t_number\"             \"sf_number\"           \n",
       " [4] \"current_scan_date\"    \"current_surgery_date\" \"post_t_number\"       \n",
       " [7] \"post_scan_date\"       \"current_hist_grade\"   \"current_hist_type\"   \n",
       "[10] \"age_at_surgery\"       \"extent_of_resection\"  \"inital_kps\"          \n",
       "[13] \"last_contact_date\"    \"progression_date\"     \"pfs_censored\"        \n",
       "[16] \"pfs\"                  \"date_of_death\"        \"os_censored\"         \n",
       "[19] \"os\"                  "
      ]
     },
     "metadata": {},
     "output_type": "display_data"
    }
   ],
   "source": [
    "dim(po1_pt_dems)\n",
    "dim(po1_pt_gender)\n",
    "colnames(po1_pt_gender)\n",
    "colnames(po1_pt_gender) = c(\"gender\", 'birthdate', 'b_number', 'race')\n",
    "colnames(po1_pt_gender)\n",
    "colnames( po1_pt_dems)"
   ]
  },
  {
   "cell_type": "code",
   "execution_count": 4,
   "metadata": {},
   "outputs": [
    {
     "data": {
      "text/html": [
       "<ol class=list-inline>\n",
       "\t<li>146</li>\n",
       "\t<li>22</li>\n",
       "</ol>\n"
      ],
      "text/latex": [
       "\\begin{enumerate*}\n",
       "\\item 146\n",
       "\\item 22\n",
       "\\end{enumerate*}\n"
      ],
      "text/markdown": [
       "1. 146\n",
       "2. 22\n",
       "\n",
       "\n"
      ],
      "text/plain": [
       "[1] 146  22"
      ]
     },
     "metadata": {},
     "output_type": "display_data"
    },
    {
     "data": {
      "text/html": [
       "<table>\n",
       "<thead><tr><th scope=col>b_number</th><th scope=col>t_number</th><th scope=col>sf_number</th><th scope=col>current_scan_date</th><th scope=col>current_surgery_date</th><th scope=col>post_t_number</th><th scope=col>post_scan_date</th><th scope=col>current_hist_grade</th><th scope=col>current_hist_type</th><th scope=col>age_at_surgery</th><th scope=col>extent_of_resection</th><th scope=col>inital_kps</th><th scope=col>last_contact_date</th><th scope=col>progression_date</th><th scope=col>pfs_censored</th><th scope=col>pfs</th><th scope=col>date_of_death</th><th scope=col>os_censored</th><th scope=col>os</th><th scope=col>gender</th><th scope=col>birthdate</th><th scope=col>race</th></tr></thead>\n",
       "<tbody>\n",
       "\t<tr><td> 68                         </td><td>6024                        </td><td>  NA                        </td><td>2009-03-08                  </td><td>NA                          </td><td>   NA                       </td><td>NA                          </td><td>Grade IV                    </td><td>Glioblastoma                </td><td>NA                          </td><td>NA                          </td><td>NA                          </td><td>2017-02-02                  </td><td>NA                          </td><td>0                           </td><td>2888                        </td><td>NA                          </td><td>0                           </td><td>2888                        </td><td>F                           </td><td>1967-01-11                  </td><td>White                       </td></tr>\n",
       "\t<tr><td>197                         </td><td>6243                        </td><td>8077                        </td><td>2009-07-15                  </td><td>2009-07-16                  </td><td>11078                       </td><td>2009-07-18                  </td><td>Treatment Effect            </td><td>Treatment Effect            </td><td>56                          </td><td>Sub-total resection         </td><td>NA                          </td><td>2017-01-27                  </td><td>NA                          </td><td>0                           </td><td>2753                        </td><td>NA                          </td><td>0                           </td><td>2753                        </td><td>M                           </td><td>1953-07-10                  </td><td>White                       </td></tr>\n",
       "\t<tr><td>697                         </td><td>5333                        </td><td>7691                        </td><td>2008-05-12                  </td><td>2008-05-14                  </td><td> 8422                       </td><td>2008-05-16                  </td><td>Grade III                   </td><td>Oligodendroglioma           </td><td>49                          </td><td>Sub-total resection         </td><td>90                          </td><td>NA                          </td><td>NA                          </td><td>0                           </td><td>  NA                        </td><td>2010-05-01                  </td><td>1                           </td><td> 719                        </td><td>M                           </td><td>1959-02-25                  </td><td>White                       </td></tr>\n",
       "\t<tr><td>808                         </td><td>7170                        </td><td>8551                        </td><td>2010-11-16                  </td><td>2010-11-17                  </td><td>11125                       </td><td>2010-11-18                  </td><td>Grade IV                    </td><td>Glioblastoma                </td><td>25                          </td><td>Other - See Surgery Comments</td><td>NA                          </td><td>NA                          </td><td>NA                          </td><td>0                           </td><td>  NA                        </td><td>2011-06-05                  </td><td>1                           </td><td> 201                        </td><td>F                           </td><td>1984-11-28                  </td><td>White                       </td></tr>\n",
       "\t<tr><td>963                         </td><td>6069                        </td><td>7984                        </td><td>2009-03-24                  </td><td>2009-03-25                  </td><td>   NA                       </td><td>NA                          </td><td>Grade IV                    </td><td>Glioblastoma                </td><td>46                          </td><td>Sub-total resection         </td><td>NA                          </td><td>NA                          </td><td>NA                          </td><td>0                           </td><td>  NA                        </td><td>2010-01-18                  </td><td>1                           </td><td> 300                        </td><td>M                           </td><td>1962-07-07                  </td><td>White                       </td></tr>\n",
       "\t<tr><td>994                         </td><td>6418                        </td><td>8157                        </td><td>2009-10-27                  </td><td>2009-10-28                  </td><td>   NA                       </td><td>NA                          </td><td>Grade IV                    </td><td>Glioblastoma                </td><td>55                          </td><td>Sub-total resection         </td><td>NA                          </td><td>2010-04-25                  </td><td>2010-04-25                  </td><td>1                           </td><td> 180                        </td><td>2010-12-17                  </td><td>1                           </td><td> 416                        </td><td>F                           </td><td>1954-09-11                  </td><td>White                       </td></tr>\n",
       "</tbody>\n",
       "</table>\n"
      ],
      "text/latex": [
       "\\begin{tabular}{r|llllllllllllllllllllll}\n",
       " b\\_number & t\\_number & sf\\_number & current\\_scan\\_date & current\\_surgery\\_date & post\\_t\\_number & post\\_scan\\_date & current\\_hist\\_grade & current\\_hist\\_type & age\\_at\\_surgery & extent\\_of\\_resection & inital\\_kps & last\\_contact\\_date & progression\\_date & pfs\\_censored & pfs & date\\_of\\_death & os\\_censored & os & gender & birthdate & race\\\\\n",
       "\\hline\n",
       "\t  68                          & 6024                         &   NA                         & 2009-03-08                   & NA                           &    NA                        & NA                           & Grade IV                     & Glioblastoma                 & NA                           & NA                           & NA                           & 2017-02-02                   & NA                           & 0                            & 2888                         & NA                           & 0                            & 2888                         & F                            & 1967-01-11                   & White                       \\\\\n",
       "\t 197                          & 6243                         & 8077                         & 2009-07-15                   & 2009-07-16                   & 11078                        & 2009-07-18                   & Treatment Effect             & Treatment Effect             & 56                           & Sub-total resection          & NA                           & 2017-01-27                   & NA                           & 0                            & 2753                         & NA                           & 0                            & 2753                         & M                            & 1953-07-10                   & White                       \\\\\n",
       "\t 697                          & 5333                         & 7691                         & 2008-05-12                   & 2008-05-14                   &  8422                        & 2008-05-16                   & Grade III                    & Oligodendroglioma            & 49                           & Sub-total resection          & 90                           & NA                           & NA                           & 0                            &   NA                         & 2010-05-01                   & 1                            &  719                         & M                            & 1959-02-25                   & White                       \\\\\n",
       "\t 808                          & 7170                         & 8551                         & 2010-11-16                   & 2010-11-17                   & 11125                        & 2010-11-18                   & Grade IV                     & Glioblastoma                 & 25                           & Other - See Surgery Comments & NA                           & NA                           & NA                           & 0                            &   NA                         & 2011-06-05                   & 1                            &  201                         & F                            & 1984-11-28                   & White                       \\\\\n",
       "\t 963                          & 6069                         & 7984                         & 2009-03-24                   & 2009-03-25                   &    NA                        & NA                           & Grade IV                     & Glioblastoma                 & 46                           & Sub-total resection          & NA                           & NA                           & NA                           & 0                            &   NA                         & 2010-01-18                   & 1                            &  300                         & M                            & 1962-07-07                   & White                       \\\\\n",
       "\t 994                          & 6418                         & 8157                         & 2009-10-27                   & 2009-10-28                   &    NA                        & NA                           & Grade IV                     & Glioblastoma                 & 55                           & Sub-total resection          & NA                           & 2010-04-25                   & 2010-04-25                   & 1                            &  180                         & 2010-12-17                   & 1                            &  416                         & F                            & 1954-09-11                   & White                       \\\\\n",
       "\\end{tabular}\n"
      ],
      "text/markdown": [
       "\n",
       "b_number | t_number | sf_number | current_scan_date | current_surgery_date | post_t_number | post_scan_date | current_hist_grade | current_hist_type | age_at_surgery | extent_of_resection | inital_kps | last_contact_date | progression_date | pfs_censored | pfs | date_of_death | os_censored | os | gender | birthdate | race | \n",
       "|---|---|---|---|---|---|\n",
       "|  68                          | 6024                         |   NA                         | 2009-03-08                   | NA                           |    NA                        | NA                           | Grade IV                     | Glioblastoma                 | NA                           | NA                           | NA                           | 2017-02-02                   | NA                           | 0                            | 2888                         | NA                           | 0                            | 2888                         | F                            | 1967-01-11                   | White                        | \n",
       "| 197                          | 6243                         | 8077                         | 2009-07-15                   | 2009-07-16                   | 11078                        | 2009-07-18                   | Treatment Effect             | Treatment Effect             | 56                           | Sub-total resection          | NA                           | 2017-01-27                   | NA                           | 0                            | 2753                         | NA                           | 0                            | 2753                         | M                            | 1953-07-10                   | White                        | \n",
       "| 697                          | 5333                         | 7691                         | 2008-05-12                   | 2008-05-14                   |  8422                        | 2008-05-16                   | Grade III                    | Oligodendroglioma            | 49                           | Sub-total resection          | 90                           | NA                           | NA                           | 0                            |   NA                         | 2010-05-01                   | 1                            |  719                         | M                            | 1959-02-25                   | White                        | \n",
       "| 808                          | 7170                         | 8551                         | 2010-11-16                   | 2010-11-17                   | 11125                        | 2010-11-18                   | Grade IV                     | Glioblastoma                 | 25                           | Other - See Surgery Comments | NA                           | NA                           | NA                           | 0                            |   NA                         | 2011-06-05                   | 1                            |  201                         | F                            | 1984-11-28                   | White                        | \n",
       "| 963                          | 6069                         | 7984                         | 2009-03-24                   | 2009-03-25                   |    NA                        | NA                           | Grade IV                     | Glioblastoma                 | 46                           | Sub-total resection          | NA                           | NA                           | NA                           | 0                            |   NA                         | 2010-01-18                   | 1                            |  300                         | M                            | 1962-07-07                   | White                        | \n",
       "| 994                          | 6418                         | 8157                         | 2009-10-27                   | 2009-10-28                   |    NA                        | NA                           | Grade IV                     | Glioblastoma                 | 55                           | Sub-total resection          | NA                           | 2010-04-25                   | 2010-04-25                   | 1                            |  180                         | 2010-12-17                   | 1                            |  416                         | F                            | 1954-09-11                   | White                        | \n",
       "\n",
       "\n"
      ],
      "text/plain": [
       "  b_number t_number sf_number current_scan_date current_surgery_date\n",
       "1  68      6024       NA      2009-03-08        NA                  \n",
       "2 197      6243     8077      2009-07-15        2009-07-16          \n",
       "3 697      5333     7691      2008-05-12        2008-05-14          \n",
       "4 808      7170     8551      2010-11-16        2010-11-17          \n",
       "5 963      6069     7984      2009-03-24        2009-03-25          \n",
       "6 994      6418     8157      2009-10-27        2009-10-28          \n",
       "  post_t_number post_scan_date current_hist_grade current_hist_type\n",
       "1    NA         NA             Grade IV           Glioblastoma     \n",
       "2 11078         2009-07-18     Treatment Effect   Treatment Effect \n",
       "3  8422         2008-05-16     Grade III          Oligodendroglioma\n",
       "4 11125         2010-11-18     Grade IV           Glioblastoma     \n",
       "5    NA         NA             Grade IV           Glioblastoma     \n",
       "6    NA         NA             Grade IV           Glioblastoma     \n",
       "  age_at_surgery extent_of_resection          inital_kps last_contact_date\n",
       "1 NA             NA                           NA         2017-02-02       \n",
       "2 56             Sub-total resection          NA         2017-01-27       \n",
       "3 49             Sub-total resection          90         NA               \n",
       "4 25             Other - See Surgery Comments NA         NA               \n",
       "5 46             Sub-total resection          NA         NA               \n",
       "6 55             Sub-total resection          NA         2010-04-25       \n",
       "  progression_date pfs_censored pfs  date_of_death os_censored os   gender\n",
       "1 NA               0            2888 NA            0           2888 F     \n",
       "2 NA               0            2753 NA            0           2753 M     \n",
       "3 NA               0              NA 2010-05-01    1            719 M     \n",
       "4 NA               0              NA 2011-06-05    1            201 F     \n",
       "5 NA               0              NA 2010-01-18    1            300 M     \n",
       "6 2010-04-25       1             180 2010-12-17    1            416 F     \n",
       "  birthdate  race \n",
       "1 1967-01-11 White\n",
       "2 1953-07-10 White\n",
       "3 1959-02-25 White\n",
       "4 1984-11-28 White\n",
       "5 1962-07-07 White\n",
       "6 1954-09-11 White"
      ]
     },
     "metadata": {},
     "output_type": "display_data"
    }
   ],
   "source": [
    "po1_dems = merge(po1_pt_dems, po1_pt_gender, by = 'b_number')\n",
    "dim(po1_dems)\n",
    "head(po1_dems)\n",
    "po1_dems$birthdate = as.Date(po1_dems$birthdate)\n",
    "po1_dems$current_scan_date = as.Date(po1_dems$current_scan_date)\n"
   ]
  },
  {
   "cell_type": "code",
   "execution_count": 5,
   "metadata": {},
   "outputs": [
    {
     "data": {
      "text/html": [
       "<ol class=list-inline>\n",
       "\t<li>131</li>\n",
       "\t<li>19</li>\n",
       "</ol>\n"
      ],
      "text/latex": [
       "\\begin{enumerate*}\n",
       "\\item 131\n",
       "\\item 19\n",
       "\\end{enumerate*}\n"
      ],
      "text/markdown": [
       "1. 131\n",
       "2. 19\n",
       "\n",
       "\n"
      ],
      "text/plain": [
       "[1] 131  19"
      ]
     },
     "metadata": {},
     "output_type": "display_data"
    },
    {
     "data": {
      "text/html": [
       "<ol class=list-inline>\n",
       "\t<li>120</li>\n",
       "\t<li>5</li>\n",
       "</ol>\n"
      ],
      "text/latex": [
       "\\begin{enumerate*}\n",
       "\\item 120\n",
       "\\item 5\n",
       "\\end{enumerate*}\n"
      ],
      "text/markdown": [
       "1. 120\n",
       "2. 5\n",
       "\n",
       "\n"
      ],
      "text/plain": [
       "[1] 120   5"
      ]
     },
     "metadata": {},
     "output_type": "display_data"
    },
    {
     "data": {
      "text/html": [
       "<ol class=list-inline>\n",
       "\t<li>'gender'</li>\n",
       "\t<li>'birthdate'</li>\n",
       "\t<li>'b_number'</li>\n",
       "\t<li>'race'</li>\n",
       "\t<li>'study_id'</li>\n",
       "</ol>\n"
      ],
      "text/latex": [
       "\\begin{enumerate*}\n",
       "\\item 'gender'\n",
       "\\item 'birthdate'\n",
       "\\item 'b\\_number'\n",
       "\\item 'race'\n",
       "\\item 'study\\_id'\n",
       "\\end{enumerate*}\n"
      ],
      "text/markdown": [
       "1. 'gender'\n",
       "2. 'birthdate'\n",
       "3. 'b_number'\n",
       "4. 'race'\n",
       "5. 'study_id'\n",
       "\n",
       "\n"
      ],
      "text/plain": [
       "[1] \"gender\"    \"birthdate\" \"b_number\"  \"race\"      \"study_id\" "
      ]
     },
     "metadata": {},
     "output_type": "display_data"
    },
    {
     "data": {
      "text/html": [
       "<ol class=list-inline>\n",
       "\t<li>'b_number'</li>\n",
       "\t<li>'t_number'</li>\n",
       "\t<li>'sf_number'</li>\n",
       "\t<li>'current_scan_date'</li>\n",
       "\t<li>'current_surgery_date'</li>\n",
       "\t<li>'post_t_number'</li>\n",
       "\t<li>'post_scan_date'</li>\n",
       "\t<li>'current_hist_grade'</li>\n",
       "\t<li>'current_hist_type'</li>\n",
       "\t<li>'age_at_surgery'</li>\n",
       "\t<li>'extent_of_resection'</li>\n",
       "\t<li>'inital_kps'</li>\n",
       "\t<li>'last_contact_date'</li>\n",
       "\t<li>'progression_date'</li>\n",
       "\t<li>'pfs_censored'</li>\n",
       "\t<li>'pfs'</li>\n",
       "\t<li>'date_of_death'</li>\n",
       "\t<li>'os_censored'</li>\n",
       "\t<li>'os'</li>\n",
       "</ol>\n"
      ],
      "text/latex": [
       "\\begin{enumerate*}\n",
       "\\item 'b\\_number'\n",
       "\\item 't\\_number'\n",
       "\\item 'sf\\_number'\n",
       "\\item 'current\\_scan\\_date'\n",
       "\\item 'current\\_surgery\\_date'\n",
       "\\item 'post\\_t\\_number'\n",
       "\\item 'post\\_scan\\_date'\n",
       "\\item 'current\\_hist\\_grade'\n",
       "\\item 'current\\_hist\\_type'\n",
       "\\item 'age\\_at\\_surgery'\n",
       "\\item 'extent\\_of\\_resection'\n",
       "\\item 'inital\\_kps'\n",
       "\\item 'last\\_contact\\_date'\n",
       "\\item 'progression\\_date'\n",
       "\\item 'pfs\\_censored'\n",
       "\\item 'pfs'\n",
       "\\item 'date\\_of\\_death'\n",
       "\\item 'os\\_censored'\n",
       "\\item 'os'\n",
       "\\end{enumerate*}\n"
      ],
      "text/markdown": [
       "1. 'b_number'\n",
       "2. 't_number'\n",
       "3. 'sf_number'\n",
       "4. 'current_scan_date'\n",
       "5. 'current_surgery_date'\n",
       "6. 'post_t_number'\n",
       "7. 'post_scan_date'\n",
       "8. 'current_hist_grade'\n",
       "9. 'current_hist_type'\n",
       "10. 'age_at_surgery'\n",
       "11. 'extent_of_resection'\n",
       "12. 'inital_kps'\n",
       "13. 'last_contact_date'\n",
       "14. 'progression_date'\n",
       "15. 'pfs_censored'\n",
       "16. 'pfs'\n",
       "17. 'date_of_death'\n",
       "18. 'os_censored'\n",
       "19. 'os'\n",
       "\n",
       "\n"
      ],
      "text/plain": [
       " [1] \"b_number\"             \"t_number\"             \"sf_number\"           \n",
       " [4] \"current_scan_date\"    \"current_surgery_date\" \"post_t_number\"       \n",
       " [7] \"post_scan_date\"       \"current_hist_grade\"   \"current_hist_type\"   \n",
       "[10] \"age_at_surgery\"       \"extent_of_resection\"  \"inital_kps\"          \n",
       "[13] \"last_contact_date\"    \"progression_date\"     \"pfs_censored\"        \n",
       "[16] \"pfs\"                  \"date_of_death\"        \"os_censored\"         \n",
       "[19] \"os\"                  "
      ]
     },
     "metadata": {},
     "output_type": "display_data"
    }
   ],
   "source": [
    "dim(rechgg_pt_dems)\n",
    "dim(rechgg_pt_gender)\n",
    "colnames(rechgg_pt_gender) = c(\"gender\", 'birthdate', 'b_number', 'race', 'study_id')\n",
    "colnames(rechgg_pt_gender)\n",
    "colnames(rechgg_pt_dems)"
   ]
  },
  {
   "cell_type": "code",
   "execution_count": 6,
   "metadata": {},
   "outputs": [
    {
     "data": {
      "text/html": [
       "<ol class=list-inline>\n",
       "\t<li>127</li>\n",
       "\t<li>23</li>\n",
       "</ol>\n"
      ],
      "text/latex": [
       "\\begin{enumerate*}\n",
       "\\item 127\n",
       "\\item 23\n",
       "\\end{enumerate*}\n"
      ],
      "text/markdown": [
       "1. 127\n",
       "2. 23\n",
       "\n",
       "\n"
      ],
      "text/plain": [
       "[1] 127  23"
      ]
     },
     "metadata": {},
     "output_type": "display_data"
    },
    {
     "data": {
      "text/html": [
       "<table>\n",
       "<thead><tr><th scope=col>b_number</th><th scope=col>t_number</th><th scope=col>sf_number</th><th scope=col>current_scan_date</th><th scope=col>current_surgery_date</th><th scope=col>post_t_number</th><th scope=col>post_scan_date</th><th scope=col>current_hist_grade</th><th scope=col>current_hist_type</th><th scope=col>age_at_surgery</th><th scope=col>extent_of_resection</th><th scope=col>inital_kps</th><th scope=col>last_contact_date</th><th scope=col>progression_date</th><th scope=col>pfs_censored</th><th scope=col>pfs</th><th scope=col>date_of_death</th><th scope=col>os_censored</th><th scope=col>os</th><th scope=col>gender</th><th scope=col>birthdate</th><th scope=col>race</th><th scope=col>study_id</th></tr></thead>\n",
       "<tbody>\n",
       "\t<tr><td> 971                 </td><td>10668                </td><td>10943                </td><td>2016-08-16           </td><td>2016-08-17           </td><td>11639                </td><td>2016-08-19           </td><td>Grade III            </td><td>Oligodendroglioma    </td><td>60                   </td><td>Sub-total resection  </td><td>NA                   </td><td>NA                   </td><td>NA                   </td><td>0                    </td><td>NA                   </td><td>NA                   </td><td>0                    </td><td> NA                  </td><td>M                    </td><td>1956-07-14           </td><td>Other                </td><td>REC_HGG              </td></tr>\n",
       "\t<tr><td>1335                 </td><td>11420                </td><td>   NA                </td><td>2017-05-30           </td><td>NA                   </td><td>   NA                </td><td>NA                   </td><td>NA                   </td><td>NA                   </td><td>NA                   </td><td>NA                   </td><td>NA                   </td><td>NA                   </td><td>NA                   </td><td>0                    </td><td>NA                   </td><td>NA                   </td><td>0                    </td><td> NA                  </td><td>F                    </td><td>1975-12-13           </td><td>White                </td><td>REC_HGG              </td></tr>\n",
       "\t<tr><td>1338                 </td><td> 8773                </td><td> 9727                </td><td>2013-10-02           </td><td>2013-10-03           </td><td> 9877                </td><td>2013-10-04           </td><td>Grade IV             </td><td>Glioblastoma         </td><td>39                   </td><td>Gross total resection</td><td>NA                   </td><td>NA                   </td><td>NA                   </td><td>0                    </td><td>NA                   </td><td>2014-08-27           </td><td>1                    </td><td>329                  </td><td>F                    </td><td>1974-05-10           </td><td>White                </td><td>REC_HGG              </td></tr>\n",
       "\t<tr><td>1837                 </td><td> 8960                </td><td> 9913                </td><td>2014-03-18           </td><td>2014-03-20           </td><td> 9896                </td><td>2014-03-21           </td><td>Grade IV             </td><td>Glioblastoma         </td><td>58                   </td><td>Sub-total resection  </td><td>NA                   </td><td>NA                   </td><td>NA                   </td><td>0                    </td><td>NA                   </td><td>2014-08-31           </td><td>1                    </td><td>166                  </td><td>F                    </td><td>1955-11-22           </td><td>Asian                </td><td>REC_HGG              </td></tr>\n",
       "\t<tr><td>1957                 </td><td> 9134                </td><td>10071                </td><td>2014-08-12           </td><td>2014-08-13           </td><td> 9925                </td><td>2014-08-14           </td><td>Grade III            </td><td>Oligodendroglioma    </td><td>36                   </td><td>Sub-total resection  </td><td>NA                   </td><td>NA                   </td><td>NA                   </td><td>0                    </td><td>NA                   </td><td>2016-08-15           </td><td>1                    </td><td>734                  </td><td>F                    </td><td>1978-01-07           </td><td>White                </td><td>REC_HGG              </td></tr>\n",
       "\t<tr><td>2284                 </td><td>12523                </td><td>   NA                </td><td>2018-10-21           </td><td>NA                   </td><td>   NA                </td><td>NA                   </td><td>NA                   </td><td>NA                   </td><td>NA                   </td><td>NA                   </td><td>NA                   </td><td>NA                   </td><td>NA                   </td><td>0                    </td><td>NA                   </td><td>NA                   </td><td>0                    </td><td> NA                  </td><td>M                    </td><td>1967-02-10           </td><td>White                </td><td>REC_HGG              </td></tr>\n",
       "</tbody>\n",
       "</table>\n"
      ],
      "text/latex": [
       "\\begin{tabular}{r|lllllllllllllllllllllll}\n",
       " b\\_number & t\\_number & sf\\_number & current\\_scan\\_date & current\\_surgery\\_date & post\\_t\\_number & post\\_scan\\_date & current\\_hist\\_grade & current\\_hist\\_type & age\\_at\\_surgery & extent\\_of\\_resection & inital\\_kps & last\\_contact\\_date & progression\\_date & pfs\\_censored & pfs & date\\_of\\_death & os\\_censored & os & gender & birthdate & race & study\\_id\\\\\n",
       "\\hline\n",
       "\t  971                  & 10668                 & 10943                 & 2016-08-16            & 2016-08-17            & 11639                 & 2016-08-19            & Grade III             & Oligodendroglioma     & 60                    & Sub-total resection   & NA                    & NA                    & NA                    & 0                     & NA                    & NA                    & 0                     &  NA                   & M                     & 1956-07-14            & Other                 & REC\\_HGG            \\\\\n",
       "\t 1335                  & 11420                 &    NA                 & 2017-05-30            & NA                    &    NA                 & NA                    & NA                    & NA                    & NA                    & NA                    & NA                    & NA                    & NA                    & 0                     & NA                    & NA                    & 0                     &  NA                   & F                     & 1975-12-13            & White                 & REC\\_HGG            \\\\\n",
       "\t 1338                  &  8773                 &  9727                 & 2013-10-02            & 2013-10-03            &  9877                 & 2013-10-04            & Grade IV              & Glioblastoma          & 39                    & Gross total resection & NA                    & NA                    & NA                    & 0                     & NA                    & 2014-08-27            & 1                     & 329                   & F                     & 1974-05-10            & White                 & REC\\_HGG            \\\\\n",
       "\t 1837                  &  8960                 &  9913                 & 2014-03-18            & 2014-03-20            &  9896                 & 2014-03-21            & Grade IV              & Glioblastoma          & 58                    & Sub-total resection   & NA                    & NA                    & NA                    & 0                     & NA                    & 2014-08-31            & 1                     & 166                   & F                     & 1955-11-22            & Asian                 & REC\\_HGG            \\\\\n",
       "\t 1957                  &  9134                 & 10071                 & 2014-08-12            & 2014-08-13            &  9925                 & 2014-08-14            & Grade III             & Oligodendroglioma     & 36                    & Sub-total resection   & NA                    & NA                    & NA                    & 0                     & NA                    & 2016-08-15            & 1                     & 734                   & F                     & 1978-01-07            & White                 & REC\\_HGG            \\\\\n",
       "\t 2284                  & 12523                 &    NA                 & 2018-10-21            & NA                    &    NA                 & NA                    & NA                    & NA                    & NA                    & NA                    & NA                    & NA                    & NA                    & 0                     & NA                    & NA                    & 0                     &  NA                   & M                     & 1967-02-10            & White                 & REC\\_HGG            \\\\\n",
       "\\end{tabular}\n"
      ],
      "text/markdown": [
       "\n",
       "b_number | t_number | sf_number | current_scan_date | current_surgery_date | post_t_number | post_scan_date | current_hist_grade | current_hist_type | age_at_surgery | extent_of_resection | inital_kps | last_contact_date | progression_date | pfs_censored | pfs | date_of_death | os_censored | os | gender | birthdate | race | study_id | \n",
       "|---|---|---|---|---|---|\n",
       "|  971                  | 10668                 | 10943                 | 2016-08-16            | 2016-08-17            | 11639                 | 2016-08-19            | Grade III             | Oligodendroglioma     | 60                    | Sub-total resection   | NA                    | NA                    | NA                    | 0                     | NA                    | NA                    | 0                     |  NA                   | M                     | 1956-07-14            | Other                 | REC_HGG               | \n",
       "| 1335                  | 11420                 |    NA                 | 2017-05-30            | NA                    |    NA                 | NA                    | NA                    | NA                    | NA                    | NA                    | NA                    | NA                    | NA                    | 0                     | NA                    | NA                    | 0                     |  NA                   | F                     | 1975-12-13            | White                 | REC_HGG               | \n",
       "| 1338                  |  8773                 |  9727                 | 2013-10-02            | 2013-10-03            |  9877                 | 2013-10-04            | Grade IV              | Glioblastoma          | 39                    | Gross total resection | NA                    | NA                    | NA                    | 0                     | NA                    | 2014-08-27            | 1                     | 329                   | F                     | 1974-05-10            | White                 | REC_HGG               | \n",
       "| 1837                  |  8960                 |  9913                 | 2014-03-18            | 2014-03-20            |  9896                 | 2014-03-21            | Grade IV              | Glioblastoma          | 58                    | Sub-total resection   | NA                    | NA                    | NA                    | 0                     | NA                    | 2014-08-31            | 1                     | 166                   | F                     | 1955-11-22            | Asian                 | REC_HGG               | \n",
       "| 1957                  |  9134                 | 10071                 | 2014-08-12            | 2014-08-13            |  9925                 | 2014-08-14            | Grade III             | Oligodendroglioma     | 36                    | Sub-total resection   | NA                    | NA                    | NA                    | 0                     | NA                    | 2016-08-15            | 1                     | 734                   | F                     | 1978-01-07            | White                 | REC_HGG               | \n",
       "| 2284                  | 12523                 |    NA                 | 2018-10-21            | NA                    |    NA                 | NA                    | NA                    | NA                    | NA                    | NA                    | NA                    | NA                    | NA                    | 0                     | NA                    | NA                    | 0                     |  NA                   | M                     | 1967-02-10            | White                 | REC_HGG               | \n",
       "\n",
       "\n"
      ],
      "text/plain": [
       "  b_number t_number sf_number current_scan_date current_surgery_date\n",
       "1  971     10668    10943     2016-08-16        2016-08-17          \n",
       "2 1335     11420       NA     2017-05-30        NA                  \n",
       "3 1338      8773     9727     2013-10-02        2013-10-03          \n",
       "4 1837      8960     9913     2014-03-18        2014-03-20          \n",
       "5 1957      9134    10071     2014-08-12        2014-08-13          \n",
       "6 2284     12523       NA     2018-10-21        NA                  \n",
       "  post_t_number post_scan_date current_hist_grade current_hist_type\n",
       "1 11639         2016-08-19     Grade III          Oligodendroglioma\n",
       "2    NA         NA             NA                 NA               \n",
       "3  9877         2013-10-04     Grade IV           Glioblastoma     \n",
       "4  9896         2014-03-21     Grade IV           Glioblastoma     \n",
       "5  9925         2014-08-14     Grade III          Oligodendroglioma\n",
       "6    NA         NA             NA                 NA               \n",
       "  age_at_surgery extent_of_resection   inital_kps last_contact_date\n",
       "1 60             Sub-total resection   NA         NA               \n",
       "2 NA             NA                    NA         NA               \n",
       "3 39             Gross total resection NA         NA               \n",
       "4 58             Sub-total resection   NA         NA               \n",
       "5 36             Sub-total resection   NA         NA               \n",
       "6 NA             NA                    NA         NA               \n",
       "  progression_date pfs_censored pfs date_of_death os_censored os  gender\n",
       "1 NA               0            NA  NA            0            NA M     \n",
       "2 NA               0            NA  NA            0            NA F     \n",
       "3 NA               0            NA  2014-08-27    1           329 F     \n",
       "4 NA               0            NA  2014-08-31    1           166 F     \n",
       "5 NA               0            NA  2016-08-15    1           734 F     \n",
       "6 NA               0            NA  NA            0            NA M     \n",
       "  birthdate  race  study_id\n",
       "1 1956-07-14 Other REC_HGG \n",
       "2 1975-12-13 White REC_HGG \n",
       "3 1974-05-10 White REC_HGG \n",
       "4 1955-11-22 Asian REC_HGG \n",
       "5 1978-01-07 White REC_HGG \n",
       "6 1967-02-10 White REC_HGG "
      ]
     },
     "metadata": {},
     "output_type": "display_data"
    }
   ],
   "source": [
    "rechgg_dems = merge(rechgg_pt_dems, rechgg_pt_gender, by = 'b_number')\n",
    "dim(rechgg_dems)\n",
    "head(rechgg_dems)\n",
    "rechgg_dems$birthdate = as.Date(rechgg_dems$birthdate)\n",
    "rechgg_dems$current_scan_date = as.Date(rechgg_dems$current_scan_date)\n",
    "rechgg_dems = rechgg_dems[,-23]"
   ]
  },
  {
   "cell_type": "code",
   "execution_count": 7,
   "metadata": {},
   "outputs": [
    {
     "data": {
      "text/html": [
       "<ol class=list-inline>\n",
       "\t<li>131</li>\n",
       "\t<li>19</li>\n",
       "</ol>\n"
      ],
      "text/latex": [
       "\\begin{enumerate*}\n",
       "\\item 131\n",
       "\\item 19\n",
       "\\end{enumerate*}\n"
      ],
      "text/markdown": [
       "1. 131\n",
       "2. 19\n",
       "\n",
       "\n"
      ],
      "text/plain": [
       "[1] 131  19"
      ]
     },
     "metadata": {},
     "output_type": "display_data"
    },
    {
     "data": {
      "text/html": [
       "<ol class=list-inline>\n",
       "\t<li>120</li>\n",
       "\t<li>5</li>\n",
       "</ol>\n"
      ],
      "text/latex": [
       "\\begin{enumerate*}\n",
       "\\item 120\n",
       "\\item 5\n",
       "\\end{enumerate*}\n"
      ],
      "text/markdown": [
       "1. 120\n",
       "2. 5\n",
       "\n",
       "\n"
      ],
      "text/plain": [
       "[1] 120   5"
      ]
     },
     "metadata": {},
     "output_type": "display_data"
    },
    {
     "data": {
      "text/html": [
       "<ol class=list-inline>\n",
       "\t<li>'gender'</li>\n",
       "\t<li>'birthdate'</li>\n",
       "\t<li>'b_number'</li>\n",
       "\t<li>'race'</li>\n",
       "\t<li>'study_id'</li>\n",
       "</ol>\n"
      ],
      "text/latex": [
       "\\begin{enumerate*}\n",
       "\\item 'gender'\n",
       "\\item 'birthdate'\n",
       "\\item 'b\\_number'\n",
       "\\item 'race'\n",
       "\\item 'study\\_id'\n",
       "\\end{enumerate*}\n"
      ],
      "text/markdown": [
       "1. 'gender'\n",
       "2. 'birthdate'\n",
       "3. 'b_number'\n",
       "4. 'race'\n",
       "5. 'study_id'\n",
       "\n",
       "\n"
      ],
      "text/plain": [
       "[1] \"gender\"    \"birthdate\" \"b_number\"  \"race\"      \"study_id\" "
      ]
     },
     "metadata": {},
     "output_type": "display_data"
    },
    {
     "data": {
      "text/html": [
       "<ol class=list-inline>\n",
       "\t<li>'b_number'</li>\n",
       "\t<li>'t_number'</li>\n",
       "\t<li>'sf_number'</li>\n",
       "\t<li>'current_scan_date'</li>\n",
       "\t<li>'current_surgery_date'</li>\n",
       "\t<li>'post_t_number'</li>\n",
       "\t<li>'post_scan_date'</li>\n",
       "\t<li>'current_hist_grade'</li>\n",
       "\t<li>'current_hist_type'</li>\n",
       "\t<li>'age_at_surgery'</li>\n",
       "\t<li>'extent_of_resection'</li>\n",
       "\t<li>'inital_kps'</li>\n",
       "\t<li>'last_contact_date'</li>\n",
       "\t<li>'progression_date'</li>\n",
       "\t<li>'pfs_censored'</li>\n",
       "\t<li>'pfs'</li>\n",
       "\t<li>'date_of_death'</li>\n",
       "\t<li>'os_censored'</li>\n",
       "\t<li>'os'</li>\n",
       "</ol>\n"
      ],
      "text/latex": [
       "\\begin{enumerate*}\n",
       "\\item 'b\\_number'\n",
       "\\item 't\\_number'\n",
       "\\item 'sf\\_number'\n",
       "\\item 'current\\_scan\\_date'\n",
       "\\item 'current\\_surgery\\_date'\n",
       "\\item 'post\\_t\\_number'\n",
       "\\item 'post\\_scan\\_date'\n",
       "\\item 'current\\_hist\\_grade'\n",
       "\\item 'current\\_hist\\_type'\n",
       "\\item 'age\\_at\\_surgery'\n",
       "\\item 'extent\\_of\\_resection'\n",
       "\\item 'inital\\_kps'\n",
       "\\item 'last\\_contact\\_date'\n",
       "\\item 'progression\\_date'\n",
       "\\item 'pfs\\_censored'\n",
       "\\item 'pfs'\n",
       "\\item 'date\\_of\\_death'\n",
       "\\item 'os\\_censored'\n",
       "\\item 'os'\n",
       "\\end{enumerate*}\n"
      ],
      "text/markdown": [
       "1. 'b_number'\n",
       "2. 't_number'\n",
       "3. 'sf_number'\n",
       "4. 'current_scan_date'\n",
       "5. 'current_surgery_date'\n",
       "6. 'post_t_number'\n",
       "7. 'post_scan_date'\n",
       "8. 'current_hist_grade'\n",
       "9. 'current_hist_type'\n",
       "10. 'age_at_surgery'\n",
       "11. 'extent_of_resection'\n",
       "12. 'inital_kps'\n",
       "13. 'last_contact_date'\n",
       "14. 'progression_date'\n",
       "15. 'pfs_censored'\n",
       "16. 'pfs'\n",
       "17. 'date_of_death'\n",
       "18. 'os_censored'\n",
       "19. 'os'\n",
       "\n",
       "\n"
      ],
      "text/plain": [
       " [1] \"b_number\"             \"t_number\"             \"sf_number\"           \n",
       " [4] \"current_scan_date\"    \"current_surgery_date\" \"post_t_number\"       \n",
       " [7] \"post_scan_date\"       \"current_hist_grade\"   \"current_hist_type\"   \n",
       "[10] \"age_at_surgery\"       \"extent_of_resection\"  \"inital_kps\"          \n",
       "[13] \"last_contact_date\"    \"progression_date\"     \"pfs_censored\"        \n",
       "[16] \"pfs\"                  \"date_of_death\"        \"os_censored\"         \n",
       "[19] \"os\"                  "
      ]
     },
     "metadata": {},
     "output_type": "display_data"
    }
   ],
   "source": [
    "dim(rechgg_pt_dems)\n",
    "dim(rechgg_pt_gender)\n",
    "colnames(rechgg_pt_gender) = c(\"gender\", 'birthdate', 'b_number', 'race', 'study_id')\n",
    "colnames(rechgg_pt_gender)\n",
    "colnames(rechgg_pt_dems)\n"
   ]
  },
  {
   "cell_type": "code",
   "execution_count": 8,
   "metadata": {},
   "outputs": [
    {
     "data": {
      "text/html": [
       "<ol class=list-inline>\n",
       "\t<li>'b_number'</li>\n",
       "\t<li>'t_number'</li>\n",
       "\t<li>'sf_number'</li>\n",
       "\t<li>'current_scan_date'</li>\n",
       "\t<li>'current_surgery_date'</li>\n",
       "\t<li>'post_t_number'</li>\n",
       "\t<li>'post_scan_date'</li>\n",
       "\t<li>'current_hist_grade'</li>\n",
       "\t<li>'current_hist_type'</li>\n",
       "\t<li>'age_at_surgery'</li>\n",
       "\t<li>'extent_of_resection'</li>\n",
       "\t<li>'inital_kps'</li>\n",
       "\t<li>'last_contact_date'</li>\n",
       "\t<li>'progression_date'</li>\n",
       "\t<li>'pfs_censored'</li>\n",
       "\t<li>'pfs'</li>\n",
       "\t<li>'date_of_death'</li>\n",
       "\t<li>'os_censored'</li>\n",
       "\t<li>'os'</li>\n",
       "\t<li>'gender'</li>\n",
       "\t<li>'birthdate'</li>\n",
       "\t<li>'race'</li>\n",
       "</ol>\n"
      ],
      "text/latex": [
       "\\begin{enumerate*}\n",
       "\\item 'b\\_number'\n",
       "\\item 't\\_number'\n",
       "\\item 'sf\\_number'\n",
       "\\item 'current\\_scan\\_date'\n",
       "\\item 'current\\_surgery\\_date'\n",
       "\\item 'post\\_t\\_number'\n",
       "\\item 'post\\_scan\\_date'\n",
       "\\item 'current\\_hist\\_grade'\n",
       "\\item 'current\\_hist\\_type'\n",
       "\\item 'age\\_at\\_surgery'\n",
       "\\item 'extent\\_of\\_resection'\n",
       "\\item 'inital\\_kps'\n",
       "\\item 'last\\_contact\\_date'\n",
       "\\item 'progression\\_date'\n",
       "\\item 'pfs\\_censored'\n",
       "\\item 'pfs'\n",
       "\\item 'date\\_of\\_death'\n",
       "\\item 'os\\_censored'\n",
       "\\item 'os'\n",
       "\\item 'gender'\n",
       "\\item 'birthdate'\n",
       "\\item 'race'\n",
       "\\end{enumerate*}\n"
      ],
      "text/markdown": [
       "1. 'b_number'\n",
       "2. 't_number'\n",
       "3. 'sf_number'\n",
       "4. 'current_scan_date'\n",
       "5. 'current_surgery_date'\n",
       "6. 'post_t_number'\n",
       "7. 'post_scan_date'\n",
       "8. 'current_hist_grade'\n",
       "9. 'current_hist_type'\n",
       "10. 'age_at_surgery'\n",
       "11. 'extent_of_resection'\n",
       "12. 'inital_kps'\n",
       "13. 'last_contact_date'\n",
       "14. 'progression_date'\n",
       "15. 'pfs_censored'\n",
       "16. 'pfs'\n",
       "17. 'date_of_death'\n",
       "18. 'os_censored'\n",
       "19. 'os'\n",
       "20. 'gender'\n",
       "21. 'birthdate'\n",
       "22. 'race'\n",
       "\n",
       "\n"
      ],
      "text/plain": [
       " [1] \"b_number\"             \"t_number\"             \"sf_number\"           \n",
       " [4] \"current_scan_date\"    \"current_surgery_date\" \"post_t_number\"       \n",
       " [7] \"post_scan_date\"       \"current_hist_grade\"   \"current_hist_type\"   \n",
       "[10] \"age_at_surgery\"       \"extent_of_resection\"  \"inital_kps\"          \n",
       "[13] \"last_contact_date\"    \"progression_date\"     \"pfs_censored\"        \n",
       "[16] \"pfs\"                  \"date_of_death\"        \"os_censored\"         \n",
       "[19] \"os\"                   \"gender\"               \"birthdate\"           \n",
       "[22] \"race\"                "
      ]
     },
     "metadata": {},
     "output_type": "display_data"
    }
   ],
   "source": [
    "colnames(po1_dems)"
   ]
  },
  {
   "cell_type": "code",
   "execution_count": 9,
   "metadata": {},
   "outputs": [],
   "source": [
    "fully_annot_biopsies = read.csv('../../AnnotateData/recgli_annotation9_CELorNELorUNK.csv', na.strings=c(\"\",\"NA\"))"
   ]
  },
  {
   "cell_type": "code",
   "execution_count": 10,
   "metadata": {},
   "outputs": [
    {
     "ename": "ERROR",
     "evalue": "Error in charToDate(x): character string is not in a standard unambiguous format\n",
     "output_type": "error",
     "traceback": [
      "Error in charToDate(x): character string is not in a standard unambiguous format\nTraceback:\n",
      "1. as.Date(fully_annot_biopsies$current_surgery_date)",
      "2. as.Date.factor(fully_annot_biopsies$current_surgery_date)",
      "3. as.Date(as.character(x), ...)",
      "4. as.Date.character(as.character(x), ...)",
      "5. charToDate(x)",
      "6. stop(\"character string is not in a standard unambiguous format\")"
     ]
    }
   ],
   "source": [
    "fully_annot_biopsies$current_surgery_date = as.Date(fully_annot_biopsies$current_surgery_date)"
   ]
  },
  {
   "cell_type": "code",
   "execution_count": 11,
   "metadata": {},
   "outputs": [],
   "source": [
    "pt_dems = rbind(po1_dems, rechgg_dems)"
   ]
  },
  {
   "cell_type": "code",
   "execution_count": 12,
   "metadata": {},
   "outputs": [
    {
     "data": {
      "text/html": [
       "<ol class=list-inline>\n",
       "\t<li>273</li>\n",
       "\t<li>22</li>\n",
       "</ol>\n"
      ],
      "text/latex": [
       "\\begin{enumerate*}\n",
       "\\item 273\n",
       "\\item 22\n",
       "\\end{enumerate*}\n"
      ],
      "text/markdown": [
       "1. 273\n",
       "2. 22\n",
       "\n",
       "\n"
      ],
      "text/plain": [
       "[1] 273  22"
      ]
     },
     "metadata": {},
     "output_type": "display_data"
    },
    {
     "data": {
      "text/html": [
       "<ol class=list-inline>\n",
       "\t<li>'b_number'</li>\n",
       "\t<li>'t_number'</li>\n",
       "\t<li>'sf_number'</li>\n",
       "\t<li>'current_scan_date'</li>\n",
       "\t<li>'current_surgery_date'</li>\n",
       "\t<li>'post_t_number'</li>\n",
       "\t<li>'post_scan_date'</li>\n",
       "\t<li>'current_hist_grade'</li>\n",
       "\t<li>'current_hist_type'</li>\n",
       "\t<li>'age_at_surgery'</li>\n",
       "\t<li>'extent_of_resection'</li>\n",
       "\t<li>'inital_kps'</li>\n",
       "\t<li>'last_contact_date'</li>\n",
       "\t<li>'progression_date'</li>\n",
       "\t<li>'pfs_censored'</li>\n",
       "\t<li>'pfs'</li>\n",
       "\t<li>'date_of_death'</li>\n",
       "\t<li>'os_censored'</li>\n",
       "\t<li>'os'</li>\n",
       "\t<li>'gender'</li>\n",
       "\t<li>'birthdate'</li>\n",
       "\t<li>'race'</li>\n",
       "</ol>\n"
      ],
      "text/latex": [
       "\\begin{enumerate*}\n",
       "\\item 'b\\_number'\n",
       "\\item 't\\_number'\n",
       "\\item 'sf\\_number'\n",
       "\\item 'current\\_scan\\_date'\n",
       "\\item 'current\\_surgery\\_date'\n",
       "\\item 'post\\_t\\_number'\n",
       "\\item 'post\\_scan\\_date'\n",
       "\\item 'current\\_hist\\_grade'\n",
       "\\item 'current\\_hist\\_type'\n",
       "\\item 'age\\_at\\_surgery'\n",
       "\\item 'extent\\_of\\_resection'\n",
       "\\item 'inital\\_kps'\n",
       "\\item 'last\\_contact\\_date'\n",
       "\\item 'progression\\_date'\n",
       "\\item 'pfs\\_censored'\n",
       "\\item 'pfs'\n",
       "\\item 'date\\_of\\_death'\n",
       "\\item 'os\\_censored'\n",
       "\\item 'os'\n",
       "\\item 'gender'\n",
       "\\item 'birthdate'\n",
       "\\item 'race'\n",
       "\\end{enumerate*}\n"
      ],
      "text/markdown": [
       "1. 'b_number'\n",
       "2. 't_number'\n",
       "3. 'sf_number'\n",
       "4. 'current_scan_date'\n",
       "5. 'current_surgery_date'\n",
       "6. 'post_t_number'\n",
       "7. 'post_scan_date'\n",
       "8. 'current_hist_grade'\n",
       "9. 'current_hist_type'\n",
       "10. 'age_at_surgery'\n",
       "11. 'extent_of_resection'\n",
       "12. 'inital_kps'\n",
       "13. 'last_contact_date'\n",
       "14. 'progression_date'\n",
       "15. 'pfs_censored'\n",
       "16. 'pfs'\n",
       "17. 'date_of_death'\n",
       "18. 'os_censored'\n",
       "19. 'os'\n",
       "20. 'gender'\n",
       "21. 'birthdate'\n",
       "22. 'race'\n",
       "\n",
       "\n"
      ],
      "text/plain": [
       " [1] \"b_number\"             \"t_number\"             \"sf_number\"           \n",
       " [4] \"current_scan_date\"    \"current_surgery_date\" \"post_t_number\"       \n",
       " [7] \"post_scan_date\"       \"current_hist_grade\"   \"current_hist_type\"   \n",
       "[10] \"age_at_surgery\"       \"extent_of_resection\"  \"inital_kps\"          \n",
       "[13] \"last_contact_date\"    \"progression_date\"     \"pfs_censored\"        \n",
       "[16] \"pfs\"                  \"date_of_death\"        \"os_censored\"         \n",
       "[19] \"os\"                   \"gender\"               \"birthdate\"           \n",
       "[22] \"race\"                "
      ]
     },
     "metadata": {},
     "output_type": "display_data"
    }
   ],
   "source": [
    "dim(pt_dems)\n",
    "colnames(pt_dems)\n",
    "pt_dems$current_surgery_date = as.Date(as.character(pt_dems$current_surgery_date))"
   ]
  },
  {
   "cell_type": "code",
   "execution_count": 13,
   "metadata": {},
   "outputs": [
    {
     "data": {
      "text/html": [
       "<ol class=list-inline>\n",
       "\t<li><time datetime=\"&lt;NA&gt;\">&lt;NA&gt;</time></li>\n",
       "\t<li><time datetime=\"2009-07-16\">2009-07-16</time></li>\n",
       "\t<li><time datetime=\"2008-05-14\">2008-05-14</time></li>\n",
       "\t<li><time datetime=\"2010-11-17\">2010-11-17</time></li>\n",
       "\t<li><time datetime=\"2009-03-25\">2009-03-25</time></li>\n",
       "\t<li><time datetime=\"2009-10-28\">2009-10-28</time></li>\n",
       "\t<li><time datetime=\"2008-10-01\">2008-10-01</time></li>\n",
       "\t<li><time datetime=\"2010-09-14\">2010-09-14</time></li>\n",
       "\t<li><time datetime=\"2009-06-22\">2009-06-22</time></li>\n",
       "\t<li><time datetime=\"2008-06-04\">2008-06-04</time></li>\n",
       "\t<li><time datetime=\"2011-07-05\">2011-07-05</time></li>\n",
       "\t<li><time datetime=\"2010-08-25\">2010-08-25</time></li>\n",
       "\t<li><time datetime=\"2011-06-29\">2011-06-29</time></li>\n",
       "\t<li><time datetime=\"2008-07-02\">2008-07-02</time></li>\n",
       "\t<li><time datetime=\"2008-07-09\">2008-07-09</time></li>\n",
       "\t<li><time datetime=\"2010-09-08\">2010-09-08</time></li>\n",
       "\t<li><time datetime=\"2011-12-14\">2011-12-14</time></li>\n",
       "\t<li><time datetime=\"2008-09-08\">2008-09-08</time></li>\n",
       "\t<li><time datetime=\"2010-07-19\">2010-07-19</time></li>\n",
       "\t<li><time datetime=\"2009-01-21\">2009-01-21</time></li>\n",
       "\t<li><time datetime=\"2008-10-20\">2008-10-20</time></li>\n",
       "\t<li><time datetime=\"2007-10-10\">2007-10-10</time></li>\n",
       "\t<li><time datetime=\"2009-07-29\">2009-07-29</time></li>\n",
       "\t<li><time datetime=\"2010-01-27\">2010-01-27</time></li>\n",
       "\t<li><time datetime=\"2008-08-07\">2008-08-07</time></li>\n",
       "\t<li><time datetime=\"2007-11-19\">2007-11-19</time></li>\n",
       "\t<li><time datetime=\"2008-10-29\">2008-10-29</time></li>\n",
       "\t<li><time datetime=\"2008-08-04\">2008-08-04</time></li>\n",
       "\t<li><time datetime=\"2008-08-04\">2008-08-04</time></li>\n",
       "\t<li><time datetime=\"2008-04-23\">2008-04-23</time></li>\n",
       "\t<li><time datetime=\"2010-06-25\">2010-06-25</time></li>\n",
       "\t<li><time datetime=\"2009-03-06\">2009-03-06</time></li>\n",
       "\t<li><time datetime=\"2009-04-13\">2009-04-13</time></li>\n",
       "\t<li><time datetime=\"2008-08-20\">2008-08-20</time></li>\n",
       "\t<li><time datetime=\"2009-01-12\">2009-01-12</time></li>\n",
       "\t<li><time datetime=\"2009-10-05\">2009-10-05</time></li>\n",
       "\t<li><time datetime=\"2010-07-20\">2010-07-20</time></li>\n",
       "\t<li><time datetime=\"2008-04-02\">2008-04-02</time></li>\n",
       "\t<li><time datetime=\"2008-05-04\">2008-05-04</time></li>\n",
       "\t<li><time datetime=\"2008-10-01\">2008-10-01</time></li>\n",
       "\t<li><time datetime=\"2009-08-27\">2009-08-27</time></li>\n",
       "\t<li><time datetime=\"2008-07-07\">2008-07-07</time></li>\n",
       "\t<li><time datetime=\"2008-04-14\">2008-04-14</time></li>\n",
       "\t<li><time datetime=\"2008-04-16\">2008-04-16</time></li>\n",
       "\t<li><time datetime=\"2008-06-06\">2008-06-06</time></li>\n",
       "\t<li><time datetime=\"2009-04-17\">2009-04-17</time></li>\n",
       "\t<li><time datetime=\"2009-01-21\">2009-01-21</time></li>\n",
       "\t<li><time datetime=\"2009-01-26\">2009-01-26</time></li>\n",
       "\t<li><time datetime=\"2008-07-23\">2008-07-23</time></li>\n",
       "\t<li><time datetime=\"2008-07-23\">2008-07-23</time></li>\n",
       "\t<li><time datetime=\"2008-08-04\">2008-08-04</time></li>\n",
       "\t<li><time datetime=\"2011-01-18\">2011-01-18</time></li>\n",
       "\t<li><time datetime=\"2009-04-06\">2009-04-06</time></li>\n",
       "\t<li><time datetime=\"2009-12-07\">2009-12-07</time></li>\n",
       "\t<li><time datetime=\"2008-08-08\">2008-08-08</time></li>\n",
       "\t<li><time datetime=\"2009-02-04\">2009-02-04</time></li>\n",
       "\t<li><time datetime=\"2010-09-08\">2010-09-08</time></li>\n",
       "\t<li><time datetime=\"2008-09-03\">2008-09-03</time></li>\n",
       "\t<li><time datetime=\"2008-09-08\">2008-09-08</time></li>\n",
       "\t<li><time datetime=\"2008-09-08\">2008-09-08</time></li>\n",
       "\t<li><time datetime=\"2008-09-17\">2008-09-17</time></li>\n",
       "\t<li><time datetime=\"2008-12-19\">2008-12-19</time></li>\n",
       "\t<li><time datetime=\"2009-12-02\">2009-12-02</time></li>\n",
       "\t<li><time datetime=\"2008-10-07\">2008-10-07</time></li>\n",
       "\t<li><time datetime=\"2009-08-24\">2009-08-24</time></li>\n",
       "\t<li><time datetime=\"2009-01-22\">2009-01-22</time></li>\n",
       "\t<li><time datetime=\"2011-03-24\">2011-03-24</time></li>\n",
       "\t<li><time datetime=\"2009-08-21\">2009-08-21</time></li>\n",
       "\t<li><time datetime=\"2008-11-17\">2008-11-17</time></li>\n",
       "\t<li><time datetime=\"2009-12-21\">2009-12-21</time></li>\n",
       "\t<li><time datetime=\"2008-12-19\">2008-12-19</time></li>\n",
       "\t<li><time datetime=\"2009-07-01\">2009-07-01</time></li>\n",
       "\t<li><time datetime=\"2010-06-28\">2010-06-28</time></li>\n",
       "\t<li><time datetime=\"2009-02-02\">2009-02-02</time></li>\n",
       "\t<li><time datetime=\"2009-02-09\">2009-02-09</time></li>\n",
       "\t<li><time datetime=\"2009-02-09\">2009-02-09</time></li>\n",
       "\t<li><time datetime=\"2009-10-16\">2009-10-16</time></li>\n",
       "\t<li><time datetime=\"2011-04-15\">2011-04-15</time></li>\n",
       "\t<li><time datetime=\"2010-05-21\">2010-05-21</time></li>\n",
       "\t<li><time datetime=\"2009-03-11\">2009-03-11</time></li>\n",
       "\t<li><time datetime=\"2011-04-20\">2011-04-20</time></li>\n",
       "\t<li><time datetime=\"2011-10-28\">2011-10-28</time></li>\n",
       "\t<li><time datetime=\"2009-07-01\">2009-07-01</time></li>\n",
       "\t<li><time datetime=\"2009-05-01\">2009-05-01</time></li>\n",
       "\t<li><time datetime=\"2009-01-26\">2009-01-26</time></li>\n",
       "\t<li><time datetime=\"2009-06-29\">2009-06-29</time></li>\n",
       "\t<li><time datetime=\"2009-07-15\">2009-07-15</time></li>\n",
       "\t<li><time datetime=\"2009-07-15\">2009-07-15</time></li>\n",
       "\t<li><time datetime=\"&lt;NA&gt;\">&lt;NA&gt;</time></li>\n",
       "\t<li><time datetime=\"2009-08-07\">2009-08-07</time></li>\n",
       "\t<li><time datetime=\"2009-08-28\">2009-08-28</time></li>\n",
       "\t<li><time datetime=\"2009-02-06\">2009-02-06</time></li>\n",
       "\t<li><time datetime=\"2009-08-24\">2009-08-24</time></li>\n",
       "\t<li><time datetime=\"2009-08-26\">2009-08-26</time></li>\n",
       "\t<li><time datetime=\"2009-09-03\">2009-09-03</time></li>\n",
       "\t<li><time datetime=\"2009-09-14\">2009-09-14</time></li>\n",
       "\t<li><time datetime=\"2009-10-14\">2009-10-14</time></li>\n",
       "\t<li><time datetime=\"2009-10-28\">2009-10-28</time></li>\n",
       "\t<li><time datetime=\"2009-11-09\">2009-11-09</time></li>\n",
       "\t<li><time datetime=\"2010-06-04\">2010-06-04</time></li>\n",
       "\t<li><time datetime=\"2010-12-17\">2010-12-17</time></li>\n",
       "\t<li><time datetime=\"2010-06-24\">2010-06-24</time></li>\n",
       "\t<li><time datetime=\"2009-12-02\">2009-12-02</time></li>\n",
       "\t<li><time datetime=\"2010-03-10\">2010-03-10</time></li>\n",
       "\t<li><time datetime=\"2009-12-09\">2009-12-09</time></li>\n",
       "\t<li><time datetime=\"2010-01-13\">2010-01-13</time></li>\n",
       "\t<li><time datetime=\"2010-06-21\">2010-06-21</time></li>\n",
       "\t<li><time datetime=\"2011-07-28\">2011-07-28</time></li>\n",
       "\t<li><time datetime=\"2010-01-13\">2010-01-13</time></li>\n",
       "\t<li><time datetime=\"2010-02-08\">2010-02-08</time></li>\n",
       "\t<li><time datetime=\"2010-02-16\">2010-02-16</time></li>\n",
       "\t<li><time datetime=\"2010-02-23\">2010-02-23</time></li>\n",
       "\t<li><time datetime=\"2010-04-23\">2010-04-23</time></li>\n",
       "\t<li><time datetime=\"2010-03-17\">2010-03-17</time></li>\n",
       "\t<li><time datetime=\"2010-03-08\">2010-03-08</time></li>\n",
       "\t<li><time datetime=\"2010-02-17\">2010-02-17</time></li>\n",
       "\t<li><time datetime=\"2010-03-15\">2010-03-15</time></li>\n",
       "\t<li><time datetime=\"2010-06-30\">2010-06-30</time></li>\n",
       "\t<li><time datetime=\"2010-04-28\">2010-04-28</time></li>\n",
       "\t<li><time datetime=\"2011-08-22\">2011-08-22</time></li>\n",
       "\t<li><time datetime=\"2011-07-05\">2011-07-05</time></li>\n",
       "\t<li><time datetime=\"2010-05-28\">2010-05-28</time></li>\n",
       "\t<li><time datetime=\"&lt;NA&gt;\">&lt;NA&gt;</time></li>\n",
       "\t<li><time datetime=\"2011-06-12\">2011-06-12</time></li>\n",
       "\t<li><time datetime=\"2011-12-05\">2011-12-05</time></li>\n",
       "\t<li><time datetime=\"2010-07-28\">2010-07-28</time></li>\n",
       "\t<li><time datetime=\"2010-08-02\">2010-08-02</time></li>\n",
       "\t<li><time datetime=\"2008-03-19\">2008-03-19</time></li>\n",
       "\t<li><time datetime=\"2010-09-17\">2010-09-17</time></li>\n",
       "\t<li><time datetime=\"2011-02-09\">2011-02-09</time></li>\n",
       "\t<li><time datetime=\"&lt;NA&gt;\">&lt;NA&gt;</time></li>\n",
       "\t<li><time datetime=\"2010-12-27\">2010-12-27</time></li>\n",
       "\t<li><time datetime=\"2011-02-11\">2011-02-11</time></li>\n",
       "\t<li><time datetime=\"2011-02-14\">2011-02-14</time></li>\n",
       "\t<li><time datetime=\"2011-02-26\">2011-02-26</time></li>\n",
       "\t<li><time datetime=\"2011-03-08\">2011-03-08</time></li>\n",
       "\t<li><time datetime=\"2011-03-16\">2011-03-16</time></li>\n",
       "\t<li><time datetime=\"2011-03-29\">2011-03-29</time></li>\n",
       "\t<li><time datetime=\"2011-04-05\">2011-04-05</time></li>\n",
       "\t<li><time datetime=\"2011-05-09\">2011-05-09</time></li>\n",
       "\t<li><time datetime=\"2011-06-20\">2011-06-20</time></li>\n",
       "\t<li><time datetime=\"2011-06-27\">2011-06-27</time></li>\n",
       "\t<li><time datetime=\"2011-12-07\">2011-12-07</time></li>\n",
       "\t<li><time datetime=\"2011-08-29\">2011-08-29</time></li>\n",
       "\t<li><time datetime=\"2011-09-20\">2011-09-20</time></li>\n",
       "\t<li><time datetime=\"2011-11-21\">2011-11-21</time></li>\n",
       "\t<li><time datetime=\"2016-08-17\">2016-08-17</time></li>\n",
       "\t<li><time datetime=\"&lt;NA&gt;\">&lt;NA&gt;</time></li>\n",
       "\t<li><time datetime=\"2013-10-03\">2013-10-03</time></li>\n",
       "\t<li><time datetime=\"2014-03-20\">2014-03-20</time></li>\n",
       "\t<li><time datetime=\"2014-08-13\">2014-08-13</time></li>\n",
       "\t<li><time datetime=\"&lt;NA&gt;\">&lt;NA&gt;</time></li>\n",
       "\t<li><time datetime=\"2018-08-20\">2018-08-20</time></li>\n",
       "\t<li><time datetime=\"2016-04-29\">2016-04-29</time></li>\n",
       "\t<li><time datetime=\"2014-05-30\">2014-05-30</time></li>\n",
       "\t<li><time datetime=\"&lt;NA&gt;\">&lt;NA&gt;</time></li>\n",
       "\t<li><time datetime=\"2017-11-07\">2017-11-07</time></li>\n",
       "\t<li><time datetime=\"2015-07-10\">2015-07-10</time></li>\n",
       "\t<li><time datetime=\"2013-10-07\">2013-10-07</time></li>\n",
       "\t<li><time datetime=\"2018-05-17\">2018-05-17</time></li>\n",
       "\t<li><time datetime=\"2013-12-16\">2013-12-16</time></li>\n",
       "\t<li><time datetime=\"2015-10-23\">2015-10-23</time></li>\n",
       "\t<li><time datetime=\"2013-10-15\">2013-10-15</time></li>\n",
       "\t<li><time datetime=\"2014-12-17\">2014-12-17</time></li>\n",
       "\t<li><time datetime=\"2017-12-05\">2017-12-05</time></li>\n",
       "\t<li><time datetime=\"2013-12-11\">2013-12-11</time></li>\n",
       "\t<li><time datetime=\"2015-08-26\">2015-08-26</time></li>\n",
       "\t<li><time datetime=\"2014-08-05\">2014-08-05</time></li>\n",
       "\t<li><time datetime=\"2014-02-21\">2014-02-21</time></li>\n",
       "\t<li><time datetime=\"2014-02-26\">2014-02-26</time></li>\n",
       "\t<li><time datetime=\"2014-12-23\">2014-12-23</time></li>\n",
       "\t<li><time datetime=\"2014-03-13\">2014-03-13</time></li>\n",
       "\t<li><time datetime=\"2014-04-02\">2014-04-02</time></li>\n",
       "\t<li><time datetime=\"2014-04-15\">2014-04-15</time></li>\n",
       "\t<li><time datetime=\"2014-05-01\">2014-05-01</time></li>\n",
       "\t<li><time datetime=\"2014-05-13\">2014-05-13</time></li>\n",
       "\t<li><time datetime=\"2014-06-16\">2014-06-16</time></li>\n",
       "\t<li><time datetime=\"2014-06-30\">2014-06-30</time></li>\n",
       "\t<li><time datetime=\"2014-07-01\">2014-07-01</time></li>\n",
       "\t<li><time datetime=\"2014-08-12\">2014-08-12</time></li>\n",
       "\t<li><time datetime=\"2014-12-02\">2014-12-02</time></li>\n",
       "\t<li><time datetime=\"2014-09-15\">2014-09-15</time></li>\n",
       "\t<li><time datetime=\"2014-09-17\">2014-09-17</time></li>\n",
       "\t<li><time datetime=\"2014-10-09\">2014-10-09</time></li>\n",
       "\t<li><time datetime=\"2014-10-22\">2014-10-22</time></li>\n",
       "\t<li><time datetime=\"2014-10-23\">2014-10-23</time></li>\n",
       "\t<li><time datetime=\"&lt;NA&gt;\">&lt;NA&gt;</time></li>\n",
       "\t<li><time datetime=\"2014-12-17\">2014-12-17</time></li>\n",
       "\t<li><time datetime=\"2015-01-15\">2015-01-15</time></li>\n",
       "\t<li><time datetime=\"2014-11-25\">2014-11-25</time></li>\n",
       "\t<li><time datetime=\"2015-02-06\">2015-02-06</time></li>\n",
       "\t<li><time datetime=\"2018-01-23\">2018-01-23</time></li>\n",
       "\t<li><time datetime=\"2017-06-28\">2017-06-28</time></li>\n",
       "\t<li><time datetime=\"2015-04-01\">2015-04-01</time></li>\n",
       "\t<li><time datetime=\"2016-05-12\">2016-05-12</time></li>\n",
       "\t<li><time datetime=\"2015-04-28\">2015-04-28</time></li>\n",
       "\t<li><time datetime=\"2017-06-20\">2017-06-20</time></li>\n",
       "\t<li><time datetime=\"2015-06-11\">2015-06-11</time></li>\n",
       "\t<li><time datetime=\"2016-11-09\">2016-11-09</time></li>\n",
       "\t<li><time datetime=\"2017-01-30\">2017-01-30</time></li>\n",
       "\t<li><time datetime=\"2015-08-26\">2015-08-26</time></li>\n",
       "\t<li><time datetime=\"2015-12-16\">2015-12-16</time></li>\n",
       "\t<li><time datetime=\"&lt;NA&gt;\">&lt;NA&gt;</time></li>\n",
       "\t<li><time datetime=\"2015-10-12\">2015-10-12</time></li>\n",
       "\t<li><time datetime=\"2018-06-27\">2018-06-27</time></li>\n",
       "\t<li><time datetime=\"2016-06-06\">2016-06-06</time></li>\n",
       "\t<li><time datetime=\"2016-02-03\">2016-02-03</time></li>\n",
       "\t<li><time datetime=\"2016-01-14\">2016-01-14</time></li>\n",
       "\t<li><time datetime=\"2016-01-27\">2016-01-27</time></li>\n",
       "\t<li><time datetime=\"2016-02-01\">2016-02-01</time></li>\n",
       "\t<li><time datetime=\"2017-11-08\">2017-11-08</time></li>\n",
       "\t<li><time datetime=\"2016-02-17\">2016-02-17</time></li>\n",
       "\t<li><time datetime=\"2009-04-30\">2009-04-30</time></li>\n",
       "\t<li><time datetime=\"2016-12-15\">2016-12-15</time></li>\n",
       "\t<li><time datetime=\"2016-03-17\">2016-03-17</time></li>\n",
       "\t<li><time datetime=\"2016-04-13\">2016-04-13</time></li>\n",
       "\t<li><time datetime=\"2016-05-24\">2016-05-24</time></li>\n",
       "\t<li><time datetime=\"2017-10-04\">2017-10-04</time></li>\n",
       "\t<li><time datetime=\"2016-06-16\">2016-06-16</time></li>\n",
       "\t<li><time datetime=\"2016-06-29\">2016-06-29</time></li>\n",
       "\t<li><time datetime=\"2016-07-26\">2016-07-26</time></li>\n",
       "\t<li><time datetime=\"&lt;NA&gt;\">&lt;NA&gt;</time></li>\n",
       "\t<li><time datetime=\"&lt;NA&gt;\">&lt;NA&gt;</time></li>\n",
       "\t<li><time datetime=\"&lt;NA&gt;\">&lt;NA&gt;</time></li>\n",
       "\t<li><time datetime=\"2016-08-16\">2016-08-16</time></li>\n",
       "\t<li><time datetime=\"2016-09-20\">2016-09-20</time></li>\n",
       "\t<li><time datetime=\"2017-09-29\">2017-09-29</time></li>\n",
       "\t<li><time datetime=\"2016-11-23\">2016-11-23</time></li>\n",
       "\t<li><time datetime=\"2016-10-04\">2016-10-04</time></li>\n",
       "\t<li><time datetime=\"2016-10-12\">2016-10-12</time></li>\n",
       "\t<li><time datetime=\"2016-10-26\">2016-10-26</time></li>\n",
       "\t<li><time datetime=\"2017-03-13\">2017-03-13</time></li>\n",
       "\t<li><time datetime=\"&lt;NA&gt;\">&lt;NA&gt;</time></li>\n",
       "\t<li><time datetime=\"2016-10-26\">2016-10-26</time></li>\n",
       "\t<li><time datetime=\"2016-11-02\">2016-11-02</time></li>\n",
       "\t<li><time datetime=\"2016-11-28\">2016-11-28</time></li>\n",
       "\t<li><time datetime=\"2017-07-10\">2017-07-10</time></li>\n",
       "\t<li><time datetime=\"2016-12-16\">2016-12-16</time></li>\n",
       "\t<li><time datetime=\"2017-02-08\">2017-02-08</time></li>\n",
       "\t<li><time datetime=\"2017-02-22\">2017-02-22</time></li>\n",
       "\t<li><time datetime=\"2017-03-08\">2017-03-08</time></li>\n",
       "\t<li><time datetime=\"2017-03-16\">2017-03-16</time></li>\n",
       "\t<li><time datetime=\"2017-03-22\">2017-03-22</time></li>\n",
       "\t<li><time datetime=\"2017-03-29\">2017-03-29</time></li>\n",
       "\t<li><time datetime=\"2017-04-13\">2017-04-13</time></li>\n",
       "\t<li><time datetime=\"2017-04-18\">2017-04-18</time></li>\n",
       "\t<li><time datetime=\"2017-05-10\">2017-05-10</time></li>\n",
       "\t<li><time datetime=\"2017-05-12\">2017-05-12</time></li>\n",
       "\t<li><time datetime=\"2017-05-17\">2017-05-17</time></li>\n",
       "\t<li><time datetime=\"2017-05-31\">2017-05-31</time></li>\n",
       "\t<li><time datetime=\"2017-06-30\">2017-06-30</time></li>\n",
       "\t<li><time datetime=\"2017-07-21\">2017-07-21</time></li>\n",
       "\t<li><time datetime=\"2017-08-21\">2017-08-21</time></li>\n",
       "\t<li><time datetime=\"2018-09-19\">2018-09-19</time></li>\n",
       "\t<li><time datetime=\"&lt;NA&gt;\">&lt;NA&gt;</time></li>\n",
       "\t<li><time datetime=\"2017-08-18\">2017-08-18</time></li>\n",
       "\t<li><time datetime=\"2017-11-22\">2017-11-22</time></li>\n",
       "\t<li><time datetime=\"2017-12-20\">2017-12-20</time></li>\n",
       "\t<li><time datetime=\"&lt;NA&gt;\">&lt;NA&gt;</time></li>\n",
       "\t<li><time datetime=\"2018-02-13\">2018-02-13</time></li>\n",
       "\t<li><time datetime=\"2018-01-31\">2018-01-31</time></li>\n",
       "\t<li><time datetime=\"2018-02-20\">2018-02-20</time></li>\n",
       "\t<li><time datetime=\"&lt;NA&gt;\">&lt;NA&gt;</time></li>\n",
       "\t<li><time datetime=\"2018-03-27\">2018-03-27</time></li>\n",
       "\t<li><time datetime=\"&lt;NA&gt;\">&lt;NA&gt;</time></li>\n",
       "\t<li><time datetime=\"2018-05-30\">2018-05-30</time></li>\n",
       "\t<li><time datetime=\"&lt;NA&gt;\">&lt;NA&gt;</time></li>\n",
       "\t<li><time datetime=\"&lt;NA&gt;\">&lt;NA&gt;</time></li>\n",
       "\t<li><time datetime=\"2018-06-11\">2018-06-11</time></li>\n",
       "\t<li><time datetime=\"2018-07-02\">2018-07-02</time></li>\n",
       "\t<li><time datetime=\"&lt;NA&gt;\">&lt;NA&gt;</time></li>\n",
       "\t<li><time datetime=\"&lt;NA&gt;\">&lt;NA&gt;</time></li>\n",
       "\t<li><time datetime=\"&lt;NA&gt;\">&lt;NA&gt;</time></li>\n",
       "</ol>\n"
      ],
      "text/latex": [
       "\\begin{enumerate*}\n",
       "\\item <NA>\n",
       "\\item 2009-07-16\n",
       "\\item 2008-05-14\n",
       "\\item 2010-11-17\n",
       "\\item 2009-03-25\n",
       "\\item 2009-10-28\n",
       "\\item 2008-10-01\n",
       "\\item 2010-09-14\n",
       "\\item 2009-06-22\n",
       "\\item 2008-06-04\n",
       "\\item 2011-07-05\n",
       "\\item 2010-08-25\n",
       "\\item 2011-06-29\n",
       "\\item 2008-07-02\n",
       "\\item 2008-07-09\n",
       "\\item 2010-09-08\n",
       "\\item 2011-12-14\n",
       "\\item 2008-09-08\n",
       "\\item 2010-07-19\n",
       "\\item 2009-01-21\n",
       "\\item 2008-10-20\n",
       "\\item 2007-10-10\n",
       "\\item 2009-07-29\n",
       "\\item 2010-01-27\n",
       "\\item 2008-08-07\n",
       "\\item 2007-11-19\n",
       "\\item 2008-10-29\n",
       "\\item 2008-08-04\n",
       "\\item 2008-08-04\n",
       "\\item 2008-04-23\n",
       "\\item 2010-06-25\n",
       "\\item 2009-03-06\n",
       "\\item 2009-04-13\n",
       "\\item 2008-08-20\n",
       "\\item 2009-01-12\n",
       "\\item 2009-10-05\n",
       "\\item 2010-07-20\n",
       "\\item 2008-04-02\n",
       "\\item 2008-05-04\n",
       "\\item 2008-10-01\n",
       "\\item 2009-08-27\n",
       "\\item 2008-07-07\n",
       "\\item 2008-04-14\n",
       "\\item 2008-04-16\n",
       "\\item 2008-06-06\n",
       "\\item 2009-04-17\n",
       "\\item 2009-01-21\n",
       "\\item 2009-01-26\n",
       "\\item 2008-07-23\n",
       "\\item 2008-07-23\n",
       "\\item 2008-08-04\n",
       "\\item 2011-01-18\n",
       "\\item 2009-04-06\n",
       "\\item 2009-12-07\n",
       "\\item 2008-08-08\n",
       "\\item 2009-02-04\n",
       "\\item 2010-09-08\n",
       "\\item 2008-09-03\n",
       "\\item 2008-09-08\n",
       "\\item 2008-09-08\n",
       "\\item 2008-09-17\n",
       "\\item 2008-12-19\n",
       "\\item 2009-12-02\n",
       "\\item 2008-10-07\n",
       "\\item 2009-08-24\n",
       "\\item 2009-01-22\n",
       "\\item 2011-03-24\n",
       "\\item 2009-08-21\n",
       "\\item 2008-11-17\n",
       "\\item 2009-12-21\n",
       "\\item 2008-12-19\n",
       "\\item 2009-07-01\n",
       "\\item 2010-06-28\n",
       "\\item 2009-02-02\n",
       "\\item 2009-02-09\n",
       "\\item 2009-02-09\n",
       "\\item 2009-10-16\n",
       "\\item 2011-04-15\n",
       "\\item 2010-05-21\n",
       "\\item 2009-03-11\n",
       "\\item 2011-04-20\n",
       "\\item 2011-10-28\n",
       "\\item 2009-07-01\n",
       "\\item 2009-05-01\n",
       "\\item 2009-01-26\n",
       "\\item 2009-06-29\n",
       "\\item 2009-07-15\n",
       "\\item 2009-07-15\n",
       "\\item <NA>\n",
       "\\item 2009-08-07\n",
       "\\item 2009-08-28\n",
       "\\item 2009-02-06\n",
       "\\item 2009-08-24\n",
       "\\item 2009-08-26\n",
       "\\item 2009-09-03\n",
       "\\item 2009-09-14\n",
       "\\item 2009-10-14\n",
       "\\item 2009-10-28\n",
       "\\item 2009-11-09\n",
       "\\item 2010-06-04\n",
       "\\item 2010-12-17\n",
       "\\item 2010-06-24\n",
       "\\item 2009-12-02\n",
       "\\item 2010-03-10\n",
       "\\item 2009-12-09\n",
       "\\item 2010-01-13\n",
       "\\item 2010-06-21\n",
       "\\item 2011-07-28\n",
       "\\item 2010-01-13\n",
       "\\item 2010-02-08\n",
       "\\item 2010-02-16\n",
       "\\item 2010-02-23\n",
       "\\item 2010-04-23\n",
       "\\item 2010-03-17\n",
       "\\item 2010-03-08\n",
       "\\item 2010-02-17\n",
       "\\item 2010-03-15\n",
       "\\item 2010-06-30\n",
       "\\item 2010-04-28\n",
       "\\item 2011-08-22\n",
       "\\item 2011-07-05\n",
       "\\item 2010-05-28\n",
       "\\item <NA>\n",
       "\\item 2011-06-12\n",
       "\\item 2011-12-05\n",
       "\\item 2010-07-28\n",
       "\\item 2010-08-02\n",
       "\\item 2008-03-19\n",
       "\\item 2010-09-17\n",
       "\\item 2011-02-09\n",
       "\\item <NA>\n",
       "\\item 2010-12-27\n",
       "\\item 2011-02-11\n",
       "\\item 2011-02-14\n",
       "\\item 2011-02-26\n",
       "\\item 2011-03-08\n",
       "\\item 2011-03-16\n",
       "\\item 2011-03-29\n",
       "\\item 2011-04-05\n",
       "\\item 2011-05-09\n",
       "\\item 2011-06-20\n",
       "\\item 2011-06-27\n",
       "\\item 2011-12-07\n",
       "\\item 2011-08-29\n",
       "\\item 2011-09-20\n",
       "\\item 2011-11-21\n",
       "\\item 2016-08-17\n",
       "\\item <NA>\n",
       "\\item 2013-10-03\n",
       "\\item 2014-03-20\n",
       "\\item 2014-08-13\n",
       "\\item <NA>\n",
       "\\item 2018-08-20\n",
       "\\item 2016-04-29\n",
       "\\item 2014-05-30\n",
       "\\item <NA>\n",
       "\\item 2017-11-07\n",
       "\\item 2015-07-10\n",
       "\\item 2013-10-07\n",
       "\\item 2018-05-17\n",
       "\\item 2013-12-16\n",
       "\\item 2015-10-23\n",
       "\\item 2013-10-15\n",
       "\\item 2014-12-17\n",
       "\\item 2017-12-05\n",
       "\\item 2013-12-11\n",
       "\\item 2015-08-26\n",
       "\\item 2014-08-05\n",
       "\\item 2014-02-21\n",
       "\\item 2014-02-26\n",
       "\\item 2014-12-23\n",
       "\\item 2014-03-13\n",
       "\\item 2014-04-02\n",
       "\\item 2014-04-15\n",
       "\\item 2014-05-01\n",
       "\\item 2014-05-13\n",
       "\\item 2014-06-16\n",
       "\\item 2014-06-30\n",
       "\\item 2014-07-01\n",
       "\\item 2014-08-12\n",
       "\\item 2014-12-02\n",
       "\\item 2014-09-15\n",
       "\\item 2014-09-17\n",
       "\\item 2014-10-09\n",
       "\\item 2014-10-22\n",
       "\\item 2014-10-23\n",
       "\\item <NA>\n",
       "\\item 2014-12-17\n",
       "\\item 2015-01-15\n",
       "\\item 2014-11-25\n",
       "\\item 2015-02-06\n",
       "\\item 2018-01-23\n",
       "\\item 2017-06-28\n",
       "\\item 2015-04-01\n",
       "\\item 2016-05-12\n",
       "\\item 2015-04-28\n",
       "\\item 2017-06-20\n",
       "\\item 2015-06-11\n",
       "\\item 2016-11-09\n",
       "\\item 2017-01-30\n",
       "\\item 2015-08-26\n",
       "\\item 2015-12-16\n",
       "\\item <NA>\n",
       "\\item 2015-10-12\n",
       "\\item 2018-06-27\n",
       "\\item 2016-06-06\n",
       "\\item 2016-02-03\n",
       "\\item 2016-01-14\n",
       "\\item 2016-01-27\n",
       "\\item 2016-02-01\n",
       "\\item 2017-11-08\n",
       "\\item 2016-02-17\n",
       "\\item 2009-04-30\n",
       "\\item 2016-12-15\n",
       "\\item 2016-03-17\n",
       "\\item 2016-04-13\n",
       "\\item 2016-05-24\n",
       "\\item 2017-10-04\n",
       "\\item 2016-06-16\n",
       "\\item 2016-06-29\n",
       "\\item 2016-07-26\n",
       "\\item <NA>\n",
       "\\item <NA>\n",
       "\\item <NA>\n",
       "\\item 2016-08-16\n",
       "\\item 2016-09-20\n",
       "\\item 2017-09-29\n",
       "\\item 2016-11-23\n",
       "\\item 2016-10-04\n",
       "\\item 2016-10-12\n",
       "\\item 2016-10-26\n",
       "\\item 2017-03-13\n",
       "\\item <NA>\n",
       "\\item 2016-10-26\n",
       "\\item 2016-11-02\n",
       "\\item 2016-11-28\n",
       "\\item 2017-07-10\n",
       "\\item 2016-12-16\n",
       "\\item 2017-02-08\n",
       "\\item 2017-02-22\n",
       "\\item 2017-03-08\n",
       "\\item 2017-03-16\n",
       "\\item 2017-03-22\n",
       "\\item 2017-03-29\n",
       "\\item 2017-04-13\n",
       "\\item 2017-04-18\n",
       "\\item 2017-05-10\n",
       "\\item 2017-05-12\n",
       "\\item 2017-05-17\n",
       "\\item 2017-05-31\n",
       "\\item 2017-06-30\n",
       "\\item 2017-07-21\n",
       "\\item 2017-08-21\n",
       "\\item 2018-09-19\n",
       "\\item <NA>\n",
       "\\item 2017-08-18\n",
       "\\item 2017-11-22\n",
       "\\item 2017-12-20\n",
       "\\item <NA>\n",
       "\\item 2018-02-13\n",
       "\\item 2018-01-31\n",
       "\\item 2018-02-20\n",
       "\\item <NA>\n",
       "\\item 2018-03-27\n",
       "\\item <NA>\n",
       "\\item 2018-05-30\n",
       "\\item <NA>\n",
       "\\item <NA>\n",
       "\\item 2018-06-11\n",
       "\\item 2018-07-02\n",
       "\\item <NA>\n",
       "\\item <NA>\n",
       "\\item <NA>\n",
       "\\end{enumerate*}\n"
      ],
      "text/markdown": [
       "1. &lt;NA&gt;\n",
       "2. 2009-07-16\n",
       "3. 2008-05-14\n",
       "4. 2010-11-17\n",
       "5. 2009-03-25\n",
       "6. 2009-10-28\n",
       "7. 2008-10-01\n",
       "8. 2010-09-14\n",
       "9. 2009-06-22\n",
       "10. 2008-06-04\n",
       "11. 2011-07-05\n",
       "12. 2010-08-25\n",
       "13. 2011-06-29\n",
       "14. 2008-07-02\n",
       "15. 2008-07-09\n",
       "16. 2010-09-08\n",
       "17. 2011-12-14\n",
       "18. 2008-09-08\n",
       "19. 2010-07-19\n",
       "20. 2009-01-21\n",
       "21. 2008-10-20\n",
       "22. 2007-10-10\n",
       "23. 2009-07-29\n",
       "24. 2010-01-27\n",
       "25. 2008-08-07\n",
       "26. 2007-11-19\n",
       "27. 2008-10-29\n",
       "28. 2008-08-04\n",
       "29. 2008-08-04\n",
       "30. 2008-04-23\n",
       "31. 2010-06-25\n",
       "32. 2009-03-06\n",
       "33. 2009-04-13\n",
       "34. 2008-08-20\n",
       "35. 2009-01-12\n",
       "36. 2009-10-05\n",
       "37. 2010-07-20\n",
       "38. 2008-04-02\n",
       "39. 2008-05-04\n",
       "40. 2008-10-01\n",
       "41. 2009-08-27\n",
       "42. 2008-07-07\n",
       "43. 2008-04-14\n",
       "44. 2008-04-16\n",
       "45. 2008-06-06\n",
       "46. 2009-04-17\n",
       "47. 2009-01-21\n",
       "48. 2009-01-26\n",
       "49. 2008-07-23\n",
       "50. 2008-07-23\n",
       "51. 2008-08-04\n",
       "52. 2011-01-18\n",
       "53. 2009-04-06\n",
       "54. 2009-12-07\n",
       "55. 2008-08-08\n",
       "56. 2009-02-04\n",
       "57. 2010-09-08\n",
       "58. 2008-09-03\n",
       "59. 2008-09-08\n",
       "60. 2008-09-08\n",
       "61. 2008-09-17\n",
       "62. 2008-12-19\n",
       "63. 2009-12-02\n",
       "64. 2008-10-07\n",
       "65. 2009-08-24\n",
       "66. 2009-01-22\n",
       "67. 2011-03-24\n",
       "68. 2009-08-21\n",
       "69. 2008-11-17\n",
       "70. 2009-12-21\n",
       "71. 2008-12-19\n",
       "72. 2009-07-01\n",
       "73. 2010-06-28\n",
       "74. 2009-02-02\n",
       "75. 2009-02-09\n",
       "76. 2009-02-09\n",
       "77. 2009-10-16\n",
       "78. 2011-04-15\n",
       "79. 2010-05-21\n",
       "80. 2009-03-11\n",
       "81. 2011-04-20\n",
       "82. 2011-10-28\n",
       "83. 2009-07-01\n",
       "84. 2009-05-01\n",
       "85. 2009-01-26\n",
       "86. 2009-06-29\n",
       "87. 2009-07-15\n",
       "88. 2009-07-15\n",
       "89. &lt;NA&gt;\n",
       "90. 2009-08-07\n",
       "91. 2009-08-28\n",
       "92. 2009-02-06\n",
       "93. 2009-08-24\n",
       "94. 2009-08-26\n",
       "95. 2009-09-03\n",
       "96. 2009-09-14\n",
       "97. 2009-10-14\n",
       "98. 2009-10-28\n",
       "99. 2009-11-09\n",
       "100. 2010-06-04\n",
       "101. 2010-12-17\n",
       "102. 2010-06-24\n",
       "103. 2009-12-02\n",
       "104. 2010-03-10\n",
       "105. 2009-12-09\n",
       "106. 2010-01-13\n",
       "107. 2010-06-21\n",
       "108. 2011-07-28\n",
       "109. 2010-01-13\n",
       "110. 2010-02-08\n",
       "111. 2010-02-16\n",
       "112. 2010-02-23\n",
       "113. 2010-04-23\n",
       "114. 2010-03-17\n",
       "115. 2010-03-08\n",
       "116. 2010-02-17\n",
       "117. 2010-03-15\n",
       "118. 2010-06-30\n",
       "119. 2010-04-28\n",
       "120. 2011-08-22\n",
       "121. 2011-07-05\n",
       "122. 2010-05-28\n",
       "123. &lt;NA&gt;\n",
       "124. 2011-06-12\n",
       "125. 2011-12-05\n",
       "126. 2010-07-28\n",
       "127. 2010-08-02\n",
       "128. 2008-03-19\n",
       "129. 2010-09-17\n",
       "130. 2011-02-09\n",
       "131. &lt;NA&gt;\n",
       "132. 2010-12-27\n",
       "133. 2011-02-11\n",
       "134. 2011-02-14\n",
       "135. 2011-02-26\n",
       "136. 2011-03-08\n",
       "137. 2011-03-16\n",
       "138. 2011-03-29\n",
       "139. 2011-04-05\n",
       "140. 2011-05-09\n",
       "141. 2011-06-20\n",
       "142. 2011-06-27\n",
       "143. 2011-12-07\n",
       "144. 2011-08-29\n",
       "145. 2011-09-20\n",
       "146. 2011-11-21\n",
       "147. 2016-08-17\n",
       "148. &lt;NA&gt;\n",
       "149. 2013-10-03\n",
       "150. 2014-03-20\n",
       "151. 2014-08-13\n",
       "152. &lt;NA&gt;\n",
       "153. 2018-08-20\n",
       "154. 2016-04-29\n",
       "155. 2014-05-30\n",
       "156. &lt;NA&gt;\n",
       "157. 2017-11-07\n",
       "158. 2015-07-10\n",
       "159. 2013-10-07\n",
       "160. 2018-05-17\n",
       "161. 2013-12-16\n",
       "162. 2015-10-23\n",
       "163. 2013-10-15\n",
       "164. 2014-12-17\n",
       "165. 2017-12-05\n",
       "166. 2013-12-11\n",
       "167. 2015-08-26\n",
       "168. 2014-08-05\n",
       "169. 2014-02-21\n",
       "170. 2014-02-26\n",
       "171. 2014-12-23\n",
       "172. 2014-03-13\n",
       "173. 2014-04-02\n",
       "174. 2014-04-15\n",
       "175. 2014-05-01\n",
       "176. 2014-05-13\n",
       "177. 2014-06-16\n",
       "178. 2014-06-30\n",
       "179. 2014-07-01\n",
       "180. 2014-08-12\n",
       "181. 2014-12-02\n",
       "182. 2014-09-15\n",
       "183. 2014-09-17\n",
       "184. 2014-10-09\n",
       "185. 2014-10-22\n",
       "186. 2014-10-23\n",
       "187. &lt;NA&gt;\n",
       "188. 2014-12-17\n",
       "189. 2015-01-15\n",
       "190. 2014-11-25\n",
       "191. 2015-02-06\n",
       "192. 2018-01-23\n",
       "193. 2017-06-28\n",
       "194. 2015-04-01\n",
       "195. 2016-05-12\n",
       "196. 2015-04-28\n",
       "197. 2017-06-20\n",
       "198. 2015-06-11\n",
       "199. 2016-11-09\n",
       "200. 2017-01-30\n",
       "201. 2015-08-26\n",
       "202. 2015-12-16\n",
       "203. &lt;NA&gt;\n",
       "204. 2015-10-12\n",
       "205. 2018-06-27\n",
       "206. 2016-06-06\n",
       "207. 2016-02-03\n",
       "208. 2016-01-14\n",
       "209. 2016-01-27\n",
       "210. 2016-02-01\n",
       "211. 2017-11-08\n",
       "212. 2016-02-17\n",
       "213. 2009-04-30\n",
       "214. 2016-12-15\n",
       "215. 2016-03-17\n",
       "216. 2016-04-13\n",
       "217. 2016-05-24\n",
       "218. 2017-10-04\n",
       "219. 2016-06-16\n",
       "220. 2016-06-29\n",
       "221. 2016-07-26\n",
       "222. &lt;NA&gt;\n",
       "223. &lt;NA&gt;\n",
       "224. &lt;NA&gt;\n",
       "225. 2016-08-16\n",
       "226. 2016-09-20\n",
       "227. 2017-09-29\n",
       "228. 2016-11-23\n",
       "229. 2016-10-04\n",
       "230. 2016-10-12\n",
       "231. 2016-10-26\n",
       "232. 2017-03-13\n",
       "233. &lt;NA&gt;\n",
       "234. 2016-10-26\n",
       "235. 2016-11-02\n",
       "236. 2016-11-28\n",
       "237. 2017-07-10\n",
       "238. 2016-12-16\n",
       "239. 2017-02-08\n",
       "240. 2017-02-22\n",
       "241. 2017-03-08\n",
       "242. 2017-03-16\n",
       "243. 2017-03-22\n",
       "244. 2017-03-29\n",
       "245. 2017-04-13\n",
       "246. 2017-04-18\n",
       "247. 2017-05-10\n",
       "248. 2017-05-12\n",
       "249. 2017-05-17\n",
       "250. 2017-05-31\n",
       "251. 2017-06-30\n",
       "252. 2017-07-21\n",
       "253. 2017-08-21\n",
       "254. 2018-09-19\n",
       "255. &lt;NA&gt;\n",
       "256. 2017-08-18\n",
       "257. 2017-11-22\n",
       "258. 2017-12-20\n",
       "259. &lt;NA&gt;\n",
       "260. 2018-02-13\n",
       "261. 2018-01-31\n",
       "262. 2018-02-20\n",
       "263. &lt;NA&gt;\n",
       "264. 2018-03-27\n",
       "265. &lt;NA&gt;\n",
       "266. 2018-05-30\n",
       "267. &lt;NA&gt;\n",
       "268. &lt;NA&gt;\n",
       "269. 2018-06-11\n",
       "270. 2018-07-02\n",
       "271. &lt;NA&gt;\n",
       "272. &lt;NA&gt;\n",
       "273. &lt;NA&gt;\n",
       "\n",
       "\n"
      ],
      "text/plain": [
       "  [1] NA           \"2009-07-16\" \"2008-05-14\" \"2010-11-17\" \"2009-03-25\"\n",
       "  [6] \"2009-10-28\" \"2008-10-01\" \"2010-09-14\" \"2009-06-22\" \"2008-06-04\"\n",
       " [11] \"2011-07-05\" \"2010-08-25\" \"2011-06-29\" \"2008-07-02\" \"2008-07-09\"\n",
       " [16] \"2010-09-08\" \"2011-12-14\" \"2008-09-08\" \"2010-07-19\" \"2009-01-21\"\n",
       " [21] \"2008-10-20\" \"2007-10-10\" \"2009-07-29\" \"2010-01-27\" \"2008-08-07\"\n",
       " [26] \"2007-11-19\" \"2008-10-29\" \"2008-08-04\" \"2008-08-04\" \"2008-04-23\"\n",
       " [31] \"2010-06-25\" \"2009-03-06\" \"2009-04-13\" \"2008-08-20\" \"2009-01-12\"\n",
       " [36] \"2009-10-05\" \"2010-07-20\" \"2008-04-02\" \"2008-05-04\" \"2008-10-01\"\n",
       " [41] \"2009-08-27\" \"2008-07-07\" \"2008-04-14\" \"2008-04-16\" \"2008-06-06\"\n",
       " [46] \"2009-04-17\" \"2009-01-21\" \"2009-01-26\" \"2008-07-23\" \"2008-07-23\"\n",
       " [51] \"2008-08-04\" \"2011-01-18\" \"2009-04-06\" \"2009-12-07\" \"2008-08-08\"\n",
       " [56] \"2009-02-04\" \"2010-09-08\" \"2008-09-03\" \"2008-09-08\" \"2008-09-08\"\n",
       " [61] \"2008-09-17\" \"2008-12-19\" \"2009-12-02\" \"2008-10-07\" \"2009-08-24\"\n",
       " [66] \"2009-01-22\" \"2011-03-24\" \"2009-08-21\" \"2008-11-17\" \"2009-12-21\"\n",
       " [71] \"2008-12-19\" \"2009-07-01\" \"2010-06-28\" \"2009-02-02\" \"2009-02-09\"\n",
       " [76] \"2009-02-09\" \"2009-10-16\" \"2011-04-15\" \"2010-05-21\" \"2009-03-11\"\n",
       " [81] \"2011-04-20\" \"2011-10-28\" \"2009-07-01\" \"2009-05-01\" \"2009-01-26\"\n",
       " [86] \"2009-06-29\" \"2009-07-15\" \"2009-07-15\" NA           \"2009-08-07\"\n",
       " [91] \"2009-08-28\" \"2009-02-06\" \"2009-08-24\" \"2009-08-26\" \"2009-09-03\"\n",
       " [96] \"2009-09-14\" \"2009-10-14\" \"2009-10-28\" \"2009-11-09\" \"2010-06-04\"\n",
       "[101] \"2010-12-17\" \"2010-06-24\" \"2009-12-02\" \"2010-03-10\" \"2009-12-09\"\n",
       "[106] \"2010-01-13\" \"2010-06-21\" \"2011-07-28\" \"2010-01-13\" \"2010-02-08\"\n",
       "[111] \"2010-02-16\" \"2010-02-23\" \"2010-04-23\" \"2010-03-17\" \"2010-03-08\"\n",
       "[116] \"2010-02-17\" \"2010-03-15\" \"2010-06-30\" \"2010-04-28\" \"2011-08-22\"\n",
       "[121] \"2011-07-05\" \"2010-05-28\" NA           \"2011-06-12\" \"2011-12-05\"\n",
       "[126] \"2010-07-28\" \"2010-08-02\" \"2008-03-19\" \"2010-09-17\" \"2011-02-09\"\n",
       "[131] NA           \"2010-12-27\" \"2011-02-11\" \"2011-02-14\" \"2011-02-26\"\n",
       "[136] \"2011-03-08\" \"2011-03-16\" \"2011-03-29\" \"2011-04-05\" \"2011-05-09\"\n",
       "[141] \"2011-06-20\" \"2011-06-27\" \"2011-12-07\" \"2011-08-29\" \"2011-09-20\"\n",
       "[146] \"2011-11-21\" \"2016-08-17\" NA           \"2013-10-03\" \"2014-03-20\"\n",
       "[151] \"2014-08-13\" NA           \"2018-08-20\" \"2016-04-29\" \"2014-05-30\"\n",
       "[156] NA           \"2017-11-07\" \"2015-07-10\" \"2013-10-07\" \"2018-05-17\"\n",
       "[161] \"2013-12-16\" \"2015-10-23\" \"2013-10-15\" \"2014-12-17\" \"2017-12-05\"\n",
       "[166] \"2013-12-11\" \"2015-08-26\" \"2014-08-05\" \"2014-02-21\" \"2014-02-26\"\n",
       "[171] \"2014-12-23\" \"2014-03-13\" \"2014-04-02\" \"2014-04-15\" \"2014-05-01\"\n",
       "[176] \"2014-05-13\" \"2014-06-16\" \"2014-06-30\" \"2014-07-01\" \"2014-08-12\"\n",
       "[181] \"2014-12-02\" \"2014-09-15\" \"2014-09-17\" \"2014-10-09\" \"2014-10-22\"\n",
       "[186] \"2014-10-23\" NA           \"2014-12-17\" \"2015-01-15\" \"2014-11-25\"\n",
       "[191] \"2015-02-06\" \"2018-01-23\" \"2017-06-28\" \"2015-04-01\" \"2016-05-12\"\n",
       "[196] \"2015-04-28\" \"2017-06-20\" \"2015-06-11\" \"2016-11-09\" \"2017-01-30\"\n",
       "[201] \"2015-08-26\" \"2015-12-16\" NA           \"2015-10-12\" \"2018-06-27\"\n",
       "[206] \"2016-06-06\" \"2016-02-03\" \"2016-01-14\" \"2016-01-27\" \"2016-02-01\"\n",
       "[211] \"2017-11-08\" \"2016-02-17\" \"2009-04-30\" \"2016-12-15\" \"2016-03-17\"\n",
       "[216] \"2016-04-13\" \"2016-05-24\" \"2017-10-04\" \"2016-06-16\" \"2016-06-29\"\n",
       "[221] \"2016-07-26\" NA           NA           NA           \"2016-08-16\"\n",
       "[226] \"2016-09-20\" \"2017-09-29\" \"2016-11-23\" \"2016-10-04\" \"2016-10-12\"\n",
       "[231] \"2016-10-26\" \"2017-03-13\" NA           \"2016-10-26\" \"2016-11-02\"\n",
       "[236] \"2016-11-28\" \"2017-07-10\" \"2016-12-16\" \"2017-02-08\" \"2017-02-22\"\n",
       "[241] \"2017-03-08\" \"2017-03-16\" \"2017-03-22\" \"2017-03-29\" \"2017-04-13\"\n",
       "[246] \"2017-04-18\" \"2017-05-10\" \"2017-05-12\" \"2017-05-17\" \"2017-05-31\"\n",
       "[251] \"2017-06-30\" \"2017-07-21\" \"2017-08-21\" \"2018-09-19\" NA          \n",
       "[256] \"2017-08-18\" \"2017-11-22\" \"2017-12-20\" NA           \"2018-02-13\"\n",
       "[261] \"2018-01-31\" \"2018-02-20\" NA           \"2018-03-27\" NA          \n",
       "[266] \"2018-05-30\" NA           NA           \"2018-06-11\" \"2018-07-02\"\n",
       "[271] NA           NA           NA          "
      ]
     },
     "metadata": {},
     "output_type": "display_data"
    }
   ],
   "source": [
    "pt_dems$current_surgery_date"
   ]
  },
  {
   "cell_type": "code",
   "execution_count": 14,
   "metadata": {},
   "outputs": [
    {
     "data": {
      "text/html": [
       "<ol class=list-inline>\n",
       "\t<li>479</li>\n",
       "\t<li>75</li>\n",
       "</ol>\n"
      ],
      "text/latex": [
       "\\begin{enumerate*}\n",
       "\\item 479\n",
       "\\item 75\n",
       "\\end{enumerate*}\n"
      ],
      "text/markdown": [
       "1. 479\n",
       "2. 75\n",
       "\n",
       "\n"
      ],
      "text/plain": [
       "[1] 479  75"
      ]
     },
     "metadata": {},
     "output_type": "display_data"
    },
    {
     "data": {
      "text/html": [
       "<ol class=list-inline>\n",
       "\t<li>'vialid'</li>\n",
       "\t<li>'b_number'</li>\n",
       "\t<li>'t_number_x'</li>\n",
       "\t<li>'t_number'</li>\n",
       "\t<li>'sf_number'</li>\n",
       "\t<li>'current_scan_date'</li>\n",
       "\t<li>'current_surgery_date'</li>\n",
       "\t<li>'current_hist_grade'</li>\n",
       "\t<li>'current_hist_type'</li>\n",
       "\t<li>'tumor_cell_evaluation'</li>\n",
       "\t<li>'necrosis'</li>\n",
       "\t<li>'mv_hyperplasia'</li>\n",
       "\t<li>'mv_delicate_vasculature'</li>\n",
       "\t<li>'f8_delicate'</li>\n",
       "\t<li>'f8_simple'</li>\n",
       "\t<li>'f8_complex'</li>\n",
       "\t<li>'mib_1'</li>\n",
       "\t<li>'avgerage_cells'</li>\n",
       "\t<li>'treatment_related_ab'</li>\n",
       "\t<li>'bx_pure_treatment_effect'</li>\n",
       "\t<li>'percent_tumor_nuclei'</li>\n",
       "\t<li>'nfl'</li>\n",
       "\t<li>'nfse'</li>\n",
       "\t<li>'nt1c'</li>\n",
       "\t<li>'nt1v'</li>\n",
       "\t<li>'nt1d'</li>\n",
       "\t<li>'nadc.1'</li>\n",
       "\t<li>'nfa.1'</li>\n",
       "\t<li>'nev1.1'</li>\n",
       "\t<li>'nev2.1'</li>\n",
       "\t<li>'nev3.1'</li>\n",
       "\t<li>'nevrad.1'</li>\n",
       "\t<li>'nadc.2'</li>\n",
       "\t<li>'nfa.2'</li>\n",
       "\t<li>'nev1.2'</li>\n",
       "\t<li>'nev2.2'</li>\n",
       "\t<li>'nev3.2'</li>\n",
       "\t<li>'nevrad.2'</li>\n",
       "\t<li>'cbvn_nlin'</li>\n",
       "\t<li>'phn_nlin'</li>\n",
       "\t<li>'recov_nlin'</li>\n",
       "\t<li>'phn_npar'</li>\n",
       "\t<li>'recov_npar'</li>\n",
       "\t<li>'recovn_npar'</li>\n",
       "\t<li>'ccri'</li>\n",
       "\t<li>'cni'</li>\n",
       "\t<li>'crni'</li>\n",
       "\t<li>'ncho'</li>\n",
       "\t<li>'ncre'</li>\n",
       "\t<li>'nnaa'</li>\n",
       "\t<li>'nlac'</li>\n",
       "\t<li>'nlip'</li>\n",
       "\t<li>'newdata'</li>\n",
       "\t<li>'olddata'</li>\n",
       "\t<li>'exclude_bc_hematoma_or_ventricle'</li>\n",
       "\t<li>'exclude_perf'</li>\n",
       "\t<li>'nLL'</li>\n",
       "\t<li>'comments'</li>\n",
       "\t<li>'perf_quant'</li>\n",
       "\t<li>'include_perf'</li>\n",
       "\t<li>'spec_quant'</li>\n",
       "\t<li>'include_spec'</li>\n",
       "\t<li>'diffu1000_quant'</li>\n",
       "\t<li>'diffu2000_quant'</li>\n",
       "\t<li>'exclude_bc_anat'</li>\n",
       "\t<li>'exclude_bc_pathology'</li>\n",
       "\t<li>'include_diffu1000'</li>\n",
       "\t<li>'include_diffu2000'</li>\n",
       "\t<li>'exclude_histology'</li>\n",
       "\t<li>'txe_comments'</li>\n",
       "\t<li>'outcome'</li>\n",
       "\t<li>'in_CEL'</li>\n",
       "\t<li>'in_T2all'</li>\n",
       "\t<li>'in_NEL'</li>\n",
       "\t<li>'CELorNEL'</li>\n",
       "</ol>\n"
      ],
      "text/latex": [
       "\\begin{enumerate*}\n",
       "\\item 'vialid'\n",
       "\\item 'b\\_number'\n",
       "\\item 't\\_number\\_x'\n",
       "\\item 't\\_number'\n",
       "\\item 'sf\\_number'\n",
       "\\item 'current\\_scan\\_date'\n",
       "\\item 'current\\_surgery\\_date'\n",
       "\\item 'current\\_hist\\_grade'\n",
       "\\item 'current\\_hist\\_type'\n",
       "\\item 'tumor\\_cell\\_evaluation'\n",
       "\\item 'necrosis'\n",
       "\\item 'mv\\_hyperplasia'\n",
       "\\item 'mv\\_delicate\\_vasculature'\n",
       "\\item 'f8\\_delicate'\n",
       "\\item 'f8\\_simple'\n",
       "\\item 'f8\\_complex'\n",
       "\\item 'mib\\_1'\n",
       "\\item 'avgerage\\_cells'\n",
       "\\item 'treatment\\_related\\_ab'\n",
       "\\item 'bx\\_pure\\_treatment\\_effect'\n",
       "\\item 'percent\\_tumor\\_nuclei'\n",
       "\\item 'nfl'\n",
       "\\item 'nfse'\n",
       "\\item 'nt1c'\n",
       "\\item 'nt1v'\n",
       "\\item 'nt1d'\n",
       "\\item 'nadc.1'\n",
       "\\item 'nfa.1'\n",
       "\\item 'nev1.1'\n",
       "\\item 'nev2.1'\n",
       "\\item 'nev3.1'\n",
       "\\item 'nevrad.1'\n",
       "\\item 'nadc.2'\n",
       "\\item 'nfa.2'\n",
       "\\item 'nev1.2'\n",
       "\\item 'nev2.2'\n",
       "\\item 'nev3.2'\n",
       "\\item 'nevrad.2'\n",
       "\\item 'cbvn\\_nlin'\n",
       "\\item 'phn\\_nlin'\n",
       "\\item 'recov\\_nlin'\n",
       "\\item 'phn\\_npar'\n",
       "\\item 'recov\\_npar'\n",
       "\\item 'recovn\\_npar'\n",
       "\\item 'ccri'\n",
       "\\item 'cni'\n",
       "\\item 'crni'\n",
       "\\item 'ncho'\n",
       "\\item 'ncre'\n",
       "\\item 'nnaa'\n",
       "\\item 'nlac'\n",
       "\\item 'nlip'\n",
       "\\item 'newdata'\n",
       "\\item 'olddata'\n",
       "\\item 'exclude\\_bc\\_hematoma\\_or\\_ventricle'\n",
       "\\item 'exclude\\_perf'\n",
       "\\item 'nLL'\n",
       "\\item 'comments'\n",
       "\\item 'perf\\_quant'\n",
       "\\item 'include\\_perf'\n",
       "\\item 'spec\\_quant'\n",
       "\\item 'include\\_spec'\n",
       "\\item 'diffu1000\\_quant'\n",
       "\\item 'diffu2000\\_quant'\n",
       "\\item 'exclude\\_bc\\_anat'\n",
       "\\item 'exclude\\_bc\\_pathology'\n",
       "\\item 'include\\_diffu1000'\n",
       "\\item 'include\\_diffu2000'\n",
       "\\item 'exclude\\_histology'\n",
       "\\item 'txe\\_comments'\n",
       "\\item 'outcome'\n",
       "\\item 'in\\_CEL'\n",
       "\\item 'in\\_T2all'\n",
       "\\item 'in\\_NEL'\n",
       "\\item 'CELorNEL'\n",
       "\\end{enumerate*}\n"
      ],
      "text/markdown": [
       "1. 'vialid'\n",
       "2. 'b_number'\n",
       "3. 't_number_x'\n",
       "4. 't_number'\n",
       "5. 'sf_number'\n",
       "6. 'current_scan_date'\n",
       "7. 'current_surgery_date'\n",
       "8. 'current_hist_grade'\n",
       "9. 'current_hist_type'\n",
       "10. 'tumor_cell_evaluation'\n",
       "11. 'necrosis'\n",
       "12. 'mv_hyperplasia'\n",
       "13. 'mv_delicate_vasculature'\n",
       "14. 'f8_delicate'\n",
       "15. 'f8_simple'\n",
       "16. 'f8_complex'\n",
       "17. 'mib_1'\n",
       "18. 'avgerage_cells'\n",
       "19. 'treatment_related_ab'\n",
       "20. 'bx_pure_treatment_effect'\n",
       "21. 'percent_tumor_nuclei'\n",
       "22. 'nfl'\n",
       "23. 'nfse'\n",
       "24. 'nt1c'\n",
       "25. 'nt1v'\n",
       "26. 'nt1d'\n",
       "27. 'nadc.1'\n",
       "28. 'nfa.1'\n",
       "29. 'nev1.1'\n",
       "30. 'nev2.1'\n",
       "31. 'nev3.1'\n",
       "32. 'nevrad.1'\n",
       "33. 'nadc.2'\n",
       "34. 'nfa.2'\n",
       "35. 'nev1.2'\n",
       "36. 'nev2.2'\n",
       "37. 'nev3.2'\n",
       "38. 'nevrad.2'\n",
       "39. 'cbvn_nlin'\n",
       "40. 'phn_nlin'\n",
       "41. 'recov_nlin'\n",
       "42. 'phn_npar'\n",
       "43. 'recov_npar'\n",
       "44. 'recovn_npar'\n",
       "45. 'ccri'\n",
       "46. 'cni'\n",
       "47. 'crni'\n",
       "48. 'ncho'\n",
       "49. 'ncre'\n",
       "50. 'nnaa'\n",
       "51. 'nlac'\n",
       "52. 'nlip'\n",
       "53. 'newdata'\n",
       "54. 'olddata'\n",
       "55. 'exclude_bc_hematoma_or_ventricle'\n",
       "56. 'exclude_perf'\n",
       "57. 'nLL'\n",
       "58. 'comments'\n",
       "59. 'perf_quant'\n",
       "60. 'include_perf'\n",
       "61. 'spec_quant'\n",
       "62. 'include_spec'\n",
       "63. 'diffu1000_quant'\n",
       "64. 'diffu2000_quant'\n",
       "65. 'exclude_bc_anat'\n",
       "66. 'exclude_bc_pathology'\n",
       "67. 'include_diffu1000'\n",
       "68. 'include_diffu2000'\n",
       "69. 'exclude_histology'\n",
       "70. 'txe_comments'\n",
       "71. 'outcome'\n",
       "72. 'in_CEL'\n",
       "73. 'in_T2all'\n",
       "74. 'in_NEL'\n",
       "75. 'CELorNEL'\n",
       "\n",
       "\n"
      ],
      "text/plain": [
       " [1] \"vialid\"                           \"b_number\"                        \n",
       " [3] \"t_number_x\"                       \"t_number\"                        \n",
       " [5] \"sf_number\"                        \"current_scan_date\"               \n",
       " [7] \"current_surgery_date\"             \"current_hist_grade\"              \n",
       " [9] \"current_hist_type\"                \"tumor_cell_evaluation\"           \n",
       "[11] \"necrosis\"                         \"mv_hyperplasia\"                  \n",
       "[13] \"mv_delicate_vasculature\"          \"f8_delicate\"                     \n",
       "[15] \"f8_simple\"                        \"f8_complex\"                      \n",
       "[17] \"mib_1\"                            \"avgerage_cells\"                  \n",
       "[19] \"treatment_related_ab\"             \"bx_pure_treatment_effect\"        \n",
       "[21] \"percent_tumor_nuclei\"             \"nfl\"                             \n",
       "[23] \"nfse\"                             \"nt1c\"                            \n",
       "[25] \"nt1v\"                             \"nt1d\"                            \n",
       "[27] \"nadc.1\"                           \"nfa.1\"                           \n",
       "[29] \"nev1.1\"                           \"nev2.1\"                          \n",
       "[31] \"nev3.1\"                           \"nevrad.1\"                        \n",
       "[33] \"nadc.2\"                           \"nfa.2\"                           \n",
       "[35] \"nev1.2\"                           \"nev2.2\"                          \n",
       "[37] \"nev3.2\"                           \"nevrad.2\"                        \n",
       "[39] \"cbvn_nlin\"                        \"phn_nlin\"                        \n",
       "[41] \"recov_nlin\"                       \"phn_npar\"                        \n",
       "[43] \"recov_npar\"                       \"recovn_npar\"                     \n",
       "[45] \"ccri\"                             \"cni\"                             \n",
       "[47] \"crni\"                             \"ncho\"                            \n",
       "[49] \"ncre\"                             \"nnaa\"                            \n",
       "[51] \"nlac\"                             \"nlip\"                            \n",
       "[53] \"newdata\"                          \"olddata\"                         \n",
       "[55] \"exclude_bc_hematoma_or_ventricle\" \"exclude_perf\"                    \n",
       "[57] \"nLL\"                              \"comments\"                        \n",
       "[59] \"perf_quant\"                       \"include_perf\"                    \n",
       "[61] \"spec_quant\"                       \"include_spec\"                    \n",
       "[63] \"diffu1000_quant\"                  \"diffu2000_quant\"                 \n",
       "[65] \"exclude_bc_anat\"                  \"exclude_bc_pathology\"            \n",
       "[67] \"include_diffu1000\"                \"include_diffu2000\"               \n",
       "[69] \"exclude_histology\"                \"txe_comments\"                    \n",
       "[71] \"outcome\"                          \"in_CEL\"                          \n",
       "[73] \"in_T2all\"                         \"in_NEL\"                          \n",
       "[75] \"CELorNEL\"                        "
      ]
     },
     "metadata": {},
     "output_type": "display_data"
    }
   ],
   "source": [
    "dim(fully_annot_biopsies)\n",
    "colnames(fully_annot_biopsies)=c(colnames(fully_annot_biopsies)[1:3], 't_number', colnames(fully_annot_biopsies)[5:length(colnames(fully_annot_biopsies))])\n",
    "colnames(fully_annot_biopsies)\n",
    "fully_annot_biopsies$current_scan_date = as.Date(fully_annot_biopsies$current_scan_date)"
   ]
  },
  {
   "cell_type": "code",
   "execution_count": 15,
   "metadata": {},
   "outputs": [],
   "source": [
    "## to merge patient data with biopsy data - use t-number to match:\n",
    "merged = merge(pt_dems, fully_annot_biopsies, by = c(\"b_number\", \"t_number\", 'sf_number', 'current_hist_grade', 'current_hist_type'), all = TRUE, sort = FALSE)"
   ]
  },
  {
   "cell_type": "code",
   "execution_count": 16,
   "metadata": {},
   "outputs": [
    {
     "data": {
      "text/html": [
       "<table>\n",
       "<thead><tr><th scope=col>b_number</th><th scope=col>t_number</th><th scope=col>sf_number</th><th scope=col>current_hist_grade</th><th scope=col>current_hist_type</th><th scope=col>current_scan_date.x</th><th scope=col>current_surgery_date.x</th><th scope=col>post_t_number</th><th scope=col>post_scan_date</th><th scope=col>age_at_surgery</th><th scope=col>extent_of_resection</th><th scope=col>inital_kps</th><th scope=col>last_contact_date</th><th scope=col>progression_date</th><th scope=col>pfs_censored</th><th scope=col>pfs</th><th scope=col>date_of_death</th><th scope=col>os_censored</th><th scope=col>os</th><th scope=col>gender</th><th scope=col>birthdate</th><th scope=col>race</th><th scope=col>vialid</th><th scope=col>t_number_x</th><th scope=col>current_scan_date.y</th><th scope=col>current_surgery_date.y</th><th scope=col>tumor_cell_evaluation</th><th scope=col>necrosis</th><th scope=col>mv_hyperplasia</th><th scope=col>mv_delicate_vasculature</th><th scope=col>f8_delicate</th><th scope=col>f8_simple</th><th scope=col>f8_complex</th><th scope=col>mib_1</th><th scope=col>avgerage_cells</th><th scope=col>treatment_related_ab</th><th scope=col>bx_pure_treatment_effect</th><th scope=col>percent_tumor_nuclei</th><th scope=col>nfl</th><th scope=col>nfse</th><th scope=col>nt1c</th><th scope=col>nt1v</th><th scope=col>nt1d</th><th scope=col>nadc.1</th><th scope=col>nfa.1</th><th scope=col>nev1.1</th><th scope=col>nev2.1</th><th scope=col>nev3.1</th><th scope=col>nevrad.1</th><th scope=col>nadc.2</th><th scope=col>nfa.2</th><th scope=col>nev1.2</th><th scope=col>nev2.2</th><th scope=col>nev3.2</th><th scope=col>nevrad.2</th><th scope=col>cbvn_nlin</th><th scope=col>phn_nlin</th><th scope=col>recov_nlin</th><th scope=col>phn_npar</th><th scope=col>recov_npar</th><th scope=col>recovn_npar</th><th scope=col>ccri</th><th scope=col>cni</th><th scope=col>crni</th><th scope=col>ncho</th><th scope=col>ncre</th><th scope=col>nnaa</th><th scope=col>nlac</th><th scope=col>nlip</th><th scope=col>newdata</th><th scope=col>olddata</th><th scope=col>exclude_bc_hematoma_or_ventricle</th><th scope=col>exclude_perf</th><th scope=col>nLL</th><th scope=col>comments</th><th scope=col>perf_quant</th><th scope=col>include_perf</th><th scope=col>spec_quant</th><th scope=col>include_spec</th><th scope=col>diffu1000_quant</th><th scope=col>diffu2000_quant</th><th scope=col>exclude_bc_anat</th><th scope=col>exclude_bc_pathology</th><th scope=col>include_diffu1000</th><th scope=col>include_diffu2000</th><th scope=col>exclude_histology</th><th scope=col>txe_comments</th><th scope=col>outcome</th><th scope=col>in_CEL</th><th scope=col>in_T2all</th><th scope=col>in_NEL</th><th scope=col>CELorNEL</th></tr></thead>\n",
       "<tbody>\n",
       "\t<tr><td>197                                                   </td><td>6243                                                  </td><td>8077                                                  </td><td>Treatment Effect                                      </td><td>Treatment Effect                                      </td><td>2009-07-15                                            </td><td>2009-07-16                                            </td><td>11078                                                 </td><td>2009-07-18                                            </td><td>56                                                    </td><td>Sub-total resection                                   </td><td>NA                                                    </td><td>2017-01-27                                            </td><td>NA                                                    </td><td>0                                                     </td><td>2753                                                  </td><td>NA                                                    </td><td>0                                                     </td><td>2753                                                  </td><td>M                                                     </td><td>1953-07-10                                            </td><td>White                                                 </td><td>91B26                                                 </td><td>t6243                                                 </td><td>NA                                                    </td><td>7/16/09                                               </td><td>0                                                     </td><td>0                                                     </td><td>1                                                     </td><td>1                                                     </td><td>3                                                     </td><td>0                                                     </td><td>0                                                     </td><td>0.99                                                  </td><td>200.0                                                 </td><td>0                                                     </td><td>t                                                     </td><td>NA                                                    </td><td>1.43                                                  </td><td>2.91                                                  </td><td>0.76                                                  </td><td>0.61                                                  </td><td> 0.10                                                 </td><td>1.76                                                  </td><td>1.17                                                  </td><td>1.43                                                  </td><td>1.70                                                  </td><td>1.54                                                  </td><td>1.60                                                  </td><td>1.76                                                  </td><td>1.17                                                  </td><td>1.43                                                  </td><td>1.70                                                  </td><td>1.54                                                  </td><td>1.60                                                  </td><td>0.74                                                  </td><td>0.62                                                  </td><td>86.06                                                 </td><td>0.62                                                  </td><td>93.42                                                 </td><td>NA                                                    </td><td>NA                                                    </td><td>NA                                                    </td><td>NA                                                    </td><td>NA                                                    </td><td>NA                                                    </td><td>NA                                                    </td><td>NA                                                    </td><td>NA                                                    </td><td>0                                                     </td><td>1                                                     </td><td>0                                                     </td><td>0                                                     </td><td>NA                                                    </td><td>increased cellularity, gliosis, rare atypical nuclei  </td><td>NA                                                    </td><td>NA                                                    </td><td>all_nas                                               </td><td>0                                                     </td><td>all_nas                                               </td><td>NA                                                    </td><td>NA                                                    </td><td>NA                                                    </td><td>1                                                     </td><td>1                                                     </td><td>NA                                                    </td><td>True                                                  </td><td>txe                                                   </td><td>0                                                     </td><td>1                                                     </td><td>1                                                     </td><td>NEL                                                   </td></tr>\n",
       "\t<tr><td>197                                                   </td><td>6243                                                  </td><td>8077                                                  </td><td>Treatment Effect                                      </td><td>Treatment Effect                                      </td><td>2009-07-15                                            </td><td>2009-07-16                                            </td><td>11078                                                 </td><td>2009-07-18                                            </td><td>56                                                    </td><td>Sub-total resection                                   </td><td>NA                                                    </td><td>2017-01-27                                            </td><td>NA                                                    </td><td>0                                                     </td><td>2753                                                  </td><td>NA                                                    </td><td>0                                                     </td><td>2753                                                  </td><td>M                                                     </td><td>1953-07-10                                            </td><td>White                                                 </td><td>93B26                                                 </td><td>t6243                                                 </td><td>NA                                                    </td><td>7/16/09                                               </td><td>0                                                     </td><td>0                                                     </td><td>0                                                     </td><td>0                                                     </td><td>1                                                     </td><td>3                                                     </td><td>0                                                     </td><td>0.99                                                  </td><td>200.0                                                 </td><td>1                                                     </td><td>t                                                     </td><td>NA                                                    </td><td>0.72                                                  </td><td>6.31                                                  </td><td>0.63                                                  </td><td>0.53                                                  </td><td> 0.03                                                 </td><td>2.20                                                  </td><td>0.72                                                  </td><td>1.74                                                  </td><td>2.07                                                  </td><td>2.20                                                  </td><td>2.06                                                  </td><td>2.20                                                  </td><td>0.72                                                  </td><td>1.74                                                  </td><td>2.07                                                  </td><td>2.20                                                  </td><td>2.06                                                  </td><td>1.78                                                  </td><td>1.70                                                  </td><td>86.05                                                 </td><td>1.68                                                  </td><td>87.64                                                 </td><td>NA                                                    </td><td>NA                                                    </td><td>NA                                                    </td><td>NA                                                    </td><td>NA                                                    </td><td>NA                                                    </td><td>NA                                                    </td><td>NA                                                    </td><td>NA                                                    </td><td>0                                                     </td><td>1                                                     </td><td>0                                                     </td><td>0                                                     </td><td>NA                                                    </td><td>hypercellular, gliosis, hyalinized BV assign to Simple</td><td>NA                                                    </td><td>NA                                                    </td><td>all_nas                                               </td><td>0                                                     </td><td>all_nas                                               </td><td>NA                                                    </td><td>NA                                                    </td><td>NA                                                    </td><td>1                                                     </td><td>1                                                     </td><td>NA                                                    </td><td>True                                                  </td><td>txe                                                   </td><td>0                                                     </td><td>0                                                     </td><td>0                                                     </td><td>NB                                                    </td></tr>\n",
       "\t<tr><td>197                                                   </td><td>6243                                                  </td><td>8077                                                  </td><td>Treatment Effect                                      </td><td>Treatment Effect                                      </td><td>2009-07-15                                            </td><td>2009-07-16                                            </td><td>11078                                                 </td><td>2009-07-18                                            </td><td>56                                                    </td><td>Sub-total resection                                   </td><td>NA                                                    </td><td>2017-01-27                                            </td><td>NA                                                    </td><td>0                                                     </td><td>2753                                                  </td><td>NA                                                    </td><td>0                                                     </td><td>2753                                                  </td><td>M                                                     </td><td>1953-07-10                                            </td><td>White                                                 </td><td>92B26                                                 </td><td>t6243                                                 </td><td>NA                                                    </td><td>7/16/09                                               </td><td>2                                                     </td><td>1                                                     </td><td>1                                                     </td><td>0                                                     </td><td>1                                                     </td><td>2                                                     </td><td>0                                                     </td><td>0.99                                                  </td><td>200.0                                                 </td><td>1                                                     </td><td>f                                                     </td><td>NA                                                    </td><td>1.36                                                  </td><td>2.83                                                  </td><td>0.80                                                  </td><td>0.64                                                  </td><td> 0.10                                                 </td><td>1.93                                                  </td><td>0.83                                                  </td><td>1.61                                                  </td><td>1.84                                                  </td><td>1.89                                                  </td><td>1.83                                                  </td><td>1.93                                                  </td><td>0.83                                                  </td><td>1.61                                                  </td><td>1.84                                                  </td><td>1.89                                                  </td><td>1.83                                                  </td><td>0.67                                                  </td><td>0.56                                                  </td><td>82.08                                                 </td><td>0.59                                                  </td><td>81.11                                                 </td><td>NA                                                    </td><td>NA                                                    </td><td>NA                                                    </td><td>NA                                                    </td><td>NA                                                    </td><td>NA                                                    </td><td>NA                                                    </td><td>NA                                                    </td><td>NA                                                    </td><td>0                                                     </td><td>1                                                     </td><td>0                                                     </td><td>0                                                     </td><td>NA                                                    </td><td>SMI31 areas of \"3\"                                    </td><td>NA                                                    </td><td>NA                                                    </td><td>all_nas                                               </td><td>0                                                     </td><td>all_nas                                               </td><td>NA                                                    </td><td>NA                                                    </td><td>NA                                                    </td><td>1                                                     </td><td>1                                                     </td><td>NA                                                    </td><td>False                                                 </td><td>rHGG                                                  </td><td>0                                                     </td><td>1                                                     </td><td>1                                                     </td><td>NEL                                                   </td></tr>\n",
       "\t<tr><td>697                                                   </td><td>5333                                                  </td><td>7691                                                  </td><td>Grade III                                             </td><td>Oligodendroglioma                                     </td><td>2008-05-12                                            </td><td>2008-05-14                                            </td><td> 8422                                                 </td><td>2008-05-16                                            </td><td>49                                                    </td><td>Sub-total resection                                   </td><td>90                                                    </td><td>NA                                                    </td><td>NA                                                    </td><td>0                                                     </td><td>  NA                                                  </td><td>2010-05-01                                            </td><td>1                                                     </td><td> 719                                                  </td><td>M                                                     </td><td>1959-02-25                                            </td><td>White                                                 </td><td>51B16                                                 </td><td>t5333                                                 </td><td>5-12-08                                               </td><td>5/14/08                                               </td><td>2                                                     </td><td>0                                                     </td><td>0                                                     </td><td>1                                                     </td><td>1                                                     </td><td>0                                                     </td><td>1                                                     </td><td>7.94                                                  </td><td>105.8                                                 </td><td>NA                                                    </td><td>f                                                     </td><td>NA                                                    </td><td>1.25                                                  </td><td>1.39                                                  </td><td>0.90                                                  </td><td>1.12                                                  </td><td>-0.18                                                 </td><td>1.32                                                  </td><td>1.06                                                  </td><td>1.11                                                  </td><td>1.18                                                  </td><td>1.21                                                  </td><td>1.19                                                  </td><td>  NA                                                  </td><td>  NA                                                  </td><td>  NA                                                  </td><td>  NA                                                  </td><td>  NA                                                  </td><td>  NA                                                  </td><td>0.85                                                  </td><td>0.75                                                  </td><td>72.54                                                 </td><td>0.89                                                  </td><td>79.31                                                 </td><td>NA                                                    </td><td>NA                                                    </td><td>NA                                                    </td><td>NA                                                    </td><td>NA                                                    </td><td>NA                                                    </td><td>NA                                                    </td><td>NA                                                    </td><td>NA                                                    </td><td>0                                                     </td><td>1                                                     </td><td>0                                                     </td><td>0                                                     </td><td>NA                                                    </td><td>NA                                                    </td><td>NA                                                    </td><td>NA                                                    </td><td>all_nas                                               </td><td>0                                                     </td><td>NA                                                    </td><td>all_nas                                               </td><td>NA                                                    </td><td>NA                                                    </td><td>1                                                     </td><td>0                                                     </td><td>NA                                                    </td><td>NA                                                    </td><td>rHGG                                                  </td><td>0                                                     </td><td>1                                                     </td><td>1                                                     </td><td>NEL                                                   </td></tr>\n",
       "\t<tr><td>697                                                   </td><td>5333                                                  </td><td>7691                                                  </td><td>Grade III                                             </td><td>Oligodendroglioma                                     </td><td>2008-05-12                                            </td><td>2008-05-14                                            </td><td> 8422                                                 </td><td>2008-05-16                                            </td><td>49                                                    </td><td>Sub-total resection                                   </td><td>90                                                    </td><td>NA                                                    </td><td>NA                                                    </td><td>0                                                     </td><td>  NA                                                  </td><td>2010-05-01                                            </td><td>1                                                     </td><td> 719                                                  </td><td>M                                                     </td><td>1959-02-25                                            </td><td>White                                                 </td><td>52B16                                                 </td><td>t5333                                                 </td><td>5-12-08                                               </td><td>5/14/08                                               </td><td>2                                                     </td><td>1                                                     </td><td>2                                                     </td><td>0                                                     </td><td>1                                                     </td><td>1                                                     </td><td>3                                                     </td><td>4.99                                                  </td><td> 83.0                                                 </td><td>NA                                                    </td><td>f                                                     </td><td>NA                                                    </td><td>1.70                                                  </td><td>1.64                                                  </td><td>1.40                                                  </td><td>1.09                                                  </td><td> 0.36                                                 </td><td>1.52                                                  </td><td>1.50                                                  </td><td>1.34                                                  </td><td>1.37                                                  </td><td>1.21                                                  </td><td>1.27                                                  </td><td>  NA                                                  </td><td>  NA                                                  </td><td>  NA                                                  </td><td>  NA                                                  </td><td>  NA                                                  </td><td>  NA                                                  </td><td>0.69                                                  </td><td>0.60                                                  </td><td>69.69                                                 </td><td>0.65                                                  </td><td>75.48                                                 </td><td>NA                                                    </td><td>NA                                                    </td><td>NA                                                    </td><td>NA                                                    </td><td>NA                                                    </td><td>NA                                                    </td><td>NA                                                    </td><td>NA                                                    </td><td>NA                                                    </td><td>0                                                     </td><td>1                                                     </td><td>0                                                     </td><td>0                                                     </td><td>NA                                                    </td><td>NA                                                    </td><td>NA                                                    </td><td>NA                                                    </td><td>all_nas                                               </td><td>0                                                     </td><td>NA                                                    </td><td>all_nas                                               </td><td>NA                                                    </td><td>NA                                                    </td><td>1                                                     </td><td>0                                                     </td><td>NA                                                    </td><td>NA                                                    </td><td>rHGG                                                  </td><td>1                                                     </td><td>1                                                     </td><td>0                                                     </td><td>CEL                                                   </td></tr>\n",
       "\t<tr><td>697                                                   </td><td>5333                                                  </td><td>7691                                                  </td><td>Grade III                                             </td><td>Oligodendroglioma                                     </td><td>2008-05-12                                            </td><td>2008-05-14                                            </td><td> 8422                                                 </td><td>2008-05-16                                            </td><td>49                                                    </td><td>Sub-total resection                                   </td><td>90                                                    </td><td>NA                                                    </td><td>NA                                                    </td><td>0                                                     </td><td>  NA                                                  </td><td>2010-05-01                                            </td><td>1                                                     </td><td> 719                                                  </td><td>M                                                     </td><td>1959-02-25                                            </td><td>White                                                 </td><td>53B16                                                 </td><td>t5333                                                 </td><td>5-12-08                                               </td><td>5/14/08                                               </td><td>1                                                     </td><td>0                                                     </td><td>1                                                     </td><td>1                                                     </td><td>3                                                     </td><td>1                                                     </td><td>0                                                     </td><td>4.51                                                  </td><td> 75.4                                                 </td><td>NA                                                    </td><td>f                                                     </td><td>NA                                                    </td><td>1.20                                                  </td><td>1.39                                                  </td><td>0.86                                                  </td><td>1.12                                                  </td><td>-0.23                                                 </td><td>1.32                                                  </td><td>1.06                                                  </td><td>1.11                                                  </td><td>1.21                                                  </td><td>1.21                                                  </td><td>1.19                                                  </td><td>  NA                                                  </td><td>  NA                                                  </td><td>  NA                                                  </td><td>  NA                                                  </td><td>  NA                                                  </td><td>  NA                                                  </td><td>0.56                                                  </td><td>0.60                                                  </td><td>92.08                                                 </td><td>0.58                                                  </td><td>93.62                                                 </td><td>NA                                                    </td><td>NA                                                    </td><td>NA                                                    </td><td>NA                                                    </td><td>NA                                                    </td><td>NA                                                    </td><td>NA                                                    </td><td>NA                                                    </td><td>NA                                                    </td><td>0                                                     </td><td>1                                                     </td><td>0                                                     </td><td>0                                                     </td><td>NA                                                    </td><td>NA                                                    </td><td>NA                                                    </td><td>NA                                                    </td><td>all_nas                                               </td><td>0                                                     </td><td>NA                                                    </td><td>all_nas                                               </td><td>NA                                                    </td><td>NA                                                    </td><td>1                                                     </td><td>0                                                     </td><td>NA                                                    </td><td>NA                                                    </td><td>unk                                                   </td><td>0                                                     </td><td>0                                                     </td><td>0                                                     </td><td>NB                                                    </td></tr>\n",
       "</tbody>\n",
       "</table>\n"
      ],
      "text/latex": [
       "\\begin{tabular}{r|llllllllllllllllllllllllllllllllllllllllllllllllllllllllllllllllllllllllllllllllllllllllllll}\n",
       " b\\_number & t\\_number & sf\\_number & current\\_hist\\_grade & current\\_hist\\_type & current\\_scan\\_date.x & current\\_surgery\\_date.x & post\\_t\\_number & post\\_scan\\_date & age\\_at\\_surgery & extent\\_of\\_resection & inital\\_kps & last\\_contact\\_date & progression\\_date & pfs\\_censored & pfs & date\\_of\\_death & os\\_censored & os & gender & birthdate & race & vialid & t\\_number\\_x & current\\_scan\\_date.y & current\\_surgery\\_date.y & tumor\\_cell\\_evaluation & necrosis & mv\\_hyperplasia & mv\\_delicate\\_vasculature & f8\\_delicate & f8\\_simple & f8\\_complex & mib\\_1 & avgerage\\_cells & treatment\\_related\\_ab & bx\\_pure\\_treatment\\_effect & percent\\_tumor\\_nuclei & nfl & nfse & nt1c & nt1v & nt1d & nadc.1 & nfa.1 & nev1.1 & nev2.1 & nev3.1 & nevrad.1 & nadc.2 & nfa.2 & nev1.2 & nev2.2 & nev3.2 & nevrad.2 & cbvn\\_nlin & phn\\_nlin & recov\\_nlin & phn\\_npar & recov\\_npar & recovn\\_npar & ccri & cni & crni & ncho & ncre & nnaa & nlac & nlip & newdata & olddata & exclude\\_bc\\_hematoma\\_or\\_ventricle & exclude\\_perf & nLL & comments & perf\\_quant & include\\_perf & spec\\_quant & include\\_spec & diffu1000\\_quant & diffu2000\\_quant & exclude\\_bc\\_anat & exclude\\_bc\\_pathology & include\\_diffu1000 & include\\_diffu2000 & exclude\\_histology & txe\\_comments & outcome & in\\_CEL & in\\_T2all & in\\_NEL & CELorNEL\\\\\n",
       "\\hline\n",
       "\t 197                                                    & 6243                                                   & 8077                                                   & Treatment Effect                                       & Treatment Effect                                       & 2009-07-15                                             & 2009-07-16                                             & 11078                                                  & 2009-07-18                                             & 56                                                     & Sub-total resection                                    & NA                                                     & 2017-01-27                                             & NA                                                     & 0                                                      & 2753                                                   & NA                                                     & 0                                                      & 2753                                                   & M                                                      & 1953-07-10                                             & White                                                  & 91B26                                                  & t6243                                                  & NA                                                     & 7/16/09                                                & 0                                                      & 0                                                      & 1                                                      & 1                                                      & 3                                                      & 0                                                      & 0                                                      & 0.99                                                   & 200.0                                                  & 0                                                      & t                                                      & NA                                                     & 1.43                                                   & 2.91                                                   & 0.76                                                   & 0.61                                                   &  0.10                                                  & 1.76                                                   & 1.17                                                   & 1.43                                                   & 1.70                                                   & 1.54                                                   & 1.60                                                   & 1.76                                                   & 1.17                                                   & 1.43                                                   & 1.70                                                   & 1.54                                                   & 1.60                                                   & 0.74                                                   & 0.62                                                   & 86.06                                                  & 0.62                                                   & 93.42                                                  & NA                                                     & NA                                                     & NA                                                     & NA                                                     & NA                                                     & NA                                                     & NA                                                     & NA                                                     & NA                                                     & 0                                                      & 1                                                      & 0                                                      & 0                                                      & NA                                                     & increased cellularity, gliosis, rare atypical nuclei   & NA                                                     & NA                                                     & all\\_nas                                              & 0                                                      & all\\_nas                                              & NA                                                     & NA                                                     & NA                                                     & 1                                                      & 1                                                      & NA                                                     & True                                                   & txe                                                    & 0                                                      & 1                                                      & 1                                                      & NEL                                                   \\\\\n",
       "\t 197                                                    & 6243                                                   & 8077                                                   & Treatment Effect                                       & Treatment Effect                                       & 2009-07-15                                             & 2009-07-16                                             & 11078                                                  & 2009-07-18                                             & 56                                                     & Sub-total resection                                    & NA                                                     & 2017-01-27                                             & NA                                                     & 0                                                      & 2753                                                   & NA                                                     & 0                                                      & 2753                                                   & M                                                      & 1953-07-10                                             & White                                                  & 93B26                                                  & t6243                                                  & NA                                                     & 7/16/09                                                & 0                                                      & 0                                                      & 0                                                      & 0                                                      & 1                                                      & 3                                                      & 0                                                      & 0.99                                                   & 200.0                                                  & 1                                                      & t                                                      & NA                                                     & 0.72                                                   & 6.31                                                   & 0.63                                                   & 0.53                                                   &  0.03                                                  & 2.20                                                   & 0.72                                                   & 1.74                                                   & 2.07                                                   & 2.20                                                   & 2.06                                                   & 2.20                                                   & 0.72                                                   & 1.74                                                   & 2.07                                                   & 2.20                                                   & 2.06                                                   & 1.78                                                   & 1.70                                                   & 86.05                                                  & 1.68                                                   & 87.64                                                  & NA                                                     & NA                                                     & NA                                                     & NA                                                     & NA                                                     & NA                                                     & NA                                                     & NA                                                     & NA                                                     & 0                                                      & 1                                                      & 0                                                      & 0                                                      & NA                                                     & hypercellular, gliosis, hyalinized BV assign to Simple & NA                                                     & NA                                                     & all\\_nas                                              & 0                                                      & all\\_nas                                              & NA                                                     & NA                                                     & NA                                                     & 1                                                      & 1                                                      & NA                                                     & True                                                   & txe                                                    & 0                                                      & 0                                                      & 0                                                      & NB                                                    \\\\\n",
       "\t 197                                                    & 6243                                                   & 8077                                                   & Treatment Effect                                       & Treatment Effect                                       & 2009-07-15                                             & 2009-07-16                                             & 11078                                                  & 2009-07-18                                             & 56                                                     & Sub-total resection                                    & NA                                                     & 2017-01-27                                             & NA                                                     & 0                                                      & 2753                                                   & NA                                                     & 0                                                      & 2753                                                   & M                                                      & 1953-07-10                                             & White                                                  & 92B26                                                  & t6243                                                  & NA                                                     & 7/16/09                                                & 2                                                      & 1                                                      & 1                                                      & 0                                                      & 1                                                      & 2                                                      & 0                                                      & 0.99                                                   & 200.0                                                  & 1                                                      & f                                                      & NA                                                     & 1.36                                                   & 2.83                                                   & 0.80                                                   & 0.64                                                   &  0.10                                                  & 1.93                                                   & 0.83                                                   & 1.61                                                   & 1.84                                                   & 1.89                                                   & 1.83                                                   & 1.93                                                   & 0.83                                                   & 1.61                                                   & 1.84                                                   & 1.89                                                   & 1.83                                                   & 0.67                                                   & 0.56                                                   & 82.08                                                  & 0.59                                                   & 81.11                                                  & NA                                                     & NA                                                     & NA                                                     & NA                                                     & NA                                                     & NA                                                     & NA                                                     & NA                                                     & NA                                                     & 0                                                      & 1                                                      & 0                                                      & 0                                                      & NA                                                     & SMI31 areas of \"3\"                                     & NA                                                     & NA                                                     & all\\_nas                                              & 0                                                      & all\\_nas                                              & NA                                                     & NA                                                     & NA                                                     & 1                                                      & 1                                                      & NA                                                     & False                                                  & rHGG                                                   & 0                                                      & 1                                                      & 1                                                      & NEL                                                   \\\\\n",
       "\t 697                                                    & 5333                                                   & 7691                                                   & Grade III                                              & Oligodendroglioma                                      & 2008-05-12                                             & 2008-05-14                                             &  8422                                                  & 2008-05-16                                             & 49                                                     & Sub-total resection                                    & 90                                                     & NA                                                     & NA                                                     & 0                                                      &   NA                                                   & 2010-05-01                                             & 1                                                      &  719                                                   & M                                                      & 1959-02-25                                             & White                                                  & 51B16                                                  & t5333                                                  & 5-12-08                                                & 5/14/08                                                & 2                                                      & 0                                                      & 0                                                      & 1                                                      & 1                                                      & 0                                                      & 1                                                      & 7.94                                                   & 105.8                                                  & NA                                                     & f                                                      & NA                                                     & 1.25                                                   & 1.39                                                   & 0.90                                                   & 1.12                                                   & -0.18                                                  & 1.32                                                   & 1.06                                                   & 1.11                                                   & 1.18                                                   & 1.21                                                   & 1.19                                                   &   NA                                                   &   NA                                                   &   NA                                                   &   NA                                                   &   NA                                                   &   NA                                                   & 0.85                                                   & 0.75                                                   & 72.54                                                  & 0.89                                                   & 79.31                                                  & NA                                                     & NA                                                     & NA                                                     & NA                                                     & NA                                                     & NA                                                     & NA                                                     & NA                                                     & NA                                                     & 0                                                      & 1                                                      & 0                                                      & 0                                                      & NA                                                     & NA                                                     & NA                                                     & NA                                                     & all\\_nas                                              & 0                                                      & NA                                                     & all\\_nas                                              & NA                                                     & NA                                                     & 1                                                      & 0                                                      & NA                                                     & NA                                                     & rHGG                                                   & 0                                                      & 1                                                      & 1                                                      & NEL                                                   \\\\\n",
       "\t 697                                                    & 5333                                                   & 7691                                                   & Grade III                                              & Oligodendroglioma                                      & 2008-05-12                                             & 2008-05-14                                             &  8422                                                  & 2008-05-16                                             & 49                                                     & Sub-total resection                                    & 90                                                     & NA                                                     & NA                                                     & 0                                                      &   NA                                                   & 2010-05-01                                             & 1                                                      &  719                                                   & M                                                      & 1959-02-25                                             & White                                                  & 52B16                                                  & t5333                                                  & 5-12-08                                                & 5/14/08                                                & 2                                                      & 1                                                      & 2                                                      & 0                                                      & 1                                                      & 1                                                      & 3                                                      & 4.99                                                   &  83.0                                                  & NA                                                     & f                                                      & NA                                                     & 1.70                                                   & 1.64                                                   & 1.40                                                   & 1.09                                                   &  0.36                                                  & 1.52                                                   & 1.50                                                   & 1.34                                                   & 1.37                                                   & 1.21                                                   & 1.27                                                   &   NA                                                   &   NA                                                   &   NA                                                   &   NA                                                   &   NA                                                   &   NA                                                   & 0.69                                                   & 0.60                                                   & 69.69                                                  & 0.65                                                   & 75.48                                                  & NA                                                     & NA                                                     & NA                                                     & NA                                                     & NA                                                     & NA                                                     & NA                                                     & NA                                                     & NA                                                     & 0                                                      & 1                                                      & 0                                                      & 0                                                      & NA                                                     & NA                                                     & NA                                                     & NA                                                     & all\\_nas                                              & 0                                                      & NA                                                     & all\\_nas                                              & NA                                                     & NA                                                     & 1                                                      & 0                                                      & NA                                                     & NA                                                     & rHGG                                                   & 1                                                      & 1                                                      & 0                                                      & CEL                                                   \\\\\n",
       "\t 697                                                    & 5333                                                   & 7691                                                   & Grade III                                              & Oligodendroglioma                                      & 2008-05-12                                             & 2008-05-14                                             &  8422                                                  & 2008-05-16                                             & 49                                                     & Sub-total resection                                    & 90                                                     & NA                                                     & NA                                                     & 0                                                      &   NA                                                   & 2010-05-01                                             & 1                                                      &  719                                                   & M                                                      & 1959-02-25                                             & White                                                  & 53B16                                                  & t5333                                                  & 5-12-08                                                & 5/14/08                                                & 1                                                      & 0                                                      & 1                                                      & 1                                                      & 3                                                      & 1                                                      & 0                                                      & 4.51                                                   &  75.4                                                  & NA                                                     & f                                                      & NA                                                     & 1.20                                                   & 1.39                                                   & 0.86                                                   & 1.12                                                   & -0.23                                                  & 1.32                                                   & 1.06                                                   & 1.11                                                   & 1.21                                                   & 1.21                                                   & 1.19                                                   &   NA                                                   &   NA                                                   &   NA                                                   &   NA                                                   &   NA                                                   &   NA                                                   & 0.56                                                   & 0.60                                                   & 92.08                                                  & 0.58                                                   & 93.62                                                  & NA                                                     & NA                                                     & NA                                                     & NA                                                     & NA                                                     & NA                                                     & NA                                                     & NA                                                     & NA                                                     & 0                                                      & 1                                                      & 0                                                      & 0                                                      & NA                                                     & NA                                                     & NA                                                     & NA                                                     & all\\_nas                                              & 0                                                      & NA                                                     & all\\_nas                                              & NA                                                     & NA                                                     & 1                                                      & 0                                                      & NA                                                     & NA                                                     & unk                                                    & 0                                                      & 0                                                      & 0                                                      & NB                                                    \\\\\n",
       "\\end{tabular}\n"
      ],
      "text/markdown": [
       "\n",
       "b_number | t_number | sf_number | current_hist_grade | current_hist_type | current_scan_date.x | current_surgery_date.x | post_t_number | post_scan_date | age_at_surgery | extent_of_resection | inital_kps | last_contact_date | progression_date | pfs_censored | pfs | date_of_death | os_censored | os | gender | birthdate | race | vialid | t_number_x | current_scan_date.y | current_surgery_date.y | tumor_cell_evaluation | necrosis | mv_hyperplasia | mv_delicate_vasculature | f8_delicate | f8_simple | f8_complex | mib_1 | avgerage_cells | treatment_related_ab | bx_pure_treatment_effect | percent_tumor_nuclei | nfl | nfse | nt1c | nt1v | nt1d | nadc.1 | nfa.1 | nev1.1 | nev2.1 | nev3.1 | nevrad.1 | nadc.2 | nfa.2 | nev1.2 | nev2.2 | nev3.2 | nevrad.2 | cbvn_nlin | phn_nlin | recov_nlin | phn_npar | recov_npar | recovn_npar | ccri | cni | crni | ncho | ncre | nnaa | nlac | nlip | newdata | olddata | exclude_bc_hematoma_or_ventricle | exclude_perf | nLL | comments | perf_quant | include_perf | spec_quant | include_spec | diffu1000_quant | diffu2000_quant | exclude_bc_anat | exclude_bc_pathology | include_diffu1000 | include_diffu2000 | exclude_histology | txe_comments | outcome | in_CEL | in_T2all | in_NEL | CELorNEL | \n",
       "|---|---|---|---|---|---|\n",
       "| 197                                                    | 6243                                                   | 8077                                                   | Treatment Effect                                       | Treatment Effect                                       | 2009-07-15                                             | 2009-07-16                                             | 11078                                                  | 2009-07-18                                             | 56                                                     | Sub-total resection                                    | NA                                                     | 2017-01-27                                             | NA                                                     | 0                                                      | 2753                                                   | NA                                                     | 0                                                      | 2753                                                   | M                                                      | 1953-07-10                                             | White                                                  | 91B26                                                  | t6243                                                  | NA                                                     | 7/16/09                                                | 0                                                      | 0                                                      | 1                                                      | 1                                                      | 3                                                      | 0                                                      | 0                                                      | 0.99                                                   | 200.0                                                  | 0                                                      | t                                                      | NA                                                     | 1.43                                                   | 2.91                                                   | 0.76                                                   | 0.61                                                   |  0.10                                                  | 1.76                                                   | 1.17                                                   | 1.43                                                   | 1.70                                                   | 1.54                                                   | 1.60                                                   | 1.76                                                   | 1.17                                                   | 1.43                                                   | 1.70                                                   | 1.54                                                   | 1.60                                                   | 0.74                                                   | 0.62                                                   | 86.06                                                  | 0.62                                                   | 93.42                                                  | NA                                                     | NA                                                     | NA                                                     | NA                                                     | NA                                                     | NA                                                     | NA                                                     | NA                                                     | NA                                                     | 0                                                      | 1                                                      | 0                                                      | 0                                                      | NA                                                     | increased cellularity, gliosis, rare atypical nuclei   | NA                                                     | NA                                                     | all_nas                                                | 0                                                      | all_nas                                                | NA                                                     | NA                                                     | NA                                                     | 1                                                      | 1                                                      | NA                                                     | True                                                   | txe                                                    | 0                                                      | 1                                                      | 1                                                      | NEL                                                    | \n",
       "| 197                                                    | 6243                                                   | 8077                                                   | Treatment Effect                                       | Treatment Effect                                       | 2009-07-15                                             | 2009-07-16                                             | 11078                                                  | 2009-07-18                                             | 56                                                     | Sub-total resection                                    | NA                                                     | 2017-01-27                                             | NA                                                     | 0                                                      | 2753                                                   | NA                                                     | 0                                                      | 2753                                                   | M                                                      | 1953-07-10                                             | White                                                  | 93B26                                                  | t6243                                                  | NA                                                     | 7/16/09                                                | 0                                                      | 0                                                      | 0                                                      | 0                                                      | 1                                                      | 3                                                      | 0                                                      | 0.99                                                   | 200.0                                                  | 1                                                      | t                                                      | NA                                                     | 0.72                                                   | 6.31                                                   | 0.63                                                   | 0.53                                                   |  0.03                                                  | 2.20                                                   | 0.72                                                   | 1.74                                                   | 2.07                                                   | 2.20                                                   | 2.06                                                   | 2.20                                                   | 0.72                                                   | 1.74                                                   | 2.07                                                   | 2.20                                                   | 2.06                                                   | 1.78                                                   | 1.70                                                   | 86.05                                                  | 1.68                                                   | 87.64                                                  | NA                                                     | NA                                                     | NA                                                     | NA                                                     | NA                                                     | NA                                                     | NA                                                     | NA                                                     | NA                                                     | 0                                                      | 1                                                      | 0                                                      | 0                                                      | NA                                                     | hypercellular, gliosis, hyalinized BV assign to Simple | NA                                                     | NA                                                     | all_nas                                                | 0                                                      | all_nas                                                | NA                                                     | NA                                                     | NA                                                     | 1                                                      | 1                                                      | NA                                                     | True                                                   | txe                                                    | 0                                                      | 0                                                      | 0                                                      | NB                                                     | \n",
       "| 197                                                    | 6243                                                   | 8077                                                   | Treatment Effect                                       | Treatment Effect                                       | 2009-07-15                                             | 2009-07-16                                             | 11078                                                  | 2009-07-18                                             | 56                                                     | Sub-total resection                                    | NA                                                     | 2017-01-27                                             | NA                                                     | 0                                                      | 2753                                                   | NA                                                     | 0                                                      | 2753                                                   | M                                                      | 1953-07-10                                             | White                                                  | 92B26                                                  | t6243                                                  | NA                                                     | 7/16/09                                                | 2                                                      | 1                                                      | 1                                                      | 0                                                      | 1                                                      | 2                                                      | 0                                                      | 0.99                                                   | 200.0                                                  | 1                                                      | f                                                      | NA                                                     | 1.36                                                   | 2.83                                                   | 0.80                                                   | 0.64                                                   |  0.10                                                  | 1.93                                                   | 0.83                                                   | 1.61                                                   | 1.84                                                   | 1.89                                                   | 1.83                                                   | 1.93                                                   | 0.83                                                   | 1.61                                                   | 1.84                                                   | 1.89                                                   | 1.83                                                   | 0.67                                                   | 0.56                                                   | 82.08                                                  | 0.59                                                   | 81.11                                                  | NA                                                     | NA                                                     | NA                                                     | NA                                                     | NA                                                     | NA                                                     | NA                                                     | NA                                                     | NA                                                     | 0                                                      | 1                                                      | 0                                                      | 0                                                      | NA                                                     | SMI31 areas of \"3\"                                     | NA                                                     | NA                                                     | all_nas                                                | 0                                                      | all_nas                                                | NA                                                     | NA                                                     | NA                                                     | 1                                                      | 1                                                      | NA                                                     | False                                                  | rHGG                                                   | 0                                                      | 1                                                      | 1                                                      | NEL                                                    | \n",
       "| 697                                                    | 5333                                                   | 7691                                                   | Grade III                                              | Oligodendroglioma                                      | 2008-05-12                                             | 2008-05-14                                             |  8422                                                  | 2008-05-16                                             | 49                                                     | Sub-total resection                                    | 90                                                     | NA                                                     | NA                                                     | 0                                                      |   NA                                                   | 2010-05-01                                             | 1                                                      |  719                                                   | M                                                      | 1959-02-25                                             | White                                                  | 51B16                                                  | t5333                                                  | 5-12-08                                                | 5/14/08                                                | 2                                                      | 0                                                      | 0                                                      | 1                                                      | 1                                                      | 0                                                      | 1                                                      | 7.94                                                   | 105.8                                                  | NA                                                     | f                                                      | NA                                                     | 1.25                                                   | 1.39                                                   | 0.90                                                   | 1.12                                                   | -0.18                                                  | 1.32                                                   | 1.06                                                   | 1.11                                                   | 1.18                                                   | 1.21                                                   | 1.19                                                   |   NA                                                   |   NA                                                   |   NA                                                   |   NA                                                   |   NA                                                   |   NA                                                   | 0.85                                                   | 0.75                                                   | 72.54                                                  | 0.89                                                   | 79.31                                                  | NA                                                     | NA                                                     | NA                                                     | NA                                                     | NA                                                     | NA                                                     | NA                                                     | NA                                                     | NA                                                     | 0                                                      | 1                                                      | 0                                                      | 0                                                      | NA                                                     | NA                                                     | NA                                                     | NA                                                     | all_nas                                                | 0                                                      | NA                                                     | all_nas                                                | NA                                                     | NA                                                     | 1                                                      | 0                                                      | NA                                                     | NA                                                     | rHGG                                                   | 0                                                      | 1                                                      | 1                                                      | NEL                                                    | \n",
       "| 697                                                    | 5333                                                   | 7691                                                   | Grade III                                              | Oligodendroglioma                                      | 2008-05-12                                             | 2008-05-14                                             |  8422                                                  | 2008-05-16                                             | 49                                                     | Sub-total resection                                    | 90                                                     | NA                                                     | NA                                                     | 0                                                      |   NA                                                   | 2010-05-01                                             | 1                                                      |  719                                                   | M                                                      | 1959-02-25                                             | White                                                  | 52B16                                                  | t5333                                                  | 5-12-08                                                | 5/14/08                                                | 2                                                      | 1                                                      | 2                                                      | 0                                                      | 1                                                      | 1                                                      | 3                                                      | 4.99                                                   |  83.0                                                  | NA                                                     | f                                                      | NA                                                     | 1.70                                                   | 1.64                                                   | 1.40                                                   | 1.09                                                   |  0.36                                                  | 1.52                                                   | 1.50                                                   | 1.34                                                   | 1.37                                                   | 1.21                                                   | 1.27                                                   |   NA                                                   |   NA                                                   |   NA                                                   |   NA                                                   |   NA                                                   |   NA                                                   | 0.69                                                   | 0.60                                                   | 69.69                                                  | 0.65                                                   | 75.48                                                  | NA                                                     | NA                                                     | NA                                                     | NA                                                     | NA                                                     | NA                                                     | NA                                                     | NA                                                     | NA                                                     | 0                                                      | 1                                                      | 0                                                      | 0                                                      | NA                                                     | NA                                                     | NA                                                     | NA                                                     | all_nas                                                | 0                                                      | NA                                                     | all_nas                                                | NA                                                     | NA                                                     | 1                                                      | 0                                                      | NA                                                     | NA                                                     | rHGG                                                   | 1                                                      | 1                                                      | 0                                                      | CEL                                                    | \n",
       "| 697                                                    | 5333                                                   | 7691                                                   | Grade III                                              | Oligodendroglioma                                      | 2008-05-12                                             | 2008-05-14                                             |  8422                                                  | 2008-05-16                                             | 49                                                     | Sub-total resection                                    | 90                                                     | NA                                                     | NA                                                     | 0                                                      |   NA                                                   | 2010-05-01                                             | 1                                                      |  719                                                   | M                                                      | 1959-02-25                                             | White                                                  | 53B16                                                  | t5333                                                  | 5-12-08                                                | 5/14/08                                                | 1                                                      | 0                                                      | 1                                                      | 1                                                      | 3                                                      | 1                                                      | 0                                                      | 4.51                                                   |  75.4                                                  | NA                                                     | f                                                      | NA                                                     | 1.20                                                   | 1.39                                                   | 0.86                                                   | 1.12                                                   | -0.23                                                  | 1.32                                                   | 1.06                                                   | 1.11                                                   | 1.21                                                   | 1.21                                                   | 1.19                                                   |   NA                                                   |   NA                                                   |   NA                                                   |   NA                                                   |   NA                                                   |   NA                                                   | 0.56                                                   | 0.60                                                   | 92.08                                                  | 0.58                                                   | 93.62                                                  | NA                                                     | NA                                                     | NA                                                     | NA                                                     | NA                                                     | NA                                                     | NA                                                     | NA                                                     | NA                                                     | 0                                                      | 1                                                      | 0                                                      | 0                                                      | NA                                                     | NA                                                     | NA                                                     | NA                                                     | all_nas                                                | 0                                                      | NA                                                     | all_nas                                                | NA                                                     | NA                                                     | 1                                                      | 0                                                      | NA                                                     | NA                                                     | unk                                                    | 0                                                      | 0                                                      | 0                                                      | NB                                                     | \n",
       "\n",
       "\n"
      ],
      "text/plain": [
       "  b_number t_number sf_number current_hist_grade current_hist_type\n",
       "1 197      6243     8077      Treatment Effect   Treatment Effect \n",
       "2 197      6243     8077      Treatment Effect   Treatment Effect \n",
       "3 197      6243     8077      Treatment Effect   Treatment Effect \n",
       "4 697      5333     7691      Grade III          Oligodendroglioma\n",
       "5 697      5333     7691      Grade III          Oligodendroglioma\n",
       "6 697      5333     7691      Grade III          Oligodendroglioma\n",
       "  current_scan_date.x current_surgery_date.x post_t_number post_scan_date\n",
       "1 2009-07-15          2009-07-16             11078         2009-07-18    \n",
       "2 2009-07-15          2009-07-16             11078         2009-07-18    \n",
       "3 2009-07-15          2009-07-16             11078         2009-07-18    \n",
       "4 2008-05-12          2008-05-14              8422         2008-05-16    \n",
       "5 2008-05-12          2008-05-14              8422         2008-05-16    \n",
       "6 2008-05-12          2008-05-14              8422         2008-05-16    \n",
       "  age_at_surgery extent_of_resection inital_kps last_contact_date\n",
       "1 56             Sub-total resection NA         2017-01-27       \n",
       "2 56             Sub-total resection NA         2017-01-27       \n",
       "3 56             Sub-total resection NA         2017-01-27       \n",
       "4 49             Sub-total resection 90         NA               \n",
       "5 49             Sub-total resection 90         NA               \n",
       "6 49             Sub-total resection 90         NA               \n",
       "  progression_date pfs_censored pfs  date_of_death os_censored os   gender\n",
       "1 NA               0            2753 NA            0           2753 M     \n",
       "2 NA               0            2753 NA            0           2753 M     \n",
       "3 NA               0            2753 NA            0           2753 M     \n",
       "4 NA               0              NA 2010-05-01    1            719 M     \n",
       "5 NA               0              NA 2010-05-01    1            719 M     \n",
       "6 NA               0              NA 2010-05-01    1            719 M     \n",
       "  birthdate  race  vialid t_number_x current_scan_date.y current_surgery_date.y\n",
       "1 1953-07-10 White 91B26  t6243      <NA>                7/16/09               \n",
       "2 1953-07-10 White 93B26  t6243      <NA>                7/16/09               \n",
       "3 1953-07-10 White 92B26  t6243      <NA>                7/16/09               \n",
       "4 1959-02-25 White 51B16  t5333      5-12-08             5/14/08               \n",
       "5 1959-02-25 White 52B16  t5333      5-12-08             5/14/08               \n",
       "6 1959-02-25 White 53B16  t5333      5-12-08             5/14/08               \n",
       "  tumor_cell_evaluation necrosis mv_hyperplasia mv_delicate_vasculature\n",
       "1 0                     0        1              1                      \n",
       "2 0                     0        0              0                      \n",
       "3 2                     1        1              0                      \n",
       "4 2                     0        0              1                      \n",
       "5 2                     1        2              0                      \n",
       "6 1                     0        1              1                      \n",
       "  f8_delicate f8_simple f8_complex mib_1 avgerage_cells treatment_related_ab\n",
       "1 3           0         0          0.99  200.0          0                   \n",
       "2 1           3         0          0.99  200.0          1                   \n",
       "3 1           2         0          0.99  200.0          1                   \n",
       "4 1           0         1          7.94  105.8          NA                  \n",
       "5 1           1         3          4.99   83.0          NA                  \n",
       "6 3           1         0          4.51   75.4          NA                  \n",
       "  bx_pure_treatment_effect percent_tumor_nuclei nfl  nfse nt1c nt1v nt1d \n",
       "1 t                        NA                   1.43 2.91 0.76 0.61  0.10\n",
       "2 t                        NA                   0.72 6.31 0.63 0.53  0.03\n",
       "3 f                        NA                   1.36 2.83 0.80 0.64  0.10\n",
       "4 f                        NA                   1.25 1.39 0.90 1.12 -0.18\n",
       "5 f                        NA                   1.70 1.64 1.40 1.09  0.36\n",
       "6 f                        NA                   1.20 1.39 0.86 1.12 -0.23\n",
       "  nadc.1 nfa.1 nev1.1 nev2.1 nev3.1 nevrad.1 nadc.2 nfa.2 nev1.2 nev2.2 nev3.2\n",
       "1 1.76   1.17  1.43   1.70   1.54   1.60     1.76   1.17  1.43   1.70   1.54  \n",
       "2 2.20   0.72  1.74   2.07   2.20   2.06     2.20   0.72  1.74   2.07   2.20  \n",
       "3 1.93   0.83  1.61   1.84   1.89   1.83     1.93   0.83  1.61   1.84   1.89  \n",
       "4 1.32   1.06  1.11   1.18   1.21   1.19       NA     NA    NA     NA     NA  \n",
       "5 1.52   1.50  1.34   1.37   1.21   1.27       NA     NA    NA     NA     NA  \n",
       "6 1.32   1.06  1.11   1.21   1.21   1.19       NA     NA    NA     NA     NA  \n",
       "  nevrad.2 cbvn_nlin phn_nlin recov_nlin phn_npar recov_npar recovn_npar ccri\n",
       "1 1.60     0.74      0.62     86.06      0.62     93.42      NA          NA  \n",
       "2 2.06     1.78      1.70     86.05      1.68     87.64      NA          NA  \n",
       "3 1.83     0.67      0.56     82.08      0.59     81.11      NA          NA  \n",
       "4   NA     0.85      0.75     72.54      0.89     79.31      NA          NA  \n",
       "5   NA     0.69      0.60     69.69      0.65     75.48      NA          NA  \n",
       "6   NA     0.56      0.60     92.08      0.58     93.62      NA          NA  \n",
       "  cni crni ncho ncre nnaa nlac nlip newdata olddata\n",
       "1 NA  NA   NA   NA   NA   NA   NA   0       1      \n",
       "2 NA  NA   NA   NA   NA   NA   NA   0       1      \n",
       "3 NA  NA   NA   NA   NA   NA   NA   0       1      \n",
       "4 NA  NA   NA   NA   NA   NA   NA   0       1      \n",
       "5 NA  NA   NA   NA   NA   NA   NA   0       1      \n",
       "6 NA  NA   NA   NA   NA   NA   NA   0       1      \n",
       "  exclude_bc_hematoma_or_ventricle exclude_perf nLL\n",
       "1 0                                0            NA \n",
       "2 0                                0            NA \n",
       "3 0                                0            NA \n",
       "4 0                                0            NA \n",
       "5 0                                0            NA \n",
       "6 0                                0            NA \n",
       "  comments                                               perf_quant\n",
       "1 increased cellularity, gliosis, rare atypical nuclei   NA        \n",
       "2 hypercellular, gliosis, hyalinized BV assign to Simple NA        \n",
       "3 SMI31 areas of \"3\"                                     NA        \n",
       "4 NA                                                     NA        \n",
       "5 NA                                                     NA        \n",
       "6 NA                                                     NA        \n",
       "  include_perf spec_quant include_spec diffu1000_quant diffu2000_quant\n",
       "1 NA           all_nas    0            all_nas         NA             \n",
       "2 NA           all_nas    0            all_nas         NA             \n",
       "3 NA           all_nas    0            all_nas         NA             \n",
       "4 NA           all_nas    0            NA              all_nas        \n",
       "5 NA           all_nas    0            NA              all_nas        \n",
       "6 NA           all_nas    0            NA              all_nas        \n",
       "  exclude_bc_anat exclude_bc_pathology include_diffu1000 include_diffu2000\n",
       "1 NA              NA                   1                 1                \n",
       "2 NA              NA                   1                 1                \n",
       "3 NA              NA                   1                 1                \n",
       "4 NA              NA                   1                 0                \n",
       "5 NA              NA                   1                 0                \n",
       "6 NA              NA                   1                 0                \n",
       "  exclude_histology txe_comments outcome in_CEL in_T2all in_NEL CELorNEL\n",
       "1 NA                True         txe     0      1        1      NEL     \n",
       "2 NA                True         txe     0      0        0      NB      \n",
       "3 NA                False        rHGG    0      1        1      NEL     \n",
       "4 NA                NA           rHGG    0      1        1      NEL     \n",
       "5 NA                NA           rHGG    1      1        0      CEL     \n",
       "6 NA                NA           unk     0      0        0      NB      "
      ]
     },
     "metadata": {},
     "output_type": "display_data"
    },
    {
     "data": {
      "text/html": [
       "<table>\n",
       "<thead><tr><th></th><th scope=col>b_number</th><th scope=col>t_number</th><th scope=col>sf_number</th><th scope=col>current_hist_grade</th><th scope=col>current_hist_type</th><th scope=col>current_scan_date.x</th><th scope=col>current_surgery_date.x</th><th scope=col>post_t_number</th><th scope=col>post_scan_date</th><th scope=col>age_at_surgery</th><th scope=col>extent_of_resection</th><th scope=col>inital_kps</th><th scope=col>last_contact_date</th><th scope=col>progression_date</th><th scope=col>pfs_censored</th><th scope=col>pfs</th><th scope=col>date_of_death</th><th scope=col>os_censored</th><th scope=col>os</th><th scope=col>gender</th><th scope=col>birthdate</th><th scope=col>race</th><th scope=col>vialid</th><th scope=col>t_number_x</th><th scope=col>current_scan_date.y</th><th scope=col>current_surgery_date.y</th><th scope=col>tumor_cell_evaluation</th><th scope=col>necrosis</th><th scope=col>mv_hyperplasia</th><th scope=col>mv_delicate_vasculature</th><th scope=col>f8_delicate</th><th scope=col>f8_simple</th><th scope=col>f8_complex</th><th scope=col>mib_1</th><th scope=col>avgerage_cells</th><th scope=col>treatment_related_ab</th><th scope=col>bx_pure_treatment_effect</th><th scope=col>percent_tumor_nuclei</th><th scope=col>nfl</th><th scope=col>nfse</th><th scope=col>nt1c</th><th scope=col>nt1v</th><th scope=col>nt1d</th><th scope=col>nadc.1</th><th scope=col>nfa.1</th><th scope=col>nev1.1</th><th scope=col>nev2.1</th><th scope=col>nev3.1</th><th scope=col>nevrad.1</th><th scope=col>nadc.2</th><th scope=col>nfa.2</th><th scope=col>nev1.2</th><th scope=col>nev2.2</th><th scope=col>nev3.2</th><th scope=col>nevrad.2</th><th scope=col>cbvn_nlin</th><th scope=col>phn_nlin</th><th scope=col>recov_nlin</th><th scope=col>phn_npar</th><th scope=col>recov_npar</th><th scope=col>recovn_npar</th><th scope=col>ccri</th><th scope=col>cni</th><th scope=col>crni</th><th scope=col>ncho</th><th scope=col>ncre</th><th scope=col>nnaa</th><th scope=col>nlac</th><th scope=col>nlip</th><th scope=col>newdata</th><th scope=col>olddata</th><th scope=col>exclude_bc_hematoma_or_ventricle</th><th scope=col>exclude_perf</th><th scope=col>nLL</th><th scope=col>comments</th><th scope=col>perf_quant</th><th scope=col>include_perf</th><th scope=col>spec_quant</th><th scope=col>include_spec</th><th scope=col>diffu1000_quant</th><th scope=col>diffu2000_quant</th><th scope=col>exclude_bc_anat</th><th scope=col>exclude_bc_pathology</th><th scope=col>include_diffu1000</th><th scope=col>include_diffu2000</th><th scope=col>exclude_histology</th><th scope=col>txe_comments</th><th scope=col>outcome</th><th scope=col>in_CEL</th><th scope=col>in_T2all</th><th scope=col>in_NEL</th><th scope=col>CELorNEL</th></tr></thead>\n",
       "<tbody>\n",
       "\t<tr><th scope=row>312</th><td>3645                        </td><td>9213                        </td><td>10138                       </td><td>Grade IV                    </td><td>Glioblastoma                </td><td>2014-10-22                  </td><td>2014-10-23                  </td><td>9931                        </td><td>2014-10-24                  </td><td>61                          </td><td>Other - See Surgery Comments</td><td>NA                          </td><td>NA                          </td><td>NA                          </td><td>0                           </td><td>NA                          </td><td>2015-02-08                  </td><td>1                           </td><td>109                         </td><td>M                           </td><td>1953-05-17                  </td><td>Asian                       </td><td>47B74                       </td><td>t9213                       </td><td>NA                          </td><td>10/23/14                    </td><td>3                           </td><td>0                           </td><td>2                           </td><td>NA                          </td><td>NA                          </td><td>NA                          </td><td>NA                          </td><td>32.58                       </td><td>NA                          </td><td>NA                          </td><td>f                           </td><td>90                          </td><td>1.78                        </td><td>2.05                        </td><td>1.29                        </td><td>0.78                        </td><td>0.46                        </td><td>1.87                        </td><td>0.50                        </td><td>1.52                        </td><td>1.79                        </td><td>2.07                        </td><td>1.85                        </td><td>1.84                        </td><td>0.72                        </td><td>NA                          </td><td>NA                          </td><td>NA                          </td><td>NA                          </td><td>1.12                        </td><td>1.19                        </td><td>100                         </td><td>1.13                        </td><td>100                         </td><td>100                         </td><td>9.72                        </td><td>13.66                       </td><td>2.41                        </td><td>2.84                        </td><td>0.80                        </td><td>0.28                        </td><td>0.63                        </td><td>0.24                        </td><td>1                           </td><td>0                           </td><td>0                           </td><td>0                           </td><td>0.87                        </td><td>NA                          </td><td>NA                          </td><td>NA                          </td><td>NA                          </td><td>1                           </td><td>NA                          </td><td>NA                          </td><td>NA                          </td><td>NA                          </td><td>1                           </td><td>1                           </td><td>NA                          </td><td>NA                          </td><td>rHGG                        </td><td>1                           </td><td>1                           </td><td>0                           </td><td>CEL                         </td></tr>\n",
       "\t<tr><th scope=row>313</th><td>3645                        </td><td>9213                        </td><td>10138                       </td><td>Grade IV                    </td><td>Glioblastoma                </td><td>2014-10-22                  </td><td>2014-10-23                  </td><td>9931                        </td><td>2014-10-24                  </td><td>61                          </td><td>Other - See Surgery Comments</td><td>NA                          </td><td>NA                          </td><td>NA                          </td><td>0                           </td><td>NA                          </td><td>2015-02-08                  </td><td>1                           </td><td>109                         </td><td>M                           </td><td>1953-05-17                  </td><td>Asian                       </td><td>50B74                       </td><td>t9213                       </td><td>NA                          </td><td>10/23/14                    </td><td>1                           </td><td>0                           </td><td>0                           </td><td>NA                          </td><td>NA                          </td><td>NA                          </td><td>NA                          </td><td> 3.11                       </td><td>NA                          </td><td>NA                          </td><td>t                           </td><td> 5                          </td><td>1.70                        </td><td>1.73                        </td><td>1.12                        </td><td>0.77                        </td><td>0.30                        </td><td>1.68                        </td><td>0.73                        </td><td>1.39                        </td><td>1.69                        </td><td>1.69                        </td><td>1.65                        </td><td>1.62                        </td><td>0.83                        </td><td>NA                          </td><td>NA                          </td><td>NA                          </td><td>NA                          </td><td>0.75                        </td><td>0.83                        </td><td>100                         </td><td>0.83                        </td><td>100                         </td><td>100                         </td><td>1.94                        </td><td> 2.71                       </td><td>0.44                        </td><td>0.52                        </td><td>0.13                        </td><td>0.03                        </td><td>0.38                        </td><td>0.23                        </td><td>1                           </td><td>0                           </td><td>0                           </td><td>0                           </td><td>0.61                        </td><td>NA                          </td><td>NA                          </td><td>NA                          </td><td>NA                          </td><td>1                           </td><td>NA                          </td><td>NA                          </td><td>NA                          </td><td>NA                          </td><td>1                           </td><td>1                           </td><td>NA                          </td><td>NA                          </td><td>unk                         </td><td>1                           </td><td>1                           </td><td>0                           </td><td>CEL                         </td></tr>\n",
       "\t<tr><th scope=row>314</th><td>3645                        </td><td>9213                        </td><td>10138                       </td><td>Grade IV                    </td><td>Glioblastoma                </td><td>2014-10-22                  </td><td>2014-10-23                  </td><td>9931                        </td><td>2014-10-24                  </td><td>61                          </td><td>Other - See Surgery Comments</td><td>NA                          </td><td>NA                          </td><td>NA                          </td><td>0                           </td><td>NA                          </td><td>2015-02-08                  </td><td>1                           </td><td>109                         </td><td>M                           </td><td>1953-05-17                  </td><td>Asian                       </td><td>49B74                       </td><td>t9213                       </td><td>NA                          </td><td>10/23/14                    </td><td>3                           </td><td>0                           </td><td>2                           </td><td>NA                          </td><td>NA                          </td><td>NA                          </td><td>NA                          </td><td>40.81                       </td><td>NA                          </td><td>NA                          </td><td>f                           </td><td>80                          </td><td>1.55                        </td><td>1.65                        </td><td>1.32                        </td><td>0.66                        </td><td>0.61                        </td><td>1.70                        </td><td>0.50                        </td><td>1.39                        </td><td>1.66                        </td><td>1.83                        </td><td>1.73                        </td><td>1.74                        </td><td>0.61                        </td><td>NA                          </td><td>NA                          </td><td>NA                          </td><td>NA                          </td><td>1.62                        </td><td>1.29                        </td><td>100                         </td><td>1.24                        </td><td>100                         </td><td>100                         </td><td>2.14                        </td><td> 3.51                       </td><td>0.94                        </td><td>0.69                        </td><td>0.26                        </td><td>0.07                        </td><td>0.28                        </td><td>0.12                        </td><td>1                           </td><td>0                           </td><td>0                           </td><td>0                           </td><td>0.40                        </td><td>NA                          </td><td>NA                          </td><td>NA                          </td><td>NA                          </td><td>1                           </td><td>NA                          </td><td>NA                          </td><td>NA                          </td><td>NA                          </td><td>1                           </td><td>1                           </td><td>NA                          </td><td>NA                          </td><td>rHGG                        </td><td>1                           </td><td>1                           </td><td>0                           </td><td>CEL                         </td></tr>\n",
       "\t<tr><th scope=row>315</th><td>3645                        </td><td>9213                        </td><td>10138                       </td><td>Grade IV                    </td><td>Glioblastoma                </td><td>2014-10-22                  </td><td>2014-10-23                  </td><td>9931                        </td><td>2014-10-24                  </td><td>61                          </td><td>Other - See Surgery Comments</td><td>NA                          </td><td>NA                          </td><td>NA                          </td><td>0                           </td><td>NA                          </td><td>2015-02-08                  </td><td>1                           </td><td>109                         </td><td>M                           </td><td>1953-05-17                  </td><td>Asian                       </td><td>48B74                       </td><td>t9213                       </td><td>NA                          </td><td>10/23/14                    </td><td>3                           </td><td>0                           </td><td>0                           </td><td>NA                          </td><td>NA                          </td><td>NA                          </td><td>NA                          </td><td>36.11                       </td><td>NA                          </td><td>NA                          </td><td>f                           </td><td>80                          </td><td>1.85                        </td><td>1.83                        </td><td>1.04                        </td><td>0.67                        </td><td>0.33                        </td><td>1.79                        </td><td>0.35                        </td><td>1.39                        </td><td>1.76                        </td><td>2.02                        </td><td>1.81                        </td><td>1.72                        </td><td>0.61                        </td><td>NA                          </td><td>NA                          </td><td>NA                          </td><td>NA                          </td><td>1.44                        </td><td>1.24                        </td><td>100                         </td><td>1.17                        </td><td>100                         </td><td>100                         </td><td>1.64                        </td><td> 2.81                       </td><td>0.74                        </td><td>0.66                        </td><td>0.31                        </td><td>0.14                        </td><td>0.05                        </td><td>0.19                        </td><td>1                           </td><td>0                           </td><td>0                           </td><td>0                           </td><td>0.24                        </td><td>NA                          </td><td>NA                          </td><td>NA                          </td><td>NA                          </td><td>1                           </td><td>NA                          </td><td>NA                          </td><td>NA                          </td><td>NA                          </td><td>1                           </td><td>1                           </td><td>NA                          </td><td>NA                          </td><td>rHGG                        </td><td>1                           </td><td>1                           </td><td>0                           </td><td>CEL                         </td></tr>\n",
       "</tbody>\n",
       "</table>\n"
      ],
      "text/latex": [
       "\\begin{tabular}{r|llllllllllllllllllllllllllllllllllllllllllllllllllllllllllllllllllllllllllllllllllllllllllll}\n",
       "  & b\\_number & t\\_number & sf\\_number & current\\_hist\\_grade & current\\_hist\\_type & current\\_scan\\_date.x & current\\_surgery\\_date.x & post\\_t\\_number & post\\_scan\\_date & age\\_at\\_surgery & extent\\_of\\_resection & inital\\_kps & last\\_contact\\_date & progression\\_date & pfs\\_censored & pfs & date\\_of\\_death & os\\_censored & os & gender & birthdate & race & vialid & t\\_number\\_x & current\\_scan\\_date.y & current\\_surgery\\_date.y & tumor\\_cell\\_evaluation & necrosis & mv\\_hyperplasia & mv\\_delicate\\_vasculature & f8\\_delicate & f8\\_simple & f8\\_complex & mib\\_1 & avgerage\\_cells & treatment\\_related\\_ab & bx\\_pure\\_treatment\\_effect & percent\\_tumor\\_nuclei & nfl & nfse & nt1c & nt1v & nt1d & nadc.1 & nfa.1 & nev1.1 & nev2.1 & nev3.1 & nevrad.1 & nadc.2 & nfa.2 & nev1.2 & nev2.2 & nev3.2 & nevrad.2 & cbvn\\_nlin & phn\\_nlin & recov\\_nlin & phn\\_npar & recov\\_npar & recovn\\_npar & ccri & cni & crni & ncho & ncre & nnaa & nlac & nlip & newdata & olddata & exclude\\_bc\\_hematoma\\_or\\_ventricle & exclude\\_perf & nLL & comments & perf\\_quant & include\\_perf & spec\\_quant & include\\_spec & diffu1000\\_quant & diffu2000\\_quant & exclude\\_bc\\_anat & exclude\\_bc\\_pathology & include\\_diffu1000 & include\\_diffu2000 & exclude\\_histology & txe\\_comments & outcome & in\\_CEL & in\\_T2all & in\\_NEL & CELorNEL\\\\\n",
       "\\hline\n",
       "\t312 & 3645                         & 9213                         & 10138                        & Grade IV                     & Glioblastoma                 & 2014-10-22                   & 2014-10-23                   & 9931                         & 2014-10-24                   & 61                           & Other - See Surgery Comments & NA                           & NA                           & NA                           & 0                            & NA                           & 2015-02-08                   & 1                            & 109                          & M                            & 1953-05-17                   & Asian                        & 47B74                        & t9213                        & NA                           & 10/23/14                     & 3                            & 0                            & 2                            & NA                           & NA                           & NA                           & NA                           & 32.58                        & NA                           & NA                           & f                            & 90                           & 1.78                         & 2.05                         & 1.29                         & 0.78                         & 0.46                         & 1.87                         & 0.50                         & 1.52                         & 1.79                         & 2.07                         & 1.85                         & 1.84                         & 0.72                         & NA                           & NA                           & NA                           & NA                           & 1.12                         & 1.19                         & 100                          & 1.13                         & 100                          & 100                          & 9.72                         & 13.66                        & 2.41                         & 2.84                         & 0.80                         & 0.28                         & 0.63                         & 0.24                         & 1                            & 0                            & 0                            & 0                            & 0.87                         & NA                           & NA                           & NA                           & NA                           & 1                            & NA                           & NA                           & NA                           & NA                           & 1                            & 1                            & NA                           & NA                           & rHGG                         & 1                            & 1                            & 0                            & CEL                         \\\\\n",
       "\t313 & 3645                         & 9213                         & 10138                        & Grade IV                     & Glioblastoma                 & 2014-10-22                   & 2014-10-23                   & 9931                         & 2014-10-24                   & 61                           & Other - See Surgery Comments & NA                           & NA                           & NA                           & 0                            & NA                           & 2015-02-08                   & 1                            & 109                          & M                            & 1953-05-17                   & Asian                        & 50B74                        & t9213                        & NA                           & 10/23/14                     & 1                            & 0                            & 0                            & NA                           & NA                           & NA                           & NA                           &  3.11                        & NA                           & NA                           & t                            &  5                           & 1.70                         & 1.73                         & 1.12                         & 0.77                         & 0.30                         & 1.68                         & 0.73                         & 1.39                         & 1.69                         & 1.69                         & 1.65                         & 1.62                         & 0.83                         & NA                           & NA                           & NA                           & NA                           & 0.75                         & 0.83                         & 100                          & 0.83                         & 100                          & 100                          & 1.94                         &  2.71                        & 0.44                         & 0.52                         & 0.13                         & 0.03                         & 0.38                         & 0.23                         & 1                            & 0                            & 0                            & 0                            & 0.61                         & NA                           & NA                           & NA                           & NA                           & 1                            & NA                           & NA                           & NA                           & NA                           & 1                            & 1                            & NA                           & NA                           & unk                          & 1                            & 1                            & 0                            & CEL                         \\\\\n",
       "\t314 & 3645                         & 9213                         & 10138                        & Grade IV                     & Glioblastoma                 & 2014-10-22                   & 2014-10-23                   & 9931                         & 2014-10-24                   & 61                           & Other - See Surgery Comments & NA                           & NA                           & NA                           & 0                            & NA                           & 2015-02-08                   & 1                            & 109                          & M                            & 1953-05-17                   & Asian                        & 49B74                        & t9213                        & NA                           & 10/23/14                     & 3                            & 0                            & 2                            & NA                           & NA                           & NA                           & NA                           & 40.81                        & NA                           & NA                           & f                            & 80                           & 1.55                         & 1.65                         & 1.32                         & 0.66                         & 0.61                         & 1.70                         & 0.50                         & 1.39                         & 1.66                         & 1.83                         & 1.73                         & 1.74                         & 0.61                         & NA                           & NA                           & NA                           & NA                           & 1.62                         & 1.29                         & 100                          & 1.24                         & 100                          & 100                          & 2.14                         &  3.51                        & 0.94                         & 0.69                         & 0.26                         & 0.07                         & 0.28                         & 0.12                         & 1                            & 0                            & 0                            & 0                            & 0.40                         & NA                           & NA                           & NA                           & NA                           & 1                            & NA                           & NA                           & NA                           & NA                           & 1                            & 1                            & NA                           & NA                           & rHGG                         & 1                            & 1                            & 0                            & CEL                         \\\\\n",
       "\t315 & 3645                         & 9213                         & 10138                        & Grade IV                     & Glioblastoma                 & 2014-10-22                   & 2014-10-23                   & 9931                         & 2014-10-24                   & 61                           & Other - See Surgery Comments & NA                           & NA                           & NA                           & 0                            & NA                           & 2015-02-08                   & 1                            & 109                          & M                            & 1953-05-17                   & Asian                        & 48B74                        & t9213                        & NA                           & 10/23/14                     & 3                            & 0                            & 0                            & NA                           & NA                           & NA                           & NA                           & 36.11                        & NA                           & NA                           & f                            & 80                           & 1.85                         & 1.83                         & 1.04                         & 0.67                         & 0.33                         & 1.79                         & 0.35                         & 1.39                         & 1.76                         & 2.02                         & 1.81                         & 1.72                         & 0.61                         & NA                           & NA                           & NA                           & NA                           & 1.44                         & 1.24                         & 100                          & 1.17                         & 100                          & 100                          & 1.64                         &  2.81                        & 0.74                         & 0.66                         & 0.31                         & 0.14                         & 0.05                         & 0.19                         & 1                            & 0                            & 0                            & 0                            & 0.24                         & NA                           & NA                           & NA                           & NA                           & 1                            & NA                           & NA                           & NA                           & NA                           & 1                            & 1                            & NA                           & NA                           & rHGG                         & 1                            & 1                            & 0                            & CEL                         \\\\\n",
       "\\end{tabular}\n"
      ],
      "text/markdown": [
       "\n",
       "| <!--/--> | b_number | t_number | sf_number | current_hist_grade | current_hist_type | current_scan_date.x | current_surgery_date.x | post_t_number | post_scan_date | age_at_surgery | extent_of_resection | inital_kps | last_contact_date | progression_date | pfs_censored | pfs | date_of_death | os_censored | os | gender | birthdate | race | vialid | t_number_x | current_scan_date.y | current_surgery_date.y | tumor_cell_evaluation | necrosis | mv_hyperplasia | mv_delicate_vasculature | f8_delicate | f8_simple | f8_complex | mib_1 | avgerage_cells | treatment_related_ab | bx_pure_treatment_effect | percent_tumor_nuclei | nfl | nfse | nt1c | nt1v | nt1d | nadc.1 | nfa.1 | nev1.1 | nev2.1 | nev3.1 | nevrad.1 | nadc.2 | nfa.2 | nev1.2 | nev2.2 | nev3.2 | nevrad.2 | cbvn_nlin | phn_nlin | recov_nlin | phn_npar | recov_npar | recovn_npar | ccri | cni | crni | ncho | ncre | nnaa | nlac | nlip | newdata | olddata | exclude_bc_hematoma_or_ventricle | exclude_perf | nLL | comments | perf_quant | include_perf | spec_quant | include_spec | diffu1000_quant | diffu2000_quant | exclude_bc_anat | exclude_bc_pathology | include_diffu1000 | include_diffu2000 | exclude_histology | txe_comments | outcome | in_CEL | in_T2all | in_NEL | CELorNEL | \n",
       "|---|---|---|---|\n",
       "| 312 | 3645                         | 9213                         | 10138                        | Grade IV                     | Glioblastoma                 | 2014-10-22                   | 2014-10-23                   | 9931                         | 2014-10-24                   | 61                           | Other - See Surgery Comments | NA                           | NA                           | NA                           | 0                            | NA                           | 2015-02-08                   | 1                            | 109                          | M                            | 1953-05-17                   | Asian                        | 47B74                        | t9213                        | NA                           | 10/23/14                     | 3                            | 0                            | 2                            | NA                           | NA                           | NA                           | NA                           | 32.58                        | NA                           | NA                           | f                            | 90                           | 1.78                         | 2.05                         | 1.29                         | 0.78                         | 0.46                         | 1.87                         | 0.50                         | 1.52                         | 1.79                         | 2.07                         | 1.85                         | 1.84                         | 0.72                         | NA                           | NA                           | NA                           | NA                           | 1.12                         | 1.19                         | 100                          | 1.13                         | 100                          | 100                          | 9.72                         | 13.66                        | 2.41                         | 2.84                         | 0.80                         | 0.28                         | 0.63                         | 0.24                         | 1                            | 0                            | 0                            | 0                            | 0.87                         | NA                           | NA                           | NA                           | NA                           | 1                            | NA                           | NA                           | NA                           | NA                           | 1                            | 1                            | NA                           | NA                           | rHGG                         | 1                            | 1                            | 0                            | CEL                          | \n",
       "| 313 | 3645                         | 9213                         | 10138                        | Grade IV                     | Glioblastoma                 | 2014-10-22                   | 2014-10-23                   | 9931                         | 2014-10-24                   | 61                           | Other - See Surgery Comments | NA                           | NA                           | NA                           | 0                            | NA                           | 2015-02-08                   | 1                            | 109                          | M                            | 1953-05-17                   | Asian                        | 50B74                        | t9213                        | NA                           | 10/23/14                     | 1                            | 0                            | 0                            | NA                           | NA                           | NA                           | NA                           |  3.11                        | NA                           | NA                           | t                            |  5                           | 1.70                         | 1.73                         | 1.12                         | 0.77                         | 0.30                         | 1.68                         | 0.73                         | 1.39                         | 1.69                         | 1.69                         | 1.65                         | 1.62                         | 0.83                         | NA                           | NA                           | NA                           | NA                           | 0.75                         | 0.83                         | 100                          | 0.83                         | 100                          | 100                          | 1.94                         |  2.71                        | 0.44                         | 0.52                         | 0.13                         | 0.03                         | 0.38                         | 0.23                         | 1                            | 0                            | 0                            | 0                            | 0.61                         | NA                           | NA                           | NA                           | NA                           | 1                            | NA                           | NA                           | NA                           | NA                           | 1                            | 1                            | NA                           | NA                           | unk                          | 1                            | 1                            | 0                            | CEL                          | \n",
       "| 314 | 3645                         | 9213                         | 10138                        | Grade IV                     | Glioblastoma                 | 2014-10-22                   | 2014-10-23                   | 9931                         | 2014-10-24                   | 61                           | Other - See Surgery Comments | NA                           | NA                           | NA                           | 0                            | NA                           | 2015-02-08                   | 1                            | 109                          | M                            | 1953-05-17                   | Asian                        | 49B74                        | t9213                        | NA                           | 10/23/14                     | 3                            | 0                            | 2                            | NA                           | NA                           | NA                           | NA                           | 40.81                        | NA                           | NA                           | f                            | 80                           | 1.55                         | 1.65                         | 1.32                         | 0.66                         | 0.61                         | 1.70                         | 0.50                         | 1.39                         | 1.66                         | 1.83                         | 1.73                         | 1.74                         | 0.61                         | NA                           | NA                           | NA                           | NA                           | 1.62                         | 1.29                         | 100                          | 1.24                         | 100                          | 100                          | 2.14                         |  3.51                        | 0.94                         | 0.69                         | 0.26                         | 0.07                         | 0.28                         | 0.12                         | 1                            | 0                            | 0                            | 0                            | 0.40                         | NA                           | NA                           | NA                           | NA                           | 1                            | NA                           | NA                           | NA                           | NA                           | 1                            | 1                            | NA                           | NA                           | rHGG                         | 1                            | 1                            | 0                            | CEL                          | \n",
       "| 315 | 3645                         | 9213                         | 10138                        | Grade IV                     | Glioblastoma                 | 2014-10-22                   | 2014-10-23                   | 9931                         | 2014-10-24                   | 61                           | Other - See Surgery Comments | NA                           | NA                           | NA                           | 0                            | NA                           | 2015-02-08                   | 1                            | 109                          | M                            | 1953-05-17                   | Asian                        | 48B74                        | t9213                        | NA                           | 10/23/14                     | 3                            | 0                            | 0                            | NA                           | NA                           | NA                           | NA                           | 36.11                        | NA                           | NA                           | f                            | 80                           | 1.85                         | 1.83                         | 1.04                         | 0.67                         | 0.33                         | 1.79                         | 0.35                         | 1.39                         | 1.76                         | 2.02                         | 1.81                         | 1.72                         | 0.61                         | NA                           | NA                           | NA                           | NA                           | 1.44                         | 1.24                         | 100                          | 1.17                         | 100                          | 100                          | 1.64                         |  2.81                        | 0.74                         | 0.66                         | 0.31                         | 0.14                         | 0.05                         | 0.19                         | 1                            | 0                            | 0                            | 0                            | 0.24                         | NA                           | NA                           | NA                           | NA                           | 1                            | NA                           | NA                           | NA                           | NA                           | 1                            | 1                            | NA                           | NA                           | rHGG                         | 1                            | 1                            | 0                            | CEL                          | \n",
       "\n",
       "\n"
      ],
      "text/plain": [
       "    b_number t_number sf_number current_hist_grade current_hist_type\n",
       "312 3645     9213     10138     Grade IV           Glioblastoma     \n",
       "313 3645     9213     10138     Grade IV           Glioblastoma     \n",
       "314 3645     9213     10138     Grade IV           Glioblastoma     \n",
       "315 3645     9213     10138     Grade IV           Glioblastoma     \n",
       "    current_scan_date.x current_surgery_date.x post_t_number post_scan_date\n",
       "312 2014-10-22          2014-10-23             9931          2014-10-24    \n",
       "313 2014-10-22          2014-10-23             9931          2014-10-24    \n",
       "314 2014-10-22          2014-10-23             9931          2014-10-24    \n",
       "315 2014-10-22          2014-10-23             9931          2014-10-24    \n",
       "    age_at_surgery extent_of_resection          inital_kps last_contact_date\n",
       "312 61             Other - See Surgery Comments NA         NA               \n",
       "313 61             Other - See Surgery Comments NA         NA               \n",
       "314 61             Other - See Surgery Comments NA         NA               \n",
       "315 61             Other - See Surgery Comments NA         NA               \n",
       "    progression_date pfs_censored pfs date_of_death os_censored os  gender\n",
       "312 NA               0            NA  2015-02-08    1           109 M     \n",
       "313 NA               0            NA  2015-02-08    1           109 M     \n",
       "314 NA               0            NA  2015-02-08    1           109 M     \n",
       "315 NA               0            NA  2015-02-08    1           109 M     \n",
       "    birthdate  race  vialid t_number_x current_scan_date.y\n",
       "312 1953-05-17 Asian 47B74  t9213      <NA>               \n",
       "313 1953-05-17 Asian 50B74  t9213      <NA>               \n",
       "314 1953-05-17 Asian 49B74  t9213      <NA>               \n",
       "315 1953-05-17 Asian 48B74  t9213      <NA>               \n",
       "    current_surgery_date.y tumor_cell_evaluation necrosis mv_hyperplasia\n",
       "312 10/23/14               3                     0        2             \n",
       "313 10/23/14               1                     0        0             \n",
       "314 10/23/14               3                     0        2             \n",
       "315 10/23/14               3                     0        0             \n",
       "    mv_delicate_vasculature f8_delicate f8_simple f8_complex mib_1\n",
       "312 NA                      NA          NA        NA         32.58\n",
       "313 NA                      NA          NA        NA          3.11\n",
       "314 NA                      NA          NA        NA         40.81\n",
       "315 NA                      NA          NA        NA         36.11\n",
       "    avgerage_cells treatment_related_ab bx_pure_treatment_effect\n",
       "312 NA             NA                   f                       \n",
       "313 NA             NA                   t                       \n",
       "314 NA             NA                   f                       \n",
       "315 NA             NA                   f                       \n",
       "    percent_tumor_nuclei nfl  nfse nt1c nt1v nt1d nadc.1 nfa.1 nev1.1 nev2.1\n",
       "312 90                   1.78 2.05 1.29 0.78 0.46 1.87   0.50  1.52   1.79  \n",
       "313  5                   1.70 1.73 1.12 0.77 0.30 1.68   0.73  1.39   1.69  \n",
       "314 80                   1.55 1.65 1.32 0.66 0.61 1.70   0.50  1.39   1.66  \n",
       "315 80                   1.85 1.83 1.04 0.67 0.33 1.79   0.35  1.39   1.76  \n",
       "    nev3.1 nevrad.1 nadc.2 nfa.2 nev1.2 nev2.2 nev3.2 nevrad.2 cbvn_nlin\n",
       "312 2.07   1.85     1.84   0.72  NA     NA     NA     NA       1.12     \n",
       "313 1.69   1.65     1.62   0.83  NA     NA     NA     NA       0.75     \n",
       "314 1.83   1.73     1.74   0.61  NA     NA     NA     NA       1.62     \n",
       "315 2.02   1.81     1.72   0.61  NA     NA     NA     NA       1.44     \n",
       "    phn_nlin recov_nlin phn_npar recov_npar recovn_npar ccri cni   crni ncho\n",
       "312 1.19     100        1.13     100        100         9.72 13.66 2.41 2.84\n",
       "313 0.83     100        0.83     100        100         1.94  2.71 0.44 0.52\n",
       "314 1.29     100        1.24     100        100         2.14  3.51 0.94 0.69\n",
       "315 1.24     100        1.17     100        100         1.64  2.81 0.74 0.66\n",
       "    ncre nnaa nlac nlip newdata olddata exclude_bc_hematoma_or_ventricle\n",
       "312 0.80 0.28 0.63 0.24 1       0       0                               \n",
       "313 0.13 0.03 0.38 0.23 1       0       0                               \n",
       "314 0.26 0.07 0.28 0.12 1       0       0                               \n",
       "315 0.31 0.14 0.05 0.19 1       0       0                               \n",
       "    exclude_perf nLL  comments perf_quant include_perf spec_quant include_spec\n",
       "312 0            0.87 NA       NA         NA           NA         1           \n",
       "313 0            0.61 NA       NA         NA           NA         1           \n",
       "314 0            0.40 NA       NA         NA           NA         1           \n",
       "315 0            0.24 NA       NA         NA           NA         1           \n",
       "    diffu1000_quant diffu2000_quant exclude_bc_anat exclude_bc_pathology\n",
       "312 NA              NA              NA              NA                  \n",
       "313 NA              NA              NA              NA                  \n",
       "314 NA              NA              NA              NA                  \n",
       "315 NA              NA              NA              NA                  \n",
       "    include_diffu1000 include_diffu2000 exclude_histology txe_comments outcome\n",
       "312 1                 1                 NA                NA           rHGG   \n",
       "313 1                 1                 NA                NA           unk    \n",
       "314 1                 1                 NA                NA           rHGG   \n",
       "315 1                 1                 NA                NA           rHGG   \n",
       "    in_CEL in_T2all in_NEL CELorNEL\n",
       "312 1      1        0      CEL     \n",
       "313 1      1        0      CEL     \n",
       "314 1      1        0      CEL     \n",
       "315 1      1        0      CEL     "
      ]
     },
     "metadata": {},
     "output_type": "display_data"
    }
   ],
   "source": [
    "head(merged)\n",
    "merged[which(merged$b_number == 3645),]"
   ]
  },
  {
   "cell_type": "code",
   "execution_count": 17,
   "metadata": {},
   "outputs": [],
   "source": [
    "recgli = merged"
   ]
  },
  {
   "cell_type": "code",
   "execution_count": 18,
   "metadata": {},
   "outputs": [],
   "source": [
    "options(repr.matrix.max.rows=600, repr.matrix.max.cols=200)\n",
    "\n",
    "temp = matrix(nrow = 3, ncol = 4)\n",
    "colnames(temp) = c(\"data\", \"patients\", \"scans\", \"samples\")\n",
    "temp[1,1] = \"old_po1\"\n",
    "temp[2,1] = \"REC_HGG\"\n",
    "temp[3,1] = \"TOTAL\""
   ]
  },
  {
   "cell_type": "code",
   "execution_count": 19,
   "metadata": {},
   "outputs": [
    {
     "data": {
      "text/plain": [
       "\n",
       "FALSE  TRUE \n",
       "  480    99 "
      ]
     },
     "metadata": {},
     "output_type": "display_data"
    }
   ],
   "source": [
    "## looking at duplicates: \n",
    "table(duplicated(recgli$vialid))"
   ]
  },
  {
   "cell_type": "code",
   "execution_count": 20,
   "metadata": {},
   "outputs": [],
   "source": [
    "recgli = recgli[which(!duplicated(recgli$vialid)),]"
   ]
  },
  {
   "cell_type": "code",
   "execution_count": 21,
   "metadata": {},
   "outputs": [],
   "source": [
    "## remove patients with no scan number: \n",
    "recgli = recgli[which(!is.na(recgli$t_number)),]"
   ]
  },
  {
   "cell_type": "code",
   "execution_count": 22,
   "metadata": {},
   "outputs": [
    {
     "data": {
      "text/html": [
       "<ol class=list-inline>\n",
       "\t<li>'b_number'</li>\n",
       "\t<li>'t_number'</li>\n",
       "\t<li>'sf_number'</li>\n",
       "\t<li>'current_hist_grade'</li>\n",
       "\t<li>'current_hist_type'</li>\n",
       "\t<li>'current_scan_date.x'</li>\n",
       "\t<li>'current_surgery_date.x'</li>\n",
       "\t<li>'post_t_number'</li>\n",
       "\t<li>'post_scan_date'</li>\n",
       "\t<li>'age_at_surgery'</li>\n",
       "\t<li>'extent_of_resection'</li>\n",
       "\t<li>'inital_kps'</li>\n",
       "\t<li>'last_contact_date'</li>\n",
       "\t<li>'progression_date'</li>\n",
       "\t<li>'pfs_censored'</li>\n",
       "\t<li>'pfs'</li>\n",
       "\t<li>'date_of_death'</li>\n",
       "\t<li>'os_censored'</li>\n",
       "\t<li>'os'</li>\n",
       "\t<li>'gender'</li>\n",
       "\t<li>'birthdate'</li>\n",
       "\t<li>'race'</li>\n",
       "\t<li>'vialid'</li>\n",
       "\t<li>'t_number_x'</li>\n",
       "\t<li>'current_scan_date.y'</li>\n",
       "\t<li>'current_surgery_date.y'</li>\n",
       "\t<li>'tumor_cell_evaluation'</li>\n",
       "\t<li>'necrosis'</li>\n",
       "\t<li>'mv_hyperplasia'</li>\n",
       "\t<li>'mv_delicate_vasculature'</li>\n",
       "\t<li>'f8_delicate'</li>\n",
       "\t<li>'f8_simple'</li>\n",
       "\t<li>'f8_complex'</li>\n",
       "\t<li>'mib_1'</li>\n",
       "\t<li>'avgerage_cells'</li>\n",
       "\t<li>'treatment_related_ab'</li>\n",
       "\t<li>'bx_pure_treatment_effect'</li>\n",
       "\t<li>'percent_tumor_nuclei'</li>\n",
       "\t<li>'nfl'</li>\n",
       "\t<li>'nfse'</li>\n",
       "\t<li>'nt1c'</li>\n",
       "\t<li>'nt1v'</li>\n",
       "\t<li>'nt1d'</li>\n",
       "\t<li>'nadc.1'</li>\n",
       "\t<li>'nfa.1'</li>\n",
       "\t<li>'nev1.1'</li>\n",
       "\t<li>'nev2.1'</li>\n",
       "\t<li>'nev3.1'</li>\n",
       "\t<li>'nevrad.1'</li>\n",
       "\t<li>'nadc.2'</li>\n",
       "\t<li>'nfa.2'</li>\n",
       "\t<li>'nev1.2'</li>\n",
       "\t<li>'nev2.2'</li>\n",
       "\t<li>'nev3.2'</li>\n",
       "\t<li>'nevrad.2'</li>\n",
       "\t<li>'cbvn_nlin'</li>\n",
       "\t<li>'phn_nlin'</li>\n",
       "\t<li>'recov_nlin'</li>\n",
       "\t<li>'phn_npar'</li>\n",
       "\t<li>'recov_npar'</li>\n",
       "\t<li>'recovn_npar'</li>\n",
       "\t<li>'ccri'</li>\n",
       "\t<li>'cni'</li>\n",
       "\t<li>'crni'</li>\n",
       "\t<li>'ncho'</li>\n",
       "\t<li>'ncre'</li>\n",
       "\t<li>'nnaa'</li>\n",
       "\t<li>'nlac'</li>\n",
       "\t<li>'nlip'</li>\n",
       "\t<li>'newdata'</li>\n",
       "\t<li>'olddata'</li>\n",
       "\t<li>'exclude_bc_hematoma_or_ventricle'</li>\n",
       "\t<li>'exclude_perf'</li>\n",
       "\t<li>'nLL'</li>\n",
       "\t<li>'comments'</li>\n",
       "\t<li>'perf_quant'</li>\n",
       "\t<li>'include_perf'</li>\n",
       "\t<li>'spec_quant'</li>\n",
       "\t<li>'include_spec'</li>\n",
       "\t<li>'diffu1000_quant'</li>\n",
       "\t<li>'diffu2000_quant'</li>\n",
       "\t<li>'exclude_bc_anat'</li>\n",
       "\t<li>'exclude_bc_pathology'</li>\n",
       "\t<li>'include_diffu1000'</li>\n",
       "\t<li>'include_diffu2000'</li>\n",
       "\t<li>'exclude_histology'</li>\n",
       "\t<li>'txe_comments'</li>\n",
       "\t<li>'outcome'</li>\n",
       "\t<li>'in_CEL'</li>\n",
       "\t<li>'in_T2all'</li>\n",
       "\t<li>'in_NEL'</li>\n",
       "\t<li>'CELorNEL'</li>\n",
       "</ol>\n"
      ],
      "text/latex": [
       "\\begin{enumerate*}\n",
       "\\item 'b\\_number'\n",
       "\\item 't\\_number'\n",
       "\\item 'sf\\_number'\n",
       "\\item 'current\\_hist\\_grade'\n",
       "\\item 'current\\_hist\\_type'\n",
       "\\item 'current\\_scan\\_date.x'\n",
       "\\item 'current\\_surgery\\_date.x'\n",
       "\\item 'post\\_t\\_number'\n",
       "\\item 'post\\_scan\\_date'\n",
       "\\item 'age\\_at\\_surgery'\n",
       "\\item 'extent\\_of\\_resection'\n",
       "\\item 'inital\\_kps'\n",
       "\\item 'last\\_contact\\_date'\n",
       "\\item 'progression\\_date'\n",
       "\\item 'pfs\\_censored'\n",
       "\\item 'pfs'\n",
       "\\item 'date\\_of\\_death'\n",
       "\\item 'os\\_censored'\n",
       "\\item 'os'\n",
       "\\item 'gender'\n",
       "\\item 'birthdate'\n",
       "\\item 'race'\n",
       "\\item 'vialid'\n",
       "\\item 't\\_number\\_x'\n",
       "\\item 'current\\_scan\\_date.y'\n",
       "\\item 'current\\_surgery\\_date.y'\n",
       "\\item 'tumor\\_cell\\_evaluation'\n",
       "\\item 'necrosis'\n",
       "\\item 'mv\\_hyperplasia'\n",
       "\\item 'mv\\_delicate\\_vasculature'\n",
       "\\item 'f8\\_delicate'\n",
       "\\item 'f8\\_simple'\n",
       "\\item 'f8\\_complex'\n",
       "\\item 'mib\\_1'\n",
       "\\item 'avgerage\\_cells'\n",
       "\\item 'treatment\\_related\\_ab'\n",
       "\\item 'bx\\_pure\\_treatment\\_effect'\n",
       "\\item 'percent\\_tumor\\_nuclei'\n",
       "\\item 'nfl'\n",
       "\\item 'nfse'\n",
       "\\item 'nt1c'\n",
       "\\item 'nt1v'\n",
       "\\item 'nt1d'\n",
       "\\item 'nadc.1'\n",
       "\\item 'nfa.1'\n",
       "\\item 'nev1.1'\n",
       "\\item 'nev2.1'\n",
       "\\item 'nev3.1'\n",
       "\\item 'nevrad.1'\n",
       "\\item 'nadc.2'\n",
       "\\item 'nfa.2'\n",
       "\\item 'nev1.2'\n",
       "\\item 'nev2.2'\n",
       "\\item 'nev3.2'\n",
       "\\item 'nevrad.2'\n",
       "\\item 'cbvn\\_nlin'\n",
       "\\item 'phn\\_nlin'\n",
       "\\item 'recov\\_nlin'\n",
       "\\item 'phn\\_npar'\n",
       "\\item 'recov\\_npar'\n",
       "\\item 'recovn\\_npar'\n",
       "\\item 'ccri'\n",
       "\\item 'cni'\n",
       "\\item 'crni'\n",
       "\\item 'ncho'\n",
       "\\item 'ncre'\n",
       "\\item 'nnaa'\n",
       "\\item 'nlac'\n",
       "\\item 'nlip'\n",
       "\\item 'newdata'\n",
       "\\item 'olddata'\n",
       "\\item 'exclude\\_bc\\_hematoma\\_or\\_ventricle'\n",
       "\\item 'exclude\\_perf'\n",
       "\\item 'nLL'\n",
       "\\item 'comments'\n",
       "\\item 'perf\\_quant'\n",
       "\\item 'include\\_perf'\n",
       "\\item 'spec\\_quant'\n",
       "\\item 'include\\_spec'\n",
       "\\item 'diffu1000\\_quant'\n",
       "\\item 'diffu2000\\_quant'\n",
       "\\item 'exclude\\_bc\\_anat'\n",
       "\\item 'exclude\\_bc\\_pathology'\n",
       "\\item 'include\\_diffu1000'\n",
       "\\item 'include\\_diffu2000'\n",
       "\\item 'exclude\\_histology'\n",
       "\\item 'txe\\_comments'\n",
       "\\item 'outcome'\n",
       "\\item 'in\\_CEL'\n",
       "\\item 'in\\_T2all'\n",
       "\\item 'in\\_NEL'\n",
       "\\item 'CELorNEL'\n",
       "\\end{enumerate*}\n"
      ],
      "text/markdown": [
       "1. 'b_number'\n",
       "2. 't_number'\n",
       "3. 'sf_number'\n",
       "4. 'current_hist_grade'\n",
       "5. 'current_hist_type'\n",
       "6. 'current_scan_date.x'\n",
       "7. 'current_surgery_date.x'\n",
       "8. 'post_t_number'\n",
       "9. 'post_scan_date'\n",
       "10. 'age_at_surgery'\n",
       "11. 'extent_of_resection'\n",
       "12. 'inital_kps'\n",
       "13. 'last_contact_date'\n",
       "14. 'progression_date'\n",
       "15. 'pfs_censored'\n",
       "16. 'pfs'\n",
       "17. 'date_of_death'\n",
       "18. 'os_censored'\n",
       "19. 'os'\n",
       "20. 'gender'\n",
       "21. 'birthdate'\n",
       "22. 'race'\n",
       "23. 'vialid'\n",
       "24. 't_number_x'\n",
       "25. 'current_scan_date.y'\n",
       "26. 'current_surgery_date.y'\n",
       "27. 'tumor_cell_evaluation'\n",
       "28. 'necrosis'\n",
       "29. 'mv_hyperplasia'\n",
       "30. 'mv_delicate_vasculature'\n",
       "31. 'f8_delicate'\n",
       "32. 'f8_simple'\n",
       "33. 'f8_complex'\n",
       "34. 'mib_1'\n",
       "35. 'avgerage_cells'\n",
       "36. 'treatment_related_ab'\n",
       "37. 'bx_pure_treatment_effect'\n",
       "38. 'percent_tumor_nuclei'\n",
       "39. 'nfl'\n",
       "40. 'nfse'\n",
       "41. 'nt1c'\n",
       "42. 'nt1v'\n",
       "43. 'nt1d'\n",
       "44. 'nadc.1'\n",
       "45. 'nfa.1'\n",
       "46. 'nev1.1'\n",
       "47. 'nev2.1'\n",
       "48. 'nev3.1'\n",
       "49. 'nevrad.1'\n",
       "50. 'nadc.2'\n",
       "51. 'nfa.2'\n",
       "52. 'nev1.2'\n",
       "53. 'nev2.2'\n",
       "54. 'nev3.2'\n",
       "55. 'nevrad.2'\n",
       "56. 'cbvn_nlin'\n",
       "57. 'phn_nlin'\n",
       "58. 'recov_nlin'\n",
       "59. 'phn_npar'\n",
       "60. 'recov_npar'\n",
       "61. 'recovn_npar'\n",
       "62. 'ccri'\n",
       "63. 'cni'\n",
       "64. 'crni'\n",
       "65. 'ncho'\n",
       "66. 'ncre'\n",
       "67. 'nnaa'\n",
       "68. 'nlac'\n",
       "69. 'nlip'\n",
       "70. 'newdata'\n",
       "71. 'olddata'\n",
       "72. 'exclude_bc_hematoma_or_ventricle'\n",
       "73. 'exclude_perf'\n",
       "74. 'nLL'\n",
       "75. 'comments'\n",
       "76. 'perf_quant'\n",
       "77. 'include_perf'\n",
       "78. 'spec_quant'\n",
       "79. 'include_spec'\n",
       "80. 'diffu1000_quant'\n",
       "81. 'diffu2000_quant'\n",
       "82. 'exclude_bc_anat'\n",
       "83. 'exclude_bc_pathology'\n",
       "84. 'include_diffu1000'\n",
       "85. 'include_diffu2000'\n",
       "86. 'exclude_histology'\n",
       "87. 'txe_comments'\n",
       "88. 'outcome'\n",
       "89. 'in_CEL'\n",
       "90. 'in_T2all'\n",
       "91. 'in_NEL'\n",
       "92. 'CELorNEL'\n",
       "\n",
       "\n"
      ],
      "text/plain": [
       " [1] \"b_number\"                         \"t_number\"                        \n",
       " [3] \"sf_number\"                        \"current_hist_grade\"              \n",
       " [5] \"current_hist_type\"                \"current_scan_date.x\"             \n",
       " [7] \"current_surgery_date.x\"           \"post_t_number\"                   \n",
       " [9] \"post_scan_date\"                   \"age_at_surgery\"                  \n",
       "[11] \"extent_of_resection\"              \"inital_kps\"                      \n",
       "[13] \"last_contact_date\"                \"progression_date\"                \n",
       "[15] \"pfs_censored\"                     \"pfs\"                             \n",
       "[17] \"date_of_death\"                    \"os_censored\"                     \n",
       "[19] \"os\"                               \"gender\"                          \n",
       "[21] \"birthdate\"                        \"race\"                            \n",
       "[23] \"vialid\"                           \"t_number_x\"                      \n",
       "[25] \"current_scan_date.y\"              \"current_surgery_date.y\"          \n",
       "[27] \"tumor_cell_evaluation\"            \"necrosis\"                        \n",
       "[29] \"mv_hyperplasia\"                   \"mv_delicate_vasculature\"         \n",
       "[31] \"f8_delicate\"                      \"f8_simple\"                       \n",
       "[33] \"f8_complex\"                       \"mib_1\"                           \n",
       "[35] \"avgerage_cells\"                   \"treatment_related_ab\"            \n",
       "[37] \"bx_pure_treatment_effect\"         \"percent_tumor_nuclei\"            \n",
       "[39] \"nfl\"                              \"nfse\"                            \n",
       "[41] \"nt1c\"                             \"nt1v\"                            \n",
       "[43] \"nt1d\"                             \"nadc.1\"                          \n",
       "[45] \"nfa.1\"                            \"nev1.1\"                          \n",
       "[47] \"nev2.1\"                           \"nev3.1\"                          \n",
       "[49] \"nevrad.1\"                         \"nadc.2\"                          \n",
       "[51] \"nfa.2\"                            \"nev1.2\"                          \n",
       "[53] \"nev2.2\"                           \"nev3.2\"                          \n",
       "[55] \"nevrad.2\"                         \"cbvn_nlin\"                       \n",
       "[57] \"phn_nlin\"                         \"recov_nlin\"                      \n",
       "[59] \"phn_npar\"                         \"recov_npar\"                      \n",
       "[61] \"recovn_npar\"                      \"ccri\"                            \n",
       "[63] \"cni\"                              \"crni\"                            \n",
       "[65] \"ncho\"                             \"ncre\"                            \n",
       "[67] \"nnaa\"                             \"nlac\"                            \n",
       "[69] \"nlip\"                             \"newdata\"                         \n",
       "[71] \"olddata\"                          \"exclude_bc_hematoma_or_ventricle\"\n",
       "[73] \"exclude_perf\"                     \"nLL\"                             \n",
       "[75] \"comments\"                         \"perf_quant\"                      \n",
       "[77] \"include_perf\"                     \"spec_quant\"                      \n",
       "[79] \"include_spec\"                     \"diffu1000_quant\"                 \n",
       "[81] \"diffu2000_quant\"                  \"exclude_bc_anat\"                 \n",
       "[83] \"exclude_bc_pathology\"             \"include_diffu1000\"               \n",
       "[85] \"include_diffu2000\"                \"exclude_histology\"               \n",
       "[87] \"txe_comments\"                     \"outcome\"                         \n",
       "[89] \"in_CEL\"                           \"in_T2all\"                        \n",
       "[91] \"in_NEL\"                           \"CELorNEL\"                        "
      ]
     },
     "metadata": {},
     "output_type": "display_data"
    },
    {
     "data": {
      "text/html": [
       "<ol class=list-inline>\n",
       "\t<li>470</li>\n",
       "\t<li>92</li>\n",
       "</ol>\n"
      ],
      "text/latex": [
       "\\begin{enumerate*}\n",
       "\\item 470\n",
       "\\item 92\n",
       "\\end{enumerate*}\n"
      ],
      "text/markdown": [
       "1. 470\n",
       "2. 92\n",
       "\n",
       "\n"
      ],
      "text/plain": [
       "[1] 470  92"
      ]
     },
     "metadata": {},
     "output_type": "display_data"
    }
   ],
   "source": [
    "colnames(recgli)\n",
    "dim(recgli)"
   ]
  },
  {
   "cell_type": "code",
   "execution_count": 23,
   "metadata": {},
   "outputs": [
    {
     "data": {
      "text/plain": [
       "       \n",
       "          0   1\n",
       "  FALSE   0 228\n",
       "  TRUE  241   0"
      ]
     },
     "metadata": {},
     "output_type": "display_data"
    }
   ],
   "source": [
    "table(recgli$current_scan_date.x <= \"2013-01-01\", recgli$newdata)"
   ]
  },
  {
   "cell_type": "code",
   "execution_count": 24,
   "metadata": {},
   "outputs": [
    {
     "data": {
      "text/html": [
       "<ol class=list-inline>\n",
       "\t<li>470</li>\n",
       "\t<li>92</li>\n",
       "</ol>\n"
      ],
      "text/latex": [
       "\\begin{enumerate*}\n",
       "\\item 470\n",
       "\\item 92\n",
       "\\end{enumerate*}\n"
      ],
      "text/markdown": [
       "1. 470\n",
       "2. 92\n",
       "\n",
       "\n"
      ],
      "text/plain": [
       "[1] 470  92"
      ]
     },
     "metadata": {},
     "output_type": "display_data"
    }
   ],
   "source": [
    "dim(recgli)"
   ]
  },
  {
   "cell_type": "code",
   "execution_count": 25,
   "metadata": {},
   "outputs": [
    {
     "name": "stdout",
     "output_type": "stream",
     "text": [
      " Named int 241\n",
      " - attr(*, \"names\")= chr \"TRUE\"\n"
     ]
    }
   ],
   "source": [
    "str(table(recgli$olddata==1)[\"TRUE\"])"
   ]
  },
  {
   "cell_type": "markdown",
   "metadata": {},
   "source": [
    "## All possible patients"
   ]
  },
  {
   "cell_type": "code",
   "execution_count": 26,
   "metadata": {},
   "outputs": [
    {
     "data": {
      "text/html": [
       "<table>\n",
       "<thead><tr><th scope=col>data</th><th scope=col>patients</th><th scope=col>scans</th><th scope=col>samples</th></tr></thead>\n",
       "<tbody>\n",
       "\t<tr><td>old_po1</td><td>98     </td><td>100    </td><td>241    </td></tr>\n",
       "\t<tr><td>REC_HGG</td><td>72     </td><td>74     </td><td>228    </td></tr>\n",
       "\t<tr><td>TOTAL  </td><td>170    </td><td>174    </td><td>469    </td></tr>\n",
       "</tbody>\n",
       "</table>\n"
      ],
      "text/latex": [
       "\\begin{tabular}{llll}\n",
       " data & patients & scans & samples\\\\\n",
       "\\hline\n",
       "\t old\\_po1 & 98        & 100       & 241      \\\\\n",
       "\t REC\\_HGG & 72        & 74        & 228      \\\\\n",
       "\t TOTAL   & 170     & 174     & 469    \\\\\n",
       "\\end{tabular}\n"
      ],
      "text/markdown": [
       "\n",
       "data | patients | scans | samples | \n",
       "|---|---|---|\n",
       "| old_po1 | 98      | 100     | 241     | \n",
       "| REC_HGG | 72      | 74      | 228     | \n",
       "| TOTAL   | 170     | 174     | 469     | \n",
       "\n",
       "\n"
      ],
      "text/plain": [
       "     data    patients scans samples\n",
       "[1,] old_po1 98       100   241    \n",
       "[2,] REC_HGG 72       74    228    \n",
       "[3,] TOTAL   170      174   469    "
      ]
     },
     "metadata": {},
     "output_type": "display_data"
    }
   ],
   "source": [
    "all_possible = temp\n",
    "all_possible[1,2] = sum(ifelse(duplicated(recgli$b_number)==FALSE & recgli$current_scan_date.x <= \"2013-01-01\", 1, 0))\n",
    "all_possible[1,3] = sum(ifelse(duplicated(recgli$t_number)==FALSE & recgli$current_scan_date.x <= \"2013-01-01\", 1, 0))\n",
    "all_possible[1,4] = table(recgli$olddata==1)[\"TRUE\"]\n",
    "all_possible[2,2] = sum(ifelse(duplicated(recgli$b_number)==FALSE & recgli$current_scan_date.x >= \"2013-01-01\", 1, 0))\n",
    "all_possible[2,3] = sum(ifelse(duplicated(recgli$t_number)==FALSE & recgli$current_scan_date.x >= \"2013-01-01\", 1, 0))\n",
    "all_possible[2,4] = table(recgli$newdata==1)[\"TRUE\"]\n",
    "all_possible[3,2:4]= as.numeric(all_possible[1,2:4]) + as.numeric(all_possible[2,2:4])\n",
    "all_possible"
   ]
  },
  {
   "cell_type": "markdown",
   "metadata": {},
   "source": [
    "## Removing pts with no ffpe tissue"
   ]
  },
  {
   "cell_type": "code",
   "execution_count": 27,
   "metadata": {},
   "outputs": [
    {
     "data": {
      "text/html": [
       "<table>\n",
       "<thead><tr><th scope=col>b_number</th><th scope=col>t_number</th><th scope=col>sf_number</th><th scope=col>current_hist_grade</th><th scope=col>current_hist_type</th><th scope=col>current_scan_date.x</th><th scope=col>current_surgery_date.x</th><th scope=col>post_t_number</th><th scope=col>post_scan_date</th><th scope=col>age_at_surgery</th><th scope=col>extent_of_resection</th><th scope=col>inital_kps</th><th scope=col>last_contact_date</th><th scope=col>progression_date</th><th scope=col>pfs_censored</th><th scope=col>pfs</th><th scope=col>date_of_death</th><th scope=col>os_censored</th><th scope=col>os</th><th scope=col>gender</th><th scope=col>birthdate</th><th scope=col>race</th><th scope=col>vialid</th><th scope=col>t_number_x</th><th scope=col>current_scan_date.y</th><th scope=col>current_surgery_date.y</th><th scope=col>tumor_cell_evaluation</th><th scope=col>necrosis</th><th scope=col>mv_hyperplasia</th><th scope=col>mv_delicate_vasculature</th><th scope=col>f8_delicate</th><th scope=col>f8_simple</th><th scope=col>f8_complex</th><th scope=col>mib_1</th><th scope=col>avgerage_cells</th><th scope=col>treatment_related_ab</th><th scope=col>bx_pure_treatment_effect</th><th scope=col>percent_tumor_nuclei</th><th scope=col>nfl</th><th scope=col>nfse</th><th scope=col>nt1c</th><th scope=col>nt1v</th><th scope=col>nt1d</th><th scope=col>nadc.1</th><th scope=col>nfa.1</th><th scope=col>nev1.1</th><th scope=col>nev2.1</th><th scope=col>nev3.1</th><th scope=col>nevrad.1</th><th scope=col>nadc.2</th><th scope=col>nfa.2</th><th scope=col>nev1.2</th><th scope=col>nev2.2</th><th scope=col>nev3.2</th><th scope=col>nevrad.2</th><th scope=col>cbvn_nlin</th><th scope=col>phn_nlin</th><th scope=col>recov_nlin</th><th scope=col>phn_npar</th><th scope=col>recov_npar</th><th scope=col>recovn_npar</th><th scope=col>ccri</th><th scope=col>cni</th><th scope=col>crni</th><th scope=col>ncho</th><th scope=col>ncre</th><th scope=col>nnaa</th><th scope=col>nlac</th><th scope=col>nlip</th><th scope=col>newdata</th><th scope=col>olddata</th><th scope=col>exclude_bc_hematoma_or_ventricle</th><th scope=col>exclude_perf</th><th scope=col>nLL</th><th scope=col>comments</th><th scope=col>perf_quant</th><th scope=col>include_perf</th><th scope=col>spec_quant</th><th scope=col>include_spec</th><th scope=col>diffu1000_quant</th><th scope=col>diffu2000_quant</th><th scope=col>exclude_bc_anat</th><th scope=col>exclude_bc_pathology</th><th scope=col>include_diffu1000</th><th scope=col>include_diffu2000</th><th scope=col>exclude_histology</th><th scope=col>txe_comments</th><th scope=col>outcome</th><th scope=col>in_CEL</th><th scope=col>in_T2all</th><th scope=col>in_NEL</th><th scope=col>CELorNEL</th></tr></thead>\n",
       "<tbody>\n",
       "\t<tr><td>197                                                   </td><td>6243                                                  </td><td>8077                                                  </td><td>Treatment Effect                                      </td><td>Treatment Effect                                      </td><td>2009-07-15                                            </td><td>2009-07-16                                            </td><td>11078                                                 </td><td>2009-07-18                                            </td><td>56                                                    </td><td>Sub-total resection                                   </td><td>NA                                                    </td><td>2017-01-27                                            </td><td>NA                                                    </td><td>0                                                     </td><td>2753                                                  </td><td>NA                                                    </td><td>0                                                     </td><td>2753                                                  </td><td>M                                                     </td><td>1953-07-10                                            </td><td>White                                                 </td><td>91B26                                                 </td><td>t6243                                                 </td><td>NA                                                    </td><td>7/16/09                                               </td><td>0                                                     </td><td>0                                                     </td><td>1                                                     </td><td>1                                                     </td><td>3                                                     </td><td>0                                                     </td><td>0                                                     </td><td>0.99                                                  </td><td>200.0                                                 </td><td>0                                                     </td><td>t                                                     </td><td>NA                                                    </td><td>1.43                                                  </td><td>2.91                                                  </td><td>0.76                                                  </td><td>0.61                                                  </td><td> 0.10                                                 </td><td>1.76                                                  </td><td>1.17                                                  </td><td>1.43                                                  </td><td>1.70                                                  </td><td>1.54                                                  </td><td>1.60                                                  </td><td>1.76                                                  </td><td>1.17                                                  </td><td>1.43                                                  </td><td>1.70                                                  </td><td>1.54                                                  </td><td>1.60                                                  </td><td>0.74                                                  </td><td>0.62                                                  </td><td>86.06                                                 </td><td>0.62                                                  </td><td>93.42                                                 </td><td>NA                                                    </td><td>NA                                                    </td><td>NA                                                    </td><td>NA                                                    </td><td>NA                                                    </td><td>NA                                                    </td><td>NA                                                    </td><td>NA                                                    </td><td>NA                                                    </td><td>0                                                     </td><td>1                                                     </td><td>0                                                     </td><td>0                                                     </td><td>NA                                                    </td><td>increased cellularity, gliosis, rare atypical nuclei  </td><td>NA                                                    </td><td>NA                                                    </td><td>all_nas                                               </td><td>0                                                     </td><td>all_nas                                               </td><td>NA                                                    </td><td>NA                                                    </td><td>NA                                                    </td><td>1                                                     </td><td>1                                                     </td><td>NA                                                    </td><td>True                                                  </td><td>txe                                                   </td><td>0                                                     </td><td>1                                                     </td><td>1                                                     </td><td>NEL                                                   </td></tr>\n",
       "\t<tr><td>197                                                   </td><td>6243                                                  </td><td>8077                                                  </td><td>Treatment Effect                                      </td><td>Treatment Effect                                      </td><td>2009-07-15                                            </td><td>2009-07-16                                            </td><td>11078                                                 </td><td>2009-07-18                                            </td><td>56                                                    </td><td>Sub-total resection                                   </td><td>NA                                                    </td><td>2017-01-27                                            </td><td>NA                                                    </td><td>0                                                     </td><td>2753                                                  </td><td>NA                                                    </td><td>0                                                     </td><td>2753                                                  </td><td>M                                                     </td><td>1953-07-10                                            </td><td>White                                                 </td><td>93B26                                                 </td><td>t6243                                                 </td><td>NA                                                    </td><td>7/16/09                                               </td><td>0                                                     </td><td>0                                                     </td><td>0                                                     </td><td>0                                                     </td><td>1                                                     </td><td>3                                                     </td><td>0                                                     </td><td>0.99                                                  </td><td>200.0                                                 </td><td>1                                                     </td><td>t                                                     </td><td>NA                                                    </td><td>0.72                                                  </td><td>6.31                                                  </td><td>0.63                                                  </td><td>0.53                                                  </td><td> 0.03                                                 </td><td>2.20                                                  </td><td>0.72                                                  </td><td>1.74                                                  </td><td>2.07                                                  </td><td>2.20                                                  </td><td>2.06                                                  </td><td>2.20                                                  </td><td>0.72                                                  </td><td>1.74                                                  </td><td>2.07                                                  </td><td>2.20                                                  </td><td>2.06                                                  </td><td>1.78                                                  </td><td>1.70                                                  </td><td>86.05                                                 </td><td>1.68                                                  </td><td>87.64                                                 </td><td>NA                                                    </td><td>NA                                                    </td><td>NA                                                    </td><td>NA                                                    </td><td>NA                                                    </td><td>NA                                                    </td><td>NA                                                    </td><td>NA                                                    </td><td>NA                                                    </td><td>0                                                     </td><td>1                                                     </td><td>0                                                     </td><td>0                                                     </td><td>NA                                                    </td><td>hypercellular, gliosis, hyalinized BV assign to Simple</td><td>NA                                                    </td><td>NA                                                    </td><td>all_nas                                               </td><td>0                                                     </td><td>all_nas                                               </td><td>NA                                                    </td><td>NA                                                    </td><td>NA                                                    </td><td>1                                                     </td><td>1                                                     </td><td>NA                                                    </td><td>True                                                  </td><td>txe                                                   </td><td>0                                                     </td><td>0                                                     </td><td>0                                                     </td><td>NB                                                    </td></tr>\n",
       "\t<tr><td>197                                                   </td><td>6243                                                  </td><td>8077                                                  </td><td>Treatment Effect                                      </td><td>Treatment Effect                                      </td><td>2009-07-15                                            </td><td>2009-07-16                                            </td><td>11078                                                 </td><td>2009-07-18                                            </td><td>56                                                    </td><td>Sub-total resection                                   </td><td>NA                                                    </td><td>2017-01-27                                            </td><td>NA                                                    </td><td>0                                                     </td><td>2753                                                  </td><td>NA                                                    </td><td>0                                                     </td><td>2753                                                  </td><td>M                                                     </td><td>1953-07-10                                            </td><td>White                                                 </td><td>92B26                                                 </td><td>t6243                                                 </td><td>NA                                                    </td><td>7/16/09                                               </td><td>2                                                     </td><td>1                                                     </td><td>1                                                     </td><td>0                                                     </td><td>1                                                     </td><td>2                                                     </td><td>0                                                     </td><td>0.99                                                  </td><td>200.0                                                 </td><td>1                                                     </td><td>f                                                     </td><td>NA                                                    </td><td>1.36                                                  </td><td>2.83                                                  </td><td>0.80                                                  </td><td>0.64                                                  </td><td> 0.10                                                 </td><td>1.93                                                  </td><td>0.83                                                  </td><td>1.61                                                  </td><td>1.84                                                  </td><td>1.89                                                  </td><td>1.83                                                  </td><td>1.93                                                  </td><td>0.83                                                  </td><td>1.61                                                  </td><td>1.84                                                  </td><td>1.89                                                  </td><td>1.83                                                  </td><td>0.67                                                  </td><td>0.56                                                  </td><td>82.08                                                 </td><td>0.59                                                  </td><td>81.11                                                 </td><td>NA                                                    </td><td>NA                                                    </td><td>NA                                                    </td><td>NA                                                    </td><td>NA                                                    </td><td>NA                                                    </td><td>NA                                                    </td><td>NA                                                    </td><td>NA                                                    </td><td>0                                                     </td><td>1                                                     </td><td>0                                                     </td><td>0                                                     </td><td>NA                                                    </td><td>SMI31 areas of \"3\"                                    </td><td>NA                                                    </td><td>NA                                                    </td><td>all_nas                                               </td><td>0                                                     </td><td>all_nas                                               </td><td>NA                                                    </td><td>NA                                                    </td><td>NA                                                    </td><td>1                                                     </td><td>1                                                     </td><td>NA                                                    </td><td>False                                                 </td><td>rHGG                                                  </td><td>0                                                     </td><td>1                                                     </td><td>1                                                     </td><td>NEL                                                   </td></tr>\n",
       "\t<tr><td>697                                                   </td><td>5333                                                  </td><td>7691                                                  </td><td>Grade III                                             </td><td>Oligodendroglioma                                     </td><td>2008-05-12                                            </td><td>2008-05-14                                            </td><td> 8422                                                 </td><td>2008-05-16                                            </td><td>49                                                    </td><td>Sub-total resection                                   </td><td>90                                                    </td><td>NA                                                    </td><td>NA                                                    </td><td>0                                                     </td><td>  NA                                                  </td><td>2010-05-01                                            </td><td>1                                                     </td><td> 719                                                  </td><td>M                                                     </td><td>1959-02-25                                            </td><td>White                                                 </td><td>51B16                                                 </td><td>t5333                                                 </td><td>5-12-08                                               </td><td>5/14/08                                               </td><td>2                                                     </td><td>0                                                     </td><td>0                                                     </td><td>1                                                     </td><td>1                                                     </td><td>0                                                     </td><td>1                                                     </td><td>7.94                                                  </td><td>105.8                                                 </td><td>NA                                                    </td><td>f                                                     </td><td>NA                                                    </td><td>1.25                                                  </td><td>1.39                                                  </td><td>0.90                                                  </td><td>1.12                                                  </td><td>-0.18                                                 </td><td>1.32                                                  </td><td>1.06                                                  </td><td>1.11                                                  </td><td>1.18                                                  </td><td>1.21                                                  </td><td>1.19                                                  </td><td>  NA                                                  </td><td>  NA                                                  </td><td>  NA                                                  </td><td>  NA                                                  </td><td>  NA                                                  </td><td>  NA                                                  </td><td>0.85                                                  </td><td>0.75                                                  </td><td>72.54                                                 </td><td>0.89                                                  </td><td>79.31                                                 </td><td>NA                                                    </td><td>NA                                                    </td><td>NA                                                    </td><td>NA                                                    </td><td>NA                                                    </td><td>NA                                                    </td><td>NA                                                    </td><td>NA                                                    </td><td>NA                                                    </td><td>0                                                     </td><td>1                                                     </td><td>0                                                     </td><td>0                                                     </td><td>NA                                                    </td><td>NA                                                    </td><td>NA                                                    </td><td>NA                                                    </td><td>all_nas                                               </td><td>0                                                     </td><td>NA                                                    </td><td>all_nas                                               </td><td>NA                                                    </td><td>NA                                                    </td><td>1                                                     </td><td>0                                                     </td><td>NA                                                    </td><td>NA                                                    </td><td>rHGG                                                  </td><td>0                                                     </td><td>1                                                     </td><td>1                                                     </td><td>NEL                                                   </td></tr>\n",
       "\t<tr><td>697                                                   </td><td>5333                                                  </td><td>7691                                                  </td><td>Grade III                                             </td><td>Oligodendroglioma                                     </td><td>2008-05-12                                            </td><td>2008-05-14                                            </td><td> 8422                                                 </td><td>2008-05-16                                            </td><td>49                                                    </td><td>Sub-total resection                                   </td><td>90                                                    </td><td>NA                                                    </td><td>NA                                                    </td><td>0                                                     </td><td>  NA                                                  </td><td>2010-05-01                                            </td><td>1                                                     </td><td> 719                                                  </td><td>M                                                     </td><td>1959-02-25                                            </td><td>White                                                 </td><td>52B16                                                 </td><td>t5333                                                 </td><td>5-12-08                                               </td><td>5/14/08                                               </td><td>2                                                     </td><td>1                                                     </td><td>2                                                     </td><td>0                                                     </td><td>1                                                     </td><td>1                                                     </td><td>3                                                     </td><td>4.99                                                  </td><td> 83.0                                                 </td><td>NA                                                    </td><td>f                                                     </td><td>NA                                                    </td><td>1.70                                                  </td><td>1.64                                                  </td><td>1.40                                                  </td><td>1.09                                                  </td><td> 0.36                                                 </td><td>1.52                                                  </td><td>1.50                                                  </td><td>1.34                                                  </td><td>1.37                                                  </td><td>1.21                                                  </td><td>1.27                                                  </td><td>  NA                                                  </td><td>  NA                                                  </td><td>  NA                                                  </td><td>  NA                                                  </td><td>  NA                                                  </td><td>  NA                                                  </td><td>0.69                                                  </td><td>0.60                                                  </td><td>69.69                                                 </td><td>0.65                                                  </td><td>75.48                                                 </td><td>NA                                                    </td><td>NA                                                    </td><td>NA                                                    </td><td>NA                                                    </td><td>NA                                                    </td><td>NA                                                    </td><td>NA                                                    </td><td>NA                                                    </td><td>NA                                                    </td><td>0                                                     </td><td>1                                                     </td><td>0                                                     </td><td>0                                                     </td><td>NA                                                    </td><td>NA                                                    </td><td>NA                                                    </td><td>NA                                                    </td><td>all_nas                                               </td><td>0                                                     </td><td>NA                                                    </td><td>all_nas                                               </td><td>NA                                                    </td><td>NA                                                    </td><td>1                                                     </td><td>0                                                     </td><td>NA                                                    </td><td>NA                                                    </td><td>rHGG                                                  </td><td>1                                                     </td><td>1                                                     </td><td>0                                                     </td><td>CEL                                                   </td></tr>\n",
       "\t<tr><td>697                                                   </td><td>5333                                                  </td><td>7691                                                  </td><td>Grade III                                             </td><td>Oligodendroglioma                                     </td><td>2008-05-12                                            </td><td>2008-05-14                                            </td><td> 8422                                                 </td><td>2008-05-16                                            </td><td>49                                                    </td><td>Sub-total resection                                   </td><td>90                                                    </td><td>NA                                                    </td><td>NA                                                    </td><td>0                                                     </td><td>  NA                                                  </td><td>2010-05-01                                            </td><td>1                                                     </td><td> 719                                                  </td><td>M                                                     </td><td>1959-02-25                                            </td><td>White                                                 </td><td>53B16                                                 </td><td>t5333                                                 </td><td>5-12-08                                               </td><td>5/14/08                                               </td><td>1                                                     </td><td>0                                                     </td><td>1                                                     </td><td>1                                                     </td><td>3                                                     </td><td>1                                                     </td><td>0                                                     </td><td>4.51                                                  </td><td> 75.4                                                 </td><td>NA                                                    </td><td>f                                                     </td><td>NA                                                    </td><td>1.20                                                  </td><td>1.39                                                  </td><td>0.86                                                  </td><td>1.12                                                  </td><td>-0.23                                                 </td><td>1.32                                                  </td><td>1.06                                                  </td><td>1.11                                                  </td><td>1.21                                                  </td><td>1.21                                                  </td><td>1.19                                                  </td><td>  NA                                                  </td><td>  NA                                                  </td><td>  NA                                                  </td><td>  NA                                                  </td><td>  NA                                                  </td><td>  NA                                                  </td><td>0.56                                                  </td><td>0.60                                                  </td><td>92.08                                                 </td><td>0.58                                                  </td><td>93.62                                                 </td><td>NA                                                    </td><td>NA                                                    </td><td>NA                                                    </td><td>NA                                                    </td><td>NA                                                    </td><td>NA                                                    </td><td>NA                                                    </td><td>NA                                                    </td><td>NA                                                    </td><td>0                                                     </td><td>1                                                     </td><td>0                                                     </td><td>0                                                     </td><td>NA                                                    </td><td>NA                                                    </td><td>NA                                                    </td><td>NA                                                    </td><td>all_nas                                               </td><td>0                                                     </td><td>NA                                                    </td><td>all_nas                                               </td><td>NA                                                    </td><td>NA                                                    </td><td>1                                                     </td><td>0                                                     </td><td>NA                                                    </td><td>NA                                                    </td><td>unk                                                   </td><td>0                                                     </td><td>0                                                     </td><td>0                                                     </td><td>NB                                                    </td></tr>\n",
       "</tbody>\n",
       "</table>\n"
      ],
      "text/latex": [
       "\\begin{tabular}{r|llllllllllllllllllllllllllllllllllllllllllllllllllllllllllllllllllllllllllllllllllllllllllll}\n",
       " b\\_number & t\\_number & sf\\_number & current\\_hist\\_grade & current\\_hist\\_type & current\\_scan\\_date.x & current\\_surgery\\_date.x & post\\_t\\_number & post\\_scan\\_date & age\\_at\\_surgery & extent\\_of\\_resection & inital\\_kps & last\\_contact\\_date & progression\\_date & pfs\\_censored & pfs & date\\_of\\_death & os\\_censored & os & gender & birthdate & race & vialid & t\\_number\\_x & current\\_scan\\_date.y & current\\_surgery\\_date.y & tumor\\_cell\\_evaluation & necrosis & mv\\_hyperplasia & mv\\_delicate\\_vasculature & f8\\_delicate & f8\\_simple & f8\\_complex & mib\\_1 & avgerage\\_cells & treatment\\_related\\_ab & bx\\_pure\\_treatment\\_effect & percent\\_tumor\\_nuclei & nfl & nfse & nt1c & nt1v & nt1d & nadc.1 & nfa.1 & nev1.1 & nev2.1 & nev3.1 & nevrad.1 & nadc.2 & nfa.2 & nev1.2 & nev2.2 & nev3.2 & nevrad.2 & cbvn\\_nlin & phn\\_nlin & recov\\_nlin & phn\\_npar & recov\\_npar & recovn\\_npar & ccri & cni & crni & ncho & ncre & nnaa & nlac & nlip & newdata & olddata & exclude\\_bc\\_hematoma\\_or\\_ventricle & exclude\\_perf & nLL & comments & perf\\_quant & include\\_perf & spec\\_quant & include\\_spec & diffu1000\\_quant & diffu2000\\_quant & exclude\\_bc\\_anat & exclude\\_bc\\_pathology & include\\_diffu1000 & include\\_diffu2000 & exclude\\_histology & txe\\_comments & outcome & in\\_CEL & in\\_T2all & in\\_NEL & CELorNEL\\\\\n",
       "\\hline\n",
       "\t 197                                                    & 6243                                                   & 8077                                                   & Treatment Effect                                       & Treatment Effect                                       & 2009-07-15                                             & 2009-07-16                                             & 11078                                                  & 2009-07-18                                             & 56                                                     & Sub-total resection                                    & NA                                                     & 2017-01-27                                             & NA                                                     & 0                                                      & 2753                                                   & NA                                                     & 0                                                      & 2753                                                   & M                                                      & 1953-07-10                                             & White                                                  & 91B26                                                  & t6243                                                  & NA                                                     & 7/16/09                                                & 0                                                      & 0                                                      & 1                                                      & 1                                                      & 3                                                      & 0                                                      & 0                                                      & 0.99                                                   & 200.0                                                  & 0                                                      & t                                                      & NA                                                     & 1.43                                                   & 2.91                                                   & 0.76                                                   & 0.61                                                   &  0.10                                                  & 1.76                                                   & 1.17                                                   & 1.43                                                   & 1.70                                                   & 1.54                                                   & 1.60                                                   & 1.76                                                   & 1.17                                                   & 1.43                                                   & 1.70                                                   & 1.54                                                   & 1.60                                                   & 0.74                                                   & 0.62                                                   & 86.06                                                  & 0.62                                                   & 93.42                                                  & NA                                                     & NA                                                     & NA                                                     & NA                                                     & NA                                                     & NA                                                     & NA                                                     & NA                                                     & NA                                                     & 0                                                      & 1                                                      & 0                                                      & 0                                                      & NA                                                     & increased cellularity, gliosis, rare atypical nuclei   & NA                                                     & NA                                                     & all\\_nas                                              & 0                                                      & all\\_nas                                              & NA                                                     & NA                                                     & NA                                                     & 1                                                      & 1                                                      & NA                                                     & True                                                   & txe                                                    & 0                                                      & 1                                                      & 1                                                      & NEL                                                   \\\\\n",
       "\t 197                                                    & 6243                                                   & 8077                                                   & Treatment Effect                                       & Treatment Effect                                       & 2009-07-15                                             & 2009-07-16                                             & 11078                                                  & 2009-07-18                                             & 56                                                     & Sub-total resection                                    & NA                                                     & 2017-01-27                                             & NA                                                     & 0                                                      & 2753                                                   & NA                                                     & 0                                                      & 2753                                                   & M                                                      & 1953-07-10                                             & White                                                  & 93B26                                                  & t6243                                                  & NA                                                     & 7/16/09                                                & 0                                                      & 0                                                      & 0                                                      & 0                                                      & 1                                                      & 3                                                      & 0                                                      & 0.99                                                   & 200.0                                                  & 1                                                      & t                                                      & NA                                                     & 0.72                                                   & 6.31                                                   & 0.63                                                   & 0.53                                                   &  0.03                                                  & 2.20                                                   & 0.72                                                   & 1.74                                                   & 2.07                                                   & 2.20                                                   & 2.06                                                   & 2.20                                                   & 0.72                                                   & 1.74                                                   & 2.07                                                   & 2.20                                                   & 2.06                                                   & 1.78                                                   & 1.70                                                   & 86.05                                                  & 1.68                                                   & 87.64                                                  & NA                                                     & NA                                                     & NA                                                     & NA                                                     & NA                                                     & NA                                                     & NA                                                     & NA                                                     & NA                                                     & 0                                                      & 1                                                      & 0                                                      & 0                                                      & NA                                                     & hypercellular, gliosis, hyalinized BV assign to Simple & NA                                                     & NA                                                     & all\\_nas                                              & 0                                                      & all\\_nas                                              & NA                                                     & NA                                                     & NA                                                     & 1                                                      & 1                                                      & NA                                                     & True                                                   & txe                                                    & 0                                                      & 0                                                      & 0                                                      & NB                                                    \\\\\n",
       "\t 197                                                    & 6243                                                   & 8077                                                   & Treatment Effect                                       & Treatment Effect                                       & 2009-07-15                                             & 2009-07-16                                             & 11078                                                  & 2009-07-18                                             & 56                                                     & Sub-total resection                                    & NA                                                     & 2017-01-27                                             & NA                                                     & 0                                                      & 2753                                                   & NA                                                     & 0                                                      & 2753                                                   & M                                                      & 1953-07-10                                             & White                                                  & 92B26                                                  & t6243                                                  & NA                                                     & 7/16/09                                                & 2                                                      & 1                                                      & 1                                                      & 0                                                      & 1                                                      & 2                                                      & 0                                                      & 0.99                                                   & 200.0                                                  & 1                                                      & f                                                      & NA                                                     & 1.36                                                   & 2.83                                                   & 0.80                                                   & 0.64                                                   &  0.10                                                  & 1.93                                                   & 0.83                                                   & 1.61                                                   & 1.84                                                   & 1.89                                                   & 1.83                                                   & 1.93                                                   & 0.83                                                   & 1.61                                                   & 1.84                                                   & 1.89                                                   & 1.83                                                   & 0.67                                                   & 0.56                                                   & 82.08                                                  & 0.59                                                   & 81.11                                                  & NA                                                     & NA                                                     & NA                                                     & NA                                                     & NA                                                     & NA                                                     & NA                                                     & NA                                                     & NA                                                     & 0                                                      & 1                                                      & 0                                                      & 0                                                      & NA                                                     & SMI31 areas of \"3\"                                     & NA                                                     & NA                                                     & all\\_nas                                              & 0                                                      & all\\_nas                                              & NA                                                     & NA                                                     & NA                                                     & 1                                                      & 1                                                      & NA                                                     & False                                                  & rHGG                                                   & 0                                                      & 1                                                      & 1                                                      & NEL                                                   \\\\\n",
       "\t 697                                                    & 5333                                                   & 7691                                                   & Grade III                                              & Oligodendroglioma                                      & 2008-05-12                                             & 2008-05-14                                             &  8422                                                  & 2008-05-16                                             & 49                                                     & Sub-total resection                                    & 90                                                     & NA                                                     & NA                                                     & 0                                                      &   NA                                                   & 2010-05-01                                             & 1                                                      &  719                                                   & M                                                      & 1959-02-25                                             & White                                                  & 51B16                                                  & t5333                                                  & 5-12-08                                                & 5/14/08                                                & 2                                                      & 0                                                      & 0                                                      & 1                                                      & 1                                                      & 0                                                      & 1                                                      & 7.94                                                   & 105.8                                                  & NA                                                     & f                                                      & NA                                                     & 1.25                                                   & 1.39                                                   & 0.90                                                   & 1.12                                                   & -0.18                                                  & 1.32                                                   & 1.06                                                   & 1.11                                                   & 1.18                                                   & 1.21                                                   & 1.19                                                   &   NA                                                   &   NA                                                   &   NA                                                   &   NA                                                   &   NA                                                   &   NA                                                   & 0.85                                                   & 0.75                                                   & 72.54                                                  & 0.89                                                   & 79.31                                                  & NA                                                     & NA                                                     & NA                                                     & NA                                                     & NA                                                     & NA                                                     & NA                                                     & NA                                                     & NA                                                     & 0                                                      & 1                                                      & 0                                                      & 0                                                      & NA                                                     & NA                                                     & NA                                                     & NA                                                     & all\\_nas                                              & 0                                                      & NA                                                     & all\\_nas                                              & NA                                                     & NA                                                     & 1                                                      & 0                                                      & NA                                                     & NA                                                     & rHGG                                                   & 0                                                      & 1                                                      & 1                                                      & NEL                                                   \\\\\n",
       "\t 697                                                    & 5333                                                   & 7691                                                   & Grade III                                              & Oligodendroglioma                                      & 2008-05-12                                             & 2008-05-14                                             &  8422                                                  & 2008-05-16                                             & 49                                                     & Sub-total resection                                    & 90                                                     & NA                                                     & NA                                                     & 0                                                      &   NA                                                   & 2010-05-01                                             & 1                                                      &  719                                                   & M                                                      & 1959-02-25                                             & White                                                  & 52B16                                                  & t5333                                                  & 5-12-08                                                & 5/14/08                                                & 2                                                      & 1                                                      & 2                                                      & 0                                                      & 1                                                      & 1                                                      & 3                                                      & 4.99                                                   &  83.0                                                  & NA                                                     & f                                                      & NA                                                     & 1.70                                                   & 1.64                                                   & 1.40                                                   & 1.09                                                   &  0.36                                                  & 1.52                                                   & 1.50                                                   & 1.34                                                   & 1.37                                                   & 1.21                                                   & 1.27                                                   &   NA                                                   &   NA                                                   &   NA                                                   &   NA                                                   &   NA                                                   &   NA                                                   & 0.69                                                   & 0.60                                                   & 69.69                                                  & 0.65                                                   & 75.48                                                  & NA                                                     & NA                                                     & NA                                                     & NA                                                     & NA                                                     & NA                                                     & NA                                                     & NA                                                     & NA                                                     & 0                                                      & 1                                                      & 0                                                      & 0                                                      & NA                                                     & NA                                                     & NA                                                     & NA                                                     & all\\_nas                                              & 0                                                      & NA                                                     & all\\_nas                                              & NA                                                     & NA                                                     & 1                                                      & 0                                                      & NA                                                     & NA                                                     & rHGG                                                   & 1                                                      & 1                                                      & 0                                                      & CEL                                                   \\\\\n",
       "\t 697                                                    & 5333                                                   & 7691                                                   & Grade III                                              & Oligodendroglioma                                      & 2008-05-12                                             & 2008-05-14                                             &  8422                                                  & 2008-05-16                                             & 49                                                     & Sub-total resection                                    & 90                                                     & NA                                                     & NA                                                     & 0                                                      &   NA                                                   & 2010-05-01                                             & 1                                                      &  719                                                   & M                                                      & 1959-02-25                                             & White                                                  & 53B16                                                  & t5333                                                  & 5-12-08                                                & 5/14/08                                                & 1                                                      & 0                                                      & 1                                                      & 1                                                      & 3                                                      & 1                                                      & 0                                                      & 4.51                                                   &  75.4                                                  & NA                                                     & f                                                      & NA                                                     & 1.20                                                   & 1.39                                                   & 0.86                                                   & 1.12                                                   & -0.23                                                  & 1.32                                                   & 1.06                                                   & 1.11                                                   & 1.21                                                   & 1.21                                                   & 1.19                                                   &   NA                                                   &   NA                                                   &   NA                                                   &   NA                                                   &   NA                                                   &   NA                                                   & 0.56                                                   & 0.60                                                   & 92.08                                                  & 0.58                                                   & 93.62                                                  & NA                                                     & NA                                                     & NA                                                     & NA                                                     & NA                                                     & NA                                                     & NA                                                     & NA                                                     & NA                                                     & 0                                                      & 1                                                      & 0                                                      & 0                                                      & NA                                                     & NA                                                     & NA                                                     & NA                                                     & all\\_nas                                              & 0                                                      & NA                                                     & all\\_nas                                              & NA                                                     & NA                                                     & 1                                                      & 0                                                      & NA                                                     & NA                                                     & unk                                                    & 0                                                      & 0                                                      & 0                                                      & NB                                                    \\\\\n",
       "\\end{tabular}\n"
      ],
      "text/markdown": [
       "\n",
       "b_number | t_number | sf_number | current_hist_grade | current_hist_type | current_scan_date.x | current_surgery_date.x | post_t_number | post_scan_date | age_at_surgery | extent_of_resection | inital_kps | last_contact_date | progression_date | pfs_censored | pfs | date_of_death | os_censored | os | gender | birthdate | race | vialid | t_number_x | current_scan_date.y | current_surgery_date.y | tumor_cell_evaluation | necrosis | mv_hyperplasia | mv_delicate_vasculature | f8_delicate | f8_simple | f8_complex | mib_1 | avgerage_cells | treatment_related_ab | bx_pure_treatment_effect | percent_tumor_nuclei | nfl | nfse | nt1c | nt1v | nt1d | nadc.1 | nfa.1 | nev1.1 | nev2.1 | nev3.1 | nevrad.1 | nadc.2 | nfa.2 | nev1.2 | nev2.2 | nev3.2 | nevrad.2 | cbvn_nlin | phn_nlin | recov_nlin | phn_npar | recov_npar | recovn_npar | ccri | cni | crni | ncho | ncre | nnaa | nlac | nlip | newdata | olddata | exclude_bc_hematoma_or_ventricle | exclude_perf | nLL | comments | perf_quant | include_perf | spec_quant | include_spec | diffu1000_quant | diffu2000_quant | exclude_bc_anat | exclude_bc_pathology | include_diffu1000 | include_diffu2000 | exclude_histology | txe_comments | outcome | in_CEL | in_T2all | in_NEL | CELorNEL | \n",
       "|---|---|---|---|---|---|\n",
       "| 197                                                    | 6243                                                   | 8077                                                   | Treatment Effect                                       | Treatment Effect                                       | 2009-07-15                                             | 2009-07-16                                             | 11078                                                  | 2009-07-18                                             | 56                                                     | Sub-total resection                                    | NA                                                     | 2017-01-27                                             | NA                                                     | 0                                                      | 2753                                                   | NA                                                     | 0                                                      | 2753                                                   | M                                                      | 1953-07-10                                             | White                                                  | 91B26                                                  | t6243                                                  | NA                                                     | 7/16/09                                                | 0                                                      | 0                                                      | 1                                                      | 1                                                      | 3                                                      | 0                                                      | 0                                                      | 0.99                                                   | 200.0                                                  | 0                                                      | t                                                      | NA                                                     | 1.43                                                   | 2.91                                                   | 0.76                                                   | 0.61                                                   |  0.10                                                  | 1.76                                                   | 1.17                                                   | 1.43                                                   | 1.70                                                   | 1.54                                                   | 1.60                                                   | 1.76                                                   | 1.17                                                   | 1.43                                                   | 1.70                                                   | 1.54                                                   | 1.60                                                   | 0.74                                                   | 0.62                                                   | 86.06                                                  | 0.62                                                   | 93.42                                                  | NA                                                     | NA                                                     | NA                                                     | NA                                                     | NA                                                     | NA                                                     | NA                                                     | NA                                                     | NA                                                     | 0                                                      | 1                                                      | 0                                                      | 0                                                      | NA                                                     | increased cellularity, gliosis, rare atypical nuclei   | NA                                                     | NA                                                     | all_nas                                                | 0                                                      | all_nas                                                | NA                                                     | NA                                                     | NA                                                     | 1                                                      | 1                                                      | NA                                                     | True                                                   | txe                                                    | 0                                                      | 1                                                      | 1                                                      | NEL                                                    | \n",
       "| 197                                                    | 6243                                                   | 8077                                                   | Treatment Effect                                       | Treatment Effect                                       | 2009-07-15                                             | 2009-07-16                                             | 11078                                                  | 2009-07-18                                             | 56                                                     | Sub-total resection                                    | NA                                                     | 2017-01-27                                             | NA                                                     | 0                                                      | 2753                                                   | NA                                                     | 0                                                      | 2753                                                   | M                                                      | 1953-07-10                                             | White                                                  | 93B26                                                  | t6243                                                  | NA                                                     | 7/16/09                                                | 0                                                      | 0                                                      | 0                                                      | 0                                                      | 1                                                      | 3                                                      | 0                                                      | 0.99                                                   | 200.0                                                  | 1                                                      | t                                                      | NA                                                     | 0.72                                                   | 6.31                                                   | 0.63                                                   | 0.53                                                   |  0.03                                                  | 2.20                                                   | 0.72                                                   | 1.74                                                   | 2.07                                                   | 2.20                                                   | 2.06                                                   | 2.20                                                   | 0.72                                                   | 1.74                                                   | 2.07                                                   | 2.20                                                   | 2.06                                                   | 1.78                                                   | 1.70                                                   | 86.05                                                  | 1.68                                                   | 87.64                                                  | NA                                                     | NA                                                     | NA                                                     | NA                                                     | NA                                                     | NA                                                     | NA                                                     | NA                                                     | NA                                                     | 0                                                      | 1                                                      | 0                                                      | 0                                                      | NA                                                     | hypercellular, gliosis, hyalinized BV assign to Simple | NA                                                     | NA                                                     | all_nas                                                | 0                                                      | all_nas                                                | NA                                                     | NA                                                     | NA                                                     | 1                                                      | 1                                                      | NA                                                     | True                                                   | txe                                                    | 0                                                      | 0                                                      | 0                                                      | NB                                                     | \n",
       "| 197                                                    | 6243                                                   | 8077                                                   | Treatment Effect                                       | Treatment Effect                                       | 2009-07-15                                             | 2009-07-16                                             | 11078                                                  | 2009-07-18                                             | 56                                                     | Sub-total resection                                    | NA                                                     | 2017-01-27                                             | NA                                                     | 0                                                      | 2753                                                   | NA                                                     | 0                                                      | 2753                                                   | M                                                      | 1953-07-10                                             | White                                                  | 92B26                                                  | t6243                                                  | NA                                                     | 7/16/09                                                | 2                                                      | 1                                                      | 1                                                      | 0                                                      | 1                                                      | 2                                                      | 0                                                      | 0.99                                                   | 200.0                                                  | 1                                                      | f                                                      | NA                                                     | 1.36                                                   | 2.83                                                   | 0.80                                                   | 0.64                                                   |  0.10                                                  | 1.93                                                   | 0.83                                                   | 1.61                                                   | 1.84                                                   | 1.89                                                   | 1.83                                                   | 1.93                                                   | 0.83                                                   | 1.61                                                   | 1.84                                                   | 1.89                                                   | 1.83                                                   | 0.67                                                   | 0.56                                                   | 82.08                                                  | 0.59                                                   | 81.11                                                  | NA                                                     | NA                                                     | NA                                                     | NA                                                     | NA                                                     | NA                                                     | NA                                                     | NA                                                     | NA                                                     | 0                                                      | 1                                                      | 0                                                      | 0                                                      | NA                                                     | SMI31 areas of \"3\"                                     | NA                                                     | NA                                                     | all_nas                                                | 0                                                      | all_nas                                                | NA                                                     | NA                                                     | NA                                                     | 1                                                      | 1                                                      | NA                                                     | False                                                  | rHGG                                                   | 0                                                      | 1                                                      | 1                                                      | NEL                                                    | \n",
       "| 697                                                    | 5333                                                   | 7691                                                   | Grade III                                              | Oligodendroglioma                                      | 2008-05-12                                             | 2008-05-14                                             |  8422                                                  | 2008-05-16                                             | 49                                                     | Sub-total resection                                    | 90                                                     | NA                                                     | NA                                                     | 0                                                      |   NA                                                   | 2010-05-01                                             | 1                                                      |  719                                                   | M                                                      | 1959-02-25                                             | White                                                  | 51B16                                                  | t5333                                                  | 5-12-08                                                | 5/14/08                                                | 2                                                      | 0                                                      | 0                                                      | 1                                                      | 1                                                      | 0                                                      | 1                                                      | 7.94                                                   | 105.8                                                  | NA                                                     | f                                                      | NA                                                     | 1.25                                                   | 1.39                                                   | 0.90                                                   | 1.12                                                   | -0.18                                                  | 1.32                                                   | 1.06                                                   | 1.11                                                   | 1.18                                                   | 1.21                                                   | 1.19                                                   |   NA                                                   |   NA                                                   |   NA                                                   |   NA                                                   |   NA                                                   |   NA                                                   | 0.85                                                   | 0.75                                                   | 72.54                                                  | 0.89                                                   | 79.31                                                  | NA                                                     | NA                                                     | NA                                                     | NA                                                     | NA                                                     | NA                                                     | NA                                                     | NA                                                     | NA                                                     | 0                                                      | 1                                                      | 0                                                      | 0                                                      | NA                                                     | NA                                                     | NA                                                     | NA                                                     | all_nas                                                | 0                                                      | NA                                                     | all_nas                                                | NA                                                     | NA                                                     | 1                                                      | 0                                                      | NA                                                     | NA                                                     | rHGG                                                   | 0                                                      | 1                                                      | 1                                                      | NEL                                                    | \n",
       "| 697                                                    | 5333                                                   | 7691                                                   | Grade III                                              | Oligodendroglioma                                      | 2008-05-12                                             | 2008-05-14                                             |  8422                                                  | 2008-05-16                                             | 49                                                     | Sub-total resection                                    | 90                                                     | NA                                                     | NA                                                     | 0                                                      |   NA                                                   | 2010-05-01                                             | 1                                                      |  719                                                   | M                                                      | 1959-02-25                                             | White                                                  | 52B16                                                  | t5333                                                  | 5-12-08                                                | 5/14/08                                                | 2                                                      | 1                                                      | 2                                                      | 0                                                      | 1                                                      | 1                                                      | 3                                                      | 4.99                                                   |  83.0                                                  | NA                                                     | f                                                      | NA                                                     | 1.70                                                   | 1.64                                                   | 1.40                                                   | 1.09                                                   |  0.36                                                  | 1.52                                                   | 1.50                                                   | 1.34                                                   | 1.37                                                   | 1.21                                                   | 1.27                                                   |   NA                                                   |   NA                                                   |   NA                                                   |   NA                                                   |   NA                                                   |   NA                                                   | 0.69                                                   | 0.60                                                   | 69.69                                                  | 0.65                                                   | 75.48                                                  | NA                                                     | NA                                                     | NA                                                     | NA                                                     | NA                                                     | NA                                                     | NA                                                     | NA                                                     | NA                                                     | 0                                                      | 1                                                      | 0                                                      | 0                                                      | NA                                                     | NA                                                     | NA                                                     | NA                                                     | all_nas                                                | 0                                                      | NA                                                     | all_nas                                                | NA                                                     | NA                                                     | 1                                                      | 0                                                      | NA                                                     | NA                                                     | rHGG                                                   | 1                                                      | 1                                                      | 0                                                      | CEL                                                    | \n",
       "| 697                                                    | 5333                                                   | 7691                                                   | Grade III                                              | Oligodendroglioma                                      | 2008-05-12                                             | 2008-05-14                                             |  8422                                                  | 2008-05-16                                             | 49                                                     | Sub-total resection                                    | 90                                                     | NA                                                     | NA                                                     | 0                                                      |   NA                                                   | 2010-05-01                                             | 1                                                      |  719                                                   | M                                                      | 1959-02-25                                             | White                                                  | 53B16                                                  | t5333                                                  | 5-12-08                                                | 5/14/08                                                | 1                                                      | 0                                                      | 1                                                      | 1                                                      | 3                                                      | 1                                                      | 0                                                      | 4.51                                                   |  75.4                                                  | NA                                                     | f                                                      | NA                                                     | 1.20                                                   | 1.39                                                   | 0.86                                                   | 1.12                                                   | -0.23                                                  | 1.32                                                   | 1.06                                                   | 1.11                                                   | 1.21                                                   | 1.21                                                   | 1.19                                                   |   NA                                                   |   NA                                                   |   NA                                                   |   NA                                                   |   NA                                                   |   NA                                                   | 0.56                                                   | 0.60                                                   | 92.08                                                  | 0.58                                                   | 93.62                                                  | NA                                                     | NA                                                     | NA                                                     | NA                                                     | NA                                                     | NA                                                     | NA                                                     | NA                                                     | NA                                                     | 0                                                      | 1                                                      | 0                                                      | 0                                                      | NA                                                     | NA                                                     | NA                                                     | NA                                                     | all_nas                                                | 0                                                      | NA                                                     | all_nas                                                | NA                                                     | NA                                                     | 1                                                      | 0                                                      | NA                                                     | NA                                                     | unk                                                    | 0                                                      | 0                                                      | 0                                                      | NB                                                     | \n",
       "\n",
       "\n"
      ],
      "text/plain": [
       "  b_number t_number sf_number current_hist_grade current_hist_type\n",
       "1 197      6243     8077      Treatment Effect   Treatment Effect \n",
       "2 197      6243     8077      Treatment Effect   Treatment Effect \n",
       "3 197      6243     8077      Treatment Effect   Treatment Effect \n",
       "4 697      5333     7691      Grade III          Oligodendroglioma\n",
       "5 697      5333     7691      Grade III          Oligodendroglioma\n",
       "6 697      5333     7691      Grade III          Oligodendroglioma\n",
       "  current_scan_date.x current_surgery_date.x post_t_number post_scan_date\n",
       "1 2009-07-15          2009-07-16             11078         2009-07-18    \n",
       "2 2009-07-15          2009-07-16             11078         2009-07-18    \n",
       "3 2009-07-15          2009-07-16             11078         2009-07-18    \n",
       "4 2008-05-12          2008-05-14              8422         2008-05-16    \n",
       "5 2008-05-12          2008-05-14              8422         2008-05-16    \n",
       "6 2008-05-12          2008-05-14              8422         2008-05-16    \n",
       "  age_at_surgery extent_of_resection inital_kps last_contact_date\n",
       "1 56             Sub-total resection NA         2017-01-27       \n",
       "2 56             Sub-total resection NA         2017-01-27       \n",
       "3 56             Sub-total resection NA         2017-01-27       \n",
       "4 49             Sub-total resection 90         NA               \n",
       "5 49             Sub-total resection 90         NA               \n",
       "6 49             Sub-total resection 90         NA               \n",
       "  progression_date pfs_censored pfs  date_of_death os_censored os   gender\n",
       "1 NA               0            2753 NA            0           2753 M     \n",
       "2 NA               0            2753 NA            0           2753 M     \n",
       "3 NA               0            2753 NA            0           2753 M     \n",
       "4 NA               0              NA 2010-05-01    1            719 M     \n",
       "5 NA               0              NA 2010-05-01    1            719 M     \n",
       "6 NA               0              NA 2010-05-01    1            719 M     \n",
       "  birthdate  race  vialid t_number_x current_scan_date.y current_surgery_date.y\n",
       "1 1953-07-10 White 91B26  t6243      <NA>                7/16/09               \n",
       "2 1953-07-10 White 93B26  t6243      <NA>                7/16/09               \n",
       "3 1953-07-10 White 92B26  t6243      <NA>                7/16/09               \n",
       "4 1959-02-25 White 51B16  t5333      5-12-08             5/14/08               \n",
       "5 1959-02-25 White 52B16  t5333      5-12-08             5/14/08               \n",
       "6 1959-02-25 White 53B16  t5333      5-12-08             5/14/08               \n",
       "  tumor_cell_evaluation necrosis mv_hyperplasia mv_delicate_vasculature\n",
       "1 0                     0        1              1                      \n",
       "2 0                     0        0              0                      \n",
       "3 2                     1        1              0                      \n",
       "4 2                     0        0              1                      \n",
       "5 2                     1        2              0                      \n",
       "6 1                     0        1              1                      \n",
       "  f8_delicate f8_simple f8_complex mib_1 avgerage_cells treatment_related_ab\n",
       "1 3           0         0          0.99  200.0          0                   \n",
       "2 1           3         0          0.99  200.0          1                   \n",
       "3 1           2         0          0.99  200.0          1                   \n",
       "4 1           0         1          7.94  105.8          NA                  \n",
       "5 1           1         3          4.99   83.0          NA                  \n",
       "6 3           1         0          4.51   75.4          NA                  \n",
       "  bx_pure_treatment_effect percent_tumor_nuclei nfl  nfse nt1c nt1v nt1d \n",
       "1 t                        NA                   1.43 2.91 0.76 0.61  0.10\n",
       "2 t                        NA                   0.72 6.31 0.63 0.53  0.03\n",
       "3 f                        NA                   1.36 2.83 0.80 0.64  0.10\n",
       "4 f                        NA                   1.25 1.39 0.90 1.12 -0.18\n",
       "5 f                        NA                   1.70 1.64 1.40 1.09  0.36\n",
       "6 f                        NA                   1.20 1.39 0.86 1.12 -0.23\n",
       "  nadc.1 nfa.1 nev1.1 nev2.1 nev3.1 nevrad.1 nadc.2 nfa.2 nev1.2 nev2.2 nev3.2\n",
       "1 1.76   1.17  1.43   1.70   1.54   1.60     1.76   1.17  1.43   1.70   1.54  \n",
       "2 2.20   0.72  1.74   2.07   2.20   2.06     2.20   0.72  1.74   2.07   2.20  \n",
       "3 1.93   0.83  1.61   1.84   1.89   1.83     1.93   0.83  1.61   1.84   1.89  \n",
       "4 1.32   1.06  1.11   1.18   1.21   1.19       NA     NA    NA     NA     NA  \n",
       "5 1.52   1.50  1.34   1.37   1.21   1.27       NA     NA    NA     NA     NA  \n",
       "6 1.32   1.06  1.11   1.21   1.21   1.19       NA     NA    NA     NA     NA  \n",
       "  nevrad.2 cbvn_nlin phn_nlin recov_nlin phn_npar recov_npar recovn_npar ccri\n",
       "1 1.60     0.74      0.62     86.06      0.62     93.42      NA          NA  \n",
       "2 2.06     1.78      1.70     86.05      1.68     87.64      NA          NA  \n",
       "3 1.83     0.67      0.56     82.08      0.59     81.11      NA          NA  \n",
       "4   NA     0.85      0.75     72.54      0.89     79.31      NA          NA  \n",
       "5   NA     0.69      0.60     69.69      0.65     75.48      NA          NA  \n",
       "6   NA     0.56      0.60     92.08      0.58     93.62      NA          NA  \n",
       "  cni crni ncho ncre nnaa nlac nlip newdata olddata\n",
       "1 NA  NA   NA   NA   NA   NA   NA   0       1      \n",
       "2 NA  NA   NA   NA   NA   NA   NA   0       1      \n",
       "3 NA  NA   NA   NA   NA   NA   NA   0       1      \n",
       "4 NA  NA   NA   NA   NA   NA   NA   0       1      \n",
       "5 NA  NA   NA   NA   NA   NA   NA   0       1      \n",
       "6 NA  NA   NA   NA   NA   NA   NA   0       1      \n",
       "  exclude_bc_hematoma_or_ventricle exclude_perf nLL\n",
       "1 0                                0            NA \n",
       "2 0                                0            NA \n",
       "3 0                                0            NA \n",
       "4 0                                0            NA \n",
       "5 0                                0            NA \n",
       "6 0                                0            NA \n",
       "  comments                                               perf_quant\n",
       "1 increased cellularity, gliosis, rare atypical nuclei   NA        \n",
       "2 hypercellular, gliosis, hyalinized BV assign to Simple NA        \n",
       "3 SMI31 areas of \"3\"                                     NA        \n",
       "4 NA                                                     NA        \n",
       "5 NA                                                     NA        \n",
       "6 NA                                                     NA        \n",
       "  include_perf spec_quant include_spec diffu1000_quant diffu2000_quant\n",
       "1 NA           all_nas    0            all_nas         NA             \n",
       "2 NA           all_nas    0            all_nas         NA             \n",
       "3 NA           all_nas    0            all_nas         NA             \n",
       "4 NA           all_nas    0            NA              all_nas        \n",
       "5 NA           all_nas    0            NA              all_nas        \n",
       "6 NA           all_nas    0            NA              all_nas        \n",
       "  exclude_bc_anat exclude_bc_pathology include_diffu1000 include_diffu2000\n",
       "1 NA              NA                   1                 1                \n",
       "2 NA              NA                   1                 1                \n",
       "3 NA              NA                   1                 1                \n",
       "4 NA              NA                   1                 0                \n",
       "5 NA              NA                   1                 0                \n",
       "6 NA              NA                   1                 0                \n",
       "  exclude_histology txe_comments outcome in_CEL in_T2all in_NEL CELorNEL\n",
       "1 NA                True         txe     0      1        1      NEL     \n",
       "2 NA                True         txe     0      0        0      NB      \n",
       "3 NA                False        rHGG    0      1        1      NEL     \n",
       "4 NA                NA           rHGG    0      1        1      NEL     \n",
       "5 NA                NA           rHGG    1      1        0      CEL     \n",
       "6 NA                NA           unk     0      0        0      NB      "
      ]
     },
     "metadata": {},
     "output_type": "display_data"
    }
   ],
   "source": [
    "head(recgli)"
   ]
  },
  {
   "cell_type": "code",
   "execution_count": 28,
   "metadata": {},
   "outputs": [],
   "source": [
    "recgli.noffpe = recgli[-grep(\"ffpe\", recgli$comments, ignore.case=TRUE), ]"
   ]
  },
  {
   "cell_type": "code",
   "execution_count": 29,
   "metadata": {},
   "outputs": [
    {
     "data": {
      "text/html": [
       "<table>\n",
       "<thead><tr><th></th><th scope=col>b_number</th><th scope=col>t_number</th><th scope=col>sf_number</th><th scope=col>current_hist_grade</th><th scope=col>current_hist_type</th><th scope=col>current_scan_date.x</th><th scope=col>current_surgery_date.x</th><th scope=col>post_t_number</th><th scope=col>post_scan_date</th><th scope=col>age_at_surgery</th><th scope=col>extent_of_resection</th><th scope=col>inital_kps</th><th scope=col>last_contact_date</th><th scope=col>progression_date</th><th scope=col>pfs_censored</th><th scope=col>pfs</th><th scope=col>date_of_death</th><th scope=col>os_censored</th><th scope=col>os</th><th scope=col>gender</th><th scope=col>birthdate</th><th scope=col>race</th><th scope=col>vialid</th><th scope=col>t_number_x</th><th scope=col>current_scan_date.y</th><th scope=col>current_surgery_date.y</th><th scope=col>tumor_cell_evaluation</th><th scope=col>necrosis</th><th scope=col>mv_hyperplasia</th><th scope=col>mv_delicate_vasculature</th><th scope=col>f8_delicate</th><th scope=col>f8_simple</th><th scope=col>f8_complex</th><th scope=col>mib_1</th><th scope=col>avgerage_cells</th><th scope=col>treatment_related_ab</th><th scope=col>bx_pure_treatment_effect</th><th scope=col>percent_tumor_nuclei</th><th scope=col>nfl</th><th scope=col>nfse</th><th scope=col>nt1c</th><th scope=col>nt1v</th><th scope=col>nt1d</th><th scope=col>nadc.1</th><th scope=col>nfa.1</th><th scope=col>nev1.1</th><th scope=col>nev2.1</th><th scope=col>nev3.1</th><th scope=col>nevrad.1</th><th scope=col>nadc.2</th><th scope=col>nfa.2</th><th scope=col>nev1.2</th><th scope=col>nev2.2</th><th scope=col>nev3.2</th><th scope=col>nevrad.2</th><th scope=col>cbvn_nlin</th><th scope=col>phn_nlin</th><th scope=col>recov_nlin</th><th scope=col>phn_npar</th><th scope=col>recov_npar</th><th scope=col>recovn_npar</th><th scope=col>ccri</th><th scope=col>cni</th><th scope=col>crni</th><th scope=col>ncho</th><th scope=col>ncre</th><th scope=col>nnaa</th><th scope=col>nlac</th><th scope=col>nlip</th><th scope=col>newdata</th><th scope=col>olddata</th><th scope=col>exclude_bc_hematoma_or_ventricle</th><th scope=col>exclude_perf</th><th scope=col>nLL</th><th scope=col>comments</th><th scope=col>perf_quant</th><th scope=col>include_perf</th><th scope=col>spec_quant</th><th scope=col>include_spec</th><th scope=col>diffu1000_quant</th><th scope=col>diffu2000_quant</th><th scope=col>exclude_bc_anat</th><th scope=col>exclude_bc_pathology</th><th scope=col>include_diffu1000</th><th scope=col>include_diffu2000</th><th scope=col>exclude_histology</th><th scope=col>txe_comments</th><th scope=col>outcome</th><th scope=col>in_CEL</th><th scope=col>in_T2all</th><th scope=col>in_NEL</th><th scope=col>CELorNEL</th></tr></thead>\n",
       "<tbody>\n",
       "\t<tr><th scope=row>462</th><td>4298                                                        </td><td>11412                                                       </td><td>11291                                                       </td><td>Grade III                                                   </td><td>Astrocytoma                                                 </td><td>2017-05-16                                                  </td><td>2017-05-17                                                  </td><td>11502                                                       </td><td>2017-05-19                                                  </td><td>34                                                          </td><td>Gross total resection                                       </td><td>NA                                                          </td><td>NA                                                          </td><td>NA                                                          </td><td>0                                                           </td><td>  NA                                                        </td><td>NA                                                          </td><td>0                                                           </td><td>  NA                                                        </td><td>M                                                           </td><td>1983-04-01                                                  </td><td>White                                                       </td><td>41D3                                                        </td><td>NA                                                          </td><td>NA                                                          </td><td>5/17/17                                                     </td><td>3                                                           </td><td>0                                                           </td><td>1                                                           </td><td>NA                                                          </td><td>2                                                           </td><td>2                                                           </td><td>0                                                           </td><td>5.54                                                        </td><td>216.6                                                       </td><td>NA                                                          </td><td>f                                                           </td><td>80                                                          </td><td>1.48                                                        </td><td>2.97                                                        </td><td>0.39                                                        </td><td>0.43                                                        </td><td>-0.03                                                       </td><td>3.16                                                        </td><td>0.50                                                        </td><td>2.56                                                        </td><td>2.98                                                        </td><td>3.34                                                        </td><td>3.06                                                        </td><td>3.04                                                        </td><td>0.50                                                        </td><td>2.30                                                        </td><td>2.66                                                        </td><td>2.88                                                        </td><td>2.70                                                        </td><td>  NA                                                        </td><td>  NA                                                        </td><td> NA                                                         </td><td>  NA                                                        </td><td> NA                                                         </td><td> NA                                                         </td><td> 1.14                                                       </td><td>0.95                                                        </td><td>-0.33                                                       </td><td>1.12                                                        </td><td>0.68                                                        </td><td>1.10                                                        </td><td>0.79                                                        </td><td>0.79                                                        </td><td> 1                                                          </td><td> 0                                                          </td><td>NA                                                          </td><td>NA                                                          </td><td>0.79                                                        </td><td>\"tumor 3, small region of 1\"                                </td><td>all_nas                                                     </td><td> 1                                                          </td><td>NA                                                          </td><td> 1                                                          </td><td>NA                                                          </td><td>NA                                                          </td><td>NA                                                          </td><td>NA                                                          </td><td> 1                                                          </td><td> 1                                                          </td><td>NA                                                          </td><td>False                                                       </td><td>rHGG                                                        </td><td> 0                                                          </td><td> 1                                                          </td><td> 1                                                          </td><td>NEL                                                         </td></tr>\n",
       "\t<tr><th scope=row>463</th><td>4298                                                        </td><td>11412                                                       </td><td>11291                                                       </td><td>Grade III                                                   </td><td>Astrocytoma                                                 </td><td>2017-05-16                                                  </td><td>2017-05-17                                                  </td><td>11502                                                       </td><td>2017-05-19                                                  </td><td>34                                                          </td><td>Gross total resection                                       </td><td>NA                                                          </td><td>NA                                                          </td><td>NA                                                          </td><td>0                                                           </td><td>  NA                                                        </td><td>NA                                                          </td><td>0                                                           </td><td>  NA                                                        </td><td>M                                                           </td><td>1983-04-01                                                  </td><td>White                                                       </td><td>42D3                                                        </td><td>t11412                                                      </td><td>NA                                                          </td><td>5/17/17                                                     </td><td>3                                                           </td><td>0                                                           </td><td>0                                                           </td><td>NA                                                          </td><td>3                                                           </td><td>0                                                           </td><td>0                                                           </td><td>2.85                                                        </td><td>236.5                                                       </td><td>NA                                                          </td><td>f                                                           </td><td>80                                                          </td><td>2.19                                                        </td><td>2.26                                                        </td><td>0.77                                                        </td><td>0.73                                                        </td><td> 0.05                                                       </td><td>2.17                                                        </td><td>0.42                                                        </td><td>1.76                                                        </td><td>2.11                                                        </td><td>2.34                                                        </td><td>2.14                                                        </td><td>2.21                                                        </td><td>0.61                                                        </td><td>1.73                                                        </td><td>1.98                                                        </td><td>2.12                                                        </td><td>2.02                                                        </td><td>1.47                                                        </td><td>1.74                                                        </td><td>100                                                         </td><td>1.61                                                        </td><td>100                                                         </td><td>100                                                         </td><td>-1.16                                                       </td><td>4.55                                                        </td><td> 4.17                                                       </td><td>1.50                                                        </td><td>1.84                                                        </td><td>0.04                                                        </td><td>0.97                                                        </td><td>0.97                                                        </td><td> 1                                                          </td><td> 0                                                          </td><td>NA                                                          </td><td>NA                                                          </td><td>0.97                                                        </td><td>NA                                                          </td><td>NA                                                          </td><td>NA                                                          </td><td>NA                                                          </td><td> 1                                                          </td><td>NA                                                          </td><td>NA                                                          </td><td>NA                                                          </td><td>NA                                                          </td><td> 1                                                          </td><td> 1                                                          </td><td>NA                                                          </td><td>NA                                                          </td><td>rHGG                                                        </td><td> 0                                                          </td><td> 1                                                          </td><td> 1                                                          </td><td>NEL                                                         </td></tr>\n",
       "\t<tr><th scope=row>464</th><td>4300                                                        </td><td>11419                                                       </td><td>11302                                                       </td><td>Grade IV                                                    </td><td>Glioblastoma                                                </td><td>2017-05-28                                                  </td><td>2017-05-31                                                  </td><td>11500                                                       </td><td>2017-06-02                                                  </td><td>68                                                          </td><td>Other - See Surgery Comments                                </td><td>NA                                                          </td><td>NA                                                          </td><td>NA                                                          </td><td>0                                                           </td><td>  NA                                                        </td><td>NA                                                          </td><td>0                                                           </td><td>  NA                                                        </td><td>M                                                           </td><td>1949-04-06                                                  </td><td>White                                                       </td><td>49D3                                                        </td><td>NA                                                          </td><td>NA                                                          </td><td>5/31/17                                                     </td><td>3                                                           </td><td>2                                                           </td><td>1                                                           </td><td>NA                                                          </td><td>Indeterminable                                              </td><td>Indeterminable                                              </td><td>Indeterminable                                              </td><td>1.61                                                        </td><td>124.0                                                       </td><td>NA                                                          </td><td>f                                                           </td><td>50                                                          </td><td>1.67                                                        </td><td>1.86                                                        </td><td>0.73                                                        </td><td>0.59                                                        </td><td> 0.08                                                       </td><td>1.91                                                        </td><td>0.42                                                        </td><td>1.49                                                        </td><td>1.93                                                        </td><td>2.12                                                        </td><td>0.00                                                        </td><td>1.75                                                        </td><td>0.61                                                        </td><td>1.35                                                        </td><td>1.60                                                        </td><td>1.61                                                        </td><td>1.55                                                        </td><td>  NA                                                        </td><td>  NA                                                        </td><td> NA                                                         </td><td>  NA                                                        </td><td> NA                                                         </td><td> NA                                                         </td><td> 2.31                                                       </td><td>3.28                                                        </td><td> 0.18                                                       </td><td>1.02                                                        </td><td>0.30                                                        </td><td>0.18                                                        </td><td>0.52                                                        </td><td>0.52                                                        </td><td> 1                                                          </td><td> 0                                                          </td><td>NA                                                          </td><td>NA                                                          </td><td>0.52                                                        </td><td>\"Rx+Tumor+ mostly necrosis~85%\"                             </td><td>all_nas                                                     </td><td> 1                                                          </td><td>NA                                                          </td><td> 1                                                          </td><td>NA                                                          </td><td>NA                                                          </td><td>NA                                                          </td><td>NA                                                          </td><td> 1                                                          </td><td> 1                                                          </td><td>NA                                                          </td><td>True                                                        </td><td>unk                                                         </td><td> 0                                                          </td><td> 1                                                          </td><td> 1                                                          </td><td>NEL                                                         </td></tr>\n",
       "\t<tr><th scope=row>467</th><td>4306                                                        </td><td>11484                                                       </td><td>11338                                                       </td><td>Treatment Effect                                            </td><td>Treatment Effect                                            </td><td>2017-06-29                                                  </td><td>2017-06-30                                                  </td><td>11489                                                       </td><td>2017-07-01                                                  </td><td>53                                                          </td><td>Sub-total resection                                         </td><td>NA                                                          </td><td>NA                                                          </td><td>NA                                                          </td><td>0                                                           </td><td>  NA                                                        </td><td>NA                                                          </td><td>0                                                           </td><td>  NA                                                        </td><td>M                                                           </td><td>1964-04-27                                                  </td><td>Other                                                       </td><td>14D1                                                        </td><td>t11484                                                      </td><td>NA                                                          </td><td>6/30/17                                                     </td><td>0                                                           </td><td>0                                                           </td><td>1                                                           </td><td>NA                                                          </td><td>NA                                                          </td><td>NA                                                          </td><td>NA                                                          </td><td>0.78                                                        </td><td>170.0                                                       </td><td>NA                                                          </td><td>f                                                           </td><td>45                                                          </td><td>2.07                                                        </td><td>2.01                                                        </td><td>1.65                                                        </td><td>1.02                                                        </td><td> 0.65                                                       </td><td>1.65                                                        </td><td>0.94                                                        </td><td>1.34                                                        </td><td>1.58                                                        </td><td>1.73                                                        </td><td>1.61                                                        </td><td>1.55                                                        </td><td>0.61                                                        </td><td>1.17                                                        </td><td>1.31                                                        </td><td>1.45                                                        </td><td>1.44                                                        </td><td>1.23                                                        </td><td>1.24                                                        </td><td>100                                                         </td><td>1.14                                                        </td><td>100                                                         </td><td>100                                                         </td><td> 2.53                                                       </td><td>3.28                                                        </td><td> 0.22                                                       </td><td>1.87                                                        </td><td>1.10                                                        </td><td>1.07                                                        </td><td>0.39                                                        </td><td>0.39                                                        </td><td> 1                                                          </td><td> 0                                                          </td><td>NA                                                          </td><td>NA                                                          </td><td>0.39                                                        </td><td>\"hypercellular, MAP2-4 tumor cells possible,PV inflammation\"</td><td>NA                                                          </td><td>NA                                                          </td><td>NA                                                          </td><td> 1                                                          </td><td>NA                                                          </td><td>NA                                                          </td><td>NA                                                          </td><td>NA                                                          </td><td> 1                                                          </td><td> 1                                                          </td><td>NA                                                          </td><td>True                                                        </td><td>txe                                                         </td><td> 1                                                          </td><td> 1                                                          </td><td> 0                                                          </td><td>CEL                                                         </td></tr>\n",
       "\t<tr><th scope=row>468</th><td>4306                                                        </td><td>11484                                                       </td><td>11338                                                       </td><td>Treatment Effect                                            </td><td>Treatment Effect                                            </td><td>2017-06-29                                                  </td><td>2017-06-30                                                  </td><td>11489                                                       </td><td>2017-07-01                                                  </td><td>53                                                          </td><td>Sub-total resection                                         </td><td>NA                                                          </td><td>NA                                                          </td><td>NA                                                          </td><td>0                                                           </td><td>  NA                                                        </td><td>NA                                                          </td><td>0                                                           </td><td>  NA                                                        </td><td>M                                                           </td><td>1964-04-27                                                  </td><td>Other                                                       </td><td>17D1                                                        </td><td>t11484                                                      </td><td>NA                                                          </td><td>6/30/17                                                     </td><td>0                                                           </td><td>0                                                           </td><td>1                                                           </td><td>NA                                                          </td><td>NA                                                          </td><td>NA                                                          </td><td>NA                                                          </td><td>1.41                                                        </td><td>212.6                                                       </td><td>NA                                                          </td><td>f                                                           </td><td> 0                                                          </td><td>2.08                                                        </td><td>2.26                                                        </td><td>0.82                                                        </td><td>0.95                                                        </td><td>-0.13                                                       </td><td>1.51                                                        </td><td>1.06                                                        </td><td>1.25                                                        </td><td>1.55                                                        </td><td>1.48                                                        </td><td>1.50                                                        </td><td>1.44                                                        </td><td>0.94                                                        </td><td>1.10                                                        </td><td>1.31                                                        </td><td>1.24                                                        </td><td>1.31                                                        </td><td>0.41                                                        </td><td>0.53                                                        </td><td>100                                                         </td><td>0.49                                                        </td><td>100                                                         </td><td>100                                                         </td><td> 2.33                                                       </td><td>2.28                                                        </td><td>-0.38                                                       </td><td>1.17                                                        </td><td>0.44                                                        </td><td>0.57                                                        </td><td>0.09                                                        </td><td>0.09                                                        </td><td> 1                                                          </td><td> 0                                                          </td><td>NA                                                          </td><td>NA                                                          </td><td>0.09                                                        </td><td>\"MAP2-negative, PV inflammation\"                            </td><td>NA                                                          </td><td>NA                                                          </td><td>NA                                                          </td><td> 1                                                          </td><td>NA                                                          </td><td>NA                                                          </td><td>NA                                                          </td><td>NA                                                          </td><td> 1                                                          </td><td> 1                                                          </td><td>NA                                                          </td><td>True                                                        </td><td>txe                                                         </td><td> 0                                                          </td><td> 1                                                          </td><td> 1                                                          </td><td>NEL                                                         </td></tr>\n",
       "\t<tr><th scope=row>470</th><td>  68                                                        </td><td> 6024                                                       </td><td>   NA                                                       </td><td>Grade IV                                                    </td><td>Glioblastoma                                                </td><td>2009-03-08                                                  </td><td>NA                                                          </td><td>   NA                                                       </td><td>NA                                                          </td><td>NA                                                          </td><td>NA                                                          </td><td>NA                                                          </td><td>2017-02-02                                                  </td><td>NA                                                          </td><td>0                                                           </td><td>2888                                                        </td><td>NA                                                          </td><td>0                                                           </td><td>2888                                                        </td><td>F                                                           </td><td>1967-01-11                                                  </td><td>White                                                       </td><td>NA                                                          </td><td>NA                                                          </td><td>NA                                                          </td><td>NA                                                          </td><td>NA                                                          </td><td>NA                                                          </td><td>NA                                                          </td><td>NA                                                          </td><td>NA                                                          </td><td>NA                                                          </td><td>NA                                                          </td><td>  NA                                                        </td><td>   NA                                                       </td><td>NA                                                          </td><td>NA                                                          </td><td>NA                                                          </td><td>  NA                                                        </td><td>  NA                                                        </td><td>  NA                                                        </td><td>  NA                                                        </td><td>   NA                                                       </td><td>  NA                                                        </td><td>  NA                                                        </td><td>  NA                                                        </td><td>  NA                                                        </td><td>  NA                                                        </td><td>  NA                                                        </td><td>  NA                                                        </td><td>  NA                                                        </td><td>  NA                                                        </td><td>  NA                                                        </td><td>  NA                                                        </td><td>  NA                                                        </td><td>  NA                                                        </td><td>  NA                                                        </td><td> NA                                                         </td><td>  NA                                                        </td><td> NA                                                         </td><td> NA                                                         </td><td>   NA                                                       </td><td>  NA                                                        </td><td>   NA                                                       </td><td>  NA                                                        </td><td>  NA                                                        </td><td>  NA                                                        </td><td>  NA                                                        </td><td>  NA                                                        </td><td>NA                                                          </td><td>NA                                                          </td><td>NA                                                          </td><td>NA                                                          </td><td>  NA                                                        </td><td>NA                                                          </td><td>NA                                                          </td><td>NA                                                          </td><td>NA                                                          </td><td>NA                                                          </td><td>NA                                                          </td><td>NA                                                          </td><td>NA                                                          </td><td>NA                                                          </td><td>NA                                                          </td><td>NA                                                          </td><td>NA                                                          </td><td>NA                                                          </td><td>NA                                                          </td><td>NA                                                          </td><td>NA                                                          </td><td>NA                                                          </td><td>NA                                                          </td></tr>\n",
       "</tbody>\n",
       "</table>\n"
      ],
      "text/latex": [
       "\\begin{tabular}{r|llllllllllllllllllllllllllllllllllllllllllllllllllllllllllllllllllllllllllllllllllllllllllll}\n",
       "  & b\\_number & t\\_number & sf\\_number & current\\_hist\\_grade & current\\_hist\\_type & current\\_scan\\_date.x & current\\_surgery\\_date.x & post\\_t\\_number & post\\_scan\\_date & age\\_at\\_surgery & extent\\_of\\_resection & inital\\_kps & last\\_contact\\_date & progression\\_date & pfs\\_censored & pfs & date\\_of\\_death & os\\_censored & os & gender & birthdate & race & vialid & t\\_number\\_x & current\\_scan\\_date.y & current\\_surgery\\_date.y & tumor\\_cell\\_evaluation & necrosis & mv\\_hyperplasia & mv\\_delicate\\_vasculature & f8\\_delicate & f8\\_simple & f8\\_complex & mib\\_1 & avgerage\\_cells & treatment\\_related\\_ab & bx\\_pure\\_treatment\\_effect & percent\\_tumor\\_nuclei & nfl & nfse & nt1c & nt1v & nt1d & nadc.1 & nfa.1 & nev1.1 & nev2.1 & nev3.1 & nevrad.1 & nadc.2 & nfa.2 & nev1.2 & nev2.2 & nev3.2 & nevrad.2 & cbvn\\_nlin & phn\\_nlin & recov\\_nlin & phn\\_npar & recov\\_npar & recovn\\_npar & ccri & cni & crni & ncho & ncre & nnaa & nlac & nlip & newdata & olddata & exclude\\_bc\\_hematoma\\_or\\_ventricle & exclude\\_perf & nLL & comments & perf\\_quant & include\\_perf & spec\\_quant & include\\_spec & diffu1000\\_quant & diffu2000\\_quant & exclude\\_bc\\_anat & exclude\\_bc\\_pathology & include\\_diffu1000 & include\\_diffu2000 & exclude\\_histology & txe\\_comments & outcome & in\\_CEL & in\\_T2all & in\\_NEL & CELorNEL\\\\\n",
       "\\hline\n",
       "\t462 & 4298                                                         & 11412                                                        & 11291                                                        & Grade III                                                    & Astrocytoma                                                  & 2017-05-16                                                   & 2017-05-17                                                   & 11502                                                        & 2017-05-19                                                   & 34                                                           & Gross total resection                                        & NA                                                           & NA                                                           & NA                                                           & 0                                                            &   NA                                                         & NA                                                           & 0                                                            &   NA                                                         & M                                                            & 1983-04-01                                                   & White                                                        & 41D3                                                         & NA                                                           & NA                                                           & 5/17/17                                                      & 3                                                            & 0                                                            & 1                                                            & NA                                                           & 2                                                            & 2                                                            & 0                                                            & 5.54                                                         & 216.6                                                        & NA                                                           & f                                                            & 80                                                           & 1.48                                                         & 2.97                                                         & 0.39                                                         & 0.43                                                         & -0.03                                                        & 3.16                                                         & 0.50                                                         & 2.56                                                         & 2.98                                                         & 3.34                                                         & 3.06                                                         & 3.04                                                         & 0.50                                                         & 2.30                                                         & 2.66                                                         & 2.88                                                         & 2.70                                                         &   NA                                                         &   NA                                                         &  NA                                                          &   NA                                                         &  NA                                                          &  NA                                                          &  1.14                                                        & 0.95                                                         & -0.33                                                        & 1.12                                                         & 0.68                                                         & 1.10                                                         & 0.79                                                         & 0.79                                                         &  1                                                           &  0                                                           & NA                                                           & NA                                                           & 0.79                                                         & \"tumor 3, small region of 1\"                                 & all\\_nas                                                    &  1                                                           & NA                                                           &  1                                                           & NA                                                           & NA                                                           & NA                                                           & NA                                                           &  1                                                           &  1                                                           & NA                                                           & False                                                        & rHGG                                                         &  0                                                           &  1                                                           &  1                                                           & NEL                                                         \\\\\n",
       "\t463 & 4298                                                         & 11412                                                        & 11291                                                        & Grade III                                                    & Astrocytoma                                                  & 2017-05-16                                                   & 2017-05-17                                                   & 11502                                                        & 2017-05-19                                                   & 34                                                           & Gross total resection                                        & NA                                                           & NA                                                           & NA                                                           & 0                                                            &   NA                                                         & NA                                                           & 0                                                            &   NA                                                         & M                                                            & 1983-04-01                                                   & White                                                        & 42D3                                                         & t11412                                                       & NA                                                           & 5/17/17                                                      & 3                                                            & 0                                                            & 0                                                            & NA                                                           & 3                                                            & 0                                                            & 0                                                            & 2.85                                                         & 236.5                                                        & NA                                                           & f                                                            & 80                                                           & 2.19                                                         & 2.26                                                         & 0.77                                                         & 0.73                                                         &  0.05                                                        & 2.17                                                         & 0.42                                                         & 1.76                                                         & 2.11                                                         & 2.34                                                         & 2.14                                                         & 2.21                                                         & 0.61                                                         & 1.73                                                         & 1.98                                                         & 2.12                                                         & 2.02                                                         & 1.47                                                         & 1.74                                                         & 100                                                          & 1.61                                                         & 100                                                          & 100                                                          & -1.16                                                        & 4.55                                                         &  4.17                                                        & 1.50                                                         & 1.84                                                         & 0.04                                                         & 0.97                                                         & 0.97                                                         &  1                                                           &  0                                                           & NA                                                           & NA                                                           & 0.97                                                         & NA                                                           & NA                                                           & NA                                                           & NA                                                           &  1                                                           & NA                                                           & NA                                                           & NA                                                           & NA                                                           &  1                                                           &  1                                                           & NA                                                           & NA                                                           & rHGG                                                         &  0                                                           &  1                                                           &  1                                                           & NEL                                                         \\\\\n",
       "\t464 & 4300                                                                            & 11419                                                                           & 11302                                                                           & Grade IV                                                                        & Glioblastoma                                                                    & 2017-05-28                                                                      & 2017-05-31                                                                      & 11500                                                                           & 2017-06-02                                                                      & 68                                                                              & Other - See Surgery Comments                                                    & NA                                                                              & NA                                                                              & NA                                                                              & 0                                                                               &   NA                                                                            & NA                                                                              & 0                                                                               &   NA                                                                            & M                                                                               & 1949-04-06                                                                      & White                                                                           & 49D3                                                                            & NA                                                                              & NA                                                                              & 5/31/17                                                                         & 3                                                                               & 2                                                                               & 1                                                                               & NA                                                                              & Indeterminable                                                                  & Indeterminable                                                                  & Indeterminable                                                                  & 1.61                                                                            & 124.0                                                                           & NA                                                                              & f                                                                               & 50                                                                              & 1.67                                                                            & 1.86                                                                            & 0.73                                                                            & 0.59                                                                            &  0.08                                                                           & 1.91                                                                            & 0.42                                                                            & 1.49                                                                            & 1.93                                                                            & 2.12                                                                            & 0.00                                                                            & 1.75                                                                            & 0.61                                                                            & 1.35                                                                            & 1.60                                                                            & 1.61                                                                            & 1.55                                                                            &   NA                                                                            &   NA                                                                            &  NA                                                                             &   NA                                                                            &  NA                                                                             &  NA                                                                             &  2.31                                                                           & 3.28                                                                            &  0.18                                                                           & 1.02                                                                            & 0.30                                                                            & 0.18                                                                            & 0.52                                                                            & 0.52                                                                            &  1                                                                              &  0                                                                              & NA                                                                              & NA                                                                              & 0.52                                                                            & \"Rx+Tumor+ mostly necrosis\\textasciitilde{}85\\%\"                              & all\\_nas                                                                       &  1                                                                              & NA                                                                              &  1                                                                              & NA                                                                              & NA                                                                              & NA                                                                              & NA                                                                              &  1                                                                              &  1                                                                              & NA                                                                              & True                                                                            & unk                                                                             &  0                                                                              &  1                                                                              &  1                                                                              & NEL                                                                            \\\\\n",
       "\t467 & 4306                                                         & 11484                                                        & 11338                                                        & Treatment Effect                                             & Treatment Effect                                             & 2017-06-29                                                   & 2017-06-30                                                   & 11489                                                        & 2017-07-01                                                   & 53                                                           & Sub-total resection                                          & NA                                                           & NA                                                           & NA                                                           & 0                                                            &   NA                                                         & NA                                                           & 0                                                            &   NA                                                         & M                                                            & 1964-04-27                                                   & Other                                                        & 14D1                                                         & t11484                                                       & NA                                                           & 6/30/17                                                      & 0                                                            & 0                                                            & 1                                                            & NA                                                           & NA                                                           & NA                                                           & NA                                                           & 0.78                                                         & 170.0                                                        & NA                                                           & f                                                            & 45                                                           & 2.07                                                         & 2.01                                                         & 1.65                                                         & 1.02                                                         &  0.65                                                        & 1.65                                                         & 0.94                                                         & 1.34                                                         & 1.58                                                         & 1.73                                                         & 1.61                                                         & 1.55                                                         & 0.61                                                         & 1.17                                                         & 1.31                                                         & 1.45                                                         & 1.44                                                         & 1.23                                                         & 1.24                                                         & 100                                                          & 1.14                                                         & 100                                                          & 100                                                          &  2.53                                                        & 3.28                                                         &  0.22                                                        & 1.87                                                         & 1.10                                                         & 1.07                                                         & 0.39                                                         & 0.39                                                         &  1                                                           &  0                                                           & NA                                                           & NA                                                           & 0.39                                                         & \"hypercellular, MAP2-4 tumor cells possible,PV inflammation\" & NA                                                           & NA                                                           & NA                                                           &  1                                                           & NA                                                           & NA                                                           & NA                                                           & NA                                                           &  1                                                           &  1                                                           & NA                                                           & True                                                         & txe                                                          &  1                                                           &  1                                                           &  0                                                           & CEL                                                         \\\\\n",
       "\t468 & 4306                                                         & 11484                                                        & 11338                                                        & Treatment Effect                                             & Treatment Effect                                             & 2017-06-29                                                   & 2017-06-30                                                   & 11489                                                        & 2017-07-01                                                   & 53                                                           & Sub-total resection                                          & NA                                                           & NA                                                           & NA                                                           & 0                                                            &   NA                                                         & NA                                                           & 0                                                            &   NA                                                         & M                                                            & 1964-04-27                                                   & Other                                                        & 17D1                                                         & t11484                                                       & NA                                                           & 6/30/17                                                      & 0                                                            & 0                                                            & 1                                                            & NA                                                           & NA                                                           & NA                                                           & NA                                                           & 1.41                                                         & 212.6                                                        & NA                                                           & f                                                            &  0                                                           & 2.08                                                         & 2.26                                                         & 0.82                                                         & 0.95                                                         & -0.13                                                        & 1.51                                                         & 1.06                                                         & 1.25                                                         & 1.55                                                         & 1.48                                                         & 1.50                                                         & 1.44                                                         & 0.94                                                         & 1.10                                                         & 1.31                                                         & 1.24                                                         & 1.31                                                         & 0.41                                                         & 0.53                                                         & 100                                                          & 0.49                                                         & 100                                                          & 100                                                          &  2.33                                                        & 2.28                                                         & -0.38                                                        & 1.17                                                         & 0.44                                                         & 0.57                                                         & 0.09                                                         & 0.09                                                         &  1                                                           &  0                                                           & NA                                                           & NA                                                           & 0.09                                                         & \"MAP2-negative, PV inflammation\"                             & NA                                                           & NA                                                           & NA                                                           &  1                                                           & NA                                                           & NA                                                           & NA                                                           & NA                                                           &  1                                                           &  1                                                           & NA                                                           & True                                                         & txe                                                          &  0                                                           &  1                                                           &  1                                                           & NEL                                                         \\\\\n",
       "\t470 &   68                                                         &  6024                                                        &    NA                                                        & Grade IV                                                     & Glioblastoma                                                 & 2009-03-08                                                   & NA                                                           &    NA                                                        & NA                                                           & NA                                                           & NA                                                           & NA                                                           & 2017-02-02                                                   & NA                                                           & 0                                                            & 2888                                                         & NA                                                           & 0                                                            & 2888                                                         & F                                                            & 1967-01-11                                                   & White                                                        & NA                                                           & NA                                                           & NA                                                           & NA                                                           & NA                                                           & NA                                                           & NA                                                           & NA                                                           & NA                                                           & NA                                                           & NA                                                           &   NA                                                         &    NA                                                        & NA                                                           & NA                                                           & NA                                                           &   NA                                                         &   NA                                                         &   NA                                                         &   NA                                                         &    NA                                                        &   NA                                                         &   NA                                                         &   NA                                                         &   NA                                                         &   NA                                                         &   NA                                                         &   NA                                                         &   NA                                                         &   NA                                                         &   NA                                                         &   NA                                                         &   NA                                                         &   NA                                                         &   NA                                                         &  NA                                                          &   NA                                                         &  NA                                                          &  NA                                                          &    NA                                                        &   NA                                                         &    NA                                                        &   NA                                                         &   NA                                                         &   NA                                                         &   NA                                                         &   NA                                                         & NA                                                           & NA                                                           & NA                                                           & NA                                                           &   NA                                                         & NA                                                           & NA                                                           & NA                                                           & NA                                                           & NA                                                           & NA                                                           & NA                                                           & NA                                                           & NA                                                           & NA                                                           & NA                                                           & NA                                                           & NA                                                           & NA                                                           & NA                                                           & NA                                                           & NA                                                           & NA                                                          \\\\\n",
       "\\end{tabular}\n"
      ],
      "text/markdown": [
       "\n",
       "| <!--/--> | b_number | t_number | sf_number | current_hist_grade | current_hist_type | current_scan_date.x | current_surgery_date.x | post_t_number | post_scan_date | age_at_surgery | extent_of_resection | inital_kps | last_contact_date | progression_date | pfs_censored | pfs | date_of_death | os_censored | os | gender | birthdate | race | vialid | t_number_x | current_scan_date.y | current_surgery_date.y | tumor_cell_evaluation | necrosis | mv_hyperplasia | mv_delicate_vasculature | f8_delicate | f8_simple | f8_complex | mib_1 | avgerage_cells | treatment_related_ab | bx_pure_treatment_effect | percent_tumor_nuclei | nfl | nfse | nt1c | nt1v | nt1d | nadc.1 | nfa.1 | nev1.1 | nev2.1 | nev3.1 | nevrad.1 | nadc.2 | nfa.2 | nev1.2 | nev2.2 | nev3.2 | nevrad.2 | cbvn_nlin | phn_nlin | recov_nlin | phn_npar | recov_npar | recovn_npar | ccri | cni | crni | ncho | ncre | nnaa | nlac | nlip | newdata | olddata | exclude_bc_hematoma_or_ventricle | exclude_perf | nLL | comments | perf_quant | include_perf | spec_quant | include_spec | diffu1000_quant | diffu2000_quant | exclude_bc_anat | exclude_bc_pathology | include_diffu1000 | include_diffu2000 | exclude_histology | txe_comments | outcome | in_CEL | in_T2all | in_NEL | CELorNEL | \n",
       "|---|---|---|---|---|---|\n",
       "| 462 | 4298                                                         | 11412                                                        | 11291                                                        | Grade III                                                    | Astrocytoma                                                  | 2017-05-16                                                   | 2017-05-17                                                   | 11502                                                        | 2017-05-19                                                   | 34                                                           | Gross total resection                                        | NA                                                           | NA                                                           | NA                                                           | 0                                                            |   NA                                                         | NA                                                           | 0                                                            |   NA                                                         | M                                                            | 1983-04-01                                                   | White                                                        | 41D3                                                         | NA                                                           | NA                                                           | 5/17/17                                                      | 3                                                            | 0                                                            | 1                                                            | NA                                                           | 2                                                            | 2                                                            | 0                                                            | 5.54                                                         | 216.6                                                        | NA                                                           | f                                                            | 80                                                           | 1.48                                                         | 2.97                                                         | 0.39                                                         | 0.43                                                         | -0.03                                                        | 3.16                                                         | 0.50                                                         | 2.56                                                         | 2.98                                                         | 3.34                                                         | 3.06                                                         | 3.04                                                         | 0.50                                                         | 2.30                                                         | 2.66                                                         | 2.88                                                         | 2.70                                                         |   NA                                                         |   NA                                                         |  NA                                                          |   NA                                                         |  NA                                                          |  NA                                                          |  1.14                                                        | 0.95                                                         | -0.33                                                        | 1.12                                                         | 0.68                                                         | 1.10                                                         | 0.79                                                         | 0.79                                                         |  1                                                           |  0                                                           | NA                                                           | NA                                                           | 0.79                                                         | \"tumor 3, small region of 1\"                                 | all_nas                                                      |  1                                                           | NA                                                           |  1                                                           | NA                                                           | NA                                                           | NA                                                           | NA                                                           |  1                                                           |  1                                                           | NA                                                           | False                                                        | rHGG                                                         |  0                                                           |  1                                                           |  1                                                           | NEL                                                          | \n",
       "| 463 | 4298                                                         | 11412                                                        | 11291                                                        | Grade III                                                    | Astrocytoma                                                  | 2017-05-16                                                   | 2017-05-17                                                   | 11502                                                        | 2017-05-19                                                   | 34                                                           | Gross total resection                                        | NA                                                           | NA                                                           | NA                                                           | 0                                                            |   NA                                                         | NA                                                           | 0                                                            |   NA                                                         | M                                                            | 1983-04-01                                                   | White                                                        | 42D3                                                         | t11412                                                       | NA                                                           | 5/17/17                                                      | 3                                                            | 0                                                            | 0                                                            | NA                                                           | 3                                                            | 0                                                            | 0                                                            | 2.85                                                         | 236.5                                                        | NA                                                           | f                                                            | 80                                                           | 2.19                                                         | 2.26                                                         | 0.77                                                         | 0.73                                                         |  0.05                                                        | 2.17                                                         | 0.42                                                         | 1.76                                                         | 2.11                                                         | 2.34                                                         | 2.14                                                         | 2.21                                                         | 0.61                                                         | 1.73                                                         | 1.98                                                         | 2.12                                                         | 2.02                                                         | 1.47                                                         | 1.74                                                         | 100                                                          | 1.61                                                         | 100                                                          | 100                                                          | -1.16                                                        | 4.55                                                         |  4.17                                                        | 1.50                                                         | 1.84                                                         | 0.04                                                         | 0.97                                                         | 0.97                                                         |  1                                                           |  0                                                           | NA                                                           | NA                                                           | 0.97                                                         | NA                                                           | NA                                                           | NA                                                           | NA                                                           |  1                                                           | NA                                                           | NA                                                           | NA                                                           | NA                                                           |  1                                                           |  1                                                           | NA                                                           | NA                                                           | rHGG                                                         |  0                                                           |  1                                                           |  1                                                           | NEL                                                          | \n",
       "| 464 | 4300                                                         | 11419                                                        | 11302                                                        | Grade IV                                                     | Glioblastoma                                                 | 2017-05-28                                                   | 2017-05-31                                                   | 11500                                                        | 2017-06-02                                                   | 68                                                           | Other - See Surgery Comments                                 | NA                                                           | NA                                                           | NA                                                           | 0                                                            |   NA                                                         | NA                                                           | 0                                                            |   NA                                                         | M                                                            | 1949-04-06                                                   | White                                                        | 49D3                                                         | NA                                                           | NA                                                           | 5/31/17                                                      | 3                                                            | 2                                                            | 1                                                            | NA                                                           | Indeterminable                                               | Indeterminable                                               | Indeterminable                                               | 1.61                                                         | 124.0                                                        | NA                                                           | f                                                            | 50                                                           | 1.67                                                         | 1.86                                                         | 0.73                                                         | 0.59                                                         |  0.08                                                        | 1.91                                                         | 0.42                                                         | 1.49                                                         | 1.93                                                         | 2.12                                                         | 0.00                                                         | 1.75                                                         | 0.61                                                         | 1.35                                                         | 1.60                                                         | 1.61                                                         | 1.55                                                         |   NA                                                         |   NA                                                         |  NA                                                          |   NA                                                         |  NA                                                          |  NA                                                          |  2.31                                                        | 3.28                                                         |  0.18                                                        | 1.02                                                         | 0.30                                                         | 0.18                                                         | 0.52                                                         | 0.52                                                         |  1                                                           |  0                                                           | NA                                                           | NA                                                           | 0.52                                                         | \"Rx+Tumor+ mostly necrosis~85%\"                              | all_nas                                                      |  1                                                           | NA                                                           |  1                                                           | NA                                                           | NA                                                           | NA                                                           | NA                                                           |  1                                                           |  1                                                           | NA                                                           | True                                                         | unk                                                          |  0                                                           |  1                                                           |  1                                                           | NEL                                                          | \n",
       "| 467 | 4306                                                         | 11484                                                        | 11338                                                        | Treatment Effect                                             | Treatment Effect                                             | 2017-06-29                                                   | 2017-06-30                                                   | 11489                                                        | 2017-07-01                                                   | 53                                                           | Sub-total resection                                          | NA                                                           | NA                                                           | NA                                                           | 0                                                            |   NA                                                         | NA                                                           | 0                                                            |   NA                                                         | M                                                            | 1964-04-27                                                   | Other                                                        | 14D1                                                         | t11484                                                       | NA                                                           | 6/30/17                                                      | 0                                                            | 0                                                            | 1                                                            | NA                                                           | NA                                                           | NA                                                           | NA                                                           | 0.78                                                         | 170.0                                                        | NA                                                           | f                                                            | 45                                                           | 2.07                                                         | 2.01                                                         | 1.65                                                         | 1.02                                                         |  0.65                                                        | 1.65                                                         | 0.94                                                         | 1.34                                                         | 1.58                                                         | 1.73                                                         | 1.61                                                         | 1.55                                                         | 0.61                                                         | 1.17                                                         | 1.31                                                         | 1.45                                                         | 1.44                                                         | 1.23                                                         | 1.24                                                         | 100                                                          | 1.14                                                         | 100                                                          | 100                                                          |  2.53                                                        | 3.28                                                         |  0.22                                                        | 1.87                                                         | 1.10                                                         | 1.07                                                         | 0.39                                                         | 0.39                                                         |  1                                                           |  0                                                           | NA                                                           | NA                                                           | 0.39                                                         | \"hypercellular, MAP2-4 tumor cells possible,PV inflammation\" | NA                                                           | NA                                                           | NA                                                           |  1                                                           | NA                                                           | NA                                                           | NA                                                           | NA                                                           |  1                                                           |  1                                                           | NA                                                           | True                                                         | txe                                                          |  1                                                           |  1                                                           |  0                                                           | CEL                                                          | \n",
       "| 468 | 4306                                                         | 11484                                                        | 11338                                                        | Treatment Effect                                             | Treatment Effect                                             | 2017-06-29                                                   | 2017-06-30                                                   | 11489                                                        | 2017-07-01                                                   | 53                                                           | Sub-total resection                                          | NA                                                           | NA                                                           | NA                                                           | 0                                                            |   NA                                                         | NA                                                           | 0                                                            |   NA                                                         | M                                                            | 1964-04-27                                                   | Other                                                        | 17D1                                                         | t11484                                                       | NA                                                           | 6/30/17                                                      | 0                                                            | 0                                                            | 1                                                            | NA                                                           | NA                                                           | NA                                                           | NA                                                           | 1.41                                                         | 212.6                                                        | NA                                                           | f                                                            |  0                                                           | 2.08                                                         | 2.26                                                         | 0.82                                                         | 0.95                                                         | -0.13                                                        | 1.51                                                         | 1.06                                                         | 1.25                                                         | 1.55                                                         | 1.48                                                         | 1.50                                                         | 1.44                                                         | 0.94                                                         | 1.10                                                         | 1.31                                                         | 1.24                                                         | 1.31                                                         | 0.41                                                         | 0.53                                                         | 100                                                          | 0.49                                                         | 100                                                          | 100                                                          |  2.33                                                        | 2.28                                                         | -0.38                                                        | 1.17                                                         | 0.44                                                         | 0.57                                                         | 0.09                                                         | 0.09                                                         |  1                                                           |  0                                                           | NA                                                           | NA                                                           | 0.09                                                         | \"MAP2-negative, PV inflammation\"                             | NA                                                           | NA                                                           | NA                                                           |  1                                                           | NA                                                           | NA                                                           | NA                                                           | NA                                                           |  1                                                           |  1                                                           | NA                                                           | True                                                         | txe                                                          |  0                                                           |  1                                                           |  1                                                           | NEL                                                          | \n",
       "| 470 |   68                                                         |  6024                                                        |    NA                                                        | Grade IV                                                     | Glioblastoma                                                 | 2009-03-08                                                   | NA                                                           |    NA                                                        | NA                                                           | NA                                                           | NA                                                           | NA                                                           | 2017-02-02                                                   | NA                                                           | 0                                                            | 2888                                                         | NA                                                           | 0                                                            | 2888                                                         | F                                                            | 1967-01-11                                                   | White                                                        | NA                                                           | NA                                                           | NA                                                           | NA                                                           | NA                                                           | NA                                                           | NA                                                           | NA                                                           | NA                                                           | NA                                                           | NA                                                           |   NA                                                         |    NA                                                        | NA                                                           | NA                                                           | NA                                                           |   NA                                                         |   NA                                                         |   NA                                                         |   NA                                                         |    NA                                                        |   NA                                                         |   NA                                                         |   NA                                                         |   NA                                                         |   NA                                                         |   NA                                                         |   NA                                                         |   NA                                                         |   NA                                                         |   NA                                                         |   NA                                                         |   NA                                                         |   NA                                                         |   NA                                                         |  NA                                                          |   NA                                                         |  NA                                                          |  NA                                                          |    NA                                                        |   NA                                                         |    NA                                                        |   NA                                                         |   NA                                                         |   NA                                                         |   NA                                                         |   NA                                                         | NA                                                           | NA                                                           | NA                                                           | NA                                                           |   NA                                                         | NA                                                           | NA                                                           | NA                                                           | NA                                                           | NA                                                           | NA                                                           | NA                                                           | NA                                                           | NA                                                           | NA                                                           | NA                                                           | NA                                                           | NA                                                           | NA                                                           | NA                                                           | NA                                                           | NA                                                           | NA                                                           | \n",
       "\n",
       "\n"
      ],
      "text/plain": [
       "    b_number t_number sf_number current_hist_grade current_hist_type\n",
       "462 4298     11412    11291     Grade III          Astrocytoma      \n",
       "463 4298     11412    11291     Grade III          Astrocytoma      \n",
       "464 4300     11419    11302     Grade IV           Glioblastoma     \n",
       "467 4306     11484    11338     Treatment Effect   Treatment Effect \n",
       "468 4306     11484    11338     Treatment Effect   Treatment Effect \n",
       "470   68      6024       NA     Grade IV           Glioblastoma     \n",
       "    current_scan_date.x current_surgery_date.x post_t_number post_scan_date\n",
       "462 2017-05-16          2017-05-17             11502         2017-05-19    \n",
       "463 2017-05-16          2017-05-17             11502         2017-05-19    \n",
       "464 2017-05-28          2017-05-31             11500         2017-06-02    \n",
       "467 2017-06-29          2017-06-30             11489         2017-07-01    \n",
       "468 2017-06-29          2017-06-30             11489         2017-07-01    \n",
       "470 2009-03-08          <NA>                      NA         NA            \n",
       "    age_at_surgery extent_of_resection          inital_kps last_contact_date\n",
       "462 34             Gross total resection        NA         NA               \n",
       "463 34             Gross total resection        NA         NA               \n",
       "464 68             Other - See Surgery Comments NA         NA               \n",
       "467 53             Sub-total resection          NA         NA               \n",
       "468 53             Sub-total resection          NA         NA               \n",
       "470 NA             NA                           NA         2017-02-02       \n",
       "    progression_date pfs_censored pfs  date_of_death os_censored os   gender\n",
       "462 NA               0              NA NA            0             NA M     \n",
       "463 NA               0              NA NA            0             NA M     \n",
       "464 NA               0              NA NA            0             NA M     \n",
       "467 NA               0              NA NA            0             NA M     \n",
       "468 NA               0              NA NA            0             NA M     \n",
       "470 NA               0            2888 NA            0           2888 F     \n",
       "    birthdate  race  vialid t_number_x current_scan_date.y\n",
       "462 1983-04-01 White 41D3   NA         <NA>               \n",
       "463 1983-04-01 White 42D3   t11412     <NA>               \n",
       "464 1949-04-06 White 49D3   NA         <NA>               \n",
       "467 1964-04-27 Other 14D1   t11484     <NA>               \n",
       "468 1964-04-27 Other 17D1   t11484     <NA>               \n",
       "470 1967-01-11 White NA     NA         <NA>               \n",
       "    current_surgery_date.y tumor_cell_evaluation necrosis mv_hyperplasia\n",
       "462 5/17/17                3                     0        1             \n",
       "463 5/17/17                3                     0        0             \n",
       "464 5/31/17                3                     2        1             \n",
       "467 6/30/17                0                     0        1             \n",
       "468 6/30/17                0                     0        1             \n",
       "470 NA                     NA                    NA       NA            \n",
       "    mv_delicate_vasculature f8_delicate    f8_simple      f8_complex     mib_1\n",
       "462 NA                      2              2              0              5.54 \n",
       "463 NA                      3              0              0              2.85 \n",
       "464 NA                      Indeterminable Indeterminable Indeterminable 1.61 \n",
       "467 NA                      NA             NA             NA             0.78 \n",
       "468 NA                      NA             NA             NA             1.41 \n",
       "470 NA                      NA             NA             NA               NA \n",
       "    avgerage_cells treatment_related_ab bx_pure_treatment_effect\n",
       "462 216.6          NA                   f                       \n",
       "463 236.5          NA                   f                       \n",
       "464 124.0          NA                   f                       \n",
       "467 170.0          NA                   f                       \n",
       "468 212.6          NA                   f                       \n",
       "470    NA          NA                   NA                      \n",
       "    percent_tumor_nuclei nfl  nfse nt1c nt1v nt1d  nadc.1 nfa.1 nev1.1 nev2.1\n",
       "462 80                   1.48 2.97 0.39 0.43 -0.03 3.16   0.50  2.56   2.98  \n",
       "463 80                   2.19 2.26 0.77 0.73  0.05 2.17   0.42  1.76   2.11  \n",
       "464 50                   1.67 1.86 0.73 0.59  0.08 1.91   0.42  1.49   1.93  \n",
       "467 45                   2.07 2.01 1.65 1.02  0.65 1.65   0.94  1.34   1.58  \n",
       "468  0                   2.08 2.26 0.82 0.95 -0.13 1.51   1.06  1.25   1.55  \n",
       "470 NA                     NA   NA   NA   NA    NA   NA     NA    NA     NA  \n",
       "    nev3.1 nevrad.1 nadc.2 nfa.2 nev1.2 nev2.2 nev3.2 nevrad.2 cbvn_nlin\n",
       "462 3.34   3.06     3.04   0.50  2.30   2.66   2.88   2.70       NA     \n",
       "463 2.34   2.14     2.21   0.61  1.73   1.98   2.12   2.02     1.47     \n",
       "464 2.12   0.00     1.75   0.61  1.35   1.60   1.61   1.55       NA     \n",
       "467 1.73   1.61     1.55   0.61  1.17   1.31   1.45   1.44     1.23     \n",
       "468 1.48   1.50     1.44   0.94  1.10   1.31   1.24   1.31     0.41     \n",
       "470   NA     NA       NA     NA    NA     NA     NA     NA       NA     \n",
       "    phn_nlin recov_nlin phn_npar recov_npar recovn_npar ccri  cni  crni  ncho\n",
       "462   NA      NA          NA      NA         NA          1.14 0.95 -0.33 1.12\n",
       "463 1.74     100        1.61     100        100         -1.16 4.55  4.17 1.50\n",
       "464   NA      NA          NA      NA         NA          2.31 3.28  0.18 1.02\n",
       "467 1.24     100        1.14     100        100          2.53 3.28  0.22 1.87\n",
       "468 0.53     100        0.49     100        100          2.33 2.28 -0.38 1.17\n",
       "470   NA      NA          NA      NA         NA            NA   NA    NA   NA\n",
       "    ncre nnaa nlac nlip newdata olddata exclude_bc_hematoma_or_ventricle\n",
       "462 0.68 1.10 0.79 0.79  1       0      NA                              \n",
       "463 1.84 0.04 0.97 0.97  1       0      NA                              \n",
       "464 0.30 0.18 0.52 0.52  1       0      NA                              \n",
       "467 1.10 1.07 0.39 0.39  1       0      NA                              \n",
       "468 0.44 0.57 0.09 0.09  1       0      NA                              \n",
       "470   NA   NA   NA   NA NA      NA      NA                              \n",
       "    exclude_perf nLL \n",
       "462 NA           0.79\n",
       "463 NA           0.97\n",
       "464 NA           0.52\n",
       "467 NA           0.39\n",
       "468 NA           0.09\n",
       "470 NA             NA\n",
       "    comments                                                     perf_quant\n",
       "462 \"tumor 3, small region of 1\"                                 all_nas   \n",
       "463 NA                                                           NA        \n",
       "464 \"Rx+Tumor+ mostly necrosis~85%\"                              all_nas   \n",
       "467 \"hypercellular, MAP2-4 tumor cells possible,PV inflammation\" NA        \n",
       "468 \"MAP2-negative, PV inflammation\"                             NA        \n",
       "470 NA                                                           NA        \n",
       "    include_perf spec_quant include_spec diffu1000_quant diffu2000_quant\n",
       "462  1           NA          1           NA              NA             \n",
       "463 NA           NA          1           NA              NA             \n",
       "464  1           NA          1           NA              NA             \n",
       "467 NA           NA          1           NA              NA             \n",
       "468 NA           NA          1           NA              NA             \n",
       "470 NA           NA         NA           NA              NA             \n",
       "    exclude_bc_anat exclude_bc_pathology include_diffu1000 include_diffu2000\n",
       "462 NA              NA                    1                 1               \n",
       "463 NA              NA                    1                 1               \n",
       "464 NA              NA                    1                 1               \n",
       "467 NA              NA                    1                 1               \n",
       "468 NA              NA                    1                 1               \n",
       "470 NA              NA                   NA                NA               \n",
       "    exclude_histology txe_comments outcome in_CEL in_T2all in_NEL CELorNEL\n",
       "462 NA                False        rHGG     0      1        1     NEL     \n",
       "463 NA                NA           rHGG     0      1        1     NEL     \n",
       "464 NA                True         unk      0      1        1     NEL     \n",
       "467 NA                True         txe      1      1        0     CEL     \n",
       "468 NA                True         txe      0      1        1     NEL     \n",
       "470 NA                NA           NA      NA     NA       NA     NA      "
      ]
     },
     "metadata": {},
     "output_type": "display_data"
    }
   ],
   "source": [
    "tail(recgli.noffpe)"
   ]
  },
  {
   "cell_type": "code",
   "execution_count": 30,
   "metadata": {},
   "outputs": [
    {
     "data": {
      "text/html": [
       "&lt;NA&gt;"
      ],
      "text/latex": [
       "<NA>"
      ],
      "text/markdown": [
       "&lt;NA&gt;"
      ],
      "text/plain": [
       "[1] NA"
      ]
     },
     "metadata": {},
     "output_type": "display_data"
    }
   ],
   "source": [
    "sum(ifelse(duplicated(recgli.noffpe$b_number)==FALSE & recgli.noffpe$newdata==0, 1, 0))"
   ]
  },
  {
   "cell_type": "code",
   "execution_count": 31,
   "metadata": {},
   "outputs": [
    {
     "data": {
      "text/html": [
       "451"
      ],
      "text/latex": [
       "451"
      ],
      "text/markdown": [
       "451"
      ],
      "text/plain": [
       "[1] 451"
      ]
     },
     "metadata": {},
     "output_type": "display_data"
    }
   ],
   "source": [
    "which(is.na(recgli.noffpe$newdata))\n",
    "recgli.noffpe = recgli.noffpe[-451,]"
   ]
  },
  {
   "cell_type": "code",
   "execution_count": 32,
   "metadata": {},
   "outputs": [
    {
     "data": {
      "text/html": [
       "<ol class=list-inline>\n",
       "\t<li>450</li>\n",
       "\t<li>92</li>\n",
       "</ol>\n"
      ],
      "text/latex": [
       "\\begin{enumerate*}\n",
       "\\item 450\n",
       "\\item 92\n",
       "\\end{enumerate*}\n"
      ],
      "text/markdown": [
       "1. 450\n",
       "2. 92\n",
       "\n",
       "\n"
      ],
      "text/plain": [
       "[1] 450  92"
      ]
     },
     "metadata": {},
     "output_type": "display_data"
    },
    {
     "data": {
      "text/html": [
       "<table>\n",
       "<thead><tr><th scope=col>data</th><th scope=col>patients</th><th scope=col>scans</th><th scope=col>samples</th></tr></thead>\n",
       "<tbody>\n",
       "\t<tr><td>old_po1</td><td>97     </td><td>99     </td><td>241    </td></tr>\n",
       "\t<tr><td>REC_HGG</td><td>72     </td><td>74     </td><td>209    </td></tr>\n",
       "\t<tr><td>TOTAL  </td><td>169    </td><td>173    </td><td>450    </td></tr>\n",
       "</tbody>\n",
       "</table>\n"
      ],
      "text/latex": [
       "\\begin{tabular}{llll}\n",
       " data & patients & scans & samples\\\\\n",
       "\\hline\n",
       "\t old\\_po1 & 97        & 99        & 241      \\\\\n",
       "\t REC\\_HGG & 72        & 74        & 209      \\\\\n",
       "\t TOTAL   & 169     & 173     & 450    \\\\\n",
       "\\end{tabular}\n"
      ],
      "text/markdown": [
       "\n",
       "data | patients | scans | samples | \n",
       "|---|---|---|\n",
       "| old_po1 | 97      | 99      | 241     | \n",
       "| REC_HGG | 72      | 74      | 209     | \n",
       "| TOTAL   | 169     | 173     | 450     | \n",
       "\n",
       "\n"
      ],
      "text/plain": [
       "     data    patients scans samples\n",
       "[1,] old_po1 97       99    241    \n",
       "[2,] REC_HGG 72       74    209    \n",
       "[3,] TOTAL   169      173   450    "
      ]
     },
     "metadata": {},
     "output_type": "display_data"
    }
   ],
   "source": [
    "#recgli.noffpe = recgli[-grep('ffpe', recgli$comments, ignore.case=TRUE),]\n",
    "dim(recgli.noffpe) #547\n",
    "noffpe = temp\n",
    "noffpe[1,2] = sum(ifelse(duplicated(recgli.noffpe$b_number)==FALSE & recgli.noffpe$olddata==1, 1, 0))\n",
    "noffpe[1,3] = sum(ifelse(duplicated(recgli.noffpe$t_number)==FALSE & recgli.noffpe$olddata==1, 1, 0))\n",
    "noffpe[1,4] = table(recgli.noffpe$olddata==1)[\"TRUE\"]\n",
    "noffpe[2,2] = sum(ifelse(duplicated(recgli.noffpe$b_number)==FALSE & recgli.noffpe$newdata==1, 1, 0))\n",
    "noffpe[2,3] = sum(ifelse(duplicated(recgli.noffpe$t_number)==FALSE & recgli.noffpe$newdata==1, 1, 0))\n",
    "noffpe[2,4] = table(recgli.noffpe$newdata==1)[\"TRUE\"]\n",
    "noffpe[3,2:4]= as.numeric(noffpe[1,2:4]) + as.numeric(noffpe[2,2:4])\n",
    "noffpe "
   ]
  },
  {
   "cell_type": "markdown",
   "metadata": {},
   "source": [
    "## Removing pts with no path outcome"
   ]
  },
  {
   "cell_type": "code",
   "execution_count": 33,
   "metadata": {},
   "outputs": [
    {
     "data": {
      "text/html": [
       "7"
      ],
      "text/latex": [
       "7"
      ],
      "text/markdown": [
       "7"
      ],
      "text/plain": [
       "[1] 7"
      ]
     },
     "metadata": {},
     "output_type": "display_data"
    },
    {
     "data": {
      "text/plain": [
       "\n",
       "             0              1              2              3 Indeterminable \n",
       "           105             58            127            140             13 "
      ]
     },
     "metadata": {},
     "output_type": "display_data"
    }
   ],
   "source": [
    "nopath_index = which(is.na(recgli.noffpe$tumor_cell_evaluation))\n",
    "length(nopath_index)\n",
    "table(recgli.noffpe$tumor_cell_evaluation)"
   ]
  },
  {
   "cell_type": "code",
   "execution_count": 34,
   "metadata": {},
   "outputs": [
    {
     "data": {
      "text/html": [
       "<ol class=list-inline>\n",
       "\t<li>430</li>\n",
       "\t<li>92</li>\n",
       "</ol>\n"
      ],
      "text/latex": [
       "\\begin{enumerate*}\n",
       "\\item 430\n",
       "\\item 92\n",
       "\\end{enumerate*}\n"
      ],
      "text/markdown": [
       "1. 430\n",
       "2. 92\n",
       "\n",
       "\n"
      ],
      "text/plain": [
       "[1] 430  92"
      ]
     },
     "metadata": {},
     "output_type": "display_data"
    }
   ],
   "source": [
    "recgli.nopath = recgli.noffpe[-c(nopath_index),]\n",
    "recgli.nopath = recgli.nopath[-which(recgli.nopath$tumor_cell_evaluation == \"Indeterminable\"),]\n",
    "dim(recgli.nopath)"
   ]
  },
  {
   "cell_type": "code",
   "execution_count": 35,
   "metadata": {},
   "outputs": [
    {
     "data": {
      "text/html": [
       "<table>\n",
       "<thead><tr><th></th><th scope=col>b_number</th><th scope=col>t_number</th><th scope=col>sf_number</th><th scope=col>current_hist_grade</th><th scope=col>current_hist_type</th><th scope=col>current_scan_date.x</th><th scope=col>current_surgery_date.x</th><th scope=col>post_t_number</th><th scope=col>post_scan_date</th><th scope=col>age_at_surgery</th><th scope=col>extent_of_resection</th><th scope=col>inital_kps</th><th scope=col>last_contact_date</th><th scope=col>progression_date</th><th scope=col>pfs_censored</th><th scope=col>pfs</th><th scope=col>date_of_death</th><th scope=col>os_censored</th><th scope=col>os</th><th scope=col>gender</th><th scope=col>birthdate</th><th scope=col>race</th><th scope=col>vialid</th><th scope=col>t_number_x</th><th scope=col>current_scan_date.y</th><th scope=col>current_surgery_date.y</th><th scope=col>tumor_cell_evaluation</th><th scope=col>necrosis</th><th scope=col>mv_hyperplasia</th><th scope=col>mv_delicate_vasculature</th><th scope=col>f8_delicate</th><th scope=col>f8_simple</th><th scope=col>f8_complex</th><th scope=col>mib_1</th><th scope=col>avgerage_cells</th><th scope=col>treatment_related_ab</th><th scope=col>bx_pure_treatment_effect</th><th scope=col>percent_tumor_nuclei</th><th scope=col>nfl</th><th scope=col>nfse</th><th scope=col>nt1c</th><th scope=col>nt1v</th><th scope=col>nt1d</th><th scope=col>nadc.1</th><th scope=col>nfa.1</th><th scope=col>nev1.1</th><th scope=col>nev2.1</th><th scope=col>nev3.1</th><th scope=col>nevrad.1</th><th scope=col>nadc.2</th><th scope=col>nfa.2</th><th scope=col>nev1.2</th><th scope=col>nev2.2</th><th scope=col>nev3.2</th><th scope=col>nevrad.2</th><th scope=col>cbvn_nlin</th><th scope=col>phn_nlin</th><th scope=col>recov_nlin</th><th scope=col>phn_npar</th><th scope=col>recov_npar</th><th scope=col>recovn_npar</th><th scope=col>ccri</th><th scope=col>cni</th><th scope=col>crni</th><th scope=col>ncho</th><th scope=col>ncre</th><th scope=col>nnaa</th><th scope=col>nlac</th><th scope=col>nlip</th><th scope=col>newdata</th><th scope=col>olddata</th><th scope=col>exclude_bc_hematoma_or_ventricle</th><th scope=col>exclude_perf</th><th scope=col>nLL</th><th scope=col>comments</th><th scope=col>perf_quant</th><th scope=col>include_perf</th><th scope=col>spec_quant</th><th scope=col>include_spec</th><th scope=col>diffu1000_quant</th><th scope=col>diffu2000_quant</th><th scope=col>exclude_bc_anat</th><th scope=col>exclude_bc_pathology</th><th scope=col>include_diffu1000</th><th scope=col>include_diffu2000</th><th scope=col>exclude_histology</th><th scope=col>txe_comments</th><th scope=col>outcome</th><th scope=col>in_CEL</th><th scope=col>in_T2all</th><th scope=col>in_NEL</th><th scope=col>CELorNEL</th></tr></thead>\n",
       "<tbody>\n",
       "\t<tr><th scope=row>114</th><td>2474                         </td><td> 7408                        </td><td> 8701                        </td><td>Grade IV                     </td><td>Glioblastoma                 </td><td>2011-03-23                   </td><td>2011-03-24                   </td><td>11137                        </td><td>2011-03-25                   </td><td>74                           </td><td>Gross total resection        </td><td>NA                           </td><td>NA                           </td><td>NA                           </td><td>0                            </td><td> NA                          </td><td>2011-05-06                   </td><td>1                            </td><td> 44                          </td><td>F                            </td><td>1936-11-02                   </td><td>White                        </td><td>12B40                        </td><td>t7408                        </td><td>NA                           </td><td>3/24/11                      </td><td>NA                           </td><td>NA                           </td><td>NA                           </td><td>NA                           </td><td>NA                           </td><td>NA                           </td><td>NA                           </td><td>   NA                        </td><td>NA                           </td><td>NA                           </td><td>NA                           </td><td>NA                           </td><td>  NA                         </td><td>  NA                         </td><td>  NA                         </td><td>  NA                         </td><td>   NA                        </td><td>  NA                         </td><td>  NA                         </td><td>  NA                         </td><td>  NA                         </td><td>  NA                         </td><td>  NA                         </td><td>  NA                         </td><td>  NA                         </td><td>  NA                         </td><td>  NA                         </td><td>  NA                         </td><td>  NA                         </td><td>  NA                         </td><td>  NA                         </td><td>      NA                     </td><td>  NA                         </td><td>    NA                       </td><td> NA                          </td><td> 1.27                        </td><td> 3.63                        </td><td> 0.97                        </td><td> 0.74                        </td><td> 0.35                        </td><td>0.03                         </td><td>-0.07                        </td><td> 1.49                        </td><td>0                            </td><td>1                            </td><td>NA                           </td><td>NA                           </td><td> 1.42                        </td><td>NA                           </td><td>all_nas                      </td><td> 1                           </td><td>NA                           </td><td>1                            </td><td>all_nas                      </td><td>all_nas                      </td><td> 1                           </td><td>1                            </td><td>0                            </td><td>0                            </td><td>NA                           </td><td>NA                           </td><td>unk                          </td><td>0                            </td><td>0                            </td><td>0                            </td><td>NA                           </td></tr>\n",
       "\t<tr><th scope=row>115</th><td>2474                         </td><td> 7408                        </td><td> 8701                        </td><td>Grade IV                     </td><td>Glioblastoma                 </td><td>2011-03-23                   </td><td>2011-03-24                   </td><td>11137                        </td><td>2011-03-25                   </td><td>74                           </td><td>Gross total resection        </td><td>NA                           </td><td>NA                           </td><td>NA                           </td><td>0                            </td><td> NA                          </td><td>2011-05-06                   </td><td>1                            </td><td> 44                          </td><td>F                            </td><td>1936-11-02                   </td><td>White                        </td><td>11B40                        </td><td>t7408                        </td><td>NA                           </td><td>3/24/11                      </td><td>NA                           </td><td>NA                           </td><td>NA                           </td><td>NA                           </td><td>NA                           </td><td>NA                           </td><td>NA                           </td><td>   NA                        </td><td>NA                           </td><td>NA                           </td><td>NA                           </td><td>NA                           </td><td>  NA                         </td><td>  NA                         </td><td>  NA                         </td><td>  NA                         </td><td>   NA                        </td><td>  NA                         </td><td>  NA                         </td><td>  NA                         </td><td>  NA                         </td><td>  NA                         </td><td>  NA                         </td><td>  NA                         </td><td>  NA                         </td><td>  NA                         </td><td>  NA                         </td><td>  NA                         </td><td>  NA                         </td><td>  NA                         </td><td>  NA                         </td><td>      NA                     </td><td>  NA                         </td><td>    NA                       </td><td> NA                          </td><td> 1.97                        </td><td> 4.13                        </td><td> 0.57                        </td><td> 0.95                        </td><td> 0.28                        </td><td>0.08                         </td><td>-0.03                        </td><td>-2.71                        </td><td>0                            </td><td>1                            </td><td>NA                           </td><td>NA                           </td><td>-2.74                        </td><td>NA                           </td><td>all_nas                      </td><td> 1                           </td><td>NA                           </td><td>1                            </td><td>all_nas                      </td><td>all_nas                      </td><td> 1                           </td><td>1                            </td><td>0                            </td><td>0                            </td><td>NA                           </td><td>NA                           </td><td>unk                          </td><td>0                            </td><td>0                            </td><td>0                            </td><td>NA                           </td></tr>\n",
       "\t<tr><th scope=row>222</th><td>3043                         </td><td> 7227                        </td><td> 8580                        </td><td>Treatment Effect             </td><td>Treatment Effect             </td><td>2010-12-16                   </td><td>2010-12-27                   </td><td>   NA                        </td><td>NA                           </td><td>70                           </td><td>Gross total resection        </td><td>NA                           </td><td>2011-10-24                   </td><td>NA                           </td><td>0                            </td><td>312                          </td><td>2012-04-12                   </td><td>1                            </td><td>483                          </td><td>M                            </td><td>1940-09-03                   </td><td>White                        </td><td>36B39                        </td><td>t7227                        </td><td>NA                           </td><td>12/27/10                     </td><td>NA                           </td><td>NA                           </td><td>NA                           </td><td>NA                           </td><td>NA                           </td><td>NA                           </td><td>NA                           </td><td>   NA                        </td><td>NA                           </td><td>NA                           </td><td>NA                           </td><td>NA                           </td><td>1.02                         </td><td>1.99                         </td><td>1.24                         </td><td>0.52                         </td><td> 0.65                        </td><td>1.68                         </td><td>1.28                         </td><td>1.49                         </td><td>1.53                         </td><td>1.66                         </td><td>1.52                         </td><td>  NA                         </td><td>  NA                         </td><td>  NA                         </td><td>  NA                         </td><td>  NA                         </td><td>  NA                         </td><td>0.03                         </td><td>0.08                         </td><td>-3016.38                     </td><td>4.40                         </td><td> 63.41                       </td><td> NA                          </td><td> 0.73                        </td><td>-1.04                        </td><td>-1.31                        </td><td>-0.17                        </td><td>-0.48                        </td><td>0.11                         </td><td> 0.36                        </td><td>10.24                        </td><td>0                            </td><td>1                            </td><td> 1                           </td><td> 1                           </td><td>10.60                        </td><td>NA                           </td><td>NA                           </td><td> 0                           </td><td>NA                           </td><td>1                            </td><td>NA                           </td><td>all_zeros                    </td><td>NA                           </td><td>1                            </td><td>1                            </td><td>0                            </td><td>NA                           </td><td>NA                           </td><td>unk                          </td><td>1                            </td><td>0                            </td><td>0                            </td><td>CEL                          </td></tr>\n",
       "\t<tr><th scope=row>249</th><td>1957                         </td><td> 9134                        </td><td>10071                        </td><td>Grade III                    </td><td>Oligodendroglioma            </td><td>2014-08-12                   </td><td>2014-08-13                   </td><td> 9925                        </td><td>2014-08-14                   </td><td>36                           </td><td>Sub-total resection          </td><td>NA                           </td><td>NA                           </td><td>NA                           </td><td>0                            </td><td> NA                          </td><td>2016-08-15                   </td><td>1                            </td><td>734                          </td><td>F                            </td><td>1978-01-07                   </td><td>White                        </td><td>15B71                        </td><td>NA                           </td><td>8-12-14                      </td><td>8/13/14                      </td><td>NA                           </td><td>NA                           </td><td>NA                           </td><td>NA                           </td><td>NA                           </td><td>NA                           </td><td>NA                           </td><td>   NA                        </td><td>NA                           </td><td>NA                           </td><td>NA                           </td><td>NA                           </td><td>1.15                         </td><td>1.10                         </td><td>0.99                         </td><td>1.02                         </td><td>-0.14                        </td><td>  NA                         </td><td>  NA                         </td><td>  NA                         </td><td>  NA                         </td><td>  NA                         </td><td>  NA                         </td><td>  NA                         </td><td>  NA                         </td><td>  NA                         </td><td>  NA                         </td><td>  NA                         </td><td>  NA                         </td><td>  NA                         </td><td>  NA                         </td><td>      NA                     </td><td>  NA                         </td><td>    NA                       </td><td> NA                          </td><td>   NA                        </td><td>   NA                        </td><td>   NA                        </td><td>   NA                        </td><td>   NA                        </td><td>  NA                         </td><td>   NA                        </td><td>   NA                        </td><td>1                            </td><td>0                            </td><td>NA                           </td><td>NA                           </td><td>   NA                        </td><td>NA                           </td><td>all_nas                      </td><td> 1                           </td><td>all_nas                      </td><td>0                            </td><td>all_nas                      </td><td>all_nas                      </td><td>NA                           </td><td>1                            </td><td>0                            </td><td>0                            </td><td>NA                           </td><td>NA                           </td><td>unk                          </td><td>0                            </td><td>0                            </td><td>0                            </td><td>NA                           </td></tr>\n",
       "\t<tr><th scope=row>393</th><td>4080                         </td><td>10366                        </td><td>10778                        </td><td>Treatment Effect             </td><td>Treatment Effect             </td><td>2016-04-12                   </td><td>2016-04-13                   </td><td>10378                        </td><td>2016-04-14                   </td><td>69                           </td><td>Gross total resection        </td><td>NA                           </td><td>NA                           </td><td>NA                           </td><td>0                            </td><td> NA                          </td><td>NA                           </td><td>0                            </td><td> NA                          </td><td>F                            </td><td>1946-07-05                   </td><td>White                        </td><td>5B82                         </td><td>t10366                       </td><td>4-12-16                      </td><td>4/13/16                      </td><td>NA                           </td><td>2                            </td><td>NA                           </td><td>NA                           </td><td>NA                           </td><td>NA                           </td><td>NA                           </td><td>   NA                        </td><td>NA                           </td><td>NA                           </td><td>NA                           </td><td>NA                           </td><td>1.72                         </td><td>1.41                         </td><td>0.97                         </td><td>1.02                         </td><td>-0.07                        </td><td>0.82                         </td><td>0.72                         </td><td>0.66                         </td><td>0.80                         </td><td>0.88                         </td><td>0.86                         </td><td>0.75                         </td><td>0.61                         </td><td>0.61                         </td><td>0.75                         </td><td>0.80                         </td><td>0.75                         </td><td>1.04                         </td><td>1.07                         </td><td>   94.86                     </td><td>1.05                         </td><td> 97.15                       </td><td>100                          </td><td>   NA                        </td><td>   NA                        </td><td>   NA                        </td><td>   NA                        </td><td>   NA                        </td><td>  NA                         </td><td>   NA                        </td><td>   NA                        </td><td>1                            </td><td>0                            </td><td> 0                           </td><td> 0                           </td><td>   NA                        </td><td>\"95% NECROSIS+TUMOR\"         </td><td>NA                           </td><td>NA                           </td><td>all_zeros                    </td><td>0                            </td><td>NA                           </td><td>NA                           </td><td>NA                           </td><td>1                            </td><td>1                            </td><td>1                            </td><td>NA                           </td><td>False                        </td><td>unk                          </td><td>0                            </td><td>1                            </td><td>1                            </td><td>NEL                          </td></tr>\n",
       "\t<tr><th scope=row>394</th><td>4080                         </td><td>10366                        </td><td>10778                        </td><td>Treatment Effect             </td><td>Treatment Effect             </td><td>2016-04-12                   </td><td>2016-04-13                   </td><td>10378                        </td><td>2016-04-14                   </td><td>69                           </td><td>Gross total resection        </td><td>NA                           </td><td>NA                           </td><td>NA                           </td><td>0                            </td><td> NA                          </td><td>NA                           </td><td>0                            </td><td> NA                          </td><td>F                            </td><td>1946-07-05                   </td><td>White                        </td><td>3B82                         </td><td>t10366                       </td><td>4-12-16                      </td><td>4/13/16                      </td><td>NA                           </td><td>2                            </td><td>NA                           </td><td>NA                           </td><td>NA                           </td><td>NA                           </td><td>NA                           </td><td>   NA                        </td><td>NA                           </td><td>NA                           </td><td>NA                           </td><td>NA                           </td><td>2.21                         </td><td>1.88                         </td><td>0.66                         </td><td>0.76                         </td><td>-0.11                        </td><td>1.30                         </td><td>0.50                         </td><td>1.01                         </td><td>1.26                         </td><td>1.42                         </td><td>1.34                         </td><td>1.18                         </td><td>0.50                         </td><td>0.94                         </td><td>1.13                         </td><td>1.24                         </td><td>1.13                         </td><td>0.27                         </td><td>0.28                         </td><td>  100.00                     </td><td>0.29                         </td><td>100.00                       </td><td>100                          </td><td>-0.32                        </td><td> 1.10                        </td><td> 1.04                        </td><td> 0.42                        </td><td> 0.51                        </td><td>0.18                         </td><td> 1.74                        </td><td> 1.74                        </td><td>1                            </td><td>0                            </td><td> 0                           </td><td> 0                           </td><td> 1.74                        </td><td>\"100% NECROSIS\"              </td><td>NA                           </td><td>NA                           </td><td>NA                           </td><td>1                            </td><td>NA                           </td><td>NA                           </td><td>NA                           </td><td>1                            </td><td>1                            </td><td>1                            </td><td>NA                           </td><td>False                        </td><td>unk                          </td><td>0                            </td><td>1                            </td><td>1                            </td><td>NEL                          </td></tr>\n",
       "\t<tr><th scope=row>413</th><td>4208                         </td><td>10763                        </td><td>11039                        </td><td>Treatment Effect             </td><td>Treatment Effect             </td><td>2016-10-25                   </td><td>2016-10-26                   </td><td>11565                        </td><td>2016-10-27                   </td><td>63                           </td><td>Other - See Surgery Comments </td><td>NA                           </td><td>NA                           </td><td>NA                           </td><td>0                            </td><td> NA                          </td><td>NA                           </td><td>0                            </td><td> NA                          </td><td>F                            </td><td>1953-06-05                   </td><td>White                        </td><td>80B91                        </td><td>NA                           </td><td>NA                           </td><td>10/26/16                     </td><td>NA                           </td><td>2                            </td><td>0                            </td><td>NA                           </td><td>NA                           </td><td>NA                           </td><td>NA                           </td><td>152.5                        </td><td> 0                           </td><td>NA                           </td><td>t                            </td><td>NA                           </td><td>1.93                         </td><td>1.67                         </td><td>1.05                         </td><td>0.90                         </td><td> 0.09                        </td><td>1.09                         </td><td>0.72                         </td><td>0.88                         </td><td>0.98                         </td><td>1.17                         </td><td>1.06                         </td><td>1.09                         </td><td>0.72                         </td><td>0.88                         </td><td>0.98                         </td><td>1.17                         </td><td>1.06                         </td><td>  NA                         </td><td>  NA                         </td><td>      NA                     </td><td>  NA                         </td><td>    NA                       </td><td> NA                          </td><td> 1.02                        </td><td> 1.41                        </td><td> 0.15                        </td><td> 0.85                        </td><td> 0.54                        </td><td>0.50                         </td><td> 0.48                        </td><td> 0.48                        </td><td>1                            </td><td>0                            </td><td>NA                           </td><td>NA                           </td><td> 0.48                        </td><td>\"NECROSIS 95%, HYALINIZED BV\"</td><td>all_nas                      </td><td> 1                           </td><td>NA                           </td><td>1                            </td><td>all_nas                      </td><td>NA                           </td><td>NA                           </td><td>1                            </td><td>1                            </td><td>1                            </td><td>NA                           </td><td>True                         </td><td>unk                          </td><td>1                            </td><td>1                            </td><td>0                            </td><td>CEL                          </td></tr>\n",
       "</tbody>\n",
       "</table>\n"
      ],
      "text/latex": [
       "\\begin{tabular}{r|llllllllllllllllllllllllllllllllllllllllllllllllllllllllllllllllllllllllllllllllllllllllllll}\n",
       "  & b\\_number & t\\_number & sf\\_number & current\\_hist\\_grade & current\\_hist\\_type & current\\_scan\\_date.x & current\\_surgery\\_date.x & post\\_t\\_number & post\\_scan\\_date & age\\_at\\_surgery & extent\\_of\\_resection & inital\\_kps & last\\_contact\\_date & progression\\_date & pfs\\_censored & pfs & date\\_of\\_death & os\\_censored & os & gender & birthdate & race & vialid & t\\_number\\_x & current\\_scan\\_date.y & current\\_surgery\\_date.y & tumor\\_cell\\_evaluation & necrosis & mv\\_hyperplasia & mv\\_delicate\\_vasculature & f8\\_delicate & f8\\_simple & f8\\_complex & mib\\_1 & avgerage\\_cells & treatment\\_related\\_ab & bx\\_pure\\_treatment\\_effect & percent\\_tumor\\_nuclei & nfl & nfse & nt1c & nt1v & nt1d & nadc.1 & nfa.1 & nev1.1 & nev2.1 & nev3.1 & nevrad.1 & nadc.2 & nfa.2 & nev1.2 & nev2.2 & nev3.2 & nevrad.2 & cbvn\\_nlin & phn\\_nlin & recov\\_nlin & phn\\_npar & recov\\_npar & recovn\\_npar & ccri & cni & crni & ncho & ncre & nnaa & nlac & nlip & newdata & olddata & exclude\\_bc\\_hematoma\\_or\\_ventricle & exclude\\_perf & nLL & comments & perf\\_quant & include\\_perf & spec\\_quant & include\\_spec & diffu1000\\_quant & diffu2000\\_quant & exclude\\_bc\\_anat & exclude\\_bc\\_pathology & include\\_diffu1000 & include\\_diffu2000 & exclude\\_histology & txe\\_comments & outcome & in\\_CEL & in\\_T2all & in\\_NEL & CELorNEL\\\\\n",
       "\\hline\n",
       "\t114 & 2474                          &  7408                         &  8701                         & Grade IV                      & Glioblastoma                  & 2011-03-23                    & 2011-03-24                    & 11137                         & 2011-03-25                    & 74                            & Gross total resection         & NA                            & NA                            & NA                            & 0                             &  NA                           & 2011-05-06                    & 1                             &  44                           & F                             & 1936-11-02                    & White                         & 12B40                         & t7408                         & NA                            & 3/24/11                       & NA                            & NA                            & NA                            & NA                            & NA                            & NA                            & NA                            &    NA                         & NA                            & NA                            & NA                            & NA                            &   NA                          &   NA                          &   NA                          &   NA                          &    NA                         &   NA                          &   NA                          &   NA                          &   NA                          &   NA                          &   NA                          &   NA                          &   NA                          &   NA                          &   NA                          &   NA                          &   NA                          &   NA                          &   NA                          &       NA                      &   NA                          &     NA                        &  NA                           &  1.27                         &  3.63                         &  0.97                         &  0.74                         &  0.35                         & 0.03                          & -0.07                         &  1.49                         & 0                             & 1                             & NA                            & NA                            &  1.42                         & NA                            & all\\_nas                     &  1                            & NA                            & 1                             & all\\_nas                     & all\\_nas                     &  1                            & 1                             & 0                             & 0                             & NA                            & NA                            & unk                           & 0                             & 0                             & 0                             & NA                           \\\\\n",
       "\t115 & 2474                          &  7408                         &  8701                         & Grade IV                      & Glioblastoma                  & 2011-03-23                    & 2011-03-24                    & 11137                         & 2011-03-25                    & 74                            & Gross total resection         & NA                            & NA                            & NA                            & 0                             &  NA                           & 2011-05-06                    & 1                             &  44                           & F                             & 1936-11-02                    & White                         & 11B40                         & t7408                         & NA                            & 3/24/11                       & NA                            & NA                            & NA                            & NA                            & NA                            & NA                            & NA                            &    NA                         & NA                            & NA                            & NA                            & NA                            &   NA                          &   NA                          &   NA                          &   NA                          &    NA                         &   NA                          &   NA                          &   NA                          &   NA                          &   NA                          &   NA                          &   NA                          &   NA                          &   NA                          &   NA                          &   NA                          &   NA                          &   NA                          &   NA                          &       NA                      &   NA                          &     NA                        &  NA                           &  1.97                         &  4.13                         &  0.57                         &  0.95                         &  0.28                         & 0.08                          & -0.03                         & -2.71                         & 0                             & 1                             & NA                            & NA                            & -2.74                         & NA                            & all\\_nas                     &  1                            & NA                            & 1                             & all\\_nas                     & all\\_nas                     &  1                            & 1                             & 0                             & 0                             & NA                            & NA                            & unk                           & 0                             & 0                             & 0                             & NA                           \\\\\n",
       "\t222 & 3043                          &  7227                         &  8580                         & Treatment Effect              & Treatment Effect              & 2010-12-16                    & 2010-12-27                    &    NA                         & NA                            & 70                            & Gross total resection         & NA                            & 2011-10-24                    & NA                            & 0                             & 312                           & 2012-04-12                    & 1                             & 483                           & M                             & 1940-09-03                    & White                         & 36B39                         & t7227                         & NA                            & 12/27/10                      & NA                            & NA                            & NA                            & NA                            & NA                            & NA                            & NA                            &    NA                         & NA                            & NA                            & NA                            & NA                            & 1.02                          & 1.99                          & 1.24                          & 0.52                          &  0.65                         & 1.68                          & 1.28                          & 1.49                          & 1.53                          & 1.66                          & 1.52                          &   NA                          &   NA                          &   NA                          &   NA                          &   NA                          &   NA                          & 0.03                          & 0.08                          & -3016.38                      & 4.40                          &  63.41                        &  NA                           &  0.73                         & -1.04                         & -1.31                         & -0.17                         & -0.48                         & 0.11                          &  0.36                         & 10.24                         & 0                             & 1                             &  1                            &  1                            & 10.60                         & NA                            & NA                            &  0                            & NA                            & 1                             & NA                            & all\\_zeros                   & NA                            & 1                             & 1                             & 0                             & NA                            & NA                            & unk                           & 1                             & 0                             & 0                             & CEL                          \\\\\n",
       "\t249 & 1957                          &  9134                         & 10071                         & Grade III                     & Oligodendroglioma             & 2014-08-12                    & 2014-08-13                    &  9925                         & 2014-08-14                    & 36                            & Sub-total resection           & NA                            & NA                            & NA                            & 0                             &  NA                           & 2016-08-15                    & 1                             & 734                           & F                             & 1978-01-07                    & White                         & 15B71                         & NA                            & 8-12-14                       & 8/13/14                       & NA                            & NA                            & NA                            & NA                            & NA                            & NA                            & NA                            &    NA                         & NA                            & NA                            & NA                            & NA                            & 1.15                          & 1.10                          & 0.99                          & 1.02                          & -0.14                         &   NA                          &   NA                          &   NA                          &   NA                          &   NA                          &   NA                          &   NA                          &   NA                          &   NA                          &   NA                          &   NA                          &   NA                          &   NA                          &   NA                          &       NA                      &   NA                          &     NA                        &  NA                           &    NA                         &    NA                         &    NA                         &    NA                         &    NA                         &   NA                          &    NA                         &    NA                         & 1                             & 0                             & NA                            & NA                            &    NA                         & NA                            & all\\_nas                     &  1                            & all\\_nas                     & 0                             & all\\_nas                     & all\\_nas                     & NA                            & 1                             & 0                             & 0                             & NA                            & NA                            & unk                           & 0                             & 0                             & 0                             & NA                           \\\\\n",
       "\t393 & 4080                            & 10366                           & 10778                           & Treatment Effect                & Treatment Effect                & 2016-04-12                      & 2016-04-13                      & 10378                           & 2016-04-14                      & 69                              & Gross total resection           & NA                              & NA                              & NA                              & 0                               &  NA                             & NA                              & 0                               &  NA                             & F                               & 1946-07-05                      & White                           & 5B82                            & t10366                          & 4-12-16                         & 4/13/16                         & NA                              & 2                               & NA                              & NA                              & NA                              & NA                              & NA                              &    NA                           & NA                              & NA                              & NA                              & NA                              & 1.72                            & 1.41                            & 0.97                            & 1.02                            & -0.07                           & 0.82                            & 0.72                            & 0.66                            & 0.80                            & 0.88                            & 0.86                            & 0.75                            & 0.61                            & 0.61                            & 0.75                            & 0.80                            & 0.75                            & 1.04                            & 1.07                            &    94.86                        & 1.05                            &  97.15                          & 100                             &    NA                           &    NA                           &    NA                           &    NA                           &    NA                           &   NA                            &    NA                           &    NA                           & 1                               & 0                               &  0                              &  0                              &    NA                           & \"95\\% NECROSIS+TUMOR\"          & NA                              & NA                              & all\\_zeros                     & 0                               & NA                              & NA                              & NA                              & 1                               & 1                               & 1                               & NA                              & False                           & unk                             & 0                               & 1                               & 1                               & NEL                            \\\\\n",
       "\t394 & 4080                            & 10366                           & 10778                           & Treatment Effect                & Treatment Effect                & 2016-04-12                      & 2016-04-13                      & 10378                           & 2016-04-14                      & 69                              & Gross total resection           & NA                              & NA                              & NA                              & 0                               &  NA                             & NA                              & 0                               &  NA                             & F                               & 1946-07-05                      & White                           & 3B82                            & t10366                          & 4-12-16                         & 4/13/16                         & NA                              & 2                               & NA                              & NA                              & NA                              & NA                              & NA                              &    NA                           & NA                              & NA                              & NA                              & NA                              & 2.21                            & 1.88                            & 0.66                            & 0.76                            & -0.11                           & 1.30                            & 0.50                            & 1.01                            & 1.26                            & 1.42                            & 1.34                            & 1.18                            & 0.50                            & 0.94                            & 1.13                            & 1.24                            & 1.13                            & 0.27                            & 0.28                            &   100.00                        & 0.29                            & 100.00                          & 100                             & -0.32                           &  1.10                           &  1.04                           &  0.42                           &  0.51                           & 0.18                            &  1.74                           &  1.74                           & 1                               & 0                               &  0                              &  0                              &  1.74                           & \"100\\% NECROSIS\"               & NA                              & NA                              & NA                              & 1                               & NA                              & NA                              & NA                              & 1                               & 1                               & 1                               & NA                              & False                           & unk                             & 0                               & 1                               & 1                               & NEL                            \\\\\n",
       "\t413 & 4208                            & 10763                           & 11039                           & Treatment Effect                & Treatment Effect                & 2016-10-25                      & 2016-10-26                      & 11565                           & 2016-10-27                      & 63                              & Other - See Surgery Comments    & NA                              & NA                              & NA                              & 0                               &  NA                             & NA                              & 0                               &  NA                             & F                               & 1953-06-05                      & White                           & 80B91                           & NA                              & NA                              & 10/26/16                        & NA                              & 2                               & 0                               & NA                              & NA                              & NA                              & NA                              & 152.5                           &  0                              & NA                              & t                               & NA                              & 1.93                            & 1.67                            & 1.05                            & 0.90                            &  0.09                           & 1.09                            & 0.72                            & 0.88                            & 0.98                            & 1.17                            & 1.06                            & 1.09                            & 0.72                            & 0.88                            & 0.98                            & 1.17                            & 1.06                            &   NA                            &   NA                            &       NA                        &   NA                            &     NA                          &  NA                             &  1.02                           &  1.41                           &  0.15                           &  0.85                           &  0.54                           & 0.50                            &  0.48                           &  0.48                           & 1                               & 0                               & NA                              & NA                              &  0.48                           & \"NECROSIS 95\\%, HYALINIZED BV\" & all\\_nas                       &  1                              & NA                              & 1                               & all\\_nas                       & NA                              & NA                              & 1                               & 1                               & 1                               & NA                              & True                            & unk                             & 1                               & 1                               & 0                               & CEL                            \\\\\n",
       "\\end{tabular}\n"
      ],
      "text/markdown": [
       "\n",
       "| <!--/--> | b_number | t_number | sf_number | current_hist_grade | current_hist_type | current_scan_date.x | current_surgery_date.x | post_t_number | post_scan_date | age_at_surgery | extent_of_resection | inital_kps | last_contact_date | progression_date | pfs_censored | pfs | date_of_death | os_censored | os | gender | birthdate | race | vialid | t_number_x | current_scan_date.y | current_surgery_date.y | tumor_cell_evaluation | necrosis | mv_hyperplasia | mv_delicate_vasculature | f8_delicate | f8_simple | f8_complex | mib_1 | avgerage_cells | treatment_related_ab | bx_pure_treatment_effect | percent_tumor_nuclei | nfl | nfse | nt1c | nt1v | nt1d | nadc.1 | nfa.1 | nev1.1 | nev2.1 | nev3.1 | nevrad.1 | nadc.2 | nfa.2 | nev1.2 | nev2.2 | nev3.2 | nevrad.2 | cbvn_nlin | phn_nlin | recov_nlin | phn_npar | recov_npar | recovn_npar | ccri | cni | crni | ncho | ncre | nnaa | nlac | nlip | newdata | olddata | exclude_bc_hematoma_or_ventricle | exclude_perf | nLL | comments | perf_quant | include_perf | spec_quant | include_spec | diffu1000_quant | diffu2000_quant | exclude_bc_anat | exclude_bc_pathology | include_diffu1000 | include_diffu2000 | exclude_histology | txe_comments | outcome | in_CEL | in_T2all | in_NEL | CELorNEL | \n",
       "|---|---|---|---|---|---|---|\n",
       "| 114 | 2474                          |  7408                         |  8701                         | Grade IV                      | Glioblastoma                  | 2011-03-23                    | 2011-03-24                    | 11137                         | 2011-03-25                    | 74                            | Gross total resection         | NA                            | NA                            | NA                            | 0                             |  NA                           | 2011-05-06                    | 1                             |  44                           | F                             | 1936-11-02                    | White                         | 12B40                         | t7408                         | NA                            | 3/24/11                       | NA                            | NA                            | NA                            | NA                            | NA                            | NA                            | NA                            |    NA                         | NA                            | NA                            | NA                            | NA                            |   NA                          |   NA                          |   NA                          |   NA                          |    NA                         |   NA                          |   NA                          |   NA                          |   NA                          |   NA                          |   NA                          |   NA                          |   NA                          |   NA                          |   NA                          |   NA                          |   NA                          |   NA                          |   NA                          |       NA                      |   NA                          |     NA                        |  NA                           |  1.27                         |  3.63                         |  0.97                         |  0.74                         |  0.35                         | 0.03                          | -0.07                         |  1.49                         | 0                             | 1                             | NA                            | NA                            |  1.42                         | NA                            | all_nas                       |  1                            | NA                            | 1                             | all_nas                       | all_nas                       |  1                            | 1                             | 0                             | 0                             | NA                            | NA                            | unk                           | 0                             | 0                             | 0                             | NA                            | \n",
       "| 115 | 2474                          |  7408                         |  8701                         | Grade IV                      | Glioblastoma                  | 2011-03-23                    | 2011-03-24                    | 11137                         | 2011-03-25                    | 74                            | Gross total resection         | NA                            | NA                            | NA                            | 0                             |  NA                           | 2011-05-06                    | 1                             |  44                           | F                             | 1936-11-02                    | White                         | 11B40                         | t7408                         | NA                            | 3/24/11                       | NA                            | NA                            | NA                            | NA                            | NA                            | NA                            | NA                            |    NA                         | NA                            | NA                            | NA                            | NA                            |   NA                          |   NA                          |   NA                          |   NA                          |    NA                         |   NA                          |   NA                          |   NA                          |   NA                          |   NA                          |   NA                          |   NA                          |   NA                          |   NA                          |   NA                          |   NA                          |   NA                          |   NA                          |   NA                          |       NA                      |   NA                          |     NA                        |  NA                           |  1.97                         |  4.13                         |  0.57                         |  0.95                         |  0.28                         | 0.08                          | -0.03                         | -2.71                         | 0                             | 1                             | NA                            | NA                            | -2.74                         | NA                            | all_nas                       |  1                            | NA                            | 1                             | all_nas                       | all_nas                       |  1                            | 1                             | 0                             | 0                             | NA                            | NA                            | unk                           | 0                             | 0                             | 0                             | NA                            | \n",
       "| 222 | 3043                          |  7227                         |  8580                         | Treatment Effect              | Treatment Effect              | 2010-12-16                    | 2010-12-27                    |    NA                         | NA                            | 70                            | Gross total resection         | NA                            | 2011-10-24                    | NA                            | 0                             | 312                           | 2012-04-12                    | 1                             | 483                           | M                             | 1940-09-03                    | White                         | 36B39                         | t7227                         | NA                            | 12/27/10                      | NA                            | NA                            | NA                            | NA                            | NA                            | NA                            | NA                            |    NA                         | NA                            | NA                            | NA                            | NA                            | 1.02                          | 1.99                          | 1.24                          | 0.52                          |  0.65                         | 1.68                          | 1.28                          | 1.49                          | 1.53                          | 1.66                          | 1.52                          |   NA                          |   NA                          |   NA                          |   NA                          |   NA                          |   NA                          | 0.03                          | 0.08                          | -3016.38                      | 4.40                          |  63.41                        |  NA                           |  0.73                         | -1.04                         | -1.31                         | -0.17                         | -0.48                         | 0.11                          |  0.36                         | 10.24                         | 0                             | 1                             |  1                            |  1                            | 10.60                         | NA                            | NA                            |  0                            | NA                            | 1                             | NA                            | all_zeros                     | NA                            | 1                             | 1                             | 0                             | NA                            | NA                            | unk                           | 1                             | 0                             | 0                             | CEL                           | \n",
       "| 249 | 1957                          |  9134                         | 10071                         | Grade III                     | Oligodendroglioma             | 2014-08-12                    | 2014-08-13                    |  9925                         | 2014-08-14                    | 36                            | Sub-total resection           | NA                            | NA                            | NA                            | 0                             |  NA                           | 2016-08-15                    | 1                             | 734                           | F                             | 1978-01-07                    | White                         | 15B71                         | NA                            | 8-12-14                       | 8/13/14                       | NA                            | NA                            | NA                            | NA                            | NA                            | NA                            | NA                            |    NA                         | NA                            | NA                            | NA                            | NA                            | 1.15                          | 1.10                          | 0.99                          | 1.02                          | -0.14                         |   NA                          |   NA                          |   NA                          |   NA                          |   NA                          |   NA                          |   NA                          |   NA                          |   NA                          |   NA                          |   NA                          |   NA                          |   NA                          |   NA                          |       NA                      |   NA                          |     NA                        |  NA                           |    NA                         |    NA                         |    NA                         |    NA                         |    NA                         |   NA                          |    NA                         |    NA                         | 1                             | 0                             | NA                            | NA                            |    NA                         | NA                            | all_nas                       |  1                            | all_nas                       | 0                             | all_nas                       | all_nas                       | NA                            | 1                             | 0                             | 0                             | NA                            | NA                            | unk                           | 0                             | 0                             | 0                             | NA                            | \n",
       "| 393 | 4080                          | 10366                         | 10778                         | Treatment Effect              | Treatment Effect              | 2016-04-12                    | 2016-04-13                    | 10378                         | 2016-04-14                    | 69                            | Gross total resection         | NA                            | NA                            | NA                            | 0                             |  NA                           | NA                            | 0                             |  NA                           | F                             | 1946-07-05                    | White                         | 5B82                          | t10366                        | 4-12-16                       | 4/13/16                       | NA                            | 2                             | NA                            | NA                            | NA                            | NA                            | NA                            |    NA                         | NA                            | NA                            | NA                            | NA                            | 1.72                          | 1.41                          | 0.97                          | 1.02                          | -0.07                         | 0.82                          | 0.72                          | 0.66                          | 0.80                          | 0.88                          | 0.86                          | 0.75                          | 0.61                          | 0.61                          | 0.75                          | 0.80                          | 0.75                          | 1.04                          | 1.07                          |    94.86                      | 1.05                          |  97.15                        | 100                           |    NA                         |    NA                         |    NA                         |    NA                         |    NA                         |   NA                          |    NA                         |    NA                         | 1                             | 0                             |  0                            |  0                            |    NA                         | \"95% NECROSIS+TUMOR\"          | NA                            | NA                            | all_zeros                     | 0                             | NA                            | NA                            | NA                            | 1                             | 1                             | 1                             | NA                            | False                         | unk                           | 0                             | 1                             | 1                             | NEL                           | \n",
       "| 394 | 4080                          | 10366                         | 10778                         | Treatment Effect              | Treatment Effect              | 2016-04-12                    | 2016-04-13                    | 10378                         | 2016-04-14                    | 69                            | Gross total resection         | NA                            | NA                            | NA                            | 0                             |  NA                           | NA                            | 0                             |  NA                           | F                             | 1946-07-05                    | White                         | 3B82                          | t10366                        | 4-12-16                       | 4/13/16                       | NA                            | 2                             | NA                            | NA                            | NA                            | NA                            | NA                            |    NA                         | NA                            | NA                            | NA                            | NA                            | 2.21                          | 1.88                          | 0.66                          | 0.76                          | -0.11                         | 1.30                          | 0.50                          | 1.01                          | 1.26                          | 1.42                          | 1.34                          | 1.18                          | 0.50                          | 0.94                          | 1.13                          | 1.24                          | 1.13                          | 0.27                          | 0.28                          |   100.00                      | 0.29                          | 100.00                        | 100                           | -0.32                         |  1.10                         |  1.04                         |  0.42                         |  0.51                         | 0.18                          |  1.74                         |  1.74                         | 1                             | 0                             |  0                            |  0                            |  1.74                         | \"100% NECROSIS\"               | NA                            | NA                            | NA                            | 1                             | NA                            | NA                            | NA                            | 1                             | 1                             | 1                             | NA                            | False                         | unk                           | 0                             | 1                             | 1                             | NEL                           | \n",
       "| 413 | 4208                          | 10763                         | 11039                         | Treatment Effect              | Treatment Effect              | 2016-10-25                    | 2016-10-26                    | 11565                         | 2016-10-27                    | 63                            | Other - See Surgery Comments  | NA                            | NA                            | NA                            | 0                             |  NA                           | NA                            | 0                             |  NA                           | F                             | 1953-06-05                    | White                         | 80B91                         | NA                            | NA                            | 10/26/16                      | NA                            | 2                             | 0                             | NA                            | NA                            | NA                            | NA                            | 152.5                         |  0                            | NA                            | t                             | NA                            | 1.93                          | 1.67                          | 1.05                          | 0.90                          |  0.09                         | 1.09                          | 0.72                          | 0.88                          | 0.98                          | 1.17                          | 1.06                          | 1.09                          | 0.72                          | 0.88                          | 0.98                          | 1.17                          | 1.06                          |   NA                          |   NA                          |       NA                      |   NA                          |     NA                        |  NA                           |  1.02                         |  1.41                         |  0.15                         |  0.85                         |  0.54                         | 0.50                          |  0.48                         |  0.48                         | 1                             | 0                             | NA                            | NA                            |  0.48                         | \"NECROSIS 95%, HYALINIZED BV\" | all_nas                       |  1                            | NA                            | 1                             | all_nas                       | NA                            | NA                            | 1                             | 1                             | 1                             | NA                            | True                          | unk                           | 1                             | 1                             | 0                             | CEL                           | \n",
       "\n",
       "\n"
      ],
      "text/plain": [
       "    b_number t_number sf_number current_hist_grade current_hist_type\n",
       "114 2474      7408     8701     Grade IV           Glioblastoma     \n",
       "115 2474      7408     8701     Grade IV           Glioblastoma     \n",
       "222 3043      7227     8580     Treatment Effect   Treatment Effect \n",
       "249 1957      9134    10071     Grade III          Oligodendroglioma\n",
       "393 4080     10366    10778     Treatment Effect   Treatment Effect \n",
       "394 4080     10366    10778     Treatment Effect   Treatment Effect \n",
       "413 4208     10763    11039     Treatment Effect   Treatment Effect \n",
       "    current_scan_date.x current_surgery_date.x post_t_number post_scan_date\n",
       "114 2011-03-23          2011-03-24             11137         2011-03-25    \n",
       "115 2011-03-23          2011-03-24             11137         2011-03-25    \n",
       "222 2010-12-16          2010-12-27                NA         NA            \n",
       "249 2014-08-12          2014-08-13              9925         2014-08-14    \n",
       "393 2016-04-12          2016-04-13             10378         2016-04-14    \n",
       "394 2016-04-12          2016-04-13             10378         2016-04-14    \n",
       "413 2016-10-25          2016-10-26             11565         2016-10-27    \n",
       "    age_at_surgery extent_of_resection          inital_kps last_contact_date\n",
       "114 74             Gross total resection        NA         NA               \n",
       "115 74             Gross total resection        NA         NA               \n",
       "222 70             Gross total resection        NA         2011-10-24       \n",
       "249 36             Sub-total resection          NA         NA               \n",
       "393 69             Gross total resection        NA         NA               \n",
       "394 69             Gross total resection        NA         NA               \n",
       "413 63             Other - See Surgery Comments NA         NA               \n",
       "    progression_date pfs_censored pfs date_of_death os_censored os  gender\n",
       "114 NA               0             NA 2011-05-06    1            44 F     \n",
       "115 NA               0             NA 2011-05-06    1            44 F     \n",
       "222 NA               0            312 2012-04-12    1           483 M     \n",
       "249 NA               0             NA 2016-08-15    1           734 F     \n",
       "393 NA               0             NA NA            0            NA F     \n",
       "394 NA               0             NA NA            0            NA F     \n",
       "413 NA               0             NA NA            0            NA F     \n",
       "    birthdate  race  vialid t_number_x current_scan_date.y\n",
       "114 1936-11-02 White 12B40  t7408      <NA>               \n",
       "115 1936-11-02 White 11B40  t7408      <NA>               \n",
       "222 1940-09-03 White 36B39  t7227      <NA>               \n",
       "249 1978-01-07 White 15B71  NA         8-12-14            \n",
       "393 1946-07-05 White 5B82   t10366     4-12-16            \n",
       "394 1946-07-05 White 3B82   t10366     4-12-16            \n",
       "413 1953-06-05 White 80B91  NA         <NA>               \n",
       "    current_surgery_date.y tumor_cell_evaluation necrosis mv_hyperplasia\n",
       "114 3/24/11                NA                    NA       NA            \n",
       "115 3/24/11                NA                    NA       NA            \n",
       "222 12/27/10               NA                    NA       NA            \n",
       "249 8/13/14                NA                    NA       NA            \n",
       "393 4/13/16                NA                    2        NA            \n",
       "394 4/13/16                NA                    2        NA            \n",
       "413 10/26/16               NA                    2        0             \n",
       "    mv_delicate_vasculature f8_delicate f8_simple f8_complex mib_1\n",
       "114 NA                      NA          NA        NA            NA\n",
       "115 NA                      NA          NA        NA            NA\n",
       "222 NA                      NA          NA        NA            NA\n",
       "249 NA                      NA          NA        NA            NA\n",
       "393 NA                      NA          NA        NA            NA\n",
       "394 NA                      NA          NA        NA            NA\n",
       "413 NA                      NA          NA        NA         152.5\n",
       "    avgerage_cells treatment_related_ab bx_pure_treatment_effect\n",
       "114 NA             NA                   NA                      \n",
       "115 NA             NA                   NA                      \n",
       "222 NA             NA                   NA                      \n",
       "249 NA             NA                   NA                      \n",
       "393 NA             NA                   NA                      \n",
       "394 NA             NA                   NA                      \n",
       "413  0             NA                   t                       \n",
       "    percent_tumor_nuclei nfl  nfse nt1c nt1v nt1d  nadc.1 nfa.1 nev1.1 nev2.1\n",
       "114 NA                     NA   NA   NA   NA    NA   NA     NA    NA     NA  \n",
       "115 NA                     NA   NA   NA   NA    NA   NA     NA    NA     NA  \n",
       "222 NA                   1.02 1.99 1.24 0.52  0.65 1.68   1.28  1.49   1.53  \n",
       "249 NA                   1.15 1.10 0.99 1.02 -0.14   NA     NA    NA     NA  \n",
       "393 NA                   1.72 1.41 0.97 1.02 -0.07 0.82   0.72  0.66   0.80  \n",
       "394 NA                   2.21 1.88 0.66 0.76 -0.11 1.30   0.50  1.01   1.26  \n",
       "413 NA                   1.93 1.67 1.05 0.90  0.09 1.09   0.72  0.88   0.98  \n",
       "    nev3.1 nevrad.1 nadc.2 nfa.2 nev1.2 nev2.2 nev3.2 nevrad.2 cbvn_nlin\n",
       "114   NA     NA       NA     NA    NA     NA     NA     NA       NA     \n",
       "115   NA     NA       NA     NA    NA     NA     NA     NA       NA     \n",
       "222 1.66   1.52       NA     NA    NA     NA     NA     NA     0.03     \n",
       "249   NA     NA       NA     NA    NA     NA     NA     NA       NA     \n",
       "393 0.88   0.86     0.75   0.61  0.61   0.75   0.80   0.75     1.04     \n",
       "394 1.42   1.34     1.18   0.50  0.94   1.13   1.24   1.13     0.27     \n",
       "413 1.17   1.06     1.09   0.72  0.88   0.98   1.17   1.06       NA     \n",
       "    phn_nlin recov_nlin phn_npar recov_npar recovn_npar ccri  cni   crni  ncho \n",
       "114   NA           NA     NA         NA      NA          1.27  3.63  0.97  0.74\n",
       "115   NA           NA     NA         NA      NA          1.97  4.13  0.57  0.95\n",
       "222 0.08     -3016.38   4.40      63.41      NA          0.73 -1.04 -1.31 -0.17\n",
       "249   NA           NA     NA         NA      NA            NA    NA    NA    NA\n",
       "393 1.07        94.86   1.05      97.15     100            NA    NA    NA    NA\n",
       "394 0.28       100.00   0.29     100.00     100         -0.32  1.10  1.04  0.42\n",
       "413   NA           NA     NA         NA      NA          1.02  1.41  0.15  0.85\n",
       "    ncre  nnaa nlac  nlip  newdata olddata exclude_bc_hematoma_or_ventricle\n",
       "114  0.35 0.03 -0.07  1.49 0       1       NA                              \n",
       "115  0.28 0.08 -0.03 -2.71 0       1       NA                              \n",
       "222 -0.48 0.11  0.36 10.24 0       1        1                              \n",
       "249    NA   NA    NA    NA 1       0       NA                              \n",
       "393    NA   NA    NA    NA 1       0        0                              \n",
       "394  0.51 0.18  1.74  1.74 1       0        0                              \n",
       "413  0.54 0.50  0.48  0.48 1       0       NA                              \n",
       "    exclude_perf nLL   comments                      perf_quant include_perf\n",
       "114 NA            1.42 NA                            all_nas     1          \n",
       "115 NA           -2.74 NA                            all_nas     1          \n",
       "222  1           10.60 NA                            NA          0          \n",
       "249 NA              NA NA                            all_nas     1          \n",
       "393  0              NA \"95% NECROSIS+TUMOR\"          NA         NA          \n",
       "394  0            1.74 \"100% NECROSIS\"               NA         NA          \n",
       "413 NA            0.48 \"NECROSIS 95%, HYALINIZED BV\" all_nas     1          \n",
       "    spec_quant include_spec diffu1000_quant diffu2000_quant exclude_bc_anat\n",
       "114 NA         1            all_nas         all_nas          1             \n",
       "115 NA         1            all_nas         all_nas          1             \n",
       "222 NA         1            NA              all_zeros       NA             \n",
       "249 all_nas    0            all_nas         all_nas         NA             \n",
       "393 all_zeros  0            NA              NA              NA             \n",
       "394 NA         1            NA              NA              NA             \n",
       "413 NA         1            all_nas         NA              NA             \n",
       "    exclude_bc_pathology include_diffu1000 include_diffu2000 exclude_histology\n",
       "114 1                    0                 0                 NA               \n",
       "115 1                    0                 0                 NA               \n",
       "222 1                    1                 0                 NA               \n",
       "249 1                    0                 0                 NA               \n",
       "393 1                    1                 1                 NA               \n",
       "394 1                    1                 1                 NA               \n",
       "413 1                    1                 1                 NA               \n",
       "    txe_comments outcome in_CEL in_T2all in_NEL CELorNEL\n",
       "114 NA           unk     0      0        0      NA      \n",
       "115 NA           unk     0      0        0      NA      \n",
       "222 NA           unk     1      0        0      CEL     \n",
       "249 NA           unk     0      0        0      NA      \n",
       "393 False        unk     0      1        1      NEL     \n",
       "394 False        unk     0      1        1      NEL     \n",
       "413 True         unk     1      1        0      CEL     "
      ]
     },
     "metadata": {},
     "output_type": "display_data"
    }
   ],
   "source": [
    "recgli.noffpe[nopath_index,]"
   ]
  },
  {
   "cell_type": "code",
   "execution_count": 36,
   "metadata": {},
   "outputs": [],
   "source": [
    "recgli.nopath = recgli.nopath[-which(recgli.nopath$exclude_bc_pathology==1),]"
   ]
  },
  {
   "cell_type": "code",
   "execution_count": 37,
   "metadata": {},
   "outputs": [
    {
     "data": {
      "text/html": [
       "<table>\n",
       "<thead><tr><th scope=col>data</th><th scope=col>patients</th><th scope=col>scans</th><th scope=col>samples</th></tr></thead>\n",
       "<tbody>\n",
       "\t<tr><td>old_po1</td><td>0      </td><td>0      </td><td>0      </td></tr>\n",
       "\t<tr><td>REC_HGG</td><td>0      </td><td>0      </td><td>0      </td></tr>\n",
       "\t<tr><td>TOTAL  </td><td>0      </td><td>0      </td><td>0      </td></tr>\n",
       "</tbody>\n",
       "</table>\n"
      ],
      "text/latex": [
       "\\begin{tabular}{llll}\n",
       " data & patients & scans & samples\\\\\n",
       "\\hline\n",
       "\t old\\_po1 & 0         & 0         & 0        \\\\\n",
       "\t REC\\_HGG & 0         & 0         & 0        \\\\\n",
       "\t TOTAL   & 0       & 0       & 0      \\\\\n",
       "\\end{tabular}\n"
      ],
      "text/markdown": [
       "\n",
       "data | patients | scans | samples | \n",
       "|---|---|---|\n",
       "| old_po1 | 0       | 0       | 0       | \n",
       "| REC_HGG | 0       | 0       | 0       | \n",
       "| TOTAL   | 0       | 0       | 0       | \n",
       "\n",
       "\n"
      ],
      "text/plain": [
       "     data    patients scans samples\n",
       "[1,] old_po1 0        0     0      \n",
       "[2,] REC_HGG 0        0     0      \n",
       "[3,] TOTAL   0        0     0      "
      ]
     },
     "metadata": {},
     "output_type": "display_data"
    }
   ],
   "source": [
    "nopath = temp\n",
    "nopath[1,2] = sum(ifelse(duplicated(recgli.nopath$b_number)==FALSE & recgli.nopath$olddata==1, 1, 0))\n",
    "nopath[1,3] = sum(ifelse(duplicated(recgli.nopath$t_number)==FALSE & recgli.nopath$olddata==1, 1, 0))\n",
    "nopath[1,4] = sum(recgli.nopath$olddata==1)\n",
    "nopath[2,2] = sum(ifelse(duplicated(recgli.nopath$b_number)==FALSE & recgli.nopath$newdata==1, 1, 0))\n",
    "nopath[2,3] = sum(ifelse(duplicated(recgli.nopath$t_number)==FALSE & recgli.nopath$newdata==1, 1, 0))\n",
    "nopath[2,4] = sum(recgli.nopath$newdata==1)\n",
    "nopath[3,2:4]= as.numeric(nopath[1,2:4]) + as.numeric(nopath[2,2:4])\n",
    "nopath"
   ]
  },
  {
   "cell_type": "markdown",
   "metadata": {},
   "source": [
    "## Removing pts with ependymomas "
   ]
  },
  {
   "cell_type": "code",
   "execution_count": 38,
   "metadata": {},
   "outputs": [
    {
     "data": {
      "text/html": [
       "<ol class=list-inline>\n",
       "\t<li>0</li>\n",
       "\t<li>92</li>\n",
       "</ol>\n"
      ],
      "text/latex": [
       "\\begin{enumerate*}\n",
       "\\item 0\n",
       "\\item 92\n",
       "\\end{enumerate*}\n"
      ],
      "text/markdown": [
       "1. 0\n",
       "2. 92\n",
       "\n",
       "\n"
      ],
      "text/plain": [
       "[1]  0 92"
      ]
     },
     "metadata": {},
     "output_type": "display_data"
    }
   ],
   "source": [
    "dim(recgli.nopath)"
   ]
  },
  {
   "cell_type": "code",
   "execution_count": 39,
   "metadata": {},
   "outputs": [
    {
     "data": {
      "text/plain": [
       "< table of extent 0 >"
      ]
     },
     "metadata": {},
     "output_type": "display_data"
    }
   ],
   "source": [
    "table(recgli.nopath$exclude_histology)"
   ]
  },
  {
   "cell_type": "code",
   "execution_count": 40,
   "metadata": {},
   "outputs": [
    {
     "data": {
      "text/html": [
       "<ol class=list-inline>\n",
       "\t<li>0</li>\n",
       "\t<li>92</li>\n",
       "</ol>\n"
      ],
      "text/latex": [
       "\\begin{enumerate*}\n",
       "\\item 0\n",
       "\\item 92\n",
       "\\end{enumerate*}\n"
      ],
      "text/markdown": [
       "1. 0\n",
       "2. 92\n",
       "\n",
       "\n"
      ],
      "text/plain": [
       "[1]  0 92"
      ]
     },
     "metadata": {},
     "output_type": "display_data"
    },
    {
     "data": {
      "text/html": [
       "<table>\n",
       "<thead><tr><th scope=col>data</th><th scope=col>patients</th><th scope=col>scans</th><th scope=col>samples</th></tr></thead>\n",
       "<tbody>\n",
       "\t<tr><td>old_po1</td><td>0      </td><td>0      </td><td>0      </td></tr>\n",
       "\t<tr><td>REC_HGG</td><td>0      </td><td>0      </td><td>0      </td></tr>\n",
       "\t<tr><td>TOTAL  </td><td>0      </td><td>0      </td><td>0      </td></tr>\n",
       "</tbody>\n",
       "</table>\n"
      ],
      "text/latex": [
       "\\begin{tabular}{llll}\n",
       " data & patients & scans & samples\\\\\n",
       "\\hline\n",
       "\t old\\_po1 & 0         & 0         & 0        \\\\\n",
       "\t REC\\_HGG & 0         & 0         & 0        \\\\\n",
       "\t TOTAL   & 0       & 0       & 0      \\\\\n",
       "\\end{tabular}\n"
      ],
      "text/markdown": [
       "\n",
       "data | patients | scans | samples | \n",
       "|---|---|---|\n",
       "| old_po1 | 0       | 0       | 0       | \n",
       "| REC_HGG | 0       | 0       | 0       | \n",
       "| TOTAL   | 0       | 0       | 0       | \n",
       "\n",
       "\n"
      ],
      "text/plain": [
       "     data    patients scans samples\n",
       "[1,] old_po1 0        0     0      \n",
       "[2,] REC_HGG 0        0     0      \n",
       "[3,] TOTAL   0        0     0      "
      ]
     },
     "metadata": {},
     "output_type": "display_data"
    }
   ],
   "source": [
    "recgli.desiredhist = recgli.nopath[-which(recgli.nopath$exclude_histology==1),]\n",
    "dim(recgli.desiredhist) \n",
    "desiredhist = temp\n",
    "desiredhist[1,2] = sum(ifelse(duplicated(recgli.desiredhist$b_number)==FALSE & recgli.desiredhist$olddata==1, 1, 0))\n",
    "desiredhist[1,3] = sum(ifelse(duplicated(recgli.desiredhist$t_number)==FALSE & recgli.desiredhist$olddata==1, 1, 0))\n",
    "desiredhist[1,4] = sum(recgli.desiredhist$olddata==1)\n",
    "desiredhist[2,2] = sum(ifelse(duplicated(recgli.desiredhist$b_number)==FALSE & recgli.desiredhist$newdata==1, 1, 0))\n",
    "desiredhist[2,3] = sum(ifelse(duplicated(recgli.desiredhist$t_number)==FALSE & recgli.desiredhist$newdata==1, 1, 0))\n",
    "desiredhist[2,4] = sum(recgli.desiredhist$newdata==1)\n",
    "desiredhist[3,2:4]= as.numeric(desiredhist[1,2:4]) + as.numeric(desiredhist[2,2:4])\n",
    "desiredhist"
   ]
  },
  {
   "cell_type": "markdown",
   "metadata": {},
   "source": [
    "## Removing samples in hematomas "
   ]
  },
  {
   "cell_type": "code",
   "execution_count": 41,
   "metadata": {},
   "outputs": [
    {
     "data": {
      "text/plain": [
       "< table of extent 0 >"
      ]
     },
     "metadata": {},
     "output_type": "display_data"
    }
   ],
   "source": [
    "table(recgli.desiredhist$exclude_bc_hematoma_or_ventricle)"
   ]
  },
  {
   "cell_type": "code",
   "execution_count": 42,
   "metadata": {},
   "outputs": [
    {
     "data": {
      "text/html": [
       "<ol class=list-inline>\n",
       "\t<li>0</li>\n",
       "\t<li>92</li>\n",
       "</ol>\n"
      ],
      "text/latex": [
       "\\begin{enumerate*}\n",
       "\\item 0\n",
       "\\item 92\n",
       "\\end{enumerate*}\n"
      ],
      "text/markdown": [
       "1. 0\n",
       "2. 92\n",
       "\n",
       "\n"
      ],
      "text/plain": [
       "[1]  0 92"
      ]
     },
     "metadata": {},
     "output_type": "display_data"
    },
    {
     "data": {
      "text/html": [
       "<table>\n",
       "<thead><tr><th scope=col>data</th><th scope=col>patients</th><th scope=col>scans</th><th scope=col>samples</th></tr></thead>\n",
       "<tbody>\n",
       "\t<tr><td>old_po1</td><td>0      </td><td>0      </td><td>0      </td></tr>\n",
       "\t<tr><td>REC_HGG</td><td>0      </td><td>0      </td><td>0      </td></tr>\n",
       "\t<tr><td>TOTAL  </td><td>0      </td><td>0      </td><td>0      </td></tr>\n",
       "</tbody>\n",
       "</table>\n"
      ],
      "text/latex": [
       "\\begin{tabular}{llll}\n",
       " data & patients & scans & samples\\\\\n",
       "\\hline\n",
       "\t old\\_po1 & 0         & 0         & 0        \\\\\n",
       "\t REC\\_HGG & 0         & 0         & 0        \\\\\n",
       "\t TOTAL   & 0       & 0       & 0      \\\\\n",
       "\\end{tabular}\n"
      ],
      "text/markdown": [
       "\n",
       "data | patients | scans | samples | \n",
       "|---|---|---|\n",
       "| old_po1 | 0       | 0       | 0       | \n",
       "| REC_HGG | 0       | 0       | 0       | \n",
       "| TOTAL   | 0       | 0       | 0       | \n",
       "\n",
       "\n"
      ],
      "text/plain": [
       "     data    patients scans samples\n",
       "[1,] old_po1 0        0     0      \n",
       "[2,] REC_HGG 0        0     0      \n",
       "[3,] TOTAL   0        0     0      "
      ]
     },
     "metadata": {},
     "output_type": "display_data"
    }
   ],
   "source": [
    "recgli.nohematoma = recgli.desiredhist[-which(recgli.desiredhist$exclude_bc_hematoma_or_ventricle==1),]\n",
    "dim(recgli.nohematoma) \n",
    "nohematoma = temp\n",
    "nohematoma[1,2] = sum(ifelse(duplicated(recgli.nohematoma$b_number)==FALSE & recgli.nohematoma$olddata==1, 1, 0))\n",
    "nohematoma[1,3] = sum(ifelse(duplicated(recgli.nohematoma$t_number)==FALSE & recgli.nohematoma$olddata==1, 1, 0))\n",
    "nohematoma[1,4] = sum(recgli.nohematoma$olddata==1)\n",
    "nohematoma[2,2] = sum(ifelse(duplicated(recgli.nohematoma$b_number)==FALSE & recgli.nohematoma$newdata==1, 1, 0))\n",
    "nohematoma[2,3] = sum(ifelse(duplicated(recgli.nohematoma$t_number)==FALSE & recgli.nohematoma$newdata==1, 1, 0))\n",
    "nohematoma[2,4] = sum(recgli.nohematoma$newdata==1)\n",
    "nohematoma[3,2:4]= as.numeric(nohematoma[1,2:4]) + as.numeric(nohematoma[2,2:4])\n",
    "nohematoma"
   ]
  },
  {
   "cell_type": "code",
   "execution_count": 43,
   "metadata": {},
   "outputs": [
    {
     "data": {
      "text/html": [
       "<ol class=list-inline>\n",
       "\t<li>0</li>\n",
       "\t<li>92</li>\n",
       "</ol>\n"
      ],
      "text/latex": [
       "\\begin{enumerate*}\n",
       "\\item 0\n",
       "\\item 92\n",
       "\\end{enumerate*}\n"
      ],
      "text/markdown": [
       "1. 0\n",
       "2. 92\n",
       "\n",
       "\n"
      ],
      "text/plain": [
       "[1]  0 92"
      ]
     },
     "metadata": {},
     "output_type": "display_data"
    }
   ],
   "source": [
    "recgli.nohematoma = recgli.nohematoma[order(recgli.nohematoma$gender),]\n",
    "dim(recgli.nohematoma)"
   ]
  },
  {
   "cell_type": "code",
   "execution_count": 44,
   "metadata": {},
   "outputs": [
    {
     "data": {
      "text/html": [
       "<ol class=list-inline>\n",
       "\t<li>0</li>\n",
       "\t<li>92</li>\n",
       "</ol>\n"
      ],
      "text/latex": [
       "\\begin{enumerate*}\n",
       "\\item 0\n",
       "\\item 92\n",
       "\\end{enumerate*}\n"
      ],
      "text/markdown": [
       "1. 0\n",
       "2. 92\n",
       "\n",
       "\n"
      ],
      "text/plain": [
       "[1]  0 92"
      ]
     },
     "metadata": {},
     "output_type": "display_data"
    }
   ],
   "source": [
    "recgli.nodup = recgli.nohematoma[!duplicated(recgli.nohematoma$t_number),]\n",
    "dim(recgli.nodup)"
   ]
  },
  {
   "cell_type": "markdown",
   "metadata": {},
   "source": [
    "## Removing samples with no anatomical data"
   ]
  },
  {
   "cell_type": "code",
   "execution_count": 45,
   "metadata": {},
   "outputs": [
    {
     "data": {
      "text/html": [
       "<ol class=list-inline>\n",
       "\t<li>0</li>\n",
       "\t<li>92</li>\n",
       "</ol>\n"
      ],
      "text/latex": [
       "\\begin{enumerate*}\n",
       "\\item 0\n",
       "\\item 92\n",
       "\\end{enumerate*}\n"
      ],
      "text/markdown": [
       "1. 0\n",
       "2. 92\n",
       "\n",
       "\n"
      ],
      "text/plain": [
       "[1]  0 92"
      ]
     },
     "metadata": {},
     "output_type": "display_data"
    },
    {
     "data": {
      "text/html": [
       "<table>\n",
       "<thead><tr><th scope=col>data</th><th scope=col>patients</th><th scope=col>scans</th><th scope=col>samples</th></tr></thead>\n",
       "<tbody>\n",
       "\t<tr><td>old_po1</td><td>0      </td><td>0      </td><td>0      </td></tr>\n",
       "\t<tr><td>REC_HGG</td><td>0      </td><td>0      </td><td>0      </td></tr>\n",
       "\t<tr><td>TOTAL  </td><td>0      </td><td>0      </td><td>0      </td></tr>\n",
       "</tbody>\n",
       "</table>\n"
      ],
      "text/latex": [
       "\\begin{tabular}{llll}\n",
       " data & patients & scans & samples\\\\\n",
       "\\hline\n",
       "\t old\\_po1 & 0         & 0         & 0        \\\\\n",
       "\t REC\\_HGG & 0         & 0         & 0        \\\\\n",
       "\t TOTAL   & 0       & 0       & 0      \\\\\n",
       "\\end{tabular}\n"
      ],
      "text/markdown": [
       "\n",
       "data | patients | scans | samples | \n",
       "|---|---|---|\n",
       "| old_po1 | 0       | 0       | 0       | \n",
       "| REC_HGG | 0       | 0       | 0       | \n",
       "| TOTAL   | 0       | 0       | 0       | \n",
       "\n",
       "\n"
      ],
      "text/plain": [
       "     data    patients scans samples\n",
       "[1,] old_po1 0        0     0      \n",
       "[2,] REC_HGG 0        0     0      \n",
       "[3,] TOTAL   0        0     0      "
      ]
     },
     "metadata": {},
     "output_type": "display_data"
    }
   ],
   "source": [
    "recgli.noanatomical = recgli.nohematoma[-which(is.na(recgli.nohematoma$nfse)),]\n",
    "dim(recgli.noanatomical) \n",
    "noanatomical = temp\n",
    "noanatomical[1,2] = sum(ifelse(duplicated(recgli.noanatomical$b_number)==FALSE & recgli.noanatomical$olddata==1, 1, 0))\n",
    "noanatomical[1,3] = sum(ifelse(duplicated(recgli.noanatomical$t_number)==FALSE & recgli.noanatomical$olddata==1, 1, 0))\n",
    "noanatomical[1,4] = sum(recgli.noanatomical$olddata==1)\n",
    "noanatomical[2,2] = sum(ifelse(duplicated(recgli.noanatomical$b_number)==FALSE & recgli.noanatomical$newdata==1, 1, 0))\n",
    "noanatomical[2,3] = sum(ifelse(duplicated(recgli.noanatomical$t_number)==FALSE & recgli.noanatomical$newdata==1, 1, 0))\n",
    "noanatomical[2,4] = sum(recgli.noanatomical$newdata==1)\n",
    "noanatomical[3,2:4]= as.numeric(noanatomical[1,2:4]) + as.numeric(noanatomical[2,2:4])\n",
    "noanatomical"
   ]
  },
  {
   "cell_type": "code",
   "execution_count": 51,
   "metadata": {},
   "outputs": [],
   "source": [
    "recgli.noanatomical = read.csv('../../AnnotateData/recgli_annotation9_CELorNELorUNK.csv')"
   ]
  },
  {
   "cell_type": "code",
   "execution_count": null,
   "metadata": {},
   "outputs": [],
   "source": [
    "recgli"
   ]
  },
  {
   "cell_type": "code",
   "execution_count": 52,
   "metadata": {},
   "outputs": [
    {
     "data": {
      "text/html": [
       "<ol class=list-inline>\n",
       "\t<li>174</li>\n",
       "\t<li>75</li>\n",
       "</ol>\n"
      ],
      "text/latex": [
       "\\begin{enumerate*}\n",
       "\\item 174\n",
       "\\item 75\n",
       "\\end{enumerate*}\n"
      ],
      "text/markdown": [
       "1. 174\n",
       "2. 75\n",
       "\n",
       "\n"
      ],
      "text/plain": [
       "[1] 174  75"
      ]
     },
     "metadata": {},
     "output_type": "display_data"
    }
   ],
   "source": [
    "recgli.nodup = recgli.noanatomical[!duplicated(recgli.noanatomical$t_number_y),]\n",
    "dim(recgli.nodup)"
   ]
  },
  {
   "cell_type": "code",
   "execution_count": 53,
   "metadata": {},
   "outputs": [
    {
     "data": {
      "text/plain": [
       "< table of extent 0 >"
      ]
     },
     "metadata": {},
     "output_type": "display_data"
    },
    {
     "data": {
      "text/plain": [
       "< table of extent 0 >"
      ]
     },
     "metadata": {},
     "output_type": "display_data"
    },
    {
     "data": {
      "text/plain": [
       "                  \n",
       "                       Astrocytoma Ependymoma Ganglioglioma\n",
       "                    13           0          0             0\n",
       "  Grade II           0           2          0             0\n",
       "  Grade III          0          34          2             3\n",
       "  Grade IV           0           0          0             0\n",
       "  Treatment Effect   0           0          0             0\n",
       "                  \n",
       "                   Giant Cell Glioblastoma Glioblastoma Gliosarcoma\n",
       "                                         0            0           0\n",
       "  Grade II                               0            0           0\n",
       "  Grade III                              0            0           0\n",
       "  Grade IV                               3          283          15\n",
       "  Treatment Effect                       0            3           0\n",
       "                  \n",
       "                   Oligoastrocytoma Oligodendroglioma Treatment Effect\n",
       "                                  0                 0                0\n",
       "  Grade II                        0                 0                0\n",
       "  Grade III                       4                45                0\n",
       "  Grade IV                        0                 0                0\n",
       "  Treatment Effect                0                 0               72"
      ]
     },
     "metadata": {},
     "output_type": "display_data"
    }
   ],
   "source": [
    "\n",
    "table(recgli.noanatomical$gender)\n",
    "table(recgli.noanatomical$race)\n",
    "table(recgli.noanatomical$current_hist_grade, recgli.noanatomical$current_hist_type)"
   ]
  },
  {
   "cell_type": "code",
   "execution_count": 49,
   "metadata": {},
   "outputs": [
    {
     "data": {
      "text/html": [
       "<ol class=list-inline>\n",
       "\t<li>174</li>\n",
       "\t<li>75</li>\n",
       "</ol>\n"
      ],
      "text/latex": [
       "\\begin{enumerate*}\n",
       "\\item 174\n",
       "\\item 75\n",
       "\\end{enumerate*}\n"
      ],
      "text/markdown": [
       "1. 174\n",
       "2. 75\n",
       "\n",
       "\n"
      ],
      "text/plain": [
       "[1] 174  75"
      ]
     },
     "metadata": {},
     "output_type": "display_data"
    },
    {
     "data": {
      "text/plain": [
       "< table of extent 0 >"
      ]
     },
     "metadata": {},
     "output_type": "display_data"
    },
    {
     "data": {
      "text/plain": [
       "< table of extent 0 >"
      ]
     },
     "metadata": {},
     "output_type": "display_data"
    },
    {
     "data": {
      "text/plain": [
       "                  \n",
       "                       Astrocytoma Ependymoma Ganglioglioma\n",
       "                     2           0          0             0\n",
       "  Grade II           0           1          0             0\n",
       "  Grade III          0          12          1             1\n",
       "  Grade IV           0           0          0             0\n",
       "  Treatment Effect   0           0          0             0\n",
       "                  \n",
       "                   Giant Cell Glioblastoma Glioblastoma Gliosarcoma\n",
       "                                         0            0           0\n",
       "  Grade II                               0            0           0\n",
       "  Grade III                              0            0           0\n",
       "  Grade IV                               1          107           4\n",
       "  Treatment Effect                       0            1           0\n",
       "                  \n",
       "                   Oligoastrocytoma Oligodendroglioma Treatment Effect\n",
       "                                  0                 0                0\n",
       "  Grade II                        0                 0                0\n",
       "  Grade III                       1                16                0\n",
       "  Grade IV                        0                 0                0\n",
       "  Treatment Effect                0                 0               27"
      ]
     },
     "metadata": {},
     "output_type": "display_data"
    }
   ],
   "source": [
    "dim(recgli.nodup)\n",
    "table(recgli.nodup$gender)\n",
    "table(recgli.nodup$race)\n",
    "table(recgli.nodup$current_hist_grade, recgli.nodup$current_hist_type)"
   ]
  },
  {
   "cell_type": "code",
   "execution_count": 50,
   "metadata": {},
   "outputs": [],
   "source": [
    "age = function(from, to) {\n",
    "  from_lt = as.POSIXlt(from)\n",
    "  to_lt = as.POSIXlt(to)\n",
    "\n",
    "  age = to_lt$year - from_lt$year\n",
    "\n",
    "  ifelse(to_lt$mon < from_lt$mon |\n",
    "         (to_lt$mon == from_lt$mon & to_lt$mday < from_lt$mday),\n",
    "         age - 1, age)\n",
    "}\n"
   ]
  },
  {
   "cell_type": "code",
   "execution_count": 80,
   "metadata": {},
   "outputs": [],
   "source": [
    "recgli.nodup$age = age(recgli.nodup$birthdate, recgli.nodup$current_scan_date.x)"
   ]
  },
  {
   "cell_type": "code",
   "execution_count": 81,
   "metadata": {},
   "outputs": [
    {
     "data": {
      "text/plain": [
       "   Mode \n",
       "logical "
      ]
     },
     "metadata": {},
     "output_type": "display_data"
    }
   ],
   "source": [
    " summary(recgli.nodup$age)"
   ]
  },
  {
   "cell_type": "code",
   "execution_count": 82,
   "metadata": {},
   "outputs": [
    {
     "data": {
      "text/html": [
       "<table>\n",
       "<thead><tr><th scope=col>b_number</th><th scope=col>t_number</th><th scope=col>sf_number</th><th scope=col>current_hist_grade</th><th scope=col>current_hist_type</th><th scope=col>current_scan_date.x</th><th scope=col>current_surgery_date.x</th><th scope=col>post_t_number</th><th scope=col>post_scan_date</th><th scope=col>age_at_surgery</th><th scope=col>extent_of_resection</th><th scope=col>inital_kps</th><th scope=col>last_contact_date</th><th scope=col>progression_date</th><th scope=col>pfs_censored</th><th scope=col>pfs</th><th scope=col>date_of_death</th><th scope=col>os_censored</th><th scope=col>os</th><th scope=col>gender</th><th scope=col>birthdate</th><th scope=col>race</th><th scope=col>vialid</th><th scope=col>t_number_x</th><th scope=col>current_scan_date.y</th><th scope=col>current_surgery_date.y</th><th scope=col>tumor_cell_evaluation</th><th scope=col>necrosis</th><th scope=col>mv_hyperplasia</th><th scope=col>mv_delicate_vasculature</th><th scope=col>f8_delicate</th><th scope=col>f8_simple</th><th scope=col>f8_complex</th><th scope=col>mib_1</th><th scope=col>avgerage_cells</th><th scope=col>treatment_related_ab</th><th scope=col>bx_pure_treatment_effect</th><th scope=col>percent_tumor_nuclei</th><th scope=col>nfl</th><th scope=col>nfse</th><th scope=col>nt1c</th><th scope=col>nt1v</th><th scope=col>nt1d</th><th scope=col>nadc.1</th><th scope=col>nfa.1</th><th scope=col>nev1.1</th><th scope=col>nev2.1</th><th scope=col>nev3.1</th><th scope=col>nevrad.1</th><th scope=col>nadc.2</th><th scope=col>nfa.2</th><th scope=col>nev1.2</th><th scope=col>nev2.2</th><th scope=col>nev3.2</th><th scope=col>nevrad.2</th><th scope=col>cbvn_nlin</th><th scope=col>phn_nlin</th><th scope=col>recov_nlin</th><th scope=col>phn_npar</th><th scope=col>recov_npar</th><th scope=col>recovn_npar</th><th scope=col>ccri</th><th scope=col>cni</th><th scope=col>crni</th><th scope=col>ncho</th><th scope=col>ncre</th><th scope=col>nnaa</th><th scope=col>nlac</th><th scope=col>nlip</th><th scope=col>newdata</th><th scope=col>olddata</th><th scope=col>exclude_bc_hematoma_or_ventricle</th><th scope=col>exclude_perf</th><th scope=col>nLL</th><th scope=col>comments</th><th scope=col>perf_quant</th><th scope=col>include_perf</th><th scope=col>spec_quant</th><th scope=col>include_spec</th><th scope=col>diffu1000_quant</th><th scope=col>diffu2000_quant</th><th scope=col>exclude_bc_anat</th><th scope=col>exclude_bc_pathology</th><th scope=col>include_diffu1000</th><th scope=col>include_diffu2000</th><th scope=col>exclude_histology</th><th scope=col>age</th></tr></thead>\n",
       "<tbody>\n",
       "</tbody>\n",
       "</table>\n"
      ],
      "text/latex": [
       "\\begin{tabular}{r|lllllllllllllllllllllllllllllllllllllllllllllllllllllllllllllllllllllllllllllllllllllll}\n",
       " b\\_number & t\\_number & sf\\_number & current\\_hist\\_grade & current\\_hist\\_type & current\\_scan\\_date.x & current\\_surgery\\_date.x & post\\_t\\_number & post\\_scan\\_date & age\\_at\\_surgery & extent\\_of\\_resection & inital\\_kps & last\\_contact\\_date & progression\\_date & pfs\\_censored & pfs & date\\_of\\_death & os\\_censored & os & gender & birthdate & race & vialid & t\\_number\\_x & current\\_scan\\_date.y & current\\_surgery\\_date.y & tumor\\_cell\\_evaluation & necrosis & mv\\_hyperplasia & mv\\_delicate\\_vasculature & f8\\_delicate & f8\\_simple & f8\\_complex & mib\\_1 & avgerage\\_cells & treatment\\_related\\_ab & bx\\_pure\\_treatment\\_effect & percent\\_tumor\\_nuclei & nfl & nfse & nt1c & nt1v & nt1d & nadc.1 & nfa.1 & nev1.1 & nev2.1 & nev3.1 & nevrad.1 & nadc.2 & nfa.2 & nev1.2 & nev2.2 & nev3.2 & nevrad.2 & cbvn\\_nlin & phn\\_nlin & recov\\_nlin & phn\\_npar & recov\\_npar & recovn\\_npar & ccri & cni & crni & ncho & ncre & nnaa & nlac & nlip & newdata & olddata & exclude\\_bc\\_hematoma\\_or\\_ventricle & exclude\\_perf & nLL & comments & perf\\_quant & include\\_perf & spec\\_quant & include\\_spec & diffu1000\\_quant & diffu2000\\_quant & exclude\\_bc\\_anat & exclude\\_bc\\_pathology & include\\_diffu1000 & include\\_diffu2000 & exclude\\_histology & age\\\\\n",
       "\\hline\n",
       "\\end{tabular}\n"
      ],
      "text/markdown": [
       "\n",
       "b_number | t_number | sf_number | current_hist_grade | current_hist_type | current_scan_date.x | current_surgery_date.x | post_t_number | post_scan_date | age_at_surgery | extent_of_resection | inital_kps | last_contact_date | progression_date | pfs_censored | pfs | date_of_death | os_censored | os | gender | birthdate | race | vialid | t_number_x | current_scan_date.y | current_surgery_date.y | tumor_cell_evaluation | necrosis | mv_hyperplasia | mv_delicate_vasculature | f8_delicate | f8_simple | f8_complex | mib_1 | avgerage_cells | treatment_related_ab | bx_pure_treatment_effect | percent_tumor_nuclei | nfl | nfse | nt1c | nt1v | nt1d | nadc.1 | nfa.1 | nev1.1 | nev2.1 | nev3.1 | nevrad.1 | nadc.2 | nfa.2 | nev1.2 | nev2.2 | nev3.2 | nevrad.2 | cbvn_nlin | phn_nlin | recov_nlin | phn_npar | recov_npar | recovn_npar | ccri | cni | crni | ncho | ncre | nnaa | nlac | nlip | newdata | olddata | exclude_bc_hematoma_or_ventricle | exclude_perf | nLL | comments | perf_quant | include_perf | spec_quant | include_spec | diffu1000_quant | diffu2000_quant | exclude_bc_anat | exclude_bc_pathology | include_diffu1000 | include_diffu2000 | exclude_histology | age | \n",
       "||\n",
       "\n",
       "\n"
      ],
      "text/plain": [
       "     b_number t_number sf_number current_hist_grade current_hist_type\n",
       "     current_scan_date.x current_surgery_date.x post_t_number post_scan_date\n",
       "     age_at_surgery extent_of_resection inital_kps last_contact_date\n",
       "     progression_date pfs_censored pfs date_of_death os_censored os gender\n",
       "     birthdate race vialid t_number_x current_scan_date.y\n",
       "     current_surgery_date.y tumor_cell_evaluation necrosis mv_hyperplasia\n",
       "     mv_delicate_vasculature f8_delicate f8_simple f8_complex mib_1\n",
       "     avgerage_cells treatment_related_ab bx_pure_treatment_effect\n",
       "     percent_tumor_nuclei nfl nfse nt1c nt1v nt1d nadc.1 nfa.1 nev1.1 nev2.1\n",
       "     nev3.1 nevrad.1 nadc.2 nfa.2 nev1.2 nev2.2 nev3.2 nevrad.2 cbvn_nlin\n",
       "     phn_nlin recov_nlin phn_npar recov_npar recovn_npar ccri cni crni ncho\n",
       "     ncre nnaa nlac nlip newdata olddata exclude_bc_hematoma_or_ventricle\n",
       "     exclude_perf nLL comments perf_quant include_perf spec_quant include_spec\n",
       "     diffu1000_quant diffu2000_quant exclude_bc_anat exclude_bc_pathology\n",
       "     include_diffu1000 include_diffu2000 exclude_histology age"
      ]
     },
     "metadata": {},
     "output_type": "display_data"
    }
   ],
   "source": [
    "recgli.nodup[recgli.nodup$current_hist_grade == \"Treatment Effect\" & recgli.nodup$current_hist_type== \"Glioblastoma\",]"
   ]
  },
  {
   "cell_type": "code",
   "execution_count": 83,
   "metadata": {},
   "outputs": [
    {
     "data": {
      "text/plain": [
       "\n",
       "F M \n",
       "0 0 "
      ]
     },
     "metadata": {},
     "output_type": "display_data"
    }
   ],
   "source": [
    "table(recgli.nohematoma$gender)"
   ]
  },
  {
   "cell_type": "code",
   "execution_count": 84,
   "metadata": {},
   "outputs": [
    {
     "data": {
      "text/plain": [
       "\n",
       "         American Indian or Alaska Native \n",
       "                                        0 \n",
       "                                    Asian \n",
       "                                        0 \n",
       "                Black or African American \n",
       "                                        0 \n",
       "                       More Than One Race \n",
       "                                        0 \n",
       "                                    Other \n",
       "                                        0 \n",
       "                     Unknown/Not Reported \n",
       "                                        0 \n",
       "                                    White \n",
       "                                        0 \n",
       "Native Hawaiian or Other Pacific Islander \n",
       "                                        0 "
      ]
     },
     "metadata": {},
     "output_type": "display_data"
    }
   ],
   "source": [
    "table(recgli.nohematoma$race)"
   ]
  },
  {
   "cell_type": "code",
   "execution_count": 191,
   "metadata": {},
   "outputs": [
    {
     "data": {
      "text/plain": [
       "                  \n",
       "                   Astrocytoma Ependymoma Ganglioglioma Glioblastoma\n",
       "  Grade II                   0          0             0            0\n",
       "  Grade III                 30          0             0            0\n",
       "  Grade IV                   0          0             0          237\n",
       "  Treatment Effect           0          0             0            2\n",
       "                  \n",
       "                   Gliosarcoma Oligodendroglioma Treatment Effect\n",
       "  Grade II                   0                 0                0\n",
       "  Grade III                  0                36                0\n",
       "  Grade IV                  14                 0                0\n",
       "  Treatment Effect           0                 0               57\n",
       "                  \n",
       "                   Giant Cell Glioblastoma Oligoastrocytoma\n",
       "  Grade II                               0                0\n",
       "  Grade III                              0                4\n",
       "  Grade IV                               2                0\n",
       "  Treatment Effect                       0                0"
      ]
     },
     "metadata": {},
     "output_type": "display_data"
    }
   ],
   "source": [
    "table(recgli.nohematoma$current_hist_grade, recgli.nohematoma$current_hist_type)"
   ]
  },
  {
   "cell_type": "code",
   "execution_count": 192,
   "metadata": {},
   "outputs": [
    {
     "data": {
      "text/plain": [
       "\n",
       "         American Indian or Alaska Native \n",
       "                                        2 \n",
       "                                    Asian \n",
       "                                       14 \n",
       "                Black or African American \n",
       "                                        0 \n",
       "                       More Than One Race \n",
       "                                        0 \n",
       "                                    Other \n",
       "                                       36 \n",
       "                     Unknown/Not Reported \n",
       "                                       13 \n",
       "                                    White \n",
       "                                      312 \n",
       "Native Hawaiian or Other Pacific Islander \n",
       "                                        8 "
      ]
     },
     "metadata": {},
     "output_type": "display_data"
    }
   ],
   "source": [
    "table(recgli.nohematoma$race)"
   ]
  },
  {
   "cell_type": "code",
   "execution_count": 193,
   "metadata": {},
   "outputs": [],
   "source": [
    "recgli = recgli.noanatomical "
   ]
  },
  {
   "cell_type": "code",
   "execution_count": 194,
   "metadata": {},
   "outputs": [
    {
     "data": {
      "text/html": [
       "151"
      ],
      "text/latex": [
       "151"
      ],
      "text/markdown": [
       "151"
      ],
      "text/plain": [
       "[1] 151"
      ]
     },
     "metadata": {},
     "output_type": "display_data"
    }
   ],
   "source": [
    "## Here I want to show whether a patient has 1, 2, 3, or 4 different kinds of tissue scores based on tumor_cell_evaluation\n",
    "\n",
    "## I must first loop through each patient, figure out the unique kinds of tissue, and give heterogeneity score\n",
    "\n",
    "unique_tnums = unique(recgli$t_number)\n",
    "length(unique_tnums)\n",
    "\n",
    "tnum_score = c()\n",
    "\n",
    "for (tnum in unique_tnums) {\n",
    "    tnum_df = recgli[which(recgli$t_number == tnum),]\n",
    "    het_score_tnum = length(unique(tnum_df$tumor_cell_evaluation))\n",
    "    tnum_score = c(tnum_score, het_score_tnum)\n",
    "}"
   ]
  },
  {
   "cell_type": "code",
   "execution_count": 195,
   "metadata": {},
   "outputs": [
    {
     "data": {
      "text/html": [
       "151"
      ],
      "text/latex": [
       "151"
      ],
      "text/markdown": [
       "151"
      ],
      "text/plain": [
       "[1] 151"
      ]
     },
     "metadata": {},
     "output_type": "display_data"
    }
   ],
   "source": [
    "length(tnum_score)"
   ]
  },
  {
   "cell_type": "code",
   "execution_count": 196,
   "metadata": {},
   "outputs": [],
   "source": [
    "tnum_score_df = data.frame(unique_tnums, tnum_score)"
   ]
  },
  {
   "cell_type": "code",
   "execution_count": 197,
   "metadata": {},
   "outputs": [
    {
     "name": "stdout",
     "output_type": "stream",
     "text": [
      " 'table' int [1:4(1d)] 79 61 10 1\n",
      " - attr(*, \"dimnames\")=List of 1\n",
      "  ..$ : chr [1:4] \"1\" \"2\" \"3\" \"4\"\n"
     ]
    }
   ],
   "source": [
    "str(table(tnum_score_df$tnum_score))"
   ]
  },
  {
   "cell_type": "code",
   "execution_count": 198,
   "metadata": {
    "scrolled": true
   },
   "outputs": [
    {
     "data": {
      "image/png": "[encoded data removed]",
      "text/plain": [
       "Plot with title “Heterogeneity of tumor score within patients”"
      ]
     },
     "metadata": {},
     "output_type": "display_data"
    }
   ],
   "source": [
    "a = barplot(table(tnum_score_df$tnum_score), ylab = \"Number of patients\", \n",
    "        xlab = \"Number of distinct tumor scores per patient\", \n",
    "        main = \"Heterogeneity of tumor score within patients\", \n",
    "        density=c(5,10,20,30) , angle=c(0,45,90,11) , col=\"brown\", names.arg=c(\"1\",\"2\",\"3\",\"4\"), \n",
    "        ylim = c(0,100))\n",
    "text(x = a, y = c(85, 64, 13, 1), label = c(85, 64, 13, 1), pos = 3, cex = 0.8, col = \"black\")\n",
    "\n"
   ]
  },
  {
   "cell_type": "code",
   "execution_count": 199,
   "metadata": {},
   "outputs": [],
   "source": [
    "## Here I want to show whether a patient has  both a 0 and 3 within the same patient \n",
    "\n",
    "\n",
    "tnum_03 = c()\n",
    "\n",
    "for (tnum in unique_tnums) {\n",
    "    tnum_df = recgli[which(recgli$t_number == tnum),]\n",
    "    score_03 = ifelse((0 %in% tnum_df$tumor_cell_evaluation | 1 %in% tnum_df$tumor_cell_evaluation )& (2 %in% tnum_df$tumor_cell_evaluation | 3 %in% tnum_df$tumor_cell_evaluation), 1, 0)\n",
    "    tnum_03 = c(tnum_03, score_03)\n",
    "}"
   ]
  },
  {
   "cell_type": "code",
   "execution_count": 200,
   "metadata": {},
   "outputs": [
    {
     "data": {
      "text/plain": [
       "tnum_03\n",
       "  0   1 \n",
       "106  45 "
      ]
     },
     "metadata": {},
     "output_type": "display_data"
    }
   ],
   "source": [
    "table(tnum_03)"
   ]
  },
  {
   "cell_type": "code",
   "execution_count": 201,
   "metadata": {},
   "outputs": [
    {
     "data": {
      "text/plain": [
       "\n",
       "FALSE \n",
       "  366 "
      ]
     },
     "metadata": {},
     "output_type": "display_data"
    }
   ],
   "source": [
    "table(is.na(recgli$nfse))"
   ]
  },
  {
   "cell_type": "code",
   "execution_count": 202,
   "metadata": {},
   "outputs": [
    {
     "data": {
      "text/html": [
       "151"
      ],
      "text/latex": [
       "151"
      ],
      "text/markdown": [
       "151"
      ],
      "text/plain": [
       "[1] 151"
      ]
     },
     "metadata": {},
     "output_type": "display_data"
    }
   ],
   "source": [
    "length(unique(recgli[which(!is.na(recgli$nfse)),]$t_number))"
   ]
  },
  {
   "cell_type": "code",
   "execution_count": 203,
   "metadata": {},
   "outputs": [
    {
     "data": {
      "text/html": [
       "140"
      ],
      "text/latex": [
       "140"
      ],
      "text/markdown": [
       "140"
      ],
      "text/plain": [
       "[1] 140"
      ]
     },
     "metadata": {},
     "output_type": "display_data"
    }
   ],
   "source": [
    "length(unique(recgli[which(!is.na(recgli$nfa.1)),]$t_number))"
   ]
  },
  {
   "cell_type": "code",
   "execution_count": 204,
   "metadata": {},
   "outputs": [
    {
     "data": {
      "text/html": [
       "345"
      ],
      "text/latex": [
       "345"
      ],
      "text/markdown": [
       "345"
      ],
      "text/plain": [
       "[1] 345"
      ]
     },
     "metadata": {},
     "output_type": "display_data"
    }
   ],
   "source": [
    "length(recgli[which(!is.na(recgli$nfa.1)),]$t_number)"
   ]
  },
  {
   "cell_type": "code",
   "execution_count": 205,
   "metadata": {},
   "outputs": [
    {
     "data": {
      "text/html": [
       "251"
      ],
      "text/latex": [
       "251"
      ],
      "text/markdown": [
       "251"
      ],
      "text/plain": [
       "[1] 251"
      ]
     },
     "metadata": {},
     "output_type": "display_data"
    }
   ],
   "source": [
    "length(recgli[which(!is.na(recgli$cbvn_nlin)),]$t_number)"
   ]
  },
  {
   "cell_type": "code",
   "execution_count": 206,
   "metadata": {},
   "outputs": [
    {
     "data": {
      "text/html": [
       "111"
      ],
      "text/latex": [
       "111"
      ],
      "text/markdown": [
       "111"
      ],
      "text/plain": [
       "[1] 111"
      ]
     },
     "metadata": {},
     "output_type": "display_data"
    }
   ],
   "source": [
    "length(unique(recgli[which(!is.na(recgli$cbvn_nlin)),]$t_number))"
   ]
  },
  {
   "cell_type": "code",
   "execution_count": 207,
   "metadata": {},
   "outputs": [
    {
     "data": {
      "text/html": [
       "88"
      ],
      "text/latex": [
       "88"
      ],
      "text/markdown": [
       "88"
      ],
      "text/plain": [
       "[1] 88"
      ]
     },
     "metadata": {},
     "output_type": "display_data"
    }
   ],
   "source": [
    "length(unique(recgli[which(!is.na(recgli$cni)),]$t_number))"
   ]
  },
  {
   "cell_type": "code",
   "execution_count": 208,
   "metadata": {},
   "outputs": [
    {
     "data": {
      "text/html": [
       "184"
      ],
      "text/latex": [
       "184"
      ],
      "text/markdown": [
       "184"
      ],
      "text/plain": [
       "[1] 184"
      ]
     },
     "metadata": {},
     "output_type": "display_data"
    }
   ],
   "source": [
    "length(recgli[which(!is.na(recgli$cni)),]$t_number)"
   ]
  },
  {
   "cell_type": "code",
   "execution_count": 209,
   "metadata": {},
   "outputs": [
    {
     "data": {
      "text/plain": [
       "\n",
       "  0   1   2   3 \n",
       " 84  51 108 123 "
      ]
     },
     "metadata": {},
     "output_type": "display_data"
    }
   ],
   "source": [
    "table(recgli$tumor_cell_evaluation)"
   ]
  },
  {
   "cell_type": "code",
   "execution_count": 213,
   "metadata": {},
   "outputs": [
    {
     "data": {
      "text/plain": [
       "\n",
       "             0              1              2 Indeterminable \n",
       "           298             49             17              2 "
      ]
     },
     "metadata": {},
     "output_type": "display_data"
    }
   ],
   "source": [
    "table(recgli$necrosis)"
   ]
  },
  {
   "cell_type": "code",
   "execution_count": 214,
   "metadata": {},
   "outputs": [
    {
     "data": {
      "text/plain": [
       "\n",
       " 0  1 \n",
       "74 46 "
      ]
     },
     "metadata": {},
     "output_type": "display_data"
    }
   ],
   "source": [
    "table(recgli$treatment_related_ab)"
   ]
  },
  {
   "cell_type": "code",
   "execution_count": 217,
   "metadata": {},
   "outputs": [],
   "source": [
    "recgli$txe = ifelse((recgli$treatment_related_ab == 1 & (recgli$tumor_cell_evaluation == 0 | recgli$tumor_cell_evaluation ==1)), 1, 0)"
   ]
  },
  {
   "cell_type": "code",
   "execution_count": 220,
   "metadata": {},
   "outputs": [
    {
     "data": {
      "text/plain": [
       "\n",
       "FALSE  TRUE \n",
       "  254   112 "
      ]
     },
     "metadata": {},
     "output_type": "display_data"
    }
   ],
   "source": [
    "table(((recgli$nfl > 1.3 | recgli$nt1c > 1.4) & (recgli$tumor_cell_evaluation == 0 | recgli$tumor_cell_evaluation ==1)))\n"
   ]
  },
  {
   "cell_type": "code",
   "execution_count": null,
   "metadata": {},
   "outputs": [],
   "source": []
  }
 ],
 "metadata": {
  "kernelspec": {
   "display_name": "R",
   "language": "R",
   "name": "ir"
  },
  "language_info": {
   "codemirror_mode": "r",
   "file_extension": ".r",
   "mimetype": "text/x-r-source",
   "name": "R",
   "pygments_lexer": "r",
   "version": "3.4.0"
  }
 },
 "nbformat": 4,
 "nbformat_minor": 2
}
