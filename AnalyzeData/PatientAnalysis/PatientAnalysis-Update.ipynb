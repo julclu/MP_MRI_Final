{
 "cells": [
  {
   "cell_type": "markdown",
   "metadata": {},
   "source": [
    "## Patient Analysis of Demographics"
   ]
  },
  {
   "cell_type": "markdown",
   "metadata": {},
   "source": [
    "1. go to cerebro \n",
    "2. download po1_preop_recur_ptdemographics\n",
    "3. download rec_hgg_ptdemographics\n",
    "4. download po1_preop_recur_gender_race\n",
    "4. download rechgg_gender_race\n",
    "4. save as csv\n",
    "5. upload to this directory"
   ]
  },
  {
   "cell_type": "code",
   "execution_count": 1,
   "metadata": {},
   "outputs": [],
   "source": [
    "options(repr.matrix.max.rows=600, repr.matrix.max.cols=200)"
   ]
  },
  {
   "cell_type": "code",
   "execution_count": 2,
   "metadata": {},
   "outputs": [],
   "source": [
    "po1_pt_dems = read.csv(\"po1_preop_recur_ptdemographics.csv\", na.strings=c(\"\",\"NA\"))\n",
    "rechgg_pt_dems = read.csv('rec_hgg_ptdemographics.csv', na.strings=c(\"\",\"NA\"))\n",
    "po1_pt_gender = read.csv('po1_preop_recur_gender_race.csv', na.strings=c(\"\",\"NA\"))\n",
    "rechgg_pt_gender = read.csv('rechgg_gender_race.csv', na.strings=c(\"\",\"NA\"))"
   ]
  },
  {
   "cell_type": "code",
   "execution_count": 3,
   "metadata": {},
   "outputs": [
    {
     "data": {
      "text/html": [
       "<ol class=list-inline>\n",
       "\t<li>147</li>\n",
       "\t<li>19</li>\n",
       "</ol>\n"
      ],
      "text/latex": [
       "\\begin{enumerate*}\n",
       "\\item 147\n",
       "\\item 19\n",
       "\\end{enumerate*}\n"
      ],
      "text/markdown": [
       "1. 147\n",
       "2. 19\n",
       "\n",
       "\n"
      ],
      "text/plain": [
       "[1] 147  19"
      ]
     },
     "metadata": {},
     "output_type": "display_data"
    },
    {
     "data": {
      "text/html": [
       "<ol class=list-inline>\n",
       "\t<li>140</li>\n",
       "\t<li>4</li>\n",
       "</ol>\n"
      ],
      "text/latex": [
       "\\begin{enumerate*}\n",
       "\\item 140\n",
       "\\item 4\n",
       "\\end{enumerate*}\n"
      ],
      "text/markdown": [
       "1. 140\n",
       "2. 4\n",
       "\n",
       "\n"
      ],
      "text/plain": [
       "[1] 140   4"
      ]
     },
     "metadata": {},
     "output_type": "display_data"
    },
    {
     "data": {
      "text/html": [
       "<ol class=list-inline>\n",
       "\t<li>'Gender'</li>\n",
       "\t<li>'Birthdate'</li>\n",
       "\t<li>'Brain.Group.Subject.ID'</li>\n",
       "\t<li>'Race'</li>\n",
       "</ol>\n"
      ],
      "text/latex": [
       "\\begin{enumerate*}\n",
       "\\item 'Gender'\n",
       "\\item 'Birthdate'\n",
       "\\item 'Brain.Group.Subject.ID'\n",
       "\\item 'Race'\n",
       "\\end{enumerate*}\n"
      ],
      "text/markdown": [
       "1. 'Gender'\n",
       "2. 'Birthdate'\n",
       "3. 'Brain.Group.Subject.ID'\n",
       "4. 'Race'\n",
       "\n",
       "\n"
      ],
      "text/plain": [
       "[1] \"Gender\"                 \"Birthdate\"              \"Brain.Group.Subject.ID\"\n",
       "[4] \"Race\"                  "
      ]
     },
     "metadata": {},
     "output_type": "display_data"
    },
    {
     "data": {
      "text/html": [
       "<ol class=list-inline>\n",
       "\t<li>'gender'</li>\n",
       "\t<li>'birthdate'</li>\n",
       "\t<li>'b_number'</li>\n",
       "\t<li>'race'</li>\n",
       "</ol>\n"
      ],
      "text/latex": [
       "\\begin{enumerate*}\n",
       "\\item 'gender'\n",
       "\\item 'birthdate'\n",
       "\\item 'b\\_number'\n",
       "\\item 'race'\n",
       "\\end{enumerate*}\n"
      ],
      "text/markdown": [
       "1. 'gender'\n",
       "2. 'birthdate'\n",
       "3. 'b_number'\n",
       "4. 'race'\n",
       "\n",
       "\n"
      ],
      "text/plain": [
       "[1] \"gender\"    \"birthdate\" \"b_number\"  \"race\"     "
      ]
     },
     "metadata": {},
     "output_type": "display_data"
    },
    {
     "data": {
      "text/html": [
       "<ol class=list-inline>\n",
       "\t<li>'b_number'</li>\n",
       "\t<li>'t_number'</li>\n",
       "\t<li>'sf_number'</li>\n",
       "\t<li>'current_scan_date'</li>\n",
       "\t<li>'current_surgery_date'</li>\n",
       "\t<li>'post_t_number'</li>\n",
       "\t<li>'post_scan_date'</li>\n",
       "\t<li>'current_hist_grade'</li>\n",
       "\t<li>'current_hist_type'</li>\n",
       "\t<li>'age_at_surgery'</li>\n",
       "\t<li>'extent_of_resection'</li>\n",
       "\t<li>'inital_kps'</li>\n",
       "\t<li>'last_contact_date'</li>\n",
       "\t<li>'progression_date'</li>\n",
       "\t<li>'pfs_censored'</li>\n",
       "\t<li>'pfs'</li>\n",
       "\t<li>'date_of_death'</li>\n",
       "\t<li>'os_censored'</li>\n",
       "\t<li>'os'</li>\n",
       "</ol>\n"
      ],
      "text/latex": [
       "\\begin{enumerate*}\n",
       "\\item 'b\\_number'\n",
       "\\item 't\\_number'\n",
       "\\item 'sf\\_number'\n",
       "\\item 'current\\_scan\\_date'\n",
       "\\item 'current\\_surgery\\_date'\n",
       "\\item 'post\\_t\\_number'\n",
       "\\item 'post\\_scan\\_date'\n",
       "\\item 'current\\_hist\\_grade'\n",
       "\\item 'current\\_hist\\_type'\n",
       "\\item 'age\\_at\\_surgery'\n",
       "\\item 'extent\\_of\\_resection'\n",
       "\\item 'inital\\_kps'\n",
       "\\item 'last\\_contact\\_date'\n",
       "\\item 'progression\\_date'\n",
       "\\item 'pfs\\_censored'\n",
       "\\item 'pfs'\n",
       "\\item 'date\\_of\\_death'\n",
       "\\item 'os\\_censored'\n",
       "\\item 'os'\n",
       "\\end{enumerate*}\n"
      ],
      "text/markdown": [
       "1. 'b_number'\n",
       "2. 't_number'\n",
       "3. 'sf_number'\n",
       "4. 'current_scan_date'\n",
       "5. 'current_surgery_date'\n",
       "6. 'post_t_number'\n",
       "7. 'post_scan_date'\n",
       "8. 'current_hist_grade'\n",
       "9. 'current_hist_type'\n",
       "10. 'age_at_surgery'\n",
       "11. 'extent_of_resection'\n",
       "12. 'inital_kps'\n",
       "13. 'last_contact_date'\n",
       "14. 'progression_date'\n",
       "15. 'pfs_censored'\n",
       "16. 'pfs'\n",
       "17. 'date_of_death'\n",
       "18. 'os_censored'\n",
       "19. 'os'\n",
       "\n",
       "\n"
      ],
      "text/plain": [
       " [1] \"b_number\"             \"t_number\"             \"sf_number\"           \n",
       " [4] \"current_scan_date\"    \"current_surgery_date\" \"post_t_number\"       \n",
       " [7] \"post_scan_date\"       \"current_hist_grade\"   \"current_hist_type\"   \n",
       "[10] \"age_at_surgery\"       \"extent_of_resection\"  \"inital_kps\"          \n",
       "[13] \"last_contact_date\"    \"progression_date\"     \"pfs_censored\"        \n",
       "[16] \"pfs\"                  \"date_of_death\"        \"os_censored\"         \n",
       "[19] \"os\"                  "
      ]
     },
     "metadata": {},
     "output_type": "display_data"
    }
   ],
   "source": [
    "dim(po1_pt_dems)\n",
    "dim(po1_pt_gender)\n",
    "colnames(po1_pt_gender)\n",
    "colnames(po1_pt_gender) = c(\"gender\", 'birthdate', 'b_number', 'race')\n",
    "colnames(po1_pt_gender)\n",
    "colnames( po1_pt_dems)"
   ]
  },
  {
   "cell_type": "code",
   "execution_count": 4,
   "metadata": {},
   "outputs": [
    {
     "data": {
      "text/html": [
       "<ol class=list-inline>\n",
       "\t<li>146</li>\n",
       "\t<li>22</li>\n",
       "</ol>\n"
      ],
      "text/latex": [
       "\\begin{enumerate*}\n",
       "\\item 146\n",
       "\\item 22\n",
       "\\end{enumerate*}\n"
      ],
      "text/markdown": [
       "1. 146\n",
       "2. 22\n",
       "\n",
       "\n"
      ],
      "text/plain": [
       "[1] 146  22"
      ]
     },
     "metadata": {},
     "output_type": "display_data"
    },
    {
     "data": {
      "text/html": [
       "<table>\n",
       "<thead><tr><th scope=col>b_number</th><th scope=col>t_number</th><th scope=col>sf_number</th><th scope=col>current_scan_date</th><th scope=col>current_surgery_date</th><th scope=col>post_t_number</th><th scope=col>post_scan_date</th><th scope=col>current_hist_grade</th><th scope=col>current_hist_type</th><th scope=col>age_at_surgery</th><th scope=col>extent_of_resection</th><th scope=col>inital_kps</th><th scope=col>last_contact_date</th><th scope=col>progression_date</th><th scope=col>pfs_censored</th><th scope=col>pfs</th><th scope=col>date_of_death</th><th scope=col>os_censored</th><th scope=col>os</th><th scope=col>gender</th><th scope=col>birthdate</th><th scope=col>race</th></tr></thead>\n",
       "<tbody>\n",
       "\t<tr><td> 68                         </td><td>6024                        </td><td>  NA                        </td><td>2009-03-08                  </td><td>NA                          </td><td>   NA                       </td><td>NA                          </td><td>Grade IV                    </td><td>Glioblastoma                </td><td>NA                          </td><td>NA                          </td><td>NA                          </td><td>2017-02-02                  </td><td>NA                          </td><td>0                           </td><td>2888                        </td><td>NA                          </td><td>0                           </td><td>2888                        </td><td>F                           </td><td>1967-01-11                  </td><td>White                       </td></tr>\n",
       "\t<tr><td>197                         </td><td>6243                        </td><td>8077                        </td><td>2009-07-15                  </td><td>2009-07-16                  </td><td>11078                       </td><td>2009-07-18                  </td><td>Treatment Effect            </td><td>Treatment Effect            </td><td>56                          </td><td>Sub-total resection         </td><td>NA                          </td><td>2017-01-27                  </td><td>NA                          </td><td>0                           </td><td>2753                        </td><td>NA                          </td><td>0                           </td><td>2753                        </td><td>M                           </td><td>1953-07-10                  </td><td>White                       </td></tr>\n",
       "\t<tr><td>697                         </td><td>5333                        </td><td>7691                        </td><td>2008-05-12                  </td><td>2008-05-14                  </td><td> 8422                       </td><td>2008-05-16                  </td><td>Grade III                   </td><td>Oligodendroglioma           </td><td>49                          </td><td>Sub-total resection         </td><td>90                          </td><td>NA                          </td><td>NA                          </td><td>0                           </td><td>  NA                        </td><td>2010-05-01                  </td><td>1                           </td><td> 719                        </td><td>M                           </td><td>1959-02-25                  </td><td>White                       </td></tr>\n",
       "\t<tr><td>808                         </td><td>7170                        </td><td>8551                        </td><td>2010-11-16                  </td><td>2010-11-17                  </td><td>11125                       </td><td>2010-11-18                  </td><td>Grade IV                    </td><td>Glioblastoma                </td><td>25                          </td><td>Other - See Surgery Comments</td><td>NA                          </td><td>NA                          </td><td>NA                          </td><td>0                           </td><td>  NA                        </td><td>2011-06-05                  </td><td>1                           </td><td> 201                        </td><td>F                           </td><td>1984-11-28                  </td><td>White                       </td></tr>\n",
       "\t<tr><td>963                         </td><td>6069                        </td><td>7984                        </td><td>2009-03-24                  </td><td>2009-03-25                  </td><td>   NA                       </td><td>NA                          </td><td>Grade IV                    </td><td>Glioblastoma                </td><td>46                          </td><td>Sub-total resection         </td><td>NA                          </td><td>NA                          </td><td>NA                          </td><td>0                           </td><td>  NA                        </td><td>2010-01-18                  </td><td>1                           </td><td> 300                        </td><td>M                           </td><td>1962-07-07                  </td><td>White                       </td></tr>\n",
       "\t<tr><td>994                         </td><td>6418                        </td><td>8157                        </td><td>2009-10-27                  </td><td>2009-10-28                  </td><td>   NA                       </td><td>NA                          </td><td>Grade IV                    </td><td>Glioblastoma                </td><td>55                          </td><td>Sub-total resection         </td><td>NA                          </td><td>2010-04-25                  </td><td>2010-04-25                  </td><td>1                           </td><td> 180                        </td><td>2010-12-17                  </td><td>1                           </td><td> 416                        </td><td>F                           </td><td>1954-09-11                  </td><td>White                       </td></tr>\n",
       "</tbody>\n",
       "</table>\n"
      ],
      "text/latex": [
       "\\begin{tabular}{r|llllllllllllllllllllll}\n",
       " b\\_number & t\\_number & sf\\_number & current\\_scan\\_date & current\\_surgery\\_date & post\\_t\\_number & post\\_scan\\_date & current\\_hist\\_grade & current\\_hist\\_type & age\\_at\\_surgery & extent\\_of\\_resection & inital\\_kps & last\\_contact\\_date & progression\\_date & pfs\\_censored & pfs & date\\_of\\_death & os\\_censored & os & gender & birthdate & race\\\\\n",
       "\\hline\n",
       "\t  68                          & 6024                         &   NA                         & 2009-03-08                   & NA                           &    NA                        & NA                           & Grade IV                     & Glioblastoma                 & NA                           & NA                           & NA                           & 2017-02-02                   & NA                           & 0                            & 2888                         & NA                           & 0                            & 2888                         & F                            & 1967-01-11                   & White                       \\\\\n",
       "\t 197                          & 6243                         & 8077                         & 2009-07-15                   & 2009-07-16                   & 11078                        & 2009-07-18                   & Treatment Effect             & Treatment Effect             & 56                           & Sub-total resection          & NA                           & 2017-01-27                   & NA                           & 0                            & 2753                         & NA                           & 0                            & 2753                         & M                            & 1953-07-10                   & White                       \\\\\n",
       "\t 697                          & 5333                         & 7691                         & 2008-05-12                   & 2008-05-14                   &  8422                        & 2008-05-16                   & Grade III                    & Oligodendroglioma            & 49                           & Sub-total resection          & 90                           & NA                           & NA                           & 0                            &   NA                         & 2010-05-01                   & 1                            &  719                         & M                            & 1959-02-25                   & White                       \\\\\n",
       "\t 808                          & 7170                         & 8551                         & 2010-11-16                   & 2010-11-17                   & 11125                        & 2010-11-18                   & Grade IV                     & Glioblastoma                 & 25                           & Other - See Surgery Comments & NA                           & NA                           & NA                           & 0                            &   NA                         & 2011-06-05                   & 1                            &  201                         & F                            & 1984-11-28                   & White                       \\\\\n",
       "\t 963                          & 6069                         & 7984                         & 2009-03-24                   & 2009-03-25                   &    NA                        & NA                           & Grade IV                     & Glioblastoma                 & 46                           & Sub-total resection          & NA                           & NA                           & NA                           & 0                            &   NA                         & 2010-01-18                   & 1                            &  300                         & M                            & 1962-07-07                   & White                       \\\\\n",
       "\t 994                          & 6418                         & 8157                         & 2009-10-27                   & 2009-10-28                   &    NA                        & NA                           & Grade IV                     & Glioblastoma                 & 55                           & Sub-total resection          & NA                           & 2010-04-25                   & 2010-04-25                   & 1                            &  180                         & 2010-12-17                   & 1                            &  416                         & F                            & 1954-09-11                   & White                       \\\\\n",
       "\\end{tabular}\n"
      ],
      "text/markdown": [
       "\n",
       "b_number | t_number | sf_number | current_scan_date | current_surgery_date | post_t_number | post_scan_date | current_hist_grade | current_hist_type | age_at_surgery | extent_of_resection | inital_kps | last_contact_date | progression_date | pfs_censored | pfs | date_of_death | os_censored | os | gender | birthdate | race | \n",
       "|---|---|---|---|---|---|\n",
       "|  68                          | 6024                         |   NA                         | 2009-03-08                   | NA                           |    NA                        | NA                           | Grade IV                     | Glioblastoma                 | NA                           | NA                           | NA                           | 2017-02-02                   | NA                           | 0                            | 2888                         | NA                           | 0                            | 2888                         | F                            | 1967-01-11                   | White                        | \n",
       "| 197                          | 6243                         | 8077                         | 2009-07-15                   | 2009-07-16                   | 11078                        | 2009-07-18                   | Treatment Effect             | Treatment Effect             | 56                           | Sub-total resection          | NA                           | 2017-01-27                   | NA                           | 0                            | 2753                         | NA                           | 0                            | 2753                         | M                            | 1953-07-10                   | White                        | \n",
       "| 697                          | 5333                         | 7691                         | 2008-05-12                   | 2008-05-14                   |  8422                        | 2008-05-16                   | Grade III                    | Oligodendroglioma            | 49                           | Sub-total resection          | 90                           | NA                           | NA                           | 0                            |   NA                         | 2010-05-01                   | 1                            |  719                         | M                            | 1959-02-25                   | White                        | \n",
       "| 808                          | 7170                         | 8551                         | 2010-11-16                   | 2010-11-17                   | 11125                        | 2010-11-18                   | Grade IV                     | Glioblastoma                 | 25                           | Other - See Surgery Comments | NA                           | NA                           | NA                           | 0                            |   NA                         | 2011-06-05                   | 1                            |  201                         | F                            | 1984-11-28                   | White                        | \n",
       "| 963                          | 6069                         | 7984                         | 2009-03-24                   | 2009-03-25                   |    NA                        | NA                           | Grade IV                     | Glioblastoma                 | 46                           | Sub-total resection          | NA                           | NA                           | NA                           | 0                            |   NA                         | 2010-01-18                   | 1                            |  300                         | M                            | 1962-07-07                   | White                        | \n",
       "| 994                          | 6418                         | 8157                         | 2009-10-27                   | 2009-10-28                   |    NA                        | NA                           | Grade IV                     | Glioblastoma                 | 55                           | Sub-total resection          | NA                           | 2010-04-25                   | 2010-04-25                   | 1                            |  180                         | 2010-12-17                   | 1                            |  416                         | F                            | 1954-09-11                   | White                        | \n",
       "\n",
       "\n"
      ],
      "text/plain": [
       "  b_number t_number sf_number current_scan_date current_surgery_date\n",
       "1  68      6024       NA      2009-03-08        NA                  \n",
       "2 197      6243     8077      2009-07-15        2009-07-16          \n",
       "3 697      5333     7691      2008-05-12        2008-05-14          \n",
       "4 808      7170     8551      2010-11-16        2010-11-17          \n",
       "5 963      6069     7984      2009-03-24        2009-03-25          \n",
       "6 994      6418     8157      2009-10-27        2009-10-28          \n",
       "  post_t_number post_scan_date current_hist_grade current_hist_type\n",
       "1    NA         NA             Grade IV           Glioblastoma     \n",
       "2 11078         2009-07-18     Treatment Effect   Treatment Effect \n",
       "3  8422         2008-05-16     Grade III          Oligodendroglioma\n",
       "4 11125         2010-11-18     Grade IV           Glioblastoma     \n",
       "5    NA         NA             Grade IV           Glioblastoma     \n",
       "6    NA         NA             Grade IV           Glioblastoma     \n",
       "  age_at_surgery extent_of_resection          inital_kps last_contact_date\n",
       "1 NA             NA                           NA         2017-02-02       \n",
       "2 56             Sub-total resection          NA         2017-01-27       \n",
       "3 49             Sub-total resection          90         NA               \n",
       "4 25             Other - See Surgery Comments NA         NA               \n",
       "5 46             Sub-total resection          NA         NA               \n",
       "6 55             Sub-total resection          NA         2010-04-25       \n",
       "  progression_date pfs_censored pfs  date_of_death os_censored os   gender\n",
       "1 NA               0            2888 NA            0           2888 F     \n",
       "2 NA               0            2753 NA            0           2753 M     \n",
       "3 NA               0              NA 2010-05-01    1            719 M     \n",
       "4 NA               0              NA 2011-06-05    1            201 F     \n",
       "5 NA               0              NA 2010-01-18    1            300 M     \n",
       "6 2010-04-25       1             180 2010-12-17    1            416 F     \n",
       "  birthdate  race \n",
       "1 1967-01-11 White\n",
       "2 1953-07-10 White\n",
       "3 1959-02-25 White\n",
       "4 1984-11-28 White\n",
       "5 1962-07-07 White\n",
       "6 1954-09-11 White"
      ]
     },
     "metadata": {},
     "output_type": "display_data"
    }
   ],
   "source": [
    "po1_dems = merge(po1_pt_dems, po1_pt_gender, by = 'b_number')\n",
    "dim(po1_dems)\n",
    "head(po1_dems)\n",
    "po1_dems$birthdate = as.Date(po1_dems$birthdate)\n",
    "po1_dems$current_scan_date = as.Date(po1_dems$current_scan_date)\n"
   ]
  },
  {
   "cell_type": "code",
   "execution_count": 5,
   "metadata": {},
   "outputs": [
    {
     "data": {
      "text/html": [
       "<ol class=list-inline>\n",
       "\t<li>131</li>\n",
       "\t<li>19</li>\n",
       "</ol>\n"
      ],
      "text/latex": [
       "\\begin{enumerate*}\n",
       "\\item 131\n",
       "\\item 19\n",
       "\\end{enumerate*}\n"
      ],
      "text/markdown": [
       "1. 131\n",
       "2. 19\n",
       "\n",
       "\n"
      ],
      "text/plain": [
       "[1] 131  19"
      ]
     },
     "metadata": {},
     "output_type": "display_data"
    },
    {
     "data": {
      "text/html": [
       "<ol class=list-inline>\n",
       "\t<li>120</li>\n",
       "\t<li>5</li>\n",
       "</ol>\n"
      ],
      "text/latex": [
       "\\begin{enumerate*}\n",
       "\\item 120\n",
       "\\item 5\n",
       "\\end{enumerate*}\n"
      ],
      "text/markdown": [
       "1. 120\n",
       "2. 5\n",
       "\n",
       "\n"
      ],
      "text/plain": [
       "[1] 120   5"
      ]
     },
     "metadata": {},
     "output_type": "display_data"
    },
    {
     "data": {
      "text/html": [
       "<ol class=list-inline>\n",
       "\t<li>'gender'</li>\n",
       "\t<li>'birthdate'</li>\n",
       "\t<li>'b_number'</li>\n",
       "\t<li>'race'</li>\n",
       "\t<li>'study_id'</li>\n",
       "</ol>\n"
      ],
      "text/latex": [
       "\\begin{enumerate*}\n",
       "\\item 'gender'\n",
       "\\item 'birthdate'\n",
       "\\item 'b\\_number'\n",
       "\\item 'race'\n",
       "\\item 'study\\_id'\n",
       "\\end{enumerate*}\n"
      ],
      "text/markdown": [
       "1. 'gender'\n",
       "2. 'birthdate'\n",
       "3. 'b_number'\n",
       "4. 'race'\n",
       "5. 'study_id'\n",
       "\n",
       "\n"
      ],
      "text/plain": [
       "[1] \"gender\"    \"birthdate\" \"b_number\"  \"race\"      \"study_id\" "
      ]
     },
     "metadata": {},
     "output_type": "display_data"
    },
    {
     "data": {
      "text/html": [
       "<ol class=list-inline>\n",
       "\t<li>'b_number'</li>\n",
       "\t<li>'t_number'</li>\n",
       "\t<li>'sf_number'</li>\n",
       "\t<li>'current_scan_date'</li>\n",
       "\t<li>'current_surgery_date'</li>\n",
       "\t<li>'post_t_number'</li>\n",
       "\t<li>'post_scan_date'</li>\n",
       "\t<li>'current_hist_grade'</li>\n",
       "\t<li>'current_hist_type'</li>\n",
       "\t<li>'age_at_surgery'</li>\n",
       "\t<li>'extent_of_resection'</li>\n",
       "\t<li>'inital_kps'</li>\n",
       "\t<li>'last_contact_date'</li>\n",
       "\t<li>'progression_date'</li>\n",
       "\t<li>'pfs_censored'</li>\n",
       "\t<li>'pfs'</li>\n",
       "\t<li>'date_of_death'</li>\n",
       "\t<li>'os_censored'</li>\n",
       "\t<li>'os'</li>\n",
       "</ol>\n"
      ],
      "text/latex": [
       "\\begin{enumerate*}\n",
       "\\item 'b\\_number'\n",
       "\\item 't\\_number'\n",
       "\\item 'sf\\_number'\n",
       "\\item 'current\\_scan\\_date'\n",
       "\\item 'current\\_surgery\\_date'\n",
       "\\item 'post\\_t\\_number'\n",
       "\\item 'post\\_scan\\_date'\n",
       "\\item 'current\\_hist\\_grade'\n",
       "\\item 'current\\_hist\\_type'\n",
       "\\item 'age\\_at\\_surgery'\n",
       "\\item 'extent\\_of\\_resection'\n",
       "\\item 'inital\\_kps'\n",
       "\\item 'last\\_contact\\_date'\n",
       "\\item 'progression\\_date'\n",
       "\\item 'pfs\\_censored'\n",
       "\\item 'pfs'\n",
       "\\item 'date\\_of\\_death'\n",
       "\\item 'os\\_censored'\n",
       "\\item 'os'\n",
       "\\end{enumerate*}\n"
      ],
      "text/markdown": [
       "1. 'b_number'\n",
       "2. 't_number'\n",
       "3. 'sf_number'\n",
       "4. 'current_scan_date'\n",
       "5. 'current_surgery_date'\n",
       "6. 'post_t_number'\n",
       "7. 'post_scan_date'\n",
       "8. 'current_hist_grade'\n",
       "9. 'current_hist_type'\n",
       "10. 'age_at_surgery'\n",
       "11. 'extent_of_resection'\n",
       "12. 'inital_kps'\n",
       "13. 'last_contact_date'\n",
       "14. 'progression_date'\n",
       "15. 'pfs_censored'\n",
       "16. 'pfs'\n",
       "17. 'date_of_death'\n",
       "18. 'os_censored'\n",
       "19. 'os'\n",
       "\n",
       "\n"
      ],
      "text/plain": [
       " [1] \"b_number\"             \"t_number\"             \"sf_number\"           \n",
       " [4] \"current_scan_date\"    \"current_surgery_date\" \"post_t_number\"       \n",
       " [7] \"post_scan_date\"       \"current_hist_grade\"   \"current_hist_type\"   \n",
       "[10] \"age_at_surgery\"       \"extent_of_resection\"  \"inital_kps\"          \n",
       "[13] \"last_contact_date\"    \"progression_date\"     \"pfs_censored\"        \n",
       "[16] \"pfs\"                  \"date_of_death\"        \"os_censored\"         \n",
       "[19] \"os\"                  "
      ]
     },
     "metadata": {},
     "output_type": "display_data"
    }
   ],
   "source": [
    "dim(rechgg_pt_dems)\n",
    "dim(rechgg_pt_gender)\n",
    "colnames(rechgg_pt_gender) = c(\"gender\", 'birthdate', 'b_number', 'race', 'study_id')\n",
    "colnames(rechgg_pt_gender)\n",
    "colnames(rechgg_pt_dems)"
   ]
  },
  {
   "cell_type": "code",
   "execution_count": 6,
   "metadata": {},
   "outputs": [
    {
     "data": {
      "text/html": [
       "<ol class=list-inline>\n",
       "\t<li>127</li>\n",
       "\t<li>23</li>\n",
       "</ol>\n"
      ],
      "text/latex": [
       "\\begin{enumerate*}\n",
       "\\item 127\n",
       "\\item 23\n",
       "\\end{enumerate*}\n"
      ],
      "text/markdown": [
       "1. 127\n",
       "2. 23\n",
       "\n",
       "\n"
      ],
      "text/plain": [
       "[1] 127  23"
      ]
     },
     "metadata": {},
     "output_type": "display_data"
    },
    {
     "data": {
      "text/html": [
       "<table>\n",
       "<thead><tr><th scope=col>b_number</th><th scope=col>t_number</th><th scope=col>sf_number</th><th scope=col>current_scan_date</th><th scope=col>current_surgery_date</th><th scope=col>post_t_number</th><th scope=col>post_scan_date</th><th scope=col>current_hist_grade</th><th scope=col>current_hist_type</th><th scope=col>age_at_surgery</th><th scope=col>extent_of_resection</th><th scope=col>inital_kps</th><th scope=col>last_contact_date</th><th scope=col>progression_date</th><th scope=col>pfs_censored</th><th scope=col>pfs</th><th scope=col>date_of_death</th><th scope=col>os_censored</th><th scope=col>os</th><th scope=col>gender</th><th scope=col>birthdate</th><th scope=col>race</th><th scope=col>study_id</th></tr></thead>\n",
       "<tbody>\n",
       "\t<tr><td> 971                 </td><td>10668                </td><td>10943                </td><td>2016-08-16           </td><td>2016-08-17           </td><td>11639                </td><td>2016-08-19           </td><td>Grade III            </td><td>Oligodendroglioma    </td><td>60                   </td><td>Sub-total resection  </td><td>NA                   </td><td>NA                   </td><td>NA                   </td><td>0                    </td><td>NA                   </td><td>NA                   </td><td>0                    </td><td> NA                  </td><td>M                    </td><td>1956-07-14           </td><td>Other                </td><td>REC_HGG              </td></tr>\n",
       "\t<tr><td>1335                 </td><td>11420                </td><td>   NA                </td><td>2017-05-30           </td><td>NA                   </td><td>   NA                </td><td>NA                   </td><td>NA                   </td><td>NA                   </td><td>NA                   </td><td>NA                   </td><td>NA                   </td><td>NA                   </td><td>NA                   </td><td>0                    </td><td>NA                   </td><td>NA                   </td><td>0                    </td><td> NA                  </td><td>F                    </td><td>1975-12-13           </td><td>White                </td><td>REC_HGG              </td></tr>\n",
       "\t<tr><td>1338                 </td><td> 8773                </td><td> 9727                </td><td>2013-10-02           </td><td>2013-10-03           </td><td> 9877                </td><td>2013-10-04           </td><td>Grade IV             </td><td>Glioblastoma         </td><td>39                   </td><td>Gross total resection</td><td>NA                   </td><td>NA                   </td><td>NA                   </td><td>0                    </td><td>NA                   </td><td>2014-08-27           </td><td>1                    </td><td>329                  </td><td>F                    </td><td>1974-05-10           </td><td>White                </td><td>REC_HGG              </td></tr>\n",
       "\t<tr><td>1837                 </td><td> 8960                </td><td> 9913                </td><td>2014-03-18           </td><td>2014-03-20           </td><td> 9896                </td><td>2014-03-21           </td><td>Grade IV             </td><td>Glioblastoma         </td><td>58                   </td><td>Sub-total resection  </td><td>NA                   </td><td>NA                   </td><td>NA                   </td><td>0                    </td><td>NA                   </td><td>2014-08-31           </td><td>1                    </td><td>166                  </td><td>F                    </td><td>1955-11-22           </td><td>Asian                </td><td>REC_HGG              </td></tr>\n",
       "\t<tr><td>1957                 </td><td> 9134                </td><td>10071                </td><td>2014-08-12           </td><td>2014-08-13           </td><td> 9925                </td><td>2014-08-14           </td><td>Grade III            </td><td>Oligodendroglioma    </td><td>36                   </td><td>Sub-total resection  </td><td>NA                   </td><td>NA                   </td><td>NA                   </td><td>0                    </td><td>NA                   </td><td>2016-08-15           </td><td>1                    </td><td>734                  </td><td>F                    </td><td>1978-01-07           </td><td>White                </td><td>REC_HGG              </td></tr>\n",
       "\t<tr><td>2284                 </td><td>12523                </td><td>   NA                </td><td>2018-10-21           </td><td>NA                   </td><td>   NA                </td><td>NA                   </td><td>NA                   </td><td>NA                   </td><td>NA                   </td><td>NA                   </td><td>NA                   </td><td>NA                   </td><td>NA                   </td><td>0                    </td><td>NA                   </td><td>NA                   </td><td>0                    </td><td> NA                  </td><td>M                    </td><td>1967-02-10           </td><td>White                </td><td>REC_HGG              </td></tr>\n",
       "</tbody>\n",
       "</table>\n"
      ],
      "text/latex": [
       "\\begin{tabular}{r|lllllllllllllllllllllll}\n",
       " b\\_number & t\\_number & sf\\_number & current\\_scan\\_date & current\\_surgery\\_date & post\\_t\\_number & post\\_scan\\_date & current\\_hist\\_grade & current\\_hist\\_type & age\\_at\\_surgery & extent\\_of\\_resection & inital\\_kps & last\\_contact\\_date & progression\\_date & pfs\\_censored & pfs & date\\_of\\_death & os\\_censored & os & gender & birthdate & race & study\\_id\\\\\n",
       "\\hline\n",
       "\t  971                  & 10668                 & 10943                 & 2016-08-16            & 2016-08-17            & 11639                 & 2016-08-19            & Grade III             & Oligodendroglioma     & 60                    & Sub-total resection   & NA                    & NA                    & NA                    & 0                     & NA                    & NA                    & 0                     &  NA                   & M                     & 1956-07-14            & Other                 & REC\\_HGG            \\\\\n",
       "\t 1335                  & 11420                 &    NA                 & 2017-05-30            & NA                    &    NA                 & NA                    & NA                    & NA                    & NA                    & NA                    & NA                    & NA                    & NA                    & 0                     & NA                    & NA                    & 0                     &  NA                   & F                     & 1975-12-13            & White                 & REC\\_HGG            \\\\\n",
       "\t 1338                  &  8773                 &  9727                 & 2013-10-02            & 2013-10-03            &  9877                 & 2013-10-04            & Grade IV              & Glioblastoma          & 39                    & Gross total resection & NA                    & NA                    & NA                    & 0                     & NA                    & 2014-08-27            & 1                     & 329                   & F                     & 1974-05-10            & White                 & REC\\_HGG            \\\\\n",
       "\t 1837                  &  8960                 &  9913                 & 2014-03-18            & 2014-03-20            &  9896                 & 2014-03-21            & Grade IV              & Glioblastoma          & 58                    & Sub-total resection   & NA                    & NA                    & NA                    & 0                     & NA                    & 2014-08-31            & 1                     & 166                   & F                     & 1955-11-22            & Asian                 & REC\\_HGG            \\\\\n",
       "\t 1957                  &  9134                 & 10071                 & 2014-08-12            & 2014-08-13            &  9925                 & 2014-08-14            & Grade III             & Oligodendroglioma     & 36                    & Sub-total resection   & NA                    & NA                    & NA                    & 0                     & NA                    & 2016-08-15            & 1                     & 734                   & F                     & 1978-01-07            & White                 & REC\\_HGG            \\\\\n",
       "\t 2284                  & 12523                 &    NA                 & 2018-10-21            & NA                    &    NA                 & NA                    & NA                    & NA                    & NA                    & NA                    & NA                    & NA                    & NA                    & 0                     & NA                    & NA                    & 0                     &  NA                   & M                     & 1967-02-10            & White                 & REC\\_HGG            \\\\\n",
       "\\end{tabular}\n"
      ],
      "text/markdown": [
       "\n",
       "b_number | t_number | sf_number | current_scan_date | current_surgery_date | post_t_number | post_scan_date | current_hist_grade | current_hist_type | age_at_surgery | extent_of_resection | inital_kps | last_contact_date | progression_date | pfs_censored | pfs | date_of_death | os_censored | os | gender | birthdate | race | study_id | \n",
       "|---|---|---|---|---|---|\n",
       "|  971                  | 10668                 | 10943                 | 2016-08-16            | 2016-08-17            | 11639                 | 2016-08-19            | Grade III             | Oligodendroglioma     | 60                    | Sub-total resection   | NA                    | NA                    | NA                    | 0                     | NA                    | NA                    | 0                     |  NA                   | M                     | 1956-07-14            | Other                 | REC_HGG               | \n",
       "| 1335                  | 11420                 |    NA                 | 2017-05-30            | NA                    |    NA                 | NA                    | NA                    | NA                    | NA                    | NA                    | NA                    | NA                    | NA                    | 0                     | NA                    | NA                    | 0                     |  NA                   | F                     | 1975-12-13            | White                 | REC_HGG               | \n",
       "| 1338                  |  8773                 |  9727                 | 2013-10-02            | 2013-10-03            |  9877                 | 2013-10-04            | Grade IV              | Glioblastoma          | 39                    | Gross total resection | NA                    | NA                    | NA                    | 0                     | NA                    | 2014-08-27            | 1                     | 329                   | F                     | 1974-05-10            | White                 | REC_HGG               | \n",
       "| 1837                  |  8960                 |  9913                 | 2014-03-18            | 2014-03-20            |  9896                 | 2014-03-21            | Grade IV              | Glioblastoma          | 58                    | Sub-total resection   | NA                    | NA                    | NA                    | 0                     | NA                    | 2014-08-31            | 1                     | 166                   | F                     | 1955-11-22            | Asian                 | REC_HGG               | \n",
       "| 1957                  |  9134                 | 10071                 | 2014-08-12            | 2014-08-13            |  9925                 | 2014-08-14            | Grade III             | Oligodendroglioma     | 36                    | Sub-total resection   | NA                    | NA                    | NA                    | 0                     | NA                    | 2016-08-15            | 1                     | 734                   | F                     | 1978-01-07            | White                 | REC_HGG               | \n",
       "| 2284                  | 12523                 |    NA                 | 2018-10-21            | NA                    |    NA                 | NA                    | NA                    | NA                    | NA                    | NA                    | NA                    | NA                    | NA                    | 0                     | NA                    | NA                    | 0                     |  NA                   | M                     | 1967-02-10            | White                 | REC_HGG               | \n",
       "\n",
       "\n"
      ],
      "text/plain": [
       "  b_number t_number sf_number current_scan_date current_surgery_date\n",
       "1  971     10668    10943     2016-08-16        2016-08-17          \n",
       "2 1335     11420       NA     2017-05-30        NA                  \n",
       "3 1338      8773     9727     2013-10-02        2013-10-03          \n",
       "4 1837      8960     9913     2014-03-18        2014-03-20          \n",
       "5 1957      9134    10071     2014-08-12        2014-08-13          \n",
       "6 2284     12523       NA     2018-10-21        NA                  \n",
       "  post_t_number post_scan_date current_hist_grade current_hist_type\n",
       "1 11639         2016-08-19     Grade III          Oligodendroglioma\n",
       "2    NA         NA             NA                 NA               \n",
       "3  9877         2013-10-04     Grade IV           Glioblastoma     \n",
       "4  9896         2014-03-21     Grade IV           Glioblastoma     \n",
       "5  9925         2014-08-14     Grade III          Oligodendroglioma\n",
       "6    NA         NA             NA                 NA               \n",
       "  age_at_surgery extent_of_resection   inital_kps last_contact_date\n",
       "1 60             Sub-total resection   NA         NA               \n",
       "2 NA             NA                    NA         NA               \n",
       "3 39             Gross total resection NA         NA               \n",
       "4 58             Sub-total resection   NA         NA               \n",
       "5 36             Sub-total resection   NA         NA               \n",
       "6 NA             NA                    NA         NA               \n",
       "  progression_date pfs_censored pfs date_of_death os_censored os  gender\n",
       "1 NA               0            NA  NA            0            NA M     \n",
       "2 NA               0            NA  NA            0            NA F     \n",
       "3 NA               0            NA  2014-08-27    1           329 F     \n",
       "4 NA               0            NA  2014-08-31    1           166 F     \n",
       "5 NA               0            NA  2016-08-15    1           734 F     \n",
       "6 NA               0            NA  NA            0            NA M     \n",
       "  birthdate  race  study_id\n",
       "1 1956-07-14 Other REC_HGG \n",
       "2 1975-12-13 White REC_HGG \n",
       "3 1974-05-10 White REC_HGG \n",
       "4 1955-11-22 Asian REC_HGG \n",
       "5 1978-01-07 White REC_HGG \n",
       "6 1967-02-10 White REC_HGG "
      ]
     },
     "metadata": {},
     "output_type": "display_data"
    }
   ],
   "source": [
    "rechgg_dems = merge(rechgg_pt_dems, rechgg_pt_gender, by = 'b_number')\n",
    "dim(rechgg_dems)\n",
    "head(rechgg_dems)\n",
    "rechgg_dems$birthdate = as.Date(rechgg_dems$birthdate)\n",
    "rechgg_dems$current_scan_date = as.Date(rechgg_dems$current_scan_date)\n",
    "rechgg_dems = rechgg_dems[,-23]"
   ]
  },
  {
   "cell_type": "code",
   "execution_count": 7,
   "metadata": {},
   "outputs": [
    {
     "data": {
      "text/html": [
       "<ol class=list-inline>\n",
       "\t<li>131</li>\n",
       "\t<li>19</li>\n",
       "</ol>\n"
      ],
      "text/latex": [
       "\\begin{enumerate*}\n",
       "\\item 131\n",
       "\\item 19\n",
       "\\end{enumerate*}\n"
      ],
      "text/markdown": [
       "1. 131\n",
       "2. 19\n",
       "\n",
       "\n"
      ],
      "text/plain": [
       "[1] 131  19"
      ]
     },
     "metadata": {},
     "output_type": "display_data"
    },
    {
     "data": {
      "text/html": [
       "<ol class=list-inline>\n",
       "\t<li>120</li>\n",
       "\t<li>5</li>\n",
       "</ol>\n"
      ],
      "text/latex": [
       "\\begin{enumerate*}\n",
       "\\item 120\n",
       "\\item 5\n",
       "\\end{enumerate*}\n"
      ],
      "text/markdown": [
       "1. 120\n",
       "2. 5\n",
       "\n",
       "\n"
      ],
      "text/plain": [
       "[1] 120   5"
      ]
     },
     "metadata": {},
     "output_type": "display_data"
    },
    {
     "data": {
      "text/html": [
       "<ol class=list-inline>\n",
       "\t<li>'gender'</li>\n",
       "\t<li>'birthdate'</li>\n",
       "\t<li>'b_number'</li>\n",
       "\t<li>'race'</li>\n",
       "\t<li>'study_id'</li>\n",
       "</ol>\n"
      ],
      "text/latex": [
       "\\begin{enumerate*}\n",
       "\\item 'gender'\n",
       "\\item 'birthdate'\n",
       "\\item 'b\\_number'\n",
       "\\item 'race'\n",
       "\\item 'study\\_id'\n",
       "\\end{enumerate*}\n"
      ],
      "text/markdown": [
       "1. 'gender'\n",
       "2. 'birthdate'\n",
       "3. 'b_number'\n",
       "4. 'race'\n",
       "5. 'study_id'\n",
       "\n",
       "\n"
      ],
      "text/plain": [
       "[1] \"gender\"    \"birthdate\" \"b_number\"  \"race\"      \"study_id\" "
      ]
     },
     "metadata": {},
     "output_type": "display_data"
    },
    {
     "data": {
      "text/html": [
       "<ol class=list-inline>\n",
       "\t<li>'b_number'</li>\n",
       "\t<li>'t_number'</li>\n",
       "\t<li>'sf_number'</li>\n",
       "\t<li>'current_scan_date'</li>\n",
       "\t<li>'current_surgery_date'</li>\n",
       "\t<li>'post_t_number'</li>\n",
       "\t<li>'post_scan_date'</li>\n",
       "\t<li>'current_hist_grade'</li>\n",
       "\t<li>'current_hist_type'</li>\n",
       "\t<li>'age_at_surgery'</li>\n",
       "\t<li>'extent_of_resection'</li>\n",
       "\t<li>'inital_kps'</li>\n",
       "\t<li>'last_contact_date'</li>\n",
       "\t<li>'progression_date'</li>\n",
       "\t<li>'pfs_censored'</li>\n",
       "\t<li>'pfs'</li>\n",
       "\t<li>'date_of_death'</li>\n",
       "\t<li>'os_censored'</li>\n",
       "\t<li>'os'</li>\n",
       "</ol>\n"
      ],
      "text/latex": [
       "\\begin{enumerate*}\n",
       "\\item 'b\\_number'\n",
       "\\item 't\\_number'\n",
       "\\item 'sf\\_number'\n",
       "\\item 'current\\_scan\\_date'\n",
       "\\item 'current\\_surgery\\_date'\n",
       "\\item 'post\\_t\\_number'\n",
       "\\item 'post\\_scan\\_date'\n",
       "\\item 'current\\_hist\\_grade'\n",
       "\\item 'current\\_hist\\_type'\n",
       "\\item 'age\\_at\\_surgery'\n",
       "\\item 'extent\\_of\\_resection'\n",
       "\\item 'inital\\_kps'\n",
       "\\item 'last\\_contact\\_date'\n",
       "\\item 'progression\\_date'\n",
       "\\item 'pfs\\_censored'\n",
       "\\item 'pfs'\n",
       "\\item 'date\\_of\\_death'\n",
       "\\item 'os\\_censored'\n",
       "\\item 'os'\n",
       "\\end{enumerate*}\n"
      ],
      "text/markdown": [
       "1. 'b_number'\n",
       "2. 't_number'\n",
       "3. 'sf_number'\n",
       "4. 'current_scan_date'\n",
       "5. 'current_surgery_date'\n",
       "6. 'post_t_number'\n",
       "7. 'post_scan_date'\n",
       "8. 'current_hist_grade'\n",
       "9. 'current_hist_type'\n",
       "10. 'age_at_surgery'\n",
       "11. 'extent_of_resection'\n",
       "12. 'inital_kps'\n",
       "13. 'last_contact_date'\n",
       "14. 'progression_date'\n",
       "15. 'pfs_censored'\n",
       "16. 'pfs'\n",
       "17. 'date_of_death'\n",
       "18. 'os_censored'\n",
       "19. 'os'\n",
       "\n",
       "\n"
      ],
      "text/plain": [
       " [1] \"b_number\"             \"t_number\"             \"sf_number\"           \n",
       " [4] \"current_scan_date\"    \"current_surgery_date\" \"post_t_number\"       \n",
       " [7] \"post_scan_date\"       \"current_hist_grade\"   \"current_hist_type\"   \n",
       "[10] \"age_at_surgery\"       \"extent_of_resection\"  \"inital_kps\"          \n",
       "[13] \"last_contact_date\"    \"progression_date\"     \"pfs_censored\"        \n",
       "[16] \"pfs\"                  \"date_of_death\"        \"os_censored\"         \n",
       "[19] \"os\"                  "
      ]
     },
     "metadata": {},
     "output_type": "display_data"
    }
   ],
   "source": [
    "dim(rechgg_pt_dems)\n",
    "dim(rechgg_pt_gender)\n",
    "colnames(rechgg_pt_gender) = c(\"gender\", 'birthdate', 'b_number', 'race', 'study_id')\n",
    "colnames(rechgg_pt_gender)\n",
    "colnames(rechgg_pt_dems)\n"
   ]
  },
  {
   "cell_type": "code",
   "execution_count": 8,
   "metadata": {},
   "outputs": [
    {
     "data": {
      "text/html": [
       "<ol class=list-inline>\n",
       "\t<li>'b_number'</li>\n",
       "\t<li>'t_number'</li>\n",
       "\t<li>'sf_number'</li>\n",
       "\t<li>'current_scan_date'</li>\n",
       "\t<li>'current_surgery_date'</li>\n",
       "\t<li>'post_t_number'</li>\n",
       "\t<li>'post_scan_date'</li>\n",
       "\t<li>'current_hist_grade'</li>\n",
       "\t<li>'current_hist_type'</li>\n",
       "\t<li>'age_at_surgery'</li>\n",
       "\t<li>'extent_of_resection'</li>\n",
       "\t<li>'inital_kps'</li>\n",
       "\t<li>'last_contact_date'</li>\n",
       "\t<li>'progression_date'</li>\n",
       "\t<li>'pfs_censored'</li>\n",
       "\t<li>'pfs'</li>\n",
       "\t<li>'date_of_death'</li>\n",
       "\t<li>'os_censored'</li>\n",
       "\t<li>'os'</li>\n",
       "\t<li>'gender'</li>\n",
       "\t<li>'birthdate'</li>\n",
       "\t<li>'race'</li>\n",
       "</ol>\n"
      ],
      "text/latex": [
       "\\begin{enumerate*}\n",
       "\\item 'b\\_number'\n",
       "\\item 't\\_number'\n",
       "\\item 'sf\\_number'\n",
       "\\item 'current\\_scan\\_date'\n",
       "\\item 'current\\_surgery\\_date'\n",
       "\\item 'post\\_t\\_number'\n",
       "\\item 'post\\_scan\\_date'\n",
       "\\item 'current\\_hist\\_grade'\n",
       "\\item 'current\\_hist\\_type'\n",
       "\\item 'age\\_at\\_surgery'\n",
       "\\item 'extent\\_of\\_resection'\n",
       "\\item 'inital\\_kps'\n",
       "\\item 'last\\_contact\\_date'\n",
       "\\item 'progression\\_date'\n",
       "\\item 'pfs\\_censored'\n",
       "\\item 'pfs'\n",
       "\\item 'date\\_of\\_death'\n",
       "\\item 'os\\_censored'\n",
       "\\item 'os'\n",
       "\\item 'gender'\n",
       "\\item 'birthdate'\n",
       "\\item 'race'\n",
       "\\end{enumerate*}\n"
      ],
      "text/markdown": [
       "1. 'b_number'\n",
       "2. 't_number'\n",
       "3. 'sf_number'\n",
       "4. 'current_scan_date'\n",
       "5. 'current_surgery_date'\n",
       "6. 'post_t_number'\n",
       "7. 'post_scan_date'\n",
       "8. 'current_hist_grade'\n",
       "9. 'current_hist_type'\n",
       "10. 'age_at_surgery'\n",
       "11. 'extent_of_resection'\n",
       "12. 'inital_kps'\n",
       "13. 'last_contact_date'\n",
       "14. 'progression_date'\n",
       "15. 'pfs_censored'\n",
       "16. 'pfs'\n",
       "17. 'date_of_death'\n",
       "18. 'os_censored'\n",
       "19. 'os'\n",
       "20. 'gender'\n",
       "21. 'birthdate'\n",
       "22. 'race'\n",
       "\n",
       "\n"
      ],
      "text/plain": [
       " [1] \"b_number\"             \"t_number\"             \"sf_number\"           \n",
       " [4] \"current_scan_date\"    \"current_surgery_date\" \"post_t_number\"       \n",
       " [7] \"post_scan_date\"       \"current_hist_grade\"   \"current_hist_type\"   \n",
       "[10] \"age_at_surgery\"       \"extent_of_resection\"  \"inital_kps\"          \n",
       "[13] \"last_contact_date\"    \"progression_date\"     \"pfs_censored\"        \n",
       "[16] \"pfs\"                  \"date_of_death\"        \"os_censored\"         \n",
       "[19] \"os\"                   \"gender\"               \"birthdate\"           \n",
       "[22] \"race\"                "
      ]
     },
     "metadata": {},
     "output_type": "display_data"
    }
   ],
   "source": [
    "colnames(po1_dems)"
   ]
  },
  {
   "cell_type": "code",
   "execution_count": 16,
   "metadata": {},
   "outputs": [
    {
     "data": {
      "text/html": [
       "<ol class=list-inline>\n",
       "\t<li>146</li>\n",
       "\t<li>22</li>\n",
       "</ol>\n"
      ],
      "text/latex": [
       "\\begin{enumerate*}\n",
       "\\item 146\n",
       "\\item 22\n",
       "\\end{enumerate*}\n"
      ],
      "text/markdown": [
       "1. 146\n",
       "2. 22\n",
       "\n",
       "\n"
      ],
      "text/plain": [
       "[1] 146  22"
      ]
     },
     "metadata": {},
     "output_type": "display_data"
    },
    {
     "data": {
      "text/html": [
       "<ol class=list-inline>\n",
       "\t<li>131</li>\n",
       "\t<li>19</li>\n",
       "</ol>\n"
      ],
      "text/latex": [
       "\\begin{enumerate*}\n",
       "\\item 131\n",
       "\\item 19\n",
       "\\end{enumerate*}\n"
      ],
      "text/markdown": [
       "1. 131\n",
       "2. 19\n",
       "\n",
       "\n"
      ],
      "text/plain": [
       "[1] 131  19"
      ]
     },
     "metadata": {},
     "output_type": "display_data"
    },
    {
     "data": {
      "text/html": [
       "<ol class=list-inline>\n",
       "\t<li>120</li>\n",
       "\t<li>5</li>\n",
       "</ol>\n"
      ],
      "text/latex": [
       "\\begin{enumerate*}\n",
       "\\item 120\n",
       "\\item 5\n",
       "\\end{enumerate*}\n"
      ],
      "text/markdown": [
       "1. 120\n",
       "2. 5\n",
       "\n",
       "\n"
      ],
      "text/plain": [
       "[1] 120   5"
      ]
     },
     "metadata": {},
     "output_type": "display_data"
    },
    {
     "data": {
      "text/html": [
       "<ol class=list-inline>\n",
       "\t<li>140</li>\n",
       "\t<li>4</li>\n",
       "</ol>\n"
      ],
      "text/latex": [
       "\\begin{enumerate*}\n",
       "\\item 140\n",
       "\\item 4\n",
       "\\end{enumerate*}\n"
      ],
      "text/markdown": [
       "1. 140\n",
       "2. 4\n",
       "\n",
       "\n"
      ],
      "text/plain": [
       "[1] 140   4"
      ]
     },
     "metadata": {},
     "output_type": "display_data"
    }
   ],
   "source": [
    "dim(po1_dems)\n",
    "dim(rechgg_pt_dems)\n",
    "dim(rechgg_pt_gender)\n",
    "dim(po1_pt_gender)"
   ]
  },
  {
   "cell_type": "code",
   "execution_count": 17,
   "metadata": {},
   "outputs": [
    {
     "data": {
      "text/html": [
       "<ol class=list-inline>\n",
       "\t<li>127</li>\n",
       "\t<li>23</li>\n",
       "</ol>\n"
      ],
      "text/latex": [
       "\\begin{enumerate*}\n",
       "\\item 127\n",
       "\\item 23\n",
       "\\end{enumerate*}\n"
      ],
      "text/markdown": [
       "1. 127\n",
       "2. 23\n",
       "\n",
       "\n"
      ],
      "text/plain": [
       "[1] 127  23"
      ]
     },
     "metadata": {},
     "output_type": "display_data"
    },
    {
     "data": {
      "text/html": [
       "<table>\n",
       "<thead><tr><th scope=col>b_number</th><th scope=col>t_number</th><th scope=col>sf_number</th><th scope=col>current_scan_date</th><th scope=col>current_surgery_date</th><th scope=col>post_t_number</th><th scope=col>post_scan_date</th><th scope=col>current_hist_grade</th><th scope=col>current_hist_type</th><th scope=col>age_at_surgery</th><th scope=col>extent_of_resection</th><th scope=col>inital_kps</th><th scope=col>last_contact_date</th><th scope=col>progression_date</th><th scope=col>pfs_censored</th><th scope=col>pfs</th><th scope=col>date_of_death</th><th scope=col>os_censored</th><th scope=col>os</th><th scope=col>gender</th><th scope=col>birthdate</th><th scope=col>race</th><th scope=col>study_id</th></tr></thead>\n",
       "<tbody>\n",
       "\t<tr><td> 971                 </td><td>10668                </td><td>10943                </td><td>2016-08-16           </td><td>2016-08-17           </td><td>11639                </td><td>2016-08-19           </td><td>Grade III            </td><td>Oligodendroglioma    </td><td>60                   </td><td>Sub-total resection  </td><td>NA                   </td><td>NA                   </td><td>NA                   </td><td>0                    </td><td>NA                   </td><td>NA                   </td><td>0                    </td><td> NA                  </td><td>M                    </td><td>1956-07-14           </td><td>Other                </td><td>REC_HGG              </td></tr>\n",
       "\t<tr><td>1335                 </td><td>11420                </td><td>   NA                </td><td>2017-05-30           </td><td>NA                   </td><td>   NA                </td><td>NA                   </td><td>NA                   </td><td>NA                   </td><td>NA                   </td><td>NA                   </td><td>NA                   </td><td>NA                   </td><td>NA                   </td><td>0                    </td><td>NA                   </td><td>NA                   </td><td>0                    </td><td> NA                  </td><td>F                    </td><td>1975-12-13           </td><td>White                </td><td>REC_HGG              </td></tr>\n",
       "\t<tr><td>1338                 </td><td> 8773                </td><td> 9727                </td><td>2013-10-02           </td><td>2013-10-03           </td><td> 9877                </td><td>2013-10-04           </td><td>Grade IV             </td><td>Glioblastoma         </td><td>39                   </td><td>Gross total resection</td><td>NA                   </td><td>NA                   </td><td>NA                   </td><td>0                    </td><td>NA                   </td><td>2014-08-27           </td><td>1                    </td><td>329                  </td><td>F                    </td><td>1974-05-10           </td><td>White                </td><td>REC_HGG              </td></tr>\n",
       "\t<tr><td>1837                 </td><td> 8960                </td><td> 9913                </td><td>2014-03-18           </td><td>2014-03-20           </td><td> 9896                </td><td>2014-03-21           </td><td>Grade IV             </td><td>Glioblastoma         </td><td>58                   </td><td>Sub-total resection  </td><td>NA                   </td><td>NA                   </td><td>NA                   </td><td>0                    </td><td>NA                   </td><td>2014-08-31           </td><td>1                    </td><td>166                  </td><td>F                    </td><td>1955-11-22           </td><td>Asian                </td><td>REC_HGG              </td></tr>\n",
       "\t<tr><td>1957                 </td><td> 9134                </td><td>10071                </td><td>2014-08-12           </td><td>2014-08-13           </td><td> 9925                </td><td>2014-08-14           </td><td>Grade III            </td><td>Oligodendroglioma    </td><td>36                   </td><td>Sub-total resection  </td><td>NA                   </td><td>NA                   </td><td>NA                   </td><td>0                    </td><td>NA                   </td><td>2016-08-15           </td><td>1                    </td><td>734                  </td><td>F                    </td><td>1978-01-07           </td><td>White                </td><td>REC_HGG              </td></tr>\n",
       "\t<tr><td>2284                 </td><td>12523                </td><td>   NA                </td><td>2018-10-21           </td><td>NA                   </td><td>   NA                </td><td>NA                   </td><td>NA                   </td><td>NA                   </td><td>NA                   </td><td>NA                   </td><td>NA                   </td><td>NA                   </td><td>NA                   </td><td>0                    </td><td>NA                   </td><td>NA                   </td><td>0                    </td><td> NA                  </td><td>M                    </td><td>1967-02-10           </td><td>White                </td><td>REC_HGG              </td></tr>\n",
       "</tbody>\n",
       "</table>\n"
      ],
      "text/latex": [
       "\\begin{tabular}{r|lllllllllllllllllllllll}\n",
       " b\\_number & t\\_number & sf\\_number & current\\_scan\\_date & current\\_surgery\\_date & post\\_t\\_number & post\\_scan\\_date & current\\_hist\\_grade & current\\_hist\\_type & age\\_at\\_surgery & extent\\_of\\_resection & inital\\_kps & last\\_contact\\_date & progression\\_date & pfs\\_censored & pfs & date\\_of\\_death & os\\_censored & os & gender & birthdate & race & study\\_id\\\\\n",
       "\\hline\n",
       "\t  971                  & 10668                 & 10943                 & 2016-08-16            & 2016-08-17            & 11639                 & 2016-08-19            & Grade III             & Oligodendroglioma     & 60                    & Sub-total resection   & NA                    & NA                    & NA                    & 0                     & NA                    & NA                    & 0                     &  NA                   & M                     & 1956-07-14            & Other                 & REC\\_HGG            \\\\\n",
       "\t 1335                  & 11420                 &    NA                 & 2017-05-30            & NA                    &    NA                 & NA                    & NA                    & NA                    & NA                    & NA                    & NA                    & NA                    & NA                    & 0                     & NA                    & NA                    & 0                     &  NA                   & F                     & 1975-12-13            & White                 & REC\\_HGG            \\\\\n",
       "\t 1338                  &  8773                 &  9727                 & 2013-10-02            & 2013-10-03            &  9877                 & 2013-10-04            & Grade IV              & Glioblastoma          & 39                    & Gross total resection & NA                    & NA                    & NA                    & 0                     & NA                    & 2014-08-27            & 1                     & 329                   & F                     & 1974-05-10            & White                 & REC\\_HGG            \\\\\n",
       "\t 1837                  &  8960                 &  9913                 & 2014-03-18            & 2014-03-20            &  9896                 & 2014-03-21            & Grade IV              & Glioblastoma          & 58                    & Sub-total resection   & NA                    & NA                    & NA                    & 0                     & NA                    & 2014-08-31            & 1                     & 166                   & F                     & 1955-11-22            & Asian                 & REC\\_HGG            \\\\\n",
       "\t 1957                  &  9134                 & 10071                 & 2014-08-12            & 2014-08-13            &  9925                 & 2014-08-14            & Grade III             & Oligodendroglioma     & 36                    & Sub-total resection   & NA                    & NA                    & NA                    & 0                     & NA                    & 2016-08-15            & 1                     & 734                   & F                     & 1978-01-07            & White                 & REC\\_HGG            \\\\\n",
       "\t 2284                  & 12523                 &    NA                 & 2018-10-21            & NA                    &    NA                 & NA                    & NA                    & NA                    & NA                    & NA                    & NA                    & NA                    & NA                    & 0                     & NA                    & NA                    & 0                     &  NA                   & M                     & 1967-02-10            & White                 & REC\\_HGG            \\\\\n",
       "\\end{tabular}\n"
      ],
      "text/markdown": [
       "\n",
       "b_number | t_number | sf_number | current_scan_date | current_surgery_date | post_t_number | post_scan_date | current_hist_grade | current_hist_type | age_at_surgery | extent_of_resection | inital_kps | last_contact_date | progression_date | pfs_censored | pfs | date_of_death | os_censored | os | gender | birthdate | race | study_id | \n",
       "|---|---|---|---|---|---|\n",
       "|  971                  | 10668                 | 10943                 | 2016-08-16            | 2016-08-17            | 11639                 | 2016-08-19            | Grade III             | Oligodendroglioma     | 60                    | Sub-total resection   | NA                    | NA                    | NA                    | 0                     | NA                    | NA                    | 0                     |  NA                   | M                     | 1956-07-14            | Other                 | REC_HGG               | \n",
       "| 1335                  | 11420                 |    NA                 | 2017-05-30            | NA                    |    NA                 | NA                    | NA                    | NA                    | NA                    | NA                    | NA                    | NA                    | NA                    | 0                     | NA                    | NA                    | 0                     |  NA                   | F                     | 1975-12-13            | White                 | REC_HGG               | \n",
       "| 1338                  |  8773                 |  9727                 | 2013-10-02            | 2013-10-03            |  9877                 | 2013-10-04            | Grade IV              | Glioblastoma          | 39                    | Gross total resection | NA                    | NA                    | NA                    | 0                     | NA                    | 2014-08-27            | 1                     | 329                   | F                     | 1974-05-10            | White                 | REC_HGG               | \n",
       "| 1837                  |  8960                 |  9913                 | 2014-03-18            | 2014-03-20            |  9896                 | 2014-03-21            | Grade IV              | Glioblastoma          | 58                    | Sub-total resection   | NA                    | NA                    | NA                    | 0                     | NA                    | 2014-08-31            | 1                     | 166                   | F                     | 1955-11-22            | Asian                 | REC_HGG               | \n",
       "| 1957                  |  9134                 | 10071                 | 2014-08-12            | 2014-08-13            |  9925                 | 2014-08-14            | Grade III             | Oligodendroglioma     | 36                    | Sub-total resection   | NA                    | NA                    | NA                    | 0                     | NA                    | 2016-08-15            | 1                     | 734                   | F                     | 1978-01-07            | White                 | REC_HGG               | \n",
       "| 2284                  | 12523                 |    NA                 | 2018-10-21            | NA                    |    NA                 | NA                    | NA                    | NA                    | NA                    | NA                    | NA                    | NA                    | NA                    | 0                     | NA                    | NA                    | 0                     |  NA                   | M                     | 1967-02-10            | White                 | REC_HGG               | \n",
       "\n",
       "\n"
      ],
      "text/plain": [
       "  b_number t_number sf_number current_scan_date current_surgery_date\n",
       "1  971     10668    10943     2016-08-16        2016-08-17          \n",
       "2 1335     11420       NA     2017-05-30        NA                  \n",
       "3 1338      8773     9727     2013-10-02        2013-10-03          \n",
       "4 1837      8960     9913     2014-03-18        2014-03-20          \n",
       "5 1957      9134    10071     2014-08-12        2014-08-13          \n",
       "6 2284     12523       NA     2018-10-21        NA                  \n",
       "  post_t_number post_scan_date current_hist_grade current_hist_type\n",
       "1 11639         2016-08-19     Grade III          Oligodendroglioma\n",
       "2    NA         NA             NA                 NA               \n",
       "3  9877         2013-10-04     Grade IV           Glioblastoma     \n",
       "4  9896         2014-03-21     Grade IV           Glioblastoma     \n",
       "5  9925         2014-08-14     Grade III          Oligodendroglioma\n",
       "6    NA         NA             NA                 NA               \n",
       "  age_at_surgery extent_of_resection   inital_kps last_contact_date\n",
       "1 60             Sub-total resection   NA         NA               \n",
       "2 NA             NA                    NA         NA               \n",
       "3 39             Gross total resection NA         NA               \n",
       "4 58             Sub-total resection   NA         NA               \n",
       "5 36             Sub-total resection   NA         NA               \n",
       "6 NA             NA                    NA         NA               \n",
       "  progression_date pfs_censored pfs date_of_death os_censored os  gender\n",
       "1 NA               0            NA  NA            0            NA M     \n",
       "2 NA               0            NA  NA            0            NA F     \n",
       "3 NA               0            NA  2014-08-27    1           329 F     \n",
       "4 NA               0            NA  2014-08-31    1           166 F     \n",
       "5 NA               0            NA  2016-08-15    1           734 F     \n",
       "6 NA               0            NA  NA            0            NA M     \n",
       "  birthdate  race  study_id\n",
       "1 1956-07-14 Other REC_HGG \n",
       "2 1975-12-13 White REC_HGG \n",
       "3 1974-05-10 White REC_HGG \n",
       "4 1955-11-22 Asian REC_HGG \n",
       "5 1978-01-07 White REC_HGG \n",
       "6 1967-02-10 White REC_HGG "
      ]
     },
     "metadata": {},
     "output_type": "display_data"
    }
   ],
   "source": [
    "rechgg_dems = merge(rechgg_pt_dems, rechgg_pt_gender, by = 'b_number')\n",
    "dim(rechgg_dems)\n",
    "head(rechgg_dems)\n",
    "rechgg_dems$birthdate = as.Date(rechgg_dems$birthdate)\n",
    "rechgg_dems$current_scan_date = as.Date(rechgg_dems$current_scan_date)\n",
    "rechgg_dems = rechgg_dems[,-23]"
   ]
  },
  {
   "cell_type": "code",
   "execution_count": 23,
   "metadata": {},
   "outputs": [],
   "source": [
    "pt_dems = rbind(po1_dems, rechgg_dems)"
   ]
  },
  {
   "cell_type": "code",
   "execution_count": 27,
   "metadata": {},
   "outputs": [],
   "source": [
    "fully_annot_biopsies = read.csv('../../AnnotateData/recgli_annotation9_CELorNELorUNK.csv', na.strings=c(\"\",\"NA\"))"
   ]
  },
  {
   "cell_type": "code",
   "execution_count": 59,
   "metadata": {},
   "outputs": [
    {
     "data": {
      "text/html": [
       "<ol class=list-inline>\n",
       "\t<li>479</li>\n",
       "\t<li>75</li>\n",
       "</ol>\n"
      ],
      "text/latex": [
       "\\begin{enumerate*}\n",
       "\\item 479\n",
       "\\item 75\n",
       "\\end{enumerate*}\n"
      ],
      "text/markdown": [
       "1. 479\n",
       "2. 75\n",
       "\n",
       "\n"
      ],
      "text/plain": [
       "[1] 479  75"
      ]
     },
     "metadata": {},
     "output_type": "display_data"
    },
    {
     "data": {
      "text/html": [
       "<ol class=list-inline>\n",
       "\t<li>273</li>\n",
       "\t<li>22</li>\n",
       "</ol>\n"
      ],
      "text/latex": [
       "\\begin{enumerate*}\n",
       "\\item 273\n",
       "\\item 22\n",
       "\\end{enumerate*}\n"
      ],
      "text/markdown": [
       "1. 273\n",
       "2. 22\n",
       "\n",
       "\n"
      ],
      "text/plain": [
       "[1] 273  22"
      ]
     },
     "metadata": {},
     "output_type": "display_data"
    }
   ],
   "source": [
    "dim(fully_annot_biopsies)\n",
    "dim(pt_dems)"
   ]
  },
  {
   "cell_type": "code",
   "execution_count": 60,
   "metadata": {},
   "outputs": [],
   "source": [
    "colnames(fully_annot_biopsies)=c(colnames(fully_annot_biopsies)[1:3], 't_number', colnames(fully_annot_biopsies)[5:length(colnames(fully_annot_biopsies))])\n",
    "fully_annot_biopsies$current_scan_date = as.Date(fully_annot_biopsies$current_scan_date)\n",
    "pt_dems$current_surgery_date = as.Date(as.character(pt_dems$current_surgery_date))"
   ]
  },
  {
   "cell_type": "code",
   "execution_count": 74,
   "metadata": {},
   "outputs": [],
   "source": [
    "merged = merge(pt_dems, fully_annot_biopsies, by = c(\"b_number\", \"t_number\", 'sf_number', 'current_hist_grade', 'current_hist_type'), all = TRUE, sort = FALSE)"
   ]
  },
  {
   "cell_type": "code",
   "execution_count": 75,
   "metadata": {},
   "outputs": [],
   "source": [
    "recgli = merged"
   ]
  },
  {
   "cell_type": "code",
   "execution_count": 76,
   "metadata": {},
   "outputs": [],
   "source": [
    "recgli = recgli[!is.na(recgli$vialid),]"
   ]
  },
  {
   "cell_type": "code",
   "execution_count": 77,
   "metadata": {},
   "outputs": [
    {
     "data": {
      "text/html": [
       "<ol class=list-inline>\n",
       "\t<li>479</li>\n",
       "\t<li>92</li>\n",
       "</ol>\n"
      ],
      "text/latex": [
       "\\begin{enumerate*}\n",
       "\\item 479\n",
       "\\item 92\n",
       "\\end{enumerate*}\n"
      ],
      "text/markdown": [
       "1. 479\n",
       "2. 92\n",
       "\n",
       "\n"
      ],
      "text/plain": [
       "[1] 479  92"
      ]
     },
     "metadata": {},
     "output_type": "display_data"
    }
   ],
   "source": [
    "dim(recgli)"
   ]
  },
  {
   "cell_type": "code",
   "execution_count": 78,
   "metadata": {},
   "outputs": [
    {
     "data": {
      "text/html": [
       "<ol class=list-inline>\n",
       "\t<li>452</li>\n",
       "\t<li>92</li>\n",
       "</ol>\n"
      ],
      "text/latex": [
       "\\begin{enumerate*}\n",
       "\\item 452\n",
       "\\item 92\n",
       "\\end{enumerate*}\n"
      ],
      "text/markdown": [
       "1. 452\n",
       "2. 92\n",
       "\n",
       "\n"
      ],
      "text/plain": [
       "[1] 452  92"
      ]
     },
     "metadata": {},
     "output_type": "display_data"
    }
   ],
   "source": [
    "recgli = recgli[which(recgli$CELorNEL == \"CEL\" | recgli$CELorNEL == \"NEL\"),]\n",
    "dim(recgli)"
   ]
  },
  {
   "cell_type": "code",
   "execution_count": 79,
   "metadata": {},
   "outputs": [
    {
     "data": {
      "text/html": [
       "<ol class=list-inline>\n",
       "\t<li>336</li>\n",
       "\t<li>92</li>\n",
       "</ol>\n"
      ],
      "text/latex": [
       "\\begin{enumerate*}\n",
       "\\item 336\n",
       "\\item 92\n",
       "\\end{enumerate*}\n"
      ],
      "text/markdown": [
       "1. 336\n",
       "2. 92\n",
       "\n",
       "\n"
      ],
      "text/plain": [
       "[1] 336  92"
      ]
     },
     "metadata": {},
     "output_type": "display_data"
    }
   ],
   "source": [
    "recgli = recgli[which(recgli$outcome == \"rHGG\" | recgli$outcome == \"txe\"),]\n",
    "dim(recgli)"
   ]
  },
  {
   "cell_type": "code",
   "execution_count": 80,
   "metadata": {},
   "outputs": [
    {
     "data": {
      "text/html": [
       "<ol class=list-inline>\n",
       "\t<li>295</li>\n",
       "\t<li>92</li>\n",
       "</ol>\n"
      ],
      "text/latex": [
       "\\begin{enumerate*}\n",
       "\\item 295\n",
       "\\item 92\n",
       "\\end{enumerate*}\n"
      ],
      "text/markdown": [
       "1. 295\n",
       "2. 92\n",
       "\n",
       "\n"
      ],
      "text/plain": [
       "[1] 295  92"
      ]
     },
     "metadata": {},
     "output_type": "display_data"
    }
   ],
   "source": [
    "recgli = recgli[-which(recgli$exclude_bc_hematoma_or_ventricle == 1 | recgli$exclude_bc_anat == 1),]\n",
    "dim(recgli)"
   ]
  },
  {
   "cell_type": "code",
   "execution_count": 85,
   "metadata": {},
   "outputs": [
    {
     "data": {
      "text/html": [
       "<ol class=list-inline>\n",
       "\t<li>291</li>\n",
       "\t<li>92</li>\n",
       "</ol>\n"
      ],
      "text/latex": [
       "\\begin{enumerate*}\n",
       "\\item 291\n",
       "\\item 92\n",
       "\\end{enumerate*}\n"
      ],
      "text/markdown": [
       "1. 291\n",
       "2. 92\n",
       "\n",
       "\n"
      ],
      "text/plain": [
       "[1] 291  92"
      ]
     },
     "metadata": {},
     "output_type": "display_data"
    }
   ],
   "source": [
    "recgli = recgli[-which(recgli$exclude_histology == 1),]\n",
    "dim(recgli)"
   ]
  },
  {
   "cell_type": "code",
   "execution_count": 89,
   "metadata": {},
   "outputs": [
    {
     "data": {
      "text/html": [
       "139"
      ],
      "text/latex": [
       "139"
      ],
      "text/markdown": [
       "139"
      ],
      "text/plain": [
       "[1] 139"
      ]
     },
     "metadata": {},
     "output_type": "display_data"
    }
   ],
   "source": [
    "length(unique(recgli$t_number))"
   ]
  },
  {
   "cell_type": "code",
   "execution_count": 90,
   "metadata": {},
   "outputs": [],
   "source": [
    "unique_tnum = unique(recgli$t_number)"
   ]
  },
  {
   "cell_type": "code",
   "execution_count": 91,
   "metadata": {},
   "outputs": [],
   "source": [
    "pt_only = recgli[!duplicated(recgli$t_number),]"
   ]
  },
  {
   "cell_type": "code",
   "execution_count": 94,
   "metadata": {},
   "outputs": [
    {
     "data": {
      "text/plain": [
       "\n",
       " F  M \n",
       "56 83 "
      ]
     },
     "metadata": {},
     "output_type": "display_data"
    },
    {
     "data": {
      "text/plain": [
       "\n",
       "         American Indian or Alaska Native \n",
       "                                        1 \n",
       "                                    Asian \n",
       "                                        6 \n",
       "                Black or African American \n",
       "                                        0 \n",
       "                       More Than One Race \n",
       "                                        0 \n",
       "                                    Other \n",
       "                                       15 \n",
       "                     Unknown/Not Reported \n",
       "                                        3 \n",
       "                                    White \n",
       "                                      112 \n",
       "Native Hawaiian or Other Pacific Islander \n",
       "                                        2 "
      ]
     },
     "metadata": {},
     "output_type": "display_data"
    },
    {
     "data": {
      "text/plain": [
       "   Min. 1st Qu.  Median    Mean 3rd Qu.    Max. \n",
       "  21.00   43.00   53.00   51.29   60.00   84.00 "
      ]
     },
     "metadata": {},
     "output_type": "display_data"
    },
    {
     "data": {
      "text/plain": [
       "                  \n",
       "                   Astrocytoma Ependymoma Ganglioglioma Glioblastoma\n",
       "  Grade II                   0          0             0            0\n",
       "  Grade III                 10          0             0            0\n",
       "  Grade IV                   0          0             0           84\n",
       "  Treatment Effect           0          0             0            1\n",
       "                  \n",
       "                   Gliosarcoma Oligodendroglioma Treatment Effect\n",
       "  Grade II                   0                 0                0\n",
       "  Grade III                  0                15                0\n",
       "  Grade IV                   3                 0                0\n",
       "  Treatment Effect           0                 0               23\n",
       "                  \n",
       "                   Giant Cell Glioblastoma Oligoastrocytoma\n",
       "  Grade II                               0                0\n",
       "  Grade III                              0                1\n",
       "  Grade IV                               1                0\n",
       "  Treatment Effect                       0                0"
      ]
     },
     "metadata": {},
     "output_type": "display_data"
    }
   ],
   "source": [
    "table(pt_only$gender)\n",
    "table(pt_only$race)\n",
    "summary(pt_only$age)\n",
    "table(pt_only$current_hist_grade, pt_only$current_hist_type)"
   ]
  },
  {
   "cell_type": "code",
   "execution_count": 93,
   "metadata": {},
   "outputs": [
    {
     "data": {
      "text/plain": [
       "\n",
       "  F   M \n",
       "123 168 "
      ]
     },
     "metadata": {},
     "output_type": "display_data"
    },
    {
     "data": {
      "text/plain": [
       "\n",
       "         American Indian or Alaska Native \n",
       "                                        2 \n",
       "                                    Asian \n",
       "                                       13 \n",
       "                Black or African American \n",
       "                                        0 \n",
       "                       More Than One Race \n",
       "                                        0 \n",
       "                                    Other \n",
       "                                       28 \n",
       "                     Unknown/Not Reported \n",
       "                                        8 \n",
       "                                    White \n",
       "                                      232 \n",
       "Native Hawaiian or Other Pacific Islander \n",
       "                                        8 "
      ]
     },
     "metadata": {},
     "output_type": "display_data"
    },
    {
     "data": {
      "text/plain": [
       "                  \n",
       "                   Astrocytoma Ependymoma Ganglioglioma Glioblastoma\n",
       "  Grade II                   0          0             0            0\n",
       "  Grade III                 23          0             0            0\n",
       "  Grade IV                   0          0             0          180\n",
       "  Treatment Effect           0          0             0            1\n",
       "                  \n",
       "                   Gliosarcoma Oligodendroglioma Treatment Effect\n",
       "  Grade II                   0                 0                0\n",
       "  Grade III                  0                28                0\n",
       "  Grade IV                  11                 0                0\n",
       "  Treatment Effect           0                 0               40\n",
       "                  \n",
       "                   Giant Cell Glioblastoma Oligoastrocytoma\n",
       "  Grade II                               0                0\n",
       "  Grade III                              0                3\n",
       "  Grade IV                               2                0\n",
       "  Treatment Effect                       0                0"
      ]
     },
     "metadata": {},
     "output_type": "display_data"
    }
   ],
   "source": [
    "table(recgli$gender)\n",
    "table(recgli$race)\n",
    "table(recgli$current_hist_grade, recgli$current_hist_type)"
   ]
  },
  {
   "cell_type": "code",
   "execution_count": null,
   "metadata": {},
   "outputs": [],
   "source": []
  }
 ],
 "metadata": {
  "kernelspec": {
   "display_name": "R",
   "language": "R",
   "name": "ir"
  },
  "language_info": {
   "codemirror_mode": "r",
   "file_extension": ".r",
   "mimetype": "text/x-r-source",
   "name": "R",
   "pygments_lexer": "r",
   "version": "3.4.0"
  }
 },
 "nbformat": 4,
 "nbformat_minor": 2
}
