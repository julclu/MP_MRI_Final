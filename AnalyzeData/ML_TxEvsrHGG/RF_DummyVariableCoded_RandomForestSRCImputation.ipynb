{
 "cells": [
  {
   "cell_type": "code",
   "execution_count": 1,
   "metadata": {},
   "outputs": [
    {
     "name": "stderr",
     "output_type": "stream",
     "text": [
      "Installing package into ‘/home/sf673542/R/x86_64-pc-linux-gnu-library/3.4’\n",
      "(as ‘lib’ is unspecified)\n",
      "Warning message in install.packages(\"randomForestSRC\"):\n",
      "“installation of package ‘randomForestSRC’ had non-zero exit status”"
     ]
    }
   ],
   "source": [
    "install.packages('randomForestSRC')"
   ]
  },
  {
   "cell_type": "code",
   "execution_count": 2,
   "metadata": {},
   "outputs": [
    {
     "name": "stderr",
     "output_type": "stream",
     "text": [
      "\n",
      " randomForestSRC 2.7.0 \n",
      " \n",
      " Type rfsrc.news() to see new features, changes, and bug fixes. \n",
      " \n",
      "\n"
     ]
    }
   ],
   "source": [
    "library(randomForestSRC)"
   ]
  },
  {
   "cell_type": "code",
   "execution_count": 26,
   "metadata": {},
   "outputs": [
    {
     "name": "stderr",
     "output_type": "stream",
     "text": [
      "randomForest 4.6-14\n",
      "Type rfNews() to see new features/changes/bug fixes.\n",
      "\n",
      "Attaching package: ‘randomForest’\n",
      "\n",
      "The following object is masked from ‘package:ggplot2’:\n",
      "\n",
      "    margin\n",
      "\n"
     ]
    }
   ],
   "source": [
    "library(tictoc)\n",
    "library('caret')\n",
    "library(pROC)\n",
    "library(randomForest)"
   ]
  },
  {
   "cell_type": "code",
   "execution_count": 5,
   "metadata": {},
   "outputs": [],
   "source": [
    "data = read.csv('../../AnnotateData/recgli_annot10_CELorNELorUNK.csv')"
   ]
  },
  {
   "cell_type": "code",
   "execution_count": 6,
   "metadata": {},
   "outputs": [],
   "source": [
    "data = data[,c('vialid','t_number_y', 'CELorNEL', 'newdata', \n",
    "               'cbvn_nlin', 'recov_npar','ccri', 'cni', 'ncho', 'ncre', 'nnaa', 'nadc.1', 'nfa.1', 'outcome')]\n"
   ]
  },
  {
   "cell_type": "code",
   "execution_count": 7,
   "metadata": {},
   "outputs": [],
   "source": [
    "data = data[which(data$outcome == \"txe\" | data$outcome == \"rHGG\"),]"
   ]
  },
  {
   "cell_type": "code",
   "execution_count": 10,
   "metadata": {},
   "outputs": [
    {
     "data": {
      "text/html": [
       "<ol class=list-inline>\n",
       "\t<li>305</li>\n",
       "\t<li>14</li>\n",
       "</ol>\n"
      ],
      "text/latex": [
       "\\begin{enumerate*}\n",
       "\\item 305\n",
       "\\item 14\n",
       "\\end{enumerate*}\n"
      ],
      "text/markdown": [
       "1. 305\n",
       "2. 14\n",
       "\n",
       "\n"
      ],
      "text/plain": [
       "[1] 305  14"
      ]
     },
     "metadata": {},
     "output_type": "display_data"
    }
   ],
   "source": [
    "dim(data)"
   ]
  },
  {
   "cell_type": "code",
   "execution_count": 11,
   "metadata": {},
   "outputs": [
    {
     "data": {
      "text/html": [
       "<dl class=dl-horizontal>\n",
       "\t<dt>vialid</dt>\n",
       "\t\t<dd>0</dd>\n",
       "\t<dt>t_number_y</dt>\n",
       "\t\t<dd>0</dd>\n",
       "\t<dt>CELorNEL</dt>\n",
       "\t\t<dd>0</dd>\n",
       "\t<dt>newdata</dt>\n",
       "\t\t<dd>0</dd>\n",
       "\t<dt>cbvn_nlin</dt>\n",
       "\t\t<dd>101</dd>\n",
       "\t<dt>recov_npar</dt>\n",
       "\t\t<dd>101</dd>\n",
       "\t<dt>ccri</dt>\n",
       "\t\t<dd>145</dd>\n",
       "\t<dt>cni</dt>\n",
       "\t\t<dd>145</dd>\n",
       "\t<dt>ncho</dt>\n",
       "\t\t<dd>145</dd>\n",
       "\t<dt>ncre</dt>\n",
       "\t\t<dd>145</dd>\n",
       "\t<dt>nnaa</dt>\n",
       "\t\t<dd>145</dd>\n",
       "\t<dt>nadc.1</dt>\n",
       "\t\t<dd>16</dd>\n",
       "\t<dt>nfa.1</dt>\n",
       "\t\t<dd>16</dd>\n",
       "\t<dt>outcome</dt>\n",
       "\t\t<dd>0</dd>\n",
       "</dl>\n"
      ],
      "text/latex": [
       "\\begin{description*}\n",
       "\\item[vialid] 0\n",
       "\\item[t\\textbackslash{}\\_number\\textbackslash{}\\_y] 0\n",
       "\\item[CELorNEL] 0\n",
       "\\item[newdata] 0\n",
       "\\item[cbvn\\textbackslash{}\\_nlin] 101\n",
       "\\item[recov\\textbackslash{}\\_npar] 101\n",
       "\\item[ccri] 145\n",
       "\\item[cni] 145\n",
       "\\item[ncho] 145\n",
       "\\item[ncre] 145\n",
       "\\item[nnaa] 145\n",
       "\\item[nadc.1] 16\n",
       "\\item[nfa.1] 16\n",
       "\\item[outcome] 0\n",
       "\\end{description*}\n"
      ],
      "text/markdown": [
       "vialid\n",
       ":   0t_number_y\n",
       ":   0CELorNEL\n",
       ":   0newdata\n",
       ":   0cbvn_nlin\n",
       ":   101recov_npar\n",
       ":   101ccri\n",
       ":   145cni\n",
       ":   145ncho\n",
       ":   145ncre\n",
       ":   145nnaa\n",
       ":   145nadc.1\n",
       ":   16nfa.1\n",
       ":   16outcome\n",
       ":   0\n",
       "\n"
      ],
      "text/plain": [
       "    vialid t_number_y   CELorNEL    newdata  cbvn_nlin recov_npar       ccri \n",
       "         0          0          0          0        101        101        145 \n",
       "       cni       ncho       ncre       nnaa     nadc.1      nfa.1    outcome \n",
       "       145        145        145        145         16         16          0 "
      ]
     },
     "metadata": {},
     "output_type": "display_data"
    }
   ],
   "source": [
    "colSums(is.na(data))"
   ]
  },
  {
   "cell_type": "code",
   "execution_count": 12,
   "metadata": {},
   "outputs": [],
   "source": [
    "data_imp = impute(data = data)"
   ]
  },
  {
   "cell_type": "code",
   "execution_count": 13,
   "metadata": {},
   "outputs": [
    {
     "data": {
      "text/html": [
       "<dl class=dl-horizontal>\n",
       "\t<dt>vialid</dt>\n",
       "\t\t<dd>0</dd>\n",
       "\t<dt>t_number_y</dt>\n",
       "\t\t<dd>0</dd>\n",
       "\t<dt>CELorNEL</dt>\n",
       "\t\t<dd>0</dd>\n",
       "\t<dt>newdata</dt>\n",
       "\t\t<dd>0</dd>\n",
       "\t<dt>cbvn_nlin</dt>\n",
       "\t\t<dd>0</dd>\n",
       "\t<dt>recov_npar</dt>\n",
       "\t\t<dd>0</dd>\n",
       "\t<dt>ccri</dt>\n",
       "\t\t<dd>0</dd>\n",
       "\t<dt>cni</dt>\n",
       "\t\t<dd>0</dd>\n",
       "\t<dt>ncho</dt>\n",
       "\t\t<dd>0</dd>\n",
       "\t<dt>ncre</dt>\n",
       "\t\t<dd>0</dd>\n",
       "\t<dt>nnaa</dt>\n",
       "\t\t<dd>0</dd>\n",
       "\t<dt>nadc.1</dt>\n",
       "\t\t<dd>0</dd>\n",
       "\t<dt>nfa.1</dt>\n",
       "\t\t<dd>0</dd>\n",
       "\t<dt>outcome</dt>\n",
       "\t\t<dd>0</dd>\n",
       "</dl>\n"
      ],
      "text/latex": [
       "\\begin{description*}\n",
       "\\item[vialid] 0\n",
       "\\item[t\\textbackslash{}\\_number\\textbackslash{}\\_y] 0\n",
       "\\item[CELorNEL] 0\n",
       "\\item[newdata] 0\n",
       "\\item[cbvn\\textbackslash{}\\_nlin] 0\n",
       "\\item[recov\\textbackslash{}\\_npar] 0\n",
       "\\item[ccri] 0\n",
       "\\item[cni] 0\n",
       "\\item[ncho] 0\n",
       "\\item[ncre] 0\n",
       "\\item[nnaa] 0\n",
       "\\item[nadc.1] 0\n",
       "\\item[nfa.1] 0\n",
       "\\item[outcome] 0\n",
       "\\end{description*}\n"
      ],
      "text/markdown": [
       "vialid\n",
       ":   0t_number_y\n",
       ":   0CELorNEL\n",
       ":   0newdata\n",
       ":   0cbvn_nlin\n",
       ":   0recov_npar\n",
       ":   0ccri\n",
       ":   0cni\n",
       ":   0ncho\n",
       ":   0ncre\n",
       ":   0nnaa\n",
       ":   0nadc.1\n",
       ":   0nfa.1\n",
       ":   0outcome\n",
       ":   0\n",
       "\n"
      ],
      "text/plain": [
       "    vialid t_number_y   CELorNEL    newdata  cbvn_nlin recov_npar       ccri \n",
       "         0          0          0          0          0          0          0 \n",
       "       cni       ncho       ncre       nnaa     nadc.1      nfa.1    outcome \n",
       "         0          0          0          0          0          0          0 "
      ]
     },
     "metadata": {},
     "output_type": "display_data"
    }
   ],
   "source": [
    "colSums(is.na(data_imp))"
   ]
  },
  {
   "cell_type": "code",
   "execution_count": 30,
   "metadata": {},
   "outputs": [],
   "source": [
    "data_imp = droplevels.data.frame(data_imp)"
   ]
  },
  {
   "cell_type": "code",
   "execution_count": 67,
   "metadata": {},
   "outputs": [],
   "source": [
    "## split into train/test by tnum \n",
    "unique_tnums = unique(data$t_number_y)\n",
    "set.seed(10)\n",
    "train_tnums = unique_tnums[sample(c(1:length(unique_tnums)), size = round(length(unique_tnums)*.75))]\n",
    "test_tnums = unique_tnums[! unique_tnums %in% train_tnums]"
   ]
  },
  {
   "cell_type": "code",
   "execution_count": 68,
   "metadata": {},
   "outputs": [],
   "source": [
    "## split data by patient split above: \n",
    "data_train = data_imp[data_imp$t_number_y %in% train_tnums, ]\n",
    "data_test = data_imp[data_imp$t_number_y %in% test_tnums, ]"
   ]
  },
  {
   "cell_type": "code",
   "execution_count": 69,
   "metadata": {},
   "outputs": [
    {
     "data": {
      "text/html": [
       "<strong>txe:</strong> 0.268852459016393"
      ],
      "text/latex": [
       "\\textbf{txe:} 0.268852459016393"
      ],
      "text/markdown": [
       "**txe:** 0.268852459016393"
      ],
      "text/plain": [
       "      txe \n",
       "0.2688525 "
      ]
     },
     "metadata": {},
     "output_type": "display_data"
    }
   ],
   "source": [
    "table(data_imp$outcome)['txe']/sum(table(data_imp$outcome)['txe'],table(data_imp$outcome)['rHGG'])"
   ]
  },
  {
   "cell_type": "code",
   "execution_count": 70,
   "metadata": {},
   "outputs": [
    {
     "data": {
      "text/html": [
       "<ol class=list-inline>\n",
       "\t<li>227</li>\n",
       "\t<li>14</li>\n",
       "</ol>\n"
      ],
      "text/latex": [
       "\\begin{enumerate*}\n",
       "\\item 227\n",
       "\\item 14\n",
       "\\end{enumerate*}\n"
      ],
      "text/markdown": [
       "1. 227\n",
       "2. 14\n",
       "\n",
       "\n"
      ],
      "text/plain": [
       "[1] 227  14"
      ]
     },
     "metadata": {},
     "output_type": "display_data"
    },
    {
     "data": {
      "text/plain": [
       "\n",
       "rHGG  txe \n",
       " 166   61 "
      ]
     },
     "metadata": {},
     "output_type": "display_data"
    },
    {
     "data": {
      "text/html": [
       "<strong>txe:</strong> 0.268722466960352"
      ],
      "text/latex": [
       "\\textbf{txe:} 0.268722466960352"
      ],
      "text/markdown": [
       "**txe:** 0.268722466960352"
      ],
      "text/plain": [
       "      txe \n",
       "0.2687225 "
      ]
     },
     "metadata": {},
     "output_type": "display_data"
    }
   ],
   "source": [
    "dim(data_train)\n",
    "table(data_train$outcome)\n",
    "table(data_train$outcome)['txe']/sum(table(data_train$outcome)['txe'],table(data_train$outcome)['rHGG'])"
   ]
  },
  {
   "cell_type": "code",
   "execution_count": 71,
   "metadata": {},
   "outputs": [
    {
     "data": {
      "text/html": [
       "<ol class=list-inline>\n",
       "\t<li>78</li>\n",
       "\t<li>14</li>\n",
       "</ol>\n"
      ],
      "text/latex": [
       "\\begin{enumerate*}\n",
       "\\item 78\n",
       "\\item 14\n",
       "\\end{enumerate*}\n"
      ],
      "text/markdown": [
       "1. 78\n",
       "2. 14\n",
       "\n",
       "\n"
      ],
      "text/plain": [
       "[1] 78 14"
      ]
     },
     "metadata": {},
     "output_type": "display_data"
    },
    {
     "data": {
      "text/plain": [
       "\n",
       "rHGG  txe \n",
       "  57   21 "
      ]
     },
     "metadata": {},
     "output_type": "display_data"
    },
    {
     "data": {
      "text/html": [
       "<strong>txe:</strong> 0.269230769230769"
      ],
      "text/latex": [
       "\\textbf{txe:} 0.269230769230769"
      ],
      "text/markdown": [
       "**txe:** 0.269230769230769"
      ],
      "text/plain": [
       "      txe \n",
       "0.2692308 "
      ]
     },
     "metadata": {},
     "output_type": "display_data"
    }
   ],
   "source": [
    "dim(data_test)\n",
    "table(data_test$outcome)\n",
    "table(data_test$outcome)['txe']/sum(table(data_test$outcome)['txe'],table(data_test$outcome)['rHGG'])"
   ]
  },
  {
   "cell_type": "code",
   "execution_count": 91,
   "metadata": {},
   "outputs": [],
   "source": [
    "write.csv(data_imp, 'data_imputed.csv')"
   ]
  },
  {
   "cell_type": "markdown",
   "metadata": {},
   "source": [
    "## without imputation indicators: "
   ]
  },
  {
   "cell_type": "code",
   "execution_count": 72,
   "metadata": {},
   "outputs": [],
   "source": [
    "outcome = \"outcome\"\n",
    "features = c('CELorNEL', 'newdata', 'cbvn_nlin', 'recov_npar',\n",
    "             'ccri', 'cni', 'ncho', 'ncre', 'nnaa', 'nadc.1', 'nfa.1')\n",
    "features.addsign <- paste(features, collapse = \"+\")\n",
    "rf_formula = as.formula(paste(outcome, features.addsign, sep = \"~\"))"
   ]
  },
  {
   "cell_type": "code",
   "execution_count": 83,
   "metadata": {},
   "outputs": [],
   "source": [
    "rf = randomForest(formula = rf_formula, \n",
    "                   data = data_train, cw =c(10000, .1))"
   ]
  },
  {
   "cell_type": "code",
   "execution_count": 84,
   "metadata": {},
   "outputs": [],
   "source": [
    "train_preds = predict(rf, data_train)"
   ]
  },
  {
   "cell_type": "code",
   "execution_count": 85,
   "metadata": {},
   "outputs": [
    {
     "data": {
      "text/plain": [
       "Confusion Matrix and Statistics\n",
       "\n",
       "          Reference\n",
       "Prediction rHGG txe\n",
       "      rHGG  166   0\n",
       "      txe     0  61\n",
       "                                     \n",
       "               Accuracy : 1          \n",
       "                 95% CI : (0.9839, 1)\n",
       "    No Information Rate : 0.7313     \n",
       "    P-Value [Acc > NIR] : < 2.2e-16  \n",
       "                                     \n",
       "                  Kappa : 1          \n",
       " Mcnemar's Test P-Value : NA         \n",
       "                                     \n",
       "            Sensitivity : 1.0000     \n",
       "            Specificity : 1.0000     \n",
       "         Pos Pred Value : 1.0000     \n",
       "         Neg Pred Value : 1.0000     \n",
       "             Prevalence : 0.7313     \n",
       "         Detection Rate : 0.7313     \n",
       "   Detection Prevalence : 0.7313     \n",
       "      Balanced Accuracy : 1.0000     \n",
       "                                     \n",
       "       'Positive' Class : rHGG       \n",
       "                                     "
      ]
     },
     "metadata": {},
     "output_type": "display_data"
    }
   ],
   "source": [
    "train_conf_mat = confusionMatrix(train_preds, data_train$outcome)\n",
    "train_conf_mat"
   ]
  },
  {
   "cell_type": "code",
   "execution_count": 88,
   "metadata": {},
   "outputs": [
    {
     "data": {
      "image/png": "[encoded data removed]",
      "text/plain": [
       "Plot with title “rf”"
      ]
     },
     "metadata": {},
     "output_type": "display_data"
    }
   ],
   "source": [
    "varImpPlot(rf,type=2)"
   ]
  },
  {
   "cell_type": "code",
   "execution_count": 86,
   "metadata": {},
   "outputs": [],
   "source": [
    "test_preds = predict(rf, data_test)\n",
    "\n",
    "test_conf_mat = confusionMatrix(test_preds, data_test$outcome)\n"
   ]
  },
  {
   "cell_type": "code",
   "execution_count": 87,
   "metadata": {},
   "outputs": [
    {
     "data": {
      "text/plain": [
       "Confusion Matrix and Statistics\n",
       "\n",
       "          Reference\n",
       "Prediction rHGG txe\n",
       "      rHGG   51  19\n",
       "      txe     6   2\n",
       "                                          \n",
       "               Accuracy : 0.6795          \n",
       "                 95% CI : (0.5642, 0.7807)\n",
       "    No Information Rate : 0.7308          \n",
       "    P-Value [Acc > NIR] : 0.8736          \n",
       "                                          \n",
       "                  Kappa : -0.0125         \n",
       " Mcnemar's Test P-Value : 0.0164          \n",
       "                                          \n",
       "            Sensitivity : 0.89474         \n",
       "            Specificity : 0.09524         \n",
       "         Pos Pred Value : 0.72857         \n",
       "         Neg Pred Value : 0.25000         \n",
       "             Prevalence : 0.73077         \n",
       "         Detection Rate : 0.65385         \n",
       "   Detection Prevalence : 0.89744         \n",
       "      Balanced Accuracy : 0.49499         \n",
       "                                          \n",
       "       'Positive' Class : rHGG            \n",
       "                                          "
      ]
     },
     "metadata": {},
     "output_type": "display_data"
    }
   ],
   "source": [
    "test_conf_mat"
   ]
  },
  {
   "cell_type": "code",
   "execution_count": null,
   "metadata": {},
   "outputs": [],
   "source": []
  },
  {
   "cell_type": "code",
   "execution_count": null,
   "metadata": {},
   "outputs": [],
   "source": []
  }
 ],
 "metadata": {
  "kernelspec": {
   "display_name": "R",
   "language": "R",
   "name": "ir"
  },
  "language_info": {
   "codemirror_mode": "r",
   "file_extension": ".r",
   "mimetype": "text/x-r-source",
   "name": "R",
   "pygments_lexer": "r",
   "version": "3.4.0"
  }
 },
 "nbformat": 4,
 "nbformat_minor": 2
}
