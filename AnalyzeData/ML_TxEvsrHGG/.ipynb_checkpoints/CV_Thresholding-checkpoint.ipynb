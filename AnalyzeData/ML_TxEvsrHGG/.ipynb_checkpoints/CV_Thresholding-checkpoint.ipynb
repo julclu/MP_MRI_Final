{
 "cells": [
  {
   "cell_type": "markdown",
   "metadata": {},
   "source": [
    "## Creating the threshold analysis and logistic regression analysis:"
   ]
  },
  {
   "cell_type": "code",
   "execution_count": 1,
   "metadata": {},
   "outputs": [
    {
     "name": "stderr",
     "output_type": "stream",
     "text": [
      "Type 'citation(\"pROC\")' for a citation.\n",
      "\n",
      "Attaching package: ‘pROC’\n",
      "\n",
      "The following objects are masked from ‘package:stats’:\n",
      "\n",
      "    cov, smooth, var\n",
      "\n",
      "Loading required package: lattice\n",
      "Loading required package: ggplot2\n",
      "\n",
      "Attaching package: ‘dplyr’\n",
      "\n",
      "The following objects are masked from ‘package:BBmisc’:\n",
      "\n",
      "    coalesce, collapse\n",
      "\n",
      "The following objects are masked from ‘package:stats’:\n",
      "\n",
      "    filter, lag\n",
      "\n",
      "The following objects are masked from ‘package:base’:\n",
      "\n",
      "    intersect, setdiff, setequal, union\n",
      "\n",
      "Loading required package: trust\n",
      "Loading required package: mvtnorm\n",
      "Warning message:\n",
      "“package ‘mvtnorm’ was built under R version 3.4.1”Loading required package: Matrix\n",
      "Loading required package: digest\n"
     ]
    }
   ],
   "source": [
    "library(pROC)\n",
    "library(BBmisc)\n",
    "library(caret)\n",
    "library(dplyr)\n",
    "library(glmm)"
   ]
  },
  {
   "cell_type": "code",
   "execution_count": 2,
   "metadata": {},
   "outputs": [
    {
     "data": {
      "text/html": [
       "<ol class=list-inline>\n",
       "\t<li>366</li>\n",
       "\t<li>75</li>\n",
       "</ol>\n"
      ],
      "text/latex": [
       "\\begin{enumerate*}\n",
       "\\item 366\n",
       "\\item 75\n",
       "\\end{enumerate*}\n"
      ],
      "text/markdown": [
       "1. 366\n",
       "2. 75\n",
       "\n",
       "\n"
      ],
      "text/plain": [
       "[1] 366  75"
      ]
     },
     "metadata": {},
     "output_type": "display_data"
    }
   ],
   "source": [
    "data = read.csv('../../AnnotateData/recgli_annotation10_onlyGoodBiopsies_alt1.csv')\n",
    "dim(data)"
   ]
  },
  {
   "cell_type": "code",
   "execution_count": 3,
   "metadata": {},
   "outputs": [
    {
     "data": {
      "text/html": [
       "<ol class=list-inline>\n",
       "\t<li>297</li>\n",
       "\t<li>75</li>\n",
       "</ol>\n"
      ],
      "text/latex": [
       "\\begin{enumerate*}\n",
       "\\item 297\n",
       "\\item 75\n",
       "\\end{enumerate*}\n"
      ],
      "text/markdown": [
       "1. 297\n",
       "2. 75\n",
       "\n",
       "\n"
      ],
      "text/plain": [
       "[1] 297  75"
      ]
     },
     "metadata": {},
     "output_type": "display_data"
    }
   ],
   "source": [
    "data = data[data$outcome == \"rHGG\" | data$outcome == \"txe\", ]\n",
    "dim(data)"
   ]
  },
  {
   "cell_type": "code",
   "execution_count": 4,
   "metadata": {},
   "outputs": [
    {
     "data": {
      "text/html": [
       "<ol class=list-inline>\n",
       "\t<li>291</li>\n",
       "\t<li>75</li>\n",
       "</ol>\n"
      ],
      "text/latex": [
       "\\begin{enumerate*}\n",
       "\\item 291\n",
       "\\item 75\n",
       "\\end{enumerate*}\n"
      ],
      "text/markdown": [
       "1. 291\n",
       "2. 75\n",
       "\n",
       "\n"
      ],
      "text/plain": [
       "[1] 291  75"
      ]
     },
     "metadata": {},
     "output_type": "display_data"
    }
   ],
   "source": [
    "data = data[data$CELorNEL == \"CEL\" | data$CELorNEL == \"NEL\",]\n",
    "dim(data)"
   ]
  },
  {
   "cell_type": "code",
   "execution_count": 5,
   "metadata": {},
   "outputs": [],
   "source": [
    "data = droplevels.data.frame(data)"
   ]
  },
  {
   "cell_type": "code",
   "execution_count": 6,
   "metadata": {},
   "outputs": [],
   "source": [
    "id = \"t_number_y\"\n",
    "features = c('nadc.1', 'nfa.1',\n",
    "             'cbvn_nlin', \n",
    "             'ccri', 'cni', 'ncre', 'ncho', 'nnaa', \n",
    "             'in_CEL', 'newdata')\n",
    "label = 'outcome'"
   ]
  },
  {
   "cell_type": "code",
   "execution_count": 7,
   "metadata": {},
   "outputs": [
    {
     "data": {
      "text/html": [
       "<table>\n",
       "<thead><tr><th></th><th scope=col>t_number_y</th><th scope=col>nadc.1</th><th scope=col>nfa.1</th><th scope=col>cbvn_nlin</th><th scope=col>ccri</th><th scope=col>cni</th><th scope=col>ncre</th><th scope=col>ncho</th><th scope=col>nnaa</th><th scope=col>in_CEL</th><th scope=col>newdata</th><th scope=col>outcome</th></tr></thead>\n",
       "<tbody>\n",
       "\t<tr><th scope=row>1</th><td>10366</td><td>0.75 </td><td>0.83 </td><td>1.08 </td><td>1.88 </td><td>2.60 </td><td>0.47 </td><td>1.03 </td><td>0.46 </td><td>0    </td><td>1    </td><td>txe  </td></tr>\n",
       "\t<tr><th scope=row>3</th><td>10448</td><td>1.62 </td><td>0.50 </td><td>2.43 </td><td>  NA </td><td>  NA </td><td>  NA </td><td>  NA </td><td>  NA </td><td>1    </td><td>1    </td><td>rHGG </td></tr>\n",
       "\t<tr><th scope=row>4</th><td>10594</td><td>2.62 </td><td>0.81 </td><td>1.64 </td><td>  NA </td><td>  NA </td><td>  NA </td><td>  NA </td><td>  NA </td><td>0    </td><td>1    </td><td>txe  </td></tr>\n",
       "\t<tr><th scope=row>5</th><td>10594</td><td>2.12 </td><td>0.42 </td><td>0.95 </td><td>1.03 </td><td>3.27 </td><td>0.79 </td><td>1.04 </td><td>0.36 </td><td>0    </td><td>1    </td><td>rHGG </td></tr>\n",
       "\t<tr><th scope=row>6</th><td>10594</td><td>1.60 </td><td>0.73 </td><td>0.84 </td><td>2.33 </td><td>7.57 </td><td>1.07 </td><td>1.61 </td><td>0.13 </td><td>0    </td><td>1    </td><td>rHGG </td></tr>\n",
       "\t<tr><th scope=row>7</th><td>10594</td><td>3.03 </td><td>0.42 </td><td>0.42 </td><td>2.13 </td><td>4.37 </td><td>1.21 </td><td>1.89 </td><td>0.74 </td><td>0    </td><td>1    </td><td>rHGG </td></tr>\n",
       "</tbody>\n",
       "</table>\n"
      ],
      "text/latex": [
       "\\begin{tabular}{r|llllllllllll}\n",
       "  & t\\_number\\_y & nadc.1 & nfa.1 & cbvn\\_nlin & ccri & cni & ncre & ncho & nnaa & in\\_CEL & newdata & outcome\\\\\n",
       "\\hline\n",
       "\t1 & 10366 & 0.75  & 0.83  & 1.08  & 1.88  & 2.60  & 0.47  & 1.03  & 0.46  & 0     & 1     & txe  \\\\\n",
       "\t3 & 10448 & 1.62  & 0.50  & 2.43  &   NA  &   NA  &   NA  &   NA  &   NA  & 1     & 1     & rHGG \\\\\n",
       "\t4 & 10594 & 2.62  & 0.81  & 1.64  &   NA  &   NA  &   NA  &   NA  &   NA  & 0     & 1     & txe  \\\\\n",
       "\t5 & 10594 & 2.12  & 0.42  & 0.95  & 1.03  & 3.27  & 0.79  & 1.04  & 0.36  & 0     & 1     & rHGG \\\\\n",
       "\t6 & 10594 & 1.60  & 0.73  & 0.84  & 2.33  & 7.57  & 1.07  & 1.61  & 0.13  & 0     & 1     & rHGG \\\\\n",
       "\t7 & 10594 & 3.03  & 0.42  & 0.42  & 2.13  & 4.37  & 1.21  & 1.89  & 0.74  & 0     & 1     & rHGG \\\\\n",
       "\\end{tabular}\n"
      ],
      "text/markdown": [
       "\n",
       "| <!--/--> | t_number_y | nadc.1 | nfa.1 | cbvn_nlin | ccri | cni | ncre | ncho | nnaa | in_CEL | newdata | outcome | \n",
       "|---|---|---|---|---|---|\n",
       "| 1 | 10366 | 0.75  | 0.83  | 1.08  | 1.88  | 2.60  | 0.47  | 1.03  | 0.46  | 0     | 1     | txe   | \n",
       "| 3 | 10448 | 1.62  | 0.50  | 2.43  |   NA  |   NA  |   NA  |   NA  |   NA  | 1     | 1     | rHGG  | \n",
       "| 4 | 10594 | 2.62  | 0.81  | 1.64  |   NA  |   NA  |   NA  |   NA  |   NA  | 0     | 1     | txe   | \n",
       "| 5 | 10594 | 2.12  | 0.42  | 0.95  | 1.03  | 3.27  | 0.79  | 1.04  | 0.36  | 0     | 1     | rHGG  | \n",
       "| 6 | 10594 | 1.60  | 0.73  | 0.84  | 2.33  | 7.57  | 1.07  | 1.61  | 0.13  | 0     | 1     | rHGG  | \n",
       "| 7 | 10594 | 3.03  | 0.42  | 0.42  | 2.13  | 4.37  | 1.21  | 1.89  | 0.74  | 0     | 1     | rHGG  | \n",
       "\n",
       "\n"
      ],
      "text/plain": [
       "  t_number_y nadc.1 nfa.1 cbvn_nlin ccri cni  ncre ncho nnaa in_CEL newdata\n",
       "1 10366      0.75   0.83  1.08      1.88 2.60 0.47 1.03 0.46 0      1      \n",
       "3 10448      1.62   0.50  2.43        NA   NA   NA   NA   NA 1      1      \n",
       "4 10594      2.62   0.81  1.64        NA   NA   NA   NA   NA 0      1      \n",
       "5 10594      2.12   0.42  0.95      1.03 3.27 0.79 1.04 0.36 0      1      \n",
       "6 10594      1.60   0.73  0.84      2.33 7.57 1.07 1.61 0.13 0      1      \n",
       "7 10594      3.03   0.42  0.42      2.13 4.37 1.21 1.89 0.74 0      1      \n",
       "  outcome\n",
       "1 txe    \n",
       "3 rHGG   \n",
       "4 txe    \n",
       "5 rHGG   \n",
       "6 rHGG   \n",
       "7 rHGG   "
      ]
     },
     "metadata": {},
     "output_type": "display_data"
    }
   ],
   "source": [
    "data_xy = data[,c(id, features, label)]\n",
    "head(data_xy)"
   ]
  },
  {
   "cell_type": "markdown",
   "metadata": {},
   "source": [
    "## missing value indicators: "
   ]
  },
  {
   "cell_type": "code",
   "execution_count": 8,
   "metadata": {},
   "outputs": [],
   "source": [
    "data_xy = data.frame(data_xy, \n",
    "                    hasDiffu = ifelse(is.na(data_xy$nadc.1), 0, 1), \n",
    "                    hasPerf  = ifelse(is.na(data_xy$cbvn_nlin), 0, 1), \n",
    "                    hasSpec  = ifelse(is.na(data_xy$cni), 0, 1))"
   ]
  },
  {
   "cell_type": "markdown",
   "metadata": {},
   "source": [
    "## fold splits: "
   ]
  },
  {
   "cell_type": "code",
   "execution_count": 9,
   "metadata": {},
   "outputs": [],
   "source": [
    "# 11, 32\n",
    "set.seed(32)\n",
    "## 32 allows for good splitting."
   ]
  },
  {
   "cell_type": "code",
   "execution_count": 10,
   "metadata": {},
   "outputs": [],
   "source": [
    "tnum_group_assignment = data.frame(t_number_y = unique(data[,id]), fold =floor(runif(length(unique(data[,id])), min = 1, max = 6)))"
   ]
  },
  {
   "cell_type": "code",
   "execution_count": 11,
   "metadata": {},
   "outputs": [],
   "source": [
    "data_xy_split = merge(data_xy, tnum_group_assignment, by = c(\"t_number_y\"))"
   ]
  },
  {
   "cell_type": "code",
   "execution_count": 12,
   "metadata": {},
   "outputs": [],
   "source": [
    "data = data_xy_split"
   ]
  },
  {
   "cell_type": "code",
   "execution_count": 13,
   "metadata": {},
   "outputs": [
    {
     "data": {
      "text/html": [
       "<strong>txe:</strong> 0.237113402061856"
      ],
      "text/latex": [
       "\\textbf{txe:} 0.237113402061856"
      ],
      "text/markdown": [
       "**txe:** 0.237113402061856"
      ],
      "text/plain": [
       "      txe \n",
       "0.2371134 "
      ]
     },
     "metadata": {},
     "output_type": "display_data"
    }
   ],
   "source": [
    "table(data$outcome)['txe']/length(data$outcome)"
   ]
  },
  {
   "cell_type": "code",
   "execution_count": 14,
   "metadata": {},
   "outputs": [
    {
     "name": "stdout",
     "output_type": "stream",
     "text": [
      "[1] \"fold 1\"\n"
     ]
    },
    {
     "data": {
      "text/html": [
       "<strong>txe:</strong> 0.290322580645161"
      ],
      "text/latex": [
       "\\textbf{txe:} 0.290322580645161"
      ],
      "text/markdown": [
       "**txe:** 0.290322580645161"
      ],
      "text/plain": [
       "      txe \n",
       "0.2903226 "
      ]
     },
     "metadata": {},
     "output_type": "display_data"
    },
    {
     "name": "stdout",
     "output_type": "stream",
     "text": [
      "[1] \"fold 2\"\n"
     ]
    },
    {
     "data": {
      "text/html": [
       "<strong>txe:</strong> 0.26984126984127"
      ],
      "text/latex": [
       "\\textbf{txe:} 0.26984126984127"
      ],
      "text/markdown": [
       "**txe:** 0.26984126984127"
      ],
      "text/plain": [
       "      txe \n",
       "0.2698413 "
      ]
     },
     "metadata": {},
     "output_type": "display_data"
    },
    {
     "name": "stdout",
     "output_type": "stream",
     "text": [
      "[1] \"fold 3\"\n"
     ]
    },
    {
     "data": {
      "text/html": [
       "<strong>txe:</strong> 0.210526315789474"
      ],
      "text/latex": [
       "\\textbf{txe:} 0.210526315789474"
      ],
      "text/markdown": [
       "**txe:** 0.210526315789474"
      ],
      "text/plain": [
       "      txe \n",
       "0.2105263 "
      ]
     },
     "metadata": {},
     "output_type": "display_data"
    },
    {
     "name": "stdout",
     "output_type": "stream",
     "text": [
      "[1] \"fold 4\"\n"
     ]
    },
    {
     "data": {
      "text/html": [
       "<strong>txe:</strong> 0.183333333333333"
      ],
      "text/latex": [
       "\\textbf{txe:} 0.183333333333333"
      ],
      "text/markdown": [
       "**txe:** 0.183333333333333"
      ],
      "text/plain": [
       "      txe \n",
       "0.1833333 "
      ]
     },
     "metadata": {},
     "output_type": "display_data"
    },
    {
     "name": "stdout",
     "output_type": "stream",
     "text": [
      "[1] \"fold 5\"\n"
     ]
    },
    {
     "data": {
      "text/html": [
       "<strong>txe:</strong> 0.224489795918367"
      ],
      "text/latex": [
       "\\textbf{txe:} 0.224489795918367"
      ],
      "text/markdown": [
       "**txe:** 0.224489795918367"
      ],
      "text/plain": [
       "      txe \n",
       "0.2244898 "
      ]
     },
     "metadata": {},
     "output_type": "display_data"
    }
   ],
   "source": [
    "print('fold 1')\n",
    "table(data$outcome[data$fold ==1])['txe']/length(data$outcome[data$fold ==1])\n",
    "print('fold 2')\n",
    "table(data$outcome[data$fold ==2])['txe']/length(data$outcome[data$fold ==2])\n",
    "print('fold 3')\n",
    "table(data$outcome[data$fold ==3])['txe']/length(data$outcome[data$fold ==3])\n",
    "print('fold 4')\n",
    "table(data$outcome[data$fold ==4])['txe']/length(data$outcome[data$fold ==4])\n",
    "print('fold 5')\n",
    "table(data$outcome[data$fold ==5])['txe']/length(data$outcome[data$fold ==5])"
   ]
  },
  {
   "cell_type": "code",
   "execution_count": 15,
   "metadata": {},
   "outputs": [],
   "source": [
    "data_cel = data[which(data$in_CEL == 1),]"
   ]
  },
  {
   "cell_type": "code",
   "execution_count": 16,
   "metadata": {},
   "outputs": [],
   "source": [
    "data_nel = data[which(data$in_CEL == 0),]"
   ]
  },
  {
   "cell_type": "code",
   "execution_count": 17,
   "metadata": {},
   "outputs": [
    {
     "name": "stdout",
     "output_type": "stream",
     "text": [
      "[1] \"fold 1\"\n"
     ]
    },
    {
     "data": {
      "text/html": [
       "<strong>txe:</strong> 0.264705882352941"
      ],
      "text/latex": [
       "\\textbf{txe:} 0.264705882352941"
      ],
      "text/markdown": [
       "**txe:** 0.264705882352941"
      ],
      "text/plain": [
       "      txe \n",
       "0.2647059 "
      ]
     },
     "metadata": {},
     "output_type": "display_data"
    },
    {
     "name": "stdout",
     "output_type": "stream",
     "text": [
      "[1] \"fold 2\"\n"
     ]
    },
    {
     "data": {
      "text/html": [
       "<strong>txe:</strong> 0.275"
      ],
      "text/latex": [
       "\\textbf{txe:} 0.275"
      ],
      "text/markdown": [
       "**txe:** 0.275"
      ],
      "text/plain": [
       "  txe \n",
       "0.275 "
      ]
     },
     "metadata": {},
     "output_type": "display_data"
    },
    {
     "name": "stdout",
     "output_type": "stream",
     "text": [
      "[1] \"fold 3\"\n"
     ]
    },
    {
     "data": {
      "text/html": [
       "<strong>txe:</strong> 0.161290322580645"
      ],
      "text/latex": [
       "\\textbf{txe:} 0.161290322580645"
      ],
      "text/markdown": [
       "**txe:** 0.161290322580645"
      ],
      "text/plain": [
       "      txe \n",
       "0.1612903 "
      ]
     },
     "metadata": {},
     "output_type": "display_data"
    },
    {
     "name": "stdout",
     "output_type": "stream",
     "text": [
      "[1] \"fold 4\"\n"
     ]
    },
    {
     "data": {
      "text/html": [
       "<strong>txe:</strong> 0.181818181818182"
      ],
      "text/latex": [
       "\\textbf{txe:} 0.181818181818182"
      ],
      "text/markdown": [
       "**txe:** 0.181818181818182"
      ],
      "text/plain": [
       "      txe \n",
       "0.1818182 "
      ]
     },
     "metadata": {},
     "output_type": "display_data"
    },
    {
     "name": "stdout",
     "output_type": "stream",
     "text": [
      "[1] \"fold 5\"\n"
     ]
    },
    {
     "data": {
      "text/html": [
       "<strong>txe:</strong> 0.166666666666667"
      ],
      "text/latex": [
       "\\textbf{txe:} 0.166666666666667"
      ],
      "text/markdown": [
       "**txe:** 0.166666666666667"
      ],
      "text/plain": [
       "      txe \n",
       "0.1666667 "
      ]
     },
     "metadata": {},
     "output_type": "display_data"
    }
   ],
   "source": [
    "print('fold 1')\n",
    "table(data_cel$outcome[data_cel$fold ==1])['txe']/length(data_cel$outcome[data_cel$fold ==1])\n",
    "print('fold 2')\n",
    "table(data_cel$outcome[data_cel$fold ==2])['txe']/length(data_cel$outcome[data_cel$fold ==2])\n",
    "print('fold 3')\n",
    "table(data_cel$outcome[data_cel$fold ==3])['txe']/length(data_cel$outcome[data_cel$fold ==3])\n",
    "print('fold 4')\n",
    "table(data_cel$outcome[data_cel$fold ==4])['txe']/length(data_cel$outcome[data_cel$fold ==4])\n",
    "print('fold 5')\n",
    "table(data_cel$outcome[data_cel$fold ==5])['txe']/length(data_cel$outcome[data_cel$fold ==5])"
   ]
  },
  {
   "cell_type": "code",
   "execution_count": 18,
   "metadata": {},
   "outputs": [
    {
     "name": "stdout",
     "output_type": "stream",
     "text": [
      "[1] \"fold 1\"\n"
     ]
    },
    {
     "data": {
      "text/html": [
       "<strong>txe:</strong> 0.321428571428571"
      ],
      "text/latex": [
       "\\textbf{txe:} 0.321428571428571"
      ],
      "text/markdown": [
       "**txe:** 0.321428571428571"
      ],
      "text/plain": [
       "      txe \n",
       "0.3214286 "
      ]
     },
     "metadata": {},
     "output_type": "display_data"
    },
    {
     "name": "stdout",
     "output_type": "stream",
     "text": [
      "[1] \"fold 2\"\n"
     ]
    },
    {
     "data": {
      "text/html": [
       "<strong>txe:</strong> 0.260869565217391"
      ],
      "text/latex": [
       "\\textbf{txe:} 0.260869565217391"
      ],
      "text/markdown": [
       "**txe:** 0.260869565217391"
      ],
      "text/plain": [
       "      txe \n",
       "0.2608696 "
      ]
     },
     "metadata": {},
     "output_type": "display_data"
    },
    {
     "name": "stdout",
     "output_type": "stream",
     "text": [
      "[1] \"fold 3\"\n"
     ]
    },
    {
     "data": {
      "text/html": [
       "<strong>txe:</strong> 0.269230769230769"
      ],
      "text/latex": [
       "\\textbf{txe:} 0.269230769230769"
      ],
      "text/markdown": [
       "**txe:** 0.269230769230769"
      ],
      "text/plain": [
       "      txe \n",
       "0.2692308 "
      ]
     },
     "metadata": {},
     "output_type": "display_data"
    },
    {
     "name": "stdout",
     "output_type": "stream",
     "text": [
      "[1] \"fold 4\"\n"
     ]
    },
    {
     "data": {
      "text/html": [
       "<strong>txe:</strong> 0.185185185185185"
      ],
      "text/latex": [
       "\\textbf{txe:} 0.185185185185185"
      ],
      "text/markdown": [
       "**txe:** 0.185185185185185"
      ],
      "text/plain": [
       "      txe \n",
       "0.1851852 "
      ]
     },
     "metadata": {},
     "output_type": "display_data"
    },
    {
     "name": "stdout",
     "output_type": "stream",
     "text": [
      "[1] \"fold 5\"\n"
     ]
    },
    {
     "data": {
      "text/html": [
       "<strong>txe:</strong> 0.28"
      ],
      "text/latex": [
       "\\textbf{txe:} 0.28"
      ],
      "text/markdown": [
       "**txe:** 0.28"
      ],
      "text/plain": [
       " txe \n",
       "0.28 "
      ]
     },
     "metadata": {},
     "output_type": "display_data"
    }
   ],
   "source": [
    "print('fold 1')\n",
    "table(data_nel$outcome[data_nel$fold ==1])['txe']/length(data_nel$outcome[data_nel$fold ==1])\n",
    "print('fold 2')\n",
    "table(data_nel$outcome[data_nel$fold ==2])['txe']/length(data_nel$outcome[data_nel$fold ==2])\n",
    "print('fold 3')\n",
    "table(data_nel$outcome[data_nel$fold ==3])['txe']/length(data_nel$outcome[data_nel$fold ==3])\n",
    "print('fold 4')\n",
    "table(data_nel$outcome[data_nel$fold ==4])['txe']/length(data_nel$outcome[data_nel$fold ==4])\n",
    "print('fold 5')\n",
    "table(data_nel$outcome[data_nel$fold ==5])['txe']/length(data_nel$outcome[data_nel$fold ==5])"
   ]
  },
  {
   "cell_type": "markdown",
   "metadata": {},
   "source": [
    "## thresholding: "
   ]
  },
  {
   "cell_type": "markdown",
   "metadata": {},
   "source": [
    "### NEL "
   ]
  },
  {
   "cell_type": "markdown",
   "metadata": {},
   "source": [
    "#### Choline:"
   ]
  },
  {
   "cell_type": "code",
   "execution_count": 19,
   "metadata": {},
   "outputs": [],
   "source": [
    "scores_nel = data.frame(param = NA, \n",
    "                        folds = NA, \n",
    "                        thresh = NA,\n",
    "                        auc_4folds = NA,\n",
    "                        ci1_4folds = NA, \n",
    "                        ci2_4folds = NA,\n",
    "                        \n",
    "                        acc_4folds = NA,\n",
    "                        sens_4folds = NA, \n",
    "                        spec_4folds = NA, \n",
    "                        ppv_4folds = NA,\n",
    "                        npv_4folds = NA,\n",
    "                        \n",
    "                        acc_CV = NA,\n",
    "                        sens_CV = NA, \n",
    "                        spec_CV = NA,\n",
    "                        ppv_CV = NA,\n",
    "                        npv_CV = NA, \n",
    "                        auc_CV = NA,\n",
    "                        ci1_cv = NA, \n",
    "                        ci2_cv = NA\n",
    "                       )"
   ]
  },
  {
   "cell_type": "code",
   "execution_count": 20,
   "metadata": {},
   "outputs": [
    {
     "data": {
      "text/html": [
       "<ol class=list-inline>\n",
       "\t<li>1</li>\n",
       "\t<li>19</li>\n",
       "</ol>\n"
      ],
      "text/latex": [
       "\\begin{enumerate*}\n",
       "\\item 1\n",
       "\\item 19\n",
       "\\end{enumerate*}\n"
      ],
      "text/markdown": [
       "1. 1\n",
       "2. 19\n",
       "\n",
       "\n"
      ],
      "text/plain": [
       "[1]  1 19"
      ]
     },
     "metadata": {},
     "output_type": "display_data"
    }
   ],
   "source": [
    "dim(scores_nel)"
   ]
  },
  {
   "cell_type": "code",
   "execution_count": 21,
   "metadata": {},
   "outputs": [],
   "source": [
    "features_mri = features[1:8]"
   ]
  },
  {
   "cell_type": "code",
   "execution_count": 22,
   "metadata": {},
   "outputs": [
    {
     "data": {
      "text/html": [
       "<ol class=list-inline>\n",
       "\t<li>'nadc.1'</li>\n",
       "\t<li>'nfa.1'</li>\n",
       "\t<li>'cbvn_nlin'</li>\n",
       "\t<li>'ccri'</li>\n",
       "\t<li>'cni'</li>\n",
       "\t<li>'ncre'</li>\n",
       "\t<li>'ncho'</li>\n",
       "\t<li>'nnaa'</li>\n",
       "</ol>\n"
      ],
      "text/latex": [
       "\\begin{enumerate*}\n",
       "\\item 'nadc.1'\n",
       "\\item 'nfa.1'\n",
       "\\item 'cbvn\\_nlin'\n",
       "\\item 'ccri'\n",
       "\\item 'cni'\n",
       "\\item 'ncre'\n",
       "\\item 'ncho'\n",
       "\\item 'nnaa'\n",
       "\\end{enumerate*}\n"
      ],
      "text/markdown": [
       "1. 'nadc.1'\n",
       "2. 'nfa.1'\n",
       "3. 'cbvn_nlin'\n",
       "4. 'ccri'\n",
       "5. 'cni'\n",
       "6. 'ncre'\n",
       "7. 'ncho'\n",
       "8. 'nnaa'\n",
       "\n",
       "\n"
      ],
      "text/plain": [
       "[1] \"nadc.1\"    \"nfa.1\"     \"cbvn_nlin\" \"ccri\"      \"cni\"       \"ncre\"     \n",
       "[7] \"ncho\"      \"nnaa\"     "
      ]
     },
     "metadata": {},
     "output_type": "display_data"
    }
   ],
   "source": [
    "features_mri"
   ]
  },
  {
   "cell_type": "code",
   "execution_count": 23,
   "metadata": {},
   "outputs": [
    {
     "data": {
      "text/html": [
       "<ol class=list-inline>\n",
       "\t<li>'nadc.1'</li>\n",
       "\t<li>'nfa.1'</li>\n",
       "\t<li>'cbvn_nlin'</li>\n",
       "\t<li>'ccri'</li>\n",
       "\t<li>'cni'</li>\n",
       "\t<li>'ncre'</li>\n",
       "\t<li>'ncho'</li>\n",
       "\t<li>'nnaa'</li>\n",
       "\t<li>'in_CEL'</li>\n",
       "\t<li>'newdata'</li>\n",
       "</ol>\n"
      ],
      "text/latex": [
       "\\begin{enumerate*}\n",
       "\\item 'nadc.1'\n",
       "\\item 'nfa.1'\n",
       "\\item 'cbvn\\_nlin'\n",
       "\\item 'ccri'\n",
       "\\item 'cni'\n",
       "\\item 'ncre'\n",
       "\\item 'ncho'\n",
       "\\item 'nnaa'\n",
       "\\item 'in\\_CEL'\n",
       "\\item 'newdata'\n",
       "\\end{enumerate*}\n"
      ],
      "text/markdown": [
       "1. 'nadc.1'\n",
       "2. 'nfa.1'\n",
       "3. 'cbvn_nlin'\n",
       "4. 'ccri'\n",
       "5. 'cni'\n",
       "6. 'ncre'\n",
       "7. 'ncho'\n",
       "8. 'nnaa'\n",
       "9. 'in_CEL'\n",
       "10. 'newdata'\n",
       "\n",
       "\n"
      ],
      "text/plain": [
       " [1] \"nadc.1\"    \"nfa.1\"     \"cbvn_nlin\" \"ccri\"      \"cni\"       \"ncre\"     \n",
       " [7] \"ncho\"      \"nnaa\"      \"in_CEL\"    \"newdata\"  "
      ]
     },
     "metadata": {},
     "output_type": "display_data"
    }
   ],
   "source": [
    "features"
   ]
  },
  {
   "cell_type": "code",
   "execution_count": 24,
   "metadata": {},
   "outputs": [],
   "source": [
    "for (col in features_mri){\n",
    "    for (fold in c(1:5)){\n",
    "        data_thresh = data_nel[which(data_nel$fold != fold),]\n",
    "        data_pred = data_nel[which(data_nel$fold == fold),]\n",
    "        roc = roc(data_thresh$outcome, data_thresh[,col], levels=c(\"rHGG\", \"txe\"))\n",
    "#         print(col)\n",
    "#         plot(roc)\n",
    "        thresh = coords(roc, \"best\", best.method=c(\"closest.topleft\"))['threshold']\n",
    "        sens = coords(roc, \"best\", best.method=c(\"closest.topleft\"))['sensitivity']\n",
    "        spec = coords(roc, \"best\", best.method=c(\"closest.topleft\"))['specificity']\n",
    "        \n",
    "        if(col == \"nfa.1\" | col == \"nnaa\"){\n",
    "            preds_4folds = as.factor(ifelse(data_thresh[,col] < thresh, 'rHGG', 'txe'))\n",
    "        }\n",
    "        else{\n",
    "            preds_4folds = as.factor(ifelse(data_thresh[,col] > thresh, 'rHGG', 'txe'))\n",
    "        }\n",
    "        acc_4folds =  confusionMatrix(data = preds_4folds, reference = data_thresh$outcome)$overall['Accuracy']\n",
    "        ppv_4folds =  confusionMatrix(data = preds_4folds, reference = data_thresh$outcome)$byClass['Pos Pred Value']\n",
    "        npv_4folds =  confusionMatrix(data = preds_4folds, reference = data_thresh$outcome)$byClass['Neg Pred Value']\n",
    "\n",
    "        auc = auc(roc)\n",
    "        ci1 = ci.auc(roc)[1]\n",
    "        ci2 = ci.auc(roc)[3]\n",
    "        \n",
    "        if(col == \"nfa.1\" | col == \"nnaa\"){\n",
    "            preds = as.factor(ifelse(data_pred[,col] < thresh, 'rHGG', 'txe'))\n",
    "        }\n",
    "        else{\n",
    "            preds = as.factor(ifelse(data_pred[,col] > thresh, 'rHGG', 'txe'))\n",
    "        }\n",
    "        acc_pred =  confusionMatrix(data = preds, reference = data_pred$outcome)$overall['Accuracy']\n",
    "        sens_pred = confusionMatrix(data = preds, reference = data_pred$outcome)$byClass['Sensitivity']\n",
    "        spec_pred = confusionMatrix(data = preds, reference = data_pred$outcome)$byClass['Specificity']\n",
    "        ppv_pred = confusionMatrix(data = preds, reference = data_pred$outcome)$byClass['Pos Pred Value']\n",
    "        npv_pred = confusionMatrix(data = preds, reference = data_pred$outcome)$byClass['Neg Pred Value']\n",
    "        \n",
    "\n",
    "        outcome_pred_pruned = data_pred$outcome[!is.na(preds)]\n",
    "        outcome_pred_pruned = ifelse(outcome_pred_pruned == 'rHGG', 1, 0)\n",
    "        preds_pruned        = preds[!is.na(preds)]\n",
    "        preds_pruned        = ifelse(preds_pruned == \"rHGG\", 1, 0)\n",
    "\n",
    "        \n",
    "        roc_pred = roc(outcome_pred_pruned, preds_pruned)\n",
    "        auc_pred = auc(roc_pred)\n",
    "        ci1_cv = ci.auc(roc_pred)[1]\n",
    "        ci2_cv = ci.auc(roc_pred)[3]\n",
    "        \n",
    "        newline = c(param = col, \n",
    "                        folds = fold, \n",
    "                        thresh = thresh,\n",
    "                        auc_4folds = auc,\n",
    "                        ci1_4folds = ci1, \n",
    "                        ci2_4folds = ci2, \n",
    "                    \n",
    "                        acc_4folds = acc_4folds,\n",
    "                        sens_4folds = sens, \n",
    "                        spec_4folds = spec, \n",
    "                        ppv_4folds = ppv_4folds, \n",
    "                        npv_4folds = npv_4folds, \n",
    "                    \n",
    "                        acc_CV = acc_pred,\n",
    "                        sens_CV = sens_pred,\n",
    "                        spec_CV = spec_pred, \n",
    "                        ppv_CV = ppv_pred, \n",
    "                        npv_CV = npv_pred,\n",
    "                        auc_CV = auc_pred,\n",
    "                        ci1_cv = ci1_cv,\n",
    "                        ci2_cv = ci2_cv\n",
    "                       )\n",
    "        scores_nel = rbind(scores_nel, newline)\n",
    "\n",
    "    }\n",
    "}"
   ]
  },
  {
   "cell_type": "code",
   "execution_count": 25,
   "metadata": {},
   "outputs": [],
   "source": [
    "scores_nel = scores_nel[-1,]"
   ]
  },
  {
   "cell_type": "code",
   "execution_count": 26,
   "metadata": {},
   "outputs": [],
   "source": [
    "scores_nel$thresh = as.numeric(scores_nel$thresh)\n",
    "scores_nel$acc_4folds = as.numeric(scores_nel$acc_4folds)\n",
    "scores_nel$sens_4folds = as.numeric(scores_nel$sens_4folds)\n",
    "scores_nel$spec_4folds = as.numeric(scores_nel$spec_4folds)\n",
    "scores_nel$auc_4folds = as.numeric(scores_nel$auc_4folds)\n",
    "scores_nel$ci1_4folds = as.numeric(scores_nel$ci1_4folds)\n",
    "scores_nel$ci2_4folds = as.numeric(scores_nel$ci2_4folds)\n",
    "scores_nel$acc_CV = as.numeric(scores_nel$acc_CV)\n",
    "scores_nel$sens_CV = as.numeric(scores_nel$sens_CV)\n",
    "scores_nel$spec_CV = as.numeric(scores_nel$spec_CV)\n",
    "scores_nel$npv_CV = as.numeric(scores_nel$npv_CV)\n",
    "scores_nel$ppv_CV = as.numeric(scores_nel$ppv_CV)\n",
    "scores_nel$auc_CV = as.numeric(scores_nel$auc_CV)\n",
    "scores_nel$ci1_cv = as.numeric(scores_nel$ci1_cv)\n",
    "scores_nel$ci2_cv = as.numeric(scores_nel$ci2_cv)\n",
    "\n"
   ]
  },
  {
   "cell_type": "code",
   "execution_count": 27,
   "metadata": {},
   "outputs": [],
   "source": [
    "for (col in colnames(scores_nel)[2:length(colnames(scores_nel))]){\n",
    "    scores_nel[col] = as.numeric(unlist(scores_nel[col]))\n",
    "}\n"
   ]
  },
  {
   "cell_type": "code",
   "execution_count": 28,
   "metadata": {},
   "outputs": [],
   "source": [
    "scores_nel_cni = scores_nel[scores_nel$param == \"cni\",]"
   ]
  },
  {
   "cell_type": "code",
   "execution_count": 29,
   "metadata": {},
   "outputs": [
    {
     "data": {
      "text/html": [
       "<table>\n",
       "<thead><tr><th></th><th scope=col>mean</th><th scope=col>sd</th></tr></thead>\n",
       "<tbody>\n",
       "\t<tr><th scope=row>thresh</th><td>2.7070000 </td><td>0.06408978</td></tr>\n",
       "\t<tr><th scope=row>auc_4folds</th><td>0.6790352 </td><td>0.01200486</td></tr>\n",
       "\t<tr><th scope=row>ci1_4folds</th><td>0.5421489 </td><td>0.01382726</td></tr>\n",
       "\t<tr><th scope=row>ci2_4folds</th><td>0.8159214 </td><td>0.01309314</td></tr>\n",
       "\t<tr><th scope=row>acc_4folds</th><td>0.6815985 </td><td>0.01453229</td></tr>\n",
       "\t<tr><th scope=row>sens_4folds</th><td>0.8738095 </td><td>0.04579853</td></tr>\n",
       "\t<tr><th scope=row>spec_4folds</th><td>0.6219642 </td><td>0.02103979</td></tr>\n",
       "\t<tr><th scope=row>ppv_4folds</th><td>0.9437728 </td><td>0.01487066</td></tr>\n",
       "\t<tr><th scope=row>npv_4folds</th><td>0.4124668 </td><td>0.04783737</td></tr>\n",
       "\t<tr><th scope=row>acc_CV</th><td>0.6883333 </td><td>0.09554415</td></tr>\n",
       "\t<tr><th scope=row>sens_CV</th><td>0.6059524 </td><td>0.07098074</td></tr>\n",
       "\t<tr><th scope=row>spec_CV</th><td>0.8500000 </td><td>0.22360680</td></tr>\n",
       "\t<tr><th scope=row>ppv_CV</th><td>0.9595960 </td><td>0.05578465</td></tr>\n",
       "\t<tr><th scope=row>npv_CV</th><td>0.4166667 </td><td>0.24267033</td></tr>\n",
       "\t<tr><th scope=row>auc_CV</th><td>0.7279762 </td><td>0.09679714</td></tr>\n",
       "\t<tr><th scope=row>ci1_cv</th><td>0.4420397 </td><td>0.22322321</td></tr>\n",
       "\t<tr><th scope=row>ci2_cv</th><td>0.9633664 </td><td>0.03654759</td></tr>\n",
       "</tbody>\n",
       "</table>\n"
      ],
      "text/latex": [
       "\\begin{tabular}{r|ll}\n",
       "  & mean & sd\\\\\n",
       "\\hline\n",
       "\tthresh & 2.7070000  & 0.06408978\\\\\n",
       "\tauc\\_4folds & 0.6790352  & 0.01200486\\\\\n",
       "\tci1\\_4folds & 0.5421489  & 0.01382726\\\\\n",
       "\tci2\\_4folds & 0.8159214  & 0.01309314\\\\\n",
       "\tacc\\_4folds & 0.6815985  & 0.01453229\\\\\n",
       "\tsens\\_4folds & 0.8738095  & 0.04579853\\\\\n",
       "\tspec\\_4folds & 0.6219642  & 0.02103979\\\\\n",
       "\tppv\\_4folds & 0.9437728  & 0.01487066\\\\\n",
       "\tnpv\\_4folds & 0.4124668  & 0.04783737\\\\\n",
       "\tacc\\_CV & 0.6883333  & 0.09554415\\\\\n",
       "\tsens\\_CV & 0.6059524  & 0.07098074\\\\\n",
       "\tspec\\_CV & 0.8500000  & 0.22360680\\\\\n",
       "\tppv\\_CV & 0.9595960  & 0.05578465\\\\\n",
       "\tnpv\\_CV & 0.4166667  & 0.24267033\\\\\n",
       "\tauc\\_CV & 0.7279762  & 0.09679714\\\\\n",
       "\tci1\\_cv & 0.4420397  & 0.22322321\\\\\n",
       "\tci2\\_cv & 0.9633664  & 0.03654759\\\\\n",
       "\\end{tabular}\n"
      ],
      "text/markdown": [
       "\n",
       "| <!--/--> | mean | sd | \n",
       "|---|---|---|---|---|---|---|---|---|---|---|---|---|---|---|---|---|\n",
       "| thresh | 2.7070000  | 0.06408978 | \n",
       "| auc_4folds | 0.6790352  | 0.01200486 | \n",
       "| ci1_4folds | 0.5421489  | 0.01382726 | \n",
       "| ci2_4folds | 0.8159214  | 0.01309314 | \n",
       "| acc_4folds | 0.6815985  | 0.01453229 | \n",
       "| sens_4folds | 0.8738095  | 0.04579853 | \n",
       "| spec_4folds | 0.6219642  | 0.02103979 | \n",
       "| ppv_4folds | 0.9437728  | 0.01487066 | \n",
       "| npv_4folds | 0.4124668  | 0.04783737 | \n",
       "| acc_CV | 0.6883333  | 0.09554415 | \n",
       "| sens_CV | 0.6059524  | 0.07098074 | \n",
       "| spec_CV | 0.8500000  | 0.22360680 | \n",
       "| ppv_CV | 0.9595960  | 0.05578465 | \n",
       "| npv_CV | 0.4166667  | 0.24267033 | \n",
       "| auc_CV | 0.7279762  | 0.09679714 | \n",
       "| ci1_cv | 0.4420397  | 0.22322321 | \n",
       "| ci2_cv | 0.9633664  | 0.03654759 | \n",
       "\n",
       "\n"
      ],
      "text/plain": [
       "            mean      sd        \n",
       "thresh      2.7070000 0.06408978\n",
       "auc_4folds  0.6790352 0.01200486\n",
       "ci1_4folds  0.5421489 0.01382726\n",
       "ci2_4folds  0.8159214 0.01309314\n",
       "acc_4folds  0.6815985 0.01453229\n",
       "sens_4folds 0.8738095 0.04579853\n",
       "spec_4folds 0.6219642 0.02103979\n",
       "ppv_4folds  0.9437728 0.01487066\n",
       "npv_4folds  0.4124668 0.04783737\n",
       "acc_CV      0.6883333 0.09554415\n",
       "sens_CV     0.6059524 0.07098074\n",
       "spec_CV     0.8500000 0.22360680\n",
       "ppv_CV      0.9595960 0.05578465\n",
       "npv_CV      0.4166667 0.24267033\n",
       "auc_CV      0.7279762 0.09679714\n",
       "ci1_cv      0.4420397 0.22322321\n",
       "ci2_cv      0.9633664 0.03654759"
      ]
     },
     "metadata": {},
     "output_type": "display_data"
    }
   ],
   "source": [
    "cni_results = data.frame(mean = apply(scores_nel_cni[,c(3:19)], 2, mean), \n",
    "                         sd = apply(scores_nel_cni[,c(3:19)], 2, sd))\n",
    "cni_results"
   ]
  },
  {
   "cell_type": "code",
   "execution_count": 30,
   "metadata": {},
   "outputs": [
    {
     "data": {
      "text/html": [
       "<table>\n",
       "<thead><tr><th></th><th scope=col>mean</th><th scope=col>std</th></tr></thead>\n",
       "<tbody>\n",
       "\t<tr><th scope=row>thresh</th><td>1.0910000 </td><td>0.03130495</td></tr>\n",
       "\t<tr><th scope=row>auc_4folds</th><td>0.7082125 </td><td>0.02850452</td></tr>\n",
       "\t<tr><th scope=row>ci1_4folds</th><td>0.5705559 </td><td>0.03147362</td></tr>\n",
       "\t<tr><th scope=row>ci2_4folds</th><td>0.8458691 </td><td>0.02732664</td></tr>\n",
       "\t<tr><th scope=row>acc_4folds</th><td>0.6562021 </td><td>0.02811383</td></tr>\n",
       "\t<tr><th scope=row>sens_4folds</th><td>0.7476190 </td><td>0.04864956</td></tr>\n",
       "\t<tr><th scope=row>spec_4folds</th><td>0.6270924 </td><td>0.02861019</td></tr>\n",
       "\t<tr><th scope=row>ppv_4folds</th><td>0.8922746 </td><td>0.01009515</td></tr>\n",
       "\t<tr><th scope=row>npv_4folds</th><td>0.3794074 </td><td>0.05982648</td></tr>\n",
       "\t<tr><th scope=row>acc_CV</th><td>0.6566667 </td><td>0.13433299</td></tr>\n",
       "\t<tr><th scope=row>sens_CV</th><td>0.6166667 </td><td>0.11180340</td></tr>\n",
       "\t<tr><th scope=row>spec_CV</th><td>0.6500000 </td><td>0.22360680</td></tr>\n",
       "\t<tr><th scope=row>ppv_CV</th><td>0.8842063 </td><td>0.07303765</td></tr>\n",
       "\t<tr><th scope=row>npv_CV</th><td>0.3773810 </td><td>0.26378384</td></tr>\n",
       "\t<tr><th scope=row>auc_CV</th><td>0.6333333 </td><td>0.12289901</td></tr>\n",
       "\t<tr><th scope=row>ci1_cv</th><td>0.2440222 </td><td>0.20551248</td></tr>\n",
       "\t<tr><th scope=row>ci2_cv</th><td>0.9720981 </td><td>0.03822913</td></tr>\n",
       "</tbody>\n",
       "</table>\n"
      ],
      "text/latex": [
       "\\begin{tabular}{r|ll}\n",
       "  & mean & std\\\\\n",
       "\\hline\n",
       "\tthresh & 1.0910000  & 0.03130495\\\\\n",
       "\tauc\\_4folds & 0.7082125  & 0.02850452\\\\\n",
       "\tci1\\_4folds & 0.5705559  & 0.03147362\\\\\n",
       "\tci2\\_4folds & 0.8458691  & 0.02732664\\\\\n",
       "\tacc\\_4folds & 0.6562021  & 0.02811383\\\\\n",
       "\tsens\\_4folds & 0.7476190  & 0.04864956\\\\\n",
       "\tspec\\_4folds & 0.6270924  & 0.02861019\\\\\n",
       "\tppv\\_4folds & 0.8922746  & 0.01009515\\\\\n",
       "\tnpv\\_4folds & 0.3794074  & 0.05982648\\\\\n",
       "\tacc\\_CV & 0.6566667  & 0.13433299\\\\\n",
       "\tsens\\_CV & 0.6166667  & 0.11180340\\\\\n",
       "\tspec\\_CV & 0.6500000  & 0.22360680\\\\\n",
       "\tppv\\_CV & 0.8842063  & 0.07303765\\\\\n",
       "\tnpv\\_CV & 0.3773810  & 0.26378384\\\\\n",
       "\tauc\\_CV & 0.6333333  & 0.12289901\\\\\n",
       "\tci1\\_cv & 0.2440222  & 0.20551248\\\\\n",
       "\tci2\\_cv & 0.9720981  & 0.03822913\\\\\n",
       "\\end{tabular}\n"
      ],
      "text/markdown": [
       "\n",
       "| <!--/--> | mean | std | \n",
       "|---|---|---|---|---|---|---|---|---|---|---|---|---|---|---|---|---|\n",
       "| thresh | 1.0910000  | 0.03130495 | \n",
       "| auc_4folds | 0.7082125  | 0.02850452 | \n",
       "| ci1_4folds | 0.5705559  | 0.03147362 | \n",
       "| ci2_4folds | 0.8458691  | 0.02732664 | \n",
       "| acc_4folds | 0.6562021  | 0.02811383 | \n",
       "| sens_4folds | 0.7476190  | 0.04864956 | \n",
       "| spec_4folds | 0.6270924  | 0.02861019 | \n",
       "| ppv_4folds | 0.8922746  | 0.01009515 | \n",
       "| npv_4folds | 0.3794074  | 0.05982648 | \n",
       "| acc_CV | 0.6566667  | 0.13433299 | \n",
       "| sens_CV | 0.6166667  | 0.11180340 | \n",
       "| spec_CV | 0.6500000  | 0.22360680 | \n",
       "| ppv_CV | 0.8842063  | 0.07303765 | \n",
       "| npv_CV | 0.3773810  | 0.26378384 | \n",
       "| auc_CV | 0.6333333  | 0.12289901 | \n",
       "| ci1_cv | 0.2440222  | 0.20551248 | \n",
       "| ci2_cv | 0.9720981  | 0.03822913 | \n",
       "\n",
       "\n"
      ],
      "text/plain": [
       "            mean      std       \n",
       "thresh      1.0910000 0.03130495\n",
       "auc_4folds  0.7082125 0.02850452\n",
       "ci1_4folds  0.5705559 0.03147362\n",
       "ci2_4folds  0.8458691 0.02732664\n",
       "acc_4folds  0.6562021 0.02811383\n",
       "sens_4folds 0.7476190 0.04864956\n",
       "spec_4folds 0.6270924 0.02861019\n",
       "ppv_4folds  0.8922746 0.01009515\n",
       "npv_4folds  0.3794074 0.05982648\n",
       "acc_CV      0.6566667 0.13433299\n",
       "sens_CV     0.6166667 0.11180340\n",
       "spec_CV     0.6500000 0.22360680\n",
       "ppv_CV      0.8842063 0.07303765\n",
       "npv_CV      0.3773810 0.26378384\n",
       "auc_CV      0.6333333 0.12289901\n",
       "ci1_cv      0.2440222 0.20551248\n",
       "ci2_cv      0.9720981 0.03822913"
      ]
     },
     "metadata": {},
     "output_type": "display_data"
    }
   ],
   "source": [
    "scores_nel_ncho = scores_nel[scores_nel$param == \"ncho\",]\n",
    "\n",
    "ncho_results = data.frame(mean = apply(scores_nel_ncho[,c(3:19)], 2, mean),\n",
    "           std = apply(scores_nel_ncho[,c(3:19)], 2, sd))\n",
    "ncho_results"
   ]
  },
  {
   "cell_type": "code",
   "execution_count": 31,
   "metadata": {},
   "outputs": [
    {
     "data": {
      "image/png": "[encoded data removed]",
      "text/plain": [
       "Plot with title “ROC curve of CNI, nCho in all NEL samples”"
      ]
     },
     "metadata": {},
     "output_type": "display_data"
    }
   ],
   "source": [
    "fold = 1\n",
    "data_thresh = data_nel[which(data_nel$fold != fold),]\n",
    "par(cex.axis=1.6, cex.lab=1.6, cex.main=1.8, cex.sub=1)\n",
    "\n",
    "cni_roc = plot.roc(data_nel$outcome, data_nel[,'cni'], levels=c(\"rHGG\", \"txe\"), \n",
    "          percent = TRUE, col = \"#000001\", main = \"ROC curve of CNI, nCho in all NEL samples\", lwd=3, lty = \"dotted\")\n",
    "cho_roc = lines.roc(data_nel$outcome, data_nel$ncho, levels = c('rHGG', 'txe'), percent = TRUE, col = \"#000000\", lwd=3)\n",
    "legend(\"bottomright\", legend=c(\"CNI\", \"nCho\"), col=c(\"#000001\", \"#000000\"), lwd=8, lty = c(\"dotted\", \"solid\"),cex = 1.7)\n",
    "text(x = 30, y = 40, labels = paste('AUC (CNI) = ', round(cni_results['auc_4folds', 'mean'], 2), \n",
    "                                    \" (\",round(cni_results['ci1_4folds', 'mean'], 2) ,\", \",\n",
    "                                    round(cni_results['ci2_4folds', 'mean'], 2), \")\", sep = \"\"), adj = NULL,\n",
    "     pos = NULL, offset = 0.5, vfont = NULL,\n",
    "     cex = 1.1, col = NULL, font = NULL)\n",
    "text(x = 30, y = 30, labels = paste('AUC (nCho) = ', round(ncho_results['auc_4folds', 'mean'], 2), \n",
    "                                    \" (\",round(ncho_results['ci1_4folds', 'mean'], 2) ,\", \",\n",
    "                                    round(ncho_results['ci2_4folds', 'mean'], 2), \")\", sep = \"\"), adj = NULL,\n",
    "     pos = NULL, offset = 0.5, vfont = NULL,\n",
    "     cex = 1.1, col = NULL, font = NULL)\n",
    "\n",
    "\n"
   ]
  },
  {
   "cell_type": "markdown",
   "metadata": {},
   "source": [
    "## CEL"
   ]
  },
  {
   "cell_type": "code",
   "execution_count": 32,
   "metadata": {},
   "outputs": [
    {
     "data": {
      "text/plain": [
       "   Min. 1st Qu.  Median    Mean 3rd Qu.    Max.    NA's \n",
       "  0.010   1.143   1.615   1.899   2.370   5.720      56 "
      ]
     },
     "metadata": {},
     "output_type": "display_data"
    }
   ],
   "source": [
    "summary(data_cel$cbvn_nlin)"
   ]
  },
  {
   "cell_type": "code",
   "execution_count": 33,
   "metadata": {
    "scrolled": true
   },
   "outputs": [
    {
     "data": {
      "image/png": "[encoded data removed]",
      "text/plain": [
       "Plot with title “nCho (NEL)”"
      ]
     },
     "metadata": {},
     "output_type": "display_data"
    }
   ],
   "source": [
    "par(mfrow = c(2, 3))\n",
    "boxplot(cbvn_nlin ~ outcome, data_cel, \n",
    "       main = \"rCBV (CEL)\", \n",
    "       names = c('Tumor', 'Tx Effect'),\n",
    "       col = c('white', 'gray'), \n",
    "       ylab = 'rCBV level')\n",
    "\n",
    "boxplot(cni ~ outcome, data_nel, \n",
    "       main = \"CNI (NEL)\", \n",
    "       names = c('Tumor', 'Tx Effect'),\n",
    "       col = c('white', 'gray'), \n",
    "       ylab = 'CNI level')\n",
    "\n",
    "boxplot(ncho ~ outcome, data_nel, \n",
    "       main = \"nCho (NEL)\", \n",
    "       names = c('Tumor', 'Tx Effect'),\n",
    "       col = c('white', 'gray'), \n",
    "       ylab = 'nCho level')\n"
   ]
  },
  {
   "cell_type": "code",
   "execution_count": 34,
   "metadata": {},
   "outputs": [],
   "source": [
    "scores_cel = data.frame(param = NA, \n",
    "                        folds = NA, \n",
    "                        thresh = NA,\n",
    "                        auc_4folds = NA,\n",
    "                        ci1_4folds = NA, \n",
    "                        ci2_4folds = NA,\n",
    "                        \n",
    "                        acc_4folds = NA,\n",
    "                        sens_4folds = NA, \n",
    "                        spec_4folds = NA, \n",
    "                        ppv_4folds = NA,\n",
    "                        npv_4folds = NA,\n",
    "                        \n",
    "                        acc_CV = NA,\n",
    "                        sens_CV = NA, \n",
    "                        spec_CV = NA,\n",
    "                        ppv_CV = NA,\n",
    "                        npv_CV = NA,\n",
    "                        auc_CV = NA,\n",
    "                        ci1_cv = NA,\n",
    "                        ci2_cv = NA\n",
    "                       )"
   ]
  },
  {
   "cell_type": "code",
   "execution_count": 35,
   "metadata": {},
   "outputs": [],
   "source": [
    "for (col in features_mri){\n",
    "    for (fold in c(1:5)){\n",
    "        data_thresh = data_cel[which(data_cel$fold != fold),]\n",
    "        data_pred = data_cel[which(data_cel$fold == fold),]\n",
    "        roc = roc(data_thresh$outcome, data_thresh[,col], levels=c(\"rHGG\", \"txe\"))\n",
    "#         print(col)\n",
    "#         plot(roc)\n",
    "        thresh = coords(roc, \"best\", best.method=c(\"closest.topleft\"))['threshold']\n",
    "        sens = coords(roc, \"best\", best.method=c(\"closest.topleft\"))['sensitivity']\n",
    "        spec = coords(roc, \"best\", best.method=c(\"closest.topleft\"))['specificity']\n",
    "        \n",
    "        if(col == \"nfa.1\" | col == \"nnaa\"){\n",
    "            preds_4folds = as.factor(ifelse(data_thresh[,col] < thresh, 'rHGG', 'txe'))\n",
    "        }\n",
    "        else{\n",
    "            preds_4folds = as.factor(ifelse(data_thresh[,col] > thresh, 'rHGG', 'txe'))\n",
    "        }\n",
    "        acc_4folds =  confusionMatrix(data = preds_4folds, reference = data_thresh$outcome)$overall['Accuracy']\n",
    "        ppv_4folds =  confusionMatrix(data = preds_4folds, reference = data_thresh$outcome)$byClass['Pos Pred Value']\n",
    "        npv_4folds =  confusionMatrix(data = preds_4folds, reference = data_thresh$outcome)$byClass['Neg Pred Value']\n",
    "\n",
    "        auc = auc(roc)\n",
    "        ci1 = ci.auc(roc)[1]\n",
    "        ci2 = ci.auc(roc)[3]\n",
    "        \n",
    "        if(col == \"nfa.1\" | col == \"nnaa\"){\n",
    "            preds = as.factor(ifelse(data_pred[,col] < thresh, 'rHGG', 'txe'))\n",
    "        }\n",
    "        else{\n",
    "            preds = as.factor(ifelse(data_pred[,col] > thresh, 'rHGG', 'txe'))\n",
    "        }\n",
    "        acc_pred =  confusionMatrix(data = preds, reference = data_pred$outcome)$overall['Accuracy']\n",
    "        sens_pred = confusionMatrix(data = preds, reference = data_pred$outcome)$byClass['Sensitivity']\n",
    "        spec_pred = confusionMatrix(data = preds, reference = data_pred$outcome)$byClass['Specificity']\n",
    "        ppv_pred = confusionMatrix(data = preds, reference = data_pred$outcome)$byClass['Pos Pred Value']\n",
    "        npv_pred = confusionMatrix(data = preds, reference = data_pred$outcome)$byClass['Neg Pred Value']\n",
    "        \n",
    "        outcome_pred_pruned = data_pred$outcome[!is.na(preds)]\n",
    "        outcome_pred_pruned = ifelse(outcome_pred_pruned == 'rHGG', 1, 0)\n",
    "        preds_pruned        = preds[!is.na(preds)]\n",
    "        preds_pruned        = ifelse(preds_pruned == \"rHGG\", 1, 0)\n",
    "\n",
    "        \n",
    "        roc_pred = roc(outcome_pred_pruned, preds_pruned)\n",
    "        auc_pred = auc(roc_pred)\n",
    "        ci1_cv = ci.auc(roc_pred)[1]\n",
    "        ci2_cv = ci.auc(roc_pred)[3]\n",
    "        \n",
    "        newline = c(param = col, \n",
    "                        folds = fold, \n",
    "                        thresh = thresh,\n",
    "                        auc_4folds = auc,\n",
    "                        ci1_4folds = ci1, \n",
    "                        ci2_4folds = ci2, \n",
    "                    \n",
    "                        acc_4folds = acc_4folds,\n",
    "                        sens_4folds = sens, \n",
    "                        spec_4folds = spec, \n",
    "                        ppv_4folds = ppv_4folds, \n",
    "                        npv_4folds = npv_4folds, \n",
    "                    \n",
    "                        acc_CV = acc_pred,\n",
    "                        sens_CV = sens_pred,\n",
    "                        spec_CV = spec_pred, \n",
    "                        ppv_CV = ppv_pred, \n",
    "                        npv_CV = npv_pred,\n",
    "                        auc_CV = auc_pred,\n",
    "                        ci1_cv = ci1_cv,\n",
    "                        ci2_cv = ci2_cv\n",
    "                       )\n",
    "        scores_cel = rbind(scores_cel, newline)\n",
    "\n",
    "    }\n",
    "}"
   ]
  },
  {
   "cell_type": "code",
   "execution_count": 36,
   "metadata": {},
   "outputs": [],
   "source": [
    "for (col in colnames(scores_cel)[2:length(colnames(scores_cel))]){\n",
    "    scores_cel[col] = as.numeric(unlist(scores_cel[col]))\n",
    "}\n"
   ]
  },
  {
   "cell_type": "code",
   "execution_count": 37,
   "metadata": {},
   "outputs": [],
   "source": [
    "scores_cel_cbv = scores_cel[scores_cel$param == \"cbvn_nlin\",]"
   ]
  },
  {
   "cell_type": "code",
   "execution_count": 38,
   "metadata": {},
   "outputs": [],
   "source": [
    "scores_cel_cbv=scores_cel_cbv[-1,]"
   ]
  },
  {
   "cell_type": "code",
   "execution_count": 39,
   "metadata": {},
   "outputs": [
    {
     "data": {
      "text/html": [
       "<table>\n",
       "<thead><tr><th></th><th scope=col>param</th><th scope=col>folds</th><th scope=col>thresh</th><th scope=col>auc_4folds</th><th scope=col>ci1_4folds</th><th scope=col>ci2_4folds</th><th scope=col>acc_4folds</th><th scope=col>sens_4folds</th><th scope=col>spec_4folds</th><th scope=col>ppv_4folds</th><th scope=col>npv_4folds</th><th scope=col>acc_CV</th><th scope=col>sens_CV</th><th scope=col>spec_CV</th><th scope=col>ppv_CV</th><th scope=col>npv_CV</th><th scope=col>auc_CV</th><th scope=col>ci1_cv</th><th scope=col>ci2_cv</th></tr></thead>\n",
       "<tbody>\n",
       "\t<tr><th scope=row>12</th><td>cbvn_nlin </td><td>1         </td><td>1.245     </td><td>0.5927230 </td><td>0.4305397 </td><td>0.7549063 </td><td>0.6506024 </td><td>0.5000000 </td><td>0.6760563 </td><td>0.8888889 </td><td>0.2068966 </td><td>0.6086957 </td><td>0.6666667 </td><td>0.4000000 </td><td>0.8000000 </td><td>0.25000000</td><td>0.5333333 </td><td>0.26842643</td><td>0.7982402 </td></tr>\n",
       "\t<tr><th scope=row>13</th><td>cbvn_nlin </td><td>2         </td><td>1.615     </td><td>0.6436275 </td><td>0.5003713 </td><td>0.7868836 </td><td>0.5783133 </td><td>0.6666667 </td><td>0.5588235 </td><td>0.8837209 </td><td>0.2500000 </td><td>0.4347826 </td><td>0.4285714 </td><td>0.5000000 </td><td>0.9000000 </td><td>0.07692308</td><td>0.5357143 </td><td>0.03386695</td><td>1.0000000 </td></tr>\n",
       "\t<tr><th scope=row>14</th><td>cbvn_nlin </td><td>3         </td><td>1.615     </td><td>0.6547619 </td><td>0.5045246 </td><td>0.8049992 </td><td>0.5617978 </td><td>0.7500000 </td><td>0.5324675 </td><td>0.9318182 </td><td>0.2000000 </td><td>0.4705882 </td><td>0.5000000 </td><td>0.4000000 </td><td>0.6666667 </td><td>0.25000000</td><td>0.5500000 </td><td>0.26813416</td><td>0.8318658 </td></tr>\n",
       "\t<tr><th scope=row>15</th><td>cbvn_nlin </td><td>4         </td><td>1.645     </td><td>0.6034664 </td><td>0.4559660 </td><td>0.7509667 </td><td>0.5609756 </td><td>0.6428571 </td><td>0.5441176 </td><td>0.8809524 </td><td>0.2250000 </td><td>0.4583333 </td><td>0.4285714 </td><td>0.6666667 </td><td>0.9000000 </td><td>0.14285714</td><td>0.5476190 </td><td>0.20342905</td><td>0.8918090 </td></tr>\n",
       "\t<tr><th scope=row>16</th><td>cbvn_nlin </td><td>5         </td><td>1.830     </td><td>0.6101852 </td><td>0.4619098 </td><td>0.7584606 </td><td>0.4827586 </td><td>0.7333333 </td><td>0.4305556 </td><td>0.8857143 </td><td>0.2115385 </td><td>0.5263158 </td><td>0.4705882 </td><td>1.0000000 </td><td>1.0000000 </td><td>0.18181818</td><td>0.7352941 </td><td>0.61300849</td><td>0.8575797 </td></tr>\n",
       "</tbody>\n",
       "</table>\n"
      ],
      "text/latex": [
       "\\begin{tabular}{r|lllllllllllllllllll}\n",
       "  & param & folds & thresh & auc\\_4folds & ci1\\_4folds & ci2\\_4folds & acc\\_4folds & sens\\_4folds & spec\\_4folds & ppv\\_4folds & npv\\_4folds & acc\\_CV & sens\\_CV & spec\\_CV & ppv\\_CV & npv\\_CV & auc\\_CV & ci1\\_cv & ci2\\_cv\\\\\n",
       "\\hline\n",
       "\t12 & cbvn\\_nlin & 1           & 1.245       & 0.5927230   & 0.4305397   & 0.7549063   & 0.6506024   & 0.5000000   & 0.6760563   & 0.8888889   & 0.2068966   & 0.6086957   & 0.6666667   & 0.4000000   & 0.8000000   & 0.25000000  & 0.5333333   & 0.26842643  & 0.7982402  \\\\\n",
       "\t13 & cbvn\\_nlin & 2           & 1.615       & 0.6436275   & 0.5003713   & 0.7868836   & 0.5783133   & 0.6666667   & 0.5588235   & 0.8837209   & 0.2500000   & 0.4347826   & 0.4285714   & 0.5000000   & 0.9000000   & 0.07692308  & 0.5357143   & 0.03386695  & 1.0000000  \\\\\n",
       "\t14 & cbvn\\_nlin & 3           & 1.615       & 0.6547619   & 0.5045246   & 0.8049992   & 0.5617978   & 0.7500000   & 0.5324675   & 0.9318182   & 0.2000000   & 0.4705882   & 0.5000000   & 0.4000000   & 0.6666667   & 0.25000000  & 0.5500000   & 0.26813416  & 0.8318658  \\\\\n",
       "\t15 & cbvn\\_nlin & 4           & 1.645       & 0.6034664   & 0.4559660   & 0.7509667   & 0.5609756   & 0.6428571   & 0.5441176   & 0.8809524   & 0.2250000   & 0.4583333   & 0.4285714   & 0.6666667   & 0.9000000   & 0.14285714  & 0.5476190   & 0.20342905  & 0.8918090  \\\\\n",
       "\t16 & cbvn\\_nlin & 5           & 1.830       & 0.6101852   & 0.4619098   & 0.7584606   & 0.4827586   & 0.7333333   & 0.4305556   & 0.8857143   & 0.2115385   & 0.5263158   & 0.4705882   & 1.0000000   & 1.0000000   & 0.18181818  & 0.7352941   & 0.61300849  & 0.8575797  \\\\\n",
       "\\end{tabular}\n"
      ],
      "text/markdown": [
       "\n",
       "| <!--/--> | param | folds | thresh | auc_4folds | ci1_4folds | ci2_4folds | acc_4folds | sens_4folds | spec_4folds | ppv_4folds | npv_4folds | acc_CV | sens_CV | spec_CV | ppv_CV | npv_CV | auc_CV | ci1_cv | ci2_cv | \n",
       "|---|---|---|---|---|\n",
       "| 12 | cbvn_nlin  | 1          | 1.245      | 0.5927230  | 0.4305397  | 0.7549063  | 0.6506024  | 0.5000000  | 0.6760563  | 0.8888889  | 0.2068966  | 0.6086957  | 0.6666667  | 0.4000000  | 0.8000000  | 0.25000000 | 0.5333333  | 0.26842643 | 0.7982402  | \n",
       "| 13 | cbvn_nlin  | 2          | 1.615      | 0.6436275  | 0.5003713  | 0.7868836  | 0.5783133  | 0.6666667  | 0.5588235  | 0.8837209  | 0.2500000  | 0.4347826  | 0.4285714  | 0.5000000  | 0.9000000  | 0.07692308 | 0.5357143  | 0.03386695 | 1.0000000  | \n",
       "| 14 | cbvn_nlin  | 3          | 1.615      | 0.6547619  | 0.5045246  | 0.8049992  | 0.5617978  | 0.7500000  | 0.5324675  | 0.9318182  | 0.2000000  | 0.4705882  | 0.5000000  | 0.4000000  | 0.6666667  | 0.25000000 | 0.5500000  | 0.26813416 | 0.8318658  | \n",
       "| 15 | cbvn_nlin  | 4          | 1.645      | 0.6034664  | 0.4559660  | 0.7509667  | 0.5609756  | 0.6428571  | 0.5441176  | 0.8809524  | 0.2250000  | 0.4583333  | 0.4285714  | 0.6666667  | 0.9000000  | 0.14285714 | 0.5476190  | 0.20342905 | 0.8918090  | \n",
       "| 16 | cbvn_nlin  | 5          | 1.830      | 0.6101852  | 0.4619098  | 0.7584606  | 0.4827586  | 0.7333333  | 0.4305556  | 0.8857143  | 0.2115385  | 0.5263158  | 0.4705882  | 1.0000000  | 1.0000000  | 0.18181818 | 0.7352941  | 0.61300849 | 0.8575797  | \n",
       "\n",
       "\n"
      ],
      "text/plain": [
       "   param     folds thresh auc_4folds ci1_4folds ci2_4folds acc_4folds\n",
       "12 cbvn_nlin 1     1.245  0.5927230  0.4305397  0.7549063  0.6506024 \n",
       "13 cbvn_nlin 2     1.615  0.6436275  0.5003713  0.7868836  0.5783133 \n",
       "14 cbvn_nlin 3     1.615  0.6547619  0.5045246  0.8049992  0.5617978 \n",
       "15 cbvn_nlin 4     1.645  0.6034664  0.4559660  0.7509667  0.5609756 \n",
       "16 cbvn_nlin 5     1.830  0.6101852  0.4619098  0.7584606  0.4827586 \n",
       "   sens_4folds spec_4folds ppv_4folds npv_4folds acc_CV    sens_CV   spec_CV  \n",
       "12 0.5000000   0.6760563   0.8888889  0.2068966  0.6086957 0.6666667 0.4000000\n",
       "13 0.6666667   0.5588235   0.8837209  0.2500000  0.4347826 0.4285714 0.5000000\n",
       "14 0.7500000   0.5324675   0.9318182  0.2000000  0.4705882 0.5000000 0.4000000\n",
       "15 0.6428571   0.5441176   0.8809524  0.2250000  0.4583333 0.4285714 0.6666667\n",
       "16 0.7333333   0.4305556   0.8857143  0.2115385  0.5263158 0.4705882 1.0000000\n",
       "   ppv_CV    npv_CV     auc_CV    ci1_cv     ci2_cv   \n",
       "12 0.8000000 0.25000000 0.5333333 0.26842643 0.7982402\n",
       "13 0.9000000 0.07692308 0.5357143 0.03386695 1.0000000\n",
       "14 0.6666667 0.25000000 0.5500000 0.26813416 0.8318658\n",
       "15 0.9000000 0.14285714 0.5476190 0.20342905 0.8918090\n",
       "16 1.0000000 0.18181818 0.7352941 0.61300849 0.8575797"
      ]
     },
     "metadata": {},
     "output_type": "display_data"
    }
   ],
   "source": [
    "scores_cel_cbv"
   ]
  },
  {
   "cell_type": "code",
   "execution_count": 40,
   "metadata": {
    "scrolled": false
   },
   "outputs": [
    {
     "data": {
      "text/html": [
       "<table>\n",
       "<thead><tr><th></th><th scope=col>median</th><th scope=col>mean</th><th scope=col>sd</th></tr></thead>\n",
       "<tbody>\n",
       "\t<tr><th scope=row>thresh</th><td>1.6150000 </td><td>1.5900000 </td><td>0.21266170</td></tr>\n",
       "\t<tr><th scope=row>auc_4folds</th><td>0.6101852 </td><td>0.6209528 </td><td>0.02681340</td></tr>\n",
       "\t<tr><th scope=row>ci1_4folds</th><td>0.4619098 </td><td>0.4706623 </td><td>0.03135158</td></tr>\n",
       "\t<tr><th scope=row>ci2_4folds</th><td>0.7584606 </td><td>0.7712433 </td><td>0.02358769</td></tr>\n",
       "\t<tr><th scope=row>acc_4folds</th><td>0.5617978 </td><td>0.5668895 </td><td>0.05974374</td></tr>\n",
       "\t<tr><th scope=row>sens_4folds</th><td>0.6666667 </td><td>0.6585714 </td><td>0.09925459</td></tr>\n",
       "\t<tr><th scope=row>spec_4folds</th><td>0.5441176 </td><td>0.5484041 </td><td>0.08741322</td></tr>\n",
       "\t<tr><th scope=row>ppv_4folds</th><td>0.8857143 </td><td>0.8942189 </td><td>0.02121704</td></tr>\n",
       "\t<tr><th scope=row>npv_4folds</th><td>0.2115385 </td><td>0.2186870 </td><td>0.01974638</td></tr>\n",
       "\t<tr><th scope=row>acc_CV</th><td>0.4705882 </td><td>0.4997431 </td><td>0.06957264</td></tr>\n",
       "\t<tr><th scope=row>sens_CV</th><td>0.4705882 </td><td>0.4988796 </td><td>0.09854014</td></tr>\n",
       "\t<tr><th scope=row>spec_CV</th><td>0.5000000 </td><td>0.5933333 </td><td>0.25210227</td></tr>\n",
       "\t<tr><th scope=row>ppv_CV</th><td>0.9000000 </td><td>0.8533333 </td><td>0.12605114</td></tr>\n",
       "\t<tr><th scope=row>npv_CV</th><td>0.1818182 </td><td>0.1803197 </td><td>0.07383637</td></tr>\n",
       "\t<tr><th scope=row>auc_CV</th><td>0.5476190 </td><td>0.5803922 </td><td>0.08689508</td></tr>\n",
       "\t<tr><th scope=row>ci1_cv</th><td>0.2681342 </td><td>0.2773730 </td><td>0.21070090</td></tr>\n",
       "\t<tr><th scope=row>ci2_cv</th><td>0.8575797 </td><td>0.8758990 </td><td>0.07739442</td></tr>\n",
       "</tbody>\n",
       "</table>\n"
      ],
      "text/latex": [
       "\\begin{tabular}{r|lll}\n",
       "  & median & mean & sd\\\\\n",
       "\\hline\n",
       "\tthresh & 1.6150000  & 1.5900000  & 0.21266170\\\\\n",
       "\tauc\\_4folds & 0.6101852  & 0.6209528  & 0.02681340\\\\\n",
       "\tci1\\_4folds & 0.4619098  & 0.4706623  & 0.03135158\\\\\n",
       "\tci2\\_4folds & 0.7584606  & 0.7712433  & 0.02358769\\\\\n",
       "\tacc\\_4folds & 0.5617978  & 0.5668895  & 0.05974374\\\\\n",
       "\tsens\\_4folds & 0.6666667  & 0.6585714  & 0.09925459\\\\\n",
       "\tspec\\_4folds & 0.5441176  & 0.5484041  & 0.08741322\\\\\n",
       "\tppv\\_4folds & 0.8857143  & 0.8942189  & 0.02121704\\\\\n",
       "\tnpv\\_4folds & 0.2115385  & 0.2186870  & 0.01974638\\\\\n",
       "\tacc\\_CV & 0.4705882  & 0.4997431  & 0.06957264\\\\\n",
       "\tsens\\_CV & 0.4705882  & 0.4988796  & 0.09854014\\\\\n",
       "\tspec\\_CV & 0.5000000  & 0.5933333  & 0.25210227\\\\\n",
       "\tppv\\_CV & 0.9000000  & 0.8533333  & 0.12605114\\\\\n",
       "\tnpv\\_CV & 0.1818182  & 0.1803197  & 0.07383637\\\\\n",
       "\tauc\\_CV & 0.5476190  & 0.5803922  & 0.08689508\\\\\n",
       "\tci1\\_cv & 0.2681342  & 0.2773730  & 0.21070090\\\\\n",
       "\tci2\\_cv & 0.8575797  & 0.8758990  & 0.07739442\\\\\n",
       "\\end{tabular}\n"
      ],
      "text/markdown": [
       "\n",
       "| <!--/--> | median | mean | sd | \n",
       "|---|---|---|---|---|---|---|---|---|---|---|---|---|---|---|---|---|\n",
       "| thresh | 1.6150000  | 1.5900000  | 0.21266170 | \n",
       "| auc_4folds | 0.6101852  | 0.6209528  | 0.02681340 | \n",
       "| ci1_4folds | 0.4619098  | 0.4706623  | 0.03135158 | \n",
       "| ci2_4folds | 0.7584606  | 0.7712433  | 0.02358769 | \n",
       "| acc_4folds | 0.5617978  | 0.5668895  | 0.05974374 | \n",
       "| sens_4folds | 0.6666667  | 0.6585714  | 0.09925459 | \n",
       "| spec_4folds | 0.5441176  | 0.5484041  | 0.08741322 | \n",
       "| ppv_4folds | 0.8857143  | 0.8942189  | 0.02121704 | \n",
       "| npv_4folds | 0.2115385  | 0.2186870  | 0.01974638 | \n",
       "| acc_CV | 0.4705882  | 0.4997431  | 0.06957264 | \n",
       "| sens_CV | 0.4705882  | 0.4988796  | 0.09854014 | \n",
       "| spec_CV | 0.5000000  | 0.5933333  | 0.25210227 | \n",
       "| ppv_CV | 0.9000000  | 0.8533333  | 0.12605114 | \n",
       "| npv_CV | 0.1818182  | 0.1803197  | 0.07383637 | \n",
       "| auc_CV | 0.5476190  | 0.5803922  | 0.08689508 | \n",
       "| ci1_cv | 0.2681342  | 0.2773730  | 0.21070090 | \n",
       "| ci2_cv | 0.8575797  | 0.8758990  | 0.07739442 | \n",
       "\n",
       "\n"
      ],
      "text/plain": [
       "            median    mean      sd        \n",
       "thresh      1.6150000 1.5900000 0.21266170\n",
       "auc_4folds  0.6101852 0.6209528 0.02681340\n",
       "ci1_4folds  0.4619098 0.4706623 0.03135158\n",
       "ci2_4folds  0.7584606 0.7712433 0.02358769\n",
       "acc_4folds  0.5617978 0.5668895 0.05974374\n",
       "sens_4folds 0.6666667 0.6585714 0.09925459\n",
       "spec_4folds 0.5441176 0.5484041 0.08741322\n",
       "ppv_4folds  0.8857143 0.8942189 0.02121704\n",
       "npv_4folds  0.2115385 0.2186870 0.01974638\n",
       "acc_CV      0.4705882 0.4997431 0.06957264\n",
       "sens_CV     0.4705882 0.4988796 0.09854014\n",
       "spec_CV     0.5000000 0.5933333 0.25210227\n",
       "ppv_CV      0.9000000 0.8533333 0.12605114\n",
       "npv_CV      0.1818182 0.1803197 0.07383637\n",
       "auc_CV      0.5476190 0.5803922 0.08689508\n",
       "ci1_cv      0.2681342 0.2773730 0.21070090\n",
       "ci2_cv      0.8575797 0.8758990 0.07739442"
      ]
     },
     "metadata": {},
     "output_type": "display_data"
    }
   ],
   "source": [
    "\n",
    "cbv_results = data.frame(median = apply( scores_cel_cbv[,c(3:19)], 2, median),\n",
    "           mean = apply( scores_cel_cbv[,c(3:19)], 2, mean), sd = apply(scores_cel_cbv[,c(3:19)], 2, sd))\n",
    "cbv_results"
   ]
  },
  {
   "cell_type": "code",
   "execution_count": 41,
   "metadata": {},
   "outputs": [
    {
     "data": {
      "image/png": "[encoded data removed]",
      "text/plain": [
       "Plot with title “Average ROC curve of rCBV (CEL)”"
      ]
     },
     "metadata": {},
     "output_type": "display_data"
    }
   ],
   "source": [
    "fold = 5\n",
    "data_thresh = data_cel[which(data_cel$fold != fold),]\n",
    "par(cex.axis=1.6, cex.lab=1.6, cex.main=1.8, cex.sub=1)\n",
    "cbvn_nlin_roc = plot.roc(data_cel$outcome, data_cel[,'cbvn_nlin'], levels=c(\"rHGG\", \"txe\"), \n",
    "          percent = TRUE, lwd=3, col = \"#000000\", main = \"Average ROC curve of rCBV (CEL)\" )\n",
    "legend(\"bottomright\", legend=c(\"rCBV\"), col=c(\"#000000\"), lwd=10, cex = 1.7)\n",
    "text(x = 80, y = 90, labels = paste('AUC = ', round(cbv_results['auc_4folds', 'mean'], 2), \n",
    "                                    \" (\",round(cbv_results['ci1_4folds', 'mean'], 2) ,\", \",\n",
    "                                    round(cbv_results['ci2_4folds', 'mean'], 2), \")\", sep = \"\"), adj = NULL,\n",
    "     pos = NULL, offset = 0.5, vfont = NULL,\n",
    "     cex = 1.3, col = NULL, font = NULL)"
   ]
  },
  {
   "cell_type": "markdown",
   "metadata": {},
   "source": [
    "## All "
   ]
  },
  {
   "cell_type": "code",
   "execution_count": 42,
   "metadata": {},
   "outputs": [],
   "source": [
    "scores_all = data.frame(param = NA, \n",
    "                        folds = NA, \n",
    "                        thresh = NA,\n",
    "                        sens_4folds = NA, \n",
    "                        spec_4folds = NA, \n",
    "                        sens_CV = NA, \n",
    "                        spec_CV = NA\n",
    "                       )"
   ]
  },
  {
   "cell_type": "code",
   "execution_count": 43,
   "metadata": {},
   "outputs": [],
   "source": [
    "for (col in features_mri){\n",
    "    for (fold in c(1:5)){\n",
    "        data_thresh = data[which(data$fold != fold),]\n",
    "        data_pred = data[which(data$fold == fold),]\n",
    "        roc = roc(data_thresh$outcome, data_thresh[,col], levels=c(\"rHGG\", \"txe\"))\n",
    "        thresh = coords(roc, \"best\", best.method=c(\"closest.topleft\"))['threshold']\n",
    "        sens = coords(roc, \"best\", best.method=c(\"closest.topleft\"))['sensitivity']\n",
    "        spec = coords(roc, \"best\", best.method=c(\"closest.topleft\"))['specificity']\n",
    "        \n",
    "        if(col == \"nfa.1\" | col == \"nnaa\"){\n",
    "            preds = as.factor(ifelse(data_pred[,col] < thresh, 'rHGG', 'txe'))\n",
    "        }\n",
    "        else{\n",
    "            preds = as.factor(ifelse(data_pred[,col] > thresh, 'rHGG', 'txe'))\n",
    "        }\n",
    "        sens_pred = confusionMatrix(data = preds, reference = data_pred$outcome)$byClass['Sensitivity']\n",
    "        spec_pred = confusionMatrix(data = preds, reference = data_pred$outcome)$byClass['Specificity']\n",
    "        \n",
    "        newline = c(param = col, \n",
    "                        folds = fold, \n",
    "                        thresh = thresh,\n",
    "                        sens_4folds = sens, \n",
    "                        spec_4folds = spec, \n",
    "                        sens_CV = sens_pred, \n",
    "                        spec_CV = spec_pred\n",
    "                       )\n",
    "        scores_all = rbind(scores_all, newline)\n",
    "\n",
    "    }\n",
    "}\n",
    "\n"
   ]
  },
  {
   "cell_type": "code",
   "execution_count": 44,
   "metadata": {},
   "outputs": [
    {
     "data": {
      "text/html": [
       "<table>\n",
       "<thead><tr><th scope=col>param</th><th scope=col>folds</th><th scope=col>thresh</th><th scope=col>sens_4folds</th><th scope=col>spec_4folds</th><th scope=col>sens_CV</th><th scope=col>spec_CV</th></tr></thead>\n",
       "<tbody>\n",
       "\t<tr><td>NA               </td><td>NA               </td><td>NA               </td><td>NA               </td><td>NA               </td><td>NA               </td><td>NA               </td></tr>\n",
       "\t<tr><td>nadc.1           </td><td>1                </td><td>1.595            </td><td>0.625            </td><td>0.549707602339181</td><td>0.48780487804878 </td><td>0.3125           </td></tr>\n",
       "\t<tr><td>nadc.1           </td><td>2                </td><td>1.595            </td><td>0.51063829787234 </td><td>0.548192771084337</td><td>0.5              </td><td>0.647058823529412</td></tr>\n",
       "\t<tr><td>nadc.1           </td><td>3                </td><td>1.595            </td><td>0.538461538461538</td><td>0.52046783625731 </td><td>0.609756097560976</td><td>0.583333333333333</td></tr>\n",
       "\t<tr><td>nadc.1           </td><td>4                </td><td>1.645            </td><td>0.490566037735849</td><td>0.545454545454545</td><td>0.425531914893617</td><td>0.818181818181818</td></tr>\n",
       "\t<tr><td>nadc.1           </td><td>5                </td><td>1.595            </td><td>0.571428571428571</td><td>0.52             </td><td>0.621621621621622</td><td>0.375            </td></tr>\n",
       "</tbody>\n",
       "</table>\n"
      ],
      "text/latex": [
       "\\begin{tabular}{r|lllllll}\n",
       " param & folds & thresh & sens\\_4folds & spec\\_4folds & sens\\_CV & spec\\_CV\\\\\n",
       "\\hline\n",
       "\t NA                & NA                & NA                & NA                & NA                & NA                & NA               \\\\\n",
       "\t nadc.1            & 1                 & 1.595             & 0.625             & 0.549707602339181 & 0.48780487804878  & 0.3125           \\\\\n",
       "\t nadc.1            & 2                 & 1.595             & 0.51063829787234  & 0.548192771084337 & 0.5               & 0.647058823529412\\\\\n",
       "\t nadc.1            & 3                 & 1.595             & 0.538461538461538 & 0.52046783625731  & 0.609756097560976 & 0.583333333333333\\\\\n",
       "\t nadc.1            & 4                 & 1.645             & 0.490566037735849 & 0.545454545454545 & 0.425531914893617 & 0.818181818181818\\\\\n",
       "\t nadc.1            & 5                 & 1.595             & 0.571428571428571 & 0.52              & 0.621621621621622 & 0.375            \\\\\n",
       "\\end{tabular}\n"
      ],
      "text/markdown": [
       "\n",
       "param | folds | thresh | sens_4folds | spec_4folds | sens_CV | spec_CV | \n",
       "|---|---|---|---|---|---|\n",
       "| NA                | NA                | NA                | NA                | NA                | NA                | NA                | \n",
       "| nadc.1            | 1                 | 1.595             | 0.625             | 0.549707602339181 | 0.48780487804878  | 0.3125            | \n",
       "| nadc.1            | 2                 | 1.595             | 0.51063829787234  | 0.548192771084337 | 0.5               | 0.647058823529412 | \n",
       "| nadc.1            | 3                 | 1.595             | 0.538461538461538 | 0.52046783625731  | 0.609756097560976 | 0.583333333333333 | \n",
       "| nadc.1            | 4                 | 1.645             | 0.490566037735849 | 0.545454545454545 | 0.425531914893617 | 0.818181818181818 | \n",
       "| nadc.1            | 5                 | 1.595             | 0.571428571428571 | 0.52              | 0.621621621621622 | 0.375             | \n",
       "\n",
       "\n"
      ],
      "text/plain": [
       "  param  folds thresh sens_4folds       spec_4folds       sens_CV          \n",
       "1 NA     NA    NA     NA                NA                NA               \n",
       "2 nadc.1 1     1.595  0.625             0.549707602339181 0.48780487804878 \n",
       "3 nadc.1 2     1.595  0.51063829787234  0.548192771084337 0.5              \n",
       "4 nadc.1 3     1.595  0.538461538461538 0.52046783625731  0.609756097560976\n",
       "5 nadc.1 4     1.645  0.490566037735849 0.545454545454545 0.425531914893617\n",
       "6 nadc.1 5     1.595  0.571428571428571 0.52              0.621621621621622\n",
       "  spec_CV          \n",
       "1 NA               \n",
       "2 0.3125           \n",
       "3 0.647058823529412\n",
       "4 0.583333333333333\n",
       "5 0.818181818181818\n",
       "6 0.375            "
      ]
     },
     "metadata": {},
     "output_type": "display_data"
    }
   ],
   "source": [
    "head(scores_all)"
   ]
  },
  {
   "cell_type": "code",
   "execution_count": null,
   "metadata": {
    "collapsed": true
   },
   "outputs": [],
   "source": []
  }
 ],
 "metadata": {
  "kernelspec": {
   "display_name": "R",
   "language": "R",
   "name": "ir"
  },
  "language_info": {
   "codemirror_mode": "r",
   "file_extension": ".r",
   "mimetype": "text/x-r-source",
   "name": "R",
   "pygments_lexer": "r",
   "version": "3.4.0"
  }
 },
 "nbformat": 4,
 "nbformat_minor": 2
}
