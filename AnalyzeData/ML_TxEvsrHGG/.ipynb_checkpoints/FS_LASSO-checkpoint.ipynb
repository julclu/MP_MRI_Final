{
 "cells": [
  {
   "cell_type": "code",
   "execution_count": 1,
   "metadata": {},
   "outputs": [
    {
     "name": "stderr",
     "output_type": "stream",
     "text": [
      "Loading required package: Matrix\n",
      "Loading required package: foreach\n",
      "Loaded glmnet 2.0-16\n",
      "\n",
      "randomForest 4.6-14\n",
      "Type rfNews() to see new features/changes/bug fixes.\n",
      "\n",
      "Attaching package: ‘dplyr’\n",
      "\n",
      "The following object is masked from ‘package:randomForest’:\n",
      "\n",
      "    combine\n",
      "\n",
      "The following objects are masked from ‘package:stats’:\n",
      "\n",
      "    filter, lag\n",
      "\n",
      "The following objects are masked from ‘package:base’:\n",
      "\n",
      "    intersect, setdiff, setequal, union\n",
      "\n",
      "\n",
      "Attaching package: ‘BBmisc’\n",
      "\n",
      "The following objects are masked from ‘package:dplyr’:\n",
      "\n",
      "    coalesce, collapse\n",
      "\n",
      "Loading required package: lattice\n",
      "Loading required package: ggplot2\n",
      "\n",
      "Attaching package: ‘ggplot2’\n",
      "\n",
      "The following object is masked from ‘package:randomForest’:\n",
      "\n",
      "    margin\n",
      "\n",
      "Type 'citation(\"pROC\")' for a citation.\n",
      "\n",
      "Attaching package: ‘pROC’\n",
      "\n",
      "The following object is masked from ‘package:glmnet’:\n",
      "\n",
      "    auc\n",
      "\n",
      "The following objects are masked from ‘package:stats’:\n",
      "\n",
      "    cov, smooth, var\n",
      "\n"
     ]
    }
   ],
   "source": [
    "library(glmnet)\n",
    "library(randomForest)\n",
    "library(dplyr)\n",
    "library(BBmisc)\n",
    "library(caret)\n",
    "library(pROC)"
   ]
  },
  {
   "cell_type": "code",
   "execution_count": 2,
   "metadata": {},
   "outputs": [
    {
     "data": {
      "text/html": [
       "<ol class=list-inline>\n",
       "\t<li>366</li>\n",
       "\t<li>75</li>\n",
       "</ol>\n"
      ],
      "text/latex": [
       "\\begin{enumerate*}\n",
       "\\item 366\n",
       "\\item 75\n",
       "\\end{enumerate*}\n"
      ],
      "text/markdown": [
       "1. 366\n",
       "2. 75\n",
       "\n",
       "\n"
      ],
      "text/plain": [
       "[1] 366  75"
      ]
     },
     "metadata": {},
     "output_type": "display_data"
    }
   ],
   "source": [
    "data = read.csv('../../AnnotateData/recgli_annotation10_CELorNELorUNK.csv')\n",
    "dim(data)"
   ]
  },
  {
   "cell_type": "code",
   "execution_count": 3,
   "metadata": {},
   "outputs": [
    {
     "data": {
      "text/html": [
       "<ol class=list-inline>\n",
       "\t<li>297</li>\n",
       "\t<li>75</li>\n",
       "</ol>\n"
      ],
      "text/latex": [
       "\\begin{enumerate*}\n",
       "\\item 297\n",
       "\\item 75\n",
       "\\end{enumerate*}\n"
      ],
      "text/markdown": [
       "1. 297\n",
       "2. 75\n",
       "\n",
       "\n"
      ],
      "text/plain": [
       "[1] 297  75"
      ]
     },
     "metadata": {},
     "output_type": "display_data"
    }
   ],
   "source": [
    "data = data[data$outcome == \"rHGG\" | data$outcome == \"txe\", ]\n",
    "dim(data)"
   ]
  },
  {
   "cell_type": "code",
   "execution_count": 4,
   "metadata": {},
   "outputs": [
    {
     "data": {
      "text/html": [
       "<ol class=list-inline>\n",
       "\t<li>291</li>\n",
       "\t<li>75</li>\n",
       "</ol>\n"
      ],
      "text/latex": [
       "\\begin{enumerate*}\n",
       "\\item 291\n",
       "\\item 75\n",
       "\\end{enumerate*}\n"
      ],
      "text/markdown": [
       "1. 291\n",
       "2. 75\n",
       "\n",
       "\n"
      ],
      "text/plain": [
       "[1] 291  75"
      ]
     },
     "metadata": {},
     "output_type": "display_data"
    }
   ],
   "source": [
    "data = data[data$CELorNEL == \"CEL\" | data$CELorNEL == \"NEL\",]\n",
    "dim(data)"
   ]
  },
  {
   "cell_type": "code",
   "execution_count": 5,
   "metadata": {},
   "outputs": [],
   "source": [
    "data = droplevels.data.frame(data)"
   ]
  },
  {
   "cell_type": "code",
   "execution_count": 6,
   "metadata": {},
   "outputs": [
    {
     "data": {
      "text/html": [
       "<ol class=list-inline>\n",
       "\t<li>'vialid'</li>\n",
       "\t<li>'b_number'</li>\n",
       "\t<li>'t_number_x'</li>\n",
       "\t<li>'t_number_y'</li>\n",
       "\t<li>'sf_number'</li>\n",
       "\t<li>'current_scan_date'</li>\n",
       "\t<li>'current_surgery_date'</li>\n",
       "\t<li>'current_hist_grade'</li>\n",
       "\t<li>'current_hist_type'</li>\n",
       "\t<li>'tumor_cell_evaluation'</li>\n",
       "\t<li>'necrosis'</li>\n",
       "\t<li>'mv_hyperplasia'</li>\n",
       "\t<li>'mv_delicate_vasculature'</li>\n",
       "\t<li>'f8_delicate'</li>\n",
       "\t<li>'f8_simple'</li>\n",
       "\t<li>'f8_complex'</li>\n",
       "\t<li>'mib_1'</li>\n",
       "\t<li>'avgerage_cells'</li>\n",
       "\t<li>'treatment_related_ab'</li>\n",
       "\t<li>'bx_pure_treatment_effect'</li>\n",
       "\t<li>'percent_tumor_nuclei'</li>\n",
       "\t<li>'nfl'</li>\n",
       "\t<li>'nfse'</li>\n",
       "\t<li>'nt1c'</li>\n",
       "\t<li>'nt1v'</li>\n",
       "\t<li>'nt1d'</li>\n",
       "\t<li>'nadc.1'</li>\n",
       "\t<li>'nfa.1'</li>\n",
       "\t<li>'nev1.1'</li>\n",
       "\t<li>'nev2.1'</li>\n",
       "\t<li>'nev3.1'</li>\n",
       "\t<li>'nevrad.1'</li>\n",
       "\t<li>'nadc.2'</li>\n",
       "\t<li>'nfa.2'</li>\n",
       "\t<li>'nev1.2'</li>\n",
       "\t<li>'nev2.2'</li>\n",
       "\t<li>'nev3.2'</li>\n",
       "\t<li>'nevrad.2'</li>\n",
       "\t<li>'cbvn_nlin'</li>\n",
       "\t<li>'phn_nlin'</li>\n",
       "\t<li>'recov_nlin'</li>\n",
       "\t<li>'phn_npar'</li>\n",
       "\t<li>'recov_npar'</li>\n",
       "\t<li>'recovn_npar'</li>\n",
       "\t<li>'ccri'</li>\n",
       "\t<li>'cni'</li>\n",
       "\t<li>'crni'</li>\n",
       "\t<li>'ncho'</li>\n",
       "\t<li>'ncre'</li>\n",
       "\t<li>'nnaa'</li>\n",
       "\t<li>'nlac'</li>\n",
       "\t<li>'nlip'</li>\n",
       "\t<li>'newdata'</li>\n",
       "\t<li>'olddata'</li>\n",
       "\t<li>'exclude_bc_hematoma_or_ventricle'</li>\n",
       "\t<li>'exclude_perf'</li>\n",
       "\t<li>'nLL'</li>\n",
       "\t<li>'comments'</li>\n",
       "\t<li>'perf_quant'</li>\n",
       "\t<li>'include_perf'</li>\n",
       "\t<li>'spec_quant'</li>\n",
       "\t<li>'include_spec'</li>\n",
       "\t<li>'diffu1000_quant'</li>\n",
       "\t<li>'diffu2000_quant'</li>\n",
       "\t<li>'exclude_bc_anat'</li>\n",
       "\t<li>'exclude_bc_pathology'</li>\n",
       "\t<li>'include_diffu1000'</li>\n",
       "\t<li>'include_diffu2000'</li>\n",
       "\t<li>'exclude_histology'</li>\n",
       "\t<li>'txe_comments'</li>\n",
       "\t<li>'outcome'</li>\n",
       "\t<li>'in_CEL'</li>\n",
       "\t<li>'in_T2all'</li>\n",
       "\t<li>'in_NEL'</li>\n",
       "\t<li>'CELorNEL'</li>\n",
       "</ol>\n"
      ],
      "text/latex": [
       "\\begin{enumerate*}\n",
       "\\item 'vialid'\n",
       "\\item 'b\\_number'\n",
       "\\item 't\\_number\\_x'\n",
       "\\item 't\\_number\\_y'\n",
       "\\item 'sf\\_number'\n",
       "\\item 'current\\_scan\\_date'\n",
       "\\item 'current\\_surgery\\_date'\n",
       "\\item 'current\\_hist\\_grade'\n",
       "\\item 'current\\_hist\\_type'\n",
       "\\item 'tumor\\_cell\\_evaluation'\n",
       "\\item 'necrosis'\n",
       "\\item 'mv\\_hyperplasia'\n",
       "\\item 'mv\\_delicate\\_vasculature'\n",
       "\\item 'f8\\_delicate'\n",
       "\\item 'f8\\_simple'\n",
       "\\item 'f8\\_complex'\n",
       "\\item 'mib\\_1'\n",
       "\\item 'avgerage\\_cells'\n",
       "\\item 'treatment\\_related\\_ab'\n",
       "\\item 'bx\\_pure\\_treatment\\_effect'\n",
       "\\item 'percent\\_tumor\\_nuclei'\n",
       "\\item 'nfl'\n",
       "\\item 'nfse'\n",
       "\\item 'nt1c'\n",
       "\\item 'nt1v'\n",
       "\\item 'nt1d'\n",
       "\\item 'nadc.1'\n",
       "\\item 'nfa.1'\n",
       "\\item 'nev1.1'\n",
       "\\item 'nev2.1'\n",
       "\\item 'nev3.1'\n",
       "\\item 'nevrad.1'\n",
       "\\item 'nadc.2'\n",
       "\\item 'nfa.2'\n",
       "\\item 'nev1.2'\n",
       "\\item 'nev2.2'\n",
       "\\item 'nev3.2'\n",
       "\\item 'nevrad.2'\n",
       "\\item 'cbvn\\_nlin'\n",
       "\\item 'phn\\_nlin'\n",
       "\\item 'recov\\_nlin'\n",
       "\\item 'phn\\_npar'\n",
       "\\item 'recov\\_npar'\n",
       "\\item 'recovn\\_npar'\n",
       "\\item 'ccri'\n",
       "\\item 'cni'\n",
       "\\item 'crni'\n",
       "\\item 'ncho'\n",
       "\\item 'ncre'\n",
       "\\item 'nnaa'\n",
       "\\item 'nlac'\n",
       "\\item 'nlip'\n",
       "\\item 'newdata'\n",
       "\\item 'olddata'\n",
       "\\item 'exclude\\_bc\\_hematoma\\_or\\_ventricle'\n",
       "\\item 'exclude\\_perf'\n",
       "\\item 'nLL'\n",
       "\\item 'comments'\n",
       "\\item 'perf\\_quant'\n",
       "\\item 'include\\_perf'\n",
       "\\item 'spec\\_quant'\n",
       "\\item 'include\\_spec'\n",
       "\\item 'diffu1000\\_quant'\n",
       "\\item 'diffu2000\\_quant'\n",
       "\\item 'exclude\\_bc\\_anat'\n",
       "\\item 'exclude\\_bc\\_pathology'\n",
       "\\item 'include\\_diffu1000'\n",
       "\\item 'include\\_diffu2000'\n",
       "\\item 'exclude\\_histology'\n",
       "\\item 'txe\\_comments'\n",
       "\\item 'outcome'\n",
       "\\item 'in\\_CEL'\n",
       "\\item 'in\\_T2all'\n",
       "\\item 'in\\_NEL'\n",
       "\\item 'CELorNEL'\n",
       "\\end{enumerate*}\n"
      ],
      "text/markdown": [
       "1. 'vialid'\n",
       "2. 'b_number'\n",
       "3. 't_number_x'\n",
       "4. 't_number_y'\n",
       "5. 'sf_number'\n",
       "6. 'current_scan_date'\n",
       "7. 'current_surgery_date'\n",
       "8. 'current_hist_grade'\n",
       "9. 'current_hist_type'\n",
       "10. 'tumor_cell_evaluation'\n",
       "11. 'necrosis'\n",
       "12. 'mv_hyperplasia'\n",
       "13. 'mv_delicate_vasculature'\n",
       "14. 'f8_delicate'\n",
       "15. 'f8_simple'\n",
       "16. 'f8_complex'\n",
       "17. 'mib_1'\n",
       "18. 'avgerage_cells'\n",
       "19. 'treatment_related_ab'\n",
       "20. 'bx_pure_treatment_effect'\n",
       "21. 'percent_tumor_nuclei'\n",
       "22. 'nfl'\n",
       "23. 'nfse'\n",
       "24. 'nt1c'\n",
       "25. 'nt1v'\n",
       "26. 'nt1d'\n",
       "27. 'nadc.1'\n",
       "28. 'nfa.1'\n",
       "29. 'nev1.1'\n",
       "30. 'nev2.1'\n",
       "31. 'nev3.1'\n",
       "32. 'nevrad.1'\n",
       "33. 'nadc.2'\n",
       "34. 'nfa.2'\n",
       "35. 'nev1.2'\n",
       "36. 'nev2.2'\n",
       "37. 'nev3.2'\n",
       "38. 'nevrad.2'\n",
       "39. 'cbvn_nlin'\n",
       "40. 'phn_nlin'\n",
       "41. 'recov_nlin'\n",
       "42. 'phn_npar'\n",
       "43. 'recov_npar'\n",
       "44. 'recovn_npar'\n",
       "45. 'ccri'\n",
       "46. 'cni'\n",
       "47. 'crni'\n",
       "48. 'ncho'\n",
       "49. 'ncre'\n",
       "50. 'nnaa'\n",
       "51. 'nlac'\n",
       "52. 'nlip'\n",
       "53. 'newdata'\n",
       "54. 'olddata'\n",
       "55. 'exclude_bc_hematoma_or_ventricle'\n",
       "56. 'exclude_perf'\n",
       "57. 'nLL'\n",
       "58. 'comments'\n",
       "59. 'perf_quant'\n",
       "60. 'include_perf'\n",
       "61. 'spec_quant'\n",
       "62. 'include_spec'\n",
       "63. 'diffu1000_quant'\n",
       "64. 'diffu2000_quant'\n",
       "65. 'exclude_bc_anat'\n",
       "66. 'exclude_bc_pathology'\n",
       "67. 'include_diffu1000'\n",
       "68. 'include_diffu2000'\n",
       "69. 'exclude_histology'\n",
       "70. 'txe_comments'\n",
       "71. 'outcome'\n",
       "72. 'in_CEL'\n",
       "73. 'in_T2all'\n",
       "74. 'in_NEL'\n",
       "75. 'CELorNEL'\n",
       "\n",
       "\n"
      ],
      "text/plain": [
       " [1] \"vialid\"                           \"b_number\"                        \n",
       " [3] \"t_number_x\"                       \"t_number_y\"                      \n",
       " [5] \"sf_number\"                        \"current_scan_date\"               \n",
       " [7] \"current_surgery_date\"             \"current_hist_grade\"              \n",
       " [9] \"current_hist_type\"                \"tumor_cell_evaluation\"           \n",
       "[11] \"necrosis\"                         \"mv_hyperplasia\"                  \n",
       "[13] \"mv_delicate_vasculature\"          \"f8_delicate\"                     \n",
       "[15] \"f8_simple\"                        \"f8_complex\"                      \n",
       "[17] \"mib_1\"                            \"avgerage_cells\"                  \n",
       "[19] \"treatment_related_ab\"             \"bx_pure_treatment_effect\"        \n",
       "[21] \"percent_tumor_nuclei\"             \"nfl\"                             \n",
       "[23] \"nfse\"                             \"nt1c\"                            \n",
       "[25] \"nt1v\"                             \"nt1d\"                            \n",
       "[27] \"nadc.1\"                           \"nfa.1\"                           \n",
       "[29] \"nev1.1\"                           \"nev2.1\"                          \n",
       "[31] \"nev3.1\"                           \"nevrad.1\"                        \n",
       "[33] \"nadc.2\"                           \"nfa.2\"                           \n",
       "[35] \"nev1.2\"                           \"nev2.2\"                          \n",
       "[37] \"nev3.2\"                           \"nevrad.2\"                        \n",
       "[39] \"cbvn_nlin\"                        \"phn_nlin\"                        \n",
       "[41] \"recov_nlin\"                       \"phn_npar\"                        \n",
       "[43] \"recov_npar\"                       \"recovn_npar\"                     \n",
       "[45] \"ccri\"                             \"cni\"                             \n",
       "[47] \"crni\"                             \"ncho\"                            \n",
       "[49] \"ncre\"                             \"nnaa\"                            \n",
       "[51] \"nlac\"                             \"nlip\"                            \n",
       "[53] \"newdata\"                          \"olddata\"                         \n",
       "[55] \"exclude_bc_hematoma_or_ventricle\" \"exclude_perf\"                    \n",
       "[57] \"nLL\"                              \"comments\"                        \n",
       "[59] \"perf_quant\"                       \"include_perf\"                    \n",
       "[61] \"spec_quant\"                       \"include_spec\"                    \n",
       "[63] \"diffu1000_quant\"                  \"diffu2000_quant\"                 \n",
       "[65] \"exclude_bc_anat\"                  \"exclude_bc_pathology\"            \n",
       "[67] \"include_diffu1000\"                \"include_diffu2000\"               \n",
       "[69] \"exclude_histology\"                \"txe_comments\"                    \n",
       "[71] \"outcome\"                          \"in_CEL\"                          \n",
       "[73] \"in_T2all\"                         \"in_NEL\"                          \n",
       "[75] \"CELorNEL\"                        "
      ]
     },
     "metadata": {},
     "output_type": "display_data"
    }
   ],
   "source": [
    "colnames(data)"
   ]
  },
  {
   "cell_type": "code",
   "execution_count": 7,
   "metadata": {},
   "outputs": [],
   "source": [
    "id = \"t_number_y\"\n",
    "features = c('nadc.1', 'nfa.1',\n",
    "             'cbvn_nlin', 'recov_npar', \n",
    "             'ccri', 'cni', 'ncre', 'ncho', 'nnaa', \n",
    "             'in_CEL', 'newdata')\n",
    "label = 'outcome'"
   ]
  },
  {
   "cell_type": "code",
   "execution_count": 8,
   "metadata": {},
   "outputs": [
    {
     "data": {
      "text/html": [
       "<table>\n",
       "<thead><tr><th></th><th scope=col>t_number_y</th><th scope=col>nadc.1</th><th scope=col>nfa.1</th><th scope=col>cbvn_nlin</th><th scope=col>recov_npar</th><th scope=col>ccri</th><th scope=col>cni</th><th scope=col>ncre</th><th scope=col>ncho</th><th scope=col>nnaa</th><th scope=col>in_CEL</th><th scope=col>newdata</th><th scope=col>outcome</th></tr></thead>\n",
       "<tbody>\n",
       "\t<tr><th scope=row>1</th><td>10366 </td><td>0.75  </td><td>0.83  </td><td>1.08  </td><td> 98.89</td><td>1.88  </td><td>2.60  </td><td>0.47  </td><td>1.03  </td><td>0.46  </td><td>0     </td><td>1     </td><td>txe   </td></tr>\n",
       "\t<tr><th scope=row>3</th><td>10448 </td><td>1.62  </td><td>0.50  </td><td>2.43  </td><td>100.00</td><td>  NA  </td><td>  NA  </td><td>  NA  </td><td>  NA  </td><td>  NA  </td><td>1     </td><td>1     </td><td>rHGG  </td></tr>\n",
       "\t<tr><th scope=row>4</th><td>10594 </td><td>2.62  </td><td>0.81  </td><td>1.64  </td><td> 78.53</td><td>  NA  </td><td>  NA  </td><td>  NA  </td><td>  NA  </td><td>  NA  </td><td>0     </td><td>1     </td><td>txe   </td></tr>\n",
       "\t<tr><th scope=row>5</th><td>10594 </td><td>2.12  </td><td>0.42  </td><td>0.95  </td><td>100.00</td><td>1.03  </td><td>3.27  </td><td>0.79  </td><td>1.04  </td><td>0.36  </td><td>0     </td><td>1     </td><td>rHGG  </td></tr>\n",
       "\t<tr><th scope=row>6</th><td>10594 </td><td>1.60  </td><td>0.73  </td><td>0.84  </td><td>100.00</td><td>2.33  </td><td>7.57  </td><td>1.07  </td><td>1.61  </td><td>0.13  </td><td>0     </td><td>1     </td><td>rHGG  </td></tr>\n",
       "\t<tr><th scope=row>7</th><td>10594 </td><td>3.03  </td><td>0.42  </td><td>0.42  </td><td>100.00</td><td>2.13  </td><td>4.37  </td><td>1.21  </td><td>1.89  </td><td>0.74  </td><td>0     </td><td>1     </td><td>rHGG  </td></tr>\n",
       "</tbody>\n",
       "</table>\n"
      ],
      "text/latex": [
       "\\begin{tabular}{r|lllllllllllll}\n",
       "  & t\\_number\\_y & nadc.1 & nfa.1 & cbvn\\_nlin & recov\\_npar & ccri & cni & ncre & ncho & nnaa & in\\_CEL & newdata & outcome\\\\\n",
       "\\hline\n",
       "\t1 & 10366  & 0.75   & 0.83   & 1.08   &  98.89 & 1.88   & 2.60   & 0.47   & 1.03   & 0.46   & 0      & 1      & txe   \\\\\n",
       "\t3 & 10448  & 1.62   & 0.50   & 2.43   & 100.00 &   NA   &   NA   &   NA   &   NA   &   NA   & 1      & 1      & rHGG  \\\\\n",
       "\t4 & 10594  & 2.62   & 0.81   & 1.64   &  78.53 &   NA   &   NA   &   NA   &   NA   &   NA   & 0      & 1      & txe   \\\\\n",
       "\t5 & 10594  & 2.12   & 0.42   & 0.95   & 100.00 & 1.03   & 3.27   & 0.79   & 1.04   & 0.36   & 0      & 1      & rHGG  \\\\\n",
       "\t6 & 10594  & 1.60   & 0.73   & 0.84   & 100.00 & 2.33   & 7.57   & 1.07   & 1.61   & 0.13   & 0      & 1      & rHGG  \\\\\n",
       "\t7 & 10594  & 3.03   & 0.42   & 0.42   & 100.00 & 2.13   & 4.37   & 1.21   & 1.89   & 0.74   & 0      & 1      & rHGG  \\\\\n",
       "\\end{tabular}\n"
      ],
      "text/markdown": [
       "\n",
       "| <!--/--> | t_number_y | nadc.1 | nfa.1 | cbvn_nlin | recov_npar | ccri | cni | ncre | ncho | nnaa | in_CEL | newdata | outcome | \n",
       "|---|---|---|---|---|---|\n",
       "| 1 | 10366  | 0.75   | 0.83   | 1.08   |  98.89 | 1.88   | 2.60   | 0.47   | 1.03   | 0.46   | 0      | 1      | txe    | \n",
       "| 3 | 10448  | 1.62   | 0.50   | 2.43   | 100.00 |   NA   |   NA   |   NA   |   NA   |   NA   | 1      | 1      | rHGG   | \n",
       "| 4 | 10594  | 2.62   | 0.81   | 1.64   |  78.53 |   NA   |   NA   |   NA   |   NA   |   NA   | 0      | 1      | txe    | \n",
       "| 5 | 10594  | 2.12   | 0.42   | 0.95   | 100.00 | 1.03   | 3.27   | 0.79   | 1.04   | 0.36   | 0      | 1      | rHGG   | \n",
       "| 6 | 10594  | 1.60   | 0.73   | 0.84   | 100.00 | 2.33   | 7.57   | 1.07   | 1.61   | 0.13   | 0      | 1      | rHGG   | \n",
       "| 7 | 10594  | 3.03   | 0.42   | 0.42   | 100.00 | 2.13   | 4.37   | 1.21   | 1.89   | 0.74   | 0      | 1      | rHGG   | \n",
       "\n",
       "\n"
      ],
      "text/plain": [
       "  t_number_y nadc.1 nfa.1 cbvn_nlin recov_npar ccri cni  ncre ncho nnaa in_CEL\n",
       "1 10366      0.75   0.83  1.08       98.89     1.88 2.60 0.47 1.03 0.46 0     \n",
       "3 10448      1.62   0.50  2.43      100.00       NA   NA   NA   NA   NA 1     \n",
       "4 10594      2.62   0.81  1.64       78.53       NA   NA   NA   NA   NA 0     \n",
       "5 10594      2.12   0.42  0.95      100.00     1.03 3.27 0.79 1.04 0.36 0     \n",
       "6 10594      1.60   0.73  0.84      100.00     2.33 7.57 1.07 1.61 0.13 0     \n",
       "7 10594      3.03   0.42  0.42      100.00     2.13 4.37 1.21 1.89 0.74 0     \n",
       "  newdata outcome\n",
       "1 1       txe    \n",
       "3 1       rHGG   \n",
       "4 1       txe    \n",
       "5 1       rHGG   \n",
       "6 1       rHGG   \n",
       "7 1       rHGG   "
      ]
     },
     "metadata": {},
     "output_type": "display_data"
    }
   ],
   "source": [
    "data_xy = data[,c(id, features, label)]\n",
    "head(data_xy)"
   ]
  },
  {
   "cell_type": "markdown",
   "metadata": {},
   "source": [
    "## missing values indicator: "
   ]
  },
  {
   "cell_type": "code",
   "execution_count": 9,
   "metadata": {},
   "outputs": [],
   "source": [
    "data_xy = data.frame(data_xy, \n",
    "                    hasDiffu = ifelse(is.na(data_xy$nadc.1), 0, 1), \n",
    "                    hasPerf  = ifelse(is.na(data_xy$cbvn_nlin), 0, 1), \n",
    "                    hasSpec  = ifelse(is.na(data_xy$cni), 0, 1))\n"
   ]
  },
  {
   "cell_type": "code",
   "execution_count": 10,
   "metadata": {},
   "outputs": [
    {
     "data": {
      "text/html": [
       "1.615"
      ],
      "text/latex": [
       "1.615"
      ],
      "text/markdown": [
       "1.615"
      ],
      "text/plain": [
       "[1] 1.615"
      ]
     },
     "metadata": {},
     "output_type": "display_data"
    }
   ],
   "source": [
    "col = 'nadc.1'\n",
    "median(data[,col], na.rm = T)"
   ]
  },
  {
   "cell_type": "code",
   "execution_count": 11,
   "metadata": {},
   "outputs": [],
   "source": [
    "for (col in c('nadc.1', 'nfa.1', 'cbvn_nlin', 'recov_npar', 'ccri', 'cni', 'ncre', 'ncho', 'nnaa')){\n",
    "    data_xy[,col] = normalize(data_xy[,col], method = \"standardize\")\n",
    "    #data_xy[,col] = ifelse(is.na(data_xy[,col]), median(data_xy[,col], na.rm = T), data_xy[,col])\n",
    "}"
   ]
  },
  {
   "cell_type": "code",
   "execution_count": 12,
   "metadata": {},
   "outputs": [],
   "source": [
    "indicators = c('hasDiffu', 'hasPerf', 'hasSpec')"
   ]
  },
  {
   "cell_type": "code",
   "execution_count": 13,
   "metadata": {},
   "outputs": [
    {
     "data": {
      "text/html": [
       "<table>\n",
       "<thead><tr><th></th><th scope=col>t_number_y</th><th scope=col>nadc.1</th><th scope=col>nfa.1</th><th scope=col>cbvn_nlin</th><th scope=col>recov_npar</th><th scope=col>ccri</th><th scope=col>cni</th><th scope=col>ncre</th><th scope=col>ncho</th><th scope=col>nnaa</th><th scope=col>in_CEL</th><th scope=col>newdata</th><th scope=col>outcome</th><th scope=col>hasDiffu</th><th scope=col>hasPerf</th><th scope=col>hasSpec</th></tr></thead>\n",
       "<tbody>\n",
       "\t<tr><th scope=row>1</th><td>10366       </td><td>-1.9471996  </td><td> 0.069722093</td><td>-0.44876875 </td><td> 0.7847134  </td><td>-0.14759121 </td><td>-0.3262098  </td><td>-0.2252804  </td><td>-0.2716435  </td><td> 0.2827721  </td><td>0           </td><td>1           </td><td>txe         </td><td>1           </td><td>1           </td><td>1           </td></tr>\n",
       "\t<tr><th scope=row>3</th><td>10448       </td><td>-0.1121856  </td><td>-0.976453897</td><td> 0.79899608 </td><td> 0.8671478  </td><td>         NA </td><td>        NA  </td><td>        NA  </td><td>        NA  </td><td>        NA  </td><td>1           </td><td>1           </td><td>rHGG        </td><td>1           </td><td>1           </td><td>0           </td></tr>\n",
       "\t<tr><th scope=row>4</th><td>10594       </td><td> 1.9970259  </td><td> 0.006317488</td><td> 0.06882258 </td><td>-0.7273273  </td><td>         NA </td><td>        NA  </td><td>        NA  </td><td>        NA  </td><td>        NA  </td><td>0           </td><td>1           </td><td>txe         </td><td>1           </td><td>1           </td><td>0           </td></tr>\n",
       "\t<tr><th scope=row>5</th><td>10594       </td><td> 0.9424202  </td><td>-1.230072319</td><td>-0.56892389 </td><td> 0.8671478  </td><td>-0.44746983 </td><td>-0.1604257  </td><td> 0.2453443  </td><td>-0.2611044  </td><td>-0.0389957  </td><td>0           </td><td>1           </td><td>rHGG        </td><td>1           </td><td>1           </td><td>1           </td></tr>\n",
       "\t<tr><th scope=row>6</th><td>10594       </td><td>-0.1543698  </td><td>-0.247300934</td><td>-0.67059361 </td><td> 0.8671478  </td><td> 0.01116805 </td><td> 0.9035620  </td><td> 0.6571408  </td><td> 0.3396242  </td><td>-0.7790616  </td><td>0           </td><td>1           </td><td>rHGG        </td><td>1           </td><td>1           </td><td>1           </td></tr>\n",
       "\t<tr><th scope=row>7</th><td>10594       </td><td> 2.8618026  </td><td>-1.230072319</td><td>-1.05878712 </td><td> 0.8671478  </td><td>-0.05939162 </td><td> 0.1117572  </td><td> 0.8630391  </td><td> 0.6347189  </td><td> 1.1837219  </td><td>0           </td><td>1           </td><td>rHGG        </td><td>1           </td><td>1           </td><td>1           </td></tr>\n",
       "</tbody>\n",
       "</table>\n"
      ],
      "text/latex": [
       "\\begin{tabular}{r|llllllllllllllll}\n",
       "  & t\\_number\\_y & nadc.1 & nfa.1 & cbvn\\_nlin & recov\\_npar & ccri & cni & ncre & ncho & nnaa & in\\_CEL & newdata & outcome & hasDiffu & hasPerf & hasSpec\\\\\n",
       "\\hline\n",
       "\t1 & 10366        & -1.9471996   &  0.069722093 & -0.44876875  &  0.7847134   & -0.14759121  & -0.3262098   & -0.2252804   & -0.2716435   &  0.2827721   & 0            & 1            & txe          & 1            & 1            & 1           \\\\\n",
       "\t3 & 10448        & -0.1121856   & -0.976453897 &  0.79899608  &  0.8671478   &          NA  &         NA   &         NA   &         NA   &         NA   & 1            & 1            & rHGG         & 1            & 1            & 0           \\\\\n",
       "\t4 & 10594        &  1.9970259   &  0.006317488 &  0.06882258  & -0.7273273   &          NA  &         NA   &         NA   &         NA   &         NA   & 0            & 1            & txe          & 1            & 1            & 0           \\\\\n",
       "\t5 & 10594        &  0.9424202   & -1.230072319 & -0.56892389  &  0.8671478   & -0.44746983  & -0.1604257   &  0.2453443   & -0.2611044   & -0.0389957   & 0            & 1            & rHGG         & 1            & 1            & 1           \\\\\n",
       "\t6 & 10594        & -0.1543698   & -0.247300934 & -0.67059361  &  0.8671478   &  0.01116805  &  0.9035620   &  0.6571408   &  0.3396242   & -0.7790616   & 0            & 1            & rHGG         & 1            & 1            & 1           \\\\\n",
       "\t7 & 10594        &  2.8618026   & -1.230072319 & -1.05878712  &  0.8671478   & -0.05939162  &  0.1117572   &  0.8630391   &  0.6347189   &  1.1837219   & 0            & 1            & rHGG         & 1            & 1            & 1           \\\\\n",
       "\\end{tabular}\n"
      ],
      "text/markdown": [
       "\n",
       "| <!--/--> | t_number_y | nadc.1 | nfa.1 | cbvn_nlin | recov_npar | ccri | cni | ncre | ncho | nnaa | in_CEL | newdata | outcome | hasDiffu | hasPerf | hasSpec | \n",
       "|---|---|---|---|---|---|\n",
       "| 1 | 10366        | -1.9471996   |  0.069722093 | -0.44876875  |  0.7847134   | -0.14759121  | -0.3262098   | -0.2252804   | -0.2716435   |  0.2827721   | 0            | 1            | txe          | 1            | 1            | 1            | \n",
       "| 3 | 10448        | -0.1121856   | -0.976453897 |  0.79899608  |  0.8671478   |          NA  |         NA   |         NA   |         NA   |         NA   | 1            | 1            | rHGG         | 1            | 1            | 0            | \n",
       "| 4 | 10594        |  1.9970259   |  0.006317488 |  0.06882258  | -0.7273273   |          NA  |         NA   |         NA   |         NA   |         NA   | 0            | 1            | txe          | 1            | 1            | 0            | \n",
       "| 5 | 10594        |  0.9424202   | -1.230072319 | -0.56892389  |  0.8671478   | -0.44746983  | -0.1604257   |  0.2453443   | -0.2611044   | -0.0389957   | 0            | 1            | rHGG         | 1            | 1            | 1            | \n",
       "| 6 | 10594        | -0.1543698   | -0.247300934 | -0.67059361  |  0.8671478   |  0.01116805  |  0.9035620   |  0.6571408   |  0.3396242   | -0.7790616   | 0            | 1            | rHGG         | 1            | 1            | 1            | \n",
       "| 7 | 10594        |  2.8618026   | -1.230072319 | -1.05878712  |  0.8671478   | -0.05939162  |  0.1117572   |  0.8630391   |  0.6347189   |  1.1837219   | 0            | 1            | rHGG         | 1            | 1            | 1            | \n",
       "\n",
       "\n"
      ],
      "text/plain": [
       "  t_number_y nadc.1     nfa.1        cbvn_nlin   recov_npar ccri       \n",
       "1 10366      -1.9471996  0.069722093 -0.44876875  0.7847134 -0.14759121\n",
       "3 10448      -0.1121856 -0.976453897  0.79899608  0.8671478          NA\n",
       "4 10594       1.9970259  0.006317488  0.06882258 -0.7273273          NA\n",
       "5 10594       0.9424202 -1.230072319 -0.56892389  0.8671478 -0.44746983\n",
       "6 10594      -0.1543698 -0.247300934 -0.67059361  0.8671478  0.01116805\n",
       "7 10594       2.8618026 -1.230072319 -1.05878712  0.8671478 -0.05939162\n",
       "  cni        ncre       ncho       nnaa       in_CEL newdata outcome hasDiffu\n",
       "1 -0.3262098 -0.2252804 -0.2716435  0.2827721 0      1       txe     1       \n",
       "3         NA         NA         NA         NA 1      1       rHGG    1       \n",
       "4         NA         NA         NA         NA 0      1       txe     1       \n",
       "5 -0.1604257  0.2453443 -0.2611044 -0.0389957 0      1       rHGG    1       \n",
       "6  0.9035620  0.6571408  0.3396242 -0.7790616 0      1       rHGG    1       \n",
       "7  0.1117572  0.8630391  0.6347189  1.1837219 0      1       rHGG    1       \n",
       "  hasPerf hasSpec\n",
       "1 1       1      \n",
       "3 1       0      \n",
       "4 1       0      \n",
       "5 1       1      \n",
       "6 1       1      \n",
       "7 1       1      "
      ]
     },
     "metadata": {},
     "output_type": "display_data"
    }
   ],
   "source": [
    "head(data_xy)"
   ]
  },
  {
   "cell_type": "markdown",
   "metadata": {},
   "source": [
    "## train, test split: "
   ]
  },
  {
   "cell_type": "code",
   "execution_count": 14,
   "metadata": {},
   "outputs": [],
   "source": [
    "unique_tnums = unique(data_xy$t_number_y)\n"
   ]
  },
  {
   "cell_type": "code",
   "execution_count": 15,
   "metadata": {},
   "outputs": [
    {
     "data": {
      "text/html": [
       "<ol class=list-inline>\n",
       "\t<li>10366</li>\n",
       "\t<li>10655</li>\n",
       "\t<li>10748</li>\n",
       "\t<li>11406</li>\n",
       "\t<li>5317</li>\n",
       "\t<li>5535</li>\n",
       "\t<li>5550</li>\n",
       "\t<li>5680</li>\n",
       "\t<li>5730</li>\n",
       "\t<li>5880</li>\n",
       "\t<li>5961</li>\n",
       "\t<li>6241</li>\n",
       "\t<li>6369</li>\n",
       "\t<li>6415</li>\n",
       "\t<li>6472</li>\n",
       "\t<li>6522</li>\n",
       "\t<li>6709</li>\n",
       "\t<li>6929</li>\n",
       "\t<li>7016</li>\n",
       "\t<li>7039</li>\n",
       "\t<li>7540</li>\n",
       "\t<li>7556</li>\n",
       "\t<li>7628</li>\n",
       "\t<li>7759</li>\n",
       "\t<li>8773</li>\n",
       "\t<li>8977</li>\n",
       "\t<li>8995</li>\n",
       "\t<li>9000</li>\n",
       "\t<li>9127</li>\n",
       "\t<li>9213</li>\n",
       "\t<li>9683</li>\n",
       "\t<li>10202</li>\n",
       "\t<li>10160</li>\n",
       "\t<li>10768</li>\n",
       "\t<li>10763</li>\n",
       "</ol>\n"
      ],
      "text/latex": [
       "\\begin{enumerate*}\n",
       "\\item 10366\n",
       "\\item 10655\n",
       "\\item 10748\n",
       "\\item 11406\n",
       "\\item 5317\n",
       "\\item 5535\n",
       "\\item 5550\n",
       "\\item 5680\n",
       "\\item 5730\n",
       "\\item 5880\n",
       "\\item 5961\n",
       "\\item 6241\n",
       "\\item 6369\n",
       "\\item 6415\n",
       "\\item 6472\n",
       "\\item 6522\n",
       "\\item 6709\n",
       "\\item 6929\n",
       "\\item 7016\n",
       "\\item 7039\n",
       "\\item 7540\n",
       "\\item 7556\n",
       "\\item 7628\n",
       "\\item 7759\n",
       "\\item 8773\n",
       "\\item 8977\n",
       "\\item 8995\n",
       "\\item 9000\n",
       "\\item 9127\n",
       "\\item 9213\n",
       "\\item 9683\n",
       "\\item 10202\n",
       "\\item 10160\n",
       "\\item 10768\n",
       "\\item 10763\n",
       "\\end{enumerate*}\n"
      ],
      "text/markdown": [
       "1. 10366\n",
       "2. 10655\n",
       "3. 10748\n",
       "4. 11406\n",
       "5. 5317\n",
       "6. 5535\n",
       "7. 5550\n",
       "8. 5680\n",
       "9. 5730\n",
       "10. 5880\n",
       "11. 5961\n",
       "12. 6241\n",
       "13. 6369\n",
       "14. 6415\n",
       "15. 6472\n",
       "16. 6522\n",
       "17. 6709\n",
       "18. 6929\n",
       "19. 7016\n",
       "20. 7039\n",
       "21. 7540\n",
       "22. 7556\n",
       "23. 7628\n",
       "24. 7759\n",
       "25. 8773\n",
       "26. 8977\n",
       "27. 8995\n",
       "28. 9000\n",
       "29. 9127\n",
       "30. 9213\n",
       "31. 9683\n",
       "32. 10202\n",
       "33. 10160\n",
       "34. 10768\n",
       "35. 10763\n",
       "\n",
       "\n"
      ],
      "text/plain": [
       " [1] 10366 10655 10748 11406  5317  5535  5550  5680  5730  5880  5961  6241\n",
       "[13]  6369  6415  6472  6522  6709  6929  7016  7039  7540  7556  7628  7759\n",
       "[25]  8773  8977  8995  9000  9127  9213  9683 10202 10160 10768 10763"
      ]
     },
     "metadata": {},
     "output_type": "display_data"
    }
   ],
   "source": [
    "# 12\n",
    "set.seed(12)\n",
    "train_tnums = unique_tnums[sample(c(1:length(unique_tnums)), size = round(length(unique_tnums)*.75))]\n",
    "test_tnums = unique_tnums[! unique_tnums %in% train_tnums]\n",
    "test_tnums"
   ]
  },
  {
   "cell_type": "code",
   "execution_count": 16,
   "metadata": {},
   "outputs": [
    {
     "data": {
      "text/plain": [
       "\n",
       "     rHGG       txe \n",
       "0.7628866 0.2371134 "
      ]
     },
     "metadata": {},
     "output_type": "display_data"
    }
   ],
   "source": [
    "table(data_xy$outcome)/sum(table(data_xy$outcome)['rHGG'], table(data_xy$outcome)['txe'])"
   ]
  },
  {
   "cell_type": "code",
   "execution_count": 17,
   "metadata": {},
   "outputs": [
    {
     "data": {
      "text/html": [
       "<ol class=list-inline>\n",
       "\t<li>221</li>\n",
       "\t<li>16</li>\n",
       "</ol>\n"
      ],
      "text/latex": [
       "\\begin{enumerate*}\n",
       "\\item 221\n",
       "\\item 16\n",
       "\\end{enumerate*}\n"
      ],
      "text/markdown": [
       "1. 221\n",
       "2. 16\n",
       "\n",
       "\n"
      ],
      "text/plain": [
       "[1] 221  16"
      ]
     },
     "metadata": {},
     "output_type": "display_data"
    },
    {
     "data": {
      "text/plain": [
       "\n",
       "    rHGG      txe \n",
       "0.760181 0.239819 "
      ]
     },
     "metadata": {},
     "output_type": "display_data"
    }
   ],
   "source": [
    "data_train = data_xy[data_xy$t_number_y %in% train_tnums, ]\n",
    "dim(data_train)\n",
    "table(data_train$outcome)/sum(table(data_train$outcome)['rHGG'], table(data_train$outcome)['txe'])"
   ]
  },
  {
   "cell_type": "code",
   "execution_count": 18,
   "metadata": {},
   "outputs": [
    {
     "data": {
      "text/html": [
       "<ol class=list-inline>\n",
       "\t<li>70</li>\n",
       "\t<li>16</li>\n",
       "</ol>\n"
      ],
      "text/latex": [
       "\\begin{enumerate*}\n",
       "\\item 70\n",
       "\\item 16\n",
       "\\end{enumerate*}\n"
      ],
      "text/markdown": [
       "1. 70\n",
       "2. 16\n",
       "\n",
       "\n"
      ],
      "text/plain": [
       "[1] 70 16"
      ]
     },
     "metadata": {},
     "output_type": "display_data"
    },
    {
     "data": {
      "text/plain": [
       "\n",
       "     rHGG       txe \n",
       "0.7714286 0.2285714 "
      ]
     },
     "metadata": {},
     "output_type": "display_data"
    }
   ],
   "source": [
    "data_test = data_xy[data_xy$t_number_y %in% test_tnums, ]\n",
    "dim(data_test)\n",
    "table(data_test$outcome)/sum(table(data_test$outcome)['rHGG'], table(data_test$outcome)['txe'])"
   ]
  },
  {
   "cell_type": "markdown",
   "metadata": {},
   "source": [
    "## fill in missing data using median of training data: "
   ]
  },
  {
   "cell_type": "code",
   "execution_count": 19,
   "metadata": {},
   "outputs": [],
   "source": [
    "for (col in c('nadc.1', 'nfa.1', 'cbvn_nlin', 'recov_npar', 'ccri', 'cni', 'ncre', 'ncho', 'nnaa')){\n",
    "    med_col = median(data_train[,col],  na.rm = T)\n",
    "    data_train[,col] = ifelse(is.na(data_train[,col]), med_col, data_train[,col])\n",
    "    data_test[,col] =  ifelse(is.na(data_test[,col]) , med_col,  data_test[,col])\n",
    "}"
   ]
  },
  {
   "cell_type": "code",
   "execution_count": 20,
   "metadata": {},
   "outputs": [
    {
     "data": {
      "text/html": [
       "<table>\n",
       "<thead><tr><th></th><th scope=col>colSums.is.na.data_train..</th><th scope=col>colSums.is.na.data_test..</th></tr></thead>\n",
       "<tbody>\n",
       "\t<tr><th scope=row>t_number_y</th><td>0</td><td>0</td></tr>\n",
       "\t<tr><th scope=row>nadc.1</th><td>0</td><td>0</td></tr>\n",
       "\t<tr><th scope=row>nfa.1</th><td>0</td><td>0</td></tr>\n",
       "\t<tr><th scope=row>cbvn_nlin</th><td>0</td><td>0</td></tr>\n",
       "\t<tr><th scope=row>recov_npar</th><td>0</td><td>0</td></tr>\n",
       "\t<tr><th scope=row>ccri</th><td>0</td><td>0</td></tr>\n",
       "\t<tr><th scope=row>cni</th><td>0</td><td>0</td></tr>\n",
       "\t<tr><th scope=row>ncre</th><td>0</td><td>0</td></tr>\n",
       "\t<tr><th scope=row>ncho</th><td>0</td><td>0</td></tr>\n",
       "\t<tr><th scope=row>nnaa</th><td>0</td><td>0</td></tr>\n",
       "\t<tr><th scope=row>in_CEL</th><td>0</td><td>0</td></tr>\n",
       "\t<tr><th scope=row>newdata</th><td>0</td><td>0</td></tr>\n",
       "\t<tr><th scope=row>outcome</th><td>0</td><td>0</td></tr>\n",
       "\t<tr><th scope=row>hasDiffu</th><td>0</td><td>0</td></tr>\n",
       "\t<tr><th scope=row>hasPerf</th><td>0</td><td>0</td></tr>\n",
       "\t<tr><th scope=row>hasSpec</th><td>0</td><td>0</td></tr>\n",
       "</tbody>\n",
       "</table>\n"
      ],
      "text/latex": [
       "\\begin{tabular}{r|ll}\n",
       "  & colSums.is.na.data\\_train.. & colSums.is.na.data\\_test..\\\\\n",
       "\\hline\n",
       "\tt\\_number\\_y & 0 & 0\\\\\n",
       "\tnadc.1 & 0 & 0\\\\\n",
       "\tnfa.1 & 0 & 0\\\\\n",
       "\tcbvn\\_nlin & 0 & 0\\\\\n",
       "\trecov\\_npar & 0 & 0\\\\\n",
       "\tccri & 0 & 0\\\\\n",
       "\tcni & 0 & 0\\\\\n",
       "\tncre & 0 & 0\\\\\n",
       "\tncho & 0 & 0\\\\\n",
       "\tnnaa & 0 & 0\\\\\n",
       "\tin\\_CEL & 0 & 0\\\\\n",
       "\tnewdata & 0 & 0\\\\\n",
       "\toutcome & 0 & 0\\\\\n",
       "\thasDiffu & 0 & 0\\\\\n",
       "\thasPerf & 0 & 0\\\\\n",
       "\thasSpec & 0 & 0\\\\\n",
       "\\end{tabular}\n"
      ],
      "text/markdown": [
       "\n",
       "| <!--/--> | colSums.is.na.data_train.. | colSums.is.na.data_test.. | \n",
       "|---|---|---|---|---|---|---|---|---|---|---|---|---|---|---|---|\n",
       "| t_number_y | 0 | 0 | \n",
       "| nadc.1 | 0 | 0 | \n",
       "| nfa.1 | 0 | 0 | \n",
       "| cbvn_nlin | 0 | 0 | \n",
       "| recov_npar | 0 | 0 | \n",
       "| ccri | 0 | 0 | \n",
       "| cni | 0 | 0 | \n",
       "| ncre | 0 | 0 | \n",
       "| ncho | 0 | 0 | \n",
       "| nnaa | 0 | 0 | \n",
       "| in_CEL | 0 | 0 | \n",
       "| newdata | 0 | 0 | \n",
       "| outcome | 0 | 0 | \n",
       "| hasDiffu | 0 | 0 | \n",
       "| hasPerf | 0 | 0 | \n",
       "| hasSpec | 0 | 0 | \n",
       "\n",
       "\n"
      ],
      "text/plain": [
       "           colSums.is.na.data_train.. colSums.is.na.data_test..\n",
       "t_number_y 0                          0                        \n",
       "nadc.1     0                          0                        \n",
       "nfa.1      0                          0                        \n",
       "cbvn_nlin  0                          0                        \n",
       "recov_npar 0                          0                        \n",
       "ccri       0                          0                        \n",
       "cni        0                          0                        \n",
       "ncre       0                          0                        \n",
       "ncho       0                          0                        \n",
       "nnaa       0                          0                        \n",
       "in_CEL     0                          0                        \n",
       "newdata    0                          0                        \n",
       "outcome    0                          0                        \n",
       "hasDiffu   0                          0                        \n",
       "hasPerf    0                          0                        \n",
       "hasSpec    0                          0                        "
      ]
     },
     "metadata": {},
     "output_type": "display_data"
    }
   ],
   "source": [
    "data.frame(colSums(is.na(data_train)),  colSums(is.na(data_test)))"
   ]
  },
  {
   "cell_type": "markdown",
   "metadata": {},
   "source": [
    "## using lasso: "
   ]
  },
  {
   "cell_type": "code",
   "execution_count": 21,
   "metadata": {},
   "outputs": [
    {
     "data": {
      "text/html": [
       "<ol class=list-inline>\n",
       "\t<li>221</li>\n",
       "\t<li>14</li>\n",
       "</ol>\n"
      ],
      "text/latex": [
       "\\begin{enumerate*}\n",
       "\\item 221\n",
       "\\item 14\n",
       "\\end{enumerate*}\n"
      ],
      "text/markdown": [
       "1. 221\n",
       "2. 14\n",
       "\n",
       "\n"
      ],
      "text/plain": [
       "[1] 221  14"
      ]
     },
     "metadata": {},
     "output_type": "display_data"
    },
    {
     "data": {
      "text/html": [
       "221"
      ],
      "text/latex": [
       "221"
      ],
      "text/markdown": [
       "221"
      ],
      "text/plain": [
       "[1] 221"
      ]
     },
     "metadata": {},
     "output_type": "display_data"
    },
    {
     "data": {
      "text/html": [
       "<ol class=list-inline>\n",
       "\t<li>70</li>\n",
       "\t<li>14</li>\n",
       "</ol>\n"
      ],
      "text/latex": [
       "\\begin{enumerate*}\n",
       "\\item 70\n",
       "\\item 14\n",
       "\\end{enumerate*}\n"
      ],
      "text/markdown": [
       "1. 70\n",
       "2. 14\n",
       "\n",
       "\n"
      ],
      "text/plain": [
       "[1] 70 14"
      ]
     },
     "metadata": {},
     "output_type": "display_data"
    },
    {
     "data": {
      "text/html": [
       "70"
      ],
      "text/latex": [
       "70"
      ],
      "text/markdown": [
       "70"
      ],
      "text/plain": [
       "[1] 70"
      ]
     },
     "metadata": {},
     "output_type": "display_data"
    }
   ],
   "source": [
    "x_train = as.matrix(data_train[,c(features, indicators)])\n",
    "y_train = as.matrix(ifelse(data_train[,label]==\"txe\", 0, 1))\n",
    "x_test = as.matrix(data_test[,c(features, indicators)])\n",
    "y_test = as.matrix(ifelse(data_test[,label]==\"txe\", 0, 1))\n",
    "\n",
    "dim(x_train)\n",
    "length(y_train)\n",
    "dim(x_test)\n",
    "length(y_test)"
   ]
  },
  {
   "cell_type": "code",
   "execution_count": 22,
   "metadata": {},
   "outputs": [],
   "source": [
    "write.csv(x_train, 'x_train_lasso.csv', row.names = F)\n",
    "write.csv(x_test, 'x_test_lasso.csv', row.names = F)\n",
    "write.csv(y_train, 'y_train_lasso.csv', row.names = F)\n",
    "write.csv(y_test, \"y_test_lasso.csv\", row.names = F)"
   ]
  },
  {
   "cell_type": "code",
   "execution_count": 23,
   "metadata": {},
   "outputs": [],
   "source": [
    "lambdas_to_try <- 10^seq(-5, 5, length.out = 100)"
   ]
  },
  {
   "cell_type": "code",
   "execution_count": 32,
   "metadata": {},
   "outputs": [],
   "source": [
    "x_train_tst = read.csv('x_train_py.csv')\n",
    "x_test_tst = read.csv('x_test_py.csv')"
   ]
  },
  {
   "cell_type": "code",
   "execution_count": 34,
   "metadata": {},
   "outputs": [
    {
     "data": {
      "text/plain": [
       "     nadc.1              nfa.1            cbvn_nlin          recov_npar      \n",
       " Min.   :-2.440867   Min.   :-1.66021   Min.   :-1.44042   Min.   :-3.28969  \n",
       " 1st Qu.:-0.655795   1st Qu.:-0.69794   1st Qu.:-0.43207   1st Qu.:-0.06729  \n",
       " Median :-0.160238   Median :-0.24887   Median :-0.28140   Median : 0.33291  \n",
       " Mean   :-0.008148   Mean   :-0.01265   Mean   :-0.10016   Mean   : 0.11850  \n",
       " 3rd Qu.: 0.543134   3rd Qu.: 0.45679   3rd Qu.:-0.06814   3rd Qu.: 0.63225  \n",
       " Max.   : 3.953421   Max.   : 3.31154   Max.   : 3.86326   Max.   : 0.89561  \n",
       "      ccri               cni               ncho               ncre         \n",
       " Min.   :-3.11117   Min.   :-1.9489   Min.   :-1.63005   Min.   :-2.57729  \n",
       " 1st Qu.:-0.19981   1st Qu.:-0.2056   1st Qu.:-0.20489   1st Qu.:-0.12195  \n",
       " Median :-0.19226   Median :-0.1833   Median :-0.20489   Median :-0.11850  \n",
       " Mean   :-0.09369   Mean   :-0.0893   Mean   :-0.09984   Mean   :-0.05774  \n",
       " 3rd Qu.:-0.18640   3rd Qu.:-0.1768   3rd Qu.:-0.19252   3rd Qu.:-0.10123  \n",
       " Max.   : 5.15292   Max.   : 5.0972   Max.   : 5.22853   Max.   : 6.26331  \n",
       "      nnaa            newdata          hasDiffu         hasPerf      \n",
       " Min.   :-1.5650   Min.   :0.0000   Min.   :0.0000   Min.   :0.0000  \n",
       " 1st Qu.:-0.2459   1st Qu.:0.0000   1st Qu.:1.0000   1st Qu.:0.0000  \n",
       " Median :-0.2138   Median :1.0000   Median :1.0000   Median :1.0000  \n",
       " Mean   :-0.1042   Mean   :0.5593   Mean   :0.9492   Mean   :0.6441  \n",
       " 3rd Qu.:-0.1736   3rd Qu.:1.0000   3rd Qu.:1.0000   3rd Qu.:1.0000  \n",
       " Max.   : 4.2582   Max.   :1.0000   Max.   :1.0000   Max.   :1.0000  \n",
       "    hasSpec           in_CEL     \n",
       " Min.   :0.0000   Min.   :0.000  \n",
       " 1st Qu.:0.0000   1st Qu.:0.000  \n",
       " Median :1.0000   Median :1.000  \n",
       " Mean   :0.5127   Mean   :0.572  \n",
       " 3rd Qu.:1.0000   3rd Qu.:1.000  \n",
       " Max.   :1.0000   Max.   :1.000  "
      ]
     },
     "metadata": {},
     "output_type": "display_data"
    }
   ],
   "source": [
    "x_train_tst = as.matrix(x_train_tst[,-c(1,2)])\n",
    "x_test_tst = as.matrix(x_test_tst[,-c(1,2)])\n",
    "\n",
    "summary(x_train_tst)"
   ]
  },
  {
   "cell_type": "code",
   "execution_count": 35,
   "metadata": {},
   "outputs": [],
   "source": [
    "y_train_tst = as.matrix(read.csv('y_train_py.csv', header = F))\n",
    "y_test_tst = as.matrix(read.csv('y_test_py.csv', header = F))"
   ]
  },
  {
   "cell_type": "code",
   "execution_count": 36,
   "metadata": {},
   "outputs": [],
   "source": [
    "lasso_cv_tst <- cv.glmnet(x_train_tst, y_train_tst, alpha = 1, lambda = lambdas_to_try,\n",
    "                      standardize = TRUE, nfolds = 10, family = \"binomial\")\n",
    "lasso_cv <- cv.glmnet(x_train, y_train, alpha = 1, lambda = lambdas_to_try, \n",
    "                     standardize = TRUE, nfolds = 10, family =\"binomial\")"
   ]
  },
  {
   "cell_type": "code",
   "execution_count": 37,
   "metadata": {},
   "outputs": [
    {
     "data": {
      "image/png": "[encoded data removed]",
      "text/plain": [
       "Plot with title “x_train from selectKBest”"
      ]
     },
     "metadata": {},
     "output_type": "display_data"
    }
   ],
   "source": [
    "par(mfrow = c(2,1))\n",
    "plot(lasso_cv, main = \"x_train from here\")\n",
    "plot(lasso_cv_tst, main = \"x_train from selectKBest\")"
   ]
  },
  {
   "cell_type": "code",
   "execution_count": 38,
   "metadata": {},
   "outputs": [
    {
     "data": {
      "text/html": [
       "0.0215443469003188"
      ],
      "text/latex": [
       "0.0215443469003188"
      ],
      "text/markdown": [
       "0.0215443469003188"
      ],
      "text/plain": [
       "[1] 0.02154435"
      ]
     },
     "metadata": {},
     "output_type": "display_data"
    },
    {
     "data": {
      "text/html": [
       "0.0215443469003188"
      ],
      "text/latex": [
       "0.0215443469003188"
      ],
      "text/markdown": [
       "0.0215443469003188"
      ],
      "text/plain": [
       "[1] 0.02154435"
      ]
     },
     "metadata": {},
     "output_type": "display_data"
    }
   ],
   "source": [
    "lambda_cv <- lasso_cv$lambda.min\n",
    "lambda_cv_tst <- lasso_cv_tst$lambda.min\n",
    "lambda_cv\n",
    "lambda_cv_tst"
   ]
  },
  {
   "cell_type": "code",
   "execution_count": 39,
   "metadata": {},
   "outputs": [
    {
     "data": {
      "text/plain": [
       "y_train\n",
       "  0   1 \n",
       " 53 168 "
      ]
     },
     "metadata": {},
     "output_type": "display_data"
    }
   ],
   "source": [
    "table(y_train)"
   ]
  },
  {
   "cell_type": "code",
   "execution_count": 40,
   "metadata": {},
   "outputs": [
    {
     "data": {
      "text/plain": [
       "y_train_tst\n",
       "  0   1 \n",
       " 55 181 "
      ]
     },
     "metadata": {},
     "output_type": "display_data"
    }
   ],
   "source": [
    "table(y_train_tst)"
   ]
  },
  {
   "cell_type": "code",
   "execution_count": 42,
   "metadata": {},
   "outputs": [],
   "source": [
    "model_cv_tst <- glmnet(x_train_tst, y_train_tst, alpha = 1, lambda = lambda_cv_tst, standardize = FALSE, family = \"binomial\")\n",
    "model_cv <- glmnet(x_train, y_train, alpha = 1, lambda = lambda_cv, standardize = FALSE, family = 'binomial')"
   ]
  },
  {
   "cell_type": "code",
   "execution_count": 43,
   "metadata": {},
   "outputs": [
    {
     "data": {
      "text/plain": [
       "15 x 1 sparse Matrix of class \"dgCMatrix\"\n",
       "                   s0\n",
       "(Intercept) 1.0876938\n",
       "nadc.1      .        \n",
       "nfa.1       .        \n",
       "cbvn_nlin   0.3756339\n",
       "recov_npar  0.5708387\n",
       "ccri        .        \n",
       "cni         .        \n",
       "ncre        .        \n",
       "ncho        0.2292321\n",
       "nnaa        .        \n",
       "in_CEL      .        \n",
       "newdata     0.1212063\n",
       "hasDiffu    .        \n",
       "hasPerf     .        \n",
       "hasSpec     .        "
      ]
     },
     "metadata": {},
     "output_type": "display_data"
    },
    {
     "data": {
      "text/plain": [
       "15 x 1 sparse Matrix of class \"dgCMatrix\"\n",
       "                    s0\n",
       "(Intercept) 0.92384716\n",
       "nadc.1      .         \n",
       "nfa.1       .         \n",
       "cbvn_nlin   0.25653869\n",
       "recov_npar  0.21255394\n",
       "ccri        .         \n",
       "cni         0.14522442\n",
       "ncho        0.00658416\n",
       "ncre        .         \n",
       "nnaa        .         \n",
       "newdata     0.50150638\n",
       "hasDiffu    .         \n",
       "hasPerf     0.01514091\n",
       "hasSpec     0.07344676\n",
       "in_CEL      .         "
      ]
     },
     "metadata": {},
     "output_type": "display_data"
    }
   ],
   "source": [
    "coef(model_cv)\n",
    "coef(model_cv_tst)"
   ]
  },
  {
   "cell_type": "code",
   "execution_count": 44,
   "metadata": {},
   "outputs": [],
   "source": [
    "y_hat_train_tst = predict(model_cv, newx = x_train_tst, type = \"class\")\n",
    "y_hat_test_tst <- predict(model_cv, newx = x_test_tst, type = \"class\")\n"
   ]
  },
  {
   "cell_type": "code",
   "execution_count": 45,
   "metadata": {},
   "outputs": [],
   "source": [
    "y_hat_train= predict(model_cv, newx = x_train, type = \"class\")\n",
    "y_hat_test <- predict(model_cv, newx = x_test, type = \"class\")"
   ]
  },
  {
   "cell_type": "code",
   "execution_count": 46,
   "metadata": {},
   "outputs": [
    {
     "data": {
      "text/plain": [
       "Confusion Matrix and Statistics\n",
       "\n",
       "          Reference\n",
       "Prediction   0   1\n",
       "         0   6   4\n",
       "         1  47 164\n",
       "                                         \n",
       "               Accuracy : 0.7692         \n",
       "                 95% CI : (0.708, 0.8231)\n",
       "    No Information Rate : 0.7602         \n",
       "    P-Value [Acc > NIR] : 0.4117         \n",
       "                                         \n",
       "                  Kappa : 0.1238         \n",
       " Mcnemar's Test P-Value : 4.074e-09      \n",
       "                                         \n",
       "            Sensitivity : 0.11321        \n",
       "            Specificity : 0.97619        \n",
       "         Pos Pred Value : 0.60000        \n",
       "         Neg Pred Value : 0.77725        \n",
       "             Prevalence : 0.23982        \n",
       "         Detection Rate : 0.02715        \n",
       "   Detection Prevalence : 0.04525        \n",
       "      Balanced Accuracy : 0.54470        \n",
       "                                         \n",
       "       'Positive' Class : 0              \n",
       "                                         "
      ]
     },
     "metadata": {},
     "output_type": "display_data"
    },
    {
     "data": {
      "text/plain": [
       "Confusion Matrix and Statistics\n",
       "\n",
       "          Reference\n",
       "Prediction   0   1\n",
       "         0   5   5\n",
       "         1  50 176\n",
       "                                          \n",
       "               Accuracy : 0.7669          \n",
       "                 95% CI : (0.7077, 0.8193)\n",
       "    No Information Rate : 0.7669          \n",
       "    P-Value [Acc > NIR] : 0.5361          \n",
       "                                          \n",
       "                  Kappa : 0.0885          \n",
       " Mcnemar's Test P-Value : 2.975e-09       \n",
       "                                          \n",
       "            Sensitivity : 0.09091         \n",
       "            Specificity : 0.97238         \n",
       "         Pos Pred Value : 0.50000         \n",
       "         Neg Pred Value : 0.77876         \n",
       "             Prevalence : 0.23305         \n",
       "         Detection Rate : 0.02119         \n",
       "   Detection Prevalence : 0.04237         \n",
       "      Balanced Accuracy : 0.53164         \n",
       "                                          \n",
       "       'Positive' Class : 0               \n",
       "                                          "
      ]
     },
     "metadata": {},
     "output_type": "display_data"
    }
   ],
   "source": [
    "confusionMatrix(data = as.factor(y_hat_train), reference = as.factor(y_train))\n",
    "confusionMatrix(data = as.factor(y_hat_train_tst), reference = as.factor(y_train_tst))\n"
   ]
  },
  {
   "cell_type": "code",
   "execution_count": 49,
   "metadata": {},
   "outputs": [
    {
     "data": {
      "text/plain": [
       "Confusion Matrix and Statistics\n",
       "\n",
       "          Reference\n",
       "Prediction  0  1\n",
       "         0  0  6\n",
       "         1 16 48\n",
       "                                          \n",
       "               Accuracy : 0.6857          \n",
       "                 95% CI : (0.5637, 0.7915)\n",
       "    No Information Rate : 0.7714          \n",
       "    P-Value [Acc > NIR] : 0.96405         \n",
       "                                          \n",
       "                  Kappa : -0.1424         \n",
       " Mcnemar's Test P-Value : 0.05501         \n",
       "                                          \n",
       "            Sensitivity : 0.00000         \n",
       "            Specificity : 0.88889         \n",
       "         Pos Pred Value : 0.00000         \n",
       "         Neg Pred Value : 0.75000         \n",
       "             Prevalence : 0.22857         \n",
       "         Detection Rate : 0.00000         \n",
       "   Detection Prevalence : 0.08571         \n",
       "      Balanced Accuracy : 0.44444         \n",
       "                                          \n",
       "       'Positive' Class : 0               \n",
       "                                          "
      ]
     },
     "metadata": {},
     "output_type": "display_data"
    },
    {
     "name": "stderr",
     "output_type": "stream",
     "text": [
      "Warning message in confusionMatrix.default(data = as.factor(y_hat_test_tst), reference = as.factor(y_test_tst)):\n",
      "“Levels are not in the same order for reference and data. Refactoring data to match.”"
     ]
    },
    {
     "data": {
      "text/plain": [
       "Confusion Matrix and Statistics\n",
       "\n",
       "          Reference\n",
       "Prediction  0  1\n",
       "         0  0  0\n",
       "         1 14 41\n",
       "                                        \n",
       "               Accuracy : 0.7455        \n",
       "                 95% CI : (0.61, 0.8533)\n",
       "    No Information Rate : 0.7455        \n",
       "    P-Value [Acc > NIR] : 0.571200      \n",
       "                                        \n",
       "                  Kappa : 0             \n",
       " Mcnemar's Test P-Value : 0.000512      \n",
       "                                        \n",
       "            Sensitivity : 0.0000        \n",
       "            Specificity : 1.0000        \n",
       "         Pos Pred Value :    NaN        \n",
       "         Neg Pred Value : 0.7455        \n",
       "             Prevalence : 0.2545        \n",
       "         Detection Rate : 0.0000        \n",
       "   Detection Prevalence : 0.0000        \n",
       "      Balanced Accuracy : 0.5000        \n",
       "                                        \n",
       "       'Positive' Class : 0             \n",
       "                                        "
      ]
     },
     "metadata": {},
     "output_type": "display_data"
    }
   ],
   "source": [
    "confusionMatrix(data = as.factor(y_hat_test), reference = as.factor(y_test))\n",
    "confusionMatrix(data = as.factor(y_hat_test_tst), reference = as.factor(y_test_tst))"
   ]
  },
  {
   "cell_type": "code",
   "execution_count": 51,
   "metadata": {},
   "outputs": [
    {
     "data": {
      "text/plain": [
       "\n",
       "Call:\n",
       "roc.default(response = as.numeric(y_test), predictor = as.numeric(y_hat_test))\n",
       "\n",
       "Data: as.numeric(y_hat_test) in 16 controls (as.numeric(y_test) 0) < 54 cases (as.numeric(y_test) 1).\n",
       "Area under the curve: 0.4444"
      ]
     },
     "metadata": {},
     "output_type": "display_data"
    },
    {
     "data": {
      "text/plain": [
       "\n",
       "Call:\n",
       "roc.default(response = as.numeric(y_test_tst), predictor = as.numeric(y_hat_test_tst))\n",
       "\n",
       "Data: as.numeric(y_hat_test_tst) in 14 controls (as.numeric(y_test_tst) 0) < 41 cases (as.numeric(y_test_tst) 1).\n",
       "Area under the curve: 0.5"
      ]
     },
     "metadata": {},
     "output_type": "display_data"
    }
   ],
   "source": [
    "roc( as.numeric(y_test), as.numeric(y_hat_test ))\n",
    "\n",
    "roc(as.numeric(y_test_tst), as.numeric(y_hat_test_tst))"
   ]
  },
  {
   "cell_type": "code",
   "execution_count": 52,
   "metadata": {},
   "outputs": [
    {
     "data": {
      "image/png": "[encoded data removed]",
      "text/plain": [
       "plot without title"
      ]
     },
     "metadata": {},
     "output_type": "display_data"
    }
   ],
   "source": [
    "# See how increasing lambda shrinks the coefficients --------------------------\n",
    "# Each line shows coefficients for one variables, for different lambdas.\n",
    "# The higher the lambda, the more the coefficients are shrinked towards zero.\n",
    "res <- glmnet(x_train, y_train, alpha = 1, lambda = lambdas_to_try, standardize = FALSE, family = \"binomial\")\n",
    "plot(res, xvar = \"lambda\", col = 1:13)\n",
    "legend(\"bottomright\", lwd = 1, col = 1:13, legend = colnames(x_train), cex = .7)"
   ]
  },
  {
   "cell_type": "code",
   "execution_count": 53,
   "metadata": {},
   "outputs": [
    {
     "data": {
      "image/png": "[encoded data removed]",
      "text/plain": [
       "plot without title"
      ]
     },
     "metadata": {},
     "output_type": "display_data"
    }
   ],
   "source": [
    "# See how increasing lambda shrinks the coefficients --------------------------\n",
    "# Each line shows coefficients for one variables, for different lambdas.\n",
    "# The higher the lambda, the more the coefficients are shrinked towards zero.\n",
    "res <- glmnet(x_train_tst, y_train_tst, alpha = 1, lambda = lambdas_to_try, standardize = FALSE, family = \"binomial\")\n",
    "plot(res, xvar = \"lambda\", col = 1:13)\n",
    "legend(\"bottomright\", lwd = 1, col = 1:13, legend = colnames(x_train_tst), cex = .7)"
   ]
  },
  {
   "cell_type": "code",
   "execution_count": null,
   "metadata": {},
   "outputs": [],
   "source": []
  }
 ],
 "metadata": {
  "kernelspec": {
   "display_name": "R",
   "language": "R",
   "name": "ir"
  },
  "language_info": {
   "codemirror_mode": "r",
   "file_extension": ".r",
   "mimetype": "text/x-r-source",
   "name": "R",
   "pygments_lexer": "r",
   "version": "3.4.0"
  }
 },
 "nbformat": 4,
 "nbformat_minor": 2
}
