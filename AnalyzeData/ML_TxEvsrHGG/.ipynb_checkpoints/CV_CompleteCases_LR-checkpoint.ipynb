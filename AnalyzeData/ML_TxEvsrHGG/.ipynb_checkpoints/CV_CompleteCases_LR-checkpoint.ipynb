{
 "cells": [
  {
   "cell_type": "markdown",
   "metadata": {},
   "source": [
    "## Introduction"
   ]
  },
  {
   "cell_type": "markdown",
   "metadata": {},
   "source": [
    "In this notebook, we will use the 61 patients with fully complete data from all MRI scans and see what we can learn about whether the parameters associate with tumor score outcome. "
   ]
  },
  {
   "cell_type": "markdown",
   "metadata": {},
   "source": [
    "## Prepare the data"
   ]
  },
  {
   "cell_type": "code",
   "execution_count": 1,
   "metadata": {},
   "outputs": [],
   "source": [
    "options(repr.matrix.max.rows=600, repr.matrix.max.cols=200)"
   ]
  },
  {
   "cell_type": "code",
   "execution_count": 2,
   "metadata": {},
   "outputs": [
    {
     "name": "stderr",
     "output_type": "stream",
     "text": [
      "randomForest 4.6-14\n",
      "Type rfNews() to see new features/changes/bug fixes.\n",
      "\n",
      " randomForestSRC 2.7.0 \n",
      " \n",
      " Type rfsrc.news() to see new features, changes, and bug fixes. \n",
      " \n",
      "\n",
      "Loading required package: lattice\n",
      "Loading required package: ggplot2\n",
      "\n",
      "Attaching package: ‘ggplot2’\n",
      "\n",
      "The following object is masked from ‘package:randomForest’:\n",
      "\n",
      "    margin\n",
      "\n"
     ]
    }
   ],
   "source": [
    "library(randomForest)\n",
    "library(randomForestSRC)\n",
    "library(caret)"
   ]
  },
  {
   "cell_type": "code",
   "execution_count": 3,
   "metadata": {},
   "outputs": [],
   "source": [
    "## reading in the data: \n",
    "recgli = read.csv('/home/sf673542/MultiParametricMRI/MP_MRI_Jan2019/AnnotateData/recgli_annot10_CELorNELorUNK.csv')"
   ]
  },
  {
   "cell_type": "code",
   "execution_count": 4,
   "metadata": {},
   "outputs": [
    {
     "data": {
      "text/html": [
       "<ol class=list-inline>\n",
       "\t<li>184</li>\n",
       "\t<li>75</li>\n",
       "</ol>\n"
      ],
      "text/latex": [
       "\\begin{enumerate*}\n",
       "\\item 184\n",
       "\\item 75\n",
       "\\end{enumerate*}\n"
      ],
      "text/markdown": [
       "1. 184\n",
       "2. 75\n",
       "\n",
       "\n"
      ],
      "text/plain": [
       "[1] 184  75"
      ]
     },
     "metadata": {},
     "output_type": "display_data"
    }
   ],
   "source": [
    "## parse the data down to only those that have all advanced modalities: \n",
    "recgli = recgli[which(!is.na(recgli$cni)),]\n",
    "dim(recgli)"
   ]
  },
  {
   "cell_type": "code",
   "execution_count": 5,
   "metadata": {},
   "outputs": [],
   "source": [
    "recgli = recgli[which(!is.na(recgli$cbvn_nlin)),]"
   ]
  },
  {
   "cell_type": "code",
   "execution_count": 6,
   "metadata": {},
   "outputs": [
    {
     "data": {
      "text/html": [
       "<ol class=list-inline>\n",
       "\t<li>141</li>\n",
       "\t<li>75</li>\n",
       "</ol>\n"
      ],
      "text/latex": [
       "\\begin{enumerate*}\n",
       "\\item 141\n",
       "\\item 75\n",
       "\\end{enumerate*}\n"
      ],
      "text/markdown": [
       "1. 141\n",
       "2. 75\n",
       "\n",
       "\n"
      ],
      "text/plain": [
       "[1] 141  75"
      ]
     },
     "metadata": {},
     "output_type": "display_data"
    }
   ],
   "source": [
    "dim(recgli)"
   ]
  },
  {
   "cell_type": "code",
   "execution_count": 7,
   "metadata": {},
   "outputs": [
    {
     "data": {
      "text/html": [
       "<ol class=list-inline>\n",
       "\t<li>132</li>\n",
       "\t<li>75</li>\n",
       "</ol>\n"
      ],
      "text/latex": [
       "\\begin{enumerate*}\n",
       "\\item 132\n",
       "\\item 75\n",
       "\\end{enumerate*}\n"
      ],
      "text/markdown": [
       "1. 132\n",
       "2. 75\n",
       "\n",
       "\n"
      ],
      "text/plain": [
       "[1] 132  75"
      ]
     },
     "metadata": {},
     "output_type": "display_data"
    }
   ],
   "source": [
    "## this is fine; we weren't going to use diffusion b=2000 data anyway, and nt1d information needs to be recalculated. \n",
    "## we will exclude the nt1v situation: \n",
    "recgli = recgli[!is.na(recgli$nt1v),]\n",
    "dim(recgli)"
   ]
  },
  {
   "cell_type": "code",
   "execution_count": 8,
   "metadata": {},
   "outputs": [
    {
     "data": {
      "text/plain": [
       "\n",
       "rHGG  txe  unk \n",
       "  87   26   19 "
      ]
     },
     "metadata": {},
     "output_type": "display_data"
    }
   ],
   "source": [
    "table(recgli$outcome)"
   ]
  },
  {
   "cell_type": "code",
   "execution_count": 9,
   "metadata": {},
   "outputs": [
    {
     "data": {
      "text/html": [
       "<ol class=list-inline>\n",
       "\t<li>113</li>\n",
       "\t<li>75</li>\n",
       "</ol>\n"
      ],
      "text/latex": [
       "\\begin{enumerate*}\n",
       "\\item 113\n",
       "\\item 75\n",
       "\\end{enumerate*}\n"
      ],
      "text/markdown": [
       "1. 113\n",
       "2. 75\n",
       "\n",
       "\n"
      ],
      "text/plain": [
       "[1] 113  75"
      ]
     },
     "metadata": {},
     "output_type": "display_data"
    }
   ],
   "source": [
    "recgli = recgli[which(recgli$outcome == \"txe\" | recgli$outcome == \"rHGG\"), ]\n",
    "dim(recgli)"
   ]
  },
  {
   "cell_type": "code",
   "execution_count": 10,
   "metadata": {},
   "outputs": [
    {
     "data": {
      "text/html": [
       "56"
      ],
      "text/latex": [
       "56"
      ],
      "text/markdown": [
       "56"
      ],
      "text/plain": [
       "[1] 56"
      ]
     },
     "metadata": {},
     "output_type": "display_data"
    }
   ],
   "source": [
    "length(unique(recgli$t_number_y))"
   ]
  },
  {
   "cell_type": "code",
   "execution_count": 11,
   "metadata": {},
   "outputs": [
    {
     "data": {
      "text/html": [
       "<ol class=list-inline>\n",
       "\t<li>'vialid'</li>\n",
       "\t<li>'b_number'</li>\n",
       "\t<li>'t_number_x'</li>\n",
       "\t<li>'t_number_y'</li>\n",
       "\t<li>'sf_number'</li>\n",
       "\t<li>'current_scan_date'</li>\n",
       "\t<li>'current_surgery_date'</li>\n",
       "\t<li>'current_hist_grade'</li>\n",
       "\t<li>'current_hist_type'</li>\n",
       "\t<li>'tumor_cell_evaluation'</li>\n",
       "\t<li>'necrosis'</li>\n",
       "\t<li>'mv_hyperplasia'</li>\n",
       "\t<li>'mv_delicate_vasculature'</li>\n",
       "\t<li>'f8_delicate'</li>\n",
       "\t<li>'f8_simple'</li>\n",
       "\t<li>'f8_complex'</li>\n",
       "\t<li>'mib_1'</li>\n",
       "\t<li>'avgerage_cells'</li>\n",
       "\t<li>'treatment_related_ab'</li>\n",
       "\t<li>'bx_pure_treatment_effect'</li>\n",
       "\t<li>'percent_tumor_nuclei'</li>\n",
       "\t<li>'nfl'</li>\n",
       "\t<li>'nfse'</li>\n",
       "\t<li>'nt1c'</li>\n",
       "\t<li>'nt1v'</li>\n",
       "\t<li>'nt1d'</li>\n",
       "\t<li>'nadc.1'</li>\n",
       "\t<li>'nfa.1'</li>\n",
       "\t<li>'nev1.1'</li>\n",
       "\t<li>'nev2.1'</li>\n",
       "\t<li>'nev3.1'</li>\n",
       "\t<li>'nevrad.1'</li>\n",
       "\t<li>'nadc.2'</li>\n",
       "\t<li>'nfa.2'</li>\n",
       "\t<li>'nev1.2'</li>\n",
       "\t<li>'nev2.2'</li>\n",
       "\t<li>'nev3.2'</li>\n",
       "\t<li>'nevrad.2'</li>\n",
       "\t<li>'cbvn_nlin'</li>\n",
       "\t<li>'phn_nlin'</li>\n",
       "\t<li>'recov_nlin'</li>\n",
       "\t<li>'phn_npar'</li>\n",
       "\t<li>'recov_npar'</li>\n",
       "\t<li>'recovn_npar'</li>\n",
       "\t<li>'ccri'</li>\n",
       "\t<li>'cni'</li>\n",
       "\t<li>'crni'</li>\n",
       "\t<li>'ncho'</li>\n",
       "\t<li>'ncre'</li>\n",
       "\t<li>'nnaa'</li>\n",
       "\t<li>'nlac'</li>\n",
       "\t<li>'nlip'</li>\n",
       "\t<li>'newdata'</li>\n",
       "\t<li>'olddata'</li>\n",
       "\t<li>'exclude_bc_hematoma_or_ventricle'</li>\n",
       "\t<li>'exclude_perf'</li>\n",
       "\t<li>'nLL'</li>\n",
       "\t<li>'comments'</li>\n",
       "\t<li>'perf_quant'</li>\n",
       "\t<li>'include_perf'</li>\n",
       "\t<li>'spec_quant'</li>\n",
       "\t<li>'include_spec'</li>\n",
       "\t<li>'diffu1000_quant'</li>\n",
       "\t<li>'diffu2000_quant'</li>\n",
       "\t<li>'exclude_bc_anat'</li>\n",
       "\t<li>'exclude_bc_pathology'</li>\n",
       "\t<li>'include_diffu1000'</li>\n",
       "\t<li>'include_diffu2000'</li>\n",
       "\t<li>'exclude_histology'</li>\n",
       "\t<li>'txe_comments'</li>\n",
       "\t<li>'outcome'</li>\n",
       "\t<li>'in_CEL'</li>\n",
       "\t<li>'in_T2all'</li>\n",
       "\t<li>'in_NEL'</li>\n",
       "\t<li>'CELorNEL'</li>\n",
       "</ol>\n"
      ],
      "text/latex": [
       "\\begin{enumerate*}\n",
       "\\item 'vialid'\n",
       "\\item 'b\\_number'\n",
       "\\item 't\\_number\\_x'\n",
       "\\item 't\\_number\\_y'\n",
       "\\item 'sf\\_number'\n",
       "\\item 'current\\_scan\\_date'\n",
       "\\item 'current\\_surgery\\_date'\n",
       "\\item 'current\\_hist\\_grade'\n",
       "\\item 'current\\_hist\\_type'\n",
       "\\item 'tumor\\_cell\\_evaluation'\n",
       "\\item 'necrosis'\n",
       "\\item 'mv\\_hyperplasia'\n",
       "\\item 'mv\\_delicate\\_vasculature'\n",
       "\\item 'f8\\_delicate'\n",
       "\\item 'f8\\_simple'\n",
       "\\item 'f8\\_complex'\n",
       "\\item 'mib\\_1'\n",
       "\\item 'avgerage\\_cells'\n",
       "\\item 'treatment\\_related\\_ab'\n",
       "\\item 'bx\\_pure\\_treatment\\_effect'\n",
       "\\item 'percent\\_tumor\\_nuclei'\n",
       "\\item 'nfl'\n",
       "\\item 'nfse'\n",
       "\\item 'nt1c'\n",
       "\\item 'nt1v'\n",
       "\\item 'nt1d'\n",
       "\\item 'nadc.1'\n",
       "\\item 'nfa.1'\n",
       "\\item 'nev1.1'\n",
       "\\item 'nev2.1'\n",
       "\\item 'nev3.1'\n",
       "\\item 'nevrad.1'\n",
       "\\item 'nadc.2'\n",
       "\\item 'nfa.2'\n",
       "\\item 'nev1.2'\n",
       "\\item 'nev2.2'\n",
       "\\item 'nev3.2'\n",
       "\\item 'nevrad.2'\n",
       "\\item 'cbvn\\_nlin'\n",
       "\\item 'phn\\_nlin'\n",
       "\\item 'recov\\_nlin'\n",
       "\\item 'phn\\_npar'\n",
       "\\item 'recov\\_npar'\n",
       "\\item 'recovn\\_npar'\n",
       "\\item 'ccri'\n",
       "\\item 'cni'\n",
       "\\item 'crni'\n",
       "\\item 'ncho'\n",
       "\\item 'ncre'\n",
       "\\item 'nnaa'\n",
       "\\item 'nlac'\n",
       "\\item 'nlip'\n",
       "\\item 'newdata'\n",
       "\\item 'olddata'\n",
       "\\item 'exclude\\_bc\\_hematoma\\_or\\_ventricle'\n",
       "\\item 'exclude\\_perf'\n",
       "\\item 'nLL'\n",
       "\\item 'comments'\n",
       "\\item 'perf\\_quant'\n",
       "\\item 'include\\_perf'\n",
       "\\item 'spec\\_quant'\n",
       "\\item 'include\\_spec'\n",
       "\\item 'diffu1000\\_quant'\n",
       "\\item 'diffu2000\\_quant'\n",
       "\\item 'exclude\\_bc\\_anat'\n",
       "\\item 'exclude\\_bc\\_pathology'\n",
       "\\item 'include\\_diffu1000'\n",
       "\\item 'include\\_diffu2000'\n",
       "\\item 'exclude\\_histology'\n",
       "\\item 'txe\\_comments'\n",
       "\\item 'outcome'\n",
       "\\item 'in\\_CEL'\n",
       "\\item 'in\\_T2all'\n",
       "\\item 'in\\_NEL'\n",
       "\\item 'CELorNEL'\n",
       "\\end{enumerate*}\n"
      ],
      "text/markdown": [
       "1. 'vialid'\n",
       "2. 'b_number'\n",
       "3. 't_number_x'\n",
       "4. 't_number_y'\n",
       "5. 'sf_number'\n",
       "6. 'current_scan_date'\n",
       "7. 'current_surgery_date'\n",
       "8. 'current_hist_grade'\n",
       "9. 'current_hist_type'\n",
       "10. 'tumor_cell_evaluation'\n",
       "11. 'necrosis'\n",
       "12. 'mv_hyperplasia'\n",
       "13. 'mv_delicate_vasculature'\n",
       "14. 'f8_delicate'\n",
       "15. 'f8_simple'\n",
       "16. 'f8_complex'\n",
       "17. 'mib_1'\n",
       "18. 'avgerage_cells'\n",
       "19. 'treatment_related_ab'\n",
       "20. 'bx_pure_treatment_effect'\n",
       "21. 'percent_tumor_nuclei'\n",
       "22. 'nfl'\n",
       "23. 'nfse'\n",
       "24. 'nt1c'\n",
       "25. 'nt1v'\n",
       "26. 'nt1d'\n",
       "27. 'nadc.1'\n",
       "28. 'nfa.1'\n",
       "29. 'nev1.1'\n",
       "30. 'nev2.1'\n",
       "31. 'nev3.1'\n",
       "32. 'nevrad.1'\n",
       "33. 'nadc.2'\n",
       "34. 'nfa.2'\n",
       "35. 'nev1.2'\n",
       "36. 'nev2.2'\n",
       "37. 'nev3.2'\n",
       "38. 'nevrad.2'\n",
       "39. 'cbvn_nlin'\n",
       "40. 'phn_nlin'\n",
       "41. 'recov_nlin'\n",
       "42. 'phn_npar'\n",
       "43. 'recov_npar'\n",
       "44. 'recovn_npar'\n",
       "45. 'ccri'\n",
       "46. 'cni'\n",
       "47. 'crni'\n",
       "48. 'ncho'\n",
       "49. 'ncre'\n",
       "50. 'nnaa'\n",
       "51. 'nlac'\n",
       "52. 'nlip'\n",
       "53. 'newdata'\n",
       "54. 'olddata'\n",
       "55. 'exclude_bc_hematoma_or_ventricle'\n",
       "56. 'exclude_perf'\n",
       "57. 'nLL'\n",
       "58. 'comments'\n",
       "59. 'perf_quant'\n",
       "60. 'include_perf'\n",
       "61. 'spec_quant'\n",
       "62. 'include_spec'\n",
       "63. 'diffu1000_quant'\n",
       "64. 'diffu2000_quant'\n",
       "65. 'exclude_bc_anat'\n",
       "66. 'exclude_bc_pathology'\n",
       "67. 'include_diffu1000'\n",
       "68. 'include_diffu2000'\n",
       "69. 'exclude_histology'\n",
       "70. 'txe_comments'\n",
       "71. 'outcome'\n",
       "72. 'in_CEL'\n",
       "73. 'in_T2all'\n",
       "74. 'in_NEL'\n",
       "75. 'CELorNEL'\n",
       "\n",
       "\n"
      ],
      "text/plain": [
       " [1] \"vialid\"                           \"b_number\"                        \n",
       " [3] \"t_number_x\"                       \"t_number_y\"                      \n",
       " [5] \"sf_number\"                        \"current_scan_date\"               \n",
       " [7] \"current_surgery_date\"             \"current_hist_grade\"              \n",
       " [9] \"current_hist_type\"                \"tumor_cell_evaluation\"           \n",
       "[11] \"necrosis\"                         \"mv_hyperplasia\"                  \n",
       "[13] \"mv_delicate_vasculature\"          \"f8_delicate\"                     \n",
       "[15] \"f8_simple\"                        \"f8_complex\"                      \n",
       "[17] \"mib_1\"                            \"avgerage_cells\"                  \n",
       "[19] \"treatment_related_ab\"             \"bx_pure_treatment_effect\"        \n",
       "[21] \"percent_tumor_nuclei\"             \"nfl\"                             \n",
       "[23] \"nfse\"                             \"nt1c\"                            \n",
       "[25] \"nt1v\"                             \"nt1d\"                            \n",
       "[27] \"nadc.1\"                           \"nfa.1\"                           \n",
       "[29] \"nev1.1\"                           \"nev2.1\"                          \n",
       "[31] \"nev3.1\"                           \"nevrad.1\"                        \n",
       "[33] \"nadc.2\"                           \"nfa.2\"                           \n",
       "[35] \"nev1.2\"                           \"nev2.2\"                          \n",
       "[37] \"nev3.2\"                           \"nevrad.2\"                        \n",
       "[39] \"cbvn_nlin\"                        \"phn_nlin\"                        \n",
       "[41] \"recov_nlin\"                       \"phn_npar\"                        \n",
       "[43] \"recov_npar\"                       \"recovn_npar\"                     \n",
       "[45] \"ccri\"                             \"cni\"                             \n",
       "[47] \"crni\"                             \"ncho\"                            \n",
       "[49] \"ncre\"                             \"nnaa\"                            \n",
       "[51] \"nlac\"                             \"nlip\"                            \n",
       "[53] \"newdata\"                          \"olddata\"                         \n",
       "[55] \"exclude_bc_hematoma_or_ventricle\" \"exclude_perf\"                    \n",
       "[57] \"nLL\"                              \"comments\"                        \n",
       "[59] \"perf_quant\"                       \"include_perf\"                    \n",
       "[61] \"spec_quant\"                       \"include_spec\"                    \n",
       "[63] \"diffu1000_quant\"                  \"diffu2000_quant\"                 \n",
       "[65] \"exclude_bc_anat\"                  \"exclude_bc_pathology\"            \n",
       "[67] \"include_diffu1000\"                \"include_diffu2000\"               \n",
       "[69] \"exclude_histology\"                \"txe_comments\"                    \n",
       "[71] \"outcome\"                          \"in_CEL\"                          \n",
       "[73] \"in_T2all\"                         \"in_NEL\"                          \n",
       "[75] \"CELorNEL\"                        "
      ]
     },
     "metadata": {},
     "output_type": "display_data"
    }
   ],
   "source": [
    "colnames(recgli)"
   ]
  },
  {
   "cell_type": "code",
   "execution_count": 12,
   "metadata": {},
   "outputs": [],
   "source": [
    "features_mri = c('nadc.1', 'nfa.1',\n",
    "             'cbvn_nlin', \n",
    "             'ccri', 'cni', 'ncre', 'ncho', 'nnaa', \n",
    "             'in_CEL', 'newdata')\n",
    "outcome = \"outcome\"\n",
    "id = \"t_number_y\""
   ]
  },
  {
   "cell_type": "code",
   "execution_count": 13,
   "metadata": {},
   "outputs": [],
   "source": [
    "recgli_new = recgli[,c(features_mri, outcome, id)]"
   ]
  },
  {
   "cell_type": "code",
   "execution_count": 14,
   "metadata": {},
   "outputs": [
    {
     "data": {
      "text/html": [
       "<ol class=list-inline>\n",
       "\t<li>113</li>\n",
       "\t<li>12</li>\n",
       "</ol>\n"
      ],
      "text/latex": [
       "\\begin{enumerate*}\n",
       "\\item 113\n",
       "\\item 12\n",
       "\\end{enumerate*}\n"
      ],
      "text/markdown": [
       "1. 113\n",
       "2. 12\n",
       "\n",
       "\n"
      ],
      "text/plain": [
       "[1] 113  12"
      ]
     },
     "metadata": {},
     "output_type": "display_data"
    }
   ],
   "source": [
    "## remove those with \"indeterminable\" outcome: \n",
    "recgli_new = droplevels.data.frame(recgli_new)\n",
    "dim(recgli_new)"
   ]
  },
  {
   "cell_type": "code",
   "execution_count": 15,
   "metadata": {},
   "outputs": [
    {
     "data": {
      "text/plain": [
       "\n",
       "rHGG  txe \n",
       "  87   26 "
      ]
     },
     "metadata": {},
     "output_type": "display_data"
    }
   ],
   "source": [
    "## look at the distribution of the outcome again: \n",
    "table(recgli_new$outcome)"
   ]
  },
  {
   "cell_type": "markdown",
   "metadata": {},
   "source": [
    "colnames(recgli_new"
   ]
  },
  {
   "cell_type": "code",
   "execution_count": 16,
   "metadata": {},
   "outputs": [
    {
     "data": {
      "text/html": [
       "<ol class=list-inline>\n",
       "\t<li>'nadc.1'</li>\n",
       "\t<li>'nfa.1'</li>\n",
       "\t<li>'cbvn_nlin'</li>\n",
       "\t<li>'ccri'</li>\n",
       "\t<li>'cni'</li>\n",
       "\t<li>'ncre'</li>\n",
       "\t<li>'ncho'</li>\n",
       "\t<li>'nnaa'</li>\n",
       "\t<li>'in_CEL'</li>\n",
       "\t<li>'newdata'</li>\n",
       "\t<li>'outcome'</li>\n",
       "\t<li>'t_number_y'</li>\n",
       "</ol>\n"
      ],
      "text/latex": [
       "\\begin{enumerate*}\n",
       "\\item 'nadc.1'\n",
       "\\item 'nfa.1'\n",
       "\\item 'cbvn\\_nlin'\n",
       "\\item 'ccri'\n",
       "\\item 'cni'\n",
       "\\item 'ncre'\n",
       "\\item 'ncho'\n",
       "\\item 'nnaa'\n",
       "\\item 'in\\_CEL'\n",
       "\\item 'newdata'\n",
       "\\item 'outcome'\n",
       "\\item 't\\_number\\_y'\n",
       "\\end{enumerate*}\n"
      ],
      "text/markdown": [
       "1. 'nadc.1'\n",
       "2. 'nfa.1'\n",
       "3. 'cbvn_nlin'\n",
       "4. 'ccri'\n",
       "5. 'cni'\n",
       "6. 'ncre'\n",
       "7. 'ncho'\n",
       "8. 'nnaa'\n",
       "9. 'in_CEL'\n",
       "10. 'newdata'\n",
       "11. 'outcome'\n",
       "12. 't_number_y'\n",
       "\n",
       "\n"
      ],
      "text/plain": [
       " [1] \"nadc.1\"     \"nfa.1\"      \"cbvn_nlin\"  \"ccri\"       \"cni\"       \n",
       " [6] \"ncre\"       \"ncho\"       \"nnaa\"       \"in_CEL\"     \"newdata\"   \n",
       "[11] \"outcome\"    \"t_number_y\""
      ]
     },
     "metadata": {},
     "output_type": "display_data"
    }
   ],
   "source": [
    "colnames(recgli_new)"
   ]
  },
  {
   "cell_type": "markdown",
   "metadata": {},
   "source": [
    "## There are 53 patients with 113 samples"
   ]
  },
  {
   "cell_type": "markdown",
   "metadata": {},
   "source": [
    "## Split the data by patient while making sure there is an even distribution of tumor scores in both training and testing: "
   ]
  },
  {
   "cell_type": "code",
   "execution_count": 17,
   "metadata": {},
   "outputs": [],
   "source": [
    "unique_tnums = unique(recgli_new$t_number_y)"
   ]
  },
  {
   "cell_type": "code",
   "execution_count": 18,
   "metadata": {},
   "outputs": [
    {
     "data": {
      "text/html": [
       "<ol class=list-inline>\n",
       "\t<li>10366</li>\n",
       "\t<li>10594</li>\n",
       "\t<li>10655</li>\n",
       "\t<li>10708</li>\n",
       "\t<li>10709</li>\n",
       "\t<li>10748</li>\n",
       "\t<li>10756</li>\n",
       "\t<li>10790</li>\n",
       "\t<li>10793</li>\n",
       "\t<li>11025</li>\n",
       "\t<li>11192</li>\n",
       "\t<li>11323</li>\n",
       "\t<li>11358</li>\n",
       "\t<li>11382</li>\n",
       "\t<li>11410</li>\n",
       "\t<li>11412</li>\n",
       "\t<li>11476</li>\n",
       "\t<li>11482</li>\n",
       "\t<li>11484</li>\n",
       "\t<li>5317</li>\n",
       "\t<li>5610</li>\n",
       "\t<li>5728</li>\n",
       "\t<li>5788</li>\n",
       "\t<li>5819</li>\n",
       "\t<li>5944</li>\n",
       "\t<li>5950</li>\n",
       "\t<li>6206</li>\n",
       "\t<li>6218</li>\n",
       "\t<li>6241</li>\n",
       "\t<li>6260</li>\n",
       "\t<li>6274</li>\n",
       "\t<li>6285</li>\n",
       "\t<li>6295</li>\n",
       "\t<li>6369</li>\n",
       "\t<li>6522</li>\n",
       "\t<li>6551</li>\n",
       "\t<li>6870</li>\n",
       "\t<li>7039</li>\n",
       "\t<li>7329</li>\n",
       "\t<li>7417</li>\n",
       "\t<li>7451</li>\n",
       "\t<li>7628</li>\n",
       "\t<li>7741</li>\n",
       "\t<li>8878</li>\n",
       "\t<li>8977</li>\n",
       "\t<li>8995</li>\n",
       "\t<li>9000</li>\n",
       "\t<li>9063</li>\n",
       "\t<li>9084</li>\n",
       "\t<li>9085</li>\n",
       "\t<li>9119</li>\n",
       "\t<li>9127</li>\n",
       "\t<li>9213</li>\n",
       "\t<li>9683</li>\n",
       "\t<li>9970</li>\n",
       "\t<li>9971</li>\n",
       "</ol>\n"
      ],
      "text/latex": [
       "\\begin{enumerate*}\n",
       "\\item 10366\n",
       "\\item 10594\n",
       "\\item 10655\n",
       "\\item 10708\n",
       "\\item 10709\n",
       "\\item 10748\n",
       "\\item 10756\n",
       "\\item 10790\n",
       "\\item 10793\n",
       "\\item 11025\n",
       "\\item 11192\n",
       "\\item 11323\n",
       "\\item 11358\n",
       "\\item 11382\n",
       "\\item 11410\n",
       "\\item 11412\n",
       "\\item 11476\n",
       "\\item 11482\n",
       "\\item 11484\n",
       "\\item 5317\n",
       "\\item 5610\n",
       "\\item 5728\n",
       "\\item 5788\n",
       "\\item 5819\n",
       "\\item 5944\n",
       "\\item 5950\n",
       "\\item 6206\n",
       "\\item 6218\n",
       "\\item 6241\n",
       "\\item 6260\n",
       "\\item 6274\n",
       "\\item 6285\n",
       "\\item 6295\n",
       "\\item 6369\n",
       "\\item 6522\n",
       "\\item 6551\n",
       "\\item 6870\n",
       "\\item 7039\n",
       "\\item 7329\n",
       "\\item 7417\n",
       "\\item 7451\n",
       "\\item 7628\n",
       "\\item 7741\n",
       "\\item 8878\n",
       "\\item 8977\n",
       "\\item 8995\n",
       "\\item 9000\n",
       "\\item 9063\n",
       "\\item 9084\n",
       "\\item 9085\n",
       "\\item 9119\n",
       "\\item 9127\n",
       "\\item 9213\n",
       "\\item 9683\n",
       "\\item 9970\n",
       "\\item 9971\n",
       "\\end{enumerate*}\n"
      ],
      "text/markdown": [
       "1. 10366\n",
       "2. 10594\n",
       "3. 10655\n",
       "4. 10708\n",
       "5. 10709\n",
       "6. 10748\n",
       "7. 10756\n",
       "8. 10790\n",
       "9. 10793\n",
       "10. 11025\n",
       "11. 11192\n",
       "12. 11323\n",
       "13. 11358\n",
       "14. 11382\n",
       "15. 11410\n",
       "16. 11412\n",
       "17. 11476\n",
       "18. 11482\n",
       "19. 11484\n",
       "20. 5317\n",
       "21. 5610\n",
       "22. 5728\n",
       "23. 5788\n",
       "24. 5819\n",
       "25. 5944\n",
       "26. 5950\n",
       "27. 6206\n",
       "28. 6218\n",
       "29. 6241\n",
       "30. 6260\n",
       "31. 6274\n",
       "32. 6285\n",
       "33. 6295\n",
       "34. 6369\n",
       "35. 6522\n",
       "36. 6551\n",
       "37. 6870\n",
       "38. 7039\n",
       "39. 7329\n",
       "40. 7417\n",
       "41. 7451\n",
       "42. 7628\n",
       "43. 7741\n",
       "44. 8878\n",
       "45. 8977\n",
       "46. 8995\n",
       "47. 9000\n",
       "48. 9063\n",
       "49. 9084\n",
       "50. 9085\n",
       "51. 9119\n",
       "52. 9127\n",
       "53. 9213\n",
       "54. 9683\n",
       "55. 9970\n",
       "56. 9971\n",
       "\n",
       "\n"
      ],
      "text/plain": [
       " [1] 10366 10594 10655 10708 10709 10748 10756 10790 10793 11025 11192 11323\n",
       "[13] 11358 11382 11410 11412 11476 11482 11484  5317  5610  5728  5788  5819\n",
       "[25]  5944  5950  6206  6218  6241  6260  6274  6285  6295  6369  6522  6551\n",
       "[37]  6870  7039  7329  7417  7451  7628  7741  8878  8977  8995  9000  9063\n",
       "[49]  9084  9085  9119  9127  9213  9683  9970  9971"
      ]
     },
     "metadata": {},
     "output_type": "display_data"
    }
   ],
   "source": [
    "unique_tnums"
   ]
  },
  {
   "cell_type": "code",
   "execution_count": 19,
   "metadata": {},
   "outputs": [],
   "source": [
    "## do an 75/25 patient split: \n",
    "set.seed(9)\n",
    "train_tnums = unique_tnums[sample(c(1:length(unique_tnums)), size = round(length(unique_tnums)*.75))]\n",
    "test_tnums = unique_tnums[! unique_tnums %in% train_tnums]"
   ]
  },
  {
   "cell_type": "code",
   "execution_count": 20,
   "metadata": {},
   "outputs": [],
   "source": [
    "recgli_train = recgli[which(recgli$t_number_y %in% train_tnums),]\n",
    "recgli_test = recgli[which(recgli$t_number_y %in% test_tnums),]"
   ]
  },
  {
   "cell_type": "code",
   "execution_count": 21,
   "metadata": {},
   "outputs": [
    {
     "data": {
      "text/html": [
       "<ol class=list-inline>\n",
       "\t<li>84</li>\n",
       "\t<li>75</li>\n",
       "</ol>\n"
      ],
      "text/latex": [
       "\\begin{enumerate*}\n",
       "\\item 84\n",
       "\\item 75\n",
       "\\end{enumerate*}\n"
      ],
      "text/markdown": [
       "1. 84\n",
       "2. 75\n",
       "\n",
       "\n"
      ],
      "text/plain": [
       "[1] 84 75"
      ]
     },
     "metadata": {},
     "output_type": "display_data"
    }
   ],
   "source": [
    "dim(recgli_train)"
   ]
  },
  {
   "cell_type": "code",
   "execution_count": 22,
   "metadata": {},
   "outputs": [
    {
     "data": {
      "text/html": [
       "<ol class=list-inline>\n",
       "\t<li>29</li>\n",
       "\t<li>75</li>\n",
       "</ol>\n"
      ],
      "text/latex": [
       "\\begin{enumerate*}\n",
       "\\item 29\n",
       "\\item 75\n",
       "\\end{enumerate*}\n"
      ],
      "text/markdown": [
       "1. 29\n",
       "2. 75\n",
       "\n",
       "\n"
      ],
      "text/plain": [
       "[1] 29 75"
      ]
     },
     "metadata": {},
     "output_type": "display_data"
    }
   ],
   "source": [
    "dim(recgli_test)"
   ]
  },
  {
   "cell_type": "code",
   "execution_count": 23,
   "metadata": {},
   "outputs": [],
   "source": [
    "# 11, 32\n",
    "set.seed(3)\n",
    "\n",
    "## 32 allows for good splitting."
   ]
  },
  {
   "cell_type": "code",
   "execution_count": 24,
   "metadata": {},
   "outputs": [],
   "source": [
    "data = recgli_new"
   ]
  },
  {
   "cell_type": "code",
   "execution_count": 25,
   "metadata": {},
   "outputs": [],
   "source": [
    "tnum_group_assignment = data.frame(t_number_y = unique(data[,id]), fold =floor(runif(length(unique(data[,id])), min = 1, max = 6)))"
   ]
  },
  {
   "cell_type": "code",
   "execution_count": 26,
   "metadata": {},
   "outputs": [],
   "source": [
    "data_xy_split = merge(data, tnum_group_assignment, by = c(\"t_number_y\"))"
   ]
  },
  {
   "cell_type": "code",
   "execution_count": 27,
   "metadata": {},
   "outputs": [],
   "source": [
    "data = data_xy_split"
   ]
  },
  {
   "cell_type": "code",
   "execution_count": 28,
   "metadata": {},
   "outputs": [
    {
     "data": {
      "text/html": [
       "<strong>txe:</strong> 0.230088495575221"
      ],
      "text/latex": [
       "\\textbf{txe:} 0.230088495575221"
      ],
      "text/markdown": [
       "**txe:** 0.230088495575221"
      ],
      "text/plain": [
       "      txe \n",
       "0.2300885 "
      ]
     },
     "metadata": {},
     "output_type": "display_data"
    }
   ],
   "source": [
    "table(data$outcome)['txe']/length(data$outcome)"
   ]
  },
  {
   "cell_type": "code",
   "execution_count": 29,
   "metadata": {},
   "outputs": [
    {
     "name": "stdout",
     "output_type": "stream",
     "text": [
      "[1] \"fold 1\"\n"
     ]
    },
    {
     "data": {
      "text/html": [
       "<strong>txe:</strong> 0.1875"
      ],
      "text/latex": [
       "\\textbf{txe:} 0.1875"
      ],
      "text/markdown": [
       "**txe:** 0.1875"
      ],
      "text/plain": [
       "   txe \n",
       "0.1875 "
      ]
     },
     "metadata": {},
     "output_type": "display_data"
    },
    {
     "name": "stdout",
     "output_type": "stream",
     "text": [
      "[1] \"fold 2\"\n"
     ]
    },
    {
     "data": {
      "text/html": [
       "<strong>txe:</strong> 0.2"
      ],
      "text/latex": [
       "\\textbf{txe:} 0.2"
      ],
      "text/markdown": [
       "**txe:** 0.2"
      ],
      "text/plain": [
       "txe \n",
       "0.2 "
      ]
     },
     "metadata": {},
     "output_type": "display_data"
    },
    {
     "name": "stdout",
     "output_type": "stream",
     "text": [
      "[1] \"fold 3\"\n"
     ]
    },
    {
     "data": {
      "text/html": [
       "<strong>txe:</strong> 0.227272727272727"
      ],
      "text/latex": [
       "\\textbf{txe:} 0.227272727272727"
      ],
      "text/markdown": [
       "**txe:** 0.227272727272727"
      ],
      "text/plain": [
       "      txe \n",
       "0.2272727 "
      ]
     },
     "metadata": {},
     "output_type": "display_data"
    },
    {
     "name": "stdout",
     "output_type": "stream",
     "text": [
      "[1] \"fold 4\"\n"
     ]
    },
    {
     "data": {
      "text/html": [
       "<strong>txe:</strong> 0.285714285714286"
      ],
      "text/latex": [
       "\\textbf{txe:} 0.285714285714286"
      ],
      "text/markdown": [
       "**txe:** 0.285714285714286"
      ],
      "text/plain": [
       "      txe \n",
       "0.2857143 "
      ]
     },
     "metadata": {},
     "output_type": "display_data"
    },
    {
     "name": "stdout",
     "output_type": "stream",
     "text": [
      "[1] \"fold 5\"\n"
     ]
    },
    {
     "data": {
      "text/html": [
       "<strong>txe:</strong> 0.269230769230769"
      ],
      "text/latex": [
       "\\textbf{txe:} 0.269230769230769"
      ],
      "text/markdown": [
       "**txe:** 0.269230769230769"
      ],
      "text/plain": [
       "      txe \n",
       "0.2692308 "
      ]
     },
     "metadata": {},
     "output_type": "display_data"
    }
   ],
   "source": [
    "print('fold 1')\n",
    "table(data$outcome[data$fold ==1])['txe']/length(data$outcome[data$fold ==1])\n",
    "print('fold 2')\n",
    "table(data$outcome[data$fold ==2])['txe']/length(data$outcome[data$fold ==2])\n",
    "print('fold 3')\n",
    "table(data$outcome[data$fold ==3])['txe']/length(data$outcome[data$fold ==3])\n",
    "print('fold 4')\n",
    "table(data$outcome[data$fold ==4])['txe']/length(data$outcome[data$fold ==4])\n",
    "print('fold 5')\n",
    "table(data$outcome[data$fold ==5])['txe']/length(data$outcome[data$fold ==5])"
   ]
  },
  {
   "cell_type": "code",
   "execution_count": 30,
   "metadata": {},
   "outputs": [],
   "source": [
    "data$outcome_bin = ifelse(data$outcome ==\"rHGG\", 1, 0)"
   ]
  },
  {
   "cell_type": "markdown",
   "metadata": {},
   "source": [
    "## Create template for outcome of experiments: "
   ]
  },
  {
   "cell_type": "code",
   "execution_count": 38,
   "metadata": {},
   "outputs": [],
   "source": [
    "scores_lr  = data.frame(folds = NA,  auc_4folds = NA,\n",
    "                        ci1_4folds = NA, \n",
    "                        ci2_4folds = NA,\n",
    "                        acc_4folds = NA,\n",
    "                        sens_4folds = NA, \n",
    "                        spec_4folds = NA, \n",
    "                        ppv_4folds = NA, \n",
    "                        npv_4folds = NA,\n",
    "                        acc_CV = NA,\n",
    "                        sens_CV = NA, \n",
    "                        spec_CV = NA, \n",
    "                        ppv_CV = NA, \n",
    "                        npv_CV = NA, \n",
    "                        auc_CV = NA\n",
    "                       )"
   ]
  },
  {
   "cell_type": "code",
   "execution_count": 39,
   "metadata": {},
   "outputs": [],
   "source": [
    "library(pROC)"
   ]
  },
  {
   "cell_type": "code",
   "execution_count": 40,
   "metadata": {},
   "outputs": [
    {
     "data": {
      "text/html": [
       "<dl class=dl-horizontal>\n",
       "\t<dt>t_number_y</dt>\n",
       "\t\t<dd>0</dd>\n",
       "\t<dt>nadc.1</dt>\n",
       "\t\t<dd>1</dd>\n",
       "\t<dt>nfa.1</dt>\n",
       "\t\t<dd>1</dd>\n",
       "\t<dt>cbvn_nlin</dt>\n",
       "\t\t<dd>0</dd>\n",
       "\t<dt>ccri</dt>\n",
       "\t\t<dd>0</dd>\n",
       "\t<dt>cni</dt>\n",
       "\t\t<dd>0</dd>\n",
       "\t<dt>ncre</dt>\n",
       "\t\t<dd>0</dd>\n",
       "\t<dt>ncho</dt>\n",
       "\t\t<dd>0</dd>\n",
       "\t<dt>nnaa</dt>\n",
       "\t\t<dd>0</dd>\n",
       "\t<dt>in_CEL</dt>\n",
       "\t\t<dd>0</dd>\n",
       "\t<dt>newdata</dt>\n",
       "\t\t<dd>0</dd>\n",
       "\t<dt>outcome</dt>\n",
       "\t\t<dd>0</dd>\n",
       "\t<dt>fold</dt>\n",
       "\t\t<dd>0</dd>\n",
       "\t<dt>outcome_bin</dt>\n",
       "\t\t<dd>0</dd>\n",
       "</dl>\n"
      ],
      "text/latex": [
       "\\begin{description*}\n",
       "\\item[t\\textbackslash{}\\_number\\textbackslash{}\\_y] 0\n",
       "\\item[nadc.1] 1\n",
       "\\item[nfa.1] 1\n",
       "\\item[cbvn\\textbackslash{}\\_nlin] 0\n",
       "\\item[ccri] 0\n",
       "\\item[cni] 0\n",
       "\\item[ncre] 0\n",
       "\\item[ncho] 0\n",
       "\\item[nnaa] 0\n",
       "\\item[in\\textbackslash{}\\_CEL] 0\n",
       "\\item[newdata] 0\n",
       "\\item[outcome] 0\n",
       "\\item[fold] 0\n",
       "\\item[outcome\\textbackslash{}\\_bin] 0\n",
       "\\end{description*}\n"
      ],
      "text/markdown": [
       "t_number_y\n",
       ":   0nadc.1\n",
       ":   1nfa.1\n",
       ":   1cbvn_nlin\n",
       ":   0ccri\n",
       ":   0cni\n",
       ":   0ncre\n",
       ":   0ncho\n",
       ":   0nnaa\n",
       ":   0in_CEL\n",
       ":   0newdata\n",
       ":   0outcome\n",
       ":   0fold\n",
       ":   0outcome_bin\n",
       ":   0\n",
       "\n"
      ],
      "text/plain": [
       " t_number_y      nadc.1       nfa.1   cbvn_nlin        ccri         cni \n",
       "          0           1           1           0           0           0 \n",
       "       ncre        ncho        nnaa      in_CEL     newdata     outcome \n",
       "          0           0           0           0           0           0 \n",
       "       fold outcome_bin \n",
       "          0           0 "
      ]
     },
     "metadata": {},
     "output_type": "display_data"
    }
   ],
   "source": [
    "colSums(is.na(data))"
   ]
  },
  {
   "cell_type": "code",
   "execution_count": 41,
   "metadata": {},
   "outputs": [
    {
     "name": "stdout",
     "output_type": "stream",
     "text": [
      "\n",
      "Call:\n",
      "glm(formula = lr_formula, family = binomial, data = data_thresh)\n",
      "\n",
      "Deviance Residuals: \n",
      "    Min       1Q   Median       3Q      Max  \n",
      "-1.2585  -0.7569  -0.5861  -0.3053   2.2573  \n",
      "\n",
      "Coefficients:\n",
      "            Estimate Std. Error z value Pr(>|z|)   \n",
      "(Intercept) -1.11807    0.40021  -2.794  0.00521 **\n",
      "cbvn_nlin   -0.63184    0.34653  -1.823  0.06825 . \n",
      "ccri        -0.10475    1.44506  -0.072  0.94221   \n",
      "ncho        -0.21764    1.37550  -0.158  0.87428   \n",
      "cni          0.13871    1.56656   0.089  0.92944   \n",
      "ncre        -0.40268    0.78617  -0.512  0.60851   \n",
      "nnaa         0.10998    0.60518   0.182  0.85579   \n",
      "nfa.1        0.08408    0.28775   0.292  0.77013   \n",
      "nadc.1       0.01558    0.30249   0.052  0.95892   \n",
      "---\n",
      "Signif. codes:  0 ‘***’ 0.001 ‘**’ 0.01 ‘*’ 0.05 ‘.’ 0.1 ‘ ’ 1\n",
      "\n",
      "(Dispersion parameter for binomial family taken to be 1)\n",
      "\n",
      "    Null deviance: 106.260  on 96  degrees of freedom\n",
      "Residual deviance:  98.562  on 88  degrees of freedom\n",
      "AIC: 116.56\n",
      "\n",
      "Number of Fisher Scoring iterations: 4\n",
      "\n",
      "\n",
      "Call:\n",
      "glm(formula = lr_formula, family = binomial, data = data_thresh)\n",
      "\n",
      "Deviance Residuals: \n",
      "    Min       1Q   Median       3Q      Max  \n",
      "-1.5537  -0.7205  -0.4816  -0.2197   1.9691  \n",
      "\n",
      "Coefficients:\n",
      "            Estimate Std. Error z value Pr(>|z|)   \n",
      "(Intercept)  -1.0224     0.3491  -2.929   0.0034 **\n",
      "cbvn_nlin    -0.7046     0.3718  -1.895   0.0581 . \n",
      "ccri          0.1211     1.2554   0.096   0.9231   \n",
      "ncho          0.1962     1.6697   0.118   0.9065   \n",
      "cni          -0.8659     1.5854  -0.546   0.5850   \n",
      "ncre         -0.6379     0.7631  -0.836   0.4032   \n",
      "nnaa         -0.2110     0.6822  -0.309   0.7571   \n",
      "nfa.1         0.2636     0.3064   0.860   0.3896   \n",
      "nadc.1       -0.3606     0.3355  -1.075   0.2824   \n",
      "---\n",
      "Signif. codes:  0 ‘***’ 0.001 ‘**’ 0.01 ‘*’ 0.05 ‘.’ 0.1 ‘ ’ 1\n",
      "\n",
      "(Dispersion parameter for binomial family taken to be 1)\n",
      "\n",
      "    Null deviance: 86.608  on 77  degrees of freedom\n",
      "Residual deviance: 73.581  on 69  degrees of freedom\n",
      "AIC: 91.581\n",
      "\n",
      "Number of Fisher Scoring iterations: 5\n",
      "\n",
      "\n",
      "Call:\n",
      "glm(formula = lr_formula, family = binomial, data = data_thresh)\n",
      "\n",
      "Deviance Residuals: \n",
      "    Min       1Q   Median       3Q      Max  \n",
      "-1.2002  -0.7641  -0.5769  -0.3614   2.1358  \n",
      "\n",
      "Coefficients:\n",
      "              Estimate Std. Error z value Pr(>|z|)   \n",
      "(Intercept) -1.1418773  0.3736392  -3.056  0.00224 **\n",
      "cbvn_nlin   -0.5564550  0.3431186  -1.622  0.10486   \n",
      "ccri         0.2062770  1.1755458   0.175  0.86071   \n",
      "ncho        -0.0001551  1.5629192   0.000  0.99992   \n",
      "cni         -0.4351840  1.5968804  -0.273  0.78522   \n",
      "ncre        -0.2095604  0.7064574  -0.297  0.76674   \n",
      "nnaa        -0.0880327  0.6237993  -0.141  0.88777   \n",
      "nfa.1        0.3086522  0.2813810   1.097  0.27268   \n",
      "nadc.1       0.0677607  0.3014457   0.225  0.82215   \n",
      "---\n",
      "Signif. codes:  0 ‘***’ 0.001 ‘**’ 0.01 ‘*’ 0.05 ‘.’ 0.1 ‘ ’ 1\n",
      "\n",
      "(Dispersion parameter for binomial family taken to be 1)\n",
      "\n",
      "    Null deviance: 98.317  on 90  degrees of freedom\n",
      "Residual deviance: 91.071  on 82  degrees of freedom\n",
      "AIC: 109.07\n",
      "\n",
      "Number of Fisher Scoring iterations: 4\n",
      "\n",
      "\n",
      "Call:\n",
      "glm(formula = lr_formula, family = binomial, data = data_thresh)\n",
      "\n",
      "Deviance Residuals: \n",
      "    Min       1Q   Median       3Q      Max  \n",
      "-1.5995  -0.7177  -0.4562  -0.1310   2.8929  \n",
      "\n",
      "Coefficients:\n",
      "            Estimate Std. Error z value Pr(>|z|)    \n",
      "(Intercept)  -1.1695     0.3369  -3.471 0.000518 ***\n",
      "cbvn_nlin    -0.9032     0.4054  -2.228 0.025902 *  \n",
      "ccri          1.3569     1.5770   0.860 0.389545    \n",
      "ncho         -0.2539     1.7487  -0.145 0.884549    \n",
      "cni          -1.9769     1.8131  -1.090 0.275547    \n",
      "ncre          0.6345     0.9708   0.654 0.513369    \n",
      "nnaa         -0.2921     0.6794  -0.430 0.667250    \n",
      "nfa.1        -0.1533     0.3032  -0.506 0.613194    \n",
      "nadc.1       -0.2347     0.3118  -0.753 0.451714    \n",
      "---\n",
      "Signif. codes:  0 ‘***’ 0.001 ‘**’ 0.01 ‘*’ 0.05 ‘.’ 0.1 ‘ ’ 1\n",
      "\n",
      "(Dispersion parameter for binomial family taken to be 1)\n",
      "\n",
      "    Null deviance: 104.882  on 98  degrees of freedom\n",
      "Residual deviance:  88.213  on 90  degrees of freedom\n",
      "AIC: 106.21\n",
      "\n",
      "Number of Fisher Scoring iterations: 5\n",
      "\n",
      "\n",
      "Call:\n",
      "glm(formula = lr_formula, family = binomial, data = data_thresh)\n",
      "\n",
      "Deviance Residuals: \n",
      "    Min       1Q   Median       3Q      Max  \n",
      "-1.1696  -0.7496  -0.5929  -0.3584   2.1980  \n",
      "\n",
      "Coefficients:\n",
      "             Estimate Std. Error z value Pr(>|z|)    \n",
      "(Intercept) -1.420189   0.422319  -3.363 0.000771 ***\n",
      "cbvn_nlin   -0.526752   0.367940  -1.432 0.152251    \n",
      "ccri         0.008893   0.999375   0.009 0.992900    \n",
      "ncho        -1.429400   1.673328  -0.854 0.392980    \n",
      "cni          1.368310   1.774119   0.771 0.440552    \n",
      "ncre        -0.226008   0.659958  -0.342 0.732006    \n",
      "nnaa         0.706519   0.746555   0.946 0.343959    \n",
      "nfa.1       -0.031426   0.300695  -0.105 0.916763    \n",
      "nadc.1      -0.013532   0.320669  -0.042 0.966341    \n",
      "---\n",
      "Signif. codes:  0 ‘***’ 0.001 ‘**’ 0.01 ‘*’ 0.05 ‘.’ 0.1 ‘ ’ 1\n",
      "\n",
      "(Dispersion parameter for binomial family taken to be 1)\n",
      "\n",
      "    Null deviance: 91.326  on 86  degrees of freedom\n",
      "Residual deviance: 86.316  on 78  degrees of freedom\n",
      "AIC: 104.32\n",
      "\n",
      "Number of Fisher Scoring iterations: 4\n",
      "\n"
     ]
    }
   ],
   "source": [
    "for (fold in c(1:5)){\n",
    "    ## divide data \n",
    "    data_thresh = data[which(data$fold != fold),]\n",
    "    data_pred = data[which(data$fold == fold),]\n",
    "    \n",
    "    ## cycle through cols to normalize: \n",
    "    for (col in features_mri){        \n",
    "        ## standardization: \n",
    "        med_col = median(data_thresh[,col], na.rm = T)\n",
    "        sd_col = sd(data_thresh[,col], na.rm = T)\n",
    "        \n",
    "        data_thresh[,col] = (data_thresh[,col]-med_col)/sd_col\n",
    "        data_pred[,col] = (data_pred[,col]-med_col)/sd_col\n",
    "\n",
    "        ##missing value filling: \n",
    "        data_thresh[,col] = ifelse(is.na(data_thresh[,col]), med_col, data_thresh[,col])\n",
    "        data_pred[,col] = ifelse(is.na(data_pred[,col]), med_col, data_pred[,col])\n",
    "    }\n",
    "    \n",
    "    ## create logReg for fold: \n",
    "    outcome = \"outcome\"\n",
    "    features = c( 'cbvn_nlin',\n",
    "                 'ccri', 'ncho','cni', 'ncre', 'nnaa', 'nfa.1', 'nadc.1')\n",
    "    features.addsign <- paste(features, collapse = \"+\")\n",
    "    lr_formula = as.formula(paste(outcome, features.addsign, sep = \"~\"))\n",
    "    lr.fit = glm(lr_formula, data = data_thresh, family = binomial)\n",
    "    print(summary(lr.fit))\n",
    "    ## predict on training data: (4folds)\n",
    "    fit.probs.data_thresh = predict(lr.fit, data_thresh, family = binomial, type = \"response\")\n",
    "    \n",
    "    roc_obj = roc(data_thresh$outcome, fit.probs.data_thresh, levels=c(\"txe\", \"rHGG\"), \n",
    "          percent = TRUE)\n",
    "    auc = (auc(roc_obj))\n",
    "    auc.ci1 = ci.auc(roc(data_thresh$outcome, fit.probs.data_thresh, levels=c(\"txe\", \"rHGG\"), \n",
    "        percent = TRUE))[1]\n",
    "    auc.ci2 = ci.auc(roc(data_thresh$outcome, fit.probs.data_thresh, levels=c(\"txe\", \"rHGG\"), \n",
    "        percent = TRUE))[3]\n",
    "    \n",
    "    thresh = pROC::coords(roc_obj, x = 'best', best.method = 'closest.topleft')['threshold']\n",
    "\n",
    "    fit.preds.data_thresh = as.factor(ifelse(fit.probs.data_thresh > thresh, \"txe\", 'rHGG'))\n",
    "\n",
    "    acc =  confusionMatrix(data = fit.preds.data_thresh, reference = data_thresh$outcome)$overall['Accuracy']\n",
    "    sens = confusionMatrix(data = fit.preds.data_thresh, reference = data_thresh$outcome)$byClass['Sensitivity']\n",
    "    spec = confusionMatrix(data = fit.preds.data_thresh, reference = data_thresh$outcome)$byClass['Specificity']\n",
    "    ppv = confusionMatrix(data = fit.preds.data_thresh, reference = data_thresh$outcome)$byClass['Pos Pred Value']\n",
    "    npv = confusionMatrix(data = fit.preds.data_thresh, reference = data_thresh$outcome)$byClass['Neg Pred Value']\n",
    "    \n",
    "    ## predict on test   data: (5th fold)\n",
    "    fit.probs.data_pred = predict(lr.fit, data_pred, family = binomial, type = \"response\")\n",
    "    fit.preds.data_pred = as.factor(ifelse(fit.probs.data_pred > thresh, \"txe\", 'rHGG'))\n",
    "    \n",
    "    ## save the coefficients & p-values\n",
    "    \n",
    "    \n",
    "    acc_5  =  confusionMatrix(data = fit.preds.data_pred, reference = data_pred$outcome)$overall['Accuracy']\n",
    "    sens_5 = confusionMatrix(data = fit.preds.data_pred, reference = data_pred$outcome)$byClass['Sensitivity']\n",
    "    spec_5 = confusionMatrix(data = fit.preds.data_pred, reference = data_pred$outcome)$byClass['Specificity']\n",
    "    ppv_5  = confusionMatrix(data = fit.preds.data_pred, reference = data_pred$outcome)$byClass['Pos Pred Value']\n",
    "    npv_5  = confusionMatrix(data = fit.preds.data_pred, reference = data_pred$outcome)$byClass['Neg Pred Value']\n",
    "    \n",
    "    preds = fit.preds.data_pred\n",
    "    outcome_pred_pruned = data_pred$outcome[!is.na(preds)]\n",
    "    outcome_pred_pruned = ifelse(outcome_pred_pruned == 'rHGG', 1, 0)\n",
    "    preds_pruned        = preds[!is.na(preds)]\n",
    "    preds_pruned        = ifelse(preds_pruned == \"rHGG\", 1, 0)\n",
    "\n",
    "\n",
    "    roc_pred = roc(outcome_pred_pruned, preds_pruned)\n",
    "    auc_pred = auc(roc_pred)\n",
    "    ci1_cv = ci.auc(roc_pred)[1]\n",
    "    ci2_cv = ci.auc(roc_pred)[3]\n",
    "    \n",
    "    SAVE_FOLD = c(fold, auc, auc.ci1, auc.ci2, acc, sens, spec,ppv, npv, acc_5, sens_5, spec_5, ppv_5, npv_5, auc_pred)\n",
    "    scores_lr = rbind(scores_lr, SAVE_FOLD)\n",
    "}\n",
    "\n"
   ]
  },
  {
   "cell_type": "code",
   "execution_count": 42,
   "metadata": {},
   "outputs": [
    {
     "data": {
      "text/plain": [
       "Confusion Matrix and Statistics\n",
       "\n",
       "          Reference\n",
       "Prediction rHGG txe\n",
       "      rHGG   46   6\n",
       "      txe    22  13\n",
       "                                          \n",
       "               Accuracy : 0.6782          \n",
       "                 95% CI : (0.5694, 0.7744)\n",
       "    No Information Rate : 0.7816          \n",
       "    P-Value [Acc > NIR] : 0.991045        \n",
       "                                          \n",
       "                  Kappa : 0.2767          \n",
       " Mcnemar's Test P-Value : 0.004586        \n",
       "                                          \n",
       "            Sensitivity : 0.6765          \n",
       "            Specificity : 0.6842          \n",
       "         Pos Pred Value : 0.8846          \n",
       "         Neg Pred Value : 0.3714          \n",
       "             Prevalence : 0.7816          \n",
       "         Detection Rate : 0.5287          \n",
       "   Detection Prevalence : 0.5977          \n",
       "      Balanced Accuracy : 0.6803          \n",
       "                                          \n",
       "       'Positive' Class : rHGG            \n",
       "                                          "
      ]
     },
     "metadata": {},
     "output_type": "display_data"
    },
    {
     "data": {
      "text/html": [
       "<strong>Pos Pred Value:</strong> 0.884615384615385"
      ],
      "text/latex": [
       "\\textbf{Pos Pred Value:} 0.884615384615385"
      ],
      "text/markdown": [
       "**Pos Pred Value:** 0.884615384615385"
      ],
      "text/plain": [
       "Pos Pred Value \n",
       "     0.8846154 "
      ]
     },
     "metadata": {},
     "output_type": "display_data"
    },
    {
     "data": {
      "text/html": [
       "<strong>Neg Pred Value:</strong> 0.371428571428571"
      ],
      "text/latex": [
       "\\textbf{Neg Pred Value:} 0.371428571428571"
      ],
      "text/markdown": [
       "**Neg Pred Value:** 0.371428571428571"
      ],
      "text/plain": [
       "Neg Pred Value \n",
       "     0.3714286 "
      ]
     },
     "metadata": {},
     "output_type": "display_data"
    }
   ],
   "source": [
    "confusionMatrix(data = fit.preds.data_thresh, reference = data_thresh$outcome)\n",
    "confusionMatrix(data = fit.preds.data_thresh, reference = data_thresh$outcome)$byClass['Pos Pred Value']\n",
    "confusionMatrix(data = fit.preds.data_thresh, reference = data_thresh$outcome)$byClass['Neg Pred Value']"
   ]
  },
  {
   "cell_type": "code",
   "execution_count": 43,
   "metadata": {},
   "outputs": [],
   "source": [
    "scores_lr = scores_lr[-1,]"
   ]
  },
  {
   "cell_type": "code",
   "execution_count": 44,
   "metadata": {},
   "outputs": [
    {
     "data": {
      "text/html": [
       "<table>\n",
       "<thead><tr><th></th><th scope=col>med</th><th scope=col>mean</th><th scope=col>sd</th></tr></thead>\n",
       "<tbody>\n",
       "\t<tr><th scope=row>folds</th><td> 3.0000000</td><td> 3.0000000</td><td>1.58113883</td></tr>\n",
       "\t<tr><th scope=row>auc_4folds</th><td>69.4477086</td><td>72.2474872</td><td>5.59857939</td></tr>\n",
       "\t<tr><th scope=row>ci1_4folds</th><td>57.2785331</td><td>60.1102747</td><td>6.44195405</td></tr>\n",
       "\t<tr><th scope=row>ci2_4folds</th><td>81.6168840</td><td>84.3846996</td><td>4.76907804</td></tr>\n",
       "\t<tr><th scope=row>acc_4folds</th><td> 0.7113402</td><td> 0.7019317</td><td>0.05144571</td></tr>\n",
       "\t<tr><th scope=row>sens_4folds</th><td> 0.7297297</td><td> 0.7023671</td><td>0.07489563</td></tr>\n",
       "\t<tr><th scope=row>spec_4folds</th><td> 0.6842105</td><td> 0.7019545</td><td>0.04284522</td></tr>\n",
       "\t<tr><th scope=row>ppv_4folds</th><td> 0.8846154</td><td> 0.8872530</td><td>0.01226885</td></tr>\n",
       "\t<tr><th scope=row>npv_4folds</th><td> 0.4285714</td><td> 0.4200000</td><td>0.05827364</td></tr>\n",
       "\t<tr><th scope=row>acc_CV</th><td> 0.5714286</td><td> 0.5619755</td><td>0.09238341</td></tr>\n",
       "\t<tr><th scope=row>sens_CV</th><td> 0.5714286</td><td> 0.5472698</td><td>0.05987746</td></tr>\n",
       "\t<tr><th scope=row>spec_CV</th><td> 0.5714286</td><td> 0.6385714</td><td>0.28137781</td></tr>\n",
       "\t<tr><th scope=row>ppv_CV</th><td> 0.8421053</td><td> 0.8283417</td><td>0.13828134</td></tr>\n",
       "\t<tr><th scope=row>npv_CV</th><td> 0.3076923</td><td> 0.2865385</td><td>0.08088108</td></tr>\n",
       "\t<tr><th scope=row>auc_CV</th><td> 0.6250000</td><td> 0.6429206</td><td>0.09647259</td></tr>\n",
       "</tbody>\n",
       "</table>\n"
      ],
      "text/latex": [
       "\\begin{tabular}{r|lll}\n",
       "  & med & mean & sd\\\\\n",
       "\\hline\n",
       "\tfolds &  3.0000000 &  3.0000000 & 1.58113883\\\\\n",
       "\tauc\\_4folds & 69.4477086 & 72.2474872 & 5.59857939\\\\\n",
       "\tci1\\_4folds & 57.2785331 & 60.1102747 & 6.44195405\\\\\n",
       "\tci2\\_4folds & 81.6168840 & 84.3846996 & 4.76907804\\\\\n",
       "\tacc\\_4folds &  0.7113402 &  0.7019317 & 0.05144571\\\\\n",
       "\tsens\\_4folds &  0.7297297 &  0.7023671 & 0.07489563\\\\\n",
       "\tspec\\_4folds &  0.6842105 &  0.7019545 & 0.04284522\\\\\n",
       "\tppv\\_4folds &  0.8846154 &  0.8872530 & 0.01226885\\\\\n",
       "\tnpv\\_4folds &  0.4285714 &  0.4200000 & 0.05827364\\\\\n",
       "\tacc\\_CV &  0.5714286 &  0.5619755 & 0.09238341\\\\\n",
       "\tsens\\_CV &  0.5714286 &  0.5472698 & 0.05987746\\\\\n",
       "\tspec\\_CV &  0.5714286 &  0.6385714 & 0.28137781\\\\\n",
       "\tppv\\_CV &  0.8421053 &  0.8283417 & 0.13828134\\\\\n",
       "\tnpv\\_CV &  0.3076923 &  0.2865385 & 0.08088108\\\\\n",
       "\tauc\\_CV &  0.6250000 &  0.6429206 & 0.09647259\\\\\n",
       "\\end{tabular}\n"
      ],
      "text/markdown": [
       "\n",
       "| <!--/--> | med | mean | sd | \n",
       "|---|---|---|---|---|---|---|---|---|---|---|---|---|---|---|\n",
       "| folds |  3.0000000 |  3.0000000 | 1.58113883 | \n",
       "| auc_4folds | 69.4477086 | 72.2474872 | 5.59857939 | \n",
       "| ci1_4folds | 57.2785331 | 60.1102747 | 6.44195405 | \n",
       "| ci2_4folds | 81.6168840 | 84.3846996 | 4.76907804 | \n",
       "| acc_4folds |  0.7113402 |  0.7019317 | 0.05144571 | \n",
       "| sens_4folds |  0.7297297 |  0.7023671 | 0.07489563 | \n",
       "| spec_4folds |  0.6842105 |  0.7019545 | 0.04284522 | \n",
       "| ppv_4folds |  0.8846154 |  0.8872530 | 0.01226885 | \n",
       "| npv_4folds |  0.4285714 |  0.4200000 | 0.05827364 | \n",
       "| acc_CV |  0.5714286 |  0.5619755 | 0.09238341 | \n",
       "| sens_CV |  0.5714286 |  0.5472698 | 0.05987746 | \n",
       "| spec_CV |  0.5714286 |  0.6385714 | 0.28137781 | \n",
       "| ppv_CV |  0.8421053 |  0.8283417 | 0.13828134 | \n",
       "| npv_CV |  0.3076923 |  0.2865385 | 0.08088108 | \n",
       "| auc_CV |  0.6250000 |  0.6429206 | 0.09647259 | \n",
       "\n",
       "\n"
      ],
      "text/plain": [
       "            med        mean       sd        \n",
       "folds        3.0000000  3.0000000 1.58113883\n",
       "auc_4folds  69.4477086 72.2474872 5.59857939\n",
       "ci1_4folds  57.2785331 60.1102747 6.44195405\n",
       "ci2_4folds  81.6168840 84.3846996 4.76907804\n",
       "acc_4folds   0.7113402  0.7019317 0.05144571\n",
       "sens_4folds  0.7297297  0.7023671 0.07489563\n",
       "spec_4folds  0.6842105  0.7019545 0.04284522\n",
       "ppv_4folds   0.8846154  0.8872530 0.01226885\n",
       "npv_4folds   0.4285714  0.4200000 0.05827364\n",
       "acc_CV       0.5714286  0.5619755 0.09238341\n",
       "sens_CV      0.5714286  0.5472698 0.05987746\n",
       "spec_CV      0.5714286  0.6385714 0.28137781\n",
       "ppv_CV       0.8421053  0.8283417 0.13828134\n",
       "npv_CV       0.3076923  0.2865385 0.08088108\n",
       "auc_CV       0.6250000  0.6429206 0.09647259"
      ]
     },
     "metadata": {},
     "output_type": "display_data"
    }
   ],
   "source": [
    "data.frame(med = apply(scores_lr , 2, median), mean = apply(scores_lr , 2, mean), sd = apply(scores_lr, 2, sd))\n"
   ]
  },
  {
   "cell_type": "markdown",
   "metadata": {},
   "source": [
    "## LR with only \"important\" features: "
   ]
  },
  {
   "cell_type": "code",
   "execution_count": 45,
   "metadata": {},
   "outputs": [],
   "source": [
    "scores_lr_impt  = data.frame(folds = NA,  auc_4folds = NA,\n",
    "                        ci1_4folds = NA, \n",
    "                        ci2_4folds = NA,\n",
    "                        acc_4folds = NA,\n",
    "                        sens_4folds = NA, \n",
    "                        spec_4folds = NA, \n",
    "                        acc_CV = NA,\n",
    "                        sens_CV = NA, \n",
    "                        spec_CV = NA, \n",
    "                        auc_CV = NA\n",
    "                       )"
   ]
  },
  {
   "cell_type": "code",
   "execution_count": 46,
   "metadata": {},
   "outputs": [
    {
     "name": "stdout",
     "output_type": "stream",
     "text": [
      "\n",
      "Call:\n",
      "glm(formula = lr_formula, family = binomial, data = data_thresh)\n",
      "\n",
      "Deviance Residuals: \n",
      "    Min       1Q   Median       3Q      Max  \n",
      "-1.3003  -0.7638  -0.5907  -0.2934   2.3137  \n",
      "\n",
      "Coefficients:\n",
      "             Estimate Std. Error z value Pr(>|z|)   \n",
      "(Intercept) -1.078040   0.327774  -3.289  0.00101 **\n",
      "cbvn_nlin   -0.614359   0.325682  -1.886  0.05924 . \n",
      "ccri        -0.173860   1.284138  -0.135  0.89230   \n",
      "cni         -0.007115   1.384043  -0.005  0.99590   \n",
      "ncre        -0.443445   0.675659  -0.656  0.51162   \n",
      "nnaa         0.052295   0.525433   0.100  0.92072   \n",
      "---\n",
      "Signif. codes:  0 ‘***’ 0.001 ‘**’ 0.01 ‘*’ 0.05 ‘.’ 0.1 ‘ ’ 1\n",
      "\n",
      "(Dispersion parameter for binomial family taken to be 1)\n",
      "\n",
      "    Null deviance: 106.260  on 96  degrees of freedom\n",
      "Residual deviance:  98.684  on 91  degrees of freedom\n",
      "AIC: 110.68\n",
      "\n",
      "Number of Fisher Scoring iterations: 4\n",
      "\n",
      "\n",
      "Call:\n",
      "glm(formula = lr_formula, family = binomial, data = data_thresh)\n",
      "\n",
      "Deviance Residuals: \n",
      "    Min       1Q   Median       3Q      Max  \n",
      "-1.5097  -0.7344  -0.5230  -0.2393   2.0271  \n",
      "\n",
      "Coefficients:\n",
      "              Estimate Std. Error z value Pr(>|z|)    \n",
      "(Intercept) -1.0339131  0.2966428  -3.485 0.000491 ***\n",
      "cbvn_nlin   -0.5299744  0.3552753  -1.492 0.135770    \n",
      "ccri         0.0199402  1.1127825   0.018 0.985703    \n",
      "cni         -0.4502843  1.2027924  -0.374 0.708132    \n",
      "ncre        -0.6870346  0.6644507  -1.034 0.301141    \n",
      "nnaa         0.0005286  0.5006064   0.001 0.999157    \n",
      "---\n",
      "Signif. codes:  0 ‘***’ 0.001 ‘**’ 0.01 ‘*’ 0.05 ‘.’ 0.1 ‘ ’ 1\n",
      "\n",
      "(Dispersion parameter for binomial family taken to be 1)\n",
      "\n",
      "    Null deviance: 86.608  on 77  degrees of freedom\n",
      "Residual deviance: 76.119  on 72  degrees of freedom\n",
      "AIC: 88.119\n",
      "\n",
      "Number of Fisher Scoring iterations: 4\n",
      "\n",
      "\n",
      "Call:\n",
      "glm(formula = lr_formula, family = binomial, data = data_thresh)\n",
      "\n",
      "Deviance Residuals: \n",
      "    Min       1Q   Median       3Q      Max  \n",
      "-1.1238  -0.7631  -0.5955  -0.3277   2.2824  \n",
      "\n",
      "Coefficients:\n",
      "            Estimate Std. Error z value Pr(>|z|)    \n",
      "(Intercept) -1.09354    0.29213  -3.743 0.000182 ***\n",
      "cbvn_nlin   -0.51487    0.32369  -1.591 0.111694    \n",
      "ccri         0.16298    1.05765   0.154 0.877534    \n",
      "cni         -0.39092    1.12562  -0.347 0.728367    \n",
      "ncre        -0.22589    0.60980  -0.370 0.711059    \n",
      "nnaa        -0.06343    0.45794  -0.139 0.889835    \n",
      "---\n",
      "Signif. codes:  0 ‘***’ 0.001 ‘**’ 0.01 ‘*’ 0.05 ‘.’ 0.1 ‘ ’ 1\n",
      "\n",
      "(Dispersion parameter for binomial family taken to be 1)\n",
      "\n",
      "    Null deviance: 98.317  on 90  degrees of freedom\n",
      "Residual deviance: 92.271  on 85  degrees of freedom\n",
      "AIC: 104.27\n",
      "\n",
      "Number of Fisher Scoring iterations: 4\n",
      "\n",
      "\n",
      "Call:\n",
      "glm(formula = lr_formula, family = binomial, data = data_thresh)\n",
      "\n",
      "Deviance Residuals: \n",
      "    Min       1Q   Median       3Q      Max  \n",
      "-1.5437  -0.7060  -0.4669  -0.1342   2.8473  \n",
      "\n",
      "Coefficients:\n",
      "            Estimate Std. Error z value Pr(>|z|)    \n",
      "(Intercept)  -1.2177     0.2792  -4.362 1.29e-05 ***\n",
      "cbvn_nlin    -0.8373     0.3895  -2.150   0.0316 *  \n",
      "ccri          1.1504     1.3701   0.840   0.4011    \n",
      "cni          -1.9900     1.5078  -1.320   0.1869    \n",
      "ncre          0.5004     0.8329   0.601   0.5480    \n",
      "nnaa         -0.2807     0.5390  -0.521   0.6026    \n",
      "---\n",
      "Signif. codes:  0 ‘***’ 0.001 ‘**’ 0.01 ‘*’ 0.05 ‘.’ 0.1 ‘ ’ 1\n",
      "\n",
      "(Dispersion parameter for binomial family taken to be 1)\n",
      "\n",
      "    Null deviance: 104.882  on 98  degrees of freedom\n",
      "Residual deviance:  88.961  on 93  degrees of freedom\n",
      "AIC: 100.96\n",
      "\n",
      "Number of Fisher Scoring iterations: 5\n",
      "\n",
      "\n",
      "Call:\n",
      "glm(formula = lr_formula, family = binomial, data = data_thresh)\n",
      "\n",
      "Deviance Residuals: \n",
      "    Min       1Q   Median       3Q      Max  \n",
      "-1.1175  -0.7578  -0.6016  -0.3594   2.1832  \n",
      "\n",
      "Coefficients:\n",
      "            Estimate Std. Error z value Pr(>|z|)    \n",
      "(Intercept)  -1.2171     0.2863  -4.251 2.13e-05 ***\n",
      "cbvn_nlin    -0.4926     0.3406  -1.446    0.148    \n",
      "ccri         -0.2668     0.9077  -0.294    0.769    \n",
      "cni           0.1898     0.9456   0.201    0.841    \n",
      "ncre         -0.4737     0.5837  -0.812    0.417    \n",
      "nnaa          0.2432     0.4295   0.566    0.571    \n",
      "---\n",
      "Signif. codes:  0 ‘***’ 0.001 ‘**’ 0.01 ‘*’ 0.05 ‘.’ 0.1 ‘ ’ 1\n",
      "\n",
      "(Dispersion parameter for binomial family taken to be 1)\n",
      "\n",
      "    Null deviance: 91.326  on 86  degrees of freedom\n",
      "Residual deviance: 87.122  on 81  degrees of freedom\n",
      "AIC: 99.122\n",
      "\n",
      "Number of Fisher Scoring iterations: 4\n",
      "\n"
     ]
    }
   ],
   "source": [
    "for (fold in c(1:5)){\n",
    "    ## divide data \n",
    "    data_thresh = data[which(data$fold != fold),]\n",
    "    data_pred = data[which(data$fold == fold),]\n",
    "    \n",
    "    ## cycle through cols to normalize: \n",
    "    for (col in features_mri){        \n",
    "        ## standardization: \n",
    "        med_col = median(data_thresh[,col], na.rm = T)\n",
    "        sd_col = sd(data_thresh[,col], na.rm = T)\n",
    "        \n",
    "        data_thresh[,col] = (data_thresh[,col]-med_col)/sd_col\n",
    "        data_pred[,col] = (data_pred[,col]-med_col)/sd_col\n",
    "\n",
    "        ##missing value filling: \n",
    "        data_thresh[,col] = ifelse(is.na(data_thresh[,col]), med_col, data_thresh[,col])\n",
    "        data_pred[,col] = ifelse(is.na(data_pred[,col]), med_col, data_pred[,col])\n",
    "    }\n",
    "    \n",
    "    ## create logReg for fold: \n",
    "    outcome = \"outcome\"\n",
    "    features = c( 'cbvn_nlin',\n",
    "                 'ccri', 'cni', 'ncre', 'nnaa')\n",
    "    features.addsign <- paste(features, collapse = \"+\")\n",
    "    lr_formula = as.formula(paste(outcome, features.addsign, sep = \"~\"))\n",
    "    lr.fit = glm(lr_formula, data = data_thresh, family = binomial)\n",
    "    print(summary(lr.fit))\n",
    "    ## predict on training data: (4folds)\n",
    "    fit.probs.data_thresh = predict(lr.fit, data_thresh, family = binomial, type = \"response\")\n",
    "    \n",
    "    roc_obj = roc(data_thresh$outcome, fit.probs.data_thresh, levels=c(\"txe\", \"rHGG\"), \n",
    "          percent = TRUE)\n",
    "    auc = (auc(roc_obj))\n",
    "    auc.ci1 = ci.auc(roc(data_thresh$outcome, fit.probs.data_thresh, levels=c(\"txe\", \"rHGG\"), \n",
    "        percent = TRUE))[1]\n",
    "    auc.ci2 = ci.auc(roc(data_thresh$outcome, fit.probs.data_thresh, levels=c(\"txe\", \"rHGG\"), \n",
    "        percent = TRUE))[3]\n",
    "    \n",
    "    thresh = pROC::coords(roc_obj, x = 'best', best.method = 'closest.topleft')['threshold']\n",
    "\n",
    "    fit.preds.data_thresh = as.factor(ifelse(fit.probs.data_thresh > thresh, \"txe\", 'rHGG'))\n",
    "\n",
    "    acc =  confusionMatrix(data = fit.preds.data_thresh, reference = data_thresh$outcome)$overall['Accuracy']\n",
    "    sens = confusionMatrix(data = fit.preds.data_thresh, reference = data_thresh$outcome)$byClass['Sensitivity']\n",
    "    spec = confusionMatrix(data = fit.preds.data_thresh, reference = data_thresh$outcome)$byClass['Specificity']\n",
    "    \n",
    "    ## predict on test   data: (5th fold)\n",
    "    fit.probs.data_pred = predict(lr.fit, data_pred, family = binomial, type = \"response\")\n",
    "    fit.preds.data_pred = as.factor(ifelse(fit.probs.data_pred > thresh, \"txe\", 'rHGG'))\n",
    "    \n",
    "    ## save the coefficients & p-values\n",
    "    \n",
    "    \n",
    "    acc_5 =  confusionMatrix(data = fit.preds.data_pred, reference = data_pred$outcome)$overall['Accuracy']\n",
    "    sens_5 = confusionMatrix(data = fit.preds.data_pred, reference = data_pred$outcome)$byClass['Sensitivity']\n",
    "    spec_5 = confusionMatrix(data = fit.preds.data_pred, reference = data_pred$outcome)$byClass['Specificity']\n",
    "    \n",
    "    preds = fit.preds.data_pred\n",
    "    outcome_pred_pruned = data_pred$outcome[!is.na(preds)]\n",
    "    outcome_pred_pruned = ifelse(outcome_pred_pruned == 'rHGG', 1, 0)\n",
    "    preds_pruned        = preds[!is.na(preds)]\n",
    "    preds_pruned        = ifelse(preds_pruned == \"rHGG\", 1, 0)\n",
    "\n",
    "\n",
    "    roc_pred = roc(outcome_pred_pruned, preds_pruned)\n",
    "    auc_pred = auc(roc_pred)\n",
    "    ci1_cv = ci.auc(roc_pred)[1]\n",
    "    ci2_cv = ci.auc(roc_pred)[3]\n",
    "\n",
    "    SAVE_FOLD = c(fold, auc, auc.ci1, auc.ci2, acc, sens, spec, acc_5, sens_5, spec_5, auc_pred)\n",
    "    scores_lr_impt = rbind(scores_lr_impt, SAVE_FOLD)\n",
    "}\n",
    "\n"
   ]
  },
  {
   "cell_type": "code",
   "execution_count": 47,
   "metadata": {},
   "outputs": [],
   "source": [
    "scores_lr_impt = scores_lr_impt[-1,]"
   ]
  },
  {
   "cell_type": "code",
   "execution_count": 48,
   "metadata": {
    "scrolled": true
   },
   "outputs": [
    {
     "data": {
      "text/html": [
       "<table>\n",
       "<thead><tr><th></th><th scope=col>med</th><th scope=col>mean</th><th scope=col>sd</th></tr></thead>\n",
       "<tbody>\n",
       "\t<tr><th scope=row>folds</th><td> 3.0000000</td><td> 3.0000000</td><td>1.58113883</td></tr>\n",
       "\t<tr><th scope=row>auc_4folds</th><td>68.8601645</td><td>71.3951590</td><td>5.43617959</td></tr>\n",
       "\t<tr><th scope=row>ci1_4folds</th><td>56.4642735</td><td>59.0830763</td><td>6.64376685</td></tr>\n",
       "\t<tr><th scope=row>ci2_4folds</th><td>81.2560555</td><td>83.7072418</td><td>4.26929078</td></tr>\n",
       "\t<tr><th scope=row>acc_4folds</th><td> 0.7142857</td><td> 0.7097451</td><td>0.01732731</td></tr>\n",
       "\t<tr><th scope=row>sens_4folds</th><td> 0.7162162</td><td> 0.7226735</td><td>0.04143802</td></tr>\n",
       "\t<tr><th scope=row>spec_4folds</th><td> 0.6086957</td><td> 0.6642545</td><td>0.10773455</td></tr>\n",
       "\t<tr><th scope=row>acc_CV</th><td> 0.6875000</td><td> 0.6421553</td><td>0.16467877</td></tr>\n",
       "\t<tr><th scope=row>sens_CV</th><td> 0.6923077</td><td> 0.6526809</td><td>0.16492852</td></tr>\n",
       "\t<tr><th scope=row>spec_CV</th><td> 0.7142857</td><td> 0.6290476</td><td>0.21728327</td></tr>\n",
       "\t<tr><th scope=row>auc_CV</th><td> 0.6794872</td><td> 0.6908643</td><td>0.08772494</td></tr>\n",
       "</tbody>\n",
       "</table>\n"
      ],
      "text/latex": [
       "\\begin{tabular}{r|lll}\n",
       "  & med & mean & sd\\\\\n",
       "\\hline\n",
       "\tfolds &  3.0000000 &  3.0000000 & 1.58113883\\\\\n",
       "\tauc\\_4folds & 68.8601645 & 71.3951590 & 5.43617959\\\\\n",
       "\tci1\\_4folds & 56.4642735 & 59.0830763 & 6.64376685\\\\\n",
       "\tci2\\_4folds & 81.2560555 & 83.7072418 & 4.26929078\\\\\n",
       "\tacc\\_4folds &  0.7142857 &  0.7097451 & 0.01732731\\\\\n",
       "\tsens\\_4folds &  0.7162162 &  0.7226735 & 0.04143802\\\\\n",
       "\tspec\\_4folds &  0.6086957 &  0.6642545 & 0.10773455\\\\\n",
       "\tacc\\_CV &  0.6875000 &  0.6421553 & 0.16467877\\\\\n",
       "\tsens\\_CV &  0.6923077 &  0.6526809 & 0.16492852\\\\\n",
       "\tspec\\_CV &  0.7142857 &  0.6290476 & 0.21728327\\\\\n",
       "\tauc\\_CV &  0.6794872 &  0.6908643 & 0.08772494\\\\\n",
       "\\end{tabular}\n"
      ],
      "text/markdown": [
       "\n",
       "| <!--/--> | med | mean | sd | \n",
       "|---|---|---|---|---|---|---|---|---|---|---|\n",
       "| folds |  3.0000000 |  3.0000000 | 1.58113883 | \n",
       "| auc_4folds | 68.8601645 | 71.3951590 | 5.43617959 | \n",
       "| ci1_4folds | 56.4642735 | 59.0830763 | 6.64376685 | \n",
       "| ci2_4folds | 81.2560555 | 83.7072418 | 4.26929078 | \n",
       "| acc_4folds |  0.7142857 |  0.7097451 | 0.01732731 | \n",
       "| sens_4folds |  0.7162162 |  0.7226735 | 0.04143802 | \n",
       "| spec_4folds |  0.6086957 |  0.6642545 | 0.10773455 | \n",
       "| acc_CV |  0.6875000 |  0.6421553 | 0.16467877 | \n",
       "| sens_CV |  0.6923077 |  0.6526809 | 0.16492852 | \n",
       "| spec_CV |  0.7142857 |  0.6290476 | 0.21728327 | \n",
       "| auc_CV |  0.6794872 |  0.6908643 | 0.08772494 | \n",
       "\n",
       "\n"
      ],
      "text/plain": [
       "            med        mean       sd        \n",
       "folds        3.0000000  3.0000000 1.58113883\n",
       "auc_4folds  68.8601645 71.3951590 5.43617959\n",
       "ci1_4folds  56.4642735 59.0830763 6.64376685\n",
       "ci2_4folds  81.2560555 83.7072418 4.26929078\n",
       "acc_4folds   0.7142857  0.7097451 0.01732731\n",
       "sens_4folds  0.7162162  0.7226735 0.04143802\n",
       "spec_4folds  0.6086957  0.6642545 0.10773455\n",
       "acc_CV       0.6875000  0.6421553 0.16467877\n",
       "sens_CV      0.6923077  0.6526809 0.16492852\n",
       "spec_CV      0.7142857  0.6290476 0.21728327\n",
       "auc_CV       0.6794872  0.6908643 0.08772494"
      ]
     },
     "metadata": {},
     "output_type": "display_data"
    }
   ],
   "source": [
    "data.frame(med = apply(scores_lr_impt , 2, median), mean = apply(scores_lr_impt , 2, mean), sd = apply(scores_lr_impt, 2, sd))\n"
   ]
  },
  {
   "cell_type": "code",
   "execution_count": null,
   "metadata": {},
   "outputs": [],
   "source": []
  },
  {
   "cell_type": "markdown",
   "metadata": {},
   "source": [
    "## LR with only \"important\" features and interaction term"
   ]
  },
  {
   "cell_type": "code",
   "execution_count": 42,
   "metadata": {},
   "outputs": [],
   "source": [
    "scores_lr_impt_int  = data.frame(folds = NA,  auc_4folds = NA,\n",
    "                        ci1_4folds = NA, \n",
    "                        ci2_4folds = NA,\n",
    "                        acc_4folds = NA,\n",
    "                        sens_4folds = NA, \n",
    "                        spec_4folds = NA, \n",
    "                        acc_CV = NA,\n",
    "                        sens_CV = NA, \n",
    "                        spec_CV = NA\n",
    "                       )"
   ]
  },
  {
   "cell_type": "code",
   "execution_count": 43,
   "metadata": {},
   "outputs": [
    {
     "name": "stdout",
     "output_type": "stream",
     "text": [
      "\n",
      "Call:\n",
      "glm(formula = lr_formula, family = binomial, data = data_thresh)\n",
      "\n",
      "Deviance Residuals: \n",
      "     Min        1Q    Median        3Q       Max  \n",
      "-1.56182  -0.76606  -0.58963  -0.00929   2.05518  \n",
      "\n",
      "Coefficients:\n",
      "                 Estimate Std. Error z value Pr(>|z|)  \n",
      "(Intercept)       -1.1398     0.4510  -2.527   0.0115 *\n",
      "in_CEL             0.7060     0.5310   1.330   0.1837  \n",
      "cbvn_nlin         -0.4140     0.3895  -1.063   0.2878  \n",
      "ccri              -0.9245     1.3724  -0.674   0.5006  \n",
      "cni                0.8991     1.4799   0.608   0.5435  \n",
      "ncre              -0.7227     0.7089  -1.019   0.3080  \n",
      "nnaa               0.3159     0.5556   0.569   0.5697  \n",
      "in_CEL:cbvn_nlin   1.4084     0.8946   1.574   0.1154  \n",
      "---\n",
      "Signif. codes:  0 ‘***’ 0.001 ‘**’ 0.01 ‘*’ 0.05 ‘.’ 0.1 ‘ ’ 1\n",
      "\n",
      "(Dispersion parameter for binomial family taken to be 1)\n",
      "\n",
      "    Null deviance: 106.260  on 96  degrees of freedom\n",
      "Residual deviance:  94.777  on 89  degrees of freedom\n",
      "AIC: 110.78\n",
      "\n",
      "Number of Fisher Scoring iterations: 6\n",
      "\n",
      "\n",
      "Call:\n",
      "glm(formula = lr_formula, family = binomial, data = data_thresh)\n",
      "\n",
      "Deviance Residuals: \n",
      "     Min        1Q    Median        3Q       Max  \n",
      "-1.67522  -0.70799  -0.52280  -0.06291   1.91614  \n",
      "\n",
      "Coefficients:\n",
      "                 Estimate Std. Error z value Pr(>|z|)  \n",
      "(Intercept)      -1.82524    0.77944  -2.342   0.0192 *\n",
      "in_CEL            0.50381    0.46986   1.072   0.2836  \n",
      "cbvn_nlin        -1.92539    1.33671  -1.440   0.1498  \n",
      "ccri             -0.40385    1.15234  -0.350   0.7260  \n",
      "cni               0.08004    1.25615   0.064   0.9492  \n",
      "ncre             -0.79575    0.67385  -1.181   0.2376  \n",
      "nnaa              0.15997    0.51571   0.310   0.7564  \n",
      "in_CEL:cbvn_nlin  0.71741    0.70636   1.016   0.3098  \n",
      "---\n",
      "Signif. codes:  0 ‘***’ 0.001 ‘**’ 0.01 ‘*’ 0.05 ‘.’ 0.1 ‘ ’ 1\n",
      "\n",
      "(Dispersion parameter for binomial family taken to be 1)\n",
      "\n",
      "    Null deviance: 86.608  on 77  degrees of freedom\n",
      "Residual deviance: 74.367  on 70  degrees of freedom\n",
      "AIC: 90.367\n",
      "\n",
      "Number of Fisher Scoring iterations: 6\n",
      "\n",
      "\n",
      "Call:\n",
      "glm(formula = lr_formula, family = binomial, data = data_thresh)\n",
      "\n",
      "Deviance Residuals: \n",
      "     Min        1Q    Median        3Q       Max  \n",
      "-1.44132  -0.73200  -0.62767  -0.05581   2.06787  \n",
      "\n",
      "Coefficients:\n",
      "                 Estimate Std. Error z value Pr(>|z|)   \n",
      "(Intercept)      -1.26875    0.42386  -2.993  0.00276 **\n",
      "in_CEL            0.29320    0.44978   0.652  0.51447   \n",
      "cbvn_nlin        -0.16936    0.38966  -0.435  0.66382   \n",
      "ccri             -0.23762    1.11970  -0.212  0.83193   \n",
      "cni               0.13497    1.18533   0.114  0.90935   \n",
      "ncre             -0.38816    0.62495  -0.621  0.53453   \n",
      "nnaa              0.05877    0.47730   0.123  0.90201   \n",
      "in_CEL:cbvn_nlin  0.90523    0.61898   1.462  0.14362   \n",
      "---\n",
      "Signif. codes:  0 ‘***’ 0.001 ‘**’ 0.01 ‘*’ 0.05 ‘.’ 0.1 ‘ ’ 1\n",
      "\n",
      "(Dispersion parameter for binomial family taken to be 1)\n",
      "\n",
      "    Null deviance: 98.317  on 90  degrees of freedom\n",
      "Residual deviance: 89.279  on 83  degrees of freedom\n",
      "AIC: 105.28\n",
      "\n",
      "Number of Fisher Scoring iterations: 6\n",
      "\n",
      "\n",
      "Call:\n",
      "glm(formula = lr_formula, family = binomial, data = data_thresh)\n",
      "\n",
      "Deviance Residuals: \n",
      "     Min        1Q    Median        3Q       Max  \n",
      "-1.66382  -0.71970  -0.47390  -0.04826   2.71715  \n",
      "\n",
      "Coefficients:\n",
      "                 Estimate Std. Error z value Pr(>|z|)   \n",
      "(Intercept)       -1.1110     0.3959  -2.806  0.00501 **\n",
      "in_CEL             0.4014     0.5079   0.790  0.42934   \n",
      "cbvn_nlin         -0.7785     0.5039  -1.545  0.12236   \n",
      "ccri               0.8187     1.4132   0.579  0.56237   \n",
      "cni               -1.6028     1.5574  -1.029  0.30341   \n",
      "ncre               0.3896     0.8487   0.459  0.64623   \n",
      "nnaa              -0.1796     0.5537  -0.324  0.74567   \n",
      "in_CEL:cbvn_nlin   0.5562     0.7770   0.716  0.47404   \n",
      "---\n",
      "Signif. codes:  0 ‘***’ 0.001 ‘**’ 0.01 ‘*’ 0.05 ‘.’ 0.1 ‘ ’ 1\n",
      "\n",
      "(Dispersion parameter for binomial family taken to be 1)\n",
      "\n",
      "    Null deviance: 104.882  on 98  degrees of freedom\n",
      "Residual deviance:  88.155  on 91  degrees of freedom\n",
      "AIC: 104.16\n",
      "\n",
      "Number of Fisher Scoring iterations: 6\n",
      "\n",
      "\n",
      "Call:\n",
      "glm(formula = lr_formula, family = binomial, data = data_thresh)\n",
      "\n",
      "Deviance Residuals: \n",
      "    Min       1Q   Median       3Q      Max  \n",
      "-1.0906  -0.7357  -0.6150  -0.1766   2.1181  \n",
      "\n",
      "Coefficients:\n",
      "                 Estimate Std. Error z value Pr(>|z|)   \n",
      "(Intercept)       -1.3199     0.4192  -3.149  0.00164 **\n",
      "in_CEL             0.1659     0.4300   0.386  0.69960   \n",
      "cbvn_nlin         -0.3015     0.3937  -0.766  0.44382   \n",
      "ccri              -0.5959     0.9811  -0.607  0.54364   \n",
      "cni                0.5725     1.0239   0.559  0.57609   \n",
      "ncre              -0.6629     0.6183  -1.072  0.28362   \n",
      "nnaa               0.3719     0.4516   0.824  0.41022   \n",
      "in_CEL:cbvn_nlin   0.6388     0.7450   0.857  0.39120   \n",
      "---\n",
      "Signif. codes:  0 ‘***’ 0.001 ‘**’ 0.01 ‘*’ 0.05 ‘.’ 0.1 ‘ ’ 1\n",
      "\n",
      "(Dispersion parameter for binomial family taken to be 1)\n",
      "\n",
      "    Null deviance: 91.326  on 86  degrees of freedom\n",
      "Residual deviance: 86.036  on 79  degrees of freedom\n",
      "AIC: 102.04\n",
      "\n",
      "Number of Fisher Scoring iterations: 6\n",
      "\n"
     ]
    }
   ],
   "source": [
    "for (fold in c(1:5)){\n",
    "    ## divide data \n",
    "    data_thresh = data[which(data$fold != fold),]\n",
    "    data_pred = data[which(data$fold == fold),]\n",
    "    \n",
    "    ## cycle through cols to normalize: \n",
    "    for (col in features_mri){        \n",
    "        ## standardization: \n",
    "        med_col = median(data_thresh[,col], na.rm = T)\n",
    "        sd_col = sd(data_thresh[,col], na.rm = T)\n",
    "        \n",
    "        data_thresh[,col] = (data_thresh[,col]-med_col)/sd_col\n",
    "        data_pred[,col] = (data_pred[,col]-med_col)/sd_col\n",
    "\n",
    "        ##missing value filling: \n",
    "        data_thresh[,col] = ifelse(is.na(data_thresh[,col]), med_col, data_thresh[,col])\n",
    "        data_pred[,col] = ifelse(is.na(data_pred[,col]), med_col, data_pred[,col])\n",
    "    }\n",
    "    \n",
    "    ## create logReg for fold: \n",
    "    outcome = \"outcome\"\n",
    "    features = c( 'cbvn_nlin',\n",
    "                 'ccri', 'cni', 'ncre', 'nnaa')\n",
    "    features.addsign <- paste(features, collapse = \"+\")\n",
    "    features.addCEL <- paste('in_CEL*', features.addsign)\n",
    "    lr_formula = as.formula(paste(outcome, features.addCEL, sep = \"~\"))\n",
    "    lr.fit = glm(lr_formula, data = data_thresh, family = binomial)\n",
    "    print(summary(lr.fit))\n",
    "    ## predict on training data: (4folds)\n",
    "    fit.probs.data_thresh = predict(lr.fit, data_thresh, family = binomial, type = \"response\")\n",
    "    \n",
    "    roc_obj = roc(data_thresh$outcome, fit.probs.data_thresh, levels=c(\"txe\", \"rHGG\"), \n",
    "          percent = TRUE)\n",
    "    auc = (auc(roc_obj))\n",
    "    auc.ci1 = ci.auc(roc(data_thresh$outcome, fit.probs.data_thresh, levels=c(\"txe\", \"rHGG\"), \n",
    "        percent = TRUE))[1]\n",
    "    auc.ci2 = ci.auc(roc(data_thresh$outcome, fit.probs.data_thresh, levels=c(\"txe\", \"rHGG\"), \n",
    "        percent = TRUE))[3]\n",
    "    \n",
    "    thresh = pROC::coords(roc_obj, x = 'best', best.method = 'closest.topleft')['threshold']\n",
    "\n",
    "    fit.preds.data_thresh = as.factor(ifelse(fit.probs.data_thresh > thresh, \"txe\", 'rHGG'))\n",
    "\n",
    "    acc =  confusionMatrix(data = fit.preds.data_thresh, reference = data_thresh$outcome)$overall['Accuracy']\n",
    "    sens = confusionMatrix(data = fit.preds.data_thresh, reference = data_thresh$outcome)$byClass['Sensitivity']\n",
    "    spec = confusionMatrix(data = fit.preds.data_thresh, reference = data_thresh$outcome)$byClass['Specificity']\n",
    "    \n",
    "    ## predict on test   data: (5th fold)\n",
    "    fit.probs.data_pred = predict(lr.fit, data_pred, family = binomial, type = \"response\")\n",
    "    fit.preds.data_pred = as.factor(ifelse(fit.probs.data_pred > thresh, \"txe\", 'rHGG'))\n",
    "    \n",
    "    ## save the coefficients & p-values\n",
    "    \n",
    "    \n",
    "    acc_5 =  confusionMatrix(data = fit.preds.data_pred, reference = data_pred$outcome)$overall['Accuracy']\n",
    "    sens_5 = confusionMatrix(data = fit.preds.data_pred, reference = data_pred$outcome)$byClass['Sensitivity']\n",
    "    spec_5 = confusionMatrix(data = fit.preds.data_pred, reference = data_pred$outcome)$byClass['Specificity']\n",
    "\n",
    "    SAVE_FOLD = c(fold, auc, auc.ci1, auc.ci2, acc, sens, spec, acc_5, sens_5, spec_5)\n",
    "    scores_lr_impt_int = rbind(scores_lr_impt_int, SAVE_FOLD)\n",
    "}\n",
    "\n"
   ]
  },
  {
   "cell_type": "code",
   "execution_count": 44,
   "metadata": {},
   "outputs": [],
   "source": [
    "scores_lr_impt_int = scores_lr_impt_int[-1,]"
   ]
  },
  {
   "cell_type": "code",
   "execution_count": 45,
   "metadata": {
    "scrolled": true
   },
   "outputs": [
    {
     "data": {
      "text/html": [
       "<table>\n",
       "<thead><tr><th></th><th scope=col>med</th><th scope=col>mean</th><th scope=col>sd</th></tr></thead>\n",
       "<tbody>\n",
       "\t<tr><th scope=row>folds</th><td> 3.0000000</td><td> 3.0000000</td><td>1.58113883</td></tr>\n",
       "\t<tr><th scope=row>auc_4folds</th><td>71.3278496</td><td>72.1817233</td><td>5.36421986</td></tr>\n",
       "\t<tr><th scope=row>ci1_4folds</th><td>59.7912990</td><td>60.2726991</td><td>6.30166257</td></tr>\n",
       "\t<tr><th scope=row>ci2_4folds</th><td>82.8644002</td><td>84.0907474</td><td>4.45264167</td></tr>\n",
       "\t<tr><th scope=row>acc_4folds</th><td> 0.6494845</td><td> 0.6723943</td><td>0.05707103</td></tr>\n",
       "\t<tr><th scope=row>sens_4folds</th><td> 0.6351351</td><td> 0.6569039</td><td>0.07386676</td></tr>\n",
       "\t<tr><th scope=row>spec_4folds</th><td> 0.7142857</td><td> 0.7236144</td><td>0.04221449</td></tr>\n",
       "\t<tr><th scope=row>acc_CV</th><td> 0.5769231</td><td> 0.5762288</td><td>0.05683267</td></tr>\n",
       "\t<tr><th scope=row>sens_CV</th><td> 0.5882353</td><td> 0.6118981</td><td>0.08425335</td></tr>\n",
       "\t<tr><th scope=row>spec_CV</th><td> 0.5714286</td><td> 0.4838095</td><td>0.32306637</td></tr>\n",
       "</tbody>\n",
       "</table>\n"
      ],
      "text/latex": [
       "\\begin{tabular}{r|lll}\n",
       "  & med & mean & sd\\\\\n",
       "\\hline\n",
       "\tfolds &  3.0000000 &  3.0000000 & 1.58113883\\\\\n",
       "\tauc\\_4folds & 71.3278496 & 72.1817233 & 5.36421986\\\\\n",
       "\tci1\\_4folds & 59.7912990 & 60.2726991 & 6.30166257\\\\\n",
       "\tci2\\_4folds & 82.8644002 & 84.0907474 & 4.45264167\\\\\n",
       "\tacc\\_4folds &  0.6494845 &  0.6723943 & 0.05707103\\\\\n",
       "\tsens\\_4folds &  0.6351351 &  0.6569039 & 0.07386676\\\\\n",
       "\tspec\\_4folds &  0.7142857 &  0.7236144 & 0.04221449\\\\\n",
       "\tacc\\_CV &  0.5769231 &  0.5762288 & 0.05683267\\\\\n",
       "\tsens\\_CV &  0.5882353 &  0.6118981 & 0.08425335\\\\\n",
       "\tspec\\_CV &  0.5714286 &  0.4838095 & 0.32306637\\\\\n",
       "\\end{tabular}\n"
      ],
      "text/markdown": [
       "\n",
       "| <!--/--> | med | mean | sd | \n",
       "|---|---|---|---|---|---|---|---|---|---|\n",
       "| folds |  3.0000000 |  3.0000000 | 1.58113883 | \n",
       "| auc_4folds | 71.3278496 | 72.1817233 | 5.36421986 | \n",
       "| ci1_4folds | 59.7912990 | 60.2726991 | 6.30166257 | \n",
       "| ci2_4folds | 82.8644002 | 84.0907474 | 4.45264167 | \n",
       "| acc_4folds |  0.6494845 |  0.6723943 | 0.05707103 | \n",
       "| sens_4folds |  0.6351351 |  0.6569039 | 0.07386676 | \n",
       "| spec_4folds |  0.7142857 |  0.7236144 | 0.04221449 | \n",
       "| acc_CV |  0.5769231 |  0.5762288 | 0.05683267 | \n",
       "| sens_CV |  0.5882353 |  0.6118981 | 0.08425335 | \n",
       "| spec_CV |  0.5714286 |  0.4838095 | 0.32306637 | \n",
       "\n",
       "\n"
      ],
      "text/plain": [
       "            med        mean       sd        \n",
       "folds        3.0000000  3.0000000 1.58113883\n",
       "auc_4folds  71.3278496 72.1817233 5.36421986\n",
       "ci1_4folds  59.7912990 60.2726991 6.30166257\n",
       "ci2_4folds  82.8644002 84.0907474 4.45264167\n",
       "acc_4folds   0.6494845  0.6723943 0.05707103\n",
       "sens_4folds  0.6351351  0.6569039 0.07386676\n",
       "spec_4folds  0.7142857  0.7236144 0.04221449\n",
       "acc_CV       0.5769231  0.5762288 0.05683267\n",
       "sens_CV      0.5882353  0.6118981 0.08425335\n",
       "spec_CV      0.5714286  0.4838095 0.32306637"
      ]
     },
     "metadata": {},
     "output_type": "display_data"
    }
   ],
   "source": [
    "data.frame(med = apply(scores_lr_impt_int , 2, median), mean = apply(scores_lr_impt_int , 2, mean), sd = apply(scores_lr_impt_int, 2, sd))\n"
   ]
  },
  {
   "cell_type": "code",
   "execution_count": null,
   "metadata": {},
   "outputs": [],
   "source": []
  },
  {
   "cell_type": "markdown",
   "metadata": {},
   "source": [
    "## LR with only \"important\" features: "
   ]
  },
  {
   "cell_type": "code",
   "execution_count": 46,
   "metadata": {},
   "outputs": [],
   "source": [
    "scores_lr_impt  = data.frame(folds = NA,  auc_4folds = NA,\n",
    "                        ci1_4folds = NA, \n",
    "                        ci2_4folds = NA,\n",
    "                        acc_4folds = NA,\n",
    "                        sens_4folds = NA, \n",
    "                        spec_4folds = NA, \n",
    "                        acc_CV = NA,\n",
    "                        sens_CV = NA, \n",
    "                        spec_CV = NA\n",
    "                       )"
   ]
  },
  {
   "cell_type": "code",
   "execution_count": 47,
   "metadata": {},
   "outputs": [
    {
     "name": "stdout",
     "output_type": "stream",
     "text": [
      "\n",
      "Call:\n",
      "glm(formula = lr_formula, family = binomial, data = data_thresh)\n",
      "\n",
      "Deviance Residuals: \n",
      "    Min       1Q   Median       3Q      Max  \n",
      "-1.3003  -0.7638  -0.5907  -0.2934   2.3137  \n",
      "\n",
      "Coefficients:\n",
      "             Estimate Std. Error z value Pr(>|z|)   \n",
      "(Intercept) -1.078040   0.327774  -3.289  0.00101 **\n",
      "cbvn_nlin   -0.614359   0.325682  -1.886  0.05924 . \n",
      "ccri        -0.173860   1.284138  -0.135  0.89230   \n",
      "cni         -0.007115   1.384043  -0.005  0.99590   \n",
      "ncre        -0.443445   0.675659  -0.656  0.51162   \n",
      "nnaa         0.052295   0.525433   0.100  0.92072   \n",
      "---\n",
      "Signif. codes:  0 ‘***’ 0.001 ‘**’ 0.01 ‘*’ 0.05 ‘.’ 0.1 ‘ ’ 1\n",
      "\n",
      "(Dispersion parameter for binomial family taken to be 1)\n",
      "\n",
      "    Null deviance: 106.260  on 96  degrees of freedom\n",
      "Residual deviance:  98.684  on 91  degrees of freedom\n",
      "AIC: 110.68\n",
      "\n",
      "Number of Fisher Scoring iterations: 4\n",
      "\n",
      "\n",
      "Call:\n",
      "glm(formula = lr_formula, family = binomial, data = data_thresh)\n",
      "\n",
      "Deviance Residuals: \n",
      "    Min       1Q   Median       3Q      Max  \n",
      "-1.5097  -0.7344  -0.5230  -0.2393   2.0271  \n",
      "\n",
      "Coefficients:\n",
      "              Estimate Std. Error z value Pr(>|z|)    \n",
      "(Intercept) -1.0339131  0.2966428  -3.485 0.000491 ***\n",
      "cbvn_nlin   -0.5299744  0.3552753  -1.492 0.135770    \n",
      "ccri         0.0199402  1.1127825   0.018 0.985703    \n",
      "cni         -0.4502843  1.2027924  -0.374 0.708132    \n",
      "ncre        -0.6870346  0.6644507  -1.034 0.301141    \n",
      "nnaa         0.0005286  0.5006064   0.001 0.999157    \n",
      "---\n",
      "Signif. codes:  0 ‘***’ 0.001 ‘**’ 0.01 ‘*’ 0.05 ‘.’ 0.1 ‘ ’ 1\n",
      "\n",
      "(Dispersion parameter for binomial family taken to be 1)\n",
      "\n",
      "    Null deviance: 86.608  on 77  degrees of freedom\n",
      "Residual deviance: 76.119  on 72  degrees of freedom\n",
      "AIC: 88.119\n",
      "\n",
      "Number of Fisher Scoring iterations: 4\n",
      "\n",
      "\n",
      "Call:\n",
      "glm(formula = lr_formula, family = binomial, data = data_thresh)\n",
      "\n",
      "Deviance Residuals: \n",
      "    Min       1Q   Median       3Q      Max  \n",
      "-1.1238  -0.7631  -0.5955  -0.3277   2.2824  \n",
      "\n",
      "Coefficients:\n",
      "            Estimate Std. Error z value Pr(>|z|)    \n",
      "(Intercept) -1.09354    0.29213  -3.743 0.000182 ***\n",
      "cbvn_nlin   -0.51487    0.32369  -1.591 0.111694    \n",
      "ccri         0.16298    1.05765   0.154 0.877534    \n",
      "cni         -0.39092    1.12562  -0.347 0.728367    \n",
      "ncre        -0.22589    0.60980  -0.370 0.711059    \n",
      "nnaa        -0.06343    0.45794  -0.139 0.889835    \n",
      "---\n",
      "Signif. codes:  0 ‘***’ 0.001 ‘**’ 0.01 ‘*’ 0.05 ‘.’ 0.1 ‘ ’ 1\n",
      "\n",
      "(Dispersion parameter for binomial family taken to be 1)\n",
      "\n",
      "    Null deviance: 98.317  on 90  degrees of freedom\n",
      "Residual deviance: 92.271  on 85  degrees of freedom\n",
      "AIC: 104.27\n",
      "\n",
      "Number of Fisher Scoring iterations: 4\n",
      "\n",
      "\n",
      "Call:\n",
      "glm(formula = lr_formula, family = binomial, data = data_thresh)\n",
      "\n",
      "Deviance Residuals: \n",
      "    Min       1Q   Median       3Q      Max  \n",
      "-1.5437  -0.7060  -0.4669  -0.1342   2.8473  \n",
      "\n",
      "Coefficients:\n",
      "            Estimate Std. Error z value Pr(>|z|)    \n",
      "(Intercept)  -1.2177     0.2792  -4.362 1.29e-05 ***\n",
      "cbvn_nlin    -0.8373     0.3895  -2.150   0.0316 *  \n",
      "ccri          1.1504     1.3701   0.840   0.4011    \n",
      "cni          -1.9900     1.5078  -1.320   0.1869    \n",
      "ncre          0.5004     0.8329   0.601   0.5480    \n",
      "nnaa         -0.2807     0.5390  -0.521   0.6026    \n",
      "---\n",
      "Signif. codes:  0 ‘***’ 0.001 ‘**’ 0.01 ‘*’ 0.05 ‘.’ 0.1 ‘ ’ 1\n",
      "\n",
      "(Dispersion parameter for binomial family taken to be 1)\n",
      "\n",
      "    Null deviance: 104.882  on 98  degrees of freedom\n",
      "Residual deviance:  88.961  on 93  degrees of freedom\n",
      "AIC: 100.96\n",
      "\n",
      "Number of Fisher Scoring iterations: 5\n",
      "\n",
      "\n",
      "Call:\n",
      "glm(formula = lr_formula, family = binomial, data = data_thresh)\n",
      "\n",
      "Deviance Residuals: \n",
      "    Min       1Q   Median       3Q      Max  \n",
      "-1.1175  -0.7578  -0.6016  -0.3594   2.1832  \n",
      "\n",
      "Coefficients:\n",
      "            Estimate Std. Error z value Pr(>|z|)    \n",
      "(Intercept)  -1.2171     0.2863  -4.251 2.13e-05 ***\n",
      "cbvn_nlin    -0.4926     0.3406  -1.446    0.148    \n",
      "ccri         -0.2668     0.9077  -0.294    0.769    \n",
      "cni           0.1898     0.9456   0.201    0.841    \n",
      "ncre         -0.4737     0.5837  -0.812    0.417    \n",
      "nnaa          0.2432     0.4295   0.566    0.571    \n",
      "---\n",
      "Signif. codes:  0 ‘***’ 0.001 ‘**’ 0.01 ‘*’ 0.05 ‘.’ 0.1 ‘ ’ 1\n",
      "\n",
      "(Dispersion parameter for binomial family taken to be 1)\n",
      "\n",
      "    Null deviance: 91.326  on 86  degrees of freedom\n",
      "Residual deviance: 87.122  on 81  degrees of freedom\n",
      "AIC: 99.122\n",
      "\n",
      "Number of Fisher Scoring iterations: 4\n",
      "\n"
     ]
    }
   ],
   "source": [
    "for (fold in c(1:5)){\n",
    "    ## divide data \n",
    "    data_thresh = data[which(data$fold != fold),]\n",
    "    data_pred = data[which(data$fold == fold),]\n",
    "    \n",
    "    ## cycle through cols to normalize: \n",
    "    for (col in features_mri){        \n",
    "        ## standardization: \n",
    "        med_col = median(data_thresh[,col], na.rm = T)\n",
    "        sd_col = sd(data_thresh[,col], na.rm = T)\n",
    "        \n",
    "        data_thresh[,col] = (data_thresh[,col]-med_col)/sd_col\n",
    "        data_pred[,col] = (data_pred[,col]-med_col)/sd_col\n",
    "\n",
    "        ##missing value filling: \n",
    "        data_thresh[,col] = ifelse(is.na(data_thresh[,col]), med_col, data_thresh[,col])\n",
    "        data_pred[,col] = ifelse(is.na(data_pred[,col]), med_col, data_pred[,col])\n",
    "    }\n",
    "    \n",
    "    ## create logReg for fold: \n",
    "    outcome = \"outcome\"\n",
    "    features = c( 'cbvn_nlin',\n",
    "                 'ccri', 'cni', 'ncre', 'nnaa')\n",
    "    features.addsign <- paste(features, collapse = \"+\")\n",
    "    lr_formula = as.formula(paste(outcome, features.addsign, sep = \"~\"))\n",
    "    lr.fit = glm(lr_formula, data = data_thresh, family = binomial)\n",
    "    print(summary(lr.fit))\n",
    "    ## predict on training data: (4folds)\n",
    "    fit.probs.data_thresh = predict(lr.fit, data_thresh, family = binomial, type = \"response\")\n",
    "    \n",
    "    roc_obj = roc(data_thresh$outcome, fit.probs.data_thresh, levels=c(\"txe\", \"rHGG\"), \n",
    "          percent = TRUE)\n",
    "    auc = (auc(roc_obj))\n",
    "    auc.ci1 = ci.auc(roc(data_thresh$outcome, fit.probs.data_thresh, levels=c(\"txe\", \"rHGG\"), \n",
    "        percent = TRUE))[1]\n",
    "    auc.ci2 = ci.auc(roc(data_thresh$outcome, fit.probs.data_thresh, levels=c(\"txe\", \"rHGG\"), \n",
    "        percent = TRUE))[3]\n",
    "    \n",
    "    thresh = pROC::coords(roc_obj, x = 'best', best.method = 'closest.topleft')['threshold']\n",
    "\n",
    "    fit.preds.data_thresh = as.factor(ifelse(fit.probs.data_thresh > thresh, \"txe\", 'rHGG'))\n",
    "\n",
    "    acc =  confusionMatrix(data = fit.preds.data_thresh, reference = data_thresh$outcome)$overall['Accuracy']\n",
    "    sens = confusionMatrix(data = fit.preds.data_thresh, reference = data_thresh$outcome)$byClass['Sensitivity']\n",
    "    spec = confusionMatrix(data = fit.preds.data_thresh, reference = data_thresh$outcome)$byClass['Specificity']\n",
    "    \n",
    "    ## predict on test   data: (5th fold)\n",
    "    fit.probs.data_pred = predict(lr.fit, data_pred, family = binomial, type = \"response\")\n",
    "    fit.preds.data_pred = as.factor(ifelse(fit.probs.data_pred > thresh, \"txe\", 'rHGG'))\n",
    "    \n",
    "    ## save the coefficients & p-values\n",
    "    \n",
    "    \n",
    "    acc_5 =  confusionMatrix(data = fit.preds.data_pred, reference = data_pred$outcome)$overall['Accuracy']\n",
    "    sens_5 = confusionMatrix(data = fit.preds.data_pred, reference = data_pred$outcome)$byClass['Sensitivity']\n",
    "    spec_5 = confusionMatrix(data = fit.preds.data_pred, reference = data_pred$outcome)$byClass['Specificity']\n",
    "\n",
    "    SAVE_FOLD = c(fold, auc, auc.ci1, auc.ci2, acc, sens, spec, acc_5, sens_5, spec_5)\n",
    "    scores_lr_impt = rbind(scores_lr_impt, SAVE_FOLD)\n",
    "}\n",
    "\n"
   ]
  },
  {
   "cell_type": "code",
   "execution_count": 48,
   "metadata": {},
   "outputs": [],
   "source": [
    "scores_lr_impt = scores_lr_impt[-1,]"
   ]
  },
  {
   "cell_type": "code",
   "execution_count": 49,
   "metadata": {
    "scrolled": true
   },
   "outputs": [
    {
     "data": {
      "text/html": [
       "<table>\n",
       "<thead><tr><th></th><th scope=col>med</th><th scope=col>mean</th><th scope=col>sd</th></tr></thead>\n",
       "<tbody>\n",
       "\t<tr><th scope=row>folds</th><td> 3.0000000</td><td> 3.0000000</td><td>1.58113883</td></tr>\n",
       "\t<tr><th scope=row>auc_4folds</th><td>68.8601645</td><td>71.3951590</td><td>5.43617959</td></tr>\n",
       "\t<tr><th scope=row>ci1_4folds</th><td>56.4642735</td><td>59.0830763</td><td>6.64376685</td></tr>\n",
       "\t<tr><th scope=row>ci2_4folds</th><td>81.2560555</td><td>83.7072418</td><td>4.26929078</td></tr>\n",
       "\t<tr><th scope=row>acc_4folds</th><td> 0.7142857</td><td> 0.7097451</td><td>0.01732731</td></tr>\n",
       "\t<tr><th scope=row>sens_4folds</th><td> 0.7162162</td><td> 0.7226735</td><td>0.04143802</td></tr>\n",
       "\t<tr><th scope=row>spec_4folds</th><td> 0.6086957</td><td> 0.6642545</td><td>0.10773455</td></tr>\n",
       "\t<tr><th scope=row>acc_CV</th><td> 0.6875000</td><td> 0.6421553</td><td>0.16467877</td></tr>\n",
       "\t<tr><th scope=row>sens_CV</th><td> 0.6923077</td><td> 0.6526809</td><td>0.16492852</td></tr>\n",
       "\t<tr><th scope=row>spec_CV</th><td> 0.7142857</td><td> 0.6290476</td><td>0.21728327</td></tr>\n",
       "</tbody>\n",
       "</table>\n"
      ],
      "text/latex": [
       "\\begin{tabular}{r|lll}\n",
       "  & med & mean & sd\\\\\n",
       "\\hline\n",
       "\tfolds &  3.0000000 &  3.0000000 & 1.58113883\\\\\n",
       "\tauc\\_4folds & 68.8601645 & 71.3951590 & 5.43617959\\\\\n",
       "\tci1\\_4folds & 56.4642735 & 59.0830763 & 6.64376685\\\\\n",
       "\tci2\\_4folds & 81.2560555 & 83.7072418 & 4.26929078\\\\\n",
       "\tacc\\_4folds &  0.7142857 &  0.7097451 & 0.01732731\\\\\n",
       "\tsens\\_4folds &  0.7162162 &  0.7226735 & 0.04143802\\\\\n",
       "\tspec\\_4folds &  0.6086957 &  0.6642545 & 0.10773455\\\\\n",
       "\tacc\\_CV &  0.6875000 &  0.6421553 & 0.16467877\\\\\n",
       "\tsens\\_CV &  0.6923077 &  0.6526809 & 0.16492852\\\\\n",
       "\tspec\\_CV &  0.7142857 &  0.6290476 & 0.21728327\\\\\n",
       "\\end{tabular}\n"
      ],
      "text/markdown": [
       "\n",
       "| <!--/--> | med | mean | sd | \n",
       "|---|---|---|---|---|---|---|---|---|---|\n",
       "| folds |  3.0000000 |  3.0000000 | 1.58113883 | \n",
       "| auc_4folds | 68.8601645 | 71.3951590 | 5.43617959 | \n",
       "| ci1_4folds | 56.4642735 | 59.0830763 | 6.64376685 | \n",
       "| ci2_4folds | 81.2560555 | 83.7072418 | 4.26929078 | \n",
       "| acc_4folds |  0.7142857 |  0.7097451 | 0.01732731 | \n",
       "| sens_4folds |  0.7162162 |  0.7226735 | 0.04143802 | \n",
       "| spec_4folds |  0.6086957 |  0.6642545 | 0.10773455 | \n",
       "| acc_CV |  0.6875000 |  0.6421553 | 0.16467877 | \n",
       "| sens_CV |  0.6923077 |  0.6526809 | 0.16492852 | \n",
       "| spec_CV |  0.7142857 |  0.6290476 | 0.21728327 | \n",
       "\n",
       "\n"
      ],
      "text/plain": [
       "            med        mean       sd        \n",
       "folds        3.0000000  3.0000000 1.58113883\n",
       "auc_4folds  68.8601645 71.3951590 5.43617959\n",
       "ci1_4folds  56.4642735 59.0830763 6.64376685\n",
       "ci2_4folds  81.2560555 83.7072418 4.26929078\n",
       "acc_4folds   0.7142857  0.7097451 0.01732731\n",
       "sens_4folds  0.7162162  0.7226735 0.04143802\n",
       "spec_4folds  0.6086957  0.6642545 0.10773455\n",
       "acc_CV       0.6875000  0.6421553 0.16467877\n",
       "sens_CV      0.6923077  0.6526809 0.16492852\n",
       "spec_CV      0.7142857  0.6290476 0.21728327"
      ]
     },
     "metadata": {},
     "output_type": "display_data"
    }
   ],
   "source": [
    "data.frame(med = apply(scores_lr_impt , 2, median), mean = apply(scores_lr_impt , 2, mean), sd = apply(scores_lr_impt, 2, sd))\n"
   ]
  },
  {
   "cell_type": "markdown",
   "metadata": {},
   "source": [
    "## GLMM LR with only \"important\" features and interaction term"
   ]
  },
  {
   "cell_type": "code",
   "execution_count": 50,
   "metadata": {},
   "outputs": [
    {
     "name": "stderr",
     "output_type": "stream",
     "text": [
      "Loading required package: Matrix\n"
     ]
    }
   ],
   "source": [
    "library('lme4')"
   ]
  },
  {
   "cell_type": "code",
   "execution_count": 51,
   "metadata": {},
   "outputs": [
    {
     "data": {
      "text/html": [
       "<ol class=list-inline>\n",
       "\t<li>'nadc.1'</li>\n",
       "\t<li>'nfa.1'</li>\n",
       "\t<li>'cbvn_nlin'</li>\n",
       "\t<li>'ccri'</li>\n",
       "\t<li>'cni'</li>\n",
       "\t<li>'ncre'</li>\n",
       "\t<li>'ncho'</li>\n",
       "\t<li>'nnaa'</li>\n",
       "\t<li>'in_CEL'</li>\n",
       "\t<li>'newdata'</li>\n",
       "</ol>\n"
      ],
      "text/latex": [
       "\\begin{enumerate*}\n",
       "\\item 'nadc.1'\n",
       "\\item 'nfa.1'\n",
       "\\item 'cbvn\\_nlin'\n",
       "\\item 'ccri'\n",
       "\\item 'cni'\n",
       "\\item 'ncre'\n",
       "\\item 'ncho'\n",
       "\\item 'nnaa'\n",
       "\\item 'in\\_CEL'\n",
       "\\item 'newdata'\n",
       "\\end{enumerate*}\n"
      ],
      "text/markdown": [
       "1. 'nadc.1'\n",
       "2. 'nfa.1'\n",
       "3. 'cbvn_nlin'\n",
       "4. 'ccri'\n",
       "5. 'cni'\n",
       "6. 'ncre'\n",
       "7. 'ncho'\n",
       "8. 'nnaa'\n",
       "9. 'in_CEL'\n",
       "10. 'newdata'\n",
       "\n",
       "\n"
      ],
      "text/plain": [
       " [1] \"nadc.1\"    \"nfa.1\"     \"cbvn_nlin\" \"ccri\"      \"cni\"       \"ncre\"     \n",
       " [7] \"ncho\"      \"nnaa\"      \"in_CEL\"    \"newdata\"  "
      ]
     },
     "metadata": {},
     "output_type": "display_data"
    }
   ],
   "source": [
    "features_mri"
   ]
  },
  {
   "cell_type": "code",
   "execution_count": 52,
   "metadata": {},
   "outputs": [],
   "source": [
    "## divide data \n",
    "fold = 1\n",
    "data_thresh = data[which(data$fold != fold),]\n",
    "data_pred = data[which(data$fold == fold),]\n",
    "\n",
    "## cycle through cols to normalize: \n",
    "for (col in features_mri){        \n",
    "    ## standardization: \n",
    "    med_col = median(data_thresh[,col], na.rm = T)\n",
    "    sd_col = sd(data_thresh[,col], na.rm = T)\n",
    "\n",
    "    data_thresh[,col] = (data_thresh[,col]-med_col)/sd_col\n",
    "    data_pred[,col] = (data_pred[,col]-med_col)/sd_col\n",
    "\n",
    "    ##missing value filling: \n",
    "    data_thresh[,col] = ifelse(is.na(data_thresh[,col]), med_col, data_thresh[,col])\n",
    "    data_pred[,col] = ifelse(is.na(data_pred[,col]), med_col, data_pred[,col])\n",
    "}\n"
   ]
  },
  {
   "cell_type": "code",
   "execution_count": 53,
   "metadata": {},
   "outputs": [
    {
     "name": "stdout",
     "output_type": "stream",
     "text": [
      "Generalized linear mixed model fit by maximum likelihood (Laplace\n",
      "  Approximation) [glmerMod]\n",
      " Family: binomial  ( logit )\n",
      "Formula: outcome ~ cbvn_nlin + ccri + cni + ncre + nnaa + (1 | t_number_y)\n",
      "   Data: data_thresh\n",
      "\n",
      "     AIC      BIC   logLik deviance df.resid \n",
      "    91.5    109.6    -38.8     77.5       90 \n",
      "\n",
      "Scaled residuals: \n",
      "     Min       1Q   Median       3Q      Max \n",
      "-0.97606 -0.01796 -0.01343 -0.00861  1.52411 \n",
      "\n",
      "Random effects:\n",
      " Groups     Name        Variance Std.Dev.\n",
      " t_number_y (Intercept) 156.2    12.5    \n",
      "Number of obs: 97, groups:  t_number_y, 46\n",
      "\n",
      "Fixed effects:\n",
      "            Estimate Std. Error z value Pr(>|z|)    \n",
      "(Intercept)  -8.2530     2.2760  -3.626 0.000288 ***\n",
      "cbvn_nlin     0.4446     0.8797   0.505 0.613276    \n",
      "ccri          1.0823     3.4068   0.318 0.750718    \n",
      "cni          -1.5095     3.8924  -0.388 0.698157    \n",
      "ncre          0.5565     2.0882   0.267 0.789838    \n",
      "nnaa         -0.6716     1.6586  -0.405 0.685518    \n",
      "---\n",
      "Signif. codes:  0 ‘***’ 0.001 ‘**’ 0.01 ‘*’ 0.05 ‘.’ 0.1 ‘ ’ 1\n",
      "\n",
      "Correlation of Fixed Effects:\n",
      "          (Intr) cbvn_n ccri   cni    ncre  \n",
      "cbvn_nlin -0.570                            \n",
      "ccri       0.147  0.044                     \n",
      "cni       -0.130 -0.070 -0.985              \n",
      "ncre       0.103  0.083  0.906 -0.918       \n",
      "nnaa      -0.105 -0.004 -0.826  0.853 -0.831\n"
     ]
    },
    {
     "name": "stderr",
     "output_type": "stream",
     "text": [
      "Warning message in predict.merMod(lr.fit, data_thresh, family = binomial):\n",
      "“unused arguments ignored”"
     ]
    }
   ],
   "source": [
    "## create logReg for fold: \n",
    "outcome = \"outcome\"\n",
    "features = c( 'cbvn_nlin',\n",
    "             'ccri', 'cni', 'ncre', 'nnaa')\n",
    "features.addsign <- paste(features, collapse = \"+\")\n",
    "lr_formula = paste(outcome, features.addsign, sep = \"~\")\n",
    "lr_formula = as.formula(paste(lr_formula, \"+ (1| t_number_y)\"))\n",
    "lr.fit = glmer(lr_formula, data = data_thresh, family=binomial(link = \"logit\"))\n",
    "print(summary(lr.fit))\n",
    "## predict on training data: (4folds)\n",
    "fit.probs.data_thresh = predict(lr.fit, data_thresh, family = binomial)\n"
   ]
  },
  {
   "cell_type": "code",
   "execution_count": 54,
   "metadata": {},
   "outputs": [
    {
     "data": {
      "text/html": [
       "<dl class=dl-horizontal>\n",
       "\t<dt>1</dt>\n",
       "\t\t<dd>-7.99564232814547</dd>\n",
       "\t<dt>2</dt>\n",
       "\t\t<dd>-8.51487181930943</dd>\n",
       "\t<dt>3</dt>\n",
       "\t\t<dd>-8.62031479365494</dd>\n",
       "\t<dt>9</dt>\n",
       "\t\t<dd>3.77217480732744</dd>\n",
       "\t<dt>10</dt>\n",
       "\t\t<dd>3.10926695640573</dd>\n",
       "\t<dt>11</dt>\n",
       "\t\t<dd>4.31555815322032</dd>\n",
       "\t<dt>12</dt>\n",
       "\t\t<dd>4.08527701612791</dd>\n",
       "\t<dt>13</dt>\n",
       "\t\t<dd>3.54320786196002</dd>\n",
       "\t<dt>14</dt>\n",
       "\t\t<dd>3.36377324724586</dd>\n",
       "\t<dt>15</dt>\n",
       "\t\t<dd>-8.31418817145073</dd>\n",
       "\t<dt>16</dt>\n",
       "\t\t<dd>-8.71595933666104</dd>\n",
       "\t<dt>17</dt>\n",
       "\t\t<dd>-9.22895852280954</dd>\n",
       "\t<dt>18</dt>\n",
       "\t\t<dd>-8.56573137890557</dd>\n",
       "\t<dt>19</dt>\n",
       "\t\t<dd>-8.7543032594755</dd>\n",
       "\t<dt>20</dt>\n",
       "\t\t<dd>-8.33913771157347</dd>\n",
       "\t<dt>21</dt>\n",
       "\t\t<dd>-7.55930535599186</dd>\n",
       "\t<dt>22</dt>\n",
       "\t\t<dd>-7.1309936035258</dd>\n",
       "\t<dt>23</dt>\n",
       "\t\t<dd>-8.5985994273588</dd>\n",
       "\t<dt>24</dt>\n",
       "\t\t<dd>-9.01093382384182</dd>\n",
       "\t<dt>25</dt>\n",
       "\t\t<dd>-8.11427652242977</dd>\n",
       "\t<dt>26</dt>\n",
       "\t\t<dd>-7.9540752981889</dd>\n",
       "\t<dt>29</dt>\n",
       "\t\t<dd>3.78962200907144</dd>\n",
       "\t<dt>30</dt>\n",
       "\t\t<dd>4.15131610356782</dd>\n",
       "\t<dt>31</dt>\n",
       "\t\t<dd>3.11838188137106</dd>\n",
       "\t<dt>32</dt>\n",
       "\t\t<dd>-8.56271039774866</dd>\n",
       "\t<dt>33</dt>\n",
       "\t\t<dd>-8.03937748133588</dd>\n",
       "\t<dt>34</dt>\n",
       "\t\t<dd>2.5434521444214</dd>\n",
       "\t<dt>35</dt>\n",
       "\t\t<dd>3.35296791847133</dd>\n",
       "\t<dt>36</dt>\n",
       "\t\t<dd>3.68497716247593</dd>\n",
       "\t<dt>37</dt>\n",
       "\t\t<dd>3.96088028075084</dd>\n",
       "\t<dt>38</dt>\n",
       "\t\t<dd>-8.50637483115868</dd>\n",
       "\t<dt>39</dt>\n",
       "\t\t<dd>-7.56827567620526</dd>\n",
       "\t<dt>40</dt>\n",
       "\t\t<dd>-8.19851758386352</dd>\n",
       "\t<dt>41</dt>\n",
       "\t\t<dd>-8.58673972841478</dd>\n",
       "\t<dt>42</dt>\n",
       "\t\t<dd>-8.46382042700657</dd>\n",
       "\t<dt>43</dt>\n",
       "\t\t<dd>-8.64118306809632</dd>\n",
       "\t<dt>44</dt>\n",
       "\t\t<dd>-7.2127576127942</dd>\n",
       "\t<dt>45</dt>\n",
       "\t\t<dd>-9.29579905666094</dd>\n",
       "\t<dt>46</dt>\n",
       "\t\t<dd>-7.78524936476127</dd>\n",
       "\t<dt>49</dt>\n",
       "\t\t<dd>0.118197441939278</dd>\n",
       "\t<dt>50</dt>\n",
       "\t\t<dd>-0.339405261574258</dd>\n",
       "\t<dt>51</dt>\n",
       "\t\t<dd>-7.37739133727603</dd>\n",
       "\t<dt>52</dt>\n",
       "\t\t<dd>-6.6050507969714</dd>\n",
       "\t<dt>53</dt>\n",
       "\t\t<dd>-8.31072054761025</dd>\n",
       "\t<dt>54</dt>\n",
       "\t\t<dd>-7.99874689713392</dd>\n",
       "\t<dt>55</dt>\n",
       "\t\t<dd>-8.48448414669751</dd>\n",
       "\t<dt>56</dt>\n",
       "\t\t<dd>-7.99612929957806</dd>\n",
       "\t<dt>60</dt>\n",
       "\t\t<dd>-7.42924841311873</dd>\n",
       "\t<dt>61</dt>\n",
       "\t\t<dd>-8.83425541893554</dd>\n",
       "\t<dt>62</dt>\n",
       "\t\t<dd>-8.08203999648321</dd>\n",
       "\t<dt>63</dt>\n",
       "\t\t<dd>-0.0750313515220782</dd>\n",
       "\t<dt>64</dt>\n",
       "\t\t<dd>-0.10892723850095</dd>\n",
       "\t<dt>65</dt>\n",
       "\t\t<dd>-9.50319638368454</dd>\n",
       "\t<dt>66</dt>\n",
       "\t\t<dd>-8.26200681141699</dd>\n",
       "\t<dt>67</dt>\n",
       "\t\t<dd>-8.19919805550882</dd>\n",
       "\t<dt>68</dt>\n",
       "\t\t<dd>-8.83686207540438</dd>\n",
       "\t<dt>69</dt>\n",
       "\t\t<dd>-8.73749606322445</dd>\n",
       "\t<dt>70</dt>\n",
       "\t\t<dd>0.0832524614613153</dd>\n",
       "\t<dt>71</dt>\n",
       "\t\t<dd>-0.0379892858779041</dd>\n",
       "\t<dt>72</dt>\n",
       "\t\t<dd>-0.21340101405019</dd>\n",
       "\t<dt>73</dt>\n",
       "\t\t<dd>-0.0484525546208729</dd>\n",
       "\t<dt>74</dt>\n",
       "\t\t<dd>-8.2816724746075</dd>\n",
       "\t<dt>75</dt>\n",
       "\t\t<dd>-8.4057000791999</dd>\n",
       "\t<dt>77</dt>\n",
       "\t\t<dd>-8.77260582544575</dd>\n",
       "\t<dt>78</dt>\n",
       "\t\t<dd>-9.36268288323524</dd>\n",
       "\t<dt>79</dt>\n",
       "\t\t<dd>-9.31072873291116</dd>\n",
       "\t<dt>80</dt>\n",
       "\t\t<dd>2.56839066278429</dd>\n",
       "\t<dt>81</dt>\n",
       "\t\t<dd>-0.625066717667409</dd>\n",
       "\t<dt>82</dt>\n",
       "\t\t<dd>-0.690927447063123</dd>\n",
       "\t<dt>83</dt>\n",
       "\t\t<dd>-1.01949887949394</dd>\n",
       "\t<dt>84</dt>\n",
       "\t\t<dd>-7.71180342179315</dd>\n",
       "\t<dt>85</dt>\n",
       "\t\t<dd>-0.842825931041988</dd>\n",
       "\t<dt>86</dt>\n",
       "\t\t<dd>-0.185040581892808</dd>\n",
       "\t<dt>87</dt>\n",
       "\t\t<dd>-1.42276052817031</dd>\n",
       "\t<dt>89</dt>\n",
       "\t\t<dd>-8.5356680085828</dd>\n",
       "\t<dt>90</dt>\n",
       "\t\t<dd>-8.63264933589092</dd>\n",
       "\t<dt>91</dt>\n",
       "\t\t<dd>0.264820015621254</dd>\n",
       "\t<dt>92</dt>\n",
       "\t\t<dd>-0.481324963578961</dd>\n",
       "\t<dt>93</dt>\n",
       "\t\t<dd>-8.62800197480569</dd>\n",
       "\t<dt>94</dt>\n",
       "\t\t<dd>-8.85314777228094</dd>\n",
       "\t<dt>95</dt>\n",
       "\t\t<dd>-8.5921610004738</dd>\n",
       "\t<dt>96</dt>\n",
       "\t\t<dd>-9.11200978179324</dd>\n",
       "\t<dt>97</dt>\n",
       "\t\t<dd>-9.30268251801321</dd>\n",
       "\t<dt>98</dt>\n",
       "\t\t<dd>-7.77585572153764</dd>\n",
       "\t<dt>99</dt>\n",
       "\t\t<dd>-8.32973586443149</dd>\n",
       "\t<dt>100</dt>\n",
       "\t\t<dd>-9.1332284492904</dd>\n",
       "\t<dt>101</dt>\n",
       "\t\t<dd>-8.81979672027158</dd>\n",
       "\t<dt>102</dt>\n",
       "\t\t<dd>-7.65796823329241</dd>\n",
       "\t<dt>103</dt>\n",
       "\t\t<dd>-8.63662715749437</dd>\n",
       "\t<dt>104</dt>\n",
       "\t\t<dd>-9.50935680079105</dd>\n",
       "\t<dt>105</dt>\n",
       "\t\t<dd>-9.64676535012597</dd>\n",
       "\t<dt>106</dt>\n",
       "\t\t<dd>-9.21190247320083</dd>\n",
       "\t<dt>107</dt>\n",
       "\t\t<dd>-8.19161947519544</dd>\n",
       "\t<dt>108</dt>\n",
       "\t\t<dd>-8.6021582726641</dd>\n",
       "\t<dt>111</dt>\n",
       "\t\t<dd>-9.42188519225763</dd>\n",
       "\t<dt>112</dt>\n",
       "\t\t<dd>3.0837006584469</dd>\n",
       "\t<dt>113</dt>\n",
       "\t\t<dd>3.34508002034351</dd>\n",
       "</dl>\n"
      ],
      "text/latex": [
       "\\begin{description*}\n",
       "\\item[1] -7.99564232814547\n",
       "\\item[2] -8.51487181930943\n",
       "\\item[3] -8.62031479365494\n",
       "\\item[9] 3.77217480732744\n",
       "\\item[10] 3.10926695640573\n",
       "\\item[11] 4.31555815322032\n",
       "\\item[12] 4.08527701612791\n",
       "\\item[13] 3.54320786196002\n",
       "\\item[14] 3.36377324724586\n",
       "\\item[15] -8.31418817145073\n",
       "\\item[16] -8.71595933666104\n",
       "\\item[17] -9.22895852280954\n",
       "\\item[18] -8.56573137890557\n",
       "\\item[19] -8.7543032594755\n",
       "\\item[20] -8.33913771157347\n",
       "\\item[21] -7.55930535599186\n",
       "\\item[22] -7.1309936035258\n",
       "\\item[23] -8.5985994273588\n",
       "\\item[24] -9.01093382384182\n",
       "\\item[25] -8.11427652242977\n",
       "\\item[26] -7.9540752981889\n",
       "\\item[29] 3.78962200907144\n",
       "\\item[30] 4.15131610356782\n",
       "\\item[31] 3.11838188137106\n",
       "\\item[32] -8.56271039774866\n",
       "\\item[33] -8.03937748133588\n",
       "\\item[34] 2.5434521444214\n",
       "\\item[35] 3.35296791847133\n",
       "\\item[36] 3.68497716247593\n",
       "\\item[37] 3.96088028075084\n",
       "\\item[38] -8.50637483115868\n",
       "\\item[39] -7.56827567620526\n",
       "\\item[40] -8.19851758386352\n",
       "\\item[41] -8.58673972841478\n",
       "\\item[42] -8.46382042700657\n",
       "\\item[43] -8.64118306809632\n",
       "\\item[44] -7.2127576127942\n",
       "\\item[45] -9.29579905666094\n",
       "\\item[46] -7.78524936476127\n",
       "\\item[49] 0.118197441939278\n",
       "\\item[50] -0.339405261574258\n",
       "\\item[51] -7.37739133727603\n",
       "\\item[52] -6.6050507969714\n",
       "\\item[53] -8.31072054761025\n",
       "\\item[54] -7.99874689713392\n",
       "\\item[55] -8.48448414669751\n",
       "\\item[56] -7.99612929957806\n",
       "\\item[60] -7.42924841311873\n",
       "\\item[61] -8.83425541893554\n",
       "\\item[62] -8.08203999648321\n",
       "\\item[63] -0.0750313515220782\n",
       "\\item[64] -0.10892723850095\n",
       "\\item[65] -9.50319638368454\n",
       "\\item[66] -8.26200681141699\n",
       "\\item[67] -8.19919805550882\n",
       "\\item[68] -8.83686207540438\n",
       "\\item[69] -8.73749606322445\n",
       "\\item[70] 0.0832524614613153\n",
       "\\item[71] -0.0379892858779041\n",
       "\\item[72] -0.21340101405019\n",
       "\\item[73] -0.0484525546208729\n",
       "\\item[74] -8.2816724746075\n",
       "\\item[75] -8.4057000791999\n",
       "\\item[77] -8.77260582544575\n",
       "\\item[78] -9.36268288323524\n",
       "\\item[79] -9.31072873291116\n",
       "\\item[80] 2.56839066278429\n",
       "\\item[81] -0.625066717667409\n",
       "\\item[82] -0.690927447063123\n",
       "\\item[83] -1.01949887949394\n",
       "\\item[84] -7.71180342179315\n",
       "\\item[85] -0.842825931041988\n",
       "\\item[86] -0.185040581892808\n",
       "\\item[87] -1.42276052817031\n",
       "\\item[89] -8.5356680085828\n",
       "\\item[90] -8.63264933589092\n",
       "\\item[91] 0.264820015621254\n",
       "\\item[92] -0.481324963578961\n",
       "\\item[93] -8.62800197480569\n",
       "\\item[94] -8.85314777228094\n",
       "\\item[95] -8.5921610004738\n",
       "\\item[96] -9.11200978179324\n",
       "\\item[97] -9.30268251801321\n",
       "\\item[98] -7.77585572153764\n",
       "\\item[99] -8.32973586443149\n",
       "\\item[100] -9.1332284492904\n",
       "\\item[101] -8.81979672027158\n",
       "\\item[102] -7.65796823329241\n",
       "\\item[103] -8.63662715749437\n",
       "\\item[104] -9.50935680079105\n",
       "\\item[105] -9.64676535012597\n",
       "\\item[106] -9.21190247320083\n",
       "\\item[107] -8.19161947519544\n",
       "\\item[108] -8.6021582726641\n",
       "\\item[111] -9.42188519225763\n",
       "\\item[112] 3.0837006584469\n",
       "\\item[113] 3.34508002034351\n",
       "\\end{description*}\n"
      ],
      "text/markdown": [
       "1\n",
       ":   -7.995642328145472\n",
       ":   -8.514871819309433\n",
       ":   -8.620314793654949\n",
       ":   3.7721748073274410\n",
       ":   3.1092669564057311\n",
       ":   4.3155581532203212\n",
       ":   4.0852770161279113\n",
       ":   3.5432078619600214\n",
       ":   3.3637732472458615\n",
       ":   -8.3141881714507316\n",
       ":   -8.7159593366610417\n",
       ":   -9.2289585228095418\n",
       ":   -8.5657313789055719\n",
       ":   -8.754303259475520\n",
       ":   -8.3391377115734721\n",
       ":   -7.5593053559918622\n",
       ":   -7.130993603525823\n",
       ":   -8.598599427358824\n",
       ":   -9.0109338238418225\n",
       ":   -8.1142765224297726\n",
       ":   -7.954075298188929\n",
       ":   3.7896220090714430\n",
       ":   4.1513161035678231\n",
       ":   3.1183818813710632\n",
       ":   -8.5627103977486633\n",
       ":   -8.0393774813358834\n",
       ":   2.543452144421435\n",
       ":   3.3529679184713336\n",
       ":   3.6849771624759337\n",
       ":   3.9608802807508438\n",
       ":   -8.5063748311586839\n",
       ":   -7.5682756762052640\n",
       ":   -8.1985175838635241\n",
       ":   -8.5867397284147842\n",
       ":   -8.4638204270065743\n",
       ":   -8.6411830680963244\n",
       ":   -7.212757612794245\n",
       ":   -9.2957990566609446\n",
       ":   -7.7852493647612749\n",
       ":   0.11819744193927850\n",
       ":   -0.33940526157425851\n",
       ":   -7.3773913372760352\n",
       ":   -6.605050796971453\n",
       ":   -8.3107205476102554\n",
       ":   -7.9987468971339255\n",
       ":   -8.4844841466975156\n",
       ":   -7.9961292995780660\n",
       ":   -7.4292484131187361\n",
       ":   -8.8342554189355462\n",
       ":   -8.0820399964832163\n",
       ":   -0.075031351522078264\n",
       ":   -0.1089272385009565\n",
       ":   -9.5031963836845466\n",
       ":   -8.2620068114169967\n",
       ":   -8.1991980555088268\n",
       ":   -8.8368620754043869\n",
       ":   -8.7374960632244570\n",
       ":   0.083252461461315371\n",
       ":   -0.037989285877904172\n",
       ":   -0.2134010140501973\n",
       ":   -0.048452554620872974\n",
       ":   -8.281672474607575\n",
       ":   -8.405700079199977\n",
       ":   -8.7726058254457578\n",
       ":   -9.3626828832352479\n",
       ":   -9.3107287329111680\n",
       ":   2.5683906627842981\n",
       ":   -0.62506671766740982\n",
       ":   -0.69092744706312383\n",
       ":   -1.0194988794939484\n",
       ":   -7.7118034217931585\n",
       ":   -0.84282593104198886\n",
       ":   -0.18504058189280887\n",
       ":   -1.4227605281703189\n",
       ":   -8.535668008582890\n",
       ":   -8.6326493358909291\n",
       ":   0.26482001562125492\n",
       ":   -0.48132496357896193\n",
       ":   -8.6280019748056994\n",
       ":   -8.8531477722809495\n",
       ":   -8.592161000473896\n",
       ":   -9.1120097817932497\n",
       ":   -9.3026825180132198\n",
       ":   -7.7758557215376499\n",
       ":   -8.32973586443149100\n",
       ":   -9.1332284492904101\n",
       ":   -8.81979672027158102\n",
       ":   -7.65796823329241103\n",
       ":   -8.63662715749437104\n",
       ":   -9.50935680079105105\n",
       ":   -9.64676535012597106\n",
       ":   -9.21190247320083107\n",
       ":   -8.19161947519544108\n",
       ":   -8.6021582726641111\n",
       ":   -9.42188519225763112\n",
       ":   3.0837006584469113\n",
       ":   3.34508002034351\n",
       "\n"
      ],
      "text/plain": [
       "          1           2           3           9          10          11 \n",
       "-7.99564233 -8.51487182 -8.62031479  3.77217481  3.10926696  4.31555815 \n",
       "         12          13          14          15          16          17 \n",
       " 4.08527702  3.54320786  3.36377325 -8.31418817 -8.71595934 -9.22895852 \n",
       "         18          19          20          21          22          23 \n",
       "-8.56573138 -8.75430326 -8.33913771 -7.55930536 -7.13099360 -8.59859943 \n",
       "         24          25          26          29          30          31 \n",
       "-9.01093382 -8.11427652 -7.95407530  3.78962201  4.15131610  3.11838188 \n",
       "         32          33          34          35          36          37 \n",
       "-8.56271040 -8.03937748  2.54345214  3.35296792  3.68497716  3.96088028 \n",
       "         38          39          40          41          42          43 \n",
       "-8.50637483 -7.56827568 -8.19851758 -8.58673973 -8.46382043 -8.64118307 \n",
       "         44          45          46          49          50          51 \n",
       "-7.21275761 -9.29579906 -7.78524936  0.11819744 -0.33940526 -7.37739134 \n",
       "         52          53          54          55          56          60 \n",
       "-6.60505080 -8.31072055 -7.99874690 -8.48448415 -7.99612930 -7.42924841 \n",
       "         61          62          63          64          65          66 \n",
       "-8.83425542 -8.08204000 -0.07503135 -0.10892724 -9.50319638 -8.26200681 \n",
       "         67          68          69          70          71          72 \n",
       "-8.19919806 -8.83686208 -8.73749606  0.08325246 -0.03798929 -0.21340101 \n",
       "         73          74          75          77          78          79 \n",
       "-0.04845255 -8.28167247 -8.40570008 -8.77260583 -9.36268288 -9.31072873 \n",
       "         80          81          82          83          84          85 \n",
       " 2.56839066 -0.62506672 -0.69092745 -1.01949888 -7.71180342 -0.84282593 \n",
       "         86          87          89          90          91          92 \n",
       "-0.18504058 -1.42276053 -8.53566801 -8.63264934  0.26482002 -0.48132496 \n",
       "         93          94          95          96          97          98 \n",
       "-8.62800197 -8.85314777 -8.59216100 -9.11200978 -9.30268252 -7.77585572 \n",
       "         99         100         101         102         103         104 \n",
       "-8.32973586 -9.13322845 -8.81979672 -7.65796823 -8.63662716 -9.50935680 \n",
       "        105         106         107         108         111         112 \n",
       "-9.64676535 -9.21190247 -8.19161948 -8.60215827 -9.42188519  3.08370066 \n",
       "        113 \n",
       " 3.34508002 "
      ]
     },
     "metadata": {},
     "output_type": "display_data"
    }
   ],
   "source": [
    "roc_obj = roc(data_thresh$outcome, fit.probs.data_thresh, levels=c(\"txe\", \"rHGG\"), \n",
    "      percent = TRUE)\n",
    "auc = (auc(roc_obj))\n",
    "auc.ci1 = ci.auc(roc(data_thresh$outcome, fit.probs.data_thresh, levels=c(\"txe\", \"rHGG\"), \n",
    "    percent = TRUE))[1]\n",
    "auc.ci2 = ci.auc(roc(data_thresh$outcome, fit.probs.data_thresh, levels=c(\"txe\", \"rHGG\"), \n",
    "    percent = TRUE))[3]\n",
    "\n",
    "thresh = pROC::coords(roc_obj, x = 'best', best.method = 'closest.topleft')['threshold']\n",
    "\n",
    "fit.probs.data_thresh\n",
    "fit.preds.data_thresh = as.factor(ifelse(fit.probs.data_thresh > thresh, \"txe\", 'rHGG'))\n",
    "\n",
    "acc =  confusionMatrix(data = fit.preds.data_thresh, reference = data_thresh$outcome)$overall['Accuracy']\n",
    "sens = confusionMatrix(data = fit.preds.data_thresh, reference = data_thresh$outcome)$byClass['Sensitivity']\n",
    "spec = confusionMatrix(data = fit.preds.data_thresh, reference = data_thresh$outcome)$byClass['Specificity']"
   ]
  },
  {
   "cell_type": "code",
   "execution_count": 55,
   "metadata": {},
   "outputs": [
    {
     "data": {
      "text/plain": [
       "Confusion Matrix and Statistics\n",
       "\n",
       "          Reference\n",
       "Prediction rHGG txe\n",
       "      rHGG   73   2\n",
       "      txe     1  21\n",
       "                                          \n",
       "               Accuracy : 0.9691          \n",
       "                 95% CI : (0.9123, 0.9936)\n",
       "    No Information Rate : 0.7629          \n",
       "    P-Value [Acc > NIR] : 1.948e-08       \n",
       "                                          \n",
       "                  Kappa : 0.9132          \n",
       " Mcnemar's Test P-Value : 1               \n",
       "                                          \n",
       "            Sensitivity : 0.9865          \n",
       "            Specificity : 0.9130          \n",
       "         Pos Pred Value : 0.9733          \n",
       "         Neg Pred Value : 0.9545          \n",
       "             Prevalence : 0.7629          \n",
       "         Detection Rate : 0.7526          \n",
       "   Detection Prevalence : 0.7732          \n",
       "      Balanced Accuracy : 0.9498          \n",
       "                                          \n",
       "       'Positive' Class : rHGG            \n",
       "                                          "
      ]
     },
     "metadata": {},
     "output_type": "display_data"
    }
   ],
   "source": [
    "confusionMatrix(data = fit.preds.data_thresh, reference = data_thresh$outcome)"
   ]
  },
  {
   "cell_type": "code",
   "execution_count": 56,
   "metadata": {},
   "outputs": [
    {
     "data": {
      "text/html": [
       "<table>\n",
       "<thead><tr><th></th><th scope=col>t_number_y</th><th scope=col>nadc.1</th><th scope=col>nfa.1</th><th scope=col>cbvn_nlin</th><th scope=col>ccri</th><th scope=col>cni</th><th scope=col>ncre</th><th scope=col>ncho</th><th scope=col>nnaa</th><th scope=col>in_CEL</th><th scope=col>newdata</th><th scope=col>outcome</th><th scope=col>fold</th><th scope=col>outcome_bin</th></tr></thead>\n",
       "<tbody>\n",
       "\t<tr><th scope=row>4</th><td>5728        </td><td> 3.5418586  </td><td> 1.1212980  </td><td>-0.028575917</td><td>-0.2128644  </td><td> 0.08048427 </td><td>-0.5563131  </td><td>-0.34506046 </td><td>-0.7245863  </td><td>-2.013889   </td><td>-2.028968   </td><td>rHGG        </td><td>1           </td><td>1           </td></tr>\n",
       "\t<tr><th scope=row>5</th><td>5788        </td><td> 1.6900000  </td><td> 0.7200000  </td><td> 0.066677139</td><td> 0.1216368  </td><td>-0.41391913 </td><td>-0.9271885  </td><td>-0.61344082 </td><td> 0.3019110  </td><td> 0.000000   </td><td>-2.028968   </td><td>txe         </td><td>1           </td><td>0           </td></tr>\n",
       "\t<tr><th scope=row>6</th><td>5819        </td><td>-1.4555583  </td><td>-0.2308555  </td><td> 0.114303668</td><td>-0.4599392  </td><td> 0.68986521 </td><td> 3.0494200  </td><td> 0.95850129 </td><td> 1.7208924  </td><td>-2.013889   </td><td>-2.028968   </td><td>rHGG        </td><td>1           </td><td>1           </td></tr>\n",
       "\t<tr><th scope=row>7</th><td>5819        </td><td>-1.6738921  </td><td> 0.7915045  </td><td> 0.295284475</td><td> 1.0605209  </td><td> 2.09834001 </td><td>-0.3708754  </td><td> 1.91700257 </td><td> 0.6038219  </td><td>-2.013889   </td><td>-2.028968   </td><td>rHGG        </td><td>1           </td><td>1           </td></tr>\n",
       "\t<tr><th scope=row>8</th><td>5819        </td><td>-1.3100025  </td><td> 0.5276697  </td><td> 0.771549757</td><td> 0.7944404  </td><td> 1.58094111 </td><td>-0.1030209  </td><td> 1.71252230 </td><td> 1.0264973  </td><td> 0.000000   </td><td>-2.028968   </td><td>rHGG        </td><td>1           </td><td>1           </td></tr>\n",
       "\t<tr><th scope=row>27</th><td>6295        </td><td> 0.1698151  </td><td> 0.0000000  </td><td>-0.009525306</td><td> 0.7336220  </td><td> 0.50590115 </td><td>-0.9271885  </td><td> 0.01278002 </td><td>-0.4226753  </td><td> 0.000000   </td><td>-2.028968   </td><td>rHGG        </td><td>1           </td><td>1           </td></tr>\n",
       "</tbody>\n",
       "</table>\n"
      ],
      "text/latex": [
       "\\begin{tabular}{r|llllllllllllll}\n",
       "  & t\\_number\\_y & nadc.1 & nfa.1 & cbvn\\_nlin & ccri & cni & ncre & ncho & nnaa & in\\_CEL & newdata & outcome & fold & outcome\\_bin\\\\\n",
       "\\hline\n",
       "\t4 & 5728         &  3.5418586   &  1.1212980   & -0.028575917 & -0.2128644   &  0.08048427  & -0.5563131   & -0.34506046  & -0.7245863   & -2.013889    & -2.028968    & rHGG         & 1            & 1           \\\\\n",
       "\t5 & 5788         &  1.6900000   &  0.7200000   &  0.066677139 &  0.1216368   & -0.41391913  & -0.9271885   & -0.61344082  &  0.3019110   &  0.000000    & -2.028968    & txe          & 1            & 0           \\\\\n",
       "\t6 & 5819         & -1.4555583   & -0.2308555   &  0.114303668 & -0.4599392   &  0.68986521  &  3.0494200   &  0.95850129  &  1.7208924   & -2.013889    & -2.028968    & rHGG         & 1            & 1           \\\\\n",
       "\t7 & 5819         & -1.6738921   &  0.7915045   &  0.295284475 &  1.0605209   &  2.09834001  & -0.3708754   &  1.91700257  &  0.6038219   & -2.013889    & -2.028968    & rHGG         & 1            & 1           \\\\\n",
       "\t8 & 5819         & -1.3100025   &  0.5276697   &  0.771549757 &  0.7944404   &  1.58094111  & -0.1030209   &  1.71252230  &  1.0264973   &  0.000000    & -2.028968    & rHGG         & 1            & 1           \\\\\n",
       "\t27 & 6295         &  0.1698151   &  0.0000000   & -0.009525306 &  0.7336220   &  0.50590115  & -0.9271885   &  0.01278002  & -0.4226753   &  0.000000    & -2.028968    & rHGG         & 1            & 1           \\\\\n",
       "\\end{tabular}\n"
      ],
      "text/markdown": [
       "\n",
       "| <!--/--> | t_number_y | nadc.1 | nfa.1 | cbvn_nlin | ccri | cni | ncre | ncho | nnaa | in_CEL | newdata | outcome | fold | outcome_bin | \n",
       "|---|---|---|---|---|---|\n",
       "| 4 | 5728         |  3.5418586   |  1.1212980   | -0.028575917 | -0.2128644   |  0.08048427  | -0.5563131   | -0.34506046  | -0.7245863   | -2.013889    | -2.028968    | rHGG         | 1            | 1            | \n",
       "| 5 | 5788         |  1.6900000   |  0.7200000   |  0.066677139 |  0.1216368   | -0.41391913  | -0.9271885   | -0.61344082  |  0.3019110   |  0.000000    | -2.028968    | txe          | 1            | 0            | \n",
       "| 6 | 5819         | -1.4555583   | -0.2308555   |  0.114303668 | -0.4599392   |  0.68986521  |  3.0494200   |  0.95850129  |  1.7208924   | -2.013889    | -2.028968    | rHGG         | 1            | 1            | \n",
       "| 7 | 5819         | -1.6738921   |  0.7915045   |  0.295284475 |  1.0605209   |  2.09834001  | -0.3708754   |  1.91700257  |  0.6038219   | -2.013889    | -2.028968    | rHGG         | 1            | 1            | \n",
       "| 8 | 5819         | -1.3100025   |  0.5276697   |  0.771549757 |  0.7944404   |  1.58094111  | -0.1030209   |  1.71252230  |  1.0264973   |  0.000000    | -2.028968    | rHGG         | 1            | 1            | \n",
       "| 27 | 6295         |  0.1698151   |  0.0000000   | -0.009525306 |  0.7336220   |  0.50590115  | -0.9271885   |  0.01278002  | -0.4226753   |  0.000000    | -2.028968    | rHGG         | 1            | 1            | \n",
       "\n",
       "\n"
      ],
      "text/plain": [
       "   t_number_y nadc.1     nfa.1      cbvn_nlin    ccri       cni        \n",
       "4  5728        3.5418586  1.1212980 -0.028575917 -0.2128644  0.08048427\n",
       "5  5788        1.6900000  0.7200000  0.066677139  0.1216368 -0.41391913\n",
       "6  5819       -1.4555583 -0.2308555  0.114303668 -0.4599392  0.68986521\n",
       "7  5819       -1.6738921  0.7915045  0.295284475  1.0605209  2.09834001\n",
       "8  5819       -1.3100025  0.5276697  0.771549757  0.7944404  1.58094111\n",
       "27 6295        0.1698151  0.0000000 -0.009525306  0.7336220  0.50590115\n",
       "   ncre       ncho        nnaa       in_CEL    newdata   outcome fold\n",
       "4  -0.5563131 -0.34506046 -0.7245863 -2.013889 -2.028968 rHGG    1   \n",
       "5  -0.9271885 -0.61344082  0.3019110  0.000000 -2.028968 txe     1   \n",
       "6   3.0494200  0.95850129  1.7208924 -2.013889 -2.028968 rHGG    1   \n",
       "7  -0.3708754  1.91700257  0.6038219 -2.013889 -2.028968 rHGG    1   \n",
       "8  -0.1030209  1.71252230  1.0264973  0.000000 -2.028968 rHGG    1   \n",
       "27 -0.9271885  0.01278002 -0.4226753  0.000000 -2.028968 rHGG    1   \n",
       "   outcome_bin\n",
       "4  1          \n",
       "5  0          \n",
       "6  1          \n",
       "7  1          \n",
       "8  1          \n",
       "27 1          "
      ]
     },
     "metadata": {},
     "output_type": "display_data"
    }
   ],
   "source": [
    "head(data_pred)"
   ]
  },
  {
   "cell_type": "code",
   "execution_count": 57,
   "metadata": {},
   "outputs": [
    {
     "name": "stderr",
     "output_type": "stream",
     "text": [
      "Warning message in predict.merMod(lr.fit, data_pred, family = binomial, allow.new.levels = T):\n",
      "“unused arguments ignored”Warning message in confusionMatrix.default(data = fit.preds.data_pred, reference = data_pred$outcome):\n",
      "“Levels are not in the same order for reference and data. Refactoring data to match.”Warning message in confusionMatrix.default(data = fit.preds.data_pred, reference = data_pred$outcome):\n",
      "“Levels are not in the same order for reference and data. Refactoring data to match.”Warning message in confusionMatrix.default(data = fit.preds.data_pred, reference = data_pred$outcome):\n",
      "“Levels are not in the same order for reference and data. Refactoring data to match.”Warning message in confusionMatrix.default(data = fit.preds.data_pred, reference = data_pred$outcome):\n",
      "“Levels are not in the same order for reference and data. Refactoring data to match.”"
     ]
    },
    {
     "data": {
      "text/plain": [
       "Confusion Matrix and Statistics\n",
       "\n",
       "          Reference\n",
       "Prediction rHGG txe\n",
       "      rHGG   13   3\n",
       "      txe     0   0\n",
       "                                          \n",
       "               Accuracy : 0.8125          \n",
       "                 95% CI : (0.5435, 0.9595)\n",
       "    No Information Rate : 0.8125          \n",
       "    P-Value [Acc > NIR] : 0.6480          \n",
       "                                          \n",
       "                  Kappa : 0               \n",
       " Mcnemar's Test P-Value : 0.2482          \n",
       "                                          \n",
       "            Sensitivity : 1.0000          \n",
       "            Specificity : 0.0000          \n",
       "         Pos Pred Value : 0.8125          \n",
       "         Neg Pred Value :    NaN          \n",
       "             Prevalence : 0.8125          \n",
       "         Detection Rate : 0.8125          \n",
       "   Detection Prevalence : 1.0000          \n",
       "      Balanced Accuracy : 0.5000          \n",
       "                                          \n",
       "       'Positive' Class : rHGG            \n",
       "                                          "
      ]
     },
     "metadata": {},
     "output_type": "display_data"
    }
   ],
   "source": [
    "## predict on test   data: (5th fold)\n",
    "fit.probs.data_pred = predict(lr.fit, data_pred, family = binomial, allow.new.levels=T)\n",
    "fit.preds.data_pred = as.factor(ifelse(fit.probs.data_pred > thresh, \"txe\", 'rHGG'))\n",
    "\n",
    "## save the coefficients & p-values\n",
    "\n",
    "\n",
    "acc_5 =  confusionMatrix(data = fit.preds.data_pred, reference = data_pred$outcome)$overall['Accuracy']\n",
    "sens_5 = confusionMatrix(data = fit.preds.data_pred, reference = data_pred$outcome)$byClass['Sensitivity']\n",
    "spec_5 = confusionMatrix(data = fit.preds.data_pred, reference = data_pred$outcome)$byClass['Specificity']\n",
    "\n",
    "confusionMatrix(data = fit.preds.data_pred, reference = data_pred$outcome)"
   ]
  },
  {
   "cell_type": "code",
   "execution_count": 58,
   "metadata": {},
   "outputs": [],
   "source": [
    "mixed_lr  = data.frame(folds = NA,  auc_4folds = NA,\n",
    "                        ci1_4folds = NA, \n",
    "                        ci2_4folds = NA,\n",
    "                        acc_4folds = NA,\n",
    "                        sens_4folds = NA, \n",
    "                        spec_4folds = NA, \n",
    "                        acc_CV = NA,\n",
    "                        sens_CV = NA, \n",
    "                        spec_CV = NA\n",
    "                       )"
   ]
  },
  {
   "cell_type": "code",
   "execution_count": 59,
   "metadata": {},
   "outputs": [
    {
     "name": "stdout",
     "output_type": "stream",
     "text": [
      "Generalized linear mixed model fit by maximum likelihood (Laplace\n",
      "  Approximation) [glmerMod]\n",
      " Family: binomial  ( logit )\n",
      "Formula: outcome ~ cbvn_nlin + ccri + cni + ncre + nnaa + (1 | t_number_y)\n",
      "   Data: data_thresh\n",
      "\n",
      "     AIC      BIC   logLik deviance df.resid \n",
      "    91.5    109.6    -38.8     77.5       90 \n",
      "\n",
      "Scaled residuals: \n",
      "     Min       1Q   Median       3Q      Max \n",
      "-0.97606 -0.01796 -0.01343 -0.00861  1.52411 \n",
      "\n",
      "Random effects:\n",
      " Groups     Name        Variance Std.Dev.\n",
      " t_number_y (Intercept) 156.2    12.5    \n",
      "Number of obs: 97, groups:  t_number_y, 46\n",
      "\n",
      "Fixed effects:\n",
      "            Estimate Std. Error z value Pr(>|z|)    \n",
      "(Intercept)  -8.2530     2.2760  -3.626 0.000288 ***\n",
      "cbvn_nlin     0.4446     0.8797   0.505 0.613276    \n",
      "ccri          1.0823     3.4068   0.318 0.750718    \n",
      "cni          -1.5095     3.8924  -0.388 0.698157    \n",
      "ncre          0.5565     2.0882   0.267 0.789838    \n",
      "nnaa         -0.6716     1.6586  -0.405 0.685518    \n",
      "---\n",
      "Signif. codes:  0 ‘***’ 0.001 ‘**’ 0.01 ‘*’ 0.05 ‘.’ 0.1 ‘ ’ 1\n",
      "\n",
      "Correlation of Fixed Effects:\n",
      "          (Intr) cbvn_n ccri   cni    ncre  \n",
      "cbvn_nlin -0.570                            \n",
      "ccri       0.147  0.044                     \n",
      "cni       -0.130 -0.070 -0.985              \n",
      "ncre       0.103  0.083  0.906 -0.918       \n",
      "nnaa      -0.105 -0.004 -0.826  0.853 -0.831\n"
     ]
    },
    {
     "name": "stderr",
     "output_type": "stream",
     "text": [
      "Warning message in predict.merMod(lr.fit, data_thresh, family = binomial, allow.new.levels = T):\n",
      "“unused arguments ignored”Warning message in predict.merMod(lr.fit, data_pred, family = binomial, allow.new.levels = T):\n",
      "“unused arguments ignored”Warning message in confusionMatrix.default(data = fit.preds.data_pred, reference = data_pred$outcome):\n",
      "“Levels are not in the same order for reference and data. Refactoring data to match.”Warning message in confusionMatrix.default(data = fit.preds.data_pred, reference = data_pred$outcome):\n",
      "“Levels are not in the same order for reference and data. Refactoring data to match.”Warning message in confusionMatrix.default(data = fit.preds.data_pred, reference = data_pred$outcome):\n",
      "“Levels are not in the same order for reference and data. Refactoring data to match.”"
     ]
    },
    {
     "name": "stdout",
     "output_type": "stream",
     "text": [
      "Generalized linear mixed model fit by maximum likelihood (Laplace\n",
      "  Approximation) [glmerMod]\n",
      " Family: binomial  ( logit )\n",
      "Formula: outcome ~ cbvn_nlin + ccri + cni + ncre + nnaa + (1 | t_number_y)\n",
      "   Data: data_thresh\n",
      "\n",
      "     AIC      BIC   logLik deviance df.resid \n",
      "    73.4     89.9    -29.7     59.4       71 \n",
      "\n",
      "Scaled residuals: \n",
      "     Min       1Q   Median       3Q      Max \n",
      "-1.28620 -0.01425 -0.01022 -0.00338  1.60887 \n",
      "\n",
      "Random effects:\n",
      " Groups     Name        Variance Std.Dev.\n",
      " t_number_y (Intercept) 198.7    14.1    \n",
      "Number of obs: 78, groups:  t_number_y, 39\n",
      "\n",
      "Fixed effects:\n",
      "            Estimate Std. Error z value Pr(>|z|)    \n",
      "(Intercept)  -8.7432     2.3854  -3.665 0.000247 ***\n",
      "cbvn_nlin     0.3145     0.8847   0.355 0.722240    \n",
      "ccri          0.9311     3.9481   0.236 0.813554    \n",
      "cni          -1.7773     4.6394  -0.383 0.701661    \n",
      "ncre          0.2070     2.4872   0.083 0.933667    \n",
      "nnaa         -0.3310     2.0122  -0.164 0.869338    \n",
      "---\n",
      "Signif. codes:  0 ‘***’ 0.001 ‘**’ 0.01 ‘*’ 0.05 ‘.’ 0.1 ‘ ’ 1\n",
      "\n",
      "Correlation of Fixed Effects:\n",
      "          (Intr) cbvn_n ccri   cni    ncre  \n",
      "cbvn_nlin -0.446                            \n",
      "ccri      -0.085 -0.035                     \n",
      "cni        0.097  0.026 -0.984              \n",
      "ncre      -0.081 -0.016  0.901 -0.914       \n",
      "nnaa      -0.006  0.083 -0.868  0.879 -0.846\n"
     ]
    },
    {
     "name": "stderr",
     "output_type": "stream",
     "text": [
      "Warning message in predict.merMod(lr.fit, data_thresh, family = binomial, allow.new.levels = T):\n",
      "“unused arguments ignored”Warning message in predict.merMod(lr.fit, data_pred, family = binomial, allow.new.levels = T):\n",
      "“unused arguments ignored”Warning message in confusionMatrix.default(data = fit.preds.data_pred, reference = data_pred$outcome):\n",
      "“Levels are not in the same order for reference and data. Refactoring data to match.”Warning message in confusionMatrix.default(data = fit.preds.data_pred, reference = data_pred$outcome):\n",
      "“Levels are not in the same order for reference and data. Refactoring data to match.”Warning message in confusionMatrix.default(data = fit.preds.data_pred, reference = data_pred$outcome):\n",
      "“Levels are not in the same order for reference and data. Refactoring data to match.”"
     ]
    },
    {
     "name": "stdout",
     "output_type": "stream",
     "text": [
      "Generalized linear mixed model fit by maximum likelihood (Laplace\n",
      "  Approximation) [glmerMod]\n",
      " Family: binomial  ( logit )\n",
      "Formula: outcome ~ cbvn_nlin + ccri + cni + ncre + nnaa + (1 | t_number_y)\n",
      "   Data: data_thresh\n",
      "\n",
      "     AIC      BIC   logLik deviance df.resid \n",
      "    82.7    100.3    -34.4     68.7       84 \n",
      "\n",
      "Scaled residuals: \n",
      "     Min       1Q   Median       3Q      Max \n",
      "-1.06144 -0.01228 -0.01001 -0.00728  1.44902 \n",
      "\n",
      "Random effects:\n",
      " Groups     Name        Variance Std.Dev.\n",
      " t_number_y (Intercept) 252.6    15.89   \n",
      "Number of obs: 91, groups:  t_number_y, 45\n",
      "\n",
      "Fixed effects:\n",
      "            Estimate Std. Error z value Pr(>|z|)    \n",
      "(Intercept) -9.03724    2.28724  -3.951 7.78e-05 ***\n",
      "cbvn_nlin    0.29707    1.01627   0.292    0.770    \n",
      "ccri         0.70843    3.39719   0.209    0.835    \n",
      "cni         -0.86925    3.85499  -0.225    0.822    \n",
      "ncre         0.23694    2.24188   0.106    0.916    \n",
      "nnaa         0.02868    1.73312   0.017    0.987    \n",
      "---\n",
      "Signif. codes:  0 ‘***’ 0.001 ‘**’ 0.01 ‘*’ 0.05 ‘.’ 0.1 ‘ ’ 1\n",
      "\n",
      "Correlation of Fixed Effects:\n",
      "          (Intr) cbvn_n ccri   cni    ncre  \n",
      "cbvn_nlin -0.500                            \n",
      "ccri       0.236 -0.121                     \n",
      "cni       -0.238  0.082 -0.983              \n",
      "ncre       0.242 -0.117  0.892 -0.905       \n",
      "nnaa      -0.365  0.244 -0.813  0.840 -0.840\n"
     ]
    },
    {
     "name": "stderr",
     "output_type": "stream",
     "text": [
      "Warning message in predict.merMod(lr.fit, data_thresh, family = binomial, allow.new.levels = T):\n",
      "“unused arguments ignored”Warning message in predict.merMod(lr.fit, data_pred, family = binomial, allow.new.levels = T):\n",
      "“unused arguments ignored”Warning message in confusionMatrix.default(data = fit.preds.data_pred, reference = data_pred$outcome):\n",
      "“Levels are not in the same order for reference and data. Refactoring data to match.”Warning message in confusionMatrix.default(data = fit.preds.data_pred, reference = data_pred$outcome):\n",
      "“Levels are not in the same order for reference and data. Refactoring data to match.”Warning message in confusionMatrix.default(data = fit.preds.data_pred, reference = data_pred$outcome):\n",
      "“Levels are not in the same order for reference and data. Refactoring data to match.”Warning message in checkConv(attr(opt, \"derivs\"), opt$par, ctrl = control$checkConv, :\n",
      "“Model failed to converge with max|grad| = 0.0372597 (tol = 0.001, component 1)”"
     ]
    },
    {
     "name": "stdout",
     "output_type": "stream",
     "text": [
      "Generalized linear mixed model fit by maximum likelihood (Laplace\n",
      "  Approximation) [glmerMod]\n",
      " Family: binomial  ( logit )\n",
      "Formula: outcome ~ cbvn_nlin + ccri + cni + ncre + nnaa + (1 | t_number_y)\n",
      "   Data: data_thresh\n",
      "\n",
      "     AIC      BIC   logLik deviance df.resid \n",
      "    88.6    106.7    -37.3     74.6       92 \n",
      "\n",
      "Scaled residuals: \n",
      "     Min       1Q   Median       3Q      Max \n",
      "-0.97719 -0.01194 -0.00780 -0.00276  1.45813 \n",
      "\n",
      "Random effects:\n",
      " Groups     Name        Variance Std.Dev.\n",
      " t_number_y (Intercept) 253.9    15.93   \n",
      "Number of obs: 99, groups:  t_number_y, 49\n",
      "\n",
      "Fixed effects:\n",
      "             Estimate Std. Error z value Pr(>|z|)    \n",
      "(Intercept) -9.253104   0.001901 -4868.2   <2e-16 ***\n",
      "cbvn_nlin    0.512923   0.001901   269.8   <2e-16 ***\n",
      "ccri         2.433171   0.001901  1280.1   <2e-16 ***\n",
      "cni         -3.230827   0.001901 -1699.8   <2e-16 ***\n",
      "ncre         1.358005   0.001901   714.4   <2e-16 ***\n",
      "nnaa        -1.397233   0.001901  -735.1   <2e-16 ***\n",
      "---\n",
      "Signif. codes:  0 ‘***’ 0.001 ‘**’ 0.01 ‘*’ 0.05 ‘.’ 0.1 ‘ ’ 1\n",
      "\n",
      "Correlation of Fixed Effects:\n",
      "          (Intr) cbvn_n ccri  cni   ncre \n",
      "cbvn_nlin 0.000                          \n",
      "ccri      0.000  0.000                   \n",
      "cni       0.000  0.000  0.000            \n",
      "ncre      0.000  0.000  0.000 0.000      \n",
      "nnaa      0.000  0.000  0.000 0.000 0.000\n",
      "convergence code: 0\n",
      "Model failed to converge with max|grad| = 0.0372597 (tol = 0.001, component 1)\n",
      "\n"
     ]
    },
    {
     "name": "stderr",
     "output_type": "stream",
     "text": [
      "Warning message in predict.merMod(lr.fit, data_thresh, family = binomial, allow.new.levels = T):\n",
      "“unused arguments ignored”Warning message in predict.merMod(lr.fit, data_pred, family = binomial, allow.new.levels = T):\n",
      "“unused arguments ignored”Warning message in confusionMatrix.default(data = fit.preds.data_pred, reference = data_pred$outcome):\n",
      "“Levels are not in the same order for reference and data. Refactoring data to match.”Warning message in confusionMatrix.default(data = fit.preds.data_pred, reference = data_pred$outcome):\n",
      "“Levels are not in the same order for reference and data. Refactoring data to match.”Warning message in confusionMatrix.default(data = fit.preds.data_pred, reference = data_pred$outcome):\n",
      "“Levels are not in the same order for reference and data. Refactoring data to match.”"
     ]
    },
    {
     "name": "stdout",
     "output_type": "stream",
     "text": [
      "Generalized linear mixed model fit by maximum likelihood (Laplace\n",
      "  Approximation) [glmerMod]\n",
      " Family: binomial  ( logit )\n",
      "Formula: outcome ~ cbvn_nlin + ccri + cni + ncre + nnaa + (1 | t_number_y)\n",
      "   Data: data_thresh\n",
      "\n",
      "     AIC      BIC   logLik deviance df.resid \n",
      "    82.8    100.1    -34.4     68.8       80 \n",
      "\n",
      "Scaled residuals: \n",
      "     Min       1Q   Median       3Q      Max \n",
      "-0.99794 -0.01414 -0.00844 -0.00302  1.28090 \n",
      "\n",
      "Random effects:\n",
      " Groups     Name        Variance Std.Dev.\n",
      " t_number_y (Intercept) 254.9    15.97   \n",
      "Number of obs: 87, groups:  t_number_y, 45\n",
      "\n",
      "Fixed effects:\n",
      "            Estimate Std. Error z value Pr(>|z|)   \n",
      "(Intercept)  -9.5887     3.0210  -3.174   0.0015 **\n",
      "cbvn_nlin     0.7612     1.0702   0.711   0.4769   \n",
      "ccri          1.2485     4.1688   0.299   0.7646   \n",
      "cni          -1.7526     4.9125  -0.357   0.7213   \n",
      "ncre          1.7832     3.4780   0.513   0.6082   \n",
      "nnaa         -1.1286     2.3957  -0.471   0.6376   \n",
      "---\n",
      "Signif. codes:  0 ‘***’ 0.001 ‘**’ 0.01 ‘*’ 0.05 ‘.’ 0.1 ‘ ’ 1\n",
      "\n",
      "Correlation of Fixed Effects:\n",
      "          (Intr) cbvn_n ccri   cni    ncre  \n",
      "cbvn_nlin -0.654                            \n",
      "ccri      -0.303  0.299                     \n",
      "cni        0.349 -0.318 -0.984              \n",
      "ncre      -0.520  0.409  0.899 -0.930       \n",
      "nnaa       0.440 -0.267 -0.788  0.851 -0.877\n"
     ]
    },
    {
     "name": "stderr",
     "output_type": "stream",
     "text": [
      "Warning message in predict.merMod(lr.fit, data_thresh, family = binomial, allow.new.levels = T):\n",
      "“unused arguments ignored”Warning message in predict.merMod(lr.fit, data_pred, family = binomial, allow.new.levels = T):\n",
      "“unused arguments ignored”Warning message in confusionMatrix.default(data = fit.preds.data_pred, reference = data_pred$outcome):\n",
      "“Levels are not in the same order for reference and data. Refactoring data to match.”Warning message in confusionMatrix.default(data = fit.preds.data_pred, reference = data_pred$outcome):\n",
      "“Levels are not in the same order for reference and data. Refactoring data to match.”Warning message in confusionMatrix.default(data = fit.preds.data_pred, reference = data_pred$outcome):\n",
      "“Levels are not in the same order for reference and data. Refactoring data to match.”"
     ]
    }
   ],
   "source": [
    "for (fold in c(1:5)){\n",
    "    ## divide data \n",
    "    data_thresh = data[which(data$fold != fold),]\n",
    "    data_pred = data[which(data$fold == fold),]\n",
    "    \n",
    "    ## cycle through cols to normalize: \n",
    "    for (col in features_mri){        \n",
    "        ## standardization: \n",
    "        med_col = median(data_thresh[,col], na.rm = T)\n",
    "        sd_col = sd(data_thresh[,col], na.rm = T)\n",
    "        \n",
    "        data_thresh[,col] = (data_thresh[,col]-med_col)/sd_col\n",
    "        data_pred[,col] = (data_pred[,col]-med_col)/sd_col\n",
    "\n",
    "        ##missing value filling: \n",
    "        data_thresh[,col] = ifelse(is.na(data_thresh[,col]), med_col, data_thresh[,col])\n",
    "        data_pred[,col] = ifelse(is.na(data_pred[,col]), med_col, data_pred[,col])\n",
    "    }\n",
    "    \n",
    "    ## create logReg for fold: \n",
    "    outcome = \"outcome\"\n",
    "    features = c( 'cbvn_nlin',\n",
    "                 'ccri', 'cni', 'ncre', 'nnaa')\n",
    "    features.addsign <- paste(features, collapse = \"+\")\n",
    "    lr_formula = paste(outcome, features.addsign, sep = \"~\")\n",
    "    lr_formula = as.formula(paste(lr_formula, \"+ (1| t_number_y)\"))\n",
    "    lr.fit = glmer(lr_formula, data = data_thresh, family=\"binomial\")\n",
    "    print(summary(lr.fit))\n",
    "    ## predict on training data: (4folds)\n",
    "    fit.probs.data_thresh = predict(lr.fit, data_thresh, family = binomial,  allow.new.levels=T)\n",
    "    \n",
    "    roc_obj = roc(data_thresh$outcome, fit.probs.data_thresh, levels=c(\"txe\", \"rHGG\"), \n",
    "          percent = TRUE)\n",
    "    auc = (auc(roc_obj))\n",
    "    auc.ci1 = ci.auc(roc(data_thresh$outcome, fit.probs.data_thresh, levels=c(\"txe\", \"rHGG\"), \n",
    "        percent = TRUE))[1]\n",
    "    auc.ci2 = ci.auc(roc(data_thresh$outcome, fit.probs.data_thresh, levels=c(\"txe\", \"rHGG\"), \n",
    "        percent = TRUE))[3]\n",
    "    \n",
    "    thresh = pROC::coords(roc_obj, x = 'best', best.method = 'closest.topleft')['threshold']\n",
    "\n",
    "    fit.preds.data_thresh = as.factor(ifelse(fit.probs.data_thresh > thresh, \"txe\", 'rHGG'))\n",
    "\n",
    "    acc =  confusionMatrix(data = fit.preds.data_thresh, reference = data_thresh$outcome)$overall['Accuracy']\n",
    "    sens = confusionMatrix(data = fit.preds.data_thresh, reference = data_thresh$outcome)$byClass['Sensitivity']\n",
    "    spec = confusionMatrix(data = fit.preds.data_thresh, reference = data_thresh$outcome)$byClass['Specificity']\n",
    "    \n",
    "    ## predict on test   data: (5th fold)\n",
    "    fit.probs.data_pred = predict(lr.fit, data_pred, family = binomial,  allow.new.levels=T)\n",
    "    fit.preds.data_pred = as.factor(ifelse(fit.probs.data_pred > thresh, \"txe\", 'rHGG'))\n",
    "    \n",
    "    ## save the coefficients & p-values\n",
    "    \n",
    "    \n",
    "    acc_5 =  confusionMatrix(data = fit.preds.data_pred, reference = data_pred$outcome)$overall['Accuracy']\n",
    "    sens_5 = confusionMatrix(data = fit.preds.data_pred, reference = data_pred$outcome)$byClass['Sensitivity']\n",
    "    spec_5 = confusionMatrix(data = fit.preds.data_pred, reference = data_pred$outcome)$byClass['Specificity']\n",
    "\n",
    "    SAVE_FOLD = c(fold, auc, auc.ci1, auc.ci2, acc, sens, spec, acc_5, sens_5, spec_5)\n",
    "    mixed_lr = rbind(mixed_lr, SAVE_FOLD)\n",
    "}\n",
    "\n"
   ]
  },
  {
   "cell_type": "code",
   "execution_count": 60,
   "metadata": {},
   "outputs": [],
   "source": [
    "mixed_lr = mixed_lr[-1,]"
   ]
  },
  {
   "cell_type": "code",
   "execution_count": 61,
   "metadata": {
    "scrolled": true
   },
   "outputs": [
    {
     "data": {
      "text/html": [
       "<table>\n",
       "<thead><tr><th></th><th scope=col>med</th><th scope=col>mean</th><th scope=col>sd</th></tr></thead>\n",
       "<tbody>\n",
       "\t<tr><th scope=row>folds</th><td>  3.0000000</td><td>  3.0000000</td><td>1.58113883 </td></tr>\n",
       "\t<tr><th scope=row>auc_4folds</th><td> 99.1971454</td><td> 99.3689617</td><td>0.29021013 </td></tr>\n",
       "\t<tr><th scope=row>ci1_4folds</th><td> 97.9766808</td><td> 98.3896725</td><td>0.62986822 </td></tr>\n",
       "\t<tr><th scope=row>ci2_4folds</th><td>100.0000000</td><td>100.0000000</td><td>0.00000000 </td></tr>\n",
       "\t<tr><th scope=row>acc_4folds</th><td>  0.9690722</td><td>  0.9664950</td><td>0.01395037 </td></tr>\n",
       "\t<tr><th scope=row>sens_4folds</th><td>  0.9705882</td><td>  0.9677522</td><td>0.02381098 </td></tr>\n",
       "\t<tr><th scope=row>spec_4folds</th><td>  0.9545455</td><td>  0.9629915</td><td>0.03724741 </td></tr>\n",
       "\t<tr><th scope=row>acc_CV</th><td>  0.7727273</td><td>  0.7660564</td><td>0.04265872 </td></tr>\n",
       "\t<tr><th scope=row>sens_CV</th><td>  1.0000000</td><td>  1.0000000</td><td>0.00000000 </td></tr>\n",
       "\t<tr><th scope=row>spec_CV</th><td>  0.0000000</td><td>  0.0000000</td><td>0.00000000 </td></tr>\n",
       "</tbody>\n",
       "</table>\n"
      ],
      "text/latex": [
       "\\begin{tabular}{r|lll}\n",
       "  & med & mean & sd\\\\\n",
       "\\hline\n",
       "\tfolds &   3.0000000 &   3.0000000 & 1.58113883 \\\\\n",
       "\tauc\\_4folds &  99.1971454 &  99.3689617 & 0.29021013 \\\\\n",
       "\tci1\\_4folds &  97.9766808 &  98.3896725 & 0.62986822 \\\\\n",
       "\tci2\\_4folds & 100.0000000 & 100.0000000 & 0.00000000 \\\\\n",
       "\tacc\\_4folds &   0.9690722 &   0.9664950 & 0.01395037 \\\\\n",
       "\tsens\\_4folds &   0.9705882 &   0.9677522 & 0.02381098 \\\\\n",
       "\tspec\\_4folds &   0.9545455 &   0.9629915 & 0.03724741 \\\\\n",
       "\tacc\\_CV &   0.7727273 &   0.7660564 & 0.04265872 \\\\\n",
       "\tsens\\_CV &   1.0000000 &   1.0000000 & 0.00000000 \\\\\n",
       "\tspec\\_CV &   0.0000000 &   0.0000000 & 0.00000000 \\\\\n",
       "\\end{tabular}\n"
      ],
      "text/markdown": [
       "\n",
       "| <!--/--> | med | mean | sd | \n",
       "|---|---|---|---|---|---|---|---|---|---|\n",
       "| folds |   3.0000000 |   3.0000000 | 1.58113883  | \n",
       "| auc_4folds |  99.1971454 |  99.3689617 | 0.29021013  | \n",
       "| ci1_4folds |  97.9766808 |  98.3896725 | 0.62986822  | \n",
       "| ci2_4folds | 100.0000000 | 100.0000000 | 0.00000000  | \n",
       "| acc_4folds |   0.9690722 |   0.9664950 | 0.01395037  | \n",
       "| sens_4folds |   0.9705882 |   0.9677522 | 0.02381098  | \n",
       "| spec_4folds |   0.9545455 |   0.9629915 | 0.03724741  | \n",
       "| acc_CV |   0.7727273 |   0.7660564 | 0.04265872  | \n",
       "| sens_CV |   1.0000000 |   1.0000000 | 0.00000000  | \n",
       "| spec_CV |   0.0000000 |   0.0000000 | 0.00000000  | \n",
       "\n",
       "\n"
      ],
      "text/plain": [
       "            med         mean        sd        \n",
       "folds         3.0000000   3.0000000 1.58113883\n",
       "auc_4folds   99.1971454  99.3689617 0.29021013\n",
       "ci1_4folds   97.9766808  98.3896725 0.62986822\n",
       "ci2_4folds  100.0000000 100.0000000 0.00000000\n",
       "acc_4folds    0.9690722   0.9664950 0.01395037\n",
       "sens_4folds   0.9705882   0.9677522 0.02381098\n",
       "spec_4folds   0.9545455   0.9629915 0.03724741\n",
       "acc_CV        0.7727273   0.7660564 0.04265872\n",
       "sens_CV       1.0000000   1.0000000 0.00000000\n",
       "spec_CV       0.0000000   0.0000000 0.00000000"
      ]
     },
     "metadata": {},
     "output_type": "display_data"
    }
   ],
   "source": [
    "data.frame(med = apply(mixed_lr , 2, median), mean = apply(mixed_lr , 2, mean), sd = apply(mixed_lr, 2, sd))\n"
   ]
  },
  {
   "cell_type": "markdown",
   "metadata": {
    "collapsed": true
   },
   "source": [
    "### Random Forest: "
   ]
  },
  {
   "cell_type": "code",
   "execution_count": 62,
   "metadata": {},
   "outputs": [],
   "source": [
    "## let's extract confusion matrix and put that in a data frame: \n",
    "outcome_exp_template = data.frame(folds = NA,\n",
    "tr_txe_pct = NA, \n",
    "cv_txe_pct = NA, \n",
    "tr_outtxe_predtxe = NA, \n",
    "tr_outtxe_predrHGG = NA, \n",
    "tr_outrHGG_predtxe = NA, \n",
    "tr_outrHGG_predrHGG = NA, \n",
    "cv_outtxe_predtxe = NA, \n",
    "cv_outtxe_predrHGG = NA, \n",
    "cv_outrHGG_predtxe = NA, \n",
    "cv_outrHGG_predrHGG = NA, \n",
    "varImp_in_CEL = NA, \n",
    "varImp_cbvn_nlin = NA, \n",
    "varImp_recov_npar = NA, \n",
    "varImp_ccri = NA, \n",
    "varImp_cni = NA, \n",
    "varImp_ncho = NA, \n",
    "varImp_ncre = NA, \n",
    "varImp_nnaa = NA, \n",
    "varImp_nfa.1 = NA, \n",
    "varImp_nadc.1 = NA, \n",
    "varImp_hasDiffu = NA, \n",
    "varImp_hasPerf = NA, \n",
    "varImp_hasSpec = NA)"
   ]
  },
  {
   "cell_type": "code",
   "execution_count": 63,
   "metadata": {},
   "outputs": [],
   "source": [
    "scores_rf = outcome_exp_template"
   ]
  },
  {
   "cell_type": "code",
   "execution_count": 64,
   "metadata": {},
   "outputs": [],
   "source": [
    "## let's begin by running experiments for anatomic features only: \n",
    "## for each experiment, we'll run the random forest with a variety of parameters \n",
    "\n",
    "for (fold in c(1:5)){\n",
    "    set.seed(fold)\n",
    "    \n",
    "    ## define features and outcome: \n",
    "    outcome = \"outcome\"\n",
    "    features = c('in_CEL', 'cbvn_nlin',\n",
    "                 'ccri', 'cni', 'ncho', 'ncre', 'nnaa', 'nfa.1', 'nadc.1')\n",
    "    features.addsign <- paste(features, collapse = \"+\")\n",
    "    rf_formula = as.formula(paste(outcome, features.addsign, sep = \"~\"))\n",
    "    \n",
    "    ## define training and testing (from the training) basically for x-val: \n",
    "    \n",
    "    ## divide data \n",
    "    data_thresh = data[which(data$fold != fold),]\n",
    "    data_pred = data[which(data$fold == fold),]\n",
    "    \n",
    "    ## cycle through cols to normalize: \n",
    "    for (col in features_mri){        \n",
    "        ## standardization: \n",
    "        med_col = median(data_thresh[,col], na.rm = T)\n",
    "        sd_col = sd(data_thresh[,col], na.rm = T)\n",
    "        \n",
    "        data_thresh[,col] = (data_thresh[,col]-med_col)/sd_col\n",
    "        data_pred[,col] = (data_pred[,col]-med_col)/sd_col\n",
    "\n",
    "        ##missing value filling: \n",
    "        data_thresh[,col] = ifelse(is.na(data_thresh[,col]), med_col, data_thresh[,col])\n",
    "        data_pred[,col] = ifelse(is.na(data_pred[,col]), med_col, data_pred[,col])\n",
    "    }    \n",
    "    \n",
    "    rf_med = randomForest(formula = rf_formula, \n",
    "             data = data_thresh, mtry = 3, nodesize = 1, classwt = c(1, 1000000))\n",
    "    importance_rf_med = importance(rf_med)\n",
    "    \n",
    "    thresh_med_preds    = predict(rf_med, data_thresh)\n",
    "    thresh_med_conf_mat = confusionMatrix(thresh_med_preds, data_thresh$outcome)\n",
    "    thresh_sens         = confusionMatrix(thresh_med_preds, data_thresh$outcome)$byClass['Sensitivity']\n",
    "    thresh_spec         = confusionMatrix(thresh_med_preds, data_thresh$outcome)$byClass['Specificity']\n",
    "    thresh_acc          = confusionMatrix(thresh_med_preds, data_thresh$outcome)$overall['Accuracy']\n",
    "    \n",
    "    cv_med_preds = predict(rf_med, data_pred)\n",
    "    cv_med_conf_mat = confusionMatrix(cv_med_preds, data_pred$outcome)\n",
    "    cv_sens         = confusionMatrix(cv_med_preds, data_pred$outcome)$byClass['Sensitivity']\n",
    "    cv_spec         = confusionMatrix(cv_med_preds, data_pred$outcome)$byClass['Specificity']\n",
    "    cv_acc          = confusionMatrix(cv_med_preds, data_pred$outcome)$overall['Accuracy']\n",
    "    \n",
    "    \n",
    "    tr_txe_pct = table(data_thresh$outcome)['txe']/sum(table(data_thresh$outcome)['txe'], table(data_thresh$outcome)['rHGG'])\n",
    "    cv_txe_pct = table(data_pred$outcome)['txe']/sum(table(data_pred$outcome)['txe'], table(data_pred$outcome)['rHGG'])\n",
    "\n",
    "    scores_rf[fold,'folds'] = fold\n",
    "    scores_rf[fold,'tr_txe_pct'] = tr_txe_pct\n",
    "    scores_rf[fold,'cv_txe_pct'] = cv_txe_pct\n",
    "    \n",
    "    scores_rf[fold,'tr_acc'] = thresh_acc\n",
    "    scores_rf[fold,'tr_sens'] = thresh_sens\n",
    "    scores_rf[fold,'tr_spec'] = thresh_spec\n",
    "    \n",
    "    scores_rf[fold,'tr_outtxe_predtxe'] = rf_med$confusion['txe', 'txe']\n",
    "    scores_rf[fold,'tr_outtxe_predrHGG'] = rf_med$confusion['txe', 'rHGG']\n",
    "    scores_rf[fold,'tr_outrHGG_predtxe'] = rf_med$confusion['rHGG', 'txe']\n",
    "    scores_rf[fold,'tr_outrHGG_predrHGG'] = rf_med$confusion['rHGG', 'rHGG']\n",
    "    \n",
    "    scores_rf[fold,'cv_acc'] = cv_acc\n",
    "    scores_rf[fold,'cv_sens'] = cv_sens\n",
    "    scores_rf[fold,'cv_spec'] = cv_spec\n",
    "    \n",
    "    scores_rf[fold,'cv_outtxe_predtxe'] = cv_med_conf_mat$table['txe', 'txe']\n",
    "    scores_rf[fold,'cv_outtxe_predrHGG'] = cv_med_conf_mat$table['txe', 'rHGG']\n",
    "    scores_rf[fold,'cv_outrHGG_predtxe'] = cv_med_conf_mat$table['rHGG', 'txe']\n",
    "    scores_rf[fold,'cv_outrHGG_predrHGG'] = cv_med_conf_mat$table['rHGG', 'rHGG']\n",
    "    \n",
    "    for (col in features){\n",
    "        varImp_col = paste('varImp_', col, sep = \"\")\n",
    "            scores_rf[fold, varImp_col] = importance_rf_med[col,]\n",
    "    }\n",
    "      \n",
    "    fold = fold + 1\n",
    "\n",
    "}"
   ]
  },
  {
   "cell_type": "code",
   "execution_count": 67,
   "metadata": {},
   "outputs": [
    {
     "data": {
      "text/html": [
       "<table>\n",
       "<thead><tr><th scope=col>folds</th><th scope=col>tr_txe_pct</th><th scope=col>cv_txe_pct</th><th scope=col>tr_outtxe_predtxe</th><th scope=col>tr_outtxe_predrHGG</th><th scope=col>tr_outrHGG_predtxe</th><th scope=col>tr_outrHGG_predrHGG</th><th scope=col>cv_outtxe_predtxe</th><th scope=col>cv_outtxe_predrHGG</th><th scope=col>cv_outrHGG_predtxe</th><th scope=col>cv_outrHGG_predrHGG</th><th scope=col>varImp_in_CEL</th><th scope=col>varImp_cbvn_nlin</th><th scope=col>varImp_recov_npar</th><th scope=col>varImp_ccri</th><th scope=col>varImp_cni</th><th scope=col>varImp_ncho</th><th scope=col>varImp_ncre</th><th scope=col>varImp_nnaa</th><th scope=col>varImp_nfa.1</th><th scope=col>varImp_nadc.1</th><th scope=col>varImp_hasDiffu</th><th scope=col>varImp_hasPerf</th><th scope=col>varImp_hasSpec</th><th scope=col>tr_acc</th><th scope=col>tr_sens</th><th scope=col>tr_spec</th><th scope=col>cv_acc</th><th scope=col>cv_sens</th><th scope=col>cv_spec</th></tr></thead>\n",
       "<tbody>\n",
       "\t<tr><td>1           </td><td>0.2371134   </td><td>0.1875000   </td><td>10          </td><td>13          </td><td>23          </td><td>51          </td><td>1           </td><td> 6          </td><td>2           </td><td> 7          </td><td>4.184074e-06</td><td>2.478278e-05</td><td>NA          </td><td>2.113657e-05</td><td>1.637930e-05</td><td>2.260342e-05</td><td>1.962095e-05</td><td>1.593087e-05</td><td>1.432992e-05</td><td>1.423758e-05</td><td>NA          </td><td>NA          </td><td>NA          </td><td>0.9278351   </td><td>0.9054054   </td><td>1           </td><td>0.5000000   </td><td>0.5384615   </td><td>0.3333333   </td></tr>\n",
       "\t<tr><td>2           </td><td>0.2435897   </td><td>0.2000000   </td><td> 9          </td><td>10          </td><td>24          </td><td>35          </td><td>3           </td><td>17          </td><td>4           </td><td>11          </td><td>1.961898e-06</td><td>8.859641e-06</td><td>NA          </td><td>1.411093e-05</td><td>1.871661e-05</td><td>3.052676e-05</td><td>1.626455e-05</td><td>1.059749e-05</td><td>8.963441e-06</td><td>1.125912e-05</td><td>NA          </td><td>NA          </td><td>NA          </td><td>0.8461538   </td><td>0.7966102   </td><td>1           </td><td>0.4000000   </td><td>0.3928571   </td><td>0.4285714   </td></tr>\n",
       "\t<tr><td>3           </td><td>0.2307692   </td><td>0.2272727   </td><td> 6          </td><td>15          </td><td>25          </td><td>45          </td><td>4           </td><td> 6          </td><td>1           </td><td>11          </td><td>2.818390e-06</td><td>2.027552e-05</td><td>NA          </td><td>1.913860e-05</td><td>2.059202e-05</td><td>2.078564e-05</td><td>1.571240e-05</td><td>1.624443e-05</td><td>1.422320e-05</td><td>1.192913e-05</td><td>NA          </td><td>NA          </td><td>NA          </td><td>0.9230769   </td><td>0.9000000   </td><td>1           </td><td>0.6818182   </td><td>0.6470588   </td><td>0.8000000   </td></tr>\n",
       "\t<tr><td>4           </td><td>0.2222222   </td><td>0.2857143   </td><td> 9          </td><td>13          </td><td>22          </td><td>55          </td><td>1           </td><td> 4          </td><td>3           </td><td> 6          </td><td>2.494269e-06</td><td>2.601903e-05</td><td>NA          </td><td>1.844940e-05</td><td>2.722334e-05</td><td>2.008631e-05</td><td>1.668585e-05</td><td>1.508075e-05</td><td>2.062696e-05</td><td>1.237771e-05</td><td>NA          </td><td>NA          </td><td>NA          </td><td>0.8787879   </td><td>0.8441558   </td><td>1           </td><td>0.5000000   </td><td>0.6000000   </td><td>0.2500000   </td></tr>\n",
       "\t<tr><td>5           </td><td>0.2183908   </td><td>0.2692308   </td><td> 4          </td><td>15          </td><td>14          </td><td>54          </td><td>3           </td><td> 4          </td><td>4           </td><td>15          </td><td>1.407317e-06</td><td>2.127390e-05</td><td>NA          </td><td>1.720242e-05</td><td>1.595404e-05</td><td>2.600040e-05</td><td>1.732056e-05</td><td>1.313642e-05</td><td>1.551925e-05</td><td>1.146234e-05</td><td>NA          </td><td>NA          </td><td>NA          </td><td>0.9540230   </td><td>0.9411765   </td><td>1           </td><td>0.6923077   </td><td>0.7894737   </td><td>0.4285714   </td></tr>\n",
       "</tbody>\n",
       "</table>\n"
      ],
      "text/latex": [
       "\\begin{tabular}{r|llllllllllllllllllllllllllllll}\n",
       " folds & tr\\_txe\\_pct & cv\\_txe\\_pct & tr\\_outtxe\\_predtxe & tr\\_outtxe\\_predrHGG & tr\\_outrHGG\\_predtxe & tr\\_outrHGG\\_predrHGG & cv\\_outtxe\\_predtxe & cv\\_outtxe\\_predrHGG & cv\\_outrHGG\\_predtxe & cv\\_outrHGG\\_predrHGG & varImp\\_in\\_CEL & varImp\\_cbvn\\_nlin & varImp\\_recov\\_npar & varImp\\_ccri & varImp\\_cni & varImp\\_ncho & varImp\\_ncre & varImp\\_nnaa & varImp\\_nfa.1 & varImp\\_nadc.1 & varImp\\_hasDiffu & varImp\\_hasPerf & varImp\\_hasSpec & tr\\_acc & tr\\_sens & tr\\_spec & cv\\_acc & cv\\_sens & cv\\_spec\\\\\n",
       "\\hline\n",
       "\t 1            & 0.2371134    & 0.1875000    & 10           & 13           & 23           & 51           & 1            &  6           & 2            &  7           & 4.184074e-06 & 2.478278e-05 & NA           & 2.113657e-05 & 1.637930e-05 & 2.260342e-05 & 1.962095e-05 & 1.593087e-05 & 1.432992e-05 & 1.423758e-05 & NA           & NA           & NA           & 0.9278351    & 0.9054054    & 1            & 0.5000000    & 0.5384615    & 0.3333333   \\\\\n",
       "\t 2            & 0.2435897    & 0.2000000    &  9           & 10           & 24           & 35           & 3            & 17           & 4            & 11           & 1.961898e-06 & 8.859641e-06 & NA           & 1.411093e-05 & 1.871661e-05 & 3.052676e-05 & 1.626455e-05 & 1.059749e-05 & 8.963441e-06 & 1.125912e-05 & NA           & NA           & NA           & 0.8461538    & 0.7966102    & 1            & 0.4000000    & 0.3928571    & 0.4285714   \\\\\n",
       "\t 3            & 0.2307692    & 0.2272727    &  6           & 15           & 25           & 45           & 4            &  6           & 1            & 11           & 2.818390e-06 & 2.027552e-05 & NA           & 1.913860e-05 & 2.059202e-05 & 2.078564e-05 & 1.571240e-05 & 1.624443e-05 & 1.422320e-05 & 1.192913e-05 & NA           & NA           & NA           & 0.9230769    & 0.9000000    & 1            & 0.6818182    & 0.6470588    & 0.8000000   \\\\\n",
       "\t 4            & 0.2222222    & 0.2857143    &  9           & 13           & 22           & 55           & 1            &  4           & 3            &  6           & 2.494269e-06 & 2.601903e-05 & NA           & 1.844940e-05 & 2.722334e-05 & 2.008631e-05 & 1.668585e-05 & 1.508075e-05 & 2.062696e-05 & 1.237771e-05 & NA           & NA           & NA           & 0.8787879    & 0.8441558    & 1            & 0.5000000    & 0.6000000    & 0.2500000   \\\\\n",
       "\t 5            & 0.2183908    & 0.2692308    &  4           & 15           & 14           & 54           & 3            &  4           & 4            & 15           & 1.407317e-06 & 2.127390e-05 & NA           & 1.720242e-05 & 1.595404e-05 & 2.600040e-05 & 1.732056e-05 & 1.313642e-05 & 1.551925e-05 & 1.146234e-05 & NA           & NA           & NA           & 0.9540230    & 0.9411765    & 1            & 0.6923077    & 0.7894737    & 0.4285714   \\\\\n",
       "\\end{tabular}\n"
      ],
      "text/markdown": [
       "\n",
       "folds | tr_txe_pct | cv_txe_pct | tr_outtxe_predtxe | tr_outtxe_predrHGG | tr_outrHGG_predtxe | tr_outrHGG_predrHGG | cv_outtxe_predtxe | cv_outtxe_predrHGG | cv_outrHGG_predtxe | cv_outrHGG_predrHGG | varImp_in_CEL | varImp_cbvn_nlin | varImp_recov_npar | varImp_ccri | varImp_cni | varImp_ncho | varImp_ncre | varImp_nnaa | varImp_nfa.1 | varImp_nadc.1 | varImp_hasDiffu | varImp_hasPerf | varImp_hasSpec | tr_acc | tr_sens | tr_spec | cv_acc | cv_sens | cv_spec | \n",
       "|---|---|---|---|---|\n",
       "| 1            | 0.2371134    | 0.1875000    | 10           | 13           | 23           | 51           | 1            |  6           | 2            |  7           | 4.184074e-06 | 2.478278e-05 | NA           | 2.113657e-05 | 1.637930e-05 | 2.260342e-05 | 1.962095e-05 | 1.593087e-05 | 1.432992e-05 | 1.423758e-05 | NA           | NA           | NA           | 0.9278351    | 0.9054054    | 1            | 0.5000000    | 0.5384615    | 0.3333333    | \n",
       "| 2            | 0.2435897    | 0.2000000    |  9           | 10           | 24           | 35           | 3            | 17           | 4            | 11           | 1.961898e-06 | 8.859641e-06 | NA           | 1.411093e-05 | 1.871661e-05 | 3.052676e-05 | 1.626455e-05 | 1.059749e-05 | 8.963441e-06 | 1.125912e-05 | NA           | NA           | NA           | 0.8461538    | 0.7966102    | 1            | 0.4000000    | 0.3928571    | 0.4285714    | \n",
       "| 3            | 0.2307692    | 0.2272727    |  6           | 15           | 25           | 45           | 4            |  6           | 1            | 11           | 2.818390e-06 | 2.027552e-05 | NA           | 1.913860e-05 | 2.059202e-05 | 2.078564e-05 | 1.571240e-05 | 1.624443e-05 | 1.422320e-05 | 1.192913e-05 | NA           | NA           | NA           | 0.9230769    | 0.9000000    | 1            | 0.6818182    | 0.6470588    | 0.8000000    | \n",
       "| 4            | 0.2222222    | 0.2857143    |  9           | 13           | 22           | 55           | 1            |  4           | 3            |  6           | 2.494269e-06 | 2.601903e-05 | NA           | 1.844940e-05 | 2.722334e-05 | 2.008631e-05 | 1.668585e-05 | 1.508075e-05 | 2.062696e-05 | 1.237771e-05 | NA           | NA           | NA           | 0.8787879    | 0.8441558    | 1            | 0.5000000    | 0.6000000    | 0.2500000    | \n",
       "| 5            | 0.2183908    | 0.2692308    |  4           | 15           | 14           | 54           | 3            |  4           | 4            | 15           | 1.407317e-06 | 2.127390e-05 | NA           | 1.720242e-05 | 1.595404e-05 | 2.600040e-05 | 1.732056e-05 | 1.313642e-05 | 1.551925e-05 | 1.146234e-05 | NA           | NA           | NA           | 0.9540230    | 0.9411765    | 1            | 0.6923077    | 0.7894737    | 0.4285714    | \n",
       "\n",
       "\n"
      ],
      "text/plain": [
       "  folds tr_txe_pct cv_txe_pct tr_outtxe_predtxe tr_outtxe_predrHGG\n",
       "1 1     0.2371134  0.1875000  10                13                \n",
       "2 2     0.2435897  0.2000000   9                10                \n",
       "3 3     0.2307692  0.2272727   6                15                \n",
       "4 4     0.2222222  0.2857143   9                13                \n",
       "5 5     0.2183908  0.2692308   4                15                \n",
       "  tr_outrHGG_predtxe tr_outrHGG_predrHGG cv_outtxe_predtxe cv_outtxe_predrHGG\n",
       "1 23                 51                  1                  6                \n",
       "2 24                 35                  3                 17                \n",
       "3 25                 45                  4                  6                \n",
       "4 22                 55                  1                  4                \n",
       "5 14                 54                  3                  4                \n",
       "  cv_outrHGG_predtxe cv_outrHGG_predrHGG varImp_in_CEL varImp_cbvn_nlin\n",
       "1 2                   7                  4.184074e-06  2.478278e-05    \n",
       "2 4                  11                  1.961898e-06  8.859641e-06    \n",
       "3 1                  11                  2.818390e-06  2.027552e-05    \n",
       "4 3                   6                  2.494269e-06  2.601903e-05    \n",
       "5 4                  15                  1.407317e-06  2.127390e-05    \n",
       "  varImp_recov_npar varImp_ccri  varImp_cni   varImp_ncho  varImp_ncre \n",
       "1 NA                2.113657e-05 1.637930e-05 2.260342e-05 1.962095e-05\n",
       "2 NA                1.411093e-05 1.871661e-05 3.052676e-05 1.626455e-05\n",
       "3 NA                1.913860e-05 2.059202e-05 2.078564e-05 1.571240e-05\n",
       "4 NA                1.844940e-05 2.722334e-05 2.008631e-05 1.668585e-05\n",
       "5 NA                1.720242e-05 1.595404e-05 2.600040e-05 1.732056e-05\n",
       "  varImp_nnaa  varImp_nfa.1 varImp_nadc.1 varImp_hasDiffu varImp_hasPerf\n",
       "1 1.593087e-05 1.432992e-05 1.423758e-05  NA              NA            \n",
       "2 1.059749e-05 8.963441e-06 1.125912e-05  NA              NA            \n",
       "3 1.624443e-05 1.422320e-05 1.192913e-05  NA              NA            \n",
       "4 1.508075e-05 2.062696e-05 1.237771e-05  NA              NA            \n",
       "5 1.313642e-05 1.551925e-05 1.146234e-05  NA              NA            \n",
       "  varImp_hasSpec tr_acc    tr_sens   tr_spec cv_acc    cv_sens   cv_spec  \n",
       "1 NA             0.9278351 0.9054054 1       0.5000000 0.5384615 0.3333333\n",
       "2 NA             0.8461538 0.7966102 1       0.4000000 0.3928571 0.4285714\n",
       "3 NA             0.9230769 0.9000000 1       0.6818182 0.6470588 0.8000000\n",
       "4 NA             0.8787879 0.8441558 1       0.5000000 0.6000000 0.2500000\n",
       "5 NA             0.9540230 0.9411765 1       0.6923077 0.7894737 0.4285714"
      ]
     },
     "metadata": {},
     "output_type": "display_data"
    }
   ],
   "source": [
    "scores_rf"
   ]
  },
  {
   "cell_type": "markdown",
   "metadata": {
    "collapsed": true
   },
   "source": [
    "## Attempt at predicting with GEE "
   ]
  },
  {
   "cell_type": "code",
   "execution_count": 69,
   "metadata": {},
   "outputs": [],
   "source": [
    "library(geepack)"
   ]
  },
  {
   "cell_type": "code",
   "execution_count": 68,
   "metadata": {},
   "outputs": [],
   "source": [
    "scores_gee  = data.frame(folds = NA,  auc_4folds = NA,\n",
    "                        ci1_4folds = NA, \n",
    "                        ci2_4folds = NA,\n",
    "                        acc_4folds = NA,\n",
    "                        sens_4folds = NA, \n",
    "                        spec_4folds = NA, \n",
    "                        acc_CV = NA,\n",
    "                        sens_CV = NA, \n",
    "                        spec_CV = NA\n",
    "                       )"
   ]
  },
  {
   "cell_type": "code",
   "execution_count": 70,
   "metadata": {},
   "outputs": [],
   "source": [
    "fold = 1"
   ]
  },
  {
   "cell_type": "code",
   "execution_count": 85,
   "metadata": {},
   "outputs": [],
   "source": [
    "data$outcome_bin = ifelse(data$outcome == \"rHGG\", 1, 0)"
   ]
  },
  {
   "cell_type": "code",
   "execution_count": 99,
   "metadata": {},
   "outputs": [],
   "source": [
    "data$outcome_bin = factor(data$outcome_bin)"
   ]
  },
  {
   "cell_type": "code",
   "execution_count": 71,
   "metadata": {},
   "outputs": [],
   "source": [
    "## divide data \n",
    "data_thresh = data[which(data$fold != fold),]\n",
    "data_pred = data[which(data$fold == fold),]"
   ]
  },
  {
   "cell_type": "code",
   "execution_count": 74,
   "metadata": {},
   "outputs": [],
   "source": [
    "## cycle through cols to normalize: \n",
    "for (col in features_mri){        \n",
    "    ## standardization: \n",
    "    med_col = median(data_thresh[,col], na.rm = T)\n",
    "    sd_col = sd(data_thresh[,col], na.rm = T)\n",
    "\n",
    "    data_thresh[,col] = (data_thresh[,col]-med_col)/sd_col\n",
    "    data_pred[,col] = (data_pred[,col]-med_col)/sd_col\n",
    "\n",
    "    ##missing value filling: \n",
    "    data_thresh[,col] = ifelse(is.na(data_thresh[,col]), med_col, data_thresh[,col])\n",
    "    data_pred[,col] = ifelse(is.na(data_pred[,col]), med_col, data_pred[,col])\n",
    "}"
   ]
  },
  {
   "cell_type": "code",
   "execution_count": 109,
   "metadata": {},
   "outputs": [],
   "source": [
    "gee.fit = geeglm(outcome_bin~cbvn_nlin+ccri+cni+ncre+nnaa, \n",
    "                 data = data_thresh, \n",
    "                 id = factor(t_number_y), \n",
    "                 family=binomial, \n",
    "                 corstr = \"exchangeable\")"
   ]
  },
  {
   "cell_type": "code",
   "execution_count": 110,
   "metadata": {},
   "outputs": [
    {
     "name": "stderr",
     "output_type": "stream",
     "text": [
      "Installing package into ‘/home/sf673542/R/x86_64-pc-linux-gnu-library/3.4’\n",
      "(as ‘lib’ is unspecified)\n"
     ]
    }
   ],
   "source": [
    "# install.packages('doBy')"
   ]
  },
  {
   "cell_type": "code",
   "execution_count": 113,
   "metadata": {},
   "outputs": [
    {
     "name": "stderr",
     "output_type": "stream",
     "text": [
      "Warning message in `[<-.data.frame`(`*tmp*`, , cov.ave.name, value = structure(list(:\n",
      "“replacement element 1 has 1 row to replace 0 rows”Warning message in `[<-.data.frame`(`*tmp*`, , cov.ave.name, value = structure(list(:\n",
      "“replacement element 2 has 1 row to replace 0 rows”Warning message in `[<-.data.frame`(`*tmp*`, , cov.ave.name, value = structure(list(:\n",
      "“replacement element 3 has 1 row to replace 0 rows”Warning message in `[<-.data.frame`(`*tmp*`, , cov.ave.name, value = structure(list(:\n",
      "“replacement element 4 has 1 row to replace 0 rows”Warning message in `[<-.data.frame`(`*tmp*`, , cov.ave.name, value = structure(list(:\n",
      "“replacement element 5 has 1 row to replace 0 rows”Warning message in `[<-.data.frame`(`*tmp*`, , cov.ave.name, value = structure(list(:\n",
      "“replacement element 1 has 1 row to replace 0 rows”Warning message in `[<-.data.frame`(`*tmp*`, , cov.ave.name, value = structure(list(:\n",
      "“replacement element 2 has 1 row to replace 0 rows”Warning message in `[<-.data.frame`(`*tmp*`, , cov.ave.name, value = structure(list(:\n",
      "“replacement element 3 has 1 row to replace 0 rows”Warning message in `[<-.data.frame`(`*tmp*`, , cov.ave.name, value = structure(list(:\n",
      "“replacement element 4 has 1 row to replace 0 rows”Warning message in `[<-.data.frame`(`*tmp*`, , cov.ave.name, value = structure(list(:\n",
      "“replacement element 5 has 1 row to replace 0 rows”"
     ]
    },
    {
     "ename": "ERROR",
     "evalue": "Error in XXlist[[ii]] <- XX: attempt to select less than one element in integerOneIndex\n",
     "output_type": "error",
     "traceback": [
      "Error in XXlist[[ii]] <- XX: attempt to select less than one element in integerOneIndex\nTraceback:\n",
      "1. LSmeans(gee.fit, effect = c(\"cbvn_nlin\", \"ccri\"))",
      "2. LSmeans.default(gee.fit, effect = c(\"cbvn_nlin\", \"ccri\"))",
      "3. LE_matrix(object, effect = effect, at = at)",
      "4. LE_matrix.default(object, effect = effect, at = at)",
      "5. get_linest_list(object, effect, at)"
     ]
    }
   ],
   "source": [
    "library('doBy')\n",
    "LSmeans(gee.fit,effect=c(\"cbvn_nlin\", 'ccri', ))"
   ]
  },
  {
   "cell_type": "code",
   "execution_count": null,
   "metadata": {},
   "outputs": [],
   "source": [
    "## predict on training data: (4folds)\n",
    "fit.probs.data_thresh = predict(lr.fit, data_thresh, family = binomial,  allow.new.levels=T)\n",
    "\n",
    "roc_obj = roc(data_thresh$outcome, fit.probs.data_thresh, levels=c(\"txe\", \"rHGG\"), \n",
    "      percent = TRUE)\n",
    "auc = (auc(roc_obj))\n",
    "auc.ci1 = ci.auc(roc(data_thresh$outcome, fit.probs.data_thresh, levels=c(\"txe\", \"rHGG\"), \n",
    "    percent = TRUE))[1]\n",
    "auc.ci2 = ci.auc(roc(data_thresh$outcome, fit.probs.data_thresh, levels=c(\"txe\", \"rHGG\"), \n",
    "    percent = TRUE))[3]\n",
    "\n",
    "thresh = pROC::coords(roc_obj, x = 'best', best.method = 'closest.topleft')['threshold']\n",
    "\n",
    "fit.preds.data_thresh = as.factor(ifelse(fit.probs.data_thresh > thresh, \"txe\", 'rHGG'))\n",
    "\n",
    "acc =  confusionMatrix(data = fit.preds.data_thresh, reference = data_thresh$outcome)$overall['Accuracy']\n",
    "sens = confusionMatrix(data = fit.preds.data_thresh, reference = data_thresh$outcome)$byClass['Sensitivity']\n",
    "spec = confusionMatrix(data = fit.preds.data_thresh, reference = data_thresh$outcome)$byClass['Specificity']\n",
    "\n",
    "## predict on test   data: (5th fold)\n",
    "fit.probs.data_pred = predict(lr.fit, data_pred, family = binomial,  allow.new.levels=T)\n",
    "fit.preds.data_pred = as.factor(ifelse(fit.probs.data_pred > thresh, \"txe\", 'rHGG'))\n",
    "\n",
    "## save the coefficients & p-values\n",
    "\n",
    "\n",
    "acc_5 =  confusionMatrix(data = fit.preds.data_pred, reference = data_pred$outcome)$overall['Accuracy']\n",
    "sens_5 = confusionMatrix(data = fit.preds.data_pred, reference = data_pred$outcome)$byClass['Sensitivity']\n",
    "spec_5 = confusionMatrix(data = fit.preds.data_pred, reference = data_pred$outcome)$byClass['Specificity']\n",
    "\n",
    "SAVE_FOLD = c(fold, auc, auc.ci1, auc.ci2, acc, sens, spec, acc_5, sens_5, spec_5)\n",
    "mixed_lr = rbind(mixed_lr, SAVE_FOLD)\n",
    "\n",
    "\n"
   ]
  }
 ],
 "metadata": {
  "kernelspec": {
   "display_name": "R",
   "language": "R",
   "name": "ir"
  },
  "language_info": {
   "codemirror_mode": "r",
   "file_extension": ".r",
   "mimetype": "text/x-r-source",
   "name": "R",
   "pygments_lexer": "r",
   "version": "3.4.0"
  }
 },
 "nbformat": 4,
 "nbformat_minor": 2
}
