{
 "cells": [
  {
   "cell_type": "code",
   "execution_count": 1,
   "metadata": {},
   "outputs": [
    {
     "name": "stderr",
     "output_type": "stream",
     "text": [
      "randomForest 4.6-14\n",
      "Type rfNews() to see new features/changes/bug fixes.\n",
      "Loading required package: lattice\n",
      "Loading required package: ggplot2\n",
      "\n",
      "Attaching package: ‘ggplot2’\n",
      "\n",
      "The following object is masked from ‘package:randomForest’:\n",
      "\n",
      "    margin\n",
      "\n",
      "\n",
      " randomForestSRC 2.7.0 \n",
      " \n",
      " Type rfsrc.news() to see new features, changes, and bug fixes. \n",
      " \n",
      "\n"
     ]
    }
   ],
   "source": [
    "library(randomForest)\n",
    "library(tictoc)\n",
    "library('caret')\n",
    "library(geepack)\n",
    "library(randomForestSRC)"
   ]
  },
  {
   "cell_type": "code",
   "execution_count": 30,
   "metadata": {},
   "outputs": [],
   "source": [
    "# install.packages(\"BBmisc\")\n",
    "library(\"BBmisc\")"
   ]
  },
  {
   "cell_type": "code",
   "execution_count": 21,
   "metadata": {},
   "outputs": [],
   "source": [
    "data = read.csv('../../AnnotateData/recgli_annot10_CELorNELorUNK.csv')"
   ]
  },
  {
   "cell_type": "code",
   "execution_count": 22,
   "metadata": {},
   "outputs": [],
   "source": [
    "data = data[,c('vialid','t_number_y', 'CELorNEL',\n",
    "               'newdata', 'nadc.1','nfa.1', \n",
    "               'cbvn_nlin', 'recov_npar', 'ccri', 'cni', 'ncho', 'nnaa', 'ncre', 'outcome')]\n",
    "\n"
   ]
  },
  {
   "cell_type": "code",
   "execution_count": 23,
   "metadata": {},
   "outputs": [],
   "source": [
    "data = data[which(data$outcome == \"txe\" | data$outcome == \"rHGG\"),]"
   ]
  },
  {
   "cell_type": "code",
   "execution_count": 24,
   "metadata": {},
   "outputs": [],
   "source": [
    "data = data[which(data$CELorNEL != \"unk\"),]"
   ]
  },
  {
   "cell_type": "code",
   "execution_count": 25,
   "metadata": {},
   "outputs": [
    {
     "data": {
      "text/plain": [
       "       \n",
       "        FALSE TRUE\n",
       "  FALSE   119   37\n",
       "  TRUE     76   60"
      ]
     },
     "metadata": {},
     "output_type": "display_data"
    }
   ],
   "source": [
    "table(is.na(data$cni), is.na(data$cbvn_nlin))"
   ]
  },
  {
   "cell_type": "code",
   "execution_count": 26,
   "metadata": {},
   "outputs": [
    {
     "data": {
      "text/html": [
       "<dl class=dl-horizontal>\n",
       "\t<dt>vialid</dt>\n",
       "\t\t<dd>0</dd>\n",
       "\t<dt>t_number_y</dt>\n",
       "\t\t<dd>0</dd>\n",
       "\t<dt>CELorNEL</dt>\n",
       "\t\t<dd>0</dd>\n",
       "\t<dt>newdata</dt>\n",
       "\t\t<dd>0</dd>\n",
       "\t<dt>nadc.1</dt>\n",
       "\t\t<dd>15</dd>\n",
       "\t<dt>nfa.1</dt>\n",
       "\t\t<dd>15</dd>\n",
       "\t<dt>cbvn_nlin</dt>\n",
       "\t\t<dd>97</dd>\n",
       "\t<dt>recov_npar</dt>\n",
       "\t\t<dd>97</dd>\n",
       "\t<dt>ccri</dt>\n",
       "\t\t<dd>136</dd>\n",
       "\t<dt>cni</dt>\n",
       "\t\t<dd>136</dd>\n",
       "\t<dt>ncho</dt>\n",
       "\t\t<dd>136</dd>\n",
       "\t<dt>nnaa</dt>\n",
       "\t\t<dd>136</dd>\n",
       "\t<dt>ncre</dt>\n",
       "\t\t<dd>136</dd>\n",
       "\t<dt>outcome</dt>\n",
       "\t\t<dd>0</dd>\n",
       "</dl>\n"
      ],
      "text/latex": [
       "\\begin{description*}\n",
       "\\item[vialid] 0\n",
       "\\item[t\\textbackslash{}\\_number\\textbackslash{}\\_y] 0\n",
       "\\item[CELorNEL] 0\n",
       "\\item[newdata] 0\n",
       "\\item[nadc.1] 15\n",
       "\\item[nfa.1] 15\n",
       "\\item[cbvn\\textbackslash{}\\_nlin] 97\n",
       "\\item[recov\\textbackslash{}\\_npar] 97\n",
       "\\item[ccri] 136\n",
       "\\item[cni] 136\n",
       "\\item[ncho] 136\n",
       "\\item[nnaa] 136\n",
       "\\item[ncre] 136\n",
       "\\item[outcome] 0\n",
       "\\end{description*}\n"
      ],
      "text/markdown": [
       "vialid\n",
       ":   0t_number_y\n",
       ":   0CELorNEL\n",
       ":   0newdata\n",
       ":   0nadc.1\n",
       ":   15nfa.1\n",
       ":   15cbvn_nlin\n",
       ":   97recov_npar\n",
       ":   97ccri\n",
       ":   136cni\n",
       ":   136ncho\n",
       ":   136nnaa\n",
       ":   136ncre\n",
       ":   136outcome\n",
       ":   0\n",
       "\n"
      ],
      "text/plain": [
       "    vialid t_number_y   CELorNEL    newdata     nadc.1      nfa.1  cbvn_nlin \n",
       "         0          0          0          0         15         15         97 \n",
       "recov_npar       ccri        cni       ncho       nnaa       ncre    outcome \n",
       "        97        136        136        136        136        136          0 "
      ]
     },
     "metadata": {},
     "output_type": "display_data"
    }
   ],
   "source": [
    "colSums(is.na(data))"
   ]
  },
  {
   "cell_type": "code",
   "execution_count": 27,
   "metadata": {},
   "outputs": [],
   "source": [
    "data = droplevels.data.frame(data)"
   ]
  },
  {
   "cell_type": "code",
   "execution_count": 15,
   "metadata": {},
   "outputs": [
    {
     "data": {
      "text/html": [
       "<table>\n",
       "<thead><tr><th></th><th scope=col>vialid</th><th scope=col>t_number_y</th><th scope=col>CELorNEL</th><th scope=col>newdata</th><th scope=col>nadc.1</th><th scope=col>nfa.1</th><th scope=col>cbvn_nlin</th><th scope=col>recov_npar</th><th scope=col>ccri</th><th scope=col>cni</th><th scope=col>ncho</th><th scope=col>nnaa</th><th scope=col>ncre</th><th scope=col>outcome</th></tr></thead>\n",
       "<tbody>\n",
       "\t<tr><th scope=row>1</th><td>1B82  </td><td>10366 </td><td>NEL   </td><td>1     </td><td>0.75  </td><td>0.83  </td><td>1.08  </td><td> 98.89</td><td>1.88  </td><td>2.60  </td><td>1.03  </td><td>0.46  </td><td>0.47  </td><td>txe   </td></tr>\n",
       "\t<tr><th scope=row>3</th><td>29B82 </td><td>10448 </td><td>CEL   </td><td>1     </td><td>1.62  </td><td>0.50  </td><td>2.43  </td><td>100.00</td><td>  NA  </td><td>  NA  </td><td>  NA  </td><td>  NA  </td><td>  NA  </td><td>rHGG  </td></tr>\n",
       "\t<tr><th scope=row>5</th><td>60B90 </td><td>10594 </td><td>NEL   </td><td>1     </td><td>2.12  </td><td>0.42  </td><td>0.95  </td><td>100.00</td><td>1.03  </td><td>3.27  </td><td>1.04  </td><td>0.36  </td><td>0.79  </td><td>rHGG  </td></tr>\n",
       "\t<tr><th scope=row>6</th><td>58B90 </td><td>10594 </td><td>NEL   </td><td>1     </td><td>1.60  </td><td>0.73  </td><td>0.84  </td><td>100.00</td><td>2.33  </td><td>7.57  </td><td>1.61  </td><td>0.13  </td><td>1.07  </td><td>rHGG  </td></tr>\n",
       "\t<tr><th scope=row>7</th><td>59B90 </td><td>10594 </td><td>NEL   </td><td>1     </td><td>3.03  </td><td>0.42  </td><td>0.42  </td><td>100.00</td><td>2.13  </td><td>4.37  </td><td>1.89  </td><td>0.74  </td><td>1.21  </td><td>rHGG  </td></tr>\n",
       "\t<tr><th scope=row>8</th><td>7B91  </td><td>10655 </td><td>NEL   </td><td>1     </td><td>1.15  </td><td>0.61  </td><td>0.63  </td><td>100.00</td><td>2.22  </td><td>3.43  </td><td>1.10  </td><td>0.27  </td><td>0.53  </td><td>txe   </td></tr>\n",
       "</tbody>\n",
       "</table>\n"
      ],
      "text/latex": [
       "\\begin{tabular}{r|llllllllllllll}\n",
       "  & vialid & t\\_number\\_y & CELorNEL & newdata & nadc.1 & nfa.1 & cbvn\\_nlin & recov\\_npar & ccri & cni & ncho & nnaa & ncre & outcome\\\\\n",
       "\\hline\n",
       "\t1 & 1B82   & 10366  & NEL    & 1      & 0.75   & 0.83   & 1.08   &  98.89 & 1.88   & 2.60   & 1.03   & 0.46   & 0.47   & txe   \\\\\n",
       "\t3 & 29B82  & 10448  & CEL    & 1      & 1.62   & 0.50   & 2.43   & 100.00 &   NA   &   NA   &   NA   &   NA   &   NA   & rHGG  \\\\\n",
       "\t5 & 60B90  & 10594  & NEL    & 1      & 2.12   & 0.42   & 0.95   & 100.00 & 1.03   & 3.27   & 1.04   & 0.36   & 0.79   & rHGG  \\\\\n",
       "\t6 & 58B90  & 10594  & NEL    & 1      & 1.60   & 0.73   & 0.84   & 100.00 & 2.33   & 7.57   & 1.61   & 0.13   & 1.07   & rHGG  \\\\\n",
       "\t7 & 59B90  & 10594  & NEL    & 1      & 3.03   & 0.42   & 0.42   & 100.00 & 2.13   & 4.37   & 1.89   & 0.74   & 1.21   & rHGG  \\\\\n",
       "\t8 & 7B91   & 10655  & NEL    & 1      & 1.15   & 0.61   & 0.63   & 100.00 & 2.22   & 3.43   & 1.10   & 0.27   & 0.53   & txe   \\\\\n",
       "\\end{tabular}\n"
      ],
      "text/markdown": [
       "\n",
       "| <!--/--> | vialid | t_number_y | CELorNEL | newdata | nadc.1 | nfa.1 | cbvn_nlin | recov_npar | ccri | cni | ncho | nnaa | ncre | outcome | \n",
       "|---|---|---|---|---|---|\n",
       "| 1 | 1B82   | 10366  | NEL    | 1      | 0.75   | 0.83   | 1.08   |  98.89 | 1.88   | 2.60   | 1.03   | 0.46   | 0.47   | txe    | \n",
       "| 3 | 29B82  | 10448  | CEL    | 1      | 1.62   | 0.50   | 2.43   | 100.00 |   NA   |   NA   |   NA   |   NA   |   NA   | rHGG   | \n",
       "| 5 | 60B90  | 10594  | NEL    | 1      | 2.12   | 0.42   | 0.95   | 100.00 | 1.03   | 3.27   | 1.04   | 0.36   | 0.79   | rHGG   | \n",
       "| 6 | 58B90  | 10594  | NEL    | 1      | 1.60   | 0.73   | 0.84   | 100.00 | 2.33   | 7.57   | 1.61   | 0.13   | 1.07   | rHGG   | \n",
       "| 7 | 59B90  | 10594  | NEL    | 1      | 3.03   | 0.42   | 0.42   | 100.00 | 2.13   | 4.37   | 1.89   | 0.74   | 1.21   | rHGG   | \n",
       "| 8 | 7B91   | 10655  | NEL    | 1      | 1.15   | 0.61   | 0.63   | 100.00 | 2.22   | 3.43   | 1.10   | 0.27   | 0.53   | txe    | \n",
       "\n",
       "\n"
      ],
      "text/plain": [
       "  vialid t_number_y CELorNEL newdata nadc.1 nfa.1 cbvn_nlin recov_npar ccri\n",
       "1 1B82   10366      NEL      1       0.75   0.83  1.08       98.89     1.88\n",
       "3 29B82  10448      CEL      1       1.62   0.50  2.43      100.00       NA\n",
       "5 60B90  10594      NEL      1       2.12   0.42  0.95      100.00     1.03\n",
       "6 58B90  10594      NEL      1       1.60   0.73  0.84      100.00     2.33\n",
       "7 59B90  10594      NEL      1       3.03   0.42  0.42      100.00     2.13\n",
       "8 7B91   10655      NEL      1       1.15   0.61  0.63      100.00     2.22\n",
       "  cni  ncho nnaa ncre outcome\n",
       "1 2.60 1.03 0.46 0.47 txe    \n",
       "3   NA   NA   NA   NA rHGG   \n",
       "5 3.27 1.04 0.36 0.79 rHGG   \n",
       "6 7.57 1.61 0.13 1.07 rHGG   \n",
       "7 4.37 1.89 0.74 1.21 rHGG   \n",
       "8 3.43 1.10 0.27 0.53 txe    "
      ]
     },
     "metadata": {},
     "output_type": "display_data"
    }
   ],
   "source": [
    "head(data)"
   ]
  },
  {
   "cell_type": "code",
   "execution_count": 31,
   "metadata": {},
   "outputs": [],
   "source": [
    "## ensure normalization \n",
    "for (col in c('nadc.1','nfa.1', 'cbvn_nlin', \n",
    "              'recov_npar', 'ccri', 'cni', 'ncho', 'nnaa', 'ncre')){\n",
    "    data[col] = normalize(data[col], method = \"standardize\")\n",
    "}"
   ]
  },
  {
   "cell_type": "code",
   "execution_count": 32,
   "metadata": {},
   "outputs": [
    {
     "data": {
      "text/html": [
       "<table>\n",
       "<thead><tr><th></th><th scope=col>vialid</th><th scope=col>t_number_y</th><th scope=col>CELorNEL</th><th scope=col>newdata</th><th scope=col>nadc.1</th><th scope=col>nfa.1</th><th scope=col>cbvn_nlin</th><th scope=col>recov_npar</th><th scope=col>ccri</th><th scope=col>cni</th><th scope=col>ncho</th><th scope=col>nnaa</th><th scope=col>ncre</th><th scope=col>outcome</th></tr></thead>\n",
       "<tbody>\n",
       "\t<tr><th scope=row>1</th><td>1B82       </td><td>10366      </td><td>NEL        </td><td>1          </td><td>-1.9306504 </td><td> 0.0887003 </td><td>-0.4167726 </td><td>0.7751297  </td><td>-0.15160317</td><td>-0.3249772 </td><td>-0.2834404 </td><td> 0.26413101</td><td>-0.2329996 </td><td>txe        </td></tr>\n",
       "\t<tr><th scope=row>3</th><td>29B82      </td><td>10448      </td><td>CEL        </td><td>1          </td><td>-0.1270785 </td><td>-0.9415532 </td><td> 0.8249134 </td><td>0.8596380  </td><td>         NA</td><td>        NA </td><td>        NA </td><td>         NA</td><td>        NA </td><td>rHGG       </td></tr>\n",
       "\t<tr><th scope=row>5</th><td>60B90      </td><td>10594      </td><td>NEL        </td><td>1          </td><td> 0.9094571 </td><td>-1.1913116 </td><td>-0.5363423 </td><td>0.8596380  </td><td>-0.45804495</td><td>-0.1544364 </td><td>-0.2727651 </td><td>-0.06445302</td><td> 0.2409752 </td><td>rHGG       </td></tr>\n",
       "\t<tr><th scope=row>6</th><td>58B90      </td><td>10594      </td><td>NEL        </td><td>1          </td><td>-0.1685399 </td><td>-0.2234977 </td><td>-0.6375167 </td><td>0.8596380  </td><td> 0.01063071</td><td> 0.9400795 </td><td> 0.3357215 </td><td>-0.82019628</td><td> 0.6557031 </td><td>rHGG       </td></tr>\n",
       "\t<tr><th scope=row>7</th><td>59B90      </td><td>10594      </td><td>NEL        </td><td>1          </td><td> 2.7959518 </td><td>-1.1913116 </td><td>-1.0238190 </td><td>0.8596380  </td><td>-0.06147324</td><td> 0.1255560 </td><td> 0.6346272 </td><td> 1.18416628</td><td> 0.8630670 </td><td>rHGG       </td></tr>\n",
       "\t<tr><th scope=row>8</th><td>7B91       </td><td>10655      </td><td>NEL        </td><td>1          </td><td>-1.1014220 </td><td>-0.5981353 </td><td>-0.8306679 </td><td>0.8596380  </td><td>-0.02902646</td><td>-0.1137102 </td><td>-0.2087139 </td><td>-0.36017865</td><td>-0.1441293 </td><td>txe        </td></tr>\n",
       "</tbody>\n",
       "</table>\n"
      ],
      "text/latex": [
       "\\begin{tabular}{r|llllllllllllll}\n",
       "  & vialid & t\\_number\\_y & CELorNEL & newdata & nadc.1 & nfa.1 & cbvn\\_nlin & recov\\_npar & ccri & cni & ncho & nnaa & ncre & outcome\\\\\n",
       "\\hline\n",
       "\t1 & 1B82        & 10366       & NEL         & 1           & -1.9306504  &  0.0887003  & -0.4167726  & 0.7751297   & -0.15160317 & -0.3249772  & -0.2834404  &  0.26413101 & -0.2329996  & txe        \\\\\n",
       "\t3 & 29B82       & 10448       & CEL         & 1           & -0.1270785  & -0.9415532  &  0.8249134  & 0.8596380   &          NA &         NA  &         NA  &          NA &         NA  & rHGG       \\\\\n",
       "\t5 & 60B90       & 10594       & NEL         & 1           &  0.9094571  & -1.1913116  & -0.5363423  & 0.8596380   & -0.45804495 & -0.1544364  & -0.2727651  & -0.06445302 &  0.2409752  & rHGG       \\\\\n",
       "\t6 & 58B90       & 10594       & NEL         & 1           & -0.1685399  & -0.2234977  & -0.6375167  & 0.8596380   &  0.01063071 &  0.9400795  &  0.3357215  & -0.82019628 &  0.6557031  & rHGG       \\\\\n",
       "\t7 & 59B90       & 10594       & NEL         & 1           &  2.7959518  & -1.1913116  & -1.0238190  & 0.8596380   & -0.06147324 &  0.1255560  &  0.6346272  &  1.18416628 &  0.8630670  & rHGG       \\\\\n",
       "\t8 & 7B91        & 10655       & NEL         & 1           & -1.1014220  & -0.5981353  & -0.8306679  & 0.8596380   & -0.02902646 & -0.1137102  & -0.2087139  & -0.36017865 & -0.1441293  & txe        \\\\\n",
       "\\end{tabular}\n"
      ],
      "text/markdown": [
       "\n",
       "| <!--/--> | vialid | t_number_y | CELorNEL | newdata | nadc.1 | nfa.1 | cbvn_nlin | recov_npar | ccri | cni | ncho | nnaa | ncre | outcome | \n",
       "|---|---|---|---|---|---|\n",
       "| 1 | 1B82        | 10366       | NEL         | 1           | -1.9306504  |  0.0887003  | -0.4167726  | 0.7751297   | -0.15160317 | -0.3249772  | -0.2834404  |  0.26413101 | -0.2329996  | txe         | \n",
       "| 3 | 29B82       | 10448       | CEL         | 1           | -0.1270785  | -0.9415532  |  0.8249134  | 0.8596380   |          NA |         NA  |         NA  |          NA |         NA  | rHGG        | \n",
       "| 5 | 60B90       | 10594       | NEL         | 1           |  0.9094571  | -1.1913116  | -0.5363423  | 0.8596380   | -0.45804495 | -0.1544364  | -0.2727651  | -0.06445302 |  0.2409752  | rHGG        | \n",
       "| 6 | 58B90       | 10594       | NEL         | 1           | -0.1685399  | -0.2234977  | -0.6375167  | 0.8596380   |  0.01063071 |  0.9400795  |  0.3357215  | -0.82019628 |  0.6557031  | rHGG        | \n",
       "| 7 | 59B90       | 10594       | NEL         | 1           |  2.7959518  | -1.1913116  | -1.0238190  | 0.8596380   | -0.06147324 |  0.1255560  |  0.6346272  |  1.18416628 |  0.8630670  | rHGG        | \n",
       "| 8 | 7B91        | 10655       | NEL         | 1           | -1.1014220  | -0.5981353  | -0.8306679  | 0.8596380   | -0.02902646 | -0.1137102  | -0.2087139  | -0.36017865 | -0.1441293  | txe         | \n",
       "\n",
       "\n"
      ],
      "text/plain": [
       "  vialid t_number_y CELorNEL newdata nadc.1     nfa.1      cbvn_nlin \n",
       "1 1B82   10366      NEL      1       -1.9306504  0.0887003 -0.4167726\n",
       "3 29B82  10448      CEL      1       -0.1270785 -0.9415532  0.8249134\n",
       "5 60B90  10594      NEL      1        0.9094571 -1.1913116 -0.5363423\n",
       "6 58B90  10594      NEL      1       -0.1685399 -0.2234977 -0.6375167\n",
       "7 59B90  10594      NEL      1        2.7959518 -1.1913116 -1.0238190\n",
       "8 7B91   10655      NEL      1       -1.1014220 -0.5981353 -0.8306679\n",
       "  recov_npar ccri        cni        ncho       nnaa        ncre       outcome\n",
       "1 0.7751297  -0.15160317 -0.3249772 -0.2834404  0.26413101 -0.2329996 txe    \n",
       "3 0.8596380           NA         NA         NA          NA         NA rHGG   \n",
       "5 0.8596380  -0.45804495 -0.1544364 -0.2727651 -0.06445302  0.2409752 rHGG   \n",
       "6 0.8596380   0.01063071  0.9400795  0.3357215 -0.82019628  0.6557031 rHGG   \n",
       "7 0.8596380  -0.06147324  0.1255560  0.6346272  1.18416628  0.8630670 rHGG   \n",
       "8 0.8596380  -0.02902646 -0.1137102 -0.2087139 -0.36017865 -0.1441293 txe    "
      ]
     },
     "metadata": {},
     "output_type": "display_data"
    }
   ],
   "source": [
    "head(data)"
   ]
  },
  {
   "cell_type": "code",
   "execution_count": 33,
   "metadata": {},
   "outputs": [],
   "source": [
    "data_dummyVars = data.frame(data, \n",
    "                           hasPerf = ifelse(is.na(data$cbvn_nlin), 0, 1), \n",
    "                           hasSpec = ifelse(is.na(data$cni), 0, 1), \n",
    "                           isCEL = ifelse(data$CELorNEL == \"CEL\", 1, 0))"
   ]
  },
  {
   "cell_type": "code",
   "execution_count": 34,
   "metadata": {},
   "outputs": [
    {
     "data": {
      "text/html": [
       "<ol class=list-inline>\n",
       "\t<li>119</li>\n",
       "\t<li>17</li>\n",
       "</ol>\n"
      ],
      "text/latex": [
       "\\begin{enumerate*}\n",
       "\\item 119\n",
       "\\item 17\n",
       "\\end{enumerate*}\n"
      ],
      "text/markdown": [
       "1. 119\n",
       "2. 17\n",
       "\n",
       "\n"
      ],
      "text/plain": [
       "[1] 119  17"
      ]
     },
     "metadata": {},
     "output_type": "display_data"
    }
   ],
   "source": [
    "data_noMissingValues = data_dummyVars[!is.na(data_dummyVars$cbvn_nlin) & !is.na(data_dummyVars$cni),]\n",
    "dim(data_noMissingValues)"
   ]
  },
  {
   "cell_type": "code",
   "execution_count": 35,
   "metadata": {},
   "outputs": [],
   "source": [
    "data_noMissingValues$txe_rhgg = ifelse(data_noMissingValues$outcome==\"txe\", 0, 1)\n"
   ]
  },
  {
   "cell_type": "code",
   "execution_count": 36,
   "metadata": {},
   "outputs": [
    {
     "data": {
      "text/html": [
       "<table>\n",
       "<thead><tr><th></th><th scope=col>Estimate</th><th scope=col>Std.err</th><th scope=col>Wald</th><th scope=col>Pr(&gt;|W|)</th></tr></thead>\n",
       "<tbody>\n",
       "\t<tr><th scope=row>(Intercept)</th><td> 1.4939</td><td>0.3593 </td><td>17.2853</td><td>0.0000 </td></tr>\n",
       "\t<tr><th scope=row>isCEL</th><td>-0.2262</td><td>0.3848 </td><td> 0.3456</td><td>0.5566 </td></tr>\n",
       "\t<tr><th scope=row>cbvn_nlin</th><td> 0.4081</td><td>0.3350 </td><td> 1.4837</td><td>0.2232 </td></tr>\n",
       "\t<tr><th scope=row>recov_npar</th><td>-0.4040</td><td>0.3930 </td><td> 1.0571</td><td>0.3039 </td></tr>\n",
       "\t<tr><th scope=row>cni</th><td> 0.2763</td><td>0.9955 </td><td> 0.0770</td><td>0.7814 </td></tr>\n",
       "\t<tr><th scope=row>ncho</th><td> 1.5302</td><td>1.1175 </td><td> 1.8750</td><td>0.1709 </td></tr>\n",
       "\t<tr><th scope=row>ccri</th><td>-0.6033</td><td>0.8024 </td><td> 0.5654</td><td>0.4521 </td></tr>\n",
       "\t<tr><th scope=row>isCEL:cbvn_nlin</th><td>-0.2457</td><td>0.3971 </td><td> 0.3830</td><td>0.5360 </td></tr>\n",
       "\t<tr><th scope=row>isCEL:recov_npar</th><td> 0.9228</td><td>0.4974 </td><td> 3.4426</td><td>0.0635 </td></tr>\n",
       "\t<tr><th scope=row>isCEL:cni</th><td> 0.4933</td><td>1.1716 </td><td> 0.1772</td><td>0.6738 </td></tr>\n",
       "\t<tr><th scope=row>isCEL:ncho</th><td>-2.3561</td><td>1.3461 </td><td> 3.0637</td><td>0.0801 </td></tr>\n",
       "\t<tr><th scope=row>isCEL:ccri</th><td> 0.5478</td><td>0.7551 </td><td> 0.5263</td><td>0.4682 </td></tr>\n",
       "</tbody>\n",
       "</table>\n"
      ],
      "text/latex": [
       "\\begin{tabular}{r|llll}\n",
       "  & Estimate & Std.err & Wald & Pr(>\\textbar{}W\\textbar{})\\\\\n",
       "\\hline\n",
       "\t(Intercept) &  1.4939 & 0.3593  & 17.2853 & 0.0000 \\\\\n",
       "\tisCEL & -0.2262 & 0.3848  &  0.3456 & 0.5566 \\\\\n",
       "\tcbvn\\_nlin &  0.4081 & 0.3350  &  1.4837 & 0.2232 \\\\\n",
       "\trecov\\_npar & -0.4040 & 0.3930  &  1.0571 & 0.3039 \\\\\n",
       "\tcni &  0.2763 & 0.9955  &  0.0770 & 0.7814 \\\\\n",
       "\tncho &  1.5302 & 1.1175  &  1.8750 & 0.1709 \\\\\n",
       "\tccri & -0.6033 & 0.8024  &  0.5654 & 0.4521 \\\\\n",
       "\tisCEL:cbvn\\_nlin & -0.2457 & 0.3971  &  0.3830 & 0.5360 \\\\\n",
       "\tisCEL:recov\\_npar &  0.9228 & 0.4974  &  3.4426 & 0.0635 \\\\\n",
       "\tisCEL:cni &  0.4933 & 1.1716  &  0.1772 & 0.6738 \\\\\n",
       "\tisCEL:ncho & -2.3561 & 1.3461  &  3.0637 & 0.0801 \\\\\n",
       "\tisCEL:ccri &  0.5478 & 0.7551  &  0.5263 & 0.4682 \\\\\n",
       "\\end{tabular}\n"
      ],
      "text/markdown": [
       "\n",
       "| <!--/--> | Estimate | Std.err | Wald | Pr(>|W|) | \n",
       "|---|---|---|---|---|---|---|---|---|---|---|---|\n",
       "| (Intercept) |  1.4939 | 0.3593  | 17.2853 | 0.0000  | \n",
       "| isCEL | -0.2262 | 0.3848  |  0.3456 | 0.5566  | \n",
       "| cbvn_nlin |  0.4081 | 0.3350  |  1.4837 | 0.2232  | \n",
       "| recov_npar | -0.4040 | 0.3930  |  1.0571 | 0.3039  | \n",
       "| cni |  0.2763 | 0.9955  |  0.0770 | 0.7814  | \n",
       "| ncho |  1.5302 | 1.1175  |  1.8750 | 0.1709  | \n",
       "| ccri | -0.6033 | 0.8024  |  0.5654 | 0.4521  | \n",
       "| isCEL:cbvn_nlin | -0.2457 | 0.3971  |  0.3830 | 0.5360  | \n",
       "| isCEL:recov_npar |  0.9228 | 0.4974  |  3.4426 | 0.0635  | \n",
       "| isCEL:cni |  0.4933 | 1.1716  |  0.1772 | 0.6738  | \n",
       "| isCEL:ncho | -2.3561 | 1.3461  |  3.0637 | 0.0801  | \n",
       "| isCEL:ccri |  0.5478 | 0.7551  |  0.5263 | 0.4682  | \n",
       "\n",
       "\n"
      ],
      "text/plain": [
       "                 Estimate Std.err Wald    Pr(>|W|)\n",
       "(Intercept)       1.4939  0.3593  17.2853 0.0000  \n",
       "isCEL            -0.2262  0.3848   0.3456 0.5566  \n",
       "cbvn_nlin         0.4081  0.3350   1.4837 0.2232  \n",
       "recov_npar       -0.4040  0.3930   1.0571 0.3039  \n",
       "cni               0.2763  0.9955   0.0770 0.7814  \n",
       "ncho              1.5302  1.1175   1.8750 0.1709  \n",
       "ccri             -0.6033  0.8024   0.5654 0.4521  \n",
       "isCEL:cbvn_nlin  -0.2457  0.3971   0.3830 0.5360  \n",
       "isCEL:recov_npar  0.9228  0.4974   3.4426 0.0635  \n",
       "isCEL:cni         0.4933  1.1716   0.1772 0.6738  \n",
       "isCEL:ncho       -2.3561  1.3461   3.0637 0.0801  \n",
       "isCEL:ccri        0.5478  0.7551   0.5263 0.4682  "
      ]
     },
     "metadata": {},
     "output_type": "display_data"
    }
   ],
   "source": [
    "gee.fit1 = geeglm(txe_rhgg ~ isCEL*(cbvn_nlin+recov_npar+cni+ncho+ccri), data = data_noMissingValues, id = factor(t_number_y), family = binomial, corstr = \"exchangeable\")\n",
    "round(summary(gee.fit1)$coefficients, 4)\n",
    "\n"
   ]
  },
  {
   "cell_type": "code",
   "execution_count": 37,
   "metadata": {},
   "outputs": [
    {
     "data": {
      "text/html": [
       "<table>\n",
       "<thead><tr><th></th><th scope=col>Estimate</th><th scope=col>Std.err</th><th scope=col>Wald</th><th scope=col>Pr(&gt;|W|)</th></tr></thead>\n",
       "<tbody>\n",
       "\t<tr><th scope=row>(Intercept)</th><td> 1.5124</td><td>0.3590 </td><td>17.7443</td><td>0.0000 </td></tr>\n",
       "\t<tr><th scope=row>isCEL</th><td>-0.2453</td><td>0.3805 </td><td> 0.4159</td><td>0.5190 </td></tr>\n",
       "\t<tr><th scope=row>cbvn_nlin</th><td> 0.4635</td><td>0.3458 </td><td> 1.7961</td><td>0.1802 </td></tr>\n",
       "\t<tr><th scope=row>recov_npar</th><td>-0.4439</td><td>0.3601 </td><td> 1.5195</td><td>0.2177 </td></tr>\n",
       "\t<tr><th scope=row>ccri</th><td>-0.5362</td><td>0.8308 </td><td> 0.4166</td><td>0.5187 </td></tr>\n",
       "\t<tr><th scope=row>ncho</th><td> 1.7175</td><td>0.7807 </td><td> 4.8391</td><td>0.0278 </td></tr>\n",
       "\t<tr><th scope=row>isCEL:cbvn_nlin</th><td>-0.2926</td><td>0.4159 </td><td> 0.4949</td><td>0.4817 </td></tr>\n",
       "\t<tr><th scope=row>isCEL:recov_npar</th><td> 0.9712</td><td>0.4703 </td><td> 4.2657</td><td>0.0389 </td></tr>\n",
       "\t<tr><th scope=row>isCEL:ccri</th><td> 0.4780</td><td>0.7961 </td><td> 0.3605</td><td>0.5482 </td></tr>\n",
       "\t<tr><th scope=row>isCEL:ncho</th><td>-2.5608</td><td>1.1026 </td><td> 5.3944</td><td>0.0202 </td></tr>\n",
       "\t<tr><th scope=row>isCEL:cni</th><td> 0.7864</td><td>0.6878 </td><td> 1.3071</td><td>0.2529 </td></tr>\n",
       "</tbody>\n",
       "</table>\n"
      ],
      "text/latex": [
       "\\begin{tabular}{r|llll}\n",
       "  & Estimate & Std.err & Wald & Pr(>\\textbar{}W\\textbar{})\\\\\n",
       "\\hline\n",
       "\t(Intercept) &  1.5124 & 0.3590  & 17.7443 & 0.0000 \\\\\n",
       "\tisCEL & -0.2453 & 0.3805  &  0.4159 & 0.5190 \\\\\n",
       "\tcbvn\\_nlin &  0.4635 & 0.3458  &  1.7961 & 0.1802 \\\\\n",
       "\trecov\\_npar & -0.4439 & 0.3601  &  1.5195 & 0.2177 \\\\\n",
       "\tccri & -0.5362 & 0.8308  &  0.4166 & 0.5187 \\\\\n",
       "\tncho &  1.7175 & 0.7807  &  4.8391 & 0.0278 \\\\\n",
       "\tisCEL:cbvn\\_nlin & -0.2926 & 0.4159  &  0.4949 & 0.4817 \\\\\n",
       "\tisCEL:recov\\_npar &  0.9712 & 0.4703  &  4.2657 & 0.0389 \\\\\n",
       "\tisCEL:ccri &  0.4780 & 0.7961  &  0.3605 & 0.5482 \\\\\n",
       "\tisCEL:ncho & -2.5608 & 1.1026  &  5.3944 & 0.0202 \\\\\n",
       "\tisCEL:cni &  0.7864 & 0.6878  &  1.3071 & 0.2529 \\\\\n",
       "\\end{tabular}\n"
      ],
      "text/markdown": [
       "\n",
       "| <!--/--> | Estimate | Std.err | Wald | Pr(>|W|) | \n",
       "|---|---|---|---|---|---|---|---|---|---|---|\n",
       "| (Intercept) |  1.5124 | 0.3590  | 17.7443 | 0.0000  | \n",
       "| isCEL | -0.2453 | 0.3805  |  0.4159 | 0.5190  | \n",
       "| cbvn_nlin |  0.4635 | 0.3458  |  1.7961 | 0.1802  | \n",
       "| recov_npar | -0.4439 | 0.3601  |  1.5195 | 0.2177  | \n",
       "| ccri | -0.5362 | 0.8308  |  0.4166 | 0.5187  | \n",
       "| ncho |  1.7175 | 0.7807  |  4.8391 | 0.0278  | \n",
       "| isCEL:cbvn_nlin | -0.2926 | 0.4159  |  0.4949 | 0.4817  | \n",
       "| isCEL:recov_npar |  0.9712 | 0.4703  |  4.2657 | 0.0389  | \n",
       "| isCEL:ccri |  0.4780 | 0.7961  |  0.3605 | 0.5482  | \n",
       "| isCEL:ncho | -2.5608 | 1.1026  |  5.3944 | 0.0202  | \n",
       "| isCEL:cni |  0.7864 | 0.6878  |  1.3071 | 0.2529  | \n",
       "\n",
       "\n"
      ],
      "text/plain": [
       "                 Estimate Std.err Wald    Pr(>|W|)\n",
       "(Intercept)       1.5124  0.3590  17.7443 0.0000  \n",
       "isCEL            -0.2453  0.3805   0.4159 0.5190  \n",
       "cbvn_nlin         0.4635  0.3458   1.7961 0.1802  \n",
       "recov_npar       -0.4439  0.3601   1.5195 0.2177  \n",
       "ccri             -0.5362  0.8308   0.4166 0.5187  \n",
       "ncho              1.7175  0.7807   4.8391 0.0278  \n",
       "isCEL:cbvn_nlin  -0.2926  0.4159   0.4949 0.4817  \n",
       "isCEL:recov_npar  0.9712  0.4703   4.2657 0.0389  \n",
       "isCEL:ccri        0.4780  0.7961   0.3605 0.5482  \n",
       "isCEL:ncho       -2.5608  1.1026   5.3944 0.0202  \n",
       "isCEL:cni         0.7864  0.6878   1.3071 0.2529  "
      ]
     },
     "metadata": {},
     "output_type": "display_data"
    }
   ],
   "source": [
    "gee.fit1 = geeglm(txe_rhgg ~ isCEL*(cbvn_nlin+recov_npar+ccri+ncho)+cni:isCEL, data = data_noMissingValues, id = factor(t_number_y), family = binomial, corstr = \"exchangeable\")\n",
    "round(summary(gee.fit1)$coefficients, 4)\n",
    "\n"
   ]
  },
  {
   "cell_type": "code",
   "execution_count": 38,
   "metadata": {},
   "outputs": [
    {
     "data": {
      "text/html": [
       "<table>\n",
       "<thead><tr><th></th><th scope=col>Estimate</th><th scope=col>Std.err</th><th scope=col>Wald</th><th scope=col>Pr(&gt;|W|)</th></tr></thead>\n",
       "<tbody>\n",
       "\t<tr><th scope=row>(Intercept)</th><td> 1.6029</td><td>0.3563 </td><td>20.2393</td><td>0.0000 </td></tr>\n",
       "\t<tr><th scope=row>isCEL</th><td>-0.3077</td><td>0.3944 </td><td> 0.6084</td><td>0.4354 </td></tr>\n",
       "\t<tr><th scope=row>cbvn_nlin</th><td> 0.5762</td><td>0.2782 </td><td> 4.2910</td><td>0.0383 </td></tr>\n",
       "\t<tr><th scope=row>recov_npar</th><td>-0.3942</td><td>0.3357 </td><td> 1.3786</td><td>0.2403 </td></tr>\n",
       "\t<tr><th scope=row>ncho</th><td> 1.4051</td><td>0.4633 </td><td> 9.1988</td><td>0.0024 </td></tr>\n",
       "\t<tr><th scope=row>ccri</th><td>-0.1655</td><td>0.3740 </td><td> 0.1959</td><td>0.6581 </td></tr>\n",
       "\t<tr><th scope=row>isCEL:cbvn_nlin</th><td>-0.4078</td><td>0.3174 </td><td> 1.6514</td><td>0.1988 </td></tr>\n",
       "\t<tr><th scope=row>isCEL:recov_npar</th><td> 0.9309</td><td>0.4620 </td><td> 4.0597</td><td>0.0439 </td></tr>\n",
       "\t<tr><th scope=row>isCEL:ncho</th><td>-2.2143</td><td>0.9025 </td><td> 6.0190</td><td>0.0142 </td></tr>\n",
       "\t<tr><th scope=row>isCEL:cni</th><td> 0.8501</td><td>0.6923 </td><td> 1.5077</td><td>0.2195 </td></tr>\n",
       "</tbody>\n",
       "</table>\n"
      ],
      "text/latex": [
       "\\begin{tabular}{r|llll}\n",
       "  & Estimate & Std.err & Wald & Pr(>\\textbar{}W\\textbar{})\\\\\n",
       "\\hline\n",
       "\t(Intercept) &  1.6029 & 0.3563  & 20.2393 & 0.0000 \\\\\n",
       "\tisCEL & -0.3077 & 0.3944  &  0.6084 & 0.4354 \\\\\n",
       "\tcbvn\\_nlin &  0.5762 & 0.2782  &  4.2910 & 0.0383 \\\\\n",
       "\trecov\\_npar & -0.3942 & 0.3357  &  1.3786 & 0.2403 \\\\\n",
       "\tncho &  1.4051 & 0.4633  &  9.1988 & 0.0024 \\\\\n",
       "\tccri & -0.1655 & 0.3740  &  0.1959 & 0.6581 \\\\\n",
       "\tisCEL:cbvn\\_nlin & -0.4078 & 0.3174  &  1.6514 & 0.1988 \\\\\n",
       "\tisCEL:recov\\_npar &  0.9309 & 0.4620  &  4.0597 & 0.0439 \\\\\n",
       "\tisCEL:ncho & -2.2143 & 0.9025  &  6.0190 & 0.0142 \\\\\n",
       "\tisCEL:cni &  0.8501 & 0.6923  &  1.5077 & 0.2195 \\\\\n",
       "\\end{tabular}\n"
      ],
      "text/markdown": [
       "\n",
       "| <!--/--> | Estimate | Std.err | Wald | Pr(>|W|) | \n",
       "|---|---|---|---|---|---|---|---|---|---|\n",
       "| (Intercept) |  1.6029 | 0.3563  | 20.2393 | 0.0000  | \n",
       "| isCEL | -0.3077 | 0.3944  |  0.6084 | 0.4354  | \n",
       "| cbvn_nlin |  0.5762 | 0.2782  |  4.2910 | 0.0383  | \n",
       "| recov_npar | -0.3942 | 0.3357  |  1.3786 | 0.2403  | \n",
       "| ncho |  1.4051 | 0.4633  |  9.1988 | 0.0024  | \n",
       "| ccri | -0.1655 | 0.3740  |  0.1959 | 0.6581  | \n",
       "| isCEL:cbvn_nlin | -0.4078 | 0.3174  |  1.6514 | 0.1988  | \n",
       "| isCEL:recov_npar |  0.9309 | 0.4620  |  4.0597 | 0.0439  | \n",
       "| isCEL:ncho | -2.2143 | 0.9025  |  6.0190 | 0.0142  | \n",
       "| isCEL:cni |  0.8501 | 0.6923  |  1.5077 | 0.2195  | \n",
       "\n",
       "\n"
      ],
      "text/plain": [
       "                 Estimate Std.err Wald    Pr(>|W|)\n",
       "(Intercept)       1.6029  0.3563  20.2393 0.0000  \n",
       "isCEL            -0.3077  0.3944   0.6084 0.4354  \n",
       "cbvn_nlin         0.5762  0.2782   4.2910 0.0383  \n",
       "recov_npar       -0.3942  0.3357   1.3786 0.2403  \n",
       "ncho              1.4051  0.4633   9.1988 0.0024  \n",
       "ccri             -0.1655  0.3740   0.1959 0.6581  \n",
       "isCEL:cbvn_nlin  -0.4078  0.3174   1.6514 0.1988  \n",
       "isCEL:recov_npar  0.9309  0.4620   4.0597 0.0439  \n",
       "isCEL:ncho       -2.2143  0.9025   6.0190 0.0142  \n",
       "isCEL:cni         0.8501  0.6923   1.5077 0.2195  "
      ]
     },
     "metadata": {},
     "output_type": "display_data"
    }
   ],
   "source": [
    "gee.fit1 = geeglm(txe_rhgg ~ isCEL*(cbvn_nlin+recov_npar+ncho)+cni:isCEL+ccri, data = data_noMissingValues, id = factor(t_number_y), family = binomial, corstr = \"exchangeable\")\n",
    "round(summary(gee.fit1)$coefficients, 4)\n",
    "\n"
   ]
  },
  {
   "cell_type": "code",
   "execution_count": 39,
   "metadata": {},
   "outputs": [
    {
     "data": {
      "text/html": [
       "<table>\n",
       "<thead><tr><th></th><th scope=col>Estimate</th><th scope=col>Std.err</th><th scope=col>Wald</th><th scope=col>Pr(&gt;|W|)</th></tr></thead>\n",
       "<tbody>\n",
       "\t<tr><th scope=row>(Intercept)</th><td> 1.6261</td><td>0.3605 </td><td>20.3427</td><td>0.0000 </td></tr>\n",
       "\t<tr><th scope=row>isCEL</th><td>-0.3616</td><td>0.3647 </td><td> 0.9829</td><td>0.3215 </td></tr>\n",
       "\t<tr><th scope=row>cbvn_nlin</th><td> 0.6120</td><td>0.2698 </td><td> 5.1454</td><td>0.0233 </td></tr>\n",
       "\t<tr><th scope=row>recov_npar</th><td>-0.3509</td><td>0.3051 </td><td> 1.3227</td><td>0.2501 </td></tr>\n",
       "\t<tr><th scope=row>ncho</th><td> 1.2488</td><td>0.3457 </td><td>13.0480</td><td>0.0003 </td></tr>\n",
       "\t<tr><th scope=row>isCEL:cbvn_nlin</th><td>-0.4543</td><td>0.3029 </td><td> 2.2490</td><td>0.1337 </td></tr>\n",
       "\t<tr><th scope=row>isCEL:recov_npar</th><td> 0.8777</td><td>0.4247 </td><td> 4.2700</td><td>0.0388 </td></tr>\n",
       "\t<tr><th scope=row>isCEL:ncho</th><td>-2.0893</td><td>0.8782 </td><td> 5.6596</td><td>0.0174 </td></tr>\n",
       "\t<tr><th scope=row>isCEL:cni</th><td> 0.7396</td><td>0.6751 </td><td> 1.2002</td><td>0.2733 </td></tr>\n",
       "</tbody>\n",
       "</table>\n"
      ],
      "text/latex": [
       "\\begin{tabular}{r|llll}\n",
       "  & Estimate & Std.err & Wald & Pr(>\\textbar{}W\\textbar{})\\\\\n",
       "\\hline\n",
       "\t(Intercept) &  1.6261 & 0.3605  & 20.3427 & 0.0000 \\\\\n",
       "\tisCEL & -0.3616 & 0.3647  &  0.9829 & 0.3215 \\\\\n",
       "\tcbvn\\_nlin &  0.6120 & 0.2698  &  5.1454 & 0.0233 \\\\\n",
       "\trecov\\_npar & -0.3509 & 0.3051  &  1.3227 & 0.2501 \\\\\n",
       "\tncho &  1.2488 & 0.3457  & 13.0480 & 0.0003 \\\\\n",
       "\tisCEL:cbvn\\_nlin & -0.4543 & 0.3029  &  2.2490 & 0.1337 \\\\\n",
       "\tisCEL:recov\\_npar &  0.8777 & 0.4247  &  4.2700 & 0.0388 \\\\\n",
       "\tisCEL:ncho & -2.0893 & 0.8782  &  5.6596 & 0.0174 \\\\\n",
       "\tisCEL:cni &  0.7396 & 0.6751  &  1.2002 & 0.2733 \\\\\n",
       "\\end{tabular}\n"
      ],
      "text/markdown": [
       "\n",
       "| <!--/--> | Estimate | Std.err | Wald | Pr(>|W|) | \n",
       "|---|---|---|---|---|---|---|---|---|\n",
       "| (Intercept) |  1.6261 | 0.3605  | 20.3427 | 0.0000  | \n",
       "| isCEL | -0.3616 | 0.3647  |  0.9829 | 0.3215  | \n",
       "| cbvn_nlin |  0.6120 | 0.2698  |  5.1454 | 0.0233  | \n",
       "| recov_npar | -0.3509 | 0.3051  |  1.3227 | 0.2501  | \n",
       "| ncho |  1.2488 | 0.3457  | 13.0480 | 0.0003  | \n",
       "| isCEL:cbvn_nlin | -0.4543 | 0.3029  |  2.2490 | 0.1337  | \n",
       "| isCEL:recov_npar |  0.8777 | 0.4247  |  4.2700 | 0.0388  | \n",
       "| isCEL:ncho | -2.0893 | 0.8782  |  5.6596 | 0.0174  | \n",
       "| isCEL:cni |  0.7396 | 0.6751  |  1.2002 | 0.2733  | \n",
       "\n",
       "\n"
      ],
      "text/plain": [
       "                 Estimate Std.err Wald    Pr(>|W|)\n",
       "(Intercept)       1.6261  0.3605  20.3427 0.0000  \n",
       "isCEL            -0.3616  0.3647   0.9829 0.3215  \n",
       "cbvn_nlin         0.6120  0.2698   5.1454 0.0233  \n",
       "recov_npar       -0.3509  0.3051   1.3227 0.2501  \n",
       "ncho              1.2488  0.3457  13.0480 0.0003  \n",
       "isCEL:cbvn_nlin  -0.4543  0.3029   2.2490 0.1337  \n",
       "isCEL:recov_npar  0.8777  0.4247   4.2700 0.0388  \n",
       "isCEL:ncho       -2.0893  0.8782   5.6596 0.0174  \n",
       "isCEL:cni         0.7396  0.6751   1.2002 0.2733  "
      ]
     },
     "metadata": {},
     "output_type": "display_data"
    }
   ],
   "source": [
    "gee.fit1 = geeglm(txe_rhgg ~ isCEL*(cbvn_nlin+recov_npar+ncho)+cni:isCEL, data = data_noMissingValues, id = factor(t_number_y), family = binomial, corstr = \"exchangeable\")\n",
    "round(summary(gee.fit1)$coefficients, 4)\n",
    "\n"
   ]
  },
  {
   "cell_type": "code",
   "execution_count": 45,
   "metadata": {},
   "outputs": [
    {
     "data": {
      "text/html": [
       "<table>\n",
       "<thead><tr><th></th><th scope=col>Estimate</th><th scope=col>Std.err</th><th scope=col>Wald</th><th scope=col>Pr(&gt;|W|)</th></tr></thead>\n",
       "<tbody>\n",
       "\t<tr><th scope=row>(Intercept)</th><td> 1.3342</td><td>0.2964 </td><td>20.2667</td><td>0.0000 </td></tr>\n",
       "\t<tr><th scope=row>cbvn_nlin</th><td> 0.3782</td><td>0.2771 </td><td> 1.8630</td><td>0.1723 </td></tr>\n",
       "\t<tr><th scope=row>recov_npar</th><td>-0.2726</td><td>0.3057 </td><td> 0.7953</td><td>0.3725 </td></tr>\n",
       "\t<tr><th scope=row>ncho</th><td> 1.0745</td><td>0.3161 </td><td>11.5515</td><td>0.0007 </td></tr>\n",
       "\t<tr><th scope=row>isCEL:cbvn_nlin</th><td>-0.2453</td><td>0.3450 </td><td> 0.5058</td><td>0.4770 </td></tr>\n",
       "\t<tr><th scope=row>isCEL:recov_npar</th><td> 0.7951</td><td>0.4301 </td><td> 3.4178</td><td>0.0645 </td></tr>\n",
       "\t<tr><th scope=row>isCEL:ncho</th><td>-1.8638</td><td>0.9158 </td><td> 4.1417</td><td>0.0418 </td></tr>\n",
       "\t<tr><th scope=row>isCEL:cni</th><td> 0.6956</td><td>0.6991 </td><td> 0.9900</td><td>0.3197 </td></tr>\n",
       "</tbody>\n",
       "</table>\n"
      ],
      "text/latex": [
       "\\begin{tabular}{r|llll}\n",
       "  & Estimate & Std.err & Wald & Pr(>\\textbar{}W\\textbar{})\\\\\n",
       "\\hline\n",
       "\t(Intercept) &  1.3342 & 0.2964  & 20.2667 & 0.0000 \\\\\n",
       "\tcbvn\\_nlin &  0.3782 & 0.2771  &  1.8630 & 0.1723 \\\\\n",
       "\trecov\\_npar & -0.2726 & 0.3057  &  0.7953 & 0.3725 \\\\\n",
       "\tncho &  1.0745 & 0.3161  & 11.5515 & 0.0007 \\\\\n",
       "\tisCEL:cbvn\\_nlin & -0.2453 & 0.3450  &  0.5058 & 0.4770 \\\\\n",
       "\tisCEL:recov\\_npar &  0.7951 & 0.4301  &  3.4178 & 0.0645 \\\\\n",
       "\tisCEL:ncho & -1.8638 & 0.9158  &  4.1417 & 0.0418 \\\\\n",
       "\tisCEL:cni &  0.6956 & 0.6991  &  0.9900 & 0.3197 \\\\\n",
       "\\end{tabular}\n"
      ],
      "text/markdown": [
       "\n",
       "| <!--/--> | Estimate | Std.err | Wald | Pr(>|W|) | \n",
       "|---|---|---|---|---|---|---|---|\n",
       "| (Intercept) |  1.3342 | 0.2964  | 20.2667 | 0.0000  | \n",
       "| cbvn_nlin |  0.3782 | 0.2771  |  1.8630 | 0.1723  | \n",
       "| recov_npar | -0.2726 | 0.3057  |  0.7953 | 0.3725  | \n",
       "| ncho |  1.0745 | 0.3161  | 11.5515 | 0.0007  | \n",
       "| isCEL:cbvn_nlin | -0.2453 | 0.3450  |  0.5058 | 0.4770  | \n",
       "| isCEL:recov_npar |  0.7951 | 0.4301  |  3.4178 | 0.0645  | \n",
       "| isCEL:ncho | -1.8638 | 0.9158  |  4.1417 | 0.0418  | \n",
       "| isCEL:cni |  0.6956 | 0.6991  |  0.9900 | 0.3197  | \n",
       "\n",
       "\n"
      ],
      "text/plain": [
       "                 Estimate Std.err Wald    Pr(>|W|)\n",
       "(Intercept)       1.3342  0.2964  20.2667 0.0000  \n",
       "cbvn_nlin         0.3782  0.2771   1.8630 0.1723  \n",
       "recov_npar       -0.2726  0.3057   0.7953 0.3725  \n",
       "ncho              1.0745  0.3161  11.5515 0.0007  \n",
       "isCEL:cbvn_nlin  -0.2453  0.3450   0.5058 0.4770  \n",
       "isCEL:recov_npar  0.7951  0.4301   3.4178 0.0645  \n",
       "isCEL:ncho       -1.8638  0.9158   4.1417 0.0418  \n",
       "isCEL:cni         0.6956  0.6991   0.9900 0.3197  "
      ]
     },
     "metadata": {},
     "output_type": "display_data"
    }
   ],
   "source": [
    "gee.fit1 = geeglm(txe_rhgg ~ isCEL:(cbvn_nlin+recov_npar+ncho)+cni:isCEL+cbvn_nlin+recov_npar+ncho, data = data_noMissingValues, id = factor(t_number_y), family = binomial, corstr = \"exchangeable\")\n",
    "round(summary(gee.fit1)$coefficients, 4)\n",
    "\n"
   ]
  },
  {
   "cell_type": "code",
   "execution_count": 46,
   "metadata": {},
   "outputs": [
    {
     "data": {
      "text/html": [
       "<table>\n",
       "<thead><tr><th></th><th scope=col>Estimate</th><th scope=col>Std.err</th><th scope=col>Wald</th><th scope=col>Pr(&gt;|W|)</th></tr></thead>\n",
       "<tbody>\n",
       "\t<tr><th scope=row>(Intercept)</th><td> 1.2961</td><td>0.2779 </td><td>21.7443</td><td>0.0000 </td></tr>\n",
       "\t<tr><th scope=row>cbvn_nlin</th><td> 0.2508</td><td>0.2478 </td><td> 1.0246</td><td>0.3114 </td></tr>\n",
       "\t<tr><th scope=row>recov_npar</th><td>-0.2971</td><td>0.3141 </td><td> 0.8949</td><td>0.3442 </td></tr>\n",
       "\t<tr><th scope=row>ncho</th><td> 1.1408</td><td>0.3423 </td><td>11.1091</td><td>0.0009 </td></tr>\n",
       "\t<tr><th scope=row>isCEL:recov_npar</th><td> 0.8086</td><td>0.4184 </td><td> 3.7344</td><td>0.0533 </td></tr>\n",
       "\t<tr><th scope=row>isCEL:ncho</th><td>-1.8615</td><td>0.8725 </td><td> 4.5521</td><td>0.0329 </td></tr>\n",
       "\t<tr><th scope=row>isCEL:cni</th><td> 0.6315</td><td>0.6892 </td><td> 0.8395</td><td>0.3595 </td></tr>\n",
       "</tbody>\n",
       "</table>\n"
      ],
      "text/latex": [
       "\\begin{tabular}{r|llll}\n",
       "  & Estimate & Std.err & Wald & Pr(>\\textbar{}W\\textbar{})\\\\\n",
       "\\hline\n",
       "\t(Intercept) &  1.2961 & 0.2779  & 21.7443 & 0.0000 \\\\\n",
       "\tcbvn\\_nlin &  0.2508 & 0.2478  &  1.0246 & 0.3114 \\\\\n",
       "\trecov\\_npar & -0.2971 & 0.3141  &  0.8949 & 0.3442 \\\\\n",
       "\tncho &  1.1408 & 0.3423  & 11.1091 & 0.0009 \\\\\n",
       "\tisCEL:recov\\_npar &  0.8086 & 0.4184  &  3.7344 & 0.0533 \\\\\n",
       "\tisCEL:ncho & -1.8615 & 0.8725  &  4.5521 & 0.0329 \\\\\n",
       "\tisCEL:cni &  0.6315 & 0.6892  &  0.8395 & 0.3595 \\\\\n",
       "\\end{tabular}\n"
      ],
      "text/markdown": [
       "\n",
       "| <!--/--> | Estimate | Std.err | Wald | Pr(>|W|) | \n",
       "|---|---|---|---|---|---|---|\n",
       "| (Intercept) |  1.2961 | 0.2779  | 21.7443 | 0.0000  | \n",
       "| cbvn_nlin |  0.2508 | 0.2478  |  1.0246 | 0.3114  | \n",
       "| recov_npar | -0.2971 | 0.3141  |  0.8949 | 0.3442  | \n",
       "| ncho |  1.1408 | 0.3423  | 11.1091 | 0.0009  | \n",
       "| isCEL:recov_npar |  0.8086 | 0.4184  |  3.7344 | 0.0533  | \n",
       "| isCEL:ncho | -1.8615 | 0.8725  |  4.5521 | 0.0329  | \n",
       "| isCEL:cni |  0.6315 | 0.6892  |  0.8395 | 0.3595  | \n",
       "\n",
       "\n"
      ],
      "text/plain": [
       "                 Estimate Std.err Wald    Pr(>|W|)\n",
       "(Intercept)       1.2961  0.2779  21.7443 0.0000  \n",
       "cbvn_nlin         0.2508  0.2478   1.0246 0.3114  \n",
       "recov_npar       -0.2971  0.3141   0.8949 0.3442  \n",
       "ncho              1.1408  0.3423  11.1091 0.0009  \n",
       "isCEL:recov_npar  0.8086  0.4184   3.7344 0.0533  \n",
       "isCEL:ncho       -1.8615  0.8725   4.5521 0.0329  \n",
       "isCEL:cni         0.6315  0.6892   0.8395 0.3595  "
      ]
     },
     "metadata": {},
     "output_type": "display_data"
    }
   ],
   "source": [
    "gee.fit1 = geeglm(txe_rhgg ~ isCEL:(recov_npar+ncho)+cni:isCEL+cbvn_nlin+recov_npar+ncho, data = data_noMissingValues, id = factor(t_number_y), family = binomial, corstr = \"exchangeable\")\n",
    "round(summary(gee.fit1)$coefficients, 4)\n",
    "\n"
   ]
  },
  {
   "cell_type": "code",
   "execution_count": 47,
   "metadata": {},
   "outputs": [
    {
     "data": {
      "text/html": [
       "<table>\n",
       "<thead><tr><th></th><th scope=col>Estimate</th><th scope=col>Std.err</th><th scope=col>Wald</th><th scope=col>Pr(&gt;|W|)</th></tr></thead>\n",
       "<tbody>\n",
       "\t<tr><th scope=row>(Intercept)</th><td> 1.2811</td><td>0.2787 </td><td>21.1338</td><td>0.0000 </td></tr>\n",
       "\t<tr><th scope=row>cbvn_nlin</th><td> 0.2232</td><td>0.2288 </td><td> 0.9513</td><td>0.3294 </td></tr>\n",
       "\t<tr><th scope=row>recov_npar</th><td>-0.2208</td><td>0.2909 </td><td> 0.5759</td><td>0.4479 </td></tr>\n",
       "\t<tr><th scope=row>ncho</th><td> 1.0657</td><td>0.3315 </td><td>10.3331</td><td>0.0013 </td></tr>\n",
       "\t<tr><th scope=row>isCEL:recov_npar</th><td> 0.6431</td><td>0.3962 </td><td> 2.6344</td><td>0.1046 </td></tr>\n",
       "\t<tr><th scope=row>isCEL:ncho</th><td>-1.1511</td><td>0.5474 </td><td> 4.4224</td><td>0.0355 </td></tr>\n",
       "</tbody>\n",
       "</table>\n"
      ],
      "text/latex": [
       "\\begin{tabular}{r|llll}\n",
       "  & Estimate & Std.err & Wald & Pr(>\\textbar{}W\\textbar{})\\\\\n",
       "\\hline\n",
       "\t(Intercept) &  1.2811 & 0.2787  & 21.1338 & 0.0000 \\\\\n",
       "\tcbvn\\_nlin &  0.2232 & 0.2288  &  0.9513 & 0.3294 \\\\\n",
       "\trecov\\_npar & -0.2208 & 0.2909  &  0.5759 & 0.4479 \\\\\n",
       "\tncho &  1.0657 & 0.3315  & 10.3331 & 0.0013 \\\\\n",
       "\tisCEL:recov\\_npar &  0.6431 & 0.3962  &  2.6344 & 0.1046 \\\\\n",
       "\tisCEL:ncho & -1.1511 & 0.5474  &  4.4224 & 0.0355 \\\\\n",
       "\\end{tabular}\n"
      ],
      "text/markdown": [
       "\n",
       "| <!--/--> | Estimate | Std.err | Wald | Pr(>|W|) | \n",
       "|---|---|---|---|---|---|\n",
       "| (Intercept) |  1.2811 | 0.2787  | 21.1338 | 0.0000  | \n",
       "| cbvn_nlin |  0.2232 | 0.2288  |  0.9513 | 0.3294  | \n",
       "| recov_npar | -0.2208 | 0.2909  |  0.5759 | 0.4479  | \n",
       "| ncho |  1.0657 | 0.3315  | 10.3331 | 0.0013  | \n",
       "| isCEL:recov_npar |  0.6431 | 0.3962  |  2.6344 | 0.1046  | \n",
       "| isCEL:ncho | -1.1511 | 0.5474  |  4.4224 | 0.0355  | \n",
       "\n",
       "\n"
      ],
      "text/plain": [
       "                 Estimate Std.err Wald    Pr(>|W|)\n",
       "(Intercept)       1.2811  0.2787  21.1338 0.0000  \n",
       "cbvn_nlin         0.2232  0.2288   0.9513 0.3294  \n",
       "recov_npar       -0.2208  0.2909   0.5759 0.4479  \n",
       "ncho              1.0657  0.3315  10.3331 0.0013  \n",
       "isCEL:recov_npar  0.6431  0.3962   2.6344 0.1046  \n",
       "isCEL:ncho       -1.1511  0.5474   4.4224 0.0355  "
      ]
     },
     "metadata": {},
     "output_type": "display_data"
    }
   ],
   "source": [
    "gee.fit1 = geeglm(txe_rhgg ~ isCEL:(recov_npar+ncho)+cbvn_nlin+recov_npar+ncho, data = data_noMissingValues, id = factor(t_number_y), family = binomial, corstr = \"exchangeable\")\n",
    "round(summary(gee.fit1)$coefficients, 4)\n",
    "\n"
   ]
  },
  {
   "cell_type": "code",
   "execution_count": 48,
   "metadata": {},
   "outputs": [
    {
     "data": {
      "text/html": [
       "<table>\n",
       "<thead><tr><th></th><th scope=col>Estimate</th><th scope=col>Std.err</th><th scope=col>Wald</th><th scope=col>Pr(&gt;|W|)</th></tr></thead>\n",
       "<tbody>\n",
       "\t<tr><th scope=row>(Intercept)</th><td> 1.2579</td><td>0.2754 </td><td>20.8654</td><td>0.0000 </td></tr>\n",
       "\t<tr><th scope=row>cbvn_nlin</th><td> 0.2522</td><td>0.2329 </td><td> 1.1723</td><td>0.2789 </td></tr>\n",
       "\t<tr><th scope=row>ncho</th><td> 0.9557</td><td>0.2775 </td><td>11.8583</td><td>0.0006 </td></tr>\n",
       "\t<tr><th scope=row>isCEL:recov_npar</th><td> 0.4437</td><td>0.2824 </td><td> 2.4689</td><td>0.1161 </td></tr>\n",
       "\t<tr><th scope=row>isCEL:ncho</th><td>-1.0177</td><td>0.4551 </td><td> 5.0013</td><td>0.0253 </td></tr>\n",
       "</tbody>\n",
       "</table>\n"
      ],
      "text/latex": [
       "\\begin{tabular}{r|llll}\n",
       "  & Estimate & Std.err & Wald & Pr(>\\textbar{}W\\textbar{})\\\\\n",
       "\\hline\n",
       "\t(Intercept) &  1.2579 & 0.2754  & 20.8654 & 0.0000 \\\\\n",
       "\tcbvn\\_nlin &  0.2522 & 0.2329  &  1.1723 & 0.2789 \\\\\n",
       "\tncho &  0.9557 & 0.2775  & 11.8583 & 0.0006 \\\\\n",
       "\tisCEL:recov\\_npar &  0.4437 & 0.2824  &  2.4689 & 0.1161 \\\\\n",
       "\tisCEL:ncho & -1.0177 & 0.4551  &  5.0013 & 0.0253 \\\\\n",
       "\\end{tabular}\n"
      ],
      "text/markdown": [
       "\n",
       "| <!--/--> | Estimate | Std.err | Wald | Pr(>|W|) | \n",
       "|---|---|---|---|---|\n",
       "| (Intercept) |  1.2579 | 0.2754  | 20.8654 | 0.0000  | \n",
       "| cbvn_nlin |  0.2522 | 0.2329  |  1.1723 | 0.2789  | \n",
       "| ncho |  0.9557 | 0.2775  | 11.8583 | 0.0006  | \n",
       "| isCEL:recov_npar |  0.4437 | 0.2824  |  2.4689 | 0.1161  | \n",
       "| isCEL:ncho | -1.0177 | 0.4551  |  5.0013 | 0.0253  | \n",
       "\n",
       "\n"
      ],
      "text/plain": [
       "                 Estimate Std.err Wald    Pr(>|W|)\n",
       "(Intercept)       1.2579  0.2754  20.8654 0.0000  \n",
       "cbvn_nlin         0.2522  0.2329   1.1723 0.2789  \n",
       "ncho              0.9557  0.2775  11.8583 0.0006  \n",
       "isCEL:recov_npar  0.4437  0.2824   2.4689 0.1161  \n",
       "isCEL:ncho       -1.0177  0.4551   5.0013 0.0253  "
      ]
     },
     "metadata": {},
     "output_type": "display_data"
    }
   ],
   "source": [
    "gee.fit1 = geeglm(txe_rhgg ~ isCEL:(recov_npar+ncho)+cbvn_nlin+ncho, data = data_noMissingValues, id = factor(t_number_y), family = binomial, corstr = \"exchangeable\")\n",
    "round(summary(gee.fit1)$coefficients, 4)\n",
    "\n"
   ]
  },
  {
   "cell_type": "code",
   "execution_count": 49,
   "metadata": {},
   "outputs": [
    {
     "data": {
      "text/html": [
       "<table>\n",
       "<thead><tr><th></th><th scope=col>Estimate</th><th scope=col>Std.err</th><th scope=col>Wald</th><th scope=col>Pr(&gt;|W|)</th></tr></thead>\n",
       "<tbody>\n",
       "\t<tr><th scope=row>(Intercept)</th><td> 1.2047</td><td>0.2794 </td><td>18.5948</td><td>0.0000 </td></tr>\n",
       "\t<tr><th scope=row>ncho</th><td> 0.9572</td><td>0.2768 </td><td>11.9570</td><td>0.0005 </td></tr>\n",
       "\t<tr><th scope=row>isCEL:recov_npar</th><td> 0.4360</td><td>0.2595 </td><td> 2.8214</td><td>0.0930 </td></tr>\n",
       "\t<tr><th scope=row>isCEL:ncho</th><td>-1.0429</td><td>0.4250 </td><td> 6.0212</td><td>0.0141 </td></tr>\n",
       "</tbody>\n",
       "</table>\n"
      ],
      "text/latex": [
       "\\begin{tabular}{r|llll}\n",
       "  & Estimate & Std.err & Wald & Pr(>\\textbar{}W\\textbar{})\\\\\n",
       "\\hline\n",
       "\t(Intercept) &  1.2047 & 0.2794  & 18.5948 & 0.0000 \\\\\n",
       "\tncho &  0.9572 & 0.2768  & 11.9570 & 0.0005 \\\\\n",
       "\tisCEL:recov\\_npar &  0.4360 & 0.2595  &  2.8214 & 0.0930 \\\\\n",
       "\tisCEL:ncho & -1.0429 & 0.4250  &  6.0212 & 0.0141 \\\\\n",
       "\\end{tabular}\n"
      ],
      "text/markdown": [
       "\n",
       "| <!--/--> | Estimate | Std.err | Wald | Pr(>|W|) | \n",
       "|---|---|---|---|\n",
       "| (Intercept) |  1.2047 | 0.2794  | 18.5948 | 0.0000  | \n",
       "| ncho |  0.9572 | 0.2768  | 11.9570 | 0.0005  | \n",
       "| isCEL:recov_npar |  0.4360 | 0.2595  |  2.8214 | 0.0930  | \n",
       "| isCEL:ncho | -1.0429 | 0.4250  |  6.0212 | 0.0141  | \n",
       "\n",
       "\n"
      ],
      "text/plain": [
       "                 Estimate Std.err Wald    Pr(>|W|)\n",
       "(Intercept)       1.2047  0.2794  18.5948 0.0000  \n",
       "ncho              0.9572  0.2768  11.9570 0.0005  \n",
       "isCEL:recov_npar  0.4360  0.2595   2.8214 0.0930  \n",
       "isCEL:ncho       -1.0429  0.4250   6.0212 0.0141  "
      ]
     },
     "metadata": {},
     "output_type": "display_data"
    }
   ],
   "source": [
    "gee.fit1 = geeglm(txe_rhgg ~ isCEL:(recov_npar+ncho)+ncho, data = data_noMissingValues, id = factor(t_number_y), family = binomial, corstr = \"exchangeable\")\n",
    "round(summary(gee.fit1)$coefficients, 4)\n",
    "\n"
   ]
  },
  {
   "cell_type": "code",
   "execution_count": 50,
   "metadata": {},
   "outputs": [
    {
     "data": {
      "text/html": [
       "<table>\n",
       "<thead><tr><th></th><th scope=col>Estimate</th><th scope=col>Std.err</th><th scope=col>Wald</th><th scope=col>Pr(&gt;|W|)</th></tr></thead>\n",
       "<tbody>\n",
       "\t<tr><th scope=row>(Intercept)</th><td> 1.1838</td><td>0.2813 </td><td>17.7139</td><td>0.0000 </td></tr>\n",
       "\t<tr><th scope=row>ncho</th><td> 0.7720</td><td>0.2202 </td><td>12.2922</td><td>0.0005 </td></tr>\n",
       "\t<tr><th scope=row>isCEL:ncho</th><td>-0.7535</td><td>0.3651 </td><td> 4.2584</td><td>0.0391 </td></tr>\n",
       "</tbody>\n",
       "</table>\n"
      ],
      "text/latex": [
       "\\begin{tabular}{r|llll}\n",
       "  & Estimate & Std.err & Wald & Pr(>\\textbar{}W\\textbar{})\\\\\n",
       "\\hline\n",
       "\t(Intercept) &  1.1838 & 0.2813  & 17.7139 & 0.0000 \\\\\n",
       "\tncho &  0.7720 & 0.2202  & 12.2922 & 0.0005 \\\\\n",
       "\tisCEL:ncho & -0.7535 & 0.3651  &  4.2584 & 0.0391 \\\\\n",
       "\\end{tabular}\n"
      ],
      "text/markdown": [
       "\n",
       "| <!--/--> | Estimate | Std.err | Wald | Pr(>|W|) | \n",
       "|---|---|---|\n",
       "| (Intercept) |  1.1838 | 0.2813  | 17.7139 | 0.0000  | \n",
       "| ncho |  0.7720 | 0.2202  | 12.2922 | 0.0005  | \n",
       "| isCEL:ncho | -0.7535 | 0.3651  |  4.2584 | 0.0391  | \n",
       "\n",
       "\n"
      ],
      "text/plain": [
       "            Estimate Std.err Wald    Pr(>|W|)\n",
       "(Intercept)  1.1838  0.2813  17.7139 0.0000  \n",
       "ncho         0.7720  0.2202  12.2922 0.0005  \n",
       "isCEL:ncho  -0.7535  0.3651   4.2584 0.0391  "
      ]
     },
     "metadata": {},
     "output_type": "display_data"
    }
   ],
   "source": [
    "gee.fit1 = geeglm(txe_rhgg ~ isCEL:ncho+ncho, data = data_noMissingValues, id = factor(t_number_y), family = binomial, corstr = \"exchangeable\")\n",
    "round(summary(gee.fit1)$coefficients, 4)\n",
    "\n"
   ]
  },
  {
   "cell_type": "markdown",
   "metadata": {},
   "source": [
    "## using all sig variables, imputing 999 for missing stuff: "
   ]
  },
  {
   "cell_type": "code",
   "execution_count": 44,
   "metadata": {},
   "outputs": [
    {
     "data": {
      "text/html": [
       "<table>\n",
       "<thead><tr><th></th><th scope=col>vialid</th><th scope=col>t_number_y</th><th scope=col>CELorNEL</th><th scope=col>newdata</th><th scope=col>cbvn_nlin</th><th scope=col>recov_npar</th><th scope=col>ccri</th><th scope=col>cni</th><th scope=col>ncho</th><th scope=col>outcome</th></tr></thead>\n",
       "<tbody>\n",
       "\t<tr><th scope=row>1</th><td>1B82  </td><td>10366 </td><td>NEL   </td><td>1     </td><td>1.08  </td><td> 98.89</td><td>1.88  </td><td>2.60  </td><td>1.03  </td><td>txe   </td></tr>\n",
       "\t<tr><th scope=row>3</th><td>29B82 </td><td>10448 </td><td>CEL   </td><td>1     </td><td>2.43  </td><td>100.00</td><td>  NA  </td><td>  NA  </td><td>  NA  </td><td>rHGG  </td></tr>\n",
       "\t<tr><th scope=row>5</th><td>60B90 </td><td>10594 </td><td>NEL   </td><td>1     </td><td>0.95  </td><td>100.00</td><td>1.03  </td><td>3.27  </td><td>1.04  </td><td>rHGG  </td></tr>\n",
       "\t<tr><th scope=row>6</th><td>58B90 </td><td>10594 </td><td>NEL   </td><td>1     </td><td>0.84  </td><td>100.00</td><td>2.33  </td><td>7.57  </td><td>1.61  </td><td>rHGG  </td></tr>\n",
       "\t<tr><th scope=row>7</th><td>59B90 </td><td>10594 </td><td>NEL   </td><td>1     </td><td>0.42  </td><td>100.00</td><td>2.13  </td><td>4.37  </td><td>1.89  </td><td>rHGG  </td></tr>\n",
       "\t<tr><th scope=row>8</th><td>7B91  </td><td>10655 </td><td>NEL   </td><td>1     </td><td>0.63  </td><td>100.00</td><td>2.22  </td><td>3.43  </td><td>1.10  </td><td>txe   </td></tr>\n",
       "</tbody>\n",
       "</table>\n"
      ],
      "text/latex": [
       "\\begin{tabular}{r|llllllllll}\n",
       "  & vialid & t\\_number\\_y & CELorNEL & newdata & cbvn\\_nlin & recov\\_npar & ccri & cni & ncho & outcome\\\\\n",
       "\\hline\n",
       "\t1 & 1B82   & 10366  & NEL    & 1      & 1.08   &  98.89 & 1.88   & 2.60   & 1.03   & txe   \\\\\n",
       "\t3 & 29B82  & 10448  & CEL    & 1      & 2.43   & 100.00 &   NA   &   NA   &   NA   & rHGG  \\\\\n",
       "\t5 & 60B90  & 10594  & NEL    & 1      & 0.95   & 100.00 & 1.03   & 3.27   & 1.04   & rHGG  \\\\\n",
       "\t6 & 58B90  & 10594  & NEL    & 1      & 0.84   & 100.00 & 2.33   & 7.57   & 1.61   & rHGG  \\\\\n",
       "\t7 & 59B90  & 10594  & NEL    & 1      & 0.42   & 100.00 & 2.13   & 4.37   & 1.89   & rHGG  \\\\\n",
       "\t8 & 7B91   & 10655  & NEL    & 1      & 0.63   & 100.00 & 2.22   & 3.43   & 1.10   & txe   \\\\\n",
       "\\end{tabular}\n"
      ],
      "text/markdown": [
       "\n",
       "| <!--/--> | vialid | t_number_y | CELorNEL | newdata | cbvn_nlin | recov_npar | ccri | cni | ncho | outcome | \n",
       "|---|---|---|---|---|---|\n",
       "| 1 | 1B82   | 10366  | NEL    | 1      | 1.08   |  98.89 | 1.88   | 2.60   | 1.03   | txe    | \n",
       "| 3 | 29B82  | 10448  | CEL    | 1      | 2.43   | 100.00 |   NA   |   NA   |   NA   | rHGG   | \n",
       "| 5 | 60B90  | 10594  | NEL    | 1      | 0.95   | 100.00 | 1.03   | 3.27   | 1.04   | rHGG   | \n",
       "| 6 | 58B90  | 10594  | NEL    | 1      | 0.84   | 100.00 | 2.33   | 7.57   | 1.61   | rHGG   | \n",
       "| 7 | 59B90  | 10594  | NEL    | 1      | 0.42   | 100.00 | 2.13   | 4.37   | 1.89   | rHGG   | \n",
       "| 8 | 7B91   | 10655  | NEL    | 1      | 0.63   | 100.00 | 2.22   | 3.43   | 1.10   | txe    | \n",
       "\n",
       "\n"
      ],
      "text/plain": [
       "  vialid t_number_y CELorNEL newdata cbvn_nlin recov_npar ccri cni  ncho\n",
       "1 1B82   10366      NEL      1       1.08       98.89     1.88 2.60 1.03\n",
       "3 29B82  10448      CEL      1       2.43      100.00       NA   NA   NA\n",
       "5 60B90  10594      NEL      1       0.95      100.00     1.03 3.27 1.04\n",
       "6 58B90  10594      NEL      1       0.84      100.00     2.33 7.57 1.61\n",
       "7 59B90  10594      NEL      1       0.42      100.00     2.13 4.37 1.89\n",
       "8 7B91   10655      NEL      1       0.63      100.00     2.22 3.43 1.10\n",
       "  outcome\n",
       "1 txe    \n",
       "3 rHGG   \n",
       "5 rHGG   \n",
       "6 rHGG   \n",
       "7 rHGG   \n",
       "8 txe    "
      ]
     },
     "metadata": {},
     "output_type": "display_data"
    }
   ],
   "source": [
    "head(data)"
   ]
  },
  {
   "cell_type": "code",
   "execution_count": 45,
   "metadata": {},
   "outputs": [],
   "source": [
    "data_dummyVars = data.frame(data, \n",
    "                           hasPerf = ifelse(is.na(data$cbvn_nlin), 0, 1), \n",
    "                           hasSpec = ifelse(is.na(data$cni), 0, 1), \n",
    "                           isCEL = ifelse(data$CELorNEL == \"CEL\", 1, 0))"
   ]
  },
  {
   "cell_type": "code",
   "execution_count": 46,
   "metadata": {},
   "outputs": [],
   "source": [
    "data_dummyVars$cbvn_nlin = ifelse(is.na(data$cbvn_nlin), 999, data$cbvn_nlin)\n",
    "data_dummyVars$recov_npar = ifelse(is.na(data$recov_npar), 999, data$recov_npar)\n",
    "data_dummyVars$cni = ifelse(is.na(data$cni), 999, data$cni)\n",
    "data_dummyVars$ncho = ifelse(is.na(data$ncho), 999, data$ncho)\n",
    "data_dummyVars$ccri = ifelse(is.na(data$ccri), 999, data$ccri)\n"
   ]
  },
  {
   "cell_type": "code",
   "execution_count": 47,
   "metadata": {},
   "outputs": [
    {
     "data": {
      "text/html": [
       "<dl class=dl-horizontal>\n",
       "\t<dt>vialid</dt>\n",
       "\t\t<dd>0</dd>\n",
       "\t<dt>t_number_y</dt>\n",
       "\t\t<dd>0</dd>\n",
       "\t<dt>CELorNEL</dt>\n",
       "\t\t<dd>0</dd>\n",
       "\t<dt>newdata</dt>\n",
       "\t\t<dd>0</dd>\n",
       "\t<dt>cbvn_nlin</dt>\n",
       "\t\t<dd>0</dd>\n",
       "\t<dt>recov_npar</dt>\n",
       "\t\t<dd>0</dd>\n",
       "\t<dt>ccri</dt>\n",
       "\t\t<dd>0</dd>\n",
       "\t<dt>cni</dt>\n",
       "\t\t<dd>0</dd>\n",
       "\t<dt>ncho</dt>\n",
       "\t\t<dd>0</dd>\n",
       "\t<dt>outcome</dt>\n",
       "\t\t<dd>0</dd>\n",
       "\t<dt>hasPerf</dt>\n",
       "\t\t<dd>0</dd>\n",
       "\t<dt>hasSpec</dt>\n",
       "\t\t<dd>0</dd>\n",
       "\t<dt>isCEL</dt>\n",
       "\t\t<dd>0</dd>\n",
       "</dl>\n"
      ],
      "text/latex": [
       "\\begin{description*}\n",
       "\\item[vialid] 0\n",
       "\\item[t\\textbackslash{}\\_number\\textbackslash{}\\_y] 0\n",
       "\\item[CELorNEL] 0\n",
       "\\item[newdata] 0\n",
       "\\item[cbvn\\textbackslash{}\\_nlin] 0\n",
       "\\item[recov\\textbackslash{}\\_npar] 0\n",
       "\\item[ccri] 0\n",
       "\\item[cni] 0\n",
       "\\item[ncho] 0\n",
       "\\item[outcome] 0\n",
       "\\item[hasPerf] 0\n",
       "\\item[hasSpec] 0\n",
       "\\item[isCEL] 0\n",
       "\\end{description*}\n"
      ],
      "text/markdown": [
       "vialid\n",
       ":   0t_number_y\n",
       ":   0CELorNEL\n",
       ":   0newdata\n",
       ":   0cbvn_nlin\n",
       ":   0recov_npar\n",
       ":   0ccri\n",
       ":   0cni\n",
       ":   0ncho\n",
       ":   0outcome\n",
       ":   0hasPerf\n",
       ":   0hasSpec\n",
       ":   0isCEL\n",
       ":   0\n",
       "\n"
      ],
      "text/plain": [
       "    vialid t_number_y   CELorNEL    newdata  cbvn_nlin recov_npar       ccri \n",
       "         0          0          0          0          0          0          0 \n",
       "       cni       ncho    outcome    hasPerf    hasSpec      isCEL \n",
       "         0          0          0          0          0          0 "
      ]
     },
     "metadata": {},
     "output_type": "display_data"
    }
   ],
   "source": [
    "colSums(is.na(data_dummyVars))"
   ]
  },
  {
   "cell_type": "code",
   "execution_count": 48,
   "metadata": {},
   "outputs": [],
   "source": [
    "data_imp = data_dummyVars"
   ]
  },
  {
   "cell_type": "code",
   "execution_count": 49,
   "metadata": {},
   "outputs": [],
   "source": [
    "data_imp$txe_rhgg = ifelse(data_imp$outcome==\"txe\", 0, 1)\n"
   ]
  },
  {
   "cell_type": "code",
   "execution_count": 50,
   "metadata": {},
   "outputs": [
    {
     "data": {
      "text/html": [
       "<table>\n",
       "<thead><tr><th></th><th scope=col>Estimate</th><th scope=col>Std.err</th><th scope=col>Wald</th><th scope=col>Pr(&gt;|W|)</th></tr></thead>\n",
       "<tbody>\n",
       "\t<tr><th scope=row>(Intercept)</th><td>-0.6199</td><td>1.5673 </td><td>0.1564 </td><td>0.6925 </td></tr>\n",
       "\t<tr><th scope=row>isCEL</th><td> 0.2760</td><td>1.6670 </td><td>0.0274 </td><td>0.8685 </td></tr>\n",
       "\t<tr><th scope=row>cbvn_nlin</th><td>-0.0103</td><td>0.0158 </td><td>0.4268 </td><td>0.5136 </td></tr>\n",
       "\t<tr><th scope=row>recov_npar</th><td> 0.0114</td><td>0.0173 </td><td>0.4355 </td><td>0.5093 </td></tr>\n",
       "\t<tr><th scope=row>cni</th><td> 0.2528</td><td>0.0914 </td><td>7.6517 </td><td>0.0057 </td></tr>\n",
       "\t<tr><th scope=row>ncho</th><td>-0.2193</td><td>0.1072 </td><td>4.1887 </td><td>0.0407 </td></tr>\n",
       "\t<tr><th scope=row>ccri</th><td>-0.0331</td><td>0.0992 </td><td>0.1110 </td><td>0.7390 </td></tr>\n",
       "\t<tr><th scope=row>isCEL:cbvn_nlin</th><td>-0.0058</td><td>0.0176 </td><td>0.1067 </td><td>0.7439 </td></tr>\n",
       "\t<tr><th scope=row>isCEL:recov_npar</th><td> 0.0058</td><td>0.0193 </td><td>0.0887 </td><td>0.7658 </td></tr>\n",
       "\t<tr><th scope=row>isCEL:cni</th><td>-0.2131</td><td>0.1218 </td><td>3.0630 </td><td>0.0801 </td></tr>\n",
       "\t<tr><th scope=row>isCEL:ncho</th><td> 0.1952</td><td>0.1335 </td><td>2.1404 </td><td>0.1435 </td></tr>\n",
       "\t<tr><th scope=row>isCEL:ccri</th><td> 0.0174</td><td>0.1277 </td><td>0.0185 </td><td>0.8919 </td></tr>\n",
       "</tbody>\n",
       "</table>\n"
      ],
      "text/latex": [
       "\\begin{tabular}{r|llll}\n",
       "  & Estimate & Std.err & Wald & Pr(>\\textbar{}W\\textbar{})\\\\\n",
       "\\hline\n",
       "\t(Intercept) & -0.6199 & 1.5673  & 0.1564  & 0.6925 \\\\\n",
       "\tisCEL &  0.2760 & 1.6670  & 0.0274  & 0.8685 \\\\\n",
       "\tcbvn\\_nlin & -0.0103 & 0.0158  & 0.4268  & 0.5136 \\\\\n",
       "\trecov\\_npar &  0.0114 & 0.0173  & 0.4355  & 0.5093 \\\\\n",
       "\tcni &  0.2528 & 0.0914  & 7.6517  & 0.0057 \\\\\n",
       "\tncho & -0.2193 & 0.1072  & 4.1887  & 0.0407 \\\\\n",
       "\tccri & -0.0331 & 0.0992  & 0.1110  & 0.7390 \\\\\n",
       "\tisCEL:cbvn\\_nlin & -0.0058 & 0.0176  & 0.1067  & 0.7439 \\\\\n",
       "\tisCEL:recov\\_npar &  0.0058 & 0.0193  & 0.0887  & 0.7658 \\\\\n",
       "\tisCEL:cni & -0.2131 & 0.1218  & 3.0630  & 0.0801 \\\\\n",
       "\tisCEL:ncho &  0.1952 & 0.1335  & 2.1404  & 0.1435 \\\\\n",
       "\tisCEL:ccri &  0.0174 & 0.1277  & 0.0185  & 0.8919 \\\\\n",
       "\\end{tabular}\n"
      ],
      "text/markdown": [
       "\n",
       "| <!--/--> | Estimate | Std.err | Wald | Pr(>|W|) | \n",
       "|---|---|---|---|---|---|---|---|---|---|---|---|\n",
       "| (Intercept) | -0.6199 | 1.5673  | 0.1564  | 0.6925  | \n",
       "| isCEL |  0.2760 | 1.6670  | 0.0274  | 0.8685  | \n",
       "| cbvn_nlin | -0.0103 | 0.0158  | 0.4268  | 0.5136  | \n",
       "| recov_npar |  0.0114 | 0.0173  | 0.4355  | 0.5093  | \n",
       "| cni |  0.2528 | 0.0914  | 7.6517  | 0.0057  | \n",
       "| ncho | -0.2193 | 0.1072  | 4.1887  | 0.0407  | \n",
       "| ccri | -0.0331 | 0.0992  | 0.1110  | 0.7390  | \n",
       "| isCEL:cbvn_nlin | -0.0058 | 0.0176  | 0.1067  | 0.7439  | \n",
       "| isCEL:recov_npar |  0.0058 | 0.0193  | 0.0887  | 0.7658  | \n",
       "| isCEL:cni | -0.2131 | 0.1218  | 3.0630  | 0.0801  | \n",
       "| isCEL:ncho |  0.1952 | 0.1335  | 2.1404  | 0.1435  | \n",
       "| isCEL:ccri |  0.0174 | 0.1277  | 0.0185  | 0.8919  | \n",
       "\n",
       "\n"
      ],
      "text/plain": [
       "                 Estimate Std.err Wald   Pr(>|W|)\n",
       "(Intercept)      -0.6199  1.5673  0.1564 0.6925  \n",
       "isCEL             0.2760  1.6670  0.0274 0.8685  \n",
       "cbvn_nlin        -0.0103  0.0158  0.4268 0.5136  \n",
       "recov_npar        0.0114  0.0173  0.4355 0.5093  \n",
       "cni               0.2528  0.0914  7.6517 0.0057  \n",
       "ncho             -0.2193  0.1072  4.1887 0.0407  \n",
       "ccri             -0.0331  0.0992  0.1110 0.7390  \n",
       "isCEL:cbvn_nlin  -0.0058  0.0176  0.1067 0.7439  \n",
       "isCEL:recov_npar  0.0058  0.0193  0.0887 0.7658  \n",
       "isCEL:cni        -0.2131  0.1218  3.0630 0.0801  \n",
       "isCEL:ncho        0.1952  0.1335  2.1404 0.1435  \n",
       "isCEL:ccri        0.0174  0.1277  0.0185 0.8919  "
      ]
     },
     "metadata": {},
     "output_type": "display_data"
    }
   ],
   "source": [
    "gee.fit1 = geeglm(txe_rhgg ~ isCEL*(cbvn_nlin+recov_npar+cni+ncho+ccri), data = data_imp, id = factor(t_number_y), family = binomial, corstr = \"exchangeable\")\n",
    "round(summary(gee.fit1)$coefficients, 4)\n",
    "\n"
   ]
  },
  {
   "cell_type": "code",
   "execution_count": 51,
   "metadata": {},
   "outputs": [
    {
     "data": {
      "text/html": [
       "<table>\n",
       "<thead><tr><th></th><th scope=col>Estimate</th><th scope=col>Std.err</th><th scope=col>Wald</th><th scope=col>Pr(&gt;|W|)</th></tr></thead>\n",
       "<tbody>\n",
       "\t<tr><th scope=row>(Intercept)</th><td>-0.6095</td><td>1.5636 </td><td>0.1519 </td><td>0.6967 </td></tr>\n",
       "\t<tr><th scope=row>isCEL</th><td> 0.2594</td><td>1.6446 </td><td>0.0249 </td><td>0.8747 </td></tr>\n",
       "\t<tr><th scope=row>cbvn_nlin</th><td>-0.0102</td><td>0.0158 </td><td>0.4200 </td><td>0.5169 </td></tr>\n",
       "\t<tr><th scope=row>recov_npar</th><td> 0.0113</td><td>0.0173 </td><td>0.4288 </td><td>0.5126 </td></tr>\n",
       "\t<tr><th scope=row>cni</th><td> 0.2503</td><td>0.0887 </td><td>7.9582 </td><td>0.0048 </td></tr>\n",
       "\t<tr><th scope=row>ncho</th><td>-0.2256</td><td>0.1027 </td><td>4.8295 </td><td>0.0280 </td></tr>\n",
       "\t<tr><th scope=row>ccri</th><td>-0.0242</td><td>0.0831 </td><td>0.0849 </td><td>0.7707 </td></tr>\n",
       "\t<tr><th scope=row>isCEL:cbvn_nlin</th><td>-0.0060</td><td>0.0174 </td><td>0.1176 </td><td>0.7316 </td></tr>\n",
       "\t<tr><th scope=row>isCEL:recov_npar</th><td> 0.0060</td><td>0.0190 </td><td>0.0982 </td><td>0.7540 </td></tr>\n",
       "\t<tr><th scope=row>isCEL:cni</th><td>-0.2062</td><td>0.1103 </td><td>3.4939 </td><td>0.0616 </td></tr>\n",
       "\t<tr><th scope=row>isCEL:ncho</th><td> 0.2057</td><td>0.1100 </td><td>3.4929 </td><td>0.0616 </td></tr>\n",
       "</tbody>\n",
       "</table>\n"
      ],
      "text/latex": [
       "\\begin{tabular}{r|llll}\n",
       "  & Estimate & Std.err & Wald & Pr(>\\textbar{}W\\textbar{})\\\\\n",
       "\\hline\n",
       "\t(Intercept) & -0.6095 & 1.5636  & 0.1519  & 0.6967 \\\\\n",
       "\tisCEL &  0.2594 & 1.6446  & 0.0249  & 0.8747 \\\\\n",
       "\tcbvn\\_nlin & -0.0102 & 0.0158  & 0.4200  & 0.5169 \\\\\n",
       "\trecov\\_npar &  0.0113 & 0.0173  & 0.4288  & 0.5126 \\\\\n",
       "\tcni &  0.2503 & 0.0887  & 7.9582  & 0.0048 \\\\\n",
       "\tncho & -0.2256 & 0.1027  & 4.8295  & 0.0280 \\\\\n",
       "\tccri & -0.0242 & 0.0831  & 0.0849  & 0.7707 \\\\\n",
       "\tisCEL:cbvn\\_nlin & -0.0060 & 0.0174  & 0.1176  & 0.7316 \\\\\n",
       "\tisCEL:recov\\_npar &  0.0060 & 0.0190  & 0.0982  & 0.7540 \\\\\n",
       "\tisCEL:cni & -0.2062 & 0.1103  & 3.4939  & 0.0616 \\\\\n",
       "\tisCEL:ncho &  0.2057 & 0.1100  & 3.4929  & 0.0616 \\\\\n",
       "\\end{tabular}\n"
      ],
      "text/markdown": [
       "\n",
       "| <!--/--> | Estimate | Std.err | Wald | Pr(>|W|) | \n",
       "|---|---|---|---|---|---|---|---|---|---|---|\n",
       "| (Intercept) | -0.6095 | 1.5636  | 0.1519  | 0.6967  | \n",
       "| isCEL |  0.2594 | 1.6446  | 0.0249  | 0.8747  | \n",
       "| cbvn_nlin | -0.0102 | 0.0158  | 0.4200  | 0.5169  | \n",
       "| recov_npar |  0.0113 | 0.0173  | 0.4288  | 0.5126  | \n",
       "| cni |  0.2503 | 0.0887  | 7.9582  | 0.0048  | \n",
       "| ncho | -0.2256 | 0.1027  | 4.8295  | 0.0280  | \n",
       "| ccri | -0.0242 | 0.0831  | 0.0849  | 0.7707  | \n",
       "| isCEL:cbvn_nlin | -0.0060 | 0.0174  | 0.1176  | 0.7316  | \n",
       "| isCEL:recov_npar |  0.0060 | 0.0190  | 0.0982  | 0.7540  | \n",
       "| isCEL:cni | -0.2062 | 0.1103  | 3.4939  | 0.0616  | \n",
       "| isCEL:ncho |  0.2057 | 0.1100  | 3.4929  | 0.0616  | \n",
       "\n",
       "\n"
      ],
      "text/plain": [
       "                 Estimate Std.err Wald   Pr(>|W|)\n",
       "(Intercept)      -0.6095  1.5636  0.1519 0.6967  \n",
       "isCEL             0.2594  1.6446  0.0249 0.8747  \n",
       "cbvn_nlin        -0.0102  0.0158  0.4200 0.5169  \n",
       "recov_npar        0.0113  0.0173  0.4288 0.5126  \n",
       "cni               0.2503  0.0887  7.9582 0.0048  \n",
       "ncho             -0.2256  0.1027  4.8295 0.0280  \n",
       "ccri             -0.0242  0.0831  0.0849 0.7707  \n",
       "isCEL:cbvn_nlin  -0.0060  0.0174  0.1176 0.7316  \n",
       "isCEL:recov_npar  0.0060  0.0190  0.0982 0.7540  \n",
       "isCEL:cni        -0.2062  0.1103  3.4939 0.0616  \n",
       "isCEL:ncho        0.2057  0.1100  3.4929 0.0616  "
      ]
     },
     "metadata": {},
     "output_type": "display_data"
    }
   ],
   "source": [
    "gee.fit1 = geeglm(txe_rhgg ~ isCEL*(cbvn_nlin+recov_npar+cni+ncho)+ccri, data = data_imp, id = factor(t_number_y), family = binomial, corstr = \"exchangeable\")\n",
    "round(summary(gee.fit1)$coefficients, 4)\n",
    "\n"
   ]
  },
  {
   "cell_type": "code",
   "execution_count": 52,
   "metadata": {},
   "outputs": [
    {
     "data": {
      "text/html": [
       "<table>\n",
       "<thead><tr><th></th><th scope=col>Estimate</th><th scope=col>Std.err</th><th scope=col>Wald</th><th scope=col>Pr(&gt;|W|)</th></tr></thead>\n",
       "<tbody>\n",
       "\t<tr><th scope=row>(Intercept)</th><td>-0.4229</td><td>1.1007 </td><td>0.1476 </td><td>0.7008 </td></tr>\n",
       "\t<tr><th scope=row>ccri</th><td>-0.0247</td><td>0.0822 </td><td>0.0901 </td><td>0.7640 </td></tr>\n",
       "\t<tr><th scope=row>cbvn_nlin</th><td>-0.0084</td><td>0.0113 </td><td>0.5482 </td><td>0.4590 </td></tr>\n",
       "\t<tr><th scope=row>recov_npar</th><td> 0.0093</td><td>0.0124 </td><td>0.5663 </td><td>0.4518 </td></tr>\n",
       "\t<tr><th scope=row>cni</th><td> 0.2489</td><td>0.0882 </td><td>7.9655 </td><td>0.0048 </td></tr>\n",
       "\t<tr><th scope=row>ncho</th><td>-0.2238</td><td>0.0992 </td><td>5.0852 </td><td>0.0241 </td></tr>\n",
       "\t<tr><th scope=row>isCEL:cbvn_nlin</th><td>-0.0085</td><td>0.0047 </td><td>3.3285 </td><td>0.0681 </td></tr>\n",
       "\t<tr><th scope=row>isCEL:recov_npar</th><td> 0.0088</td><td>0.0049 </td><td>3.2243 </td><td>0.0726 </td></tr>\n",
       "\t<tr><th scope=row>isCEL:cni</th><td>-0.2038</td><td>0.1092 </td><td>3.4844 </td><td>0.0619 </td></tr>\n",
       "\t<tr><th scope=row>isCEL:ncho</th><td> 0.2032</td><td>0.1089 </td><td>3.4834 </td><td>0.0620 </td></tr>\n",
       "</tbody>\n",
       "</table>\n"
      ],
      "text/latex": [
       "\\begin{tabular}{r|llll}\n",
       "  & Estimate & Std.err & Wald & Pr(>\\textbar{}W\\textbar{})\\\\\n",
       "\\hline\n",
       "\t(Intercept) & -0.4229 & 1.1007  & 0.1476  & 0.7008 \\\\\n",
       "\tccri & -0.0247 & 0.0822  & 0.0901  & 0.7640 \\\\\n",
       "\tcbvn\\_nlin & -0.0084 & 0.0113  & 0.5482  & 0.4590 \\\\\n",
       "\trecov\\_npar &  0.0093 & 0.0124  & 0.5663  & 0.4518 \\\\\n",
       "\tcni &  0.2489 & 0.0882  & 7.9655  & 0.0048 \\\\\n",
       "\tncho & -0.2238 & 0.0992  & 5.0852  & 0.0241 \\\\\n",
       "\tisCEL:cbvn\\_nlin & -0.0085 & 0.0047  & 3.3285  & 0.0681 \\\\\n",
       "\tisCEL:recov\\_npar &  0.0088 & 0.0049  & 3.2243  & 0.0726 \\\\\n",
       "\tisCEL:cni & -0.2038 & 0.1092  & 3.4844  & 0.0619 \\\\\n",
       "\tisCEL:ncho &  0.2032 & 0.1089  & 3.4834  & 0.0620 \\\\\n",
       "\\end{tabular}\n"
      ],
      "text/markdown": [
       "\n",
       "| <!--/--> | Estimate | Std.err | Wald | Pr(>|W|) | \n",
       "|---|---|---|---|---|---|---|---|---|---|\n",
       "| (Intercept) | -0.4229 | 1.1007  | 0.1476  | 0.7008  | \n",
       "| ccri | -0.0247 | 0.0822  | 0.0901  | 0.7640  | \n",
       "| cbvn_nlin | -0.0084 | 0.0113  | 0.5482  | 0.4590  | \n",
       "| recov_npar |  0.0093 | 0.0124  | 0.5663  | 0.4518  | \n",
       "| cni |  0.2489 | 0.0882  | 7.9655  | 0.0048  | \n",
       "| ncho | -0.2238 | 0.0992  | 5.0852  | 0.0241  | \n",
       "| isCEL:cbvn_nlin | -0.0085 | 0.0047  | 3.3285  | 0.0681  | \n",
       "| isCEL:recov_npar |  0.0088 | 0.0049  | 3.2243  | 0.0726  | \n",
       "| isCEL:cni | -0.2038 | 0.1092  | 3.4844  | 0.0619  | \n",
       "| isCEL:ncho |  0.2032 | 0.1089  | 3.4834  | 0.0620  | \n",
       "\n",
       "\n"
      ],
      "text/plain": [
       "                 Estimate Std.err Wald   Pr(>|W|)\n",
       "(Intercept)      -0.4229  1.1007  0.1476 0.7008  \n",
       "ccri             -0.0247  0.0822  0.0901 0.7640  \n",
       "cbvn_nlin        -0.0084  0.0113  0.5482 0.4590  \n",
       "recov_npar        0.0093  0.0124  0.5663 0.4518  \n",
       "cni               0.2489  0.0882  7.9655 0.0048  \n",
       "ncho             -0.2238  0.0992  5.0852 0.0241  \n",
       "isCEL:cbvn_nlin  -0.0085  0.0047  3.3285 0.0681  \n",
       "isCEL:recov_npar  0.0088  0.0049  3.2243 0.0726  \n",
       "isCEL:cni        -0.2038  0.1092  3.4844 0.0619  \n",
       "isCEL:ncho        0.2032  0.1089  3.4834 0.0620  "
      ]
     },
     "metadata": {},
     "output_type": "display_data"
    }
   ],
   "source": [
    "gee.fit1 = geeglm(txe_rhgg ~ isCEL:(cbvn_nlin+recov_npar+cni+ncho)+ccri+cbvn_nlin+recov_npar+cni+ncho, data = data_imp, id = factor(t_number_y), family = binomial, corstr = \"exchangeable\")\n",
    "round(summary(gee.fit1)$coefficients, 4)\n",
    "\n"
   ]
  },
  {
   "cell_type": "code",
   "execution_count": 53,
   "metadata": {
    "scrolled": true
   },
   "outputs": [
    {
     "data": {
      "text/html": [
       "<table>\n",
       "<thead><tr><th></th><th scope=col>Estimate</th><th scope=col>Std.err</th><th scope=col>Wald</th><th scope=col>Pr(&gt;|W|)</th></tr></thead>\n",
       "<tbody>\n",
       "\t<tr><th scope=row>(Intercept)</th><td>-0.4241</td><td>1.0999 </td><td>0.1487 </td><td>0.6998 </td></tr>\n",
       "\t<tr><th scope=row>cbvn_nlin</th><td>-0.0084</td><td>0.0113 </td><td>0.5540 </td><td>0.4567 </td></tr>\n",
       "\t<tr><th scope=row>recov_npar</th><td> 0.0094</td><td>0.0124 </td><td>0.5731 </td><td>0.4490 </td></tr>\n",
       "\t<tr><th scope=row>cni</th><td> 0.2416</td><td>0.0837 </td><td>8.3385 </td><td>0.0039 </td></tr>\n",
       "\t<tr><th scope=row>ncho</th><td>-0.2411</td><td>0.0834 </td><td>8.3516 </td><td>0.0039 </td></tr>\n",
       "\t<tr><th scope=row>isCEL:cbvn_nlin</th><td>-0.0085</td><td>0.0047 </td><td>3.2915 </td><td>0.0696 </td></tr>\n",
       "\t<tr><th scope=row>isCEL:recov_npar</th><td> 0.0087</td><td>0.0049 </td><td>3.1876 </td><td>0.0742 </td></tr>\n",
       "\t<tr><th scope=row>isCEL:cni</th><td>-0.2093</td><td>0.1078 </td><td>3.7686 </td><td>0.0522 </td></tr>\n",
       "\t<tr><th scope=row>isCEL:ncho</th><td> 0.2088</td><td>0.1075 </td><td>3.7693 </td><td>0.0522 </td></tr>\n",
       "</tbody>\n",
       "</table>\n"
      ],
      "text/latex": [
       "\\begin{tabular}{r|llll}\n",
       "  & Estimate & Std.err & Wald & Pr(>\\textbar{}W\\textbar{})\\\\\n",
       "\\hline\n",
       "\t(Intercept) & -0.4241 & 1.0999  & 0.1487  & 0.6998 \\\\\n",
       "\tcbvn\\_nlin & -0.0084 & 0.0113  & 0.5540  & 0.4567 \\\\\n",
       "\trecov\\_npar &  0.0094 & 0.0124  & 0.5731  & 0.4490 \\\\\n",
       "\tcni &  0.2416 & 0.0837  & 8.3385  & 0.0039 \\\\\n",
       "\tncho & -0.2411 & 0.0834  & 8.3516  & 0.0039 \\\\\n",
       "\tisCEL:cbvn\\_nlin & -0.0085 & 0.0047  & 3.2915  & 0.0696 \\\\\n",
       "\tisCEL:recov\\_npar &  0.0087 & 0.0049  & 3.1876  & 0.0742 \\\\\n",
       "\tisCEL:cni & -0.2093 & 0.1078  & 3.7686  & 0.0522 \\\\\n",
       "\tisCEL:ncho &  0.2088 & 0.1075  & 3.7693  & 0.0522 \\\\\n",
       "\\end{tabular}\n"
      ],
      "text/markdown": [
       "\n",
       "| <!--/--> | Estimate | Std.err | Wald | Pr(>|W|) | \n",
       "|---|---|---|---|---|---|---|---|---|\n",
       "| (Intercept) | -0.4241 | 1.0999  | 0.1487  | 0.6998  | \n",
       "| cbvn_nlin | -0.0084 | 0.0113  | 0.5540  | 0.4567  | \n",
       "| recov_npar |  0.0094 | 0.0124  | 0.5731  | 0.4490  | \n",
       "| cni |  0.2416 | 0.0837  | 8.3385  | 0.0039  | \n",
       "| ncho | -0.2411 | 0.0834  | 8.3516  | 0.0039  | \n",
       "| isCEL:cbvn_nlin | -0.0085 | 0.0047  | 3.2915  | 0.0696  | \n",
       "| isCEL:recov_npar |  0.0087 | 0.0049  | 3.1876  | 0.0742  | \n",
       "| isCEL:cni | -0.2093 | 0.1078  | 3.7686  | 0.0522  | \n",
       "| isCEL:ncho |  0.2088 | 0.1075  | 3.7693  | 0.0522  | \n",
       "\n",
       "\n"
      ],
      "text/plain": [
       "                 Estimate Std.err Wald   Pr(>|W|)\n",
       "(Intercept)      -0.4241  1.0999  0.1487 0.6998  \n",
       "cbvn_nlin        -0.0084  0.0113  0.5540 0.4567  \n",
       "recov_npar        0.0094  0.0124  0.5731 0.4490  \n",
       "cni               0.2416  0.0837  8.3385 0.0039  \n",
       "ncho             -0.2411  0.0834  8.3516 0.0039  \n",
       "isCEL:cbvn_nlin  -0.0085  0.0047  3.2915 0.0696  \n",
       "isCEL:recov_npar  0.0087  0.0049  3.1876 0.0742  \n",
       "isCEL:cni        -0.2093  0.1078  3.7686 0.0522  \n",
       "isCEL:ncho        0.2088  0.1075  3.7693 0.0522  "
      ]
     },
     "metadata": {},
     "output_type": "display_data"
    }
   ],
   "source": [
    "gee.fit1 = geeglm(txe_rhgg ~ isCEL:(cbvn_nlin+recov_npar+cni+ncho)+cbvn_nlin+recov_npar+cni+ncho, data = data_imp, id = factor(t_number_y), family = binomial, corstr = \"exchangeable\")\n",
    "round(summary(gee.fit1)$coefficients, 4)\n",
    "\n"
   ]
  },
  {
   "cell_type": "code",
   "execution_count": 54,
   "metadata": {},
   "outputs": [
    {
     "data": {
      "text/html": [
       "<table>\n",
       "<thead><tr><th></th><th scope=col>Estimate</th><th scope=col>Std.err</th><th scope=col>Wald</th><th scope=col>Pr(&gt;|W|)</th></tr></thead>\n",
       "<tbody>\n",
       "\t<tr><th scope=row>(Intercept)</th><td> 0.3405</td><td>0.3823 </td><td>0.7930 </td><td>0.3732 </td></tr>\n",
       "\t<tr><th scope=row>recov_npar</th><td> 0.0002</td><td>0.0005 </td><td>0.1074 </td><td>0.7431 </td></tr>\n",
       "\t<tr><th scope=row>cni</th><td> 0.2548</td><td>0.0857 </td><td>8.8491 </td><td>0.0029 </td></tr>\n",
       "\t<tr><th scope=row>ncho</th><td>-0.2544</td><td>0.0855 </td><td>8.8608 </td><td>0.0029 </td></tr>\n",
       "\t<tr><th scope=row>isCEL:cbvn_nlin</th><td>-0.0091</td><td>0.0045 </td><td>4.0979 </td><td>0.0429 </td></tr>\n",
       "\t<tr><th scope=row>isCEL:recov_npar</th><td> 0.0094</td><td>0.0047 </td><td>4.0080 </td><td>0.0453 </td></tr>\n",
       "\t<tr><th scope=row>isCEL:cni</th><td>-0.2315</td><td>0.1105 </td><td>4.3877 </td><td>0.0362 </td></tr>\n",
       "\t<tr><th scope=row>isCEL:ncho</th><td> 0.2308</td><td>0.1102 </td><td>4.3857 </td><td>0.0362 </td></tr>\n",
       "</tbody>\n",
       "</table>\n"
      ],
      "text/latex": [
       "\\begin{tabular}{r|llll}\n",
       "  & Estimate & Std.err & Wald & Pr(>\\textbar{}W\\textbar{})\\\\\n",
       "\\hline\n",
       "\t(Intercept) &  0.3405 & 0.3823  & 0.7930  & 0.3732 \\\\\n",
       "\trecov\\_npar &  0.0002 & 0.0005  & 0.1074  & 0.7431 \\\\\n",
       "\tcni &  0.2548 & 0.0857  & 8.8491  & 0.0029 \\\\\n",
       "\tncho & -0.2544 & 0.0855  & 8.8608  & 0.0029 \\\\\n",
       "\tisCEL:cbvn\\_nlin & -0.0091 & 0.0045  & 4.0979  & 0.0429 \\\\\n",
       "\tisCEL:recov\\_npar &  0.0094 & 0.0047  & 4.0080  & 0.0453 \\\\\n",
       "\tisCEL:cni & -0.2315 & 0.1105  & 4.3877  & 0.0362 \\\\\n",
       "\tisCEL:ncho &  0.2308 & 0.1102  & 4.3857  & 0.0362 \\\\\n",
       "\\end{tabular}\n"
      ],
      "text/markdown": [
       "\n",
       "| <!--/--> | Estimate | Std.err | Wald | Pr(>|W|) | \n",
       "|---|---|---|---|---|---|---|---|\n",
       "| (Intercept) |  0.3405 | 0.3823  | 0.7930  | 0.3732  | \n",
       "| recov_npar |  0.0002 | 0.0005  | 0.1074  | 0.7431  | \n",
       "| cni |  0.2548 | 0.0857  | 8.8491  | 0.0029  | \n",
       "| ncho | -0.2544 | 0.0855  | 8.8608  | 0.0029  | \n",
       "| isCEL:cbvn_nlin | -0.0091 | 0.0045  | 4.0979  | 0.0429  | \n",
       "| isCEL:recov_npar |  0.0094 | 0.0047  | 4.0080  | 0.0453  | \n",
       "| isCEL:cni | -0.2315 | 0.1105  | 4.3877  | 0.0362  | \n",
       "| isCEL:ncho |  0.2308 | 0.1102  | 4.3857  | 0.0362  | \n",
       "\n",
       "\n"
      ],
      "text/plain": [
       "                 Estimate Std.err Wald   Pr(>|W|)\n",
       "(Intercept)       0.3405  0.3823  0.7930 0.3732  \n",
       "recov_npar        0.0002  0.0005  0.1074 0.7431  \n",
       "cni               0.2548  0.0857  8.8491 0.0029  \n",
       "ncho             -0.2544  0.0855  8.8608 0.0029  \n",
       "isCEL:cbvn_nlin  -0.0091  0.0045  4.0979 0.0429  \n",
       "isCEL:recov_npar  0.0094  0.0047  4.0080 0.0453  \n",
       "isCEL:cni        -0.2315  0.1105  4.3877 0.0362  \n",
       "isCEL:ncho        0.2308  0.1102  4.3857 0.0362  "
      ]
     },
     "metadata": {},
     "output_type": "display_data"
    }
   ],
   "source": [
    "gee.fit1 = geeglm(txe_rhgg ~ isCEL:(cbvn_nlin+recov_npar+cni+ncho)+recov_npar+cni+ncho, data = data_imp, id = factor(t_number_y), family = binomial, corstr = \"exchangeable\")\n",
    "round(summary(gee.fit1)$coefficients, 4)\n",
    "\n"
   ]
  },
  {
   "cell_type": "code",
   "execution_count": 55,
   "metadata": {},
   "outputs": [
    {
     "data": {
      "text/html": [
       "<table>\n",
       "<thead><tr><th></th><th scope=col>Estimate</th><th scope=col>Std.err</th><th scope=col>Wald</th><th scope=col>Pr(&gt;|W|)</th></tr></thead>\n",
       "<tbody>\n",
       "\t<tr><th scope=row>(Intercept)</th><td> 0.4136</td><td>0.3091 </td><td>1.7903 </td><td>0.1809 </td></tr>\n",
       "\t<tr><th scope=row>cni</th><td> 0.2488</td><td>0.0813 </td><td>9.3702 </td><td>0.0022 </td></tr>\n",
       "\t<tr><th scope=row>ncho</th><td>-0.2484</td><td>0.0811 </td><td>9.3847 </td><td>0.0022 </td></tr>\n",
       "\t<tr><th scope=row>isCEL:cbvn_nlin</th><td>-0.0085</td><td>0.0042 </td><td>4.0623 </td><td>0.0439 </td></tr>\n",
       "\t<tr><th scope=row>isCEL:recov_npar</th><td> 0.0089</td><td>0.0045 </td><td>3.8988 </td><td>0.0483 </td></tr>\n",
       "\t<tr><th scope=row>isCEL:cni</th><td>-0.2266</td><td>0.1075 </td><td>4.4456 </td><td>0.0350 </td></tr>\n",
       "\t<tr><th scope=row>isCEL:ncho</th><td> 0.2260</td><td>0.1072 </td><td>4.4443 </td><td>0.0350 </td></tr>\n",
       "</tbody>\n",
       "</table>\n"
      ],
      "text/latex": [
       "\\begin{tabular}{r|llll}\n",
       "  & Estimate & Std.err & Wald & Pr(>\\textbar{}W\\textbar{})\\\\\n",
       "\\hline\n",
       "\t(Intercept) &  0.4136 & 0.3091  & 1.7903  & 0.1809 \\\\\n",
       "\tcni &  0.2488 & 0.0813  & 9.3702  & 0.0022 \\\\\n",
       "\tncho & -0.2484 & 0.0811  & 9.3847  & 0.0022 \\\\\n",
       "\tisCEL:cbvn\\_nlin & -0.0085 & 0.0042  & 4.0623  & 0.0439 \\\\\n",
       "\tisCEL:recov\\_npar &  0.0089 & 0.0045  & 3.8988  & 0.0483 \\\\\n",
       "\tisCEL:cni & -0.2266 & 0.1075  & 4.4456  & 0.0350 \\\\\n",
       "\tisCEL:ncho &  0.2260 & 0.1072  & 4.4443  & 0.0350 \\\\\n",
       "\\end{tabular}\n"
      ],
      "text/markdown": [
       "\n",
       "| <!--/--> | Estimate | Std.err | Wald | Pr(>|W|) | \n",
       "|---|---|---|---|---|---|---|\n",
       "| (Intercept) |  0.4136 | 0.3091  | 1.7903  | 0.1809  | \n",
       "| cni |  0.2488 | 0.0813  | 9.3702  | 0.0022  | \n",
       "| ncho | -0.2484 | 0.0811  | 9.3847  | 0.0022  | \n",
       "| isCEL:cbvn_nlin | -0.0085 | 0.0042  | 4.0623  | 0.0439  | \n",
       "| isCEL:recov_npar |  0.0089 | 0.0045  | 3.8988  | 0.0483  | \n",
       "| isCEL:cni | -0.2266 | 0.1075  | 4.4456  | 0.0350  | \n",
       "| isCEL:ncho |  0.2260 | 0.1072  | 4.4443  | 0.0350  | \n",
       "\n",
       "\n"
      ],
      "text/plain": [
       "                 Estimate Std.err Wald   Pr(>|W|)\n",
       "(Intercept)       0.4136  0.3091  1.7903 0.1809  \n",
       "cni               0.2488  0.0813  9.3702 0.0022  \n",
       "ncho             -0.2484  0.0811  9.3847 0.0022  \n",
       "isCEL:cbvn_nlin  -0.0085  0.0042  4.0623 0.0439  \n",
       "isCEL:recov_npar  0.0089  0.0045  3.8988 0.0483  \n",
       "isCEL:cni        -0.2266  0.1075  4.4456 0.0350  \n",
       "isCEL:ncho        0.2260  0.1072  4.4443 0.0350  "
      ]
     },
     "metadata": {},
     "output_type": "display_data"
    }
   ],
   "source": [
    "gee.fit1 = geeglm(txe_rhgg ~ isCEL:(cbvn_nlin+recov_npar+cni+ncho)+cni+ncho, data = data_imp, id = factor(t_number_y), family = binomial, corstr = \"exchangeable\")\n",
    "round(summary(gee.fit1)$coefficients, 4)\n"
   ]
  },
  {
   "cell_type": "markdown",
   "metadata": {},
   "source": [
    "## randomForestSRC imputation "
   ]
  },
  {
   "cell_type": "code",
   "execution_count": 59,
   "metadata": {},
   "outputs": [],
   "source": [
    "data_imp = read.csv('data_imputed.csv')"
   ]
  },
  {
   "cell_type": "code",
   "execution_count": 61,
   "metadata": {},
   "outputs": [],
   "source": [
    "data_imp['isCEL'] = ifelse(data_imp$CELorNEL==\"CEL\", 1, 0)"
   ]
  },
  {
   "cell_type": "code",
   "execution_count": 64,
   "metadata": {},
   "outputs": [],
   "source": [
    "data_imp['txe_rhgg'] = ifelse(data_imp$outcome==\"rHGG\", 1, 0)"
   ]
  },
  {
   "cell_type": "code",
   "execution_count": 65,
   "metadata": {},
   "outputs": [
    {
     "data": {
      "text/html": [
       "<table>\n",
       "<thead><tr><th scope=col>X</th><th scope=col>vialid</th><th scope=col>t_number_y</th><th scope=col>CELorNEL</th><th scope=col>newdata</th><th scope=col>cbvn_nlin</th><th scope=col>recov_npar</th><th scope=col>ccri</th><th scope=col>cni</th><th scope=col>ncho</th><th scope=col>ncre</th><th scope=col>nnaa</th><th scope=col>nadc.1</th><th scope=col>nfa.1</th><th scope=col>outcome</th><th scope=col>isCEL</th><th scope=col>txe_rhgg</th></tr></thead>\n",
       "<tbody>\n",
       "\t<tr><td>1        </td><td>1B82     </td><td>10366    </td><td>NEL      </td><td>1        </td><td>1.08     </td><td> 98.89   </td><td>1.880000 </td><td>2.600000 </td><td>1.030000 </td><td>0.4700000</td><td>0.4600000</td><td>0.75     </td><td>0.83     </td><td>txe      </td><td>0        </td><td>0        </td></tr>\n",
       "\t<tr><td>3        </td><td>29B82    </td><td>10448    </td><td>CEL      </td><td>1        </td><td>2.43     </td><td>100.00   </td><td>2.196667 </td><td>3.685115 </td><td>1.192184 </td><td>0.5575862</td><td>0.3183908</td><td>1.62     </td><td>0.50     </td><td>rHGG     </td><td>1        </td><td>1        </td></tr>\n",
       "\t<tr><td>5        </td><td>60B90    </td><td>10594    </td><td>NEL      </td><td>1        </td><td>0.95     </td><td>100.00   </td><td>1.030000 </td><td>3.270000 </td><td>1.040000 </td><td>0.7900000</td><td>0.3600000</td><td>2.12     </td><td>0.42     </td><td>rHGG     </td><td>0        </td><td>1        </td></tr>\n",
       "\t<tr><td>6        </td><td>58B90    </td><td>10594    </td><td>NEL      </td><td>1        </td><td>0.84     </td><td>100.00   </td><td>2.330000 </td><td>7.570000 </td><td>1.610000 </td><td>1.0700000</td><td>0.1300000</td><td>1.60     </td><td>0.73     </td><td>rHGG     </td><td>0        </td><td>1        </td></tr>\n",
       "\t<tr><td>7        </td><td>59B90    </td><td>10594    </td><td>NEL      </td><td>1        </td><td>0.42     </td><td>100.00   </td><td>2.130000 </td><td>4.370000 </td><td>1.890000 </td><td>1.2100000</td><td>0.7400000</td><td>3.03     </td><td>0.42     </td><td>rHGG     </td><td>0        </td><td>1        </td></tr>\n",
       "\t<tr><td>8        </td><td>7B91     </td><td>10655    </td><td>NEL      </td><td>1        </td><td>0.63     </td><td>100.00   </td><td>2.220000 </td><td>3.430000 </td><td>1.100000 </td><td>0.5300000</td><td>0.2700000</td><td>1.15     </td><td>0.61     </td><td>txe      </td><td>0        </td><td>0        </td></tr>\n",
       "</tbody>\n",
       "</table>\n"
      ],
      "text/latex": [
       "\\begin{tabular}{r|lllllllllllllllll}\n",
       " X & vialid & t\\_number\\_y & CELorNEL & newdata & cbvn\\_nlin & recov\\_npar & ccri & cni & ncho & ncre & nnaa & nadc.1 & nfa.1 & outcome & isCEL & txe\\_rhgg\\\\\n",
       "\\hline\n",
       "\t 1         & 1B82      & 10366     & NEL       & 1         & 1.08      &  98.89    & 1.880000  & 2.600000  & 1.030000  & 0.4700000 & 0.4600000 & 0.75      & 0.83      & txe       & 0         & 0        \\\\\n",
       "\t 3         & 29B82     & 10448     & CEL       & 1         & 2.43      & 100.00    & 2.196667  & 3.685115  & 1.192184  & 0.5575862 & 0.3183908 & 1.62      & 0.50      & rHGG      & 1         & 1        \\\\\n",
       "\t 5         & 60B90     & 10594     & NEL       & 1         & 0.95      & 100.00    & 1.030000  & 3.270000  & 1.040000  & 0.7900000 & 0.3600000 & 2.12      & 0.42      & rHGG      & 0         & 1        \\\\\n",
       "\t 6         & 58B90     & 10594     & NEL       & 1         & 0.84      & 100.00    & 2.330000  & 7.570000  & 1.610000  & 1.0700000 & 0.1300000 & 1.60      & 0.73      & rHGG      & 0         & 1        \\\\\n",
       "\t 7         & 59B90     & 10594     & NEL       & 1         & 0.42      & 100.00    & 2.130000  & 4.370000  & 1.890000  & 1.2100000 & 0.7400000 & 3.03      & 0.42      & rHGG      & 0         & 1        \\\\\n",
       "\t 8         & 7B91      & 10655     & NEL       & 1         & 0.63      & 100.00    & 2.220000  & 3.430000  & 1.100000  & 0.5300000 & 0.2700000 & 1.15      & 0.61      & txe       & 0         & 0        \\\\\n",
       "\\end{tabular}\n"
      ],
      "text/markdown": [
       "\n",
       "X | vialid | t_number_y | CELorNEL | newdata | cbvn_nlin | recov_npar | ccri | cni | ncho | ncre | nnaa | nadc.1 | nfa.1 | outcome | isCEL | txe_rhgg | \n",
       "|---|---|---|---|---|---|\n",
       "| 1         | 1B82      | 10366     | NEL       | 1         | 1.08      |  98.89    | 1.880000  | 2.600000  | 1.030000  | 0.4700000 | 0.4600000 | 0.75      | 0.83      | txe       | 0         | 0         | \n",
       "| 3         | 29B82     | 10448     | CEL       | 1         | 2.43      | 100.00    | 2.196667  | 3.685115  | 1.192184  | 0.5575862 | 0.3183908 | 1.62      | 0.50      | rHGG      | 1         | 1         | \n",
       "| 5         | 60B90     | 10594     | NEL       | 1         | 0.95      | 100.00    | 1.030000  | 3.270000  | 1.040000  | 0.7900000 | 0.3600000 | 2.12      | 0.42      | rHGG      | 0         | 1         | \n",
       "| 6         | 58B90     | 10594     | NEL       | 1         | 0.84      | 100.00    | 2.330000  | 7.570000  | 1.610000  | 1.0700000 | 0.1300000 | 1.60      | 0.73      | rHGG      | 0         | 1         | \n",
       "| 7         | 59B90     | 10594     | NEL       | 1         | 0.42      | 100.00    | 2.130000  | 4.370000  | 1.890000  | 1.2100000 | 0.7400000 | 3.03      | 0.42      | rHGG      | 0         | 1         | \n",
       "| 8         | 7B91      | 10655     | NEL       | 1         | 0.63      | 100.00    | 2.220000  | 3.430000  | 1.100000  | 0.5300000 | 0.2700000 | 1.15      | 0.61      | txe       | 0         | 0         | \n",
       "\n",
       "\n"
      ],
      "text/plain": [
       "  X vialid t_number_y CELorNEL newdata cbvn_nlin recov_npar ccri     cni     \n",
       "1 1 1B82   10366      NEL      1       1.08       98.89     1.880000 2.600000\n",
       "2 3 29B82  10448      CEL      1       2.43      100.00     2.196667 3.685115\n",
       "3 5 60B90  10594      NEL      1       0.95      100.00     1.030000 3.270000\n",
       "4 6 58B90  10594      NEL      1       0.84      100.00     2.330000 7.570000\n",
       "5 7 59B90  10594      NEL      1       0.42      100.00     2.130000 4.370000\n",
       "6 8 7B91   10655      NEL      1       0.63      100.00     2.220000 3.430000\n",
       "  ncho     ncre      nnaa      nadc.1 nfa.1 outcome isCEL txe_rhgg\n",
       "1 1.030000 0.4700000 0.4600000 0.75   0.83  txe     0     0       \n",
       "2 1.192184 0.5575862 0.3183908 1.62   0.50  rHGG    1     1       \n",
       "3 1.040000 0.7900000 0.3600000 2.12   0.42  rHGG    0     1       \n",
       "4 1.610000 1.0700000 0.1300000 1.60   0.73  rHGG    0     1       \n",
       "5 1.890000 1.2100000 0.7400000 3.03   0.42  rHGG    0     1       \n",
       "6 1.100000 0.5300000 0.2700000 1.15   0.61  txe     0     0       "
      ]
     },
     "metadata": {},
     "output_type": "display_data"
    }
   ],
   "source": [
    "head(data_imp)"
   ]
  },
  {
   "cell_type": "code",
   "execution_count": 66,
   "metadata": {},
   "outputs": [
    {
     "data": {
      "text/html": [
       "<table>\n",
       "<thead><tr><th></th><th scope=col>Estimate</th><th scope=col>Std.err</th><th scope=col>Wald</th><th scope=col>Pr(&gt;|W|)</th></tr></thead>\n",
       "<tbody>\n",
       "\t<tr><th scope=row>(Intercept)</th><td>-1.2804</td><td>1.6828 </td><td>0.5789 </td><td>0.4467 </td></tr>\n",
       "\t<tr><th scope=row>isCEL</th><td>-0.5007</td><td>1.8113 </td><td>0.0764 </td><td>0.7822 </td></tr>\n",
       "\t<tr><th scope=row>cbvn_nlin</th><td> 0.0706</td><td>0.2510 </td><td>0.0790 </td><td>0.7786 </td></tr>\n",
       "\t<tr><th scope=row>recov_npar</th><td> 0.0152</td><td>0.0199 </td><td>0.5863 </td><td>0.4439 </td></tr>\n",
       "\t<tr><th scope=row>cni</th><td> 0.0610</td><td>0.1511 </td><td>0.1627 </td><td>0.6867 </td></tr>\n",
       "\t<tr><th scope=row>ncho</th><td> 0.4326</td><td>0.6437 </td><td>0.4517 </td><td>0.5015 </td></tr>\n",
       "\t<tr><th scope=row>ccri</th><td>-0.0448</td><td>0.0945 </td><td>0.2248 </td><td>0.6354 </td></tr>\n",
       "\t<tr><th scope=row>isCEL:cbvn_nlin</th><td> 0.2866</td><td>0.2441 </td><td>1.3790 </td><td>0.2403 </td></tr>\n",
       "\t<tr><th scope=row>isCEL:recov_npar</th><td> 0.0126</td><td>0.0222 </td><td>0.3254 </td><td>0.5684 </td></tr>\n",
       "\t<tr><th scope=row>isCEL:cni</th><td> 0.0548</td><td>0.1961 </td><td>0.0781 </td><td>0.7799 </td></tr>\n",
       "\t<tr><th scope=row>isCEL:ncho</th><td>-1.1254</td><td>0.8758 </td><td>1.6510 </td><td>0.1988 </td></tr>\n",
       "\t<tr><th scope=row>isCEL:ccri</th><td> 0.0953</td><td>0.1360 </td><td>0.4909 </td><td>0.4835 </td></tr>\n",
       "</tbody>\n",
       "</table>\n"
      ],
      "text/latex": [
       "\\begin{tabular}{r|llll}\n",
       "  & Estimate & Std.err & Wald & Pr(>\\textbar{}W\\textbar{})\\\\\n",
       "\\hline\n",
       "\t(Intercept) & -1.2804 & 1.6828  & 0.5789  & 0.4467 \\\\\n",
       "\tisCEL & -0.5007 & 1.8113  & 0.0764  & 0.7822 \\\\\n",
       "\tcbvn\\_nlin &  0.0706 & 0.2510  & 0.0790  & 0.7786 \\\\\n",
       "\trecov\\_npar &  0.0152 & 0.0199  & 0.5863  & 0.4439 \\\\\n",
       "\tcni &  0.0610 & 0.1511  & 0.1627  & 0.6867 \\\\\n",
       "\tncho &  0.4326 & 0.6437  & 0.4517  & 0.5015 \\\\\n",
       "\tccri & -0.0448 & 0.0945  & 0.2248  & 0.6354 \\\\\n",
       "\tisCEL:cbvn\\_nlin &  0.2866 & 0.2441  & 1.3790  & 0.2403 \\\\\n",
       "\tisCEL:recov\\_npar &  0.0126 & 0.0222  & 0.3254  & 0.5684 \\\\\n",
       "\tisCEL:cni &  0.0548 & 0.1961  & 0.0781  & 0.7799 \\\\\n",
       "\tisCEL:ncho & -1.1254 & 0.8758  & 1.6510  & 0.1988 \\\\\n",
       "\tisCEL:ccri &  0.0953 & 0.1360  & 0.4909  & 0.4835 \\\\\n",
       "\\end{tabular}\n"
      ],
      "text/markdown": [
       "\n",
       "| <!--/--> | Estimate | Std.err | Wald | Pr(>|W|) | \n",
       "|---|---|---|---|---|---|---|---|---|---|---|---|\n",
       "| (Intercept) | -1.2804 | 1.6828  | 0.5789  | 0.4467  | \n",
       "| isCEL | -0.5007 | 1.8113  | 0.0764  | 0.7822  | \n",
       "| cbvn_nlin |  0.0706 | 0.2510  | 0.0790  | 0.7786  | \n",
       "| recov_npar |  0.0152 | 0.0199  | 0.5863  | 0.4439  | \n",
       "| cni |  0.0610 | 0.1511  | 0.1627  | 0.6867  | \n",
       "| ncho |  0.4326 | 0.6437  | 0.4517  | 0.5015  | \n",
       "| ccri | -0.0448 | 0.0945  | 0.2248  | 0.6354  | \n",
       "| isCEL:cbvn_nlin |  0.2866 | 0.2441  | 1.3790  | 0.2403  | \n",
       "| isCEL:recov_npar |  0.0126 | 0.0222  | 0.3254  | 0.5684  | \n",
       "| isCEL:cni |  0.0548 | 0.1961  | 0.0781  | 0.7799  | \n",
       "| isCEL:ncho | -1.1254 | 0.8758  | 1.6510  | 0.1988  | \n",
       "| isCEL:ccri |  0.0953 | 0.1360  | 0.4909  | 0.4835  | \n",
       "\n",
       "\n"
      ],
      "text/plain": [
       "                 Estimate Std.err Wald   Pr(>|W|)\n",
       "(Intercept)      -1.2804  1.6828  0.5789 0.4467  \n",
       "isCEL            -0.5007  1.8113  0.0764 0.7822  \n",
       "cbvn_nlin         0.0706  0.2510  0.0790 0.7786  \n",
       "recov_npar        0.0152  0.0199  0.5863 0.4439  \n",
       "cni               0.0610  0.1511  0.1627 0.6867  \n",
       "ncho              0.4326  0.6437  0.4517 0.5015  \n",
       "ccri             -0.0448  0.0945  0.2248 0.6354  \n",
       "isCEL:cbvn_nlin   0.2866  0.2441  1.3790 0.2403  \n",
       "isCEL:recov_npar  0.0126  0.0222  0.3254 0.5684  \n",
       "isCEL:cni         0.0548  0.1961  0.0781 0.7799  \n",
       "isCEL:ncho       -1.1254  0.8758  1.6510 0.1988  \n",
       "isCEL:ccri        0.0953  0.1360  0.4909 0.4835  "
      ]
     },
     "metadata": {},
     "output_type": "display_data"
    }
   ],
   "source": [
    "gee.fit1 = geeglm(txe_rhgg ~ isCEL*(cbvn_nlin+recov_npar+cni+ncho+ccri), data = data_imp, id = factor(t_number_y), family = binomial, corstr = \"exchangeable\")\n",
    "round(summary(gee.fit1)$coefficients, 4)"
   ]
  },
  {
   "cell_type": "code",
   "execution_count": 67,
   "metadata": {},
   "outputs": [
    {
     "data": {
      "text/html": [
       "<table>\n",
       "<thead><tr><th></th><th scope=col>Estimate</th><th scope=col>Std.err</th><th scope=col>Wald</th><th scope=col>Pr(&gt;|W|)</th></tr></thead>\n",
       "<tbody>\n",
       "\t<tr><th scope=row>(Intercept)</th><td>-1.6149</td><td>1.1536 </td><td>1.9597 </td><td>0.1616 </td></tr>\n",
       "\t<tr><th scope=row>cbvn_nlin</th><td> 0.0755</td><td>0.2498 </td><td>0.0914 </td><td>0.7624 </td></tr>\n",
       "\t<tr><th scope=row>recov_npar</th><td> 0.0191</td><td>0.0139 </td><td>1.8986 </td><td>0.1682 </td></tr>\n",
       "\t<tr><th scope=row>cni</th><td> 0.0704</td><td>0.1500 </td><td>0.2205 </td><td>0.6387 </td></tr>\n",
       "\t<tr><th scope=row>ncho</th><td> 0.3894</td><td>0.6293 </td><td>0.3829 </td><td>0.5361 </td></tr>\n",
       "\t<tr><th scope=row>ccri</th><td>-0.0439</td><td>0.0943 </td><td>0.2166 </td><td>0.6416 </td></tr>\n",
       "\t<tr><th scope=row>isCEL:cbvn_nlin</th><td> 0.2691</td><td>0.2354 </td><td>1.3070 </td><td>0.2529 </td></tr>\n",
       "\t<tr><th scope=row>isCEL:recov_npar</th><td> 0.0071</td><td>0.0076 </td><td>0.8564 </td><td>0.3548 </td></tr>\n",
       "\t<tr><th scope=row>isCEL:cni</th><td> 0.0396</td><td>0.1867 </td><td>0.0450 </td><td>0.8321 </td></tr>\n",
       "\t<tr><th scope=row>isCEL:ncho</th><td>-1.0659</td><td>0.8400 </td><td>1.6101 </td><td>0.2045 </td></tr>\n",
       "\t<tr><th scope=row>isCEL:ccri</th><td> 0.0970</td><td>0.1355 </td><td>0.5125 </td><td>0.4740 </td></tr>\n",
       "</tbody>\n",
       "</table>\n"
      ],
      "text/latex": [
       "\\begin{tabular}{r|llll}\n",
       "  & Estimate & Std.err & Wald & Pr(>\\textbar{}W\\textbar{})\\\\\n",
       "\\hline\n",
       "\t(Intercept) & -1.6149 & 1.1536  & 1.9597  & 0.1616 \\\\\n",
       "\tcbvn\\_nlin &  0.0755 & 0.2498  & 0.0914  & 0.7624 \\\\\n",
       "\trecov\\_npar &  0.0191 & 0.0139  & 1.8986  & 0.1682 \\\\\n",
       "\tcni &  0.0704 & 0.1500  & 0.2205  & 0.6387 \\\\\n",
       "\tncho &  0.3894 & 0.6293  & 0.3829  & 0.5361 \\\\\n",
       "\tccri & -0.0439 & 0.0943  & 0.2166  & 0.6416 \\\\\n",
       "\tisCEL:cbvn\\_nlin &  0.2691 & 0.2354  & 1.3070  & 0.2529 \\\\\n",
       "\tisCEL:recov\\_npar &  0.0071 & 0.0076  & 0.8564  & 0.3548 \\\\\n",
       "\tisCEL:cni &  0.0396 & 0.1867  & 0.0450  & 0.8321 \\\\\n",
       "\tisCEL:ncho & -1.0659 & 0.8400  & 1.6101  & 0.2045 \\\\\n",
       "\tisCEL:ccri &  0.0970 & 0.1355  & 0.5125  & 0.4740 \\\\\n",
       "\\end{tabular}\n"
      ],
      "text/markdown": [
       "\n",
       "| <!--/--> | Estimate | Std.err | Wald | Pr(>|W|) | \n",
       "|---|---|---|---|---|---|---|---|---|---|---|\n",
       "| (Intercept) | -1.6149 | 1.1536  | 1.9597  | 0.1616  | \n",
       "| cbvn_nlin |  0.0755 | 0.2498  | 0.0914  | 0.7624  | \n",
       "| recov_npar |  0.0191 | 0.0139  | 1.8986  | 0.1682  | \n",
       "| cni |  0.0704 | 0.1500  | 0.2205  | 0.6387  | \n",
       "| ncho |  0.3894 | 0.6293  | 0.3829  | 0.5361  | \n",
       "| ccri | -0.0439 | 0.0943  | 0.2166  | 0.6416  | \n",
       "| isCEL:cbvn_nlin |  0.2691 | 0.2354  | 1.3070  | 0.2529  | \n",
       "| isCEL:recov_npar |  0.0071 | 0.0076  | 0.8564  | 0.3548  | \n",
       "| isCEL:cni |  0.0396 | 0.1867  | 0.0450  | 0.8321  | \n",
       "| isCEL:ncho | -1.0659 | 0.8400  | 1.6101  | 0.2045  | \n",
       "| isCEL:ccri |  0.0970 | 0.1355  | 0.5125  | 0.4740  | \n",
       "\n",
       "\n"
      ],
      "text/plain": [
       "                 Estimate Std.err Wald   Pr(>|W|)\n",
       "(Intercept)      -1.6149  1.1536  1.9597 0.1616  \n",
       "cbvn_nlin         0.0755  0.2498  0.0914 0.7624  \n",
       "recov_npar        0.0191  0.0139  1.8986 0.1682  \n",
       "cni               0.0704  0.1500  0.2205 0.6387  \n",
       "ncho              0.3894  0.6293  0.3829 0.5361  \n",
       "ccri             -0.0439  0.0943  0.2166 0.6416  \n",
       "isCEL:cbvn_nlin   0.2691  0.2354  1.3070 0.2529  \n",
       "isCEL:recov_npar  0.0071  0.0076  0.8564 0.3548  \n",
       "isCEL:cni         0.0396  0.1867  0.0450 0.8321  \n",
       "isCEL:ncho       -1.0659  0.8400  1.6101 0.2045  \n",
       "isCEL:ccri        0.0970  0.1355  0.5125 0.4740  "
      ]
     },
     "metadata": {},
     "output_type": "display_data"
    }
   ],
   "source": [
    "gee.fit1 = geeglm(txe_rhgg ~ isCEL:(cbvn_nlin+recov_npar+cni+ncho+ccri)+cbvn_nlin+recov_npar+cni+ncho+ccri, data = data_imp, id = factor(t_number_y), family = binomial, corstr = \"exchangeable\")\n",
    "round(summary(gee.fit1)$coefficients, 4)"
   ]
  },
  {
   "cell_type": "code",
   "execution_count": 70,
   "metadata": {},
   "outputs": [
    {
     "data": {
      "text/html": [
       "<table>\n",
       "<thead><tr><th></th><th scope=col>Estimate</th><th scope=col>Std.err</th><th scope=col>Wald</th><th scope=col>Pr(&gt;|W|)</th></tr></thead>\n",
       "<tbody>\n",
       "\t<tr><th scope=row>(Intercept)</th><td>-1.6233</td><td>1.1506 </td><td>1.9904 </td><td>0.1583 </td></tr>\n",
       "\t<tr><th scope=row>cbvn_nlin</th><td> 0.0630</td><td>0.2376 </td><td>0.0703 </td><td>0.7909 </td></tr>\n",
       "\t<tr><th scope=row>recov_npar</th><td> 0.0196</td><td>0.0135 </td><td>2.1055 </td><td>0.1468 </td></tr>\n",
       "\t<tr><th scope=row>cni</th><td> 0.0905</td><td>0.1049 </td><td>0.7445 </td><td>0.3882 </td></tr>\n",
       "\t<tr><th scope=row>ncho</th><td> 0.3239</td><td>0.5106 </td><td>0.4025 </td><td>0.5258 </td></tr>\n",
       "\t<tr><th scope=row>ccri</th><td>-0.0486</td><td>0.0946 </td><td>0.2638 </td><td>0.6075 </td></tr>\n",
       "\t<tr><th scope=row>isCEL:cbvn_nlin</th><td> 0.2849</td><td>0.2275 </td><td>1.5672 </td><td>0.2106 </td></tr>\n",
       "\t<tr><th scope=row>isCEL:recov_npar</th><td> 0.0063</td><td>0.0070 </td><td>0.8270 </td><td>0.3631 </td></tr>\n",
       "\t<tr><th scope=row>isCEL:ncho</th><td>-0.9297</td><td>0.4719 </td><td>3.8815 </td><td>0.0488 </td></tr>\n",
       "\t<tr><th scope=row>isCEL:ccri</th><td> 0.1064</td><td>0.1382 </td><td>0.5924 </td><td>0.4415 </td></tr>\n",
       "</tbody>\n",
       "</table>\n"
      ],
      "text/latex": [
       "\\begin{tabular}{r|llll}\n",
       "  & Estimate & Std.err & Wald & Pr(>\\textbar{}W\\textbar{})\\\\\n",
       "\\hline\n",
       "\t(Intercept) & -1.6233 & 1.1506  & 1.9904  & 0.1583 \\\\\n",
       "\tcbvn\\_nlin &  0.0630 & 0.2376  & 0.0703  & 0.7909 \\\\\n",
       "\trecov\\_npar &  0.0196 & 0.0135  & 2.1055  & 0.1468 \\\\\n",
       "\tcni &  0.0905 & 0.1049  & 0.7445  & 0.3882 \\\\\n",
       "\tncho &  0.3239 & 0.5106  & 0.4025  & 0.5258 \\\\\n",
       "\tccri & -0.0486 & 0.0946  & 0.2638  & 0.6075 \\\\\n",
       "\tisCEL:cbvn\\_nlin &  0.2849 & 0.2275  & 1.5672  & 0.2106 \\\\\n",
       "\tisCEL:recov\\_npar &  0.0063 & 0.0070  & 0.8270  & 0.3631 \\\\\n",
       "\tisCEL:ncho & -0.9297 & 0.4719  & 3.8815  & 0.0488 \\\\\n",
       "\tisCEL:ccri &  0.1064 & 0.1382  & 0.5924  & 0.4415 \\\\\n",
       "\\end{tabular}\n"
      ],
      "text/markdown": [
       "\n",
       "| <!--/--> | Estimate | Std.err | Wald | Pr(>|W|) | \n",
       "|---|---|---|---|---|---|---|---|---|---|\n",
       "| (Intercept) | -1.6233 | 1.1506  | 1.9904  | 0.1583  | \n",
       "| cbvn_nlin |  0.0630 | 0.2376  | 0.0703  | 0.7909  | \n",
       "| recov_npar |  0.0196 | 0.0135  | 2.1055  | 0.1468  | \n",
       "| cni |  0.0905 | 0.1049  | 0.7445  | 0.3882  | \n",
       "| ncho |  0.3239 | 0.5106  | 0.4025  | 0.5258  | \n",
       "| ccri | -0.0486 | 0.0946  | 0.2638  | 0.6075  | \n",
       "| isCEL:cbvn_nlin |  0.2849 | 0.2275  | 1.5672  | 0.2106  | \n",
       "| isCEL:recov_npar |  0.0063 | 0.0070  | 0.8270  | 0.3631  | \n",
       "| isCEL:ncho | -0.9297 | 0.4719  | 3.8815  | 0.0488  | \n",
       "| isCEL:ccri |  0.1064 | 0.1382  | 0.5924  | 0.4415  | \n",
       "\n",
       "\n"
      ],
      "text/plain": [
       "                 Estimate Std.err Wald   Pr(>|W|)\n",
       "(Intercept)      -1.6233  1.1506  1.9904 0.1583  \n",
       "cbvn_nlin         0.0630  0.2376  0.0703 0.7909  \n",
       "recov_npar        0.0196  0.0135  2.1055 0.1468  \n",
       "cni               0.0905  0.1049  0.7445 0.3882  \n",
       "ncho              0.3239  0.5106  0.4025 0.5258  \n",
       "ccri             -0.0486  0.0946  0.2638 0.6075  \n",
       "isCEL:cbvn_nlin   0.2849  0.2275  1.5672 0.2106  \n",
       "isCEL:recov_npar  0.0063  0.0070  0.8270 0.3631  \n",
       "isCEL:ncho       -0.9297  0.4719  3.8815 0.0488  \n",
       "isCEL:ccri        0.1064  0.1382  0.5924 0.4415  "
      ]
     },
     "metadata": {},
     "output_type": "display_data"
    }
   ],
   "source": [
    "gee.fit1 = geeglm(txe_rhgg ~ isCEL:(cbvn_nlin+recov_npar+ncho+ccri)+cbvn_nlin+recov_npar+cni+ncho+ccri, data = data_imp, id = factor(t_number_y), family = binomial, corstr = \"exchangeable\")\n",
    "round(summary(gee.fit1)$coefficients, 4)"
   ]
  },
  {
   "cell_type": "code",
   "execution_count": 71,
   "metadata": {},
   "outputs": [
    {
     "data": {
      "text/html": [
       "<table>\n",
       "<thead><tr><th></th><th scope=col>Estimate</th><th scope=col>Std.err</th><th scope=col>Wald</th><th scope=col>Pr(&gt;|W|)</th></tr></thead>\n",
       "<tbody>\n",
       "\t<tr><th scope=row>(Intercept)</th><td>-1.5854</td><td>1.1458 </td><td>1.9145 </td><td>0.1665 </td></tr>\n",
       "\t<tr><th scope=row>recov_npar</th><td> 0.0199</td><td>0.0133 </td><td>2.2512 </td><td>0.1335 </td></tr>\n",
       "\t<tr><th scope=row>cni</th><td> 0.0955</td><td>0.1090 </td><td>0.7688 </td><td>0.3806 </td></tr>\n",
       "\t<tr><th scope=row>ncho</th><td> 0.3285</td><td>0.5138 </td><td>0.4088 </td><td>0.5226 </td></tr>\n",
       "\t<tr><th scope=row>ccri</th><td>-0.0551</td><td>0.0965 </td><td>0.3262 </td><td>0.5679 </td></tr>\n",
       "\t<tr><th scope=row>isCEL:cbvn_nlin</th><td> 0.3389</td><td>0.1456 </td><td>5.4153 </td><td>0.0200 </td></tr>\n",
       "\t<tr><th scope=row>isCEL:recov_npar</th><td> 0.0058</td><td>0.0064 </td><td>0.8246 </td><td>0.3638 </td></tr>\n",
       "\t<tr><th scope=row>isCEL:ncho</th><td>-0.9491</td><td>0.4847 </td><td>3.8344 </td><td>0.0502 </td></tr>\n",
       "\t<tr><th scope=row>isCEL:ccri</th><td> 0.1109</td><td>0.1392 </td><td>0.6345 </td><td>0.4257 </td></tr>\n",
       "</tbody>\n",
       "</table>\n"
      ],
      "text/latex": [
       "\\begin{tabular}{r|llll}\n",
       "  & Estimate & Std.err & Wald & Pr(>\\textbar{}W\\textbar{})\\\\\n",
       "\\hline\n",
       "\t(Intercept) & -1.5854 & 1.1458  & 1.9145  & 0.1665 \\\\\n",
       "\trecov\\_npar &  0.0199 & 0.0133  & 2.2512  & 0.1335 \\\\\n",
       "\tcni &  0.0955 & 0.1090  & 0.7688  & 0.3806 \\\\\n",
       "\tncho &  0.3285 & 0.5138  & 0.4088  & 0.5226 \\\\\n",
       "\tccri & -0.0551 & 0.0965  & 0.3262  & 0.5679 \\\\\n",
       "\tisCEL:cbvn\\_nlin &  0.3389 & 0.1456  & 5.4153  & 0.0200 \\\\\n",
       "\tisCEL:recov\\_npar &  0.0058 & 0.0064  & 0.8246  & 0.3638 \\\\\n",
       "\tisCEL:ncho & -0.9491 & 0.4847  & 3.8344  & 0.0502 \\\\\n",
       "\tisCEL:ccri &  0.1109 & 0.1392  & 0.6345  & 0.4257 \\\\\n",
       "\\end{tabular}\n"
      ],
      "text/markdown": [
       "\n",
       "| <!--/--> | Estimate | Std.err | Wald | Pr(>|W|) | \n",
       "|---|---|---|---|---|---|---|---|---|\n",
       "| (Intercept) | -1.5854 | 1.1458  | 1.9145  | 0.1665  | \n",
       "| recov_npar |  0.0199 | 0.0133  | 2.2512  | 0.1335  | \n",
       "| cni |  0.0955 | 0.1090  | 0.7688  | 0.3806  | \n",
       "| ncho |  0.3285 | 0.5138  | 0.4088  | 0.5226  | \n",
       "| ccri | -0.0551 | 0.0965  | 0.3262  | 0.5679  | \n",
       "| isCEL:cbvn_nlin |  0.3389 | 0.1456  | 5.4153  | 0.0200  | \n",
       "| isCEL:recov_npar |  0.0058 | 0.0064  | 0.8246  | 0.3638  | \n",
       "| isCEL:ncho | -0.9491 | 0.4847  | 3.8344  | 0.0502  | \n",
       "| isCEL:ccri |  0.1109 | 0.1392  | 0.6345  | 0.4257  | \n",
       "\n",
       "\n"
      ],
      "text/plain": [
       "                 Estimate Std.err Wald   Pr(>|W|)\n",
       "(Intercept)      -1.5854  1.1458  1.9145 0.1665  \n",
       "recov_npar        0.0199  0.0133  2.2512 0.1335  \n",
       "cni               0.0955  0.1090  0.7688 0.3806  \n",
       "ncho              0.3285  0.5138  0.4088 0.5226  \n",
       "ccri             -0.0551  0.0965  0.3262 0.5679  \n",
       "isCEL:cbvn_nlin   0.3389  0.1456  5.4153 0.0200  \n",
       "isCEL:recov_npar  0.0058  0.0064  0.8246 0.3638  \n",
       "isCEL:ncho       -0.9491  0.4847  3.8344 0.0502  \n",
       "isCEL:ccri        0.1109  0.1392  0.6345 0.4257  "
      ]
     },
     "metadata": {},
     "output_type": "display_data"
    }
   ],
   "source": [
    "gee.fit1 = geeglm(txe_rhgg ~ isCEL:(cbvn_nlin+recov_npar+ncho+ccri)+recov_npar+cni+ncho+ccri, data = data_imp, id = factor(t_number_y), family = binomial, corstr = \"exchangeable\")\n",
    "round(summary(gee.fit1)$coefficients, 4)"
   ]
  },
  {
   "cell_type": "code",
   "execution_count": 72,
   "metadata": {},
   "outputs": [
    {
     "data": {
      "text/html": [
       "<table>\n",
       "<thead><tr><th></th><th scope=col>Estimate</th><th scope=col>Std.err</th><th scope=col>Wald</th><th scope=col>Pr(&gt;|W|)</th></tr></thead>\n",
       "<tbody>\n",
       "\t<tr><th scope=row>(Intercept)</th><td>-1.6050</td><td>1.1423 </td><td>1.9742 </td><td>0.1600 </td></tr>\n",
       "\t<tr><th scope=row>recov_npar</th><td> 0.0205</td><td>0.0131 </td><td>2.4752 </td><td>0.1157 </td></tr>\n",
       "\t<tr><th scope=row>cni</th><td> 0.0861</td><td>0.1076 </td><td>0.6391 </td><td>0.4240 </td></tr>\n",
       "\t<tr><th scope=row>ncho</th><td> 0.2427</td><td>0.4723 </td><td>0.2641 </td><td>0.6073 </td></tr>\n",
       "\t<tr><th scope=row>isCEL:cbvn_nlin</th><td> 0.3383</td><td>0.1455 </td><td>5.4069 </td><td>0.0201 </td></tr>\n",
       "\t<tr><th scope=row>isCEL:recov_npar</th><td> 0.0053</td><td>0.0063 </td><td>0.7024 </td><td>0.4020 </td></tr>\n",
       "\t<tr><th scope=row>isCEL:ncho</th><td>-0.8340</td><td>0.4358 </td><td>3.6624 </td><td>0.0557 </td></tr>\n",
       "\t<tr><th scope=row>isCEL:ccri</th><td> 0.0602</td><td>0.1099 </td><td>0.3008 </td><td>0.5834 </td></tr>\n",
       "</tbody>\n",
       "</table>\n"
      ],
      "text/latex": [
       "\\begin{tabular}{r|llll}\n",
       "  & Estimate & Std.err & Wald & Pr(>\\textbar{}W\\textbar{})\\\\\n",
       "\\hline\n",
       "\t(Intercept) & -1.6050 & 1.1423  & 1.9742  & 0.1600 \\\\\n",
       "\trecov\\_npar &  0.0205 & 0.0131  & 2.4752  & 0.1157 \\\\\n",
       "\tcni &  0.0861 & 0.1076  & 0.6391  & 0.4240 \\\\\n",
       "\tncho &  0.2427 & 0.4723  & 0.2641  & 0.6073 \\\\\n",
       "\tisCEL:cbvn\\_nlin &  0.3383 & 0.1455  & 5.4069  & 0.0201 \\\\\n",
       "\tisCEL:recov\\_npar &  0.0053 & 0.0063  & 0.7024  & 0.4020 \\\\\n",
       "\tisCEL:ncho & -0.8340 & 0.4358  & 3.6624  & 0.0557 \\\\\n",
       "\tisCEL:ccri &  0.0602 & 0.1099  & 0.3008  & 0.5834 \\\\\n",
       "\\end{tabular}\n"
      ],
      "text/markdown": [
       "\n",
       "| <!--/--> | Estimate | Std.err | Wald | Pr(>|W|) | \n",
       "|---|---|---|---|---|---|---|---|\n",
       "| (Intercept) | -1.6050 | 1.1423  | 1.9742  | 0.1600  | \n",
       "| recov_npar |  0.0205 | 0.0131  | 2.4752  | 0.1157  | \n",
       "| cni |  0.0861 | 0.1076  | 0.6391  | 0.4240  | \n",
       "| ncho |  0.2427 | 0.4723  | 0.2641  | 0.6073  | \n",
       "| isCEL:cbvn_nlin |  0.3383 | 0.1455  | 5.4069  | 0.0201  | \n",
       "| isCEL:recov_npar |  0.0053 | 0.0063  | 0.7024  | 0.4020  | \n",
       "| isCEL:ncho | -0.8340 | 0.4358  | 3.6624  | 0.0557  | \n",
       "| isCEL:ccri |  0.0602 | 0.1099  | 0.3008  | 0.5834  | \n",
       "\n",
       "\n"
      ],
      "text/plain": [
       "                 Estimate Std.err Wald   Pr(>|W|)\n",
       "(Intercept)      -1.6050  1.1423  1.9742 0.1600  \n",
       "recov_npar        0.0205  0.0131  2.4752 0.1157  \n",
       "cni               0.0861  0.1076  0.6391 0.4240  \n",
       "ncho              0.2427  0.4723  0.2641 0.6073  \n",
       "isCEL:cbvn_nlin   0.3383  0.1455  5.4069 0.0201  \n",
       "isCEL:recov_npar  0.0053  0.0063  0.7024 0.4020  \n",
       "isCEL:ncho       -0.8340  0.4358  3.6624 0.0557  \n",
       "isCEL:ccri        0.0602  0.1099  0.3008 0.5834  "
      ]
     },
     "metadata": {},
     "output_type": "display_data"
    }
   ],
   "source": [
    "gee.fit1 = geeglm(txe_rhgg ~ isCEL:(cbvn_nlin+recov_npar+ncho+ccri)+recov_npar+cni+ncho, data = data_imp, id = factor(t_number_y), family = binomial, corstr = \"exchangeable\")\n",
    "round(summary(gee.fit1)$coefficients, 4)"
   ]
  },
  {
   "cell_type": "code",
   "execution_count": 73,
   "metadata": {},
   "outputs": [
    {
     "data": {
      "text/html": [
       "<table>\n",
       "<thead><tr><th></th><th scope=col>Estimate</th><th scope=col>Std.err</th><th scope=col>Wald</th><th scope=col>Pr(&gt;|W|)</th></tr></thead>\n",
       "<tbody>\n",
       "\t<tr><th scope=row>(Intercept)</th><td>-1.6460</td><td>1.1477 </td><td>2.0570 </td><td>0.1515 </td></tr>\n",
       "\t<tr><th scope=row>recov_npar</th><td> 0.0227</td><td>0.0130 </td><td>3.0522 </td><td>0.0806 </td></tr>\n",
       "\t<tr><th scope=row>cni</th><td> 0.1275</td><td>0.0507 </td><td>6.3345 </td><td>0.0118 </td></tr>\n",
       "\t<tr><th scope=row>isCEL:cbvn_nlin</th><td> 0.3345</td><td>0.1458 </td><td>5.2636 </td><td>0.0218 </td></tr>\n",
       "\t<tr><th scope=row>isCEL:recov_npar</th><td> 0.0043</td><td>0.0064 </td><td>0.4604 </td><td>0.4974 </td></tr>\n",
       "\t<tr><th scope=row>isCEL:ncho</th><td>-0.7408</td><td>0.4319 </td><td>2.9419 </td><td>0.0863 </td></tr>\n",
       "\t<tr><th scope=row>isCEL:ccri</th><td> 0.0506</td><td>0.1100 </td><td>0.2117 </td><td>0.6454 </td></tr>\n",
       "</tbody>\n",
       "</table>\n"
      ],
      "text/latex": [
       "\\begin{tabular}{r|llll}\n",
       "  & Estimate & Std.err & Wald & Pr(>\\textbar{}W\\textbar{})\\\\\n",
       "\\hline\n",
       "\t(Intercept) & -1.6460 & 1.1477  & 2.0570  & 0.1515 \\\\\n",
       "\trecov\\_npar &  0.0227 & 0.0130  & 3.0522  & 0.0806 \\\\\n",
       "\tcni &  0.1275 & 0.0507  & 6.3345  & 0.0118 \\\\\n",
       "\tisCEL:cbvn\\_nlin &  0.3345 & 0.1458  & 5.2636  & 0.0218 \\\\\n",
       "\tisCEL:recov\\_npar &  0.0043 & 0.0064  & 0.4604  & 0.4974 \\\\\n",
       "\tisCEL:ncho & -0.7408 & 0.4319  & 2.9419  & 0.0863 \\\\\n",
       "\tisCEL:ccri &  0.0506 & 0.1100  & 0.2117  & 0.6454 \\\\\n",
       "\\end{tabular}\n"
      ],
      "text/markdown": [
       "\n",
       "| <!--/--> | Estimate | Std.err | Wald | Pr(>|W|) | \n",
       "|---|---|---|---|---|---|---|\n",
       "| (Intercept) | -1.6460 | 1.1477  | 2.0570  | 0.1515  | \n",
       "| recov_npar |  0.0227 | 0.0130  | 3.0522  | 0.0806  | \n",
       "| cni |  0.1275 | 0.0507  | 6.3345  | 0.0118  | \n",
       "| isCEL:cbvn_nlin |  0.3345 | 0.1458  | 5.2636  | 0.0218  | \n",
       "| isCEL:recov_npar |  0.0043 | 0.0064  | 0.4604  | 0.4974  | \n",
       "| isCEL:ncho | -0.7408 | 0.4319  | 2.9419  | 0.0863  | \n",
       "| isCEL:ccri |  0.0506 | 0.1100  | 0.2117  | 0.6454  | \n",
       "\n",
       "\n"
      ],
      "text/plain": [
       "                 Estimate Std.err Wald   Pr(>|W|)\n",
       "(Intercept)      -1.6460  1.1477  2.0570 0.1515  \n",
       "recov_npar        0.0227  0.0130  3.0522 0.0806  \n",
       "cni               0.1275  0.0507  6.3345 0.0118  \n",
       "isCEL:cbvn_nlin   0.3345  0.1458  5.2636 0.0218  \n",
       "isCEL:recov_npar  0.0043  0.0064  0.4604 0.4974  \n",
       "isCEL:ncho       -0.7408  0.4319  2.9419 0.0863  \n",
       "isCEL:ccri        0.0506  0.1100  0.2117 0.6454  "
      ]
     },
     "metadata": {},
     "output_type": "display_data"
    }
   ],
   "source": [
    "gee.fit1 = geeglm(txe_rhgg ~ isCEL:(cbvn_nlin+recov_npar+ncho+ccri)+recov_npar+cni, data = data_imp, id = factor(t_number_y), family = binomial, corstr = \"exchangeable\")\n",
    "round(summary(gee.fit1)$coefficients, 4)"
   ]
  },
  {
   "cell_type": "code",
   "execution_count": 74,
   "metadata": {},
   "outputs": [
    {
     "data": {
      "text/html": [
       "<table>\n",
       "<thead><tr><th></th><th scope=col>Estimate</th><th scope=col>Std.err</th><th scope=col>Wald</th><th scope=col>Pr(&gt;|W|)</th></tr></thead>\n",
       "<tbody>\n",
       "\t<tr><th scope=row>(Intercept)</th><td>-1.6662</td><td>1.1422 </td><td>2.1278 </td><td>0.1446 </td></tr>\n",
       "\t<tr><th scope=row>recov_npar</th><td> 0.0227</td><td>0.0130 </td><td>3.0738 </td><td>0.0796 </td></tr>\n",
       "\t<tr><th scope=row>cni</th><td> 0.1313</td><td>0.0512 </td><td>6.5802 </td><td>0.0103 </td></tr>\n",
       "\t<tr><th scope=row>isCEL:cbvn_nlin</th><td> 0.3368</td><td>0.1449 </td><td>5.4046 </td><td>0.0201 </td></tr>\n",
       "\t<tr><th scope=row>isCEL:recov_npar</th><td> 0.0039</td><td>0.0063 </td><td>0.3887 </td><td>0.5330 </td></tr>\n",
       "\t<tr><th scope=row>isCEL:ncho</th><td>-0.6164</td><td>0.3101 </td><td>3.9514 </td><td>0.0468 </td></tr>\n",
       "</tbody>\n",
       "</table>\n"
      ],
      "text/latex": [
       "\\begin{tabular}{r|llll}\n",
       "  & Estimate & Std.err & Wald & Pr(>\\textbar{}W\\textbar{})\\\\\n",
       "\\hline\n",
       "\t(Intercept) & -1.6662 & 1.1422  & 2.1278  & 0.1446 \\\\\n",
       "\trecov\\_npar &  0.0227 & 0.0130  & 3.0738  & 0.0796 \\\\\n",
       "\tcni &  0.1313 & 0.0512  & 6.5802  & 0.0103 \\\\\n",
       "\tisCEL:cbvn\\_nlin &  0.3368 & 0.1449  & 5.4046  & 0.0201 \\\\\n",
       "\tisCEL:recov\\_npar &  0.0039 & 0.0063  & 0.3887  & 0.5330 \\\\\n",
       "\tisCEL:ncho & -0.6164 & 0.3101  & 3.9514  & 0.0468 \\\\\n",
       "\\end{tabular}\n"
      ],
      "text/markdown": [
       "\n",
       "| <!--/--> | Estimate | Std.err | Wald | Pr(>|W|) | \n",
       "|---|---|---|---|---|---|\n",
       "| (Intercept) | -1.6662 | 1.1422  | 2.1278  | 0.1446  | \n",
       "| recov_npar |  0.0227 | 0.0130  | 3.0738  | 0.0796  | \n",
       "| cni |  0.1313 | 0.0512  | 6.5802  | 0.0103  | \n",
       "| isCEL:cbvn_nlin |  0.3368 | 0.1449  | 5.4046  | 0.0201  | \n",
       "| isCEL:recov_npar |  0.0039 | 0.0063  | 0.3887  | 0.5330  | \n",
       "| isCEL:ncho | -0.6164 | 0.3101  | 3.9514  | 0.0468  | \n",
       "\n",
       "\n"
      ],
      "text/plain": [
       "                 Estimate Std.err Wald   Pr(>|W|)\n",
       "(Intercept)      -1.6662  1.1422  2.1278 0.1446  \n",
       "recov_npar        0.0227  0.0130  3.0738 0.0796  \n",
       "cni               0.1313  0.0512  6.5802 0.0103  \n",
       "isCEL:cbvn_nlin   0.3368  0.1449  5.4046 0.0201  \n",
       "isCEL:recov_npar  0.0039  0.0063  0.3887 0.5330  \n",
       "isCEL:ncho       -0.6164  0.3101  3.9514 0.0468  "
      ]
     },
     "metadata": {},
     "output_type": "display_data"
    }
   ],
   "source": [
    "gee.fit1 = geeglm(txe_rhgg ~ isCEL:(cbvn_nlin+recov_npar+ncho)+recov_npar+cni, data = data_imp, id = factor(t_number_y), family = binomial, corstr = \"exchangeable\")\n",
    "round(summary(gee.fit1)$coefficients, 4)"
   ]
  },
  {
   "cell_type": "code",
   "execution_count": 75,
   "metadata": {},
   "outputs": [
    {
     "data": {
      "text/html": [
       "<table>\n",
       "<thead><tr><th></th><th scope=col>Estimate</th><th scope=col>Std.err</th><th scope=col>Wald</th><th scope=col>Pr(&gt;|W|)</th></tr></thead>\n",
       "<tbody>\n",
       "\t<tr><th scope=row>(Intercept)</th><td>-1.7861</td><td>1.1126 </td><td> 2.5773</td><td>0.1084 </td></tr>\n",
       "\t<tr><th scope=row>recov_npar</th><td> 0.0253</td><td>0.0121 </td><td> 4.3407</td><td>0.0372 </td></tr>\n",
       "\t<tr><th scope=row>cni</th><td> 0.1076</td><td>0.0446 </td><td> 5.8216</td><td>0.0158 </td></tr>\n",
       "\t<tr><th scope=row>isCEL:cbvn_nlin</th><td> 0.3958</td><td>0.1251 </td><td>10.0182</td><td>0.0015 </td></tr>\n",
       "\t<tr><th scope=row>isCEL:ncho</th><td>-0.4415</td><td>0.1624 </td><td> 7.3950</td><td>0.0065 </td></tr>\n",
       "</tbody>\n",
       "</table>\n"
      ],
      "text/latex": [
       "\\begin{tabular}{r|llll}\n",
       "  & Estimate & Std.err & Wald & Pr(>\\textbar{}W\\textbar{})\\\\\n",
       "\\hline\n",
       "\t(Intercept) & -1.7861 & 1.1126  &  2.5773 & 0.1084 \\\\\n",
       "\trecov\\_npar &  0.0253 & 0.0121  &  4.3407 & 0.0372 \\\\\n",
       "\tcni &  0.1076 & 0.0446  &  5.8216 & 0.0158 \\\\\n",
       "\tisCEL:cbvn\\_nlin &  0.3958 & 0.1251  & 10.0182 & 0.0015 \\\\\n",
       "\tisCEL:ncho & -0.4415 & 0.1624  &  7.3950 & 0.0065 \\\\\n",
       "\\end{tabular}\n"
      ],
      "text/markdown": [
       "\n",
       "| <!--/--> | Estimate | Std.err | Wald | Pr(>|W|) | \n",
       "|---|---|---|---|---|\n",
       "| (Intercept) | -1.7861 | 1.1126  |  2.5773 | 0.1084  | \n",
       "| recov_npar |  0.0253 | 0.0121  |  4.3407 | 0.0372  | \n",
       "| cni |  0.1076 | 0.0446  |  5.8216 | 0.0158  | \n",
       "| isCEL:cbvn_nlin |  0.3958 | 0.1251  | 10.0182 | 0.0015  | \n",
       "| isCEL:ncho | -0.4415 | 0.1624  |  7.3950 | 0.0065  | \n",
       "\n",
       "\n"
      ],
      "text/plain": [
       "                Estimate Std.err Wald    Pr(>|W|)\n",
       "(Intercept)     -1.7861  1.1126   2.5773 0.1084  \n",
       "recov_npar       0.0253  0.0121   4.3407 0.0372  \n",
       "cni              0.1076  0.0446   5.8216 0.0158  \n",
       "isCEL:cbvn_nlin  0.3958  0.1251  10.0182 0.0015  \n",
       "isCEL:ncho      -0.4415  0.1624   7.3950 0.0065  "
      ]
     },
     "metadata": {},
     "output_type": "display_data"
    }
   ],
   "source": [
    "gee.fit1 = geeglm(txe_rhgg ~ isCEL:(cbvn_nlin+ncho)+recov_npar+cni, data = data_imp, id = factor(t_number_y), family = binomial, corstr = \"exchangeable\")\n",
    "round(summary(gee.fit1)$coefficients, 4)"
   ]
  },
  {
   "cell_type": "code",
   "execution_count": null,
   "metadata": {},
   "outputs": [],
   "source": []
  }
 ],
 "metadata": {
  "kernelspec": {
   "display_name": "R",
   "language": "R",
   "name": "ir"
  },
  "language_info": {
   "codemirror_mode": "r",
   "file_extension": ".r",
   "mimetype": "text/x-r-source",
   "name": "R",
   "pygments_lexer": "r",
   "version": "3.4.0"
  }
 },
 "nbformat": 4,
 "nbformat_minor": 2
}
