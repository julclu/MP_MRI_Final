{
 "cells": [
  {
   "cell_type": "code",
   "execution_count": 10,
   "metadata": {},
   "outputs": [],
   "source": [
    "library(glmnet)\n",
    "library(randomForest)\n",
    "library(dplyr)\n",
    "library(BBmisc)\n",
    "library(caret)\n",
    "library(tictoc)\n",
    "library(pROC)\n",
    "library(ROCR)\n",
    "library(randomForestSRC)"
   ]
  },
  {
   "cell_type": "code",
   "execution_count": 11,
   "metadata": {},
   "outputs": [
    {
     "data": {
      "text/html": [
       "<ol class=list-inline>\n",
       "\t<li>366</li>\n",
       "\t<li>75</li>\n",
       "</ol>\n"
      ],
      "text/latex": [
       "\\begin{enumerate*}\n",
       "\\item 366\n",
       "\\item 75\n",
       "\\end{enumerate*}\n"
      ],
      "text/markdown": [
       "1. 366\n",
       "2. 75\n",
       "\n",
       "\n"
      ],
      "text/plain": [
       "[1] 366  75"
      ]
     },
     "metadata": {},
     "output_type": "display_data"
    }
   ],
   "source": [
    "data = read.csv('../../AnnotateData/recgli_annotation10_CELorNELorUNK.csv')\n",
    "dim(data)"
   ]
  },
  {
   "cell_type": "code",
   "execution_count": 12,
   "metadata": {},
   "outputs": [
    {
     "data": {
      "text/html": [
       "<ol class=list-inline>\n",
       "\t<li>297</li>\n",
       "\t<li>75</li>\n",
       "</ol>\n"
      ],
      "text/latex": [
       "\\begin{enumerate*}\n",
       "\\item 297\n",
       "\\item 75\n",
       "\\end{enumerate*}\n"
      ],
      "text/markdown": [
       "1. 297\n",
       "2. 75\n",
       "\n",
       "\n"
      ],
      "text/plain": [
       "[1] 297  75"
      ]
     },
     "metadata": {},
     "output_type": "display_data"
    }
   ],
   "source": [
    "data = data[data$outcome == \"rHGG\" | data$outcome == \"txe\", ]\n",
    "dim(data)"
   ]
  },
  {
   "cell_type": "code",
   "execution_count": 13,
   "metadata": {},
   "outputs": [
    {
     "data": {
      "text/html": [
       "<ol class=list-inline>\n",
       "\t<li>291</li>\n",
       "\t<li>75</li>\n",
       "</ol>\n"
      ],
      "text/latex": [
       "\\begin{enumerate*}\n",
       "\\item 291\n",
       "\\item 75\n",
       "\\end{enumerate*}\n"
      ],
      "text/markdown": [
       "1. 291\n",
       "2. 75\n",
       "\n",
       "\n"
      ],
      "text/plain": [
       "[1] 291  75"
      ]
     },
     "metadata": {},
     "output_type": "display_data"
    }
   ],
   "source": [
    "data = data[data$CELorNEL == \"CEL\" | data$CELorNEL == \"NEL\",]\n",
    "dim(data)"
   ]
  },
  {
   "cell_type": "code",
   "execution_count": 14,
   "metadata": {},
   "outputs": [],
   "source": [
    "data = droplevels.data.frame(data)"
   ]
  },
  {
   "cell_type": "code",
   "execution_count": 15,
   "metadata": {},
   "outputs": [],
   "source": [
    "id = \"t_number_y\"\n",
    "features = c('nadc.1', 'nfa.1',\n",
    "             'cbvn_nlin', 'recov_npar', \n",
    "             'ccri', 'cni', 'ncre', 'ncho', 'nnaa', \n",
    "             'in_CEL')\n",
    "label = 'outcome'"
   ]
  },
  {
   "cell_type": "code",
   "execution_count": 16,
   "metadata": {},
   "outputs": [
    {
     "data": {
      "text/html": [
       "<table>\n",
       "<thead><tr><th></th><th scope=col>t_number_y</th><th scope=col>nadc.1</th><th scope=col>nfa.1</th><th scope=col>cbvn_nlin</th><th scope=col>recov_npar</th><th scope=col>ccri</th><th scope=col>cni</th><th scope=col>ncre</th><th scope=col>ncho</th><th scope=col>nnaa</th><th scope=col>in_CEL</th><th scope=col>outcome</th></tr></thead>\n",
       "<tbody>\n",
       "\t<tr><th scope=row>1</th><td>10366 </td><td>0.75  </td><td>0.83  </td><td>1.08  </td><td> 98.89</td><td>1.88  </td><td>2.60  </td><td>0.47  </td><td>1.03  </td><td>0.46  </td><td>0     </td><td>txe   </td></tr>\n",
       "\t<tr><th scope=row>3</th><td>10448 </td><td>1.62  </td><td>0.50  </td><td>2.43  </td><td>100.00</td><td>  NA  </td><td>  NA  </td><td>  NA  </td><td>  NA  </td><td>  NA  </td><td>1     </td><td>rHGG  </td></tr>\n",
       "\t<tr><th scope=row>4</th><td>10594 </td><td>2.62  </td><td>0.81  </td><td>1.64  </td><td> 78.53</td><td>  NA  </td><td>  NA  </td><td>  NA  </td><td>  NA  </td><td>  NA  </td><td>0     </td><td>txe   </td></tr>\n",
       "\t<tr><th scope=row>5</th><td>10594 </td><td>2.12  </td><td>0.42  </td><td>0.95  </td><td>100.00</td><td>1.03  </td><td>3.27  </td><td>0.79  </td><td>1.04  </td><td>0.36  </td><td>0     </td><td>rHGG  </td></tr>\n",
       "\t<tr><th scope=row>6</th><td>10594 </td><td>1.60  </td><td>0.73  </td><td>0.84  </td><td>100.00</td><td>2.33  </td><td>7.57  </td><td>1.07  </td><td>1.61  </td><td>0.13  </td><td>0     </td><td>rHGG  </td></tr>\n",
       "\t<tr><th scope=row>7</th><td>10594 </td><td>3.03  </td><td>0.42  </td><td>0.42  </td><td>100.00</td><td>2.13  </td><td>4.37  </td><td>1.21  </td><td>1.89  </td><td>0.74  </td><td>0     </td><td>rHGG  </td></tr>\n",
       "</tbody>\n",
       "</table>\n"
      ],
      "text/latex": [
       "\\begin{tabular}{r|llllllllllll}\n",
       "  & t\\_number\\_y & nadc.1 & nfa.1 & cbvn\\_nlin & recov\\_npar & ccri & cni & ncre & ncho & nnaa & in\\_CEL & outcome\\\\\n",
       "\\hline\n",
       "\t1 & 10366  & 0.75   & 0.83   & 1.08   &  98.89 & 1.88   & 2.60   & 0.47   & 1.03   & 0.46   & 0      & txe   \\\\\n",
       "\t3 & 10448  & 1.62   & 0.50   & 2.43   & 100.00 &   NA   &   NA   &   NA   &   NA   &   NA   & 1      & rHGG  \\\\\n",
       "\t4 & 10594  & 2.62   & 0.81   & 1.64   &  78.53 &   NA   &   NA   &   NA   &   NA   &   NA   & 0      & txe   \\\\\n",
       "\t5 & 10594  & 2.12   & 0.42   & 0.95   & 100.00 & 1.03   & 3.27   & 0.79   & 1.04   & 0.36   & 0      & rHGG  \\\\\n",
       "\t6 & 10594  & 1.60   & 0.73   & 0.84   & 100.00 & 2.33   & 7.57   & 1.07   & 1.61   & 0.13   & 0      & rHGG  \\\\\n",
       "\t7 & 10594  & 3.03   & 0.42   & 0.42   & 100.00 & 2.13   & 4.37   & 1.21   & 1.89   & 0.74   & 0      & rHGG  \\\\\n",
       "\\end{tabular}\n"
      ],
      "text/markdown": [
       "\n",
       "| <!--/--> | t_number_y | nadc.1 | nfa.1 | cbvn_nlin | recov_npar | ccri | cni | ncre | ncho | nnaa | in_CEL | outcome | \n",
       "|---|---|---|---|---|---|\n",
       "| 1 | 10366  | 0.75   | 0.83   | 1.08   |  98.89 | 1.88   | 2.60   | 0.47   | 1.03   | 0.46   | 0      | txe    | \n",
       "| 3 | 10448  | 1.62   | 0.50   | 2.43   | 100.00 |   NA   |   NA   |   NA   |   NA   |   NA   | 1      | rHGG   | \n",
       "| 4 | 10594  | 2.62   | 0.81   | 1.64   |  78.53 |   NA   |   NA   |   NA   |   NA   |   NA   | 0      | txe    | \n",
       "| 5 | 10594  | 2.12   | 0.42   | 0.95   | 100.00 | 1.03   | 3.27   | 0.79   | 1.04   | 0.36   | 0      | rHGG   | \n",
       "| 6 | 10594  | 1.60   | 0.73   | 0.84   | 100.00 | 2.33   | 7.57   | 1.07   | 1.61   | 0.13   | 0      | rHGG   | \n",
       "| 7 | 10594  | 3.03   | 0.42   | 0.42   | 100.00 | 2.13   | 4.37   | 1.21   | 1.89   | 0.74   | 0      | rHGG   | \n",
       "\n",
       "\n"
      ],
      "text/plain": [
       "  t_number_y nadc.1 nfa.1 cbvn_nlin recov_npar ccri cni  ncre ncho nnaa in_CEL\n",
       "1 10366      0.75   0.83  1.08       98.89     1.88 2.60 0.47 1.03 0.46 0     \n",
       "3 10448      1.62   0.50  2.43      100.00       NA   NA   NA   NA   NA 1     \n",
       "4 10594      2.62   0.81  1.64       78.53       NA   NA   NA   NA   NA 0     \n",
       "5 10594      2.12   0.42  0.95      100.00     1.03 3.27 0.79 1.04 0.36 0     \n",
       "6 10594      1.60   0.73  0.84      100.00     2.33 7.57 1.07 1.61 0.13 0     \n",
       "7 10594      3.03   0.42  0.42      100.00     2.13 4.37 1.21 1.89 0.74 0     \n",
       "  outcome\n",
       "1 txe    \n",
       "3 rHGG   \n",
       "4 txe    \n",
       "5 rHGG   \n",
       "6 rHGG   \n",
       "7 rHGG   "
      ]
     },
     "metadata": {},
     "output_type": "display_data"
    }
   ],
   "source": [
    "data_xy = data[,c(id, features, label)]\n",
    "head(data_xy)"
   ]
  },
  {
   "cell_type": "code",
   "execution_count": 17,
   "metadata": {},
   "outputs": [],
   "source": [
    "data_xy = data.frame(data_xy, \n",
    "                    hasDiffu = ifelse(is.na(data_xy$nadc.1), 0, 1), \n",
    "                    hasPerf  = ifelse(is.na(data_xy$cbvn_nlin), 0, 1), \n",
    "                    hasSpec  = ifelse(is.na(data_xy$cni), 0, 1))"
   ]
  },
  {
   "cell_type": "markdown",
   "metadata": {},
   "source": [
    "## filling in missing values:\n"
   ]
  },
  {
   "cell_type": "code",
   "execution_count": 18,
   "metadata": {},
   "outputs": [],
   "source": [
    "# data_med = median imputation\n",
    "# data_999 = 999 coded for missingness\n",
    "# data_SRC = randomForestSRC imputated"
   ]
  },
  {
   "cell_type": "code",
   "execution_count": 19,
   "metadata": {},
   "outputs": [],
   "source": [
    "for (col in c('nadc.1', 'nfa.1', 'cbvn_nlin', 'recov_npar', 'ccri', 'cni', 'ncre', 'ncho', 'nnaa')){\n",
    "    \n",
    "    ## normalize the training data & then the testing data w/ training params: \n",
    "    mean_col = mean(data_xy[,col], na.rm = T)\n",
    "    sd_col   = sd(data_xy[,col], na.rm = T)    \n",
    "    data_xy[,col] = (data_xy[,col]-mean_col)/sd_col\n",
    "    data_xy[,col]  = (data_xy[,col]-mean_col)/sd_col \n",
    "}\n",
    "\n",
    "data_999 = data_xy\n",
    "data_med = data_xy\n",
    "\n",
    "## fill in the data_999 training and testing w/ 999 for missing data: \n",
    "for (col in c('nadc.1', 'nfa.1', 'cbvn_nlin', 'recov_npar', 'ccri', 'cni', 'ncre', 'ncho', 'nnaa')){\n",
    "    \n",
    "    data_999[,col] = ifelse(is.na(data_999[,col]), 999, data_999[,col])\n",
    "    \n",
    "    ## fill in the data_med training & testing w/ median of column from training: \n",
    "    data_med[,col] = ifelse(is.na(data_med[,col]), \n",
    "                                  median(data_med[,col], na.rm = T), \n",
    "                                  data_med[,col])\n",
    "}\n",
    "    "
   ]
  },
  {
   "cell_type": "code",
   "execution_count": 38,
   "metadata": {},
   "outputs": [
    {
     "data": {
      "text/html": [
       "<table>\n",
       "<thead><tr><th></th><th scope=col>t_number_y</th><th scope=col>nadc.1</th><th scope=col>nfa.1</th><th scope=col>cbvn_nlin</th><th scope=col>recov_npar</th><th scope=col>ccri</th><th scope=col>cni</th><th scope=col>ncre</th><th scope=col>ncho</th><th scope=col>nnaa</th><th scope=col>in_CEL</th><th scope=col>outcome</th><th scope=col>hasDiffu</th><th scope=col>hasPerf</th><th scope=col>hasSpec</th></tr></thead>\n",
       "<tbody>\n",
       "\t<tr><th scope=row>1</th><td>10366       </td><td>-7.6361641  </td><td>-2.340534   </td><td>-1.8617642  </td><td>-6.501101   </td><td> -0.8629221 </td><td> -1.0502682 </td><td> -1.24783057</td><td> -1.6434583 </td><td> -0.2874902 </td><td>0           </td><td>txe         </td><td>1           </td><td>1           </td><td>1           </td></tr>\n",
       "\t<tr><th scope=row>3</th><td>10448       </td><td>-3.7657314  </td><td>-5.657153   </td><td>-0.7084923  </td><td>-6.494979   </td><td>999.0000000 </td><td>999.0000000 </td><td>999.00000000</td><td>999.0000000 </td><td>999.0000000 </td><td>1           </td><td>rHGG        </td><td>1           </td><td>1           </td><td>0           </td></tr>\n",
       "\t<tr><th scope=row>4</th><td>10594       </td><td> 0.6830418  </td><td>-2.541541   </td><td>-1.3833700  </td><td>-6.613393   </td><td>999.0000000 </td><td>999.0000000 </td><td>999.00000000</td><td>999.0000000 </td><td>999.0000000 </td><td>0           </td><td>txe         </td><td>1           </td><td>1           </td><td>0           </td></tr>\n",
       "\t<tr><th scope=row>5</th><td>10594       </td><td>-1.5413448  </td><td>-6.461182   </td><td>-1.9728200  </td><td>-6.494979   </td><td> -0.9687188 </td><td> -1.0092467 </td><td> -0.55568202</td><td> -1.6323510 </td><td> -1.3228354 </td><td>0           </td><td>rHGG        </td><td>1           </td><td>1           </td><td>1           </td></tr>\n",
       "\t<tr><th scope=row>6</th><td>10594       </td><td>-3.8547069  </td><td>-3.345570   </td><td>-2.0667903  </td><td>-6.494979   </td><td> -0.8069121 </td><td> -0.7459747 </td><td>  0.04994797</td><td> -0.9992373 </td><td> -3.7041293 </td><td>0           </td><td>rHGG        </td><td>1           </td><td>1           </td><td>1           </td></tr>\n",
       "\t<tr><th scope=row>7</th><td>10594       </td><td> 2.5070388  </td><td>-6.461182   </td><td>-2.4255861  </td><td>-6.494979   </td><td> -0.8318054 </td><td> -0.9418981 </td><td>  0.35276296</td><td> -0.6882341 </td><td>  2.6114763 </td><td>0           </td><td>rHGG        </td><td>1           </td><td>1           </td><td>1           </td></tr>\n",
       "</tbody>\n",
       "</table>\n"
      ],
      "text/latex": [
       "\\begin{tabular}{r|lllllllllllllll}\n",
       "  & t\\_number\\_y & nadc.1 & nfa.1 & cbvn\\_nlin & recov\\_npar & ccri & cni & ncre & ncho & nnaa & in\\_CEL & outcome & hasDiffu & hasPerf & hasSpec\\\\\n",
       "\\hline\n",
       "\t1 & 10366        & -7.6361641   & -2.340534    & -1.8617642   & -6.501101    &  -0.8629221  &  -1.0502682  &  -1.24783057 &  -1.6434583  &  -0.2874902  & 0            & txe          & 1            & 1            & 1           \\\\\n",
       "\t3 & 10448        & -3.7657314   & -5.657153    & -0.7084923   & -6.494979    & 999.0000000  & 999.0000000  & 999.00000000 & 999.0000000  & 999.0000000  & 1            & rHGG         & 1            & 1            & 0           \\\\\n",
       "\t4 & 10594        &  0.6830418   & -2.541541    & -1.3833700   & -6.613393    & 999.0000000  & 999.0000000  & 999.00000000 & 999.0000000  & 999.0000000  & 0            & txe          & 1            & 1            & 0           \\\\\n",
       "\t5 & 10594        & -1.5413448   & -6.461182    & -1.9728200   & -6.494979    &  -0.9687188  &  -1.0092467  &  -0.55568202 &  -1.6323510  &  -1.3228354  & 0            & rHGG         & 1            & 1            & 1           \\\\\n",
       "\t6 & 10594        & -3.8547069   & -3.345570    & -2.0667903   & -6.494979    &  -0.8069121  &  -0.7459747  &   0.04994797 &  -0.9992373  &  -3.7041293  & 0            & rHGG         & 1            & 1            & 1           \\\\\n",
       "\t7 & 10594        &  2.5070388   & -6.461182    & -2.4255861   & -6.494979    &  -0.8318054  &  -0.9418981  &   0.35276296 &  -0.6882341  &   2.6114763  & 0            & rHGG         & 1            & 1            & 1           \\\\\n",
       "\\end{tabular}\n"
      ],
      "text/markdown": [
       "\n",
       "| <!--/--> | t_number_y | nadc.1 | nfa.1 | cbvn_nlin | recov_npar | ccri | cni | ncre | ncho | nnaa | in_CEL | outcome | hasDiffu | hasPerf | hasSpec | \n",
       "|---|---|---|---|---|---|\n",
       "| 1 | 10366        | -7.6361641   | -2.340534    | -1.8617642   | -6.501101    |  -0.8629221  |  -1.0502682  |  -1.24783057 |  -1.6434583  |  -0.2874902  | 0            | txe          | 1            | 1            | 1            | \n",
       "| 3 | 10448        | -3.7657314   | -5.657153    | -0.7084923   | -6.494979    | 999.0000000  | 999.0000000  | 999.00000000 | 999.0000000  | 999.0000000  | 1            | rHGG         | 1            | 1            | 0            | \n",
       "| 4 | 10594        |  0.6830418   | -2.541541    | -1.3833700   | -6.613393    | 999.0000000  | 999.0000000  | 999.00000000 | 999.0000000  | 999.0000000  | 0            | txe          | 1            | 1            | 0            | \n",
       "| 5 | 10594        | -1.5413448   | -6.461182    | -1.9728200   | -6.494979    |  -0.9687188  |  -1.0092467  |  -0.55568202 |  -1.6323510  |  -1.3228354  | 0            | rHGG         | 1            | 1            | 1            | \n",
       "| 6 | 10594        | -3.8547069   | -3.345570    | -2.0667903   | -6.494979    |  -0.8069121  |  -0.7459747  |   0.04994797 |  -0.9992373  |  -3.7041293  | 0            | rHGG         | 1            | 1            | 1            | \n",
       "| 7 | 10594        |  2.5070388   | -6.461182    | -2.4255861   | -6.494979    |  -0.8318054  |  -0.9418981  |   0.35276296 |  -0.6882341  |   2.6114763  | 0            | rHGG         | 1            | 1            | 1            | \n",
       "\n",
       "\n"
      ],
      "text/plain": [
       "  t_number_y nadc.1     nfa.1     cbvn_nlin  recov_npar ccri        cni        \n",
       "1 10366      -7.6361641 -2.340534 -1.8617642 -6.501101   -0.8629221  -1.0502682\n",
       "3 10448      -3.7657314 -5.657153 -0.7084923 -6.494979  999.0000000 999.0000000\n",
       "4 10594       0.6830418 -2.541541 -1.3833700 -6.613393  999.0000000 999.0000000\n",
       "5 10594      -1.5413448 -6.461182 -1.9728200 -6.494979   -0.9687188  -1.0092467\n",
       "6 10594      -3.8547069 -3.345570 -2.0667903 -6.494979   -0.8069121  -0.7459747\n",
       "7 10594       2.5070388 -6.461182 -2.4255861 -6.494979   -0.8318054  -0.9418981\n",
       "  ncre         ncho        nnaa        in_CEL outcome hasDiffu hasPerf hasSpec\n",
       "1  -1.24783057  -1.6434583  -0.2874902 0      txe     1        1       1      \n",
       "3 999.00000000 999.0000000 999.0000000 1      rHGG    1        1       0      \n",
       "4 999.00000000 999.0000000 999.0000000 0      txe     1        1       0      \n",
       "5  -0.55568202  -1.6323510  -1.3228354 0      rHGG    1        1       1      \n",
       "6   0.04994797  -0.9992373  -3.7041293 0      rHGG    1        1       1      \n",
       "7   0.35276296  -0.6882341   2.6114763 0      rHGG    1        1       1      "
      ]
     },
     "metadata": {},
     "output_type": "display_data"
    }
   ],
   "source": [
    "head(data_999)"
   ]
  },
  {
   "cell_type": "code",
   "execution_count": 39,
   "metadata": {},
   "outputs": [
    {
     "data": {
      "text/html": [
       "<table>\n",
       "<thead><tr><th></th><th scope=col>t_number_y</th><th scope=col>nadc.1</th><th scope=col>nfa.1</th><th scope=col>cbvn_nlin</th><th scope=col>recov_npar</th><th scope=col>ccri</th><th scope=col>cni</th><th scope=col>ncre</th><th scope=col>ncho</th><th scope=col>nnaa</th><th scope=col>in_CEL</th><th scope=col>outcome</th><th scope=col>hasDiffu</th><th scope=col>hasPerf</th><th scope=col>hasSpec</th></tr></thead>\n",
       "<tbody>\n",
       "\t<tr><th scope=row>1</th><td>10366      </td><td>-7.6361641 </td><td>-2.340534  </td><td>-1.8617642 </td><td>-6.501101  </td><td>-0.8629221 </td><td>-1.0502682 </td><td>-1.24783057</td><td>-1.6434583 </td><td>-0.2874902 </td><td>0          </td><td>txe        </td><td>1          </td><td>1          </td><td>1          </td></tr>\n",
       "\t<tr><th scope=row>3</th><td>10448      </td><td>-3.7657314 </td><td>-5.657153  </td><td>-0.7084923 </td><td>-6.494979  </td><td>-0.8828368 </td><td>-1.0233287 </td><td>-1.09642308</td><td>-1.5434930 </td><td>-1.7369735 </td><td>1          </td><td>rHGG       </td><td>1          </td><td>1          </td><td>0          </td></tr>\n",
       "\t<tr><th scope=row>4</th><td>10594      </td><td> 0.6830418 </td><td>-2.541541  </td><td>-1.3833700 </td><td>-6.613393  </td><td>-0.8828368 </td><td>-1.0233287 </td><td>-1.09642308</td><td>-1.5434930 </td><td>-1.7369735 </td><td>0          </td><td>txe        </td><td>1          </td><td>1          </td><td>0          </td></tr>\n",
       "\t<tr><th scope=row>5</th><td>10594      </td><td>-1.5413448 </td><td>-6.461182  </td><td>-1.9728200 </td><td>-6.494979  </td><td>-0.9687188 </td><td>-1.0092467 </td><td>-0.55568202</td><td>-1.6323510 </td><td>-1.3228354 </td><td>0          </td><td>rHGG       </td><td>1          </td><td>1          </td><td>1          </td></tr>\n",
       "\t<tr><th scope=row>6</th><td>10594      </td><td>-3.8547069 </td><td>-3.345570  </td><td>-2.0667903 </td><td>-6.494979  </td><td>-0.8069121 </td><td>-0.7459747 </td><td> 0.04994797</td><td>-0.9992373 </td><td>-3.7041293 </td><td>0          </td><td>rHGG       </td><td>1          </td><td>1          </td><td>1          </td></tr>\n",
       "\t<tr><th scope=row>7</th><td>10594      </td><td> 2.5070388 </td><td>-6.461182  </td><td>-2.4255861 </td><td>-6.494979  </td><td>-0.8318054 </td><td>-0.9418981 </td><td> 0.35276296</td><td>-0.6882341 </td><td> 2.6114763 </td><td>0          </td><td>rHGG       </td><td>1          </td><td>1          </td><td>1          </td></tr>\n",
       "</tbody>\n",
       "</table>\n"
      ],
      "text/latex": [
       "\\begin{tabular}{r|lllllllllllllll}\n",
       "  & t\\_number\\_y & nadc.1 & nfa.1 & cbvn\\_nlin & recov\\_npar & ccri & cni & ncre & ncho & nnaa & in\\_CEL & outcome & hasDiffu & hasPerf & hasSpec\\\\\n",
       "\\hline\n",
       "\t1 & 10366       & -7.6361641  & -2.340534   & -1.8617642  & -6.501101   & -0.8629221  & -1.0502682  & -1.24783057 & -1.6434583  & -0.2874902  & 0           & txe         & 1           & 1           & 1          \\\\\n",
       "\t3 & 10448       & -3.7657314  & -5.657153   & -0.7084923  & -6.494979   & -0.8828368  & -1.0233287  & -1.09642308 & -1.5434930  & -1.7369735  & 1           & rHGG        & 1           & 1           & 0          \\\\\n",
       "\t4 & 10594       &  0.6830418  & -2.541541   & -1.3833700  & -6.613393   & -0.8828368  & -1.0233287  & -1.09642308 & -1.5434930  & -1.7369735  & 0           & txe         & 1           & 1           & 0          \\\\\n",
       "\t5 & 10594       & -1.5413448  & -6.461182   & -1.9728200  & -6.494979   & -0.9687188  & -1.0092467  & -0.55568202 & -1.6323510  & -1.3228354  & 0           & rHGG        & 1           & 1           & 1          \\\\\n",
       "\t6 & 10594       & -3.8547069  & -3.345570   & -2.0667903  & -6.494979   & -0.8069121  & -0.7459747  &  0.04994797 & -0.9992373  & -3.7041293  & 0           & rHGG        & 1           & 1           & 1          \\\\\n",
       "\t7 & 10594       &  2.5070388  & -6.461182   & -2.4255861  & -6.494979   & -0.8318054  & -0.9418981  &  0.35276296 & -0.6882341  &  2.6114763  & 0           & rHGG        & 1           & 1           & 1          \\\\\n",
       "\\end{tabular}\n"
      ],
      "text/markdown": [
       "\n",
       "| <!--/--> | t_number_y | nadc.1 | nfa.1 | cbvn_nlin | recov_npar | ccri | cni | ncre | ncho | nnaa | in_CEL | outcome | hasDiffu | hasPerf | hasSpec | \n",
       "|---|---|---|---|---|---|\n",
       "| 1 | 10366       | -7.6361641  | -2.340534   | -1.8617642  | -6.501101   | -0.8629221  | -1.0502682  | -1.24783057 | -1.6434583  | -0.2874902  | 0           | txe         | 1           | 1           | 1           | \n",
       "| 3 | 10448       | -3.7657314  | -5.657153   | -0.7084923  | -6.494979   | -0.8828368  | -1.0233287  | -1.09642308 | -1.5434930  | -1.7369735  | 1           | rHGG        | 1           | 1           | 0           | \n",
       "| 4 | 10594       |  0.6830418  | -2.541541   | -1.3833700  | -6.613393   | -0.8828368  | -1.0233287  | -1.09642308 | -1.5434930  | -1.7369735  | 0           | txe         | 1           | 1           | 0           | \n",
       "| 5 | 10594       | -1.5413448  | -6.461182   | -1.9728200  | -6.494979   | -0.9687188  | -1.0092467  | -0.55568202 | -1.6323510  | -1.3228354  | 0           | rHGG        | 1           | 1           | 1           | \n",
       "| 6 | 10594       | -3.8547069  | -3.345570   | -2.0667903  | -6.494979   | -0.8069121  | -0.7459747  |  0.04994797 | -0.9992373  | -3.7041293  | 0           | rHGG        | 1           | 1           | 1           | \n",
       "| 7 | 10594       |  2.5070388  | -6.461182   | -2.4255861  | -6.494979   | -0.8318054  | -0.9418981  |  0.35276296 | -0.6882341  |  2.6114763  | 0           | rHGG        | 1           | 1           | 1           | \n",
       "\n",
       "\n"
      ],
      "text/plain": [
       "  t_number_y nadc.1     nfa.1     cbvn_nlin  recov_npar ccri       cni       \n",
       "1 10366      -7.6361641 -2.340534 -1.8617642 -6.501101  -0.8629221 -1.0502682\n",
       "3 10448      -3.7657314 -5.657153 -0.7084923 -6.494979  -0.8828368 -1.0233287\n",
       "4 10594       0.6830418 -2.541541 -1.3833700 -6.613393  -0.8828368 -1.0233287\n",
       "5 10594      -1.5413448 -6.461182 -1.9728200 -6.494979  -0.9687188 -1.0092467\n",
       "6 10594      -3.8547069 -3.345570 -2.0667903 -6.494979  -0.8069121 -0.7459747\n",
       "7 10594       2.5070388 -6.461182 -2.4255861 -6.494979  -0.8318054 -0.9418981\n",
       "  ncre        ncho       nnaa       in_CEL outcome hasDiffu hasPerf hasSpec\n",
       "1 -1.24783057 -1.6434583 -0.2874902 0      txe     1        1       1      \n",
       "3 -1.09642308 -1.5434930 -1.7369735 1      rHGG    1        1       0      \n",
       "4 -1.09642308 -1.5434930 -1.7369735 0      txe     1        1       0      \n",
       "5 -0.55568202 -1.6323510 -1.3228354 0      rHGG    1        1       1      \n",
       "6  0.04994797 -0.9992373 -3.7041293 0      rHGG    1        1       1      \n",
       "7  0.35276296 -0.6882341  2.6114763 0      rHGG    1        1       1      "
      ]
     },
     "metadata": {},
     "output_type": "display_data"
    }
   ],
   "source": [
    "head(data_med)"
   ]
  },
  {
   "cell_type": "code",
   "execution_count": 20,
   "metadata": {},
   "outputs": [],
   "source": [
    "indicators = c('hasDiffu', 'hasPerf', 'hasSpec')"
   ]
  },
  {
   "cell_type": "code",
   "execution_count": 21,
   "metadata": {},
   "outputs": [
    {
     "data": {
      "text/html": [
       "<table>\n",
       "<thead><tr><th></th><th scope=col>t_number_y</th><th scope=col>nadc.1</th><th scope=col>nfa.1</th><th scope=col>cbvn_nlin</th><th scope=col>recov_npar</th><th scope=col>ccri</th><th scope=col>cni</th><th scope=col>ncre</th><th scope=col>ncho</th><th scope=col>nnaa</th><th scope=col>in_CEL</th><th scope=col>outcome</th><th scope=col>hasDiffu</th><th scope=col>hasPerf</th><th scope=col>hasSpec</th></tr></thead>\n",
       "<tbody>\n",
       "\t<tr><th scope=row>1</th><td>10366      </td><td>-7.6361641 </td><td>-2.340534  </td><td>-1.8617642 </td><td>-6.501101  </td><td>-0.8629221 </td><td>-1.0502682 </td><td>-1.24783057</td><td>-1.6434583 </td><td>-0.2874902 </td><td>0          </td><td>txe        </td><td>1          </td><td>1          </td><td>1          </td></tr>\n",
       "\t<tr><th scope=row>3</th><td>10448      </td><td>-3.7657314 </td><td>-5.657153  </td><td>-0.7084923 </td><td>-6.494979  </td><td>-0.7657553 </td><td>-0.9837086 </td><td>-1.13649273</td><td>-1.3882206 </td><td>-1.2308903 </td><td>1          </td><td>rHGG       </td><td>1          </td><td>1          </td><td>0          </td></tr>\n",
       "\t<tr><th scope=row>4</th><td>10594      </td><td> 0.6830418 </td><td>-2.541541  </td><td>-1.3833700 </td><td>-6.613393  </td><td>-0.8311605 </td><td>-0.9970741 </td><td>-0.90516468</td><td>-1.4394783 </td><td>-0.9242727 </td><td>0          </td><td>txe        </td><td>1          </td><td>1          </td><td>0          </td></tr>\n",
       "\t<tr><th scope=row>5</th><td>10594      </td><td>-1.5413448 </td><td>-6.461182  </td><td>-1.9728200 </td><td>-6.494979  </td><td>-0.9687188 </td><td>-1.0092467 </td><td>-0.55568202</td><td>-1.6323510 </td><td>-1.3228354 </td><td>0          </td><td>rHGG       </td><td>1          </td><td>1          </td><td>1          </td></tr>\n",
       "\t<tr><th scope=row>6</th><td>10594      </td><td>-3.8547069 </td><td>-3.345570  </td><td>-2.0667903 </td><td>-6.494979  </td><td>-0.8069121 </td><td>-0.7459747 </td><td> 0.04994797</td><td>-0.9992373 </td><td>-3.7041293 </td><td>0          </td><td>rHGG       </td><td>1          </td><td>1          </td><td>1          </td></tr>\n",
       "\t<tr><th scope=row>7</th><td>10594      </td><td> 2.5070388 </td><td>-6.461182  </td><td>-2.4255861 </td><td>-6.494979  </td><td>-0.8318054 </td><td>-0.9418981 </td><td> 0.35276296</td><td>-0.6882341 </td><td> 2.6114763 </td><td>0          </td><td>rHGG       </td><td>1          </td><td>1          </td><td>1          </td></tr>\n",
       "</tbody>\n",
       "</table>\n"
      ],
      "text/latex": [
       "\\begin{tabular}{r|lllllllllllllll}\n",
       "  & t\\_number\\_y & nadc.1 & nfa.1 & cbvn\\_nlin & recov\\_npar & ccri & cni & ncre & ncho & nnaa & in\\_CEL & outcome & hasDiffu & hasPerf & hasSpec\\\\\n",
       "\\hline\n",
       "\t1 & 10366       & -7.6361641  & -2.340534   & -1.8617642  & -6.501101   & -0.8629221  & -1.0502682  & -1.24783057 & -1.6434583  & -0.2874902  & 0           & txe         & 1           & 1           & 1          \\\\\n",
       "\t3 & 10448       & -3.7657314  & -5.657153   & -0.7084923  & -6.494979   & -0.7657553  & -0.9837086  & -1.13649273 & -1.3882206  & -1.2308903  & 1           & rHGG        & 1           & 1           & 0          \\\\\n",
       "\t4 & 10594       &  0.6830418  & -2.541541   & -1.3833700  & -6.613393   & -0.8311605  & -0.9970741  & -0.90516468 & -1.4394783  & -0.9242727  & 0           & txe         & 1           & 1           & 0          \\\\\n",
       "\t5 & 10594       & -1.5413448  & -6.461182   & -1.9728200  & -6.494979   & -0.9687188  & -1.0092467  & -0.55568202 & -1.6323510  & -1.3228354  & 0           & rHGG        & 1           & 1           & 1          \\\\\n",
       "\t6 & 10594       & -3.8547069  & -3.345570   & -2.0667903  & -6.494979   & -0.8069121  & -0.7459747  &  0.04994797 & -0.9992373  & -3.7041293  & 0           & rHGG        & 1           & 1           & 1          \\\\\n",
       "\t7 & 10594       &  2.5070388  & -6.461182   & -2.4255861  & -6.494979   & -0.8318054  & -0.9418981  &  0.35276296 & -0.6882341  &  2.6114763  & 0           & rHGG        & 1           & 1           & 1          \\\\\n",
       "\\end{tabular}\n"
      ],
      "text/markdown": [
       "\n",
       "| <!--/--> | t_number_y | nadc.1 | nfa.1 | cbvn_nlin | recov_npar | ccri | cni | ncre | ncho | nnaa | in_CEL | outcome | hasDiffu | hasPerf | hasSpec | \n",
       "|---|---|---|---|---|---|\n",
       "| 1 | 10366       | -7.6361641  | -2.340534   | -1.8617642  | -6.501101   | -0.8629221  | -1.0502682  | -1.24783057 | -1.6434583  | -0.2874902  | 0           | txe         | 1           | 1           | 1           | \n",
       "| 3 | 10448       | -3.7657314  | -5.657153   | -0.7084923  | -6.494979   | -0.7657553  | -0.9837086  | -1.13649273 | -1.3882206  | -1.2308903  | 1           | rHGG        | 1           | 1           | 0           | \n",
       "| 4 | 10594       |  0.6830418  | -2.541541   | -1.3833700  | -6.613393   | -0.8311605  | -0.9970741  | -0.90516468 | -1.4394783  | -0.9242727  | 0           | txe         | 1           | 1           | 0           | \n",
       "| 5 | 10594       | -1.5413448  | -6.461182   | -1.9728200  | -6.494979   | -0.9687188  | -1.0092467  | -0.55568202 | -1.6323510  | -1.3228354  | 0           | rHGG        | 1           | 1           | 1           | \n",
       "| 6 | 10594       | -3.8547069  | -3.345570   | -2.0667903  | -6.494979   | -0.8069121  | -0.7459747  |  0.04994797 | -0.9992373  | -3.7041293  | 0           | rHGG        | 1           | 1           | 1           | \n",
       "| 7 | 10594       |  2.5070388  | -6.461182   | -2.4255861  | -6.494979   | -0.8318054  | -0.9418981  |  0.35276296 | -0.6882341  |  2.6114763  | 0           | rHGG        | 1           | 1           | 1           | \n",
       "\n",
       "\n"
      ],
      "text/plain": [
       "  t_number_y nadc.1     nfa.1     cbvn_nlin  recov_npar ccri       cni       \n",
       "1 10366      -7.6361641 -2.340534 -1.8617642 -6.501101  -0.8629221 -1.0502682\n",
       "3 10448      -3.7657314 -5.657153 -0.7084923 -6.494979  -0.7657553 -0.9837086\n",
       "4 10594       0.6830418 -2.541541 -1.3833700 -6.613393  -0.8311605 -0.9970741\n",
       "5 10594      -1.5413448 -6.461182 -1.9728200 -6.494979  -0.9687188 -1.0092467\n",
       "6 10594      -3.8547069 -3.345570 -2.0667903 -6.494979  -0.8069121 -0.7459747\n",
       "7 10594       2.5070388 -6.461182 -2.4255861 -6.494979  -0.8318054 -0.9418981\n",
       "  ncre        ncho       nnaa       in_CEL outcome hasDiffu hasPerf hasSpec\n",
       "1 -1.24783057 -1.6434583 -0.2874902 0      txe     1        1       1      \n",
       "3 -1.13649273 -1.3882206 -1.2308903 1      rHGG    1        1       0      \n",
       "4 -0.90516468 -1.4394783 -0.9242727 0      txe     1        1       0      \n",
       "5 -0.55568202 -1.6323510 -1.3228354 0      rHGG    1        1       1      \n",
       "6  0.04994797 -0.9992373 -3.7041293 0      rHGG    1        1       1      \n",
       "7  0.35276296 -0.6882341  2.6114763 0      rHGG    1        1       1      "
      ]
     },
     "metadata": {},
     "output_type": "display_data"
    }
   ],
   "source": [
    "data_src = randomForestSRC::impute(data = data_xy)\n",
    "head(data_src)"
   ]
  },
  {
   "cell_type": "markdown",
   "metadata": {},
   "source": [
    "## using RFs: "
   ]
  },
  {
   "cell_type": "code",
   "execution_count": 22,
   "metadata": {},
   "outputs": [],
   "source": [
    "outcome = \"outcome\"\n",
    "features = c('in_CEL', 'cbvn_nlin', 'recov_npar',\n",
    "             'ccri', 'cni', 'ncho', 'ncre', 'nnaa', 'nfa.1', 'nadc.1',\n",
    "            'hasPerf', 'hasSpec', 'hasDiffu')\n",
    "features.addsign <- paste(features, collapse = \"+\")\n",
    "rf_formula = as.formula(paste(outcome, features.addsign, sep = \"~\"))"
   ]
  },
  {
   "cell_type": "code",
   "execution_count": 23,
   "metadata": {},
   "outputs": [],
   "source": [
    "rf_999 = randomForest(formula = rf_formula, \n",
    "                   data = data.frame(data_999))\n",
    "rf_med = randomForest(formula = rf_formula, \n",
    "                   data = data.frame(data_med))\n",
    "rf_src = randomForest(formula = rf_formula, \n",
    "                   data = data.frame(data_src))"
   ]
  },
  {
   "cell_type": "code",
   "execution_count": 24,
   "metadata": {},
   "outputs": [
    {
     "data": {
      "text/html": [
       "<table>\n",
       "<thead><tr><th></th><th scope=col>MeanDecreaseGini</th><th scope=col>MeanDecreaseGini.1</th><th scope=col>MeanDecreaseGini.2</th></tr></thead>\n",
       "<tbody>\n",
       "\t<tr><th scope=row>in_CEL</th><td> 2.6175387</td><td> 2.3259716</td><td> 1.5717641</td></tr>\n",
       "\t<tr><th scope=row>cbvn_nlin</th><td>10.7914625</td><td>13.2322575</td><td>12.6598716</td></tr>\n",
       "\t<tr><th scope=row>recov_npar</th><td>11.2429610</td><td>13.0705713</td><td>14.5958434</td></tr>\n",
       "\t<tr><th scope=row>ccri</th><td> 4.7964405</td><td> 5.7237148</td><td>10.7137835</td></tr>\n",
       "\t<tr><th scope=row>cni</th><td> 5.7478277</td><td> 6.2662377</td><td>10.0341755</td></tr>\n",
       "\t<tr><th scope=row>ncho</th><td> 5.1739250</td><td> 5.9847905</td><td>10.5162501</td></tr>\n",
       "\t<tr><th scope=row>ncre</th><td> 4.9633316</td><td> 5.4198751</td><td>10.6890291</td></tr>\n",
       "\t<tr><th scope=row>nnaa</th><td> 6.2716373</td><td> 6.5594165</td><td>11.3134472</td></tr>\n",
       "\t<tr><th scope=row>nfa.1</th><td>11.2188406</td><td>11.6948739</td><td> 8.5949670</td></tr>\n",
       "\t<tr><th scope=row>nadc.1</th><td>12.2397478</td><td>13.6476912</td><td>10.6759539</td></tr>\n",
       "\t<tr><th scope=row>hasPerf</th><td> 1.4556000</td><td> 1.6606204</td><td> 1.4418038</td></tr>\n",
       "\t<tr><th scope=row>hasSpec</th><td> 0.6181543</td><td> 1.0206218</td><td> 1.1385956</td></tr>\n",
       "\t<tr><th scope=row>hasDiffu</th><td> 0.7019104</td><td> 0.9484513</td><td> 0.6254049</td></tr>\n",
       "</tbody>\n",
       "</table>\n"
      ],
      "text/latex": [
       "\\begin{tabular}{r|lll}\n",
       "  & MeanDecreaseGini & MeanDecreaseGini.1 & MeanDecreaseGini.2\\\\\n",
       "\\hline\n",
       "\tin\\_CEL &  2.6175387 &  2.3259716 &  1.5717641\\\\\n",
       "\tcbvn\\_nlin & 10.7914625 & 13.2322575 & 12.6598716\\\\\n",
       "\trecov\\_npar & 11.2429610 & 13.0705713 & 14.5958434\\\\\n",
       "\tccri &  4.7964405 &  5.7237148 & 10.7137835\\\\\n",
       "\tcni &  5.7478277 &  6.2662377 & 10.0341755\\\\\n",
       "\tncho &  5.1739250 &  5.9847905 & 10.5162501\\\\\n",
       "\tncre &  4.9633316 &  5.4198751 & 10.6890291\\\\\n",
       "\tnnaa &  6.2716373 &  6.5594165 & 11.3134472\\\\\n",
       "\tnfa.1 & 11.2188406 & 11.6948739 &  8.5949670\\\\\n",
       "\tnadc.1 & 12.2397478 & 13.6476912 & 10.6759539\\\\\n",
       "\thasPerf &  1.4556000 &  1.6606204 &  1.4418038\\\\\n",
       "\thasSpec &  0.6181543 &  1.0206218 &  1.1385956\\\\\n",
       "\thasDiffu &  0.7019104 &  0.9484513 &  0.6254049\\\\\n",
       "\\end{tabular}\n"
      ],
      "text/markdown": [
       "\n",
       "| <!--/--> | MeanDecreaseGini | MeanDecreaseGini.1 | MeanDecreaseGini.2 | \n",
       "|---|---|---|---|---|---|---|---|---|---|---|---|---|\n",
       "| in_CEL |  2.6175387 |  2.3259716 |  1.5717641 | \n",
       "| cbvn_nlin | 10.7914625 | 13.2322575 | 12.6598716 | \n",
       "| recov_npar | 11.2429610 | 13.0705713 | 14.5958434 | \n",
       "| ccri |  4.7964405 |  5.7237148 | 10.7137835 | \n",
       "| cni |  5.7478277 |  6.2662377 | 10.0341755 | \n",
       "| ncho |  5.1739250 |  5.9847905 | 10.5162501 | \n",
       "| ncre |  4.9633316 |  5.4198751 | 10.6890291 | \n",
       "| nnaa |  6.2716373 |  6.5594165 | 11.3134472 | \n",
       "| nfa.1 | 11.2188406 | 11.6948739 |  8.5949670 | \n",
       "| nadc.1 | 12.2397478 | 13.6476912 | 10.6759539 | \n",
       "| hasPerf |  1.4556000 |  1.6606204 |  1.4418038 | \n",
       "| hasSpec |  0.6181543 |  1.0206218 |  1.1385956 | \n",
       "| hasDiffu |  0.7019104 |  0.9484513 |  0.6254049 | \n",
       "\n",
       "\n"
      ],
      "text/plain": [
       "           MeanDecreaseGini MeanDecreaseGini.1 MeanDecreaseGini.2\n",
       "in_CEL      2.6175387        2.3259716          1.5717641        \n",
       "cbvn_nlin  10.7914625       13.2322575         12.6598716        \n",
       "recov_npar 11.2429610       13.0705713         14.5958434        \n",
       "ccri        4.7964405        5.7237148         10.7137835        \n",
       "cni         5.7478277        6.2662377         10.0341755        \n",
       "ncho        5.1739250        5.9847905         10.5162501        \n",
       "ncre        4.9633316        5.4198751         10.6890291        \n",
       "nnaa        6.2716373        6.5594165         11.3134472        \n",
       "nfa.1      11.2188406       11.6948739          8.5949670        \n",
       "nadc.1     12.2397478       13.6476912         10.6759539        \n",
       "hasPerf     1.4556000        1.6606204          1.4418038        \n",
       "hasSpec     0.6181543        1.0206218          1.1385956        \n",
       "hasDiffu    0.7019104        0.9484513          0.6254049        "
      ]
     },
     "metadata": {},
     "output_type": "display_data"
    }
   ],
   "source": [
    "data.frame(importance(rf_999), importance(rf_med), importance(rf_src))"
   ]
  },
  {
   "cell_type": "code",
   "execution_count": 25,
   "metadata": {},
   "outputs": [
    {
     "data": {
      "text/html": [
       "10.7914625387738"
      ],
      "text/latex": [
       "10.7914625387738"
      ],
      "text/markdown": [
       "10.7914625387738"
      ],
      "text/plain": [
       "[1] 10.79146"
      ]
     },
     "metadata": {},
     "output_type": "display_data"
    }
   ],
   "source": [
    "importance(rf_999)['cbvn_nlin',]"
   ]
  },
  {
   "cell_type": "markdown",
   "metadata": {},
   "source": [
    "## how important are the divisions for RF varImp scores? "
   ]
  },
  {
   "cell_type": "code",
   "execution_count": 26,
   "metadata": {},
   "outputs": [],
   "source": [
    "## let's extract confusion matrix and put that in a data frame: \n",
    "outcome_exp_template = data.frame(expnum = NA,\n",
    "tr_txe_pct = NA, \n",
    "cv_txe_pct = NA, \n",
    "tr_outtxe_predtxe = NA, \n",
    "tr_outtxe_predrHGG = NA, \n",
    "tr_outrHGG_predtxe = NA, \n",
    "tr_outrHGG_predrHGG = NA, \n",
    "cv_outtxe_predtxe = NA, \n",
    "cv_outtxe_predrHGG = NA, \n",
    "cv_outrHGG_predtxe = NA, \n",
    "cv_outrHGG_predrHGG = NA, \n",
    "varImp_in_CEL = NA, \n",
    "varImp_cbvn_nlin = NA, \n",
    "varImp_recov_npar = NA, \n",
    "varImp_ccri = NA, \n",
    "varImp_cni = NA, \n",
    "varImp_ncho = NA, \n",
    "varImp_ncre = NA, \n",
    "varImp_nnaa = NA, \n",
    "varImp_nfa.1 = NA, \n",
    "varImp_nadc.1 = NA, \n",
    "varImp_hasDiffu = NA, \n",
    "varImp_hasPerf = NA, \n",
    "varImp_hasSpec = NA)"
   ]
  },
  {
   "cell_type": "code",
   "execution_count": 27,
   "metadata": {},
   "outputs": [
    {
     "data": {
      "text/html": [
       "'varImp_nnaa'"
      ],
      "text/latex": [
       "'varImp\\_nnaa'"
      ],
      "text/markdown": [
       "'varImp_nnaa'"
      ],
      "text/plain": [
       "[1] \"varImp_nnaa\""
      ]
     },
     "metadata": {},
     "output_type": "display_data"
    }
   ],
   "source": [
    "varImp_col = paste('varImp_', col, sep = \"\")\n",
    "varImp_col"
   ]
  },
  {
   "cell_type": "code",
   "execution_count": 28,
   "metadata": {},
   "outputs": [],
   "source": [
    "outcome_999_experiment = outcome_exp_template"
   ]
  },
  {
   "cell_type": "code",
   "execution_count": 29,
   "metadata": {},
   "outputs": [
    {
     "name": "stdout",
     "output_type": "stream",
     "text": [
      "5.342 sec elapsed\n"
     ]
    }
   ],
   "source": [
    "## let's begin by running experiments for anatomic features only: \n",
    "## for each experiment, we'll run the random forest with a variety of parameters \n",
    "expnum = 1\n",
    "tic()\n",
    "for (i in 1:25){\n",
    "    set.seed(i)\n",
    "    \n",
    "    ## define features and outcome: \n",
    "    outcome = \"outcome\"\n",
    "    features = c('in_CEL', 'cbvn_nlin', 'recov_npar',\n",
    "                 'ccri', 'cni', 'ncho', 'ncre', 'nnaa', 'nfa.1', 'nadc.1',\n",
    "                'hasPerf', 'hasSpec', 'hasDiffu')\n",
    "    features.addsign <- paste(features, collapse = \"+\")\n",
    "    rf_formula = as.formula(paste(outcome, features.addsign, sep = \"~\"))\n",
    "    \n",
    "    ## define training and testing (from the training) basically for x-val: \n",
    "    unique_tnums = unique(data_999$t_number_y)\n",
    "    train_tnums = unique_tnums[sample(c(1:length(unique_tnums)), size = round(length(unique_tnums)*.75))]\n",
    "    test_tnums = unique_tnums[! unique_tnums %in% train_tnums]\n",
    "    \n",
    "    data_exp_999_train = data_999[data_999$t_number_y %in% train_tnums, ]\n",
    "    data_exp_999_cv    = data_999[! data_999$t_number_y %in% train_tnums, ]    \n",
    "    \n",
    "    rf_999 = randomForest(formula = rf_formula, \n",
    "             data = data_exp_999_train)\n",
    "    \n",
    "    importance_rf_999 = importance(rf_999)\n",
    "    \n",
    "    cv_999_preds = predict(rf_999, data_exp_999_cv)\n",
    "\n",
    "    cv_999_conf_mat = confusionMatrix(cv_999_preds, data_exp_999_cv$outcome)\n",
    "    \n",
    "    tr_txe_pct = table(data_exp_999_train$outcome)['txe']/sum(table(data_exp_999_train$outcome)['txe'], table(data_exp_999_train$outcome)['rHGG'])\n",
    "    cv_txe_pct = table(data_exp_999_cv$outcome)['txe']/sum(table(data_exp_999_cv$outcome)['txe'], table(data_exp_999_cv$outcome)['rHGG'])\n",
    "\n",
    "    outcome_999_experiment[expnum,'expnum'] = expnum\n",
    "    outcome_999_experiment[expnum,'tr_txe_pct'] = tr_txe_pct\n",
    "    outcome_999_experiment[expnum,'cv_txe_pct'] = cv_txe_pct\n",
    "    \n",
    "    outcome_999_experiment[expnum,'tr_outtxe_predtxe'] = rf_999$confusion['txe', 'txe']\n",
    "    outcome_999_experiment[expnum,'tr_outtxe_predrHGG'] = rf_999$confusion['txe', 'rHGG']\n",
    "    outcome_999_experiment[expnum,'tr_outrHGG_predtxe'] = rf_999$confusion['rHGG', 'txe']\n",
    "    outcome_999_experiment[expnum,'tr_outrHGG_predrHGG'] = rf_999$confusion['rHGG', 'rHGG']\n",
    "    outcome_999_experiment[expnum,'cv_outtxe_predtxe'] = cv_999_conf_mat$table['txe', 'txe']\n",
    "    outcome_999_experiment[expnum,'cv_outtxe_predrHGG'] = cv_999_conf_mat$table['txe', 'rHGG']\n",
    "    outcome_999_experiment[expnum,'cv_outrHGG_predtxe'] = cv_999_conf_mat$table['rHGG', 'txe']\n",
    "    outcome_999_experiment[expnum,'cv_outrHGG_predrHGG'] = cv_999_conf_mat$table['rHGG', 'rHGG']\n",
    "    \n",
    "    for (col in features){\n",
    "        varImp_col = paste('varImp_', col, sep = \"\")\n",
    "        outcome_999_experiment[expnum, varImp_col] = importance_rf_999[col,]\n",
    "    }\n",
    "      \n",
    "    expnum = expnum + 1\n",
    "\n",
    "}\n",
    "toc()"
   ]
  },
  {
   "cell_type": "code",
   "execution_count": 30,
   "metadata": {},
   "outputs": [],
   "source": [
    "outcome_med_experiment = outcome_exp_template"
   ]
  },
  {
   "cell_type": "code",
   "execution_count": 31,
   "metadata": {},
   "outputs": [
    {
     "name": "stdout",
     "output_type": "stream",
     "text": [
      "4.649 sec elapsed\n"
     ]
    }
   ],
   "source": [
    "## let's begin by running experiments for anatomic features only: \n",
    "## for each experiment, we'll run the random forest with a variety of parameters \n",
    "expnum = 1\n",
    "tic()\n",
    "for (i in 1:25){\n",
    "    set.seed(i)\n",
    "    \n",
    "    ## define features and outcome: \n",
    "    outcome = \"outcome\"\n",
    "    features = c('in_CEL', 'cbvn_nlin', 'recov_npar',\n",
    "                 'ccri', 'cni', 'ncho', 'ncre', 'nnaa', 'nfa.1', 'nadc.1',\n",
    "                'hasPerf', 'hasSpec', 'hasDiffu')\n",
    "    features.addsign <- paste(features, collapse = \"+\")\n",
    "    rf_formula = as.formula(paste(outcome, features.addsign, sep = \"~\"))\n",
    "    \n",
    "    ## define training and testing (from the training) basically for x-val: \n",
    "    unique_tnums = unique(data_med$t_number_y)\n",
    "    train_tnums = unique_tnums[sample(c(1:length(unique_tnums)), size = round(length(unique_tnums)*.75))]\n",
    "    test_tnums = unique_tnums[! unique_tnums %in% train_tnums]\n",
    "    \n",
    "    data_exp_med_train = data_med[data_med$t_number_y %in% train_tnums, ]\n",
    "    data_exp_med_cv    = data_med[! data_med$t_number_y %in% train_tnums, ]    \n",
    "    \n",
    "    rf_med = randomForest(formula = rf_formula, \n",
    "             data = data_exp_med_train)\n",
    "    \n",
    "    importance_rf_med = importance(rf_med)\n",
    "    \n",
    "    cv_med_preds = predict(rf_med, data_exp_med_cv)\n",
    "\n",
    "    cv_med_conf_mat = confusionMatrix(cv_med_preds, data_exp_med_cv$outcome)\n",
    "    \n",
    "    tr_txe_pct = table(data_exp_med_train$outcome)['txe']/sum(table(data_exp_med_train$outcome)['txe'], table(data_exp_med_train$outcome)['rHGG'])\n",
    "    cv_txe_pct = table(data_exp_med_cv$outcome)['txe']/sum(table(data_exp_med_cv$outcome)['txe'], table(data_exp_med_cv$outcome)['rHGG'])\n",
    "\n",
    "    outcome_med_experiment[expnum,'expnum'] = expnum\n",
    "    outcome_med_experiment[expnum,'tr_txe_pct'] = tr_txe_pct\n",
    "    outcome_med_experiment[expnum,'cv_txe_pct'] = cv_txe_pct\n",
    "    \n",
    "    outcome_med_experiment[expnum,'tr_outtxe_predtxe'] = rf_med$confusion['txe', 'txe']\n",
    "    outcome_med_experiment[expnum,'tr_outtxe_predrHGG'] = rf_med$confusion['txe', 'rHGG']\n",
    "    outcome_med_experiment[expnum,'tr_outrHGG_predtxe'] = rf_med$confusion['rHGG', 'txe']\n",
    "    outcome_med_experiment[expnum,'tr_outrHGG_predrHGG'] = rf_med$confusion['rHGG', 'rHGG']\n",
    "    outcome_med_experiment[expnum,'cv_outtxe_predtxe'] = cv_med_conf_mat$table['txe', 'txe']\n",
    "    outcome_med_experiment[expnum,'cv_outtxe_predrHGG'] = cv_med_conf_mat$table['txe', 'rHGG']\n",
    "    outcome_med_experiment[expnum,'cv_outrHGG_predtxe'] = cv_med_conf_mat$table['rHGG', 'txe']\n",
    "    outcome_med_experiment[expnum,'cv_outrHGG_predrHGG'] = cv_med_conf_mat$table['rHGG', 'rHGG']\n",
    "    \n",
    "    for (col in features){\n",
    "        varImp_col = paste('varImp_', col, sep = \"\")\n",
    "        outcome_med_experiment[expnum, varImp_col] = importance_rf_med[col,]\n",
    "    }\n",
    "      \n",
    "    expnum = expnum + 1\n",
    "\n",
    "}\n",
    "toc()"
   ]
  },
  {
   "cell_type": "code",
   "execution_count": 32,
   "metadata": {},
   "outputs": [],
   "source": [
    "outcome_src_experiment = outcome_exp_template"
   ]
  },
  {
   "cell_type": "code",
   "execution_count": 33,
   "metadata": {},
   "outputs": [
    {
     "name": "stdout",
     "output_type": "stream",
     "text": [
      "4.258 sec elapsed\n"
     ]
    }
   ],
   "source": [
    "## let's begin by running experiments for anatomic features only: \n",
    "## for each experiment, we'll run the random forest with a variety of parameters \n",
    "expnum = 1\n",
    "tic()\n",
    "for (i in 1:25){\n",
    "    set.seed(i)\n",
    "    \n",
    "    ## define features and outcome: \n",
    "    outcome = \"outcome\"\n",
    "    features = c('in_CEL', 'cbvn_nlin', 'recov_npar',\n",
    "                 'ccri', 'cni', 'ncho', 'ncre', 'nnaa', 'nfa.1', 'nadc.1',\n",
    "                'hasPerf', 'hasSpec', 'hasDiffu')\n",
    "    features.addsign <- paste(features, collapse = \"+\")\n",
    "    rf_formula = as.formula(paste(outcome, features.addsign, sep = \"~\"))\n",
    "    \n",
    "    ## define training and testing (from the training) basically for x-val: \n",
    "    unique_tnums = unique(data_src$t_number_y)\n",
    "    train_tnums = unique_tnums[sample(c(1:length(unique_tnums)), size = round(length(unique_tnums)*.75))]\n",
    "    test_tnums = unique_tnums[! unique_tnums %in% train_tnums]\n",
    "    \n",
    "    data_exp_src_train = data_src[data_src$t_number_y %in% train_tnums, ]\n",
    "    data_exp_src_cv    = data_src[! data_src$t_number_y %in% train_tnums, ]    \n",
    "    \n",
    "    rf_src = randomForest(formula = rf_formula, \n",
    "             data = data_exp_src_train)\n",
    "    \n",
    "    importance_rf_src = importance(rf_src)\n",
    "    \n",
    "    cv_src_preds = predict(rf_src, data_exp_src_cv)\n",
    "\n",
    "    cv_src_conf_mat = confusionMatrix(cv_src_preds, data_exp_src_cv$outcome)\n",
    "    \n",
    "    tr_txe_pct = table(data_exp_src_train$outcome)['txe']/sum(table(data_exp_src_train$outcome)['txe'], table(data_exp_src_train$outcome)['rHGG'])\n",
    "    cv_txe_pct = table(data_exp_src_cv$outcome)['txe']/sum(table(data_exp_src_cv$outcome)['txe'], table(data_exp_src_cv$outcome)['rHGG'])\n",
    "\n",
    "    outcome_src_experiment[expnum,'expnum'] = expnum\n",
    "    outcome_src_experiment[expnum,'tr_txe_pct'] = tr_txe_pct\n",
    "    outcome_src_experiment[expnum,'cv_txe_pct'] = cv_txe_pct\n",
    "    \n",
    "    outcome_src_experiment[expnum,'tr_outtxe_predtxe'] = rf_src$confusion['txe', 'txe']\n",
    "    outcome_src_experiment[expnum,'tr_outtxe_predrHGG'] = rf_src$confusion['txe', 'rHGG']\n",
    "    outcome_src_experiment[expnum,'tr_outrHGG_predtxe'] = rf_src$confusion['rHGG', 'txe']\n",
    "    outcome_src_experiment[expnum,'tr_outrHGG_predrHGG'] = rf_src$confusion['rHGG', 'rHGG']\n",
    "    outcome_src_experiment[expnum,'cv_outtxe_predtxe'] = cv_src_conf_mat$table['txe', 'txe']\n",
    "    outcome_src_experiment[expnum,'cv_outtxe_predrHGG'] = cv_src_conf_mat$table['txe', 'rHGG']\n",
    "    outcome_src_experiment[expnum,'cv_outrHGG_predtxe'] = cv_src_conf_mat$table['rHGG', 'txe']\n",
    "    outcome_src_experiment[expnum,'cv_outrHGG_predrHGG'] = cv_src_conf_mat$table['rHGG', 'rHGG']\n",
    "    \n",
    "    for (col in features){\n",
    "        varImp_col = paste('varImp_', col, sep = \"\")\n",
    "        outcome_src_experiment[expnum, varImp_col] = importance_rf_src[col,]\n",
    "    }\n",
    "      \n",
    "    expnum = expnum + 1\n",
    "\n",
    "}\n",
    "toc()"
   ]
  },
  {
   "cell_type": "code",
   "execution_count": 34,
   "metadata": {},
   "outputs": [],
   "source": [
    "varImp_999_outcome = outcome_999_experiment[,grep('varImp', colnames(outcome_999_experiment))]\n"
   ]
  },
  {
   "cell_type": "code",
   "execution_count": 41,
   "metadata": {},
   "outputs": [
    {
     "data": {
      "text/html": [
       "<table>\n",
       "<thead><tr><th scope=col>expnum</th><th scope=col>tr_txe_pct</th><th scope=col>cv_txe_pct</th><th scope=col>tr_outtxe_predtxe</th><th scope=col>tr_outtxe_predrHGG</th><th scope=col>tr_outrHGG_predtxe</th><th scope=col>tr_outrHGG_predrHGG</th><th scope=col>cv_outtxe_predtxe</th><th scope=col>cv_outtxe_predrHGG</th><th scope=col>cv_outrHGG_predtxe</th><th scope=col>⋯</th><th scope=col>varImp_ccri</th><th scope=col>varImp_cni</th><th scope=col>varImp_ncho</th><th scope=col>varImp_ncre</th><th scope=col>varImp_nnaa</th><th scope=col>varImp_nfa.1</th><th scope=col>varImp_nadc.1</th><th scope=col>varImp_hasDiffu</th><th scope=col>varImp_hasPerf</th><th scope=col>varImp_hasSpec</th></tr></thead>\n",
       "<tbody>\n",
       "\t<tr><td> 1       </td><td>0.2636364</td><td>0.1549296</td><td>5        </td><td>53       </td><td>15       </td><td>147      </td><td>1        </td><td>3        </td><td>10       </td><td>⋯        </td><td> 8.862558</td><td>8.051860 </td><td>8.300533 </td><td>7.654560 </td><td>8.810457 </td><td>7.969592 </td><td>7.843141 </td><td>0.5651417</td><td>1.5417217</td><td>1.1403965</td></tr>\n",
       "\t<tr><td> 2       </td><td>0.2153110</td><td>0.2926829</td><td>4        </td><td>41       </td><td> 4       </td><td>160      </td><td>0        </td><td>0        </td><td>24       </td><td>⋯        </td><td> 6.738636</td><td>7.178825 </td><td>7.932672 </td><td>6.899814 </td><td>9.249751 </td><td>6.582302 </td><td>7.887539 </td><td>0.6202989</td><td>0.9656164</td><td>1.0484444</td></tr>\n",
       "\t<tr><td> 3       </td><td>0.2046512</td><td>0.3289474</td><td>3        </td><td>41       </td><td> 4       </td><td>167      </td><td>1        </td><td>1        </td><td>24       </td><td>⋯        </td><td> 7.258039</td><td>6.610947 </td><td>6.044418 </td><td>7.152909 </td><td>8.206914 </td><td>5.655779 </td><td>8.858784 </td><td>0.6808009</td><td>0.9493801</td><td>0.9002774</td></tr>\n",
       "\t<tr><td> 4       </td><td>0.2614679</td><td>0.1643836</td><td>7        </td><td>50       </td><td>17       </td><td>144      </td><td>1        </td><td>8        </td><td>11       </td><td>⋯        </td><td> 8.626177</td><td>9.121878 </td><td>9.428400 </td><td>7.537560 </td><td>7.602605 </td><td>6.483465 </td><td>7.646419 </td><td>0.5834421</td><td>1.2133340</td><td>1.1011654</td></tr>\n",
       "\t<tr><td> 5       </td><td>0.2073733</td><td>0.3243243</td><td>3        </td><td>42       </td><td> 3       </td><td>169      </td><td>0        </td><td>2        </td><td>24       </td><td>⋯        </td><td> 6.962613</td><td>6.466602 </td><td>6.280854 </td><td>7.673746 </td><td>7.107289 </td><td>6.048186 </td><td>7.639433 </td><td>0.5515690</td><td>1.0935995</td><td>0.8220029</td></tr>\n",
       "\t<tr><td> 6       </td><td>0.2283105</td><td>0.2638889</td><td>3        </td><td>47       </td><td> 8       </td><td>161      </td><td>0        </td><td>1        </td><td>19       </td><td>⋯        </td><td> 8.014447</td><td>8.010203 </td><td>7.659189 </td><td>8.352429 </td><td>8.202030 </td><td>6.675909 </td><td>7.498649 </td><td>1.2124622</td><td>1.0629527</td><td>1.2310034</td></tr>\n",
       "\t<tr><td> 7       </td><td>0.2000000</td><td>0.3255814</td><td>1        </td><td>40       </td><td> 5       </td><td>159      </td><td>0        </td><td>0        </td><td>28       </td><td>⋯        </td><td> 6.725444</td><td>6.741884 </td><td>6.465448 </td><td>6.301609 </td><td>7.607665 </td><td>5.714386 </td><td>7.233903 </td><td>0.3644665</td><td>0.9743189</td><td>0.9661481</td></tr>\n",
       "\t<tr><td> 8       </td><td>0.2465116</td><td>0.2105263</td><td>5        </td><td>48       </td><td> 9       </td><td>153      </td><td>1        </td><td>1        </td><td>15       </td><td>⋯        </td><td> 7.852202</td><td>7.317576 </td><td>7.735797 </td><td>8.668463 </td><td>8.337519 </td><td>7.212642 </td><td>9.096954 </td><td>0.7779244</td><td>1.3632779</td><td>0.9320974</td></tr>\n",
       "\t<tr><td> 9       </td><td>0.2477064</td><td>0.2054795</td><td>3        </td><td>51       </td><td> 8       </td><td>156      </td><td>3        </td><td>3        </td><td>12       </td><td>⋯        </td><td> 7.078721</td><td>7.712088 </td><td>7.474832 </td><td>8.081056 </td><td>8.800576 </td><td>6.352050 </td><td>9.386630 </td><td>0.7183701</td><td>1.1336680</td><td>0.7314624</td></tr>\n",
       "\t<tr><td>10       </td><td>0.1895735</td><td>0.3625000</td><td>0        </td><td>40       </td><td> 6       </td><td>165      </td><td>1        </td><td>3        </td><td>28       </td><td>⋯        </td><td> 6.313975</td><td>6.672776 </td><td>6.841501 </td><td>6.156275 </td><td>6.868469 </td><td>5.654372 </td><td>6.209690 </td><td>0.3120123</td><td>1.1127450</td><td>0.9134257</td></tr>\n",
       "\t<tr><td>11       </td><td>0.2500000</td><td>0.1971831</td><td>6        </td><td>49       </td><td>12       </td><td>153      </td><td>0        </td><td>3        </td><td>14       </td><td>⋯        </td><td>10.211013</td><td>8.147244 </td><td>8.287047 </td><td>8.842704 </td><td>7.886179 </td><td>6.456533 </td><td>7.919410 </td><td>0.4837610</td><td>1.1277076</td><td>1.0315847</td></tr>\n",
       "\t<tr><td>12       </td><td>0.2398190</td><td>0.2285714</td><td>4        </td><td>49       </td><td> 9       </td><td>159      </td><td>0        </td><td>5        </td><td>16       </td><td>⋯        </td><td> 7.765270</td><td>7.540335 </td><td>8.004867 </td><td>7.432675 </td><td>8.164535 </td><td>7.011681 </td><td>8.404189 </td><td>0.5158598</td><td>1.0835493</td><td>0.9630944</td></tr>\n",
       "\t<tr><td>13       </td><td>0.2777778</td><td>0.1200000</td><td>9        </td><td>51       </td><td>15       </td><td>141      </td><td>1        </td><td>6        </td><td> 8       </td><td>⋯        </td><td> 8.684262</td><td>8.428484 </td><td>8.135433 </td><td>9.504619 </td><td>7.795676 </td><td>7.606282 </td><td>8.790084 </td><td>0.4429142</td><td>1.0926911</td><td>1.2096085</td></tr>\n",
       "\t<tr><td>14       </td><td>0.2432432</td><td>0.2173913</td><td>5        </td><td>49       </td><td> 5       </td><td>163      </td><td>0        </td><td>3        </td><td>15       </td><td>⋯        </td><td> 8.072897</td><td>7.589064 </td><td>7.608487 </td><td>7.657670 </td><td>8.733681 </td><td>7.197316 </td><td>7.796424 </td><td>0.4301724</td><td>1.0137471</td><td>1.1498764</td></tr>\n",
       "\t<tr><td>15       </td><td>0.2258065</td><td>0.2702703</td><td>3        </td><td>46       </td><td> 7       </td><td>161      </td><td>1        </td><td>4        </td><td>19       </td><td>⋯        </td><td> 7.403634</td><td>6.785775 </td><td>7.704614 </td><td>7.978826 </td><td>7.554350 </td><td>6.065499 </td><td>8.275488 </td><td>0.4994152</td><td>1.1846724</td><td>0.8909031</td></tr>\n",
       "\t<tr><td>16       </td><td>0.2217195</td><td>0.2857143</td><td>3        </td><td>46       </td><td>12       </td><td>160      </td><td>1        </td><td>0        </td><td>19       </td><td>⋯        </td><td> 7.791187</td><td>8.315559 </td><td>7.608737 </td><td>6.550858 </td><td>7.997558 </td><td>6.061370 </td><td>7.395744 </td><td>0.4203897</td><td>1.0034727</td><td>1.0253843</td></tr>\n",
       "\t<tr><td>17       </td><td>0.2027027</td><td>0.3478261</td><td>0        </td><td>45       </td><td> 3       </td><td>174      </td><td>0        </td><td>1        </td><td>24       </td><td>⋯        </td><td> 7.109922</td><td>6.816243 </td><td>7.125377 </td><td>6.191570 </td><td>7.756227 </td><td>6.768213 </td><td>6.917263 </td><td>0.4185225</td><td>0.9032270</td><td>1.0893534</td></tr>\n",
       "\t<tr><td>18       </td><td>0.2280702</td><td>0.2698413</td><td>3        </td><td>49       </td><td> 4       </td><td>172      </td><td>0        </td><td>2        </td><td>17       </td><td>⋯        </td><td> 8.144540</td><td>7.751978 </td><td>7.379614 </td><td>8.816414 </td><td>8.401329 </td><td>7.915006 </td><td>8.090248 </td><td>0.4635381</td><td>0.9273167</td><td>1.6961627</td></tr>\n",
       "\t<tr><td>19       </td><td>0.2432432</td><td>0.2173913</td><td>0        </td><td>54       </td><td> 6       </td><td>162      </td><td>0        </td><td>0        </td><td>15       </td><td>⋯        </td><td> 8.697046</td><td>7.875120 </td><td>7.988355 </td><td>8.519074 </td><td>8.964851 </td><td>7.018752 </td><td>8.577416 </td><td>0.7129148</td><td>1.0817595</td><td>1.0052167</td></tr>\n",
       "\t<tr><td>20       </td><td>0.2272727</td><td>0.2676056</td><td>2        </td><td>48       </td><td> 4       </td><td>166      </td><td>1        </td><td>1        </td><td>18       </td><td>⋯        </td><td> 8.788174</td><td>7.483082 </td><td>7.722764 </td><td>7.247246 </td><td>7.694547 </td><td>6.538747 </td><td>7.312288 </td><td>0.8952502</td><td>0.9369948</td><td>1.1511576</td></tr>\n",
       "\t<tr><td>21       </td><td>0.2197309</td><td>0.2941176</td><td>3        </td><td>46       </td><td>11       </td><td>163      </td><td>0        </td><td>1        </td><td>20       </td><td>⋯        </td><td> 7.661069</td><td>7.539127 </td><td>6.884848 </td><td>7.178542 </td><td>7.685191 </td><td>5.883816 </td><td>8.090198 </td><td>0.4797299</td><td>1.2166195</td><td>0.9694657</td></tr>\n",
       "\t<tr><td>22       </td><td>0.2177778</td><td>0.3030303</td><td>4        </td><td>45       </td><td> 8       </td><td>168      </td><td>0        </td><td>0        </td><td>20       </td><td>⋯        </td><td> 7.691252</td><td>8.105472 </td><td>7.023449 </td><td>7.399748 </td><td>8.084082 </td><td>6.319566 </td><td>7.836059 </td><td>0.2483775</td><td>1.1458776</td><td>1.2039623</td></tr>\n",
       "\t<tr><td>23       </td><td>0.2475728</td><td>0.2117647</td><td>4        </td><td>47       </td><td>12       </td><td>143      </td><td>1        </td><td>5        </td><td>17       </td><td>⋯        </td><td> 7.173478</td><td>7.672462 </td><td>7.287501 </td><td>6.939325 </td><td>8.740161 </td><td>7.217275 </td><td>7.273305 </td><td>0.2583765</td><td>1.2142079</td><td>1.2221187</td></tr>\n",
       "\t<tr><td>24       </td><td>0.2629108</td><td>0.1666667</td><td>9        </td><td>47       </td><td>13       </td><td>144      </td><td>0        </td><td>3        </td><td>13       </td><td>⋯        </td><td> 8.413358</td><td>7.818043 </td><td>8.158158 </td><td>8.977892 </td><td>7.990449 </td><td>7.258841 </td><td>7.988899 </td><td>0.5183421</td><td>1.2121704</td><td>0.8961333</td></tr>\n",
       "\t<tr><td>25       </td><td>0.2125604</td><td>0.2976190</td><td>3        </td><td>41       </td><td> 4       </td><td>159      </td><td>1        </td><td>5        </td><td>24       </td><td>⋯        </td><td> 7.414764</td><td>6.658151 </td><td>7.339009 </td><td>7.175580 </td><td>6.853868 </td><td>5.100181 </td><td>7.920753 </td><td>0.2403455</td><td>0.9807535</td><td>0.8520081</td></tr>\n",
       "</tbody>\n",
       "</table>\n"
      ],
      "text/latex": [
       "\\begin{tabular}{r|llllllllllllllllllllllll}\n",
       " expnum & tr\\_txe\\_pct & cv\\_txe\\_pct & tr\\_outtxe\\_predtxe & tr\\_outtxe\\_predrHGG & tr\\_outrHGG\\_predtxe & tr\\_outrHGG\\_predrHGG & cv\\_outtxe\\_predtxe & cv\\_outtxe\\_predrHGG & cv\\_outrHGG\\_predtxe & ⋯ & varImp\\_ccri & varImp\\_cni & varImp\\_ncho & varImp\\_ncre & varImp\\_nnaa & varImp\\_nfa.1 & varImp\\_nadc.1 & varImp\\_hasDiffu & varImp\\_hasPerf & varImp\\_hasSpec\\\\\n",
       "\\hline\n",
       "\t  1        & 0.2636364 & 0.1549296 & 5         & 53        & 15        & 147       & 1         & 3         & 10        & ⋯         &  8.862558 & 8.051860  & 8.300533  & 7.654560  & 8.810457  & 7.969592  & 7.843141  & 0.5651417 & 1.5417217 & 1.1403965\\\\\n",
       "\t  2        & 0.2153110 & 0.2926829 & 4         & 41        &  4        & 160       & 0         & 0         & 24        & ⋯         &  6.738636 & 7.178825  & 7.932672  & 6.899814  & 9.249751  & 6.582302  & 7.887539  & 0.6202989 & 0.9656164 & 1.0484444\\\\\n",
       "\t  3        & 0.2046512 & 0.3289474 & 3         & 41        &  4        & 167       & 1         & 1         & 24        & ⋯         &  7.258039 & 6.610947  & 6.044418  & 7.152909  & 8.206914  & 5.655779  & 8.858784  & 0.6808009 & 0.9493801 & 0.9002774\\\\\n",
       "\t  4        & 0.2614679 & 0.1643836 & 7         & 50        & 17        & 144       & 1         & 8         & 11        & ⋯         &  8.626177 & 9.121878  & 9.428400  & 7.537560  & 7.602605  & 6.483465  & 7.646419  & 0.5834421 & 1.2133340 & 1.1011654\\\\\n",
       "\t  5        & 0.2073733 & 0.3243243 & 3         & 42        &  3        & 169       & 0         & 2         & 24        & ⋯         &  6.962613 & 6.466602  & 6.280854  & 7.673746  & 7.107289  & 6.048186  & 7.639433  & 0.5515690 & 1.0935995 & 0.8220029\\\\\n",
       "\t  6        & 0.2283105 & 0.2638889 & 3         & 47        &  8        & 161       & 0         & 1         & 19        & ⋯         &  8.014447 & 8.010203  & 7.659189  & 8.352429  & 8.202030  & 6.675909  & 7.498649  & 1.2124622 & 1.0629527 & 1.2310034\\\\\n",
       "\t  7        & 0.2000000 & 0.3255814 & 1         & 40        &  5        & 159       & 0         & 0         & 28        & ⋯         &  6.725444 & 6.741884  & 6.465448  & 6.301609  & 7.607665  & 5.714386  & 7.233903  & 0.3644665 & 0.9743189 & 0.9661481\\\\\n",
       "\t  8        & 0.2465116 & 0.2105263 & 5         & 48        &  9        & 153       & 1         & 1         & 15        & ⋯         &  7.852202 & 7.317576  & 7.735797  & 8.668463  & 8.337519  & 7.212642  & 9.096954  & 0.7779244 & 1.3632779 & 0.9320974\\\\\n",
       "\t  9        & 0.2477064 & 0.2054795 & 3         & 51        &  8        & 156       & 3         & 3         & 12        & ⋯         &  7.078721 & 7.712088  & 7.474832  & 8.081056  & 8.800576  & 6.352050  & 9.386630  & 0.7183701 & 1.1336680 & 0.7314624\\\\\n",
       "\t 10        & 0.1895735 & 0.3625000 & 0         & 40        &  6        & 165       & 1         & 3         & 28        & ⋯         &  6.313975 & 6.672776  & 6.841501  & 6.156275  & 6.868469  & 5.654372  & 6.209690  & 0.3120123 & 1.1127450 & 0.9134257\\\\\n",
       "\t 11        & 0.2500000 & 0.1971831 & 6         & 49        & 12        & 153       & 0         & 3         & 14        & ⋯         & 10.211013 & 8.147244  & 8.287047  & 8.842704  & 7.886179  & 6.456533  & 7.919410  & 0.4837610 & 1.1277076 & 1.0315847\\\\\n",
       "\t 12        & 0.2398190 & 0.2285714 & 4         & 49        &  9        & 159       & 0         & 5         & 16        & ⋯         &  7.765270 & 7.540335  & 8.004867  & 7.432675  & 8.164535  & 7.011681  & 8.404189  & 0.5158598 & 1.0835493 & 0.9630944\\\\\n",
       "\t 13        & 0.2777778 & 0.1200000 & 9         & 51        & 15        & 141       & 1         & 6         &  8        & ⋯         &  8.684262 & 8.428484  & 8.135433  & 9.504619  & 7.795676  & 7.606282  & 8.790084  & 0.4429142 & 1.0926911 & 1.2096085\\\\\n",
       "\t 14        & 0.2432432 & 0.2173913 & 5         & 49        &  5        & 163       & 0         & 3         & 15        & ⋯         &  8.072897 & 7.589064  & 7.608487  & 7.657670  & 8.733681  & 7.197316  & 7.796424  & 0.4301724 & 1.0137471 & 1.1498764\\\\\n",
       "\t 15        & 0.2258065 & 0.2702703 & 3         & 46        &  7        & 161       & 1         & 4         & 19        & ⋯         &  7.403634 & 6.785775  & 7.704614  & 7.978826  & 7.554350  & 6.065499  & 8.275488  & 0.4994152 & 1.1846724 & 0.8909031\\\\\n",
       "\t 16        & 0.2217195 & 0.2857143 & 3         & 46        & 12        & 160       & 1         & 0         & 19        & ⋯         &  7.791187 & 8.315559  & 7.608737  & 6.550858  & 7.997558  & 6.061370  & 7.395744  & 0.4203897 & 1.0034727 & 1.0253843\\\\\n",
       "\t 17        & 0.2027027 & 0.3478261 & 0         & 45        &  3        & 174       & 0         & 1         & 24        & ⋯         &  7.109922 & 6.816243  & 7.125377  & 6.191570  & 7.756227  & 6.768213  & 6.917263  & 0.4185225 & 0.9032270 & 1.0893534\\\\\n",
       "\t 18        & 0.2280702 & 0.2698413 & 3         & 49        &  4        & 172       & 0         & 2         & 17        & ⋯         &  8.144540 & 7.751978  & 7.379614  & 8.816414  & 8.401329  & 7.915006  & 8.090248  & 0.4635381 & 0.9273167 & 1.6961627\\\\\n",
       "\t 19        & 0.2432432 & 0.2173913 & 0         & 54        &  6        & 162       & 0         & 0         & 15        & ⋯         &  8.697046 & 7.875120  & 7.988355  & 8.519074  & 8.964851  & 7.018752  & 8.577416  & 0.7129148 & 1.0817595 & 1.0052167\\\\\n",
       "\t 20        & 0.2272727 & 0.2676056 & 2         & 48        &  4        & 166       & 1         & 1         & 18        & ⋯         &  8.788174 & 7.483082  & 7.722764  & 7.247246  & 7.694547  & 6.538747  & 7.312288  & 0.8952502 & 0.9369948 & 1.1511576\\\\\n",
       "\t 21        & 0.2197309 & 0.2941176 & 3         & 46        & 11        & 163       & 0         & 1         & 20        & ⋯         &  7.661069 & 7.539127  & 6.884848  & 7.178542  & 7.685191  & 5.883816  & 8.090198  & 0.4797299 & 1.2166195 & 0.9694657\\\\\n",
       "\t 22        & 0.2177778 & 0.3030303 & 4         & 45        &  8        & 168       & 0         & 0         & 20        & ⋯         &  7.691252 & 8.105472  & 7.023449  & 7.399748  & 8.084082  & 6.319566  & 7.836059  & 0.2483775 & 1.1458776 & 1.2039623\\\\\n",
       "\t 23        & 0.2475728 & 0.2117647 & 4         & 47        & 12        & 143       & 1         & 5         & 17        & ⋯         &  7.173478 & 7.672462  & 7.287501  & 6.939325  & 8.740161  & 7.217275  & 7.273305  & 0.2583765 & 1.2142079 & 1.2221187\\\\\n",
       "\t 24        & 0.2629108 & 0.1666667 & 9         & 47        & 13        & 144       & 0         & 3         & 13        & ⋯         &  8.413358 & 7.818043  & 8.158158  & 8.977892  & 7.990449  & 7.258841  & 7.988899  & 0.5183421 & 1.2121704 & 0.8961333\\\\\n",
       "\t 25        & 0.2125604 & 0.2976190 & 3         & 41        &  4        & 159       & 1         & 5         & 24        & ⋯         &  7.414764 & 6.658151  & 7.339009  & 7.175580  & 6.853868  & 5.100181  & 7.920753  & 0.2403455 & 0.9807535 & 0.8520081\\\\\n",
       "\\end{tabular}\n"
      ],
      "text/markdown": [
       "\n",
       "expnum | tr_txe_pct | cv_txe_pct | tr_outtxe_predtxe | tr_outtxe_predrHGG | tr_outrHGG_predtxe | tr_outrHGG_predrHGG | cv_outtxe_predtxe | cv_outtxe_predrHGG | cv_outrHGG_predtxe | ⋯ | varImp_ccri | varImp_cni | varImp_ncho | varImp_ncre | varImp_nnaa | varImp_nfa.1 | varImp_nadc.1 | varImp_hasDiffu | varImp_hasPerf | varImp_hasSpec | \n",
       "|---|---|---|---|---|---|---|---|---|---|---|---|---|---|---|---|---|---|---|---|---|---|---|---|---|\n",
       "|  1        | 0.2636364 | 0.1549296 | 5         | 53        | 15        | 147       | 1         | 3         | 10        | ⋯         |  8.862558 | 8.051860  | 8.300533  | 7.654560  | 8.810457  | 7.969592  | 7.843141  | 0.5651417 | 1.5417217 | 1.1403965 | \n",
       "|  2        | 0.2153110 | 0.2926829 | 4         | 41        |  4        | 160       | 0         | 0         | 24        | ⋯         |  6.738636 | 7.178825  | 7.932672  | 6.899814  | 9.249751  | 6.582302  | 7.887539  | 0.6202989 | 0.9656164 | 1.0484444 | \n",
       "|  3        | 0.2046512 | 0.3289474 | 3         | 41        |  4        | 167       | 1         | 1         | 24        | ⋯         |  7.258039 | 6.610947  | 6.044418  | 7.152909  | 8.206914  | 5.655779  | 8.858784  | 0.6808009 | 0.9493801 | 0.9002774 | \n",
       "|  4        | 0.2614679 | 0.1643836 | 7         | 50        | 17        | 144       | 1         | 8         | 11        | ⋯         |  8.626177 | 9.121878  | 9.428400  | 7.537560  | 7.602605  | 6.483465  | 7.646419  | 0.5834421 | 1.2133340 | 1.1011654 | \n",
       "|  5        | 0.2073733 | 0.3243243 | 3         | 42        |  3        | 169       | 0         | 2         | 24        | ⋯         |  6.962613 | 6.466602  | 6.280854  | 7.673746  | 7.107289  | 6.048186  | 7.639433  | 0.5515690 | 1.0935995 | 0.8220029 | \n",
       "|  6        | 0.2283105 | 0.2638889 | 3         | 47        |  8        | 161       | 0         | 1         | 19        | ⋯         |  8.014447 | 8.010203  | 7.659189  | 8.352429  | 8.202030  | 6.675909  | 7.498649  | 1.2124622 | 1.0629527 | 1.2310034 | \n",
       "|  7        | 0.2000000 | 0.3255814 | 1         | 40        |  5        | 159       | 0         | 0         | 28        | ⋯         |  6.725444 | 6.741884  | 6.465448  | 6.301609  | 7.607665  | 5.714386  | 7.233903  | 0.3644665 | 0.9743189 | 0.9661481 | \n",
       "|  8        | 0.2465116 | 0.2105263 | 5         | 48        |  9        | 153       | 1         | 1         | 15        | ⋯         |  7.852202 | 7.317576  | 7.735797  | 8.668463  | 8.337519  | 7.212642  | 9.096954  | 0.7779244 | 1.3632779 | 0.9320974 | \n",
       "|  9        | 0.2477064 | 0.2054795 | 3         | 51        |  8        | 156       | 3         | 3         | 12        | ⋯         |  7.078721 | 7.712088  | 7.474832  | 8.081056  | 8.800576  | 6.352050  | 9.386630  | 0.7183701 | 1.1336680 | 0.7314624 | \n",
       "| 10        | 0.1895735 | 0.3625000 | 0         | 40        |  6        | 165       | 1         | 3         | 28        | ⋯         |  6.313975 | 6.672776  | 6.841501  | 6.156275  | 6.868469  | 5.654372  | 6.209690  | 0.3120123 | 1.1127450 | 0.9134257 | \n",
       "| 11        | 0.2500000 | 0.1971831 | 6         | 49        | 12        | 153       | 0         | 3         | 14        | ⋯         | 10.211013 | 8.147244  | 8.287047  | 8.842704  | 7.886179  | 6.456533  | 7.919410  | 0.4837610 | 1.1277076 | 1.0315847 | \n",
       "| 12        | 0.2398190 | 0.2285714 | 4         | 49        |  9        | 159       | 0         | 5         | 16        | ⋯         |  7.765270 | 7.540335  | 8.004867  | 7.432675  | 8.164535  | 7.011681  | 8.404189  | 0.5158598 | 1.0835493 | 0.9630944 | \n",
       "| 13        | 0.2777778 | 0.1200000 | 9         | 51        | 15        | 141       | 1         | 6         |  8        | ⋯         |  8.684262 | 8.428484  | 8.135433  | 9.504619  | 7.795676  | 7.606282  | 8.790084  | 0.4429142 | 1.0926911 | 1.2096085 | \n",
       "| 14        | 0.2432432 | 0.2173913 | 5         | 49        |  5        | 163       | 0         | 3         | 15        | ⋯         |  8.072897 | 7.589064  | 7.608487  | 7.657670  | 8.733681  | 7.197316  | 7.796424  | 0.4301724 | 1.0137471 | 1.1498764 | \n",
       "| 15        | 0.2258065 | 0.2702703 | 3         | 46        |  7        | 161       | 1         | 4         | 19        | ⋯         |  7.403634 | 6.785775  | 7.704614  | 7.978826  | 7.554350  | 6.065499  | 8.275488  | 0.4994152 | 1.1846724 | 0.8909031 | \n",
       "| 16        | 0.2217195 | 0.2857143 | 3         | 46        | 12        | 160       | 1         | 0         | 19        | ⋯         |  7.791187 | 8.315559  | 7.608737  | 6.550858  | 7.997558  | 6.061370  | 7.395744  | 0.4203897 | 1.0034727 | 1.0253843 | \n",
       "| 17        | 0.2027027 | 0.3478261 | 0         | 45        |  3        | 174       | 0         | 1         | 24        | ⋯         |  7.109922 | 6.816243  | 7.125377  | 6.191570  | 7.756227  | 6.768213  | 6.917263  | 0.4185225 | 0.9032270 | 1.0893534 | \n",
       "| 18        | 0.2280702 | 0.2698413 | 3         | 49        |  4        | 172       | 0         | 2         | 17        | ⋯         |  8.144540 | 7.751978  | 7.379614  | 8.816414  | 8.401329  | 7.915006  | 8.090248  | 0.4635381 | 0.9273167 | 1.6961627 | \n",
       "| 19        | 0.2432432 | 0.2173913 | 0         | 54        |  6        | 162       | 0         | 0         | 15        | ⋯         |  8.697046 | 7.875120  | 7.988355  | 8.519074  | 8.964851  | 7.018752  | 8.577416  | 0.7129148 | 1.0817595 | 1.0052167 | \n",
       "| 20        | 0.2272727 | 0.2676056 | 2         | 48        |  4        | 166       | 1         | 1         | 18        | ⋯         |  8.788174 | 7.483082  | 7.722764  | 7.247246  | 7.694547  | 6.538747  | 7.312288  | 0.8952502 | 0.9369948 | 1.1511576 | \n",
       "| 21        | 0.2197309 | 0.2941176 | 3         | 46        | 11        | 163       | 0         | 1         | 20        | ⋯         |  7.661069 | 7.539127  | 6.884848  | 7.178542  | 7.685191  | 5.883816  | 8.090198  | 0.4797299 | 1.2166195 | 0.9694657 | \n",
       "| 22        | 0.2177778 | 0.3030303 | 4         | 45        |  8        | 168       | 0         | 0         | 20        | ⋯         |  7.691252 | 8.105472  | 7.023449  | 7.399748  | 8.084082  | 6.319566  | 7.836059  | 0.2483775 | 1.1458776 | 1.2039623 | \n",
       "| 23        | 0.2475728 | 0.2117647 | 4         | 47        | 12        | 143       | 1         | 5         | 17        | ⋯         |  7.173478 | 7.672462  | 7.287501  | 6.939325  | 8.740161  | 7.217275  | 7.273305  | 0.2583765 | 1.2142079 | 1.2221187 | \n",
       "| 24        | 0.2629108 | 0.1666667 | 9         | 47        | 13        | 144       | 0         | 3         | 13        | ⋯         |  8.413358 | 7.818043  | 8.158158  | 8.977892  | 7.990449  | 7.258841  | 7.988899  | 0.5183421 | 1.2121704 | 0.8961333 | \n",
       "| 25        | 0.2125604 | 0.2976190 | 3         | 41        |  4        | 159       | 1         | 5         | 24        | ⋯         |  7.414764 | 6.658151  | 7.339009  | 7.175580  | 6.853868  | 5.100181  | 7.920753  | 0.2403455 | 0.9807535 | 0.8520081 | \n",
       "\n",
       "\n"
      ],
      "text/plain": [
       "   expnum tr_txe_pct cv_txe_pct tr_outtxe_predtxe tr_outtxe_predrHGG\n",
       "1   1     0.2636364  0.1549296  5                 53                \n",
       "2   2     0.2153110  0.2926829  4                 41                \n",
       "3   3     0.2046512  0.3289474  3                 41                \n",
       "4   4     0.2614679  0.1643836  7                 50                \n",
       "5   5     0.2073733  0.3243243  3                 42                \n",
       "6   6     0.2283105  0.2638889  3                 47                \n",
       "7   7     0.2000000  0.3255814  1                 40                \n",
       "8   8     0.2465116  0.2105263  5                 48                \n",
       "9   9     0.2477064  0.2054795  3                 51                \n",
       "10 10     0.1895735  0.3625000  0                 40                \n",
       "11 11     0.2500000  0.1971831  6                 49                \n",
       "12 12     0.2398190  0.2285714  4                 49                \n",
       "13 13     0.2777778  0.1200000  9                 51                \n",
       "14 14     0.2432432  0.2173913  5                 49                \n",
       "15 15     0.2258065  0.2702703  3                 46                \n",
       "16 16     0.2217195  0.2857143  3                 46                \n",
       "17 17     0.2027027  0.3478261  0                 45                \n",
       "18 18     0.2280702  0.2698413  3                 49                \n",
       "19 19     0.2432432  0.2173913  0                 54                \n",
       "20 20     0.2272727  0.2676056  2                 48                \n",
       "21 21     0.2197309  0.2941176  3                 46                \n",
       "22 22     0.2177778  0.3030303  4                 45                \n",
       "23 23     0.2475728  0.2117647  4                 47                \n",
       "24 24     0.2629108  0.1666667  9                 47                \n",
       "25 25     0.2125604  0.2976190  3                 41                \n",
       "   tr_outrHGG_predtxe tr_outrHGG_predrHGG cv_outtxe_predtxe cv_outtxe_predrHGG\n",
       "1  15                 147                 1                 3                 \n",
       "2   4                 160                 0                 0                 \n",
       "3   4                 167                 1                 1                 \n",
       "4  17                 144                 1                 8                 \n",
       "5   3                 169                 0                 2                 \n",
       "6   8                 161                 0                 1                 \n",
       "7   5                 159                 0                 0                 \n",
       "8   9                 153                 1                 1                 \n",
       "9   8                 156                 3                 3                 \n",
       "10  6                 165                 1                 3                 \n",
       "11 12                 153                 0                 3                 \n",
       "12  9                 159                 0                 5                 \n",
       "13 15                 141                 1                 6                 \n",
       "14  5                 163                 0                 3                 \n",
       "15  7                 161                 1                 4                 \n",
       "16 12                 160                 1                 0                 \n",
       "17  3                 174                 0                 1                 \n",
       "18  4                 172                 0                 2                 \n",
       "19  6                 162                 0                 0                 \n",
       "20  4                 166                 1                 1                 \n",
       "21 11                 163                 0                 1                 \n",
       "22  8                 168                 0                 0                 \n",
       "23 12                 143                 1                 5                 \n",
       "24 13                 144                 0                 3                 \n",
       "25  4                 159                 1                 5                 \n",
       "   cv_outrHGG_predtxe ⋯ varImp_ccri varImp_cni varImp_ncho varImp_ncre\n",
       "1  10                 ⋯  8.862558   8.051860   8.300533    7.654560   \n",
       "2  24                 ⋯  6.738636   7.178825   7.932672    6.899814   \n",
       "3  24                 ⋯  7.258039   6.610947   6.044418    7.152909   \n",
       "4  11                 ⋯  8.626177   9.121878   9.428400    7.537560   \n",
       "5  24                 ⋯  6.962613   6.466602   6.280854    7.673746   \n",
       "6  19                 ⋯  8.014447   8.010203   7.659189    8.352429   \n",
       "7  28                 ⋯  6.725444   6.741884   6.465448    6.301609   \n",
       "8  15                 ⋯  7.852202   7.317576   7.735797    8.668463   \n",
       "9  12                 ⋯  7.078721   7.712088   7.474832    8.081056   \n",
       "10 28                 ⋯  6.313975   6.672776   6.841501    6.156275   \n",
       "11 14                 ⋯ 10.211013   8.147244   8.287047    8.842704   \n",
       "12 16                 ⋯  7.765270   7.540335   8.004867    7.432675   \n",
       "13  8                 ⋯  8.684262   8.428484   8.135433    9.504619   \n",
       "14 15                 ⋯  8.072897   7.589064   7.608487    7.657670   \n",
       "15 19                 ⋯  7.403634   6.785775   7.704614    7.978826   \n",
       "16 19                 ⋯  7.791187   8.315559   7.608737    6.550858   \n",
       "17 24                 ⋯  7.109922   6.816243   7.125377    6.191570   \n",
       "18 17                 ⋯  8.144540   7.751978   7.379614    8.816414   \n",
       "19 15                 ⋯  8.697046   7.875120   7.988355    8.519074   \n",
       "20 18                 ⋯  8.788174   7.483082   7.722764    7.247246   \n",
       "21 20                 ⋯  7.661069   7.539127   6.884848    7.178542   \n",
       "22 20                 ⋯  7.691252   8.105472   7.023449    7.399748   \n",
       "23 17                 ⋯  7.173478   7.672462   7.287501    6.939325   \n",
       "24 13                 ⋯  8.413358   7.818043   8.158158    8.977892   \n",
       "25 24                 ⋯  7.414764   6.658151   7.339009    7.175580   \n",
       "   varImp_nnaa varImp_nfa.1 varImp_nadc.1 varImp_hasDiffu varImp_hasPerf\n",
       "1  8.810457    7.969592     7.843141      0.5651417       1.5417217     \n",
       "2  9.249751    6.582302     7.887539      0.6202989       0.9656164     \n",
       "3  8.206914    5.655779     8.858784      0.6808009       0.9493801     \n",
       "4  7.602605    6.483465     7.646419      0.5834421       1.2133340     \n",
       "5  7.107289    6.048186     7.639433      0.5515690       1.0935995     \n",
       "6  8.202030    6.675909     7.498649      1.2124622       1.0629527     \n",
       "7  7.607665    5.714386     7.233903      0.3644665       0.9743189     \n",
       "8  8.337519    7.212642     9.096954      0.7779244       1.3632779     \n",
       "9  8.800576    6.352050     9.386630      0.7183701       1.1336680     \n",
       "10 6.868469    5.654372     6.209690      0.3120123       1.1127450     \n",
       "11 7.886179    6.456533     7.919410      0.4837610       1.1277076     \n",
       "12 8.164535    7.011681     8.404189      0.5158598       1.0835493     \n",
       "13 7.795676    7.606282     8.790084      0.4429142       1.0926911     \n",
       "14 8.733681    7.197316     7.796424      0.4301724       1.0137471     \n",
       "15 7.554350    6.065499     8.275488      0.4994152       1.1846724     \n",
       "16 7.997558    6.061370     7.395744      0.4203897       1.0034727     \n",
       "17 7.756227    6.768213     6.917263      0.4185225       0.9032270     \n",
       "18 8.401329    7.915006     8.090248      0.4635381       0.9273167     \n",
       "19 8.964851    7.018752     8.577416      0.7129148       1.0817595     \n",
       "20 7.694547    6.538747     7.312288      0.8952502       0.9369948     \n",
       "21 7.685191    5.883816     8.090198      0.4797299       1.2166195     \n",
       "22 8.084082    6.319566     7.836059      0.2483775       1.1458776     \n",
       "23 8.740161    7.217275     7.273305      0.2583765       1.2142079     \n",
       "24 7.990449    7.258841     7.988899      0.5183421       1.2121704     \n",
       "25 6.853868    5.100181     7.920753      0.2403455       0.9807535     \n",
       "   varImp_hasSpec\n",
       "1  1.1403965     \n",
       "2  1.0484444     \n",
       "3  0.9002774     \n",
       "4  1.1011654     \n",
       "5  0.8220029     \n",
       "6  1.2310034     \n",
       "7  0.9661481     \n",
       "8  0.9320974     \n",
       "9  0.7314624     \n",
       "10 0.9134257     \n",
       "11 1.0315847     \n",
       "12 0.9630944     \n",
       "13 1.2096085     \n",
       "14 1.1498764     \n",
       "15 0.8909031     \n",
       "16 1.0253843     \n",
       "17 1.0893534     \n",
       "18 1.6961627     \n",
       "19 1.0052167     \n",
       "20 1.1511576     \n",
       "21 0.9694657     \n",
       "22 1.2039623     \n",
       "23 1.2221187     \n",
       "24 0.8961333     \n",
       "25 0.8520081     "
      ]
     },
     "metadata": {},
     "output_type": "display_data"
    }
   ],
   "source": [
    "outcome_src_experiment"
   ]
  },
  {
   "cell_type": "code",
   "execution_count": 36,
   "metadata": {},
   "outputs": [
    {
     "data": {
      "text/html": [
       "<table>\n",
       "<thead><tr><th></th><th scope=col>med</th><th scope=col>sd</th></tr></thead>\n",
       "<tbody>\n",
       "\t<tr><th scope=row>varImp_in_CEL</th><td> 1.7259135</td><td>0.2184776 </td></tr>\n",
       "\t<tr><th scope=row>varImp_cbvn_nlin</th><td> 9.0811116</td><td>1.1404357 </td></tr>\n",
       "\t<tr><th scope=row>varImp_recov_npar</th><td> 9.5830730</td><td>1.4679210 </td></tr>\n",
       "\t<tr><th scope=row>varImp_ccri</th><td> 4.3840921</td><td>0.4812045 </td></tr>\n",
       "\t<tr><th scope=row>varImp_cni</th><td> 4.4848974</td><td>0.5645929 </td></tr>\n",
       "\t<tr><th scope=row>varImp_ncho</th><td> 4.1952046</td><td>0.5593704 </td></tr>\n",
       "\t<tr><th scope=row>varImp_ncre</th><td> 3.9202142</td><td>0.4704293 </td></tr>\n",
       "\t<tr><th scope=row>varImp_nnaa</th><td> 4.5374491</td><td>0.5132776 </td></tr>\n",
       "\t<tr><th scope=row>varImp_nfa.1</th><td> 8.8618362</td><td>0.9721428 </td></tr>\n",
       "\t<tr><th scope=row>varImp_nadc.1</th><td>10.6465756</td><td>0.7063269 </td></tr>\n",
       "\t<tr><th scope=row>varImp_hasDiffu</th><td> 0.8455735</td><td>0.2591059 </td></tr>\n",
       "\t<tr><th scope=row>varImp_hasPerf</th><td> 1.2827450</td><td>0.1838494 </td></tr>\n",
       "\t<tr><th scope=row>varImp_hasSpec</th><td> 0.8332647</td><td>0.1596232 </td></tr>\n",
       "</tbody>\n",
       "</table>\n"
      ],
      "text/latex": [
       "\\begin{tabular}{r|ll}\n",
       "  & med & sd\\\\\n",
       "\\hline\n",
       "\tvarImp\\_in\\_CEL &  1.7259135 & 0.2184776 \\\\\n",
       "\tvarImp\\_cbvn\\_nlin &  9.0811116 & 1.1404357 \\\\\n",
       "\tvarImp\\_recov\\_npar &  9.5830730 & 1.4679210 \\\\\n",
       "\tvarImp\\_ccri &  4.3840921 & 0.4812045 \\\\\n",
       "\tvarImp\\_cni &  4.4848974 & 0.5645929 \\\\\n",
       "\tvarImp\\_ncho &  4.1952046 & 0.5593704 \\\\\n",
       "\tvarImp\\_ncre &  3.9202142 & 0.4704293 \\\\\n",
       "\tvarImp\\_nnaa &  4.5374491 & 0.5132776 \\\\\n",
       "\tvarImp\\_nfa.1 &  8.8618362 & 0.9721428 \\\\\n",
       "\tvarImp\\_nadc.1 & 10.6465756 & 0.7063269 \\\\\n",
       "\tvarImp\\_hasDiffu &  0.8455735 & 0.2591059 \\\\\n",
       "\tvarImp\\_hasPerf &  1.2827450 & 0.1838494 \\\\\n",
       "\tvarImp\\_hasSpec &  0.8332647 & 0.1596232 \\\\\n",
       "\\end{tabular}\n"
      ],
      "text/markdown": [
       "\n",
       "| <!--/--> | med | sd | \n",
       "|---|---|---|---|---|---|---|---|---|---|---|---|---|\n",
       "| varImp_in_CEL |  1.7259135 | 0.2184776  | \n",
       "| varImp_cbvn_nlin |  9.0811116 | 1.1404357  | \n",
       "| varImp_recov_npar |  9.5830730 | 1.4679210  | \n",
       "| varImp_ccri |  4.3840921 | 0.4812045  | \n",
       "| varImp_cni |  4.4848974 | 0.5645929  | \n",
       "| varImp_ncho |  4.1952046 | 0.5593704  | \n",
       "| varImp_ncre |  3.9202142 | 0.4704293  | \n",
       "| varImp_nnaa |  4.5374491 | 0.5132776  | \n",
       "| varImp_nfa.1 |  8.8618362 | 0.9721428  | \n",
       "| varImp_nadc.1 | 10.6465756 | 0.7063269  | \n",
       "| varImp_hasDiffu |  0.8455735 | 0.2591059  | \n",
       "| varImp_hasPerf |  1.2827450 | 0.1838494  | \n",
       "| varImp_hasSpec |  0.8332647 | 0.1596232  | \n",
       "\n",
       "\n"
      ],
      "text/plain": [
       "                  med        sd       \n",
       "varImp_in_CEL      1.7259135 0.2184776\n",
       "varImp_cbvn_nlin   9.0811116 1.1404357\n",
       "varImp_recov_npar  9.5830730 1.4679210\n",
       "varImp_ccri        4.3840921 0.4812045\n",
       "varImp_cni         4.4848974 0.5645929\n",
       "varImp_ncho        4.1952046 0.5593704\n",
       "varImp_ncre        3.9202142 0.4704293\n",
       "varImp_nnaa        4.5374491 0.5132776\n",
       "varImp_nfa.1       8.8618362 0.9721428\n",
       "varImp_nadc.1     10.6465756 0.7063269\n",
       "varImp_hasDiffu    0.8455735 0.2591059\n",
       "varImp_hasPerf     1.2827450 0.1838494\n",
       "varImp_hasSpec     0.8332647 0.1596232"
      ]
     },
     "metadata": {},
     "output_type": "display_data"
    }
   ],
   "source": [
    "# med imputed variable importances: \n",
    "\n",
    "data.frame(med = apply(outcome_med_experiment[,grep('varImp', colnames(outcome_med_experiment))], 2, median), \n",
    "           sd = apply(outcome_med_experiment[,grep('varImp', colnames(outcome_med_experiment))], 2, sd))"
   ]
  },
  {
   "cell_type": "code",
   "execution_count": 37,
   "metadata": {},
   "outputs": [
    {
     "data": {
      "text/html": [
       "<table>\n",
       "<thead><tr><th></th><th scope=col>med</th><th scope=col>sd</th></tr></thead>\n",
       "<tbody>\n",
       "\t<tr><th scope=row>varImp_in_CEL</th><td> 1.3513974</td><td>0.1615264 </td></tr>\n",
       "\t<tr><th scope=row>varImp_cbvn_nlin</th><td> 9.3159747</td><td>1.1687113 </td></tr>\n",
       "\t<tr><th scope=row>varImp_recov_npar</th><td>10.1820459</td><td>1.5321613 </td></tr>\n",
       "\t<tr><th scope=row>varImp_ccri</th><td> 7.7652703</td><td>0.8662368 </td></tr>\n",
       "\t<tr><th scope=row>varImp_cni</th><td> 7.5890637</td><td>0.6710226 </td></tr>\n",
       "\t<tr><th scope=row>varImp_ncho</th><td> 7.6087368</td><td>0.7245572 </td></tr>\n",
       "\t<tr><th scope=row>varImp_ncre</th><td> 7.5375602</td><td>0.9127079 </td></tr>\n",
       "\t<tr><th scope=row>varImp_nnaa</th><td> 7.9975580</td><td>0.6268111 </td></tr>\n",
       "\t<tr><th scope=row>varImp_nfa.1</th><td> 6.5387471</td><td>0.7340724 </td></tr>\n",
       "\t<tr><th scope=row>varImp_nadc.1</th><td> 7.8875394</td><td>0.7027898 </td></tr>\n",
       "\t<tr><th scope=row>varImp_hasDiffu</th><td> 0.4994152</td><td>0.2168136 </td></tr>\n",
       "\t<tr><th scope=row>varImp_hasPerf</th><td> 1.0926911</td><td>0.1461291 </td></tr>\n",
       "\t<tr><th scope=row>varImp_hasSpec</th><td> 1.0253843</td><td>0.1916818 </td></tr>\n",
       "</tbody>\n",
       "</table>\n"
      ],
      "text/latex": [
       "\\begin{tabular}{r|ll}\n",
       "  & med & sd\\\\\n",
       "\\hline\n",
       "\tvarImp\\_in\\_CEL &  1.3513974 & 0.1615264 \\\\\n",
       "\tvarImp\\_cbvn\\_nlin &  9.3159747 & 1.1687113 \\\\\n",
       "\tvarImp\\_recov\\_npar & 10.1820459 & 1.5321613 \\\\\n",
       "\tvarImp\\_ccri &  7.7652703 & 0.8662368 \\\\\n",
       "\tvarImp\\_cni &  7.5890637 & 0.6710226 \\\\\n",
       "\tvarImp\\_ncho &  7.6087368 & 0.7245572 \\\\\n",
       "\tvarImp\\_ncre &  7.5375602 & 0.9127079 \\\\\n",
       "\tvarImp\\_nnaa &  7.9975580 & 0.6268111 \\\\\n",
       "\tvarImp\\_nfa.1 &  6.5387471 & 0.7340724 \\\\\n",
       "\tvarImp\\_nadc.1 &  7.8875394 & 0.7027898 \\\\\n",
       "\tvarImp\\_hasDiffu &  0.4994152 & 0.2168136 \\\\\n",
       "\tvarImp\\_hasPerf &  1.0926911 & 0.1461291 \\\\\n",
       "\tvarImp\\_hasSpec &  1.0253843 & 0.1916818 \\\\\n",
       "\\end{tabular}\n"
      ],
      "text/markdown": [
       "\n",
       "| <!--/--> | med | sd | \n",
       "|---|---|---|---|---|---|---|---|---|---|---|---|---|\n",
       "| varImp_in_CEL |  1.3513974 | 0.1615264  | \n",
       "| varImp_cbvn_nlin |  9.3159747 | 1.1687113  | \n",
       "| varImp_recov_npar | 10.1820459 | 1.5321613  | \n",
       "| varImp_ccri |  7.7652703 | 0.8662368  | \n",
       "| varImp_cni |  7.5890637 | 0.6710226  | \n",
       "| varImp_ncho |  7.6087368 | 0.7245572  | \n",
       "| varImp_ncre |  7.5375602 | 0.9127079  | \n",
       "| varImp_nnaa |  7.9975580 | 0.6268111  | \n",
       "| varImp_nfa.1 |  6.5387471 | 0.7340724  | \n",
       "| varImp_nadc.1 |  7.8875394 | 0.7027898  | \n",
       "| varImp_hasDiffu |  0.4994152 | 0.2168136  | \n",
       "| varImp_hasPerf |  1.0926911 | 0.1461291  | \n",
       "| varImp_hasSpec |  1.0253843 | 0.1916818  | \n",
       "\n",
       "\n"
      ],
      "text/plain": [
       "                  med        sd       \n",
       "varImp_in_CEL      1.3513974 0.1615264\n",
       "varImp_cbvn_nlin   9.3159747 1.1687113\n",
       "varImp_recov_npar 10.1820459 1.5321613\n",
       "varImp_ccri        7.7652703 0.8662368\n",
       "varImp_cni         7.5890637 0.6710226\n",
       "varImp_ncho        7.6087368 0.7245572\n",
       "varImp_ncre        7.5375602 0.9127079\n",
       "varImp_nnaa        7.9975580 0.6268111\n",
       "varImp_nfa.1       6.5387471 0.7340724\n",
       "varImp_nadc.1      7.8875394 0.7027898\n",
       "varImp_hasDiffu    0.4994152 0.2168136\n",
       "varImp_hasPerf     1.0926911 0.1461291\n",
       "varImp_hasSpec     1.0253843 0.1916818"
      ]
     },
     "metadata": {},
     "output_type": "display_data"
    }
   ],
   "source": [
    "# src imputed variable importances: \n",
    "\n",
    "data.frame(med = apply(outcome_src_experiment[,grep('varImp', colnames(outcome_src_experiment))], 2, median), \n",
    "           sd = apply(outcome_src_experiment[,grep('varImp', colnames(outcome_src_experiment))], 2, sd))"
   ]
  },
  {
   "cell_type": "code",
   "execution_count": 42,
   "metadata": {},
   "outputs": [
    {
     "data": {
      "text/html": [
       "<table>\n",
       "<thead><tr><th></th><th scope=col>med_med</th><th scope=col>sd_med</th><th scope=col>med_src</th><th scope=col>sd_src</th></tr></thead>\n",
       "<tbody>\n",
       "\t<tr><th scope=row>varImp_in_CEL</th><td> 1.7259135</td><td>0.2184776 </td><td> 1.3513974</td><td>0.1615264 </td></tr>\n",
       "\t<tr><th scope=row>varImp_cbvn_nlin</th><td> 9.0811116</td><td>1.1404357 </td><td> 9.3159747</td><td>1.1687113 </td></tr>\n",
       "\t<tr><th scope=row>varImp_recov_npar</th><td> 9.5830730</td><td>1.4679210 </td><td>10.1820459</td><td>1.5321613 </td></tr>\n",
       "\t<tr><th scope=row>varImp_ccri</th><td> 4.3840921</td><td>0.4812045 </td><td> 7.7652703</td><td>0.8662368 </td></tr>\n",
       "\t<tr><th scope=row>varImp_cni</th><td> 4.4848974</td><td>0.5645929 </td><td> 7.5890637</td><td>0.6710226 </td></tr>\n",
       "\t<tr><th scope=row>varImp_ncho</th><td> 4.1952046</td><td>0.5593704 </td><td> 7.6087368</td><td>0.7245572 </td></tr>\n",
       "\t<tr><th scope=row>varImp_ncre</th><td> 3.9202142</td><td>0.4704293 </td><td> 7.5375602</td><td>0.9127079 </td></tr>\n",
       "\t<tr><th scope=row>varImp_nnaa</th><td> 4.5374491</td><td>0.5132776 </td><td> 7.9975580</td><td>0.6268111 </td></tr>\n",
       "\t<tr><th scope=row>varImp_nfa.1</th><td> 8.8618362</td><td>0.9721428 </td><td> 6.5387471</td><td>0.7340724 </td></tr>\n",
       "\t<tr><th scope=row>varImp_nadc.1</th><td>10.6465756</td><td>0.7063269 </td><td> 7.8875394</td><td>0.7027898 </td></tr>\n",
       "\t<tr><th scope=row>varImp_hasDiffu</th><td> 0.8455735</td><td>0.2591059 </td><td> 0.4994152</td><td>0.2168136 </td></tr>\n",
       "\t<tr><th scope=row>varImp_hasPerf</th><td> 1.2827450</td><td>0.1838494 </td><td> 1.0926911</td><td>0.1461291 </td></tr>\n",
       "\t<tr><th scope=row>varImp_hasSpec</th><td> 0.8332647</td><td>0.1596232 </td><td> 1.0253843</td><td>0.1916818 </td></tr>\n",
       "</tbody>\n",
       "</table>\n"
      ],
      "text/latex": [
       "\\begin{tabular}{r|llll}\n",
       "  & med\\_med & sd\\_med & med\\_src & sd\\_src\\\\\n",
       "\\hline\n",
       "\tvarImp\\_in\\_CEL &  1.7259135 & 0.2184776  &  1.3513974 & 0.1615264 \\\\\n",
       "\tvarImp\\_cbvn\\_nlin &  9.0811116 & 1.1404357  &  9.3159747 & 1.1687113 \\\\\n",
       "\tvarImp\\_recov\\_npar &  9.5830730 & 1.4679210  & 10.1820459 & 1.5321613 \\\\\n",
       "\tvarImp\\_ccri &  4.3840921 & 0.4812045  &  7.7652703 & 0.8662368 \\\\\n",
       "\tvarImp\\_cni &  4.4848974 & 0.5645929  &  7.5890637 & 0.6710226 \\\\\n",
       "\tvarImp\\_ncho &  4.1952046 & 0.5593704  &  7.6087368 & 0.7245572 \\\\\n",
       "\tvarImp\\_ncre &  3.9202142 & 0.4704293  &  7.5375602 & 0.9127079 \\\\\n",
       "\tvarImp\\_nnaa &  4.5374491 & 0.5132776  &  7.9975580 & 0.6268111 \\\\\n",
       "\tvarImp\\_nfa.1 &  8.8618362 & 0.9721428  &  6.5387471 & 0.7340724 \\\\\n",
       "\tvarImp\\_nadc.1 & 10.6465756 & 0.7063269  &  7.8875394 & 0.7027898 \\\\\n",
       "\tvarImp\\_hasDiffu &  0.8455735 & 0.2591059  &  0.4994152 & 0.2168136 \\\\\n",
       "\tvarImp\\_hasPerf &  1.2827450 & 0.1838494  &  1.0926911 & 0.1461291 \\\\\n",
       "\tvarImp\\_hasSpec &  0.8332647 & 0.1596232  &  1.0253843 & 0.1916818 \\\\\n",
       "\\end{tabular}\n"
      ],
      "text/markdown": [
       "\n",
       "| <!--/--> | med_med | sd_med | med_src | sd_src | \n",
       "|---|---|---|---|---|---|---|---|---|---|---|---|---|\n",
       "| varImp_in_CEL |  1.7259135 | 0.2184776  |  1.3513974 | 0.1615264  | \n",
       "| varImp_cbvn_nlin |  9.0811116 | 1.1404357  |  9.3159747 | 1.1687113  | \n",
       "| varImp_recov_npar |  9.5830730 | 1.4679210  | 10.1820459 | 1.5321613  | \n",
       "| varImp_ccri |  4.3840921 | 0.4812045  |  7.7652703 | 0.8662368  | \n",
       "| varImp_cni |  4.4848974 | 0.5645929  |  7.5890637 | 0.6710226  | \n",
       "| varImp_ncho |  4.1952046 | 0.5593704  |  7.6087368 | 0.7245572  | \n",
       "| varImp_ncre |  3.9202142 | 0.4704293  |  7.5375602 | 0.9127079  | \n",
       "| varImp_nnaa |  4.5374491 | 0.5132776  |  7.9975580 | 0.6268111  | \n",
       "| varImp_nfa.1 |  8.8618362 | 0.9721428  |  6.5387471 | 0.7340724  | \n",
       "| varImp_nadc.1 | 10.6465756 | 0.7063269  |  7.8875394 | 0.7027898  | \n",
       "| varImp_hasDiffu |  0.8455735 | 0.2591059  |  0.4994152 | 0.2168136  | \n",
       "| varImp_hasPerf |  1.2827450 | 0.1838494  |  1.0926911 | 0.1461291  | \n",
       "| varImp_hasSpec |  0.8332647 | 0.1596232  |  1.0253843 | 0.1916818  | \n",
       "\n",
       "\n"
      ],
      "text/plain": [
       "                  med_med    sd_med    med_src    sd_src   \n",
       "varImp_in_CEL      1.7259135 0.2184776  1.3513974 0.1615264\n",
       "varImp_cbvn_nlin   9.0811116 1.1404357  9.3159747 1.1687113\n",
       "varImp_recov_npar  9.5830730 1.4679210 10.1820459 1.5321613\n",
       "varImp_ccri        4.3840921 0.4812045  7.7652703 0.8662368\n",
       "varImp_cni         4.4848974 0.5645929  7.5890637 0.6710226\n",
       "varImp_ncho        4.1952046 0.5593704  7.6087368 0.7245572\n",
       "varImp_ncre        3.9202142 0.4704293  7.5375602 0.9127079\n",
       "varImp_nnaa        4.5374491 0.5132776  7.9975580 0.6268111\n",
       "varImp_nfa.1       8.8618362 0.9721428  6.5387471 0.7340724\n",
       "varImp_nadc.1     10.6465756 0.7063269  7.8875394 0.7027898\n",
       "varImp_hasDiffu    0.8455735 0.2591059  0.4994152 0.2168136\n",
       "varImp_hasPerf     1.2827450 0.1838494  1.0926911 0.1461291\n",
       "varImp_hasSpec     0.8332647 0.1596232  1.0253843 0.1916818"
      ]
     },
     "metadata": {},
     "output_type": "display_data"
    }
   ],
   "source": [
    "# med imputed variable importances: \n",
    "\n",
    "data.frame(med_med = apply(outcome_med_experiment[,grep('varImp', colnames(outcome_med_experiment))], 2, median), \n",
    "           sd_med = apply(outcome_med_experiment[,grep('varImp', colnames(outcome_med_experiment))], 2, sd), \n",
    "          med_src = apply(outcome_src_experiment[,grep('varImp', colnames(outcome_src_experiment))], 2, median), \n",
    "          sd_src =  apply(outcome_src_experiment[,grep('varImp', colnames(outcome_src_experiment))], 2, sd))"
   ]
  },
  {
   "cell_type": "code",
   "execution_count": null,
   "metadata": {},
   "outputs": [],
   "source": []
  }
 ],
 "metadata": {
  "kernelspec": {
   "display_name": "R",
   "language": "R",
   "name": "ir"
  },
  "language_info": {
   "codemirror_mode": "r",
   "file_extension": ".r",
   "mimetype": "text/x-r-source",
   "name": "R",
   "pygments_lexer": "r",
   "version": "3.4.0"
  }
 },
 "nbformat": 4,
 "nbformat_minor": 2
}
