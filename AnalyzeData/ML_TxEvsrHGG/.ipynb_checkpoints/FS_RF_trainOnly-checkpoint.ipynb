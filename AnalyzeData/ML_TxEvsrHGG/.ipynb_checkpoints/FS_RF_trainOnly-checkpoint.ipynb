{
 "cells": [
  {
   "cell_type": "code",
   "execution_count": 86,
   "metadata": {},
   "outputs": [],
   "source": [
    "library(glmnet)\n",
    "library(randomForest)\n",
    "library(dplyr)\n",
    "library(BBmisc)\n",
    "library(caret)\n",
    "library(tictoc)\n",
    "library(pROC)\n",
    "library(ROCR)\n",
    "library(randomForestSRC)"
   ]
  },
  {
   "cell_type": "code",
   "execution_count": 87,
   "metadata": {},
   "outputs": [
    {
     "data": {
      "text/html": [
       "<ol class=list-inline>\n",
       "\t<li>366</li>\n",
       "\t<li>75</li>\n",
       "</ol>\n"
      ],
      "text/latex": [
       "\\begin{enumerate*}\n",
       "\\item 366\n",
       "\\item 75\n",
       "\\end{enumerate*}\n"
      ],
      "text/markdown": [
       "1. 366\n",
       "2. 75\n",
       "\n",
       "\n"
      ],
      "text/plain": [
       "[1] 366  75"
      ]
     },
     "metadata": {},
     "output_type": "display_data"
    }
   ],
   "source": [
    "data = read.csv('../../AnnotateData/recgli_annotation10_CELorNELorUNK.csv')\n",
    "dim(data)"
   ]
  },
  {
   "cell_type": "code",
   "execution_count": 88,
   "metadata": {},
   "outputs": [
    {
     "data": {
      "text/html": [
       "<ol class=list-inline>\n",
       "\t<li>297</li>\n",
       "\t<li>75</li>\n",
       "</ol>\n"
      ],
      "text/latex": [
       "\\begin{enumerate*}\n",
       "\\item 297\n",
       "\\item 75\n",
       "\\end{enumerate*}\n"
      ],
      "text/markdown": [
       "1. 297\n",
       "2. 75\n",
       "\n",
       "\n"
      ],
      "text/plain": [
       "[1] 297  75"
      ]
     },
     "metadata": {},
     "output_type": "display_data"
    }
   ],
   "source": [
    "data = data[data$outcome == \"rHGG\" | data$outcome == \"txe\", ]\n",
    "dim(data)"
   ]
  },
  {
   "cell_type": "code",
   "execution_count": 89,
   "metadata": {},
   "outputs": [
    {
     "data": {
      "text/html": [
       "<ol class=list-inline>\n",
       "\t<li>291</li>\n",
       "\t<li>75</li>\n",
       "</ol>\n"
      ],
      "text/latex": [
       "\\begin{enumerate*}\n",
       "\\item 291\n",
       "\\item 75\n",
       "\\end{enumerate*}\n"
      ],
      "text/markdown": [
       "1. 291\n",
       "2. 75\n",
       "\n",
       "\n"
      ],
      "text/plain": [
       "[1] 291  75"
      ]
     },
     "metadata": {},
     "output_type": "display_data"
    }
   ],
   "source": [
    "data = data[data$CELorNEL == \"CEL\" | data$CELorNEL == \"NEL\",]\n",
    "dim(data)"
   ]
  },
  {
   "cell_type": "code",
   "execution_count": 90,
   "metadata": {},
   "outputs": [],
   "source": [
    "data = droplevels.data.frame(data)"
   ]
  },
  {
   "cell_type": "code",
   "execution_count": 91,
   "metadata": {},
   "outputs": [],
   "source": [
    "id = \"t_number_y\"\n",
    "features = c('nadc.1', 'nfa.1',\n",
    "             'cbvn_nlin', 'recov_npar', \n",
    "             'ccri', 'cni', 'ncre', 'ncho', 'nnaa', \n",
    "             'in_CEL')\n",
    "label = 'outcome'"
   ]
  },
  {
   "cell_type": "code",
   "execution_count": 92,
   "metadata": {},
   "outputs": [
    {
     "data": {
      "text/html": [
       "<table>\n",
       "<thead><tr><th></th><th scope=col>t_number_y</th><th scope=col>nadc.1</th><th scope=col>nfa.1</th><th scope=col>cbvn_nlin</th><th scope=col>recov_npar</th><th scope=col>ccri</th><th scope=col>cni</th><th scope=col>ncre</th><th scope=col>ncho</th><th scope=col>nnaa</th><th scope=col>in_CEL</th><th scope=col>outcome</th></tr></thead>\n",
       "<tbody>\n",
       "\t<tr><th scope=row>1</th><td>10366 </td><td>0.75  </td><td>0.83  </td><td>1.08  </td><td> 98.89</td><td>1.88  </td><td>2.60  </td><td>0.47  </td><td>1.03  </td><td>0.46  </td><td>0     </td><td>txe   </td></tr>\n",
       "\t<tr><th scope=row>3</th><td>10448 </td><td>1.62  </td><td>0.50  </td><td>2.43  </td><td>100.00</td><td>  NA  </td><td>  NA  </td><td>  NA  </td><td>  NA  </td><td>  NA  </td><td>1     </td><td>rHGG  </td></tr>\n",
       "\t<tr><th scope=row>4</th><td>10594 </td><td>2.62  </td><td>0.81  </td><td>1.64  </td><td> 78.53</td><td>  NA  </td><td>  NA  </td><td>  NA  </td><td>  NA  </td><td>  NA  </td><td>0     </td><td>txe   </td></tr>\n",
       "\t<tr><th scope=row>5</th><td>10594 </td><td>2.12  </td><td>0.42  </td><td>0.95  </td><td>100.00</td><td>1.03  </td><td>3.27  </td><td>0.79  </td><td>1.04  </td><td>0.36  </td><td>0     </td><td>rHGG  </td></tr>\n",
       "\t<tr><th scope=row>6</th><td>10594 </td><td>1.60  </td><td>0.73  </td><td>0.84  </td><td>100.00</td><td>2.33  </td><td>7.57  </td><td>1.07  </td><td>1.61  </td><td>0.13  </td><td>0     </td><td>rHGG  </td></tr>\n",
       "\t<tr><th scope=row>7</th><td>10594 </td><td>3.03  </td><td>0.42  </td><td>0.42  </td><td>100.00</td><td>2.13  </td><td>4.37  </td><td>1.21  </td><td>1.89  </td><td>0.74  </td><td>0     </td><td>rHGG  </td></tr>\n",
       "</tbody>\n",
       "</table>\n"
      ],
      "text/latex": [
       "\\begin{tabular}{r|llllllllllll}\n",
       "  & t\\_number\\_y & nadc.1 & nfa.1 & cbvn\\_nlin & recov\\_npar & ccri & cni & ncre & ncho & nnaa & in\\_CEL & outcome\\\\\n",
       "\\hline\n",
       "\t1 & 10366  & 0.75   & 0.83   & 1.08   &  98.89 & 1.88   & 2.60   & 0.47   & 1.03   & 0.46   & 0      & txe   \\\\\n",
       "\t3 & 10448  & 1.62   & 0.50   & 2.43   & 100.00 &   NA   &   NA   &   NA   &   NA   &   NA   & 1      & rHGG  \\\\\n",
       "\t4 & 10594  & 2.62   & 0.81   & 1.64   &  78.53 &   NA   &   NA   &   NA   &   NA   &   NA   & 0      & txe   \\\\\n",
       "\t5 & 10594  & 2.12   & 0.42   & 0.95   & 100.00 & 1.03   & 3.27   & 0.79   & 1.04   & 0.36   & 0      & rHGG  \\\\\n",
       "\t6 & 10594  & 1.60   & 0.73   & 0.84   & 100.00 & 2.33   & 7.57   & 1.07   & 1.61   & 0.13   & 0      & rHGG  \\\\\n",
       "\t7 & 10594  & 3.03   & 0.42   & 0.42   & 100.00 & 2.13   & 4.37   & 1.21   & 1.89   & 0.74   & 0      & rHGG  \\\\\n",
       "\\end{tabular}\n"
      ],
      "text/markdown": [
       "\n",
       "| <!--/--> | t_number_y | nadc.1 | nfa.1 | cbvn_nlin | recov_npar | ccri | cni | ncre | ncho | nnaa | in_CEL | outcome | \n",
       "|---|---|---|---|---|---|\n",
       "| 1 | 10366  | 0.75   | 0.83   | 1.08   |  98.89 | 1.88   | 2.60   | 0.47   | 1.03   | 0.46   | 0      | txe    | \n",
       "| 3 | 10448  | 1.62   | 0.50   | 2.43   | 100.00 |   NA   |   NA   |   NA   |   NA   |   NA   | 1      | rHGG   | \n",
       "| 4 | 10594  | 2.62   | 0.81   | 1.64   |  78.53 |   NA   |   NA   |   NA   |   NA   |   NA   | 0      | txe    | \n",
       "| 5 | 10594  | 2.12   | 0.42   | 0.95   | 100.00 | 1.03   | 3.27   | 0.79   | 1.04   | 0.36   | 0      | rHGG   | \n",
       "| 6 | 10594  | 1.60   | 0.73   | 0.84   | 100.00 | 2.33   | 7.57   | 1.07   | 1.61   | 0.13   | 0      | rHGG   | \n",
       "| 7 | 10594  | 3.03   | 0.42   | 0.42   | 100.00 | 2.13   | 4.37   | 1.21   | 1.89   | 0.74   | 0      | rHGG   | \n",
       "\n",
       "\n"
      ],
      "text/plain": [
       "  t_number_y nadc.1 nfa.1 cbvn_nlin recov_npar ccri cni  ncre ncho nnaa in_CEL\n",
       "1 10366      0.75   0.83  1.08       98.89     1.88 2.60 0.47 1.03 0.46 0     \n",
       "3 10448      1.62   0.50  2.43      100.00       NA   NA   NA   NA   NA 1     \n",
       "4 10594      2.62   0.81  1.64       78.53       NA   NA   NA   NA   NA 0     \n",
       "5 10594      2.12   0.42  0.95      100.00     1.03 3.27 0.79 1.04 0.36 0     \n",
       "6 10594      1.60   0.73  0.84      100.00     2.33 7.57 1.07 1.61 0.13 0     \n",
       "7 10594      3.03   0.42  0.42      100.00     2.13 4.37 1.21 1.89 0.74 0     \n",
       "  outcome\n",
       "1 txe    \n",
       "3 rHGG   \n",
       "4 txe    \n",
       "5 rHGG   \n",
       "6 rHGG   \n",
       "7 rHGG   "
      ]
     },
     "metadata": {},
     "output_type": "display_data"
    }
   ],
   "source": [
    "data_xy = data[,c(id, features, label)]\n",
    "head(data_xy)"
   ]
  },
  {
   "cell_type": "code",
   "execution_count": 93,
   "metadata": {},
   "outputs": [],
   "source": [
    "data_xy = data.frame(data_xy, \n",
    "                    hasDiffu = ifelse(is.na(data_xy$nadc.1), 0, 1), \n",
    "                    hasPerf  = ifelse(is.na(data_xy$cbvn_nlin), 0, 1), \n",
    "                    hasSpec  = ifelse(is.na(data_xy$cni), 0, 1))"
   ]
  },
  {
   "cell_type": "markdown",
   "metadata": {},
   "source": [
    "## train test split"
   ]
  },
  {
   "cell_type": "code",
   "execution_count": 94,
   "metadata": {},
   "outputs": [
    {
     "data": {
      "text/html": [
       "<ol class=list-inline>\n",
       "\t<li>10366</li>\n",
       "\t<li>10655</li>\n",
       "\t<li>10748</li>\n",
       "\t<li>11406</li>\n",
       "\t<li>5317</li>\n",
       "\t<li>5535</li>\n",
       "\t<li>5550</li>\n",
       "\t<li>5680</li>\n",
       "\t<li>5730</li>\n",
       "\t<li>5880</li>\n",
       "\t<li>5961</li>\n",
       "\t<li>6241</li>\n",
       "\t<li>6369</li>\n",
       "\t<li>6415</li>\n",
       "\t<li>6472</li>\n",
       "\t<li>6522</li>\n",
       "\t<li>6709</li>\n",
       "\t<li>6929</li>\n",
       "\t<li>7016</li>\n",
       "\t<li>7039</li>\n",
       "\t<li>7540</li>\n",
       "\t<li>7556</li>\n",
       "\t<li>7628</li>\n",
       "\t<li>7759</li>\n",
       "\t<li>8773</li>\n",
       "\t<li>8977</li>\n",
       "\t<li>8995</li>\n",
       "\t<li>9000</li>\n",
       "\t<li>9127</li>\n",
       "\t<li>9213</li>\n",
       "\t<li>9683</li>\n",
       "\t<li>10202</li>\n",
       "\t<li>10160</li>\n",
       "\t<li>10768</li>\n",
       "\t<li>10763</li>\n",
       "</ol>\n"
      ],
      "text/latex": [
       "\\begin{enumerate*}\n",
       "\\item 10366\n",
       "\\item 10655\n",
       "\\item 10748\n",
       "\\item 11406\n",
       "\\item 5317\n",
       "\\item 5535\n",
       "\\item 5550\n",
       "\\item 5680\n",
       "\\item 5730\n",
       "\\item 5880\n",
       "\\item 5961\n",
       "\\item 6241\n",
       "\\item 6369\n",
       "\\item 6415\n",
       "\\item 6472\n",
       "\\item 6522\n",
       "\\item 6709\n",
       "\\item 6929\n",
       "\\item 7016\n",
       "\\item 7039\n",
       "\\item 7540\n",
       "\\item 7556\n",
       "\\item 7628\n",
       "\\item 7759\n",
       "\\item 8773\n",
       "\\item 8977\n",
       "\\item 8995\n",
       "\\item 9000\n",
       "\\item 9127\n",
       "\\item 9213\n",
       "\\item 9683\n",
       "\\item 10202\n",
       "\\item 10160\n",
       "\\item 10768\n",
       "\\item 10763\n",
       "\\end{enumerate*}\n"
      ],
      "text/markdown": [
       "1. 10366\n",
       "2. 10655\n",
       "3. 10748\n",
       "4. 11406\n",
       "5. 5317\n",
       "6. 5535\n",
       "7. 5550\n",
       "8. 5680\n",
       "9. 5730\n",
       "10. 5880\n",
       "11. 5961\n",
       "12. 6241\n",
       "13. 6369\n",
       "14. 6415\n",
       "15. 6472\n",
       "16. 6522\n",
       "17. 6709\n",
       "18. 6929\n",
       "19. 7016\n",
       "20. 7039\n",
       "21. 7540\n",
       "22. 7556\n",
       "23. 7628\n",
       "24. 7759\n",
       "25. 8773\n",
       "26. 8977\n",
       "27. 8995\n",
       "28. 9000\n",
       "29. 9127\n",
       "30. 9213\n",
       "31. 9683\n",
       "32. 10202\n",
       "33. 10160\n",
       "34. 10768\n",
       "35. 10763\n",
       "\n",
       "\n"
      ],
      "text/plain": [
       " [1] 10366 10655 10748 11406  5317  5535  5550  5680  5730  5880  5961  6241\n",
       "[13]  6369  6415  6472  6522  6709  6929  7016  7039  7540  7556  7628  7759\n",
       "[25]  8773  8977  8995  9000  9127  9213  9683 10202 10160 10768 10763"
      ]
     },
     "metadata": {},
     "output_type": "display_data"
    }
   ],
   "source": [
    "unique_tnums = unique(data_xy$t_number_y)\n",
    "# 12\n",
    "set.seed(12)\n",
    "train_tnums = unique_tnums[sample(c(1:length(unique_tnums)), size = round(length(unique_tnums)*.75))]\n",
    "test_tnums = unique_tnums[! unique_tnums %in% train_tnums]\n",
    "test_tnums"
   ]
  },
  {
   "cell_type": "code",
   "execution_count": 95,
   "metadata": {},
   "outputs": [
    {
     "data": {
      "text/plain": [
       "\n",
       "     rHGG       txe \n",
       "0.7628866 0.2371134 "
      ]
     },
     "metadata": {},
     "output_type": "display_data"
    }
   ],
   "source": [
    "table(data_xy$outcome)/sum(table(data_xy$outcome)['rHGG'], table(data_xy$outcome)['txe'])"
   ]
  },
  {
   "cell_type": "code",
   "execution_count": 96,
   "metadata": {},
   "outputs": [
    {
     "data": {
      "text/html": [
       "<ol class=list-inline>\n",
       "\t<li>221</li>\n",
       "\t<li>15</li>\n",
       "</ol>\n"
      ],
      "text/latex": [
       "\\begin{enumerate*}\n",
       "\\item 221\n",
       "\\item 15\n",
       "\\end{enumerate*}\n"
      ],
      "text/markdown": [
       "1. 221\n",
       "2. 15\n",
       "\n",
       "\n"
      ],
      "text/plain": [
       "[1] 221  15"
      ]
     },
     "metadata": {},
     "output_type": "display_data"
    },
    {
     "data": {
      "text/plain": [
       "\n",
       "    rHGG      txe \n",
       "0.760181 0.239819 "
      ]
     },
     "metadata": {},
     "output_type": "display_data"
    }
   ],
   "source": [
    "data_train = data_xy[data_xy$t_number_y %in% train_tnums, ]\n",
    "dim(data_train)\n",
    "table(data_train$outcome)/sum(table(data_train$outcome)['rHGG'], table(data_train$outcome)['txe'])"
   ]
  },
  {
   "cell_type": "code",
   "execution_count": 97,
   "metadata": {},
   "outputs": [
    {
     "data": {
      "text/html": [
       "<ol class=list-inline>\n",
       "\t<li>70</li>\n",
       "\t<li>15</li>\n",
       "</ol>\n"
      ],
      "text/latex": [
       "\\begin{enumerate*}\n",
       "\\item 70\n",
       "\\item 15\n",
       "\\end{enumerate*}\n"
      ],
      "text/markdown": [
       "1. 70\n",
       "2. 15\n",
       "\n",
       "\n"
      ],
      "text/plain": [
       "[1] 70 15"
      ]
     },
     "metadata": {},
     "output_type": "display_data"
    },
    {
     "data": {
      "text/plain": [
       "\n",
       "     rHGG       txe \n",
       "0.7714286 0.2285714 "
      ]
     },
     "metadata": {},
     "output_type": "display_data"
    }
   ],
   "source": [
    "data_test = data_xy[data_xy$t_number_y %in% test_tnums, ]\n",
    "dim(data_test)\n",
    "table(data_test$outcome)/sum(table(data_test$outcome)['rHGG'], table(data_test$outcome)['txe'])"
   ]
  },
  {
   "cell_type": "markdown",
   "metadata": {},
   "source": [
    "## filling in missing values:\n"
   ]
  },
  {
   "cell_type": "code",
   "execution_count": 98,
   "metadata": {},
   "outputs": [],
   "source": [
    "# data_med = median imputation\n",
    "# data_999 = 999 coded for missingness\n",
    "# data_SRC = randomForestSRC imputated"
   ]
  },
  {
   "cell_type": "code",
   "execution_count": 109,
   "metadata": {},
   "outputs": [],
   "source": [
    "for (col in c('nadc.1', 'nfa.1', 'cbvn_nlin', 'recov_npar', 'ccri', 'cni', 'ncre', 'ncho', 'nnaa')){\n",
    "    \n",
    "    ## normalize the training data & then the testing data w/ training params: \n",
    "    mean_col = mean(data_train[,col], na.rm = T)\n",
    "    sd_col   = sd(data_train[,col], na.rm = T)    \n",
    "    data_train[,col] = (data_train[,col]-mean_col)/sd_col\n",
    "    data_test[,col]  = (data_test[,col]-mean_col)/sd_col \n",
    "}\n",
    "\n",
    "data_999_train = data_train\n",
    "data_999_test = data_test\n",
    "data_med_train = data_train\n",
    "data_med_test  = data_test\n",
    "\n",
    "## fill in the data_999 training and testing w/ 999 for missing data: \n",
    "for (col in c('nadc.1', 'nfa.1', 'cbvn_nlin', 'recov_npar', 'ccri', 'cni', 'ncre', 'ncho', 'nnaa')){\n",
    "    data_999_train[,col] = ifelse(is.na(data_999_train[,col]), 999, data_999_train[,col])\n",
    "    data_999_test[,col] = ifelse(is.na(data_999_test[,col]), 999, data_999_test[,col])\n",
    "    \n",
    "    ## fill in the data_med training & testing w/ median of column from training: \n",
    "    data_med_train[,col] = ifelse(is.na(data_med_train[,col]), \n",
    "                                  median(data_med_train[,col], na.rm = T), \n",
    "                                  data_med_train[,col])\n",
    "    data_med_test[,col] = ifelse(is.na(data_med_test[,col]), \n",
    "                                  median(data_med_train[,col], na.rm = T), \n",
    "                                  data_med_test[,col])\n",
    "}\n",
    "    "
   ]
  },
  {
   "cell_type": "code",
   "execution_count": 112,
   "metadata": {},
   "outputs": [],
   "source": [
    "indicators = c('hasDiffu', 'hasPerf', 'hasSpec')"
   ]
  },
  {
   "cell_type": "code",
   "execution_count": 113,
   "metadata": {},
   "outputs": [
    {
     "data": {
      "text/html": [
       "<table>\n",
       "<thead><tr><th></th><th scope=col>t_number_y</th><th scope=col>nadc.1</th><th scope=col>nfa.1</th><th scope=col>cbvn_nlin</th><th scope=col>recov_npar</th><th scope=col>ccri</th><th scope=col>cni</th><th scope=col>ncre</th><th scope=col>ncho</th><th scope=col>nnaa</th><th scope=col>in_CEL</th><th scope=col>outcome</th><th scope=col>hasDiffu</th><th scope=col>hasPerf</th><th scope=col>hasSpec</th></tr></thead>\n",
       "<tbody>\n",
       "\t<tr><th scope=row>3</th><td>10448       </td><td>-0.1572098  </td><td>-0.97165715 </td><td> 0.79157206 </td><td> 0.8160546  </td><td>-0.063923430</td><td>-0.10554231 </td><td> 0.07945320 </td><td>-0.03314834 </td><td> 0.099396717</td><td>1           </td><td>rHGG        </td><td>1           </td><td>1           </td><td>0           </td></tr>\n",
       "\t<tr><th scope=row>4</th><td>10594       </td><td> 1.8648729  </td><td>-0.02242617 </td><td> 0.06733624 </td><td>-0.7763788  </td><td> 0.043825918</td><td>-0.09990289 </td><td>-0.05431780 </td><td>-0.08372352 </td><td>-0.006595746</td><td>0           </td><td>txe         </td><td>1           </td><td>1           </td><td>0           </td></tr>\n",
       "\t<tr><th scope=row>5</th><td>10594       </td><td> 0.8538315  </td><td>-1.21661999 </td><td>-0.56522416 </td><td> 0.8160546  </td><td>-0.435252492</td><td>-0.19577871 </td><td> 0.17133743 </td><td>-0.32372189 </td><td>-0.091011352</td><td>0           </td><td>rHGG        </td><td>1           </td><td>1           </td><td>1           </td></tr>\n",
       "\t<tr><th scope=row>6</th><td>10594       </td><td>-0.1976515  </td><td>-0.26738901 </td><td>-0.66606712 </td><td> 0.8160546  </td><td>-0.004547998</td><td> 0.79558551 </td><td> 0.54667122 </td><td> 0.25046092 </td><td>-0.826662218</td><td>0           </td><td>rHGG        </td><td>1           </td><td>1           </td><td>1           </td></tr>\n",
       "\t<tr><th scope=row>7</th><td>10594       </td><td> 2.6939268  </td><td>-1.21661999 </td><td>-1.05110389 </td><td> 0.8160546  </td><td>-0.070810228</td><td> 0.05782609 </td><td> 0.73433811 </td><td> 0.53251564 </td><td> 1.124411817</td><td>0           </td><td>rHGG        </td><td>1           </td><td>1           </td><td>1           </td></tr>\n",
       "\t<tr><th scope=row>10</th><td>10708       </td><td>-1.1075887  </td><td> 1.07990658 </td><td> 0.14984412 </td><td> 0.8160546  </td><td> 1.439968611</td><td> 1.13449374 </td><td> 0.09090877 </td><td> 1.19735890 </td><td> 0.292806491</td><td>1           </td><td>rHGG        </td><td>1           </td><td>1           </td><td>1           </td></tr>\n",
       "</tbody>\n",
       "</table>\n"
      ],
      "text/latex": [
       "\\begin{tabular}{r|lllllllllllllll}\n",
       "  & t\\_number\\_y & nadc.1 & nfa.1 & cbvn\\_nlin & recov\\_npar & ccri & cni & ncre & ncho & nnaa & in\\_CEL & outcome & hasDiffu & hasPerf & hasSpec\\\\\n",
       "\\hline\n",
       "\t3 & 10448        & -0.1572098   & -0.97165715  &  0.79157206  &  0.8160546   & -0.063923430 & -0.10554231  &  0.07945320  & -0.03314834  &  0.099396717 & 1            & rHGG         & 1            & 1            & 0           \\\\\n",
       "\t4 & 10594        &  1.8648729   & -0.02242617  &  0.06733624  & -0.7763788   &  0.043825918 & -0.09990289  & -0.05431780  & -0.08372352  & -0.006595746 & 0            & txe          & 1            & 1            & 0           \\\\\n",
       "\t5 & 10594        &  0.8538315   & -1.21661999  & -0.56522416  &  0.8160546   & -0.435252492 & -0.19577871  &  0.17133743  & -0.32372189  & -0.091011352 & 0            & rHGG         & 1            & 1            & 1           \\\\\n",
       "\t6 & 10594        & -0.1976515   & -0.26738901  & -0.66606712  &  0.8160546   & -0.004547998 &  0.79558551  &  0.54667122  &  0.25046092  & -0.826662218 & 0            & rHGG         & 1            & 1            & 1           \\\\\n",
       "\t7 & 10594        &  2.6939268   & -1.21661999  & -1.05110389  &  0.8160546   & -0.070810228 &  0.05782609  &  0.73433811  &  0.53251564  &  1.124411817 & 0            & rHGG         & 1            & 1            & 1           \\\\\n",
       "\t10 & 10708        & -1.1075887   &  1.07990658  &  0.14984412  &  0.8160546   &  1.439968611 &  1.13449374  &  0.09090877  &  1.19735890  &  0.292806491 & 1            & rHGG         & 1            & 1            & 1           \\\\\n",
       "\\end{tabular}\n"
      ],
      "text/markdown": [
       "\n",
       "| <!--/--> | t_number_y | nadc.1 | nfa.1 | cbvn_nlin | recov_npar | ccri | cni | ncre | ncho | nnaa | in_CEL | outcome | hasDiffu | hasPerf | hasSpec | \n",
       "|---|---|---|---|---|---|\n",
       "| 3 | 10448        | -0.1572098   | -0.97165715  |  0.79157206  |  0.8160546   | -0.063923430 | -0.10554231  |  0.07945320  | -0.03314834  |  0.099396717 | 1            | rHGG         | 1            | 1            | 0            | \n",
       "| 4 | 10594        |  1.8648729   | -0.02242617  |  0.06733624  | -0.7763788   |  0.043825918 | -0.09990289  | -0.05431780  | -0.08372352  | -0.006595746 | 0            | txe          | 1            | 1            | 0            | \n",
       "| 5 | 10594        |  0.8538315   | -1.21661999  | -0.56522416  |  0.8160546   | -0.435252492 | -0.19577871  |  0.17133743  | -0.32372189  | -0.091011352 | 0            | rHGG         | 1            | 1            | 1            | \n",
       "| 6 | 10594        | -0.1976515   | -0.26738901  | -0.66606712  |  0.8160546   | -0.004547998 |  0.79558551  |  0.54667122  |  0.25046092  | -0.826662218 | 0            | rHGG         | 1            | 1            | 1            | \n",
       "| 7 | 10594        |  2.6939268   | -1.21661999  | -1.05110389  |  0.8160546   | -0.070810228 |  0.05782609  |  0.73433811  |  0.53251564  |  1.124411817 | 0            | rHGG         | 1            | 1            | 1            | \n",
       "| 10 | 10708        | -1.1075887   |  1.07990658  |  0.14984412  |  0.8160546   |  1.439968611 |  1.13449374  |  0.09090877  |  1.19735890  |  0.292806491 | 1            | rHGG         | 1            | 1            | 1            | \n",
       "\n",
       "\n"
      ],
      "text/plain": [
       "   t_number_y nadc.1     nfa.1       cbvn_nlin   recov_npar ccri        \n",
       "3  10448      -0.1572098 -0.97165715  0.79157206  0.8160546 -0.063923430\n",
       "4  10594       1.8648729 -0.02242617  0.06733624 -0.7763788  0.043825918\n",
       "5  10594       0.8538315 -1.21661999 -0.56522416  0.8160546 -0.435252492\n",
       "6  10594      -0.1976515 -0.26738901 -0.66606712  0.8160546 -0.004547998\n",
       "7  10594       2.6939268 -1.21661999 -1.05110389  0.8160546 -0.070810228\n",
       "10 10708      -1.1075887  1.07990658  0.14984412  0.8160546  1.439968611\n",
       "   cni         ncre        ncho        nnaa         in_CEL outcome hasDiffu\n",
       "3  -0.10554231  0.07945320 -0.03314834  0.099396717 1      rHGG    1       \n",
       "4  -0.09990289 -0.05431780 -0.08372352 -0.006595746 0      txe     1       \n",
       "5  -0.19577871  0.17133743 -0.32372189 -0.091011352 0      rHGG    1       \n",
       "6   0.79558551  0.54667122  0.25046092 -0.826662218 0      rHGG    1       \n",
       "7   0.05782609  0.73433811  0.53251564  1.124411817 0      rHGG    1       \n",
       "10  1.13449374  0.09090877  1.19735890  0.292806491 1      rHGG    1       \n",
       "   hasPerf hasSpec\n",
       "3  1       0      \n",
       "4  1       0      \n",
       "5  1       1      \n",
       "6  1       1      \n",
       "7  1       1      \n",
       "10 1       1      "
      ]
     },
     "metadata": {},
     "output_type": "display_data"
    }
   ],
   "source": [
    "data_src_train = randomForestSRC::impute(data = data_train)\n",
    "head(data_src_train)"
   ]
  },
  {
   "cell_type": "markdown",
   "metadata": {},
   "source": [
    "## using RFs: "
   ]
  },
  {
   "cell_type": "code",
   "execution_count": 114,
   "metadata": {},
   "outputs": [],
   "source": [
    "outcome = \"outcome\"\n",
    "features = c('in_CEL', 'cbvn_nlin', 'recov_npar',\n",
    "             'ccri', 'cni', 'ncho', 'ncre', 'nnaa', 'nfa.1', 'nadc.1',\n",
    "            'hasPerf', 'hasSpec', 'hasDiffu')\n",
    "features.addsign <- paste(features, collapse = \"+\")\n",
    "rf_formula = as.formula(paste(outcome, features.addsign, sep = \"~\"))"
   ]
  },
  {
   "cell_type": "code",
   "execution_count": 122,
   "metadata": {},
   "outputs": [],
   "source": [
    "rf_999 = randomForest(formula = rf_formula, \n",
    "                   data = data.frame(data_999_train))\n",
    "rf_med = randomForest(formula = rf_formula, \n",
    "                   data = data.frame(data_med_train))\n",
    "rf_src = randomForest(formula = rf_formula, \n",
    "                   data = data.frame(data_src_train))"
   ]
  },
  {
   "cell_type": "code",
   "execution_count": 128,
   "metadata": {},
   "outputs": [
    {
     "data": {
      "text/html": [
       "<table>\n",
       "<thead><tr><th></th><th scope=col>MeanDecreaseGini</th><th scope=col>MeanDecreaseGini.1</th><th scope=col>MeanDecreaseGini.2</th></tr></thead>\n",
       "<tbody>\n",
       "\t<tr><th scope=row>in_CEL</th><td> 1.7045021</td><td> 1.6974648</td><td> 1.1609921</td></tr>\n",
       "\t<tr><th scope=row>cbvn_nlin</th><td> 8.4518094</td><td> 9.6020829</td><td> 9.7081295</td></tr>\n",
       "\t<tr><th scope=row>recov_npar</th><td>11.3424045</td><td>12.2522216</td><td>12.0236457</td></tr>\n",
       "\t<tr><th scope=row>ccri</th><td> 3.8581932</td><td> 4.3651741</td><td> 7.3087713</td></tr>\n",
       "\t<tr><th scope=row>cni</th><td> 4.0518004</td><td> 4.4137988</td><td> 7.8879510</td></tr>\n",
       "\t<tr><th scope=row>ncho</th><td> 4.0590189</td><td> 4.4382967</td><td> 8.0868214</td></tr>\n",
       "\t<tr><th scope=row>ncre</th><td> 3.6567512</td><td> 3.8277764</td><td> 8.4296409</td></tr>\n",
       "\t<tr><th scope=row>nnaa</th><td> 4.2205653</td><td> 4.6867316</td><td> 8.7385343</td></tr>\n",
       "\t<tr><th scope=row>nfa.1</th><td>10.1393563</td><td> 9.8532974</td><td> 6.9285991</td></tr>\n",
       "\t<tr><th scope=row>nadc.1</th><td> 9.8812550</td><td>11.1514257</td><td> 7.2559096</td></tr>\n",
       "\t<tr><th scope=row>hasPerf</th><td> 1.2205752</td><td> 1.2825879</td><td> 1.3025637</td></tr>\n",
       "\t<tr><th scope=row>hasSpec</th><td> 0.4996367</td><td> 0.8389714</td><td> 0.8815791</td></tr>\n",
       "\t<tr><th scope=row>hasDiffu</th><td> 0.4903328</td><td> 0.6252904</td><td> 0.4860149</td></tr>\n",
       "</tbody>\n",
       "</table>\n"
      ],
      "text/latex": [
       "\\begin{tabular}{r|lll}\n",
       "  & MeanDecreaseGini & MeanDecreaseGini.1 & MeanDecreaseGini.2\\\\\n",
       "\\hline\n",
       "\tin\\_CEL &  1.7045021 &  1.6974648 &  1.1609921\\\\\n",
       "\tcbvn\\_nlin &  8.4518094 &  9.6020829 &  9.7081295\\\\\n",
       "\trecov\\_npar & 11.3424045 & 12.2522216 & 12.0236457\\\\\n",
       "\tccri &  3.8581932 &  4.3651741 &  7.3087713\\\\\n",
       "\tcni &  4.0518004 &  4.4137988 &  7.8879510\\\\\n",
       "\tncho &  4.0590189 &  4.4382967 &  8.0868214\\\\\n",
       "\tncre &  3.6567512 &  3.8277764 &  8.4296409\\\\\n",
       "\tnnaa &  4.2205653 &  4.6867316 &  8.7385343\\\\\n",
       "\tnfa.1 & 10.1393563 &  9.8532974 &  6.9285991\\\\\n",
       "\tnadc.1 &  9.8812550 & 11.1514257 &  7.2559096\\\\\n",
       "\thasPerf &  1.2205752 &  1.2825879 &  1.3025637\\\\\n",
       "\thasSpec &  0.4996367 &  0.8389714 &  0.8815791\\\\\n",
       "\thasDiffu &  0.4903328 &  0.6252904 &  0.4860149\\\\\n",
       "\\end{tabular}\n"
      ],
      "text/markdown": [
       "\n",
       "| <!--/--> | MeanDecreaseGini | MeanDecreaseGini.1 | MeanDecreaseGini.2 | \n",
       "|---|---|---|---|---|---|---|---|---|---|---|---|---|\n",
       "| in_CEL |  1.7045021 |  1.6974648 |  1.1609921 | \n",
       "| cbvn_nlin |  8.4518094 |  9.6020829 |  9.7081295 | \n",
       "| recov_npar | 11.3424045 | 12.2522216 | 12.0236457 | \n",
       "| ccri |  3.8581932 |  4.3651741 |  7.3087713 | \n",
       "| cni |  4.0518004 |  4.4137988 |  7.8879510 | \n",
       "| ncho |  4.0590189 |  4.4382967 |  8.0868214 | \n",
       "| ncre |  3.6567512 |  3.8277764 |  8.4296409 | \n",
       "| nnaa |  4.2205653 |  4.6867316 |  8.7385343 | \n",
       "| nfa.1 | 10.1393563 |  9.8532974 |  6.9285991 | \n",
       "| nadc.1 |  9.8812550 | 11.1514257 |  7.2559096 | \n",
       "| hasPerf |  1.2205752 |  1.2825879 |  1.3025637 | \n",
       "| hasSpec |  0.4996367 |  0.8389714 |  0.8815791 | \n",
       "| hasDiffu |  0.4903328 |  0.6252904 |  0.4860149 | \n",
       "\n",
       "\n"
      ],
      "text/plain": [
       "           MeanDecreaseGini MeanDecreaseGini.1 MeanDecreaseGini.2\n",
       "in_CEL      1.7045021        1.6974648          1.1609921        \n",
       "cbvn_nlin   8.4518094        9.6020829          9.7081295        \n",
       "recov_npar 11.3424045       12.2522216         12.0236457        \n",
       "ccri        3.8581932        4.3651741          7.3087713        \n",
       "cni         4.0518004        4.4137988          7.8879510        \n",
       "ncho        4.0590189        4.4382967          8.0868214        \n",
       "ncre        3.6567512        3.8277764          8.4296409        \n",
       "nnaa        4.2205653        4.6867316          8.7385343        \n",
       "nfa.1      10.1393563        9.8532974          6.9285991        \n",
       "nadc.1      9.8812550       11.1514257          7.2559096        \n",
       "hasPerf     1.2205752        1.2825879          1.3025637        \n",
       "hasSpec     0.4996367        0.8389714          0.8815791        \n",
       "hasDiffu    0.4903328        0.6252904          0.4860149        "
      ]
     },
     "metadata": {},
     "output_type": "display_data"
    }
   ],
   "source": [
    "data.frame(importance(rf_999), importance(rf_med), importance(rf_src))"
   ]
  },
  {
   "cell_type": "code",
   "execution_count": 138,
   "metadata": {},
   "outputs": [
    {
     "data": {
      "text/html": [
       "8.45180944314845"
      ],
      "text/latex": [
       "8.45180944314845"
      ],
      "text/markdown": [
       "8.45180944314845"
      ],
      "text/plain": [
       "[1] 8.451809"
      ]
     },
     "metadata": {},
     "output_type": "display_data"
    }
   ],
   "source": [
    "importance(rf_999)['cbvn_nlin',]"
   ]
  },
  {
   "cell_type": "markdown",
   "metadata": {},
   "source": [
    "## how important are the divisions for RF varImp scores? "
   ]
  },
  {
   "cell_type": "code",
   "execution_count": 152,
   "metadata": {},
   "outputs": [],
   "source": [
    "## let's extract confusion matrix and put that in a data frame: \n",
    "outcome_exp_template = data.frame(expnum = NA,\n",
    "tr_txe_pct = NA, \n",
    "cv_txe_pct = NA, \n",
    "tr_outtxe_predtxe = NA, \n",
    "tr_outtxe_predrHGG = NA, \n",
    "tr_outrHGG_predtxe = NA, \n",
    "tr_outrHGG_predrHGG = NA, \n",
    "cv_outtxe_predtxe = NA, \n",
    "cv_outtxe_predrHGG = NA, \n",
    "cv_outrHGG_predtxe = NA, \n",
    "cv_outrHGG_predrHGG = NA, \n",
    "varImp_in_CEL = NA, \n",
    "varImp_cbvn_nlin = NA, \n",
    "varImp_recov_npar = NA, \n",
    "varImp_ccri = NA, \n",
    "varImp_cni = NA, \n",
    "varImp_ncho = NA, \n",
    "varImp_ncre = NA, \n",
    "varImp_nnaa = NA, \n",
    "varImp_nfa.1 = NA, \n",
    "varImp_nadc.1 = NA, \n",
    "varImp_hasDiffu = NA, \n",
    "varImp_hasPerf = NA, \n",
    "varImp_hasSpec = NA)"
   ]
  },
  {
   "cell_type": "code",
   "execution_count": 153,
   "metadata": {},
   "outputs": [
    {
     "data": {
      "text/html": [
       "'varImp_hasDiffu'"
      ],
      "text/latex": [
       "'varImp\\_hasDiffu'"
      ],
      "text/markdown": [
       "'varImp_hasDiffu'"
      ],
      "text/plain": [
       "[1] \"varImp_hasDiffu\""
      ]
     },
     "metadata": {},
     "output_type": "display_data"
    }
   ],
   "source": [
    "varImp_col = paste('varImp_', col, sep = \"\")\n",
    "varImp_col"
   ]
  },
  {
   "cell_type": "code",
   "execution_count": 154,
   "metadata": {},
   "outputs": [],
   "source": [
    "outcome_999_experiment = outcome_exp_template"
   ]
  },
  {
   "cell_type": "code",
   "execution_count": 155,
   "metadata": {},
   "outputs": [
    {
     "name": "stdout",
     "output_type": "stream",
     "text": [
      "3.51 sec elapsed\n"
     ]
    }
   ],
   "source": [
    "## let's begin by running experiments for anatomic features only: \n",
    "## for each experiment, we'll run the random forest with a variety of parameters \n",
    "expnum = 1\n",
    "tic()\n",
    "for (i in 1:25){\n",
    "    set.seed(i)\n",
    "    \n",
    "    ## define features and outcome: \n",
    "    outcome = \"outcome\"\n",
    "    features = c('in_CEL', 'cbvn_nlin', 'recov_npar',\n",
    "                 'ccri', 'cni', 'ncho', 'ncre', 'nnaa', 'nfa.1', 'nadc.1',\n",
    "                'hasPerf', 'hasSpec', 'hasDiffu')\n",
    "    features.addsign <- paste(features, collapse = \"+\")\n",
    "    rf_formula = as.formula(paste(outcome, features.addsign, sep = \"~\"))\n",
    "    \n",
    "    ## define training and testing (from the training) basically for x-val: \n",
    "    unique_tnums = unique(data_999_train$t_number_y)\n",
    "    train_tnums = unique_tnums[sample(c(1:length(unique_tnums)), size = round(length(unique_tnums)*.75))]\n",
    "    test_tnums = unique_tnums[! unique_tnums %in% train_tnums]\n",
    "    \n",
    "    data_exp_999_train = data_999_train[data_999_train$t_number_y %in% train_tnums, ]\n",
    "    data_exp_999_cv    = data_999_train[! data_999_train$t_number_y %in% train_tnums, ]    \n",
    "    \n",
    "    rf_999 = randomForest(formula = rf_formula, \n",
    "             data = data_exp_999_train)\n",
    "    \n",
    "    importance_rf_999 = importance(rf_999)\n",
    "    \n",
    "    cv_999_preds = predict(rf_999, data_exp_999_cv)\n",
    "\n",
    "    cv_999_conf_mat = confusionMatrix(cv_999_preds, data_exp_999_cv$outcome)\n",
    "    \n",
    "    tr_txe_pct = table(data_exp_999_train$outcome)['txe']/sum(table(data_exp_999_train$outcome)['txe'], table(data_exp_999_train$outcome)['rHGG'])\n",
    "    cv_txe_pct = table(data_exp_999_cv$outcome)['txe']/sum(table(data_exp_999_cv$outcome)['txe'], table(data_exp_999_cv$outcome)['rHGG'])\n",
    "\n",
    "    outcome_999_experiment[expnum,'expnum'] = expnum\n",
    "    outcome_999_experiment[expnum,'tr_txe_pct'] = tr_txe_pct\n",
    "    outcome_999_experiment[expnum,'cv_txe_pct'] = cv_txe_pct\n",
    "    \n",
    "    outcome_999_experiment[expnum,'tr_outtxe_predtxe'] = rf_999$confusion['txe', 'txe']\n",
    "    outcome_999_experiment[expnum,'tr_outtxe_predrHGG'] = rf_999$confusion['txe', 'rHGG']\n",
    "    outcome_999_experiment[expnum,'tr_outrHGG_predtxe'] = rf_999$confusion['rHGG', 'txe']\n",
    "    outcome_999_experiment[expnum,'tr_outrHGG_predrHGG'] = rf_999$confusion['rHGG', 'rHGG']\n",
    "    outcome_999_experiment[expnum,'cv_outtxe_predtxe'] = cv_999_conf_mat$table['txe', 'txe']\n",
    "    outcome_999_experiment[expnum,'cv_outtxe_predrHGG'] = cv_999_conf_mat$table['txe', 'rHGG']\n",
    "    outcome_999_experiment[expnum,'cv_outrHGG_predtxe'] = cv_999_conf_mat$table['rHGG', 'txe']\n",
    "    outcome_999_experiment[expnum,'cv_outrHGG_predrHGG'] = cv_999_conf_mat$table['rHGG', 'rHGG']\n",
    "    \n",
    "    for (col in features){\n",
    "        varImp_col = paste('varImp_', col, sep = \"\")\n",
    "        outcome_999_experiment[expnum, varImp_col] = importance_rf_999[col,]\n",
    "    }\n",
    "      \n",
    "    expnum = expnum + 1\n",
    "\n",
    "}\n",
    "toc()"
   ]
  },
  {
   "cell_type": "code",
   "execution_count": 156,
   "metadata": {},
   "outputs": [],
   "source": [
    "outcome_med_experiment = outcome_exp_template"
   ]
  },
  {
   "cell_type": "code",
   "execution_count": 157,
   "metadata": {},
   "outputs": [
    {
     "name": "stdout",
     "output_type": "stream",
     "text": [
      "3.467 sec elapsed\n"
     ]
    }
   ],
   "source": [
    "## let's begin by running experiments for anatomic features only: \n",
    "## for each experiment, we'll run the random forest with a variety of parameters \n",
    "expnum = 1\n",
    "tic()\n",
    "for (i in 1:25){\n",
    "    set.seed(i)\n",
    "    \n",
    "    ## define features and outcome: \n",
    "    outcome = \"outcome\"\n",
    "    features = c('in_CEL', 'cbvn_nlin', 'recov_npar',\n",
    "                 'ccri', 'cni', 'ncho', 'ncre', 'nnaa', 'nfa.1', 'nadc.1',\n",
    "                'hasPerf', 'hasSpec', 'hasDiffu')\n",
    "    features.addsign <- paste(features, collapse = \"+\")\n",
    "    rf_formula = as.formula(paste(outcome, features.addsign, sep = \"~\"))\n",
    "    \n",
    "    ## define training and testing (from the training) basically for x-val: \n",
    "    unique_tnums = unique(data_med_train$t_number_y)\n",
    "    train_tnums = unique_tnums[sample(c(1:length(unique_tnums)), size = round(length(unique_tnums)*.75))]\n",
    "    test_tnums = unique_tnums[! unique_tnums %in% train_tnums]\n",
    "    \n",
    "    data_exp_med_train = data_med_train[data_med_train$t_number_y %in% train_tnums, ]\n",
    "    data_exp_med_cv    = data_med_train[! data_med_train$t_number_y %in% train_tnums, ]    \n",
    "    \n",
    "    rf_med = randomForest(formula = rf_formula, \n",
    "             data = data_exp_med_train)\n",
    "    \n",
    "    importance_rf_med = importance(rf_med)\n",
    "    \n",
    "    cv_med_preds = predict(rf_med, data_exp_med_cv)\n",
    "\n",
    "    cv_med_conf_mat = confusionMatrix(cv_med_preds, data_exp_med_cv$outcome)\n",
    "    \n",
    "    tr_txe_pct = table(data_exp_med_train$outcome)['txe']/sum(table(data_exp_med_train$outcome)['txe'], table(data_exp_med_train$outcome)['rHGG'])\n",
    "    cv_txe_pct = table(data_exp_med_cv$outcome)['txe']/sum(table(data_exp_med_cv$outcome)['txe'], table(data_exp_med_cv$outcome)['rHGG'])\n",
    "\n",
    "    outcome_med_experiment[expnum,'expnum'] = expnum\n",
    "    outcome_med_experiment[expnum,'tr_txe_pct'] = tr_txe_pct\n",
    "    outcome_med_experiment[expnum,'cv_txe_pct'] = cv_txe_pct\n",
    "    \n",
    "    outcome_med_experiment[expnum,'tr_outtxe_predtxe'] = rf_med$confusion['txe', 'txe']\n",
    "    outcome_med_experiment[expnum,'tr_outtxe_predrHGG'] = rf_med$confusion['txe', 'rHGG']\n",
    "    outcome_med_experiment[expnum,'tr_outrHGG_predtxe'] = rf_med$confusion['rHGG', 'txe']\n",
    "    outcome_med_experiment[expnum,'tr_outrHGG_predrHGG'] = rf_med$confusion['rHGG', 'rHGG']\n",
    "    outcome_med_experiment[expnum,'cv_outtxe_predtxe'] = cv_med_conf_mat$table['txe', 'txe']\n",
    "    outcome_med_experiment[expnum,'cv_outtxe_predrHGG'] = cv_med_conf_mat$table['txe', 'rHGG']\n",
    "    outcome_med_experiment[expnum,'cv_outrHGG_predtxe'] = cv_med_conf_mat$table['rHGG', 'txe']\n",
    "    outcome_med_experiment[expnum,'cv_outrHGG_predrHGG'] = cv_med_conf_mat$table['rHGG', 'rHGG']\n",
    "    \n",
    "    for (col in features){\n",
    "        varImp_col = paste('varImp_', col, sep = \"\")\n",
    "        outcome_med_experiment[expnum, varImp_col] = importance_rf_med[col,]\n",
    "    }\n",
    "      \n",
    "    expnum = expnum + 1\n",
    "\n",
    "}\n",
    "toc()"
   ]
  },
  {
   "cell_type": "code",
   "execution_count": 158,
   "metadata": {},
   "outputs": [],
   "source": [
    "outcome_src_experiment = outcome_exp_template"
   ]
  },
  {
   "cell_type": "code",
   "execution_count": 159,
   "metadata": {},
   "outputs": [
    {
     "name": "stdout",
     "output_type": "stream",
     "text": [
      "3.393 sec elapsed\n"
     ]
    }
   ],
   "source": [
    "## let's begin by running experiments for anatomic features only: \n",
    "## for each experiment, we'll run the random forest with a variety of parameters \n",
    "expnum = 1\n",
    "tic()\n",
    "for (i in 1:25){\n",
    "    set.seed(i)\n",
    "    \n",
    "    ## define features and outcome: \n",
    "    outcome = \"outcome\"\n",
    "    features = c('in_CEL', 'cbvn_nlin', 'recov_npar',\n",
    "                 'ccri', 'cni', 'ncho', 'ncre', 'nnaa', 'nfa.1', 'nadc.1',\n",
    "                'hasPerf', 'hasSpec', 'hasDiffu')\n",
    "    features.addsign <- paste(features, collapse = \"+\")\n",
    "    rf_formula = as.formula(paste(outcome, features.addsign, sep = \"~\"))\n",
    "    \n",
    "    ## define training and testing (from the training) basically for x-val: \n",
    "    unique_tnums = unique(data_src_train$t_number_y)\n",
    "    train_tnums = unique_tnums[sample(c(1:length(unique_tnums)), size = round(length(unique_tnums)*.75))]\n",
    "    test_tnums = unique_tnums[! unique_tnums %in% train_tnums]\n",
    "    \n",
    "    data_exp_src_train = data_src_train[data_src_train$t_number_y %in% train_tnums, ]\n",
    "    data_exp_src_cv    = data_src_train[! data_src_train$t_number_y %in% train_tnums, ]    \n",
    "    \n",
    "    rf_src = randomForest(formula = rf_formula, \n",
    "             data = data_exp_src_train)\n",
    "    \n",
    "    importance_rf_src = importance(rf_src)\n",
    "    \n",
    "    cv_src_preds = predict(rf_src, data_exp_src_cv)\n",
    "\n",
    "    cv_src_conf_mat = confusionMatrix(cv_src_preds, data_exp_src_cv$outcome)\n",
    "    \n",
    "    tr_txe_pct = table(data_exp_src_train$outcome)['txe']/sum(table(data_exp_src_train$outcome)['txe'], table(data_exp_src_train$outcome)['rHGG'])\n",
    "    cv_txe_pct = table(data_exp_src_cv$outcome)['txe']/sum(table(data_exp_src_cv$outcome)['txe'], table(data_exp_src_cv$outcome)['rHGG'])\n",
    "\n",
    "    outcome_src_experiment[expnum,'expnum'] = expnum\n",
    "    outcome_src_experiment[expnum,'tr_txe_pct'] = tr_txe_pct\n",
    "    outcome_src_experiment[expnum,'cv_txe_pct'] = cv_txe_pct\n",
    "    \n",
    "    outcome_src_experiment[expnum,'tr_outtxe_predtxe'] = rf_src$confusion['txe', 'txe']\n",
    "    outcome_src_experiment[expnum,'tr_outtxe_predrHGG'] = rf_src$confusion['txe', 'rHGG']\n",
    "    outcome_src_experiment[expnum,'tr_outrHGG_predtxe'] = rf_src$confusion['rHGG', 'txe']\n",
    "    outcome_src_experiment[expnum,'tr_outrHGG_predrHGG'] = rf_src$confusion['rHGG', 'rHGG']\n",
    "    outcome_src_experiment[expnum,'cv_outtxe_predtxe'] = cv_src_conf_mat$table['txe', 'txe']\n",
    "    outcome_src_experiment[expnum,'cv_outtxe_predrHGG'] = cv_src_conf_mat$table['txe', 'rHGG']\n",
    "    outcome_src_experiment[expnum,'cv_outrHGG_predtxe'] = cv_src_conf_mat$table['rHGG', 'txe']\n",
    "    outcome_src_experiment[expnum,'cv_outrHGG_predrHGG'] = cv_src_conf_mat$table['rHGG', 'rHGG']\n",
    "    \n",
    "    for (col in features){\n",
    "        varImp_col = paste('varImp_', col, sep = \"\")\n",
    "        outcome_src_experiment[expnum, varImp_col] = importance_rf_src[col,]\n",
    "    }\n",
    "      \n",
    "    expnum = expnum + 1\n",
    "\n",
    "}\n",
    "toc()"
   ]
  },
  {
   "cell_type": "code",
   "execution_count": 166,
   "metadata": {},
   "outputs": [],
   "source": [
    "varImp_999_outcome = outcome_999_experiment[,grep('varImp', colnames(outcome_999_experiment))]\n"
   ]
  },
  {
   "cell_type": "code",
   "execution_count": 175,
   "metadata": {},
   "outputs": [
    {
     "data": {
      "text/html": [
       "<table>\n",
       "<thead><tr><th></th><th scope=col>med</th><th scope=col>sd</th></tr></thead>\n",
       "<tbody>\n",
       "\t<tr><th scope=row>varImp_in_CEL</th><td>1.3852004 </td><td>0.14851455</td></tr>\n",
       "\t<tr><th scope=row>varImp_cbvn_nlin</th><td>6.6744839 </td><td>0.85708480</td></tr>\n",
       "\t<tr><th scope=row>varImp_recov_npar</th><td>8.1704338 </td><td>1.36238741</td></tr>\n",
       "\t<tr><th scope=row>varImp_ccri</th><td>2.9745988 </td><td>0.37858557</td></tr>\n",
       "\t<tr><th scope=row>varImp_cni</th><td>3.0610369 </td><td>0.38216470</td></tr>\n",
       "\t<tr><th scope=row>varImp_ncho</th><td>3.2469352 </td><td>0.48403766</td></tr>\n",
       "\t<tr><th scope=row>varImp_ncre</th><td>2.5895273 </td><td>0.41212010</td></tr>\n",
       "\t<tr><th scope=row>varImp_nnaa</th><td>3.3451635 </td><td>0.61094626</td></tr>\n",
       "\t<tr><th scope=row>varImp_nfa.1</th><td>7.4478816 </td><td>0.75095766</td></tr>\n",
       "\t<tr><th scope=row>varImp_nadc.1</th><td>7.8070658 </td><td>0.68124399</td></tr>\n",
       "\t<tr><th scope=row>varImp_hasDiffu</th><td>0.3766161 </td><td>0.11203455</td></tr>\n",
       "\t<tr><th scope=row>varImp_hasPerf</th><td>0.8689124 </td><td>0.15525699</td></tr>\n",
       "\t<tr><th scope=row>varImp_hasSpec</th><td>0.4801549 </td><td>0.07083019</td></tr>\n",
       "</tbody>\n",
       "</table>\n"
      ],
      "text/latex": [
       "\\begin{tabular}{r|ll}\n",
       "  & med & sd\\\\\n",
       "\\hline\n",
       "\tvarImp\\_in\\_CEL & 1.3852004  & 0.14851455\\\\\n",
       "\tvarImp\\_cbvn\\_nlin & 6.6744839  & 0.85708480\\\\\n",
       "\tvarImp\\_recov\\_npar & 8.1704338  & 1.36238741\\\\\n",
       "\tvarImp\\_ccri & 2.9745988  & 0.37858557\\\\\n",
       "\tvarImp\\_cni & 3.0610369  & 0.38216470\\\\\n",
       "\tvarImp\\_ncho & 3.2469352  & 0.48403766\\\\\n",
       "\tvarImp\\_ncre & 2.5895273  & 0.41212010\\\\\n",
       "\tvarImp\\_nnaa & 3.3451635  & 0.61094626\\\\\n",
       "\tvarImp\\_nfa.1 & 7.4478816  & 0.75095766\\\\\n",
       "\tvarImp\\_nadc.1 & 7.8070658  & 0.68124399\\\\\n",
       "\tvarImp\\_hasDiffu & 0.3766161  & 0.11203455\\\\\n",
       "\tvarImp\\_hasPerf & 0.8689124  & 0.15525699\\\\\n",
       "\tvarImp\\_hasSpec & 0.4801549  & 0.07083019\\\\\n",
       "\\end{tabular}\n"
      ],
      "text/markdown": [
       "\n",
       "| <!--/--> | med | sd | \n",
       "|---|---|---|---|---|---|---|---|---|---|---|---|---|\n",
       "| varImp_in_CEL | 1.3852004  | 0.14851455 | \n",
       "| varImp_cbvn_nlin | 6.6744839  | 0.85708480 | \n",
       "| varImp_recov_npar | 8.1704338  | 1.36238741 | \n",
       "| varImp_ccri | 2.9745988  | 0.37858557 | \n",
       "| varImp_cni | 3.0610369  | 0.38216470 | \n",
       "| varImp_ncho | 3.2469352  | 0.48403766 | \n",
       "| varImp_ncre | 2.5895273  | 0.41212010 | \n",
       "| varImp_nnaa | 3.3451635  | 0.61094626 | \n",
       "| varImp_nfa.1 | 7.4478816  | 0.75095766 | \n",
       "| varImp_nadc.1 | 7.8070658  | 0.68124399 | \n",
       "| varImp_hasDiffu | 0.3766161  | 0.11203455 | \n",
       "| varImp_hasPerf | 0.8689124  | 0.15525699 | \n",
       "| varImp_hasSpec | 0.4801549  | 0.07083019 | \n",
       "\n",
       "\n"
      ],
      "text/plain": [
       "                  med       sd        \n",
       "varImp_in_CEL     1.3852004 0.14851455\n",
       "varImp_cbvn_nlin  6.6744839 0.85708480\n",
       "varImp_recov_npar 8.1704338 1.36238741\n",
       "varImp_ccri       2.9745988 0.37858557\n",
       "varImp_cni        3.0610369 0.38216470\n",
       "varImp_ncho       3.2469352 0.48403766\n",
       "varImp_ncre       2.5895273 0.41212010\n",
       "varImp_nnaa       3.3451635 0.61094626\n",
       "varImp_nfa.1      7.4478816 0.75095766\n",
       "varImp_nadc.1     7.8070658 0.68124399\n",
       "varImp_hasDiffu   0.3766161 0.11203455\n",
       "varImp_hasPerf    0.8689124 0.15525699\n",
       "varImp_hasSpec    0.4801549 0.07083019"
      ]
     },
     "metadata": {},
     "output_type": "display_data"
    }
   ],
   "source": [
    "# 999 imputed variable importances: \n",
    "data.frame(med = apply(varImp_999_outcome, 2, median), sd=apply(varImp_999_outcome, 2, sd))"
   ]
  },
  {
   "cell_type": "code",
   "execution_count": 179,
   "metadata": {},
   "outputs": [
    {
     "data": {
      "text/html": [
       "<table>\n",
       "<thead><tr><th></th><th scope=col>med</th><th scope=col>sd</th></tr></thead>\n",
       "<tbody>\n",
       "\t<tr><th scope=row>varImp_in_CEL</th><td>1.3127261</td><td>0.1260503</td></tr>\n",
       "\t<tr><th scope=row>varImp_cbvn_nlin</th><td>7.0452218</td><td>0.7921352</td></tr>\n",
       "\t<tr><th scope=row>varImp_recov_npar</th><td>9.1980841</td><td>1.2584866</td></tr>\n",
       "\t<tr><th scope=row>varImp_ccri</th><td>3.1214020</td><td>0.3687919</td></tr>\n",
       "\t<tr><th scope=row>varImp_cni</th><td>3.3705955</td><td>0.4694607</td></tr>\n",
       "\t<tr><th scope=row>varImp_ncho</th><td>3.6053080</td><td>0.5623417</td></tr>\n",
       "\t<tr><th scope=row>varImp_ncre</th><td>2.9545222</td><td>0.4108042</td></tr>\n",
       "\t<tr><th scope=row>varImp_nnaa</th><td>3.4146618</td><td>0.6033850</td></tr>\n",
       "\t<tr><th scope=row>varImp_nfa.1</th><td>7.6703425</td><td>0.6562647</td></tr>\n",
       "\t<tr><th scope=row>varImp_nadc.1</th><td>8.4533250</td><td>0.6943330</td></tr>\n",
       "\t<tr><th scope=row>varImp_hasDiffu</th><td>0.5143004</td><td>0.2248538</td></tr>\n",
       "\t<tr><th scope=row>varImp_hasPerf</th><td>1.0144883</td><td>0.1051901</td></tr>\n",
       "\t<tr><th scope=row>varImp_hasSpec</th><td>0.6454449</td><td>0.1432017</td></tr>\n",
       "</tbody>\n",
       "</table>\n"
      ],
      "text/latex": [
       "\\begin{tabular}{r|ll}\n",
       "  & med & sd\\\\\n",
       "\\hline\n",
       "\tvarImp\\_in\\_CEL & 1.3127261 & 0.1260503\\\\\n",
       "\tvarImp\\_cbvn\\_nlin & 7.0452218 & 0.7921352\\\\\n",
       "\tvarImp\\_recov\\_npar & 9.1980841 & 1.2584866\\\\\n",
       "\tvarImp\\_ccri & 3.1214020 & 0.3687919\\\\\n",
       "\tvarImp\\_cni & 3.3705955 & 0.4694607\\\\\n",
       "\tvarImp\\_ncho & 3.6053080 & 0.5623417\\\\\n",
       "\tvarImp\\_ncre & 2.9545222 & 0.4108042\\\\\n",
       "\tvarImp\\_nnaa & 3.4146618 & 0.6033850\\\\\n",
       "\tvarImp\\_nfa.1 & 7.6703425 & 0.6562647\\\\\n",
       "\tvarImp\\_nadc.1 & 8.4533250 & 0.6943330\\\\\n",
       "\tvarImp\\_hasDiffu & 0.5143004 & 0.2248538\\\\\n",
       "\tvarImp\\_hasPerf & 1.0144883 & 0.1051901\\\\\n",
       "\tvarImp\\_hasSpec & 0.6454449 & 0.1432017\\\\\n",
       "\\end{tabular}\n"
      ],
      "text/markdown": [
       "\n",
       "| <!--/--> | med | sd | \n",
       "|---|---|---|---|---|---|---|---|---|---|---|---|---|\n",
       "| varImp_in_CEL | 1.3127261 | 0.1260503 | \n",
       "| varImp_cbvn_nlin | 7.0452218 | 0.7921352 | \n",
       "| varImp_recov_npar | 9.1980841 | 1.2584866 | \n",
       "| varImp_ccri | 3.1214020 | 0.3687919 | \n",
       "| varImp_cni | 3.3705955 | 0.4694607 | \n",
       "| varImp_ncho | 3.6053080 | 0.5623417 | \n",
       "| varImp_ncre | 2.9545222 | 0.4108042 | \n",
       "| varImp_nnaa | 3.4146618 | 0.6033850 | \n",
       "| varImp_nfa.1 | 7.6703425 | 0.6562647 | \n",
       "| varImp_nadc.1 | 8.4533250 | 0.6943330 | \n",
       "| varImp_hasDiffu | 0.5143004 | 0.2248538 | \n",
       "| varImp_hasPerf | 1.0144883 | 0.1051901 | \n",
       "| varImp_hasSpec | 0.6454449 | 0.1432017 | \n",
       "\n",
       "\n"
      ],
      "text/plain": [
       "                  med       sd       \n",
       "varImp_in_CEL     1.3127261 0.1260503\n",
       "varImp_cbvn_nlin  7.0452218 0.7921352\n",
       "varImp_recov_npar 9.1980841 1.2584866\n",
       "varImp_ccri       3.1214020 0.3687919\n",
       "varImp_cni        3.3705955 0.4694607\n",
       "varImp_ncho       3.6053080 0.5623417\n",
       "varImp_ncre       2.9545222 0.4108042\n",
       "varImp_nnaa       3.4146618 0.6033850\n",
       "varImp_nfa.1      7.6703425 0.6562647\n",
       "varImp_nadc.1     8.4533250 0.6943330\n",
       "varImp_hasDiffu   0.5143004 0.2248538\n",
       "varImp_hasPerf    1.0144883 0.1051901\n",
       "varImp_hasSpec    0.6454449 0.1432017"
      ]
     },
     "metadata": {},
     "output_type": "display_data"
    }
   ],
   "source": [
    "# med imputed variable importances: \n",
    "\n",
    "data.frame(med = apply(outcome_med_experiment[,grep('varImp', colnames(outcome_med_experiment))], 2, median), \n",
    "           sd = apply(outcome_med_experiment[,grep('varImp', colnames(outcome_med_experiment))], 2, sd))"
   ]
  },
  {
   "cell_type": "code",
   "execution_count": 182,
   "metadata": {},
   "outputs": [
    {
     "data": {
      "text/html": [
       "<table>\n",
       "<thead><tr><th></th><th scope=col>med</th><th scope=col>sd</th></tr></thead>\n",
       "<tbody>\n",
       "\t<tr><th scope=row>varImp_in_CEL</th><td>0.9216150</td><td>0.1155651</td></tr>\n",
       "\t<tr><th scope=row>varImp_cbvn_nlin</th><td>6.9329724</td><td>0.7918387</td></tr>\n",
       "\t<tr><th scope=row>varImp_recov_npar</th><td>8.7461374</td><td>1.2451968</td></tr>\n",
       "\t<tr><th scope=row>varImp_ccri</th><td>5.5034513</td><td>0.4413178</td></tr>\n",
       "\t<tr><th scope=row>varImp_cni</th><td>5.8003091</td><td>0.4979162</td></tr>\n",
       "\t<tr><th scope=row>varImp_ncho</th><td>5.8264464</td><td>0.5418548</td></tr>\n",
       "\t<tr><th scope=row>varImp_ncre</th><td>6.3240912</td><td>0.8025848</td></tr>\n",
       "\t<tr><th scope=row>varImp_nnaa</th><td>6.6407445</td><td>0.7900533</td></tr>\n",
       "\t<tr><th scope=row>varImp_nfa.1</th><td>5.3961260</td><td>0.4905397</td></tr>\n",
       "\t<tr><th scope=row>varImp_nadc.1</th><td>5.6120268</td><td>0.5129651</td></tr>\n",
       "\t<tr><th scope=row>varImp_hasDiffu</th><td>0.3689076</td><td>0.1757297</td></tr>\n",
       "\t<tr><th scope=row>varImp_hasPerf</th><td>1.0093879</td><td>0.1864300</td></tr>\n",
       "\t<tr><th scope=row>varImp_hasSpec</th><td>0.7166107</td><td>0.1898429</td></tr>\n",
       "</tbody>\n",
       "</table>\n"
      ],
      "text/latex": [
       "\\begin{tabular}{r|ll}\n",
       "  & med & sd\\\\\n",
       "\\hline\n",
       "\tvarImp\\_in\\_CEL & 0.9216150 & 0.1155651\\\\\n",
       "\tvarImp\\_cbvn\\_nlin & 6.9329724 & 0.7918387\\\\\n",
       "\tvarImp\\_recov\\_npar & 8.7461374 & 1.2451968\\\\\n",
       "\tvarImp\\_ccri & 5.5034513 & 0.4413178\\\\\n",
       "\tvarImp\\_cni & 5.8003091 & 0.4979162\\\\\n",
       "\tvarImp\\_ncho & 5.8264464 & 0.5418548\\\\\n",
       "\tvarImp\\_ncre & 6.3240912 & 0.8025848\\\\\n",
       "\tvarImp\\_nnaa & 6.6407445 & 0.7900533\\\\\n",
       "\tvarImp\\_nfa.1 & 5.3961260 & 0.4905397\\\\\n",
       "\tvarImp\\_nadc.1 & 5.6120268 & 0.5129651\\\\\n",
       "\tvarImp\\_hasDiffu & 0.3689076 & 0.1757297\\\\\n",
       "\tvarImp\\_hasPerf & 1.0093879 & 0.1864300\\\\\n",
       "\tvarImp\\_hasSpec & 0.7166107 & 0.1898429\\\\\n",
       "\\end{tabular}\n"
      ],
      "text/markdown": [
       "\n",
       "| <!--/--> | med | sd | \n",
       "|---|---|---|---|---|---|---|---|---|---|---|---|---|\n",
       "| varImp_in_CEL | 0.9216150 | 0.1155651 | \n",
       "| varImp_cbvn_nlin | 6.9329724 | 0.7918387 | \n",
       "| varImp_recov_npar | 8.7461374 | 1.2451968 | \n",
       "| varImp_ccri | 5.5034513 | 0.4413178 | \n",
       "| varImp_cni | 5.8003091 | 0.4979162 | \n",
       "| varImp_ncho | 5.8264464 | 0.5418548 | \n",
       "| varImp_ncre | 6.3240912 | 0.8025848 | \n",
       "| varImp_nnaa | 6.6407445 | 0.7900533 | \n",
       "| varImp_nfa.1 | 5.3961260 | 0.4905397 | \n",
       "| varImp_nadc.1 | 5.6120268 | 0.5129651 | \n",
       "| varImp_hasDiffu | 0.3689076 | 0.1757297 | \n",
       "| varImp_hasPerf | 1.0093879 | 0.1864300 | \n",
       "| varImp_hasSpec | 0.7166107 | 0.1898429 | \n",
       "\n",
       "\n"
      ],
      "text/plain": [
       "                  med       sd       \n",
       "varImp_in_CEL     0.9216150 0.1155651\n",
       "varImp_cbvn_nlin  6.9329724 0.7918387\n",
       "varImp_recov_npar 8.7461374 1.2451968\n",
       "varImp_ccri       5.5034513 0.4413178\n",
       "varImp_cni        5.8003091 0.4979162\n",
       "varImp_ncho       5.8264464 0.5418548\n",
       "varImp_ncre       6.3240912 0.8025848\n",
       "varImp_nnaa       6.6407445 0.7900533\n",
       "varImp_nfa.1      5.3961260 0.4905397\n",
       "varImp_nadc.1     5.6120268 0.5129651\n",
       "varImp_hasDiffu   0.3689076 0.1757297\n",
       "varImp_hasPerf    1.0093879 0.1864300\n",
       "varImp_hasSpec    0.7166107 0.1898429"
      ]
     },
     "metadata": {},
     "output_type": "display_data"
    }
   ],
   "source": [
    "# src imputed variable importances: \n",
    "\n",
    "data.frame(med = apply(outcome_src_experiment[,grep('varImp', colnames(outcome_src_experiment))], 2, median), \n",
    "           sd = apply(outcome_src_experiment[,grep('varImp', colnames(outcome_src_experiment))], 2, sd))"
   ]
  },
  {
   "cell_type": "code",
   "execution_count": null,
   "metadata": {},
   "outputs": [],
   "source": []
  }
 ],
 "metadata": {
  "kernelspec": {
   "display_name": "R",
   "language": "R",
   "name": "ir"
  },
  "language_info": {
   "codemirror_mode": "r",
   "file_extension": ".r",
   "mimetype": "text/x-r-source",
   "name": "R",
   "pygments_lexer": "r",
   "version": "3.4.0"
  }
 },
 "nbformat": 4,
 "nbformat_minor": 2
}
