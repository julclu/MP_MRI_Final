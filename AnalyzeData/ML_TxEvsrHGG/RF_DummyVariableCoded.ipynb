{
 "cells": [
  {
   "cell_type": "code",
   "execution_count": 1,
   "metadata": {},
   "outputs": [],
   "source": [
    "#install.packages(\"ROCR\")"
   ]
  },
  {
   "cell_type": "code",
   "execution_count": 1,
   "metadata": {},
   "outputs": [
    {
     "name": "stderr",
     "output_type": "stream",
     "text": [
      "randomForest 4.6-14\n",
      "Type rfNews() to see new features/changes/bug fixes.\n",
      "Loading required package: lattice\n",
      "Loading required package: ggplot2\n",
      "\n",
      "Attaching package: ‘ggplot2’\n",
      "\n",
      "The following object is masked from ‘package:randomForest’:\n",
      "\n",
      "    margin\n",
      "\n",
      "Type 'citation(\"pROC\")' for a citation.\n",
      "\n",
      "Attaching package: ‘pROC’\n",
      "\n",
      "The following objects are masked from ‘package:stats’:\n",
      "\n",
      "    cov, smooth, var\n",
      "\n",
      "Loading required package: gplots\n",
      "\n",
      "Attaching package: ‘gplots’\n",
      "\n",
      "The following object is masked from ‘package:stats’:\n",
      "\n",
      "    lowess\n",
      "\n"
     ]
    }
   ],
   "source": [
    "library(randomForest)\n",
    "library(tictoc)\n",
    "library('caret')\n",
    "library(pROC)\n",
    "library(ROCR)"
   ]
  },
  {
   "cell_type": "code",
   "execution_count": 2,
   "metadata": {},
   "outputs": [],
   "source": [
    "data = read.csv('../../AnnotateData/recgli_annot10_CELorNELorUNK.csv')"
   ]
  },
  {
   "cell_type": "code",
   "execution_count": 3,
   "metadata": {},
   "outputs": [
    {
     "data": {
      "text/html": [
       "<ol class=list-inline>\n",
       "\t<li>'vialid'</li>\n",
       "\t<li>'b_number'</li>\n",
       "\t<li>'t_number_x'</li>\n",
       "\t<li>'t_number_y'</li>\n",
       "\t<li>'sf_number'</li>\n",
       "\t<li>'current_scan_date'</li>\n",
       "\t<li>'current_surgery_date'</li>\n",
       "\t<li>'current_hist_grade'</li>\n",
       "\t<li>'current_hist_type'</li>\n",
       "\t<li>'tumor_cell_evaluation'</li>\n",
       "\t<li>'necrosis'</li>\n",
       "\t<li>'mv_hyperplasia'</li>\n",
       "\t<li>'mv_delicate_vasculature'</li>\n",
       "\t<li>'f8_delicate'</li>\n",
       "\t<li>'f8_simple'</li>\n",
       "\t<li>'f8_complex'</li>\n",
       "\t<li>'mib_1'</li>\n",
       "\t<li>'avgerage_cells'</li>\n",
       "\t<li>'treatment_related_ab'</li>\n",
       "\t<li>'bx_pure_treatment_effect'</li>\n",
       "\t<li>'percent_tumor_nuclei'</li>\n",
       "\t<li>'nfl'</li>\n",
       "\t<li>'nfse'</li>\n",
       "\t<li>'nt1c'</li>\n",
       "\t<li>'nt1v'</li>\n",
       "\t<li>'nt1d'</li>\n",
       "\t<li>'nadc.1'</li>\n",
       "\t<li>'nfa.1'</li>\n",
       "\t<li>'nev1.1'</li>\n",
       "\t<li>'nev2.1'</li>\n",
       "\t<li>'nev3.1'</li>\n",
       "\t<li>'nevrad.1'</li>\n",
       "\t<li>'nadc.2'</li>\n",
       "\t<li>'nfa.2'</li>\n",
       "\t<li>'nev1.2'</li>\n",
       "\t<li>'nev2.2'</li>\n",
       "\t<li>'nev3.2'</li>\n",
       "\t<li>'nevrad.2'</li>\n",
       "\t<li>'cbvn_nlin'</li>\n",
       "\t<li>'phn_nlin'</li>\n",
       "\t<li>'recov_nlin'</li>\n",
       "\t<li>'phn_npar'</li>\n",
       "\t<li>'recov_npar'</li>\n",
       "\t<li>'recovn_npar'</li>\n",
       "\t<li>'ccri'</li>\n",
       "\t<li>'cni'</li>\n",
       "\t<li>'crni'</li>\n",
       "\t<li>'ncho'</li>\n",
       "\t<li>'ncre'</li>\n",
       "\t<li>'nnaa'</li>\n",
       "\t<li>'nlac'</li>\n",
       "\t<li>'nlip'</li>\n",
       "\t<li>'newdata'</li>\n",
       "\t<li>'olddata'</li>\n",
       "\t<li>'exclude_bc_hematoma_or_ventricle'</li>\n",
       "\t<li>'exclude_perf'</li>\n",
       "\t<li>'nLL'</li>\n",
       "\t<li>'comments'</li>\n",
       "\t<li>'perf_quant'</li>\n",
       "\t<li>'include_perf'</li>\n",
       "\t<li>'spec_quant'</li>\n",
       "\t<li>'include_spec'</li>\n",
       "\t<li>'diffu1000_quant'</li>\n",
       "\t<li>'diffu2000_quant'</li>\n",
       "\t<li>'exclude_bc_anat'</li>\n",
       "\t<li>'exclude_bc_pathology'</li>\n",
       "\t<li>'include_diffu1000'</li>\n",
       "\t<li>'include_diffu2000'</li>\n",
       "\t<li>'exclude_histology'</li>\n",
       "\t<li>'txe_comments'</li>\n",
       "\t<li>'outcome'</li>\n",
       "\t<li>'in_CEL'</li>\n",
       "\t<li>'in_T2all'</li>\n",
       "\t<li>'in_NEL'</li>\n",
       "\t<li>'CELorNEL'</li>\n",
       "</ol>\n"
      ],
      "text/latex": [
       "\\begin{enumerate*}\n",
       "\\item 'vialid'\n",
       "\\item 'b\\_number'\n",
       "\\item 't\\_number\\_x'\n",
       "\\item 't\\_number\\_y'\n",
       "\\item 'sf\\_number'\n",
       "\\item 'current\\_scan\\_date'\n",
       "\\item 'current\\_surgery\\_date'\n",
       "\\item 'current\\_hist\\_grade'\n",
       "\\item 'current\\_hist\\_type'\n",
       "\\item 'tumor\\_cell\\_evaluation'\n",
       "\\item 'necrosis'\n",
       "\\item 'mv\\_hyperplasia'\n",
       "\\item 'mv\\_delicate\\_vasculature'\n",
       "\\item 'f8\\_delicate'\n",
       "\\item 'f8\\_simple'\n",
       "\\item 'f8\\_complex'\n",
       "\\item 'mib\\_1'\n",
       "\\item 'avgerage\\_cells'\n",
       "\\item 'treatment\\_related\\_ab'\n",
       "\\item 'bx\\_pure\\_treatment\\_effect'\n",
       "\\item 'percent\\_tumor\\_nuclei'\n",
       "\\item 'nfl'\n",
       "\\item 'nfse'\n",
       "\\item 'nt1c'\n",
       "\\item 'nt1v'\n",
       "\\item 'nt1d'\n",
       "\\item 'nadc.1'\n",
       "\\item 'nfa.1'\n",
       "\\item 'nev1.1'\n",
       "\\item 'nev2.1'\n",
       "\\item 'nev3.1'\n",
       "\\item 'nevrad.1'\n",
       "\\item 'nadc.2'\n",
       "\\item 'nfa.2'\n",
       "\\item 'nev1.2'\n",
       "\\item 'nev2.2'\n",
       "\\item 'nev3.2'\n",
       "\\item 'nevrad.2'\n",
       "\\item 'cbvn\\_nlin'\n",
       "\\item 'phn\\_nlin'\n",
       "\\item 'recov\\_nlin'\n",
       "\\item 'phn\\_npar'\n",
       "\\item 'recov\\_npar'\n",
       "\\item 'recovn\\_npar'\n",
       "\\item 'ccri'\n",
       "\\item 'cni'\n",
       "\\item 'crni'\n",
       "\\item 'ncho'\n",
       "\\item 'ncre'\n",
       "\\item 'nnaa'\n",
       "\\item 'nlac'\n",
       "\\item 'nlip'\n",
       "\\item 'newdata'\n",
       "\\item 'olddata'\n",
       "\\item 'exclude\\_bc\\_hematoma\\_or\\_ventricle'\n",
       "\\item 'exclude\\_perf'\n",
       "\\item 'nLL'\n",
       "\\item 'comments'\n",
       "\\item 'perf\\_quant'\n",
       "\\item 'include\\_perf'\n",
       "\\item 'spec\\_quant'\n",
       "\\item 'include\\_spec'\n",
       "\\item 'diffu1000\\_quant'\n",
       "\\item 'diffu2000\\_quant'\n",
       "\\item 'exclude\\_bc\\_anat'\n",
       "\\item 'exclude\\_bc\\_pathology'\n",
       "\\item 'include\\_diffu1000'\n",
       "\\item 'include\\_diffu2000'\n",
       "\\item 'exclude\\_histology'\n",
       "\\item 'txe\\_comments'\n",
       "\\item 'outcome'\n",
       "\\item 'in\\_CEL'\n",
       "\\item 'in\\_T2all'\n",
       "\\item 'in\\_NEL'\n",
       "\\item 'CELorNEL'\n",
       "\\end{enumerate*}\n"
      ],
      "text/markdown": [
       "1. 'vialid'\n",
       "2. 'b_number'\n",
       "3. 't_number_x'\n",
       "4. 't_number_y'\n",
       "5. 'sf_number'\n",
       "6. 'current_scan_date'\n",
       "7. 'current_surgery_date'\n",
       "8. 'current_hist_grade'\n",
       "9. 'current_hist_type'\n",
       "10. 'tumor_cell_evaluation'\n",
       "11. 'necrosis'\n",
       "12. 'mv_hyperplasia'\n",
       "13. 'mv_delicate_vasculature'\n",
       "14. 'f8_delicate'\n",
       "15. 'f8_simple'\n",
       "16. 'f8_complex'\n",
       "17. 'mib_1'\n",
       "18. 'avgerage_cells'\n",
       "19. 'treatment_related_ab'\n",
       "20. 'bx_pure_treatment_effect'\n",
       "21. 'percent_tumor_nuclei'\n",
       "22. 'nfl'\n",
       "23. 'nfse'\n",
       "24. 'nt1c'\n",
       "25. 'nt1v'\n",
       "26. 'nt1d'\n",
       "27. 'nadc.1'\n",
       "28. 'nfa.1'\n",
       "29. 'nev1.1'\n",
       "30. 'nev2.1'\n",
       "31. 'nev3.1'\n",
       "32. 'nevrad.1'\n",
       "33. 'nadc.2'\n",
       "34. 'nfa.2'\n",
       "35. 'nev1.2'\n",
       "36. 'nev2.2'\n",
       "37. 'nev3.2'\n",
       "38. 'nevrad.2'\n",
       "39. 'cbvn_nlin'\n",
       "40. 'phn_nlin'\n",
       "41. 'recov_nlin'\n",
       "42. 'phn_npar'\n",
       "43. 'recov_npar'\n",
       "44. 'recovn_npar'\n",
       "45. 'ccri'\n",
       "46. 'cni'\n",
       "47. 'crni'\n",
       "48. 'ncho'\n",
       "49. 'ncre'\n",
       "50. 'nnaa'\n",
       "51. 'nlac'\n",
       "52. 'nlip'\n",
       "53. 'newdata'\n",
       "54. 'olddata'\n",
       "55. 'exclude_bc_hematoma_or_ventricle'\n",
       "56. 'exclude_perf'\n",
       "57. 'nLL'\n",
       "58. 'comments'\n",
       "59. 'perf_quant'\n",
       "60. 'include_perf'\n",
       "61. 'spec_quant'\n",
       "62. 'include_spec'\n",
       "63. 'diffu1000_quant'\n",
       "64. 'diffu2000_quant'\n",
       "65. 'exclude_bc_anat'\n",
       "66. 'exclude_bc_pathology'\n",
       "67. 'include_diffu1000'\n",
       "68. 'include_diffu2000'\n",
       "69. 'exclude_histology'\n",
       "70. 'txe_comments'\n",
       "71. 'outcome'\n",
       "72. 'in_CEL'\n",
       "73. 'in_T2all'\n",
       "74. 'in_NEL'\n",
       "75. 'CELorNEL'\n",
       "\n",
       "\n"
      ],
      "text/plain": [
       " [1] \"vialid\"                           \"b_number\"                        \n",
       " [3] \"t_number_x\"                       \"t_number_y\"                      \n",
       " [5] \"sf_number\"                        \"current_scan_date\"               \n",
       " [7] \"current_surgery_date\"             \"current_hist_grade\"              \n",
       " [9] \"current_hist_type\"                \"tumor_cell_evaluation\"           \n",
       "[11] \"necrosis\"                         \"mv_hyperplasia\"                  \n",
       "[13] \"mv_delicate_vasculature\"          \"f8_delicate\"                     \n",
       "[15] \"f8_simple\"                        \"f8_complex\"                      \n",
       "[17] \"mib_1\"                            \"avgerage_cells\"                  \n",
       "[19] \"treatment_related_ab\"             \"bx_pure_treatment_effect\"        \n",
       "[21] \"percent_tumor_nuclei\"             \"nfl\"                             \n",
       "[23] \"nfse\"                             \"nt1c\"                            \n",
       "[25] \"nt1v\"                             \"nt1d\"                            \n",
       "[27] \"nadc.1\"                           \"nfa.1\"                           \n",
       "[29] \"nev1.1\"                           \"nev2.1\"                          \n",
       "[31] \"nev3.1\"                           \"nevrad.1\"                        \n",
       "[33] \"nadc.2\"                           \"nfa.2\"                           \n",
       "[35] \"nev1.2\"                           \"nev2.2\"                          \n",
       "[37] \"nev3.2\"                           \"nevrad.2\"                        \n",
       "[39] \"cbvn_nlin\"                        \"phn_nlin\"                        \n",
       "[41] \"recov_nlin\"                       \"phn_npar\"                        \n",
       "[43] \"recov_npar\"                       \"recovn_npar\"                     \n",
       "[45] \"ccri\"                             \"cni\"                             \n",
       "[47] \"crni\"                             \"ncho\"                            \n",
       "[49] \"ncre\"                             \"nnaa\"                            \n",
       "[51] \"nlac\"                             \"nlip\"                            \n",
       "[53] \"newdata\"                          \"olddata\"                         \n",
       "[55] \"exclude_bc_hematoma_or_ventricle\" \"exclude_perf\"                    \n",
       "[57] \"nLL\"                              \"comments\"                        \n",
       "[59] \"perf_quant\"                       \"include_perf\"                    \n",
       "[61] \"spec_quant\"                       \"include_spec\"                    \n",
       "[63] \"diffu1000_quant\"                  \"diffu2000_quant\"                 \n",
       "[65] \"exclude_bc_anat\"                  \"exclude_bc_pathology\"            \n",
       "[67] \"include_diffu1000\"                \"include_diffu2000\"               \n",
       "[69] \"exclude_histology\"                \"txe_comments\"                    \n",
       "[71] \"outcome\"                          \"in_CEL\"                          \n",
       "[73] \"in_T2all\"                         \"in_NEL\"                          \n",
       "[75] \"CELorNEL\"                        "
      ]
     },
     "metadata": {},
     "output_type": "display_data"
    }
   ],
   "source": [
    "colnames(data)"
   ]
  },
  {
   "cell_type": "code",
   "execution_count": 4,
   "metadata": {},
   "outputs": [],
   "source": [
    "# data = data[,c('vialid','t_number_y', 'CELorNEL', 'newdata', 'cbvn_nlin', 'recov_npar', 'cni', 'ncho', 'outcome')]\n",
    "\n",
    "data = data[,c('vialid','t_number_y', 'CELorNEL', 'newdata', \n",
    "               'cbvn_nlin', 'recov_npar','ccri', 'cni', 'ncho', 'ncre', 'nnaa', 'nadc.1', 'nfa.1', 'outcome')]\n"
   ]
  },
  {
   "cell_type": "code",
   "execution_count": 5,
   "metadata": {},
   "outputs": [
    {
     "data": {
      "text/html": [
       "<table>\n",
       "<thead><tr><th scope=col>vialid</th><th scope=col>t_number_y</th><th scope=col>CELorNEL</th><th scope=col>newdata</th><th scope=col>cbvn_nlin</th><th scope=col>recov_npar</th><th scope=col>ccri</th><th scope=col>cni</th><th scope=col>ncho</th><th scope=col>ncre</th><th scope=col>nnaa</th><th scope=col>nadc.1</th><th scope=col>nfa.1</th><th scope=col>outcome</th></tr></thead>\n",
       "<tbody>\n",
       "\t<tr><td>1B82  </td><td>10366 </td><td>NEL   </td><td>1     </td><td>1.08  </td><td> 98.89</td><td>1.88  </td><td>2.60  </td><td>1.03  </td><td>0.47  </td><td>0.46  </td><td>0.75  </td><td>0.83  </td><td>txe   </td></tr>\n",
       "\t<tr><td>4B82  </td><td>10366 </td><td>NEL   </td><td>1     </td><td>  NA  </td><td>    NA</td><td>  NA  </td><td>  NA  </td><td>  NA  </td><td>  NA  </td><td>  NA  </td><td>0.68  </td><td>0.61  </td><td>unk   </td></tr>\n",
       "\t<tr><td>29B82 </td><td>10448 </td><td>CEL   </td><td>1     </td><td>2.43  </td><td>100.00</td><td>  NA  </td><td>  NA  </td><td>  NA  </td><td>  NA  </td><td>  NA  </td><td>1.62  </td><td>0.50  </td><td>rHGG  </td></tr>\n",
       "\t<tr><td>61B90 </td><td>10594 </td><td>NEL   </td><td>1     </td><td>1.64  </td><td> 78.53</td><td>  NA  </td><td>  NA  </td><td>  NA  </td><td>  NA  </td><td>  NA  </td><td>2.62  </td><td>0.81  </td><td>unk   </td></tr>\n",
       "\t<tr><td>60B90 </td><td>10594 </td><td>NEL   </td><td>1     </td><td>0.95  </td><td>100.00</td><td>1.03  </td><td>3.27  </td><td>1.04  </td><td>0.79  </td><td>0.36  </td><td>2.12  </td><td>0.42  </td><td>rHGG  </td></tr>\n",
       "\t<tr><td>58B90 </td><td>10594 </td><td>NEL   </td><td>1     </td><td>0.84  </td><td>100.00</td><td>2.33  </td><td>7.57  </td><td>1.61  </td><td>1.07  </td><td>0.13  </td><td>1.60  </td><td>0.73  </td><td>rHGG  </td></tr>\n",
       "</tbody>\n",
       "</table>\n"
      ],
      "text/latex": [
       "\\begin{tabular}{r|llllllllllllll}\n",
       " vialid & t\\_number\\_y & CELorNEL & newdata & cbvn\\_nlin & recov\\_npar & ccri & cni & ncho & ncre & nnaa & nadc.1 & nfa.1 & outcome\\\\\n",
       "\\hline\n",
       "\t 1B82   & 10366  & NEL    & 1      & 1.08   &  98.89 & 1.88   & 2.60   & 1.03   & 0.47   & 0.46   & 0.75   & 0.83   & txe   \\\\\n",
       "\t 4B82   & 10366  & NEL    & 1      &   NA   &     NA &   NA   &   NA   &   NA   &   NA   &   NA   & 0.68   & 0.61   & unk   \\\\\n",
       "\t 29B82  & 10448  & CEL    & 1      & 2.43   & 100.00 &   NA   &   NA   &   NA   &   NA   &   NA   & 1.62   & 0.50   & rHGG  \\\\\n",
       "\t 61B90  & 10594  & NEL    & 1      & 1.64   &  78.53 &   NA   &   NA   &   NA   &   NA   &   NA   & 2.62   & 0.81   & unk   \\\\\n",
       "\t 60B90  & 10594  & NEL    & 1      & 0.95   & 100.00 & 1.03   & 3.27   & 1.04   & 0.79   & 0.36   & 2.12   & 0.42   & rHGG  \\\\\n",
       "\t 58B90  & 10594  & NEL    & 1      & 0.84   & 100.00 & 2.33   & 7.57   & 1.61   & 1.07   & 0.13   & 1.60   & 0.73   & rHGG  \\\\\n",
       "\\end{tabular}\n"
      ],
      "text/markdown": [
       "\n",
       "vialid | t_number_y | CELorNEL | newdata | cbvn_nlin | recov_npar | ccri | cni | ncho | ncre | nnaa | nadc.1 | nfa.1 | outcome | \n",
       "|---|---|---|---|---|---|\n",
       "| 1B82   | 10366  | NEL    | 1      | 1.08   |  98.89 | 1.88   | 2.60   | 1.03   | 0.47   | 0.46   | 0.75   | 0.83   | txe    | \n",
       "| 4B82   | 10366  | NEL    | 1      |   NA   |     NA |   NA   |   NA   |   NA   |   NA   |   NA   | 0.68   | 0.61   | unk    | \n",
       "| 29B82  | 10448  | CEL    | 1      | 2.43   | 100.00 |   NA   |   NA   |   NA   |   NA   |   NA   | 1.62   | 0.50   | rHGG   | \n",
       "| 61B90  | 10594  | NEL    | 1      | 1.64   |  78.53 |   NA   |   NA   |   NA   |   NA   |   NA   | 2.62   | 0.81   | unk    | \n",
       "| 60B90  | 10594  | NEL    | 1      | 0.95   | 100.00 | 1.03   | 3.27   | 1.04   | 0.79   | 0.36   | 2.12   | 0.42   | rHGG   | \n",
       "| 58B90  | 10594  | NEL    | 1      | 0.84   | 100.00 | 2.33   | 7.57   | 1.61   | 1.07   | 0.13   | 1.60   | 0.73   | rHGG   | \n",
       "\n",
       "\n"
      ],
      "text/plain": [
       "  vialid t_number_y CELorNEL newdata cbvn_nlin recov_npar ccri cni  ncho ncre\n",
       "1 1B82   10366      NEL      1       1.08       98.89     1.88 2.60 1.03 0.47\n",
       "2 4B82   10366      NEL      1         NA          NA       NA   NA   NA   NA\n",
       "3 29B82  10448      CEL      1       2.43      100.00       NA   NA   NA   NA\n",
       "4 61B90  10594      NEL      1       1.64       78.53       NA   NA   NA   NA\n",
       "5 60B90  10594      NEL      1       0.95      100.00     1.03 3.27 1.04 0.79\n",
       "6 58B90  10594      NEL      1       0.84      100.00     2.33 7.57 1.61 1.07\n",
       "  nnaa nadc.1 nfa.1 outcome\n",
       "1 0.46 0.75   0.83  txe    \n",
       "2   NA 0.68   0.61  unk    \n",
       "3   NA 1.62   0.50  rHGG   \n",
       "4   NA 2.62   0.81  unk    \n",
       "5 0.36 2.12   0.42  rHGG   \n",
       "6 0.13 1.60   0.73  rHGG   "
      ]
     },
     "metadata": {},
     "output_type": "display_data"
    }
   ],
   "source": [
    "head(data)"
   ]
  },
  {
   "cell_type": "code",
   "execution_count": 6,
   "metadata": {},
   "outputs": [],
   "source": [
    "data = data[which(data$outcome == \"txe\" | data$outcome == \"rHGG\"),]"
   ]
  },
  {
   "cell_type": "code",
   "execution_count": 7,
   "metadata": {},
   "outputs": [
    {
     "data": {
      "text/html": [
       "<ol class=list-inline>\n",
       "\t<li>305</li>\n",
       "\t<li>14</li>\n",
       "</ol>\n"
      ],
      "text/latex": [
       "\\begin{enumerate*}\n",
       "\\item 305\n",
       "\\item 14\n",
       "\\end{enumerate*}\n"
      ],
      "text/markdown": [
       "1. 305\n",
       "2. 14\n",
       "\n",
       "\n"
      ],
      "text/plain": [
       "[1] 305  14"
      ]
     },
     "metadata": {},
     "output_type": "display_data"
    }
   ],
   "source": [
    "dim(data)"
   ]
  },
  {
   "cell_type": "code",
   "execution_count": 8,
   "metadata": {},
   "outputs": [
    {
     "data": {
      "text/html": [
       "<ol class=list-inline>\n",
       "\t<li>305</li>\n",
       "\t<li>14</li>\n",
       "</ol>\n"
      ],
      "text/latex": [
       "\\begin{enumerate*}\n",
       "\\item 305\n",
       "\\item 14\n",
       "\\end{enumerate*}\n"
      ],
      "text/markdown": [
       "1. 305\n",
       "2. 14\n",
       "\n",
       "\n"
      ],
      "text/plain": [
       "[1] 305  14"
      ]
     },
     "metadata": {},
     "output_type": "display_data"
    }
   ],
   "source": [
    "dim(data)"
   ]
  },
  {
   "cell_type": "code",
   "execution_count": 9,
   "metadata": {},
   "outputs": [
    {
     "data": {
      "text/plain": [
       "       \n",
       "        FALSE TRUE\n",
       "  FALSE   122   38\n",
       "  TRUE     82   63"
      ]
     },
     "metadata": {},
     "output_type": "display_data"
    }
   ],
   "source": [
    "table(is.na(data$cni), is.na(data$cbvn_nlin))"
   ]
  },
  {
   "cell_type": "code",
   "execution_count": 10,
   "metadata": {},
   "outputs": [
    {
     "data": {
      "text/html": [
       "<dl class=dl-horizontal>\n",
       "\t<dt>vialid</dt>\n",
       "\t\t<dd>0</dd>\n",
       "\t<dt>t_number_y</dt>\n",
       "\t\t<dd>0</dd>\n",
       "\t<dt>CELorNEL</dt>\n",
       "\t\t<dd>0</dd>\n",
       "\t<dt>newdata</dt>\n",
       "\t\t<dd>0</dd>\n",
       "\t<dt>cbvn_nlin</dt>\n",
       "\t\t<dd>101</dd>\n",
       "\t<dt>recov_npar</dt>\n",
       "\t\t<dd>101</dd>\n",
       "\t<dt>ccri</dt>\n",
       "\t\t<dd>145</dd>\n",
       "\t<dt>cni</dt>\n",
       "\t\t<dd>145</dd>\n",
       "\t<dt>ncho</dt>\n",
       "\t\t<dd>145</dd>\n",
       "\t<dt>ncre</dt>\n",
       "\t\t<dd>145</dd>\n",
       "\t<dt>nnaa</dt>\n",
       "\t\t<dd>145</dd>\n",
       "\t<dt>nadc.1</dt>\n",
       "\t\t<dd>16</dd>\n",
       "\t<dt>nfa.1</dt>\n",
       "\t\t<dd>16</dd>\n",
       "\t<dt>outcome</dt>\n",
       "\t\t<dd>0</dd>\n",
       "</dl>\n"
      ],
      "text/latex": [
       "\\begin{description*}\n",
       "\\item[vialid] 0\n",
       "\\item[t\\textbackslash{}\\_number\\textbackslash{}\\_y] 0\n",
       "\\item[CELorNEL] 0\n",
       "\\item[newdata] 0\n",
       "\\item[cbvn\\textbackslash{}\\_nlin] 101\n",
       "\\item[recov\\textbackslash{}\\_npar] 101\n",
       "\\item[ccri] 145\n",
       "\\item[cni] 145\n",
       "\\item[ncho] 145\n",
       "\\item[ncre] 145\n",
       "\\item[nnaa] 145\n",
       "\\item[nadc.1] 16\n",
       "\\item[nfa.1] 16\n",
       "\\item[outcome] 0\n",
       "\\end{description*}\n"
      ],
      "text/markdown": [
       "vialid\n",
       ":   0t_number_y\n",
       ":   0CELorNEL\n",
       ":   0newdata\n",
       ":   0cbvn_nlin\n",
       ":   101recov_npar\n",
       ":   101ccri\n",
       ":   145cni\n",
       ":   145ncho\n",
       ":   145ncre\n",
       ":   145nnaa\n",
       ":   145nadc.1\n",
       ":   16nfa.1\n",
       ":   16outcome\n",
       ":   0\n",
       "\n"
      ],
      "text/plain": [
       "    vialid t_number_y   CELorNEL    newdata  cbvn_nlin recov_npar       ccri \n",
       "         0          0          0          0        101        101        145 \n",
       "       cni       ncho       ncre       nnaa     nadc.1      nfa.1    outcome \n",
       "       145        145        145        145         16         16          0 "
      ]
     },
     "metadata": {},
     "output_type": "display_data"
    }
   ],
   "source": [
    "colSums(is.na(data))"
   ]
  },
  {
   "cell_type": "code",
   "execution_count": 11,
   "metadata": {},
   "outputs": [],
   "source": [
    "data = droplevels.data.frame(data)"
   ]
  },
  {
   "cell_type": "code",
   "execution_count": 12,
   "metadata": {},
   "outputs": [],
   "source": [
    "data_dummyVars = data.frame(data, \n",
    "                           hasPerf = ifelse(is.na(data$cbvn_nlin), 0, 1), \n",
    "                           hasSpec = ifelse(is.na(data$cni), 0, 1), \n",
    "                           hasDiffu = ifelse(is.na(data$nadc.1), 0, 1))"
   ]
  },
  {
   "cell_type": "code",
   "execution_count": 13,
   "metadata": {},
   "outputs": [],
   "source": [
    "data_dummyVars$cbvn_nlin = ifelse(is.na(data$cbvn_nlin), 999, data$cbvn_nlin)\n",
    "data_dummyVars$nadc.1 = ifelse(is.na(data$nadc.1), 999, data$nadc.1)\n",
    "data_dummyVars$nfa.1 = ifelse(is.na(data$nadc.1), 999, data$nfa.1)"
   ]
  },
  {
   "cell_type": "code",
   "execution_count": 14,
   "metadata": {},
   "outputs": [],
   "source": [
    "data_dummyVars$recov_npar = ifelse(is.na(data$recov_npar), 999, data$recov_npar)"
   ]
  },
  {
   "cell_type": "code",
   "execution_count": 15,
   "metadata": {},
   "outputs": [],
   "source": [
    "data_dummyVars$cni = ifelse(is.na(data$cni), 999, data$cni)\n",
    "data_dummyVars$ncho = ifelse(is.na(data$ncho), 999, data$ncho)\n",
    "data_dummyVars$ncre = ifelse(is.na(data$ncre), 999, data$ncre)\n",
    "data_dummyVars$nnaa = ifelse(is.na(data$nnaa), 999, data$nnaa)\n",
    "data_dummyVars$ccri = ifelse(is.na(data$ccri), 999, data$ccri)\n",
    "\n"
   ]
  },
  {
   "cell_type": "code",
   "execution_count": 16,
   "metadata": {},
   "outputs": [
    {
     "data": {
      "text/html": [
       "<dl class=dl-horizontal>\n",
       "\t<dt>vialid</dt>\n",
       "\t\t<dd>0</dd>\n",
       "\t<dt>t_number_y</dt>\n",
       "\t\t<dd>0</dd>\n",
       "\t<dt>CELorNEL</dt>\n",
       "\t\t<dd>0</dd>\n",
       "\t<dt>newdata</dt>\n",
       "\t\t<dd>0</dd>\n",
       "\t<dt>cbvn_nlin</dt>\n",
       "\t\t<dd>0</dd>\n",
       "\t<dt>recov_npar</dt>\n",
       "\t\t<dd>0</dd>\n",
       "\t<dt>ccri</dt>\n",
       "\t\t<dd>0</dd>\n",
       "\t<dt>cni</dt>\n",
       "\t\t<dd>0</dd>\n",
       "\t<dt>ncho</dt>\n",
       "\t\t<dd>0</dd>\n",
       "\t<dt>ncre</dt>\n",
       "\t\t<dd>0</dd>\n",
       "\t<dt>nnaa</dt>\n",
       "\t\t<dd>0</dd>\n",
       "\t<dt>nadc.1</dt>\n",
       "\t\t<dd>0</dd>\n",
       "\t<dt>nfa.1</dt>\n",
       "\t\t<dd>0</dd>\n",
       "\t<dt>outcome</dt>\n",
       "\t\t<dd>0</dd>\n",
       "\t<dt>hasPerf</dt>\n",
       "\t\t<dd>0</dd>\n",
       "\t<dt>hasSpec</dt>\n",
       "\t\t<dd>0</dd>\n",
       "\t<dt>hasDiffu</dt>\n",
       "\t\t<dd>0</dd>\n",
       "</dl>\n"
      ],
      "text/latex": [
       "\\begin{description*}\n",
       "\\item[vialid] 0\n",
       "\\item[t\\textbackslash{}\\_number\\textbackslash{}\\_y] 0\n",
       "\\item[CELorNEL] 0\n",
       "\\item[newdata] 0\n",
       "\\item[cbvn\\textbackslash{}\\_nlin] 0\n",
       "\\item[recov\\textbackslash{}\\_npar] 0\n",
       "\\item[ccri] 0\n",
       "\\item[cni] 0\n",
       "\\item[ncho] 0\n",
       "\\item[ncre] 0\n",
       "\\item[nnaa] 0\n",
       "\\item[nadc.1] 0\n",
       "\\item[nfa.1] 0\n",
       "\\item[outcome] 0\n",
       "\\item[hasPerf] 0\n",
       "\\item[hasSpec] 0\n",
       "\\item[hasDiffu] 0\n",
       "\\end{description*}\n"
      ],
      "text/markdown": [
       "vialid\n",
       ":   0t_number_y\n",
       ":   0CELorNEL\n",
       ":   0newdata\n",
       ":   0cbvn_nlin\n",
       ":   0recov_npar\n",
       ":   0ccri\n",
       ":   0cni\n",
       ":   0ncho\n",
       ":   0ncre\n",
       ":   0nnaa\n",
       ":   0nadc.1\n",
       ":   0nfa.1\n",
       ":   0outcome\n",
       ":   0hasPerf\n",
       ":   0hasSpec\n",
       ":   0hasDiffu\n",
       ":   0\n",
       "\n"
      ],
      "text/plain": [
       "    vialid t_number_y   CELorNEL    newdata  cbvn_nlin recov_npar       ccri \n",
       "         0          0          0          0          0          0          0 \n",
       "       cni       ncho       ncre       nnaa     nadc.1      nfa.1    outcome \n",
       "         0          0          0          0          0          0          0 \n",
       "   hasPerf    hasSpec   hasDiffu \n",
       "         0          0          0 "
      ]
     },
     "metadata": {},
     "output_type": "display_data"
    }
   ],
   "source": [
    "colSums(is.na(data_dummyVars))"
   ]
  },
  {
   "cell_type": "code",
   "execution_count": 17,
   "metadata": {},
   "outputs": [],
   "source": [
    "data_imp = data_dummyVars "
   ]
  },
  {
   "cell_type": "code",
   "execution_count": 18,
   "metadata": {},
   "outputs": [
    {
     "data": {
      "text/plain": [
       "\n",
       "rHGG  txe \n",
       " 223   82 "
      ]
     },
     "metadata": {},
     "output_type": "display_data"
    }
   ],
   "source": [
    "table(data_imp$outcome)"
   ]
  },
  {
   "cell_type": "code",
   "execution_count": 19,
   "metadata": {},
   "outputs": [
    {
     "data": {
      "text/html": [
       "<strong>txe:</strong> 0.268852459016393"
      ],
      "text/latex": [
       "\\textbf{txe:} 0.268852459016393"
      ],
      "text/markdown": [
       "**txe:** 0.268852459016393"
      ],
      "text/plain": [
       "      txe \n",
       "0.2688525 "
      ]
     },
     "metadata": {},
     "output_type": "display_data"
    }
   ],
   "source": [
    "table(data_imp$outcome)['txe']/sum(table(data_imp$outcome)['txe'], table(data_imp$outcome)['rHGG'])"
   ]
  },
  {
   "cell_type": "code",
   "execution_count": 20,
   "metadata": {},
   "outputs": [
    {
     "data": {
      "text/html": [
       "<table>\n",
       "<thead><tr><th></th><th scope=col>vialid</th><th scope=col>t_number_y</th><th scope=col>CELorNEL</th><th scope=col>newdata</th><th scope=col>cbvn_nlin</th><th scope=col>recov_npar</th><th scope=col>ccri</th><th scope=col>cni</th><th scope=col>ncho</th><th scope=col>ncre</th><th scope=col>nnaa</th><th scope=col>nadc.1</th><th scope=col>nfa.1</th><th scope=col>outcome</th><th scope=col>hasPerf</th><th scope=col>hasSpec</th><th scope=col>hasDiffu</th></tr></thead>\n",
       "<tbody>\n",
       "\t<tr><th scope=row>1</th><td>1B82  </td><td>10366 </td><td>NEL   </td><td>1     </td><td>  1.08</td><td> 98.89</td><td>  1.88</td><td>  2.60</td><td>  1.03</td><td>  0.47</td><td>  0.46</td><td>0.75  </td><td>0.83  </td><td>txe   </td><td>1     </td><td>1     </td><td>1     </td></tr>\n",
       "\t<tr><th scope=row>3</th><td>29B82 </td><td>10448 </td><td>CEL   </td><td>1     </td><td>  2.43</td><td>100.00</td><td>999.00</td><td>999.00</td><td>999.00</td><td>999.00</td><td>999.00</td><td>1.62  </td><td>0.50  </td><td>rHGG  </td><td>1     </td><td>0     </td><td>1     </td></tr>\n",
       "\t<tr><th scope=row>5</th><td>60B90 </td><td>10594 </td><td>NEL   </td><td>1     </td><td>  0.95</td><td>100.00</td><td>  1.03</td><td>  3.27</td><td>  1.04</td><td>  0.79</td><td>  0.36</td><td>2.12  </td><td>0.42  </td><td>rHGG  </td><td>1     </td><td>1     </td><td>1     </td></tr>\n",
       "\t<tr><th scope=row>6</th><td>58B90 </td><td>10594 </td><td>NEL   </td><td>1     </td><td>  0.84</td><td>100.00</td><td>  2.33</td><td>  7.57</td><td>  1.61</td><td>  1.07</td><td>  0.13</td><td>1.60  </td><td>0.73  </td><td>rHGG  </td><td>1     </td><td>1     </td><td>1     </td></tr>\n",
       "\t<tr><th scope=row>7</th><td>59B90 </td><td>10594 </td><td>NEL   </td><td>1     </td><td>  0.42</td><td>100.00</td><td>  2.13</td><td>  4.37</td><td>  1.89</td><td>  1.21</td><td>  0.74</td><td>3.03  </td><td>0.42  </td><td>rHGG  </td><td>1     </td><td>1     </td><td>1     </td></tr>\n",
       "\t<tr><th scope=row>8</th><td>7B91  </td><td>10655 </td><td>NEL   </td><td>1     </td><td>  0.63</td><td>100.00</td><td>  2.22</td><td>  3.43</td><td>  1.10</td><td>  0.53</td><td>  0.27</td><td>1.15  </td><td>0.61  </td><td>txe   </td><td>1     </td><td>1     </td><td>1     </td></tr>\n",
       "\t<tr><th scope=row>9</th><td>50B91 </td><td>10708 </td><td>CEL   </td><td>1     </td><td>  2.38</td><td>100.00</td><td>  6.29</td><td> 10.04</td><td>  2.83</td><td>  1.14</td><td>  0.52</td><td>1.20  </td><td>1.39  </td><td>txe   </td><td>1     </td><td>1     </td><td>1     </td></tr>\n",
       "\t<tr><th scope=row>10</th><td>51B91 </td><td>10708 </td><td>CEL   </td><td>1     </td><td>  1.73</td><td>100.00</td><td>  6.69</td><td>  9.04</td><td>  2.55</td><td>  0.73</td><td>  0.48</td><td>1.15  </td><td>1.17  </td><td>rHGG  </td><td>1     </td><td>1     </td><td>1     </td></tr>\n",
       "\t<tr><th scope=row>11</th><td>52B91 </td><td>10708 </td><td>CEL   </td><td>1     </td><td>  1.13</td><td>100.00</td><td>999.00</td><td>999.00</td><td>999.00</td><td>999.00</td><td>999.00</td><td>1.63  </td><td>1.17  </td><td>rHGG  </td><td>1     </td><td>0     </td><td>1     </td></tr>\n",
       "\t<tr><th scope=row>12</th><td>53B91 </td><td>10708 </td><td>CEL   </td><td>1     </td><td>  0.68</td><td>100.00</td><td>  0.19</td><td>  0.84</td><td>  1.06</td><td>  0.98</td><td>  1.00</td><td>1.77  </td><td>1.06  </td><td>rHGG  </td><td>1     </td><td>1     </td><td>1     </td></tr>\n",
       "\t<tr><th scope=row>13</th><td>54B91 </td><td>10709 </td><td>CEL   </td><td>1     </td><td>  3.15</td><td>100.00</td><td> -1.62</td><td> -0.27</td><td>  0.71</td><td>  1.29</td><td>  0.79</td><td>1.29  </td><td>1.39  </td><td>rHGG  </td><td>1     </td><td>1     </td><td>1     </td></tr>\n",
       "\t<tr><th scope=row>14</th><td>64B91 </td><td>10748 </td><td>NEL   </td><td>1     </td><td>  1.00</td><td> 90.04</td><td>  1.72</td><td>  2.54</td><td>  1.29</td><td>  0.69</td><td>  0.65</td><td>2.06  </td><td>0.72  </td><td>txe   </td><td>1     </td><td>1     </td><td>1     </td></tr>\n",
       "\t<tr><th scope=row>15</th><td>62B91 </td><td>10748 </td><td>CEL   </td><td>1     </td><td>  0.81</td><td>100.00</td><td> -0.62</td><td> -2.22</td><td> -0.05</td><td>  0.16</td><td>  0.53</td><td>1.89  </td><td>0.83  </td><td>rHGG  </td><td>1     </td><td>1     </td><td>1     </td></tr>\n",
       "\t<tr><th scope=row>16</th><td>63B91 </td><td>10748 </td><td>NEL   </td><td>1     </td><td>  1.24</td><td>100.00</td><td>  6.94</td><td> 10.34</td><td>  2.80</td><td>  0.52</td><td>  0.28</td><td>1.39  </td><td>0.94  </td><td>rHGG  </td><td>1     </td><td>1     </td><td>1     </td></tr>\n",
       "\t<tr><th scope=row>18</th><td>68B91 </td><td>10756 </td><td>NEL   </td><td>1     </td><td>  0.75</td><td> 93.63</td><td>  0.30</td><td>  0.76</td><td>  1.25</td><td>  1.17</td><td>  1.08</td><td>1.78  </td><td>1.17  </td><td>txe   </td><td>1     </td><td>1     </td><td>1     </td></tr>\n",
       "\t<tr><th scope=row>19</th><td>69B91 </td><td>10756 </td><td>NEL   </td><td>1     </td><td>999.00</td><td>999.00</td><td>  0.60</td><td>  0.96</td><td>  0.82</td><td>  0.62</td><td>  0.55</td><td>3.76  </td><td>0.50  </td><td>rHGG  </td><td>0     </td><td>1     </td><td>1     </td></tr>\n",
       "\t<tr><th scope=row>21</th><td>10B92 </td><td>10790 </td><td>NEL   </td><td>1     </td><td>  0.41</td><td> 70.61</td><td> -0.10</td><td>  0.26</td><td>  0.40</td><td>  0.38</td><td>  0.31</td><td>1.63  </td><td>1.19  </td><td>rHGG  </td><td>1     </td><td>1     </td><td>1     </td></tr>\n",
       "\t<tr><th scope=row>22</th><td>9B92  </td><td>10790 </td><td>NEL   </td><td>1     </td><td>  0.89</td><td> 94.15</td><td> -0.70</td><td>  0.26</td><td>  0.75</td><td>  0.97</td><td>  0.67</td><td>1.32  </td><td>0.50  </td><td>rHGG  </td><td>1     </td><td>1     </td><td>1     </td></tr>\n",
       "\t<tr><th scope=row>23</th><td>13B92 </td><td>10793 </td><td>CEL   </td><td>1     </td><td>  1.98</td><td>100.00</td><td>  0.62</td><td>  1.54</td><td>  0.78</td><td>  0.57</td><td>  0.33</td><td>1.68  </td><td>0.35  </td><td>txe   </td><td>1     </td><td>1     </td><td>1     </td></tr>\n",
       "\t<tr><th scope=row>24</th><td>14B92 </td><td>10793 </td><td>NEL   </td><td>1     </td><td>  0.70</td><td>100.00</td><td>  2.72</td><td>  3.04</td><td>  1.27</td><td>  0.33</td><td>  0.40</td><td>2.42  </td><td>0.35  </td><td>rHGG  </td><td>1     </td><td>1     </td><td>1     </td></tr>\n",
       "\t<tr><th scope=row>25</th><td>5B96  </td><td>11025 </td><td>CEL   </td><td>1     </td><td>  0.90</td><td>100.00</td><td>  7.32</td><td> 11.99</td><td>  2.99</td><td>  1.15</td><td> -0.13</td><td>1.54  </td><td>0.83  </td><td>rHGG  </td><td>1     </td><td>1     </td><td>1     </td></tr>\n",
       "\t<tr><th scope=row>26</th><td>6B96  </td><td>11025 </td><td>NEL   </td><td>1     </td><td>  0.52</td><td>100.00</td><td>  5.08</td><td>  8.12</td><td>  2.07</td><td>  0.84</td><td>  0.10</td><td>1.63  </td><td>0.94  </td><td>rHGG  </td><td>1     </td><td>1     </td><td>1     </td></tr>\n",
       "\t<tr><th scope=row>27</th><td>7B96  </td><td>11025 </td><td>NEL   </td><td>1     </td><td>  1.08</td><td> 99.41</td><td>  1.70</td><td>  3.06</td><td>  1.13</td><td>  0.76</td><td>  0.44</td><td>1.48  </td><td>0.72  </td><td>rHGG  </td><td>1     </td><td>1     </td><td>1     </td></tr>\n",
       "\t<tr><th scope=row>28</th><td>4B96  </td><td>11025 </td><td>NEL   </td><td>1     </td><td>  0.64</td><td>100.00</td><td>  2.92</td><td>  4.49</td><td>  1.54</td><td>  1.05</td><td>  0.71</td><td>1.76  </td><td>0.83  </td><td>rHGG  </td><td>1     </td><td>1     </td><td>1     </td></tr>\n",
       "\t<tr><th scope=row>29</th><td>34B97 </td><td>11192 </td><td>NEL   </td><td>1     </td><td>  0.95</td><td>100.00</td><td>999.00</td><td>999.00</td><td>999.00</td><td>999.00</td><td>999.00</td><td>2.35  </td><td>0.50  </td><td>rHGG  </td><td>1     </td><td>0     </td><td>1     </td></tr>\n",
       "\t<tr><th scope=row>30</th><td>35B97 </td><td>11192 </td><td>CEL   </td><td>1     </td><td>  1.12</td><td>100.00</td><td>999.00</td><td>999.00</td><td>999.00</td><td>999.00</td><td>999.00</td><td>1.83  </td><td>0.50  </td><td>rHGG  </td><td>1     </td><td>0     </td><td>1     </td></tr>\n",
       "\t<tr><th scope=row>31</th><td>36B97 </td><td>11192 </td><td>CEL   </td><td>1     </td><td>  0.67</td><td>100.00</td><td>  4.55</td><td>  5.83</td><td>  1.97</td><td>  0.90</td><td>  0.81</td><td>1.67  </td><td>0.73  </td><td>rHGG  </td><td>1     </td><td>1     </td><td>1     </td></tr>\n",
       "\t<tr><th scope=row>32</th><td>37B97 </td><td>11192 </td><td>unk   </td><td>1     </td><td>  2.09</td><td> 99.72</td><td>999.00</td><td>999.00</td><td>999.00</td><td>999.00</td><td>999.00</td><td>2.04  </td><td>0.58  </td><td>rHGG  </td><td>1     </td><td>0     </td><td>1     </td></tr>\n",
       "\t<tr><th scope=row>35</th><td>53B97 </td><td>11323 </td><td>CEL   </td><td>1     </td><td>  2.92</td><td>100.00</td><td>  1.65</td><td>  2.31</td><td>  1.30</td><td>  0.55</td><td>  0.45</td><td>1.69  </td><td>0.50  </td><td>rHGG  </td><td>1     </td><td>1     </td><td>1     </td></tr>\n",
       "\t<tr><th scope=row>36</th><td>54B97 </td><td>11323 </td><td>CEL   </td><td>1     </td><td>  1.85</td><td>100.00</td><td>  2.45</td><td>  1.51</td><td>  1.17</td><td>  0.12</td><td>  0.59</td><td>2.51  </td><td>0.94  </td><td>rHGG  </td><td>1     </td><td>1     </td><td>1     </td></tr>\n",
       "</tbody>\n",
       "</table>\n"
      ],
      "text/latex": [
       "\\begin{tabular}{r|lllllllllllllllll}\n",
       "  & vialid & t\\_number\\_y & CELorNEL & newdata & cbvn\\_nlin & recov\\_npar & ccri & cni & ncho & ncre & nnaa & nadc.1 & nfa.1 & outcome & hasPerf & hasSpec & hasDiffu\\\\\n",
       "\\hline\n",
       "\t1 & 1B82   & 10366  & NEL    & 1      &   1.08 &  98.89 &   1.88 &   2.60 &   1.03 &   0.47 &   0.46 & 0.75   & 0.83   & txe    & 1      & 1      & 1     \\\\\n",
       "\t3 & 29B82  & 10448  & CEL    & 1      &   2.43 & 100.00 & 999.00 & 999.00 & 999.00 & 999.00 & 999.00 & 1.62   & 0.50   & rHGG   & 1      & 0      & 1     \\\\\n",
       "\t5 & 60B90  & 10594  & NEL    & 1      &   0.95 & 100.00 &   1.03 &   3.27 &   1.04 &   0.79 &   0.36 & 2.12   & 0.42   & rHGG   & 1      & 1      & 1     \\\\\n",
       "\t6 & 58B90  & 10594  & NEL    & 1      &   0.84 & 100.00 &   2.33 &   7.57 &   1.61 &   1.07 &   0.13 & 1.60   & 0.73   & rHGG   & 1      & 1      & 1     \\\\\n",
       "\t7 & 59B90  & 10594  & NEL    & 1      &   0.42 & 100.00 &   2.13 &   4.37 &   1.89 &   1.21 &   0.74 & 3.03   & 0.42   & rHGG   & 1      & 1      & 1     \\\\\n",
       "\t8 & 7B91   & 10655  & NEL    & 1      &   0.63 & 100.00 &   2.22 &   3.43 &   1.10 &   0.53 &   0.27 & 1.15   & 0.61   & txe    & 1      & 1      & 1     \\\\\n",
       "\t9 & 50B91  & 10708  & CEL    & 1      &   2.38 & 100.00 &   6.29 &  10.04 &   2.83 &   1.14 &   0.52 & 1.20   & 1.39   & txe    & 1      & 1      & 1     \\\\\n",
       "\t10 & 51B91  & 10708  & CEL    & 1      &   1.73 & 100.00 &   6.69 &   9.04 &   2.55 &   0.73 &   0.48 & 1.15   & 1.17   & rHGG   & 1      & 1      & 1     \\\\\n",
       "\t11 & 52B91  & 10708  & CEL    & 1      &   1.13 & 100.00 & 999.00 & 999.00 & 999.00 & 999.00 & 999.00 & 1.63   & 1.17   & rHGG   & 1      & 0      & 1     \\\\\n",
       "\t12 & 53B91  & 10708  & CEL    & 1      &   0.68 & 100.00 &   0.19 &   0.84 &   1.06 &   0.98 &   1.00 & 1.77   & 1.06   & rHGG   & 1      & 1      & 1     \\\\\n",
       "\t13 & 54B91  & 10709  & CEL    & 1      &   3.15 & 100.00 &  -1.62 &  -0.27 &   0.71 &   1.29 &   0.79 & 1.29   & 1.39   & rHGG   & 1      & 1      & 1     \\\\\n",
       "\t14 & 64B91  & 10748  & NEL    & 1      &   1.00 &  90.04 &   1.72 &   2.54 &   1.29 &   0.69 &   0.65 & 2.06   & 0.72   & txe    & 1      & 1      & 1     \\\\\n",
       "\t15 & 62B91  & 10748  & CEL    & 1      &   0.81 & 100.00 &  -0.62 &  -2.22 &  -0.05 &   0.16 &   0.53 & 1.89   & 0.83   & rHGG   & 1      & 1      & 1     \\\\\n",
       "\t16 & 63B91  & 10748  & NEL    & 1      &   1.24 & 100.00 &   6.94 &  10.34 &   2.80 &   0.52 &   0.28 & 1.39   & 0.94   & rHGG   & 1      & 1      & 1     \\\\\n",
       "\t18 & 68B91  & 10756  & NEL    & 1      &   0.75 &  93.63 &   0.30 &   0.76 &   1.25 &   1.17 &   1.08 & 1.78   & 1.17   & txe    & 1      & 1      & 1     \\\\\n",
       "\t19 & 69B91  & 10756  & NEL    & 1      & 999.00 & 999.00 &   0.60 &   0.96 &   0.82 &   0.62 &   0.55 & 3.76   & 0.50   & rHGG   & 0      & 1      & 1     \\\\\n",
       "\t21 & 10B92  & 10790  & NEL    & 1      &   0.41 &  70.61 &  -0.10 &   0.26 &   0.40 &   0.38 &   0.31 & 1.63   & 1.19   & rHGG   & 1      & 1      & 1     \\\\\n",
       "\t22 & 9B92   & 10790  & NEL    & 1      &   0.89 &  94.15 &  -0.70 &   0.26 &   0.75 &   0.97 &   0.67 & 1.32   & 0.50   & rHGG   & 1      & 1      & 1     \\\\\n",
       "\t23 & 13B92  & 10793  & CEL    & 1      &   1.98 & 100.00 &   0.62 &   1.54 &   0.78 &   0.57 &   0.33 & 1.68   & 0.35   & txe    & 1      & 1      & 1     \\\\\n",
       "\t24 & 14B92  & 10793  & NEL    & 1      &   0.70 & 100.00 &   2.72 &   3.04 &   1.27 &   0.33 &   0.40 & 2.42   & 0.35   & rHGG   & 1      & 1      & 1     \\\\\n",
       "\t25 & 5B96   & 11025  & CEL    & 1      &   0.90 & 100.00 &   7.32 &  11.99 &   2.99 &   1.15 &  -0.13 & 1.54   & 0.83   & rHGG   & 1      & 1      & 1     \\\\\n",
       "\t26 & 6B96   & 11025  & NEL    & 1      &   0.52 & 100.00 &   5.08 &   8.12 &   2.07 &   0.84 &   0.10 & 1.63   & 0.94   & rHGG   & 1      & 1      & 1     \\\\\n",
       "\t27 & 7B96   & 11025  & NEL    & 1      &   1.08 &  99.41 &   1.70 &   3.06 &   1.13 &   0.76 &   0.44 & 1.48   & 0.72   & rHGG   & 1      & 1      & 1     \\\\\n",
       "\t28 & 4B96   & 11025  & NEL    & 1      &   0.64 & 100.00 &   2.92 &   4.49 &   1.54 &   1.05 &   0.71 & 1.76   & 0.83   & rHGG   & 1      & 1      & 1     \\\\\n",
       "\t29 & 34B97  & 11192  & NEL    & 1      &   0.95 & 100.00 & 999.00 & 999.00 & 999.00 & 999.00 & 999.00 & 2.35   & 0.50   & rHGG   & 1      & 0      & 1     \\\\\n",
       "\t30 & 35B97  & 11192  & CEL    & 1      &   1.12 & 100.00 & 999.00 & 999.00 & 999.00 & 999.00 & 999.00 & 1.83   & 0.50   & rHGG   & 1      & 0      & 1     \\\\\n",
       "\t31 & 36B97  & 11192  & CEL    & 1      &   0.67 & 100.00 &   4.55 &   5.83 &   1.97 &   0.90 &   0.81 & 1.67   & 0.73   & rHGG   & 1      & 1      & 1     \\\\\n",
       "\t32 & 37B97  & 11192  & unk    & 1      &   2.09 &  99.72 & 999.00 & 999.00 & 999.00 & 999.00 & 999.00 & 2.04   & 0.58   & rHGG   & 1      & 0      & 1     \\\\\n",
       "\t35 & 53B97  & 11323  & CEL    & 1      &   2.92 & 100.00 &   1.65 &   2.31 &   1.30 &   0.55 &   0.45 & 1.69   & 0.50   & rHGG   & 1      & 1      & 1     \\\\\n",
       "\t36 & 54B97  & 11323  & CEL    & 1      &   1.85 & 100.00 &   2.45 &   1.51 &   1.17 &   0.12 &   0.59 & 2.51   & 0.94   & rHGG   & 1      & 1      & 1     \\\\\n",
       "\\end{tabular}\n"
      ],
      "text/markdown": [
       "\n",
       "| <!--/--> | vialid | t_number_y | CELorNEL | newdata | cbvn_nlin | recov_npar | ccri | cni | ncho | ncre | nnaa | nadc.1 | nfa.1 | outcome | hasPerf | hasSpec | hasDiffu | \n",
       "|---|---|---|---|---|---|---|---|---|---|---|---|---|---|---|---|---|---|---|---|---|---|---|---|---|---|---|---|---|---|\n",
       "| 1 | 1B82   | 10366  | NEL    | 1      |   1.08 |  98.89 |   1.88 |   2.60 |   1.03 |   0.47 |   0.46 | 0.75   | 0.83   | txe    | 1      | 1      | 1      | \n",
       "| 3 | 29B82  | 10448  | CEL    | 1      |   2.43 | 100.00 | 999.00 | 999.00 | 999.00 | 999.00 | 999.00 | 1.62   | 0.50   | rHGG   | 1      | 0      | 1      | \n",
       "| 5 | 60B90  | 10594  | NEL    | 1      |   0.95 | 100.00 |   1.03 |   3.27 |   1.04 |   0.79 |   0.36 | 2.12   | 0.42   | rHGG   | 1      | 1      | 1      | \n",
       "| 6 | 58B90  | 10594  | NEL    | 1      |   0.84 | 100.00 |   2.33 |   7.57 |   1.61 |   1.07 |   0.13 | 1.60   | 0.73   | rHGG   | 1      | 1      | 1      | \n",
       "| 7 | 59B90  | 10594  | NEL    | 1      |   0.42 | 100.00 |   2.13 |   4.37 |   1.89 |   1.21 |   0.74 | 3.03   | 0.42   | rHGG   | 1      | 1      | 1      | \n",
       "| 8 | 7B91   | 10655  | NEL    | 1      |   0.63 | 100.00 |   2.22 |   3.43 |   1.10 |   0.53 |   0.27 | 1.15   | 0.61   | txe    | 1      | 1      | 1      | \n",
       "| 9 | 50B91  | 10708  | CEL    | 1      |   2.38 | 100.00 |   6.29 |  10.04 |   2.83 |   1.14 |   0.52 | 1.20   | 1.39   | txe    | 1      | 1      | 1      | \n",
       "| 10 | 51B91  | 10708  | CEL    | 1      |   1.73 | 100.00 |   6.69 |   9.04 |   2.55 |   0.73 |   0.48 | 1.15   | 1.17   | rHGG   | 1      | 1      | 1      | \n",
       "| 11 | 52B91  | 10708  | CEL    | 1      |   1.13 | 100.00 | 999.00 | 999.00 | 999.00 | 999.00 | 999.00 | 1.63   | 1.17   | rHGG   | 1      | 0      | 1      | \n",
       "| 12 | 53B91  | 10708  | CEL    | 1      |   0.68 | 100.00 |   0.19 |   0.84 |   1.06 |   0.98 |   1.00 | 1.77   | 1.06   | rHGG   | 1      | 1      | 1      | \n",
       "| 13 | 54B91  | 10709  | CEL    | 1      |   3.15 | 100.00 |  -1.62 |  -0.27 |   0.71 |   1.29 |   0.79 | 1.29   | 1.39   | rHGG   | 1      | 1      | 1      | \n",
       "| 14 | 64B91  | 10748  | NEL    | 1      |   1.00 |  90.04 |   1.72 |   2.54 |   1.29 |   0.69 |   0.65 | 2.06   | 0.72   | txe    | 1      | 1      | 1      | \n",
       "| 15 | 62B91  | 10748  | CEL    | 1      |   0.81 | 100.00 |  -0.62 |  -2.22 |  -0.05 |   0.16 |   0.53 | 1.89   | 0.83   | rHGG   | 1      | 1      | 1      | \n",
       "| 16 | 63B91  | 10748  | NEL    | 1      |   1.24 | 100.00 |   6.94 |  10.34 |   2.80 |   0.52 |   0.28 | 1.39   | 0.94   | rHGG   | 1      | 1      | 1      | \n",
       "| 18 | 68B91  | 10756  | NEL    | 1      |   0.75 |  93.63 |   0.30 |   0.76 |   1.25 |   1.17 |   1.08 | 1.78   | 1.17   | txe    | 1      | 1      | 1      | \n",
       "| 19 | 69B91  | 10756  | NEL    | 1      | 999.00 | 999.00 |   0.60 |   0.96 |   0.82 |   0.62 |   0.55 | 3.76   | 0.50   | rHGG   | 0      | 1      | 1      | \n",
       "| 21 | 10B92  | 10790  | NEL    | 1      |   0.41 |  70.61 |  -0.10 |   0.26 |   0.40 |   0.38 |   0.31 | 1.63   | 1.19   | rHGG   | 1      | 1      | 1      | \n",
       "| 22 | 9B92   | 10790  | NEL    | 1      |   0.89 |  94.15 |  -0.70 |   0.26 |   0.75 |   0.97 |   0.67 | 1.32   | 0.50   | rHGG   | 1      | 1      | 1      | \n",
       "| 23 | 13B92  | 10793  | CEL    | 1      |   1.98 | 100.00 |   0.62 |   1.54 |   0.78 |   0.57 |   0.33 | 1.68   | 0.35   | txe    | 1      | 1      | 1      | \n",
       "| 24 | 14B92  | 10793  | NEL    | 1      |   0.70 | 100.00 |   2.72 |   3.04 |   1.27 |   0.33 |   0.40 | 2.42   | 0.35   | rHGG   | 1      | 1      | 1      | \n",
       "| 25 | 5B96   | 11025  | CEL    | 1      |   0.90 | 100.00 |   7.32 |  11.99 |   2.99 |   1.15 |  -0.13 | 1.54   | 0.83   | rHGG   | 1      | 1      | 1      | \n",
       "| 26 | 6B96   | 11025  | NEL    | 1      |   0.52 | 100.00 |   5.08 |   8.12 |   2.07 |   0.84 |   0.10 | 1.63   | 0.94   | rHGG   | 1      | 1      | 1      | \n",
       "| 27 | 7B96   | 11025  | NEL    | 1      |   1.08 |  99.41 |   1.70 |   3.06 |   1.13 |   0.76 |   0.44 | 1.48   | 0.72   | rHGG   | 1      | 1      | 1      | \n",
       "| 28 | 4B96   | 11025  | NEL    | 1      |   0.64 | 100.00 |   2.92 |   4.49 |   1.54 |   1.05 |   0.71 | 1.76   | 0.83   | rHGG   | 1      | 1      | 1      | \n",
       "| 29 | 34B97  | 11192  | NEL    | 1      |   0.95 | 100.00 | 999.00 | 999.00 | 999.00 | 999.00 | 999.00 | 2.35   | 0.50   | rHGG   | 1      | 0      | 1      | \n",
       "| 30 | 35B97  | 11192  | CEL    | 1      |   1.12 | 100.00 | 999.00 | 999.00 | 999.00 | 999.00 | 999.00 | 1.83   | 0.50   | rHGG   | 1      | 0      | 1      | \n",
       "| 31 | 36B97  | 11192  | CEL    | 1      |   0.67 | 100.00 |   4.55 |   5.83 |   1.97 |   0.90 |   0.81 | 1.67   | 0.73   | rHGG   | 1      | 1      | 1      | \n",
       "| 32 | 37B97  | 11192  | unk    | 1      |   2.09 |  99.72 | 999.00 | 999.00 | 999.00 | 999.00 | 999.00 | 2.04   | 0.58   | rHGG   | 1      | 0      | 1      | \n",
       "| 35 | 53B97  | 11323  | CEL    | 1      |   2.92 | 100.00 |   1.65 |   2.31 |   1.30 |   0.55 |   0.45 | 1.69   | 0.50   | rHGG   | 1      | 1      | 1      | \n",
       "| 36 | 54B97  | 11323  | CEL    | 1      |   1.85 | 100.00 |   2.45 |   1.51 |   1.17 |   0.12 |   0.59 | 2.51   | 0.94   | rHGG   | 1      | 1      | 1      | \n",
       "\n",
       "\n"
      ],
      "text/plain": [
       "   vialid t_number_y CELorNEL newdata cbvn_nlin recov_npar ccri   cni    ncho  \n",
       "1  1B82   10366      NEL      1         1.08     98.89       1.88   2.60   1.03\n",
       "3  29B82  10448      CEL      1         2.43    100.00     999.00 999.00 999.00\n",
       "5  60B90  10594      NEL      1         0.95    100.00       1.03   3.27   1.04\n",
       "6  58B90  10594      NEL      1         0.84    100.00       2.33   7.57   1.61\n",
       "7  59B90  10594      NEL      1         0.42    100.00       2.13   4.37   1.89\n",
       "8  7B91   10655      NEL      1         0.63    100.00       2.22   3.43   1.10\n",
       "9  50B91  10708      CEL      1         2.38    100.00       6.29  10.04   2.83\n",
       "10 51B91  10708      CEL      1         1.73    100.00       6.69   9.04   2.55\n",
       "11 52B91  10708      CEL      1         1.13    100.00     999.00 999.00 999.00\n",
       "12 53B91  10708      CEL      1         0.68    100.00       0.19   0.84   1.06\n",
       "13 54B91  10709      CEL      1         3.15    100.00      -1.62  -0.27   0.71\n",
       "14 64B91  10748      NEL      1         1.00     90.04       1.72   2.54   1.29\n",
       "15 62B91  10748      CEL      1         0.81    100.00      -0.62  -2.22  -0.05\n",
       "16 63B91  10748      NEL      1         1.24    100.00       6.94  10.34   2.80\n",
       "18 68B91  10756      NEL      1         0.75     93.63       0.30   0.76   1.25\n",
       "19 69B91  10756      NEL      1       999.00    999.00       0.60   0.96   0.82\n",
       "21 10B92  10790      NEL      1         0.41     70.61      -0.10   0.26   0.40\n",
       "22 9B92   10790      NEL      1         0.89     94.15      -0.70   0.26   0.75\n",
       "23 13B92  10793      CEL      1         1.98    100.00       0.62   1.54   0.78\n",
       "24 14B92  10793      NEL      1         0.70    100.00       2.72   3.04   1.27\n",
       "25 5B96   11025      CEL      1         0.90    100.00       7.32  11.99   2.99\n",
       "26 6B96   11025      NEL      1         0.52    100.00       5.08   8.12   2.07\n",
       "27 7B96   11025      NEL      1         1.08     99.41       1.70   3.06   1.13\n",
       "28 4B96   11025      NEL      1         0.64    100.00       2.92   4.49   1.54\n",
       "29 34B97  11192      NEL      1         0.95    100.00     999.00 999.00 999.00\n",
       "30 35B97  11192      CEL      1         1.12    100.00     999.00 999.00 999.00\n",
       "31 36B97  11192      CEL      1         0.67    100.00       4.55   5.83   1.97\n",
       "32 37B97  11192      unk      1         2.09     99.72     999.00 999.00 999.00\n",
       "35 53B97  11323      CEL      1         2.92    100.00       1.65   2.31   1.30\n",
       "36 54B97  11323      CEL      1         1.85    100.00       2.45   1.51   1.17\n",
       "   ncre   nnaa   nadc.1 nfa.1 outcome hasPerf hasSpec hasDiffu\n",
       "1    0.47   0.46 0.75   0.83  txe     1       1       1       \n",
       "3  999.00 999.00 1.62   0.50  rHGG    1       0       1       \n",
       "5    0.79   0.36 2.12   0.42  rHGG    1       1       1       \n",
       "6    1.07   0.13 1.60   0.73  rHGG    1       1       1       \n",
       "7    1.21   0.74 3.03   0.42  rHGG    1       1       1       \n",
       "8    0.53   0.27 1.15   0.61  txe     1       1       1       \n",
       "9    1.14   0.52 1.20   1.39  txe     1       1       1       \n",
       "10   0.73   0.48 1.15   1.17  rHGG    1       1       1       \n",
       "11 999.00 999.00 1.63   1.17  rHGG    1       0       1       \n",
       "12   0.98   1.00 1.77   1.06  rHGG    1       1       1       \n",
       "13   1.29   0.79 1.29   1.39  rHGG    1       1       1       \n",
       "14   0.69   0.65 2.06   0.72  txe     1       1       1       \n",
       "15   0.16   0.53 1.89   0.83  rHGG    1       1       1       \n",
       "16   0.52   0.28 1.39   0.94  rHGG    1       1       1       \n",
       "18   1.17   1.08 1.78   1.17  txe     1       1       1       \n",
       "19   0.62   0.55 3.76   0.50  rHGG    0       1       1       \n",
       "21   0.38   0.31 1.63   1.19  rHGG    1       1       1       \n",
       "22   0.97   0.67 1.32   0.50  rHGG    1       1       1       \n",
       "23   0.57   0.33 1.68   0.35  txe     1       1       1       \n",
       "24   0.33   0.40 2.42   0.35  rHGG    1       1       1       \n",
       "25   1.15  -0.13 1.54   0.83  rHGG    1       1       1       \n",
       "26   0.84   0.10 1.63   0.94  rHGG    1       1       1       \n",
       "27   0.76   0.44 1.48   0.72  rHGG    1       1       1       \n",
       "28   1.05   0.71 1.76   0.83  rHGG    1       1       1       \n",
       "29 999.00 999.00 2.35   0.50  rHGG    1       0       1       \n",
       "30 999.00 999.00 1.83   0.50  rHGG    1       0       1       \n",
       "31   0.90   0.81 1.67   0.73  rHGG    1       1       1       \n",
       "32 999.00 999.00 2.04   0.58  rHGG    1       0       1       \n",
       "35   0.55   0.45 1.69   0.50  rHGG    1       1       1       \n",
       "36   0.12   0.59 2.51   0.94  rHGG    1       1       1       "
      ]
     },
     "metadata": {},
     "output_type": "display_data"
    }
   ],
   "source": [
    "head(data_imp, 30)"
   ]
  },
  {
   "cell_type": "code",
   "execution_count": 21,
   "metadata": {},
   "outputs": [],
   "source": [
    "# install.packages('corrplot')"
   ]
  },
  {
   "cell_type": "code",
   "execution_count": 22,
   "metadata": {},
   "outputs": [],
   "source": [
    "# library(corrplot)"
   ]
  },
  {
   "cell_type": "code",
   "execution_count": null,
   "metadata": {},
   "outputs": [],
   "source": []
  },
  {
   "cell_type": "code",
   "execution_count": 23,
   "metadata": {},
   "outputs": [],
   "source": [
    "## split into train/test by tnum \n",
    "unique_tnums = unique(data$t_number_y)"
   ]
  },
  {
   "cell_type": "code",
   "execution_count": 24,
   "metadata": {},
   "outputs": [],
   "source": [
    "set.seed(1)\n",
    "train_tnums = unique_tnums[sample(c(1:length(unique_tnums)), size = round(length(unique_tnums)*.75))]\n",
    "test_tnums = unique_tnums[! unique_tnums %in% train_tnums]"
   ]
  },
  {
   "cell_type": "code",
   "execution_count": 25,
   "metadata": {},
   "outputs": [],
   "source": [
    "## split data by patient split above: \n",
    "data_train = data_imp[data_imp$t_number_y %in% train_tnums, ]\n",
    "\n",
    "data_test = data_imp[data_imp$t_number_y %in% test_tnums, ]"
   ]
  },
  {
   "cell_type": "code",
   "execution_count": 26,
   "metadata": {},
   "outputs": [
    {
     "data": {
      "text/html": [
       "<strong>txe:</strong> 0.268852459016393"
      ],
      "text/latex": [
       "\\textbf{txe:} 0.268852459016393"
      ],
      "text/markdown": [
       "**txe:** 0.268852459016393"
      ],
      "text/plain": [
       "      txe \n",
       "0.2688525 "
      ]
     },
     "metadata": {},
     "output_type": "display_data"
    }
   ],
   "source": [
    "\n",
    "table(data_imp$outcome)['txe']/sum(table(data_imp$outcome)['txe'],table(data_imp$outcome)['rHGG'])"
   ]
  },
  {
   "cell_type": "code",
   "execution_count": 27,
   "metadata": {},
   "outputs": [
    {
     "data": {
      "text/html": [
       "<ol class=list-inline>\n",
       "\t<li>222</li>\n",
       "\t<li>17</li>\n",
       "</ol>\n"
      ],
      "text/latex": [
       "\\begin{enumerate*}\n",
       "\\item 222\n",
       "\\item 17\n",
       "\\end{enumerate*}\n"
      ],
      "text/markdown": [
       "1. 222\n",
       "2. 17\n",
       "\n",
       "\n"
      ],
      "text/plain": [
       "[1] 222  17"
      ]
     },
     "metadata": {},
     "output_type": "display_data"
    },
    {
     "data": {
      "text/plain": [
       "\n",
       "rHGG  txe \n",
       " 163   59 "
      ]
     },
     "metadata": {},
     "output_type": "display_data"
    },
    {
     "data": {
      "text/html": [
       "<strong>txe:</strong> 0.265765765765766"
      ],
      "text/latex": [
       "\\textbf{txe:} 0.265765765765766"
      ],
      "text/markdown": [
       "**txe:** 0.265765765765766"
      ],
      "text/plain": [
       "      txe \n",
       "0.2657658 "
      ]
     },
     "metadata": {},
     "output_type": "display_data"
    }
   ],
   "source": [
    "dim(data_train)\n",
    "table(data_train$outcome)\n",
    "table(data_train$outcome)['txe']/sum(table(data_train$outcome)['txe'],table(data_train$outcome)['rHGG'])"
   ]
  },
  {
   "cell_type": "code",
   "execution_count": 28,
   "metadata": {},
   "outputs": [
    {
     "data": {
      "text/html": [
       "<ol class=list-inline>\n",
       "\t<li>83</li>\n",
       "\t<li>17</li>\n",
       "</ol>\n"
      ],
      "text/latex": [
       "\\begin{enumerate*}\n",
       "\\item 83\n",
       "\\item 17\n",
       "\\end{enumerate*}\n"
      ],
      "text/markdown": [
       "1. 83\n",
       "2. 17\n",
       "\n",
       "\n"
      ],
      "text/plain": [
       "[1] 83 17"
      ]
     },
     "metadata": {},
     "output_type": "display_data"
    },
    {
     "data": {
      "text/plain": [
       "\n",
       "rHGG  txe \n",
       "  60   23 "
      ]
     },
     "metadata": {},
     "output_type": "display_data"
    },
    {
     "data": {
      "text/html": [
       "<strong>txe:</strong> 0.27710843373494"
      ],
      "text/latex": [
       "\\textbf{txe:} 0.27710843373494"
      ],
      "text/markdown": [
       "**txe:** 0.27710843373494"
      ],
      "text/plain": [
       "      txe \n",
       "0.2771084 "
      ]
     },
     "metadata": {},
     "output_type": "display_data"
    }
   ],
   "source": [
    "dim(data_test)\n",
    "table(data_test$outcome)\n",
    "table(data_test$outcome)['txe']/sum(table(data_test$outcome)['txe'],table(data_test$outcome)['rHGG'])"
   ]
  },
  {
   "cell_type": "code",
   "execution_count": 29,
   "metadata": {},
   "outputs": [],
   "source": [
    "## let's extract confusion matrix and put that in a data frame: \n",
    "outcome_experiment_template = data.frame(expnum = NA,\n",
    "                                        node_size = NA,\n",
    "                                        mtry = NA,\n",
    "                                        cwtxe = NA, \n",
    "                                        cwrHGG = NA, \n",
    "                                        tr_outtxe_predtxe = NA, \n",
    "                                        tr_outtxe_predrHGG = NA, \n",
    "                                        tr_outrHGG_predtxe = NA, \n",
    "                                        tr_outrHGG_predrHGG = NA, \n",
    "                                        cv_outtxe_predtxe = NA, \n",
    "                                        cv_outtxe_predrHGG = NA, \n",
    "                                        cv_outrHGG_predtxe = NA, \n",
    "                                        cv_outrHGG_predrHGG = NA)"
   ]
  },
  {
   "cell_type": "code",
   "execution_count": 30,
   "metadata": {},
   "outputs": [],
   "source": [
    "outcome_all_experiment = outcome_experiment_template"
   ]
  },
  {
   "cell_type": "code",
   "execution_count": 31,
   "metadata": {},
   "outputs": [
    {
     "data": {
      "text/html": [
       "<ol class=list-inline>\n",
       "\t<li>'vialid'</li>\n",
       "\t<li>'t_number_y'</li>\n",
       "\t<li>'CELorNEL'</li>\n",
       "\t<li>'newdata'</li>\n",
       "\t<li>'cbvn_nlin'</li>\n",
       "\t<li>'recov_npar'</li>\n",
       "\t<li>'ccri'</li>\n",
       "\t<li>'cni'</li>\n",
       "\t<li>'ncho'</li>\n",
       "\t<li>'ncre'</li>\n",
       "\t<li>'nnaa'</li>\n",
       "\t<li>'nadc.1'</li>\n",
       "\t<li>'nfa.1'</li>\n",
       "\t<li>'outcome'</li>\n",
       "\t<li>'hasPerf'</li>\n",
       "\t<li>'hasSpec'</li>\n",
       "\t<li>'hasDiffu'</li>\n",
       "</ol>\n"
      ],
      "text/latex": [
       "\\begin{enumerate*}\n",
       "\\item 'vialid'\n",
       "\\item 't\\_number\\_y'\n",
       "\\item 'CELorNEL'\n",
       "\\item 'newdata'\n",
       "\\item 'cbvn\\_nlin'\n",
       "\\item 'recov\\_npar'\n",
       "\\item 'ccri'\n",
       "\\item 'cni'\n",
       "\\item 'ncho'\n",
       "\\item 'ncre'\n",
       "\\item 'nnaa'\n",
       "\\item 'nadc.1'\n",
       "\\item 'nfa.1'\n",
       "\\item 'outcome'\n",
       "\\item 'hasPerf'\n",
       "\\item 'hasSpec'\n",
       "\\item 'hasDiffu'\n",
       "\\end{enumerate*}\n"
      ],
      "text/markdown": [
       "1. 'vialid'\n",
       "2. 't_number_y'\n",
       "3. 'CELorNEL'\n",
       "4. 'newdata'\n",
       "5. 'cbvn_nlin'\n",
       "6. 'recov_npar'\n",
       "7. 'ccri'\n",
       "8. 'cni'\n",
       "9. 'ncho'\n",
       "10. 'ncre'\n",
       "11. 'nnaa'\n",
       "12. 'nadc.1'\n",
       "13. 'nfa.1'\n",
       "14. 'outcome'\n",
       "15. 'hasPerf'\n",
       "16. 'hasSpec'\n",
       "17. 'hasDiffu'\n",
       "\n",
       "\n"
      ],
      "text/plain": [
       " [1] \"vialid\"     \"t_number_y\" \"CELorNEL\"   \"newdata\"    \"cbvn_nlin\" \n",
       " [6] \"recov_npar\" \"ccri\"       \"cni\"        \"ncho\"       \"ncre\"      \n",
       "[11] \"nnaa\"       \"nadc.1\"     \"nfa.1\"      \"outcome\"    \"hasPerf\"   \n",
       "[16] \"hasSpec\"    \"hasDiffu\"  "
      ]
     },
     "metadata": {},
     "output_type": "display_data"
    }
   ],
   "source": [
    "colnames(data_train)"
   ]
  },
  {
   "cell_type": "code",
   "execution_count": 48,
   "metadata": {},
   "outputs": [
    {
     "ename": "ERROR",
     "evalue": "Error in c(\"CELorNEL\", \"newdata\", \"cbvn_nlin\", \"recov_npar\", \"ccri\", \"cni\", : argument 12 is empty\n",
     "output_type": "error",
     "traceback": [
      "Error in c(\"CELorNEL\", \"newdata\", \"cbvn_nlin\", \"recov_npar\", \"ccri\", \"cni\", : argument 12 is empty\nTraceback:\n"
     ]
    }
   ],
   "source": [
    "outcome = \"outcome\"\n",
    "features = c('CELorNEL', 'newdata', 'cbvn_nlin', 'recov_npar',\n",
    "             'ccri', 'cni', 'ncho', 'ncre', 'nnaa', 'nfa.1', 'nadc.1',\n",
    "             'hasPerf', 'hasSpec', 'hasDiffu')\n",
    "features.addsign <- paste(features, collapse = \"+\")\n",
    "rf_formula = as.formula(paste(outcome, features.addsign, sep = \"~\"))"
   ]
  },
  {
   "cell_type": "markdown",
   "metadata": {},
   "source": [
    "## start beau stuff: "
   ]
  },
  {
   "cell_type": "code",
   "execution_count": null,
   "metadata": {},
   "outputs": [],
   "source": [
    "## if overfit, important variables should change w/ every fold. \n",
    "## rank order of varimp would stay the same w/ perfectly fit model. "
   ]
  },
  {
   "cell_type": "code",
   "execution_count": 59,
   "metadata": {},
   "outputs": [
    {
     "name": "stderr",
     "output_type": "stream",
     "text": [
      "Loading required package: Matrix\n"
     ]
    }
   ],
   "source": [
    "library(geepack)\n",
    "library(lme4)"
   ]
  },
  {
   "cell_type": "code",
   "execution_count": 69,
   "metadata": {},
   "outputs": [],
   "source": [
    "data_train['txe_rhgg']=ifelse(data_train$outcome == \"rHGG\", 0, 1 )"
   ]
  },
  {
   "cell_type": "code",
   "execution_count": null,
   "metadata": {},
   "outputs": [],
   "source": []
  },
  {
   "cell_type": "code",
   "execution_count": 70,
   "metadata": {},
   "outputs": [
    {
     "data": {
      "text/html": [
       "<table>\n",
       "<thead><tr><th></th><th scope=col>Estimate</th><th scope=col>Std.err</th><th scope=col>Wald</th><th scope=col>Pr(&gt;|W|)</th></tr></thead>\n",
       "<tbody>\n",
       "\t<tr><th scope=row>(Intercept)</th><td> 1.6482</td><td>1.3150 </td><td>1.5711 </td><td>0.2100 </td></tr>\n",
       "\t<tr><th scope=row>cbvn_nlin</th><td> 0.0250</td><td>0.0130 </td><td>3.7011 </td><td>0.0544 </td></tr>\n",
       "\t<tr><th scope=row>recov_npar</th><td>-0.0271</td><td>0.0142 </td><td>3.6193 </td><td>0.0571 </td></tr>\n",
       "\t<tr><th scope=row>ccri</th><td> 0.2549</td><td>0.1879 </td><td>1.8387 </td><td>0.1751 </td></tr>\n",
       "\t<tr><th scope=row>cni</th><td>-0.0760</td><td>0.2576 </td><td>0.0871 </td><td>0.7678 </td></tr>\n",
       "\t<tr><th scope=row>ncho</th><td>-0.7367</td><td>1.0703 </td><td>0.4738 </td><td>0.4912 </td></tr>\n",
       "\t<tr><th scope=row>ncre</th><td> 0.5881</td><td>0.5906 </td><td>0.9917 </td><td>0.3193 </td></tr>\n",
       "\t<tr><th scope=row>nnaa</th><td>-0.0302</td><td>0.8667 </td><td>0.0012 </td><td>0.9722 </td></tr>\n",
       "\t<tr><th scope=row>nadc.1</th><td>-0.2509</td><td>0.2657 </td><td>0.8917 </td><td>0.3450 </td></tr>\n",
       "\t<tr><th scope=row>nfa.1</th><td> 0.2510</td><td>0.2655 </td><td>0.8938 </td><td>0.3445 </td></tr>\n",
       "</tbody>\n",
       "</table>\n"
      ],
      "text/latex": [
       "\\begin{tabular}{r|llll}\n",
       "  & Estimate & Std.err & Wald & Pr(>\\textbar{}W\\textbar{})\\\\\n",
       "\\hline\n",
       "\t(Intercept) &  1.6482 & 1.3150  & 1.5711  & 0.2100 \\\\\n",
       "\tcbvn\\_nlin &  0.0250 & 0.0130  & 3.7011  & 0.0544 \\\\\n",
       "\trecov\\_npar & -0.0271 & 0.0142  & 3.6193  & 0.0571 \\\\\n",
       "\tccri &  0.2549 & 0.1879  & 1.8387  & 0.1751 \\\\\n",
       "\tcni & -0.0760 & 0.2576  & 0.0871  & 0.7678 \\\\\n",
       "\tncho & -0.7367 & 1.0703  & 0.4738  & 0.4912 \\\\\n",
       "\tncre &  0.5881 & 0.5906  & 0.9917  & 0.3193 \\\\\n",
       "\tnnaa & -0.0302 & 0.8667  & 0.0012  & 0.9722 \\\\\n",
       "\tnadc.1 & -0.2509 & 0.2657  & 0.8917  & 0.3450 \\\\\n",
       "\tnfa.1 &  0.2510 & 0.2655  & 0.8938  & 0.3445 \\\\\n",
       "\\end{tabular}\n"
      ],
      "text/markdown": [
       "\n",
       "| <!--/--> | Estimate | Std.err | Wald | Pr(>|W|) | \n",
       "|---|---|---|---|---|---|---|---|---|---|\n",
       "| (Intercept) |  1.6482 | 1.3150  | 1.5711  | 0.2100  | \n",
       "| cbvn_nlin |  0.0250 | 0.0130  | 3.7011  | 0.0544  | \n",
       "| recov_npar | -0.0271 | 0.0142  | 3.6193  | 0.0571  | \n",
       "| ccri |  0.2549 | 0.1879  | 1.8387  | 0.1751  | \n",
       "| cni | -0.0760 | 0.2576  | 0.0871  | 0.7678  | \n",
       "| ncho | -0.7367 | 1.0703  | 0.4738  | 0.4912  | \n",
       "| ncre |  0.5881 | 0.5906  | 0.9917  | 0.3193  | \n",
       "| nnaa | -0.0302 | 0.8667  | 0.0012  | 0.9722  | \n",
       "| nadc.1 | -0.2509 | 0.2657  | 0.8917  | 0.3450  | \n",
       "| nfa.1 |  0.2510 | 0.2655  | 0.8938  | 0.3445  | \n",
       "\n",
       "\n"
      ],
      "text/plain": [
       "            Estimate Std.err Wald   Pr(>|W|)\n",
       "(Intercept)  1.6482  1.3150  1.5711 0.2100  \n",
       "cbvn_nlin    0.0250  0.0130  3.7011 0.0544  \n",
       "recov_npar  -0.0271  0.0142  3.6193 0.0571  \n",
       "ccri         0.2549  0.1879  1.8387 0.1751  \n",
       "cni         -0.0760  0.2576  0.0871 0.7678  \n",
       "ncho        -0.7367  1.0703  0.4738 0.4912  \n",
       "ncre         0.5881  0.5906  0.9917 0.3193  \n",
       "nnaa        -0.0302  0.8667  0.0012 0.9722  \n",
       "nadc.1      -0.2509  0.2657  0.8917 0.3450  \n",
       "nfa.1        0.2510  0.2655  0.8938 0.3445  "
      ]
     },
     "metadata": {},
     "output_type": "display_data"
    }
   ],
   "source": [
    "gee.fit1 = geeglm(txe_rhgg ~ cbvn_nlin + recov_npar + ccri + \n",
    "    cni + ncho + ncre + nnaa + nadc.1 + nfa.1, data = data_train, id = factor(t_number_y), family = binomial, corstr = \"exchangeable\")\n",
    "round(summary(gee.fit1)$coefficients, 4)"
   ]
  },
  {
   "cell_type": "code",
   "execution_count": 72,
   "metadata": {},
   "outputs": [
    {
     "data": {
      "text/plain": [
       "   \n",
       "    rHGG txe\n",
       "  0  163   0\n",
       "  1    0  59"
      ]
     },
     "metadata": {},
     "output_type": "display_data"
    }
   ],
   "source": [
    "table(data_train$txe_rhgg, data_train$outcome)"
   ]
  },
  {
   "cell_type": "code",
   "execution_count": 74,
   "metadata": {},
   "outputs": [
    {
     "data": {
      "text/plain": [
       "\n",
       "Call:\n",
       "glm(formula = txe_rhgg ~ cbvn_nlin + recov_npar + ccri + cni + \n",
       "    ncho + ncre + nnaa + nadc.1 + nfa.1, family = \"binomial\", \n",
       "    data = data_train)\n",
       "\n",
       "Deviance Residuals: \n",
       "    Min       1Q   Median       3Q      Max  \n",
       "-1.4076  -0.8527  -0.6236   1.1388   2.2029  \n",
       "\n",
       "Coefficients:\n",
       "            Estimate Std. Error z value Pr(>|z|)   \n",
       "(Intercept)  2.52101    1.33686   1.886  0.05933 . \n",
       "cbvn_nlin    0.03782    0.01405   2.692  0.00710 **\n",
       "recov_npar  -0.04098    0.01535  -2.670  0.00758 **\n",
       "ccri         0.21566    0.39550   0.545  0.58556   \n",
       "cni         -0.06992    0.41321  -0.169  0.86563   \n",
       "ncho        -0.69248    1.65001  -0.420  0.67472   \n",
       "ncre         0.26530    1.25037   0.212  0.83197   \n",
       "nnaa         0.28150    1.52265   0.185  0.85332   \n",
       "nadc.1      -0.04374    0.24827  -0.176  0.86017   \n",
       "nfa.1        0.04422    0.24807   0.178  0.85853   \n",
       "---\n",
       "Signif. codes:  0 ‘***’ 0.001 ‘**’ 0.01 ‘*’ 0.05 ‘.’ 0.1 ‘ ’ 1\n",
       "\n",
       "(Dispersion parameter for binomial family taken to be 1)\n",
       "\n",
       "    Null deviance: 257.08  on 221  degrees of freedom\n",
       "Residual deviance: 240.55  on 212  degrees of freedom\n",
       "AIC: 260.55\n",
       "\n",
       "Number of Fisher Scoring iterations: 5\n"
      ]
     },
     "metadata": {},
     "output_type": "display_data"
    }
   ],
   "source": [
    "glm_fit = glm(txe_rhgg ~ cbvn_nlin + recov_npar + ccri + \n",
    "    cni + ncho + ncre + nnaa + nadc.1 + nfa.1, data = data_train, family = \"binomial\")\n",
    "summary(glm_fit)"
   ]
  },
  {
   "cell_type": "code",
   "execution_count": 80,
   "metadata": {},
   "outputs": [],
   "source": [
    "library(caret)"
   ]
  },
  {
   "cell_type": "code",
   "execution_count": 83,
   "metadata": {},
   "outputs": [
    {
     "data": {
      "text/plain": [
       "Confusion Matrix and Statistics\n",
       "\n",
       "          Reference\n",
       "Prediction rHGG txe\n",
       "      rHGG   56  23\n",
       "      txe     4   0\n",
       "                                         \n",
       "               Accuracy : 0.6747         \n",
       "                 95% CI : (0.563, 0.7735)\n",
       "    No Information Rate : 0.7229         \n",
       "    P-Value [Acc > NIR] : 0.864459       \n",
       "                                         \n",
       "                  Kappa : -0.0895        \n",
       " Mcnemar's Test P-Value : 0.000532       \n",
       "                                         \n",
       "            Sensitivity : 0.9333         \n",
       "            Specificity : 0.0000         \n",
       "         Pos Pred Value : 0.7089         \n",
       "         Neg Pred Value : 0.0000         \n",
       "             Prevalence : 0.7229         \n",
       "         Detection Rate : 0.6747         \n",
       "   Detection Prevalence : 0.9518         \n",
       "      Balanced Accuracy : 0.4667         \n",
       "                                         \n",
       "       'Positive' Class : rHGG           \n",
       "                                         "
      ]
     },
     "metadata": {},
     "output_type": "display_data"
    }
   ],
   "source": [
    "preds = ifelse(predict(glm_fit, data_test, type =\"response\") > 0.5, \"txe\", 'rHGG')\n",
    "confusionMatrix(as.factor(preds), data_test$outcome)"
   ]
  },
  {
   "cell_type": "markdown",
   "metadata": {},
   "source": [
    "## txe x3 \n"
   ]
  },
  {
   "cell_type": "code",
   "execution_count": 118,
   "metadata": {},
   "outputs": [
    {
     "data": {
      "text/html": [
       "<ol class=list-inline>\n",
       "\t<li>222</li>\n",
       "\t<li>18</li>\n",
       "</ol>\n"
      ],
      "text/latex": [
       "\\begin{enumerate*}\n",
       "\\item 222\n",
       "\\item 18\n",
       "\\end{enumerate*}\n"
      ],
      "text/markdown": [
       "1. 222\n",
       "2. 18\n",
       "\n",
       "\n"
      ],
      "text/plain": [
       "[1] 222  18"
      ]
     },
     "metadata": {},
     "output_type": "display_data"
    }
   ],
   "source": [
    "dim(data_train)"
   ]
  },
  {
   "cell_type": "code",
   "execution_count": 119,
   "metadata": {},
   "outputs": [
    {
     "data": {
      "text/plain": [
       "\n",
       "rHGG  txe \n",
       " 163   59 "
      ]
     },
     "metadata": {},
     "output_type": "display_data"
    }
   ],
   "source": [
    "table(data_train$outcome)"
   ]
  },
  {
   "cell_type": "code",
   "execution_count": 120,
   "metadata": {},
   "outputs": [],
   "source": [
    "data_train_txe = data_train[which(data_train$outcome == \"txe\"),]"
   ]
  },
  {
   "cell_type": "code",
   "execution_count": 121,
   "metadata": {},
   "outputs": [],
   "source": [
    "data_train_tripled = rbind(data_train, data_train_txe, data_train_txe)"
   ]
  },
  {
   "cell_type": "code",
   "execution_count": 122,
   "metadata": {},
   "outputs": [
    {
     "data": {
      "text/plain": [
       "\n",
       "rHGG  txe \n",
       " 163  177 "
      ]
     },
     "metadata": {},
     "output_type": "display_data"
    }
   ],
   "source": [
    "table(data_train_tripled$outcome)"
   ]
  },
  {
   "cell_type": "code",
   "execution_count": 123,
   "metadata": {},
   "outputs": [],
   "source": [
    "data_train_tripled['index']=sample(1:dim(data_train_tripled)[1])"
   ]
  },
  {
   "cell_type": "code",
   "execution_count": 124,
   "metadata": {},
   "outputs": [],
   "source": [
    "data_train_tripled = data_train_tripled[order(data_train_tripled$index), ]"
   ]
  },
  {
   "cell_type": "code",
   "execution_count": 125,
   "metadata": {},
   "outputs": [
    {
     "data": {
      "text/html": [
       "<table>\n",
       "<thead><tr><th></th><th scope=col>vialid</th><th scope=col>t_number_y</th><th scope=col>CELorNEL</th><th scope=col>newdata</th><th scope=col>cbvn_nlin</th><th scope=col>recov_npar</th><th scope=col>ccri</th><th scope=col>cni</th><th scope=col>ncho</th><th scope=col>ncre</th><th scope=col>nnaa</th><th scope=col>nadc.1</th><th scope=col>nfa.1</th><th scope=col>outcome</th><th scope=col>hasPerf</th><th scope=col>hasSpec</th><th scope=col>hasDiffu</th><th scope=col>txe_rhgg</th><th scope=col>index</th></tr></thead>\n",
       "<tbody>\n",
       "\t<tr><th scope=row>1611</th><td>35B30 </td><td> 6551 </td><td>NEL   </td><td>0     </td><td>  0.34</td><td> 92.06</td><td>  1.64</td><td>  1.07</td><td>  0.88</td><td>  0.34</td><td>  0.63</td><td>2.19  </td><td>1.06  </td><td>txe   </td><td>1     </td><td>1     </td><td>1     </td><td>1     </td><td>335   </td></tr>\n",
       "\t<tr><th scope=row>3</th><td>29B82 </td><td>10448 </td><td>CEL   </td><td>1     </td><td>  2.43</td><td>100.00</td><td>999.00</td><td>999.00</td><td>999.00</td><td>999.00</td><td>999.00</td><td>1.62  </td><td>0.50  </td><td>rHGG  </td><td>1     </td><td>0     </td><td>1     </td><td>0     </td><td>336   </td></tr>\n",
       "\t<tr><th scope=row>111</th><td>18B24 </td><td> 6069 </td><td>NEL   </td><td>0     </td><td>999.00</td><td>999.00</td><td>999.00</td><td>999.00</td><td>999.00</td><td>999.00</td><td>999.00</td><td>2.28  </td><td>0.70  </td><td>rHGG  </td><td>0     </td><td>0     </td><td>1     </td><td>0     </td><td>337   </td></tr>\n",
       "\t<tr><th scope=row>50</th><td>4D1   </td><td>11476 </td><td>CEL   </td><td>1     </td><td>  1.40</td><td>100.00</td><td>  1.42</td><td>  4.02</td><td>  1.25</td><td>  0.81</td><td>  0.26</td><td>2.22  </td><td>0.46  </td><td>rHGG  </td><td>1     </td><td>1     </td><td>1     </td><td>0     </td><td>338   </td></tr>\n",
       "\t<tr><th scope=row>278</th><td>38B75 </td><td> 9406 </td><td>CEL   </td><td>1     </td><td>  0.92</td><td>100.00</td><td>999.00</td><td>999.00</td><td>999.00</td><td>999.00</td><td>999.00</td><td>1.44  </td><td>0.61  </td><td>rHGG  </td><td>1     </td><td>0     </td><td>1     </td><td>0     </td><td>339   </td></tr>\n",
       "\t<tr><th scope=row>1662</th><td>54B31 </td><td> 6619 </td><td>CEL   </td><td>0     </td><td>999.00</td><td>999.00</td><td>999.00</td><td>999.00</td><td>999.00</td><td>999.00</td><td>999.00</td><td>2.70  </td><td>0.61  </td><td>txe   </td><td>0     </td><td>0     </td><td>1     </td><td>1     </td><td>340   </td></tr>\n",
       "</tbody>\n",
       "</table>\n"
      ],
      "text/latex": [
       "\\begin{tabular}{r|lllllllllllllllllll}\n",
       "  & vialid & t\\_number\\_y & CELorNEL & newdata & cbvn\\_nlin & recov\\_npar & ccri & cni & ncho & ncre & nnaa & nadc.1 & nfa.1 & outcome & hasPerf & hasSpec & hasDiffu & txe\\_rhgg & index\\\\\n",
       "\\hline\n",
       "\t1611 & 35B30  &  6551  & NEL    & 0      &   0.34 &  92.06 &   1.64 &   1.07 &   0.88 &   0.34 &   0.63 & 2.19   & 1.06   & txe    & 1      & 1      & 1      & 1      & 335   \\\\\n",
       "\t3 & 29B82  & 10448  & CEL    & 1      &   2.43 & 100.00 & 999.00 & 999.00 & 999.00 & 999.00 & 999.00 & 1.62   & 0.50   & rHGG   & 1      & 0      & 1      & 0      & 336   \\\\\n",
       "\t111 & 18B24  &  6069  & NEL    & 0      & 999.00 & 999.00 & 999.00 & 999.00 & 999.00 & 999.00 & 999.00 & 2.28   & 0.70   & rHGG   & 0      & 0      & 1      & 0      & 337   \\\\\n",
       "\t50 & 4D1    & 11476  & CEL    & 1      &   1.40 & 100.00 &   1.42 &   4.02 &   1.25 &   0.81 &   0.26 & 2.22   & 0.46   & rHGG   & 1      & 1      & 1      & 0      & 338   \\\\\n",
       "\t278 & 38B75  &  9406  & CEL    & 1      &   0.92 & 100.00 & 999.00 & 999.00 & 999.00 & 999.00 & 999.00 & 1.44   & 0.61   & rHGG   & 1      & 0      & 1      & 0      & 339   \\\\\n",
       "\t1662 & 54B31  &  6619  & CEL    & 0      & 999.00 & 999.00 & 999.00 & 999.00 & 999.00 & 999.00 & 999.00 & 2.70   & 0.61   & txe    & 0      & 0      & 1      & 1      & 340   \\\\\n",
       "\\end{tabular}\n"
      ],
      "text/markdown": [
       "\n",
       "| <!--/--> | vialid | t_number_y | CELorNEL | newdata | cbvn_nlin | recov_npar | ccri | cni | ncho | ncre | nnaa | nadc.1 | nfa.1 | outcome | hasPerf | hasSpec | hasDiffu | txe_rhgg | index | \n",
       "|---|---|---|---|---|---|\n",
       "| 1611 | 35B30  |  6551  | NEL    | 0      |   0.34 |  92.06 |   1.64 |   1.07 |   0.88 |   0.34 |   0.63 | 2.19   | 1.06   | txe    | 1      | 1      | 1      | 1      | 335    | \n",
       "| 3 | 29B82  | 10448  | CEL    | 1      |   2.43 | 100.00 | 999.00 | 999.00 | 999.00 | 999.00 | 999.00 | 1.62   | 0.50   | rHGG   | 1      | 0      | 1      | 0      | 336    | \n",
       "| 111 | 18B24  |  6069  | NEL    | 0      | 999.00 | 999.00 | 999.00 | 999.00 | 999.00 | 999.00 | 999.00 | 2.28   | 0.70   | rHGG   | 0      | 0      | 1      | 0      | 337    | \n",
       "| 50 | 4D1    | 11476  | CEL    | 1      |   1.40 | 100.00 |   1.42 |   4.02 |   1.25 |   0.81 |   0.26 | 2.22   | 0.46   | rHGG   | 1      | 1      | 1      | 0      | 338    | \n",
       "| 278 | 38B75  |  9406  | CEL    | 1      |   0.92 | 100.00 | 999.00 | 999.00 | 999.00 | 999.00 | 999.00 | 1.44   | 0.61   | rHGG   | 1      | 0      | 1      | 0      | 339    | \n",
       "| 1662 | 54B31  |  6619  | CEL    | 0      | 999.00 | 999.00 | 999.00 | 999.00 | 999.00 | 999.00 | 999.00 | 2.70   | 0.61   | txe    | 0      | 0      | 1      | 1      | 340    | \n",
       "\n",
       "\n"
      ],
      "text/plain": [
       "     vialid t_number_y CELorNEL newdata cbvn_nlin recov_npar ccri   cni   \n",
       "1611 35B30   6551      NEL      0         0.34     92.06       1.64   1.07\n",
       "3    29B82  10448      CEL      1         2.43    100.00     999.00 999.00\n",
       "111  18B24   6069      NEL      0       999.00    999.00     999.00 999.00\n",
       "50   4D1    11476      CEL      1         1.40    100.00       1.42   4.02\n",
       "278  38B75   9406      CEL      1         0.92    100.00     999.00 999.00\n",
       "1662 54B31   6619      CEL      0       999.00    999.00     999.00 999.00\n",
       "     ncho   ncre   nnaa   nadc.1 nfa.1 outcome hasPerf hasSpec hasDiffu\n",
       "1611   0.88   0.34   0.63 2.19   1.06  txe     1       1       1       \n",
       "3    999.00 999.00 999.00 1.62   0.50  rHGG    1       0       1       \n",
       "111  999.00 999.00 999.00 2.28   0.70  rHGG    0       0       1       \n",
       "50     1.25   0.81   0.26 2.22   0.46  rHGG    1       1       1       \n",
       "278  999.00 999.00 999.00 1.44   0.61  rHGG    1       0       1       \n",
       "1662 999.00 999.00 999.00 2.70   0.61  txe     0       0       1       \n",
       "     txe_rhgg index\n",
       "1611 1        335  \n",
       "3    0        336  \n",
       "111  0        337  \n",
       "50   0        338  \n",
       "278  0        339  \n",
       "1662 1        340  "
      ]
     },
     "metadata": {},
     "output_type": "display_data"
    }
   ],
   "source": [
    "tail(data_train_tripled)"
   ]
  },
  {
   "cell_type": "code",
   "execution_count": 126,
   "metadata": {},
   "outputs": [],
   "source": [
    "rf = randomForest(formula = rf_formula, \n",
    "                   data = data_train_tripled)"
   ]
  },
  {
   "cell_type": "code",
   "execution_count": 127,
   "metadata": {},
   "outputs": [],
   "source": [
    "train_preds = predict(rf, data_train)"
   ]
  },
  {
   "cell_type": "code",
   "execution_count": 128,
   "metadata": {},
   "outputs": [
    {
     "data": {
      "text/plain": [
       "Confusion Matrix and Statistics\n",
       "\n",
       "          Reference\n",
       "Prediction rHGG txe\n",
       "      rHGG  142   0\n",
       "      txe    21  59\n",
       "                                         \n",
       "               Accuracy : 0.9054         \n",
       "                 95% CI : (0.859, 0.9405)\n",
       "    No Information Rate : 0.7342         \n",
       "    P-Value [Acc > NIR] : 1.705e-10      \n",
       "                                         \n",
       "                  Kappa : 0.7823         \n",
       " Mcnemar's Test P-Value : 1.275e-05      \n",
       "                                         \n",
       "            Sensitivity : 0.8712         \n",
       "            Specificity : 1.0000         \n",
       "         Pos Pred Value : 1.0000         \n",
       "         Neg Pred Value : 0.7375         \n",
       "             Prevalence : 0.7342         \n",
       "         Detection Rate : 0.6396         \n",
       "   Detection Prevalence : 0.6396         \n",
       "      Balanced Accuracy : 0.9356         \n",
       "                                         \n",
       "       'Positive' Class : rHGG           \n",
       "                                         "
      ]
     },
     "metadata": {},
     "output_type": "display_data"
    }
   ],
   "source": [
    "train_conf_mat = confusionMatrix(train_preds, data_train$outcome)\n",
    "train_conf_mat"
   ]
  },
  {
   "cell_type": "code",
   "execution_count": 129,
   "metadata": {},
   "outputs": [],
   "source": [
    "test_preds = predict(rf, data_test)\n",
    "\n",
    "test_conf_mat = confusionMatrix(test_preds, data_test$outcome)\n"
   ]
  },
  {
   "cell_type": "code",
   "execution_count": 130,
   "metadata": {},
   "outputs": [
    {
     "data": {
      "text/plain": [
       "Confusion Matrix and Statistics\n",
       "\n",
       "          Reference\n",
       "Prediction rHGG txe\n",
       "      rHGG   39  13\n",
       "      txe    21  10\n",
       "                                          \n",
       "               Accuracy : 0.5904          \n",
       "                 95% CI : (0.4769, 0.6972)\n",
       "    No Information Rate : 0.7229          \n",
       "    P-Value [Acc > NIR] : 0.9968          \n",
       "                                          \n",
       "                  Kappa : 0.0766          \n",
       " Mcnemar's Test P-Value : 0.2299          \n",
       "                                          \n",
       "            Sensitivity : 0.6500          \n",
       "            Specificity : 0.4348          \n",
       "         Pos Pred Value : 0.7500          \n",
       "         Neg Pred Value : 0.3226          \n",
       "             Prevalence : 0.7229          \n",
       "         Detection Rate : 0.4699          \n",
       "   Detection Prevalence : 0.6265          \n",
       "      Balanced Accuracy : 0.5424          \n",
       "                                          \n",
       "       'Positive' Class : rHGG            \n",
       "                                          "
      ]
     },
     "metadata": {},
     "output_type": "display_data"
    }
   ],
   "source": [
    "test_conf_mat"
   ]
  },
  {
   "cell_type": "markdown",
   "metadata": {},
   "source": [
    "## back to RFs\n"
   ]
  },
  {
   "cell_type": "code",
   "execution_count": 133,
   "metadata": {},
   "outputs": [
    {
     "data": {
      "text/plain": [
       "outcome ~ CELorNEL + newdata + cbvn_nlin + recov_npar + ccri + \n",
       "    cni + ncho + ncre + nnaa + nadc.1 + nfa.1 + hasPerf + hasSpec + \n",
       "    hasDiffu"
      ]
     },
     "metadata": {},
     "output_type": "display_data"
    }
   ],
   "source": [
    "rf_formula"
   ]
  },
  {
   "cell_type": "code",
   "execution_count": 134,
   "metadata": {},
   "outputs": [],
   "source": [
    "rf = randomForest(formula = rf_formula, \n",
    "                   data = data_train)"
   ]
  },
  {
   "cell_type": "code",
   "execution_count": 135,
   "metadata": {},
   "outputs": [],
   "source": [
    "train_preds = predict(rf, data_train)"
   ]
  },
  {
   "cell_type": "code",
   "execution_count": 136,
   "metadata": {},
   "outputs": [
    {
     "data": {
      "text/plain": [
       "Confusion Matrix and Statistics\n",
       "\n",
       "          Reference\n",
       "Prediction rHGG txe\n",
       "      rHGG  163  10\n",
       "      txe     0  49\n",
       "                                          \n",
       "               Accuracy : 0.955           \n",
       "                 95% CI : (0.9187, 0.9782)\n",
       "    No Information Rate : 0.7342          \n",
       "    P-Value [Acc > NIR] : < 2.2e-16       \n",
       "                                          \n",
       "                  Kappa : 0.878           \n",
       " Mcnemar's Test P-Value : 0.004427        \n",
       "                                          \n",
       "            Sensitivity : 1.0000          \n",
       "            Specificity : 0.8305          \n",
       "         Pos Pred Value : 0.9422          \n",
       "         Neg Pred Value : 1.0000          \n",
       "             Prevalence : 0.7342          \n",
       "         Detection Rate : 0.7342          \n",
       "   Detection Prevalence : 0.7793          \n",
       "      Balanced Accuracy : 0.9153          \n",
       "                                          \n",
       "       'Positive' Class : rHGG            \n",
       "                                          "
      ]
     },
     "metadata": {},
     "output_type": "display_data"
    }
   ],
   "source": [
    "train_conf_mat = confusionMatrix(train_preds, data_train$outcome)\n",
    "train_conf_mat"
   ]
  },
  {
   "cell_type": "code",
   "execution_count": 137,
   "metadata": {},
   "outputs": [],
   "source": [
    "test_preds = predict(rf, data_test)\n",
    "\n",
    "test_conf_mat = confusionMatrix(test_preds, data_test$outcome)\n"
   ]
  },
  {
   "cell_type": "code",
   "execution_count": 138,
   "metadata": {},
   "outputs": [
    {
     "data": {
      "text/plain": [
       "Confusion Matrix and Statistics\n",
       "\n",
       "          Reference\n",
       "Prediction rHGG txe\n",
       "      rHGG   55  23\n",
       "      txe     5   0\n",
       "                                          \n",
       "               Accuracy : 0.6627          \n",
       "                 95% CI : (0.5505, 0.7628)\n",
       "    No Information Rate : 0.7229          \n",
       "    P-Value [Acc > NIR] : 0.909282        \n",
       "                                          \n",
       "                  Kappa : -0.1098         \n",
       " Mcnemar's Test P-Value : 0.001315        \n",
       "                                          \n",
       "            Sensitivity : 0.9167          \n",
       "            Specificity : 0.0000          \n",
       "         Pos Pred Value : 0.7051          \n",
       "         Neg Pred Value : 0.0000          \n",
       "             Prevalence : 0.7229          \n",
       "         Detection Rate : 0.6627          \n",
       "   Detection Prevalence : 0.9398          \n",
       "      Balanced Accuracy : 0.4583          \n",
       "                                          \n",
       "       'Positive' Class : rHGG            \n",
       "                                          "
      ]
     },
     "metadata": {},
     "output_type": "display_data"
    }
   ],
   "source": [
    "test_conf_mat"
   ]
  },
  {
   "cell_type": "code",
   "execution_count": 139,
   "metadata": {},
   "outputs": [
    {
     "data": {
      "text/html": [
       "<table>\n",
       "<thead><tr><th></th><th scope=col>MeanDecreaseGini</th></tr></thead>\n",
       "<tbody>\n",
       "\t<tr><th scope=row>CELorNEL</th><td> 3.3225963</td></tr>\n",
       "\t<tr><th scope=row>newdata</th><td> 2.9553890</td></tr>\n",
       "\t<tr><th scope=row>cbvn_nlin</th><td> 9.4183115</td></tr>\n",
       "\t<tr><th scope=row>recov_npar</th><td> 8.6717204</td></tr>\n",
       "\t<tr><th scope=row>ccri</th><td> 3.8706623</td></tr>\n",
       "\t<tr><th scope=row>cni</th><td> 3.7890941</td></tr>\n",
       "\t<tr><th scope=row>ncho</th><td> 4.3341800</td></tr>\n",
       "\t<tr><th scope=row>ncre</th><td> 3.8944321</td></tr>\n",
       "\t<tr><th scope=row>nnaa</th><td> 4.8300754</td></tr>\n",
       "\t<tr><th scope=row>nadc.1</th><td>11.1412555</td></tr>\n",
       "\t<tr><th scope=row>nfa.1</th><td>11.6876328</td></tr>\n",
       "\t<tr><th scope=row>hasPerf</th><td> 1.3587726</td></tr>\n",
       "\t<tr><th scope=row>hasSpec</th><td> 0.6879020</td></tr>\n",
       "\t<tr><th scope=row>hasDiffu</th><td> 0.7307334</td></tr>\n",
       "</tbody>\n",
       "</table>\n"
      ],
      "text/latex": [
       "\\begin{tabular}{r|l}\n",
       "  & MeanDecreaseGini\\\\\n",
       "\\hline\n",
       "\tCELorNEL &  3.3225963\\\\\n",
       "\tnewdata &  2.9553890\\\\\n",
       "\tcbvn\\_nlin &  9.4183115\\\\\n",
       "\trecov\\_npar &  8.6717204\\\\\n",
       "\tccri &  3.8706623\\\\\n",
       "\tcni &  3.7890941\\\\\n",
       "\tncho &  4.3341800\\\\\n",
       "\tncre &  3.8944321\\\\\n",
       "\tnnaa &  4.8300754\\\\\n",
       "\tnadc.1 & 11.1412555\\\\\n",
       "\tnfa.1 & 11.6876328\\\\\n",
       "\thasPerf &  1.3587726\\\\\n",
       "\thasSpec &  0.6879020\\\\\n",
       "\thasDiffu &  0.7307334\\\\\n",
       "\\end{tabular}\n"
      ],
      "text/markdown": [
       "\n",
       "| <!--/--> | MeanDecreaseGini | \n",
       "|---|---|---|---|---|---|---|---|---|---|---|---|---|---|\n",
       "| CELorNEL |  3.3225963 | \n",
       "| newdata |  2.9553890 | \n",
       "| cbvn_nlin |  9.4183115 | \n",
       "| recov_npar |  8.6717204 | \n",
       "| ccri |  3.8706623 | \n",
       "| cni |  3.7890941 | \n",
       "| ncho |  4.3341800 | \n",
       "| ncre |  3.8944321 | \n",
       "| nnaa |  4.8300754 | \n",
       "| nadc.1 | 11.1412555 | \n",
       "| nfa.1 | 11.6876328 | \n",
       "| hasPerf |  1.3587726 | \n",
       "| hasSpec |  0.6879020 | \n",
       "| hasDiffu |  0.7307334 | \n",
       "\n",
       "\n"
      ],
      "text/plain": [
       "           MeanDecreaseGini\n",
       "CELorNEL    3.3225963      \n",
       "newdata     2.9553890      \n",
       "cbvn_nlin   9.4183115      \n",
       "recov_npar  8.6717204      \n",
       "ccri        3.8706623      \n",
       "cni         3.7890941      \n",
       "ncho        4.3341800      \n",
       "ncre        3.8944321      \n",
       "nnaa        4.8300754      \n",
       "nadc.1     11.1412555      \n",
       "nfa.1      11.6876328      \n",
       "hasPerf     1.3587726      \n",
       "hasSpec     0.6879020      \n",
       "hasDiffu    0.7307334      "
      ]
     },
     "metadata": {},
     "output_type": "display_data"
    }
   ],
   "source": [
    "importance(rf)"
   ]
  },
  {
   "cell_type": "code",
   "execution_count": 140,
   "metadata": {},
   "outputs": [
    {
     "data": {
      "image/png": "[encoded data removed]",
      "text/plain": [
       "Plot with title “rf”"
      ]
     },
     "metadata": {},
     "output_type": "display_data"
    }
   ],
   "source": [
    "varImpPlot(rf,type=2)"
   ]
  },
  {
   "cell_type": "code",
   "execution_count": 141,
   "metadata": {},
   "outputs": [
    {
     "data": {
      "text/html": [
       "<ol class=list-inline>\n",
       "\t<li>83</li>\n",
       "\t<li>2</li>\n",
       "</ol>\n"
      ],
      "text/latex": [
       "\\begin{enumerate*}\n",
       "\\item 83\n",
       "\\item 2\n",
       "\\end{enumerate*}\n"
      ],
      "text/markdown": [
       "1. 83\n",
       "2. 2\n",
       "\n",
       "\n"
      ],
      "text/plain": [
       "[1] 83  2"
      ]
     },
     "metadata": {},
     "output_type": "display_data"
    },
    {
     "data": {
      "text/html": [
       "<table>\n",
       "<thead><tr><th></th><th scope=col>rHGG</th><th scope=col>txe</th></tr></thead>\n",
       "<tbody>\n",
       "\t<tr><th scope=row>1</th><td>0.652</td><td>0.348</td></tr>\n",
       "\t<tr><th scope=row>13</th><td>0.720</td><td>0.280</td></tr>\n",
       "\t<tr><th scope=row>23</th><td>0.912</td><td>0.088</td></tr>\n",
       "\t<tr><th scope=row>24</th><td>0.766</td><td>0.234</td></tr>\n",
       "\t<tr><th scope=row>25</th><td>0.832</td><td>0.168</td></tr>\n",
       "\t<tr><th scope=row>26</th><td>0.872</td><td>0.128</td></tr>\n",
       "</tbody>\n",
       "</table>\n"
      ],
      "text/latex": [
       "\\begin{tabular}{r|ll}\n",
       "  & rHGG & txe\\\\\n",
       "\\hline\n",
       "\t1 & 0.652 & 0.348\\\\\n",
       "\t13 & 0.720 & 0.280\\\\\n",
       "\t23 & 0.912 & 0.088\\\\\n",
       "\t24 & 0.766 & 0.234\\\\\n",
       "\t25 & 0.832 & 0.168\\\\\n",
       "\t26 & 0.872 & 0.128\\\\\n",
       "\\end{tabular}\n"
      ],
      "text/markdown": [
       "\n",
       "| <!--/--> | rHGG | txe | \n",
       "|---|---|---|---|---|---|\n",
       "| 1 | 0.652 | 0.348 | \n",
       "| 13 | 0.720 | 0.280 | \n",
       "| 23 | 0.912 | 0.088 | \n",
       "| 24 | 0.766 | 0.234 | \n",
       "| 25 | 0.832 | 0.168 | \n",
       "| 26 | 0.872 | 0.128 | \n",
       "\n",
       "\n"
      ],
      "text/plain": [
       "   rHGG  txe  \n",
       "1  0.652 0.348\n",
       "13 0.720 0.280\n",
       "23 0.912 0.088\n",
       "24 0.766 0.234\n",
       "25 0.832 0.168\n",
       "26 0.872 0.128"
      ]
     },
     "metadata": {},
     "output_type": "display_data"
    }
   ],
   "source": [
    "result.predicted.prob <- predict(rf, data_test, type=\"prob\")\n",
    "dim(result.predicted.prob)\n",
    "head(result.predicted.prob)"
   ]
  },
  {
   "cell_type": "code",
   "execution_count": 150,
   "metadata": {},
   "outputs": [],
   "source": [
    "result.predicted.prob = as.data.frame(result.predicted.prob)"
   ]
  },
  {
   "cell_type": "code",
   "execution_count": 151,
   "metadata": {},
   "outputs": [],
   "source": [
    "result.roc <- roc(data_test$outcome, result.predicted.prob$txe) # Draw ROC curve.\n"
   ]
  },
  {
   "cell_type": "code",
   "execution_count": 152,
   "metadata": {},
   "outputs": [
    {
     "data": {
      "text/plain": [
       "\n",
       "Call:\n",
       "roc.default(response = data_test$outcome, predictor = result.predicted.prob$txe)\n",
       "\n",
       "Data: result.predicted.prob$txe in 60 controls (data_test$outcome rHGG) < 23 cases (data_test$outcome txe).\n",
       "Area under the curve: 0.5152"
      ]
     },
     "metadata": {},
     "output_type": "display_data"
    }
   ],
   "source": [
    "result.roc"
   ]
  },
  {
   "cell_type": "code",
   "execution_count": 153,
   "metadata": {},
   "outputs": [
    {
     "data": {
      "image/png": "[encoded data removed]",
      "text/plain": [
       "Plot with title “ROC curve for RF”"
      ]
     },
     "metadata": {},
     "output_type": "display_data"
    }
   ],
   "source": [
    "plot(result.roc, main = \"ROC curve for RF\")"
   ]
  },
  {
   "cell_type": "code",
   "execution_count": 105,
   "metadata": {},
   "outputs": [],
   "source": [
    "txe_preds = result.predicted.prob[,2]"
   ]
  },
  {
   "cell_type": "code",
   "execution_count": 106,
   "metadata": {},
   "outputs": [],
   "source": [
    "txe_preds2 = prediction(txe_preds, data_test$outcome)"
   ]
  },
  {
   "cell_type": "code",
   "execution_count": 107,
   "metadata": {},
   "outputs": [],
   "source": [
    "txe.rf.perf = performance(txe_preds2,\"tpr\",\"fpr\")\n"
   ]
  },
  {
   "cell_type": "code",
   "execution_count": 108,
   "metadata": {},
   "outputs": [
    {
     "data": {
      "image/png": "[encoded data removed]",
      "text/plain": [
       "Plot with title “ROC Curve for Random Forest”"
      ]
     },
     "metadata": {},
     "output_type": "display_data"
    }
   ],
   "source": [
    "plot(txe.rf.perf,main=\"ROC Curve for Random Forest\",col=2,lwd=2)\n",
    "abline(a=0,b=1,lwd=2,lty=2,col=\"gray\")"
   ]
  },
  {
   "cell_type": "code",
   "execution_count": null,
   "metadata": {},
   "outputs": [],
   "source": []
  },
  {
   "cell_type": "code",
   "execution_count": null,
   "metadata": {},
   "outputs": [],
   "source": []
  },
  {
   "cell_type": "code",
   "execution_count": null,
   "metadata": {},
   "outputs": [],
   "source": []
  }
 ],
 "metadata": {
  "kernelspec": {
   "display_name": "R",
   "language": "R",
   "name": "ir"
  },
  "language_info": {
   "codemirror_mode": "r",
   "file_extension": ".r",
   "mimetype": "text/x-r-source",
   "name": "R",
   "pygments_lexer": "r",
   "version": "3.4.0"
  }
 },
 "nbformat": 4,
 "nbformat_minor": 2
}
