{
 "cells": [
  {
   "cell_type": "code",
   "execution_count": 1,
   "metadata": {
    "collapsed": true
   },
   "outputs": [],
   "source": [
    "# sci python and visualization\n",
    "import numpy as np\n",
    "import pandas as pd\n",
    "import matplotlib.pyplot as plt\n",
    "plt.style.use('ggplot')\n",
    "%matplotlib inline\n",
    "from sklearn.preprocessing import StandardScaler\n",
    "\n",
    "# model selection and performance\n",
    "from sklearn.model_selection import train_test_split,cross_val_score,KFold\n",
    "from sklearn.metrics import accuracy_score, r2_score, roc_auc_score, classification_report,confusion_matrix\n",
    "from sklearn.feature_selection import SelectKBest,chi2, f_classif\n",
    "from sklearn.metrics import classification_report\n",
    "#models\n",
    "from sklearn.neighbors import KNeighborsClassifier\n",
    "from sklearn.svm import SVC\n",
    "from sklearn.linear_model import LogisticRegression\n",
    "from sklearn.tree import DecisionTreeClassifier\n",
    "from sklearn.naive_bayes import GaussianNB\n",
    "from sklearn.ensemble import RandomForestClassifier\n",
    "from sklearn.ensemble import GradientBoostingClassifier\n",
    "\n",
    "# decorations\n",
    "from IPython.display import YouTubeVideo\n",
    "\n",
    "import warnings\n",
    "warnings.filterwarnings('ignore')\n",
    "\n",
    "np.random.seed(2)\n",
    "import random\n",
    "import seaborn as sns "
   ]
  },
  {
   "cell_type": "code",
   "execution_count": 2,
   "metadata": {},
   "outputs": [
    {
     "name": "stdout",
     "output_type": "stream",
     "text": [
      "Your data has 366 rows, and  75 columns\n"
     ]
    },
    {
     "data": {
      "text/html": [
       "<div>\n",
       "<style>\n",
       "    .dataframe thead tr:only-child th {\n",
       "        text-align: right;\n",
       "    }\n",
       "\n",
       "    .dataframe thead th {\n",
       "        text-align: left;\n",
       "    }\n",
       "\n",
       "    .dataframe tbody tr th {\n",
       "        vertical-align: top;\n",
       "    }\n",
       "</style>\n",
       "<table border=\"1\" class=\"dataframe\">\n",
       "  <thead>\n",
       "    <tr style=\"text-align: right;\">\n",
       "      <th></th>\n",
       "      <th>vialid</th>\n",
       "      <th>b_number</th>\n",
       "      <th>t_number_x</th>\n",
       "      <th>t_number_y</th>\n",
       "      <th>sf_number</th>\n",
       "      <th>current_scan_date</th>\n",
       "      <th>current_surgery_date</th>\n",
       "      <th>current_hist_grade</th>\n",
       "      <th>current_hist_type</th>\n",
       "      <th>tumor_cell_evaluation</th>\n",
       "      <th>...</th>\n",
       "      <th>exclude_bc_pathology</th>\n",
       "      <th>include_diffu1000</th>\n",
       "      <th>include_diffu2000</th>\n",
       "      <th>exclude_histology</th>\n",
       "      <th>txe_comments</th>\n",
       "      <th>outcome</th>\n",
       "      <th>in_CEL</th>\n",
       "      <th>in_T2all</th>\n",
       "      <th>in_NEL</th>\n",
       "      <th>CELorNEL</th>\n",
       "    </tr>\n",
       "  </thead>\n",
       "  <tbody>\n",
       "    <tr>\n",
       "      <th>0</th>\n",
       "      <td>1B82</td>\n",
       "      <td>4080.0</td>\n",
       "      <td>t10366</td>\n",
       "      <td>10366.0</td>\n",
       "      <td>10778.0</td>\n",
       "      <td>4/12/16</td>\n",
       "      <td>4/13/16</td>\n",
       "      <td>Treatment Effect</td>\n",
       "      <td>Treatment Effect</td>\n",
       "      <td>0</td>\n",
       "      <td>...</td>\n",
       "      <td>NaN</td>\n",
       "      <td>1</td>\n",
       "      <td>1</td>\n",
       "      <td>NaN</td>\n",
       "      <td>True</td>\n",
       "      <td>txe</td>\n",
       "      <td>0.0</td>\n",
       "      <td>1.0</td>\n",
       "      <td>1.0</td>\n",
       "      <td>NEL</td>\n",
       "    </tr>\n",
       "    <tr>\n",
       "      <th>1</th>\n",
       "      <td>4B82</td>\n",
       "      <td>4080.0</td>\n",
       "      <td>t10366</td>\n",
       "      <td>10366.0</td>\n",
       "      <td>10778.0</td>\n",
       "      <td>4/12/16</td>\n",
       "      <td>4/13/16</td>\n",
       "      <td>Treatment Effect</td>\n",
       "      <td>Treatment Effect</td>\n",
       "      <td>3</td>\n",
       "      <td>...</td>\n",
       "      <td>NaN</td>\n",
       "      <td>1</td>\n",
       "      <td>1</td>\n",
       "      <td>NaN</td>\n",
       "      <td>False</td>\n",
       "      <td>unk</td>\n",
       "      <td>0.0</td>\n",
       "      <td>1.0</td>\n",
       "      <td>1.0</td>\n",
       "      <td>NEL</td>\n",
       "    </tr>\n",
       "    <tr>\n",
       "      <th>2</th>\n",
       "      <td>29B82</td>\n",
       "      <td>3759.0</td>\n",
       "      <td>t10448</td>\n",
       "      <td>10448.0</td>\n",
       "      <td>10815.0</td>\n",
       "      <td>5/11/16</td>\n",
       "      <td>5/12/16</td>\n",
       "      <td>Grade III</td>\n",
       "      <td>Oligodendroglioma</td>\n",
       "      <td>3</td>\n",
       "      <td>...</td>\n",
       "      <td>NaN</td>\n",
       "      <td>1</td>\n",
       "      <td>1</td>\n",
       "      <td>NaN</td>\n",
       "      <td>False</td>\n",
       "      <td>rHGG</td>\n",
       "      <td>1.0</td>\n",
       "      <td>1.0</td>\n",
       "      <td>0.0</td>\n",
       "      <td>CEL</td>\n",
       "    </tr>\n",
       "    <tr>\n",
       "      <th>3</th>\n",
       "      <td>61B90</td>\n",
       "      <td>3990.0</td>\n",
       "      <td>t10594</td>\n",
       "      <td>10594.0</td>\n",
       "      <td>10839.0</td>\n",
       "      <td>6/5/16</td>\n",
       "      <td>6/6/16</td>\n",
       "      <td>Grade IV</td>\n",
       "      <td>Glioblastoma</td>\n",
       "      <td>0</td>\n",
       "      <td>...</td>\n",
       "      <td>NaN</td>\n",
       "      <td>1</td>\n",
       "      <td>1</td>\n",
       "      <td>NaN</td>\n",
       "      <td>NaN</td>\n",
       "      <td>txe</td>\n",
       "      <td>0.0</td>\n",
       "      <td>1.0</td>\n",
       "      <td>1.0</td>\n",
       "      <td>NEL</td>\n",
       "    </tr>\n",
       "    <tr>\n",
       "      <th>4</th>\n",
       "      <td>60B90</td>\n",
       "      <td>3990.0</td>\n",
       "      <td>t10594</td>\n",
       "      <td>10594.0</td>\n",
       "      <td>10839.0</td>\n",
       "      <td>6/5/16</td>\n",
       "      <td>6/6/16</td>\n",
       "      <td>Grade IV</td>\n",
       "      <td>Glioblastoma</td>\n",
       "      <td>2</td>\n",
       "      <td>...</td>\n",
       "      <td>NaN</td>\n",
       "      <td>1</td>\n",
       "      <td>1</td>\n",
       "      <td>NaN</td>\n",
       "      <td>NaN</td>\n",
       "      <td>rHGG</td>\n",
       "      <td>0.0</td>\n",
       "      <td>1.0</td>\n",
       "      <td>1.0</td>\n",
       "      <td>NEL</td>\n",
       "    </tr>\n",
       "  </tbody>\n",
       "</table>\n",
       "<p>5 rows × 75 columns</p>\n",
       "</div>"
      ],
      "text/plain": [
       "  vialid  b_number t_number_x  t_number_y  sf_number current_scan_date  \\\n",
       "0   1B82    4080.0     t10366     10366.0    10778.0           4/12/16   \n",
       "1   4B82    4080.0     t10366     10366.0    10778.0           4/12/16   \n",
       "2  29B82    3759.0     t10448     10448.0    10815.0           5/11/16   \n",
       "3  61B90    3990.0     t10594     10594.0    10839.0            6/5/16   \n",
       "4  60B90    3990.0     t10594     10594.0    10839.0            6/5/16   \n",
       "\n",
       "  current_surgery_date current_hist_grade  current_hist_type  \\\n",
       "0              4/13/16   Treatment Effect   Treatment Effect   \n",
       "1              4/13/16   Treatment Effect   Treatment Effect   \n",
       "2              5/12/16          Grade III  Oligodendroglioma   \n",
       "3               6/6/16           Grade IV       Glioblastoma   \n",
       "4               6/6/16           Grade IV       Glioblastoma   \n",
       "\n",
       "   tumor_cell_evaluation   ...    exclude_bc_pathology include_diffu1000  \\\n",
       "0                      0   ...                     NaN                 1   \n",
       "1                      3   ...                     NaN                 1   \n",
       "2                      3   ...                     NaN                 1   \n",
       "3                      0   ...                     NaN                 1   \n",
       "4                      2   ...                     NaN                 1   \n",
       "\n",
       "  include_diffu2000 exclude_histology txe_comments outcome  in_CEL  in_T2all  \\\n",
       "0                 1               NaN         True     txe     0.0       1.0   \n",
       "1                 1               NaN        False     unk     0.0       1.0   \n",
       "2                 1               NaN        False    rHGG     1.0       1.0   \n",
       "3                 1               NaN          NaN     txe     0.0       1.0   \n",
       "4                 1               NaN          NaN    rHGG     0.0       1.0   \n",
       "\n",
       "   in_NEL CELorNEL  \n",
       "0     1.0      NEL  \n",
       "1     1.0      NEL  \n",
       "2     0.0      CEL  \n",
       "3     1.0      NEL  \n",
       "4     1.0      NEL  \n",
       "\n",
       "[5 rows x 75 columns]"
      ]
     },
     "execution_count": 2,
     "metadata": {},
     "output_type": "execute_result"
    }
   ],
   "source": [
    "data = pd.read_csv(\"../../AnnotateData/recgli_annotation10_onlyGoodBiopsies_alt1.csv\")\n",
    "print(\"Your data has\",data.shape[0], \"rows, and \", data.shape[1], \"columns\")\n",
    "data.head()\n"
   ]
  },
  {
   "cell_type": "code",
   "execution_count": 3,
   "metadata": {},
   "outputs": [
    {
     "data": {
      "text/plain": [
       "(366, 75)"
      ]
     },
     "execution_count": 3,
     "metadata": {},
     "output_type": "execute_result"
    }
   ],
   "source": [
    "labels = data.outcome\n",
    "data.shape"
   ]
  },
  {
   "cell_type": "code",
   "execution_count": 4,
   "metadata": {},
   "outputs": [
    {
     "data": {
      "text/plain": [
       "Index(['vialid', 'b_number', 't_number_x', 't_number_y', 'sf_number',\n",
       "       'current_scan_date', 'current_surgery_date', 'current_hist_grade',\n",
       "       'current_hist_type', 'tumor_cell_evaluation', 'necrosis',\n",
       "       'mv_hyperplasia', 'mv_delicate_vasculature', 'f8_delicate', 'f8_simple',\n",
       "       'f8_complex', 'mib_1', 'avgerage_cells', 'treatment_related_ab',\n",
       "       'bx_pure_treatment_effect', 'percent_tumor_nuclei', 'nfl', 'nfse',\n",
       "       'nt1c', 'nt1v', 'nt1d', 'nadc.1', 'nfa.1', 'nev1.1', 'nev2.1', 'nev3.1',\n",
       "       'nevrad.1', 'nadc.2', 'nfa.2', 'nev1.2', 'nev2.2', 'nev3.2', 'nevrad.2',\n",
       "       'cbvn_nlin', 'phn_nlin', 'recov_nlin', 'phn_npar', 'recov_npar',\n",
       "       'recovn_npar', 'ccri', 'cni', 'crni', 'ncho', 'ncre', 'nnaa', 'nlac',\n",
       "       'nlip', 'newdata', 'olddata', 'exclude_bc_hematoma_or_ventricle',\n",
       "       'exclude_perf', 'nLL', 'comments', 'perf_quant', 'include_perf',\n",
       "       'spec_quant', 'include_spec', 'diffu1000_quant', 'diffu2000_quant',\n",
       "       'exclude_bc_anat', 'exclude_bc_pathology', 'include_diffu1000',\n",
       "       'include_diffu2000', 'exclude_histology', 'txe_comments', 'outcome',\n",
       "       'in_CEL', 'in_T2all', 'in_NEL', 'CELorNEL'],\n",
       "      dtype='object')"
      ]
     },
     "execution_count": 4,
     "metadata": {},
     "output_type": "execute_result"
    }
   ],
   "source": [
    "data.columns"
   ]
  },
  {
   "cell_type": "code",
   "execution_count": 5,
   "metadata": {
    "collapsed": true
   },
   "outputs": [],
   "source": [
    "features = ['vialid', 't_number_y', 'nadc.1', 'nfa.1',\n",
    "       'cbvn_nlin',\n",
    "       'ccri', 'cni', 'ncho', 'ncre', 'nnaa', 'newdata', 'CELorNEL', 'outcome']"
   ]
  },
  {
   "cell_type": "code",
   "execution_count": 6,
   "metadata": {
    "collapsed": true
   },
   "outputs": [],
   "source": [
    "data = data[features]"
   ]
  },
  {
   "cell_type": "code",
   "execution_count": 7,
   "metadata": {},
   "outputs": [
    {
     "data": {
      "text/html": [
       "<div>\n",
       "<style>\n",
       "    .dataframe thead tr:only-child th {\n",
       "        text-align: right;\n",
       "    }\n",
       "\n",
       "    .dataframe thead th {\n",
       "        text-align: left;\n",
       "    }\n",
       "\n",
       "    .dataframe tbody tr th {\n",
       "        vertical-align: top;\n",
       "    }\n",
       "</style>\n",
       "<table border=\"1\" class=\"dataframe\">\n",
       "  <thead>\n",
       "    <tr style=\"text-align: right;\">\n",
       "      <th></th>\n",
       "      <th>vialid</th>\n",
       "      <th>t_number_y</th>\n",
       "      <th>nadc.1</th>\n",
       "      <th>nfa.1</th>\n",
       "      <th>cbvn_nlin</th>\n",
       "      <th>ccri</th>\n",
       "      <th>cni</th>\n",
       "      <th>ncho</th>\n",
       "      <th>ncre</th>\n",
       "      <th>nnaa</th>\n",
       "      <th>newdata</th>\n",
       "      <th>CELorNEL</th>\n",
       "      <th>outcome</th>\n",
       "    </tr>\n",
       "  </thead>\n",
       "  <tbody>\n",
       "    <tr>\n",
       "      <th>0</th>\n",
       "      <td>1B82</td>\n",
       "      <td>10366.0</td>\n",
       "      <td>0.75</td>\n",
       "      <td>0.83</td>\n",
       "      <td>1.08</td>\n",
       "      <td>1.88</td>\n",
       "      <td>2.60</td>\n",
       "      <td>1.03</td>\n",
       "      <td>0.47</td>\n",
       "      <td>0.46</td>\n",
       "      <td>1</td>\n",
       "      <td>NEL</td>\n",
       "      <td>txe</td>\n",
       "    </tr>\n",
       "    <tr>\n",
       "      <th>1</th>\n",
       "      <td>4B82</td>\n",
       "      <td>10366.0</td>\n",
       "      <td>0.68</td>\n",
       "      <td>0.61</td>\n",
       "      <td>NaN</td>\n",
       "      <td>NaN</td>\n",
       "      <td>NaN</td>\n",
       "      <td>NaN</td>\n",
       "      <td>NaN</td>\n",
       "      <td>NaN</td>\n",
       "      <td>1</td>\n",
       "      <td>NEL</td>\n",
       "      <td>unk</td>\n",
       "    </tr>\n",
       "    <tr>\n",
       "      <th>2</th>\n",
       "      <td>29B82</td>\n",
       "      <td>10448.0</td>\n",
       "      <td>1.62</td>\n",
       "      <td>0.50</td>\n",
       "      <td>2.43</td>\n",
       "      <td>NaN</td>\n",
       "      <td>NaN</td>\n",
       "      <td>NaN</td>\n",
       "      <td>NaN</td>\n",
       "      <td>NaN</td>\n",
       "      <td>1</td>\n",
       "      <td>CEL</td>\n",
       "      <td>rHGG</td>\n",
       "    </tr>\n",
       "    <tr>\n",
       "      <th>3</th>\n",
       "      <td>61B90</td>\n",
       "      <td>10594.0</td>\n",
       "      <td>2.62</td>\n",
       "      <td>0.81</td>\n",
       "      <td>1.64</td>\n",
       "      <td>NaN</td>\n",
       "      <td>NaN</td>\n",
       "      <td>NaN</td>\n",
       "      <td>NaN</td>\n",
       "      <td>NaN</td>\n",
       "      <td>1</td>\n",
       "      <td>NEL</td>\n",
       "      <td>txe</td>\n",
       "    </tr>\n",
       "    <tr>\n",
       "      <th>4</th>\n",
       "      <td>60B90</td>\n",
       "      <td>10594.0</td>\n",
       "      <td>2.12</td>\n",
       "      <td>0.42</td>\n",
       "      <td>0.95</td>\n",
       "      <td>1.03</td>\n",
       "      <td>3.27</td>\n",
       "      <td>1.04</td>\n",
       "      <td>0.79</td>\n",
       "      <td>0.36</td>\n",
       "      <td>1</td>\n",
       "      <td>NEL</td>\n",
       "      <td>rHGG</td>\n",
       "    </tr>\n",
       "  </tbody>\n",
       "</table>\n",
       "</div>"
      ],
      "text/plain": [
       "  vialid  t_number_y  nadc.1  nfa.1  cbvn_nlin  ccri   cni  ncho  ncre  nnaa  \\\n",
       "0   1B82     10366.0    0.75   0.83       1.08  1.88  2.60  1.03  0.47  0.46   \n",
       "1   4B82     10366.0    0.68   0.61        NaN   NaN   NaN   NaN   NaN   NaN   \n",
       "2  29B82     10448.0    1.62   0.50       2.43   NaN   NaN   NaN   NaN   NaN   \n",
       "3  61B90     10594.0    2.62   0.81       1.64   NaN   NaN   NaN   NaN   NaN   \n",
       "4  60B90     10594.0    2.12   0.42       0.95  1.03  3.27  1.04  0.79  0.36   \n",
       "\n",
       "   newdata CELorNEL outcome  \n",
       "0        1      NEL     txe  \n",
       "1        1      NEL     unk  \n",
       "2        1      CEL    rHGG  \n",
       "3        1      NEL     txe  \n",
       "4        1      NEL    rHGG  "
      ]
     },
     "execution_count": 7,
     "metadata": {},
     "output_type": "execute_result"
    }
   ],
   "source": [
    "data.head()"
   ]
  },
  {
   "cell_type": "code",
   "execution_count": 8,
   "metadata": {
    "collapsed": true
   },
   "outputs": [],
   "source": [
    "data_cel = data.loc[data['CELorNEL'] == \"CEL\"]"
   ]
  },
  {
   "cell_type": "code",
   "execution_count": 9,
   "metadata": {
    "collapsed": true
   },
   "outputs": [],
   "source": [
    "data_nel = data.loc[data['CELorNEL'] == \"NEL\"]"
   ]
  },
  {
   "cell_type": "code",
   "execution_count": 10,
   "metadata": {
    "collapsed": true
   },
   "outputs": [],
   "source": [
    "data = data_cel.append(data_nel)"
   ]
  },
  {
   "cell_type": "code",
   "execution_count": 11,
   "metadata": {},
   "outputs": [
    {
     "data": {
      "text/plain": [
       "CEL    201\n",
       "NEL    155\n",
       "Name: CELorNEL, dtype: int64"
      ]
     },
     "execution_count": 11,
     "metadata": {},
     "output_type": "execute_result"
    }
   ],
   "source": [
    "data.CELorNEL.value_counts()"
   ]
  },
  {
   "cell_type": "code",
   "execution_count": 12,
   "metadata": {},
   "outputs": [
    {
     "data": {
      "text/plain": [
       "(356, 13)"
      ]
     },
     "execution_count": 12,
     "metadata": {},
     "output_type": "execute_result"
    }
   ],
   "source": [
    "data.shape"
   ]
  },
  {
   "cell_type": "code",
   "execution_count": 13,
   "metadata": {},
   "outputs": [
    {
     "data": {
      "text/plain": [
       "rHGG    222\n",
       "txe      69\n",
       "unk      65\n",
       "Name: outcome, dtype: int64"
      ]
     },
     "execution_count": 13,
     "metadata": {},
     "output_type": "execute_result"
    }
   ],
   "source": [
    "data.outcome.value_counts()"
   ]
  },
  {
   "cell_type": "code",
   "execution_count": 13,
   "metadata": {
    "collapsed": true
   },
   "outputs": [],
   "source": [
    "data_txe = data.loc[data['outcome']==\"txe\"]\n",
    "data_rHGG = data.loc[data['outcome']==\"rHGG\"]"
   ]
  },
  {
   "cell_type": "code",
   "execution_count": 14,
   "metadata": {
    "collapsed": true
   },
   "outputs": [],
   "source": [
    "data = data_txe.append(data_rHGG)"
   ]
  },
  {
   "cell_type": "code",
   "execution_count": 15,
   "metadata": {},
   "outputs": [
    {
     "data": {
      "text/plain": [
       "(291, 13)"
      ]
     },
     "execution_count": 15,
     "metadata": {},
     "output_type": "execute_result"
    }
   ],
   "source": [
    "data.shape"
   ]
  },
  {
   "cell_type": "markdown",
   "metadata": {},
   "source": [
    "## Encode for missingness: "
   ]
  },
  {
   "cell_type": "code",
   "execution_count": 16,
   "metadata": {
    "collapsed": true
   },
   "outputs": [],
   "source": [
    "data['hasDiffu'] = [0 if x else 1 for x in data['nadc.1'].isnull()]\n",
    "data['hasPerf'] = [0 if x else 1 for x in data['cbvn_nlin'].isnull() ]\n",
    "data['hasSpec'] = [0 if x else 1 for x in data['cni'].isnull() ]"
   ]
  },
  {
   "cell_type": "markdown",
   "metadata": {},
   "source": [
    "## adding in the CEL, outcome yes/no binary "
   ]
  },
  {
   "cell_type": "code",
   "execution_count": 17,
   "metadata": {
    "collapsed": true
   },
   "outputs": [],
   "source": [
    "data['in_CEL'] = pd.get_dummies(data['CELorNEL'])['CEL']"
   ]
  },
  {
   "cell_type": "code",
   "execution_count": 18,
   "metadata": {
    "collapsed": true
   },
   "outputs": [],
   "source": [
    "del data['CELorNEL']"
   ]
  },
  {
   "cell_type": "code",
   "execution_count": 19,
   "metadata": {
    "collapsed": true
   },
   "outputs": [],
   "source": [
    "data['outcome_bin']=[0 if x == \"txe\" else 1 for x in data['outcome']]"
   ]
  },
  {
   "cell_type": "code",
   "execution_count": 20,
   "metadata": {},
   "outputs": [
    {
     "data": {
      "text/html": [
       "<div>\n",
       "<style>\n",
       "    .dataframe thead tr:only-child th {\n",
       "        text-align: right;\n",
       "    }\n",
       "\n",
       "    .dataframe thead th {\n",
       "        text-align: left;\n",
       "    }\n",
       "\n",
       "    .dataframe tbody tr th {\n",
       "        vertical-align: top;\n",
       "    }\n",
       "</style>\n",
       "<table border=\"1\" class=\"dataframe\">\n",
       "  <thead>\n",
       "    <tr style=\"text-align: right;\">\n",
       "      <th></th>\n",
       "      <th>vialid</th>\n",
       "      <th>t_number_y</th>\n",
       "      <th>nadc.1</th>\n",
       "      <th>nfa.1</th>\n",
       "      <th>cbvn_nlin</th>\n",
       "      <th>ccri</th>\n",
       "      <th>cni</th>\n",
       "      <th>ncho</th>\n",
       "      <th>ncre</th>\n",
       "      <th>nnaa</th>\n",
       "      <th>newdata</th>\n",
       "      <th>outcome</th>\n",
       "      <th>hasDiffu</th>\n",
       "      <th>hasPerf</th>\n",
       "      <th>hasSpec</th>\n",
       "      <th>in_CEL</th>\n",
       "      <th>outcome_bin</th>\n",
       "    </tr>\n",
       "  </thead>\n",
       "  <tbody>\n",
       "    <tr>\n",
       "      <th>52</th>\n",
       "      <td>14D1</td>\n",
       "      <td>11484.0</td>\n",
       "      <td>1.65</td>\n",
       "      <td>0.94</td>\n",
       "      <td>1.23</td>\n",
       "      <td>2.53</td>\n",
       "      <td>3.28</td>\n",
       "      <td>1.87</td>\n",
       "      <td>1.10</td>\n",
       "      <td>1.07</td>\n",
       "      <td>1</td>\n",
       "      <td>txe</td>\n",
       "      <td>1</td>\n",
       "      <td>1</td>\n",
       "      <td>1</td>\n",
       "      <td>1</td>\n",
       "      <td>0</td>\n",
       "    </tr>\n",
       "    <tr>\n",
       "      <th>81</th>\n",
       "      <td>74B18</td>\n",
       "      <td>5730.0</td>\n",
       "      <td>NaN</td>\n",
       "      <td>NaN</td>\n",
       "      <td>NaN</td>\n",
       "      <td>NaN</td>\n",
       "      <td>NaN</td>\n",
       "      <td>NaN</td>\n",
       "      <td>NaN</td>\n",
       "      <td>NaN</td>\n",
       "      <td>0</td>\n",
       "      <td>txe</td>\n",
       "      <td>0</td>\n",
       "      <td>0</td>\n",
       "      <td>0</td>\n",
       "      <td>1</td>\n",
       "      <td>0</td>\n",
       "    </tr>\n",
       "    <tr>\n",
       "      <th>82</th>\n",
       "      <td>75B18</td>\n",
       "      <td>5730.0</td>\n",
       "      <td>NaN</td>\n",
       "      <td>NaN</td>\n",
       "      <td>NaN</td>\n",
       "      <td>NaN</td>\n",
       "      <td>NaN</td>\n",
       "      <td>NaN</td>\n",
       "      <td>NaN</td>\n",
       "      <td>NaN</td>\n",
       "      <td>0</td>\n",
       "      <td>txe</td>\n",
       "      <td>0</td>\n",
       "      <td>0</td>\n",
       "      <td>0</td>\n",
       "      <td>1</td>\n",
       "      <td>0</td>\n",
       "    </tr>\n",
       "    <tr>\n",
       "      <th>83</th>\n",
       "      <td>31B20</td>\n",
       "      <td>5766.0</td>\n",
       "      <td>1.35</td>\n",
       "      <td>1.06</td>\n",
       "      <td>NaN</td>\n",
       "      <td>NaN</td>\n",
       "      <td>NaN</td>\n",
       "      <td>NaN</td>\n",
       "      <td>NaN</td>\n",
       "      <td>NaN</td>\n",
       "      <td>0</td>\n",
       "      <td>txe</td>\n",
       "      <td>1</td>\n",
       "      <td>0</td>\n",
       "      <td>0</td>\n",
       "      <td>1</td>\n",
       "      <td>0</td>\n",
       "    </tr>\n",
       "    <tr>\n",
       "      <th>87</th>\n",
       "      <td>42B20</td>\n",
       "      <td>5788.0</td>\n",
       "      <td>NaN</td>\n",
       "      <td>NaN</td>\n",
       "      <td>1.23</td>\n",
       "      <td>2.38</td>\n",
       "      <td>1.62</td>\n",
       "      <td>0.68</td>\n",
       "      <td>0.08</td>\n",
       "      <td>0.38</td>\n",
       "      <td>0</td>\n",
       "      <td>txe</td>\n",
       "      <td>0</td>\n",
       "      <td>1</td>\n",
       "      <td>1</td>\n",
       "      <td>1</td>\n",
       "      <td>0</td>\n",
       "    </tr>\n",
       "  </tbody>\n",
       "</table>\n",
       "</div>"
      ],
      "text/plain": [
       "   vialid  t_number_y  nadc.1  nfa.1  cbvn_nlin  ccri   cni  ncho  ncre  nnaa  \\\n",
       "52   14D1     11484.0    1.65   0.94       1.23  2.53  3.28  1.87  1.10  1.07   \n",
       "81  74B18      5730.0     NaN    NaN        NaN   NaN   NaN   NaN   NaN   NaN   \n",
       "82  75B18      5730.0     NaN    NaN        NaN   NaN   NaN   NaN   NaN   NaN   \n",
       "83  31B20      5766.0    1.35   1.06        NaN   NaN   NaN   NaN   NaN   NaN   \n",
       "87  42B20      5788.0     NaN    NaN       1.23  2.38  1.62  0.68  0.08  0.38   \n",
       "\n",
       "    newdata outcome  hasDiffu  hasPerf  hasSpec  in_CEL  outcome_bin  \n",
       "52        1     txe         1        1        1       1            0  \n",
       "81        0     txe         0        0        0       1            0  \n",
       "82        0     txe         0        0        0       1            0  \n",
       "83        0     txe         1        0        0       1            0  \n",
       "87        0     txe         0        1        1       1            0  "
      ]
     },
     "execution_count": 20,
     "metadata": {},
     "output_type": "execute_result"
    }
   ],
   "source": [
    "data.head()"
   ]
  },
  {
   "cell_type": "markdown",
   "metadata": {},
   "source": [
    "## noting stratification"
   ]
  },
  {
   "cell_type": "code",
   "execution_count": 21,
   "metadata": {
    "scrolled": true
   },
   "outputs": [
    {
     "data": {
      "text/plain": [
       "0.23711340206185566"
      ]
     },
     "execution_count": 21,
     "metadata": {},
     "output_type": "execute_result"
    }
   ],
   "source": [
    "## what is current stratification? \n",
    "data.outcome.value_counts()['txe']/(data.outcome.value_counts()['txe'] + data.outcome.value_counts()['rHGG'])\n"
   ]
  },
  {
   "cell_type": "code",
   "execution_count": 22,
   "metadata": {
    "collapsed": true
   },
   "outputs": [],
   "source": [
    "y = data.outcome_bin\n",
    "del data[\"outcome_bin\"]"
   ]
  },
  {
   "cell_type": "code",
   "execution_count": 23,
   "metadata": {
    "collapsed": true
   },
   "outputs": [],
   "source": [
    "del data[\"outcome\"]"
   ]
  },
  {
   "cell_type": "markdown",
   "metadata": {},
   "source": [
    "## normalizing data"
   ]
  },
  {
   "cell_type": "code",
   "execution_count": 24,
   "metadata": {
    "collapsed": true
   },
   "outputs": [],
   "source": [
    "for col in ['nadc.1', 'nfa.1',\n",
    "       'cbvn_nlin',\n",
    "       'ccri', 'cni', 'ncho', 'ncre', 'nnaa']: \n",
    "    mean_col = data[col].mean()\n",
    "    sd_col = data[col].std()\n",
    "    data[col] = (data[col]-mean_col)/sd_col\n",
    "   "
   ]
  },
  {
   "cell_type": "markdown",
   "metadata": {},
   "source": [
    "## use median imputation: "
   ]
  },
  {
   "cell_type": "code",
   "execution_count": 25,
   "metadata": {
    "collapsed": true
   },
   "outputs": [],
   "source": [
    "data.loc[data['nadc.1'].isnull(), ['nadc.1']] = data['nadc.1'].median()"
   ]
  },
  {
   "cell_type": "code",
   "execution_count": 26,
   "metadata": {
    "collapsed": true
   },
   "outputs": [],
   "source": [
    "data.loc[data['nfa.1'].isnull(), ['nfa.1']] = data['nfa.1'].median()\n"
   ]
  },
  {
   "cell_type": "code",
   "execution_count": 27,
   "metadata": {
    "collapsed": true
   },
   "outputs": [],
   "source": [
    "data.loc[data['cbvn_nlin'].isnull(), ['cbvn_nlin']] = data['cbvn_nlin'].median()"
   ]
  },
  {
   "cell_type": "code",
   "execution_count": 28,
   "metadata": {
    "collapsed": true
   },
   "outputs": [],
   "source": [
    "data.loc[data['cni'].isnull(), ['cni']] = data['cni'].median()"
   ]
  },
  {
   "cell_type": "code",
   "execution_count": 29,
   "metadata": {
    "collapsed": true
   },
   "outputs": [],
   "source": [
    "data.loc[data['ccri'].isnull(), ['ccri']] = data['ccri'].median()"
   ]
  },
  {
   "cell_type": "code",
   "execution_count": 30,
   "metadata": {
    "collapsed": true
   },
   "outputs": [],
   "source": [
    "data.loc[data['ncho'].isnull(), ['ncho']] = data['ncho'].median()"
   ]
  },
  {
   "cell_type": "code",
   "execution_count": 31,
   "metadata": {
    "collapsed": true
   },
   "outputs": [],
   "source": [
    "data.loc[data['ncre'].isnull(), ['ncre']] = data['ncre'].median()"
   ]
  },
  {
   "cell_type": "code",
   "execution_count": 32,
   "metadata": {
    "collapsed": true
   },
   "outputs": [],
   "source": [
    "data.loc[data['nnaa'].isnull(), ['nnaa']] = data['nnaa'].median()"
   ]
  },
  {
   "cell_type": "markdown",
   "metadata": {},
   "source": [
    "## visualizing data"
   ]
  },
  {
   "cell_type": "code",
   "execution_count": 33,
   "metadata": {},
   "outputs": [
    {
     "data": {
      "text/plain": [
       "array([[<matplotlib.axes._subplots.AxesSubplot object at 0x7fd22f51bf98>,\n",
       "        <matplotlib.axes._subplots.AxesSubplot object at 0x7fd22d4e8b38>,\n",
       "        <matplotlib.axes._subplots.AxesSubplot object at 0x7fd22d45c2b0>,\n",
       "        <matplotlib.axes._subplots.AxesSubplot object at 0x7fd22d3bd710>],\n",
       "       [<matplotlib.axes._subplots.AxesSubplot object at 0x7fd22d3384a8>,\n",
       "        <matplotlib.axes._subplots.AxesSubplot object at 0x7fd22d3384e0>,\n",
       "        <matplotlib.axes._subplots.AxesSubplot object at 0x7fd22d2d6390>,\n",
       "        <matplotlib.axes._subplots.AxesSubplot object at 0x7fd22d2619b0>],\n",
       "       [<matplotlib.axes._subplots.AxesSubplot object at 0x7fd22d1f2ef0>,\n",
       "        <matplotlib.axes._subplots.AxesSubplot object at 0x7fd22d1a99b0>,\n",
       "        <matplotlib.axes._subplots.AxesSubplot object at 0x7fd22d10d198>,\n",
       "        <matplotlib.axes._subplots.AxesSubplot object at 0x7fd22d0759b0>],\n",
       "       [<matplotlib.axes._subplots.AxesSubplot object at 0x7fd22d053d30>,\n",
       "        <matplotlib.axes._subplots.AxesSubplot object at 0x7fd22cfd0ac8>,\n",
       "        <matplotlib.axes._subplots.AxesSubplot object at 0x7fd22cf35518>,\n",
       "        <matplotlib.axes._subplots.AxesSubplot object at 0x7fd22cf6e9b0>]], dtype=object)"
      ]
     },
     "execution_count": 33,
     "metadata": {},
     "output_type": "execute_result"
    },
    {
     "data": {
      "image/png": "[encoded data removed]",
      "text/plain": [
       "<matplotlib.figure.Figure at 0x7fd22f51be80>"
      ]
     },
     "metadata": {},
     "output_type": "display_data"
    }
   ],
   "source": [
    "data.hist(figsize=(10,8))"
   ]
  },
  {
   "cell_type": "code",
   "execution_count": 34,
   "metadata": {},
   "outputs": [
    {
     "data": {
      "text/plain": [
       "t_number_y        Axes(0.125,0.71587;0.168478x0.16413)\n",
       "nadc.1         Axes(0.327174,0.71587;0.168478x0.16413)\n",
       "nfa.1          Axes(0.529348,0.71587;0.168478x0.16413)\n",
       "cbvn_nlin      Axes(0.731522,0.71587;0.168478x0.16413)\n",
       "ccri             Axes(0.125,0.518913;0.168478x0.16413)\n",
       "cni           Axes(0.327174,0.518913;0.168478x0.16413)\n",
       "ncho          Axes(0.529348,0.518913;0.168478x0.16413)\n",
       "ncre          Axes(0.731522,0.518913;0.168478x0.16413)\n",
       "nnaa             Axes(0.125,0.321957;0.168478x0.16413)\n",
       "newdata       Axes(0.327174,0.321957;0.168478x0.16413)\n",
       "hasDiffu      Axes(0.529348,0.321957;0.168478x0.16413)\n",
       "hasPerf       Axes(0.731522,0.321957;0.168478x0.16413)\n",
       "hasSpec             Axes(0.125,0.125;0.168478x0.16413)\n",
       "in_CEL           Axes(0.327174,0.125;0.168478x0.16413)\n",
       "dtype: object"
      ]
     },
     "execution_count": 34,
     "metadata": {},
     "output_type": "execute_result"
    },
    {
     "data": {
      "image/png": "[encoded data removed]",
      "text/plain": [
       "<matplotlib.figure.Figure at 0x7fd22ca25be0>"
      ]
     },
     "metadata": {},
     "output_type": "display_data"
    }
   ],
   "source": [
    "data.plot(kind= 'box' , subplots=True, layout=(4, 4), sharex=False, sharey=False, figsize=(10, 10))"
   ]
  },
  {
   "cell_type": "code",
   "execution_count": 35,
   "metadata": {
    "collapsed": true
   },
   "outputs": [],
   "source": [
    "associations = pd.concat([data,y], axis=1)"
   ]
  },
  {
   "cell_type": "code",
   "execution_count": 36,
   "metadata": {},
   "outputs": [
    {
     "data": {
      "text/plain": [
       "1    222\n",
       "0     69\n",
       "Name: outcome_bin, dtype: int64"
      ]
     },
     "execution_count": 36,
     "metadata": {},
     "output_type": "execute_result"
    }
   ],
   "source": [
    "associations.outcome_bin.value_counts()"
   ]
  },
  {
   "cell_type": "code",
   "execution_count": 37,
   "metadata": {},
   "outputs": [
    {
     "data": {
      "text/plain": [
       "<matplotlib.axes._subplots.AxesSubplot at 0x7fd22bf890b8>"
      ]
     },
     "execution_count": 37,
     "metadata": {},
     "output_type": "execute_result"
    },
    {
     "data": {
      "image/png": "[encoded data removed]",
      "text/plain": [
       "<matplotlib.figure.Figure at 0x7fd22cba3240>"
      ]
     },
     "metadata": {},
     "output_type": "display_data"
    }
   ],
   "source": [
    "corr = associations[associations.columns].corr()\n",
    "fig, ax = plt.subplots(figsize=(20,20))  \n",
    "sns.heatmap(corr, annot = True, cmap='coolwarm')"
   ]
  },
  {
   "cell_type": "code",
   "execution_count": 38,
   "metadata": {
    "collapsed": true
   },
   "outputs": [],
   "source": [
    "data_new = data[data['newdata']==1]\n",
    "associations_new = pd.concat([data_new,y], axis=1)\n"
   ]
  },
  {
   "cell_type": "code",
   "execution_count": 39,
   "metadata": {
    "collapsed": true
   },
   "outputs": [],
   "source": [
    "data_old = data[data['newdata']==0]\n",
    "associations_old = pd.concat([data_old,y], axis=1)"
   ]
  },
  {
   "cell_type": "code",
   "execution_count": 40,
   "metadata": {
    "collapsed": true
   },
   "outputs": [],
   "source": [
    "import scipy.stats\n"
   ]
  },
  {
   "cell_type": "code",
   "execution_count": 41,
   "metadata": {
    "collapsed": true
   },
   "outputs": [],
   "source": [
    "groups = data['t_number_y']"
   ]
  },
  {
   "cell_type": "code",
   "execution_count": 42,
   "metadata": {
    "collapsed": true
   },
   "outputs": [],
   "source": [
    "del data['t_number_y'], data['vialid']\n"
   ]
  },
  {
   "cell_type": "code",
   "execution_count": 43,
   "metadata": {},
   "outputs": [
    {
     "name": "stdout",
     "output_type": "stream",
     "text": [
      "Index(['nadc.1', 'nfa.1', 'cbvn_nlin', 'ccri', 'cni', 'ncho', 'ncre', 'nnaa',\n",
      "       'newdata', 'hasDiffu', 'hasPerf', 'hasSpec', 'in_CEL'],\n",
      "      dtype='object')\n"
     ]
    }
   ],
   "source": [
    "print(data.columns)"
   ]
  },
  {
   "cell_type": "markdown",
   "metadata": {},
   "source": [
    "## select k best"
   ]
  },
  {
   "cell_type": "code",
   "execution_count": 48,
   "metadata": {},
   "outputs": [
    {
     "name": "stdout",
     "output_type": "stream",
     "text": [
      "[[-0.31012822 -0.15795128  0.6136407   1.        ]\n",
      " [-0.31012822 -0.21733664 -0.17679162  0.        ]\n",
      " [-0.31012822 -0.21733664 -0.17679162  0.        ]]\n"
     ]
    },
    {
     "data": {
      "text/plain": [
       "Index(['cbvn_nlin', 'cni', 'ncho', 'newdata'], dtype='object')"
      ]
     },
     "execution_count": 48,
     "metadata": {},
     "output_type": "execute_result"
    }
   ],
   "source": [
    "select_top_4 = SelectKBest(score_func=f_classif, k = 4)\n",
    "fit = select_top_4.fit(data,y)\n",
    "features_4 = fit.transform(data)\n",
    "print(features_4[0:3])\n",
    "cols_4 = select_top_4.get_support(indices=True)\n",
    "data.columns[cols_4]"
   ]
  },
  {
   "cell_type": "code",
   "execution_count": 45,
   "metadata": {
    "collapsed": true
   },
   "outputs": [],
   "source": [
    "# Create and fit selector\n",
    "selector = SelectKBest(f_classif, k=6)\n",
    "selector.fit(data, y)\n",
    "# Get columns to keep\n",
    "cols = selector.get_support(indices=True)"
   ]
  },
  {
   "cell_type": "code",
   "execution_count": 46,
   "metadata": {},
   "outputs": [
    {
     "data": {
      "text/plain": [
       "Index(['cbvn_nlin', 'ccri', 'cni', 'ncho', 'newdata', 'hasSpec'], dtype='object')"
      ]
     },
     "execution_count": 46,
     "metadata": {},
     "output_type": "execute_result"
    }
   ],
   "source": [
    "data.columns[cols]"
   ]
  },
  {
   "cell_type": "code",
   "execution_count": 47,
   "metadata": {
    "collapsed": true
   },
   "outputs": [],
   "source": [
    "from sklearn.metrics import roc_auc_score\n",
    "from sklearn.model_selection import GroupKFold"
   ]
  },
  {
   "cell_type": "markdown",
   "metadata": {},
   "source": [
    "## modeling"
   ]
  },
  {
   "cell_type": "code",
   "execution_count": 48,
   "metadata": {
    "collapsed": true
   },
   "outputs": [],
   "source": [
    "models = []\n",
    "models.append(('KNN', KNeighborsClassifier()))\n",
    "models.append(('SVC', SVC()))\n",
    "models.append(('LR', LogisticRegression()))\n",
    "models.append(('DT', DecisionTreeClassifier()))\n",
    "models.append(('GNB', GaussianNB()))\n",
    "models.append(('RF', RandomForestClassifier()))\n",
    "models.append(('GB', GradientBoostingClassifier()))"
   ]
  },
  {
   "cell_type": "code",
   "execution_count": 49,
   "metadata": {},
   "outputs": [
    {
     "data": {
      "text/plain": [
       "1    222\n",
       "0     69\n",
       "Name: outcome_bin, dtype: int64"
      ]
     },
     "execution_count": 49,
     "metadata": {},
     "output_type": "execute_result"
    }
   ],
   "source": [
    "y.value_counts()"
   ]
  },
  {
   "cell_type": "code",
   "execution_count": 50,
   "metadata": {
    "collapsed": true
   },
   "outputs": [],
   "source": [
    "t_number = groups"
   ]
  },
  {
   "cell_type": "code",
   "execution_count": 51,
   "metadata": {},
   "outputs": [
    {
     "name": "stdout",
     "output_type": "stream",
     "text": [
      "  Name       acc        f1      prec       rec\n",
      "0  KNN  0.708065  0.815760  0.790589  0.849599\n",
      "1  SVC  0.762653  0.864427  0.762653  1.000000\n",
      "2   LR  0.752367  0.855820  0.768143  0.969711\n",
      "3   DT  0.635535  0.752131  0.753916  0.748319\n",
      "4  GNB  0.549854  0.609574  0.877022  0.480709\n",
      "5   RF  0.694155  0.797226  0.781353  0.804566\n",
      "6   GB  0.724898  0.829063  0.767815  0.904905\n"
     ]
    }
   ],
   "source": [
    "## here just looking at averages over all models: \n",
    "names = []\n",
    "accs = []\n",
    "precisions = []\n",
    "recalls = []\n",
    "f1s = []\n",
    "for name, model in models:\n",
    "    group_kfold = GroupKFold(n_splits=5)\n",
    "    group_kfold.get_n_splits(data, y, groups = t_number)\n",
    "    acc = cross_val_score(model, data, y, cv=group_kfold, groups = t_number, scoring='accuracy').mean()\n",
    "    prec = cross_val_score(model, data, y, cv=group_kfold, groups = t_number, scoring='precision').mean()\n",
    "    rec = cross_val_score(model, data, y, cv=group_kfold, groups = t_number, scoring='recall').mean()\n",
    "    f1 = cross_val_score(model, data, y, cv=group_kfold, groups = t_number, scoring='f1').mean()\n",
    "    names.append(name)\n",
    "    accs.append(acc)\n",
    "    precisions.append(prec)\n",
    "    recalls.append(rec)\n",
    "    f1s.append(f1)\n",
    "kf_cross_val_means = pd.DataFrame({'Name': names, 'acc': accs, 'prec': precisions, 'rec': recalls, 'f1': f1s})\n",
    "print(kf_cross_val_means)"
   ]
  },
  {
   "cell_type": "code",
   "execution_count": 52,
   "metadata": {
    "collapsed": true
   },
   "outputs": [],
   "source": [
    "## here i'm saving all scores for future graphing/exploration\n",
    "names = []\n",
    "accs = []\n",
    "precisions = []\n",
    "recalls = []\n",
    "f1s = []\n",
    "for name, model in models:\n",
    "    group_kfold = GroupKFold(n_splits=5)\n",
    "    group_kfold.get_n_splits(data, y, groups = t_number)\n",
    "    \n",
    "    acc = cross_val_score(model, data, y, cv=group_kfold, groups = t_number, scoring='accuracy')\n",
    "    prec = cross_val_score(model, data, y, cv=group_kfold, groups = t_number, scoring='precision')\n",
    "    rec = cross_val_score(model, data, y, cv=group_kfold, groups = t_number, scoring='recall')\n",
    "    f1 = cross_val_score(model, data, y, cv=group_kfold, groups = t_number, scoring='f1')\n",
    "    \n",
    "    names.append(name)\n",
    "    accs.append(acc)\n",
    "    precisions.append(prec)\n",
    "    recalls.append(rec)\n",
    "    f1s.append(f1)\n",
    "kf_cross_val = pd.DataFrame({'Name': names, 'acc': accs, 'prec': precisions, 'rec': recalls, 'f1': f1s})"
   ]
  },
  {
   "cell_type": "code",
   "execution_count": 53,
   "metadata": {
    "collapsed": true
   },
   "outputs": [],
   "source": [
    "models = []\n",
    "models.append(('LR', LogisticRegression()))\n"
   ]
  },
  {
   "cell_type": "code",
   "execution_count": 56,
   "metadata": {
    "collapsed": true
   },
   "outputs": [],
   "source": [
    "# accs = []\n",
    "# precisions = []\n",
    "# recalls = []\n",
    "# f1s = []\n",
    "# for name, model in models:\n",
    "    \n",
    "#     group_kfold = GroupKFold(n_splits=5)\n",
    "#     group_kfold.get_n_splits(data, y, groups = t_number)\n",
    "    \n",
    "#     acc = cross_val_score(model, data, y, cv=group_kfold, groups = t_number, scoring='accuracy')\n",
    "#     prec = cross_val_score(model, data, y, cv=group_kfold, groups = t_number, scoring='precision')\n",
    "#     rec = cross_val_score(model, data, y, cv=group_kfold, groups = t_number, scoring='recall')\n",
    "#     f1 = cross_val_score(model, data, y, cv=group_kfold, groups = t_number, scoring='f1')\n",
    "    \n",
    "#     accs.append(acc)\n",
    "#     precisions.append(prec)\n",
    "#     recalls.append(rec)\n",
    "#     f1s.append(f1)\n",
    "    \n",
    "# kf_cross_val = pd.DataFrame({'Name': names, 'acc': accs, 'prec': precisions, 'rec': recalls, 'f1': f1s})"
   ]
  },
  {
   "cell_type": "code",
   "execution_count": 57,
   "metadata": {},
   "outputs": [
    {
     "data": {
      "text/plain": [
       "array([ 0.66101695,  0.67241379,  0.63793103,  0.81034483,  0.75862069])"
      ]
     },
     "execution_count": 57,
     "metadata": {},
     "output_type": "execute_result"
    }
   ],
   "source": [
    "kf_cross_val['acc'][0]"
   ]
  },
  {
   "cell_type": "code",
   "execution_count": 58,
   "metadata": {},
   "outputs": [
    {
     "data": {
      "text/plain": [
       "[array([ 0.83928571,  0.73684211,  0.70175439,  0.80357143,  0.75925926])]"
      ]
     },
     "execution_count": 58,
     "metadata": {},
     "output_type": "execute_result"
    }
   ],
   "source": [
    "precisions"
   ]
  },
  {
   "cell_type": "code",
   "execution_count": 59,
   "metadata": {
    "collapsed": true
   },
   "outputs": [],
   "source": [
    "lr_stuff = kf_cross_val.loc[kf_cross_val['Name']==\"LR\"]"
   ]
  },
  {
   "cell_type": "code",
   "execution_count": 60,
   "metadata": {},
   "outputs": [
    {
     "data": {
      "text/html": [
       "<div>\n",
       "<style>\n",
       "    .dataframe thead tr:only-child th {\n",
       "        text-align: right;\n",
       "    }\n",
       "\n",
       "    .dataframe thead th {\n",
       "        text-align: left;\n",
       "    }\n",
       "\n",
       "    .dataframe tbody tr th {\n",
       "        vertical-align: top;\n",
       "    }\n",
       "</style>\n",
       "<table border=\"1\" class=\"dataframe\">\n",
       "  <thead>\n",
       "    <tr style=\"text-align: right;\">\n",
       "      <th></th>\n",
       "      <th>Name</th>\n",
       "      <th>acc</th>\n",
       "      <th>f1</th>\n",
       "      <th>prec</th>\n",
       "      <th>rec</th>\n",
       "    </tr>\n",
       "  </thead>\n",
       "  <tbody>\n",
       "    <tr>\n",
       "      <th>2</th>\n",
       "      <td>LR</td>\n",
       "      <td>[0.813559322034, 0.741379310345, 0.70689655172...</td>\n",
       "      <td>[0.895238095238, 0.848484848485, 0.82474226804...</td>\n",
       "      <td>[0.839285714286, 0.736842105263, 0.70175438596...</td>\n",
       "      <td>[0.959183673469, 1.0, 1.0, 0.978260869565, 0.9...</td>\n",
       "    </tr>\n",
       "  </tbody>\n",
       "</table>\n",
       "</div>"
      ],
      "text/plain": [
       "  Name                                                acc  \\\n",
       "2   LR  [0.813559322034, 0.741379310345, 0.70689655172...   \n",
       "\n",
       "                                                  f1  \\\n",
       "2  [0.895238095238, 0.848484848485, 0.82474226804...   \n",
       "\n",
       "                                                prec  \\\n",
       "2  [0.839285714286, 0.736842105263, 0.70175438596...   \n",
       "\n",
       "                                                 rec  \n",
       "2  [0.959183673469, 1.0, 1.0, 0.978260869565, 0.9...  "
      ]
     },
     "execution_count": 60,
     "metadata": {},
     "output_type": "execute_result"
    }
   ],
   "source": [
    "lr_stuff"
   ]
  },
  {
   "cell_type": "code",
   "execution_count": 61,
   "metadata": {
    "collapsed": true
   },
   "outputs": [],
   "source": [
    "array_test = lr_stuff['acc']"
   ]
  },
  {
   "cell_type": "code",
   "execution_count": 62,
   "metadata": {
    "collapsed": true
   },
   "outputs": [],
   "source": [
    "array_test = array_test.append(lr_stuff['f1'])"
   ]
  },
  {
   "cell_type": "code",
   "execution_count": 63,
   "metadata": {
    "collapsed": true
   },
   "outputs": [],
   "source": [
    "array_test = array_test.append(lr_stuff['prec'])"
   ]
  },
  {
   "cell_type": "code",
   "execution_count": 64,
   "metadata": {
    "collapsed": true
   },
   "outputs": [],
   "source": [
    "array_test = array_test.append(lr_stuff['rec'])"
   ]
  },
  {
   "cell_type": "code",
   "execution_count": 65,
   "metadata": {
    "collapsed": true
   },
   "outputs": [],
   "source": [
    "array_test = np.array(array_test)"
   ]
  },
  {
   "cell_type": "code",
   "execution_count": 67,
   "metadata": {},
   "outputs": [
    {
     "data": {
      "text/plain": [
       "[<matplotlib.text.Text at 0x7fa3799f1828>,\n",
       " <matplotlib.text.Text at 0x7fa3799dd588>,\n",
       " <matplotlib.text.Text at 0x7fa379918a58>,\n",
       " <matplotlib.text.Text at 0x7fa37991e470>]"
      ]
     },
     "execution_count": 67,
     "metadata": {},
     "output_type": "execute_result"
    },
    {
     "data": {
      "image/png": "[encoded data removed]",
      "text/plain": [
       "<matplotlib.figure.Figure at 0x7fa37914bdd8>"
      ]
     },
     "metadata": {},
     "output_type": "display_data"
    }
   ],
   "source": [
    "ax = sns.boxplot(data = array_test)\n",
    "ax.set_xticklabels(['acc', 'f1', 'prec', 'rec'])"
   ]
  },
  {
   "cell_type": "markdown",
   "metadata": {},
   "source": [
    "## trying model to compare with R"
   ]
  },
  {
   "cell_type": "code",
   "execution_count": 72,
   "metadata": {
    "collapsed": true
   },
   "outputs": [],
   "source": [
    "lr_try = LogisticRegression(random_state = 0, solver = 'lbfgs')\n",
    "                            \n",
    "                            \n",
    "                            "
   ]
  },
  {
   "cell_type": "code",
   "execution_count": 75,
   "metadata": {
    "collapsed": true
   },
   "outputs": [],
   "source": [
    "lr_fit = lr_try.fit(data, y)\n",
    "y_pred = lr_fit.predict(data)"
   ]
  },
  {
   "cell_type": "code",
   "execution_count": 78,
   "metadata": {},
   "outputs": [
    {
     "name": "stdout",
     "output_type": "stream",
     "text": [
      "             precision    recall  f1-score   support\n",
      "\n",
      "          0       0.42      0.07      0.12        69\n",
      "          1       0.77      0.97      0.86       222\n",
      "\n",
      "avg / total       0.69      0.76      0.68       291\n",
      "\n"
     ]
    }
   ],
   "source": [
    "print(classification_report(y, y_pred))"
   ]
  },
  {
   "cell_type": "code",
   "execution_count": 54,
   "metadata": {},
   "outputs": [
    {
     "data": {
      "text/plain": [
       "[<matplotlib.text.Text at 0x7f0277e5b4e0>,\n",
       " <matplotlib.text.Text at 0x7f0277e48828>,\n",
       " <matplotlib.text.Text at 0x7f0278709940>,\n",
       " <matplotlib.text.Text at 0x7f027870e358>,\n",
       " <matplotlib.text.Text at 0x7f027870ed68>,\n",
       " <matplotlib.text.Text at 0x7f02787137b8>,\n",
       " <matplotlib.text.Text at 0x7f027871a208>]"
      ]
     },
     "execution_count": 54,
     "metadata": {},
     "output_type": "execute_result"
    },
    {
     "data": {
      "image/png": "[encoded data removed]",
      "text/plain": [
       "<matplotlib.figure.Figure at 0x7f0277eb6ef0>"
      ]
     },
     "metadata": {},
     "output_type": "display_data"
    }
   ],
   "source": [
    "## precision == positive predictive value, (TP/(TP+FP)\n",
    "\n",
    "ax = sns.boxplot(data=precisions)\n",
    "ax.set_title('Precision (TP/(TP+FP))')\n",
    "ax.set_xticklabels(names)"
   ]
  },
  {
   "cell_type": "code",
   "execution_count": 55,
   "metadata": {},
   "outputs": [
    {
     "data": {
      "text/plain": [
       "[<matplotlib.text.Text at 0x7ffb25811128>,\n",
       " <matplotlib.text.Text at 0x7ffb258191d0>,\n",
       " <matplotlib.text.Text at 0x7ffb256f8b70>,\n",
       " <matplotlib.text.Text at 0x7ffb256fc588>,\n",
       " <matplotlib.text.Text at 0x7ffb256fcf98>,\n",
       " <matplotlib.text.Text at 0x7ffb257049e8>,\n",
       " <matplotlib.text.Text at 0x7ffb2570a438>]"
      ]
     },
     "execution_count": 55,
     "metadata": {},
     "output_type": "execute_result"
    },
    {
     "data": {
      "image/png": "[encoded data removed]",
      "text/plain": [
       "<matplotlib.figure.Figure at 0x7ffb2583a978>"
      ]
     },
     "metadata": {},
     "output_type": "display_data"
    }
   ],
   "source": [
    "## recall = sensitivity, where \n",
    "ax = sns.boxplot(data=recalls)\n",
    "ax.set_title('Recall = Sensitivity (TP/(TP+FN))')\n",
    "ax.set_xticklabels(names)"
   ]
  },
  {
   "cell_type": "code",
   "execution_count": 56,
   "metadata": {},
   "outputs": [
    {
     "data": {
      "text/plain": [
       "[<matplotlib.text.Text at 0x7ffb256f6978>,\n",
       " <matplotlib.text.Text at 0x7ffb2567d240>,\n",
       " <matplotlib.text.Text at 0x7ffb255e76a0>,\n",
       " <matplotlib.text.Text at 0x7ffb255ec0b8>,\n",
       " <matplotlib.text.Text at 0x7ffb255ecac8>,\n",
       " <matplotlib.text.Text at 0x7ffb255f3518>,\n",
       " <matplotlib.text.Text at 0x7ffb255f3f28>]"
      ]
     },
     "execution_count": 56,
     "metadata": {},
     "output_type": "execute_result"
    },
    {
     "data": {
      "image/png": "[encoded data removed]",
      "text/plain": [
       "<matplotlib.figure.Figure at 0x7ffb2571d128>"
      ]
     },
     "metadata": {},
     "output_type": "display_data"
    }
   ],
   "source": [
    "ax = sns.boxplot(data=accs)\n",
    "ax.set_title('Accuracy = ((TP+TN)/(TP+TN+FP+FN))')\n",
    "ax.set_xticklabels(names)"
   ]
  },
  {
   "cell_type": "code",
   "execution_count": 57,
   "metadata": {},
   "outputs": [
    {
     "data": {
      "text/plain": [
       "[<matplotlib.text.Text at 0x7ffb255f31d0>,\n",
       " <matplotlib.text.Text at 0x7ffb2556d160>,\n",
       " <matplotlib.text.Text at 0x7ffb25457f98>,\n",
       " <matplotlib.text.Text at 0x7ffb2545e9b0>,\n",
       " <matplotlib.text.Text at 0x7ffb25465400>,\n",
       " <matplotlib.text.Text at 0x7ffb25465e10>,\n",
       " <matplotlib.text.Text at 0x7ffb2546a860>]"
      ]
     },
     "execution_count": 57,
     "metadata": {},
     "output_type": "execute_result"
    },
    {
     "data": {
      "image/png": "[encoded data removed]",
      "text/plain": [
       "<matplotlib.figure.Figure at 0x7ffb255940f0>"
      ]
     },
     "metadata": {},
     "output_type": "display_data"
    }
   ],
   "source": [
    "ax = sns.boxplot(data=f1s)\n",
    "ax.set_title('F1 score  = \\ngood F1 = low false pos and low false neg, \\n(2*P*R/(P+R))')\n",
    "ax.set_xticklabels(names)"
   ]
  },
  {
   "cell_type": "code",
   "execution_count": null,
   "metadata": {
    "collapsed": true
   },
   "outputs": [],
   "source": []
  },
  {
   "cell_type": "code",
   "execution_count": null,
   "metadata": {
    "collapsed": true
   },
   "outputs": [],
   "source": []
  }
 ],
 "metadata": {
  "kernelspec": {
   "display_name": "Python (py36R)",
   "language": "python",
   "name": "py36r"
  },
  "language_info": {
   "codemirror_mode": {
    "name": "ipython",
    "version": 3
   },
   "file_extension": ".py",
   "mimetype": "text/x-python",
   "name": "python",
   "nbconvert_exporter": "python",
   "pygments_lexer": "ipython3",
   "version": "3.6.2"
  }
 },
 "nbformat": 4,
 "nbformat_minor": 2
}
