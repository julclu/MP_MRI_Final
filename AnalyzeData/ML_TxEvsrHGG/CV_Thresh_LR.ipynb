{
 "cells": [
  {
   "cell_type": "markdown",
   "metadata": {},
   "source": [
    "## Creating the threshold analysis and logistic regression analysis:"
   ]
  },
  {
   "cell_type": "code",
   "execution_count": 15,
   "metadata": {},
   "outputs": [],
   "source": [
    "library(pROC)\n",
    "library(BBmisc)\n",
    "library(caret)\n",
    "library(dplyr)\n",
    "library(randomForest)"
   ]
  },
  {
   "cell_type": "code",
   "execution_count": 16,
   "metadata": {},
   "outputs": [
    {
     "data": {
      "text/html": [
       "<ol class=list-inline>\n",
       "\t<li>366</li>\n",
       "\t<li>75</li>\n",
       "</ol>\n"
      ],
      "text/latex": [
       "\\begin{enumerate*}\n",
       "\\item 366\n",
       "\\item 75\n",
       "\\end{enumerate*}\n"
      ],
      "text/markdown": [
       "1. 366\n",
       "2. 75\n",
       "\n",
       "\n"
      ],
      "text/plain": [
       "[1] 366  75"
      ]
     },
     "metadata": {},
     "output_type": "display_data"
    }
   ],
   "source": [
    "data = read.csv('../../AnnotateData/recgli_annotation10_onlyGoodBiopsies_alt1.csv')\n",
    "dim(data)"
   ]
  },
  {
   "cell_type": "code",
   "execution_count": 17,
   "metadata": {},
   "outputs": [
    {
     "data": {
      "text/html": [
       "<ol class=list-inline>\n",
       "\t<li>297</li>\n",
       "\t<li>75</li>\n",
       "</ol>\n"
      ],
      "text/latex": [
       "\\begin{enumerate*}\n",
       "\\item 297\n",
       "\\item 75\n",
       "\\end{enumerate*}\n"
      ],
      "text/markdown": [
       "1. 297\n",
       "2. 75\n",
       "\n",
       "\n"
      ],
      "text/plain": [
       "[1] 297  75"
      ]
     },
     "metadata": {},
     "output_type": "display_data"
    }
   ],
   "source": [
    "data = data[data$outcome == \"rHGG\" | data$outcome == \"txe\", ]\n",
    "dim(data)"
   ]
  },
  {
   "cell_type": "code",
   "execution_count": 18,
   "metadata": {},
   "outputs": [
    {
     "data": {
      "text/html": [
       "<ol class=list-inline>\n",
       "\t<li>291</li>\n",
       "\t<li>75</li>\n",
       "</ol>\n"
      ],
      "text/latex": [
       "\\begin{enumerate*}\n",
       "\\item 291\n",
       "\\item 75\n",
       "\\end{enumerate*}\n"
      ],
      "text/markdown": [
       "1. 291\n",
       "2. 75\n",
       "\n",
       "\n"
      ],
      "text/plain": [
       "[1] 291  75"
      ]
     },
     "metadata": {},
     "output_type": "display_data"
    }
   ],
   "source": [
    "data = data[data$CELorNEL == \"CEL\" | data$CELorNEL == \"NEL\",]\n",
    "dim(data)"
   ]
  },
  {
   "cell_type": "code",
   "execution_count": 19,
   "metadata": {},
   "outputs": [],
   "source": [
    "data = droplevels.data.frame(data)"
   ]
  },
  {
   "cell_type": "code",
   "execution_count": 20,
   "metadata": {},
   "outputs": [],
   "source": [
    "id = \"t_number_y\"\n",
    "features = c('nadc.1', 'nfa.1',\n",
    "             'cbvn_nlin', \n",
    "             'ccri', 'cni', 'ncre', 'ncho', 'nnaa', \n",
    "             'in_CEL', 'newdata')\n",
    "label = 'outcome'"
   ]
  },
  {
   "cell_type": "code",
   "execution_count": 21,
   "metadata": {},
   "outputs": [
    {
     "data": {
      "text/html": [
       "<table>\n",
       "<thead><tr><th></th><th scope=col>t_number_y</th><th scope=col>nadc.1</th><th scope=col>nfa.1</th><th scope=col>cbvn_nlin</th><th scope=col>ccri</th><th scope=col>cni</th><th scope=col>ncre</th><th scope=col>ncho</th><th scope=col>nnaa</th><th scope=col>in_CEL</th><th scope=col>newdata</th><th scope=col>outcome</th></tr></thead>\n",
       "<tbody>\n",
       "\t<tr><th scope=row>1</th><td>10366</td><td>0.75 </td><td>0.83 </td><td>1.08 </td><td>1.88 </td><td>2.60 </td><td>0.47 </td><td>1.03 </td><td>0.46 </td><td>0    </td><td>1    </td><td>txe  </td></tr>\n",
       "\t<tr><th scope=row>3</th><td>10448</td><td>1.62 </td><td>0.50 </td><td>2.43 </td><td>  NA </td><td>  NA </td><td>  NA </td><td>  NA </td><td>  NA </td><td>1    </td><td>1    </td><td>rHGG </td></tr>\n",
       "\t<tr><th scope=row>4</th><td>10594</td><td>2.62 </td><td>0.81 </td><td>1.64 </td><td>  NA </td><td>  NA </td><td>  NA </td><td>  NA </td><td>  NA </td><td>0    </td><td>1    </td><td>txe  </td></tr>\n",
       "\t<tr><th scope=row>5</th><td>10594</td><td>2.12 </td><td>0.42 </td><td>0.95 </td><td>1.03 </td><td>3.27 </td><td>0.79 </td><td>1.04 </td><td>0.36 </td><td>0    </td><td>1    </td><td>rHGG </td></tr>\n",
       "\t<tr><th scope=row>6</th><td>10594</td><td>1.60 </td><td>0.73 </td><td>0.84 </td><td>2.33 </td><td>7.57 </td><td>1.07 </td><td>1.61 </td><td>0.13 </td><td>0    </td><td>1    </td><td>rHGG </td></tr>\n",
       "\t<tr><th scope=row>7</th><td>10594</td><td>3.03 </td><td>0.42 </td><td>0.42 </td><td>2.13 </td><td>4.37 </td><td>1.21 </td><td>1.89 </td><td>0.74 </td><td>0    </td><td>1    </td><td>rHGG </td></tr>\n",
       "</tbody>\n",
       "</table>\n"
      ],
      "text/latex": [
       "\\begin{tabular}{r|llllllllllll}\n",
       "  & t\\_number\\_y & nadc.1 & nfa.1 & cbvn\\_nlin & ccri & cni & ncre & ncho & nnaa & in\\_CEL & newdata & outcome\\\\\n",
       "\\hline\n",
       "\t1 & 10366 & 0.75  & 0.83  & 1.08  & 1.88  & 2.60  & 0.47  & 1.03  & 0.46  & 0     & 1     & txe  \\\\\n",
       "\t3 & 10448 & 1.62  & 0.50  & 2.43  &   NA  &   NA  &   NA  &   NA  &   NA  & 1     & 1     & rHGG \\\\\n",
       "\t4 & 10594 & 2.62  & 0.81  & 1.64  &   NA  &   NA  &   NA  &   NA  &   NA  & 0     & 1     & txe  \\\\\n",
       "\t5 & 10594 & 2.12  & 0.42  & 0.95  & 1.03  & 3.27  & 0.79  & 1.04  & 0.36  & 0     & 1     & rHGG \\\\\n",
       "\t6 & 10594 & 1.60  & 0.73  & 0.84  & 2.33  & 7.57  & 1.07  & 1.61  & 0.13  & 0     & 1     & rHGG \\\\\n",
       "\t7 & 10594 & 3.03  & 0.42  & 0.42  & 2.13  & 4.37  & 1.21  & 1.89  & 0.74  & 0     & 1     & rHGG \\\\\n",
       "\\end{tabular}\n"
      ],
      "text/markdown": [
       "\n",
       "| <!--/--> | t_number_y | nadc.1 | nfa.1 | cbvn_nlin | ccri | cni | ncre | ncho | nnaa | in_CEL | newdata | outcome | \n",
       "|---|---|---|---|---|---|\n",
       "| 1 | 10366 | 0.75  | 0.83  | 1.08  | 1.88  | 2.60  | 0.47  | 1.03  | 0.46  | 0     | 1     | txe   | \n",
       "| 3 | 10448 | 1.62  | 0.50  | 2.43  |   NA  |   NA  |   NA  |   NA  |   NA  | 1     | 1     | rHGG  | \n",
       "| 4 | 10594 | 2.62  | 0.81  | 1.64  |   NA  |   NA  |   NA  |   NA  |   NA  | 0     | 1     | txe   | \n",
       "| 5 | 10594 | 2.12  | 0.42  | 0.95  | 1.03  | 3.27  | 0.79  | 1.04  | 0.36  | 0     | 1     | rHGG  | \n",
       "| 6 | 10594 | 1.60  | 0.73  | 0.84  | 2.33  | 7.57  | 1.07  | 1.61  | 0.13  | 0     | 1     | rHGG  | \n",
       "| 7 | 10594 | 3.03  | 0.42  | 0.42  | 2.13  | 4.37  | 1.21  | 1.89  | 0.74  | 0     | 1     | rHGG  | \n",
       "\n",
       "\n"
      ],
      "text/plain": [
       "  t_number_y nadc.1 nfa.1 cbvn_nlin ccri cni  ncre ncho nnaa in_CEL newdata\n",
       "1 10366      0.75   0.83  1.08      1.88 2.60 0.47 1.03 0.46 0      1      \n",
       "3 10448      1.62   0.50  2.43        NA   NA   NA   NA   NA 1      1      \n",
       "4 10594      2.62   0.81  1.64        NA   NA   NA   NA   NA 0      1      \n",
       "5 10594      2.12   0.42  0.95      1.03 3.27 0.79 1.04 0.36 0      1      \n",
       "6 10594      1.60   0.73  0.84      2.33 7.57 1.07 1.61 0.13 0      1      \n",
       "7 10594      3.03   0.42  0.42      2.13 4.37 1.21 1.89 0.74 0      1      \n",
       "  outcome\n",
       "1 txe    \n",
       "3 rHGG   \n",
       "4 txe    \n",
       "5 rHGG   \n",
       "6 rHGG   \n",
       "7 rHGG   "
      ]
     },
     "metadata": {},
     "output_type": "display_data"
    }
   ],
   "source": [
    "data_xy = data[,c(id, features, label)]\n",
    "head(data_xy)"
   ]
  },
  {
   "cell_type": "markdown",
   "metadata": {},
   "source": [
    "## missing value indicators: "
   ]
  },
  {
   "cell_type": "code",
   "execution_count": 22,
   "metadata": {},
   "outputs": [],
   "source": [
    "data_xy = data.frame(data_xy, \n",
    "                    hasDiffu = ifelse(is.na(data_xy$nadc.1), 0, 1), \n",
    "                    hasPerf  = ifelse(is.na(data_xy$cbvn_nlin), 0, 1), \n",
    "                    hasSpec  = ifelse(is.na(data_xy$cni), 0, 1))"
   ]
  },
  {
   "cell_type": "markdown",
   "metadata": {},
   "source": [
    "## fold splits: "
   ]
  },
  {
   "cell_type": "code",
   "execution_count": 23,
   "metadata": {},
   "outputs": [],
   "source": [
    "# 11, 32\n",
    "set.seed(32)\n",
    "## 32 allows for good splitting."
   ]
  },
  {
   "cell_type": "code",
   "execution_count": 24,
   "metadata": {},
   "outputs": [],
   "source": [
    "tnum_group_assignment = data.frame(t_number_y = unique(data[,id]), fold =floor(runif(length(unique(data[,id])), min = 1, max = 6)))"
   ]
  },
  {
   "cell_type": "code",
   "execution_count": 25,
   "metadata": {},
   "outputs": [],
   "source": [
    "data_xy_split = merge(data_xy, tnum_group_assignment, by = c(\"t_number_y\"))"
   ]
  },
  {
   "cell_type": "code",
   "execution_count": 26,
   "metadata": {},
   "outputs": [],
   "source": [
    "data = data_xy_split"
   ]
  },
  {
   "cell_type": "code",
   "execution_count": 27,
   "metadata": {},
   "outputs": [
    {
     "data": {
      "text/html": [
       "<strong>txe:</strong> 0.237113402061856"
      ],
      "text/latex": [
       "\\textbf{txe:} 0.237113402061856"
      ],
      "text/markdown": [
       "**txe:** 0.237113402061856"
      ],
      "text/plain": [
       "      txe \n",
       "0.2371134 "
      ]
     },
     "metadata": {},
     "output_type": "display_data"
    }
   ],
   "source": [
    "table(data$outcome)['txe']/length(data$outcome)"
   ]
  },
  {
   "cell_type": "code",
   "execution_count": 28,
   "metadata": {},
   "outputs": [
    {
     "name": "stdout",
     "output_type": "stream",
     "text": [
      "[1] \"fold 1\"\n"
     ]
    },
    {
     "data": {
      "text/html": [
       "<strong>txe:</strong> 0.290322580645161"
      ],
      "text/latex": [
       "\\textbf{txe:} 0.290322580645161"
      ],
      "text/markdown": [
       "**txe:** 0.290322580645161"
      ],
      "text/plain": [
       "      txe \n",
       "0.2903226 "
      ]
     },
     "metadata": {},
     "output_type": "display_data"
    },
    {
     "name": "stdout",
     "output_type": "stream",
     "text": [
      "[1] \"fold 2\"\n"
     ]
    },
    {
     "data": {
      "text/html": [
       "<strong>txe:</strong> 0.26984126984127"
      ],
      "text/latex": [
       "\\textbf{txe:} 0.26984126984127"
      ],
      "text/markdown": [
       "**txe:** 0.26984126984127"
      ],
      "text/plain": [
       "      txe \n",
       "0.2698413 "
      ]
     },
     "metadata": {},
     "output_type": "display_data"
    },
    {
     "name": "stdout",
     "output_type": "stream",
     "text": [
      "[1] \"fold 3\"\n"
     ]
    },
    {
     "data": {
      "text/html": [
       "<strong>txe:</strong> 0.210526315789474"
      ],
      "text/latex": [
       "\\textbf{txe:} 0.210526315789474"
      ],
      "text/markdown": [
       "**txe:** 0.210526315789474"
      ],
      "text/plain": [
       "      txe \n",
       "0.2105263 "
      ]
     },
     "metadata": {},
     "output_type": "display_data"
    },
    {
     "name": "stdout",
     "output_type": "stream",
     "text": [
      "[1] \"fold 4\"\n"
     ]
    },
    {
     "data": {
      "text/html": [
       "<strong>txe:</strong> 0.183333333333333"
      ],
      "text/latex": [
       "\\textbf{txe:} 0.183333333333333"
      ],
      "text/markdown": [
       "**txe:** 0.183333333333333"
      ],
      "text/plain": [
       "      txe \n",
       "0.1833333 "
      ]
     },
     "metadata": {},
     "output_type": "display_data"
    },
    {
     "name": "stdout",
     "output_type": "stream",
     "text": [
      "[1] \"fold 5\"\n"
     ]
    },
    {
     "data": {
      "text/html": [
       "<strong>txe:</strong> 0.224489795918367"
      ],
      "text/latex": [
       "\\textbf{txe:} 0.224489795918367"
      ],
      "text/markdown": [
       "**txe:** 0.224489795918367"
      ],
      "text/plain": [
       "      txe \n",
       "0.2244898 "
      ]
     },
     "metadata": {},
     "output_type": "display_data"
    }
   ],
   "source": [
    "print('fold 1')\n",
    "table(data$outcome[data$fold ==1])['txe']/length(data$outcome[data$fold ==1])\n",
    "print('fold 2')\n",
    "table(data$outcome[data$fold ==2])['txe']/length(data$outcome[data$fold ==2])\n",
    "print('fold 3')\n",
    "table(data$outcome[data$fold ==3])['txe']/length(data$outcome[data$fold ==3])\n",
    "print('fold 4')\n",
    "table(data$outcome[data$fold ==4])['txe']/length(data$outcome[data$fold ==4])\n",
    "print('fold 5')\n",
    "table(data$outcome[data$fold ==5])['txe']/length(data$outcome[data$fold ==5])"
   ]
  },
  {
   "cell_type": "code",
   "execution_count": 29,
   "metadata": {},
   "outputs": [],
   "source": [
    "data_cel = data[which(data$in_CEL == 1),]"
   ]
  },
  {
   "cell_type": "code",
   "execution_count": 30,
   "metadata": {},
   "outputs": [],
   "source": [
    "data_nel = data[which(data$in_CEL == 0),]"
   ]
  },
  {
   "cell_type": "code",
   "execution_count": 31,
   "metadata": {},
   "outputs": [
    {
     "name": "stdout",
     "output_type": "stream",
     "text": [
      "[1] \"fold 1\"\n"
     ]
    },
    {
     "data": {
      "text/html": [
       "<strong>txe:</strong> 0.264705882352941"
      ],
      "text/latex": [
       "\\textbf{txe:} 0.264705882352941"
      ],
      "text/markdown": [
       "**txe:** 0.264705882352941"
      ],
      "text/plain": [
       "      txe \n",
       "0.2647059 "
      ]
     },
     "metadata": {},
     "output_type": "display_data"
    },
    {
     "name": "stdout",
     "output_type": "stream",
     "text": [
      "[1] \"fold 2\"\n"
     ]
    },
    {
     "data": {
      "text/html": [
       "<strong>txe:</strong> 0.275"
      ],
      "text/latex": [
       "\\textbf{txe:} 0.275"
      ],
      "text/markdown": [
       "**txe:** 0.275"
      ],
      "text/plain": [
       "  txe \n",
       "0.275 "
      ]
     },
     "metadata": {},
     "output_type": "display_data"
    },
    {
     "name": "stdout",
     "output_type": "stream",
     "text": [
      "[1] \"fold 3\"\n"
     ]
    },
    {
     "data": {
      "text/html": [
       "<strong>txe:</strong> 0.161290322580645"
      ],
      "text/latex": [
       "\\textbf{txe:} 0.161290322580645"
      ],
      "text/markdown": [
       "**txe:** 0.161290322580645"
      ],
      "text/plain": [
       "      txe \n",
       "0.1612903 "
      ]
     },
     "metadata": {},
     "output_type": "display_data"
    },
    {
     "name": "stdout",
     "output_type": "stream",
     "text": [
      "[1] \"fold 4\"\n"
     ]
    },
    {
     "data": {
      "text/html": [
       "<strong>txe:</strong> 0.181818181818182"
      ],
      "text/latex": [
       "\\textbf{txe:} 0.181818181818182"
      ],
      "text/markdown": [
       "**txe:** 0.181818181818182"
      ],
      "text/plain": [
       "      txe \n",
       "0.1818182 "
      ]
     },
     "metadata": {},
     "output_type": "display_data"
    },
    {
     "name": "stdout",
     "output_type": "stream",
     "text": [
      "[1] \"fold 5\"\n"
     ]
    },
    {
     "data": {
      "text/html": [
       "<strong>txe:</strong> 0.166666666666667"
      ],
      "text/latex": [
       "\\textbf{txe:} 0.166666666666667"
      ],
      "text/markdown": [
       "**txe:** 0.166666666666667"
      ],
      "text/plain": [
       "      txe \n",
       "0.1666667 "
      ]
     },
     "metadata": {},
     "output_type": "display_data"
    }
   ],
   "source": [
    "print('fold 1')\n",
    "table(data_cel$outcome[data_cel$fold ==1])['txe']/length(data_cel$outcome[data_cel$fold ==1])\n",
    "print('fold 2')\n",
    "table(data_cel$outcome[data_cel$fold ==2])['txe']/length(data_cel$outcome[data_cel$fold ==2])\n",
    "print('fold 3')\n",
    "table(data_cel$outcome[data_cel$fold ==3])['txe']/length(data_cel$outcome[data_cel$fold ==3])\n",
    "print('fold 4')\n",
    "table(data_cel$outcome[data_cel$fold ==4])['txe']/length(data_cel$outcome[data_cel$fold ==4])\n",
    "print('fold 5')\n",
    "table(data_cel$outcome[data_cel$fold ==5])['txe']/length(data_cel$outcome[data_cel$fold ==5])"
   ]
  },
  {
   "cell_type": "code",
   "execution_count": 32,
   "metadata": {},
   "outputs": [
    {
     "name": "stdout",
     "output_type": "stream",
     "text": [
      "[1] \"fold 1\"\n"
     ]
    },
    {
     "data": {
      "text/html": [
       "<strong>txe:</strong> 0.321428571428571"
      ],
      "text/latex": [
       "\\textbf{txe:} 0.321428571428571"
      ],
      "text/markdown": [
       "**txe:** 0.321428571428571"
      ],
      "text/plain": [
       "      txe \n",
       "0.3214286 "
      ]
     },
     "metadata": {},
     "output_type": "display_data"
    },
    {
     "name": "stdout",
     "output_type": "stream",
     "text": [
      "[1] \"fold 2\"\n"
     ]
    },
    {
     "data": {
      "text/html": [
       "<strong>txe:</strong> 0.260869565217391"
      ],
      "text/latex": [
       "\\textbf{txe:} 0.260869565217391"
      ],
      "text/markdown": [
       "**txe:** 0.260869565217391"
      ],
      "text/plain": [
       "      txe \n",
       "0.2608696 "
      ]
     },
     "metadata": {},
     "output_type": "display_data"
    },
    {
     "name": "stdout",
     "output_type": "stream",
     "text": [
      "[1] \"fold 3\"\n"
     ]
    },
    {
     "data": {
      "text/html": [
       "<strong>txe:</strong> 0.269230769230769"
      ],
      "text/latex": [
       "\\textbf{txe:} 0.269230769230769"
      ],
      "text/markdown": [
       "**txe:** 0.269230769230769"
      ],
      "text/plain": [
       "      txe \n",
       "0.2692308 "
      ]
     },
     "metadata": {},
     "output_type": "display_data"
    },
    {
     "name": "stdout",
     "output_type": "stream",
     "text": [
      "[1] \"fold 4\"\n"
     ]
    },
    {
     "data": {
      "text/html": [
       "<strong>txe:</strong> 0.185185185185185"
      ],
      "text/latex": [
       "\\textbf{txe:} 0.185185185185185"
      ],
      "text/markdown": [
       "**txe:** 0.185185185185185"
      ],
      "text/plain": [
       "      txe \n",
       "0.1851852 "
      ]
     },
     "metadata": {},
     "output_type": "display_data"
    },
    {
     "name": "stdout",
     "output_type": "stream",
     "text": [
      "[1] \"fold 5\"\n"
     ]
    },
    {
     "data": {
      "text/html": [
       "<strong>txe:</strong> 0.28"
      ],
      "text/latex": [
       "\\textbf{txe:} 0.28"
      ],
      "text/markdown": [
       "**txe:** 0.28"
      ],
      "text/plain": [
       " txe \n",
       "0.28 "
      ]
     },
     "metadata": {},
     "output_type": "display_data"
    }
   ],
   "source": [
    "print('fold 1')\n",
    "table(data_nel$outcome[data_nel$fold ==1])['txe']/length(data_nel$outcome[data_nel$fold ==1])\n",
    "print('fold 2')\n",
    "table(data_nel$outcome[data_nel$fold ==2])['txe']/length(data_nel$outcome[data_nel$fold ==2])\n",
    "print('fold 3')\n",
    "table(data_nel$outcome[data_nel$fold ==3])['txe']/length(data_nel$outcome[data_nel$fold ==3])\n",
    "print('fold 4')\n",
    "table(data_nel$outcome[data_nel$fold ==4])['txe']/length(data_nel$outcome[data_nel$fold ==4])\n",
    "print('fold 5')\n",
    "table(data_nel$outcome[data_nel$fold ==5])['txe']/length(data_nel$outcome[data_nel$fold ==5])"
   ]
  },
  {
   "cell_type": "markdown",
   "metadata": {},
   "source": [
    "## thresholding: "
   ]
  },
  {
   "cell_type": "markdown",
   "metadata": {},
   "source": [
    "### NEL "
   ]
  },
  {
   "cell_type": "markdown",
   "metadata": {},
   "source": [
    "#### Choline:"
   ]
  },
  {
   "cell_type": "code",
   "execution_count": 33,
   "metadata": {},
   "outputs": [],
   "source": [
    "scores_nel = data.frame(param = NA, \n",
    "                        folds = NA, \n",
    "                        thresh = NA,\n",
    "                        auc_4folds = NA,\n",
    "                        ci1_4folds = NA, \n",
    "                        ci2_4folds = NA,\n",
    "                        \n",
    "                        acc_4folds = NA,\n",
    "                        sens_4folds = NA, \n",
    "                        spec_4folds = NA, \n",
    "                        ppv_4folds = NA,\n",
    "                        npv_4folds = NA,\n",
    "                        \n",
    "                        acc_CV = NA,\n",
    "                        sens_CV = NA, \n",
    "                        spec_CV = NA,\n",
    "                        ppv_CV = NA,\n",
    "                        npv_CV = NA\n",
    "                       )"
   ]
  },
  {
   "cell_type": "code",
   "execution_count": 34,
   "metadata": {},
   "outputs": [],
   "source": [
    "features_mri = features[1:8]"
   ]
  },
  {
   "cell_type": "code",
   "execution_count": 35,
   "metadata": {},
   "outputs": [
    {
     "data": {
      "text/html": [
       "<ol class=list-inline>\n",
       "\t<li>'nadc.1'</li>\n",
       "\t<li>'nfa.1'</li>\n",
       "\t<li>'cbvn_nlin'</li>\n",
       "\t<li>'ccri'</li>\n",
       "\t<li>'cni'</li>\n",
       "\t<li>'ncre'</li>\n",
       "\t<li>'ncho'</li>\n",
       "\t<li>'nnaa'</li>\n",
       "</ol>\n"
      ],
      "text/latex": [
       "\\begin{enumerate*}\n",
       "\\item 'nadc.1'\n",
       "\\item 'nfa.1'\n",
       "\\item 'cbvn\\_nlin'\n",
       "\\item 'ccri'\n",
       "\\item 'cni'\n",
       "\\item 'ncre'\n",
       "\\item 'ncho'\n",
       "\\item 'nnaa'\n",
       "\\end{enumerate*}\n"
      ],
      "text/markdown": [
       "1. 'nadc.1'\n",
       "2. 'nfa.1'\n",
       "3. 'cbvn_nlin'\n",
       "4. 'ccri'\n",
       "5. 'cni'\n",
       "6. 'ncre'\n",
       "7. 'ncho'\n",
       "8. 'nnaa'\n",
       "\n",
       "\n"
      ],
      "text/plain": [
       "[1] \"nadc.1\"    \"nfa.1\"     \"cbvn_nlin\" \"ccri\"      \"cni\"       \"ncre\"     \n",
       "[7] \"ncho\"      \"nnaa\"     "
      ]
     },
     "metadata": {},
     "output_type": "display_data"
    }
   ],
   "source": [
    "features_mri"
   ]
  },
  {
   "cell_type": "code",
   "execution_count": 36,
   "metadata": {},
   "outputs": [
    {
     "data": {
      "text/html": [
       "<ol class=list-inline>\n",
       "\t<li>'nadc.1'</li>\n",
       "\t<li>'nfa.1'</li>\n",
       "\t<li>'cbvn_nlin'</li>\n",
       "\t<li>'ccri'</li>\n",
       "\t<li>'cni'</li>\n",
       "\t<li>'ncre'</li>\n",
       "\t<li>'ncho'</li>\n",
       "\t<li>'nnaa'</li>\n",
       "\t<li>'in_CEL'</li>\n",
       "\t<li>'newdata'</li>\n",
       "</ol>\n"
      ],
      "text/latex": [
       "\\begin{enumerate*}\n",
       "\\item 'nadc.1'\n",
       "\\item 'nfa.1'\n",
       "\\item 'cbvn\\_nlin'\n",
       "\\item 'ccri'\n",
       "\\item 'cni'\n",
       "\\item 'ncre'\n",
       "\\item 'ncho'\n",
       "\\item 'nnaa'\n",
       "\\item 'in\\_CEL'\n",
       "\\item 'newdata'\n",
       "\\end{enumerate*}\n"
      ],
      "text/markdown": [
       "1. 'nadc.1'\n",
       "2. 'nfa.1'\n",
       "3. 'cbvn_nlin'\n",
       "4. 'ccri'\n",
       "5. 'cni'\n",
       "6. 'ncre'\n",
       "7. 'ncho'\n",
       "8. 'nnaa'\n",
       "9. 'in_CEL'\n",
       "10. 'newdata'\n",
       "\n",
       "\n"
      ],
      "text/plain": [
       " [1] \"nadc.1\"    \"nfa.1\"     \"cbvn_nlin\" \"ccri\"      \"cni\"       \"ncre\"     \n",
       " [7] \"ncho\"      \"nnaa\"      \"in_CEL\"    \"newdata\"  "
      ]
     },
     "metadata": {},
     "output_type": "display_data"
    }
   ],
   "source": [
    "features"
   ]
  },
  {
   "cell_type": "code",
   "execution_count": 37,
   "metadata": {},
   "outputs": [],
   "source": [
    "for (col in features_mri){\n",
    "    for (fold in c(1:5)){\n",
    "        data_thresh = data_nel[which(data_nel$fold != fold),]\n",
    "        data_pred = data_nel[which(data_nel$fold == fold),]\n",
    "        roc = roc(data_thresh$outcome, data_thresh[,col], levels=c(\"rHGG\", \"txe\"))\n",
    "#         print(col)\n",
    "#         plot(roc)\n",
    "        thresh = coords(roc, \"best\", best.method=c(\"closest.topleft\"))['threshold']\n",
    "        sens = coords(roc, \"best\", best.method=c(\"closest.topleft\"))['sensitivity']\n",
    "        spec = coords(roc, \"best\", best.method=c(\"closest.topleft\"))['specificity']\n",
    "        \n",
    "        if(col == \"nfa.1\" | col == \"nnaa\"){\n",
    "            preds_4folds = as.factor(ifelse(data_thresh[,col] < thresh, 'rHGG', 'txe'))\n",
    "        }\n",
    "        else{\n",
    "            preds_4folds = as.factor(ifelse(data_thresh[,col] > thresh, 'rHGG', 'txe'))\n",
    "        }\n",
    "        acc_4folds =  confusionMatrix(data = preds_4folds, reference = data_thresh$outcome)$overall['Accuracy']\n",
    "        ppv_4folds =  confusionMatrix(data = preds_4folds, reference = data_thresh$outcome)$byClass['Pos Pred Value']\n",
    "        npv_4folds =  confusionMatrix(data = preds_4folds, reference = data_thresh$outcome)$byClass['Neg Pred Value']\n",
    "\n",
    "        auc = auc(roc)\n",
    "        ci1 = ci.auc(roc)[1]\n",
    "        ci2 = ci.auc(roc)[3]\n",
    "        \n",
    "        if(col == \"nfa.1\" | col == \"nnaa\"){\n",
    "            preds = as.factor(ifelse(data_pred[,col] < thresh, 'rHGG', 'txe'))\n",
    "        }\n",
    "        else{\n",
    "            preds = as.factor(ifelse(data_pred[,col] > thresh, 'rHGG', 'txe'))\n",
    "        }\n",
    "        acc_pred =  confusionMatrix(data = preds, reference = data_pred$outcome)$overall['Accuracy']\n",
    "        sens_pred = confusionMatrix(data = preds, reference = data_pred$outcome)$byClass['Sensitivity']\n",
    "        spec_pred = confusionMatrix(data = preds, reference = data_pred$outcome)$byClass['Specificity']\n",
    "        ppv_pred = confusionMatrix(data = preds, reference = data_pred$outcome)$byClass['Pos Pred Value']\n",
    "        npv_pred = confusionMatrix(data = preds, reference = data_pred$outcome)$byClass['Neg Pred Value']\n",
    "        \n",
    "        newline = c(param = col, \n",
    "                        folds = fold, \n",
    "                        thresh = thresh,\n",
    "                        auc_4folds = auc,\n",
    "                        ci1_4folds = ci1, \n",
    "                        ci2_4folds = ci2, \n",
    "                    \n",
    "                        acc_4folds = acc_4folds,\n",
    "                        sens_4folds = sens, \n",
    "                        spec_4folds = spec, \n",
    "                        ppv_4folds = ppv_4folds, \n",
    "                        npv_4folds = npv_4folds, \n",
    "                    \n",
    "                        acc_CV = acc_pred,\n",
    "                        sens_CV = sens_pred,\n",
    "                        spec_CV = spec_pred, \n",
    "                        ppv_CV = ppv_pred, \n",
    "                        npv_CV = npv_pred\n",
    "                       )\n",
    "        scores_nel = rbind(scores_nel, newline)\n",
    "\n",
    "    }\n",
    "}"
   ]
  },
  {
   "cell_type": "code",
   "execution_count": 38,
   "metadata": {},
   "outputs": [],
   "source": [
    "scores_nel = scores_nel[-1,]"
   ]
  },
  {
   "cell_type": "code",
   "execution_count": 39,
   "metadata": {},
   "outputs": [],
   "source": [
    "scores_nel$thresh = as.numeric(scores_nel$thresh)\n",
    "scores_nel$acc_4folds = as.numeric(scores_nel$acc_4folds)\n",
    "scores_nel$sens_4folds = as.numeric(scores_nel$sens_4folds)\n",
    "scores_nel$spec_4folds = as.numeric(scores_nel$spec_4folds)\n",
    "scores_nel$auc_4folds = as.numeric(scores_nel$auc_4folds)\n",
    "scores_nel$ci1_4folds = as.numeric(scores_nel$ci1_4folds)\n",
    "scores_nel$ci2_4folds = as.numeric(scores_nel$ci2_4folds)\n",
    "scores_nel$acc_CV = as.numeric(scores_nel$acc_CV)\n",
    "scores_nel$sens_CV = as.numeric(scores_nel$sens_CV)\n",
    "scores_nel$spec_CV = as.numeric(scores_nel$spec_CV)"
   ]
  },
  {
   "cell_type": "code",
   "execution_count": 40,
   "metadata": {},
   "outputs": [],
   "source": [
    "for (col in colnames(scores_nel)[2:length(colnames(scores_nel))]){\n",
    "    scores_nel[col] = as.numeric(unlist(scores_nel[col]))\n",
    "}\n"
   ]
  },
  {
   "cell_type": "code",
   "execution_count": 41,
   "metadata": {},
   "outputs": [],
   "source": [
    "scores_nel_cni = scores_nel[scores_nel$param == \"cni\",]"
   ]
  },
  {
   "cell_type": "code",
   "execution_count": 42,
   "metadata": {},
   "outputs": [
    {
     "data": {
      "text/html": [
       "<table>\n",
       "<thead><tr><th></th><th scope=col>mean</th><th scope=col>sd</th></tr></thead>\n",
       "<tbody>\n",
       "\t<tr><th scope=row>thresh</th><td>2.7070000 </td><td>0.06408978</td></tr>\n",
       "\t<tr><th scope=row>auc_4folds</th><td>0.6790352 </td><td>0.01200486</td></tr>\n",
       "\t<tr><th scope=row>ci1_4folds</th><td>0.5421489 </td><td>0.01382726</td></tr>\n",
       "\t<tr><th scope=row>ci2_4folds</th><td>0.8159214 </td><td>0.01309314</td></tr>\n",
       "\t<tr><th scope=row>acc_4folds</th><td>0.6815985 </td><td>0.01453229</td></tr>\n",
       "\t<tr><th scope=row>sens_4folds</th><td>0.8738095 </td><td>0.04579853</td></tr>\n",
       "\t<tr><th scope=row>spec_4folds</th><td>0.6219642 </td><td>0.02103979</td></tr>\n",
       "\t<tr><th scope=row>ppv_4folds</th><td>0.9437728 </td><td>0.01487066</td></tr>\n",
       "\t<tr><th scope=row>npv_4folds</th><td>0.4124668 </td><td>0.04783737</td></tr>\n",
       "\t<tr><th scope=row>acc_CV</th><td>0.6883333 </td><td>0.09554415</td></tr>\n",
       "</tbody>\n",
       "</table>\n"
      ],
      "text/latex": [
       "\\begin{tabular}{r|ll}\n",
       "  & mean & sd\\\\\n",
       "\\hline\n",
       "\tthresh & 2.7070000  & 0.06408978\\\\\n",
       "\tauc\\_4folds & 0.6790352  & 0.01200486\\\\\n",
       "\tci1\\_4folds & 0.5421489  & 0.01382726\\\\\n",
       "\tci2\\_4folds & 0.8159214  & 0.01309314\\\\\n",
       "\tacc\\_4folds & 0.6815985  & 0.01453229\\\\\n",
       "\tsens\\_4folds & 0.8738095  & 0.04579853\\\\\n",
       "\tspec\\_4folds & 0.6219642  & 0.02103979\\\\\n",
       "\tppv\\_4folds & 0.9437728  & 0.01487066\\\\\n",
       "\tnpv\\_4folds & 0.4124668  & 0.04783737\\\\\n",
       "\tacc\\_CV & 0.6883333  & 0.09554415\\\\\n",
       "\\end{tabular}\n"
      ],
      "text/markdown": [
       "\n",
       "| <!--/--> | mean | sd | \n",
       "|---|---|---|---|---|---|---|---|---|---|\n",
       "| thresh | 2.7070000  | 0.06408978 | \n",
       "| auc_4folds | 0.6790352  | 0.01200486 | \n",
       "| ci1_4folds | 0.5421489  | 0.01382726 | \n",
       "| ci2_4folds | 0.8159214  | 0.01309314 | \n",
       "| acc_4folds | 0.6815985  | 0.01453229 | \n",
       "| sens_4folds | 0.8738095  | 0.04579853 | \n",
       "| spec_4folds | 0.6219642  | 0.02103979 | \n",
       "| ppv_4folds | 0.9437728  | 0.01487066 | \n",
       "| npv_4folds | 0.4124668  | 0.04783737 | \n",
       "| acc_CV | 0.6883333  | 0.09554415 | \n",
       "\n",
       "\n"
      ],
      "text/plain": [
       "            mean      sd        \n",
       "thresh      2.7070000 0.06408978\n",
       "auc_4folds  0.6790352 0.01200486\n",
       "ci1_4folds  0.5421489 0.01382726\n",
       "ci2_4folds  0.8159214 0.01309314\n",
       "acc_4folds  0.6815985 0.01453229\n",
       "sens_4folds 0.8738095 0.04579853\n",
       "spec_4folds 0.6219642 0.02103979\n",
       "ppv_4folds  0.9437728 0.01487066\n",
       "npv_4folds  0.4124668 0.04783737\n",
       "acc_CV      0.6883333 0.09554415"
      ]
     },
     "metadata": {},
     "output_type": "display_data"
    }
   ],
   "source": [
    "cni_results = data.frame(mean = apply(scores_nel_cni[,c(3:12)], 2, mean), \n",
    "                         sd = apply(scores_nel_cni[,c(3:12)], 2, sd))\n",
    "cni_results"
   ]
  },
  {
   "cell_type": "code",
   "execution_count": 43,
   "metadata": {},
   "outputs": [
    {
     "data": {
      "text/html": [
       "<table>\n",
       "<thead><tr><th></th><th scope=col>mean</th><th scope=col>std</th></tr></thead>\n",
       "<tbody>\n",
       "\t<tr><th scope=row>thresh</th><td>1.0910000 </td><td>0.03130495</td></tr>\n",
       "\t<tr><th scope=row>auc_4folds</th><td>0.7082125 </td><td>0.02850452</td></tr>\n",
       "\t<tr><th scope=row>ci1_4folds</th><td>0.5705559 </td><td>0.03147362</td></tr>\n",
       "\t<tr><th scope=row>ci2_4folds</th><td>0.8458691 </td><td>0.02732664</td></tr>\n",
       "\t<tr><th scope=row>acc_4folds</th><td>0.6562021 </td><td>0.02811383</td></tr>\n",
       "\t<tr><th scope=row>sens_4folds</th><td>0.7476190 </td><td>0.04864956</td></tr>\n",
       "\t<tr><th scope=row>spec_4folds</th><td>0.6270924 </td><td>0.02861019</td></tr>\n",
       "\t<tr><th scope=row>ppv_4folds</th><td>0.8922746 </td><td>0.01009515</td></tr>\n",
       "\t<tr><th scope=row>npv_4folds</th><td>0.3794074 </td><td>0.05982648</td></tr>\n",
       "\t<tr><th scope=row>acc_CV</th><td>0.6566667 </td><td>0.13433299</td></tr>\n",
       "</tbody>\n",
       "</table>\n"
      ],
      "text/latex": [
       "\\begin{tabular}{r|ll}\n",
       "  & mean & std\\\\\n",
       "\\hline\n",
       "\tthresh & 1.0910000  & 0.03130495\\\\\n",
       "\tauc\\_4folds & 0.7082125  & 0.02850452\\\\\n",
       "\tci1\\_4folds & 0.5705559  & 0.03147362\\\\\n",
       "\tci2\\_4folds & 0.8458691  & 0.02732664\\\\\n",
       "\tacc\\_4folds & 0.6562021  & 0.02811383\\\\\n",
       "\tsens\\_4folds & 0.7476190  & 0.04864956\\\\\n",
       "\tspec\\_4folds & 0.6270924  & 0.02861019\\\\\n",
       "\tppv\\_4folds & 0.8922746  & 0.01009515\\\\\n",
       "\tnpv\\_4folds & 0.3794074  & 0.05982648\\\\\n",
       "\tacc\\_CV & 0.6566667  & 0.13433299\\\\\n",
       "\\end{tabular}\n"
      ],
      "text/markdown": [
       "\n",
       "| <!--/--> | mean | std | \n",
       "|---|---|---|---|---|---|---|---|---|---|\n",
       "| thresh | 1.0910000  | 0.03130495 | \n",
       "| auc_4folds | 0.7082125  | 0.02850452 | \n",
       "| ci1_4folds | 0.5705559  | 0.03147362 | \n",
       "| ci2_4folds | 0.8458691  | 0.02732664 | \n",
       "| acc_4folds | 0.6562021  | 0.02811383 | \n",
       "| sens_4folds | 0.7476190  | 0.04864956 | \n",
       "| spec_4folds | 0.6270924  | 0.02861019 | \n",
       "| ppv_4folds | 0.8922746  | 0.01009515 | \n",
       "| npv_4folds | 0.3794074  | 0.05982648 | \n",
       "| acc_CV | 0.6566667  | 0.13433299 | \n",
       "\n",
       "\n"
      ],
      "text/plain": [
       "            mean      std       \n",
       "thresh      1.0910000 0.03130495\n",
       "auc_4folds  0.7082125 0.02850452\n",
       "ci1_4folds  0.5705559 0.03147362\n",
       "ci2_4folds  0.8458691 0.02732664\n",
       "acc_4folds  0.6562021 0.02811383\n",
       "sens_4folds 0.7476190 0.04864956\n",
       "spec_4folds 0.6270924 0.02861019\n",
       "ppv_4folds  0.8922746 0.01009515\n",
       "npv_4folds  0.3794074 0.05982648\n",
       "acc_CV      0.6566667 0.13433299"
      ]
     },
     "metadata": {},
     "output_type": "display_data"
    }
   ],
   "source": [
    "scores_nel_ncho = scores_nel[scores_nel$param == \"ncho\",]\n",
    "\n",
    "ncho_results = data.frame(mean = apply(scores_nel_ncho[,c(3:12)], 2, mean),\n",
    "           std = apply(scores_nel_ncho[,c(3:12)], 2, sd))\n",
    "ncho_results"
   ]
  },
  {
   "cell_type": "code",
   "execution_count": 44,
   "metadata": {},
   "outputs": [
    {
     "data": {
      "image/png": "[encoded data removed]",
      "text/plain": [
       "Plot with title “ROC curve of CNI, nCho in all NEL samples”"
      ]
     },
     "metadata": {},
     "output_type": "display_data"
    }
   ],
   "source": [
    "fold = 1\n",
    "data_thresh = data_nel[which(data_nel$fold != fold),]\n",
    "par(cex.axis=1.6, cex.lab=1.6, cex.main=1.8, cex.sub=1)\n",
    "\n",
    "cni_roc = plot.roc(data_nel$outcome, data_nel[,'cni'], levels=c(\"rHGG\", \"txe\"), \n",
    "          percent = TRUE, col = \"#000001\", main = \"ROC curve of CNI, nCho in all NEL samples\", lwd=3, lty = \"dotted\")\n",
    "cho_roc = lines.roc(data_nel$outcome, data_nel$ncho, levels = c('rHGG', 'txe'), percent = TRUE, col = \"#000000\", lwd=3)\n",
    "legend(\"bottomright\", legend=c(\"CNI\", \"nCho\"), col=c(\"#000001\", \"#000000\"), lwd=8, lty = c(\"dotted\", \"solid\"),cex = 1.7)\n",
    "text(x = 30, y = 40, labels = paste('AUC (CNI) = ', round(cni_results['auc_4folds', 'mean'], 2), \n",
    "                                    \" (\",round(cni_results['ci1_4folds', 'mean'], 2) ,\", \",\n",
    "                                    round(cni_results['ci2_4folds', 'mean'], 2), \")\", sep = \"\"), adj = NULL,\n",
    "     pos = NULL, offset = 0.5, vfont = NULL,\n",
    "     cex = 1.1, col = NULL, font = NULL)\n",
    "text(x = 30, y = 30, labels = paste('AUC (nCho) = ', round(ncho_results['auc_4folds', 'mean'], 2), \n",
    "                                    \" (\",round(ncho_results['ci1_4folds', 'mean'], 2) ,\", \",\n",
    "                                    round(ncho_results['ci2_4folds', 'mean'], 2), \")\", sep = \"\"), adj = NULL,\n",
    "     pos = NULL, offset = 0.5, vfont = NULL,\n",
    "     cex = 1.1, col = NULL, font = NULL)\n",
    "\n",
    "\n"
   ]
  },
  {
   "cell_type": "markdown",
   "metadata": {},
   "source": [
    "## CEL"
   ]
  },
  {
   "cell_type": "code",
   "execution_count": 45,
   "metadata": {},
   "outputs": [
    {
     "data": {
      "text/plain": [
       "   Min. 1st Qu.  Median    Mean 3rd Qu.    Max.    NA's \n",
       "  0.010   1.143   1.615   1.899   2.370   5.720      56 "
      ]
     },
     "metadata": {},
     "output_type": "display_data"
    }
   ],
   "source": [
    "summary(data_cel$cbvn_nlin)"
   ]
  },
  {
   "cell_type": "code",
   "execution_count": 46,
   "metadata": {
    "scrolled": true
   },
   "outputs": [
    {
     "data": {
      "image/png": "[encoded data removed]",
      "text/plain": [
       "Plot with title “nCho (NEL)”"
      ]
     },
     "metadata": {},
     "output_type": "display_data"
    }
   ],
   "source": [
    "par(mfrow = c(2, 3))\n",
    "boxplot(cbvn_nlin ~ outcome, data_cel, \n",
    "       main = \"rCBV (CEL)\", \n",
    "       names = c('Tumor', 'Tx Effect'),\n",
    "       col = c('white', 'gray'), \n",
    "       ylab = 'rCBV level')\n",
    "\n",
    "boxplot(cni ~ outcome, data_nel, \n",
    "       main = \"CNI (NEL)\", \n",
    "       names = c('Tumor', 'Tx Effect'),\n",
    "       col = c('white', 'gray'), \n",
    "       ylab = 'CNI level')\n",
    "\n",
    "boxplot(ncho ~ outcome, data_nel, \n",
    "       main = \"nCho (NEL)\", \n",
    "       names = c('Tumor', 'Tx Effect'),\n",
    "       col = c('white', 'gray'), \n",
    "       ylab = 'nCho level')\n"
   ]
  },
  {
   "cell_type": "code",
   "execution_count": 43,
   "metadata": {
    "collapsed": true
   },
   "outputs": [],
   "source": [
    "scores_cel = data.frame(param = NA, \n",
    "                        folds = NA, \n",
    "                        thresh = NA,\n",
    "                        auc_4folds = NA,\n",
    "                        ci1_4folds = NA, \n",
    "                        ci2_4folds = NA,\n",
    "                        \n",
    "                        acc_4folds = NA,\n",
    "                        sens_4folds = NA, \n",
    "                        spec_4folds = NA, \n",
    "                        ppv_4folds = NA,\n",
    "                        npv_4folds = NA,\n",
    "                        \n",
    "                        acc_CV = NA,\n",
    "                        sens_CV = NA, \n",
    "                        spec_CV = NA,\n",
    "                        ppv_CV = NA,\n",
    "                        npv_CV = NA\n",
    "                       )"
   ]
  },
  {
   "cell_type": "code",
   "execution_count": 44,
   "metadata": {
    "collapsed": true
   },
   "outputs": [],
   "source": [
    "for (col in features_mri){\n",
    "    for (fold in c(1:5)){\n",
    "        data_thresh = data_cel[which(data_cel$fold != fold),]\n",
    "        data_pred = data_cel[which(data_cel$fold == fold),]\n",
    "        roc = roc(data_thresh$outcome, data_thresh[,col], levels=c(\"rHGG\", \"txe\"))\n",
    "#         print(col)\n",
    "#         plot(roc)\n",
    "        thresh = coords(roc, \"best\", best.method=c(\"closest.topleft\"))['threshold']\n",
    "        sens = coords(roc, \"best\", best.method=c(\"closest.topleft\"))['sensitivity']\n",
    "        spec = coords(roc, \"best\", best.method=c(\"closest.topleft\"))['specificity']\n",
    "        \n",
    "        if(col == \"nfa.1\" | col == \"nnaa\"){\n",
    "            preds_4folds = as.factor(ifelse(data_thresh[,col] < thresh, 'rHGG', 'txe'))\n",
    "        }\n",
    "        else{\n",
    "            preds_4folds = as.factor(ifelse(data_thresh[,col] > thresh, 'rHGG', 'txe'))\n",
    "        }\n",
    "        acc_4folds =  confusionMatrix(data = preds_4folds, reference = data_thresh$outcome)$overall['Accuracy']\n",
    "        ppv_4folds =  confusionMatrix(data = preds_4folds, reference = data_thresh$outcome)$byClass['Pos Pred Value']\n",
    "        npv_4folds =  confusionMatrix(data = preds_4folds, reference = data_thresh$outcome)$byClass['Neg Pred Value']\n",
    "\n",
    "        auc = auc(roc)\n",
    "        ci1 = ci.auc(roc)[1]\n",
    "        ci2 = ci.auc(roc)[3]\n",
    "        \n",
    "        if(col == \"nfa.1\" | col == \"nnaa\"){\n",
    "            preds = as.factor(ifelse(data_pred[,col] < thresh, 'rHGG', 'txe'))\n",
    "        }\n",
    "        else{\n",
    "            preds = as.factor(ifelse(data_pred[,col] > thresh, 'rHGG', 'txe'))\n",
    "        }\n",
    "        acc_pred =  confusionMatrix(data = preds, reference = data_pred$outcome)$overall['Accuracy']\n",
    "        sens_pred = confusionMatrix(data = preds, reference = data_pred$outcome)$byClass['Sensitivity']\n",
    "        spec_pred = confusionMatrix(data = preds, reference = data_pred$outcome)$byClass['Specificity']\n",
    "        ppv_pred = confusionMatrix(data = preds, reference = data_pred$outcome)$byClass['Pos Pred Value']\n",
    "        npv_pred = confusionMatrix(data = preds, reference = data_pred$outcome)$byClass['Neg Pred Value']\n",
    "        \n",
    "        newline = c(param = col, \n",
    "                        folds = fold, \n",
    "                        thresh = thresh,\n",
    "                        auc_4folds = auc,\n",
    "                        ci1_4folds = ci1, \n",
    "                        ci2_4folds = ci2, \n",
    "                    \n",
    "                        acc_4folds = acc_4folds,\n",
    "                        sens_4folds = sens, \n",
    "                        spec_4folds = spec, \n",
    "                        ppv_4folds = ppv_4folds, \n",
    "                        npv_4folds = npv_4folds, \n",
    "                    \n",
    "                        acc_CV = acc_pred,\n",
    "                        sens_CV = sens_pred,\n",
    "                        spec_CV = spec_pred, \n",
    "                        ppv_CV = ppv_pred, \n",
    "                        npv_CV = npv_pred\n",
    "                       )\n",
    "        scores_cel = rbind(scores_cel, newline)\n",
    "\n",
    "    }\n",
    "}"
   ]
  },
  {
   "cell_type": "code",
   "execution_count": 45,
   "metadata": {
    "collapsed": true
   },
   "outputs": [],
   "source": [
    "for (col in colnames(scores_cel)[2:length(colnames(scores_cel))]){\n",
    "    scores_cel[col] = as.numeric(unlist(scores_cel[col]))\n",
    "}\n"
   ]
  },
  {
   "cell_type": "code",
   "execution_count": 46,
   "metadata": {
    "collapsed": true
   },
   "outputs": [],
   "source": [
    "scores_cel_cbv = scores_cel[scores_cel$param == \"cbvn_nlin\",]"
   ]
  },
  {
   "cell_type": "code",
   "execution_count": 47,
   "metadata": {
    "collapsed": true
   },
   "outputs": [],
   "source": [
    "scores_cel_cbv=scores_cel_cbv[-1,]"
   ]
  },
  {
   "cell_type": "code",
   "execution_count": 48,
   "metadata": {},
   "outputs": [
    {
     "data": {
      "text/html": [
       "<table>\n",
       "<thead><tr><th></th><th scope=col>param</th><th scope=col>folds</th><th scope=col>thresh</th><th scope=col>auc_4folds</th><th scope=col>ci1_4folds</th><th scope=col>ci2_4folds</th><th scope=col>acc_4folds</th><th scope=col>sens_4folds</th><th scope=col>spec_4folds</th><th scope=col>ppv_4folds</th><th scope=col>npv_4folds</th><th scope=col>acc_CV</th><th scope=col>sens_CV</th><th scope=col>spec_CV</th><th scope=col>ppv_CV</th><th scope=col>npv_CV</th></tr></thead>\n",
       "<tbody>\n",
       "\t<tr><th scope=row>12</th><td>cbvn_nlin </td><td>1         </td><td>1.245     </td><td>0.5927230 </td><td>0.4305397 </td><td>0.7549063 </td><td>0.6506024 </td><td>0.5000000 </td><td>0.6760563 </td><td>0.8888889 </td><td>0.2068966 </td><td>0.6086957 </td><td>0.6666667 </td><td>0.4000000 </td><td>0.8000000 </td><td>0.25000000</td></tr>\n",
       "\t<tr><th scope=row>13</th><td>cbvn_nlin </td><td>2         </td><td>1.615     </td><td>0.6436275 </td><td>0.5003713 </td><td>0.7868836 </td><td>0.5783133 </td><td>0.6666667 </td><td>0.5588235 </td><td>0.8837209 </td><td>0.2500000 </td><td>0.4347826 </td><td>0.4285714 </td><td>0.5000000 </td><td>0.9000000 </td><td>0.07692308</td></tr>\n",
       "\t<tr><th scope=row>14</th><td>cbvn_nlin </td><td>3         </td><td>1.615     </td><td>0.6547619 </td><td>0.5045246 </td><td>0.8049992 </td><td>0.5617978 </td><td>0.7500000 </td><td>0.5324675 </td><td>0.9318182 </td><td>0.2000000 </td><td>0.4705882 </td><td>0.5000000 </td><td>0.4000000 </td><td>0.6666667 </td><td>0.25000000</td></tr>\n",
       "\t<tr><th scope=row>15</th><td>cbvn_nlin </td><td>4         </td><td>1.645     </td><td>0.6034664 </td><td>0.4559660 </td><td>0.7509667 </td><td>0.5609756 </td><td>0.6428571 </td><td>0.5441176 </td><td>0.8809524 </td><td>0.2250000 </td><td>0.4583333 </td><td>0.4285714 </td><td>0.6666667 </td><td>0.9000000 </td><td>0.14285714</td></tr>\n",
       "\t<tr><th scope=row>16</th><td>cbvn_nlin </td><td>5         </td><td>1.830     </td><td>0.6101852 </td><td>0.4619098 </td><td>0.7584606 </td><td>0.4827586 </td><td>0.7333333 </td><td>0.4305556 </td><td>0.8857143 </td><td>0.2115385 </td><td>0.5263158 </td><td>0.4705882 </td><td>1.0000000 </td><td>1.0000000 </td><td>0.18181818</td></tr>\n",
       "</tbody>\n",
       "</table>\n"
      ],
      "text/latex": [
       "\\begin{tabular}{r|llllllllllllllll}\n",
       "  & param & folds & thresh & auc\\_4folds & ci1\\_4folds & ci2\\_4folds & acc\\_4folds & sens\\_4folds & spec\\_4folds & ppv\\_4folds & npv\\_4folds & acc\\_CV & sens\\_CV & spec\\_CV & ppv\\_CV & npv\\_CV\\\\\n",
       "\\hline\n",
       "\t12 & cbvn\\_nlin & 1           & 1.245       & 0.5927230   & 0.4305397   & 0.7549063   & 0.6506024   & 0.5000000   & 0.6760563   & 0.8888889   & 0.2068966   & 0.6086957   & 0.6666667   & 0.4000000   & 0.8000000   & 0.25000000 \\\\\n",
       "\t13 & cbvn\\_nlin & 2           & 1.615       & 0.6436275   & 0.5003713   & 0.7868836   & 0.5783133   & 0.6666667   & 0.5588235   & 0.8837209   & 0.2500000   & 0.4347826   & 0.4285714   & 0.5000000   & 0.9000000   & 0.07692308 \\\\\n",
       "\t14 & cbvn\\_nlin & 3           & 1.615       & 0.6547619   & 0.5045246   & 0.8049992   & 0.5617978   & 0.7500000   & 0.5324675   & 0.9318182   & 0.2000000   & 0.4705882   & 0.5000000   & 0.4000000   & 0.6666667   & 0.25000000 \\\\\n",
       "\t15 & cbvn\\_nlin & 4           & 1.645       & 0.6034664   & 0.4559660   & 0.7509667   & 0.5609756   & 0.6428571   & 0.5441176   & 0.8809524   & 0.2250000   & 0.4583333   & 0.4285714   & 0.6666667   & 0.9000000   & 0.14285714 \\\\\n",
       "\t16 & cbvn\\_nlin & 5           & 1.830       & 0.6101852   & 0.4619098   & 0.7584606   & 0.4827586   & 0.7333333   & 0.4305556   & 0.8857143   & 0.2115385   & 0.5263158   & 0.4705882   & 1.0000000   & 1.0000000   & 0.18181818 \\\\\n",
       "\\end{tabular}\n"
      ],
      "text/markdown": [
       "\n",
       "| <!--/--> | param | folds | thresh | auc_4folds | ci1_4folds | ci2_4folds | acc_4folds | sens_4folds | spec_4folds | ppv_4folds | npv_4folds | acc_CV | sens_CV | spec_CV | ppv_CV | npv_CV | \n",
       "|---|---|---|---|---|\n",
       "| 12 | cbvn_nlin  | 1          | 1.245      | 0.5927230  | 0.4305397  | 0.7549063  | 0.6506024  | 0.5000000  | 0.6760563  | 0.8888889  | 0.2068966  | 0.6086957  | 0.6666667  | 0.4000000  | 0.8000000  | 0.25000000 | \n",
       "| 13 | cbvn_nlin  | 2          | 1.615      | 0.6436275  | 0.5003713  | 0.7868836  | 0.5783133  | 0.6666667  | 0.5588235  | 0.8837209  | 0.2500000  | 0.4347826  | 0.4285714  | 0.5000000  | 0.9000000  | 0.07692308 | \n",
       "| 14 | cbvn_nlin  | 3          | 1.615      | 0.6547619  | 0.5045246  | 0.8049992  | 0.5617978  | 0.7500000  | 0.5324675  | 0.9318182  | 0.2000000  | 0.4705882  | 0.5000000  | 0.4000000  | 0.6666667  | 0.25000000 | \n",
       "| 15 | cbvn_nlin  | 4          | 1.645      | 0.6034664  | 0.4559660  | 0.7509667  | 0.5609756  | 0.6428571  | 0.5441176  | 0.8809524  | 0.2250000  | 0.4583333  | 0.4285714  | 0.6666667  | 0.9000000  | 0.14285714 | \n",
       "| 16 | cbvn_nlin  | 5          | 1.830      | 0.6101852  | 0.4619098  | 0.7584606  | 0.4827586  | 0.7333333  | 0.4305556  | 0.8857143  | 0.2115385  | 0.5263158  | 0.4705882  | 1.0000000  | 1.0000000  | 0.18181818 | \n",
       "\n",
       "\n"
      ],
      "text/plain": [
       "   param     folds thresh auc_4folds ci1_4folds ci2_4folds acc_4folds\n",
       "12 cbvn_nlin 1     1.245  0.5927230  0.4305397  0.7549063  0.6506024 \n",
       "13 cbvn_nlin 2     1.615  0.6436275  0.5003713  0.7868836  0.5783133 \n",
       "14 cbvn_nlin 3     1.615  0.6547619  0.5045246  0.8049992  0.5617978 \n",
       "15 cbvn_nlin 4     1.645  0.6034664  0.4559660  0.7509667  0.5609756 \n",
       "16 cbvn_nlin 5     1.830  0.6101852  0.4619098  0.7584606  0.4827586 \n",
       "   sens_4folds spec_4folds ppv_4folds npv_4folds acc_CV    sens_CV   spec_CV  \n",
       "12 0.5000000   0.6760563   0.8888889  0.2068966  0.6086957 0.6666667 0.4000000\n",
       "13 0.6666667   0.5588235   0.8837209  0.2500000  0.4347826 0.4285714 0.5000000\n",
       "14 0.7500000   0.5324675   0.9318182  0.2000000  0.4705882 0.5000000 0.4000000\n",
       "15 0.6428571   0.5441176   0.8809524  0.2250000  0.4583333 0.4285714 0.6666667\n",
       "16 0.7333333   0.4305556   0.8857143  0.2115385  0.5263158 0.4705882 1.0000000\n",
       "   ppv_CV    npv_CV    \n",
       "12 0.8000000 0.25000000\n",
       "13 0.9000000 0.07692308\n",
       "14 0.6666667 0.25000000\n",
       "15 0.9000000 0.14285714\n",
       "16 1.0000000 0.18181818"
      ]
     },
     "metadata": {},
     "output_type": "display_data"
    }
   ],
   "source": [
    "scores_cel_cbv"
   ]
  },
  {
   "cell_type": "code",
   "execution_count": 49,
   "metadata": {
    "scrolled": false
   },
   "outputs": [
    {
     "data": {
      "text/html": [
       "<table>\n",
       "<thead><tr><th></th><th scope=col>median</th><th scope=col>mean</th><th scope=col>sd</th></tr></thead>\n",
       "<tbody>\n",
       "\t<tr><th scope=row>thresh</th><td>1.6150000 </td><td>1.5900000 </td><td>0.21266170</td></tr>\n",
       "\t<tr><th scope=row>auc_4folds</th><td>0.6101852 </td><td>0.6209528 </td><td>0.02681340</td></tr>\n",
       "\t<tr><th scope=row>ci1_4folds</th><td>0.4619098 </td><td>0.4706623 </td><td>0.03135158</td></tr>\n",
       "\t<tr><th scope=row>ci2_4folds</th><td>0.7584606 </td><td>0.7712433 </td><td>0.02358769</td></tr>\n",
       "\t<tr><th scope=row>acc_4folds</th><td>0.5617978 </td><td>0.5668895 </td><td>0.05974374</td></tr>\n",
       "\t<tr><th scope=row>sens_4folds</th><td>0.6666667 </td><td>0.6585714 </td><td>0.09925459</td></tr>\n",
       "\t<tr><th scope=row>spec_4folds</th><td>0.5441176 </td><td>0.5484041 </td><td>0.08741322</td></tr>\n",
       "\t<tr><th scope=row>ppv_4folds</th><td>0.8857143 </td><td>0.8942189 </td><td>0.02121704</td></tr>\n",
       "\t<tr><th scope=row>npv_4folds</th><td>0.2115385 </td><td>0.2186870 </td><td>0.01974638</td></tr>\n",
       "\t<tr><th scope=row>acc_CV</th><td>0.4705882 </td><td>0.4997431 </td><td>0.06957264</td></tr>\n",
       "</tbody>\n",
       "</table>\n"
      ],
      "text/latex": [
       "\\begin{tabular}{r|lll}\n",
       "  & median & mean & sd\\\\\n",
       "\\hline\n",
       "\tthresh & 1.6150000  & 1.5900000  & 0.21266170\\\\\n",
       "\tauc\\_4folds & 0.6101852  & 0.6209528  & 0.02681340\\\\\n",
       "\tci1\\_4folds & 0.4619098  & 0.4706623  & 0.03135158\\\\\n",
       "\tci2\\_4folds & 0.7584606  & 0.7712433  & 0.02358769\\\\\n",
       "\tacc\\_4folds & 0.5617978  & 0.5668895  & 0.05974374\\\\\n",
       "\tsens\\_4folds & 0.6666667  & 0.6585714  & 0.09925459\\\\\n",
       "\tspec\\_4folds & 0.5441176  & 0.5484041  & 0.08741322\\\\\n",
       "\tppv\\_4folds & 0.8857143  & 0.8942189  & 0.02121704\\\\\n",
       "\tnpv\\_4folds & 0.2115385  & 0.2186870  & 0.01974638\\\\\n",
       "\tacc\\_CV & 0.4705882  & 0.4997431  & 0.06957264\\\\\n",
       "\\end{tabular}\n"
      ],
      "text/markdown": [
       "\n",
       "| <!--/--> | median | mean | sd | \n",
       "|---|---|---|---|---|---|---|---|---|---|\n",
       "| thresh | 1.6150000  | 1.5900000  | 0.21266170 | \n",
       "| auc_4folds | 0.6101852  | 0.6209528  | 0.02681340 | \n",
       "| ci1_4folds | 0.4619098  | 0.4706623  | 0.03135158 | \n",
       "| ci2_4folds | 0.7584606  | 0.7712433  | 0.02358769 | \n",
       "| acc_4folds | 0.5617978  | 0.5668895  | 0.05974374 | \n",
       "| sens_4folds | 0.6666667  | 0.6585714  | 0.09925459 | \n",
       "| spec_4folds | 0.5441176  | 0.5484041  | 0.08741322 | \n",
       "| ppv_4folds | 0.8857143  | 0.8942189  | 0.02121704 | \n",
       "| npv_4folds | 0.2115385  | 0.2186870  | 0.01974638 | \n",
       "| acc_CV | 0.4705882  | 0.4997431  | 0.06957264 | \n",
       "\n",
       "\n"
      ],
      "text/plain": [
       "            median    mean      sd        \n",
       "thresh      1.6150000 1.5900000 0.21266170\n",
       "auc_4folds  0.6101852 0.6209528 0.02681340\n",
       "ci1_4folds  0.4619098 0.4706623 0.03135158\n",
       "ci2_4folds  0.7584606 0.7712433 0.02358769\n",
       "acc_4folds  0.5617978 0.5668895 0.05974374\n",
       "sens_4folds 0.6666667 0.6585714 0.09925459\n",
       "spec_4folds 0.5441176 0.5484041 0.08741322\n",
       "ppv_4folds  0.8857143 0.8942189 0.02121704\n",
       "npv_4folds  0.2115385 0.2186870 0.01974638\n",
       "acc_CV      0.4705882 0.4997431 0.06957264"
      ]
     },
     "metadata": {},
     "output_type": "display_data"
    }
   ],
   "source": [
    "\n",
    "cbv_results = data.frame(median = apply( scores_cel_cbv[,c(3:12)], 2, median),\n",
    "           mean = apply( scores_cel_cbv[,c(3:12)], 2, mean), sd = apply(scores_cel_cbv[,c(3:12)], 2, sd))\n",
    "cbv_results"
   ]
  },
  {
   "cell_type": "code",
   "execution_count": 50,
   "metadata": {},
   "outputs": [
    {
     "data": {
      "image/png": "[encoded data removed]",
      "text/plain": [
       "Plot with title “Average ROC curve of rCBV (CEL)”"
      ]
     },
     "metadata": {},
     "output_type": "display_data"
    }
   ],
   "source": [
    "fold = 5\n",
    "data_thresh = data_cel[which(data_cel$fold != fold),]\n",
    "par(cex.axis=1.6, cex.lab=1.6, cex.main=1.8, cex.sub=1)\n",
    "cbvn_nlin_roc = plot.roc(data_cel$outcome, data_cel[,'cbvn_nlin'], levels=c(\"rHGG\", \"txe\"), \n",
    "          percent = TRUE, lwd=3, col = \"#000000\", main = \"Average ROC curve of rCBV (CEL)\" )\n",
    "legend(\"bottomright\", legend=c(\"rCBV\"), col=c(\"#000000\"), lwd=10, cex = 1.7)\n",
    "text(x = 80, y = 90, labels = paste('AUC = ', round(cbv_results['auc_4folds', 'mean'], 2), \n",
    "                                    \" (\",round(cbv_results['ci1_4folds', 'mean'], 2) ,\", \",\n",
    "                                    round(cbv_results['ci2_4folds', 'mean'], 2), \")\", sep = \"\"), adj = NULL,\n",
    "     pos = NULL, offset = 0.5, vfont = NULL,\n",
    "     cex = 1.3, col = NULL, font = NULL)"
   ]
  },
  {
   "cell_type": "markdown",
   "metadata": {},
   "source": [
    "## All "
   ]
  },
  {
   "cell_type": "code",
   "execution_count": 40,
   "metadata": {
    "collapsed": true
   },
   "outputs": [],
   "source": [
    "scores_all = data.frame(param = NA, \n",
    "                        folds = NA, \n",
    "                        thresh = NA,\n",
    "                        sens_4folds = NA, \n",
    "                        spec_4folds = NA, \n",
    "                        sens_CV = NA, \n",
    "                        spec_CV = NA\n",
    "                       )"
   ]
  },
  {
   "cell_type": "code",
   "execution_count": 41,
   "metadata": {
    "collapsed": true
   },
   "outputs": [],
   "source": [
    "for (col in features_mri){\n",
    "    for (fold in c(1:5)){\n",
    "        data_thresh = data[which(data$fold != fold),]\n",
    "        data_pred = data[which(data$fold == fold),]\n",
    "        roc = roc(data_thresh$outcome, data_thresh[,col], levels=c(\"rHGG\", \"txe\"))\n",
    "        thresh = coords(roc, \"best\", best.method=c(\"closest.topleft\"))['threshold']\n",
    "        sens = coords(roc, \"best\", best.method=c(\"closest.topleft\"))['sensitivity']\n",
    "        spec = coords(roc, \"best\", best.method=c(\"closest.topleft\"))['specificity']\n",
    "        \n",
    "        if(col == \"nfa.1\" | col == \"nnaa\"){\n",
    "            preds = as.factor(ifelse(data_pred[,col] < thresh, 'rHGG', 'txe'))\n",
    "        }\n",
    "        else{\n",
    "            preds = as.factor(ifelse(data_pred[,col] > thresh, 'rHGG', 'txe'))\n",
    "        }\n",
    "        sens_pred = confusionMatrix(data = preds, reference = data_pred$outcome)$byClass['Sensitivity']\n",
    "        spec_pred = confusionMatrix(data = preds, reference = data_pred$outcome)$byClass['Specificity']\n",
    "        \n",
    "        newline = c(param = col, \n",
    "                        folds = fold, \n",
    "                        thresh = thresh,\n",
    "                        sens_4folds = sens, \n",
    "                        spec_4folds = spec, \n",
    "                        sens_CV = sens_pred, \n",
    "                        spec_CV = spec_pred\n",
    "                       )\n",
    "        scores_all = rbind(scores_all, newline)\n",
    "\n",
    "    }\n",
    "}\n",
    "\n"
   ]
  },
  {
   "cell_type": "code",
   "execution_count": 42,
   "metadata": {},
   "outputs": [
    {
     "data": {
      "text/html": [
       "<table>\n",
       "<thead><tr><th scope=col>param</th><th scope=col>folds</th><th scope=col>thresh</th><th scope=col>sens_4folds</th><th scope=col>spec_4folds</th><th scope=col>sens_CV</th><th scope=col>spec_CV</th></tr></thead>\n",
       "<tbody>\n",
       "\t<tr><td>NA               </td><td>NA               </td><td>NA               </td><td>NA               </td><td>NA               </td><td>NA               </td><td>NA               </td></tr>\n",
       "\t<tr><td>nadc.1           </td><td>1                </td><td>1.595            </td><td>0.625            </td><td>0.549707602339181</td><td>0.48780487804878 </td><td>0.3125           </td></tr>\n",
       "\t<tr><td>nadc.1           </td><td>2                </td><td>1.595            </td><td>0.51063829787234 </td><td>0.548192771084337</td><td>0.5              </td><td>0.647058823529412</td></tr>\n",
       "\t<tr><td>nadc.1           </td><td>3                </td><td>1.595            </td><td>0.538461538461538</td><td>0.52046783625731 </td><td>0.609756097560976</td><td>0.583333333333333</td></tr>\n",
       "\t<tr><td>nadc.1           </td><td>4                </td><td>1.645            </td><td>0.490566037735849</td><td>0.545454545454545</td><td>0.425531914893617</td><td>0.818181818181818</td></tr>\n",
       "\t<tr><td>nadc.1           </td><td>5                </td><td>1.595            </td><td>0.571428571428571</td><td>0.52             </td><td>0.621621621621622</td><td>0.375            </td></tr>\n",
       "</tbody>\n",
       "</table>\n"
      ],
      "text/latex": [
       "\\begin{tabular}{r|lllllll}\n",
       " param & folds & thresh & sens\\_4folds & spec\\_4folds & sens\\_CV & spec\\_CV\\\\\n",
       "\\hline\n",
       "\t NA                & NA                & NA                & NA                & NA                & NA                & NA               \\\\\n",
       "\t nadc.1            & 1                 & 1.595             & 0.625             & 0.549707602339181 & 0.48780487804878  & 0.3125           \\\\\n",
       "\t nadc.1            & 2                 & 1.595             & 0.51063829787234  & 0.548192771084337 & 0.5               & 0.647058823529412\\\\\n",
       "\t nadc.1            & 3                 & 1.595             & 0.538461538461538 & 0.52046783625731  & 0.609756097560976 & 0.583333333333333\\\\\n",
       "\t nadc.1            & 4                 & 1.645             & 0.490566037735849 & 0.545454545454545 & 0.425531914893617 & 0.818181818181818\\\\\n",
       "\t nadc.1            & 5                 & 1.595             & 0.571428571428571 & 0.52              & 0.621621621621622 & 0.375            \\\\\n",
       "\\end{tabular}\n"
      ],
      "text/markdown": [
       "\n",
       "param | folds | thresh | sens_4folds | spec_4folds | sens_CV | spec_CV | \n",
       "|---|---|---|---|---|---|\n",
       "| NA                | NA                | NA                | NA                | NA                | NA                | NA                | \n",
       "| nadc.1            | 1                 | 1.595             | 0.625             | 0.549707602339181 | 0.48780487804878  | 0.3125            | \n",
       "| nadc.1            | 2                 | 1.595             | 0.51063829787234  | 0.548192771084337 | 0.5               | 0.647058823529412 | \n",
       "| nadc.1            | 3                 | 1.595             | 0.538461538461538 | 0.52046783625731  | 0.609756097560976 | 0.583333333333333 | \n",
       "| nadc.1            | 4                 | 1.645             | 0.490566037735849 | 0.545454545454545 | 0.425531914893617 | 0.818181818181818 | \n",
       "| nadc.1            | 5                 | 1.595             | 0.571428571428571 | 0.52              | 0.621621621621622 | 0.375             | \n",
       "\n",
       "\n"
      ],
      "text/plain": [
       "  param  folds thresh sens_4folds       spec_4folds       sens_CV          \n",
       "1 NA     NA    NA     NA                NA                NA               \n",
       "2 nadc.1 1     1.595  0.625             0.549707602339181 0.48780487804878 \n",
       "3 nadc.1 2     1.595  0.51063829787234  0.548192771084337 0.5              \n",
       "4 nadc.1 3     1.595  0.538461538461538 0.52046783625731  0.609756097560976\n",
       "5 nadc.1 4     1.645  0.490566037735849 0.545454545454545 0.425531914893617\n",
       "6 nadc.1 5     1.595  0.571428571428571 0.52              0.621621621621622\n",
       "  spec_CV          \n",
       "1 NA               \n",
       "2 0.3125           \n",
       "3 0.647058823529412\n",
       "4 0.583333333333333\n",
       "5 0.818181818181818\n",
       "6 0.375            "
      ]
     },
     "metadata": {},
     "output_type": "display_data"
    }
   ],
   "source": [
    "head(scores_all)"
   ]
  },
  {
   "cell_type": "markdown",
   "metadata": {},
   "source": [
    "## Logistic regression!"
   ]
  },
  {
   "cell_type": "code",
   "execution_count": 43,
   "metadata": {
    "collapsed": true
   },
   "outputs": [],
   "source": [
    "data$outcome_bin = ifelse(data$outcome ==\"rHGG\", 1, 0)"
   ]
  },
  {
   "cell_type": "code",
   "execution_count": 44,
   "metadata": {},
   "outputs": [
    {
     "data": {
      "text/html": [
       "<table>\n",
       "<thead><tr><th scope=col>t_number_y</th><th scope=col>nadc.1</th><th scope=col>nfa.1</th><th scope=col>cbvn_nlin</th><th scope=col>ccri</th><th scope=col>cni</th><th scope=col>ncre</th><th scope=col>ncho</th><th scope=col>nnaa</th><th scope=col>in_CEL</th><th scope=col>newdata</th><th scope=col>outcome</th><th scope=col>hasDiffu</th><th scope=col>hasPerf</th><th scope=col>hasSpec</th><th scope=col>fold</th><th scope=col>outcome_bin</th></tr></thead>\n",
       "<tbody>\n",
       "\t<tr><td>5296</td><td>  NA</td><td>  NA</td><td>0.98</td><td> NA </td><td>  NA</td><td>  NA</td><td>  NA</td><td>  NA</td><td>0   </td><td>0   </td><td>rHGG</td><td>0   </td><td>1   </td><td>0   </td><td>1   </td><td>1   </td></tr>\n",
       "\t<tr><td>5317</td><td>1.87</td><td>0.46</td><td>2.24</td><td>0.3 </td><td>1.84</td><td>0.74</td><td>0.78</td><td>0.36</td><td>1   </td><td>0   </td><td>rHGG</td><td>1   </td><td>1   </td><td>1   </td><td>3   </td><td>1   </td></tr>\n",
       "\t<tr><td>5317</td><td>1.90</td><td>0.46</td><td>1.71</td><td>1.2 </td><td>2.04</td><td>0.89</td><td>1.18</td><td>0.73</td><td>1   </td><td>0   </td><td>rHGG</td><td>1   </td><td>1   </td><td>1   </td><td>3   </td><td>1   </td></tr>\n",
       "\t<tr><td>5333</td><td>1.52</td><td>1.50</td><td>0.69</td><td> NA </td><td>  NA</td><td>  NA</td><td>  NA</td><td>  NA</td><td>1   </td><td>0   </td><td>rHGG</td><td>1   </td><td>1   </td><td>0   </td><td>5   </td><td>1   </td></tr>\n",
       "\t<tr><td>5333</td><td>1.32</td><td>1.06</td><td>0.85</td><td> NA </td><td>  NA</td><td>  NA</td><td>  NA</td><td>  NA</td><td>0   </td><td>0   </td><td>rHGG</td><td>1   </td><td>1   </td><td>0   </td><td>5   </td><td>1   </td></tr>\n",
       "\t<tr><td>5361</td><td>1.63</td><td>1.19</td><td>  NA</td><td> NA </td><td>  NA</td><td>  NA</td><td>  NA</td><td>  NA</td><td>0   </td><td>0   </td><td>txe </td><td>1   </td><td>0   </td><td>0   </td><td>3   </td><td>0   </td></tr>\n",
       "</tbody>\n",
       "</table>\n"
      ],
      "text/latex": [
       "\\begin{tabular}{r|lllllllllllllllll}\n",
       " t\\_number\\_y & nadc.1 & nfa.1 & cbvn\\_nlin & ccri & cni & ncre & ncho & nnaa & in\\_CEL & newdata & outcome & hasDiffu & hasPerf & hasSpec & fold & outcome\\_bin\\\\\n",
       "\\hline\n",
       "\t 5296 &   NA &   NA & 0.98 &  NA  &   NA &   NA &   NA &   NA & 0    & 0    & rHGG & 0    & 1    & 0    & 1    & 1   \\\\\n",
       "\t 5317 & 1.87 & 0.46 & 2.24 & 0.3  & 1.84 & 0.74 & 0.78 & 0.36 & 1    & 0    & rHGG & 1    & 1    & 1    & 3    & 1   \\\\\n",
       "\t 5317 & 1.90 & 0.46 & 1.71 & 1.2  & 2.04 & 0.89 & 1.18 & 0.73 & 1    & 0    & rHGG & 1    & 1    & 1    & 3    & 1   \\\\\n",
       "\t 5333 & 1.52 & 1.50 & 0.69 &  NA  &   NA &   NA &   NA &   NA & 1    & 0    & rHGG & 1    & 1    & 0    & 5    & 1   \\\\\n",
       "\t 5333 & 1.32 & 1.06 & 0.85 &  NA  &   NA &   NA &   NA &   NA & 0    & 0    & rHGG & 1    & 1    & 0    & 5    & 1   \\\\\n",
       "\t 5361 & 1.63 & 1.19 &   NA &  NA  &   NA &   NA &   NA &   NA & 0    & 0    & txe  & 1    & 0    & 0    & 3    & 0   \\\\\n",
       "\\end{tabular}\n"
      ],
      "text/markdown": [
       "\n",
       "t_number_y | nadc.1 | nfa.1 | cbvn_nlin | ccri | cni | ncre | ncho | nnaa | in_CEL | newdata | outcome | hasDiffu | hasPerf | hasSpec | fold | outcome_bin | \n",
       "|---|---|---|---|---|---|\n",
       "| 5296 |   NA |   NA | 0.98 |  NA  |   NA |   NA |   NA |   NA | 0    | 0    | rHGG | 0    | 1    | 0    | 1    | 1    | \n",
       "| 5317 | 1.87 | 0.46 | 2.24 | 0.3  | 1.84 | 0.74 | 0.78 | 0.36 | 1    | 0    | rHGG | 1    | 1    | 1    | 3    | 1    | \n",
       "| 5317 | 1.90 | 0.46 | 1.71 | 1.2  | 2.04 | 0.89 | 1.18 | 0.73 | 1    | 0    | rHGG | 1    | 1    | 1    | 3    | 1    | \n",
       "| 5333 | 1.52 | 1.50 | 0.69 |  NA  |   NA |   NA |   NA |   NA | 1    | 0    | rHGG | 1    | 1    | 0    | 5    | 1    | \n",
       "| 5333 | 1.32 | 1.06 | 0.85 |  NA  |   NA |   NA |   NA |   NA | 0    | 0    | rHGG | 1    | 1    | 0    | 5    | 1    | \n",
       "| 5361 | 1.63 | 1.19 |   NA |  NA  |   NA |   NA |   NA |   NA | 0    | 0    | txe  | 1    | 0    | 0    | 3    | 0    | \n",
       "\n",
       "\n"
      ],
      "text/plain": [
       "  t_number_y nadc.1 nfa.1 cbvn_nlin ccri cni  ncre ncho nnaa in_CEL newdata\n",
       "1 5296         NA     NA  0.98       NA    NA   NA   NA   NA 0      0      \n",
       "2 5317       1.87   0.46  2.24      0.3  1.84 0.74 0.78 0.36 1      0      \n",
       "3 5317       1.90   0.46  1.71      1.2  2.04 0.89 1.18 0.73 1      0      \n",
       "4 5333       1.52   1.50  0.69       NA    NA   NA   NA   NA 1      0      \n",
       "5 5333       1.32   1.06  0.85       NA    NA   NA   NA   NA 0      0      \n",
       "6 5361       1.63   1.19    NA       NA    NA   NA   NA   NA 0      0      \n",
       "  outcome hasDiffu hasPerf hasSpec fold outcome_bin\n",
       "1 rHGG    0        1       0       1    1          \n",
       "2 rHGG    1        1       1       3    1          \n",
       "3 rHGG    1        1       1       3    1          \n",
       "4 rHGG    1        1       0       5    1          \n",
       "5 rHGG    1        1       0       5    1          \n",
       "6 txe     1        0       0       3    0          "
      ]
     },
     "metadata": {},
     "output_type": "display_data"
    }
   ],
   "source": [
    "head(data)"
   ]
  },
  {
   "cell_type": "code",
   "execution_count": 45,
   "metadata": {
    "collapsed": true
   },
   "outputs": [],
   "source": [
    "set.seed(1)"
   ]
  },
  {
   "cell_type": "markdown",
   "metadata": {},
   "source": [
    "## here I'm doing LR for all samples, CEL & NEL, all features: "
   ]
  },
  {
   "cell_type": "code",
   "execution_count": 46,
   "metadata": {
    "collapsed": true
   },
   "outputs": [],
   "source": [
    "scores_lr  = data.frame(folds = NA,  auc_4folds = NA,\n",
    "                        ci1_4folds = NA, \n",
    "                        ci2_4folds = NA,\n",
    "                        acc_4folds = NA,\n",
    "                        sens_4folds = NA, \n",
    "                        spec_4folds = NA, \n",
    "                        acc_CV = NA,\n",
    "                        sens_CV = NA, \n",
    "                        spec_CV = NA\n",
    "                       )"
   ]
  },
  {
   "cell_type": "code",
   "execution_count": 47,
   "metadata": {},
   "outputs": [
    {
     "name": "stdout",
     "output_type": "stream",
     "text": [
      "\n",
      "Call:\n",
      "glm(formula = lr_formula, family = binomial, data = data_thresh)\n",
      "\n",
      "Deviance Residuals: \n",
      "    Min       1Q   Median       3Q      Max  \n",
      "-1.1507  -0.7812  -0.5551  -0.3007   2.3284  \n",
      "\n",
      "Coefficients:\n",
      "            Estimate Std. Error z value Pr(>|z|)    \n",
      "(Intercept) -1.59147    0.29303  -5.431  5.6e-08 ***\n",
      "cbvn_nlin   -0.36265    0.19630  -1.847   0.0647 .  \n",
      "ccri         0.16332    1.25385   0.130   0.8964    \n",
      "cni          0.65169    0.59877   1.088   0.2764    \n",
      "ncho        -1.34413    1.05366  -1.276   0.2021    \n",
      "ncre        -0.02414    0.98289  -0.025   0.9804    \n",
      "nnaa         0.55824    0.28883   1.933   0.0533 .  \n",
      "nfa.1        0.13088    0.18621   0.703   0.4821    \n",
      "nadc.1      -0.23564    0.18982  -1.241   0.2145    \n",
      "---\n",
      "Signif. codes:  0 ‘***’ 0.001 ‘**’ 0.01 ‘*’ 0.05 ‘.’ 0.1 ‘ ’ 1\n",
      "\n",
      "(Dispersion parameter for binomial family taken to be 1)\n",
      "\n",
      "    Null deviance: 242.88  on 228  degrees of freedom\n",
      "Residual deviance: 225.19  on 220  degrees of freedom\n",
      "AIC: 243.19\n",
      "\n",
      "Number of Fisher Scoring iterations: 5\n",
      "\n",
      "\n",
      "Call:\n",
      "glm(formula = lr_formula, family = binomial, data = data_thresh)\n",
      "\n",
      "Deviance Residuals: \n",
      "    Min       1Q   Median       3Q      Max  \n",
      "-1.2775  -0.7517  -0.6348  -0.3281   2.1993  \n",
      "\n",
      "Coefficients:\n",
      "            Estimate Std. Error z value Pr(>|z|)    \n",
      "(Intercept) -1.16988    0.28132  -4.159  3.2e-05 ***\n",
      "cbvn_nlin   -0.45135    0.19283  -2.341   0.0193 *  \n",
      "ccri        -1.12143    1.54476  -0.726   0.4679    \n",
      "cni          1.07932    0.81808   1.319   0.1871    \n",
      "ncho        -0.42392    1.13333  -0.374   0.7084    \n",
      "ncre        -1.02217    1.16778  -0.875   0.3814    \n",
      "nnaa         0.43033    0.32547   1.322   0.1861    \n",
      "nfa.1        0.11372    0.18294   0.622   0.5342    \n",
      "nadc.1      -0.03358    0.17026  -0.197   0.8436    \n",
      "---\n",
      "Signif. codes:  0 ‘***’ 0.001 ‘**’ 0.01 ‘*’ 0.05 ‘.’ 0.1 ‘ ’ 1\n",
      "\n",
      "(Dispersion parameter for binomial family taken to be 1)\n",
      "\n",
      "    Null deviance: 244.84  on 227  degrees of freedom\n",
      "Residual deviance: 232.85  on 219  degrees of freedom\n",
      "AIC: 250.85\n",
      "\n",
      "Number of Fisher Scoring iterations: 5\n",
      "\n",
      "\n",
      "Call:\n",
      "glm(formula = lr_formula, family = binomial, data = data_thresh)\n",
      "\n",
      "Deviance Residuals: \n",
      "    Min       1Q   Median       3Q      Max  \n",
      "-1.3048  -0.8215  -0.6094  -0.1569   2.1993  \n",
      "\n",
      "Coefficients:\n",
      "              Estimate Std. Error z value Pr(>|z|)    \n",
      "(Intercept) -1.5649706  0.2995008  -5.225 1.74e-07 ***\n",
      "cbvn_nlin   -0.3225228  0.1827041  -1.765   0.0775 .  \n",
      "ccri        -0.3285591  1.1870297  -0.277   0.7819    \n",
      "cni          1.1337852  0.5992354   1.892   0.0585 .  \n",
      "ncho        -1.7565227  1.1478457  -1.530   0.1259    \n",
      "ncre        -0.0735868  1.0821687  -0.068   0.9458    \n",
      "nnaa         0.4462455  0.3044796   1.466   0.1428    \n",
      "nfa.1        0.0006781  0.1749064   0.004   0.9969    \n",
      "nadc.1      -0.0060360  0.1690131  -0.036   0.9715    \n",
      "---\n",
      "Signif. codes:  0 ‘***’ 0.001 ‘**’ 0.01 ‘*’ 0.05 ‘.’ 0.1 ‘ ’ 1\n",
      "\n",
      "(Dispersion parameter for binomial family taken to be 1)\n",
      "\n",
      "    Null deviance: 259.83  on 233  degrees of freedom\n",
      "Residual deviance: 242.10  on 225  degrees of freedom\n",
      "AIC: 260.1\n",
      "\n",
      "Number of Fisher Scoring iterations: 5\n",
      "\n",
      "\n",
      "Call:\n",
      "glm(formula = lr_formula, family = binomial, data = data_thresh)\n",
      "\n",
      "Deviance Residuals: \n",
      "    Min       1Q   Median       3Q      Max  \n",
      "-1.1246  -0.8278  -0.6819   0.5378   2.0846  \n",
      "\n",
      "Coefficients:\n",
      "            Estimate Std. Error z value Pr(>|z|)    \n",
      "(Intercept) -1.33120    0.28559  -4.661 3.14e-06 ***\n",
      "cbvn_nlin   -0.22825    0.16602  -1.375    0.169    \n",
      "ccri        -0.28775    1.25874  -0.229    0.819    \n",
      "cni          0.69489    0.63090   1.101    0.271    \n",
      "ncho        -0.98953    0.89309  -1.108    0.268    \n",
      "ncre        -0.15935    0.76426  -0.209    0.835    \n",
      "nnaa         0.16469    0.33257   0.495    0.620    \n",
      "nfa.1        0.23947    0.17496   1.369    0.171    \n",
      "nadc.1       0.07028    0.17110   0.411    0.681    \n",
      "---\n",
      "Signif. codes:  0 ‘***’ 0.001 ‘**’ 0.01 ‘*’ 0.05 ‘.’ 0.1 ‘ ’ 1\n",
      "\n",
      "(Dispersion parameter for binomial family taken to be 1)\n",
      "\n",
      "    Null deviance: 260.35  on 230  degrees of freedom\n",
      "Residual deviance: 249.95  on 222  degrees of freedom\n",
      "AIC: 267.95\n",
      "\n",
      "Number of Fisher Scoring iterations: 5\n",
      "\n",
      "\n",
      "Call:\n",
      "glm(formula = lr_formula, family = binomial, data = data_thresh)\n",
      "\n",
      "Deviance Residuals: \n",
      "    Min       1Q   Median       3Q      Max  \n",
      "-1.4690  -0.7954  -0.6406  -0.2228   2.0175  \n",
      "\n",
      "Coefficients:\n",
      "            Estimate Std. Error z value Pr(>|z|)    \n",
      "(Intercept) -1.18476    0.28630  -4.138  3.5e-05 ***\n",
      "cbvn_nlin   -0.35605    0.18007  -1.977   0.0480 *  \n",
      "ccri        -0.66890    1.17878  -0.567   0.5704    \n",
      "cni          1.02474    0.61636   1.663   0.0964 .  \n",
      "ncho        -1.08050    0.97283  -1.111   0.2667    \n",
      "ncre        -0.72900    0.87325  -0.835   0.4038    \n",
      "nnaa         0.38554    0.28014   1.376   0.1687    \n",
      "nfa.1        0.02603    0.17669   0.147   0.8829    \n",
      "nadc.1      -0.22944    0.17335  -1.324   0.1856    \n",
      "---\n",
      "Signif. codes:  0 ‘***’ 0.001 ‘**’ 0.01 ‘*’ 0.05 ‘.’ 0.1 ‘ ’ 1\n",
      "\n",
      "(Dispersion parameter for binomial family taken to be 1)\n",
      "\n",
      "    Null deviance: 266.54  on 241  degrees of freedom\n",
      "Residual deviance: 252.16  on 233  degrees of freedom\n",
      "AIC: 270.16\n",
      "\n",
      "Number of Fisher Scoring iterations: 5\n",
      "\n"
     ]
    }
   ],
   "source": [
    "for (fold in c(1:5)){\n",
    "    ## divide data \n",
    "    data_thresh = data[which(data$fold != fold),]\n",
    "    data_pred = data[which(data$fold == fold),]\n",
    "    \n",
    "    ## cycle through cols to normalize: \n",
    "    for (col in features_mri){        \n",
    "        ## standardization: \n",
    "        med_col = median(data_thresh[,col], na.rm = T)\n",
    "        sd_col = sd(data_thresh[,col], na.rm = T)\n",
    "        \n",
    "        data_thresh[,col] = (data_thresh[,col]-med_col)/sd_col\n",
    "        data_pred[,col] = (data_pred[,col]-med_col)/sd_col\n",
    "\n",
    "        ##missing value filling: \n",
    "        data_thresh[,col] = ifelse(is.na(data_thresh[,col]), med_col, data_thresh[,col])\n",
    "        data_pred[,col] = ifelse(is.na(data_pred[,col]), med_col, data_pred[,col])\n",
    "    }\n",
    "    \n",
    "    ## create logReg for fold: \n",
    "    outcome = \"outcome\"\n",
    "    features = c( 'cbvn_nlin',\n",
    "                 'ccri', 'cni', 'ncho', 'ncre', 'nnaa', 'nfa.1', 'nadc.1')\n",
    "    features.addsign <- paste(features, collapse = \"+\")\n",
    "    lr_formula = as.formula(paste(outcome, features.addsign, sep = \"~\"))\n",
    "    lr.fit = glm(lr_formula, data = data_thresh, family = binomial)\n",
    "    print(summary(lr.fit))\n",
    "    ## predict on training data: (4folds)\n",
    "    fit.probs.data_thresh = predict(lr.fit, data_thresh, family = binomial, type = \"response\")\n",
    "    fit.preds.data_thresh = as.factor(ifelse(fit.probs.data_thresh > 0.25, \"txe\", 'rHGG'))\n",
    "    \n",
    "    auc = (auc(roc(data_thresh$outcome, fit.probs.data_thresh, levels=c(\"txe\", \"rHGG\"), \n",
    "          percent = TRUE)))\n",
    "    auc.ci1 = ci.auc(roc(data_thresh$outcome, fit.probs.data_thresh, levels=c(\"txe\", \"rHGG\"), \n",
    "        percent = TRUE))[1]\n",
    "    auc.ci2 = ci.auc(roc(data_thresh$outcome, fit.probs.data_thresh, levels=c(\"txe\", \"rHGG\"), \n",
    "        percent = TRUE))[3]\n",
    "    acc =  confusionMatrix(data = fit.preds.data_thresh, reference = data_thresh$outcome)$overall['Accuracy']\n",
    "    sens = confusionMatrix(data = fit.preds.data_thresh, reference = data_thresh$outcome)$byClass['Sensitivity']\n",
    "    spec = confusionMatrix(data = fit.preds.data_thresh, reference = data_thresh$outcome)$byClass['Specificity']\n",
    "    \n",
    "    ## predict on test   data: (5th fold)\n",
    "    fit.probs.data_pred = predict(lr.fit, data_pred, family = binomial, type = \"response\")\n",
    "    fit.preds.data_pred = as.factor(ifelse(fit.probs.data_pred > 0.25, \"txe\", 'rHGG'))\n",
    "    \n",
    "    ## save the coefficients & p-values\n",
    "    \n",
    "    \n",
    "    acc_5 =  confusionMatrix(data = fit.preds.data_pred, reference = data_pred$outcome)$overall['Accuracy']\n",
    "    sens_5 = confusionMatrix(data = fit.preds.data_pred, reference = data_pred$outcome)$byClass['Sensitivity']\n",
    "    spec_5 = confusionMatrix(data = fit.preds.data_pred, reference = data_pred$outcome)$byClass['Specificity']\n",
    "\n",
    "    SAVE_FOLD = c(fold, auc, auc.ci1, auc.ci2, acc, sens, spec, acc_5, sens_5, spec_5)\n",
    "    scores_lr = rbind(scores_lr, SAVE_FOLD)\n",
    "}\n",
    "\n"
   ]
  },
  {
   "cell_type": "code",
   "execution_count": 48,
   "metadata": {
    "collapsed": true
   },
   "outputs": [],
   "source": [
    "scores_lr = scores_lr[-1, ]"
   ]
  },
  {
   "cell_type": "code",
   "execution_count": 49,
   "metadata": {
    "scrolled": true
   },
   "outputs": [
    {
     "data": {
      "text/html": [
       "<table>\n",
       "<thead><tr><th></th><th scope=col>med</th><th scope=col>mean</th><th scope=col>sd</th></tr></thead>\n",
       "<tbody>\n",
       "\t<tr><th scope=row>folds</th><td> 3.0000000</td><td> 3.0000000</td><td>1.58113883</td></tr>\n",
       "\t<tr><th scope=row>auc_4folds</th><td>65.7124126</td><td>65.4300969</td><td>1.99599065</td></tr>\n",
       "\t<tr><th scope=row>ci1_4folds</th><td>58.0509312</td><td>57.8034912</td><td>2.01727862</td></tr>\n",
       "\t<tr><th scope=row>ci2_4folds</th><td>73.3683171</td><td>73.0567026</td><td>2.01137739</td></tr>\n",
       "\t<tr><th scope=row>acc_4folds</th><td> 0.5811966</td><td> 0.6018617</td><td>0.04590439</td></tr>\n",
       "\t<tr><th scope=row>sens_4folds</th><td> 0.5706522</td><td> 0.5933063</td><td>0.08407300</td></tr>\n",
       "\t<tr><th scope=row>spec_4folds</th><td> 0.6034483</td><td> 0.6236213</td><td>0.09193580</td></tr>\n",
       "\t<tr><th scope=row>acc_CV</th><td> 0.5555556</td><td> 0.5116812</td><td>0.10846748</td></tr>\n",
       "\t<tr><th scope=row>sens_CV</th><td> 0.6304348</td><td> 0.5460147</td><td>0.12963267</td></tr>\n",
       "\t<tr><th scope=row>spec_CV</th><td> 0.4166667</td><td> 0.4024064</td><td>0.05669703</td></tr>\n",
       "</tbody>\n",
       "</table>\n"
      ],
      "text/latex": [
       "\\begin{tabular}{r|lll}\n",
       "  & med & mean & sd\\\\\n",
       "\\hline\n",
       "\tfolds &  3.0000000 &  3.0000000 & 1.58113883\\\\\n",
       "\tauc\\_4folds & 65.7124126 & 65.4300969 & 1.99599065\\\\\n",
       "\tci1\\_4folds & 58.0509312 & 57.8034912 & 2.01727862\\\\\n",
       "\tci2\\_4folds & 73.3683171 & 73.0567026 & 2.01137739\\\\\n",
       "\tacc\\_4folds &  0.5811966 &  0.6018617 & 0.04590439\\\\\n",
       "\tsens\\_4folds &  0.5706522 &  0.5933063 & 0.08407300\\\\\n",
       "\tspec\\_4folds &  0.6034483 &  0.6236213 & 0.09193580\\\\\n",
       "\tacc\\_CV &  0.5555556 &  0.5116812 & 0.10846748\\\\\n",
       "\tsens\\_CV &  0.6304348 &  0.5460147 & 0.12963267\\\\\n",
       "\tspec\\_CV &  0.4166667 &  0.4024064 & 0.05669703\\\\\n",
       "\\end{tabular}\n"
      ],
      "text/markdown": [
       "\n",
       "| <!--/--> | med | mean | sd | \n",
       "|---|---|---|---|---|---|---|---|---|---|\n",
       "| folds |  3.0000000 |  3.0000000 | 1.58113883 | \n",
       "| auc_4folds | 65.7124126 | 65.4300969 | 1.99599065 | \n",
       "| ci1_4folds | 58.0509312 | 57.8034912 | 2.01727862 | \n",
       "| ci2_4folds | 73.3683171 | 73.0567026 | 2.01137739 | \n",
       "| acc_4folds |  0.5811966 |  0.6018617 | 0.04590439 | \n",
       "| sens_4folds |  0.5706522 |  0.5933063 | 0.08407300 | \n",
       "| spec_4folds |  0.6034483 |  0.6236213 | 0.09193580 | \n",
       "| acc_CV |  0.5555556 |  0.5116812 | 0.10846748 | \n",
       "| sens_CV |  0.6304348 |  0.5460147 | 0.12963267 | \n",
       "| spec_CV |  0.4166667 |  0.4024064 | 0.05669703 | \n",
       "\n",
       "\n"
      ],
      "text/plain": [
       "            med        mean       sd        \n",
       "folds        3.0000000  3.0000000 1.58113883\n",
       "auc_4folds  65.7124126 65.4300969 1.99599065\n",
       "ci1_4folds  58.0509312 57.8034912 2.01727862\n",
       "ci2_4folds  73.3683171 73.0567026 2.01137739\n",
       "acc_4folds   0.5811966  0.6018617 0.04590439\n",
       "sens_4folds  0.5706522  0.5933063 0.08407300\n",
       "spec_4folds  0.6034483  0.6236213 0.09193580\n",
       "acc_CV       0.5555556  0.5116812 0.10846748\n",
       "sens_CV      0.6304348  0.5460147 0.12963267\n",
       "spec_CV      0.4166667  0.4024064 0.05669703"
      ]
     },
     "metadata": {},
     "output_type": "display_data"
    }
   ],
   "source": [
    "data.frame(med = apply(scores_lr , 2, median), mean = apply(scores_lr , 2, mean), sd = apply(scores_lr, 2, sd))\n"
   ]
  },
  {
   "cell_type": "markdown",
   "metadata": {},
   "source": [
    "## here I'm doing LR for all samples, CEL & NEL, only important features: "
   ]
  },
  {
   "cell_type": "code",
   "execution_count": 50,
   "metadata": {
    "collapsed": true
   },
   "outputs": [],
   "source": [
    "scores_lr_onlyImportant  = data.frame(\n",
    "                        folds = NA, \n",
    "                        features = NA, \n",
    "                        auc_4folds = NA,\n",
    "                        ci1_4folds = NA,\n",
    "                        ci2_4folds = NA,\n",
    "                        acc_4folds = NA,\n",
    "                        sens_4folds = NA, \n",
    "                        spec_4folds = NA, \n",
    "                        acc_CV = NA,\n",
    "                        sens_CV = NA, \n",
    "                        spec_CV = NA\n",
    "                       )"
   ]
  },
  {
   "cell_type": "code",
   "execution_count": 51,
   "metadata": {},
   "outputs": [
    {
     "name": "stdout",
     "output_type": "stream",
     "text": [
      "\n",
      "Call:\n",
      "glm(formula = lr_formula, family = binomial, data = data_thresh)\n",
      "\n",
      "Deviance Residuals: \n",
      "    Min       1Q   Median       3Q      Max  \n",
      "-0.9846  -0.7307  -0.6328  -0.4986   2.0528  \n",
      "\n",
      "Coefficients:\n",
      "            Estimate Std. Error z value Pr(>|z|)    \n",
      "(Intercept)  -1.3064     0.2846  -4.590 4.42e-06 ***\n",
      "cbvn_nlin    -0.2427     0.1914  -1.268   0.2049    \n",
      "ncre         -0.2083     0.2634  -0.791   0.4291    \n",
      "cni           0.2417     0.1195   2.023   0.0431 *  \n",
      "in_CEL       -0.2429     0.3452  -0.703   0.4818    \n",
      "---\n",
      "Signif. codes:  0 ‘***’ 0.001 ‘**’ 0.01 ‘*’ 0.05 ‘.’ 0.1 ‘ ’ 1\n",
      "\n",
      "(Dispersion parameter for binomial family taken to be 1)\n",
      "\n",
      "    Null deviance: 242.88  on 228  degrees of freedom\n",
      "Residual deviance: 236.71  on 224  degrees of freedom\n",
      "AIC: 246.71\n",
      "\n",
      "Number of Fisher Scoring iterations: 4\n",
      "\n",
      "\n",
      "Call:\n",
      "plot.roc.default(x = data_thresh$outcome, predictor = fit.probs.data_thresh,     levels = c(\"rHGG\", \"txe\"), percent = TRUE, col = \"#1c61b6\",     main = paste(\"ROC curve of LR #\", fold, \"in all samples\"))\n",
      "\n",
      "Data: fit.probs.data_thresh in 178 controls (data_thresh$outcome rHGG) < 51 cases (data_thresh$outcome txe).\n",
      "Area under the curve: 60.24%\n",
      "\n",
      "Call:\n",
      "glm(formula = lr_formula, family = binomial, data = data_thresh)\n",
      "\n",
      "Deviance Residuals: \n",
      "    Min       1Q   Median       3Q      Max  \n",
      "-1.1511  -0.7614  -0.6473  -0.4278   2.0474  \n",
      "\n",
      "Coefficients:\n",
      "            Estimate Std. Error z value Pr(>|z|)   \n",
      "(Intercept) -0.84025    0.27415  -3.065  0.00218 **\n",
      "cbvn_nlin   -0.36381    0.19549  -1.861  0.06275 . \n",
      "ncre        -0.36433    0.30815  -1.182  0.23707   \n",
      "cni          0.04427    0.13200   0.335  0.73735   \n",
      "in_CEL      -0.30623    0.34102  -0.898  0.36919   \n",
      "---\n",
      "Signif. codes:  0 ‘***’ 0.001 ‘**’ 0.01 ‘*’ 0.05 ‘.’ 0.1 ‘ ’ 1\n",
      "\n",
      "(Dispersion parameter for binomial family taken to be 1)\n",
      "\n",
      "    Null deviance: 244.84  on 227  degrees of freedom\n",
      "Residual deviance: 237.49  on 223  degrees of freedom\n",
      "AIC: 247.49\n",
      "\n",
      "Number of Fisher Scoring iterations: 4\n",
      "\n"
     ]
    },
    {
     "data": {
      "image/png": "[encoded data removed]",
      "text/plain": [
       "Plot with title “ROC curve of LR # 1 in all samples”"
      ]
     },
     "metadata": {},
     "output_type": "display_data"
    },
    {
     "name": "stdout",
     "output_type": "stream",
     "text": [
      "\n",
      "Call:\n",
      "plot.roc.default(x = data_thresh$outcome, predictor = fit.probs.data_thresh,     levels = c(\"rHGG\", \"txe\"), percent = TRUE, col = \"#1c61b6\",     main = paste(\"ROC curve of LR #\", fold, \"in all samples\"))\n",
      "\n",
      "Data: fit.probs.data_thresh in 176 controls (data_thresh$outcome rHGG) < 52 cases (data_thresh$outcome txe).\n",
      "Area under the curve: 61.65%\n",
      "\n",
      "Call:\n",
      "glm(formula = lr_formula, family = binomial, data = data_thresh)\n",
      "\n",
      "Deviance Residuals: \n",
      "    Min       1Q   Median       3Q      Max  \n",
      "-1.0016  -0.7902  -0.6841  -0.4515   1.9912  \n",
      "\n",
      "Coefficients:\n",
      "            Estimate Std. Error z value Pr(>|z|)    \n",
      "(Intercept)  -1.2351     0.2823  -4.376 1.21e-05 ***\n",
      "cbvn_nlin    -0.2182     0.1851  -1.179   0.2385    \n",
      "ncre         -0.2638     0.2927  -0.901   0.3674    \n",
      "cni           0.2348     0.1238   1.896   0.0579 .  \n",
      "in_CEL       -0.1430     0.3310  -0.432   0.6657    \n",
      "---\n",
      "Signif. codes:  0 ‘***’ 0.001 ‘**’ 0.01 ‘*’ 0.05 ‘.’ 0.1 ‘ ’ 1\n",
      "\n",
      "(Dispersion parameter for binomial family taken to be 1)\n",
      "\n",
      "    Null deviance: 259.83  on 233  degrees of freedom\n",
      "Residual deviance: 254.58  on 229  degrees of freedom\n",
      "AIC: 264.58\n",
      "\n",
      "Number of Fisher Scoring iterations: 4\n",
      "\n"
     ]
    },
    {
     "data": {
      "image/png": "[encoded data removed]",
      "text/plain": [
       "Plot with title “ROC curve of LR # 2 in all samples”"
      ]
     },
     "metadata": {},
     "output_type": "display_data"
    },
    {
     "name": "stdout",
     "output_type": "stream",
     "text": [
      "\n",
      "Call:\n",
      "plot.roc.default(x = data_thresh$outcome, predictor = fit.probs.data_thresh,     levels = c(\"rHGG\", \"txe\"), percent = TRUE, col = \"#1c61b6\",     main = paste(\"ROC curve of LR #\", fold, \"in all samples\"))\n",
      "\n",
      "Data: fit.probs.data_thresh in 177 controls (data_thresh$outcome rHGG) < 57 cases (data_thresh$outcome txe).\n",
      "Area under the curve: 59.93%\n",
      "\n",
      "Call:\n",
      "glm(formula = lr_formula, family = binomial, data = data_thresh)\n",
      "\n",
      "Deviance Residuals: \n",
      "    Min       1Q   Median       3Q      Max  \n",
      "-1.0158  -0.7899  -0.7166   0.4719   1.9466  \n",
      "\n",
      "Coefficients:\n",
      "            Estimate Std. Error z value Pr(>|z|)    \n",
      "(Intercept)  -0.9935     0.2828  -3.513 0.000443 ***\n",
      "cbvn_nlin    -0.1379     0.1623  -0.849 0.395605    \n",
      "ncre         -0.2058     0.2331  -0.883 0.377359    \n",
      "cni           0.1211     0.1080   1.121 0.262400    \n",
      "in_CEL       -0.3044     0.3175  -0.959 0.337574    \n",
      "---\n",
      "Signif. codes:  0 ‘***’ 0.001 ‘**’ 0.01 ‘*’ 0.05 ‘.’ 0.1 ‘ ’ 1\n",
      "\n",
      "(Dispersion parameter for binomial family taken to be 1)\n",
      "\n",
      "    Null deviance: 260.35  on 230  degrees of freedom\n",
      "Residual deviance: 257.09  on 226  degrees of freedom\n",
      "AIC: 267.09\n",
      "\n",
      "Number of Fisher Scoring iterations: 4\n",
      "\n"
     ]
    },
    {
     "data": {
      "image/png": "[encoded data removed]",
      "text/plain": [
       "Plot with title “ROC curve of LR # 3 in all samples”"
      ]
     },
     "metadata": {},
     "output_type": "display_data"
    },
    {
     "name": "stdout",
     "output_type": "stream",
     "text": [
      "\n",
      "Call:\n",
      "plot.roc.default(x = data_thresh$outcome, predictor = fit.probs.data_thresh,     levels = c(\"rHGG\", \"txe\"), percent = TRUE, col = \"#1c61b6\",     main = paste(\"ROC curve of LR #\", fold, \"in all samples\"))\n",
      "\n",
      "Data: fit.probs.data_thresh in 173 controls (data_thresh$outcome rHGG) < 58 cases (data_thresh$outcome txe).\n",
      "Area under the curve: 57.82%\n",
      "\n",
      "Call:\n",
      "glm(formula = lr_formula, family = binomial, data = data_thresh)\n",
      "\n",
      "Deviance Residuals: \n",
      "    Min       1Q   Median       3Q      Max  \n",
      "-1.1900  -0.7686  -0.6819  -0.4934   1.8529  \n",
      "\n",
      "Coefficients:\n",
      "            Estimate Std. Error z value Pr(>|z|)    \n",
      "(Intercept)  -0.9814     0.2825  -3.474 0.000513 ***\n",
      "cbvn_nlin    -0.2439     0.1771  -1.377 0.168552    \n",
      "ncre         -0.3902     0.3053  -1.278 0.201222    \n",
      "cni           0.1040     0.1183   0.879 0.379405    \n",
      "in_CEL       -0.1654     0.3200  -0.517 0.605248    \n",
      "---\n",
      "Signif. codes:  0 ‘***’ 0.001 ‘**’ 0.01 ‘*’ 0.05 ‘.’ 0.1 ‘ ’ 1\n",
      "\n",
      "(Dispersion parameter for binomial family taken to be 1)\n",
      "\n",
      "    Null deviance: 266.54  on 241  degrees of freedom\n",
      "Residual deviance: 262.19  on 237  degrees of freedom\n",
      "AIC: 272.19\n",
      "\n",
      "Number of Fisher Scoring iterations: 4\n",
      "\n"
     ]
    },
    {
     "data": {
      "image/png": "[encoded data removed]",
      "text/plain": [
       "Plot with title “ROC curve of LR # 4 in all samples”"
      ]
     },
     "metadata": {},
     "output_type": "display_data"
    },
    {
     "name": "stdout",
     "output_type": "stream",
     "text": [
      "\n",
      "Call:\n",
      "plot.roc.default(x = data_thresh$outcome, predictor = fit.probs.data_thresh,     levels = c(\"rHGG\", \"txe\"), percent = TRUE, col = \"#1c61b6\",     main = paste(\"ROC curve of LR #\", fold, \"in all samples\"))\n",
      "\n",
      "Data: fit.probs.data_thresh in 184 controls (data_thresh$outcome rHGG) < 58 cases (data_thresh$outcome txe).\n",
      "Area under the curve: 56.48%\n"
     ]
    },
    {
     "data": {
      "image/png": "[encoded data removed]",
      "text/plain": [
       "Plot with title “ROC curve of LR # 5 in all samples”"
      ]
     },
     "metadata": {},
     "output_type": "display_data"
    }
   ],
   "source": [
    "for (fold in c(1:5)){\n",
    "    ## divide data \n",
    "    data_thresh = data[which(data$fold != fold),]\n",
    "    data_pred = data[which(data$fold == fold),]\n",
    "    \n",
    "    ## cycle through cols to normalize: \n",
    "    for (col in features_mri){        \n",
    "        ## standardization: \n",
    "        med_col = median(data_thresh[,col], na.rm = T)\n",
    "        sd_col = sd(data_thresh[,col], na.rm = T)\n",
    "        \n",
    "        data_thresh[,col] = (data_thresh[,col]-med_col)/sd_col\n",
    "        data_pred[,col] = (data_pred[,col]-med_col)/sd_col\n",
    "\n",
    "        ##missing value filling: \n",
    "        data_thresh[,col] = ifelse(is.na(data_thresh[,col]), med_col, data_thresh[,col])\n",
    "        data_pred[,col] = ifelse(is.na(data_pred[,col]), med_col, data_pred[,col])\n",
    "    }\n",
    "    \n",
    "    ## create logReg for fold: \n",
    "    outcome = \"outcome\"\n",
    "    features = c('cbvn_nlin', 'ncre',\n",
    "                 'cni','in_CEL')\n",
    "    features.addsign <- paste(features, collapse = \"+\")\n",
    "    lr_formula = as.formula(paste(outcome, features.addsign, sep = \"~\"))\n",
    "    lr.fit = glm(lr_formula, data = data_thresh, family = binomial)\n",
    "    print(summary(lr.fit))\n",
    "    ## predict on training data: (4folds)\n",
    "    fit.probs.data_thresh = predict(lr.fit, data_thresh, family = binomial, type = \"response\")\n",
    "    fit.preds.data_thresh = as.factor(ifelse(fit.probs.data_thresh > 0.25, \"txe\", 'rHGG'))\n",
    "    print(plot.roc(data_thresh$outcome, fit.probs.data_thresh, levels=c(\"rHGG\", \"txe\"), \n",
    "          percent = TRUE, col = \"#1c61b6\", main = paste(\"ROC curve of LR #\", fold, \"in all samples\")))\n",
    "    auc = auc(roc(data_thresh$outcome, fit.probs.data_thresh, levels=c(\"txe\", \"rHGG\"), \n",
    "          percent = TRUE))\n",
    "    auc.ci1 = ci.auc(roc(data_thresh$outcome, fit.probs.data_thresh, levels=c(\"txe\", \"rHGG\"), \n",
    "          percent = TRUE))[1]\n",
    "    auc.ci2 = ci.auc(roc(data_thresh$outcome, fit.probs.data_thresh, levels=c(\"txe\", \"rHGG\"), \n",
    "          percent = TRUE))[3]\n",
    "    \n",
    "    acc =  confusionMatrix(data = fit.preds.data_thresh, reference = data_thresh$outcome)$overall['Accuracy']\n",
    "    sens = confusionMatrix(data = fit.preds.data_thresh, reference = data_thresh$outcome)$byClass['Sensitivity']\n",
    "    spec = confusionMatrix(data = fit.preds.data_thresh, reference = data_thresh$outcome)$byClass['Specificity']\n",
    "    \n",
    "    ## predict on test   data: (5th fold)\n",
    "    fit.probs.data_pred = predict(lr.fit, data_pred, family = binomial, type = \"response\")\n",
    "\n",
    "    thresh = 0.25\n",
    "    fit.preds.data_pred = as.factor(ifelse(fit.probs.data_pred > thresh, \"txe\", 'rHGG'))\n",
    "\n",
    "    ## save the coefficients & p-values\n",
    "\n",
    "    acc_5 =  confusionMatrix(data = fit.preds.data_pred, reference = data_pred$outcome)$overall['Accuracy']\n",
    "    sens_5 = confusionMatrix(data = fit.preds.data_pred, reference = data_pred$outcome)$byClass['Sensitivity']\n",
    "    spec_5 = confusionMatrix(data = fit.preds.data_pred, reference = data_pred$outcome)$byClass['Specificity']\n",
    "\n",
    "    SAVE_FOLD = c(fold, features.addsign, auc, auc.ci1, auc.ci2, acc, sens, spec, acc_5, sens_5, spec_5)\n",
    "    scores_lr_onlyImportant = rbind(scores_lr_onlyImportant, SAVE_FOLD)\n",
    "    \n",
    "}\n",
    "\n"
   ]
  },
  {
   "cell_type": "code",
   "execution_count": 52,
   "metadata": {
    "collapsed": true
   },
   "outputs": [],
   "source": [
    "scores_lr_onlyImportant = scores_lr_onlyImportant[-1,-c(1,2)]"
   ]
  },
  {
   "cell_type": "code",
   "execution_count": 53,
   "metadata": {},
   "outputs": [
    {
     "data": {
      "text/html": [
       "<table>\n",
       "<thead><tr><th></th><th scope=col>auc_4folds</th><th scope=col>ci1_4folds</th><th scope=col>ci2_4folds</th><th scope=col>acc_4folds</th><th scope=col>sens_4folds</th><th scope=col>spec_4folds</th><th scope=col>acc_CV</th><th scope=col>sens_CV</th><th scope=col>spec_CV</th></tr></thead>\n",
       "<tbody>\n",
       "\t<tr><th scope=row>2</th><td>60.2390394359991 </td><td>51.8192344497251 </td><td>68.6588444222731 </td><td>0.620087336244541</td><td>0.696629213483146</td><td>0.352941176470588</td><td>0.467741935483871</td><td>0.477272727272727</td><td>0.444444444444444</td></tr>\n",
       "\t<tr><th scope=row>3</th><td>61.6477272727273 </td><td>53.2891758044465 </td><td>70.006278741008  </td><td>0.62280701754386 </td><td>0.664772727272727</td><td>0.480769230769231</td><td>0.587301587301587</td><td>0.717391304347826</td><td>0.235294117647059</td></tr>\n",
       "\t<tr><th scope=row>4</th><td>59.9316086827238 </td><td>51.9019757033382 </td><td>67.9612416621093 </td><td>0.581196581196581</td><td>0.536723163841808</td><td>0.719298245614035</td><td>0.43859649122807 </td><td>0.4              </td><td>0.583333333333333</td></tr>\n",
       "\t<tr><th scope=row>5</th><td>57.8234004385091 </td><td>49.548946663586  </td><td>66.0978542134322 </td><td>0.532467532467532</td><td>0.53757225433526 </td><td>0.517241379310345</td><td>0.55             </td><td>0.571428571428571</td><td>0.454545454545455</td></tr>\n",
       "\t<tr><th scope=row>6</th><td>56.4842578710645 </td><td>48.2127297602068 </td><td>64.7557859819221 </td><td>0.59504132231405 </td><td>0.630434782608696</td><td>0.482758620689655</td><td>0.571428571428571</td><td>0.605263157894737</td><td>0.454545454545455</td></tr>\n",
       "</tbody>\n",
       "</table>\n"
      ],
      "text/latex": [
       "\\begin{tabular}{r|lllllllll}\n",
       "  & auc\\_4folds & ci1\\_4folds & ci2\\_4folds & acc\\_4folds & sens\\_4folds & spec\\_4folds & acc\\_CV & sens\\_CV & spec\\_CV\\\\\n",
       "\\hline\n",
       "\t2 & 60.2390394359991  & 51.8192344497251  & 68.6588444222731  & 0.620087336244541 & 0.696629213483146 & 0.352941176470588 & 0.467741935483871 & 0.477272727272727 & 0.444444444444444\\\\\n",
       "\t3 & 61.6477272727273  & 53.2891758044465  & 70.006278741008   & 0.62280701754386  & 0.664772727272727 & 0.480769230769231 & 0.587301587301587 & 0.717391304347826 & 0.235294117647059\\\\\n",
       "\t4 & 59.9316086827238  & 51.9019757033382  & 67.9612416621093  & 0.581196581196581 & 0.536723163841808 & 0.719298245614035 & 0.43859649122807  & 0.4               & 0.583333333333333\\\\\n",
       "\t5 & 57.8234004385091  & 49.548946663586   & 66.0978542134322  & 0.532467532467532 & 0.53757225433526  & 0.517241379310345 & 0.55              & 0.571428571428571 & 0.454545454545455\\\\\n",
       "\t6 & 56.4842578710645  & 48.2127297602068  & 64.7557859819221  & 0.59504132231405  & 0.630434782608696 & 0.482758620689655 & 0.571428571428571 & 0.605263157894737 & 0.454545454545455\\\\\n",
       "\\end{tabular}\n"
      ],
      "text/markdown": [
       "\n",
       "| <!--/--> | auc_4folds | ci1_4folds | ci2_4folds | acc_4folds | sens_4folds | spec_4folds | acc_CV | sens_CV | spec_CV | \n",
       "|---|---|---|---|---|\n",
       "| 2 | 60.2390394359991  | 51.8192344497251  | 68.6588444222731  | 0.620087336244541 | 0.696629213483146 | 0.352941176470588 | 0.467741935483871 | 0.477272727272727 | 0.444444444444444 | \n",
       "| 3 | 61.6477272727273  | 53.2891758044465  | 70.006278741008   | 0.62280701754386  | 0.664772727272727 | 0.480769230769231 | 0.587301587301587 | 0.717391304347826 | 0.235294117647059 | \n",
       "| 4 | 59.9316086827238  | 51.9019757033382  | 67.9612416621093  | 0.581196581196581 | 0.536723163841808 | 0.719298245614035 | 0.43859649122807  | 0.4               | 0.583333333333333 | \n",
       "| 5 | 57.8234004385091  | 49.548946663586   | 66.0978542134322  | 0.532467532467532 | 0.53757225433526  | 0.517241379310345 | 0.55              | 0.571428571428571 | 0.454545454545455 | \n",
       "| 6 | 56.4842578710645  | 48.2127297602068  | 64.7557859819221  | 0.59504132231405  | 0.630434782608696 | 0.482758620689655 | 0.571428571428571 | 0.605263157894737 | 0.454545454545455 | \n",
       "\n",
       "\n"
      ],
      "text/plain": [
       "  auc_4folds       ci1_4folds       ci2_4folds       acc_4folds       \n",
       "2 60.2390394359991 51.8192344497251 68.6588444222731 0.620087336244541\n",
       "3 61.6477272727273 53.2891758044465 70.006278741008  0.62280701754386 \n",
       "4 59.9316086827238 51.9019757033382 67.9612416621093 0.581196581196581\n",
       "5 57.8234004385091 49.548946663586  66.0978542134322 0.532467532467532\n",
       "6 56.4842578710645 48.2127297602068 64.7557859819221 0.59504132231405 \n",
       "  sens_4folds       spec_4folds       acc_CV            sens_CV          \n",
       "2 0.696629213483146 0.352941176470588 0.467741935483871 0.477272727272727\n",
       "3 0.664772727272727 0.480769230769231 0.587301587301587 0.717391304347826\n",
       "4 0.536723163841808 0.719298245614035 0.43859649122807  0.4              \n",
       "5 0.53757225433526  0.517241379310345 0.55              0.571428571428571\n",
       "6 0.630434782608696 0.482758620689655 0.571428571428571 0.605263157894737\n",
       "  spec_CV          \n",
       "2 0.444444444444444\n",
       "3 0.235294117647059\n",
       "4 0.583333333333333\n",
       "5 0.454545454545455\n",
       "6 0.454545454545455"
      ]
     },
     "metadata": {},
     "output_type": "display_data"
    }
   ],
   "source": [
    "scores_lr_onlyImportant"
   ]
  },
  {
   "cell_type": "code",
   "execution_count": 54,
   "metadata": {
    "collapsed": true
   },
   "outputs": [],
   "source": [
    "scores_lr_onlyImportant = apply(scores_lr_onlyImportant , c(1,2), as.numeric)"
   ]
  },
  {
   "cell_type": "code",
   "execution_count": 55,
   "metadata": {},
   "outputs": [
    {
     "data": {
      "text/html": [
       "<table>\n",
       "<thead><tr><th></th><th scope=col>mean</th><th scope=col>med</th><th scope=col>sd</th></tr></thead>\n",
       "<tbody>\n",
       "\t<tr><th scope=row>auc_4folds</th><td>59.2252067</td><td>59.9316087</td><td>2.05385782</td></tr>\n",
       "\t<tr><th scope=row>ci1_4folds</th><td>50.9544125</td><td>51.8192344</td><td>2.03648417</td></tr>\n",
       "\t<tr><th scope=row>ci2_4folds</th><td>67.4960010</td><td>67.9612417</td><td>2.08169047</td></tr>\n",
       "\t<tr><th scope=row>acc_4folds</th><td> 0.5903200</td><td> 0.5950413</td><td>0.03672171</td></tr>\n",
       "\t<tr><th scope=row>sens_4folds</th><td> 0.6132264</td><td> 0.6304348</td><td>0.07328962</td></tr>\n",
       "\t<tr><th scope=row>spec_4folds</th><td> 0.5106017</td><td> 0.4827586</td><td>0.13240127</td></tr>\n",
       "\t<tr><th scope=row>acc_CV</th><td> 0.5230137</td><td> 0.5500000</td><td>0.06592880</td></tr>\n",
       "\t<tr><th scope=row>sens_CV</th><td> 0.5542712</td><td> 0.5714286</td><td>0.12168719</td></tr>\n",
       "\t<tr><th scope=row>spec_CV</th><td> 0.4344326</td><td> 0.4545455</td><td>0.12523663</td></tr>\n",
       "</tbody>\n",
       "</table>\n"
      ],
      "text/latex": [
       "\\begin{tabular}{r|lll}\n",
       "  & mean & med & sd\\\\\n",
       "\\hline\n",
       "\tauc\\_4folds & 59.2252067 & 59.9316087 & 2.05385782\\\\\n",
       "\tci1\\_4folds & 50.9544125 & 51.8192344 & 2.03648417\\\\\n",
       "\tci2\\_4folds & 67.4960010 & 67.9612417 & 2.08169047\\\\\n",
       "\tacc\\_4folds &  0.5903200 &  0.5950413 & 0.03672171\\\\\n",
       "\tsens\\_4folds &  0.6132264 &  0.6304348 & 0.07328962\\\\\n",
       "\tspec\\_4folds &  0.5106017 &  0.4827586 & 0.13240127\\\\\n",
       "\tacc\\_CV &  0.5230137 &  0.5500000 & 0.06592880\\\\\n",
       "\tsens\\_CV &  0.5542712 &  0.5714286 & 0.12168719\\\\\n",
       "\tspec\\_CV &  0.4344326 &  0.4545455 & 0.12523663\\\\\n",
       "\\end{tabular}\n"
      ],
      "text/markdown": [
       "\n",
       "| <!--/--> | mean | med | sd | \n",
       "|---|---|---|---|---|---|---|---|---|\n",
       "| auc_4folds | 59.2252067 | 59.9316087 | 2.05385782 | \n",
       "| ci1_4folds | 50.9544125 | 51.8192344 | 2.03648417 | \n",
       "| ci2_4folds | 67.4960010 | 67.9612417 | 2.08169047 | \n",
       "| acc_4folds |  0.5903200 |  0.5950413 | 0.03672171 | \n",
       "| sens_4folds |  0.6132264 |  0.6304348 | 0.07328962 | \n",
       "| spec_4folds |  0.5106017 |  0.4827586 | 0.13240127 | \n",
       "| acc_CV |  0.5230137 |  0.5500000 | 0.06592880 | \n",
       "| sens_CV |  0.5542712 |  0.5714286 | 0.12168719 | \n",
       "| spec_CV |  0.4344326 |  0.4545455 | 0.12523663 | \n",
       "\n",
       "\n"
      ],
      "text/plain": [
       "            mean       med        sd        \n",
       "auc_4folds  59.2252067 59.9316087 2.05385782\n",
       "ci1_4folds  50.9544125 51.8192344 2.03648417\n",
       "ci2_4folds  67.4960010 67.9612417 2.08169047\n",
       "acc_4folds   0.5903200  0.5950413 0.03672171\n",
       "sens_4folds  0.6132264  0.6304348 0.07328962\n",
       "spec_4folds  0.5106017  0.4827586 0.13240127\n",
       "acc_CV       0.5230137  0.5500000 0.06592880\n",
       "sens_CV      0.5542712  0.5714286 0.12168719\n",
       "spec_CV      0.4344326  0.4545455 0.12523663"
      ]
     },
     "metadata": {},
     "output_type": "display_data"
    }
   ],
   "source": [
    "data.frame(mean = apply(scores_lr_onlyImportant , 2, mean), med = apply(scores_lr_onlyImportant , 2, median), sd = apply(scores_lr_onlyImportant, 2, sd))\n",
    "\n"
   ]
  },
  {
   "cell_type": "markdown",
   "metadata": {},
   "source": [
    "## here I'm doing LR broken down into CEL vs NEL\n"
   ]
  },
  {
   "cell_type": "code",
   "execution_count": 56,
   "metadata": {},
   "outputs": [
    {
     "name": "stdout",
     "output_type": "stream",
     "text": [
      "\n",
      "Call:\n",
      "glm(formula = lr_formula, family = binomial, data = data_thresh)\n",
      "\n",
      "Deviance Residuals: \n",
      "    Min       1Q   Median       3Q      Max  \n",
      "-1.0136  -0.7909  -0.5632  -0.5074   2.1156  \n",
      "\n",
      "Coefficients:\n",
      "             Estimate Std. Error z value Pr(>|z|)    \n",
      "(Intercept) -1.830660   0.373617  -4.900 9.59e-07 ***\n",
      "cbvn_nlin    0.002173   0.223125   0.010   0.9922    \n",
      "cni          0.252734   0.139393   1.813   0.0698 .  \n",
      "---\n",
      "Signif. codes:  0 ‘***’ 0.001 ‘**’ 0.01 ‘*’ 0.05 ‘.’ 0.1 ‘ ’ 1\n",
      "\n",
      "(Dispersion parameter for binomial family taken to be 1)\n",
      "\n",
      "    Null deviance: 129.20  on 127  degrees of freedom\n",
      "Residual deviance: 125.56  on 125  degrees of freedom\n",
      "AIC: 131.56\n",
      "\n",
      "Number of Fisher Scoring iterations: 4\n",
      "\n",
      "\n",
      "Call:\n",
      "plot.roc.default(x = data_thresh$outcome, predictor = fit.probs.data_thresh,     levels = c(\"rHGG\", \"txe\"), percent = TRUE, col = \"#1c61b6\",     main = paste(\"ROC curve of LR #\", fold, \"in all samples\"))\n",
      "\n",
      "Data: fit.probs.data_thresh in 102 controls (data_thresh$outcome rHGG) < 26 cases (data_thresh$outcome txe).\n",
      "Area under the curve: 62.39%\n",
      "\n",
      "Call:\n",
      "glm(formula = lr_formula, family = binomial, data = data_thresh)\n",
      "\n",
      "Deviance Residuals: \n",
      "    Min       1Q   Median       3Q      Max  \n",
      "-0.7907  -0.7081  -0.5967  -0.5785   1.9347  \n",
      "\n",
      "Coefficients:\n",
      "            Estimate Std. Error z value Pr(>|z|)    \n",
      "(Intercept) -1.29316    0.32676  -3.958 7.57e-05 ***\n",
      "cbvn_nlin   -0.24078    0.22617  -1.065    0.287    \n",
      "cni          0.02147    0.15533   0.138    0.890    \n",
      "---\n",
      "Signif. codes:  0 ‘***’ 0.001 ‘**’ 0.01 ‘*’ 0.05 ‘.’ 0.1 ‘ ’ 1\n",
      "\n",
      "(Dispersion parameter for binomial family taken to be 1)\n",
      "\n",
      "    Null deviance: 120.98  on 121  degrees of freedom\n",
      "Residual deviance: 119.81  on 119  degrees of freedom\n",
      "AIC: 125.81\n",
      "\n",
      "Number of Fisher Scoring iterations: 4\n",
      "\n"
     ]
    },
    {
     "data": {
      "image/png": "[encoded data removed]",
      "text/plain": [
       "Plot with title “ROC curve of LR # 1 in all samples”"
      ]
     },
     "metadata": {},
     "output_type": "display_data"
    },
    {
     "name": "stdout",
     "output_type": "stream",
     "text": [
      "\n",
      "Call:\n",
      "plot.roc.default(x = data_thresh$outcome, predictor = fit.probs.data_thresh,     levels = c(\"rHGG\", \"txe\"), percent = TRUE, col = \"#1c61b6\",     main = paste(\"ROC curve of LR #\", fold, \"in all samples\"))\n",
      "\n",
      "Data: fit.probs.data_thresh in 98 controls (data_thresh$outcome rHGG) < 24 cases (data_thresh$outcome txe).\n",
      "Area under the curve: 55.55%\n",
      "\n",
      "Call:\n",
      "glm(formula = lr_formula, family = binomial, data = data_thresh)\n",
      "\n",
      "Deviance Residuals: \n",
      "    Min       1Q   Median       3Q      Max  \n",
      "-0.9551  -0.7619  -0.6290  -0.5247   2.0838  \n",
      "\n",
      "Coefficients:\n",
      "            Estimate Std. Error z value Pr(>|z|)    \n",
      "(Intercept)  -1.6954     0.3593  -4.718 2.38e-06 ***\n",
      "cbvn_nlin     0.1477     0.2084   0.709    0.478    \n",
      "cni           0.2087     0.1397   1.494    0.135    \n",
      "---\n",
      "Signif. codes:  0 ‘***’ 0.001 ‘**’ 0.01 ‘*’ 0.05 ‘.’ 0.1 ‘ ’ 1\n",
      "\n",
      "(Dispersion parameter for binomial family taken to be 1)\n",
      "\n",
      "    Null deviance: 140.98  on 130  degrees of freedom\n",
      "Residual deviance: 137.55  on 128  degrees of freedom\n",
      "AIC: 143.55\n",
      "\n",
      "Number of Fisher Scoring iterations: 4\n",
      "\n"
     ]
    },
    {
     "data": {
      "image/png": "[encoded data removed]",
      "text/plain": [
       "Plot with title “ROC curve of LR # 2 in all samples”"
      ]
     },
     "metadata": {},
     "output_type": "display_data"
    },
    {
     "name": "stdout",
     "output_type": "stream",
     "text": [
      "\n",
      "Call:\n",
      "plot.roc.default(x = data_thresh$outcome, predictor = fit.probs.data_thresh,     levels = c(\"rHGG\", \"txe\"), percent = TRUE, col = \"#1c61b6\",     main = paste(\"ROC curve of LR #\", fold, \"in all samples\"))\n",
      "\n",
      "Data: fit.probs.data_thresh in 101 controls (data_thresh$outcome rHGG) < 30 cases (data_thresh$outcome txe).\n",
      "Area under the curve: 61.5%\n",
      "\n",
      "Call:\n",
      "glm(formula = lr_formula, family = binomial, data = data_thresh)\n",
      "\n",
      "Deviance Residuals: \n",
      "    Min       1Q   Median       3Q      Max  \n",
      "-0.9108  -0.7720  -0.6484  -0.5977   1.9331  \n",
      "\n",
      "Coefficients:\n",
      "            Estimate Std. Error z value Pr(>|z|)    \n",
      "(Intercept) -1.53101    0.34979  -4.377  1.2e-05 ***\n",
      "cbvn_nlin    0.03587    0.19714   0.182    0.856    \n",
      "cni          0.14144    0.12595   1.123    0.261    \n",
      "---\n",
      "Signif. codes:  0 ‘***’ 0.001 ‘**’ 0.01 ‘*’ 0.05 ‘.’ 0.1 ‘ ’ 1\n",
      "\n",
      "(Dispersion parameter for binomial family taken to be 1)\n",
      "\n",
      "    Null deviance: 137.49  on 128  degrees of freedom\n",
      "Residual deviance: 136.11  on 126  degrees of freedom\n",
      "AIC: 142.11\n",
      "\n",
      "Number of Fisher Scoring iterations: 4\n",
      "\n"
     ]
    },
    {
     "data": {
      "image/png": "[encoded data removed]",
      "text/plain": [
       "Plot with title “ROC curve of LR # 3 in all samples”"
      ]
     },
     "metadata": {},
     "output_type": "display_data"
    },
    {
     "name": "stdout",
     "output_type": "stream",
     "text": [
      "\n",
      "Call:\n",
      "plot.roc.default(x = data_thresh$outcome, predictor = fit.probs.data_thresh,     levels = c(\"rHGG\", \"txe\"), percent = TRUE, col = \"#1c61b6\",     main = paste(\"ROC curve of LR #\", fold, \"in all samples\"))\n",
      "\n",
      "Data: fit.probs.data_thresh in 100 controls (data_thresh$outcome rHGG) < 29 cases (data_thresh$outcome txe).\n",
      "Area under the curve: 58.12%\n",
      "\n",
      "Call:\n",
      "glm(formula = lr_formula, family = binomial, data = data_thresh)\n",
      "\n",
      "Deviance Residuals: \n",
      "    Min       1Q   Median       3Q      Max  \n",
      "-0.9128  -0.7746  -0.6454  -0.5804   1.9218  \n",
      "\n",
      "Coefficients:\n",
      "            Estimate Std. Error z value Pr(>|z|)    \n",
      "(Intercept) -1.51413    0.34565  -4.381 1.18e-05 ***\n",
      "cbvn_nlin   -0.02062    0.20134  -0.102    0.918    \n",
      "cni          0.16408    0.13624   1.204    0.228    \n",
      "---\n",
      "Signif. codes:  0 ‘***’ 0.001 ‘**’ 0.01 ‘*’ 0.05 ‘.’ 0.1 ‘ ’ 1\n",
      "\n",
      "(Dispersion parameter for binomial family taken to be 1)\n",
      "\n",
      "    Null deviance: 147.03  on 137  degrees of freedom\n",
      "Residual deviance: 145.53  on 135  degrees of freedom\n",
      "AIC: 151.53\n",
      "\n",
      "Number of Fisher Scoring iterations: 4\n",
      "\n"
     ]
    },
    {
     "data": {
      "image/png": "[encoded data removed]",
      "text/plain": [
       "Plot with title “ROC curve of LR # 4 in all samples”"
      ]
     },
     "metadata": {},
     "output_type": "display_data"
    },
    {
     "name": "stdout",
     "output_type": "stream",
     "text": [
      "\n",
      "Call:\n",
      "plot.roc.default(x = data_thresh$outcome, predictor = fit.probs.data_thresh,     levels = c(\"rHGG\", \"txe\"), percent = TRUE, col = \"#1c61b6\",     main = paste(\"ROC curve of LR #\", fold, \"in all samples\"))\n",
      "\n",
      "Data: fit.probs.data_thresh in 107 controls (data_thresh$outcome rHGG) < 31 cases (data_thresh$outcome txe).\n",
      "Area under the curve: 54.91%\n"
     ]
    },
    {
     "data": {
      "image/png": "[encoded data removed]",
      "text/plain": [
       "Plot with title “ROC curve of LR # 5 in all samples”"
      ]
     },
     "metadata": {},
     "output_type": "display_data"
    }
   ],
   "source": [
    "scores_lr_CEL  = data.frame(\n",
    "                        folds = NA, \n",
    "                        features = NA, \n",
    "                        auc_4folds = NA,\n",
    "                        acc_4folds = NA,\n",
    "                        sens_4folds = NA, \n",
    "                        spec_4folds = NA, \n",
    "                        acc_CV = NA,\n",
    "                        sens_CV = NA, \n",
    "                        spec_CV = NA\n",
    "                       )\n",
    "\n",
    "for (fold in c(1:5)){\n",
    "    ## divide data \n",
    "    data_cel = data[which(data$in_CEL == 1),]\n",
    "    data_thresh = data_cel[which(data_cel$fold != fold),]\n",
    "    data_pred = data_cel[which(data_cel$fold == fold),]\n",
    "    \n",
    "    ## cycle through cols to normalize: \n",
    "    for (col in features_mri){        \n",
    "        ## standardization: \n",
    "        med_col = median(data_thresh[,col], na.rm = T)\n",
    "        sd_col = sd(data_thresh[,col], na.rm = T)\n",
    "        \n",
    "        data_thresh[,col] = (data_thresh[,col]-med_col)/sd_col\n",
    "        data_pred[,col] = (data_pred[,col]-med_col)/sd_col\n",
    "\n",
    "        ##missing value filling: \n",
    "        data_thresh[,col] = ifelse(is.na(data_thresh[,col]), med_col, data_thresh[,col])\n",
    "        data_pred[,col] = ifelse(is.na(data_pred[,col]), med_col, data_pred[,col])\n",
    "    }\n",
    "    \n",
    "    ## create logReg for fold: \n",
    "    outcome = \"outcome\"\n",
    "    features = c('cbvn_nlin',\n",
    "                 'cni')\n",
    "    features.addsign <- paste(features, collapse = \"+\")\n",
    "    lr_formula = as.formula(paste(outcome, features.addsign, sep = \"~\"))\n",
    "    lr.fit = glm(lr_formula, data = data_thresh, family = binomial)\n",
    "    print(summary(lr.fit))\n",
    "    ## predict on training data: (4folds)\n",
    "    fit.probs.data_thresh = predict(lr.fit, data_thresh, family = binomial, type = \"response\")\n",
    "    fit.preds.data_thresh = as.factor(ifelse(fit.probs.data_thresh > 0.25, \"txe\", 'rHGG'))\n",
    "    print(plot.roc(data_thresh$outcome, fit.probs.data_thresh, levels=c(\"rHGG\", \"txe\"), \n",
    "          percent = TRUE, col = \"#1c61b6\", main = paste(\"ROC curve of LR #\", fold, \"in all samples\")))\n",
    "    auc = auc(roc(data_thresh$outcome, fit.probs.data_thresh, levels=c(\"txe\", \"rHGG\"), \n",
    "          percent = TRUE))\n",
    "    \n",
    "    acc =  confusionMatrix(data = fit.preds.data_thresh, reference = data_thresh$outcome)$overall['Accuracy']\n",
    "    sens = confusionMatrix(data = fit.preds.data_thresh, reference = data_thresh$outcome)$byClass['Sensitivity']\n",
    "    spec = confusionMatrix(data = fit.preds.data_thresh, reference = data_thresh$outcome)$byClass['Specificity']\n",
    "    \n",
    "    ## predict on test   data: (5th fold)\n",
    "    fit.probs.data_pred = predict(lr.fit, data_pred, family = binomial, type = \"response\")\n",
    "\n",
    "    thresh = 0.25\n",
    "    fit.preds.data_pred = as.factor(ifelse(fit.probs.data_pred > thresh, \"txe\", 'rHGG'))\n",
    "\n",
    "    ## save the coefficients & p-values\n",
    "\n",
    "    acc_5 =  confusionMatrix(data = fit.preds.data_pred, reference = data_pred$outcome)$overall['Accuracy']\n",
    "    sens_5 = confusionMatrix(data = fit.preds.data_pred, reference = data_pred$outcome)$byClass['Sensitivity']\n",
    "    spec_5 = confusionMatrix(data = fit.preds.data_pred, reference = data_pred$outcome)$byClass['Specificity']\n",
    "\n",
    "    SAVE_FOLD = c(fold, features.addsign, auc, acc, sens, spec, acc_5, sens_5, spec_5)\n",
    "    scores_lr_CEL = rbind(scores_lr_CEL, SAVE_FOLD)\n",
    "    \n",
    "}\n",
    "\n",
    "\n",
    "\n"
   ]
  },
  {
   "cell_type": "code",
   "execution_count": 57,
   "metadata": {},
   "outputs": [
    {
     "data": {
      "text/html": [
       "<table>\n",
       "<thead><tr><th></th><th scope=col>auc_4folds</th><th scope=col>acc_4folds</th><th scope=col>sens_4folds</th><th scope=col>spec_4folds</th><th scope=col>acc_CV</th><th scope=col>sens_CV</th><th scope=col>spec_CV</th></tr></thead>\n",
       "<tbody>\n",
       "\t<tr><th scope=row>2</th><td>62.3868778280543 </td><td>0.59375          </td><td>0.57843137254902 </td><td>0.653846153846154</td><td>0.411764705882353</td><td>0.36             </td><td>0.555555555555556</td></tr>\n",
       "\t<tr><th scope=row>3</th><td>55.5484693877551 </td><td>0.754098360655738</td><td>0.908163265306122</td><td>0.125            </td><td>0.675            </td><td>0.931034482758621</td><td>0                </td></tr>\n",
       "\t<tr><th scope=row>4</th><td>61.5016501650165 </td><td>0.66412213740458 </td><td>0.663366336633663</td><td>0.666666666666667</td><td>0.419354838709677</td><td>0.5              </td><td>0                </td></tr>\n",
       "\t<tr><th scope=row>5</th><td>58.1206896551724 </td><td>0.542635658914729</td><td>0.53             </td><td>0.586206896551724</td><td>0.606060606060606</td><td>0.592592592592593</td><td>0.666666666666667</td></tr>\n",
       "\t<tr><th scope=row>6</th><td>54.9140789870365 </td><td>0.536231884057971</td><td>0.504672897196262</td><td>0.645161290322581</td><td>0.625            </td><td>0.65             </td><td>0.5              </td></tr>\n",
       "</tbody>\n",
       "</table>\n"
      ],
      "text/latex": [
       "\\begin{tabular}{r|lllllll}\n",
       "  & auc\\_4folds & acc\\_4folds & sens\\_4folds & spec\\_4folds & acc\\_CV & sens\\_CV & spec\\_CV\\\\\n",
       "\\hline\n",
       "\t2 & 62.3868778280543  & 0.59375           & 0.57843137254902  & 0.653846153846154 & 0.411764705882353 & 0.36              & 0.555555555555556\\\\\n",
       "\t3 & 55.5484693877551  & 0.754098360655738 & 0.908163265306122 & 0.125             & 0.675             & 0.931034482758621 & 0                \\\\\n",
       "\t4 & 61.5016501650165  & 0.66412213740458  & 0.663366336633663 & 0.666666666666667 & 0.419354838709677 & 0.5               & 0                \\\\\n",
       "\t5 & 58.1206896551724  & 0.542635658914729 & 0.53              & 0.586206896551724 & 0.606060606060606 & 0.592592592592593 & 0.666666666666667\\\\\n",
       "\t6 & 54.9140789870365  & 0.536231884057971 & 0.504672897196262 & 0.645161290322581 & 0.625             & 0.65              & 0.5              \\\\\n",
       "\\end{tabular}\n"
      ],
      "text/markdown": [
       "\n",
       "| <!--/--> | auc_4folds | acc_4folds | sens_4folds | spec_4folds | acc_CV | sens_CV | spec_CV | \n",
       "|---|---|---|---|---|\n",
       "| 2 | 62.3868778280543  | 0.59375           | 0.57843137254902  | 0.653846153846154 | 0.411764705882353 | 0.36              | 0.555555555555556 | \n",
       "| 3 | 55.5484693877551  | 0.754098360655738 | 0.908163265306122 | 0.125             | 0.675             | 0.931034482758621 | 0                 | \n",
       "| 4 | 61.5016501650165  | 0.66412213740458  | 0.663366336633663 | 0.666666666666667 | 0.419354838709677 | 0.5               | 0                 | \n",
       "| 5 | 58.1206896551724  | 0.542635658914729 | 0.53              | 0.586206896551724 | 0.606060606060606 | 0.592592592592593 | 0.666666666666667 | \n",
       "| 6 | 54.9140789870365  | 0.536231884057971 | 0.504672897196262 | 0.645161290322581 | 0.625             | 0.65              | 0.5               | \n",
       "\n",
       "\n"
      ],
      "text/plain": [
       "  auc_4folds       acc_4folds        sens_4folds       spec_4folds      \n",
       "2 62.3868778280543 0.59375           0.57843137254902  0.653846153846154\n",
       "3 55.5484693877551 0.754098360655738 0.908163265306122 0.125            \n",
       "4 61.5016501650165 0.66412213740458  0.663366336633663 0.666666666666667\n",
       "5 58.1206896551724 0.542635658914729 0.53              0.586206896551724\n",
       "6 54.9140789870365 0.536231884057971 0.504672897196262 0.645161290322581\n",
       "  acc_CV            sens_CV           spec_CV          \n",
       "2 0.411764705882353 0.36              0.555555555555556\n",
       "3 0.675             0.931034482758621 0                \n",
       "4 0.419354838709677 0.5               0                \n",
       "5 0.606060606060606 0.592592592592593 0.666666666666667\n",
       "6 0.625             0.65              0.5              "
      ]
     },
     "metadata": {},
     "output_type": "display_data"
    },
    {
     "data": {
      "text/html": [
       "<table>\n",
       "<thead><tr><th></th><th scope=col>mean</th><th scope=col>med</th><th scope=col>sd</th></tr></thead>\n",
       "<tbody>\n",
       "\t<tr><th scope=row>auc_4folds</th><td>58.4943532</td><td>58.1206897</td><td>3.38495947</td></tr>\n",
       "\t<tr><th scope=row>acc_4folds</th><td> 0.6181676</td><td> 0.5937500</td><td>0.09165662</td></tr>\n",
       "\t<tr><th scope=row>sens_4folds</th><td> 0.6369268</td><td> 0.5784314</td><td>0.16325932</td></tr>\n",
       "\t<tr><th scope=row>spec_4folds</th><td> 0.5353762</td><td> 0.6451613</td><td>0.23147217</td></tr>\n",
       "\t<tr><th scope=row>acc_CV</th><td> 0.5474360</td><td> 0.6060606</td><td>0.12302142</td></tr>\n",
       "\t<tr><th scope=row>sens_CV</th><td> 0.6067254</td><td> 0.5925926</td><td>0.21184460</td></tr>\n",
       "\t<tr><th scope=row>spec_CV</th><td> 0.3444444</td><td> 0.5000000</td><td>0.32010801</td></tr>\n",
       "</tbody>\n",
       "</table>\n"
      ],
      "text/latex": [
       "\\begin{tabular}{r|lll}\n",
       "  & mean & med & sd\\\\\n",
       "\\hline\n",
       "\tauc\\_4folds & 58.4943532 & 58.1206897 & 3.38495947\\\\\n",
       "\tacc\\_4folds &  0.6181676 &  0.5937500 & 0.09165662\\\\\n",
       "\tsens\\_4folds &  0.6369268 &  0.5784314 & 0.16325932\\\\\n",
       "\tspec\\_4folds &  0.5353762 &  0.6451613 & 0.23147217\\\\\n",
       "\tacc\\_CV &  0.5474360 &  0.6060606 & 0.12302142\\\\\n",
       "\tsens\\_CV &  0.6067254 &  0.5925926 & 0.21184460\\\\\n",
       "\tspec\\_CV &  0.3444444 &  0.5000000 & 0.32010801\\\\\n",
       "\\end{tabular}\n"
      ],
      "text/markdown": [
       "\n",
       "| <!--/--> | mean | med | sd | \n",
       "|---|---|---|---|---|---|---|\n",
       "| auc_4folds | 58.4943532 | 58.1206897 | 3.38495947 | \n",
       "| acc_4folds |  0.6181676 |  0.5937500 | 0.09165662 | \n",
       "| sens_4folds |  0.6369268 |  0.5784314 | 0.16325932 | \n",
       "| spec_4folds |  0.5353762 |  0.6451613 | 0.23147217 | \n",
       "| acc_CV |  0.5474360 |  0.6060606 | 0.12302142 | \n",
       "| sens_CV |  0.6067254 |  0.5925926 | 0.21184460 | \n",
       "| spec_CV |  0.3444444 |  0.5000000 | 0.32010801 | \n",
       "\n",
       "\n"
      ],
      "text/plain": [
       "            mean       med        sd        \n",
       "auc_4folds  58.4943532 58.1206897 3.38495947\n",
       "acc_4folds   0.6181676  0.5937500 0.09165662\n",
       "sens_4folds  0.6369268  0.5784314 0.16325932\n",
       "spec_4folds  0.5353762  0.6451613 0.23147217\n",
       "acc_CV       0.5474360  0.6060606 0.12302142\n",
       "sens_CV      0.6067254  0.5925926 0.21184460\n",
       "spec_CV      0.3444444  0.5000000 0.32010801"
      ]
     },
     "metadata": {},
     "output_type": "display_data"
    }
   ],
   "source": [
    "scores_lr_CEL = scores_lr_CEL[-1,-c(1,2)]\n",
    "\n",
    "scores_lr_CEL\n",
    "\n",
    "scores_lr_CEL = apply(scores_lr_CEL , c(1,2), as.numeric)\n",
    "\n",
    "data.frame(mean = apply(scores_lr_CEL , 2, mean), med = apply(scores_lr_CEL , 2, median), sd = apply(scores_lr_CEL, 2, sd))\n",
    "\n"
   ]
  },
  {
   "cell_type": "markdown",
   "metadata": {},
   "source": [
    "## random forest\n"
   ]
  },
  {
   "cell_type": "code",
   "execution_count": 58,
   "metadata": {
    "collapsed": true
   },
   "outputs": [],
   "source": [
    "scores_rf  = data.frame(folds = NA, \n",
    "                        auc_4folds = NA,\n",
    "                        acc_4folds = NA,\n",
    "                        sens_4folds = NA, \n",
    "                        spec_4folds = NA, \n",
    "                        acc_CV = NA,\n",
    "                        sens_CV = NA, \n",
    "                        spec_CV = NA\n",
    "                       )"
   ]
  },
  {
   "cell_type": "code",
   "execution_count": 59,
   "metadata": {
    "collapsed": true
   },
   "outputs": [],
   "source": [
    "## let's extract confusion matrix and put that in a data frame: \n",
    "outcome_exp_template = data.frame(folds = NA,\n",
    "tr_txe_pct = NA, \n",
    "cv_txe_pct = NA, \n",
    "tr_outtxe_predtxe = NA, \n",
    "tr_outtxe_predrHGG = NA, \n",
    "tr_outrHGG_predtxe = NA, \n",
    "tr_outrHGG_predrHGG = NA, \n",
    "cv_outtxe_predtxe = NA, \n",
    "cv_outtxe_predrHGG = NA, \n",
    "cv_outrHGG_predtxe = NA, \n",
    "cv_outrHGG_predrHGG = NA, \n",
    "varImp_in_CEL = NA, \n",
    "varImp_cbvn_nlin = NA, \n",
    "varImp_recov_npar = NA, \n",
    "varImp_ccri = NA, \n",
    "varImp_cni = NA, \n",
    "varImp_ncho = NA, \n",
    "varImp_ncre = NA, \n",
    "varImp_nnaa = NA, \n",
    "varImp_nfa.1 = NA, \n",
    "varImp_nadc.1 = NA, \n",
    "varImp_hasDiffu = NA, \n",
    "varImp_hasPerf = NA, \n",
    "varImp_hasSpec = NA)"
   ]
  },
  {
   "cell_type": "code",
   "execution_count": 60,
   "metadata": {
    "collapsed": true
   },
   "outputs": [],
   "source": [
    "scores_rf = outcome_exp_template"
   ]
  },
  {
   "cell_type": "code",
   "execution_count": 61,
   "metadata": {
    "collapsed": true
   },
   "outputs": [],
   "source": [
    "## let's begin by running experiments for anatomic features only: \n",
    "## for each experiment, we'll run the random forest with a variety of parameters \n",
    "\n",
    "for (fold in c(1:5)){\n",
    "    set.seed(fold)\n",
    "    \n",
    "    ## define features and outcome: \n",
    "    outcome = \"outcome\"\n",
    "    features = c('in_CEL', 'cbvn_nlin',\n",
    "                 'ccri', 'cni', 'ncho', 'ncre', 'nnaa', 'nfa.1', 'nadc.1')\n",
    "    features.addsign <- paste(features, collapse = \"+\")\n",
    "    rf_formula = as.formula(paste(outcome, features.addsign, sep = \"~\"))\n",
    "    \n",
    "    ## define training and testing (from the training) basically for x-val: \n",
    "    \n",
    "    ## divide data \n",
    "    data_thresh = data[which(data$fold != fold),]\n",
    "    data_pred = data[which(data$fold == fold),]\n",
    "    \n",
    "    ## cycle through cols to normalize: \n",
    "    for (col in features_mri){        \n",
    "        ## standardization: \n",
    "        med_col = median(data_thresh[,col], na.rm = T)\n",
    "        sd_col = sd(data_thresh[,col], na.rm = T)\n",
    "        \n",
    "        data_thresh[,col] = (data_thresh[,col]-med_col)/sd_col\n",
    "        data_pred[,col] = (data_pred[,col]-med_col)/sd_col\n",
    "\n",
    "        ##missing value filling: \n",
    "        data_thresh[,col] = ifelse(is.na(data_thresh[,col]), med_col, data_thresh[,col])\n",
    "        data_pred[,col] = ifelse(is.na(data_pred[,col]), med_col, data_pred[,col])\n",
    "    }    \n",
    "    \n",
    "    rf_med = randomForest(formula = rf_formula, \n",
    "             data = data_thresh, mtry = 3, nodesize = 1)\n",
    "    importance_rf_med = importance(rf_med)\n",
    "    \n",
    "    thresh_med_preds    = predict(rf_med, data_thresh)\n",
    "    thresh_med_conf_mat = confusionMatrix(thresh_med_preds, data_thresh$outcome)\n",
    "    thresh_sens         = confusionMatrix(thresh_med_preds, data_thresh$outcome)$byClass['Sensitivity']\n",
    "    thresh_spec         = confusionMatrix(thresh_med_preds, data_thresh$outcome)$byClass['Specificity']\n",
    "    thresh_acc          = confusionMatrix(thresh_med_preds, data_thresh$outcome)$overall['Accuracy']\n",
    "    \n",
    "    cv_med_preds = predict(rf_med, data_pred)\n",
    "    cv_med_conf_mat = confusionMatrix(cv_med_preds, data_pred$outcome)\n",
    "    cv_sens         = confusionMatrix(cv_med_preds, data_pred$outcome)$byClass['Sensitivity']\n",
    "    cv_spec         = confusionMatrix(cv_med_preds, data_pred$outcome)$byClass['Specificity']\n",
    "    cv_acc          = confusionMatrix(cv_med_preds, data_pred$outcome)$overall['Accuracy']\n",
    "    \n",
    "    \n",
    "    tr_txe_pct = table(data_thresh$outcome)['txe']/sum(table(data_thresh$outcome)['txe'], table(data_thresh$outcome)['rHGG'])\n",
    "    cv_txe_pct = table(data_pred$outcome)['txe']/sum(table(data_pred$outcome)['txe'], table(data_pred$outcome)['rHGG'])\n",
    "\n",
    "    scores_rf[fold,'folds'] = fold\n",
    "    scores_rf[fold,'tr_txe_pct'] = tr_txe_pct\n",
    "    scores_rf[fold,'cv_txe_pct'] = cv_txe_pct\n",
    "    \n",
    "    scores_rf[fold,'tr_acc'] = thresh_acc\n",
    "    scores_rf[fold,'tr_sens'] = thresh_sens\n",
    "    scores_rf[fold,'tr_spec'] = thresh_spec\n",
    "    \n",
    "    scores_rf[fold,'tr_outtxe_predtxe'] = rf_med$confusion['txe', 'txe']\n",
    "    scores_rf[fold,'tr_outtxe_predrHGG'] = rf_med$confusion['txe', 'rHGG']\n",
    "    scores_rf[fold,'tr_outrHGG_predtxe'] = rf_med$confusion['rHGG', 'txe']\n",
    "    scores_rf[fold,'tr_outrHGG_predrHGG'] = rf_med$confusion['rHGG', 'rHGG']\n",
    "    \n",
    "    scores_rf[fold,'cv_acc'] = cv_acc\n",
    "    scores_rf[fold,'cv_sens'] = cv_sens\n",
    "    scores_rf[fold,'cv_spec'] = cv_spec\n",
    "    \n",
    "    scores_rf[fold,'cv_outtxe_predtxe'] = cv_med_conf_mat$table['txe', 'txe']\n",
    "    scores_rf[fold,'cv_outtxe_predrHGG'] = cv_med_conf_mat$table['txe', 'rHGG']\n",
    "    scores_rf[fold,'cv_outrHGG_predtxe'] = cv_med_conf_mat$table['rHGG', 'txe']\n",
    "    scores_rf[fold,'cv_outrHGG_predrHGG'] = cv_med_conf_mat$table['rHGG', 'rHGG']\n",
    "    \n",
    "    for (col in features){\n",
    "        varImp_col = paste('varImp_', col, sep = \"\")\n",
    "            scores_rf[fold, varImp_col] = importance_rf_med[col,]\n",
    "    }\n",
    "      \n",
    "    fold = fold + 1\n",
    "\n",
    "}"
   ]
  },
  {
   "cell_type": "code",
   "execution_count": 62,
   "metadata": {},
   "outputs": [
    {
     "data": {
      "text/html": [
       "<table>\n",
       "<thead><tr><th scope=col>folds</th><th scope=col>tr_txe_pct</th><th scope=col>cv_txe_pct</th><th scope=col>tr_outtxe_predtxe</th><th scope=col>tr_outtxe_predrHGG</th><th scope=col>tr_outrHGG_predtxe</th><th scope=col>tr_outrHGG_predrHGG</th><th scope=col>cv_outtxe_predtxe</th><th scope=col>cv_outtxe_predrHGG</th><th scope=col>cv_outrHGG_predtxe</th><th scope=col>⋯</th><th scope=col>varImp_nadc.1</th><th scope=col>varImp_hasDiffu</th><th scope=col>varImp_hasPerf</th><th scope=col>varImp_hasSpec</th><th scope=col>tr_acc</th><th scope=col>tr_sens</th><th scope=col>tr_spec</th><th scope=col>cv_acc</th><th scope=col>cv_sens</th><th scope=col>cv_spec</th></tr></thead>\n",
       "<tbody>\n",
       "\t<tr><td>1         </td><td>0.2227074 </td><td>0.2903226 </td><td>0         </td><td>51        </td><td> 8        </td><td>170       </td><td>1         </td><td>1         </td><td>17        </td><td>⋯         </td><td>13.90165  </td><td>NA        </td><td>NA        </td><td>NA        </td><td>0.9650655 </td><td>1         </td><td>0.8431373 </td><td>0.7096774 </td><td>0.9772727 </td><td>0.05555556</td></tr>\n",
       "\t<tr><td>2         </td><td>0.2280702 </td><td>0.2698413 </td><td>5         </td><td>47        </td><td> 9        </td><td>167       </td><td>0         </td><td>1         </td><td>17        </td><td>⋯         </td><td>15.22791  </td><td>NA        </td><td>NA        </td><td>NA        </td><td>0.9561404 </td><td>1         </td><td>0.8076923 </td><td>0.7142857 </td><td>0.9782609 </td><td>0.00000000</td></tr>\n",
       "\t<tr><td>3         </td><td>0.2435897 </td><td>0.2105263 </td><td>4         </td><td>53        </td><td>11        </td><td>166       </td><td>2         </td><td>5         </td><td>10        </td><td>⋯         </td><td>13.72572  </td><td>NA        </td><td>NA        </td><td>NA        </td><td>0.9529915 </td><td>1         </td><td>0.8070175 </td><td>0.7368421 </td><td>0.8888889 </td><td>0.16666667</td></tr>\n",
       "\t<tr><td>4         </td><td>0.2510823 </td><td>0.1833333 </td><td>2         </td><td>56        </td><td> 9        </td><td>164       </td><td>1         </td><td>0         </td><td>10        </td><td>⋯         </td><td>15.64224  </td><td>NA        </td><td>NA        </td><td>NA        </td><td>0.9610390 </td><td>1         </td><td>0.8448276 </td><td>0.8333333 </td><td>1.0000000 </td><td>0.09090909</td></tr>\n",
       "\t<tr><td>5         </td><td>0.2396694 </td><td>0.2244898 </td><td>4         </td><td>54        </td><td> 6        </td><td>178       </td><td>0         </td><td>4         </td><td>11        </td><td>⋯         </td><td>15.79375  </td><td>NA        </td><td>NA        </td><td>NA        </td><td>0.9504132 </td><td>1         </td><td>0.7931034 </td><td>0.6938776 </td><td>0.8947368 </td><td>0.00000000</td></tr>\n",
       "</tbody>\n",
       "</table>\n"
      ],
      "text/latex": [
       "\\begin{tabular}{r|llllllllllllllllllllllllllllll}\n",
       " folds & tr\\_txe\\_pct & cv\\_txe\\_pct & tr\\_outtxe\\_predtxe & tr\\_outtxe\\_predrHGG & tr\\_outrHGG\\_predtxe & tr\\_outrHGG\\_predrHGG & cv\\_outtxe\\_predtxe & cv\\_outtxe\\_predrHGG & cv\\_outrHGG\\_predtxe & ⋯ & varImp\\_nadc.1 & varImp\\_hasDiffu & varImp\\_hasPerf & varImp\\_hasSpec & tr\\_acc & tr\\_sens & tr\\_spec & cv\\_acc & cv\\_sens & cv\\_spec\\\\\n",
       "\\hline\n",
       "\t 1          & 0.2227074  & 0.2903226  & 0          & 51         &  8         & 170        & 1          & 1          & 17         & ⋯          & 13.90165   & NA         & NA         & NA         & 0.9650655  & 1          & 0.8431373  & 0.7096774  & 0.9772727  & 0.05555556\\\\\n",
       "\t 2          & 0.2280702  & 0.2698413  & 5          & 47         &  9         & 167        & 0          & 1          & 17         & ⋯          & 15.22791   & NA         & NA         & NA         & 0.9561404  & 1          & 0.8076923  & 0.7142857  & 0.9782609  & 0.00000000\\\\\n",
       "\t 3          & 0.2435897  & 0.2105263  & 4          & 53         & 11         & 166        & 2          & 5          & 10         & ⋯          & 13.72572   & NA         & NA         & NA         & 0.9529915  & 1          & 0.8070175  & 0.7368421  & 0.8888889  & 0.16666667\\\\\n",
       "\t 4          & 0.2510823  & 0.1833333  & 2          & 56         &  9         & 164        & 1          & 0          & 10         & ⋯          & 15.64224   & NA         & NA         & NA         & 0.9610390  & 1          & 0.8448276  & 0.8333333  & 1.0000000  & 0.09090909\\\\\n",
       "\t 5          & 0.2396694  & 0.2244898  & 4          & 54         &  6         & 178        & 0          & 4          & 11         & ⋯          & 15.79375   & NA         & NA         & NA         & 0.9504132  & 1          & 0.7931034  & 0.6938776  & 0.8947368  & 0.00000000\\\\\n",
       "\\end{tabular}\n"
      ],
      "text/markdown": [
       "\n",
       "folds | tr_txe_pct | cv_txe_pct | tr_outtxe_predtxe | tr_outtxe_predrHGG | tr_outrHGG_predtxe | tr_outrHGG_predrHGG | cv_outtxe_predtxe | cv_outtxe_predrHGG | cv_outrHGG_predtxe | ⋯ | varImp_nadc.1 | varImp_hasDiffu | varImp_hasPerf | varImp_hasSpec | tr_acc | tr_sens | tr_spec | cv_acc | cv_sens | cv_spec | \n",
       "|---|---|---|---|---|\n",
       "| 1          | 0.2227074  | 0.2903226  | 0          | 51         |  8         | 170        | 1          | 1          | 17         | ⋯          | 13.90165   | NA         | NA         | NA         | 0.9650655  | 1          | 0.8431373  | 0.7096774  | 0.9772727  | 0.05555556 | \n",
       "| 2          | 0.2280702  | 0.2698413  | 5          | 47         |  9         | 167        | 0          | 1          | 17         | ⋯          | 15.22791   | NA         | NA         | NA         | 0.9561404  | 1          | 0.8076923  | 0.7142857  | 0.9782609  | 0.00000000 | \n",
       "| 3          | 0.2435897  | 0.2105263  | 4          | 53         | 11         | 166        | 2          | 5          | 10         | ⋯          | 13.72572   | NA         | NA         | NA         | 0.9529915  | 1          | 0.8070175  | 0.7368421  | 0.8888889  | 0.16666667 | \n",
       "| 4          | 0.2510823  | 0.1833333  | 2          | 56         |  9         | 164        | 1          | 0          | 10         | ⋯          | 15.64224   | NA         | NA         | NA         | 0.9610390  | 1          | 0.8448276  | 0.8333333  | 1.0000000  | 0.09090909 | \n",
       "| 5          | 0.2396694  | 0.2244898  | 4          | 54         |  6         | 178        | 0          | 4          | 11         | ⋯          | 15.79375   | NA         | NA         | NA         | 0.9504132  | 1          | 0.7931034  | 0.6938776  | 0.8947368  | 0.00000000 | \n",
       "\n",
       "\n"
      ],
      "text/plain": [
       "  folds tr_txe_pct cv_txe_pct tr_outtxe_predtxe tr_outtxe_predrHGG\n",
       "1 1     0.2227074  0.2903226  0                 51                \n",
       "2 2     0.2280702  0.2698413  5                 47                \n",
       "3 3     0.2435897  0.2105263  4                 53                \n",
       "4 4     0.2510823  0.1833333  2                 56                \n",
       "5 5     0.2396694  0.2244898  4                 54                \n",
       "  tr_outrHGG_predtxe tr_outrHGG_predrHGG cv_outtxe_predtxe cv_outtxe_predrHGG\n",
       "1  8                 170                 1                 1                 \n",
       "2  9                 167                 0                 1                 \n",
       "3 11                 166                 2                 5                 \n",
       "4  9                 164                 1                 0                 \n",
       "5  6                 178                 0                 4                 \n",
       "  cv_outrHGG_predtxe ⋯ varImp_nadc.1 varImp_hasDiffu varImp_hasPerf\n",
       "1 17                 ⋯ 13.90165      NA              NA            \n",
       "2 17                 ⋯ 15.22791      NA              NA            \n",
       "3 10                 ⋯ 13.72572      NA              NA            \n",
       "4 10                 ⋯ 15.64224      NA              NA            \n",
       "5 11                 ⋯ 15.79375      NA              NA            \n",
       "  varImp_hasSpec tr_acc    tr_sens tr_spec   cv_acc    cv_sens   cv_spec   \n",
       "1 NA             0.9650655 1       0.8431373 0.7096774 0.9772727 0.05555556\n",
       "2 NA             0.9561404 1       0.8076923 0.7142857 0.9782609 0.00000000\n",
       "3 NA             0.9529915 1       0.8070175 0.7368421 0.8888889 0.16666667\n",
       "4 NA             0.9610390 1       0.8448276 0.8333333 1.0000000 0.09090909\n",
       "5 NA             0.9504132 1       0.7931034 0.6938776 0.8947368 0.00000000"
      ]
     },
     "metadata": {},
     "output_type": "display_data"
    }
   ],
   "source": [
    "scores_rf"
   ]
  },
  {
   "cell_type": "code",
   "execution_count": 63,
   "metadata": {},
   "outputs": [
    {
     "data": {
      "text/plain": [
       "     folds     tr_txe_pct       cv_txe_pct     tr_outtxe_predtxe\n",
       " Min.   :1   Min.   :0.2227   Min.   :0.1833   Min.   :0        \n",
       " 1st Qu.:2   1st Qu.:0.2281   1st Qu.:0.2105   1st Qu.:2        \n",
       " Median :3   Median :0.2397   Median :0.2245   Median :4        \n",
       " Mean   :3   Mean   :0.2370   Mean   :0.2357   Mean   :3        \n",
       " 3rd Qu.:4   3rd Qu.:0.2436   3rd Qu.:0.2698   3rd Qu.:4        \n",
       " Max.   :5   Max.   :0.2511   Max.   :0.2903   Max.   :5        \n",
       " tr_outtxe_predrHGG tr_outrHGG_predtxe tr_outrHGG_predrHGG cv_outtxe_predtxe\n",
       " Min.   :47.0       Min.   : 6.0       Min.   :164         Min.   :0.0      \n",
       " 1st Qu.:51.0       1st Qu.: 8.0       1st Qu.:166         1st Qu.:0.0      \n",
       " Median :53.0       Median : 9.0       Median :167         Median :1.0      \n",
       " Mean   :52.2       Mean   : 8.6       Mean   :169         Mean   :0.8      \n",
       " 3rd Qu.:54.0       3rd Qu.: 9.0       3rd Qu.:170         3rd Qu.:1.0      \n",
       " Max.   :56.0       Max.   :11.0       Max.   :178         Max.   :2.0      \n",
       " cv_outtxe_predrHGG cv_outrHGG_predtxe cv_outrHGG_predrHGG varImp_in_CEL  \n",
       " Min.   :0.0        Min.   :10         Min.   :34.0        Min.   :1.821  \n",
       " 1st Qu.:1.0        1st Qu.:10         1st Qu.:40.0        1st Qu.:2.027  \n",
       " Median :1.0        Median :11         Median :43.0        Median :2.345  \n",
       " Mean   :2.2        Mean   :13         Mean   :42.2        Mean   :2.359  \n",
       " 3rd Qu.:4.0        3rd Qu.:17         3rd Qu.:45.0        3rd Qu.:2.719  \n",
       " Max.   :5.0        Max.   :17         Max.   :49.0        Max.   :2.886  \n",
       " varImp_cbvn_nlin varImp_recov_npar  varImp_ccri      varImp_cni   \n",
       " Min.   :11.35    Mode:logical      Min.   :4.460   Min.   :5.014  \n",
       " 1st Qu.:13.79    NA's:5            1st Qu.:4.876   1st Qu.:5.047  \n",
       " Median :14.22                      Median :4.954   Median :5.409  \n",
       " Mean   :13.67                      Mean   :4.888   Mean   :5.594  \n",
       " 3rd Qu.:14.30                      3rd Qu.:4.987   3rd Qu.:5.808  \n",
       " Max.   :14.71                      Max.   :5.163   Max.   :6.690  \n",
       "  varImp_ncho     varImp_ncre     varImp_nnaa     varImp_nfa.1  \n",
       " Min.   :4.747   Min.   :4.019   Min.   :5.652   Min.   :11.77  \n",
       " 1st Qu.:4.963   1st Qu.:4.308   1st Qu.:6.411   1st Qu.:12.60  \n",
       " Median :4.966   Median :4.555   Median :6.417   Median :14.01  \n",
       " Mean   :4.990   Mean   :4.678   Mean   :6.391   Mean   :13.42  \n",
       " 3rd Qu.:4.972   3rd Qu.:5.164   3rd Qu.:6.649   3rd Qu.:14.28  \n",
       " Max.   :5.303   Max.   :5.343   Max.   :6.827   Max.   :14.44  \n",
       " varImp_nadc.1   varImp_hasDiffu varImp_hasPerf varImp_hasSpec     tr_acc      \n",
       " Min.   :13.73   Mode:logical    Mode:logical   Mode:logical   Min.   :0.9504  \n",
       " 1st Qu.:13.90   NA's:5          NA's:5         NA's:5         1st Qu.:0.9530  \n",
       " Median :15.23                                                 Median :0.9561  \n",
       " Mean   :14.86                                                 Mean   :0.9571  \n",
       " 3rd Qu.:15.64                                                 3rd Qu.:0.9610  \n",
       " Max.   :15.79                                                 Max.   :0.9651  \n",
       "    tr_sens     tr_spec           cv_acc          cv_sens      \n",
       " Min.   :1   Min.   :0.7931   Min.   :0.6939   Min.   :0.8889  \n",
       " 1st Qu.:1   1st Qu.:0.8070   1st Qu.:0.7097   1st Qu.:0.8947  \n",
       " Median :1   Median :0.8077   Median :0.7143   Median :0.9773  \n",
       " Mean   :1   Mean   :0.8192   Mean   :0.7376   Mean   :0.9478  \n",
       " 3rd Qu.:1   3rd Qu.:0.8431   3rd Qu.:0.7368   3rd Qu.:0.9783  \n",
       " Max.   :1   Max.   :0.8448   Max.   :0.8333   Max.   :1.0000  \n",
       "    cv_spec       \n",
       " Min.   :0.00000  \n",
       " 1st Qu.:0.00000  \n",
       " Median :0.05556  \n",
       " Mean   :0.06263  \n",
       " 3rd Qu.:0.09091  \n",
       " Max.   :0.16667  "
      ]
     },
     "metadata": {},
     "output_type": "display_data"
    }
   ],
   "source": [
    "summary(scores_rf)"
   ]
  },
  {
   "cell_type": "code",
   "execution_count": null,
   "metadata": {
    "collapsed": true
   },
   "outputs": [],
   "source": []
  }
 ],
 "metadata": {
  "kernelspec": {
   "display_name": "R",
   "language": "R",
   "name": "ir"
  },
  "language_info": {
   "codemirror_mode": "r",
   "file_extension": ".r",
   "mimetype": "text/x-r-source",
   "name": "R",
   "pygments_lexer": "r",
   "version": "3.4.0"
  }
 },
 "nbformat": 4,
 "nbformat_minor": 2
}
