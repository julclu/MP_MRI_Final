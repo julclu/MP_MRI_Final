{
 "cells": [
  {
   "cell_type": "code",
   "execution_count": 1,
   "metadata": {},
   "outputs": [
    {
     "name": "stderr",
     "output_type": "stream",
     "text": [
      "randomForest 4.6-14\n",
      "Type rfNews() to see new features/changes/bug fixes.\n",
      "Loading required package: lattice\n",
      "Loading required package: ggplot2\n",
      "\n",
      "Attaching package: ‘ggplot2’\n",
      "\n",
      "The following object is masked from ‘package:randomForest’:\n",
      "\n",
      "    margin\n",
      "\n",
      "\n",
      " randomForestSRC 2.7.0 \n",
      " \n",
      " Type rfsrc.news() to see new features, changes, and bug fixes. \n",
      " \n",
      "\n"
     ]
    }
   ],
   "source": [
    "library(randomForest)\n",
    "library(tictoc)\n",
    "library('caret')\n",
    "library(geepack)\n",
    "library(randomForestSRC)"
   ]
  },
  {
   "cell_type": "code",
   "execution_count": 2,
   "metadata": {},
   "outputs": [],
   "source": [
    "# install.packages(\"BBmisc\")\n",
    "library(\"BBmisc\")"
   ]
  },
  {
   "cell_type": "code",
   "execution_count": 3,
   "metadata": {},
   "outputs": [],
   "source": [
    "data = read.csv('../../AnnotateData/recgli_annotation10_onlyGoodBiopsies_alt1.csv')"
   ]
  },
  {
   "cell_type": "code",
   "execution_count": 4,
   "metadata": {},
   "outputs": [],
   "source": [
    "data = data[,c('vialid','t_number_y', 'CELorNEL',\n",
    "               'newdata', 'nadc.1','nfa.1', \n",
    "               'cbvn_nlin', 'ccri', 'cni', 'ncho', 'nnaa', 'ncre', 'outcome')]\n",
    "\n"
   ]
  },
  {
   "cell_type": "code",
   "execution_count": 5,
   "metadata": {},
   "outputs": [],
   "source": [
    "data = data[which(data$outcome == \"txe\" | data$outcome == \"rHGG\"),]"
   ]
  },
  {
   "cell_type": "code",
   "execution_count": 6,
   "metadata": {},
   "outputs": [],
   "source": [
    "data = data[which(data$CELorNEL != \"unk\"),]"
   ]
  },
  {
   "cell_type": "code",
   "execution_count": 7,
   "metadata": {},
   "outputs": [
    {
     "data": {
      "text/plain": [
       "       \n",
       "        FALSE TRUE\n",
       "  FALSE   117   36\n",
       "  TRUE     83   61"
      ]
     },
     "metadata": {},
     "output_type": "display_data"
    }
   ],
   "source": [
    "table(is.na(data$cni), is.na(data$cbvn_nlin))"
   ]
  },
  {
   "cell_type": "code",
   "execution_count": 8,
   "metadata": {},
   "outputs": [
    {
     "data": {
      "text/html": [
       "<dl class=dl-horizontal>\n",
       "\t<dt>vialid</dt>\n",
       "\t\t<dd>0</dd>\n",
       "\t<dt>t_number_y</dt>\n",
       "\t\t<dd>0</dd>\n",
       "\t<dt>CELorNEL</dt>\n",
       "\t\t<dd>0</dd>\n",
       "\t<dt>newdata</dt>\n",
       "\t\t<dd>0</dd>\n",
       "\t<dt>nadc.1</dt>\n",
       "\t\t<dd>15</dd>\n",
       "\t<dt>nfa.1</dt>\n",
       "\t\t<dd>15</dd>\n",
       "\t<dt>cbvn_nlin</dt>\n",
       "\t\t<dd>97</dd>\n",
       "\t<dt>ccri</dt>\n",
       "\t\t<dd>144</dd>\n",
       "\t<dt>cni</dt>\n",
       "\t\t<dd>144</dd>\n",
       "\t<dt>ncho</dt>\n",
       "\t\t<dd>144</dd>\n",
       "\t<dt>nnaa</dt>\n",
       "\t\t<dd>144</dd>\n",
       "\t<dt>ncre</dt>\n",
       "\t\t<dd>144</dd>\n",
       "\t<dt>outcome</dt>\n",
       "\t\t<dd>0</dd>\n",
       "</dl>\n"
      ],
      "text/latex": [
       "\\begin{description*}\n",
       "\\item[vialid] 0\n",
       "\\item[t\\textbackslash{}\\_number\\textbackslash{}\\_y] 0\n",
       "\\item[CELorNEL] 0\n",
       "\\item[newdata] 0\n",
       "\\item[nadc.1] 15\n",
       "\\item[nfa.1] 15\n",
       "\\item[cbvn\\textbackslash{}\\_nlin] 97\n",
       "\\item[ccri] 144\n",
       "\\item[cni] 144\n",
       "\\item[ncho] 144\n",
       "\\item[nnaa] 144\n",
       "\\item[ncre] 144\n",
       "\\item[outcome] 0\n",
       "\\end{description*}\n"
      ],
      "text/markdown": [
       "vialid\n",
       ":   0t_number_y\n",
       ":   0CELorNEL\n",
       ":   0newdata\n",
       ":   0nadc.1\n",
       ":   15nfa.1\n",
       ":   15cbvn_nlin\n",
       ":   97ccri\n",
       ":   144cni\n",
       ":   144ncho\n",
       ":   144nnaa\n",
       ":   144ncre\n",
       ":   144outcome\n",
       ":   0\n",
       "\n"
      ],
      "text/plain": [
       "    vialid t_number_y   CELorNEL    newdata     nadc.1      nfa.1  cbvn_nlin \n",
       "         0          0          0          0         15         15         97 \n",
       "      ccri        cni       ncho       nnaa       ncre    outcome \n",
       "       144        144        144        144        144          0 "
      ]
     },
     "metadata": {},
     "output_type": "display_data"
    }
   ],
   "source": [
    "colSums(is.na(data))"
   ]
  },
  {
   "cell_type": "code",
   "execution_count": 9,
   "metadata": {},
   "outputs": [],
   "source": [
    "data = droplevels.data.frame(data)"
   ]
  },
  {
   "cell_type": "code",
   "execution_count": 10,
   "metadata": {},
   "outputs": [
    {
     "data": {
      "text/html": [
       "<table>\n",
       "<thead><tr><th></th><th scope=col>vialid</th><th scope=col>t_number_y</th><th scope=col>CELorNEL</th><th scope=col>newdata</th><th scope=col>nadc.1</th><th scope=col>nfa.1</th><th scope=col>cbvn_nlin</th><th scope=col>ccri</th><th scope=col>cni</th><th scope=col>ncho</th><th scope=col>nnaa</th><th scope=col>ncre</th><th scope=col>outcome</th></tr></thead>\n",
       "<tbody>\n",
       "\t<tr><th scope=row>1</th><td>1B82 </td><td>10366</td><td>NEL  </td><td>1    </td><td>0.75 </td><td>0.83 </td><td>1.08 </td><td>1.88 </td><td>2.60 </td><td>1.03 </td><td>0.46 </td><td>0.47 </td><td>txe  </td></tr>\n",
       "\t<tr><th scope=row>3</th><td>29B82</td><td>10448</td><td>CEL  </td><td>1    </td><td>1.62 </td><td>0.50 </td><td>2.43 </td><td>  NA </td><td>  NA </td><td>  NA </td><td>  NA </td><td>  NA </td><td>rHGG </td></tr>\n",
       "\t<tr><th scope=row>4</th><td>61B90</td><td>10594</td><td>NEL  </td><td>1    </td><td>2.62 </td><td>0.81 </td><td>1.64 </td><td>  NA </td><td>  NA </td><td>  NA </td><td>  NA </td><td>  NA </td><td>txe  </td></tr>\n",
       "\t<tr><th scope=row>5</th><td>60B90</td><td>10594</td><td>NEL  </td><td>1    </td><td>2.12 </td><td>0.42 </td><td>0.95 </td><td>1.03 </td><td>3.27 </td><td>1.04 </td><td>0.36 </td><td>0.79 </td><td>rHGG </td></tr>\n",
       "\t<tr><th scope=row>6</th><td>58B90</td><td>10594</td><td>NEL  </td><td>1    </td><td>1.60 </td><td>0.73 </td><td>0.84 </td><td>2.33 </td><td>7.57 </td><td>1.61 </td><td>0.13 </td><td>1.07 </td><td>rHGG </td></tr>\n",
       "\t<tr><th scope=row>7</th><td>59B90</td><td>10594</td><td>NEL  </td><td>1    </td><td>3.03 </td><td>0.42 </td><td>0.42 </td><td>2.13 </td><td>4.37 </td><td>1.89 </td><td>0.74 </td><td>1.21 </td><td>rHGG </td></tr>\n",
       "</tbody>\n",
       "</table>\n"
      ],
      "text/latex": [
       "\\begin{tabular}{r|lllllllllllll}\n",
       "  & vialid & t\\_number\\_y & CELorNEL & newdata & nadc.1 & nfa.1 & cbvn\\_nlin & ccri & cni & ncho & nnaa & ncre & outcome\\\\\n",
       "\\hline\n",
       "\t1 & 1B82  & 10366 & NEL   & 1     & 0.75  & 0.83  & 1.08  & 1.88  & 2.60  & 1.03  & 0.46  & 0.47  & txe  \\\\\n",
       "\t3 & 29B82 & 10448 & CEL   & 1     & 1.62  & 0.50  & 2.43  &   NA  &   NA  &   NA  &   NA  &   NA  & rHGG \\\\\n",
       "\t4 & 61B90 & 10594 & NEL   & 1     & 2.62  & 0.81  & 1.64  &   NA  &   NA  &   NA  &   NA  &   NA  & txe  \\\\\n",
       "\t5 & 60B90 & 10594 & NEL   & 1     & 2.12  & 0.42  & 0.95  & 1.03  & 3.27  & 1.04  & 0.36  & 0.79  & rHGG \\\\\n",
       "\t6 & 58B90 & 10594 & NEL   & 1     & 1.60  & 0.73  & 0.84  & 2.33  & 7.57  & 1.61  & 0.13  & 1.07  & rHGG \\\\\n",
       "\t7 & 59B90 & 10594 & NEL   & 1     & 3.03  & 0.42  & 0.42  & 2.13  & 4.37  & 1.89  & 0.74  & 1.21  & rHGG \\\\\n",
       "\\end{tabular}\n"
      ],
      "text/markdown": [
       "\n",
       "| <!--/--> | vialid | t_number_y | CELorNEL | newdata | nadc.1 | nfa.1 | cbvn_nlin | ccri | cni | ncho | nnaa | ncre | outcome | \n",
       "|---|---|---|---|---|---|\n",
       "| 1 | 1B82  | 10366 | NEL   | 1     | 0.75  | 0.83  | 1.08  | 1.88  | 2.60  | 1.03  | 0.46  | 0.47  | txe   | \n",
       "| 3 | 29B82 | 10448 | CEL   | 1     | 1.62  | 0.50  | 2.43  |   NA  |   NA  |   NA  |   NA  |   NA  | rHGG  | \n",
       "| 4 | 61B90 | 10594 | NEL   | 1     | 2.62  | 0.81  | 1.64  |   NA  |   NA  |   NA  |   NA  |   NA  | txe   | \n",
       "| 5 | 60B90 | 10594 | NEL   | 1     | 2.12  | 0.42  | 0.95  | 1.03  | 3.27  | 1.04  | 0.36  | 0.79  | rHGG  | \n",
       "| 6 | 58B90 | 10594 | NEL   | 1     | 1.60  | 0.73  | 0.84  | 2.33  | 7.57  | 1.61  | 0.13  | 1.07  | rHGG  | \n",
       "| 7 | 59B90 | 10594 | NEL   | 1     | 3.03  | 0.42  | 0.42  | 2.13  | 4.37  | 1.89  | 0.74  | 1.21  | rHGG  | \n",
       "\n",
       "\n"
      ],
      "text/plain": [
       "  vialid t_number_y CELorNEL newdata nadc.1 nfa.1 cbvn_nlin ccri cni  ncho nnaa\n",
       "1 1B82   10366      NEL      1       0.75   0.83  1.08      1.88 2.60 1.03 0.46\n",
       "3 29B82  10448      CEL      1       1.62   0.50  2.43        NA   NA   NA   NA\n",
       "4 61B90  10594      NEL      1       2.62   0.81  1.64        NA   NA   NA   NA\n",
       "5 60B90  10594      NEL      1       2.12   0.42  0.95      1.03 3.27 1.04 0.36\n",
       "6 58B90  10594      NEL      1       1.60   0.73  0.84      2.33 7.57 1.61 0.13\n",
       "7 59B90  10594      NEL      1       3.03   0.42  0.42      2.13 4.37 1.89 0.74\n",
       "  ncre outcome\n",
       "1 0.47 txe    \n",
       "3   NA rHGG   \n",
       "4   NA txe    \n",
       "5 0.79 rHGG   \n",
       "6 1.07 rHGG   \n",
       "7 1.21 rHGG   "
      ]
     },
     "metadata": {},
     "output_type": "display_data"
    }
   ],
   "source": [
    "head(data)"
   ]
  },
  {
   "cell_type": "code",
   "execution_count": 11,
   "metadata": {},
   "outputs": [],
   "source": [
    "data_new = data[data$newdata ==1, ]"
   ]
  },
  {
   "cell_type": "code",
   "execution_count": 12,
   "metadata": {},
   "outputs": [],
   "source": [
    "data_old = data[data$newdata ==0, ]"
   ]
  },
  {
   "cell_type": "code",
   "execution_count": 13,
   "metadata": {},
   "outputs": [],
   "source": [
    "## ensure normalization \n",
    "for (col in c('nadc.1','nfa.1', 'cbvn_nlin', \n",
    "              'ccri', 'cni', 'ncho', 'nnaa', 'ncre')){\n",
    "    data[col] = normalize(data[col], method = \"standardize\")\n",
    "}"
   ]
  },
  {
   "cell_type": "code",
   "execution_count": 14,
   "metadata": {},
   "outputs": [
    {
     "data": {
      "text/html": [
       "<table>\n",
       "<thead><tr><th></th><th scope=col>vialid</th><th scope=col>t_number_y</th><th scope=col>CELorNEL</th><th scope=col>newdata</th><th scope=col>nadc.1</th><th scope=col>nfa.1</th><th scope=col>cbvn_nlin</th><th scope=col>ccri</th><th scope=col>cni</th><th scope=col>ncho</th><th scope=col>nnaa</th><th scope=col>ncre</th><th scope=col>outcome</th></tr></thead>\n",
       "<tbody>\n",
       "\t<tr><th scope=row>1</th><td>1B82       </td><td>10366      </td><td>NEL        </td><td>1          </td><td>-1.9143177 </td><td> 0.04635721</td><td>-0.45292498</td><td>-0.14714562</td><td>-0.3243488 </td><td>-0.2694160 </td><td> 0.28475198</td><td>-0.2214340 </td><td>txe        </td></tr>\n",
       "\t<tr><th scope=row>3</th><td>29B82      </td><td>10448      </td><td>CEL        </td><td>1          </td><td>-0.1223428 </td><td>-0.96870216</td><td> 0.80339045</td><td>         NA</td><td>        NA </td><td>        NA </td><td>         NA</td><td>        NA </td><td>rHGG       </td></tr>\n",
       "\t<tr><th scope=row>4</th><td>61B90      </td><td>10594      </td><td>NEL        </td><td>1          </td><td> 1.9373985 </td><td>-0.01516154</td><td> 0.06821327</td><td>         NA</td><td>        NA </td><td>        NA </td><td>         NA</td><td>        NA </td><td>txe        </td></tr>\n",
       "\t<tr><th scope=row>5</th><td>60B90      </td><td>10594      </td><td>NEL        </td><td>1          </td><td> 0.9075279 </td><td>-1.21477715</td><td>-0.57390350</td><td>-0.44893222</td><td>-0.1575785 </td><td>-0.2588140 </td><td>-0.03725137</td><td> 0.2517833 </td><td>rHGG       </td></tr>\n",
       "\t<tr><th scope=row>6</th><td>58B90      </td><td>10594      </td><td>NEL        </td><td>1          </td><td>-0.1635376 </td><td>-0.26123653</td><td>-0.67626994</td><td> 0.01262375</td><td> 0.9127385 </td><td> 0.3455011 </td><td>-0.77785906</td><td> 0.6658485 </td><td>rHGG       </td></tr>\n",
       "\t<tr><th scope=row>7</th><td>59B90      </td><td>10594      </td><td>NEL        </td><td>1          </td><td> 2.7818924 </td><td>-1.21477715</td><td>-1.06712363</td><td>-0.05838486</td><td> 0.1162235 </td><td> 0.6423577 </td><td> 1.18636135</td><td> 0.8728811 </td><td>rHGG       </td></tr>\n",
       "</tbody>\n",
       "</table>\n"
      ],
      "text/latex": [
       "\\begin{tabular}{r|lllllllllllll}\n",
       "  & vialid & t\\_number\\_y & CELorNEL & newdata & nadc.1 & nfa.1 & cbvn\\_nlin & ccri & cni & ncho & nnaa & ncre & outcome\\\\\n",
       "\\hline\n",
       "\t1 & 1B82        & 10366       & NEL         & 1           & -1.9143177  &  0.04635721 & -0.45292498 & -0.14714562 & -0.3243488  & -0.2694160  &  0.28475198 & -0.2214340  & txe        \\\\\n",
       "\t3 & 29B82       & 10448       & CEL         & 1           & -0.1223428  & -0.96870216 &  0.80339045 &          NA &         NA  &         NA  &          NA &         NA  & rHGG       \\\\\n",
       "\t4 & 61B90       & 10594       & NEL         & 1           &  1.9373985  & -0.01516154 &  0.06821327 &          NA &         NA  &         NA  &          NA &         NA  & txe        \\\\\n",
       "\t5 & 60B90       & 10594       & NEL         & 1           &  0.9075279  & -1.21477715 & -0.57390350 & -0.44893222 & -0.1575785  & -0.2588140  & -0.03725137 &  0.2517833  & rHGG       \\\\\n",
       "\t6 & 58B90       & 10594       & NEL         & 1           & -0.1635376  & -0.26123653 & -0.67626994 &  0.01262375 &  0.9127385  &  0.3455011  & -0.77785906 &  0.6658485  & rHGG       \\\\\n",
       "\t7 & 59B90       & 10594       & NEL         & 1           &  2.7818924  & -1.21477715 & -1.06712363 & -0.05838486 &  0.1162235  &  0.6423577  &  1.18636135 &  0.8728811  & rHGG       \\\\\n",
       "\\end{tabular}\n"
      ],
      "text/markdown": [
       "\n",
       "| <!--/--> | vialid | t_number_y | CELorNEL | newdata | nadc.1 | nfa.1 | cbvn_nlin | ccri | cni | ncho | nnaa | ncre | outcome | \n",
       "|---|---|---|---|---|---|\n",
       "| 1 | 1B82        | 10366       | NEL         | 1           | -1.9143177  |  0.04635721 | -0.45292498 | -0.14714562 | -0.3243488  | -0.2694160  |  0.28475198 | -0.2214340  | txe         | \n",
       "| 3 | 29B82       | 10448       | CEL         | 1           | -0.1223428  | -0.96870216 |  0.80339045 |          NA |         NA  |         NA  |          NA |         NA  | rHGG        | \n",
       "| 4 | 61B90       | 10594       | NEL         | 1           |  1.9373985  | -0.01516154 |  0.06821327 |          NA |         NA  |         NA  |          NA |         NA  | txe         | \n",
       "| 5 | 60B90       | 10594       | NEL         | 1           |  0.9075279  | -1.21477715 | -0.57390350 | -0.44893222 | -0.1575785  | -0.2588140  | -0.03725137 |  0.2517833  | rHGG        | \n",
       "| 6 | 58B90       | 10594       | NEL         | 1           | -0.1635376  | -0.26123653 | -0.67626994 |  0.01262375 |  0.9127385  |  0.3455011  | -0.77785906 |  0.6658485  | rHGG        | \n",
       "| 7 | 59B90       | 10594       | NEL         | 1           |  2.7818924  | -1.21477715 | -1.06712363 | -0.05838486 |  0.1162235  |  0.6423577  |  1.18636135 |  0.8728811  | rHGG        | \n",
       "\n",
       "\n"
      ],
      "text/plain": [
       "  vialid t_number_y CELorNEL newdata nadc.1     nfa.1       cbvn_nlin  \n",
       "1 1B82   10366      NEL      1       -1.9143177  0.04635721 -0.45292498\n",
       "3 29B82  10448      CEL      1       -0.1223428 -0.96870216  0.80339045\n",
       "4 61B90  10594      NEL      1        1.9373985 -0.01516154  0.06821327\n",
       "5 60B90  10594      NEL      1        0.9075279 -1.21477715 -0.57390350\n",
       "6 58B90  10594      NEL      1       -0.1635376 -0.26123653 -0.67626994\n",
       "7 59B90  10594      NEL      1        2.7818924 -1.21477715 -1.06712363\n",
       "  ccri        cni        ncho       nnaa        ncre       outcome\n",
       "1 -0.14714562 -0.3243488 -0.2694160  0.28475198 -0.2214340 txe    \n",
       "3          NA         NA         NA          NA         NA rHGG   \n",
       "4          NA         NA         NA          NA         NA txe    \n",
       "5 -0.44893222 -0.1575785 -0.2588140 -0.03725137  0.2517833 rHGG   \n",
       "6  0.01262375  0.9127385  0.3455011 -0.77785906  0.6658485 rHGG   \n",
       "7 -0.05838486  0.1162235  0.6423577  1.18636135  0.8728811 rHGG   "
      ]
     },
     "metadata": {},
     "output_type": "display_data"
    }
   ],
   "source": [
    "head(data)"
   ]
  },
  {
   "cell_type": "code",
   "execution_count": 15,
   "metadata": {},
   "outputs": [],
   "source": [
    "data_dummyVars = data.frame(data, \n",
    "                           hasPerf = ifelse(is.na(data$cbvn_nlin), 0, 1), \n",
    "                           hasSpec = ifelse(is.na(data$cni), 0, 1), \n",
    "                           isCEL = ifelse(data$CELorNEL == \"CEL\", 1, 0))"
   ]
  },
  {
   "cell_type": "code",
   "execution_count": 16,
   "metadata": {},
   "outputs": [
    {
     "data": {
      "text/html": [
       "<ol class=list-inline>\n",
       "\t<li>117</li>\n",
       "\t<li>16</li>\n",
       "</ol>\n"
      ],
      "text/latex": [
       "\\begin{enumerate*}\n",
       "\\item 117\n",
       "\\item 16\n",
       "\\end{enumerate*}\n"
      ],
      "text/markdown": [
       "1. 117\n",
       "2. 16\n",
       "\n",
       "\n"
      ],
      "text/plain": [
       "[1] 117  16"
      ]
     },
     "metadata": {},
     "output_type": "display_data"
    }
   ],
   "source": [
    "data_noMissingValues = data_dummyVars[!is.na(data_dummyVars$cbvn_nlin) & !is.na(data_dummyVars$cni),]\n",
    "dim(data_noMissingValues)"
   ]
  },
  {
   "cell_type": "code",
   "execution_count": 17,
   "metadata": {},
   "outputs": [],
   "source": [
    "data_noMissingValues$txe_rhgg = ifelse(data_noMissingValues$outcome==\"txe\", 0, 1)\n"
   ]
  },
  {
   "cell_type": "code",
   "execution_count": 18,
   "metadata": {},
   "outputs": [
    {
     "data": {
      "text/html": [
       "<ol class=list-inline>\n",
       "\t<li>117</li>\n",
       "\t<li>17</li>\n",
       "</ol>\n"
      ],
      "text/latex": [
       "\\begin{enumerate*}\n",
       "\\item 117\n",
       "\\item 17\n",
       "\\end{enumerate*}\n"
      ],
      "text/markdown": [
       "1. 117\n",
       "2. 17\n",
       "\n",
       "\n"
      ],
      "text/plain": [
       "[1] 117  17"
      ]
     },
     "metadata": {},
     "output_type": "display_data"
    }
   ],
   "source": [
    "dim(data_noMissingValues)"
   ]
  },
  {
   "cell_type": "code",
   "execution_count": 28,
   "metadata": {},
   "outputs": [
    {
     "data": {
      "text/html": [
       "<table>\n",
       "<thead><tr><th></th><th scope=col>Estimate</th><th scope=col>Std.err</th><th scope=col>Wald</th><th scope=col>Pr(&gt;|W|)</th></tr></thead>\n",
       "<tbody>\n",
       "\t<tr><th scope=row>(Intercept)</th><td> 1.4979</td><td>0.3589 </td><td>17.4165</td><td>0.0000 </td></tr>\n",
       "\t<tr><th scope=row>isCEL</th><td> 0.1819</td><td>0.2201 </td><td> 0.6834</td><td>0.4084 </td></tr>\n",
       "\t<tr><th scope=row>cbvn_nlin</th><td> 0.0318</td><td>0.1239 </td><td> 0.0658</td><td>0.7975 </td></tr>\n",
       "\t<tr><th scope=row>cni</th><td> 1.4120</td><td>0.9321 </td><td> 2.2948</td><td>0.1298 </td></tr>\n",
       "\t<tr><th scope=row>ncho</th><td>-0.9510</td><td>0.7020 </td><td> 1.8350</td><td>0.1755 </td></tr>\n",
       "\t<tr><th scope=row>ccri</th><td> 0.0080</td><td>0.1805 </td><td> 0.0020</td><td>0.9648 </td></tr>\n",
       "\t<tr><th scope=row>isCEL:cbvn_nlin</th><td>-0.0391</td><td>0.1574 </td><td> 0.0616</td><td>0.8039 </td></tr>\n",
       "\t<tr><th scope=row>isCEL:cni</th><td>-1.1452</td><td>0.7993 </td><td> 2.0524</td><td>0.1520 </td></tr>\n",
       "\t<tr><th scope=row>isCEL:ncho</th><td> 0.4808</td><td>0.4710 </td><td> 1.0422</td><td>0.3073 </td></tr>\n",
       "\t<tr><th scope=row>isCEL:ccri</th><td>-0.0036</td><td>0.1777 </td><td> 0.0004</td><td>0.9840 </td></tr>\n",
       "</tbody>\n",
       "</table>\n"
      ],
      "text/latex": [
       "\\begin{tabular}{r|llll}\n",
       "  & Estimate & Std.err & Wald & Pr(>\\textbar{}W\\textbar{})\\\\\n",
       "\\hline\n",
       "\t(Intercept) &  1.4979 & 0.3589  & 17.4165 & 0.0000 \\\\\n",
       "\tisCEL &  0.1819 & 0.2201  &  0.6834 & 0.4084 \\\\\n",
       "\tcbvn\\_nlin &  0.0318 & 0.1239  &  0.0658 & 0.7975 \\\\\n",
       "\tcni &  1.4120 & 0.9321  &  2.2948 & 0.1298 \\\\\n",
       "\tncho & -0.9510 & 0.7020  &  1.8350 & 0.1755 \\\\\n",
       "\tccri &  0.0080 & 0.1805  &  0.0020 & 0.9648 \\\\\n",
       "\tisCEL:cbvn\\_nlin & -0.0391 & 0.1574  &  0.0616 & 0.8039 \\\\\n",
       "\tisCEL:cni & -1.1452 & 0.7993  &  2.0524 & 0.1520 \\\\\n",
       "\tisCEL:ncho &  0.4808 & 0.4710  &  1.0422 & 0.3073 \\\\\n",
       "\tisCEL:ccri & -0.0036 & 0.1777  &  0.0004 & 0.9840 \\\\\n",
       "\\end{tabular}\n"
      ],
      "text/markdown": [
       "\n",
       "| <!--/--> | Estimate | Std.err | Wald | Pr(>|W|) | \n",
       "|---|---|---|---|---|---|---|---|---|---|\n",
       "| (Intercept) |  1.4979 | 0.3589  | 17.4165 | 0.0000  | \n",
       "| isCEL |  0.1819 | 0.2201  |  0.6834 | 0.4084  | \n",
       "| cbvn_nlin |  0.0318 | 0.1239  |  0.0658 | 0.7975  | \n",
       "| cni |  1.4120 | 0.9321  |  2.2948 | 0.1298  | \n",
       "| ncho | -0.9510 | 0.7020  |  1.8350 | 0.1755  | \n",
       "| ccri |  0.0080 | 0.1805  |  0.0020 | 0.9648  | \n",
       "| isCEL:cbvn_nlin | -0.0391 | 0.1574  |  0.0616 | 0.8039  | \n",
       "| isCEL:cni | -1.1452 | 0.7993  |  2.0524 | 0.1520  | \n",
       "| isCEL:ncho |  0.4808 | 0.4710  |  1.0422 | 0.3073  | \n",
       "| isCEL:ccri | -0.0036 | 0.1777  |  0.0004 | 0.9840  | \n",
       "\n",
       "\n"
      ],
      "text/plain": [
       "                Estimate Std.err Wald    Pr(>|W|)\n",
       "(Intercept)      1.4979  0.3589  17.4165 0.0000  \n",
       "isCEL            0.1819  0.2201   0.6834 0.4084  \n",
       "cbvn_nlin        0.0318  0.1239   0.0658 0.7975  \n",
       "cni              1.4120  0.9321   2.2948 0.1298  \n",
       "ncho            -0.9510  0.7020   1.8350 0.1755  \n",
       "ccri             0.0080  0.1805   0.0020 0.9648  \n",
       "isCEL:cbvn_nlin -0.0391  0.1574   0.0616 0.8039  \n",
       "isCEL:cni       -1.1452  0.7993   2.0524 0.1520  \n",
       "isCEL:ncho       0.4808  0.4710   1.0422 0.3073  \n",
       "isCEL:ccri      -0.0036  0.1777   0.0004 0.9840  "
      ]
     },
     "metadata": {},
     "output_type": "display_data"
    }
   ],
   "source": [
    "gee.fit1 = geeglm(txe_rhgg ~ isCEL*(cbvn_nlin+cni+ncho+ccri), data = data_noMissingValues, id = factor(t_number_y), family = binomial, corstr = \"exchangeable\")\n",
    "round(summary(gee.fit1)$coefficients, 4)\n",
    "\n"
   ]
  },
  {
   "cell_type": "code",
   "execution_count": 29,
   "metadata": {},
   "outputs": [
    {
     "data": {
      "text/html": [
       "<table>\n",
       "<thead><tr><th></th><th scope=col>Estimate</th><th scope=col>Std.err</th><th scope=col>Wald</th><th scope=col>Pr(&gt;|W|)</th></tr></thead>\n",
       "<tbody>\n",
       "\t<tr><th scope=row>(Intercept)</th><td> 1.4976</td><td>0.3519 </td><td>18.1086</td><td>0.0000 </td></tr>\n",
       "\t<tr><th scope=row>isCEL</th><td> 0.1821</td><td>0.2214 </td><td> 0.6768</td><td>0.4107 </td></tr>\n",
       "\t<tr><th scope=row>cni</th><td> 1.4137</td><td>0.9616 </td><td> 2.1614</td><td>0.1415 </td></tr>\n",
       "\t<tr><th scope=row>ncho</th><td>-0.9502</td><td>0.6623 </td><td> 2.0583</td><td>0.1514 </td></tr>\n",
       "\t<tr><th scope=row>cbvn_nlin</th><td> 0.0310</td><td>0.1119 </td><td> 0.0767</td><td>0.7819 </td></tr>\n",
       "\t<tr><th scope=row>ccri</th><td> 0.0057</td><td>0.0922 </td><td> 0.0038</td><td>0.9506 </td></tr>\n",
       "\t<tr><th scope=row>isCEL:cni</th><td>-1.1472</td><td>0.8437 </td><td> 1.8491</td><td>0.1739 </td></tr>\n",
       "\t<tr><th scope=row>isCEL:ncho</th><td> 0.4793</td><td>0.4272 </td><td> 1.2590</td><td>0.2618 </td></tr>\n",
       "\t<tr><th scope=row>isCEL:cbvn_nlin</th><td>-0.0385</td><td>0.1399 </td><td> 0.0757</td><td>0.7832 </td></tr>\n",
       "</tbody>\n",
       "</table>\n"
      ],
      "text/latex": [
       "\\begin{tabular}{r|llll}\n",
       "  & Estimate & Std.err & Wald & Pr(>\\textbar{}W\\textbar{})\\\\\n",
       "\\hline\n",
       "\t(Intercept) &  1.4976 & 0.3519  & 18.1086 & 0.0000 \\\\\n",
       "\tisCEL &  0.1821 & 0.2214  &  0.6768 & 0.4107 \\\\\n",
       "\tcni &  1.4137 & 0.9616  &  2.1614 & 0.1415 \\\\\n",
       "\tncho & -0.9502 & 0.6623  &  2.0583 & 0.1514 \\\\\n",
       "\tcbvn\\_nlin &  0.0310 & 0.1119  &  0.0767 & 0.7819 \\\\\n",
       "\tccri &  0.0057 & 0.0922  &  0.0038 & 0.9506 \\\\\n",
       "\tisCEL:cni & -1.1472 & 0.8437  &  1.8491 & 0.1739 \\\\\n",
       "\tisCEL:ncho &  0.4793 & 0.4272  &  1.2590 & 0.2618 \\\\\n",
       "\tisCEL:cbvn\\_nlin & -0.0385 & 0.1399  &  0.0757 & 0.7832 \\\\\n",
       "\\end{tabular}\n"
      ],
      "text/markdown": [
       "\n",
       "| <!--/--> | Estimate | Std.err | Wald | Pr(>|W|) | \n",
       "|---|---|---|---|---|---|---|---|---|\n",
       "| (Intercept) |  1.4976 | 0.3519  | 18.1086 | 0.0000  | \n",
       "| isCEL |  0.1821 | 0.2214  |  0.6768 | 0.4107  | \n",
       "| cni |  1.4137 | 0.9616  |  2.1614 | 0.1415  | \n",
       "| ncho | -0.9502 | 0.6623  |  2.0583 | 0.1514  | \n",
       "| cbvn_nlin |  0.0310 | 0.1119  |  0.0767 | 0.7819  | \n",
       "| ccri |  0.0057 | 0.0922  |  0.0038 | 0.9506  | \n",
       "| isCEL:cni | -1.1472 | 0.8437  |  1.8491 | 0.1739  | \n",
       "| isCEL:ncho |  0.4793 | 0.4272  |  1.2590 | 0.2618  | \n",
       "| isCEL:cbvn_nlin | -0.0385 | 0.1399  |  0.0757 | 0.7832  | \n",
       "\n",
       "\n"
      ],
      "text/plain": [
       "                Estimate Std.err Wald    Pr(>|W|)\n",
       "(Intercept)      1.4976  0.3519  18.1086 0.0000  \n",
       "isCEL            0.1821  0.2214   0.6768 0.4107  \n",
       "cni              1.4137  0.9616   2.1614 0.1415  \n",
       "ncho            -0.9502  0.6623   2.0583 0.1514  \n",
       "cbvn_nlin        0.0310  0.1119   0.0767 0.7819  \n",
       "ccri             0.0057  0.0922   0.0038 0.9506  \n",
       "isCEL:cni       -1.1472  0.8437   1.8491 0.1739  \n",
       "isCEL:ncho       0.4793  0.4272   1.2590 0.2618  \n",
       "isCEL:cbvn_nlin -0.0385  0.1399   0.0757 0.7832  "
      ]
     },
     "metadata": {},
     "output_type": "display_data"
    }
   ],
   "source": [
    "gee.fit1 = geeglm(txe_rhgg ~ isCEL*(cni+ncho+cbvn_nlin)+ccri, data = data_noMissingValues, id = factor(t_number_y), family = binomial, corstr = \"exchangeable\")\n",
    "round(summary(gee.fit1)$coefficients, 4)\n",
    "\n"
   ]
  },
  {
   "cell_type": "code",
   "execution_count": 30,
   "metadata": {},
   "outputs": [
    {
     "data": {
      "text/html": [
       "<table>\n",
       "<thead><tr><th></th><th scope=col>Estimate</th><th scope=col>Std.err</th><th scope=col>Wald</th><th scope=col>Pr(&gt;|W|)</th></tr></thead>\n",
       "<tbody>\n",
       "\t<tr><th scope=row>(Intercept)</th><td> 1.4974</td><td>0.3503 </td><td>18.2758</td><td>0.0000 </td></tr>\n",
       "\t<tr><th scope=row>isCEL</th><td> 0.1838</td><td>0.2216 </td><td> 0.6877</td><td>0.4070 </td></tr>\n",
       "\t<tr><th scope=row>cni</th><td> 1.4194</td><td>0.9815 </td><td> 2.0911</td><td>0.1482 </td></tr>\n",
       "\t<tr><th scope=row>ncho</th><td>-0.9498</td><td>0.6539 </td><td> 2.1099</td><td>0.1464 </td></tr>\n",
       "\t<tr><th scope=row>cbvn_nlin</th><td> 0.0293</td><td>0.1182 </td><td> 0.0616</td><td>0.8040 </td></tr>\n",
       "\t<tr><th scope=row>isCEL:cni</th><td>-1.1513</td><td>0.8580 </td><td> 1.8008</td><td>0.1796 </td></tr>\n",
       "\t<tr><th scope=row>isCEL:ncho</th><td> 0.4827</td><td>0.4375 </td><td> 1.2171</td><td>0.2699 </td></tr>\n",
       "\t<tr><th scope=row>isCEL:cbvn_nlin</th><td>-0.0362</td><td>0.1399 </td><td> 0.0671</td><td>0.7957 </td></tr>\n",
       "</tbody>\n",
       "</table>\n"
      ],
      "text/latex": [
       "\\begin{tabular}{r|llll}\n",
       "  & Estimate & Std.err & Wald & Pr(>\\textbar{}W\\textbar{})\\\\\n",
       "\\hline\n",
       "\t(Intercept) &  1.4974 & 0.3503  & 18.2758 & 0.0000 \\\\\n",
       "\tisCEL &  0.1838 & 0.2216  &  0.6877 & 0.4070 \\\\\n",
       "\tcni &  1.4194 & 0.9815  &  2.0911 & 0.1482 \\\\\n",
       "\tncho & -0.9498 & 0.6539  &  2.1099 & 0.1464 \\\\\n",
       "\tcbvn\\_nlin &  0.0293 & 0.1182  &  0.0616 & 0.8040 \\\\\n",
       "\tisCEL:cni & -1.1513 & 0.8580  &  1.8008 & 0.1796 \\\\\n",
       "\tisCEL:ncho &  0.4827 & 0.4375  &  1.2171 & 0.2699 \\\\\n",
       "\tisCEL:cbvn\\_nlin & -0.0362 & 0.1399  &  0.0671 & 0.7957 \\\\\n",
       "\\end{tabular}\n"
      ],
      "text/markdown": [
       "\n",
       "| <!--/--> | Estimate | Std.err | Wald | Pr(>|W|) | \n",
       "|---|---|---|---|---|---|---|---|\n",
       "| (Intercept) |  1.4974 | 0.3503  | 18.2758 | 0.0000  | \n",
       "| isCEL |  0.1838 | 0.2216  |  0.6877 | 0.4070  | \n",
       "| cni |  1.4194 | 0.9815  |  2.0911 | 0.1482  | \n",
       "| ncho | -0.9498 | 0.6539  |  2.1099 | 0.1464  | \n",
       "| cbvn_nlin |  0.0293 | 0.1182  |  0.0616 | 0.8040  | \n",
       "| isCEL:cni | -1.1513 | 0.8580  |  1.8008 | 0.1796  | \n",
       "| isCEL:ncho |  0.4827 | 0.4375  |  1.2171 | 0.2699  | \n",
       "| isCEL:cbvn_nlin | -0.0362 | 0.1399  |  0.0671 | 0.7957  | \n",
       "\n",
       "\n"
      ],
      "text/plain": [
       "                Estimate Std.err Wald    Pr(>|W|)\n",
       "(Intercept)      1.4974  0.3503  18.2758 0.0000  \n",
       "isCEL            0.1838  0.2216   0.6877 0.4070  \n",
       "cni              1.4194  0.9815   2.0911 0.1482  \n",
       "ncho            -0.9498  0.6539   2.1099 0.1464  \n",
       "cbvn_nlin        0.0293  0.1182   0.0616 0.8040  \n",
       "isCEL:cni       -1.1513  0.8580   1.8008 0.1796  \n",
       "isCEL:ncho       0.4827  0.4375   1.2171 0.2699  \n",
       "isCEL:cbvn_nlin -0.0362  0.1399   0.0671 0.7957  "
      ]
     },
     "metadata": {},
     "output_type": "display_data"
    }
   ],
   "source": [
    "gee.fit1 = geeglm(txe_rhgg ~ isCEL*(cni+ncho+cbvn_nlin), data = data_noMissingValues, id = factor(t_number_y), family = binomial, corstr = \"exchangeable\")\n",
    "round(summary(gee.fit1)$coefficients, 4)\n",
    "\n"
   ]
  },
  {
   "cell_type": "code",
   "execution_count": 32,
   "metadata": {},
   "outputs": [
    {
     "data": {
      "text/html": [
       "<table>\n",
       "<thead><tr><th></th><th scope=col>Estimate</th><th scope=col>Std.err</th><th scope=col>Wald</th><th scope=col>Pr(&gt;|W|)</th></tr></thead>\n",
       "<tbody>\n",
       "\t<tr><th scope=row>(Intercept)</th><td> 1.4745</td><td>0.3377 </td><td>19.0677</td><td>0.0000 </td></tr>\n",
       "\t<tr><th scope=row>isCEL</th><td> 0.2007</td><td>0.2415 </td><td> 0.6901</td><td>0.4061 </td></tr>\n",
       "\t<tr><th scope=row>cni</th><td> 1.4038</td><td>0.9679 </td><td> 2.1036</td><td>0.1470 </td></tr>\n",
       "\t<tr><th scope=row>ncho</th><td>-0.9403</td><td>0.6465 </td><td> 2.1152</td><td>0.1458 </td></tr>\n",
       "\t<tr><th scope=row>isCEL:cni</th><td>-1.1469</td><td>0.8464 </td><td> 1.8361</td><td>0.1754 </td></tr>\n",
       "\t<tr><th scope=row>isCEL:ncho</th><td> 0.4834</td><td>0.4128 </td><td> 1.3712</td><td>0.2416 </td></tr>\n",
       "\t<tr><th scope=row>isCEL:cbvn_nlin</th><td>-0.0126</td><td>0.0830 </td><td> 0.0230</td><td>0.8794 </td></tr>\n",
       "</tbody>\n",
       "</table>\n"
      ],
      "text/latex": [
       "\\begin{tabular}{r|llll}\n",
       "  & Estimate & Std.err & Wald & Pr(>\\textbar{}W\\textbar{})\\\\\n",
       "\\hline\n",
       "\t(Intercept) &  1.4745 & 0.3377  & 19.0677 & 0.0000 \\\\\n",
       "\tisCEL &  0.2007 & 0.2415  &  0.6901 & 0.4061 \\\\\n",
       "\tcni &  1.4038 & 0.9679  &  2.1036 & 0.1470 \\\\\n",
       "\tncho & -0.9403 & 0.6465  &  2.1152 & 0.1458 \\\\\n",
       "\tisCEL:cni & -1.1469 & 0.8464  &  1.8361 & 0.1754 \\\\\n",
       "\tisCEL:ncho &  0.4834 & 0.4128  &  1.3712 & 0.2416 \\\\\n",
       "\tisCEL:cbvn\\_nlin & -0.0126 & 0.0830  &  0.0230 & 0.8794 \\\\\n",
       "\\end{tabular}\n"
      ],
      "text/markdown": [
       "\n",
       "| <!--/--> | Estimate | Std.err | Wald | Pr(>|W|) | \n",
       "|---|---|---|---|---|---|---|\n",
       "| (Intercept) |  1.4745 | 0.3377  | 19.0677 | 0.0000  | \n",
       "| isCEL |  0.2007 | 0.2415  |  0.6901 | 0.4061  | \n",
       "| cni |  1.4038 | 0.9679  |  2.1036 | 0.1470  | \n",
       "| ncho | -0.9403 | 0.6465  |  2.1152 | 0.1458  | \n",
       "| isCEL:cni | -1.1469 | 0.8464  |  1.8361 | 0.1754  | \n",
       "| isCEL:ncho |  0.4834 | 0.4128  |  1.3712 | 0.2416  | \n",
       "| isCEL:cbvn_nlin | -0.0126 | 0.0830  |  0.0230 | 0.8794  | \n",
       "\n",
       "\n"
      ],
      "text/plain": [
       "                Estimate Std.err Wald    Pr(>|W|)\n",
       "(Intercept)      1.4745  0.3377  19.0677 0.0000  \n",
       "isCEL            0.2007  0.2415   0.6901 0.4061  \n",
       "cni              1.4038  0.9679   2.1036 0.1470  \n",
       "ncho            -0.9403  0.6465   2.1152 0.1458  \n",
       "isCEL:cni       -1.1469  0.8464   1.8361 0.1754  \n",
       "isCEL:ncho       0.4834  0.4128   1.3712 0.2416  \n",
       "isCEL:cbvn_nlin -0.0126  0.0830   0.0230 0.8794  "
      ]
     },
     "metadata": {},
     "output_type": "display_data"
    }
   ],
   "source": [
    "gee.fit1 = geeglm(txe_rhgg ~ isCEL*(cni+ncho)+cbvn_nlin:isCEL, data = data_noMissingValues, id = factor(t_number_y), family = binomial, corstr = \"exchangeable\")\n",
    "round(summary(gee.fit1)$coefficients, 4)\n",
    "\n"
   ]
  },
  {
   "cell_type": "code",
   "execution_count": 37,
   "metadata": {},
   "outputs": [
    {
     "data": {
      "text/html": [
       "<table>\n",
       "<thead><tr><th></th><th scope=col>Estimate</th><th scope=col>Std.err</th><th scope=col>Wald</th><th scope=col>Pr(&gt;|W|)</th></tr></thead>\n",
       "<tbody>\n",
       "\t<tr><th scope=row>(Intercept)</th><td> 1.4719</td><td>0.3343 </td><td>19.3897</td><td>0.0000 </td></tr>\n",
       "\t<tr><th scope=row>isCEL</th><td> 0.2025</td><td>0.2350 </td><td> 0.7428</td><td>0.3888 </td></tr>\n",
       "\t<tr><th scope=row>cni</th><td> 1.3993</td><td>0.9584 </td><td> 2.1319</td><td>0.1443 </td></tr>\n",
       "\t<tr><th scope=row>ncho</th><td>-0.9345</td><td>0.6349 </td><td> 2.1663</td><td>0.1411 </td></tr>\n",
       "\t<tr><th scope=row>isCEL:cni</th><td>-1.1460</td><td>0.8550 </td><td> 1.7965</td><td>0.1801 </td></tr>\n",
       "\t<tr><th scope=row>isCEL:ncho</th><td> 0.4823</td><td>0.4234 </td><td> 1.2979</td><td>0.2546 </td></tr>\n",
       "</tbody>\n",
       "</table>\n"
      ],
      "text/latex": [
       "\\begin{tabular}{r|llll}\n",
       "  & Estimate & Std.err & Wald & Pr(>\\textbar{}W\\textbar{})\\\\\n",
       "\\hline\n",
       "\t(Intercept) &  1.4719 & 0.3343  & 19.3897 & 0.0000 \\\\\n",
       "\tisCEL &  0.2025 & 0.2350  &  0.7428 & 0.3888 \\\\\n",
       "\tcni &  1.3993 & 0.9584  &  2.1319 & 0.1443 \\\\\n",
       "\tncho & -0.9345 & 0.6349  &  2.1663 & 0.1411 \\\\\n",
       "\tisCEL:cni & -1.1460 & 0.8550  &  1.7965 & 0.1801 \\\\\n",
       "\tisCEL:ncho &  0.4823 & 0.4234  &  1.2979 & 0.2546 \\\\\n",
       "\\end{tabular}\n"
      ],
      "text/markdown": [
       "\n",
       "| <!--/--> | Estimate | Std.err | Wald | Pr(>|W|) | \n",
       "|---|---|---|---|---|---|\n",
       "| (Intercept) |  1.4719 | 0.3343  | 19.3897 | 0.0000  | \n",
       "| isCEL |  0.2025 | 0.2350  |  0.7428 | 0.3888  | \n",
       "| cni |  1.3993 | 0.9584  |  2.1319 | 0.1443  | \n",
       "| ncho | -0.9345 | 0.6349  |  2.1663 | 0.1411  | \n",
       "| isCEL:cni | -1.1460 | 0.8550  |  1.7965 | 0.1801  | \n",
       "| isCEL:ncho |  0.4823 | 0.4234  |  1.2979 | 0.2546  | \n",
       "\n",
       "\n"
      ],
      "text/plain": [
       "            Estimate Std.err Wald    Pr(>|W|)\n",
       "(Intercept)  1.4719  0.3343  19.3897 0.0000  \n",
       "isCEL        0.2025  0.2350   0.7428 0.3888  \n",
       "cni          1.3993  0.9584   2.1319 0.1443  \n",
       "ncho        -0.9345  0.6349   2.1663 0.1411  \n",
       "isCEL:cni   -1.1460  0.8550   1.7965 0.1801  \n",
       "isCEL:ncho   0.4823  0.4234   1.2979 0.2546  "
      ]
     },
     "metadata": {},
     "output_type": "display_data"
    }
   ],
   "source": [
    "gee.fit1 = geeglm(txe_rhgg ~ isCEL*(cni+ncho), data = data_noMissingValues, id = factor(t_number_y), family = binomial, corstr = \"exchangeable\")\n",
    "round(summary(gee.fit1)$coefficients, 4)\n",
    "\n"
   ]
  },
  {
   "cell_type": "code",
   "execution_count": 36,
   "metadata": {},
   "outputs": [
    {
     "data": {
      "text/html": [
       "<table>\n",
       "<thead><tr><th></th><th scope=col>Estimate</th><th scope=col>Std.err</th><th scope=col>Wald</th><th scope=col>Pr(&gt;|W|)</th></tr></thead>\n",
       "<tbody>\n",
       "\t<tr><th scope=row>(Intercept)</th><td> 1.5678</td><td>0.3626 </td><td>18.6920</td><td>0.0000 </td></tr>\n",
       "\t<tr><th scope=row>cni</th><td> 1.3849</td><td>1.0057 </td><td> 1.8964</td><td>0.1685 </td></tr>\n",
       "\t<tr><th scope=row>ncho</th><td>-0.7838</td><td>0.6388 </td><td> 1.5056</td><td>0.2198 </td></tr>\n",
       "\t<tr><th scope=row>isCEL:cni</th><td>-1.2098</td><td>0.9481 </td><td> 1.6284</td><td>0.2019 </td></tr>\n",
       "\t<tr><th scope=row>isCEL:ncho</th><td> 0.4444</td><td>0.4666 </td><td> 0.9068</td><td>0.3410 </td></tr>\n",
       "</tbody>\n",
       "</table>\n"
      ],
      "text/latex": [
       "\\begin{tabular}{r|llll}\n",
       "  & Estimate & Std.err & Wald & Pr(>\\textbar{}W\\textbar{})\\\\\n",
       "\\hline\n",
       "\t(Intercept) &  1.5678 & 0.3626  & 18.6920 & 0.0000 \\\\\n",
       "\tcni &  1.3849 & 1.0057  &  1.8964 & 0.1685 \\\\\n",
       "\tncho & -0.7838 & 0.6388  &  1.5056 & 0.2198 \\\\\n",
       "\tisCEL:cni & -1.2098 & 0.9481  &  1.6284 & 0.2019 \\\\\n",
       "\tisCEL:ncho &  0.4444 & 0.4666  &  0.9068 & 0.3410 \\\\\n",
       "\\end{tabular}\n"
      ],
      "text/markdown": [
       "\n",
       "| <!--/--> | Estimate | Std.err | Wald | Pr(>|W|) | \n",
       "|---|---|---|---|---|\n",
       "| (Intercept) |  1.5678 | 0.3626  | 18.6920 | 0.0000  | \n",
       "| cni |  1.3849 | 1.0057  |  1.8964 | 0.1685  | \n",
       "| ncho | -0.7838 | 0.6388  |  1.5056 | 0.2198  | \n",
       "| isCEL:cni | -1.2098 | 0.9481  |  1.6284 | 0.2019  | \n",
       "| isCEL:ncho |  0.4444 | 0.4666  |  0.9068 | 0.3410  | \n",
       "\n",
       "\n"
      ],
      "text/plain": [
       "            Estimate Std.err Wald    Pr(>|W|)\n",
       "(Intercept)  1.5678  0.3626  18.6920 0.0000  \n",
       "cni          1.3849  1.0057   1.8964 0.1685  \n",
       "ncho        -0.7838  0.6388   1.5056 0.2198  \n",
       "isCEL:cni   -1.2098  0.9481   1.6284 0.2019  \n",
       "isCEL:ncho   0.4444  0.4666   0.9068 0.3410  "
      ]
     },
     "metadata": {},
     "output_type": "display_data"
    }
   ],
   "source": [
    "gee.fit1 = geeglm(txe_rhgg ~ isCEL:(cni+ncho)+cni+ncho, data = data_noMissingValues, id = factor(t_number_y), family = binomial, corstr = \"exchangeable\")\n",
    "round(summary(gee.fit1)$coefficients, 4)\n",
    "\n"
   ]
  },
  {
   "cell_type": "code",
   "execution_count": 38,
   "metadata": {},
   "outputs": [
    {
     "data": {
      "text/html": [
       "<table>\n",
       "<thead><tr><th></th><th scope=col>Estimate</th><th scope=col>Std.err</th><th scope=col>Wald</th><th scope=col>Pr(&gt;|W|)</th></tr></thead>\n",
       "<tbody>\n",
       "\t<tr><th scope=row>(Intercept)</th><td> 1.5310</td><td>0.3441 </td><td>19.7977</td><td>0.0000 </td></tr>\n",
       "\t<tr><th scope=row>cni</th><td> 1.0690</td><td>0.7603 </td><td> 1.9768</td><td>0.1597 </td></tr>\n",
       "\t<tr><th scope=row>ncho</th><td>-0.4883</td><td>0.4198 </td><td> 1.3532</td><td>0.2447 </td></tr>\n",
       "\t<tr><th scope=row>isCEL:cni</th><td>-0.7645</td><td>0.5173 </td><td> 2.1836</td><td>0.1395 </td></tr>\n",
       "</tbody>\n",
       "</table>\n"
      ],
      "text/latex": [
       "\\begin{tabular}{r|llll}\n",
       "  & Estimate & Std.err & Wald & Pr(>\\textbar{}W\\textbar{})\\\\\n",
       "\\hline\n",
       "\t(Intercept) &  1.5310 & 0.3441  & 19.7977 & 0.0000 \\\\\n",
       "\tcni &  1.0690 & 0.7603  &  1.9768 & 0.1597 \\\\\n",
       "\tncho & -0.4883 & 0.4198  &  1.3532 & 0.2447 \\\\\n",
       "\tisCEL:cni & -0.7645 & 0.5173  &  2.1836 & 0.1395 \\\\\n",
       "\\end{tabular}\n"
      ],
      "text/markdown": [
       "\n",
       "| <!--/--> | Estimate | Std.err | Wald | Pr(>|W|) | \n",
       "|---|---|---|---|\n",
       "| (Intercept) |  1.5310 | 0.3441  | 19.7977 | 0.0000  | \n",
       "| cni |  1.0690 | 0.7603  |  1.9768 | 0.1597  | \n",
       "| ncho | -0.4883 | 0.4198  |  1.3532 | 0.2447  | \n",
       "| isCEL:cni | -0.7645 | 0.5173  |  2.1836 | 0.1395  | \n",
       "\n",
       "\n"
      ],
      "text/plain": [
       "            Estimate Std.err Wald    Pr(>|W|)\n",
       "(Intercept)  1.5310  0.3441  19.7977 0.0000  \n",
       "cni          1.0690  0.7603   1.9768 0.1597  \n",
       "ncho        -0.4883  0.4198   1.3532 0.2447  \n",
       "isCEL:cni   -0.7645  0.5173   2.1836 0.1395  "
      ]
     },
     "metadata": {},
     "output_type": "display_data"
    }
   ],
   "source": [
    "gee.fit1 = geeglm(txe_rhgg ~ isCEL:(cni)+cni+ncho, data = data_noMissingValues, id = factor(t_number_y), family = binomial, corstr = \"exchangeable\")\n",
    "round(summary(gee.fit1)$coefficients, 4)\n",
    "\n"
   ]
  },
  {
   "cell_type": "code",
   "execution_count": 39,
   "metadata": {},
   "outputs": [
    {
     "data": {
      "text/html": [
       "<table>\n",
       "<thead><tr><th></th><th scope=col>Estimate</th><th scope=col>Std.err</th><th scope=col>Wald</th><th scope=col>Pr(&gt;|W|)</th></tr></thead>\n",
       "<tbody>\n",
       "\t<tr><th scope=row>(Intercept)</th><td> 1.4980</td><td>0.3267 </td><td>21.0302</td><td>0.0000 </td></tr>\n",
       "\t<tr><th scope=row>cni</th><td> 0.6108</td><td>0.3522 </td><td> 3.0083</td><td>0.0828 </td></tr>\n",
       "\t<tr><th scope=row>isCEL:cni</th><td>-0.6855</td><td>0.4755 </td><td> 2.0783</td><td>0.1494 </td></tr>\n",
       "</tbody>\n",
       "</table>\n"
      ],
      "text/latex": [
       "\\begin{tabular}{r|llll}\n",
       "  & Estimate & Std.err & Wald & Pr(>\\textbar{}W\\textbar{})\\\\\n",
       "\\hline\n",
       "\t(Intercept) &  1.4980 & 0.3267  & 21.0302 & 0.0000 \\\\\n",
       "\tcni &  0.6108 & 0.3522  &  3.0083 & 0.0828 \\\\\n",
       "\tisCEL:cni & -0.6855 & 0.4755  &  2.0783 & 0.1494 \\\\\n",
       "\\end{tabular}\n"
      ],
      "text/markdown": [
       "\n",
       "| <!--/--> | Estimate | Std.err | Wald | Pr(>|W|) | \n",
       "|---|---|---|\n",
       "| (Intercept) |  1.4980 | 0.3267  | 21.0302 | 0.0000  | \n",
       "| cni |  0.6108 | 0.3522  |  3.0083 | 0.0828  | \n",
       "| isCEL:cni | -0.6855 | 0.4755  |  2.0783 | 0.1494  | \n",
       "\n",
       "\n"
      ],
      "text/plain": [
       "            Estimate Std.err Wald    Pr(>|W|)\n",
       "(Intercept)  1.4980  0.3267  21.0302 0.0000  \n",
       "cni          0.6108  0.3522   3.0083 0.0828  \n",
       "isCEL:cni   -0.6855  0.4755   2.0783 0.1494  "
      ]
     },
     "metadata": {},
     "output_type": "display_data"
    }
   ],
   "source": [
    "gee.fit1 = geeglm(txe_rhgg ~ isCEL:(cni)+cni, data = data_noMissingValues, id = factor(t_number_y), family = binomial, corstr = \"exchangeable\")\n",
    "round(summary(gee.fit1)$coefficients, 4)\n",
    "\n"
   ]
  },
  {
   "cell_type": "code",
   "execution_count": 40,
   "metadata": {},
   "outputs": [
    {
     "data": {
      "text/html": [
       "<table>\n",
       "<thead><tr><th></th><th scope=col>Estimate</th><th scope=col>Std.err</th><th scope=col>Wald</th><th scope=col>Pr(&gt;|W|)</th></tr></thead>\n",
       "<tbody>\n",
       "\t<tr><th scope=row>(Intercept)</th><td>1.4590 </td><td>0.3239 </td><td>20.2887</td><td>0e+00  </td></tr>\n",
       "\t<tr><th scope=row>cni</th><td>0.1497 </td><td>0.0421 </td><td>12.6535</td><td>4e-04  </td></tr>\n",
       "</tbody>\n",
       "</table>\n"
      ],
      "text/latex": [
       "\\begin{tabular}{r|llll}\n",
       "  & Estimate & Std.err & Wald & Pr(>\\textbar{}W\\textbar{})\\\\\n",
       "\\hline\n",
       "\t(Intercept) & 1.4590  & 0.3239  & 20.2887 & 0e+00  \\\\\n",
       "\tcni & 0.1497  & 0.0421  & 12.6535 & 4e-04  \\\\\n",
       "\\end{tabular}\n"
      ],
      "text/markdown": [
       "\n",
       "| <!--/--> | Estimate | Std.err | Wald | Pr(>|W|) | \n",
       "|---|---|\n",
       "| (Intercept) | 1.4590  | 0.3239  | 20.2887 | 0e+00   | \n",
       "| cni | 0.1497  | 0.0421  | 12.6535 | 4e-04   | \n",
       "\n",
       "\n"
      ],
      "text/plain": [
       "            Estimate Std.err Wald    Pr(>|W|)\n",
       "(Intercept) 1.4590   0.3239  20.2887 0e+00   \n",
       "cni         0.1497   0.0421  12.6535 4e-04   "
      ]
     },
     "metadata": {},
     "output_type": "display_data"
    }
   ],
   "source": [
    "gee.fit1 = geeglm(txe_rhgg ~ cni, data = data_noMissingValues, id = factor(t_number_y), family = binomial, corstr = \"exchangeable\")\n",
    "round(summary(gee.fit1)$coefficients, 4)\n",
    "\n"
   ]
  },
  {
   "cell_type": "markdown",
   "metadata": {},
   "source": [
    "## using all variables, imputing median for missing stuff: "
   ]
  },
  {
   "cell_type": "code",
   "execution_count": 76,
   "metadata": {},
   "outputs": [
    {
     "data": {
      "text/html": [
       "<table>\n",
       "<thead><tr><th></th><th scope=col>vialid</th><th scope=col>t_number_y</th><th scope=col>CELorNEL</th><th scope=col>newdata</th><th scope=col>nadc.1</th><th scope=col>nfa.1</th><th scope=col>cbvn_nlin</th><th scope=col>ccri</th><th scope=col>cni</th><th scope=col>ncho</th><th scope=col>nnaa</th><th scope=col>ncre</th><th scope=col>outcome</th></tr></thead>\n",
       "<tbody>\n",
       "\t<tr><th scope=row>1</th><td>1B82       </td><td>10366      </td><td>NEL        </td><td>1          </td><td>-1.9306504 </td><td> 0.0887003 </td><td>-0.4167726 </td><td>-0.15160317</td><td>-0.3249772 </td><td>-0.2834404 </td><td> 0.26413101</td><td>-0.2329996 </td><td>txe        </td></tr>\n",
       "\t<tr><th scope=row>3</th><td>29B82      </td><td>10448      </td><td>CEL        </td><td>1          </td><td>-0.1270785 </td><td>-0.9415532 </td><td> 0.8249134 </td><td>         NA</td><td>        NA </td><td>        NA </td><td>         NA</td><td>        NA </td><td>rHGG       </td></tr>\n",
       "\t<tr><th scope=row>5</th><td>60B90      </td><td>10594      </td><td>NEL        </td><td>1          </td><td> 0.9094571 </td><td>-1.1913116 </td><td>-0.5363423 </td><td>-0.45804495</td><td>-0.1544364 </td><td>-0.2727651 </td><td>-0.06445302</td><td> 0.2409752 </td><td>rHGG       </td></tr>\n",
       "\t<tr><th scope=row>6</th><td>58B90      </td><td>10594      </td><td>NEL        </td><td>1          </td><td>-0.1685399 </td><td>-0.2234977 </td><td>-0.6375167 </td><td> 0.01063071</td><td> 0.9400795 </td><td> 0.3357215 </td><td>-0.82019628</td><td> 0.6557031 </td><td>rHGG       </td></tr>\n",
       "\t<tr><th scope=row>7</th><td>59B90      </td><td>10594      </td><td>NEL        </td><td>1          </td><td> 2.7959518 </td><td>-1.1913116 </td><td>-1.0238190 </td><td>-0.06147324</td><td> 0.1255560 </td><td> 0.6346272 </td><td> 1.18416628</td><td> 0.8630670 </td><td>rHGG       </td></tr>\n",
       "\t<tr><th scope=row>8</th><td>7B91       </td><td>10655      </td><td>NEL        </td><td>1          </td><td>-1.1014220 </td><td>-0.5981353 </td><td>-0.8306679 </td><td>-0.02902646</td><td>-0.1137102 </td><td>-0.2087139 </td><td>-0.36017865</td><td>-0.1441293 </td><td>txe        </td></tr>\n",
       "</tbody>\n",
       "</table>\n"
      ],
      "text/latex": [
       "\\begin{tabular}{r|lllllllllllll}\n",
       "  & vialid & t\\_number\\_y & CELorNEL & newdata & nadc.1 & nfa.1 & cbvn\\_nlin & ccri & cni & ncho & nnaa & ncre & outcome\\\\\n",
       "\\hline\n",
       "\t1 & 1B82        & 10366       & NEL         & 1           & -1.9306504  &  0.0887003  & -0.4167726  & -0.15160317 & -0.3249772  & -0.2834404  &  0.26413101 & -0.2329996  & txe        \\\\\n",
       "\t3 & 29B82       & 10448       & CEL         & 1           & -0.1270785  & -0.9415532  &  0.8249134  &          NA &         NA  &         NA  &          NA &         NA  & rHGG       \\\\\n",
       "\t5 & 60B90       & 10594       & NEL         & 1           &  0.9094571  & -1.1913116  & -0.5363423  & -0.45804495 & -0.1544364  & -0.2727651  & -0.06445302 &  0.2409752  & rHGG       \\\\\n",
       "\t6 & 58B90       & 10594       & NEL         & 1           & -0.1685399  & -0.2234977  & -0.6375167  &  0.01063071 &  0.9400795  &  0.3357215  & -0.82019628 &  0.6557031  & rHGG       \\\\\n",
       "\t7 & 59B90       & 10594       & NEL         & 1           &  2.7959518  & -1.1913116  & -1.0238190  & -0.06147324 &  0.1255560  &  0.6346272  &  1.18416628 &  0.8630670  & rHGG       \\\\\n",
       "\t8 & 7B91        & 10655       & NEL         & 1           & -1.1014220  & -0.5981353  & -0.8306679  & -0.02902646 & -0.1137102  & -0.2087139  & -0.36017865 & -0.1441293  & txe        \\\\\n",
       "\\end{tabular}\n"
      ],
      "text/markdown": [
       "\n",
       "| <!--/--> | vialid | t_number_y | CELorNEL | newdata | nadc.1 | nfa.1 | cbvn_nlin | ccri | cni | ncho | nnaa | ncre | outcome | \n",
       "|---|---|---|---|---|---|\n",
       "| 1 | 1B82        | 10366       | NEL         | 1           | -1.9306504  |  0.0887003  | -0.4167726  | -0.15160317 | -0.3249772  | -0.2834404  |  0.26413101 | -0.2329996  | txe         | \n",
       "| 3 | 29B82       | 10448       | CEL         | 1           | -0.1270785  | -0.9415532  |  0.8249134  |          NA |         NA  |         NA  |          NA |         NA  | rHGG        | \n",
       "| 5 | 60B90       | 10594       | NEL         | 1           |  0.9094571  | -1.1913116  | -0.5363423  | -0.45804495 | -0.1544364  | -0.2727651  | -0.06445302 |  0.2409752  | rHGG        | \n",
       "| 6 | 58B90       | 10594       | NEL         | 1           | -0.1685399  | -0.2234977  | -0.6375167  |  0.01063071 |  0.9400795  |  0.3357215  | -0.82019628 |  0.6557031  | rHGG        | \n",
       "| 7 | 59B90       | 10594       | NEL         | 1           |  2.7959518  | -1.1913116  | -1.0238190  | -0.06147324 |  0.1255560  |  0.6346272  |  1.18416628 |  0.8630670  | rHGG        | \n",
       "| 8 | 7B91        | 10655       | NEL         | 1           | -1.1014220  | -0.5981353  | -0.8306679  | -0.02902646 | -0.1137102  | -0.2087139  | -0.36017865 | -0.1441293  | txe         | \n",
       "\n",
       "\n"
      ],
      "text/plain": [
       "  vialid t_number_y CELorNEL newdata nadc.1     nfa.1      cbvn_nlin \n",
       "1 1B82   10366      NEL      1       -1.9306504  0.0887003 -0.4167726\n",
       "3 29B82  10448      CEL      1       -0.1270785 -0.9415532  0.8249134\n",
       "5 60B90  10594      NEL      1        0.9094571 -1.1913116 -0.5363423\n",
       "6 58B90  10594      NEL      1       -0.1685399 -0.2234977 -0.6375167\n",
       "7 59B90  10594      NEL      1        2.7959518 -1.1913116 -1.0238190\n",
       "8 7B91   10655      NEL      1       -1.1014220 -0.5981353 -0.8306679\n",
       "  ccri        cni        ncho       nnaa        ncre       outcome\n",
       "1 -0.15160317 -0.3249772 -0.2834404  0.26413101 -0.2329996 txe    \n",
       "3          NA         NA         NA          NA         NA rHGG   \n",
       "5 -0.45804495 -0.1544364 -0.2727651 -0.06445302  0.2409752 rHGG   \n",
       "6  0.01063071  0.9400795  0.3357215 -0.82019628  0.6557031 rHGG   \n",
       "7 -0.06147324  0.1255560  0.6346272  1.18416628  0.8630670 rHGG   \n",
       "8 -0.02902646 -0.1137102 -0.2087139 -0.36017865 -0.1441293 txe    "
      ]
     },
     "metadata": {},
     "output_type": "display_data"
    }
   ],
   "source": [
    "head(data)"
   ]
  },
  {
   "cell_type": "code",
   "execution_count": 82,
   "metadata": {
    "collapsed": true
   },
   "outputs": [],
   "source": [
    "data_dummyVars = data.frame(data, \n",
    "                           hasPerf = ifelse(is.na(data$cbvn_nlin), 0, 1), \n",
    "                           hasSpec = ifelse(is.na(data$cni), 0, 1), \n",
    "                           isCEL = ifelse(data$CELorNEL == \"CEL\", 1, 0))"
   ]
  },
  {
   "cell_type": "code",
   "execution_count": 83,
   "metadata": {},
   "outputs": [
    {
     "data": {
      "text/html": [
       "<table>\n",
       "<thead><tr><th></th><th scope=col>vialid</th><th scope=col>t_number_y</th><th scope=col>CELorNEL</th><th scope=col>newdata</th><th scope=col>nadc.1</th><th scope=col>nfa.1</th><th scope=col>cbvn_nlin</th><th scope=col>ccri</th><th scope=col>cni</th><th scope=col>ncho</th><th scope=col>nnaa</th><th scope=col>ncre</th><th scope=col>outcome</th><th scope=col>hasPerf</th><th scope=col>hasSpec</th><th scope=col>isCEL</th></tr></thead>\n",
       "<tbody>\n",
       "\t<tr><th scope=row>1</th><td>1B82       </td><td>10366      </td><td>NEL        </td><td>1          </td><td>-1.9306504 </td><td> 0.0887003 </td><td>-0.4167726 </td><td>-0.15160317</td><td>-0.3249772 </td><td>-0.2834404 </td><td> 0.26413101</td><td>-0.2329996 </td><td>txe        </td><td>1          </td><td>1          </td><td>0          </td></tr>\n",
       "\t<tr><th scope=row>3</th><td>29B82      </td><td>10448      </td><td>CEL        </td><td>1          </td><td>-0.1270785 </td><td>-0.9415532 </td><td> 0.8249134 </td><td>         NA</td><td>        NA </td><td>        NA </td><td>         NA</td><td>        NA </td><td>rHGG       </td><td>1          </td><td>0          </td><td>1          </td></tr>\n",
       "\t<tr><th scope=row>5</th><td>60B90      </td><td>10594      </td><td>NEL        </td><td>1          </td><td> 0.9094571 </td><td>-1.1913116 </td><td>-0.5363423 </td><td>-0.45804495</td><td>-0.1544364 </td><td>-0.2727651 </td><td>-0.06445302</td><td> 0.2409752 </td><td>rHGG       </td><td>1          </td><td>1          </td><td>0          </td></tr>\n",
       "\t<tr><th scope=row>6</th><td>58B90      </td><td>10594      </td><td>NEL        </td><td>1          </td><td>-0.1685399 </td><td>-0.2234977 </td><td>-0.6375167 </td><td> 0.01063071</td><td> 0.9400795 </td><td> 0.3357215 </td><td>-0.82019628</td><td> 0.6557031 </td><td>rHGG       </td><td>1          </td><td>1          </td><td>0          </td></tr>\n",
       "\t<tr><th scope=row>7</th><td>59B90      </td><td>10594      </td><td>NEL        </td><td>1          </td><td> 2.7959518 </td><td>-1.1913116 </td><td>-1.0238190 </td><td>-0.06147324</td><td> 0.1255560 </td><td> 0.6346272 </td><td> 1.18416628</td><td> 0.8630670 </td><td>rHGG       </td><td>1          </td><td>1          </td><td>0          </td></tr>\n",
       "\t<tr><th scope=row>8</th><td>7B91       </td><td>10655      </td><td>NEL        </td><td>1          </td><td>-1.1014220 </td><td>-0.5981353 </td><td>-0.8306679 </td><td>-0.02902646</td><td>-0.1137102 </td><td>-0.2087139 </td><td>-0.36017865</td><td>-0.1441293 </td><td>txe        </td><td>1          </td><td>1          </td><td>0          </td></tr>\n",
       "</tbody>\n",
       "</table>\n"
      ],
      "text/latex": [
       "\\begin{tabular}{r|llllllllllllllll}\n",
       "  & vialid & t\\_number\\_y & CELorNEL & newdata & nadc.1 & nfa.1 & cbvn\\_nlin & ccri & cni & ncho & nnaa & ncre & outcome & hasPerf & hasSpec & isCEL\\\\\n",
       "\\hline\n",
       "\t1 & 1B82        & 10366       & NEL         & 1           & -1.9306504  &  0.0887003  & -0.4167726  & -0.15160317 & -0.3249772  & -0.2834404  &  0.26413101 & -0.2329996  & txe         & 1           & 1           & 0          \\\\\n",
       "\t3 & 29B82       & 10448       & CEL         & 1           & -0.1270785  & -0.9415532  &  0.8249134  &          NA &         NA  &         NA  &          NA &         NA  & rHGG        & 1           & 0           & 1          \\\\\n",
       "\t5 & 60B90       & 10594       & NEL         & 1           &  0.9094571  & -1.1913116  & -0.5363423  & -0.45804495 & -0.1544364  & -0.2727651  & -0.06445302 &  0.2409752  & rHGG        & 1           & 1           & 0          \\\\\n",
       "\t6 & 58B90       & 10594       & NEL         & 1           & -0.1685399  & -0.2234977  & -0.6375167  &  0.01063071 &  0.9400795  &  0.3357215  & -0.82019628 &  0.6557031  & rHGG        & 1           & 1           & 0          \\\\\n",
       "\t7 & 59B90       & 10594       & NEL         & 1           &  2.7959518  & -1.1913116  & -1.0238190  & -0.06147324 &  0.1255560  &  0.6346272  &  1.18416628 &  0.8630670  & rHGG        & 1           & 1           & 0          \\\\\n",
       "\t8 & 7B91        & 10655       & NEL         & 1           & -1.1014220  & -0.5981353  & -0.8306679  & -0.02902646 & -0.1137102  & -0.2087139  & -0.36017865 & -0.1441293  & txe         & 1           & 1           & 0          \\\\\n",
       "\\end{tabular}\n"
      ],
      "text/markdown": [
       "\n",
       "| <!--/--> | vialid | t_number_y | CELorNEL | newdata | nadc.1 | nfa.1 | cbvn_nlin | ccri | cni | ncho | nnaa | ncre | outcome | hasPerf | hasSpec | isCEL | \n",
       "|---|---|---|---|---|---|\n",
       "| 1 | 1B82        | 10366       | NEL         | 1           | -1.9306504  |  0.0887003  | -0.4167726  | -0.15160317 | -0.3249772  | -0.2834404  |  0.26413101 | -0.2329996  | txe         | 1           | 1           | 0           | \n",
       "| 3 | 29B82       | 10448       | CEL         | 1           | -0.1270785  | -0.9415532  |  0.8249134  |          NA |         NA  |         NA  |          NA |         NA  | rHGG        | 1           | 0           | 1           | \n",
       "| 5 | 60B90       | 10594       | NEL         | 1           |  0.9094571  | -1.1913116  | -0.5363423  | -0.45804495 | -0.1544364  | -0.2727651  | -0.06445302 |  0.2409752  | rHGG        | 1           | 1           | 0           | \n",
       "| 6 | 58B90       | 10594       | NEL         | 1           | -0.1685399  | -0.2234977  | -0.6375167  |  0.01063071 |  0.9400795  |  0.3357215  | -0.82019628 |  0.6557031  | rHGG        | 1           | 1           | 0           | \n",
       "| 7 | 59B90       | 10594       | NEL         | 1           |  2.7959518  | -1.1913116  | -1.0238190  | -0.06147324 |  0.1255560  |  0.6346272  |  1.18416628 |  0.8630670  | rHGG        | 1           | 1           | 0           | \n",
       "| 8 | 7B91        | 10655       | NEL         | 1           | -1.1014220  | -0.5981353  | -0.8306679  | -0.02902646 | -0.1137102  | -0.2087139  | -0.36017865 | -0.1441293  | txe         | 1           | 1           | 0           | \n",
       "\n",
       "\n"
      ],
      "text/plain": [
       "  vialid t_number_y CELorNEL newdata nadc.1     nfa.1      cbvn_nlin \n",
       "1 1B82   10366      NEL      1       -1.9306504  0.0887003 -0.4167726\n",
       "3 29B82  10448      CEL      1       -0.1270785 -0.9415532  0.8249134\n",
       "5 60B90  10594      NEL      1        0.9094571 -1.1913116 -0.5363423\n",
       "6 58B90  10594      NEL      1       -0.1685399 -0.2234977 -0.6375167\n",
       "7 59B90  10594      NEL      1        2.7959518 -1.1913116 -1.0238190\n",
       "8 7B91   10655      NEL      1       -1.1014220 -0.5981353 -0.8306679\n",
       "  ccri        cni        ncho       nnaa        ncre       outcome hasPerf\n",
       "1 -0.15160317 -0.3249772 -0.2834404  0.26413101 -0.2329996 txe     1      \n",
       "3          NA         NA         NA          NA         NA rHGG    1      \n",
       "5 -0.45804495 -0.1544364 -0.2727651 -0.06445302  0.2409752 rHGG    1      \n",
       "6  0.01063071  0.9400795  0.3357215 -0.82019628  0.6557031 rHGG    1      \n",
       "7 -0.06147324  0.1255560  0.6346272  1.18416628  0.8630670 rHGG    1      \n",
       "8 -0.02902646 -0.1137102 -0.2087139 -0.36017865 -0.1441293 txe     1      \n",
       "  hasSpec isCEL\n",
       "1 1       0    \n",
       "3 0       1    \n",
       "5 1       0    \n",
       "6 1       0    \n",
       "7 1       0    \n",
       "8 1       0    "
      ]
     },
     "metadata": {},
     "output_type": "display_data"
    }
   ],
   "source": [
    "head(data_dummyVars)"
   ]
  },
  {
   "cell_type": "code",
   "execution_count": 88,
   "metadata": {
    "collapsed": true
   },
   "outputs": [],
   "source": [
    "data_dummyVars$cbvn_nlin = ifelse(is.na(data_dummyVars$cbvn_nlin), median(data_dummyVars$cbvn_nlin, na.rm = T), data_dummyVars$cbvn_nlin)\n",
    "data_dummyVars$cni = ifelse(is.na(data_dummyVars$cni), median(data_dummyVars$cni, na.rm = T), data_dummyVars$cni)\n",
    "data_dummyVars$ncho = ifelse(is.na(data_dummyVars$ncho), median(data_dummyVars$ncho, na.rm = T), data_dummyVars$ncho)\n",
    "data_dummyVars$ccri = ifelse(is.na(data_dummyVars$ccri), median(data_dummyVars$ccri, na.rm = T), data_dummyVars$ccri)\n",
    "data_dummyVars$nnaa = ifelse(is.na(data_dummyVars$nnaa), median(data_dummyVars$nnaa, na.rm = T), data_dummyVars$nnaa)\n",
    "data_dummyVars$ncre = ifelse(is.na(data_dummyVars$ncre), median(data_dummyVars$ncre, na.rm = T), data_dummyVars$ncre)\n",
    "\n",
    "\n",
    "data_dummyVars$nadc.1 = ifelse(is.na(data_dummyVars$nadc.1), median(data_dummyVars$nadc.1, na.rm = T), data_dummyVars$nadc.1)\n",
    "data_dummyVars$nfa.1 = ifelse(is.na(data_dummyVars$nfa.1), median(data_dummyVars$nfa.1, na.rm = T), data_dummyVars$nfa.1)\n"
   ]
  },
  {
   "cell_type": "code",
   "execution_count": 89,
   "metadata": {},
   "outputs": [
    {
     "data": {
      "text/html": [
       "<dl class=dl-horizontal>\n",
       "\t<dt>vialid</dt>\n",
       "\t\t<dd>0</dd>\n",
       "\t<dt>t_number_y</dt>\n",
       "\t\t<dd>0</dd>\n",
       "\t<dt>CELorNEL</dt>\n",
       "\t\t<dd>0</dd>\n",
       "\t<dt>newdata</dt>\n",
       "\t\t<dd>0</dd>\n",
       "\t<dt>nadc.1</dt>\n",
       "\t\t<dd>0</dd>\n",
       "\t<dt>nfa.1</dt>\n",
       "\t\t<dd>0</dd>\n",
       "\t<dt>cbvn_nlin</dt>\n",
       "\t\t<dd>0</dd>\n",
       "\t<dt>ccri</dt>\n",
       "\t\t<dd>0</dd>\n",
       "\t<dt>cni</dt>\n",
       "\t\t<dd>0</dd>\n",
       "\t<dt>ncho</dt>\n",
       "\t\t<dd>0</dd>\n",
       "\t<dt>nnaa</dt>\n",
       "\t\t<dd>0</dd>\n",
       "\t<dt>ncre</dt>\n",
       "\t\t<dd>0</dd>\n",
       "\t<dt>outcome</dt>\n",
       "\t\t<dd>0</dd>\n",
       "\t<dt>hasPerf</dt>\n",
       "\t\t<dd>0</dd>\n",
       "\t<dt>hasSpec</dt>\n",
       "\t\t<dd>0</dd>\n",
       "\t<dt>isCEL</dt>\n",
       "\t\t<dd>0</dd>\n",
       "</dl>\n"
      ],
      "text/latex": [
       "\\begin{description*}\n",
       "\\item[vialid] 0\n",
       "\\item[t\\textbackslash{}\\_number\\textbackslash{}\\_y] 0\n",
       "\\item[CELorNEL] 0\n",
       "\\item[newdata] 0\n",
       "\\item[nadc.1] 0\n",
       "\\item[nfa.1] 0\n",
       "\\item[cbvn\\textbackslash{}\\_nlin] 0\n",
       "\\item[ccri] 0\n",
       "\\item[cni] 0\n",
       "\\item[ncho] 0\n",
       "\\item[nnaa] 0\n",
       "\\item[ncre] 0\n",
       "\\item[outcome] 0\n",
       "\\item[hasPerf] 0\n",
       "\\item[hasSpec] 0\n",
       "\\item[isCEL] 0\n",
       "\\end{description*}\n"
      ],
      "text/markdown": [
       "vialid\n",
       ":   0t_number_y\n",
       ":   0CELorNEL\n",
       ":   0newdata\n",
       ":   0nadc.1\n",
       ":   0nfa.1\n",
       ":   0cbvn_nlin\n",
       ":   0ccri\n",
       ":   0cni\n",
       ":   0ncho\n",
       ":   0nnaa\n",
       ":   0ncre\n",
       ":   0outcome\n",
       ":   0hasPerf\n",
       ":   0hasSpec\n",
       ":   0isCEL\n",
       ":   0\n",
       "\n"
      ],
      "text/plain": [
       "    vialid t_number_y   CELorNEL    newdata     nadc.1      nfa.1  cbvn_nlin \n",
       "         0          0          0          0          0          0          0 \n",
       "      ccri        cni       ncho       nnaa       ncre    outcome    hasPerf \n",
       "         0          0          0          0          0          0          0 \n",
       "   hasSpec      isCEL \n",
       "         0          0 "
      ]
     },
     "metadata": {},
     "output_type": "display_data"
    }
   ],
   "source": [
    "colSums(is.na(data_dummyVars))"
   ]
  },
  {
   "cell_type": "code",
   "execution_count": 90,
   "metadata": {
    "collapsed": true
   },
   "outputs": [],
   "source": [
    "data_imp = data_dummyVars"
   ]
  },
  {
   "cell_type": "code",
   "execution_count": 94,
   "metadata": {},
   "outputs": [
    {
     "data": {
      "text/html": [
       "<ol class=list-inline>\n",
       "\t<li>292</li>\n",
       "\t<li>17</li>\n",
       "</ol>\n"
      ],
      "text/latex": [
       "\\begin{enumerate*}\n",
       "\\item 292\n",
       "\\item 17\n",
       "\\end{enumerate*}\n"
      ],
      "text/markdown": [
       "1. 292\n",
       "2. 17\n",
       "\n",
       "\n"
      ],
      "text/plain": [
       "[1] 292  17"
      ]
     },
     "metadata": {},
     "output_type": "display_data"
    }
   ],
   "source": [
    "dim(data_imp)"
   ]
  },
  {
   "cell_type": "code",
   "execution_count": 91,
   "metadata": {
    "collapsed": true
   },
   "outputs": [],
   "source": [
    "data_imp$txe_rhgg = ifelse(data_imp$outcome==\"txe\", 0, 1)\n"
   ]
  },
  {
   "cell_type": "code",
   "execution_count": 96,
   "metadata": {},
   "outputs": [
    {
     "data": {
      "text/html": [
       "<table>\n",
       "<thead><tr><th></th><th scope=col>Estimate</th><th scope=col>Std.err</th><th scope=col>Wald</th><th scope=col>Pr(&gt;|W|)</th></tr></thead>\n",
       "<tbody>\n",
       "\t<tr><th scope=row>(Intercept)</th><td> 1.0175</td><td>0.2139 </td><td>22.6378</td><td>0.0000 </td></tr>\n",
       "\t<tr><th scope=row>isCEL</th><td>-0.0599</td><td>0.2166 </td><td> 0.0764</td><td>0.7823 </td></tr>\n",
       "\t<tr><th scope=row>cbvn_nlin</th><td> 0.0719</td><td>0.2817 </td><td> 0.0652</td><td>0.7985 </td></tr>\n",
       "\t<tr><th scope=row>cni</th><td> 0.6237</td><td>0.6090 </td><td> 1.0489</td><td>0.3058 </td></tr>\n",
       "\t<tr><th scope=row>ncho</th><td> 0.2646</td><td>0.5975 </td><td> 0.1961</td><td>0.6579 </td></tr>\n",
       "\t<tr><th scope=row>ccri</th><td>-0.1633</td><td>0.3103 </td><td> 0.2769</td><td>0.5988 </td></tr>\n",
       "\t<tr><th scope=row>isCEL:cbvn_nlin</th><td> 0.3017</td><td>0.2653 </td><td> 1.2931</td><td>0.2555 </td></tr>\n",
       "\t<tr><th scope=row>isCEL:cni</th><td>-0.3518</td><td>0.7478 </td><td> 0.2213</td><td>0.6381 </td></tr>\n",
       "\t<tr><th scope=row>isCEL:ncho</th><td>-0.5798</td><td>0.7258 </td><td> 0.6381</td><td>0.4244 </td></tr>\n",
       "\t<tr><th scope=row>isCEL:ccri</th><td> 0.2777</td><td>0.3848 </td><td> 0.5207</td><td>0.4705 </td></tr>\n",
       "</tbody>\n",
       "</table>\n"
      ],
      "text/latex": [
       "\\begin{tabular}{r|llll}\n",
       "  & Estimate & Std.err & Wald & Pr(>\\textbar{}W\\textbar{})\\\\\n",
       "\\hline\n",
       "\t(Intercept) &  1.0175 & 0.2139  & 22.6378 & 0.0000 \\\\\n",
       "\tisCEL & -0.0599 & 0.2166  &  0.0764 & 0.7823 \\\\\n",
       "\tcbvn\\_nlin &  0.0719 & 0.2817  &  0.0652 & 0.7985 \\\\\n",
       "\tcni &  0.6237 & 0.6090  &  1.0489 & 0.3058 \\\\\n",
       "\tncho &  0.2646 & 0.5975  &  0.1961 & 0.6579 \\\\\n",
       "\tccri & -0.1633 & 0.3103  &  0.2769 & 0.5988 \\\\\n",
       "\tisCEL:cbvn\\_nlin &  0.3017 & 0.2653  &  1.2931 & 0.2555 \\\\\n",
       "\tisCEL:cni & -0.3518 & 0.7478  &  0.2213 & 0.6381 \\\\\n",
       "\tisCEL:ncho & -0.5798 & 0.7258  &  0.6381 & 0.4244 \\\\\n",
       "\tisCEL:ccri &  0.2777 & 0.3848  &  0.5207 & 0.4705 \\\\\n",
       "\\end{tabular}\n"
      ],
      "text/markdown": [
       "\n",
       "| <!--/--> | Estimate | Std.err | Wald | Pr(>|W|) | \n",
       "|---|---|---|---|---|---|---|---|---|---|\n",
       "| (Intercept) |  1.0175 | 0.2139  | 22.6378 | 0.0000  | \n",
       "| isCEL | -0.0599 | 0.2166  |  0.0764 | 0.7823  | \n",
       "| cbvn_nlin |  0.0719 | 0.2817  |  0.0652 | 0.7985  | \n",
       "| cni |  0.6237 | 0.6090  |  1.0489 | 0.3058  | \n",
       "| ncho |  0.2646 | 0.5975  |  0.1961 | 0.6579  | \n",
       "| ccri | -0.1633 | 0.3103  |  0.2769 | 0.5988  | \n",
       "| isCEL:cbvn_nlin |  0.3017 | 0.2653  |  1.2931 | 0.2555  | \n",
       "| isCEL:cni | -0.3518 | 0.7478  |  0.2213 | 0.6381  | \n",
       "| isCEL:ncho | -0.5798 | 0.7258  |  0.6381 | 0.4244  | \n",
       "| isCEL:ccri |  0.2777 | 0.3848  |  0.5207 | 0.4705  | \n",
       "\n",
       "\n"
      ],
      "text/plain": [
       "                Estimate Std.err Wald    Pr(>|W|)\n",
       "(Intercept)      1.0175  0.2139  22.6378 0.0000  \n",
       "isCEL           -0.0599  0.2166   0.0764 0.7823  \n",
       "cbvn_nlin        0.0719  0.2817   0.0652 0.7985  \n",
       "cni              0.6237  0.6090   1.0489 0.3058  \n",
       "ncho             0.2646  0.5975   0.1961 0.6579  \n",
       "ccri            -0.1633  0.3103   0.2769 0.5988  \n",
       "isCEL:cbvn_nlin  0.3017  0.2653   1.2931 0.2555  \n",
       "isCEL:cni       -0.3518  0.7478   0.2213 0.6381  \n",
       "isCEL:ncho      -0.5798  0.7258   0.6381 0.4244  \n",
       "isCEL:ccri       0.2777  0.3848   0.5207 0.4705  "
      ]
     },
     "metadata": {},
     "output_type": "display_data"
    }
   ],
   "source": [
    "gee.fit1 = geeglm(txe_rhgg ~ isCEL*(cbvn_nlin+cni+ncho+ccri), data = data_imp, id = factor(t_number_y), family = binomial, corstr = \"exchangeable\")\n",
    "round(summary(gee.fit1)$coefficients, 4)\n",
    "\n"
   ]
  },
  {
   "cell_type": "code",
   "execution_count": 97,
   "metadata": {},
   "outputs": [
    {
     "data": {
      "text/html": [
       "<table>\n",
       "<thead><tr><th></th><th scope=col>Estimate</th><th scope=col>Std.err</th><th scope=col>Wald</th><th scope=col>Pr(&gt;|W|)</th></tr></thead>\n",
       "<tbody>\n",
       "\t<tr><th scope=row>(Intercept)</th><td> 0.9873</td><td>0.1995 </td><td>24.4985</td><td>0.0000 </td></tr>\n",
       "\t<tr><th scope=row>isCEL</th><td>-0.0303</td><td>0.2124 </td><td> 0.0203</td><td>0.8866 </td></tr>\n",
       "\t<tr><th scope=row>cni</th><td> 0.6503</td><td>0.6116 </td><td> 1.1308</td><td>0.2876 </td></tr>\n",
       "\t<tr><th scope=row>ncho</th><td> 0.2597</td><td>0.6031 </td><td> 0.1855</td><td>0.6667 </td></tr>\n",
       "\t<tr><th scope=row>ccri</th><td>-0.1918</td><td>0.3031 </td><td> 0.4006</td><td>0.5268 </td></tr>\n",
       "\t<tr><th scope=row>isCEL:cni</th><td>-0.3934</td><td>0.7157 </td><td> 0.3022</td><td>0.5825 </td></tr>\n",
       "\t<tr><th scope=row>isCEL:ncho</th><td>-0.5603</td><td>0.7116 </td><td> 0.6199</td><td>0.4311 </td></tr>\n",
       "\t<tr><th scope=row>isCEL:ccri</th><td> 0.3072</td><td>0.3802 </td><td> 0.6529</td><td>0.4191 </td></tr>\n",
       "\t<tr><th scope=row>isCEL:cbvn_nlin</th><td> 0.3671</td><td>0.1784 </td><td> 4.2353</td><td>0.0396 </td></tr>\n",
       "</tbody>\n",
       "</table>\n"
      ],
      "text/latex": [
       "\\begin{tabular}{r|llll}\n",
       "  & Estimate & Std.err & Wald & Pr(>\\textbar{}W\\textbar{})\\\\\n",
       "\\hline\n",
       "\t(Intercept) &  0.9873 & 0.1995  & 24.4985 & 0.0000 \\\\\n",
       "\tisCEL & -0.0303 & 0.2124  &  0.0203 & 0.8866 \\\\\n",
       "\tcni &  0.6503 & 0.6116  &  1.1308 & 0.2876 \\\\\n",
       "\tncho &  0.2597 & 0.6031  &  0.1855 & 0.6667 \\\\\n",
       "\tccri & -0.1918 & 0.3031  &  0.4006 & 0.5268 \\\\\n",
       "\tisCEL:cni & -0.3934 & 0.7157  &  0.3022 & 0.5825 \\\\\n",
       "\tisCEL:ncho & -0.5603 & 0.7116  &  0.6199 & 0.4311 \\\\\n",
       "\tisCEL:ccri &  0.3072 & 0.3802  &  0.6529 & 0.4191 \\\\\n",
       "\tisCEL:cbvn\\_nlin &  0.3671 & 0.1784  &  4.2353 & 0.0396 \\\\\n",
       "\\end{tabular}\n"
      ],
      "text/markdown": [
       "\n",
       "| <!--/--> | Estimate | Std.err | Wald | Pr(>|W|) | \n",
       "|---|---|---|---|---|---|---|---|---|\n",
       "| (Intercept) |  0.9873 | 0.1995  | 24.4985 | 0.0000  | \n",
       "| isCEL | -0.0303 | 0.2124  |  0.0203 | 0.8866  | \n",
       "| cni |  0.6503 | 0.6116  |  1.1308 | 0.2876  | \n",
       "| ncho |  0.2597 | 0.6031  |  0.1855 | 0.6667  | \n",
       "| ccri | -0.1918 | 0.3031  |  0.4006 | 0.5268  | \n",
       "| isCEL:cni | -0.3934 | 0.7157  |  0.3022 | 0.5825  | \n",
       "| isCEL:ncho | -0.5603 | 0.7116  |  0.6199 | 0.4311  | \n",
       "| isCEL:ccri |  0.3072 | 0.3802  |  0.6529 | 0.4191  | \n",
       "| isCEL:cbvn_nlin |  0.3671 | 0.1784  |  4.2353 | 0.0396  | \n",
       "\n",
       "\n"
      ],
      "text/plain": [
       "                Estimate Std.err Wald    Pr(>|W|)\n",
       "(Intercept)      0.9873  0.1995  24.4985 0.0000  \n",
       "isCEL           -0.0303  0.2124   0.0203 0.8866  \n",
       "cni              0.6503  0.6116   1.1308 0.2876  \n",
       "ncho             0.2597  0.6031   0.1855 0.6667  \n",
       "ccri            -0.1918  0.3031   0.4006 0.5268  \n",
       "isCEL:cni       -0.3934  0.7157   0.3022 0.5825  \n",
       "isCEL:ncho      -0.5603  0.7116   0.6199 0.4311  \n",
       "isCEL:ccri       0.3072  0.3802   0.6529 0.4191  \n",
       "isCEL:cbvn_nlin  0.3671  0.1784   4.2353 0.0396  "
      ]
     },
     "metadata": {},
     "output_type": "display_data"
    }
   ],
   "source": [
    "gee.fit1 = geeglm(txe_rhgg ~ isCEL*(cni+ncho+ccri)+isCEL:cbvn_nlin, data = data_imp, id = factor(t_number_y), family = binomial, corstr = \"exchangeable\")\n",
    "round(summary(gee.fit1)$coefficients, 4)\n",
    "\n"
   ]
  },
  {
   "cell_type": "code",
   "execution_count": 98,
   "metadata": {},
   "outputs": [
    {
     "data": {
      "text/html": [
       "<table>\n",
       "<thead><tr><th></th><th scope=col>Estimate</th><th scope=col>Std.err</th><th scope=col>Wald</th><th scope=col>Pr(&gt;|W|)</th></tr></thead>\n",
       "<tbody>\n",
       "\t<tr><th scope=row>(Intercept)</th><td> 0.9678</td><td>0.1629 </td><td>35.3096</td><td>0.0000 </td></tr>\n",
       "\t<tr><th scope=row>cni</th><td> 0.6297</td><td>0.6234 </td><td> 1.0202</td><td>0.3125 </td></tr>\n",
       "\t<tr><th scope=row>ncho</th><td> 0.2616</td><td>0.6005 </td><td> 0.1899</td><td>0.6630 </td></tr>\n",
       "\t<tr><th scope=row>ccri</th><td>-0.1979</td><td>0.2980 </td><td> 0.4410</td><td>0.5067 </td></tr>\n",
       "\t<tr><th scope=row>isCEL:cni</th><td>-0.3686</td><td>0.7180 </td><td> 0.2636</td><td>0.6077 </td></tr>\n",
       "\t<tr><th scope=row>isCEL:ncho</th><td>-0.5580</td><td>0.7095 </td><td> 0.6186</td><td>0.4316 </td></tr>\n",
       "\t<tr><th scope=row>isCEL:ccri</th><td> 0.3074</td><td>0.3773 </td><td> 0.6639</td><td>0.4152 </td></tr>\n",
       "\t<tr><th scope=row>isCEL:cbvn_nlin</th><td> 0.3684</td><td>0.1788 </td><td> 4.2434</td><td>0.0394 </td></tr>\n",
       "</tbody>\n",
       "</table>\n"
      ],
      "text/latex": [
       "\\begin{tabular}{r|llll}\n",
       "  & Estimate & Std.err & Wald & Pr(>\\textbar{}W\\textbar{})\\\\\n",
       "\\hline\n",
       "\t(Intercept) &  0.9678 & 0.1629  & 35.3096 & 0.0000 \\\\\n",
       "\tcni &  0.6297 & 0.6234  &  1.0202 & 0.3125 \\\\\n",
       "\tncho &  0.2616 & 0.6005  &  0.1899 & 0.6630 \\\\\n",
       "\tccri & -0.1979 & 0.2980  &  0.4410 & 0.5067 \\\\\n",
       "\tisCEL:cni & -0.3686 & 0.7180  &  0.2636 & 0.6077 \\\\\n",
       "\tisCEL:ncho & -0.5580 & 0.7095  &  0.6186 & 0.4316 \\\\\n",
       "\tisCEL:ccri &  0.3074 & 0.3773  &  0.6639 & 0.4152 \\\\\n",
       "\tisCEL:cbvn\\_nlin &  0.3684 & 0.1788  &  4.2434 & 0.0394 \\\\\n",
       "\\end{tabular}\n"
      ],
      "text/markdown": [
       "\n",
       "| <!--/--> | Estimate | Std.err | Wald | Pr(>|W|) | \n",
       "|---|---|---|---|---|---|---|---|\n",
       "| (Intercept) |  0.9678 | 0.1629  | 35.3096 | 0.0000  | \n",
       "| cni |  0.6297 | 0.6234  |  1.0202 | 0.3125  | \n",
       "| ncho |  0.2616 | 0.6005  |  0.1899 | 0.6630  | \n",
       "| ccri | -0.1979 | 0.2980  |  0.4410 | 0.5067  | \n",
       "| isCEL:cni | -0.3686 | 0.7180  |  0.2636 | 0.6077  | \n",
       "| isCEL:ncho | -0.5580 | 0.7095  |  0.6186 | 0.4316  | \n",
       "| isCEL:ccri |  0.3074 | 0.3773  |  0.6639 | 0.4152  | \n",
       "| isCEL:cbvn_nlin |  0.3684 | 0.1788  |  4.2434 | 0.0394  | \n",
       "\n",
       "\n"
      ],
      "text/plain": [
       "                Estimate Std.err Wald    Pr(>|W|)\n",
       "(Intercept)      0.9678  0.1629  35.3096 0.0000  \n",
       "cni              0.6297  0.6234   1.0202 0.3125  \n",
       "ncho             0.2616  0.6005   0.1899 0.6630  \n",
       "ccri            -0.1979  0.2980   0.4410 0.5067  \n",
       "isCEL:cni       -0.3686  0.7180   0.2636 0.6077  \n",
       "isCEL:ncho      -0.5580  0.7095   0.6186 0.4316  \n",
       "isCEL:ccri       0.3074  0.3773   0.6639 0.4152  \n",
       "isCEL:cbvn_nlin  0.3684  0.1788   4.2434 0.0394  "
      ]
     },
     "metadata": {},
     "output_type": "display_data"
    }
   ],
   "source": [
    "gee.fit1 = geeglm(txe_rhgg ~ isCEL:(cni+ncho+ccri)+cni+ncho+ccri+isCEL:cbvn_nlin, data = data_imp, id = factor(t_number_y), family = binomial, corstr = \"exchangeable\")\n",
    "round(summary(gee.fit1)$coefficients, 4)\n",
    "\n"
   ]
  },
  {
   "cell_type": "code",
   "execution_count": 99,
   "metadata": {
    "scrolled": true
   },
   "outputs": [
    {
     "data": {
      "text/html": [
       "<table>\n",
       "<thead><tr><th></th><th scope=col>Estimate</th><th scope=col>Std.err</th><th scope=col>Wald</th><th scope=col>Pr(&gt;|W|)</th></tr></thead>\n",
       "<tbody>\n",
       "\t<tr><th scope=row>(Intercept)</th><td> 0.9736</td><td>0.1610 </td><td>36.5517</td><td>0.0000 </td></tr>\n",
       "\t<tr><th scope=row>cni</th><td> 0.8298</td><td>0.3284 </td><td> 6.3853</td><td>0.0115 </td></tr>\n",
       "\t<tr><th scope=row>ccri</th><td>-0.1552</td><td>0.2737 </td><td> 0.3216</td><td>0.5706 </td></tr>\n",
       "\t<tr><th scope=row>isCEL:cni</th><td>-0.5516</td><td>0.5780 </td><td> 0.9106</td><td>0.3400 </td></tr>\n",
       "\t<tr><th scope=row>isCEL:ncho</th><td>-0.3160</td><td>0.5747 </td><td> 0.3024</td><td>0.5824 </td></tr>\n",
       "\t<tr><th scope=row>isCEL:ccri</th><td> 0.2643</td><td>0.3638 </td><td> 0.5278</td><td>0.4675 </td></tr>\n",
       "\t<tr><th scope=row>isCEL:cbvn_nlin</th><td> 0.3638</td><td>0.1780 </td><td> 4.1762</td><td>0.0410 </td></tr>\n",
       "</tbody>\n",
       "</table>\n"
      ],
      "text/latex": [
       "\\begin{tabular}{r|llll}\n",
       "  & Estimate & Std.err & Wald & Pr(>\\textbar{}W\\textbar{})\\\\\n",
       "\\hline\n",
       "\t(Intercept) &  0.9736 & 0.1610  & 36.5517 & 0.0000 \\\\\n",
       "\tcni &  0.8298 & 0.3284  &  6.3853 & 0.0115 \\\\\n",
       "\tccri & -0.1552 & 0.2737  &  0.3216 & 0.5706 \\\\\n",
       "\tisCEL:cni & -0.5516 & 0.5780  &  0.9106 & 0.3400 \\\\\n",
       "\tisCEL:ncho & -0.3160 & 0.5747  &  0.3024 & 0.5824 \\\\\n",
       "\tisCEL:ccri &  0.2643 & 0.3638  &  0.5278 & 0.4675 \\\\\n",
       "\tisCEL:cbvn\\_nlin &  0.3638 & 0.1780  &  4.1762 & 0.0410 \\\\\n",
       "\\end{tabular}\n"
      ],
      "text/markdown": [
       "\n",
       "| <!--/--> | Estimate | Std.err | Wald | Pr(>|W|) | \n",
       "|---|---|---|---|---|---|---|\n",
       "| (Intercept) |  0.9736 | 0.1610  | 36.5517 | 0.0000  | \n",
       "| cni |  0.8298 | 0.3284  |  6.3853 | 0.0115  | \n",
       "| ccri | -0.1552 | 0.2737  |  0.3216 | 0.5706  | \n",
       "| isCEL:cni | -0.5516 | 0.5780  |  0.9106 | 0.3400  | \n",
       "| isCEL:ncho | -0.3160 | 0.5747  |  0.3024 | 0.5824  | \n",
       "| isCEL:ccri |  0.2643 | 0.3638  |  0.5278 | 0.4675  | \n",
       "| isCEL:cbvn_nlin |  0.3638 | 0.1780  |  4.1762 | 0.0410  | \n",
       "\n",
       "\n"
      ],
      "text/plain": [
       "                Estimate Std.err Wald    Pr(>|W|)\n",
       "(Intercept)      0.9736  0.1610  36.5517 0.0000  \n",
       "cni              0.8298  0.3284   6.3853 0.0115  \n",
       "ccri            -0.1552  0.2737   0.3216 0.5706  \n",
       "isCEL:cni       -0.5516  0.5780   0.9106 0.3400  \n",
       "isCEL:ncho      -0.3160  0.5747   0.3024 0.5824  \n",
       "isCEL:ccri       0.2643  0.3638   0.5278 0.4675  \n",
       "isCEL:cbvn_nlin  0.3638  0.1780   4.1762 0.0410  "
      ]
     },
     "metadata": {},
     "output_type": "display_data"
    }
   ],
   "source": [
    "gee.fit1 = geeglm(txe_rhgg ~ isCEL:(cni+ncho+ccri)+cni+ccri+isCEL:cbvn_nlin, data = data_imp, id = factor(t_number_y), family = binomial, corstr = \"exchangeable\")\n",
    "round(summary(gee.fit1)$coefficients, 4)\n",
    "\n"
   ]
  },
  {
   "cell_type": "code",
   "execution_count": 100,
   "metadata": {},
   "outputs": [
    {
     "data": {
      "text/html": [
       "<table>\n",
       "<thead><tr><th></th><th scope=col>Estimate</th><th scope=col>Std.err</th><th scope=col>Wald</th><th scope=col>Pr(&gt;|W|)</th></tr></thead>\n",
       "<tbody>\n",
       "\t<tr><th scope=row>(Intercept)</th><td> 0.9812</td><td>0.1618 </td><td>36.7683</td><td>0.0000 </td></tr>\n",
       "\t<tr><th scope=row>cni</th><td> 0.8345</td><td>0.3274 </td><td> 6.4980</td><td>0.0108 </td></tr>\n",
       "\t<tr><th scope=row>ccri</th><td>-0.1446</td><td>0.2735 </td><td> 0.2794</td><td>0.5971 </td></tr>\n",
       "\t<tr><th scope=row>isCEL:cni</th><td>-0.7880</td><td>0.4324 </td><td> 3.3206</td><td>0.0684 </td></tr>\n",
       "\t<tr><th scope=row>isCEL:ccri</th><td> 0.2017</td><td>0.3319 </td><td> 0.3694</td><td>0.5433 </td></tr>\n",
       "\t<tr><th scope=row>isCEL:cbvn_nlin</th><td> 0.3716</td><td>0.1774 </td><td> 4.3860</td><td>0.0362 </td></tr>\n",
       "</tbody>\n",
       "</table>\n"
      ],
      "text/latex": [
       "\\begin{tabular}{r|llll}\n",
       "  & Estimate & Std.err & Wald & Pr(>\\textbar{}W\\textbar{})\\\\\n",
       "\\hline\n",
       "\t(Intercept) &  0.9812 & 0.1618  & 36.7683 & 0.0000 \\\\\n",
       "\tcni &  0.8345 & 0.3274  &  6.4980 & 0.0108 \\\\\n",
       "\tccri & -0.1446 & 0.2735  &  0.2794 & 0.5971 \\\\\n",
       "\tisCEL:cni & -0.7880 & 0.4324  &  3.3206 & 0.0684 \\\\\n",
       "\tisCEL:ccri &  0.2017 & 0.3319  &  0.3694 & 0.5433 \\\\\n",
       "\tisCEL:cbvn\\_nlin &  0.3716 & 0.1774  &  4.3860 & 0.0362 \\\\\n",
       "\\end{tabular}\n"
      ],
      "text/markdown": [
       "\n",
       "| <!--/--> | Estimate | Std.err | Wald | Pr(>|W|) | \n",
       "|---|---|---|---|---|---|\n",
       "| (Intercept) |  0.9812 | 0.1618  | 36.7683 | 0.0000  | \n",
       "| cni |  0.8345 | 0.3274  |  6.4980 | 0.0108  | \n",
       "| ccri | -0.1446 | 0.2735  |  0.2794 | 0.5971  | \n",
       "| isCEL:cni | -0.7880 | 0.4324  |  3.3206 | 0.0684  | \n",
       "| isCEL:ccri |  0.2017 | 0.3319  |  0.3694 | 0.5433  | \n",
       "| isCEL:cbvn_nlin |  0.3716 | 0.1774  |  4.3860 | 0.0362  | \n",
       "\n",
       "\n"
      ],
      "text/plain": [
       "                Estimate Std.err Wald    Pr(>|W|)\n",
       "(Intercept)      0.9812  0.1618  36.7683 0.0000  \n",
       "cni              0.8345  0.3274   6.4980 0.0108  \n",
       "ccri            -0.1446  0.2735   0.2794 0.5971  \n",
       "isCEL:cni       -0.7880  0.4324   3.3206 0.0684  \n",
       "isCEL:ccri       0.2017  0.3319   0.3694 0.5433  \n",
       "isCEL:cbvn_nlin  0.3716  0.1774   4.3860 0.0362  "
      ]
     },
     "metadata": {},
     "output_type": "display_data"
    }
   ],
   "source": [
    "gee.fit1 = geeglm(txe_rhgg ~ isCEL:(cni+ccri)+cni+ccri+isCEL:cbvn_nlin, data = data_imp, id = factor(t_number_y), family = binomial, corstr = \"exchangeable\")\n",
    "round(summary(gee.fit1)$coefficients, 4)\n",
    "\n"
   ]
  },
  {
   "cell_type": "code",
   "execution_count": 101,
   "metadata": {},
   "outputs": [
    {
     "data": {
      "text/html": [
       "<table>\n",
       "<thead><tr><th></th><th scope=col>Estimate</th><th scope=col>Std.err</th><th scope=col>Wald</th><th scope=col>Pr(&gt;|W|)</th></tr></thead>\n",
       "<tbody>\n",
       "\t<tr><th scope=row>(Intercept)</th><td> 0.9886</td><td>0.1617 </td><td>37.3982</td><td>0.0000 </td></tr>\n",
       "\t<tr><th scope=row>cni</th><td> 0.7635</td><td>0.2833 </td><td> 7.2646</td><td>0.0070 </td></tr>\n",
       "\t<tr><th scope=row>ccri</th><td>-0.0389</td><td>0.1970 </td><td> 0.0389</td><td>0.8436 </td></tr>\n",
       "\t<tr><th scope=row>isCEL:cni</th><td>-0.6292</td><td>0.3355 </td><td> 3.5173</td><td>0.0607 </td></tr>\n",
       "\t<tr><th scope=row>isCEL:cbvn_nlin</th><td> 0.3715</td><td>0.1765 </td><td> 4.4296</td><td>0.0353 </td></tr>\n",
       "</tbody>\n",
       "</table>\n"
      ],
      "text/latex": [
       "\\begin{tabular}{r|llll}\n",
       "  & Estimate & Std.err & Wald & Pr(>\\textbar{}W\\textbar{})\\\\\n",
       "\\hline\n",
       "\t(Intercept) &  0.9886 & 0.1617  & 37.3982 & 0.0000 \\\\\n",
       "\tcni &  0.7635 & 0.2833  &  7.2646 & 0.0070 \\\\\n",
       "\tccri & -0.0389 & 0.1970  &  0.0389 & 0.8436 \\\\\n",
       "\tisCEL:cni & -0.6292 & 0.3355  &  3.5173 & 0.0607 \\\\\n",
       "\tisCEL:cbvn\\_nlin &  0.3715 & 0.1765  &  4.4296 & 0.0353 \\\\\n",
       "\\end{tabular}\n"
      ],
      "text/markdown": [
       "\n",
       "| <!--/--> | Estimate | Std.err | Wald | Pr(>|W|) | \n",
       "|---|---|---|---|---|\n",
       "| (Intercept) |  0.9886 | 0.1617  | 37.3982 | 0.0000  | \n",
       "| cni |  0.7635 | 0.2833  |  7.2646 | 0.0070  | \n",
       "| ccri | -0.0389 | 0.1970  |  0.0389 | 0.8436  | \n",
       "| isCEL:cni | -0.6292 | 0.3355  |  3.5173 | 0.0607  | \n",
       "| isCEL:cbvn_nlin |  0.3715 | 0.1765  |  4.4296 | 0.0353  | \n",
       "\n",
       "\n"
      ],
      "text/plain": [
       "                Estimate Std.err Wald    Pr(>|W|)\n",
       "(Intercept)      0.9886  0.1617  37.3982 0.0000  \n",
       "cni              0.7635  0.2833   7.2646 0.0070  \n",
       "ccri            -0.0389  0.1970   0.0389 0.8436  \n",
       "isCEL:cni       -0.6292  0.3355   3.5173 0.0607  \n",
       "isCEL:cbvn_nlin  0.3715  0.1765   4.4296 0.0353  "
      ]
     },
     "metadata": {},
     "output_type": "display_data"
    }
   ],
   "source": [
    "gee.fit1 = geeglm(txe_rhgg ~ isCEL:(cni)+cni+ccri+isCEL:cbvn_nlin, data = data_imp, id = factor(t_number_y), family = binomial, corstr = \"exchangeable\")\n",
    "round(summary(gee.fit1)$coefficients, 4)\n",
    "\n"
   ]
  },
  {
   "cell_type": "code",
   "execution_count": 102,
   "metadata": {},
   "outputs": [
    {
     "data": {
      "text/html": [
       "<table>\n",
       "<thead><tr><th></th><th scope=col>Estimate</th><th scope=col>Std.err</th><th scope=col>Wald</th><th scope=col>Pr(&gt;|W|)</th></tr></thead>\n",
       "<tbody>\n",
       "\t<tr><th scope=row>(Intercept)</th><td> 0.9888</td><td>0.1616 </td><td>37.4571</td><td>0.0000 </td></tr>\n",
       "\t<tr><th scope=row>cni</th><td> 0.7332</td><td>0.2477 </td><td> 8.7611</td><td>0.0031 </td></tr>\n",
       "\t<tr><th scope=row>isCEL:cni</th><td>-0.6338</td><td>0.3305 </td><td> 3.6779</td><td>0.0551 </td></tr>\n",
       "\t<tr><th scope=row>isCEL:cbvn_nlin</th><td> 0.3702</td><td>0.1764 </td><td> 4.4052</td><td>0.0358 </td></tr>\n",
       "</tbody>\n",
       "</table>\n"
      ],
      "text/latex": [
       "\\begin{tabular}{r|llll}\n",
       "  & Estimate & Std.err & Wald & Pr(>\\textbar{}W\\textbar{})\\\\\n",
       "\\hline\n",
       "\t(Intercept) &  0.9888 & 0.1616  & 37.4571 & 0.0000 \\\\\n",
       "\tcni &  0.7332 & 0.2477  &  8.7611 & 0.0031 \\\\\n",
       "\tisCEL:cni & -0.6338 & 0.3305  &  3.6779 & 0.0551 \\\\\n",
       "\tisCEL:cbvn\\_nlin &  0.3702 & 0.1764  &  4.4052 & 0.0358 \\\\\n",
       "\\end{tabular}\n"
      ],
      "text/markdown": [
       "\n",
       "| <!--/--> | Estimate | Std.err | Wald | Pr(>|W|) | \n",
       "|---|---|---|---|\n",
       "| (Intercept) |  0.9888 | 0.1616  | 37.4571 | 0.0000  | \n",
       "| cni |  0.7332 | 0.2477  |  8.7611 | 0.0031  | \n",
       "| isCEL:cni | -0.6338 | 0.3305  |  3.6779 | 0.0551  | \n",
       "| isCEL:cbvn_nlin |  0.3702 | 0.1764  |  4.4052 | 0.0358  | \n",
       "\n",
       "\n"
      ],
      "text/plain": [
       "                Estimate Std.err Wald    Pr(>|W|)\n",
       "(Intercept)      0.9888  0.1616  37.4571 0.0000  \n",
       "cni              0.7332  0.2477   8.7611 0.0031  \n",
       "isCEL:cni       -0.6338  0.3305   3.6779 0.0551  \n",
       "isCEL:cbvn_nlin  0.3702  0.1764   4.4052 0.0358  "
      ]
     },
     "metadata": {},
     "output_type": "display_data"
    }
   ],
   "source": [
    "gee.fit1 = geeglm(txe_rhgg ~ isCEL:(cni)+cni+isCEL:cbvn_nlin, data = data_imp, id = factor(t_number_y), family = binomial, corstr = \"exchangeable\")\n",
    "round(summary(gee.fit1)$coefficients, 4)\n",
    "\n"
   ]
  },
  {
   "cell_type": "markdown",
   "metadata": {},
   "source": [
    "## randomForestSRC imputation "
   ]
  },
  {
   "cell_type": "code",
   "execution_count": 59,
   "metadata": {
    "collapsed": true
   },
   "outputs": [],
   "source": [
    "data_imp = read.csv('data_imputed.csv')"
   ]
  },
  {
   "cell_type": "code",
   "execution_count": 61,
   "metadata": {
    "collapsed": true
   },
   "outputs": [],
   "source": [
    "data_imp['isCEL'] = ifelse(data_imp$CELorNEL==\"CEL\", 1, 0)"
   ]
  },
  {
   "cell_type": "code",
   "execution_count": 64,
   "metadata": {
    "collapsed": true
   },
   "outputs": [],
   "source": [
    "data_imp['txe_rhgg'] = ifelse(data_imp$outcome==\"rHGG\", 1, 0)"
   ]
  },
  {
   "cell_type": "code",
   "execution_count": 65,
   "metadata": {},
   "outputs": [
    {
     "data": {
      "text/html": [
       "<table>\n",
       "<thead><tr><th scope=col>X</th><th scope=col>vialid</th><th scope=col>t_number_y</th><th scope=col>CELorNEL</th><th scope=col>newdata</th><th scope=col>cbvn_nlin</th><th scope=col>recov_npar</th><th scope=col>ccri</th><th scope=col>cni</th><th scope=col>ncho</th><th scope=col>ncre</th><th scope=col>nnaa</th><th scope=col>nadc.1</th><th scope=col>nfa.1</th><th scope=col>outcome</th><th scope=col>isCEL</th><th scope=col>txe_rhgg</th></tr></thead>\n",
       "<tbody>\n",
       "\t<tr><td>1        </td><td>1B82     </td><td>10366    </td><td>NEL      </td><td>1        </td><td>1.08     </td><td> 98.89   </td><td>1.880000 </td><td>2.600000 </td><td>1.030000 </td><td>0.4700000</td><td>0.4600000</td><td>0.75     </td><td>0.83     </td><td>txe      </td><td>0        </td><td>0        </td></tr>\n",
       "\t<tr><td>3        </td><td>29B82    </td><td>10448    </td><td>CEL      </td><td>1        </td><td>2.43     </td><td>100.00   </td><td>2.196667 </td><td>3.685115 </td><td>1.192184 </td><td>0.5575862</td><td>0.3183908</td><td>1.62     </td><td>0.50     </td><td>rHGG     </td><td>1        </td><td>1        </td></tr>\n",
       "\t<tr><td>5        </td><td>60B90    </td><td>10594    </td><td>NEL      </td><td>1        </td><td>0.95     </td><td>100.00   </td><td>1.030000 </td><td>3.270000 </td><td>1.040000 </td><td>0.7900000</td><td>0.3600000</td><td>2.12     </td><td>0.42     </td><td>rHGG     </td><td>0        </td><td>1        </td></tr>\n",
       "\t<tr><td>6        </td><td>58B90    </td><td>10594    </td><td>NEL      </td><td>1        </td><td>0.84     </td><td>100.00   </td><td>2.330000 </td><td>7.570000 </td><td>1.610000 </td><td>1.0700000</td><td>0.1300000</td><td>1.60     </td><td>0.73     </td><td>rHGG     </td><td>0        </td><td>1        </td></tr>\n",
       "\t<tr><td>7        </td><td>59B90    </td><td>10594    </td><td>NEL      </td><td>1        </td><td>0.42     </td><td>100.00   </td><td>2.130000 </td><td>4.370000 </td><td>1.890000 </td><td>1.2100000</td><td>0.7400000</td><td>3.03     </td><td>0.42     </td><td>rHGG     </td><td>0        </td><td>1        </td></tr>\n",
       "\t<tr><td>8        </td><td>7B91     </td><td>10655    </td><td>NEL      </td><td>1        </td><td>0.63     </td><td>100.00   </td><td>2.220000 </td><td>3.430000 </td><td>1.100000 </td><td>0.5300000</td><td>0.2700000</td><td>1.15     </td><td>0.61     </td><td>txe      </td><td>0        </td><td>0        </td></tr>\n",
       "</tbody>\n",
       "</table>\n"
      ],
      "text/latex": [
       "\\begin{tabular}{r|lllllllllllllllll}\n",
       " X & vialid & t\\_number\\_y & CELorNEL & newdata & cbvn\\_nlin & recov\\_npar & ccri & cni & ncho & ncre & nnaa & nadc.1 & nfa.1 & outcome & isCEL & txe\\_rhgg\\\\\n",
       "\\hline\n",
       "\t 1         & 1B82      & 10366     & NEL       & 1         & 1.08      &  98.89    & 1.880000  & 2.600000  & 1.030000  & 0.4700000 & 0.4600000 & 0.75      & 0.83      & txe       & 0         & 0        \\\\\n",
       "\t 3         & 29B82     & 10448     & CEL       & 1         & 2.43      & 100.00    & 2.196667  & 3.685115  & 1.192184  & 0.5575862 & 0.3183908 & 1.62      & 0.50      & rHGG      & 1         & 1        \\\\\n",
       "\t 5         & 60B90     & 10594     & NEL       & 1         & 0.95      & 100.00    & 1.030000  & 3.270000  & 1.040000  & 0.7900000 & 0.3600000 & 2.12      & 0.42      & rHGG      & 0         & 1        \\\\\n",
       "\t 6         & 58B90     & 10594     & NEL       & 1         & 0.84      & 100.00    & 2.330000  & 7.570000  & 1.610000  & 1.0700000 & 0.1300000 & 1.60      & 0.73      & rHGG      & 0         & 1        \\\\\n",
       "\t 7         & 59B90     & 10594     & NEL       & 1         & 0.42      & 100.00    & 2.130000  & 4.370000  & 1.890000  & 1.2100000 & 0.7400000 & 3.03      & 0.42      & rHGG      & 0         & 1        \\\\\n",
       "\t 8         & 7B91      & 10655     & NEL       & 1         & 0.63      & 100.00    & 2.220000  & 3.430000  & 1.100000  & 0.5300000 & 0.2700000 & 1.15      & 0.61      & txe       & 0         & 0        \\\\\n",
       "\\end{tabular}\n"
      ],
      "text/markdown": [
       "\n",
       "X | vialid | t_number_y | CELorNEL | newdata | cbvn_nlin | recov_npar | ccri | cni | ncho | ncre | nnaa | nadc.1 | nfa.1 | outcome | isCEL | txe_rhgg | \n",
       "|---|---|---|---|---|---|\n",
       "| 1         | 1B82      | 10366     | NEL       | 1         | 1.08      |  98.89    | 1.880000  | 2.600000  | 1.030000  | 0.4700000 | 0.4600000 | 0.75      | 0.83      | txe       | 0         | 0         | \n",
       "| 3         | 29B82     | 10448     | CEL       | 1         | 2.43      | 100.00    | 2.196667  | 3.685115  | 1.192184  | 0.5575862 | 0.3183908 | 1.62      | 0.50      | rHGG      | 1         | 1         | \n",
       "| 5         | 60B90     | 10594     | NEL       | 1         | 0.95      | 100.00    | 1.030000  | 3.270000  | 1.040000  | 0.7900000 | 0.3600000 | 2.12      | 0.42      | rHGG      | 0         | 1         | \n",
       "| 6         | 58B90     | 10594     | NEL       | 1         | 0.84      | 100.00    | 2.330000  | 7.570000  | 1.610000  | 1.0700000 | 0.1300000 | 1.60      | 0.73      | rHGG      | 0         | 1         | \n",
       "| 7         | 59B90     | 10594     | NEL       | 1         | 0.42      | 100.00    | 2.130000  | 4.370000  | 1.890000  | 1.2100000 | 0.7400000 | 3.03      | 0.42      | rHGG      | 0         | 1         | \n",
       "| 8         | 7B91      | 10655     | NEL       | 1         | 0.63      | 100.00    | 2.220000  | 3.430000  | 1.100000  | 0.5300000 | 0.2700000 | 1.15      | 0.61      | txe       | 0         | 0         | \n",
       "\n",
       "\n"
      ],
      "text/plain": [
       "  X vialid t_number_y CELorNEL newdata cbvn_nlin recov_npar ccri     cni     \n",
       "1 1 1B82   10366      NEL      1       1.08       98.89     1.880000 2.600000\n",
       "2 3 29B82  10448      CEL      1       2.43      100.00     2.196667 3.685115\n",
       "3 5 60B90  10594      NEL      1       0.95      100.00     1.030000 3.270000\n",
       "4 6 58B90  10594      NEL      1       0.84      100.00     2.330000 7.570000\n",
       "5 7 59B90  10594      NEL      1       0.42      100.00     2.130000 4.370000\n",
       "6 8 7B91   10655      NEL      1       0.63      100.00     2.220000 3.430000\n",
       "  ncho     ncre      nnaa      nadc.1 nfa.1 outcome isCEL txe_rhgg\n",
       "1 1.030000 0.4700000 0.4600000 0.75   0.83  txe     0     0       \n",
       "2 1.192184 0.5575862 0.3183908 1.62   0.50  rHGG    1     1       \n",
       "3 1.040000 0.7900000 0.3600000 2.12   0.42  rHGG    0     1       \n",
       "4 1.610000 1.0700000 0.1300000 1.60   0.73  rHGG    0     1       \n",
       "5 1.890000 1.2100000 0.7400000 3.03   0.42  rHGG    0     1       \n",
       "6 1.100000 0.5300000 0.2700000 1.15   0.61  txe     0     0       "
      ]
     },
     "metadata": {},
     "output_type": "display_data"
    }
   ],
   "source": [
    "head(data_imp)"
   ]
  },
  {
   "cell_type": "code",
   "execution_count": 66,
   "metadata": {},
   "outputs": [
    {
     "data": {
      "text/html": [
       "<table>\n",
       "<thead><tr><th></th><th scope=col>Estimate</th><th scope=col>Std.err</th><th scope=col>Wald</th><th scope=col>Pr(&gt;|W|)</th></tr></thead>\n",
       "<tbody>\n",
       "\t<tr><th scope=row>(Intercept)</th><td>-1.2804</td><td>1.6828 </td><td>0.5789 </td><td>0.4467 </td></tr>\n",
       "\t<tr><th scope=row>isCEL</th><td>-0.5007</td><td>1.8113 </td><td>0.0764 </td><td>0.7822 </td></tr>\n",
       "\t<tr><th scope=row>cbvn_nlin</th><td> 0.0706</td><td>0.2510 </td><td>0.0790 </td><td>0.7786 </td></tr>\n",
       "\t<tr><th scope=row>recov_npar</th><td> 0.0152</td><td>0.0199 </td><td>0.5863 </td><td>0.4439 </td></tr>\n",
       "\t<tr><th scope=row>cni</th><td> 0.0610</td><td>0.1511 </td><td>0.1627 </td><td>0.6867 </td></tr>\n",
       "\t<tr><th scope=row>ncho</th><td> 0.4326</td><td>0.6437 </td><td>0.4517 </td><td>0.5015 </td></tr>\n",
       "\t<tr><th scope=row>ccri</th><td>-0.0448</td><td>0.0945 </td><td>0.2248 </td><td>0.6354 </td></tr>\n",
       "\t<tr><th scope=row>isCEL:cbvn_nlin</th><td> 0.2866</td><td>0.2441 </td><td>1.3790 </td><td>0.2403 </td></tr>\n",
       "\t<tr><th scope=row>isCEL:recov_npar</th><td> 0.0126</td><td>0.0222 </td><td>0.3254 </td><td>0.5684 </td></tr>\n",
       "\t<tr><th scope=row>isCEL:cni</th><td> 0.0548</td><td>0.1961 </td><td>0.0781 </td><td>0.7799 </td></tr>\n",
       "\t<tr><th scope=row>isCEL:ncho</th><td>-1.1254</td><td>0.8758 </td><td>1.6510 </td><td>0.1988 </td></tr>\n",
       "\t<tr><th scope=row>isCEL:ccri</th><td> 0.0953</td><td>0.1360 </td><td>0.4909 </td><td>0.4835 </td></tr>\n",
       "</tbody>\n",
       "</table>\n"
      ],
      "text/latex": [
       "\\begin{tabular}{r|llll}\n",
       "  & Estimate & Std.err & Wald & Pr(>\\textbar{}W\\textbar{})\\\\\n",
       "\\hline\n",
       "\t(Intercept) & -1.2804 & 1.6828  & 0.5789  & 0.4467 \\\\\n",
       "\tisCEL & -0.5007 & 1.8113  & 0.0764  & 0.7822 \\\\\n",
       "\tcbvn\\_nlin &  0.0706 & 0.2510  & 0.0790  & 0.7786 \\\\\n",
       "\trecov\\_npar &  0.0152 & 0.0199  & 0.5863  & 0.4439 \\\\\n",
       "\tcni &  0.0610 & 0.1511  & 0.1627  & 0.6867 \\\\\n",
       "\tncho &  0.4326 & 0.6437  & 0.4517  & 0.5015 \\\\\n",
       "\tccri & -0.0448 & 0.0945  & 0.2248  & 0.6354 \\\\\n",
       "\tisCEL:cbvn\\_nlin &  0.2866 & 0.2441  & 1.3790  & 0.2403 \\\\\n",
       "\tisCEL:recov\\_npar &  0.0126 & 0.0222  & 0.3254  & 0.5684 \\\\\n",
       "\tisCEL:cni &  0.0548 & 0.1961  & 0.0781  & 0.7799 \\\\\n",
       "\tisCEL:ncho & -1.1254 & 0.8758  & 1.6510  & 0.1988 \\\\\n",
       "\tisCEL:ccri &  0.0953 & 0.1360  & 0.4909  & 0.4835 \\\\\n",
       "\\end{tabular}\n"
      ],
      "text/markdown": [
       "\n",
       "| <!--/--> | Estimate | Std.err | Wald | Pr(>|W|) | \n",
       "|---|---|---|---|---|---|---|---|---|---|---|---|\n",
       "| (Intercept) | -1.2804 | 1.6828  | 0.5789  | 0.4467  | \n",
       "| isCEL | -0.5007 | 1.8113  | 0.0764  | 0.7822  | \n",
       "| cbvn_nlin |  0.0706 | 0.2510  | 0.0790  | 0.7786  | \n",
       "| recov_npar |  0.0152 | 0.0199  | 0.5863  | 0.4439  | \n",
       "| cni |  0.0610 | 0.1511  | 0.1627  | 0.6867  | \n",
       "| ncho |  0.4326 | 0.6437  | 0.4517  | 0.5015  | \n",
       "| ccri | -0.0448 | 0.0945  | 0.2248  | 0.6354  | \n",
       "| isCEL:cbvn_nlin |  0.2866 | 0.2441  | 1.3790  | 0.2403  | \n",
       "| isCEL:recov_npar |  0.0126 | 0.0222  | 0.3254  | 0.5684  | \n",
       "| isCEL:cni |  0.0548 | 0.1961  | 0.0781  | 0.7799  | \n",
       "| isCEL:ncho | -1.1254 | 0.8758  | 1.6510  | 0.1988  | \n",
       "| isCEL:ccri |  0.0953 | 0.1360  | 0.4909  | 0.4835  | \n",
       "\n",
       "\n"
      ],
      "text/plain": [
       "                 Estimate Std.err Wald   Pr(>|W|)\n",
       "(Intercept)      -1.2804  1.6828  0.5789 0.4467  \n",
       "isCEL            -0.5007  1.8113  0.0764 0.7822  \n",
       "cbvn_nlin         0.0706  0.2510  0.0790 0.7786  \n",
       "recov_npar        0.0152  0.0199  0.5863 0.4439  \n",
       "cni               0.0610  0.1511  0.1627 0.6867  \n",
       "ncho              0.4326  0.6437  0.4517 0.5015  \n",
       "ccri             -0.0448  0.0945  0.2248 0.6354  \n",
       "isCEL:cbvn_nlin   0.2866  0.2441  1.3790 0.2403  \n",
       "isCEL:recov_npar  0.0126  0.0222  0.3254 0.5684  \n",
       "isCEL:cni         0.0548  0.1961  0.0781 0.7799  \n",
       "isCEL:ncho       -1.1254  0.8758  1.6510 0.1988  \n",
       "isCEL:ccri        0.0953  0.1360  0.4909 0.4835  "
      ]
     },
     "metadata": {},
     "output_type": "display_data"
    }
   ],
   "source": [
    "gee.fit1 = geeglm(txe_rhgg ~ isCEL*(cbvn_nlin+recov_npar+cni+ncho+ccri), data = data_imp, id = factor(t_number_y), family = binomial, corstr = \"exchangeable\")\n",
    "round(summary(gee.fit1)$coefficients, 4)"
   ]
  },
  {
   "cell_type": "code",
   "execution_count": 67,
   "metadata": {},
   "outputs": [
    {
     "data": {
      "text/html": [
       "<table>\n",
       "<thead><tr><th></th><th scope=col>Estimate</th><th scope=col>Std.err</th><th scope=col>Wald</th><th scope=col>Pr(&gt;|W|)</th></tr></thead>\n",
       "<tbody>\n",
       "\t<tr><th scope=row>(Intercept)</th><td>-1.6149</td><td>1.1536 </td><td>1.9597 </td><td>0.1616 </td></tr>\n",
       "\t<tr><th scope=row>cbvn_nlin</th><td> 0.0755</td><td>0.2498 </td><td>0.0914 </td><td>0.7624 </td></tr>\n",
       "\t<tr><th scope=row>recov_npar</th><td> 0.0191</td><td>0.0139 </td><td>1.8986 </td><td>0.1682 </td></tr>\n",
       "\t<tr><th scope=row>cni</th><td> 0.0704</td><td>0.1500 </td><td>0.2205 </td><td>0.6387 </td></tr>\n",
       "\t<tr><th scope=row>ncho</th><td> 0.3894</td><td>0.6293 </td><td>0.3829 </td><td>0.5361 </td></tr>\n",
       "\t<tr><th scope=row>ccri</th><td>-0.0439</td><td>0.0943 </td><td>0.2166 </td><td>0.6416 </td></tr>\n",
       "\t<tr><th scope=row>isCEL:cbvn_nlin</th><td> 0.2691</td><td>0.2354 </td><td>1.3070 </td><td>0.2529 </td></tr>\n",
       "\t<tr><th scope=row>isCEL:recov_npar</th><td> 0.0071</td><td>0.0076 </td><td>0.8564 </td><td>0.3548 </td></tr>\n",
       "\t<tr><th scope=row>isCEL:cni</th><td> 0.0396</td><td>0.1867 </td><td>0.0450 </td><td>0.8321 </td></tr>\n",
       "\t<tr><th scope=row>isCEL:ncho</th><td>-1.0659</td><td>0.8400 </td><td>1.6101 </td><td>0.2045 </td></tr>\n",
       "\t<tr><th scope=row>isCEL:ccri</th><td> 0.0970</td><td>0.1355 </td><td>0.5125 </td><td>0.4740 </td></tr>\n",
       "</tbody>\n",
       "</table>\n"
      ],
      "text/latex": [
       "\\begin{tabular}{r|llll}\n",
       "  & Estimate & Std.err & Wald & Pr(>\\textbar{}W\\textbar{})\\\\\n",
       "\\hline\n",
       "\t(Intercept) & -1.6149 & 1.1536  & 1.9597  & 0.1616 \\\\\n",
       "\tcbvn\\_nlin &  0.0755 & 0.2498  & 0.0914  & 0.7624 \\\\\n",
       "\trecov\\_npar &  0.0191 & 0.0139  & 1.8986  & 0.1682 \\\\\n",
       "\tcni &  0.0704 & 0.1500  & 0.2205  & 0.6387 \\\\\n",
       "\tncho &  0.3894 & 0.6293  & 0.3829  & 0.5361 \\\\\n",
       "\tccri & -0.0439 & 0.0943  & 0.2166  & 0.6416 \\\\\n",
       "\tisCEL:cbvn\\_nlin &  0.2691 & 0.2354  & 1.3070  & 0.2529 \\\\\n",
       "\tisCEL:recov\\_npar &  0.0071 & 0.0076  & 0.8564  & 0.3548 \\\\\n",
       "\tisCEL:cni &  0.0396 & 0.1867  & 0.0450  & 0.8321 \\\\\n",
       "\tisCEL:ncho & -1.0659 & 0.8400  & 1.6101  & 0.2045 \\\\\n",
       "\tisCEL:ccri &  0.0970 & 0.1355  & 0.5125  & 0.4740 \\\\\n",
       "\\end{tabular}\n"
      ],
      "text/markdown": [
       "\n",
       "| <!--/--> | Estimate | Std.err | Wald | Pr(>|W|) | \n",
       "|---|---|---|---|---|---|---|---|---|---|---|\n",
       "| (Intercept) | -1.6149 | 1.1536  | 1.9597  | 0.1616  | \n",
       "| cbvn_nlin |  0.0755 | 0.2498  | 0.0914  | 0.7624  | \n",
       "| recov_npar |  0.0191 | 0.0139  | 1.8986  | 0.1682  | \n",
       "| cni |  0.0704 | 0.1500  | 0.2205  | 0.6387  | \n",
       "| ncho |  0.3894 | 0.6293  | 0.3829  | 0.5361  | \n",
       "| ccri | -0.0439 | 0.0943  | 0.2166  | 0.6416  | \n",
       "| isCEL:cbvn_nlin |  0.2691 | 0.2354  | 1.3070  | 0.2529  | \n",
       "| isCEL:recov_npar |  0.0071 | 0.0076  | 0.8564  | 0.3548  | \n",
       "| isCEL:cni |  0.0396 | 0.1867  | 0.0450  | 0.8321  | \n",
       "| isCEL:ncho | -1.0659 | 0.8400  | 1.6101  | 0.2045  | \n",
       "| isCEL:ccri |  0.0970 | 0.1355  | 0.5125  | 0.4740  | \n",
       "\n",
       "\n"
      ],
      "text/plain": [
       "                 Estimate Std.err Wald   Pr(>|W|)\n",
       "(Intercept)      -1.6149  1.1536  1.9597 0.1616  \n",
       "cbvn_nlin         0.0755  0.2498  0.0914 0.7624  \n",
       "recov_npar        0.0191  0.0139  1.8986 0.1682  \n",
       "cni               0.0704  0.1500  0.2205 0.6387  \n",
       "ncho              0.3894  0.6293  0.3829 0.5361  \n",
       "ccri             -0.0439  0.0943  0.2166 0.6416  \n",
       "isCEL:cbvn_nlin   0.2691  0.2354  1.3070 0.2529  \n",
       "isCEL:recov_npar  0.0071  0.0076  0.8564 0.3548  \n",
       "isCEL:cni         0.0396  0.1867  0.0450 0.8321  \n",
       "isCEL:ncho       -1.0659  0.8400  1.6101 0.2045  \n",
       "isCEL:ccri        0.0970  0.1355  0.5125 0.4740  "
      ]
     },
     "metadata": {},
     "output_type": "display_data"
    }
   ],
   "source": [
    "gee.fit1 = geeglm(txe_rhgg ~ isCEL:(cbvn_nlin+recov_npar+cni+ncho+ccri)+cbvn_nlin+recov_npar+cni+ncho+ccri, data = data_imp, id = factor(t_number_y), family = binomial, corstr = \"exchangeable\")\n",
    "round(summary(gee.fit1)$coefficients, 4)"
   ]
  },
  {
   "cell_type": "code",
   "execution_count": 70,
   "metadata": {},
   "outputs": [
    {
     "data": {
      "text/html": [
       "<table>\n",
       "<thead><tr><th></th><th scope=col>Estimate</th><th scope=col>Std.err</th><th scope=col>Wald</th><th scope=col>Pr(&gt;|W|)</th></tr></thead>\n",
       "<tbody>\n",
       "\t<tr><th scope=row>(Intercept)</th><td>-1.6233</td><td>1.1506 </td><td>1.9904 </td><td>0.1583 </td></tr>\n",
       "\t<tr><th scope=row>cbvn_nlin</th><td> 0.0630</td><td>0.2376 </td><td>0.0703 </td><td>0.7909 </td></tr>\n",
       "\t<tr><th scope=row>recov_npar</th><td> 0.0196</td><td>0.0135 </td><td>2.1055 </td><td>0.1468 </td></tr>\n",
       "\t<tr><th scope=row>cni</th><td> 0.0905</td><td>0.1049 </td><td>0.7445 </td><td>0.3882 </td></tr>\n",
       "\t<tr><th scope=row>ncho</th><td> 0.3239</td><td>0.5106 </td><td>0.4025 </td><td>0.5258 </td></tr>\n",
       "\t<tr><th scope=row>ccri</th><td>-0.0486</td><td>0.0946 </td><td>0.2638 </td><td>0.6075 </td></tr>\n",
       "\t<tr><th scope=row>isCEL:cbvn_nlin</th><td> 0.2849</td><td>0.2275 </td><td>1.5672 </td><td>0.2106 </td></tr>\n",
       "\t<tr><th scope=row>isCEL:recov_npar</th><td> 0.0063</td><td>0.0070 </td><td>0.8270 </td><td>0.3631 </td></tr>\n",
       "\t<tr><th scope=row>isCEL:ncho</th><td>-0.9297</td><td>0.4719 </td><td>3.8815 </td><td>0.0488 </td></tr>\n",
       "\t<tr><th scope=row>isCEL:ccri</th><td> 0.1064</td><td>0.1382 </td><td>0.5924 </td><td>0.4415 </td></tr>\n",
       "</tbody>\n",
       "</table>\n"
      ],
      "text/latex": [
       "\\begin{tabular}{r|llll}\n",
       "  & Estimate & Std.err & Wald & Pr(>\\textbar{}W\\textbar{})\\\\\n",
       "\\hline\n",
       "\t(Intercept) & -1.6233 & 1.1506  & 1.9904  & 0.1583 \\\\\n",
       "\tcbvn\\_nlin &  0.0630 & 0.2376  & 0.0703  & 0.7909 \\\\\n",
       "\trecov\\_npar &  0.0196 & 0.0135  & 2.1055  & 0.1468 \\\\\n",
       "\tcni &  0.0905 & 0.1049  & 0.7445  & 0.3882 \\\\\n",
       "\tncho &  0.3239 & 0.5106  & 0.4025  & 0.5258 \\\\\n",
       "\tccri & -0.0486 & 0.0946  & 0.2638  & 0.6075 \\\\\n",
       "\tisCEL:cbvn\\_nlin &  0.2849 & 0.2275  & 1.5672  & 0.2106 \\\\\n",
       "\tisCEL:recov\\_npar &  0.0063 & 0.0070  & 0.8270  & 0.3631 \\\\\n",
       "\tisCEL:ncho & -0.9297 & 0.4719  & 3.8815  & 0.0488 \\\\\n",
       "\tisCEL:ccri &  0.1064 & 0.1382  & 0.5924  & 0.4415 \\\\\n",
       "\\end{tabular}\n"
      ],
      "text/markdown": [
       "\n",
       "| <!--/--> | Estimate | Std.err | Wald | Pr(>|W|) | \n",
       "|---|---|---|---|---|---|---|---|---|---|\n",
       "| (Intercept) | -1.6233 | 1.1506  | 1.9904  | 0.1583  | \n",
       "| cbvn_nlin |  0.0630 | 0.2376  | 0.0703  | 0.7909  | \n",
       "| recov_npar |  0.0196 | 0.0135  | 2.1055  | 0.1468  | \n",
       "| cni |  0.0905 | 0.1049  | 0.7445  | 0.3882  | \n",
       "| ncho |  0.3239 | 0.5106  | 0.4025  | 0.5258  | \n",
       "| ccri | -0.0486 | 0.0946  | 0.2638  | 0.6075  | \n",
       "| isCEL:cbvn_nlin |  0.2849 | 0.2275  | 1.5672  | 0.2106  | \n",
       "| isCEL:recov_npar |  0.0063 | 0.0070  | 0.8270  | 0.3631  | \n",
       "| isCEL:ncho | -0.9297 | 0.4719  | 3.8815  | 0.0488  | \n",
       "| isCEL:ccri |  0.1064 | 0.1382  | 0.5924  | 0.4415  | \n",
       "\n",
       "\n"
      ],
      "text/plain": [
       "                 Estimate Std.err Wald   Pr(>|W|)\n",
       "(Intercept)      -1.6233  1.1506  1.9904 0.1583  \n",
       "cbvn_nlin         0.0630  0.2376  0.0703 0.7909  \n",
       "recov_npar        0.0196  0.0135  2.1055 0.1468  \n",
       "cni               0.0905  0.1049  0.7445 0.3882  \n",
       "ncho              0.3239  0.5106  0.4025 0.5258  \n",
       "ccri             -0.0486  0.0946  0.2638 0.6075  \n",
       "isCEL:cbvn_nlin   0.2849  0.2275  1.5672 0.2106  \n",
       "isCEL:recov_npar  0.0063  0.0070  0.8270 0.3631  \n",
       "isCEL:ncho       -0.9297  0.4719  3.8815 0.0488  \n",
       "isCEL:ccri        0.1064  0.1382  0.5924 0.4415  "
      ]
     },
     "metadata": {},
     "output_type": "display_data"
    }
   ],
   "source": [
    "gee.fit1 = geeglm(txe_rhgg ~ isCEL:(cbvn_nlin+recov_npar+ncho+ccri)+cbvn_nlin+recov_npar+cni+ncho+ccri, data = data_imp, id = factor(t_number_y), family = binomial, corstr = \"exchangeable\")\n",
    "round(summary(gee.fit1)$coefficients, 4)"
   ]
  },
  {
   "cell_type": "code",
   "execution_count": 71,
   "metadata": {},
   "outputs": [
    {
     "data": {
      "text/html": [
       "<table>\n",
       "<thead><tr><th></th><th scope=col>Estimate</th><th scope=col>Std.err</th><th scope=col>Wald</th><th scope=col>Pr(&gt;|W|)</th></tr></thead>\n",
       "<tbody>\n",
       "\t<tr><th scope=row>(Intercept)</th><td>-1.5854</td><td>1.1458 </td><td>1.9145 </td><td>0.1665 </td></tr>\n",
       "\t<tr><th scope=row>recov_npar</th><td> 0.0199</td><td>0.0133 </td><td>2.2512 </td><td>0.1335 </td></tr>\n",
       "\t<tr><th scope=row>cni</th><td> 0.0955</td><td>0.1090 </td><td>0.7688 </td><td>0.3806 </td></tr>\n",
       "\t<tr><th scope=row>ncho</th><td> 0.3285</td><td>0.5138 </td><td>0.4088 </td><td>0.5226 </td></tr>\n",
       "\t<tr><th scope=row>ccri</th><td>-0.0551</td><td>0.0965 </td><td>0.3262 </td><td>0.5679 </td></tr>\n",
       "\t<tr><th scope=row>isCEL:cbvn_nlin</th><td> 0.3389</td><td>0.1456 </td><td>5.4153 </td><td>0.0200 </td></tr>\n",
       "\t<tr><th scope=row>isCEL:recov_npar</th><td> 0.0058</td><td>0.0064 </td><td>0.8246 </td><td>0.3638 </td></tr>\n",
       "\t<tr><th scope=row>isCEL:ncho</th><td>-0.9491</td><td>0.4847 </td><td>3.8344 </td><td>0.0502 </td></tr>\n",
       "\t<tr><th scope=row>isCEL:ccri</th><td> 0.1109</td><td>0.1392 </td><td>0.6345 </td><td>0.4257 </td></tr>\n",
       "</tbody>\n",
       "</table>\n"
      ],
      "text/latex": [
       "\\begin{tabular}{r|llll}\n",
       "  & Estimate & Std.err & Wald & Pr(>\\textbar{}W\\textbar{})\\\\\n",
       "\\hline\n",
       "\t(Intercept) & -1.5854 & 1.1458  & 1.9145  & 0.1665 \\\\\n",
       "\trecov\\_npar &  0.0199 & 0.0133  & 2.2512  & 0.1335 \\\\\n",
       "\tcni &  0.0955 & 0.1090  & 0.7688  & 0.3806 \\\\\n",
       "\tncho &  0.3285 & 0.5138  & 0.4088  & 0.5226 \\\\\n",
       "\tccri & -0.0551 & 0.0965  & 0.3262  & 0.5679 \\\\\n",
       "\tisCEL:cbvn\\_nlin &  0.3389 & 0.1456  & 5.4153  & 0.0200 \\\\\n",
       "\tisCEL:recov\\_npar &  0.0058 & 0.0064  & 0.8246  & 0.3638 \\\\\n",
       "\tisCEL:ncho & -0.9491 & 0.4847  & 3.8344  & 0.0502 \\\\\n",
       "\tisCEL:ccri &  0.1109 & 0.1392  & 0.6345  & 0.4257 \\\\\n",
       "\\end{tabular}\n"
      ],
      "text/markdown": [
       "\n",
       "| <!--/--> | Estimate | Std.err | Wald | Pr(>|W|) | \n",
       "|---|---|---|---|---|---|---|---|---|\n",
       "| (Intercept) | -1.5854 | 1.1458  | 1.9145  | 0.1665  | \n",
       "| recov_npar |  0.0199 | 0.0133  | 2.2512  | 0.1335  | \n",
       "| cni |  0.0955 | 0.1090  | 0.7688  | 0.3806  | \n",
       "| ncho |  0.3285 | 0.5138  | 0.4088  | 0.5226  | \n",
       "| ccri | -0.0551 | 0.0965  | 0.3262  | 0.5679  | \n",
       "| isCEL:cbvn_nlin |  0.3389 | 0.1456  | 5.4153  | 0.0200  | \n",
       "| isCEL:recov_npar |  0.0058 | 0.0064  | 0.8246  | 0.3638  | \n",
       "| isCEL:ncho | -0.9491 | 0.4847  | 3.8344  | 0.0502  | \n",
       "| isCEL:ccri |  0.1109 | 0.1392  | 0.6345  | 0.4257  | \n",
       "\n",
       "\n"
      ],
      "text/plain": [
       "                 Estimate Std.err Wald   Pr(>|W|)\n",
       "(Intercept)      -1.5854  1.1458  1.9145 0.1665  \n",
       "recov_npar        0.0199  0.0133  2.2512 0.1335  \n",
       "cni               0.0955  0.1090  0.7688 0.3806  \n",
       "ncho              0.3285  0.5138  0.4088 0.5226  \n",
       "ccri             -0.0551  0.0965  0.3262 0.5679  \n",
       "isCEL:cbvn_nlin   0.3389  0.1456  5.4153 0.0200  \n",
       "isCEL:recov_npar  0.0058  0.0064  0.8246 0.3638  \n",
       "isCEL:ncho       -0.9491  0.4847  3.8344 0.0502  \n",
       "isCEL:ccri        0.1109  0.1392  0.6345 0.4257  "
      ]
     },
     "metadata": {},
     "output_type": "display_data"
    }
   ],
   "source": [
    "gee.fit1 = geeglm(txe_rhgg ~ isCEL:(cbvn_nlin+recov_npar+ncho+ccri)+recov_npar+cni+ncho+ccri, data = data_imp, id = factor(t_number_y), family = binomial, corstr = \"exchangeable\")\n",
    "round(summary(gee.fit1)$coefficients, 4)"
   ]
  },
  {
   "cell_type": "code",
   "execution_count": 72,
   "metadata": {},
   "outputs": [
    {
     "data": {
      "text/html": [
       "<table>\n",
       "<thead><tr><th></th><th scope=col>Estimate</th><th scope=col>Std.err</th><th scope=col>Wald</th><th scope=col>Pr(&gt;|W|)</th></tr></thead>\n",
       "<tbody>\n",
       "\t<tr><th scope=row>(Intercept)</th><td>-1.6050</td><td>1.1423 </td><td>1.9742 </td><td>0.1600 </td></tr>\n",
       "\t<tr><th scope=row>recov_npar</th><td> 0.0205</td><td>0.0131 </td><td>2.4752 </td><td>0.1157 </td></tr>\n",
       "\t<tr><th scope=row>cni</th><td> 0.0861</td><td>0.1076 </td><td>0.6391 </td><td>0.4240 </td></tr>\n",
       "\t<tr><th scope=row>ncho</th><td> 0.2427</td><td>0.4723 </td><td>0.2641 </td><td>0.6073 </td></tr>\n",
       "\t<tr><th scope=row>isCEL:cbvn_nlin</th><td> 0.3383</td><td>0.1455 </td><td>5.4069 </td><td>0.0201 </td></tr>\n",
       "\t<tr><th scope=row>isCEL:recov_npar</th><td> 0.0053</td><td>0.0063 </td><td>0.7024 </td><td>0.4020 </td></tr>\n",
       "\t<tr><th scope=row>isCEL:ncho</th><td>-0.8340</td><td>0.4358 </td><td>3.6624 </td><td>0.0557 </td></tr>\n",
       "\t<tr><th scope=row>isCEL:ccri</th><td> 0.0602</td><td>0.1099 </td><td>0.3008 </td><td>0.5834 </td></tr>\n",
       "</tbody>\n",
       "</table>\n"
      ],
      "text/latex": [
       "\\begin{tabular}{r|llll}\n",
       "  & Estimate & Std.err & Wald & Pr(>\\textbar{}W\\textbar{})\\\\\n",
       "\\hline\n",
       "\t(Intercept) & -1.6050 & 1.1423  & 1.9742  & 0.1600 \\\\\n",
       "\trecov\\_npar &  0.0205 & 0.0131  & 2.4752  & 0.1157 \\\\\n",
       "\tcni &  0.0861 & 0.1076  & 0.6391  & 0.4240 \\\\\n",
       "\tncho &  0.2427 & 0.4723  & 0.2641  & 0.6073 \\\\\n",
       "\tisCEL:cbvn\\_nlin &  0.3383 & 0.1455  & 5.4069  & 0.0201 \\\\\n",
       "\tisCEL:recov\\_npar &  0.0053 & 0.0063  & 0.7024  & 0.4020 \\\\\n",
       "\tisCEL:ncho & -0.8340 & 0.4358  & 3.6624  & 0.0557 \\\\\n",
       "\tisCEL:ccri &  0.0602 & 0.1099  & 0.3008  & 0.5834 \\\\\n",
       "\\end{tabular}\n"
      ],
      "text/markdown": [
       "\n",
       "| <!--/--> | Estimate | Std.err | Wald | Pr(>|W|) | \n",
       "|---|---|---|---|---|---|---|---|\n",
       "| (Intercept) | -1.6050 | 1.1423  | 1.9742  | 0.1600  | \n",
       "| recov_npar |  0.0205 | 0.0131  | 2.4752  | 0.1157  | \n",
       "| cni |  0.0861 | 0.1076  | 0.6391  | 0.4240  | \n",
       "| ncho |  0.2427 | 0.4723  | 0.2641  | 0.6073  | \n",
       "| isCEL:cbvn_nlin |  0.3383 | 0.1455  | 5.4069  | 0.0201  | \n",
       "| isCEL:recov_npar |  0.0053 | 0.0063  | 0.7024  | 0.4020  | \n",
       "| isCEL:ncho | -0.8340 | 0.4358  | 3.6624  | 0.0557  | \n",
       "| isCEL:ccri |  0.0602 | 0.1099  | 0.3008  | 0.5834  | \n",
       "\n",
       "\n"
      ],
      "text/plain": [
       "                 Estimate Std.err Wald   Pr(>|W|)\n",
       "(Intercept)      -1.6050  1.1423  1.9742 0.1600  \n",
       "recov_npar        0.0205  0.0131  2.4752 0.1157  \n",
       "cni               0.0861  0.1076  0.6391 0.4240  \n",
       "ncho              0.2427  0.4723  0.2641 0.6073  \n",
       "isCEL:cbvn_nlin   0.3383  0.1455  5.4069 0.0201  \n",
       "isCEL:recov_npar  0.0053  0.0063  0.7024 0.4020  \n",
       "isCEL:ncho       -0.8340  0.4358  3.6624 0.0557  \n",
       "isCEL:ccri        0.0602  0.1099  0.3008 0.5834  "
      ]
     },
     "metadata": {},
     "output_type": "display_data"
    }
   ],
   "source": [
    "gee.fit1 = geeglm(txe_rhgg ~ isCEL:(cbvn_nlin+recov_npar+ncho+ccri)+recov_npar+cni+ncho, data = data_imp, id = factor(t_number_y), family = binomial, corstr = \"exchangeable\")\n",
    "round(summary(gee.fit1)$coefficients, 4)"
   ]
  },
  {
   "cell_type": "code",
   "execution_count": 73,
   "metadata": {},
   "outputs": [
    {
     "data": {
      "text/html": [
       "<table>\n",
       "<thead><tr><th></th><th scope=col>Estimate</th><th scope=col>Std.err</th><th scope=col>Wald</th><th scope=col>Pr(&gt;|W|)</th></tr></thead>\n",
       "<tbody>\n",
       "\t<tr><th scope=row>(Intercept)</th><td>-1.6460</td><td>1.1477 </td><td>2.0570 </td><td>0.1515 </td></tr>\n",
       "\t<tr><th scope=row>recov_npar</th><td> 0.0227</td><td>0.0130 </td><td>3.0522 </td><td>0.0806 </td></tr>\n",
       "\t<tr><th scope=row>cni</th><td> 0.1275</td><td>0.0507 </td><td>6.3345 </td><td>0.0118 </td></tr>\n",
       "\t<tr><th scope=row>isCEL:cbvn_nlin</th><td> 0.3345</td><td>0.1458 </td><td>5.2636 </td><td>0.0218 </td></tr>\n",
       "\t<tr><th scope=row>isCEL:recov_npar</th><td> 0.0043</td><td>0.0064 </td><td>0.4604 </td><td>0.4974 </td></tr>\n",
       "\t<tr><th scope=row>isCEL:ncho</th><td>-0.7408</td><td>0.4319 </td><td>2.9419 </td><td>0.0863 </td></tr>\n",
       "\t<tr><th scope=row>isCEL:ccri</th><td> 0.0506</td><td>0.1100 </td><td>0.2117 </td><td>0.6454 </td></tr>\n",
       "</tbody>\n",
       "</table>\n"
      ],
      "text/latex": [
       "\\begin{tabular}{r|llll}\n",
       "  & Estimate & Std.err & Wald & Pr(>\\textbar{}W\\textbar{})\\\\\n",
       "\\hline\n",
       "\t(Intercept) & -1.6460 & 1.1477  & 2.0570  & 0.1515 \\\\\n",
       "\trecov\\_npar &  0.0227 & 0.0130  & 3.0522  & 0.0806 \\\\\n",
       "\tcni &  0.1275 & 0.0507  & 6.3345  & 0.0118 \\\\\n",
       "\tisCEL:cbvn\\_nlin &  0.3345 & 0.1458  & 5.2636  & 0.0218 \\\\\n",
       "\tisCEL:recov\\_npar &  0.0043 & 0.0064  & 0.4604  & 0.4974 \\\\\n",
       "\tisCEL:ncho & -0.7408 & 0.4319  & 2.9419  & 0.0863 \\\\\n",
       "\tisCEL:ccri &  0.0506 & 0.1100  & 0.2117  & 0.6454 \\\\\n",
       "\\end{tabular}\n"
      ],
      "text/markdown": [
       "\n",
       "| <!--/--> | Estimate | Std.err | Wald | Pr(>|W|) | \n",
       "|---|---|---|---|---|---|---|\n",
       "| (Intercept) | -1.6460 | 1.1477  | 2.0570  | 0.1515  | \n",
       "| recov_npar |  0.0227 | 0.0130  | 3.0522  | 0.0806  | \n",
       "| cni |  0.1275 | 0.0507  | 6.3345  | 0.0118  | \n",
       "| isCEL:cbvn_nlin |  0.3345 | 0.1458  | 5.2636  | 0.0218  | \n",
       "| isCEL:recov_npar |  0.0043 | 0.0064  | 0.4604  | 0.4974  | \n",
       "| isCEL:ncho | -0.7408 | 0.4319  | 2.9419  | 0.0863  | \n",
       "| isCEL:ccri |  0.0506 | 0.1100  | 0.2117  | 0.6454  | \n",
       "\n",
       "\n"
      ],
      "text/plain": [
       "                 Estimate Std.err Wald   Pr(>|W|)\n",
       "(Intercept)      -1.6460  1.1477  2.0570 0.1515  \n",
       "recov_npar        0.0227  0.0130  3.0522 0.0806  \n",
       "cni               0.1275  0.0507  6.3345 0.0118  \n",
       "isCEL:cbvn_nlin   0.3345  0.1458  5.2636 0.0218  \n",
       "isCEL:recov_npar  0.0043  0.0064  0.4604 0.4974  \n",
       "isCEL:ncho       -0.7408  0.4319  2.9419 0.0863  \n",
       "isCEL:ccri        0.0506  0.1100  0.2117 0.6454  "
      ]
     },
     "metadata": {},
     "output_type": "display_data"
    }
   ],
   "source": [
    "gee.fit1 = geeglm(txe_rhgg ~ isCEL:(cbvn_nlin+recov_npar+ncho+ccri)+recov_npar+cni, data = data_imp, id = factor(t_number_y), family = binomial, corstr = \"exchangeable\")\n",
    "round(summary(gee.fit1)$coefficients, 4)"
   ]
  },
  {
   "cell_type": "code",
   "execution_count": 74,
   "metadata": {},
   "outputs": [
    {
     "data": {
      "text/html": [
       "<table>\n",
       "<thead><tr><th></th><th scope=col>Estimate</th><th scope=col>Std.err</th><th scope=col>Wald</th><th scope=col>Pr(&gt;|W|)</th></tr></thead>\n",
       "<tbody>\n",
       "\t<tr><th scope=row>(Intercept)</th><td>-1.6662</td><td>1.1422 </td><td>2.1278 </td><td>0.1446 </td></tr>\n",
       "\t<tr><th scope=row>recov_npar</th><td> 0.0227</td><td>0.0130 </td><td>3.0738 </td><td>0.0796 </td></tr>\n",
       "\t<tr><th scope=row>cni</th><td> 0.1313</td><td>0.0512 </td><td>6.5802 </td><td>0.0103 </td></tr>\n",
       "\t<tr><th scope=row>isCEL:cbvn_nlin</th><td> 0.3368</td><td>0.1449 </td><td>5.4046 </td><td>0.0201 </td></tr>\n",
       "\t<tr><th scope=row>isCEL:recov_npar</th><td> 0.0039</td><td>0.0063 </td><td>0.3887 </td><td>0.5330 </td></tr>\n",
       "\t<tr><th scope=row>isCEL:ncho</th><td>-0.6164</td><td>0.3101 </td><td>3.9514 </td><td>0.0468 </td></tr>\n",
       "</tbody>\n",
       "</table>\n"
      ],
      "text/latex": [
       "\\begin{tabular}{r|llll}\n",
       "  & Estimate & Std.err & Wald & Pr(>\\textbar{}W\\textbar{})\\\\\n",
       "\\hline\n",
       "\t(Intercept) & -1.6662 & 1.1422  & 2.1278  & 0.1446 \\\\\n",
       "\trecov\\_npar &  0.0227 & 0.0130  & 3.0738  & 0.0796 \\\\\n",
       "\tcni &  0.1313 & 0.0512  & 6.5802  & 0.0103 \\\\\n",
       "\tisCEL:cbvn\\_nlin &  0.3368 & 0.1449  & 5.4046  & 0.0201 \\\\\n",
       "\tisCEL:recov\\_npar &  0.0039 & 0.0063  & 0.3887  & 0.5330 \\\\\n",
       "\tisCEL:ncho & -0.6164 & 0.3101  & 3.9514  & 0.0468 \\\\\n",
       "\\end{tabular}\n"
      ],
      "text/markdown": [
       "\n",
       "| <!--/--> | Estimate | Std.err | Wald | Pr(>|W|) | \n",
       "|---|---|---|---|---|---|\n",
       "| (Intercept) | -1.6662 | 1.1422  | 2.1278  | 0.1446  | \n",
       "| recov_npar |  0.0227 | 0.0130  | 3.0738  | 0.0796  | \n",
       "| cni |  0.1313 | 0.0512  | 6.5802  | 0.0103  | \n",
       "| isCEL:cbvn_nlin |  0.3368 | 0.1449  | 5.4046  | 0.0201  | \n",
       "| isCEL:recov_npar |  0.0039 | 0.0063  | 0.3887  | 0.5330  | \n",
       "| isCEL:ncho | -0.6164 | 0.3101  | 3.9514  | 0.0468  | \n",
       "\n",
       "\n"
      ],
      "text/plain": [
       "                 Estimate Std.err Wald   Pr(>|W|)\n",
       "(Intercept)      -1.6662  1.1422  2.1278 0.1446  \n",
       "recov_npar        0.0227  0.0130  3.0738 0.0796  \n",
       "cni               0.1313  0.0512  6.5802 0.0103  \n",
       "isCEL:cbvn_nlin   0.3368  0.1449  5.4046 0.0201  \n",
       "isCEL:recov_npar  0.0039  0.0063  0.3887 0.5330  \n",
       "isCEL:ncho       -0.6164  0.3101  3.9514 0.0468  "
      ]
     },
     "metadata": {},
     "output_type": "display_data"
    }
   ],
   "source": [
    "gee.fit1 = geeglm(txe_rhgg ~ isCEL:(cbvn_nlin+recov_npar+ncho)+recov_npar+cni, data = data_imp, id = factor(t_number_y), family = binomial, corstr = \"exchangeable\")\n",
    "round(summary(gee.fit1)$coefficients, 4)"
   ]
  },
  {
   "cell_type": "code",
   "execution_count": 75,
   "metadata": {},
   "outputs": [
    {
     "data": {
      "text/html": [
       "<table>\n",
       "<thead><tr><th></th><th scope=col>Estimate</th><th scope=col>Std.err</th><th scope=col>Wald</th><th scope=col>Pr(&gt;|W|)</th></tr></thead>\n",
       "<tbody>\n",
       "\t<tr><th scope=row>(Intercept)</th><td>-1.7861</td><td>1.1126 </td><td> 2.5773</td><td>0.1084 </td></tr>\n",
       "\t<tr><th scope=row>recov_npar</th><td> 0.0253</td><td>0.0121 </td><td> 4.3407</td><td>0.0372 </td></tr>\n",
       "\t<tr><th scope=row>cni</th><td> 0.1076</td><td>0.0446 </td><td> 5.8216</td><td>0.0158 </td></tr>\n",
       "\t<tr><th scope=row>isCEL:cbvn_nlin</th><td> 0.3958</td><td>0.1251 </td><td>10.0182</td><td>0.0015 </td></tr>\n",
       "\t<tr><th scope=row>isCEL:ncho</th><td>-0.4415</td><td>0.1624 </td><td> 7.3950</td><td>0.0065 </td></tr>\n",
       "</tbody>\n",
       "</table>\n"
      ],
      "text/latex": [
       "\\begin{tabular}{r|llll}\n",
       "  & Estimate & Std.err & Wald & Pr(>\\textbar{}W\\textbar{})\\\\\n",
       "\\hline\n",
       "\t(Intercept) & -1.7861 & 1.1126  &  2.5773 & 0.1084 \\\\\n",
       "\trecov\\_npar &  0.0253 & 0.0121  &  4.3407 & 0.0372 \\\\\n",
       "\tcni &  0.1076 & 0.0446  &  5.8216 & 0.0158 \\\\\n",
       "\tisCEL:cbvn\\_nlin &  0.3958 & 0.1251  & 10.0182 & 0.0015 \\\\\n",
       "\tisCEL:ncho & -0.4415 & 0.1624  &  7.3950 & 0.0065 \\\\\n",
       "\\end{tabular}\n"
      ],
      "text/markdown": [
       "\n",
       "| <!--/--> | Estimate | Std.err | Wald | Pr(>|W|) | \n",
       "|---|---|---|---|---|\n",
       "| (Intercept) | -1.7861 | 1.1126  |  2.5773 | 0.1084  | \n",
       "| recov_npar |  0.0253 | 0.0121  |  4.3407 | 0.0372  | \n",
       "| cni |  0.1076 | 0.0446  |  5.8216 | 0.0158  | \n",
       "| isCEL:cbvn_nlin |  0.3958 | 0.1251  | 10.0182 | 0.0015  | \n",
       "| isCEL:ncho | -0.4415 | 0.1624  |  7.3950 | 0.0065  | \n",
       "\n",
       "\n"
      ],
      "text/plain": [
       "                Estimate Std.err Wald    Pr(>|W|)\n",
       "(Intercept)     -1.7861  1.1126   2.5773 0.1084  \n",
       "recov_npar       0.0253  0.0121   4.3407 0.0372  \n",
       "cni              0.1076  0.0446   5.8216 0.0158  \n",
       "isCEL:cbvn_nlin  0.3958  0.1251  10.0182 0.0015  \n",
       "isCEL:ncho      -0.4415  0.1624   7.3950 0.0065  "
      ]
     },
     "metadata": {},
     "output_type": "display_data"
    }
   ],
   "source": [
    "gee.fit1 = geeglm(txe_rhgg ~ isCEL:(cbvn_nlin+ncho)+recov_npar+cni, data = data_imp, id = factor(t_number_y), family = binomial, corstr = \"exchangeable\")\n",
    "round(summary(gee.fit1)$coefficients, 4)"
   ]
  },
  {
   "cell_type": "code",
   "execution_count": null,
   "metadata": {
    "collapsed": true
   },
   "outputs": [],
   "source": []
  }
 ],
 "metadata": {
  "kernelspec": {
   "display_name": "R",
   "language": "R",
   "name": "ir"
  },
  "language_info": {
   "codemirror_mode": "r",
   "file_extension": ".r",
   "mimetype": "text/x-r-source",
   "name": "R",
   "pygments_lexer": "r",
   "version": "3.4.0"
  }
 },
 "nbformat": 4,
 "nbformat_minor": 2
}
