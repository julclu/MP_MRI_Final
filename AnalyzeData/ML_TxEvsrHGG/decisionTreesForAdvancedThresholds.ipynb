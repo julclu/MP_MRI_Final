{
 "cells": [
  {
   "cell_type": "code",
   "execution_count": 162,
   "metadata": {},
   "outputs": [],
   "source": [
    "#install.packages('rpart')"
   ]
  },
  {
   "cell_type": "code",
   "execution_count": 14,
   "metadata": {},
   "outputs": [],
   "source": [
    "library('rpart')\n",
    "library('caret')"
   ]
  },
  {
   "cell_type": "code",
   "execution_count": 15,
   "metadata": {},
   "outputs": [],
   "source": [
    "# install.packages(\"rpart.plot\")"
   ]
  },
  {
   "cell_type": "code",
   "execution_count": 16,
   "metadata": {},
   "outputs": [],
   "source": [
    "library(rpart.plot)"
   ]
  },
  {
   "cell_type": "code",
   "execution_count": 17,
   "metadata": {},
   "outputs": [],
   "source": [
    "data = read.csv('../../AnnotateData/recgli_annot10_CELorNELorUNK.csv')"
   ]
  },
  {
   "cell_type": "code",
   "execution_count": 18,
   "metadata": {},
   "outputs": [
    {
     "data": {
      "text/html": [
       "<ol class=list-inline>\n",
       "\t<li>305</li>\n",
       "\t<li>75</li>\n",
       "</ol>\n"
      ],
      "text/latex": [
       "\\begin{enumerate*}\n",
       "\\item 305\n",
       "\\item 75\n",
       "\\end{enumerate*}\n"
      ],
      "text/markdown": [
       "1. 305\n",
       "2. 75\n",
       "\n",
       "\n"
      ],
      "text/plain": [
       "[1] 305  75"
      ]
     },
     "metadata": {},
     "output_type": "display_data"
    }
   ],
   "source": [
    "data = data[data['outcome'] == \"txe\" | data['outcome']==\"rHGG\", ]\n",
    "dim(data)"
   ]
  },
  {
   "cell_type": "code",
   "execution_count": 19,
   "metadata": {},
   "outputs": [],
   "source": [
    "data = data[data['CELorNEL'] == \"CEL\" | data['CELorNEL'] == \"NEL\",]"
   ]
  },
  {
   "cell_type": "code",
   "execution_count": 20,
   "metadata": {},
   "outputs": [
    {
     "data": {
      "text/html": [
       "<ol class=list-inline>\n",
       "\t<li>292</li>\n",
       "\t<li>75</li>\n",
       "</ol>\n"
      ],
      "text/latex": [
       "\\begin{enumerate*}\n",
       "\\item 292\n",
       "\\item 75\n",
       "\\end{enumerate*}\n"
      ],
      "text/markdown": [
       "1. 292\n",
       "2. 75\n",
       "\n",
       "\n"
      ],
      "text/plain": [
       "[1] 292  75"
      ]
     },
     "metadata": {},
     "output_type": "display_data"
    }
   ],
   "source": [
    "dim(data)"
   ]
  },
  {
   "cell_type": "code",
   "execution_count": 21,
   "metadata": {},
   "outputs": [],
   "source": [
    "features = c('t_number_y',\"nfa.1\", 'nadc.1', 'cbvn_nlin', 'recov_npar', 'ncho', 'ncre', 'nnaa', 'cni', 'ccri', 'CELorNEL', 'newdata', 'outcome')"
   ]
  },
  {
   "cell_type": "code",
   "execution_count": 22,
   "metadata": {},
   "outputs": [],
   "source": [
    "data = data[, features]"
   ]
  },
  {
   "cell_type": "code",
   "execution_count": 23,
   "metadata": {},
   "outputs": [],
   "source": [
    "data = droplevels.data.frame(data)"
   ]
  },
  {
   "cell_type": "code",
   "execution_count": 24,
   "metadata": {},
   "outputs": [
    {
     "data": {
      "text/html": [
       "<dl class=dl-horizontal>\n",
       "\t<dt>t_number_y</dt>\n",
       "\t\t<dd>0</dd>\n",
       "\t<dt>nfa.1</dt>\n",
       "\t\t<dd>15</dd>\n",
       "\t<dt>nadc.1</dt>\n",
       "\t\t<dd>15</dd>\n",
       "\t<dt>cbvn_nlin</dt>\n",
       "\t\t<dd>97</dd>\n",
       "\t<dt>recov_npar</dt>\n",
       "\t\t<dd>97</dd>\n",
       "\t<dt>ncho</dt>\n",
       "\t\t<dd>136</dd>\n",
       "\t<dt>ncre</dt>\n",
       "\t\t<dd>136</dd>\n",
       "\t<dt>nnaa</dt>\n",
       "\t\t<dd>136</dd>\n",
       "\t<dt>cni</dt>\n",
       "\t\t<dd>136</dd>\n",
       "\t<dt>ccri</dt>\n",
       "\t\t<dd>136</dd>\n",
       "\t<dt>CELorNEL</dt>\n",
       "\t\t<dd>0</dd>\n",
       "\t<dt>newdata</dt>\n",
       "\t\t<dd>0</dd>\n",
       "\t<dt>outcome</dt>\n",
       "\t\t<dd>0</dd>\n",
       "</dl>\n"
      ],
      "text/latex": [
       "\\begin{description*}\n",
       "\\item[t\\textbackslash{}\\_number\\textbackslash{}\\_y] 0\n",
       "\\item[nfa.1] 15\n",
       "\\item[nadc.1] 15\n",
       "\\item[cbvn\\textbackslash{}\\_nlin] 97\n",
       "\\item[recov\\textbackslash{}\\_npar] 97\n",
       "\\item[ncho] 136\n",
       "\\item[ncre] 136\n",
       "\\item[nnaa] 136\n",
       "\\item[cni] 136\n",
       "\\item[ccri] 136\n",
       "\\item[CELorNEL] 0\n",
       "\\item[newdata] 0\n",
       "\\item[outcome] 0\n",
       "\\end{description*}\n"
      ],
      "text/markdown": [
       "t_number_y\n",
       ":   0nfa.1\n",
       ":   15nadc.1\n",
       ":   15cbvn_nlin\n",
       ":   97recov_npar\n",
       ":   97ncho\n",
       ":   136ncre\n",
       ":   136nnaa\n",
       ":   136cni\n",
       ":   136ccri\n",
       ":   136CELorNEL\n",
       ":   0newdata\n",
       ":   0outcome\n",
       ":   0\n",
       "\n"
      ],
      "text/plain": [
       "t_number_y      nfa.1     nadc.1  cbvn_nlin recov_npar       ncho       ncre \n",
       "         0         15         15         97         97        136        136 \n",
       "      nnaa        cni       ccri   CELorNEL    newdata    outcome \n",
       "       136        136        136          0          0          0 "
      ]
     },
     "metadata": {},
     "output_type": "display_data"
    }
   ],
   "source": [
    "colSums(is.na(data))"
   ]
  },
  {
   "cell_type": "code",
   "execution_count": 25,
   "metadata": {},
   "outputs": [],
   "source": [
    "data_dummyVars = data.frame(data, \n",
    "                           hasPerf = ifelse(is.na(data$cbvn_nlin), 0, 1), \n",
    "                           hasSpec = ifelse(is.na(data$cni), 0, 1), \n",
    "                           hasDiffu = ifelse(is.na(data$nadc.1), 0, 1))"
   ]
  },
  {
   "cell_type": "code",
   "execution_count": 26,
   "metadata": {},
   "outputs": [],
   "source": [
    "data_imp = data_dummyVars"
   ]
  },
  {
   "cell_type": "code",
   "execution_count": 13,
   "metadata": {},
   "outputs": [],
   "source": [
    "data_dummyVars$cbvn_nlin = ifelse(is.na(data$cbvn_nlin), 999, data$cbvn_nlin)\n",
    "data_dummyVars$nadc.1 = ifelse(is.na(data$nadc.1), 999, data$nadc.1)\n",
    "data_dummyVars$nfa.1 = ifelse(is.na(data$nadc.1), 999, data$nfa.1)\n",
    "data_dummyVars$recov_npar = ifelse(is.na(data$recov_npar), 999, data$recov_npar)\n",
    "data_dummyVars$cni = ifelse(is.na(data$cni), 999, data$cni)\n",
    "data_dummyVars$ncho = ifelse(is.na(data$ncho), 999, data$ncho)\n",
    "data_dummyVars$ncre = ifelse(is.na(data$ncre), 999, data$ncre)\n",
    "data_dummyVars$nnaa = ifelse(is.na(data$nnaa), 999, data$nnaa)\n",
    "data_dummyVars$ccri = ifelse(is.na(data$ccri), 999, data$ccri)\n",
    "\n"
   ]
  },
  {
   "cell_type": "code",
   "execution_count": 27,
   "metadata": {},
   "outputs": [],
   "source": [
    "data_imp = data_dummyVars "
   ]
  },
  {
   "cell_type": "code",
   "execution_count": 28,
   "metadata": {},
   "outputs": [
    {
     "data": {
      "text/html": [
       "<table>\n",
       "<thead><tr><th></th><th scope=col>t_number_y</th><th scope=col>nfa.1</th><th scope=col>nadc.1</th><th scope=col>cbvn_nlin</th><th scope=col>recov_npar</th><th scope=col>ncho</th><th scope=col>ncre</th><th scope=col>nnaa</th><th scope=col>cni</th><th scope=col>ccri</th><th scope=col>CELorNEL</th><th scope=col>newdata</th><th scope=col>outcome</th><th scope=col>hasPerf</th><th scope=col>hasSpec</th><th scope=col>hasDiffu</th></tr></thead>\n",
       "<tbody>\n",
       "\t<tr><th scope=row>1</th><td>10366 </td><td>0.83  </td><td>0.75  </td><td>1.08  </td><td> 98.89</td><td>1.03  </td><td>0.47  </td><td>0.46  </td><td>2.60  </td><td>1.88  </td><td>NEL   </td><td>1     </td><td>txe   </td><td>1     </td><td>1     </td><td>1     </td></tr>\n",
       "\t<tr><th scope=row>3</th><td>10448 </td><td>0.50  </td><td>1.62  </td><td>2.43  </td><td>100.00</td><td>  NA  </td><td>  NA  </td><td>  NA  </td><td>  NA  </td><td>  NA  </td><td>CEL   </td><td>1     </td><td>rHGG  </td><td>1     </td><td>0     </td><td>1     </td></tr>\n",
       "\t<tr><th scope=row>5</th><td>10594 </td><td>0.42  </td><td>2.12  </td><td>0.95  </td><td>100.00</td><td>1.04  </td><td>0.79  </td><td>0.36  </td><td>3.27  </td><td>1.03  </td><td>NEL   </td><td>1     </td><td>rHGG  </td><td>1     </td><td>1     </td><td>1     </td></tr>\n",
       "\t<tr><th scope=row>6</th><td>10594 </td><td>0.73  </td><td>1.60  </td><td>0.84  </td><td>100.00</td><td>1.61  </td><td>1.07  </td><td>0.13  </td><td>7.57  </td><td>2.33  </td><td>NEL   </td><td>1     </td><td>rHGG  </td><td>1     </td><td>1     </td><td>1     </td></tr>\n",
       "\t<tr><th scope=row>7</th><td>10594 </td><td>0.42  </td><td>3.03  </td><td>0.42  </td><td>100.00</td><td>1.89  </td><td>1.21  </td><td>0.74  </td><td>4.37  </td><td>2.13  </td><td>NEL   </td><td>1     </td><td>rHGG  </td><td>1     </td><td>1     </td><td>1     </td></tr>\n",
       "\t<tr><th scope=row>8</th><td>10655 </td><td>0.61  </td><td>1.15  </td><td>0.63  </td><td>100.00</td><td>1.10  </td><td>0.53  </td><td>0.27  </td><td>3.43  </td><td>2.22  </td><td>NEL   </td><td>1     </td><td>txe   </td><td>1     </td><td>1     </td><td>1     </td></tr>\n",
       "</tbody>\n",
       "</table>\n"
      ],
      "text/latex": [
       "\\begin{tabular}{r|llllllllllllllll}\n",
       "  & t\\_number\\_y & nfa.1 & nadc.1 & cbvn\\_nlin & recov\\_npar & ncho & ncre & nnaa & cni & ccri & CELorNEL & newdata & outcome & hasPerf & hasSpec & hasDiffu\\\\\n",
       "\\hline\n",
       "\t1 & 10366  & 0.83   & 0.75   & 1.08   &  98.89 & 1.03   & 0.47   & 0.46   & 2.60   & 1.88   & NEL    & 1      & txe    & 1      & 1      & 1     \\\\\n",
       "\t3 & 10448  & 0.50   & 1.62   & 2.43   & 100.00 &   NA   &   NA   &   NA   &   NA   &   NA   & CEL    & 1      & rHGG   & 1      & 0      & 1     \\\\\n",
       "\t5 & 10594  & 0.42   & 2.12   & 0.95   & 100.00 & 1.04   & 0.79   & 0.36   & 3.27   & 1.03   & NEL    & 1      & rHGG   & 1      & 1      & 1     \\\\\n",
       "\t6 & 10594  & 0.73   & 1.60   & 0.84   & 100.00 & 1.61   & 1.07   & 0.13   & 7.57   & 2.33   & NEL    & 1      & rHGG   & 1      & 1      & 1     \\\\\n",
       "\t7 & 10594  & 0.42   & 3.03   & 0.42   & 100.00 & 1.89   & 1.21   & 0.74   & 4.37   & 2.13   & NEL    & 1      & rHGG   & 1      & 1      & 1     \\\\\n",
       "\t8 & 10655  & 0.61   & 1.15   & 0.63   & 100.00 & 1.10   & 0.53   & 0.27   & 3.43   & 2.22   & NEL    & 1      & txe    & 1      & 1      & 1     \\\\\n",
       "\\end{tabular}\n"
      ],
      "text/markdown": [
       "\n",
       "| <!--/--> | t_number_y | nfa.1 | nadc.1 | cbvn_nlin | recov_npar | ncho | ncre | nnaa | cni | ccri | CELorNEL | newdata | outcome | hasPerf | hasSpec | hasDiffu | \n",
       "|---|---|---|---|---|---|\n",
       "| 1 | 10366  | 0.83   | 0.75   | 1.08   |  98.89 | 1.03   | 0.47   | 0.46   | 2.60   | 1.88   | NEL    | 1      | txe    | 1      | 1      | 1      | \n",
       "| 3 | 10448  | 0.50   | 1.62   | 2.43   | 100.00 |   NA   |   NA   |   NA   |   NA   |   NA   | CEL    | 1      | rHGG   | 1      | 0      | 1      | \n",
       "| 5 | 10594  | 0.42   | 2.12   | 0.95   | 100.00 | 1.04   | 0.79   | 0.36   | 3.27   | 1.03   | NEL    | 1      | rHGG   | 1      | 1      | 1      | \n",
       "| 6 | 10594  | 0.73   | 1.60   | 0.84   | 100.00 | 1.61   | 1.07   | 0.13   | 7.57   | 2.33   | NEL    | 1      | rHGG   | 1      | 1      | 1      | \n",
       "| 7 | 10594  | 0.42   | 3.03   | 0.42   | 100.00 | 1.89   | 1.21   | 0.74   | 4.37   | 2.13   | NEL    | 1      | rHGG   | 1      | 1      | 1      | \n",
       "| 8 | 10655  | 0.61   | 1.15   | 0.63   | 100.00 | 1.10   | 0.53   | 0.27   | 3.43   | 2.22   | NEL    | 1      | txe    | 1      | 1      | 1      | \n",
       "\n",
       "\n"
      ],
      "text/plain": [
       "  t_number_y nfa.1 nadc.1 cbvn_nlin recov_npar ncho ncre nnaa cni  ccri\n",
       "1 10366      0.83  0.75   1.08       98.89     1.03 0.47 0.46 2.60 1.88\n",
       "3 10448      0.50  1.62   2.43      100.00       NA   NA   NA   NA   NA\n",
       "5 10594      0.42  2.12   0.95      100.00     1.04 0.79 0.36 3.27 1.03\n",
       "6 10594      0.73  1.60   0.84      100.00     1.61 1.07 0.13 7.57 2.33\n",
       "7 10594      0.42  3.03   0.42      100.00     1.89 1.21 0.74 4.37 2.13\n",
       "8 10655      0.61  1.15   0.63      100.00     1.10 0.53 0.27 3.43 2.22\n",
       "  CELorNEL newdata outcome hasPerf hasSpec hasDiffu\n",
       "1 NEL      1       txe     1       1       1       \n",
       "3 CEL      1       rHGG    1       0       1       \n",
       "5 NEL      1       rHGG    1       1       1       \n",
       "6 NEL      1       rHGG    1       1       1       \n",
       "7 NEL      1       rHGG    1       1       1       \n",
       "8 NEL      1       txe     1       1       1       "
      ]
     },
     "metadata": {},
     "output_type": "display_data"
    }
   ],
   "source": [
    "head(data_dummyVars)"
   ]
  },
  {
   "cell_type": "code",
   "execution_count": 30,
   "metadata": {},
   "outputs": [],
   "source": [
    "data_cel = data_dummyVars[which(data_dummyVars$CELorNEL == \"CEL\"),]"
   ]
  },
  {
   "cell_type": "code",
   "execution_count": 31,
   "metadata": {},
   "outputs": [],
   "source": [
    "data_cel_stat = data_cel[!is.na(data_cel$cni),]"
   ]
  },
  {
   "cell_type": "code",
   "execution_count": 178,
   "metadata": {},
   "outputs": [
    {
     "data": {
      "text/html": [
       "<strong>txe:</strong> 0.267123287671233"
      ],
      "text/latex": [
       "\\textbf{txe:} 0.267123287671233"
      ],
      "text/markdown": [
       "**txe:** 0.267123287671233"
      ],
      "text/plain": [
       "      txe \n",
       "0.2671233 "
      ]
     },
     "metadata": {},
     "output_type": "display_data"
    }
   ],
   "source": [
    "table(data_imp$outcome)['txe']/sum(table(data_imp$outcome)['txe'], table(data_imp$outcome)['rHGG'])"
   ]
  },
  {
   "cell_type": "code",
   "execution_count": 179,
   "metadata": {},
   "outputs": [],
   "source": [
    "## split into train/test by tnum \n",
    "unique_tnums = unique(data_imp$t_number_y)\n",
    "set.seed(1)\n",
    "train_tnums = unique_tnums[sample(c(1:length(unique_tnums)), size = round(length(unique_tnums)*.75))]\n",
    "test_tnums = unique_tnums[! unique_tnums %in% train_tnums]\n",
    "## split data by patient split above: \n",
    "data_train = data_imp[data_imp$t_number_y %in% train_tnums, ]\n",
    "data_test = data_imp[data_imp$t_number_y %in% test_tnums, ]\n"
   ]
  },
  {
   "cell_type": "code",
   "execution_count": 180,
   "metadata": {},
   "outputs": [
    {
     "data": {
      "text/html": [
       "<ol class=list-inline>\n",
       "\t<li>10366</li>\n",
       "\t<li>10448</li>\n",
       "\t<li>10594</li>\n",
       "\t<li>10655</li>\n",
       "\t<li>10708</li>\n",
       "\t<li>10709</li>\n",
       "\t<li>10748</li>\n",
       "\t<li>10756</li>\n",
       "\t<li>10790</li>\n",
       "\t<li>10793</li>\n",
       "\t<li>11025</li>\n",
       "\t<li>11192</li>\n",
       "\t<li>11323</li>\n",
       "\t<li>11333</li>\n",
       "\t<li>11358</li>\n",
       "\t<li>11382</li>\n",
       "\t<li>11406</li>\n",
       "\t<li>11410</li>\n",
       "\t<li>11412</li>\n",
       "\t<li>11476</li>\n",
       "\t<li>11482</li>\n",
       "\t<li>11484</li>\n",
       "\t<li>5296</li>\n",
       "\t<li>5317</li>\n",
       "\t<li>5333</li>\n",
       "\t<li>5361</li>\n",
       "\t<li>5365</li>\n",
       "\t<li>5535</li>\n",
       "\t<li>5550</li>\n",
       "\t<li>5603</li>\n",
       "\t<li>5610</li>\n",
       "\t<li>5656</li>\n",
       "\t<li>5668</li>\n",
       "\t<li>5680</li>\n",
       "\t<li>5681</li>\n",
       "\t<li>5728</li>\n",
       "\t<li>5730</li>\n",
       "\t<li>5766</li>\n",
       "\t<li>5788</li>\n",
       "\t<li>5819</li>\n",
       "\t<li>5880</li>\n",
       "\t<li>5882</li>\n",
       "\t<li>5944</li>\n",
       "\t<li>5950</li>\n",
       "\t<li>5961</li>\n",
       "\t<li>5980</li>\n",
       "\t<li>6020</li>\n",
       "\t<li>6069</li>\n",
       "\t<li>6128</li>\n",
       "\t<li>6144</li>\n",
       "\t<li>6152</li>\n",
       "\t<li>6206</li>\n",
       "\t<li>6218</li>\n",
       "\t<li>6241</li>\n",
       "\t<li>6243</li>\n",
       "\t<li>6260</li>\n",
       "\t<li>6274</li>\n",
       "\t<li>6285</li>\n",
       "\t<li>6295</li>\n",
       "\t<li>6296</li>\n",
       "\t<li>6313</li>\n",
       "\t<li>6369</li>\n",
       "\t<li>6386</li>\n",
       "\t<li>6415</li>\n",
       "\t<li>6472</li>\n",
       "\t<li>6495</li>\n",
       "\t<li>6522</li>\n",
       "\t<li>6551</li>\n",
       "\t<li>6604</li>\n",
       "\t<li>6619</li>\n",
       "\t<li>6630</li>\n",
       "\t<li>6682</li>\n",
       "\t<li>6707</li>\n",
       "\t<li>6771</li>\n",
       "\t<li>6870</li>\n",
       "\t<li>6929</li>\n",
       "\t<li>7016</li>\n",
       "\t<li>7028</li>\n",
       "\t<li>7039</li>\n",
       "\t<li>7329</li>\n",
       "\t<li>7394</li>\n",
       "\t<li>7417</li>\n",
       "\t<li>7451</li>\n",
       "\t<li>7484</li>\n",
       "\t<li>7527</li>\n",
       "\t<li>7540</li>\n",
       "\t<li>7555</li>\n",
       "\t<li>7556</li>\n",
       "\t<li>7741</li>\n",
       "\t<li>7759</li>\n",
       "\t<li>8070</li>\n",
       "\t<li>8773</li>\n",
       "\t<li>8775</li>\n",
       "\t<li>8783</li>\n",
       "\t<li>8869</li>\n",
       "\t<li>8878</li>\n",
       "\t<li>8943</li>\n",
       "\t<li>8944</li>\n",
       "\t<li>8960</li>\n",
       "\t<li>8977</li>\n",
       "\t<li>8995</li>\n",
       "\t<li>9000</li>\n",
       "\t<li>9014</li>\n",
       "\t<li>9063</li>\n",
       "\t<li>9084</li>\n",
       "\t<li>9085</li>\n",
       "\t<li>9119</li>\n",
       "\t<li>9127</li>\n",
       "\t<li>9213</li>\n",
       "\t<li>9288</li>\n",
       "\t<li>9406</li>\n",
       "\t<li>9408</li>\n",
       "\t<li>9410</li>\n",
       "\t<li>9586</li>\n",
       "\t<li>9683</li>\n",
       "\t<li>9970</li>\n",
       "\t<li>9971</li>\n",
       "\t<li>10251</li>\n",
       "\t<li>11506</li>\n",
       "\t<li>10386</li>\n",
       "\t<li>10343</li>\n",
       "\t<li>10240</li>\n",
       "\t<li>10242</li>\n",
       "\t<li>10152</li>\n",
       "\t<li>8956</li>\n",
       "\t<li>10218</li>\n",
       "\t<li>10699</li>\n",
       "\t<li>9134</li>\n",
       "\t<li>10202</li>\n",
       "\t<li>11165</li>\n",
       "\t<li>9259</li>\n",
       "\t<li>10160</li>\n",
       "\t<li>10777</li>\n",
       "\t<li>11318</li>\n",
       "\t<li>11390</li>\n",
       "\t<li>10768</li>\n",
       "\t<li>10763</li>\n",
       "\t<li>10269</li>\n",
       "</ol>\n"
      ],
      "text/latex": [
       "\\begin{enumerate*}\n",
       "\\item 10366\n",
       "\\item 10448\n",
       "\\item 10594\n",
       "\\item 10655\n",
       "\\item 10708\n",
       "\\item 10709\n",
       "\\item 10748\n",
       "\\item 10756\n",
       "\\item 10790\n",
       "\\item 10793\n",
       "\\item 11025\n",
       "\\item 11192\n",
       "\\item 11323\n",
       "\\item 11333\n",
       "\\item 11358\n",
       "\\item 11382\n",
       "\\item 11406\n",
       "\\item 11410\n",
       "\\item 11412\n",
       "\\item 11476\n",
       "\\item 11482\n",
       "\\item 11484\n",
       "\\item 5296\n",
       "\\item 5317\n",
       "\\item 5333\n",
       "\\item 5361\n",
       "\\item 5365\n",
       "\\item 5535\n",
       "\\item 5550\n",
       "\\item 5603\n",
       "\\item 5610\n",
       "\\item 5656\n",
       "\\item 5668\n",
       "\\item 5680\n",
       "\\item 5681\n",
       "\\item 5728\n",
       "\\item 5730\n",
       "\\item 5766\n",
       "\\item 5788\n",
       "\\item 5819\n",
       "\\item 5880\n",
       "\\item 5882\n",
       "\\item 5944\n",
       "\\item 5950\n",
       "\\item 5961\n",
       "\\item 5980\n",
       "\\item 6020\n",
       "\\item 6069\n",
       "\\item 6128\n",
       "\\item 6144\n",
       "\\item 6152\n",
       "\\item 6206\n",
       "\\item 6218\n",
       "\\item 6241\n",
       "\\item 6243\n",
       "\\item 6260\n",
       "\\item 6274\n",
       "\\item 6285\n",
       "\\item 6295\n",
       "\\item 6296\n",
       "\\item 6313\n",
       "\\item 6369\n",
       "\\item 6386\n",
       "\\item 6415\n",
       "\\item 6472\n",
       "\\item 6495\n",
       "\\item 6522\n",
       "\\item 6551\n",
       "\\item 6604\n",
       "\\item 6619\n",
       "\\item 6630\n",
       "\\item 6682\n",
       "\\item 6707\n",
       "\\item 6771\n",
       "\\item 6870\n",
       "\\item 6929\n",
       "\\item 7016\n",
       "\\item 7028\n",
       "\\item 7039\n",
       "\\item 7329\n",
       "\\item 7394\n",
       "\\item 7417\n",
       "\\item 7451\n",
       "\\item 7484\n",
       "\\item 7527\n",
       "\\item 7540\n",
       "\\item 7555\n",
       "\\item 7556\n",
       "\\item 7741\n",
       "\\item 7759\n",
       "\\item 8070\n",
       "\\item 8773\n",
       "\\item 8775\n",
       "\\item 8783\n",
       "\\item 8869\n",
       "\\item 8878\n",
       "\\item 8943\n",
       "\\item 8944\n",
       "\\item 8960\n",
       "\\item 8977\n",
       "\\item 8995\n",
       "\\item 9000\n",
       "\\item 9014\n",
       "\\item 9063\n",
       "\\item 9084\n",
       "\\item 9085\n",
       "\\item 9119\n",
       "\\item 9127\n",
       "\\item 9213\n",
       "\\item 9288\n",
       "\\item 9406\n",
       "\\item 9408\n",
       "\\item 9410\n",
       "\\item 9586\n",
       "\\item 9683\n",
       "\\item 9970\n",
       "\\item 9971\n",
       "\\item 10251\n",
       "\\item 11506\n",
       "\\item 10386\n",
       "\\item 10343\n",
       "\\item 10240\n",
       "\\item 10242\n",
       "\\item 10152\n",
       "\\item 8956\n",
       "\\item 10218\n",
       "\\item 10699\n",
       "\\item 9134\n",
       "\\item 10202\n",
       "\\item 11165\n",
       "\\item 9259\n",
       "\\item 10160\n",
       "\\item 10777\n",
       "\\item 11318\n",
       "\\item 11390\n",
       "\\item 10768\n",
       "\\item 10763\n",
       "\\item 10269\n",
       "\\end{enumerate*}\n"
      ],
      "text/markdown": [
       "1. 10366\n",
       "2. 10448\n",
       "3. 10594\n",
       "4. 10655\n",
       "5. 10708\n",
       "6. 10709\n",
       "7. 10748\n",
       "8. 10756\n",
       "9. 10790\n",
       "10. 10793\n",
       "11. 11025\n",
       "12. 11192\n",
       "13. 11323\n",
       "14. 11333\n",
       "15. 11358\n",
       "16. 11382\n",
       "17. 11406\n",
       "18. 11410\n",
       "19. 11412\n",
       "20. 11476\n",
       "21. 11482\n",
       "22. 11484\n",
       "23. 5296\n",
       "24. 5317\n",
       "25. 5333\n",
       "26. 5361\n",
       "27. 5365\n",
       "28. 5535\n",
       "29. 5550\n",
       "30. 5603\n",
       "31. 5610\n",
       "32. 5656\n",
       "33. 5668\n",
       "34. 5680\n",
       "35. 5681\n",
       "36. 5728\n",
       "37. 5730\n",
       "38. 5766\n",
       "39. 5788\n",
       "40. 5819\n",
       "41. 5880\n",
       "42. 5882\n",
       "43. 5944\n",
       "44. 5950\n",
       "45. 5961\n",
       "46. 5980\n",
       "47. 6020\n",
       "48. 6069\n",
       "49. 6128\n",
       "50. 6144\n",
       "51. 6152\n",
       "52. 6206\n",
       "53. 6218\n",
       "54. 6241\n",
       "55. 6243\n",
       "56. 6260\n",
       "57. 6274\n",
       "58. 6285\n",
       "59. 6295\n",
       "60. 6296\n",
       "61. 6313\n",
       "62. 6369\n",
       "63. 6386\n",
       "64. 6415\n",
       "65. 6472\n",
       "66. 6495\n",
       "67. 6522\n",
       "68. 6551\n",
       "69. 6604\n",
       "70. 6619\n",
       "71. 6630\n",
       "72. 6682\n",
       "73. 6707\n",
       "74. 6771\n",
       "75. 6870\n",
       "76. 6929\n",
       "77. 7016\n",
       "78. 7028\n",
       "79. 7039\n",
       "80. 7329\n",
       "81. 7394\n",
       "82. 7417\n",
       "83. 7451\n",
       "84. 7484\n",
       "85. 7527\n",
       "86. 7540\n",
       "87. 7555\n",
       "88. 7556\n",
       "89. 7741\n",
       "90. 7759\n",
       "91. 8070\n",
       "92. 8773\n",
       "93. 8775\n",
       "94. 8783\n",
       "95. 8869\n",
       "96. 8878\n",
       "97. 8943\n",
       "98. 8944\n",
       "99. 8960\n",
       "100. 8977\n",
       "101. 8995\n",
       "102. 9000\n",
       "103. 9014\n",
       "104. 9063\n",
       "105. 9084\n",
       "106. 9085\n",
       "107. 9119\n",
       "108. 9127\n",
       "109. 9213\n",
       "110. 9288\n",
       "111. 9406\n",
       "112. 9408\n",
       "113. 9410\n",
       "114. 9586\n",
       "115. 9683\n",
       "116. 9970\n",
       "117. 9971\n",
       "118. 10251\n",
       "119. 11506\n",
       "120. 10386\n",
       "121. 10343\n",
       "122. 10240\n",
       "123. 10242\n",
       "124. 10152\n",
       "125. 8956\n",
       "126. 10218\n",
       "127. 10699\n",
       "128. 9134\n",
       "129. 10202\n",
       "130. 11165\n",
       "131. 9259\n",
       "132. 10160\n",
       "133. 10777\n",
       "134. 11318\n",
       "135. 11390\n",
       "136. 10768\n",
       "137. 10763\n",
       "138. 10269\n",
       "\n",
       "\n"
      ],
      "text/plain": [
       "  [1] 10366 10448 10594 10655 10708 10709 10748 10756 10790 10793 11025 11192\n",
       " [13] 11323 11333 11358 11382 11406 11410 11412 11476 11482 11484  5296  5317\n",
       " [25]  5333  5361  5365  5535  5550  5603  5610  5656  5668  5680  5681  5728\n",
       " [37]  5730  5766  5788  5819  5880  5882  5944  5950  5961  5980  6020  6069\n",
       " [49]  6128  6144  6152  6206  6218  6241  6243  6260  6274  6285  6295  6296\n",
       " [61]  6313  6369  6386  6415  6472  6495  6522  6551  6604  6619  6630  6682\n",
       " [73]  6707  6771  6870  6929  7016  7028  7039  7329  7394  7417  7451  7484\n",
       " [85]  7527  7540  7555  7556  7741  7759  8070  8773  8775  8783  8869  8878\n",
       " [97]  8943  8944  8960  8977  8995  9000  9014  9063  9084  9085  9119  9127\n",
       "[109]  9213  9288  9406  9408  9410  9586  9683  9970  9971 10251 11506 10386\n",
       "[121] 10343 10240 10242 10152  8956 10218 10699  9134 10202 11165  9259 10160\n",
       "[133] 10777 11318 11390 10768 10763 10269"
      ]
     },
     "metadata": {},
     "output_type": "display_data"
    }
   ],
   "source": [
    "unique_tnums = unique(data_imp$t_number_y)\n",
    "unique_tnums"
   ]
  },
  {
   "cell_type": "code",
   "execution_count": 181,
   "metadata": {},
   "outputs": [],
   "source": [
    "set.seed(2)"
   ]
  },
  {
   "cell_type": "code",
   "execution_count": 182,
   "metadata": {},
   "outputs": [],
   "source": [
    "outcome = \"outcome\"\n",
    "features = c('CELorNEL', 'newdata', 'cbvn_nlin', 'recov_npar',\n",
    "             'ccri', 'cni', 'ncho', 'ncre', 'nnaa', 'nfa.1', 'nadc.1',\n",
    "             'hasPerf', 'hasSpec', 'hasDiffu')\n",
    "features.addsign <- paste(features, collapse = \"+\")\n",
    "rf_formula = as.formula(paste(outcome, features.addsign, sep = \"~\"))"
   ]
  },
  {
   "cell_type": "code",
   "execution_count": 183,
   "metadata": {},
   "outputs": [],
   "source": [
    "fulltree = rpart(rf_formula, data=data_train, method = \"class\")"
   ]
  },
  {
   "cell_type": "code",
   "execution_count": 32,
   "metadata": {},
   "outputs": [],
   "source": [
    "cnitree = rpart(outcome~cni, data = data_cel_stat, method = \"class\", )"
   ]
  },
  {
   "cell_type": "code",
   "execution_count": 33,
   "metadata": {},
   "outputs": [
    {
     "data": {
      "image/png": "[encoded data removed]",
      "text/plain": [
       "plot without title"
      ]
     },
     "metadata": {},
     "output_type": "display_data"
    }
   ],
   "source": [
    "plotcp(cnitree)"
   ]
  },
  {
   "cell_type": "code",
   "execution_count": 185,
   "metadata": {},
   "outputs": [
    {
     "name": "stdout",
     "output_type": "stream",
     "text": [
      "\n",
      "Classification tree:\n",
      "rpart(formula = rf_formula, data = data_train, method = \"class\")\n",
      "\n",
      "Variables actually used in tree construction:\n",
      "[1] cbvn_nlin ccri      nadc.1    newdata   nfa.1    \n",
      "\n",
      "Root node error: 66/235 = 0.28085\n",
      "\n",
      "n= 235 \n",
      "\n",
      "        CP nsplit rel error xerror    xstd\n",
      "1 0.060606      0   1.00000 1.0000 0.10438\n",
      "2 0.030303      2   0.87879 1.1970 0.10972\n",
      "3 0.015152      5   0.78788 1.2121 0.11006\n",
      "4 0.010000      9   0.72727 1.2424 0.11071\n"
     ]
    }
   ],
   "source": [
    "printcp(fulltree)"
   ]
  },
  {
   "cell_type": "code",
   "execution_count": 34,
   "metadata": {},
   "outputs": [
    {
     "data": {
      "image/png": "[encoded data removed]",
      "text/plain": [
       "plot without title"
      ]
     },
     "metadata": {},
     "output_type": "display_data"
    }
   ],
   "source": [
    "prp(cnitree)"
   ]
  },
  {
   "cell_type": "code",
   "execution_count": 187,
   "metadata": {},
   "outputs": [],
   "source": [
    "tree.pred = predict(fulltree, newdata=data_test)"
   ]
  },
  {
   "cell_type": "code",
   "execution_count": 188,
   "metadata": {},
   "outputs": [],
   "source": [
    "tree.pred = as.data.frame(tree.pred)"
   ]
  },
  {
   "cell_type": "code",
   "execution_count": 189,
   "metadata": {},
   "outputs": [],
   "source": [
    "preds = ifelse(tree.pred['rHGG'] > 0.5, \"rHGG\", 'txe')"
   ]
  },
  {
   "cell_type": "code",
   "execution_count": 197,
   "metadata": {},
   "outputs": [],
   "source": [
    "preds = as.factor(preds)"
   ]
  },
  {
   "cell_type": "code",
   "execution_count": 202,
   "metadata": {},
   "outputs": [
    {
     "data": {
      "text/plain": [
       "Confusion Matrix and Statistics\n",
       "\n",
       "          Reference\n",
       "Prediction rHGG txe\n",
       "      rHGG   31   9\n",
       "      txe    14   3\n",
       "                                          \n",
       "               Accuracy : 0.5965          \n",
       "                 95% CI : (0.4582, 0.7244)\n",
       "    No Information Rate : 0.7895          \n",
       "    P-Value [Acc > NIR] : 0.9997          \n",
       "                                          \n",
       "                  Kappa : -0.053          \n",
       " Mcnemar's Test P-Value : 0.4042          \n",
       "                                          \n",
       "            Sensitivity : 0.6889          \n",
       "            Specificity : 0.2500          \n",
       "         Pos Pred Value : 0.7750          \n",
       "         Neg Pred Value : 0.1765          \n",
       "             Prevalence : 0.7895          \n",
       "         Detection Rate : 0.5439          \n",
       "   Detection Prevalence : 0.7018          \n",
       "      Balanced Accuracy : 0.4694          \n",
       "                                          \n",
       "       'Positive' Class : rHGG            \n",
       "                                          "
      ]
     },
     "metadata": {},
     "output_type": "display_data"
    }
   ],
   "source": [
    "confusionMatrix(preds, data_test$outcome)"
   ]
  },
  {
   "cell_type": "code",
   "execution_count": 198,
   "metadata": {},
   "outputs": [
    {
     "data": {
      "text/plain": [
       "preds\n",
       "rHGG  txe \n",
       "  40   17 "
      ]
     },
     "metadata": {},
     "output_type": "display_data"
    }
   ],
   "source": [
    "table(preds)"
   ]
  },
  {
   "cell_type": "code",
   "execution_count": 201,
   "metadata": {},
   "outputs": [
    {
     "data": {
      "text/plain": [
       "\n",
       "rHGG  txe \n",
       "  45   12 "
      ]
     },
     "metadata": {},
     "output_type": "display_data"
    }
   ],
   "source": [
    "table(data_test$outcome)"
   ]
  },
  {
   "cell_type": "code",
   "execution_count": 200,
   "metadata": {},
   "outputs": [
    {
     "name": "stdout",
     "output_type": "stream",
     "text": [
      "'data.frame':\t57 obs. of  1 variable:\n",
      " $ outcome: Factor w/ 2 levels \"rHGG\",\"txe\": 2 2 2 1 1 1 1 1 1 1 ...\n"
     ]
    }
   ],
   "source": [
    "str(data_test['outcome'])"
   ]
  },
  {
   "cell_type": "code",
   "execution_count": null,
   "metadata": {},
   "outputs": [],
   "source": []
  }
 ],
 "metadata": {
  "kernelspec": {
   "display_name": "R",
   "language": "R",
   "name": "ir"
  },
  "language_info": {
   "codemirror_mode": "r",
   "file_extension": ".r",
   "mimetype": "text/x-r-source",
   "name": "R",
   "pygments_lexer": "r",
   "version": "3.4.0"
  }
 },
 "nbformat": 4,
 "nbformat_minor": 2
}
