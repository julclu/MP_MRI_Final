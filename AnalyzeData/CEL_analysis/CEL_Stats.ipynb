{
 "cells": [
  {
   "cell_type": "markdown",
   "metadata": {},
   "source": [
    "# Stats regarding the samples in the CEL, their MR parameters and how they relate to pathological outcome: "
   ]
  },
  {
   "cell_type": "code",
   "execution_count": 29,
   "metadata": {},
   "outputs": [],
   "source": [
    "options(repr.matrix.max.rows=600, repr.matrix.max.cols=200)"
   ]
  },
  {
   "cell_type": "markdown",
   "metadata": {},
   "source": [
    "## First read in the data: "
   ]
  },
  {
   "cell_type": "code",
   "execution_count": 36,
   "metadata": {},
   "outputs": [
    {
     "data": {
      "text/html": [
       "<ol class=list-inline>\n",
       "\t<li>'vialid'</li>\n",
       "\t<li>'b_number'</li>\n",
       "\t<li>'t_number_x'</li>\n",
       "\t<li>'t_number_y'</li>\n",
       "\t<li>'sf_number'</li>\n",
       "\t<li>'current_scan_date'</li>\n",
       "\t<li>'current_surgery_date'</li>\n",
       "\t<li>'current_hist_grade'</li>\n",
       "\t<li>'current_hist_type'</li>\n",
       "\t<li>'tumor_cell_evaluation'</li>\n",
       "\t<li>'necrosis'</li>\n",
       "\t<li>'mv_hyperplasia'</li>\n",
       "\t<li>'mv_delicate_vasculature'</li>\n",
       "\t<li>'f8_delicate'</li>\n",
       "\t<li>'f8_simple'</li>\n",
       "\t<li>'f8_complex'</li>\n",
       "\t<li>'mib_1'</li>\n",
       "\t<li>'avgerage_cells'</li>\n",
       "\t<li>'treatment_related_ab'</li>\n",
       "\t<li>'bx_pure_treatment_effect'</li>\n",
       "\t<li>'percent_tumor_nuclei'</li>\n",
       "\t<li>'nfl'</li>\n",
       "\t<li>'nfse'</li>\n",
       "\t<li>'nt1c'</li>\n",
       "\t<li>'nt1v'</li>\n",
       "\t<li>'nt1d'</li>\n",
       "\t<li>'nadc.1'</li>\n",
       "\t<li>'nfa.1'</li>\n",
       "\t<li>'nev1.1'</li>\n",
       "\t<li>'nev2.1'</li>\n",
       "\t<li>'nev3.1'</li>\n",
       "\t<li>'nevrad.1'</li>\n",
       "\t<li>'nadc.2'</li>\n",
       "\t<li>'nfa.2'</li>\n",
       "\t<li>'nev1.2'</li>\n",
       "\t<li>'nev2.2'</li>\n",
       "\t<li>'nev3.2'</li>\n",
       "\t<li>'nevrad.2'</li>\n",
       "\t<li>'cbvn_nlin'</li>\n",
       "\t<li>'phn_nlin'</li>\n",
       "\t<li>'recov_nlin'</li>\n",
       "\t<li>'phn_npar'</li>\n",
       "\t<li>'recov_npar'</li>\n",
       "\t<li>'recovn_npar'</li>\n",
       "\t<li>'ccri'</li>\n",
       "\t<li>'cni'</li>\n",
       "\t<li>'crni'</li>\n",
       "\t<li>'ncho'</li>\n",
       "\t<li>'ncre'</li>\n",
       "\t<li>'nnaa'</li>\n",
       "\t<li>'nlac'</li>\n",
       "\t<li>'nlip'</li>\n",
       "\t<li>'newdata'</li>\n",
       "\t<li>'olddata'</li>\n",
       "\t<li>'exclude_bc_hematoma_or_ventricle'</li>\n",
       "\t<li>'exclude_perf'</li>\n",
       "\t<li>'nLL'</li>\n",
       "\t<li>'comments'</li>\n",
       "\t<li>'perf_quant'</li>\n",
       "\t<li>'include_perf'</li>\n",
       "\t<li>'spec_quant'</li>\n",
       "\t<li>'include_spec'</li>\n",
       "\t<li>'diffu1000_quant'</li>\n",
       "\t<li>'diffu2000_quant'</li>\n",
       "\t<li>'exclude_bc_anat'</li>\n",
       "\t<li>'exclude_bc_pathology'</li>\n",
       "\t<li>'include_diffu1000'</li>\n",
       "\t<li>'include_diffu2000'</li>\n",
       "\t<li>'exclude_histology'</li>\n",
       "\t<li>'txe_comments'</li>\n",
       "\t<li>'outcome'</li>\n",
       "\t<li>'in_CEL'</li>\n",
       "\t<li>'in_T2all'</li>\n",
       "\t<li>'in_NEL'</li>\n",
       "\t<li>'CELorNEL'</li>\n",
       "</ol>\n"
      ],
      "text/latex": [
       "\\begin{enumerate*}\n",
       "\\item 'vialid'\n",
       "\\item 'b\\_number'\n",
       "\\item 't\\_number\\_x'\n",
       "\\item 't\\_number\\_y'\n",
       "\\item 'sf\\_number'\n",
       "\\item 'current\\_scan\\_date'\n",
       "\\item 'current\\_surgery\\_date'\n",
       "\\item 'current\\_hist\\_grade'\n",
       "\\item 'current\\_hist\\_type'\n",
       "\\item 'tumor\\_cell\\_evaluation'\n",
       "\\item 'necrosis'\n",
       "\\item 'mv\\_hyperplasia'\n",
       "\\item 'mv\\_delicate\\_vasculature'\n",
       "\\item 'f8\\_delicate'\n",
       "\\item 'f8\\_simple'\n",
       "\\item 'f8\\_complex'\n",
       "\\item 'mib\\_1'\n",
       "\\item 'avgerage\\_cells'\n",
       "\\item 'treatment\\_related\\_ab'\n",
       "\\item 'bx\\_pure\\_treatment\\_effect'\n",
       "\\item 'percent\\_tumor\\_nuclei'\n",
       "\\item 'nfl'\n",
       "\\item 'nfse'\n",
       "\\item 'nt1c'\n",
       "\\item 'nt1v'\n",
       "\\item 'nt1d'\n",
       "\\item 'nadc.1'\n",
       "\\item 'nfa.1'\n",
       "\\item 'nev1.1'\n",
       "\\item 'nev2.1'\n",
       "\\item 'nev3.1'\n",
       "\\item 'nevrad.1'\n",
       "\\item 'nadc.2'\n",
       "\\item 'nfa.2'\n",
       "\\item 'nev1.2'\n",
       "\\item 'nev2.2'\n",
       "\\item 'nev3.2'\n",
       "\\item 'nevrad.2'\n",
       "\\item 'cbvn\\_nlin'\n",
       "\\item 'phn\\_nlin'\n",
       "\\item 'recov\\_nlin'\n",
       "\\item 'phn\\_npar'\n",
       "\\item 'recov\\_npar'\n",
       "\\item 'recovn\\_npar'\n",
       "\\item 'ccri'\n",
       "\\item 'cni'\n",
       "\\item 'crni'\n",
       "\\item 'ncho'\n",
       "\\item 'ncre'\n",
       "\\item 'nnaa'\n",
       "\\item 'nlac'\n",
       "\\item 'nlip'\n",
       "\\item 'newdata'\n",
       "\\item 'olddata'\n",
       "\\item 'exclude\\_bc\\_hematoma\\_or\\_ventricle'\n",
       "\\item 'exclude\\_perf'\n",
       "\\item 'nLL'\n",
       "\\item 'comments'\n",
       "\\item 'perf\\_quant'\n",
       "\\item 'include\\_perf'\n",
       "\\item 'spec\\_quant'\n",
       "\\item 'include\\_spec'\n",
       "\\item 'diffu1000\\_quant'\n",
       "\\item 'diffu2000\\_quant'\n",
       "\\item 'exclude\\_bc\\_anat'\n",
       "\\item 'exclude\\_bc\\_pathology'\n",
       "\\item 'include\\_diffu1000'\n",
       "\\item 'include\\_diffu2000'\n",
       "\\item 'exclude\\_histology'\n",
       "\\item 'txe\\_comments'\n",
       "\\item 'outcome'\n",
       "\\item 'in\\_CEL'\n",
       "\\item 'in\\_T2all'\n",
       "\\item 'in\\_NEL'\n",
       "\\item 'CELorNEL'\n",
       "\\end{enumerate*}\n"
      ],
      "text/markdown": [
       "1. 'vialid'\n",
       "2. 'b_number'\n",
       "3. 't_number_x'\n",
       "4. 't_number_y'\n",
       "5. 'sf_number'\n",
       "6. 'current_scan_date'\n",
       "7. 'current_surgery_date'\n",
       "8. 'current_hist_grade'\n",
       "9. 'current_hist_type'\n",
       "10. 'tumor_cell_evaluation'\n",
       "11. 'necrosis'\n",
       "12. 'mv_hyperplasia'\n",
       "13. 'mv_delicate_vasculature'\n",
       "14. 'f8_delicate'\n",
       "15. 'f8_simple'\n",
       "16. 'f8_complex'\n",
       "17. 'mib_1'\n",
       "18. 'avgerage_cells'\n",
       "19. 'treatment_related_ab'\n",
       "20. 'bx_pure_treatment_effect'\n",
       "21. 'percent_tumor_nuclei'\n",
       "22. 'nfl'\n",
       "23. 'nfse'\n",
       "24. 'nt1c'\n",
       "25. 'nt1v'\n",
       "26. 'nt1d'\n",
       "27. 'nadc.1'\n",
       "28. 'nfa.1'\n",
       "29. 'nev1.1'\n",
       "30. 'nev2.1'\n",
       "31. 'nev3.1'\n",
       "32. 'nevrad.1'\n",
       "33. 'nadc.2'\n",
       "34. 'nfa.2'\n",
       "35. 'nev1.2'\n",
       "36. 'nev2.2'\n",
       "37. 'nev3.2'\n",
       "38. 'nevrad.2'\n",
       "39. 'cbvn_nlin'\n",
       "40. 'phn_nlin'\n",
       "41. 'recov_nlin'\n",
       "42. 'phn_npar'\n",
       "43. 'recov_npar'\n",
       "44. 'recovn_npar'\n",
       "45. 'ccri'\n",
       "46. 'cni'\n",
       "47. 'crni'\n",
       "48. 'ncho'\n",
       "49. 'ncre'\n",
       "50. 'nnaa'\n",
       "51. 'nlac'\n",
       "52. 'nlip'\n",
       "53. 'newdata'\n",
       "54. 'olddata'\n",
       "55. 'exclude_bc_hematoma_or_ventricle'\n",
       "56. 'exclude_perf'\n",
       "57. 'nLL'\n",
       "58. 'comments'\n",
       "59. 'perf_quant'\n",
       "60. 'include_perf'\n",
       "61. 'spec_quant'\n",
       "62. 'include_spec'\n",
       "63. 'diffu1000_quant'\n",
       "64. 'diffu2000_quant'\n",
       "65. 'exclude_bc_anat'\n",
       "66. 'exclude_bc_pathology'\n",
       "67. 'include_diffu1000'\n",
       "68. 'include_diffu2000'\n",
       "69. 'exclude_histology'\n",
       "70. 'txe_comments'\n",
       "71. 'outcome'\n",
       "72. 'in_CEL'\n",
       "73. 'in_T2all'\n",
       "74. 'in_NEL'\n",
       "75. 'CELorNEL'\n",
       "\n",
       "\n"
      ],
      "text/plain": [
       " [1] \"vialid\"                           \"b_number\"                        \n",
       " [3] \"t_number_x\"                       \"t_number_y\"                      \n",
       " [5] \"sf_number\"                        \"current_scan_date\"               \n",
       " [7] \"current_surgery_date\"             \"current_hist_grade\"              \n",
       " [9] \"current_hist_type\"                \"tumor_cell_evaluation\"           \n",
       "[11] \"necrosis\"                         \"mv_hyperplasia\"                  \n",
       "[13] \"mv_delicate_vasculature\"          \"f8_delicate\"                     \n",
       "[15] \"f8_simple\"                        \"f8_complex\"                      \n",
       "[17] \"mib_1\"                            \"avgerage_cells\"                  \n",
       "[19] \"treatment_related_ab\"             \"bx_pure_treatment_effect\"        \n",
       "[21] \"percent_tumor_nuclei\"             \"nfl\"                             \n",
       "[23] \"nfse\"                             \"nt1c\"                            \n",
       "[25] \"nt1v\"                             \"nt1d\"                            \n",
       "[27] \"nadc.1\"                           \"nfa.1\"                           \n",
       "[29] \"nev1.1\"                           \"nev2.1\"                          \n",
       "[31] \"nev3.1\"                           \"nevrad.1\"                        \n",
       "[33] \"nadc.2\"                           \"nfa.2\"                           \n",
       "[35] \"nev1.2\"                           \"nev2.2\"                          \n",
       "[37] \"nev3.2\"                           \"nevrad.2\"                        \n",
       "[39] \"cbvn_nlin\"                        \"phn_nlin\"                        \n",
       "[41] \"recov_nlin\"                       \"phn_npar\"                        \n",
       "[43] \"recov_npar\"                       \"recovn_npar\"                     \n",
       "[45] \"ccri\"                             \"cni\"                             \n",
       "[47] \"crni\"                             \"ncho\"                            \n",
       "[49] \"ncre\"                             \"nnaa\"                            \n",
       "[51] \"nlac\"                             \"nlip\"                            \n",
       "[53] \"newdata\"                          \"olddata\"                         \n",
       "[55] \"exclude_bc_hematoma_or_ventricle\" \"exclude_perf\"                    \n",
       "[57] \"nLL\"                              \"comments\"                        \n",
       "[59] \"perf_quant\"                       \"include_perf\"                    \n",
       "[61] \"spec_quant\"                       \"include_spec\"                    \n",
       "[63] \"diffu1000_quant\"                  \"diffu2000_quant\"                 \n",
       "[65] \"exclude_bc_anat\"                  \"exclude_bc_pathology\"            \n",
       "[67] \"include_diffu1000\"                \"include_diffu2000\"               \n",
       "[69] \"exclude_histology\"                \"txe_comments\"                    \n",
       "[71] \"outcome\"                          \"in_CEL\"                          \n",
       "[73] \"in_T2all\"                         \"in_NEL\"                          \n",
       "[75] \"CELorNEL\"                        "
      ]
     },
     "metadata": {},
     "output_type": "display_data"
    },
    {
     "data": {
      "text/html": [
       "<ol class=list-inline>\n",
       "\t<li>367</li>\n",
       "\t<li>75</li>\n",
       "</ol>\n"
      ],
      "text/latex": [
       "\\begin{enumerate*}\n",
       "\\item 367\n",
       "\\item 75\n",
       "\\end{enumerate*}\n"
      ],
      "text/markdown": [
       "1. 367\n",
       "2. 75\n",
       "\n",
       "\n"
      ],
      "text/plain": [
       "[1] 367  75"
      ]
     },
     "metadata": {},
     "output_type": "display_data"
    }
   ],
   "source": [
    "recgli = read.csv(\"/home/sf673542/MultiParametricMRI/MP_MRI_Final/AnnotateData/recgli_annotation10_onlyGoodBiopsies_alt1.csv\")\n",
    "colnames(recgli)\n",
    "dim(recgli)"
   ]
  },
  {
   "cell_type": "code",
   "execution_count": 53,
   "metadata": {},
   "outputs": [],
   "source": [
    "recgli = droplevels.data.frame(recgli)"
   ]
  },
  {
   "cell_type": "code",
   "execution_count": 38,
   "metadata": {},
   "outputs": [],
   "source": [
    "recgli = recgli[recgli$CELorNEL == \"CEL\",]"
   ]
  },
  {
   "cell_type": "code",
   "execution_count": 39,
   "metadata": {},
   "outputs": [
    {
     "data": {
      "text/html": [
       "<ol class=list-inline>\n",
       "\t<li>37</li>\n",
       "\t<li>75</li>\n",
       "</ol>\n"
      ],
      "text/latex": [
       "\\begin{enumerate*}\n",
       "\\item 37\n",
       "\\item 75\n",
       "\\end{enumerate*}\n"
      ],
      "text/markdown": [
       "1. 37\n",
       "2. 75\n",
       "\n",
       "\n"
      ],
      "text/plain": [
       "[1] 37 75"
      ]
     },
     "metadata": {},
     "output_type": "display_data"
    },
    {
     "data": {
      "text/html": [
       "<ol class=list-inline>\n",
       "\t<li>132</li>\n",
       "\t<li>75</li>\n",
       "</ol>\n"
      ],
      "text/latex": [
       "\\begin{enumerate*}\n",
       "\\item 132\n",
       "\\item 75\n",
       "\\end{enumerate*}\n"
      ],
      "text/markdown": [
       "1. 132\n",
       "2. 75\n",
       "\n",
       "\n"
      ],
      "text/plain": [
       "[1] 132  75"
      ]
     },
     "metadata": {},
     "output_type": "display_data"
    }
   ],
   "source": [
    "dim(recgli[recgli$outcome==\"txe\",])\n",
    "dim(recgli[recgli$outcome==\"rHGG\",])"
   ]
  },
  {
   "cell_type": "markdown",
   "metadata": {},
   "source": [
    "## Anatomical numbers: "
   ]
  },
  {
   "cell_type": "code",
   "execution_count": 48,
   "metadata": {},
   "outputs": [
    {
     "data": {
      "text/plain": [
       "\n",
       "rHGG  txe  unk \n",
       " 132   37   33 "
      ]
     },
     "metadata": {},
     "output_type": "display_data"
    }
   ],
   "source": [
    "table(recgli$outcome)"
   ]
  },
  {
   "cell_type": "code",
   "execution_count": 51,
   "metadata": {},
   "outputs": [
    {
     "name": "stdout",
     "output_type": "stream",
     "text": [
      "[1] \"there are \"\n",
      "[1] 99\n",
      "[1] \"patients contributing to this CEL cohort\"\n"
     ]
    }
   ],
   "source": [
    "print('there are ')\n",
    "print(length(unique(recgli$t_number_y[recgli$outcome == \"txe\" | recgli$outcome == \"rHGG\"])))\n",
    "print('patients contributing to this CEL cohort')"
   ]
  },
  {
   "cell_type": "code",
   "execution_count": 54,
   "metadata": {},
   "outputs": [],
   "source": [
    "recgli = droplevels.data.frame(recgli)"
   ]
  },
  {
   "cell_type": "code",
   "execution_count": 55,
   "metadata": {},
   "outputs": [
    {
     "data": {
      "text/plain": [
       "      \n",
       "       CEL\n",
       "  rHGG 132\n",
       "  txe   37\n",
       "  unk   33"
      ]
     },
     "metadata": {},
     "output_type": "display_data"
    }
   ],
   "source": [
    "table(recgli$outcome, recgli$CELorNEL)"
   ]
  },
  {
   "cell_type": "markdown",
   "metadata": {},
   "source": [
    "## Diffusion numbers: "
   ]
  },
  {
   "cell_type": "code",
   "execution_count": 56,
   "metadata": {},
   "outputs": [],
   "source": [
    "recgli_diffu = recgli[!is.na(recgli$nadc.1),]"
   ]
  },
  {
   "cell_type": "code",
   "execution_count": 57,
   "metadata": {},
   "outputs": [
    {
     "data": {
      "text/plain": [
       "\n",
       "rHGG  txe  unk \n",
       " 128   33   29 "
      ]
     },
     "metadata": {},
     "output_type": "display_data"
    },
    {
     "data": {
      "text/html": [
       "93"
      ],
      "text/latex": [
       "93"
      ],
      "text/markdown": [
       "93"
      ],
      "text/plain": [
       "[1] 93"
      ]
     },
     "metadata": {},
     "output_type": "display_data"
    }
   ],
   "source": [
    "table(recgli_diffu$outcome)\n",
    "length(unique(recgli_diffu$t_number_y[recgli_diffu$outcome == \"txe\" | recgli_diffu$outcome == \"rHGG\"]))"
   ]
  },
  {
   "cell_type": "markdown",
   "metadata": {},
   "source": [
    "## Perfusion numbers: "
   ]
  },
  {
   "cell_type": "code",
   "execution_count": 58,
   "metadata": {},
   "outputs": [],
   "source": [
    "recgli_perf = recgli[!is.na(recgli$cbvn_nlin),]"
   ]
  },
  {
   "cell_type": "code",
   "execution_count": 59,
   "metadata": {},
   "outputs": [
    {
     "data": {
      "text/plain": [
       "\n",
       "rHGG  txe  unk \n",
       "  90   18   29 "
      ]
     },
     "metadata": {},
     "output_type": "display_data"
    },
    {
     "data": {
      "text/html": [
       "69"
      ],
      "text/latex": [
       "69"
      ],
      "text/markdown": [
       "69"
      ],
      "text/plain": [
       "[1] 69"
      ]
     },
     "metadata": {},
     "output_type": "display_data"
    }
   ],
   "source": [
    "table(recgli_perf$outcome)\n",
    "length(unique(recgli_perf$t_number_y[recgli_perf$outcome == \"txe\" | recgli_perf$outcome == \"rHGG\"]))"
   ]
  },
  {
   "cell_type": "markdown",
   "metadata": {},
   "source": [
    "## Spectroscopy numbers: \n"
   ]
  },
  {
   "cell_type": "code",
   "execution_count": 60,
   "metadata": {},
   "outputs": [],
   "source": [
    "recgli_spec = recgli[!is.na(recgli$cni),]"
   ]
  },
  {
   "cell_type": "code",
   "execution_count": 61,
   "metadata": {},
   "outputs": [
    {
     "data": {
      "text/plain": [
       "\n",
       "rHGG  txe  unk \n",
       "  72   13   14 "
      ]
     },
     "metadata": {},
     "output_type": "display_data"
    },
    {
     "data": {
      "text/html": [
       "58"
      ],
      "text/latex": [
       "58"
      ],
      "text/markdown": [
       "58"
      ],
      "text/plain": [
       "[1] 58"
      ]
     },
     "metadata": {},
     "output_type": "display_data"
    }
   ],
   "source": [
    "table(recgli_spec$outcome)\n",
    "length(unique(recgli_spec$t_number_y[recgli_spec$outcome == \"txe\" | recgli_spec$outcome == \"rHGG\"]))"
   ]
  },
  {
   "cell_type": "code",
   "execution_count": 62,
   "metadata": {},
   "outputs": [
    {
     "data": {
      "text/html": [
       "<ol class=list-inline>\n",
       "\t<li>169</li>\n",
       "\t<li>75</li>\n",
       "</ol>\n"
      ],
      "text/latex": [
       "\\begin{enumerate*}\n",
       "\\item 169\n",
       "\\item 75\n",
       "\\end{enumerate*}\n"
      ],
      "text/markdown": [
       "1. 169\n",
       "2. 75\n",
       "\n",
       "\n"
      ],
      "text/plain": [
       "[1] 169  75"
      ]
     },
     "metadata": {},
     "output_type": "display_data"
    }
   ],
   "source": [
    "## Now let's subset down to JUST rHGG & TxE\n",
    "recgli = recgli[which(recgli$outcome == \"txe\" | recgli$outcome==\"rHGG\"), ]\n",
    "dim(recgli)"
   ]
  },
  {
   "cell_type": "code",
   "execution_count": 63,
   "metadata": {},
   "outputs": [
    {
     "data": {
      "text/plain": [
       "      \n",
       "       FALSE TRUE\n",
       "  rHGG   128    4\n",
       "  txe     33    4\n",
       "  unk      0    0"
      ]
     },
     "metadata": {},
     "output_type": "display_data"
    }
   ],
   "source": [
    "table(recgli$outcome, is.na(recgli$nadc.1))"
   ]
  },
  {
   "cell_type": "code",
   "execution_count": 64,
   "metadata": {},
   "outputs": [],
   "source": [
    "recgli = droplevels.data.frame(recgli)"
   ]
  },
  {
   "cell_type": "markdown",
   "metadata": {},
   "source": [
    "## First -- visualization: "
   ]
  },
  {
   "cell_type": "code",
   "execution_count": 75,
   "metadata": {
    "scrolled": true
   },
   "outputs": [
    {
     "data": {
      "image/png": "[encoded data removed]",
      "text/plain": [
       "Plot with title “Cre vs. outcome”"
      ]
     },
     "metadata": {},
     "output_type": "display_data"
    }
   ],
   "source": [
    "## Let's look at the differences among parameters: \n",
    "par(mfrow = c(3,3))\n",
    "a = boxplot(nadc.1 ~ outcome , data = recgli, ylab = \"normalized nadc.1\",  main = 'nadc.1 vs. outcome')\n",
    "b = boxplot(nfa.1 ~ outcome , data = recgli, ylab = \"normalized nfa.1\",  main = 'nfa.1 vs. outcome')\n",
    "a = boxplot(cbvn_nlin ~ outcome , data = recgli, ylab = \"normalized cbvn_nlin\",  main = 'cbvn_nlin vs. outcome')\n",
    "a = boxplot(ccri ~ outcome , data = recgli, ylab = \"CCRI\", main = 'CCRI vs. outcome')\n",
    "a = boxplot(cni ~ outcome , data = recgli, ylab = \"CNI\", main = 'CNI vs. outcome')\n",
    "a = boxplot(nnaa ~ outcome , data = recgli, ylab = \"NAA\", main = 'NAA vs. outcome')\n",
    "a = boxplot(ncho ~ outcome , data = recgli, ylab = \"Cho\", main = 'Cho vs. outcome')\n",
    "a = boxplot(ncre ~ outcome , data = recgli, ylab = \"Cre\", main = 'Cre vs. outcome')"
   ]
  },
  {
   "cell_type": "markdown",
   "metadata": {},
   "source": [
    "## Second -- Stats: "
   ]
  },
  {
   "cell_type": "code",
   "execution_count": 65,
   "metadata": {},
   "outputs": [],
   "source": [
    "library(lme4)\n",
    "library(geepack)\n",
    "library(glmm)\n"
   ]
  },
  {
   "cell_type": "code",
   "execution_count": 66,
   "metadata": {},
   "outputs": [
    {
     "data": {
      "text/html": [
       "<ol class=list-inline>\n",
       "\t<li>'vialid'</li>\n",
       "\t<li>'b_number'</li>\n",
       "\t<li>'t_number_x'</li>\n",
       "\t<li>'t_number_y'</li>\n",
       "\t<li>'sf_number'</li>\n",
       "\t<li>'current_scan_date'</li>\n",
       "\t<li>'current_surgery_date'</li>\n",
       "\t<li>'current_hist_grade'</li>\n",
       "\t<li>'current_hist_type'</li>\n",
       "\t<li>'tumor_cell_evaluation'</li>\n",
       "\t<li>'necrosis'</li>\n",
       "\t<li>'mv_hyperplasia'</li>\n",
       "\t<li>'mv_delicate_vasculature'</li>\n",
       "\t<li>'f8_delicate'</li>\n",
       "\t<li>'f8_simple'</li>\n",
       "\t<li>'f8_complex'</li>\n",
       "\t<li>'mib_1'</li>\n",
       "\t<li>'avgerage_cells'</li>\n",
       "\t<li>'treatment_related_ab'</li>\n",
       "\t<li>'bx_pure_treatment_effect'</li>\n",
       "\t<li>'percent_tumor_nuclei'</li>\n",
       "\t<li>'nfl'</li>\n",
       "\t<li>'nfse'</li>\n",
       "\t<li>'nt1c'</li>\n",
       "\t<li>'nt1v'</li>\n",
       "\t<li>'nt1d'</li>\n",
       "\t<li>'nadc.1'</li>\n",
       "\t<li>'nfa.1'</li>\n",
       "\t<li>'nev1.1'</li>\n",
       "\t<li>'nev2.1'</li>\n",
       "\t<li>'nev3.1'</li>\n",
       "\t<li>'nevrad.1'</li>\n",
       "\t<li>'nadc.2'</li>\n",
       "\t<li>'nfa.2'</li>\n",
       "\t<li>'nev1.2'</li>\n",
       "\t<li>'nev2.2'</li>\n",
       "\t<li>'nev3.2'</li>\n",
       "\t<li>'nevrad.2'</li>\n",
       "\t<li>'cbvn_nlin'</li>\n",
       "\t<li>'phn_nlin'</li>\n",
       "\t<li>'recov_nlin'</li>\n",
       "\t<li>'phn_npar'</li>\n",
       "\t<li>'recov_npar'</li>\n",
       "\t<li>'recovn_npar'</li>\n",
       "\t<li>'ccri'</li>\n",
       "\t<li>'cni'</li>\n",
       "\t<li>'crni'</li>\n",
       "\t<li>'ncho'</li>\n",
       "\t<li>'ncre'</li>\n",
       "\t<li>'nnaa'</li>\n",
       "\t<li>'nlac'</li>\n",
       "\t<li>'nlip'</li>\n",
       "\t<li>'newdata'</li>\n",
       "\t<li>'olddata'</li>\n",
       "\t<li>'exclude_bc_hematoma_or_ventricle'</li>\n",
       "\t<li>'exclude_perf'</li>\n",
       "\t<li>'nLL'</li>\n",
       "\t<li>'comments'</li>\n",
       "\t<li>'perf_quant'</li>\n",
       "\t<li>'include_perf'</li>\n",
       "\t<li>'spec_quant'</li>\n",
       "\t<li>'include_spec'</li>\n",
       "\t<li>'diffu1000_quant'</li>\n",
       "\t<li>'diffu2000_quant'</li>\n",
       "\t<li>'exclude_bc_anat'</li>\n",
       "\t<li>'exclude_bc_pathology'</li>\n",
       "\t<li>'include_diffu1000'</li>\n",
       "\t<li>'include_diffu2000'</li>\n",
       "\t<li>'exclude_histology'</li>\n",
       "\t<li>'txe_comments'</li>\n",
       "\t<li>'outcome'</li>\n",
       "\t<li>'in_CEL'</li>\n",
       "\t<li>'in_T2all'</li>\n",
       "\t<li>'in_NEL'</li>\n",
       "\t<li>'CELorNEL'</li>\n",
       "\t<li>'txe_rhgg'</li>\n",
       "</ol>\n"
      ],
      "text/latex": [
       "\\begin{enumerate*}\n",
       "\\item 'vialid'\n",
       "\\item 'b\\_number'\n",
       "\\item 't\\_number\\_x'\n",
       "\\item 't\\_number\\_y'\n",
       "\\item 'sf\\_number'\n",
       "\\item 'current\\_scan\\_date'\n",
       "\\item 'current\\_surgery\\_date'\n",
       "\\item 'current\\_hist\\_grade'\n",
       "\\item 'current\\_hist\\_type'\n",
       "\\item 'tumor\\_cell\\_evaluation'\n",
       "\\item 'necrosis'\n",
       "\\item 'mv\\_hyperplasia'\n",
       "\\item 'mv\\_delicate\\_vasculature'\n",
       "\\item 'f8\\_delicate'\n",
       "\\item 'f8\\_simple'\n",
       "\\item 'f8\\_complex'\n",
       "\\item 'mib\\_1'\n",
       "\\item 'avgerage\\_cells'\n",
       "\\item 'treatment\\_related\\_ab'\n",
       "\\item 'bx\\_pure\\_treatment\\_effect'\n",
       "\\item 'percent\\_tumor\\_nuclei'\n",
       "\\item 'nfl'\n",
       "\\item 'nfse'\n",
       "\\item 'nt1c'\n",
       "\\item 'nt1v'\n",
       "\\item 'nt1d'\n",
       "\\item 'nadc.1'\n",
       "\\item 'nfa.1'\n",
       "\\item 'nev1.1'\n",
       "\\item 'nev2.1'\n",
       "\\item 'nev3.1'\n",
       "\\item 'nevrad.1'\n",
       "\\item 'nadc.2'\n",
       "\\item 'nfa.2'\n",
       "\\item 'nev1.2'\n",
       "\\item 'nev2.2'\n",
       "\\item 'nev3.2'\n",
       "\\item 'nevrad.2'\n",
       "\\item 'cbvn\\_nlin'\n",
       "\\item 'phn\\_nlin'\n",
       "\\item 'recov\\_nlin'\n",
       "\\item 'phn\\_npar'\n",
       "\\item 'recov\\_npar'\n",
       "\\item 'recovn\\_npar'\n",
       "\\item 'ccri'\n",
       "\\item 'cni'\n",
       "\\item 'crni'\n",
       "\\item 'ncho'\n",
       "\\item 'ncre'\n",
       "\\item 'nnaa'\n",
       "\\item 'nlac'\n",
       "\\item 'nlip'\n",
       "\\item 'newdata'\n",
       "\\item 'olddata'\n",
       "\\item 'exclude\\_bc\\_hematoma\\_or\\_ventricle'\n",
       "\\item 'exclude\\_perf'\n",
       "\\item 'nLL'\n",
       "\\item 'comments'\n",
       "\\item 'perf\\_quant'\n",
       "\\item 'include\\_perf'\n",
       "\\item 'spec\\_quant'\n",
       "\\item 'include\\_spec'\n",
       "\\item 'diffu1000\\_quant'\n",
       "\\item 'diffu2000\\_quant'\n",
       "\\item 'exclude\\_bc\\_anat'\n",
       "\\item 'exclude\\_bc\\_pathology'\n",
       "\\item 'include\\_diffu1000'\n",
       "\\item 'include\\_diffu2000'\n",
       "\\item 'exclude\\_histology'\n",
       "\\item 'txe\\_comments'\n",
       "\\item 'outcome'\n",
       "\\item 'in\\_CEL'\n",
       "\\item 'in\\_T2all'\n",
       "\\item 'in\\_NEL'\n",
       "\\item 'CELorNEL'\n",
       "\\item 'txe\\_rhgg'\n",
       "\\end{enumerate*}\n"
      ],
      "text/markdown": [
       "1. 'vialid'\n",
       "2. 'b_number'\n",
       "3. 't_number_x'\n",
       "4. 't_number_y'\n",
       "5. 'sf_number'\n",
       "6. 'current_scan_date'\n",
       "7. 'current_surgery_date'\n",
       "8. 'current_hist_grade'\n",
       "9. 'current_hist_type'\n",
       "10. 'tumor_cell_evaluation'\n",
       "11. 'necrosis'\n",
       "12. 'mv_hyperplasia'\n",
       "13. 'mv_delicate_vasculature'\n",
       "14. 'f8_delicate'\n",
       "15. 'f8_simple'\n",
       "16. 'f8_complex'\n",
       "17. 'mib_1'\n",
       "18. 'avgerage_cells'\n",
       "19. 'treatment_related_ab'\n",
       "20. 'bx_pure_treatment_effect'\n",
       "21. 'percent_tumor_nuclei'\n",
       "22. 'nfl'\n",
       "23. 'nfse'\n",
       "24. 'nt1c'\n",
       "25. 'nt1v'\n",
       "26. 'nt1d'\n",
       "27. 'nadc.1'\n",
       "28. 'nfa.1'\n",
       "29. 'nev1.1'\n",
       "30. 'nev2.1'\n",
       "31. 'nev3.1'\n",
       "32. 'nevrad.1'\n",
       "33. 'nadc.2'\n",
       "34. 'nfa.2'\n",
       "35. 'nev1.2'\n",
       "36. 'nev2.2'\n",
       "37. 'nev3.2'\n",
       "38. 'nevrad.2'\n",
       "39. 'cbvn_nlin'\n",
       "40. 'phn_nlin'\n",
       "41. 'recov_nlin'\n",
       "42. 'phn_npar'\n",
       "43. 'recov_npar'\n",
       "44. 'recovn_npar'\n",
       "45. 'ccri'\n",
       "46. 'cni'\n",
       "47. 'crni'\n",
       "48. 'ncho'\n",
       "49. 'ncre'\n",
       "50. 'nnaa'\n",
       "51. 'nlac'\n",
       "52. 'nlip'\n",
       "53. 'newdata'\n",
       "54. 'olddata'\n",
       "55. 'exclude_bc_hematoma_or_ventricle'\n",
       "56. 'exclude_perf'\n",
       "57. 'nLL'\n",
       "58. 'comments'\n",
       "59. 'perf_quant'\n",
       "60. 'include_perf'\n",
       "61. 'spec_quant'\n",
       "62. 'include_spec'\n",
       "63. 'diffu1000_quant'\n",
       "64. 'diffu2000_quant'\n",
       "65. 'exclude_bc_anat'\n",
       "66. 'exclude_bc_pathology'\n",
       "67. 'include_diffu1000'\n",
       "68. 'include_diffu2000'\n",
       "69. 'exclude_histology'\n",
       "70. 'txe_comments'\n",
       "71. 'outcome'\n",
       "72. 'in_CEL'\n",
       "73. 'in_T2all'\n",
       "74. 'in_NEL'\n",
       "75. 'CELorNEL'\n",
       "76. 'txe_rhgg'\n",
       "\n",
       "\n"
      ],
      "text/plain": [
       " [1] \"vialid\"                           \"b_number\"                        \n",
       " [3] \"t_number_x\"                       \"t_number_y\"                      \n",
       " [5] \"sf_number\"                        \"current_scan_date\"               \n",
       " [7] \"current_surgery_date\"             \"current_hist_grade\"              \n",
       " [9] \"current_hist_type\"                \"tumor_cell_evaluation\"           \n",
       "[11] \"necrosis\"                         \"mv_hyperplasia\"                  \n",
       "[13] \"mv_delicate_vasculature\"          \"f8_delicate\"                     \n",
       "[15] \"f8_simple\"                        \"f8_complex\"                      \n",
       "[17] \"mib_1\"                            \"avgerage_cells\"                  \n",
       "[19] \"treatment_related_ab\"             \"bx_pure_treatment_effect\"        \n",
       "[21] \"percent_tumor_nuclei\"             \"nfl\"                             \n",
       "[23] \"nfse\"                             \"nt1c\"                            \n",
       "[25] \"nt1v\"                             \"nt1d\"                            \n",
       "[27] \"nadc.1\"                           \"nfa.1\"                           \n",
       "[29] \"nev1.1\"                           \"nev2.1\"                          \n",
       "[31] \"nev3.1\"                           \"nevrad.1\"                        \n",
       "[33] \"nadc.2\"                           \"nfa.2\"                           \n",
       "[35] \"nev1.2\"                           \"nev2.2\"                          \n",
       "[37] \"nev3.2\"                           \"nevrad.2\"                        \n",
       "[39] \"cbvn_nlin\"                        \"phn_nlin\"                        \n",
       "[41] \"recov_nlin\"                       \"phn_npar\"                        \n",
       "[43] \"recov_npar\"                       \"recovn_npar\"                     \n",
       "[45] \"ccri\"                             \"cni\"                             \n",
       "[47] \"crni\"                             \"ncho\"                            \n",
       "[49] \"ncre\"                             \"nnaa\"                            \n",
       "[51] \"nlac\"                             \"nlip\"                            \n",
       "[53] \"newdata\"                          \"olddata\"                         \n",
       "[55] \"exclude_bc_hematoma_or_ventricle\" \"exclude_perf\"                    \n",
       "[57] \"nLL\"                              \"comments\"                        \n",
       "[59] \"perf_quant\"                       \"include_perf\"                    \n",
       "[61] \"spec_quant\"                       \"include_spec\"                    \n",
       "[63] \"diffu1000_quant\"                  \"diffu2000_quant\"                 \n",
       "[65] \"exclude_bc_anat\"                  \"exclude_bc_pathology\"            \n",
       "[67] \"include_diffu1000\"                \"include_diffu2000\"               \n",
       "[69] \"exclude_histology\"                \"txe_comments\"                    \n",
       "[71] \"outcome\"                          \"in_CEL\"                          \n",
       "[73] \"in_T2all\"                         \"in_NEL\"                          \n",
       "[75] \"CELorNEL\"                         \"txe_rhgg\"                        "
      ]
     },
     "metadata": {},
     "output_type": "display_data"
    }
   ],
   "source": [
    "recgli$txe_rhgg = ifelse(recgli$outcome==\"txe\", 0, 1)\n",
    "colnames(recgli)"
   ]
  },
  {
   "cell_type": "code",
   "execution_count": 67,
   "metadata": {},
   "outputs": [
    {
     "name": "stdout",
     "output_type": "stream",
     "text": [
      "[1] \"ANATOMICAL:\"\n",
      "[1] \"nfse glmm\"\n"
     ]
    },
    {
     "data": {
      "text/html": [
       "<table>\n",
       "<thead><tr><th></th><th scope=col>Estimate</th><th scope=col>Std. Error</th><th scope=col>z value</th><th scope=col>Pr(&gt;|z|)</th></tr></thead>\n",
       "<tbody>\n",
       "\t<tr><th scope=row>(Intercept)</th><td>-10.8492</td><td>3.3068  </td><td>-3.2809 </td><td>0.0010  </td></tr>\n",
       "\t<tr><th scope=row>nfse</th><td>  0.4257</td><td>1.5553  </td><td> 0.2737 </td><td>0.7843  </td></tr>\n",
       "</tbody>\n",
       "</table>\n"
      ],
      "text/latex": [
       "\\begin{tabular}{r|llll}\n",
       "  & Estimate & Std. Error & z value & Pr(>\\textbar{}z\\textbar{})\\\\\n",
       "\\hline\n",
       "\t(Intercept) & -10.8492 & 3.3068   & -3.2809  & 0.0010  \\\\\n",
       "\tnfse &   0.4257 & 1.5553   &  0.2737  & 0.7843  \\\\\n",
       "\\end{tabular}\n"
      ],
      "text/markdown": [
       "\n",
       "| <!--/--> | Estimate | Std. Error | z value | Pr(>|z|) | \n",
       "|---|---|\n",
       "| (Intercept) | -10.8492 | 3.3068   | -3.2809  | 0.0010   | \n",
       "| nfse |   0.4257 | 1.5553   |  0.2737  | 0.7843   | \n",
       "\n",
       "\n"
      ],
      "text/plain": [
       "            Estimate Std. Error z value Pr(>|z|)\n",
       "(Intercept) -10.8492 3.3068     -3.2809 0.0010  \n",
       "nfse          0.4257 1.5553      0.2737 0.7843  "
      ]
     },
     "metadata": {},
     "output_type": "display_data"
    },
    {
     "name": "stdout",
     "output_type": "stream",
     "text": [
      "[1] \"nfse gee\"\n"
     ]
    },
    {
     "data": {
      "text/html": [
       "<table>\n",
       "<thead><tr><th></th><th scope=col>Estimate</th><th scope=col>Std.err</th><th scope=col>Wald</th><th scope=col>Pr(&gt;|W|)</th></tr></thead>\n",
       "<tbody>\n",
       "\t<tr><th scope=row>(Intercept)</th><td> 1.8887</td><td>0.6176 </td><td>9.3527 </td><td>0.0022 </td></tr>\n",
       "\t<tr><th scope=row>nfse</th><td>-0.3492</td><td>0.2828 </td><td>1.5245 </td><td>0.2169 </td></tr>\n",
       "</tbody>\n",
       "</table>\n"
      ],
      "text/latex": [
       "\\begin{tabular}{r|llll}\n",
       "  & Estimate & Std.err & Wald & Pr(>\\textbar{}W\\textbar{})\\\\\n",
       "\\hline\n",
       "\t(Intercept) &  1.8887 & 0.6176  & 9.3527  & 0.0022 \\\\\n",
       "\tnfse & -0.3492 & 0.2828  & 1.5245  & 0.2169 \\\\\n",
       "\\end{tabular}\n"
      ],
      "text/markdown": [
       "\n",
       "| <!--/--> | Estimate | Std.err | Wald | Pr(>|W|) | \n",
       "|---|---|\n",
       "| (Intercept) |  1.8887 | 0.6176  | 9.3527  | 0.0022  | \n",
       "| nfse | -0.3492 | 0.2828  | 1.5245  | 0.2169  | \n",
       "\n",
       "\n"
      ],
      "text/plain": [
       "            Estimate Std.err Wald   Pr(>|W|)\n",
       "(Intercept)  1.8887  0.6176  9.3527 0.0022  \n",
       "nfse        -0.3492  0.2828  1.5245 0.2169  "
      ]
     },
     "metadata": {},
     "output_type": "display_data"
    },
    {
     "name": "stdout",
     "output_type": "stream",
     "text": [
      "[1] \"nfl\"\n"
     ]
    },
    {
     "data": {
      "text/html": [
       "<table>\n",
       "<thead><tr><th></th><th scope=col>Estimate</th><th scope=col>Std. Error</th><th scope=col>z value</th><th scope=col>Pr(&gt;|z|)</th></tr></thead>\n",
       "<tbody>\n",
       "\t<tr><th scope=row>(Intercept)</th><td>-10.0022</td><td>3.9975  </td><td>-2.5021 </td><td>0.0123  </td></tr>\n",
       "\t<tr><th scope=row>nfl</th><td> -0.0415</td><td>2.2077  </td><td>-0.0188 </td><td>0.9850  </td></tr>\n",
       "</tbody>\n",
       "</table>\n"
      ],
      "text/latex": [
       "\\begin{tabular}{r|llll}\n",
       "  & Estimate & Std. Error & z value & Pr(>\\textbar{}z\\textbar{})\\\\\n",
       "\\hline\n",
       "\t(Intercept) & -10.0022 & 3.9975   & -2.5021  & 0.0123  \\\\\n",
       "\tnfl &  -0.0415 & 2.2077   & -0.0188  & 0.9850  \\\\\n",
       "\\end{tabular}\n"
      ],
      "text/markdown": [
       "\n",
       "| <!--/--> | Estimate | Std. Error | z value | Pr(>|z|) | \n",
       "|---|---|\n",
       "| (Intercept) | -10.0022 | 3.9975   | -2.5021  | 0.0123   | \n",
       "| nfl |  -0.0415 | 2.2077   | -0.0188  | 0.9850   | \n",
       "\n",
       "\n"
      ],
      "text/plain": [
       "            Estimate Std. Error z value Pr(>|z|)\n",
       "(Intercept) -10.0022 3.9975     -2.5021 0.0123  \n",
       "nfl          -0.0415 2.2077     -0.0188 0.9850  "
      ]
     },
     "metadata": {},
     "output_type": "display_data"
    },
    {
     "name": "stdout",
     "output_type": "stream",
     "text": [
      "[1] \"nfl gee\"\n"
     ]
    },
    {
     "data": {
      "text/html": [
       "<table>\n",
       "<thead><tr><th></th><th scope=col>Estimate</th><th scope=col>Std.err</th><th scope=col>Wald</th><th scope=col>Pr(&gt;|W|)</th></tr></thead>\n",
       "<tbody>\n",
       "\t<tr><th scope=row>(Intercept)</th><td> 1.9832</td><td>0.8608 </td><td>5.3084 </td><td>0.0212 </td></tr>\n",
       "\t<tr><th scope=row>nfl</th><td>-0.4417</td><td>0.4761 </td><td>0.8607 </td><td>0.3535 </td></tr>\n",
       "</tbody>\n",
       "</table>\n"
      ],
      "text/latex": [
       "\\begin{tabular}{r|llll}\n",
       "  & Estimate & Std.err & Wald & Pr(>\\textbar{}W\\textbar{})\\\\\n",
       "\\hline\n",
       "\t(Intercept) &  1.9832 & 0.8608  & 5.3084  & 0.0212 \\\\\n",
       "\tnfl & -0.4417 & 0.4761  & 0.8607  & 0.3535 \\\\\n",
       "\\end{tabular}\n"
      ],
      "text/markdown": [
       "\n",
       "| <!--/--> | Estimate | Std.err | Wald | Pr(>|W|) | \n",
       "|---|---|\n",
       "| (Intercept) |  1.9832 | 0.8608  | 5.3084  | 0.0212  | \n",
       "| nfl | -0.4417 | 0.4761  | 0.8607  | 0.3535  | \n",
       "\n",
       "\n"
      ],
      "text/plain": [
       "            Estimate Std.err Wald   Pr(>|W|)\n",
       "(Intercept)  1.9832  0.8608  5.3084 0.0212  \n",
       "nfl         -0.4417  0.4761  0.8607 0.3535  "
      ]
     },
     "metadata": {},
     "output_type": "display_data"
    },
    {
     "name": "stdout",
     "output_type": "stream",
     "text": [
      "[1] \"nt1v\"\n"
     ]
    },
    {
     "data": {
      "text/html": [
       "<table>\n",
       "<thead><tr><th></th><th scope=col>Estimate</th><th scope=col>Std. Error</th><th scope=col>z value</th><th scope=col>Pr(&gt;|z|)</th></tr></thead>\n",
       "<tbody>\n",
       "\t<tr><th scope=row>(Intercept)</th><td>-10.1702</td><td>3.9007  </td><td>-2.6073 </td><td>0.0091  </td></tr>\n",
       "\t<tr><th scope=row>nt1v</th><td>  0.2649</td><td>4.2775  </td><td> 0.0619 </td><td>0.9506  </td></tr>\n",
       "</tbody>\n",
       "</table>\n"
      ],
      "text/latex": [
       "\\begin{tabular}{r|llll}\n",
       "  & Estimate & Std. Error & z value & Pr(>\\textbar{}z\\textbar{})\\\\\n",
       "\\hline\n",
       "\t(Intercept) & -10.1702 & 3.9007   & -2.6073  & 0.0091  \\\\\n",
       "\tnt1v &   0.2649 & 4.2775   &  0.0619  & 0.9506  \\\\\n",
       "\\end{tabular}\n"
      ],
      "text/markdown": [
       "\n",
       "| <!--/--> | Estimate | Std. Error | z value | Pr(>|z|) | \n",
       "|---|---|\n",
       "| (Intercept) | -10.1702 | 3.9007   | -2.6073  | 0.0091   | \n",
       "| nt1v |   0.2649 | 4.2775   |  0.0619  | 0.9506   | \n",
       "\n",
       "\n"
      ],
      "text/plain": [
       "            Estimate Std. Error z value Pr(>|z|)\n",
       "(Intercept) -10.1702 3.9007     -2.6073 0.0091  \n",
       "nt1v          0.2649 4.2775      0.0619 0.9506  "
      ]
     },
     "metadata": {},
     "output_type": "display_data"
    },
    {
     "name": "stdout",
     "output_type": "stream",
     "text": [
      "[1] \"nt1v gee\"\n"
     ]
    },
    {
     "data": {
      "text/html": [
       "<table>\n",
       "<thead><tr><th></th><th scope=col>Estimate</th><th scope=col>Std.err</th><th scope=col>Wald</th><th scope=col>Pr(&gt;|W|)</th></tr></thead>\n",
       "<tbody>\n",
       "\t<tr><th scope=row>(Intercept)</th><td> 1.5526</td><td>0.7802 </td><td>3.9604 </td><td>0.0466 </td></tr>\n",
       "\t<tr><th scope=row>nt1v</th><td>-0.3183</td><td>0.8606 </td><td>0.1368 </td><td>0.7115 </td></tr>\n",
       "</tbody>\n",
       "</table>\n"
      ],
      "text/latex": [
       "\\begin{tabular}{r|llll}\n",
       "  & Estimate & Std.err & Wald & Pr(>\\textbar{}W\\textbar{})\\\\\n",
       "\\hline\n",
       "\t(Intercept) &  1.5526 & 0.7802  & 3.9604  & 0.0466 \\\\\n",
       "\tnt1v & -0.3183 & 0.8606  & 0.1368  & 0.7115 \\\\\n",
       "\\end{tabular}\n"
      ],
      "text/markdown": [
       "\n",
       "| <!--/--> | Estimate | Std.err | Wald | Pr(>|W|) | \n",
       "|---|---|\n",
       "| (Intercept) |  1.5526 | 0.7802  | 3.9604  | 0.0466  | \n",
       "| nt1v | -0.3183 | 0.8606  | 0.1368  | 0.7115  | \n",
       "\n",
       "\n"
      ],
      "text/plain": [
       "            Estimate Std.err Wald   Pr(>|W|)\n",
       "(Intercept)  1.5526  0.7802  3.9604 0.0466  \n",
       "nt1v        -0.3183  0.8606  0.1368 0.7115  "
      ]
     },
     "metadata": {},
     "output_type": "display_data"
    },
    {
     "name": "stdout",
     "output_type": "stream",
     "text": [
      "[1] \"nt1c\"\n"
     ]
    },
    {
     "data": {
      "text/html": [
       "<table>\n",
       "<thead><tr><th></th><th scope=col>Estimate</th><th scope=col>Std. Error</th><th scope=col>z value</th><th scope=col>Pr(&gt;|z|)</th></tr></thead>\n",
       "<tbody>\n",
       "\t<tr><th scope=row>(Intercept)</th><td>-14.0069</td><td>3.6099  </td><td>-3.8801 </td><td>0.0001  </td></tr>\n",
       "\t<tr><th scope=row>nt1c</th><td>  1.9624</td><td>1.4338  </td><td> 1.3686 </td><td>0.1711  </td></tr>\n",
       "</tbody>\n",
       "</table>\n"
      ],
      "text/latex": [
       "\\begin{tabular}{r|llll}\n",
       "  & Estimate & Std. Error & z value & Pr(>\\textbar{}z\\textbar{})\\\\\n",
       "\\hline\n",
       "\t(Intercept) & -14.0069 & 3.6099   & -3.8801  & 0.0001  \\\\\n",
       "\tnt1c &   1.9624 & 1.4338   &  1.3686  & 0.1711  \\\\\n",
       "\\end{tabular}\n"
      ],
      "text/markdown": [
       "\n",
       "| <!--/--> | Estimate | Std. Error | z value | Pr(>|z|) | \n",
       "|---|---|\n",
       "| (Intercept) | -14.0069 | 3.6099   | -3.8801  | 0.0001   | \n",
       "| nt1c |   1.9624 | 1.4338   |  1.3686  | 0.1711   | \n",
       "\n",
       "\n"
      ],
      "text/plain": [
       "            Estimate Std. Error z value Pr(>|z|)\n",
       "(Intercept) -14.0069 3.6099     -3.8801 0.0001  \n",
       "nt1c          1.9624 1.4338      1.3686 0.1711  "
      ]
     },
     "metadata": {},
     "output_type": "display_data"
    },
    {
     "name": "stdout",
     "output_type": "stream",
     "text": [
      "[1] \"nt1c gee\"\n"
     ]
    },
    {
     "data": {
      "text/html": [
       "<table>\n",
       "<thead><tr><th></th><th scope=col>Estimate</th><th scope=col>Std.err</th><th scope=col>Wald</th><th scope=col>Pr(&gt;|W|)</th></tr></thead>\n",
       "<tbody>\n",
       "\t<tr><th scope=row>(Intercept)</th><td> 1.4384</td><td>0.5620 </td><td>6.5518 </td><td>0.0105 </td></tr>\n",
       "\t<tr><th scope=row>nt1c</th><td>-0.1352</td><td>0.2926 </td><td>0.2135 </td><td>0.6440 </td></tr>\n",
       "</tbody>\n",
       "</table>\n"
      ],
      "text/latex": [
       "\\begin{tabular}{r|llll}\n",
       "  & Estimate & Std.err & Wald & Pr(>\\textbar{}W\\textbar{})\\\\\n",
       "\\hline\n",
       "\t(Intercept) &  1.4384 & 0.5620  & 6.5518  & 0.0105 \\\\\n",
       "\tnt1c & -0.1352 & 0.2926  & 0.2135  & 0.6440 \\\\\n",
       "\\end{tabular}\n"
      ],
      "text/markdown": [
       "\n",
       "| <!--/--> | Estimate | Std.err | Wald | Pr(>|W|) | \n",
       "|---|---|\n",
       "| (Intercept) |  1.4384 | 0.5620  | 6.5518  | 0.0105  | \n",
       "| nt1c | -0.1352 | 0.2926  | 0.2135  | 0.6440  | \n",
       "\n",
       "\n"
      ],
      "text/plain": [
       "            Estimate Std.err Wald   Pr(>|W|)\n",
       "(Intercept)  1.4384  0.5620  6.5518 0.0105  \n",
       "nt1c        -0.1352  0.2926  0.2135 0.6440  "
      ]
     },
     "metadata": {},
     "output_type": "display_data"
    },
    {
     "name": "stdout",
     "output_type": "stream",
     "text": [
      "[1] \"nt1d\"\n"
     ]
    },
    {
     "data": {
      "text/html": [
       "<table>\n",
       "<thead><tr><th></th><th scope=col>Estimate</th><th scope=col>Std. Error</th><th scope=col>z value</th><th scope=col>Pr(&gt;|z|)</th></tr></thead>\n",
       "<tbody>\n",
       "\t<tr><th scope=row>(Intercept)</th><td>-11.7220</td><td>2.4875  </td><td>-4.7123 </td><td>0.0000  </td></tr>\n",
       "\t<tr><th scope=row>nt1d</th><td>  1.7376</td><td>1.3815  </td><td> 1.2577 </td><td>0.2085  </td></tr>\n",
       "</tbody>\n",
       "</table>\n"
      ],
      "text/latex": [
       "\\begin{tabular}{r|llll}\n",
       "  & Estimate & Std. Error & z value & Pr(>\\textbar{}z\\textbar{})\\\\\n",
       "\\hline\n",
       "\t(Intercept) & -11.7220 & 2.4875   & -4.7123  & 0.0000  \\\\\n",
       "\tnt1d &   1.7376 & 1.3815   &  1.2577  & 0.2085  \\\\\n",
       "\\end{tabular}\n"
      ],
      "text/markdown": [
       "\n",
       "| <!--/--> | Estimate | Std. Error | z value | Pr(>|z|) | \n",
       "|---|---|\n",
       "| (Intercept) | -11.7220 | 2.4875   | -4.7123  | 0.0000   | \n",
       "| nt1d |   1.7376 | 1.3815   |  1.2577  | 0.2085   | \n",
       "\n",
       "\n"
      ],
      "text/plain": [
       "            Estimate Std. Error z value Pr(>|z|)\n",
       "(Intercept) -11.7220 2.4875     -4.7123 0.0000  \n",
       "nt1d          1.7376 1.3815      1.2577 0.2085  "
      ]
     },
     "metadata": {},
     "output_type": "display_data"
    },
    {
     "name": "stdout",
     "output_type": "stream",
     "text": [
      "[1] \"nt1d gee\"\n"
     ]
    },
    {
     "data": {
      "text/html": [
       "<table>\n",
       "<thead><tr><th></th><th scope=col>Estimate</th><th scope=col>Std.err</th><th scope=col>Wald</th><th scope=col>Pr(&gt;|W|)</th></tr></thead>\n",
       "<tbody>\n",
       "\t<tr><th scope=row>(Intercept)</th><td> 1.3688</td><td>0.2427 </td><td>31.8096</td><td>0.0000 </td></tr>\n",
       "\t<tr><th scope=row>nt1d</th><td>-0.1840</td><td>0.0680 </td><td> 7.3122</td><td>0.0068 </td></tr>\n",
       "</tbody>\n",
       "</table>\n"
      ],
      "text/latex": [
       "\\begin{tabular}{r|llll}\n",
       "  & Estimate & Std.err & Wald & Pr(>\\textbar{}W\\textbar{})\\\\\n",
       "\\hline\n",
       "\t(Intercept) &  1.3688 & 0.2427  & 31.8096 & 0.0000 \\\\\n",
       "\tnt1d & -0.1840 & 0.0680  &  7.3122 & 0.0068 \\\\\n",
       "\\end{tabular}\n"
      ],
      "text/markdown": [
       "\n",
       "| <!--/--> | Estimate | Std.err | Wald | Pr(>|W|) | \n",
       "|---|---|\n",
       "| (Intercept) |  1.3688 | 0.2427  | 31.8096 | 0.0000  | \n",
       "| nt1d | -0.1840 | 0.0680  |  7.3122 | 0.0068  | \n",
       "\n",
       "\n"
      ],
      "text/plain": [
       "            Estimate Std.err Wald    Pr(>|W|)\n",
       "(Intercept)  1.3688  0.2427  31.8096 0.0000  \n",
       "nt1d        -0.1840  0.0680   7.3122 0.0068  "
      ]
     },
     "metadata": {},
     "output_type": "display_data"
    }
   ],
   "source": [
    "print('ANATOMICAL:')\n",
    "print('nfse glmm')\n",
    "nfse.glmm.fit = glmer(outcome ~ nfse + (1|t_number_y), data = recgli, family=\"binomial\")\n",
    "round(summary(nfse.glmm.fit)$coefficients, 4) \n",
    "print('nfse gee')\n",
    "nfse.gee.fit = geeglm(txe_rhgg ~ nfse, data = recgli, id = factor(t_number_y), family = binomial, corstr = \"exchangeable\")\n",
    "round(summary(nfse.gee.fit)$coefficients, 4)\n",
    "print('nfl')\n",
    "nfl.glmm.fit = glmer(outcome ~ nfl + (1|t_number_y), data = recgli, family=\"binomial\")\n",
    "round(summary(nfl.glmm.fit)$coefficients, 4) \n",
    "print('nfl gee')\n",
    "nfl.gee.fit = geeglm(txe_rhgg ~ nfl, data = recgli, id = factor(t_number_y), family = binomial, corstr = \"exchangeable\")\n",
    "round(summary(nfl.gee.fit)$coefficients, 4)\n",
    "print('nt1v')\n",
    "nt1v.glmm.fit = glmer(outcome ~ nt1v + (1|t_number_y), data = recgli, family=\"binomial\")\n",
    "round(summary(nt1v.glmm.fit)$coefficients, 4) \n",
    "print('nt1v gee')\n",
    "nt1v.gee.fit = geeglm(txe_rhgg ~ nt1v, data = recgli[!is.na(recgli$nt1v),], id = factor(t_number_y), family = binomial, corstr = \"exchangeable\")\n",
    "round(summary(nt1v.gee.fit)$coefficients, 4)\n",
    "print('nt1c')\n",
    "nt1c.glmm.fit = glmer(outcome ~ nt1c + (1|t_number_y), data = recgli, family=\"binomial\")\n",
    "round(summary(nt1c.glmm.fit)$coefficients, 4) \n",
    "print('nt1c gee')\n",
    "nt1c.gee.fit = geeglm(txe_rhgg ~ nt1c, data = recgli, id = factor(t_number_y), family = binomial, corstr = \"exchangeable\")\n",
    "round(summary(nt1c.gee.fit)$coefficients, 4)\n",
    "print('nt1d')\n",
    "nt1d.glmm.fit = glmer(outcome ~ nt1d + (1|t_number_y), data = recgli, family=\"binomial\")\n",
    "round(summary(nt1d.glmm.fit)$coefficients, 4) \n",
    "print('nt1d gee')\n",
    "nt1d.gee.fit = geeglm(txe_rhgg ~ nt1d, data = recgli[!is.na(recgli$nt1d),], id = factor(t_number_y), family = binomial, corstr = \"exchangeable\")\n",
    "round(summary(nt1d.gee.fit)$coefficients, 4)"
   ]
  },
  {
   "cell_type": "code",
   "execution_count": 68,
   "metadata": {},
   "outputs": [],
   "source": [
    "nt1d.gee.fit = geeglm(txe_rhgg ~ nt1d, \n",
    "                      data = recgli[!is.na(recgli$nt1d),], \n",
    "                      id = factor(t_number_y), \n",
    "                      family = binomial, corstr = \"exchangeable\")\n"
   ]
  },
  {
   "cell_type": "code",
   "execution_count": 69,
   "metadata": {},
   "outputs": [
    {
     "name": "stdout",
     "output_type": "stream",
     "text": [
      "[1] \"Diffusion:\"\n",
      "[1] \"nadc.1\"\n"
     ]
    },
    {
     "data": {
      "text/html": [
       "<table>\n",
       "<thead><tr><th></th><th scope=col>Estimate</th><th scope=col>Std. Error</th><th scope=col>z value</th><th scope=col>Pr(&gt;|z|)</th></tr></thead>\n",
       "<tbody>\n",
       "\t<tr><th scope=row>(Intercept)</th><td>-11.4928</td><td>4.5230  </td><td>-2.5409 </td><td>0.0111  </td></tr>\n",
       "\t<tr><th scope=row>nadc.1</th><td>  0.8267</td><td>2.3272  </td><td> 0.3552 </td><td>0.7224  </td></tr>\n",
       "</tbody>\n",
       "</table>\n"
      ],
      "text/latex": [
       "\\begin{tabular}{r|llll}\n",
       "  & Estimate & Std. Error & z value & Pr(>\\textbar{}z\\textbar{})\\\\\n",
       "\\hline\n",
       "\t(Intercept) & -11.4928 & 4.5230   & -2.5409  & 0.0111  \\\\\n",
       "\tnadc.1 &   0.8267 & 2.3272   &  0.3552  & 0.7224  \\\\\n",
       "\\end{tabular}\n"
      ],
      "text/markdown": [
       "\n",
       "| <!--/--> | Estimate | Std. Error | z value | Pr(>|z|) | \n",
       "|---|---|\n",
       "| (Intercept) | -11.4928 | 4.5230   | -2.5409  | 0.0111   | \n",
       "| nadc.1 |   0.8267 | 2.3272   |  0.3552  | 0.7224   | \n",
       "\n",
       "\n"
      ],
      "text/plain": [
       "            Estimate Std. Error z value Pr(>|z|)\n",
       "(Intercept) -11.4928 4.5230     -2.5409 0.0111  \n",
       "nadc.1        0.8267 2.3272      0.3552 0.7224  "
      ]
     },
     "metadata": {},
     "output_type": "display_data"
    },
    {
     "name": "stdout",
     "output_type": "stream",
     "text": [
      "[1] \"nadc.1 gee\"\n"
     ]
    },
    {
     "data": {
      "text/html": [
       "<table>\n",
       "<thead><tr><th></th><th scope=col>Estimate</th><th scope=col>Std.err</th><th scope=col>Wald</th><th scope=col>Pr(&gt;|W|)</th></tr></thead>\n",
       "<tbody>\n",
       "\t<tr><th scope=row>(Intercept)</th><td>1.2306</td><td>0.6757</td><td>3.3163</td><td>0.0686</td></tr>\n",
       "\t<tr><th scope=row>nadc.1</th><td>0.0406</td><td>0.3938</td><td>0.0106</td><td>0.9178</td></tr>\n",
       "</tbody>\n",
       "</table>\n"
      ],
      "text/latex": [
       "\\begin{tabular}{r|llll}\n",
       "  & Estimate & Std.err & Wald & Pr(>\\textbar{}W\\textbar{})\\\\\n",
       "\\hline\n",
       "\t(Intercept) & 1.2306 & 0.6757 & 3.3163 & 0.0686\\\\\n",
       "\tnadc.1 & 0.0406 & 0.3938 & 0.0106 & 0.9178\\\\\n",
       "\\end{tabular}\n"
      ],
      "text/markdown": [
       "\n",
       "| <!--/--> | Estimate | Std.err | Wald | Pr(>|W|) | \n",
       "|---|---|\n",
       "| (Intercept) | 1.2306 | 0.6757 | 3.3163 | 0.0686 | \n",
       "| nadc.1 | 0.0406 | 0.3938 | 0.0106 | 0.9178 | \n",
       "\n",
       "\n"
      ],
      "text/plain": [
       "            Estimate Std.err Wald   Pr(>|W|)\n",
       "(Intercept) 1.2306   0.6757  3.3163 0.0686  \n",
       "nadc.1      0.0406   0.3938  0.0106 0.9178  "
      ]
     },
     "metadata": {},
     "output_type": "display_data"
    },
    {
     "name": "stdout",
     "output_type": "stream",
     "text": [
      "[1] \"nfa.1\"\n"
     ]
    },
    {
     "data": {
      "text/html": [
       "<table>\n",
       "<thead><tr><th></th><th scope=col>Estimate</th><th scope=col>Std. Error</th><th scope=col>z value</th><th scope=col>Pr(&gt;|z|)</th></tr></thead>\n",
       "<tbody>\n",
       "\t<tr><th scope=row>(Intercept)</th><td>-10.0113</td><td>2.3729  </td><td>-4.2191 </td><td>0.0000  </td></tr>\n",
       "\t<tr><th scope=row>nfa.1</th><td> -0.0367</td><td>2.3679  </td><td>-0.0155 </td><td>0.9876  </td></tr>\n",
       "</tbody>\n",
       "</table>\n"
      ],
      "text/latex": [
       "\\begin{tabular}{r|llll}\n",
       "  & Estimate & Std. Error & z value & Pr(>\\textbar{}z\\textbar{})\\\\\n",
       "\\hline\n",
       "\t(Intercept) & -10.0113 & 2.3729   & -4.2191  & 0.0000  \\\\\n",
       "\tnfa.1 &  -0.0367 & 2.3679   & -0.0155  & 0.9876  \\\\\n",
       "\\end{tabular}\n"
      ],
      "text/markdown": [
       "\n",
       "| <!--/--> | Estimate | Std. Error | z value | Pr(>|z|) | \n",
       "|---|---|\n",
       "| (Intercept) | -10.0113 | 2.3729   | -4.2191  | 0.0000   | \n",
       "| nfa.1 |  -0.0367 | 2.3679   | -0.0155  | 0.9876   | \n",
       "\n",
       "\n"
      ],
      "text/plain": [
       "            Estimate Std. Error z value Pr(>|z|)\n",
       "(Intercept) -10.0113 2.3729     -4.2191 0.0000  \n",
       "nfa.1        -0.0367 2.3679     -0.0155 0.9876  "
      ]
     },
     "metadata": {},
     "output_type": "display_data"
    },
    {
     "name": "stdout",
     "output_type": "stream",
     "text": [
      "[1] \"nfa.1 gee\"\n"
     ]
    },
    {
     "data": {
      "text/html": [
       "<table>\n",
       "<thead><tr><th></th><th scope=col>Estimate</th><th scope=col>Std.err</th><th scope=col>Wald</th><th scope=col>Pr(&gt;|W|)</th></tr></thead>\n",
       "<tbody>\n",
       "\t<tr><th scope=row>(Intercept)</th><td>1.2009</td><td>0.4367</td><td>7.564 </td><td>0.0060</td></tr>\n",
       "\t<tr><th scope=row>nfa.1</th><td>0.1144</td><td>0.4490</td><td>0.065 </td><td>0.7988</td></tr>\n",
       "</tbody>\n",
       "</table>\n"
      ],
      "text/latex": [
       "\\begin{tabular}{r|llll}\n",
       "  & Estimate & Std.err & Wald & Pr(>\\textbar{}W\\textbar{})\\\\\n",
       "\\hline\n",
       "\t(Intercept) & 1.2009 & 0.4367 & 7.564  & 0.0060\\\\\n",
       "\tnfa.1 & 0.1144 & 0.4490 & 0.065  & 0.7988\\\\\n",
       "\\end{tabular}\n"
      ],
      "text/markdown": [
       "\n",
       "| <!--/--> | Estimate | Std.err | Wald | Pr(>|W|) | \n",
       "|---|---|\n",
       "| (Intercept) | 1.2009 | 0.4367 | 7.564  | 0.0060 | \n",
       "| nfa.1 | 0.1144 | 0.4490 | 0.065  | 0.7988 | \n",
       "\n",
       "\n"
      ],
      "text/plain": [
       "            Estimate Std.err Wald  Pr(>|W|)\n",
       "(Intercept) 1.2009   0.4367  7.564 0.0060  \n",
       "nfa.1       0.1144   0.4490  0.065 0.7988  "
      ]
     },
     "metadata": {},
     "output_type": "display_data"
    },
    {
     "name": "stdout",
     "output_type": "stream",
     "text": [
      "[1] \"nev1.1\"\n"
     ]
    },
    {
     "data": {
      "text/html": [
       "<table>\n",
       "<thead><tr><th></th><th scope=col>Estimate</th><th scope=col>Std. Error</th><th scope=col>z value</th><th scope=col>Pr(&gt;|z|)</th></tr></thead>\n",
       "<tbody>\n",
       "\t<tr><th scope=row>(Intercept)</th><td>-10.6585</td><td>4.9893  </td><td>-2.1363 </td><td>0.0327  </td></tr>\n",
       "\t<tr><th scope=row>nev1.1</th><td>  0.1937</td><td>3.4492  </td><td> 0.0561 </td><td>0.9552  </td></tr>\n",
       "</tbody>\n",
       "</table>\n"
      ],
      "text/latex": [
       "\\begin{tabular}{r|llll}\n",
       "  & Estimate & Std. Error & z value & Pr(>\\textbar{}z\\textbar{})\\\\\n",
       "\\hline\n",
       "\t(Intercept) & -10.6585 & 4.9893   & -2.1363  & 0.0327  \\\\\n",
       "\tnev1.1 &   0.1937 & 3.4492   &  0.0561  & 0.9552  \\\\\n",
       "\\end{tabular}\n"
      ],
      "text/markdown": [
       "\n",
       "| <!--/--> | Estimate | Std. Error | z value | Pr(>|z|) | \n",
       "|---|---|\n",
       "| (Intercept) | -10.6585 | 4.9893   | -2.1363  | 0.0327   | \n",
       "| nev1.1 |   0.1937 | 3.4492   |  0.0561  | 0.9552   | \n",
       "\n",
       "\n"
      ],
      "text/plain": [
       "            Estimate Std. Error z value Pr(>|z|)\n",
       "(Intercept) -10.6585 4.9893     -2.1363 0.0327  \n",
       "nev1.1        0.1937 3.4492      0.0561 0.9552  "
      ]
     },
     "metadata": {},
     "output_type": "display_data"
    },
    {
     "name": "stdout",
     "output_type": "stream",
     "text": [
      "[1] \"nev1.1 gee\"\n"
     ]
    },
    {
     "data": {
      "text/html": [
       "<table>\n",
       "<thead><tr><th></th><th scope=col>Estimate</th><th scope=col>Std.err</th><th scope=col>Wald</th><th scope=col>Pr(&gt;|W|)</th></tr></thead>\n",
       "<tbody>\n",
       "\t<tr><th scope=row>(Intercept)</th><td>1.1693</td><td>0.7386</td><td>2.5063</td><td>0.1134</td></tr>\n",
       "\t<tr><th scope=row>nev1.1</th><td>0.1401</td><td>0.5372</td><td>0.0680</td><td>0.7942</td></tr>\n",
       "</tbody>\n",
       "</table>\n"
      ],
      "text/latex": [
       "\\begin{tabular}{r|llll}\n",
       "  & Estimate & Std.err & Wald & Pr(>\\textbar{}W\\textbar{})\\\\\n",
       "\\hline\n",
       "\t(Intercept) & 1.1693 & 0.7386 & 2.5063 & 0.1134\\\\\n",
       "\tnev1.1 & 0.1401 & 0.5372 & 0.0680 & 0.7942\\\\\n",
       "\\end{tabular}\n"
      ],
      "text/markdown": [
       "\n",
       "| <!--/--> | Estimate | Std.err | Wald | Pr(>|W|) | \n",
       "|---|---|\n",
       "| (Intercept) | 1.1693 | 0.7386 | 2.5063 | 0.1134 | \n",
       "| nev1.1 | 0.1401 | 0.5372 | 0.0680 | 0.7942 | \n",
       "\n",
       "\n"
      ],
      "text/plain": [
       "            Estimate Std.err Wald   Pr(>|W|)\n",
       "(Intercept) 1.1693   0.7386  2.5063 0.1134  \n",
       "nev1.1      0.1401   0.5372  0.0680 0.7942  "
      ]
     },
     "metadata": {},
     "output_type": "display_data"
    },
    {
     "name": "stdout",
     "output_type": "stream",
     "text": [
      "[1] \"nev2.1\"\n"
     ]
    },
    {
     "data": {
      "text/html": [
       "<table>\n",
       "<thead><tr><th></th><th scope=col>Estimate</th><th scope=col>Std. Error</th><th scope=col>z value</th><th scope=col>Pr(&gt;|z|)</th></tr></thead>\n",
       "<tbody>\n",
       "\t<tr><th scope=row>(Intercept)</th><td>-11.3870</td><td>4.8622  </td><td>-2.3419 </td><td>0.0192  </td></tr>\n",
       "\t<tr><th scope=row>nev2.1</th><td>  0.6326</td><td>2.8214  </td><td> 0.2242 </td><td>0.8226  </td></tr>\n",
       "</tbody>\n",
       "</table>\n"
      ],
      "text/latex": [
       "\\begin{tabular}{r|llll}\n",
       "  & Estimate & Std. Error & z value & Pr(>\\textbar{}z\\textbar{})\\\\\n",
       "\\hline\n",
       "\t(Intercept) & -11.3870 & 4.8622   & -2.3419  & 0.0192  \\\\\n",
       "\tnev2.1 &   0.6326 & 2.8214   &  0.2242  & 0.8226  \\\\\n",
       "\\end{tabular}\n"
      ],
      "text/markdown": [
       "\n",
       "| <!--/--> | Estimate | Std. Error | z value | Pr(>|z|) | \n",
       "|---|---|\n",
       "| (Intercept) | -11.3870 | 4.8622   | -2.3419  | 0.0192   | \n",
       "| nev2.1 |   0.6326 | 2.8214   |  0.2242  | 0.8226   | \n",
       "\n",
       "\n"
      ],
      "text/plain": [
       "            Estimate Std. Error z value Pr(>|z|)\n",
       "(Intercept) -11.3870 4.8622     -2.3419 0.0192  \n",
       "nev2.1        0.6326 2.8214      0.2242 0.8226  "
      ]
     },
     "metadata": {},
     "output_type": "display_data"
    },
    {
     "name": "stdout",
     "output_type": "stream",
     "text": [
      "[1] \"nev2.1 gee\"\n"
     ]
    },
    {
     "data": {
      "text/html": [
       "<table>\n",
       "<thead><tr><th></th><th scope=col>Estimate</th><th scope=col>Std.err</th><th scope=col>Wald</th><th scope=col>Pr(&gt;|W|)</th></tr></thead>\n",
       "<tbody>\n",
       "\t<tr><th scope=row>(Intercept)</th><td>1.0442</td><td>0.6833</td><td>2.3353</td><td>0.1265</td></tr>\n",
       "\t<tr><th scope=row>nev2.1</th><td>0.2158</td><td>0.4489</td><td>0.2310</td><td>0.6308</td></tr>\n",
       "</tbody>\n",
       "</table>\n"
      ],
      "text/latex": [
       "\\begin{tabular}{r|llll}\n",
       "  & Estimate & Std.err & Wald & Pr(>\\textbar{}W\\textbar{})\\\\\n",
       "\\hline\n",
       "\t(Intercept) & 1.0442 & 0.6833 & 2.3353 & 0.1265\\\\\n",
       "\tnev2.1 & 0.2158 & 0.4489 & 0.2310 & 0.6308\\\\\n",
       "\\end{tabular}\n"
      ],
      "text/markdown": [
       "\n",
       "| <!--/--> | Estimate | Std.err | Wald | Pr(>|W|) | \n",
       "|---|---|\n",
       "| (Intercept) | 1.0442 | 0.6833 | 2.3353 | 0.1265 | \n",
       "| nev2.1 | 0.2158 | 0.4489 | 0.2310 | 0.6308 | \n",
       "\n",
       "\n"
      ],
      "text/plain": [
       "            Estimate Std.err Wald   Pr(>|W|)\n",
       "(Intercept) 1.0442   0.6833  2.3353 0.1265  \n",
       "nev2.1      0.2158   0.4489  0.2310 0.6308  "
      ]
     },
     "metadata": {},
     "output_type": "display_data"
    },
    {
     "name": "stdout",
     "output_type": "stream",
     "text": [
      "[1] \"nevrad.1\"\n"
     ]
    },
    {
     "data": {
      "text/html": [
       "<table>\n",
       "<thead><tr><th></th><th scope=col>Estimate</th><th scope=col>Std. Error</th><th scope=col>z value</th><th scope=col>Pr(&gt;|z|)</th></tr></thead>\n",
       "<tbody>\n",
       "\t<tr><th scope=row>(Intercept)</th><td>-11.5673</td><td>4.7816  </td><td>-2.4191 </td><td>0.0156  </td></tr>\n",
       "\t<tr><th scope=row>nevrad.1</th><td>  0.7502</td><td>2.7520  </td><td> 0.2726 </td><td>0.7852  </td></tr>\n",
       "</tbody>\n",
       "</table>\n"
      ],
      "text/latex": [
       "\\begin{tabular}{r|llll}\n",
       "  & Estimate & Std. Error & z value & Pr(>\\textbar{}z\\textbar{})\\\\\n",
       "\\hline\n",
       "\t(Intercept) & -11.5673 & 4.7816   & -2.4191  & 0.0156  \\\\\n",
       "\tnevrad.1 &   0.7502 & 2.7520   &  0.2726  & 0.7852  \\\\\n",
       "\\end{tabular}\n"
      ],
      "text/markdown": [
       "\n",
       "| <!--/--> | Estimate | Std. Error | z value | Pr(>|z|) | \n",
       "|---|---|\n",
       "| (Intercept) | -11.5673 | 4.7816   | -2.4191  | 0.0156   | \n",
       "| nevrad.1 |   0.7502 | 2.7520   |  0.2726  | 0.7852   | \n",
       "\n",
       "\n"
      ],
      "text/plain": [
       "            Estimate Std. Error z value Pr(>|z|)\n",
       "(Intercept) -11.5673 4.7816     -2.4191 0.0156  \n",
       "nevrad.1      0.7502 2.7520      0.2726 0.7852  "
      ]
     },
     "metadata": {},
     "output_type": "display_data"
    },
    {
     "name": "stdout",
     "output_type": "stream",
     "text": [
      "[1] \"nevrad.1 gee\"\n"
     ]
    },
    {
     "data": {
      "text/html": [
       "<table>\n",
       "<thead><tr><th></th><th scope=col>Estimate</th><th scope=col>Std.err</th><th scope=col>Wald</th><th scope=col>Pr(&gt;|W|)</th></tr></thead>\n",
       "<tbody>\n",
       "\t<tr><th scope=row>(Intercept)</th><td>1.1341</td><td>0.6855</td><td>2.7376</td><td>0.0980</td></tr>\n",
       "\t<tr><th scope=row>nevrad.1</th><td>0.1539</td><td>0.4539</td><td>0.1150</td><td>0.7345</td></tr>\n",
       "</tbody>\n",
       "</table>\n"
      ],
      "text/latex": [
       "\\begin{tabular}{r|llll}\n",
       "  & Estimate & Std.err & Wald & Pr(>\\textbar{}W\\textbar{})\\\\\n",
       "\\hline\n",
       "\t(Intercept) & 1.1341 & 0.6855 & 2.7376 & 0.0980\\\\\n",
       "\tnevrad.1 & 0.1539 & 0.4539 & 0.1150 & 0.7345\\\\\n",
       "\\end{tabular}\n"
      ],
      "text/markdown": [
       "\n",
       "| <!--/--> | Estimate | Std.err | Wald | Pr(>|W|) | \n",
       "|---|---|\n",
       "| (Intercept) | 1.1341 | 0.6855 | 2.7376 | 0.0980 | \n",
       "| nevrad.1 | 0.1539 | 0.4539 | 0.1150 | 0.7345 | \n",
       "\n",
       "\n"
      ],
      "text/plain": [
       "            Estimate Std.err Wald   Pr(>|W|)\n",
       "(Intercept) 1.1341   0.6855  2.7376 0.0980  \n",
       "nevrad.1    0.1539   0.4539  0.1150 0.7345  "
      ]
     },
     "metadata": {},
     "output_type": "display_data"
    }
   ],
   "source": [
    "print('Diffusion:')\n",
    "print('nadc.1')\n",
    "nadc.1.glmm.fit = glmer(outcome ~ nadc.1 + (1|t_number_y), data = recgli, family=\"binomial\")\n",
    "round(summary(nadc.1.glmm.fit)$coefficients, 4) \n",
    "print('nadc.1 gee')\n",
    "nadc.1.gee.fit = geeglm(txe_rhgg ~ nadc.1, data = recgli[!is.na(recgli$nadc.1),], id = factor(t_number_y), family = binomial, corstr = \"exchangeable\")\n",
    "round(summary(nadc.1.gee.fit)$coefficients, 4)\n",
    "print('nfa.1')\n",
    "nfa.1.glmm.fit = glmer(outcome ~ nfa.1 + (1|t_number_y), data = recgli, family=\"binomial\")\n",
    "round(summary(nfa.1.glmm.fit)$coefficients, 4) \n",
    "print('nfa.1 gee')\n",
    "nfa.1.gee.fit = geeglm(txe_rhgg ~ nfa.1, data = recgli[!is.na(recgli$nfa.1),], id = factor(t_number_y), family = binomial, corstr = \"exchangeable\")\n",
    "round(summary(nfa.1.gee.fit)$coefficients, 4)\n",
    "print('nev1.1')\n",
    "nev1.1.glmm.fit = glmer(outcome ~ nev1.1 + (1|t_number_y), data = recgli, family=\"binomial\")\n",
    "round(summary(nev1.1.glmm.fit)$coefficients, 4) \n",
    "print('nev1.1 gee')\n",
    "nev1.1.gee.fit = geeglm(txe_rhgg ~ nev1.1, data = recgli[!is.na(recgli$nev1.1),], id = factor(t_number_y), family = binomial, corstr = \"exchangeable\")\n",
    "round(summary(nev1.1.gee.fit)$coefficients, 4)\n",
    "print('nev2.1')\n",
    "nev2.1.glmm.fit = glmer(outcome ~ nev2.1 + (1|t_number_y), data = recgli, family=\"binomial\")\n",
    "round(summary(nev2.1.glmm.fit)$coefficients, 4) \n",
    "print('nev2.1 gee')\n",
    "nev2.1.gee.fit = geeglm(txe_rhgg ~ nev2.1, data = recgli[!is.na(recgli$nev2.1),], id = factor(t_number_y), family = binomial, corstr = \"exchangeable\")\n",
    "round(summary(nev2.1.gee.fit)$coefficients, 4)\n",
    "print(\"nevrad.1\")\n",
    "nevrad.1.glmm.fit = glmer(outcome ~ nevrad.1 + (1|t_number_y), data = recgli, family=\"binomial\")\n",
    "round(summary(nevrad.1.glmm.fit)$coefficients, 4) \n",
    "print('nevrad.1 gee')\n",
    "nevrad.1.gee.fit = geeglm(txe_rhgg ~ nevrad.1, data = recgli[!is.na(recgli$nevrad.1),], id = factor(t_number_y), family = binomial, corstr = \"exchangeable\")\n",
    "round(summary(nevrad.1.gee.fit)$coefficients, 4)"
   ]
  },
  {
   "cell_type": "code",
   "execution_count": 70,
   "metadata": {},
   "outputs": [
    {
     "data": {
      "text/plain": [
       "\n",
       "rHGG  txe \n",
       " 128   36 "
      ]
     },
     "metadata": {},
     "output_type": "display_data"
    }
   ],
   "source": [
    "table(recgli$outcome)"
   ]
  },
  {
   "cell_type": "code",
   "execution_count": 73,
   "metadata": {},
   "outputs": [],
   "source": [
    "library(\"BBmisc\")"
   ]
  },
  {
   "cell_type": "code",
   "execution_count": 79,
   "metadata": {},
   "outputs": [],
   "source": [
    "for (col in c('cbvn_nlin', 'phn_npar', 'recov_npar')){\n",
    "    recgli[,col] = normalize(recgli[,col], method = \"standardize\")\n",
    "}"
   ]
  },
  {
   "cell_type": "code",
   "execution_count": 80,
   "metadata": {},
   "outputs": [
    {
     "name": "stdout",
     "output_type": "stream",
     "text": [
      "[1] \"Perfusion:\"\n",
      "[1] \"cbvn_nlin\"  \"phn_nlin\"   \"recov_nlin\" \"phn_npar\"   \"recov_npar\"\n",
      "[1] \"cbvn_nlin\"\n"
     ]
    },
    {
     "data": {
      "text/html": [
       "<table>\n",
       "<thead><tr><th></th><th scope=col>Estimate</th><th scope=col>Std. Error</th><th scope=col>z value</th><th scope=col>Pr(&gt;|z|)</th></tr></thead>\n",
       "<tbody>\n",
       "\t<tr><th scope=row>(Intercept)</th><td>-12.6092</td><td>2.7865  </td><td>-4.5250 </td><td>0.000   </td></tr>\n",
       "\t<tr><th scope=row>cbvn_nlin</th><td> -0.8577</td><td>2.4572  </td><td>-0.3491 </td><td>0.727   </td></tr>\n",
       "</tbody>\n",
       "</table>\n"
      ],
      "text/latex": [
       "\\begin{tabular}{r|llll}\n",
       "  & Estimate & Std. Error & z value & Pr(>\\textbar{}z\\textbar{})\\\\\n",
       "\\hline\n",
       "\t(Intercept) & -12.6092 & 2.7865   & -4.5250  & 0.000   \\\\\n",
       "\tcbvn\\_nlin &  -0.8577 & 2.4572   & -0.3491  & 0.727   \\\\\n",
       "\\end{tabular}\n"
      ],
      "text/markdown": [
       "\n",
       "| <!--/--> | Estimate | Std. Error | z value | Pr(>|z|) | \n",
       "|---|---|\n",
       "| (Intercept) | -12.6092 | 2.7865   | -4.5250  | 0.000    | \n",
       "| cbvn_nlin |  -0.8577 | 2.4572   | -0.3491  | 0.727    | \n",
       "\n",
       "\n"
      ],
      "text/plain": [
       "            Estimate Std. Error z value Pr(>|z|)\n",
       "(Intercept) -12.6092 2.7865     -4.5250 0.000   \n",
       "cbvn_nlin    -0.8577 2.4572     -0.3491 0.727   "
      ]
     },
     "metadata": {},
     "output_type": "display_data"
    },
    {
     "name": "stdout",
     "output_type": "stream",
     "text": [
      "[1] \"cbvn_nlin gee\"\n"
     ]
    },
    {
     "data": {
      "text/html": [
       "<table>\n",
       "<thead><tr><th></th><th scope=col>Estimate</th><th scope=col>Std.err</th><th scope=col>Wald</th><th scope=col>Pr(&gt;|W|)</th></tr></thead>\n",
       "<tbody>\n",
       "\t<tr><th scope=row>(Intercept)</th><td>1.5342 </td><td>0.3062 </td><td>25.1086</td><td>0.0000 </td></tr>\n",
       "\t<tr><th scope=row>cbvn_nlin</th><td>0.3615 </td><td>0.1224 </td><td> 8.7248</td><td>0.0031 </td></tr>\n",
       "</tbody>\n",
       "</table>\n"
      ],
      "text/latex": [
       "\\begin{tabular}{r|llll}\n",
       "  & Estimate & Std.err & Wald & Pr(>\\textbar{}W\\textbar{})\\\\\n",
       "\\hline\n",
       "\t(Intercept) & 1.5342  & 0.3062  & 25.1086 & 0.0000 \\\\\n",
       "\tcbvn\\_nlin & 0.3615  & 0.1224  &  8.7248 & 0.0031 \\\\\n",
       "\\end{tabular}\n"
      ],
      "text/markdown": [
       "\n",
       "| <!--/--> | Estimate | Std.err | Wald | Pr(>|W|) | \n",
       "|---|---|\n",
       "| (Intercept) | 1.5342  | 0.3062  | 25.1086 | 0.0000  | \n",
       "| cbvn_nlin | 0.3615  | 0.1224  |  8.7248 | 0.0031  | \n",
       "\n",
       "\n"
      ],
      "text/plain": [
       "            Estimate Std.err Wald    Pr(>|W|)\n",
       "(Intercept) 1.5342   0.3062  25.1086 0.0000  \n",
       "cbvn_nlin   0.3615   0.1224   8.7248 0.0031  "
      ]
     },
     "metadata": {},
     "output_type": "display_data"
    },
    {
     "name": "stdout",
     "output_type": "stream",
     "text": [
      "[1] \"phn_nlin\"\n"
     ]
    },
    {
     "data": {
      "text/html": [
       "<table>\n",
       "<thead><tr><th></th><th scope=col>Estimate</th><th scope=col>Std. Error</th><th scope=col>z value</th><th scope=col>Pr(&gt;|z|)</th></tr></thead>\n",
       "<tbody>\n",
       "\t<tr><th scope=row>(Intercept)</th><td>-11.3765</td><td>3.9463  </td><td>-2.8828 </td><td>0.0039  </td></tr>\n",
       "\t<tr><th scope=row>phn_nlin</th><td> -0.7250</td><td>2.3266  </td><td>-0.3116 </td><td>0.7553  </td></tr>\n",
       "</tbody>\n",
       "</table>\n"
      ],
      "text/latex": [
       "\\begin{tabular}{r|llll}\n",
       "  & Estimate & Std. Error & z value & Pr(>\\textbar{}z\\textbar{})\\\\\n",
       "\\hline\n",
       "\t(Intercept) & -11.3765 & 3.9463   & -2.8828  & 0.0039  \\\\\n",
       "\tphn\\_nlin &  -0.7250 & 2.3266   & -0.3116  & 0.7553  \\\\\n",
       "\\end{tabular}\n"
      ],
      "text/markdown": [
       "\n",
       "| <!--/--> | Estimate | Std. Error | z value | Pr(>|z|) | \n",
       "|---|---|\n",
       "| (Intercept) | -11.3765 | 3.9463   | -2.8828  | 0.0039   | \n",
       "| phn_nlin |  -0.7250 | 2.3266   | -0.3116  | 0.7553   | \n",
       "\n",
       "\n"
      ],
      "text/plain": [
       "            Estimate Std. Error z value Pr(>|z|)\n",
       "(Intercept) -11.3765 3.9463     -2.8828 0.0039  \n",
       "phn_nlin     -0.7250 2.3266     -0.3116 0.7553  "
      ]
     },
     "metadata": {},
     "output_type": "display_data"
    },
    {
     "name": "stdout",
     "output_type": "stream",
     "text": [
      "[1] \"phn_nlin gee\"\n"
     ]
    },
    {
     "data": {
      "text/html": [
       "<table>\n",
       "<thead><tr><th></th><th scope=col>Estimate</th><th scope=col>Std.err</th><th scope=col>Wald</th><th scope=col>Pr(&gt;|W|)</th></tr></thead>\n",
       "<tbody>\n",
       "\t<tr><th scope=row>(Intercept)</th><td>0.9174</td><td>0.3723</td><td>6.0722</td><td>0.0137</td></tr>\n",
       "\t<tr><th scope=row>phn_nlin</th><td>0.3670</td><td>0.1244</td><td>8.7000</td><td>0.0032</td></tr>\n",
       "</tbody>\n",
       "</table>\n"
      ],
      "text/latex": [
       "\\begin{tabular}{r|llll}\n",
       "  & Estimate & Std.err & Wald & Pr(>\\textbar{}W\\textbar{})\\\\\n",
       "\\hline\n",
       "\t(Intercept) & 0.9174 & 0.3723 & 6.0722 & 0.0137\\\\\n",
       "\tphn\\_nlin & 0.3670 & 0.1244 & 8.7000 & 0.0032\\\\\n",
       "\\end{tabular}\n"
      ],
      "text/markdown": [
       "\n",
       "| <!--/--> | Estimate | Std.err | Wald | Pr(>|W|) | \n",
       "|---|---|\n",
       "| (Intercept) | 0.9174 | 0.3723 | 6.0722 | 0.0137 | \n",
       "| phn_nlin | 0.3670 | 0.1244 | 8.7000 | 0.0032 | \n",
       "\n",
       "\n"
      ],
      "text/plain": [
       "            Estimate Std.err Wald   Pr(>|W|)\n",
       "(Intercept) 0.9174   0.3723  6.0722 0.0137  \n",
       "phn_nlin    0.3670   0.1244  8.7000 0.0032  "
      ]
     },
     "metadata": {},
     "output_type": "display_data"
    },
    {
     "name": "stdout",
     "output_type": "stream",
     "text": [
      "[1] \"recov_nlin\"\n"
     ]
    },
    {
     "data": {
      "text/html": [
       "<table>\n",
       "<thead><tr><th></th><th scope=col>Estimate</th><th scope=col>Std. Error</th><th scope=col>z value</th><th scope=col>Pr(&gt;|z|)</th></tr></thead>\n",
       "<tbody>\n",
       "\t<tr><th scope=row>(Intercept)</th><td>-3.0727</td><td>2.7065 </td><td>-1.1353</td><td>0.2562 </td></tr>\n",
       "\t<tr><th scope=row>recov_nlin</th><td>-0.1363</td><td>0.0533 </td><td>-2.5597</td><td>0.0105 </td></tr>\n",
       "</tbody>\n",
       "</table>\n"
      ],
      "text/latex": [
       "\\begin{tabular}{r|llll}\n",
       "  & Estimate & Std. Error & z value & Pr(>\\textbar{}z\\textbar{})\\\\\n",
       "\\hline\n",
       "\t(Intercept) & -3.0727 & 2.7065  & -1.1353 & 0.2562 \\\\\n",
       "\trecov\\_nlin & -0.1363 & 0.0533  & -2.5597 & 0.0105 \\\\\n",
       "\\end{tabular}\n"
      ],
      "text/markdown": [
       "\n",
       "| <!--/--> | Estimate | Std. Error | z value | Pr(>|z|) | \n",
       "|---|---|\n",
       "| (Intercept) | -3.0727 | 2.7065  | -1.1353 | 0.2562  | \n",
       "| recov_nlin | -0.1363 | 0.0533  | -2.5597 | 0.0105  | \n",
       "\n",
       "\n"
      ],
      "text/plain": [
       "            Estimate Std. Error z value Pr(>|z|)\n",
       "(Intercept) -3.0727  2.7065     -1.1353 0.2562  \n",
       "recov_nlin  -0.1363  0.0533     -2.5597 0.0105  "
      ]
     },
     "metadata": {},
     "output_type": "display_data"
    },
    {
     "name": "stdout",
     "output_type": "stream",
     "text": [
      "[1] \"recov_nlin gee\"\n"
     ]
    },
    {
     "data": {
      "text/html": [
       "<table>\n",
       "<thead><tr><th></th><th scope=col>Estimate</th><th scope=col>Std.err</th><th scope=col>Wald</th><th scope=col>Pr(&gt;|W|)</th></tr></thead>\n",
       "<tbody>\n",
       "\t<tr><th scope=row>(Intercept)</th><td>-0.5060</td><td>0.6989 </td><td> 0.5242</td><td>0.4690 </td></tr>\n",
       "\t<tr><th scope=row>recov_nlin</th><td> 0.0256</td><td>0.0079 </td><td>10.4180</td><td>0.0012 </td></tr>\n",
       "</tbody>\n",
       "</table>\n"
      ],
      "text/latex": [
       "\\begin{tabular}{r|llll}\n",
       "  & Estimate & Std.err & Wald & Pr(>\\textbar{}W\\textbar{})\\\\\n",
       "\\hline\n",
       "\t(Intercept) & -0.5060 & 0.6989  &  0.5242 & 0.4690 \\\\\n",
       "\trecov\\_nlin &  0.0256 & 0.0079  & 10.4180 & 0.0012 \\\\\n",
       "\\end{tabular}\n"
      ],
      "text/markdown": [
       "\n",
       "| <!--/--> | Estimate | Std.err | Wald | Pr(>|W|) | \n",
       "|---|---|\n",
       "| (Intercept) | -0.5060 | 0.6989  |  0.5242 | 0.4690  | \n",
       "| recov_nlin |  0.0256 | 0.0079  | 10.4180 | 0.0012  | \n",
       "\n",
       "\n"
      ],
      "text/plain": [
       "            Estimate Std.err Wald    Pr(>|W|)\n",
       "(Intercept) -0.5060  0.6989   0.5242 0.4690  \n",
       "recov_nlin   0.0256  0.0079  10.4180 0.0012  "
      ]
     },
     "metadata": {},
     "output_type": "display_data"
    },
    {
     "name": "stdout",
     "output_type": "stream",
     "text": [
      "[1] \"phn_npar\"\n"
     ]
    },
    {
     "data": {
      "text/html": [
       "<table>\n",
       "<thead><tr><th></th><th scope=col>Estimate</th><th scope=col>Std. Error</th><th scope=col>z value</th><th scope=col>Pr(&gt;|z|)</th></tr></thead>\n",
       "<tbody>\n",
       "\t<tr><th scope=row>(Intercept)</th><td>-12.5161</td><td>2.6166  </td><td>-4.7834 </td><td>0.0000  </td></tr>\n",
       "\t<tr><th scope=row>phn_npar</th><td> -0.3749</td><td>1.8552  </td><td>-0.2021 </td><td>0.8399  </td></tr>\n",
       "</tbody>\n",
       "</table>\n"
      ],
      "text/latex": [
       "\\begin{tabular}{r|llll}\n",
       "  & Estimate & Std. Error & z value & Pr(>\\textbar{}z\\textbar{})\\\\\n",
       "\\hline\n",
       "\t(Intercept) & -12.5161 & 2.6166   & -4.7834  & 0.0000  \\\\\n",
       "\tphn\\_npar &  -0.3749 & 1.8552   & -0.2021  & 0.8399  \\\\\n",
       "\\end{tabular}\n"
      ],
      "text/markdown": [
       "\n",
       "| <!--/--> | Estimate | Std. Error | z value | Pr(>|z|) | \n",
       "|---|---|\n",
       "| (Intercept) | -12.5161 | 2.6166   | -4.7834  | 0.0000   | \n",
       "| phn_npar |  -0.3749 | 1.8552   | -0.2021  | 0.8399   | \n",
       "\n",
       "\n"
      ],
      "text/plain": [
       "            Estimate Std. Error z value Pr(>|z|)\n",
       "(Intercept) -12.5161 2.6166     -4.7834 0.0000  \n",
       "phn_npar     -0.3749 1.8552     -0.2021 0.8399  "
      ]
     },
     "metadata": {},
     "output_type": "display_data"
    },
    {
     "name": "stdout",
     "output_type": "stream",
     "text": [
      "[1] \"phn_npar gee\"\n"
     ]
    },
    {
     "data": {
      "text/html": [
       "<table>\n",
       "<thead><tr><th></th><th scope=col>Estimate</th><th scope=col>Std.err</th><th scope=col>Wald</th><th scope=col>Pr(&gt;|W|)</th></tr></thead>\n",
       "<tbody>\n",
       "\t<tr><th scope=row>(Intercept)</th><td>1.4837 </td><td>0.3075 </td><td>23.2859</td><td>0.0000 </td></tr>\n",
       "\t<tr><th scope=row>phn_npar</th><td>0.2275 </td><td>0.1003 </td><td> 5.1495</td><td>0.0233 </td></tr>\n",
       "</tbody>\n",
       "</table>\n"
      ],
      "text/latex": [
       "\\begin{tabular}{r|llll}\n",
       "  & Estimate & Std.err & Wald & Pr(>\\textbar{}W\\textbar{})\\\\\n",
       "\\hline\n",
       "\t(Intercept) & 1.4837  & 0.3075  & 23.2859 & 0.0000 \\\\\n",
       "\tphn\\_npar & 0.2275  & 0.1003  &  5.1495 & 0.0233 \\\\\n",
       "\\end{tabular}\n"
      ],
      "text/markdown": [
       "\n",
       "| <!--/--> | Estimate | Std.err | Wald | Pr(>|W|) | \n",
       "|---|---|\n",
       "| (Intercept) | 1.4837  | 0.3075  | 23.2859 | 0.0000  | \n",
       "| phn_npar | 0.2275  | 0.1003  |  5.1495 | 0.0233  | \n",
       "\n",
       "\n"
      ],
      "text/plain": [
       "            Estimate Std.err Wald    Pr(>|W|)\n",
       "(Intercept) 1.4837   0.3075  23.2859 0.0000  \n",
       "phn_npar    0.2275   0.1003   5.1495 0.0233  "
      ]
     },
     "metadata": {},
     "output_type": "display_data"
    },
    {
     "name": "stdout",
     "output_type": "stream",
     "text": [
      "[1] \"recov_npar\"\n"
     ]
    },
    {
     "data": {
      "text/html": [
       "<table>\n",
       "<thead><tr><th></th><th scope=col>Estimate</th><th scope=col>Std. Error</th><th scope=col>z value</th><th scope=col>Pr(&gt;|z|)</th></tr></thead>\n",
       "<tbody>\n",
       "\t<tr><th scope=row>(Intercept)</th><td>-12.5065</td><td>2.6652  </td><td>-4.6925 </td><td>0.0000  </td></tr>\n",
       "\t<tr><th scope=row>recov_npar</th><td> -0.6496</td><td>1.3652  </td><td>-0.4758 </td><td>0.6342  </td></tr>\n",
       "</tbody>\n",
       "</table>\n"
      ],
      "text/latex": [
       "\\begin{tabular}{r|llll}\n",
       "  & Estimate & Std. Error & z value & Pr(>\\textbar{}z\\textbar{})\\\\\n",
       "\\hline\n",
       "\t(Intercept) & -12.5065 & 2.6652   & -4.6925  & 0.0000  \\\\\n",
       "\trecov\\_npar &  -0.6496 & 1.3652   & -0.4758  & 0.6342  \\\\\n",
       "\\end{tabular}\n"
      ],
      "text/markdown": [
       "\n",
       "| <!--/--> | Estimate | Std. Error | z value | Pr(>|z|) | \n",
       "|---|---|\n",
       "| (Intercept) | -12.5065 | 2.6652   | -4.6925  | 0.0000   | \n",
       "| recov_npar |  -0.6496 | 1.3652   | -0.4758  | 0.6342   | \n",
       "\n",
       "\n"
      ],
      "text/plain": [
       "            Estimate Std. Error z value Pr(>|z|)\n",
       "(Intercept) -12.5065 2.6652     -4.6925 0.0000  \n",
       "recov_npar   -0.6496 1.3652     -0.4758 0.6342  "
      ]
     },
     "metadata": {},
     "output_type": "display_data"
    },
    {
     "name": "stdout",
     "output_type": "stream",
     "text": [
      "[1] \"recov_npar gee\"\n"
     ]
    },
    {
     "data": {
      "text/html": [
       "<table>\n",
       "<thead><tr><th></th><th scope=col>Estimate</th><th scope=col>Std.err</th><th scope=col>Wald</th><th scope=col>Pr(&gt;|W|)</th></tr></thead>\n",
       "<tbody>\n",
       "\t<tr><th scope=row>(Intercept)</th><td>1.5907 </td><td>0.3164 </td><td>25.2781</td><td>0.0000 </td></tr>\n",
       "\t<tr><th scope=row>recov_npar</th><td>0.5320 </td><td>0.2033 </td><td> 6.8494</td><td>0.0089 </td></tr>\n",
       "</tbody>\n",
       "</table>\n"
      ],
      "text/latex": [
       "\\begin{tabular}{r|llll}\n",
       "  & Estimate & Std.err & Wald & Pr(>\\textbar{}W\\textbar{})\\\\\n",
       "\\hline\n",
       "\t(Intercept) & 1.5907  & 0.3164  & 25.2781 & 0.0000 \\\\\n",
       "\trecov\\_npar & 0.5320  & 0.2033  &  6.8494 & 0.0089 \\\\\n",
       "\\end{tabular}\n"
      ],
      "text/markdown": [
       "\n",
       "| <!--/--> | Estimate | Std.err | Wald | Pr(>|W|) | \n",
       "|---|---|\n",
       "| (Intercept) | 1.5907  | 0.3164  | 25.2781 | 0.0000  | \n",
       "| recov_npar | 0.5320  | 0.2033  |  6.8494 | 0.0089  | \n",
       "\n",
       "\n"
      ],
      "text/plain": [
       "            Estimate Std.err Wald    Pr(>|W|)\n",
       "(Intercept) 1.5907   0.3164  25.2781 0.0000  \n",
       "recov_npar  0.5320   0.2033   6.8494 0.0089  "
      ]
     },
     "metadata": {},
     "output_type": "display_data"
    }
   ],
   "source": [
    "print('Perfusion:')\n",
    "print(perf)\n",
    "print('cbvn_nlin')\n",
    "cbvn_nlin.glmm.fit = glmer(outcome ~ cbvn_nlin + (1|t_number_y), data = recgli, family=\"binomial\")\n",
    "round(summary(cbvn_nlin.glmm.fit)$coefficients, 4) \n",
    "print('cbvn_nlin gee')\n",
    "cbvn_nlin.gee.fit = geeglm(txe_rhgg ~ cbvn_nlin, data = recgli[!is.na(recgli$cbvn_nlin),], id = factor(t_number_y), family = binomial, corstr = \"exchangeable\")\n",
    "round(summary(cbvn_nlin.gee.fit)$coefficients, 4)\n",
    "print('phn_nlin')\n",
    "phn_nlin.glmm.fit = glmer(outcome ~phn_nlin + (1|t_number_y), data = recgli, family=\"binomial\")\n",
    "round(summary(phn_nlin.glmm.fit)$coefficients, 4) \n",
    "print('phn_nlin gee')\n",
    "phn_nlin.gee.fit = geeglm(txe_rhgg ~ phn_nlin, data = recgli[!is.na(recgli$phn_nlin),], id = factor(t_number_y), family = binomial, corstr = \"exchangeable\")\n",
    "round(summary(phn_nlin.gee.fit)$coefficients, 4)\n",
    "print('recov_nlin')\n",
    "recov_nlin.glmm.fit = glmer(outcome ~ recov_nlin + (1|t_number_y), data = recgli, family=\"binomial\")\n",
    "round(summary(recov_nlin.glmm.fit)$coefficients, 4) \n",
    "print('recov_nlin gee')\n",
    "recov_nlin.gee.fit = geeglm(txe_rhgg ~ recov_nlin, data = recgli[!is.na(recgli$recov_nlin),], id = factor(t_number_y), family = binomial, corstr = \"exchangeable\")\n",
    "round(summary(recov_nlin.gee.fit)$coefficients, 4)\n",
    "print('phn_npar')\n",
    "phn_npar.glmm.fit = glmer(outcome ~ phn_npar + (1|t_number_y), data = recgli, family=\"binomial\")\n",
    "round(summary(phn_npar.glmm.fit)$coefficients, 4) \n",
    "print('phn_npar gee')\n",
    "phn_npar.gee.fit = geeglm(txe_rhgg ~ phn_npar, data = recgli[!is.na(recgli$phn_npar),], id = factor(t_number_y), family = binomial, corstr = \"exchangeable\")\n",
    "round(summary(phn_npar.gee.fit)$coefficients, 4)\n",
    "print(\"recov_npar\")\n",
    "recov_npar.glmm.fit = glmer(outcome ~ recov_npar + (1|t_number_y), data = recgli, family=\"binomial\")\n",
    "round(summary(recov_npar.glmm.fit)$coefficients, 4) \n",
    "print('recov_npar gee')\n",
    "recov_npar.gee.fit = geeglm(txe_rhgg ~ recov_npar, data = recgli[!is.na(recgli$recov_npar),], id = factor(t_number_y), family = binomial, corstr = \"exchangeable\")\n",
    "round(summary(recov_npar.gee.fit)$coefficients, 4)"
   ]
  },
  {
   "cell_type": "code",
   "execution_count": 72,
   "metadata": {},
   "outputs": [
    {
     "name": "stdout",
     "output_type": "stream",
     "text": [
      "[1] \"Spec:\"\n",
      "[1] \"ccri\" \"cni\"  \"crni\" \"ncho\" \"ncre\" \"nnaa\" \"nlac\" \"nlip\" \"nLL\" \n",
      "[1] \"ccri\"\n"
     ]
    },
    {
     "data": {
      "text/html": [
       "<table>\n",
       "<thead><tr><th></th><th scope=col>Estimate</th><th scope=col>Std. Error</th><th scope=col>z value</th><th scope=col>Pr(&gt;|z|)</th></tr></thead>\n",
       "<tbody>\n",
       "\t<tr><th scope=row>(Intercept)</th><td>-12.4277</td><td>3.4561  </td><td>-3.5959 </td><td>0.0003  </td></tr>\n",
       "\t<tr><th scope=row>ccri</th><td> -0.1159</td><td>0.8289  </td><td>-0.1398 </td><td>0.8888  </td></tr>\n",
       "</tbody>\n",
       "</table>\n"
      ],
      "text/latex": [
       "\\begin{tabular}{r|llll}\n",
       "  & Estimate & Std. Error & z value & Pr(>\\textbar{}z\\textbar{})\\\\\n",
       "\\hline\n",
       "\t(Intercept) & -12.4277 & 3.4561   & -3.5959  & 0.0003  \\\\\n",
       "\tccri &  -0.1159 & 0.8289   & -0.1398  & 0.8888  \\\\\n",
       "\\end{tabular}\n"
      ],
      "text/markdown": [
       "\n",
       "| <!--/--> | Estimate | Std. Error | z value | Pr(>|z|) | \n",
       "|---|---|\n",
       "| (Intercept) | -12.4277 | 3.4561   | -3.5959  | 0.0003   | \n",
       "| ccri |  -0.1159 | 0.8289   | -0.1398  | 0.8888   | \n",
       "\n",
       "\n"
      ],
      "text/plain": [
       "            Estimate Std. Error z value Pr(>|z|)\n",
       "(Intercept) -12.4277 3.4561     -3.5959 0.0003  \n",
       "ccri         -0.1159 0.8289     -0.1398 0.8888  "
      ]
     },
     "metadata": {},
     "output_type": "display_data"
    },
    {
     "name": "stdout",
     "output_type": "stream",
     "text": [
      "[1] \"ccri gee\"\n"
     ]
    },
    {
     "data": {
      "text/html": [
       "<table>\n",
       "<thead><tr><th></th><th scope=col>Estimate</th><th scope=col>Std.err</th><th scope=col>Wald</th><th scope=col>Pr(&gt;|W|)</th></tr></thead>\n",
       "<tbody>\n",
       "\t<tr><th scope=row>(Intercept)</th><td>1.6722 </td><td>0.3633 </td><td>21.1896</td><td>0.0000 </td></tr>\n",
       "\t<tr><th scope=row>ccri</th><td>0.0008 </td><td>0.0005 </td><td> 2.6355</td><td>0.1045 </td></tr>\n",
       "</tbody>\n",
       "</table>\n"
      ],
      "text/latex": [
       "\\begin{tabular}{r|llll}\n",
       "  & Estimate & Std.err & Wald & Pr(>\\textbar{}W\\textbar{})\\\\\n",
       "\\hline\n",
       "\t(Intercept) & 1.6722  & 0.3633  & 21.1896 & 0.0000 \\\\\n",
       "\tccri & 0.0008  & 0.0005  &  2.6355 & 0.1045 \\\\\n",
       "\\end{tabular}\n"
      ],
      "text/markdown": [
       "\n",
       "| <!--/--> | Estimate | Std.err | Wald | Pr(>|W|) | \n",
       "|---|---|\n",
       "| (Intercept) | 1.6722  | 0.3633  | 21.1896 | 0.0000  | \n",
       "| ccri | 0.0008  | 0.0005  |  2.6355 | 0.1045  | \n",
       "\n",
       "\n"
      ],
      "text/plain": [
       "            Estimate Std.err Wald    Pr(>|W|)\n",
       "(Intercept) 1.6722   0.3633  21.1896 0.0000  \n",
       "ccri        0.0008   0.0005   2.6355 0.1045  "
      ]
     },
     "metadata": {},
     "output_type": "display_data"
    },
    {
     "name": "stdout",
     "output_type": "stream",
     "text": [
      "[1] \"cni\"\n"
     ]
    },
    {
     "data": {
      "text/html": [
       "<table>\n",
       "<thead><tr><th></th><th scope=col>Estimate</th><th scope=col>Std. Error</th><th scope=col>z value</th><th scope=col>Pr(&gt;|z|)</th></tr></thead>\n",
       "<tbody>\n",
       "\t<tr><th scope=row>(Intercept)</th><td>-12.3697</td><td>3.5037  </td><td>-3.5305 </td><td>0.0004  </td></tr>\n",
       "\t<tr><th scope=row>cni</th><td> -0.0950</td><td>0.5929  </td><td>-0.1602 </td><td>0.8727  </td></tr>\n",
       "</tbody>\n",
       "</table>\n"
      ],
      "text/latex": [
       "\\begin{tabular}{r|llll}\n",
       "  & Estimate & Std. Error & z value & Pr(>\\textbar{}z\\textbar{})\\\\\n",
       "\\hline\n",
       "\t(Intercept) & -12.3697 & 3.5037   & -3.5305  & 0.0004  \\\\\n",
       "\tcni &  -0.0950 & 0.5929   & -0.1602  & 0.8727  \\\\\n",
       "\\end{tabular}\n"
      ],
      "text/markdown": [
       "\n",
       "| <!--/--> | Estimate | Std. Error | z value | Pr(>|z|) | \n",
       "|---|---|\n",
       "| (Intercept) | -12.3697 | 3.5037   | -3.5305  | 0.0004   | \n",
       "| cni |  -0.0950 | 0.5929   | -0.1602  | 0.8727   | \n",
       "\n",
       "\n"
      ],
      "text/plain": [
       "            Estimate Std. Error z value Pr(>|z|)\n",
       "(Intercept) -12.3697 3.5037     -3.5305 0.0004  \n",
       "cni          -0.0950 0.5929     -0.1602 0.8727  "
      ]
     },
     "metadata": {},
     "output_type": "display_data"
    },
    {
     "name": "stdout",
     "output_type": "stream",
     "text": [
      "[1] \"cni gee\"\n"
     ]
    },
    {
     "data": {
      "text/html": [
       "<table>\n",
       "<thead><tr><th></th><th scope=col>Estimate</th><th scope=col>Std.err</th><th scope=col>Wald</th><th scope=col>Pr(&gt;|W|)</th></tr></thead>\n",
       "<tbody>\n",
       "\t<tr><th scope=row>(Intercept)</th><td>1.6721 </td><td>0.3633 </td><td>21.1892</td><td>0.0000 </td></tr>\n",
       "\t<tr><th scope=row>cni</th><td>0.0006 </td><td>0.0003 </td><td> 2.6232</td><td>0.1053 </td></tr>\n",
       "</tbody>\n",
       "</table>\n"
      ],
      "text/latex": [
       "\\begin{tabular}{r|llll}\n",
       "  & Estimate & Std.err & Wald & Pr(>\\textbar{}W\\textbar{})\\\\\n",
       "\\hline\n",
       "\t(Intercept) & 1.6721  & 0.3633  & 21.1892 & 0.0000 \\\\\n",
       "\tcni & 0.0006  & 0.0003  &  2.6232 & 0.1053 \\\\\n",
       "\\end{tabular}\n"
      ],
      "text/markdown": [
       "\n",
       "| <!--/--> | Estimate | Std.err | Wald | Pr(>|W|) | \n",
       "|---|---|\n",
       "| (Intercept) | 1.6721  | 0.3633  | 21.1892 | 0.0000  | \n",
       "| cni | 0.0006  | 0.0003  |  2.6232 | 0.1053  | \n",
       "\n",
       "\n"
      ],
      "text/plain": [
       "            Estimate Std.err Wald    Pr(>|W|)\n",
       "(Intercept) 1.6721   0.3633  21.1892 0.0000  \n",
       "cni         0.0006   0.0003   2.6232 0.1053  "
      ]
     },
     "metadata": {},
     "output_type": "display_data"
    },
    {
     "name": "stdout",
     "output_type": "stream",
     "text": [
      "[1] \"crni\"\n"
     ]
    },
    {
     "data": {
      "text/html": [
       "<table>\n",
       "<thead><tr><th></th><th scope=col>Estimate</th><th scope=col>Std. Error</th><th scope=col>z value</th><th scope=col>Pr(&gt;|z|)</th></tr></thead>\n",
       "<tbody>\n",
       "\t<tr><th scope=row>(Intercept)</th><td>-12.6290</td><td>3.0668  </td><td>-4.1180 </td><td>0.0000  </td></tr>\n",
       "\t<tr><th scope=row>crni</th><td> -0.1903</td><td>1.3079  </td><td>-0.1455 </td><td>0.8843  </td></tr>\n",
       "</tbody>\n",
       "</table>\n"
      ],
      "text/latex": [
       "\\begin{tabular}{r|llll}\n",
       "  & Estimate & Std. Error & z value & Pr(>\\textbar{}z\\textbar{})\\\\\n",
       "\\hline\n",
       "\t(Intercept) & -12.6290 & 3.0668   & -4.1180  & 0.0000  \\\\\n",
       "\tcrni &  -0.1903 & 1.3079   & -0.1455  & 0.8843  \\\\\n",
       "\\end{tabular}\n"
      ],
      "text/markdown": [
       "\n",
       "| <!--/--> | Estimate | Std. Error | z value | Pr(>|z|) | \n",
       "|---|---|\n",
       "| (Intercept) | -12.6290 | 3.0668   | -4.1180  | 0.0000   | \n",
       "| crni |  -0.1903 | 1.3079   | -0.1455  | 0.8843   | \n",
       "\n",
       "\n"
      ],
      "text/plain": [
       "            Estimate Std. Error z value Pr(>|z|)\n",
       "(Intercept) -12.6290 3.0668     -4.1180 0.0000  \n",
       "crni         -0.1903 1.3079     -0.1455 0.8843  "
      ]
     },
     "metadata": {},
     "output_type": "display_data"
    },
    {
     "name": "stdout",
     "output_type": "stream",
     "text": [
      "[1] \"crni gee\"\n"
     ]
    },
    {
     "data": {
      "text/html": [
       "<table>\n",
       "<thead><tr><th></th><th scope=col>Estimate</th><th scope=col>Std.err</th><th scope=col>Wald</th><th scope=col>Pr(&gt;|W|)</th></tr></thead>\n",
       "<tbody>\n",
       "\t<tr><th scope=row>(Intercept)</th><td>1.6737 </td><td>0.3632 </td><td>21.2307</td><td>0.0000 </td></tr>\n",
       "\t<tr><th scope=row>crni</th><td>0.0014 </td><td>0.0014 </td><td> 1.0592</td><td>0.3034 </td></tr>\n",
       "</tbody>\n",
       "</table>\n"
      ],
      "text/latex": [
       "\\begin{tabular}{r|llll}\n",
       "  & Estimate & Std.err & Wald & Pr(>\\textbar{}W\\textbar{})\\\\\n",
       "\\hline\n",
       "\t(Intercept) & 1.6737  & 0.3632  & 21.2307 & 0.0000 \\\\\n",
       "\tcrni & 0.0014  & 0.0014  &  1.0592 & 0.3034 \\\\\n",
       "\\end{tabular}\n"
      ],
      "text/markdown": [
       "\n",
       "| <!--/--> | Estimate | Std.err | Wald | Pr(>|W|) | \n",
       "|---|---|\n",
       "| (Intercept) | 1.6737  | 0.3632  | 21.2307 | 0.0000  | \n",
       "| crni | 0.0014  | 0.0014  |  1.0592 | 0.3034  | \n",
       "\n",
       "\n"
      ],
      "text/plain": [
       "            Estimate Std.err Wald    Pr(>|W|)\n",
       "(Intercept) 1.6737   0.3632  21.2307 0.0000  \n",
       "crni        0.0014   0.0014   1.0592 0.3034  "
      ]
     },
     "metadata": {},
     "output_type": "display_data"
    }
   ],
   "source": [
    "print('Spec:')\n",
    "print(spec)\n",
    "print('ccri')\n",
    "ccri.glmm.fit = glmer(outcome ~ ccri + (1|t_number_y), data = recgli, family=\"binomial\")\n",
    "round(summary(ccri.glmm.fit)$coefficients, 4) \n",
    "print('ccri gee')\n",
    "ccri.gee.fit = geeglm(txe_rhgg ~ ccri, data = recgli[!is.na(recgli$ccri),], id = factor(t_number_y), family = binomial, corstr = \"exchangeable\")\n",
    "round(summary(ccri.gee.fit)$coefficients, 4)\n",
    "#########################\n",
    "print('cni')\n",
    "cni.glmm.fit = glmer(outcome ~cni + (1|t_number_y), data = recgli, family=\"binomial\")\n",
    "round(summary(cni.glmm.fit)$coefficients, 4) \n",
    "print('cni gee')\n",
    "cni.gee.fit = geeglm(txe_rhgg ~ cni, data = recgli[!is.na(recgli$cni),], id = factor(t_number_y), family = binomial, corstr = \"exchangeable\")\n",
    "round(summary(cni.gee.fit)$coefficients, 4)\n",
    "#########################\n",
    "print('crni')\n",
    "crni.glmm.fit = glmer(outcome ~ crni + (1|t_number_y), data = recgli, family=\"binomial\")\n",
    "round(summary(crni.glmm.fit)$coefficients, 4) \n",
    "print('crni gee')\n",
    "crni.gee.fit = geeglm(txe_rhgg ~ crni, data = recgli[!is.na(recgli$crni),], id = factor(t_number_y), family = binomial, corstr = \"exchangeable\")\n",
    "round(summary(crni.gee.fit)$coefficients, 4)\n",
    "#########################\n"
   ]
  },
  {
   "cell_type": "code",
   "execution_count": 41,
   "metadata": {},
   "outputs": [
    {
     "data": {
      "text/html": [
       "<table>\n",
       "<thead><tr><th></th><th scope=col>Estimate</th><th scope=col>Std. Error</th><th scope=col>z value</th><th scope=col>Pr(&gt;|z|)</th></tr></thead>\n",
       "<tbody>\n",
       "\t<tr><th scope=row>(Intercept)</th><td>-12.4239</td><td>4.0086  </td><td>-3.0994 </td><td>0.0019  </td></tr>\n",
       "\t<tr><th scope=row>ncho</th><td> -0.2398</td><td>2.4282  </td><td>-0.0988 </td><td>0.9213  </td></tr>\n",
       "</tbody>\n",
       "</table>\n"
      ],
      "text/latex": [
       "\\begin{tabular}{r|llll}\n",
       "  & Estimate & Std. Error & z value & Pr(>\\textbar{}z\\textbar{})\\\\\n",
       "\\hline\n",
       "\t(Intercept) & -12.4239 & 4.0086   & -3.0994  & 0.0019  \\\\\n",
       "\tncho &  -0.2398 & 2.4282   & -0.0988  & 0.9213  \\\\\n",
       "\\end{tabular}\n"
      ],
      "text/markdown": [
       "\n",
       "| <!--/--> | Estimate | Std. Error | z value | Pr(>|z|) | \n",
       "|---|---|\n",
       "| (Intercept) | -12.4239 | 4.0086   | -3.0994  | 0.0019   | \n",
       "| ncho |  -0.2398 | 2.4282   | -0.0988  | 0.9213   | \n",
       "\n",
       "\n"
      ],
      "text/plain": [
       "            Estimate Std. Error z value Pr(>|z|)\n",
       "(Intercept) -12.4239 4.0086     -3.0994 0.0019  \n",
       "ncho         -0.2398 2.4282     -0.0988 0.9213  "
      ]
     },
     "metadata": {},
     "output_type": "display_data"
    },
    {
     "name": "stdout",
     "output_type": "stream",
     "text": [
      "[1] \"ncho gee\"\n"
     ]
    },
    {
     "data": {
      "text/html": [
       "<table>\n",
       "<thead><tr><th></th><th scope=col>Estimate</th><th scope=col>Std.err</th><th scope=col>Wald</th><th scope=col>Pr(&gt;|W|)</th></tr></thead>\n",
       "<tbody>\n",
       "\t<tr><th scope=row>(Intercept)</th><td>1.6702 </td><td>0.3634 </td><td>21.1239</td><td>0.0000 </td></tr>\n",
       "\t<tr><th scope=row>ncho</th><td>0.0033 </td><td>0.0023 </td><td> 2.0366</td><td>0.1536 </td></tr>\n",
       "</tbody>\n",
       "</table>\n"
      ],
      "text/latex": [
       "\\begin{tabular}{r|llll}\n",
       "  & Estimate & Std.err & Wald & Pr(>\\textbar{}W\\textbar{})\\\\\n",
       "\\hline\n",
       "\t(Intercept) & 1.6702  & 0.3634  & 21.1239 & 0.0000 \\\\\n",
       "\tncho & 0.0033  & 0.0023  &  2.0366 & 0.1536 \\\\\n",
       "\\end{tabular}\n"
      ],
      "text/markdown": [
       "\n",
       "| <!--/--> | Estimate | Std.err | Wald | Pr(>|W|) | \n",
       "|---|---|\n",
       "| (Intercept) | 1.6702  | 0.3634  | 21.1239 | 0.0000  | \n",
       "| ncho | 0.0033  | 0.0023  |  2.0366 | 0.1536  | \n",
       "\n",
       "\n"
      ],
      "text/plain": [
       "            Estimate Std.err Wald    Pr(>|W|)\n",
       "(Intercept) 1.6702   0.3634  21.1239 0.0000  \n",
       "ncho        0.0033   0.0023   2.0366 0.1536  "
      ]
     },
     "metadata": {},
     "output_type": "display_data"
    },
    {
     "name": "stdout",
     "output_type": "stream",
     "text": [
      "[1] \"ncre\"\n"
     ]
    },
    {
     "data": {
      "text/html": [
       "<table>\n",
       "<thead><tr><th></th><th scope=col>Estimate</th><th scope=col>Std. Error</th><th scope=col>z value</th><th scope=col>Pr(&gt;|z|)</th></tr></thead>\n",
       "<tbody>\n",
       "\t<tr><th scope=row>(Intercept)</th><td>-12.8144</td><td>3.6655  </td><td>-3.4960 </td><td>0.0005  </td></tr>\n",
       "\t<tr><th scope=row>ncre</th><td>  0.2350</td><td>3.9008  </td><td> 0.0602 </td><td>0.9520  </td></tr>\n",
       "</tbody>\n",
       "</table>\n"
      ],
      "text/latex": [
       "\\begin{tabular}{r|llll}\n",
       "  & Estimate & Std. Error & z value & Pr(>\\textbar{}z\\textbar{})\\\\\n",
       "\\hline\n",
       "\t(Intercept) & -12.8144 & 3.6655   & -3.4960  & 0.0005  \\\\\n",
       "\tncre &   0.2350 & 3.9008   &  0.0602  & 0.9520  \\\\\n",
       "\\end{tabular}\n"
      ],
      "text/markdown": [
       "\n",
       "| <!--/--> | Estimate | Std. Error | z value | Pr(>|z|) | \n",
       "|---|---|\n",
       "| (Intercept) | -12.8144 | 3.6655   | -3.4960  | 0.0005   | \n",
       "| ncre |   0.2350 | 3.9008   |  0.0602  | 0.9520   | \n",
       "\n",
       "\n"
      ],
      "text/plain": [
       "            Estimate Std. Error z value Pr(>|z|)\n",
       "(Intercept) -12.8144 3.6655     -3.4960 0.0005  \n",
       "ncre          0.2350 3.9008      0.0602 0.9520  "
      ]
     },
     "metadata": {},
     "output_type": "display_data"
    },
    {
     "name": "stdout",
     "output_type": "stream",
     "text": [
      "[1] \"ncre gee\"\n"
     ]
    },
    {
     "data": {
      "text/html": [
       "<table>\n",
       "<thead><tr><th></th><th scope=col>Estimate</th><th scope=col>Std.err</th><th scope=col>Wald</th><th scope=col>Pr(&gt;|W|)</th></tr></thead>\n",
       "<tbody>\n",
       "\t<tr><th scope=row>(Intercept)</th><td> 1.6747</td><td>0.3632 </td><td>21.2562</td><td>0.000  </td></tr>\n",
       "\t<tr><th scope=row>ncre</th><td>-0.0014</td><td>0.0029 </td><td> 0.2148</td><td>0.643  </td></tr>\n",
       "</tbody>\n",
       "</table>\n"
      ],
      "text/latex": [
       "\\begin{tabular}{r|llll}\n",
       "  & Estimate & Std.err & Wald & Pr(>\\textbar{}W\\textbar{})\\\\\n",
       "\\hline\n",
       "\t(Intercept) &  1.6747 & 0.3632  & 21.2562 & 0.000  \\\\\n",
       "\tncre & -0.0014 & 0.0029  &  0.2148 & 0.643  \\\\\n",
       "\\end{tabular}\n"
      ],
      "text/markdown": [
       "\n",
       "| <!--/--> | Estimate | Std.err | Wald | Pr(>|W|) | \n",
       "|---|---|\n",
       "| (Intercept) |  1.6747 | 0.3632  | 21.2562 | 0.000   | \n",
       "| ncre | -0.0014 | 0.0029  |  0.2148 | 0.643   | \n",
       "\n",
       "\n"
      ],
      "text/plain": [
       "            Estimate Std.err Wald    Pr(>|W|)\n",
       "(Intercept)  1.6747  0.3632  21.2562 0.000   \n",
       "ncre        -0.0014  0.0029   0.2148 0.643   "
      ]
     },
     "metadata": {},
     "output_type": "display_data"
    }
   ],
   "source": [
    "ncho.glmm.fit = glmer(outcome ~ ncho + (1|t_number_y), data = recgli, family=\"binomial\")\n",
    "round(summary(ncho.glmm.fit)$coefficients, 4) \n",
    "print('ncho gee')\n",
    "ncho.gee.fit = geeglm(txe_rhgg ~ ncho, data = recgli[!is.na(recgli$ncho),], id = factor(t_number_y), family = binomial, corstr = \"exchangeable\")\n",
    "round(summary(ncho.gee.fit)$coefficients, 4)\n",
    "#########################\n",
    "print('ncre')\n",
    "ncre.glmm.fit = glmer(outcome ~ncre + (1|t_number_y), data = recgli, family=\"binomial\")\n",
    "round(summary(ncre.glmm.fit)$coefficients, 4) \n",
    "print('ncre gee')\n",
    "ncre.gee.fit = geeglm(txe_rhgg ~ ncre, data = recgli[!is.na(recgli$ncre),], id = factor(t_number_y), family = binomial, corstr = \"exchangeable\")\n",
    "round(summary(ncre.gee.fit)$coefficients, 4)\n",
    "#########################\n",
    "\n"
   ]
  },
  {
   "cell_type": "code",
   "execution_count": 42,
   "metadata": {
    "scrolled": true
   },
   "outputs": [
    {
     "name": "stdout",
     "output_type": "stream",
     "text": [
      "[1] \"nnaa\"\n",
      "[1] \"nnaa gee\"\n"
     ]
    },
    {
     "data": {
      "text/plain": [
       "   Min. 1st Qu.  Median    Mean 3rd Qu.    Max. \n",
       "-0.1300  0.1375  0.2600  0.2949  0.4325  0.8900 "
      ]
     },
     "metadata": {},
     "output_type": "display_data"
    },
    {
     "data": {
      "text/html": [
       "<table>\n",
       "<thead><tr><th></th><th scope=col>Estimate</th><th scope=col>Std.err</th><th scope=col>Wald</th><th scope=col>Pr(&gt;|W|)</th></tr></thead>\n",
       "<tbody>\n",
       "\t<tr><th scope=row>(Intercept)</th><td>1.7753 </td><td>0.3847 </td><td>21.2944</td><td>0.0000 </td></tr>\n",
       "\t<tr><th scope=row>nnaa</th><td>0.0585 </td><td>0.1716 </td><td> 0.1164</td><td>0.7329 </td></tr>\n",
       "</tbody>\n",
       "</table>\n"
      ],
      "text/latex": [
       "\\begin{tabular}{r|llll}\n",
       "  & Estimate & Std.err & Wald & Pr(>\\textbar{}W\\textbar{})\\\\\n",
       "\\hline\n",
       "\t(Intercept) & 1.7753  & 0.3847  & 21.2944 & 0.0000 \\\\\n",
       "\tnnaa & 0.0585  & 0.1716  &  0.1164 & 0.7329 \\\\\n",
       "\\end{tabular}\n"
      ],
      "text/markdown": [
       "\n",
       "| <!--/--> | Estimate | Std.err | Wald | Pr(>|W|) | \n",
       "|---|---|\n",
       "| (Intercept) | 1.7753  | 0.3847  | 21.2944 | 0.0000  | \n",
       "| nnaa | 0.0585  | 0.1716  |  0.1164 | 0.7329  | \n",
       "\n",
       "\n"
      ],
      "text/plain": [
       "            Estimate Std.err Wald    Pr(>|W|)\n",
       "(Intercept) 1.7753   0.3847  21.2944 0.0000  \n",
       "nnaa        0.0585   0.1716   0.1164 0.7329  "
      ]
     },
     "metadata": {},
     "output_type": "display_data"
    }
   ],
   "source": [
    "print('nnaa')\n",
    "# nnaa.glmm.fit = glmer(outcome ~ nnaa + (1|t_number_y), data = recgli[which(recgli$nnaa > 1),], family=\"binomial\")\n",
    "# round(summary(nnaa.glmm.fit)$coefficients, 4) \n",
    "print('nnaa gee')\n",
    "recgli_nnaa = recgli[which((!is.na(recgli$nnaa)) & recgli$nnaa<1), ]\n",
    "summary(recgli_nnaa$nnaa)\n",
    "nnaa.gee.fit = geeglm(txe_rhgg ~ nnaa, data = recgli_nnaa, id = factor(t_number_y), family = binomial, corstr = \"exchangeable\")\n",
    "round(summary(nnaa.gee.fit)$coefficients, 4)\n",
    "#########################"
   ]
  },
  {
   "cell_type": "code",
   "execution_count": 37,
   "metadata": {},
   "outputs": [
    {
     "data": {
      "text/html": [
       "<table>\n",
       "<thead><tr><th></th><th scope=col>vialid</th><th scope=col>b_number</th><th scope=col>t_number_x</th><th scope=col>t_number_y</th><th scope=col>sf_number</th><th scope=col>current_scan_date</th><th scope=col>current_surgery_date</th><th scope=col>current_hist_grade</th><th scope=col>current_hist_type</th><th scope=col>tumor_cell_evaluation</th><th scope=col>⋯</th><th scope=col>include_diffu1000</th><th scope=col>include_diffu2000</th><th scope=col>exclude_histology</th><th scope=col>txe_comments</th><th scope=col>outcome</th><th scope=col>in_CEL</th><th scope=col>in_T2all</th><th scope=col>in_NEL</th><th scope=col>CELorNEL</th><th scope=col>txe_rhgg</th></tr></thead>\n",
       "<tbody>\n",
       "\t<tr><th scope=row>10</th><td>68B91           </td><td>4205            </td><td>t10756          </td><td>10756           </td><td>11017           </td><td>10/11/16        </td><td>10/12/16        </td><td>Treatment Effect</td><td>Treatment Effect</td><td>0               </td><td>⋯               </td><td>1               </td><td>1               </td><td>NA              </td><td>True            </td><td>txe             </td><td>0               </td><td>1               </td><td>1               </td><td>NEL             </td><td>0               </td></tr>\n",
       "\t<tr><th scope=row>32</th><td>12D1            </td><td>3737            </td><td>t11482          </td><td>11482           </td><td>11334           </td><td>6/27/17         </td><td>6/28/17         </td><td>Grade III       </td><td>Astrocytoma     </td><td>3               </td><td>⋯               </td><td>1               </td><td>1               </td><td>NA              </td><td>                </td><td>rHGG            </td><td>0               </td><td>1               </td><td>1               </td><td>NEL             </td><td>1               </td></tr>\n",
       "\t<tr><th scope=row>56</th><td>5B26            </td><td>2671            </td><td>t6218           </td><td> 6218           </td><td> 8057           </td><td>6/28/09         </td><td>6/29/09         </td><td>Treatment Effect</td><td>Treatment Effect</td><td>2               </td><td>⋯               </td><td>1               </td><td>1               </td><td>NA              </td><td>True            </td><td>rHGG            </td><td>0               </td><td>1               </td><td>1               </td><td>NEL             </td><td>1               </td></tr>\n",
       "\t<tr><th scope=row>145</th><td>41D3            </td><td>4298            </td><td>                </td><td>11412           </td><td>11291           </td><td>5/16/17         </td><td>5/17/17         </td><td>Grade III       </td><td>Astrocytoma     </td><td>3               </td><td>⋯               </td><td>1               </td><td>1               </td><td>NA              </td><td>False           </td><td>rHGG            </td><td>0               </td><td>1               </td><td>1               </td><td>NEL             </td><td>1               </td></tr>\n",
       "</tbody>\n",
       "</table>\n"
      ],
      "text/latex": [
       "\\begin{tabular}{r|llllllllllllllllllllllllllllllllllllllllllllllllllllllllllllllllllllllllllll}\n",
       "  & vialid & b\\_number & t\\_number\\_x & t\\_number\\_y & sf\\_number & current\\_scan\\_date & current\\_surgery\\_date & current\\_hist\\_grade & current\\_hist\\_type & tumor\\_cell\\_evaluation & ⋯ & include\\_diffu1000 & include\\_diffu2000 & exclude\\_histology & txe\\_comments & outcome & in\\_CEL & in\\_T2all & in\\_NEL & CELorNEL & txe\\_rhgg\\\\\n",
       "\\hline\n",
       "\t10 & 68B91            & 4205             & t10756           & 10756            & 11017            & 10/11/16         & 10/12/16         & Treatment Effect & Treatment Effect & 0                & ⋯                & 1                & 1                & NA               & True             & txe              & 0                & 1                & 1                & NEL              & 0               \\\\\n",
       "\t32 & 12D1             & 3737             & t11482           & 11482            & 11334            & 6/27/17          & 6/28/17          & Grade III        & Astrocytoma      & 3                & ⋯                & 1                & 1                & NA               &                  & rHGG             & 0                & 1                & 1                & NEL              & 1               \\\\\n",
       "\t56 & 5B26             & 2671             & t6218            &  6218            &  8057            & 6/28/09          & 6/29/09          & Treatment Effect & Treatment Effect & 2                & ⋯                & 1                & 1                & NA               & True             & rHGG             & 0                & 1                & 1                & NEL              & 1               \\\\\n",
       "\t145 & 41D3             & 4298             &                  & 11412            & 11291            & 5/16/17          & 5/17/17          & Grade III        & Astrocytoma      & 3                & ⋯                & 1                & 1                & NA               & False            & rHGG             & 0                & 1                & 1                & NEL              & 1               \\\\\n",
       "\\end{tabular}\n"
      ],
      "text/markdown": [
       "\n",
       "| <!--/--> | vialid | b_number | t_number_x | t_number_y | sf_number | current_scan_date | current_surgery_date | current_hist_grade | current_hist_type | tumor_cell_evaluation | ⋯ | include_diffu1000 | include_diffu2000 | exclude_histology | txe_comments | outcome | in_CEL | in_T2all | in_NEL | CELorNEL | txe_rhgg | \n",
       "|---|---|---|---|\n",
       "| 10 | 68B91            | 4205             | t10756           | 10756            | 11017            | 10/11/16         | 10/12/16         | Treatment Effect | Treatment Effect | 0                | ⋯                | 1                | 1                | NA               | True             | txe              | 0                | 1                | 1                | NEL              | 0                | \n",
       "| 32 | 12D1             | 3737             | t11482           | 11482            | 11334            | 6/27/17          | 6/28/17          | Grade III        | Astrocytoma      | 3                | ⋯                | 1                | 1                | NA               |                  | rHGG             | 0                | 1                | 1                | NEL              | 1                | \n",
       "| 56 | 5B26             | 2671             | t6218            |  6218            |  8057            | 6/28/09          | 6/29/09          | Treatment Effect | Treatment Effect | 2                | ⋯                | 1                | 1                | NA               | True             | rHGG             | 0                | 1                | 1                | NEL              | 1                | \n",
       "| 145 | 41D3             | 4298             |                  | 11412            | 11291            | 5/16/17          | 5/17/17          | Grade III        | Astrocytoma      | 3                | ⋯                | 1                | 1                | NA               | False            | rHGG             | 0                | 1                | 1                | NEL              | 1                | \n",
       "\n",
       "\n"
      ],
      "text/plain": [
       "    vialid b_number t_number_x t_number_y sf_number current_scan_date\n",
       "10  68B91  4205     t10756     10756      11017     10/11/16         \n",
       "32  12D1   3737     t11482     11482      11334     6/27/17          \n",
       "56  5B26   2671     t6218       6218       8057     6/28/09          \n",
       "145 41D3   4298                11412      11291     5/16/17          \n",
       "    current_surgery_date current_hist_grade current_hist_type\n",
       "10  10/12/16             Treatment Effect   Treatment Effect \n",
       "32  6/28/17              Grade III          Astrocytoma      \n",
       "56  6/29/09              Treatment Effect   Treatment Effect \n",
       "145 5/17/17              Grade III          Astrocytoma      \n",
       "    tumor_cell_evaluation ⋯ include_diffu1000 include_diffu2000\n",
       "10  0                     ⋯ 1                 1                \n",
       "32  3                     ⋯ 1                 1                \n",
       "56  2                     ⋯ 1                 1                \n",
       "145 3                     ⋯ 1                 1                \n",
       "    exclude_histology txe_comments outcome in_CEL in_T2all in_NEL CELorNEL\n",
       "10  NA                True         txe     0      1        1      NEL     \n",
       "32  NA                             rHGG    0      1        1      NEL     \n",
       "56  NA                True         rHGG    0      1        1      NEL     \n",
       "145 NA                False        rHGG    0      1        1      NEL     \n",
       "    txe_rhgg\n",
       "10  0       \n",
       "32  1       \n",
       "56  1       \n",
       "145 1       "
      ]
     },
     "metadata": {},
     "output_type": "display_data"
    }
   ],
   "source": [
    "recgli[which(recgli$nnaa > 1),]"
   ]
  },
  {
   "cell_type": "code",
   "execution_count": 38,
   "metadata": {},
   "outputs": [
    {
     "name": "stdout",
     "output_type": "stream",
     "text": [
      "[1] \"nlac \"\n"
     ]
    },
    {
     "data": {
      "text/html": [
       "<table>\n",
       "<thead><tr><th></th><th scope=col>Estimate</th><th scope=col>Std. Error</th><th scope=col>z value</th><th scope=col>Pr(&gt;|z|)</th></tr></thead>\n",
       "<tbody>\n",
       "\t<tr><th scope=row>(Intercept)</th><td>-9.2841</td><td>2.3972 </td><td>-3.8729</td><td>0.0001 </td></tr>\n",
       "\t<tr><th scope=row>nlac</th><td> 1.0045</td><td>3.2563 </td><td> 0.3085</td><td>0.7577 </td></tr>\n",
       "</tbody>\n",
       "</table>\n"
      ],
      "text/latex": [
       "\\begin{tabular}{r|llll}\n",
       "  & Estimate & Std. Error & z value & Pr(>\\textbar{}z\\textbar{})\\\\\n",
       "\\hline\n",
       "\t(Intercept) & -9.2841 & 2.3972  & -3.8729 & 0.0001 \\\\\n",
       "\tnlac &  1.0045 & 3.2563  &  0.3085 & 0.7577 \\\\\n",
       "\\end{tabular}\n"
      ],
      "text/markdown": [
       "\n",
       "| <!--/--> | Estimate | Std. Error | z value | Pr(>|z|) | \n",
       "|---|---|\n",
       "| (Intercept) | -9.2841 | 2.3972  | -3.8729 | 0.0001  | \n",
       "| nlac |  1.0045 | 3.2563  |  0.3085 | 0.7577  | \n",
       "\n",
       "\n"
      ],
      "text/plain": [
       "            Estimate Std. Error z value Pr(>|z|)\n",
       "(Intercept) -9.2841  2.3972     -3.8729 0.0001  \n",
       "nlac         1.0045  3.2563      0.3085 0.7577  "
      ]
     },
     "metadata": {},
     "output_type": "display_data"
    },
    {
     "name": "stdout",
     "output_type": "stream",
     "text": [
      "[1] \"nlac gee\"\n"
     ]
    },
    {
     "data": {
      "text/html": [
       "<table>\n",
       "<thead><tr><th></th><th scope=col>Estimate</th><th scope=col>Std.err</th><th scope=col>Wald</th><th scope=col>Pr(&gt;|W|)</th></tr></thead>\n",
       "<tbody>\n",
       "\t<tr><th scope=row>(Intercept)</th><td> 1.5580</td><td>0.4748 </td><td>10.7685</td><td>0.0010 </td></tr>\n",
       "\t<tr><th scope=row>nlac</th><td>-0.7705</td><td>0.7607 </td><td> 1.0258</td><td>0.3112 </td></tr>\n",
       "</tbody>\n",
       "</table>\n"
      ],
      "text/latex": [
       "\\begin{tabular}{r|llll}\n",
       "  & Estimate & Std.err & Wald & Pr(>\\textbar{}W\\textbar{})\\\\\n",
       "\\hline\n",
       "\t(Intercept) &  1.5580 & 0.4748  & 10.7685 & 0.0010 \\\\\n",
       "\tnlac & -0.7705 & 0.7607  &  1.0258 & 0.3112 \\\\\n",
       "\\end{tabular}\n"
      ],
      "text/markdown": [
       "\n",
       "| <!--/--> | Estimate | Std.err | Wald | Pr(>|W|) | \n",
       "|---|---|\n",
       "| (Intercept) |  1.5580 | 0.4748  | 10.7685 | 0.0010  | \n",
       "| nlac | -0.7705 | 0.7607  |  1.0258 | 0.3112  | \n",
       "\n",
       "\n"
      ],
      "text/plain": [
       "            Estimate Std.err Wald    Pr(>|W|)\n",
       "(Intercept)  1.5580  0.4748  10.7685 0.0010  \n",
       "nlac        -0.7705  0.7607   1.0258 0.3112  "
      ]
     },
     "metadata": {},
     "output_type": "display_data"
    },
    {
     "name": "stdout",
     "output_type": "stream",
     "text": [
      "[1] \"nlip\"\n"
     ]
    },
    {
     "data": {
      "text/html": [
       "<table>\n",
       "<thead><tr><th></th><th scope=col>Estimate</th><th scope=col>Std. Error</th><th scope=col>z value</th><th scope=col>Pr(&gt;|z|)</th></tr></thead>\n",
       "<tbody>\n",
       "\t<tr><th scope=row>(Intercept)</th><td>-8.9210</td><td>2.0220 </td><td>-4.4120</td><td>0.0000 </td></tr>\n",
       "\t<tr><th scope=row>nlip</th><td>-0.0027</td><td>0.1215 </td><td>-0.0218</td><td>0.9826 </td></tr>\n",
       "</tbody>\n",
       "</table>\n"
      ],
      "text/latex": [
       "\\begin{tabular}{r|llll}\n",
       "  & Estimate & Std. Error & z value & Pr(>\\textbar{}z\\textbar{})\\\\\n",
       "\\hline\n",
       "\t(Intercept) & -8.9210 & 2.0220  & -4.4120 & 0.0000 \\\\\n",
       "\tnlip & -0.0027 & 0.1215  & -0.0218 & 0.9826 \\\\\n",
       "\\end{tabular}\n"
      ],
      "text/markdown": [
       "\n",
       "| <!--/--> | Estimate | Std. Error | z value | Pr(>|z|) | \n",
       "|---|---|\n",
       "| (Intercept) | -8.9210 | 2.0220  | -4.4120 | 0.0000  | \n",
       "| nlip | -0.0027 | 0.1215  | -0.0218 | 0.9826  | \n",
       "\n",
       "\n"
      ],
      "text/plain": [
       "            Estimate Std. Error z value Pr(>|z|)\n",
       "(Intercept) -8.9210  2.0220     -4.4120 0.0000  \n",
       "nlip        -0.0027  0.1215     -0.0218 0.9826  "
      ]
     },
     "metadata": {},
     "output_type": "display_data"
    },
    {
     "name": "stdout",
     "output_type": "stream",
     "text": [
      "[1] \"nlip gee\"\n"
     ]
    },
    {
     "data": {
      "text/html": [
       "<table>\n",
       "<thead><tr><th></th><th scope=col>Estimate</th><th scope=col>Std.err</th><th scope=col>Wald</th><th scope=col>Pr(&gt;|W|)</th></tr></thead>\n",
       "<tbody>\n",
       "\t<tr><th scope=row>(Intercept)</th><td> 1.2185</td><td>0.3343 </td><td>13.2897</td><td>0.0003 </td></tr>\n",
       "\t<tr><th scope=row>nlip</th><td>-0.0008</td><td>0.0328 </td><td> 0.0005</td><td>0.9815 </td></tr>\n",
       "</tbody>\n",
       "</table>\n"
      ],
      "text/latex": [
       "\\begin{tabular}{r|llll}\n",
       "  & Estimate & Std.err & Wald & Pr(>\\textbar{}W\\textbar{})\\\\\n",
       "\\hline\n",
       "\t(Intercept) &  1.2185 & 0.3343  & 13.2897 & 0.0003 \\\\\n",
       "\tnlip & -0.0008 & 0.0328  &  0.0005 & 0.9815 \\\\\n",
       "\\end{tabular}\n"
      ],
      "text/markdown": [
       "\n",
       "| <!--/--> | Estimate | Std.err | Wald | Pr(>|W|) | \n",
       "|---|---|\n",
       "| (Intercept) |  1.2185 | 0.3343  | 13.2897 | 0.0003  | \n",
       "| nlip | -0.0008 | 0.0328  |  0.0005 | 0.9815  | \n",
       "\n",
       "\n"
      ],
      "text/plain": [
       "            Estimate Std.err Wald    Pr(>|W|)\n",
       "(Intercept)  1.2185  0.3343  13.2897 0.0003  \n",
       "nlip        -0.0008  0.0328   0.0005 0.9815  "
      ]
     },
     "metadata": {},
     "output_type": "display_data"
    },
    {
     "name": "stdout",
     "output_type": "stream",
     "text": [
      "[1] \"nLL\"\n"
     ]
    },
    {
     "data": {
      "text/html": [
       "<table>\n",
       "<thead><tr><th></th><th scope=col>Estimate</th><th scope=col>Std. Error</th><th scope=col>z value</th><th scope=col>Pr(&gt;|z|)</th></tr></thead>\n",
       "<tbody>\n",
       "\t<tr><th scope=row>(Intercept)</th><td>-8.9255</td><td>2.0256 </td><td>-4.4064</td><td>0.0000 </td></tr>\n",
       "\t<tr><th scope=row>nLL</th><td>-0.0014</td><td>0.1183 </td><td>-0.0117</td><td>0.9907 </td></tr>\n",
       "</tbody>\n",
       "</table>\n"
      ],
      "text/latex": [
       "\\begin{tabular}{r|llll}\n",
       "  & Estimate & Std. Error & z value & Pr(>\\textbar{}z\\textbar{})\\\\\n",
       "\\hline\n",
       "\t(Intercept) & -8.9255 & 2.0256  & -4.4064 & 0.0000 \\\\\n",
       "\tnLL & -0.0014 & 0.1183  & -0.0117 & 0.9907 \\\\\n",
       "\\end{tabular}\n"
      ],
      "text/markdown": [
       "\n",
       "| <!--/--> | Estimate | Std. Error | z value | Pr(>|z|) | \n",
       "|---|---|\n",
       "| (Intercept) | -8.9255 | 2.0256  | -4.4064 | 0.0000  | \n",
       "| nLL | -0.0014 | 0.1183  | -0.0117 | 0.9907  | \n",
       "\n",
       "\n"
      ],
      "text/plain": [
       "            Estimate Std. Error z value Pr(>|z|)\n",
       "(Intercept) -8.9255  2.0256     -4.4064 0.0000  \n",
       "nLL         -0.0014  0.1183     -0.0117 0.9907  "
      ]
     },
     "metadata": {},
     "output_type": "display_data"
    },
    {
     "name": "stdout",
     "output_type": "stream",
     "text": [
      "[1] \"nLL gee\"\n"
     ]
    },
    {
     "data": {
      "text/html": [
       "<table>\n",
       "<thead><tr><th></th><th scope=col>Estimate</th><th scope=col>Std.err</th><th scope=col>Wald</th><th scope=col>Pr(&gt;|W|)</th></tr></thead>\n",
       "<tbody>\n",
       "\t<tr><th scope=row>(Intercept)</th><td> 1.2229</td><td>0.3356 </td><td>13.2776</td><td>0.0003 </td></tr>\n",
       "\t<tr><th scope=row>nLL</th><td>-0.0017</td><td>0.0321 </td><td> 0.0029</td><td>0.9570 </td></tr>\n",
       "</tbody>\n",
       "</table>\n"
      ],
      "text/latex": [
       "\\begin{tabular}{r|llll}\n",
       "  & Estimate & Std.err & Wald & Pr(>\\textbar{}W\\textbar{})\\\\\n",
       "\\hline\n",
       "\t(Intercept) &  1.2229 & 0.3356  & 13.2776 & 0.0003 \\\\\n",
       "\tnLL & -0.0017 & 0.0321  &  0.0029 & 0.9570 \\\\\n",
       "\\end{tabular}\n"
      ],
      "text/markdown": [
       "\n",
       "| <!--/--> | Estimate | Std.err | Wald | Pr(>|W|) | \n",
       "|---|---|\n",
       "| (Intercept) |  1.2229 | 0.3356  | 13.2776 | 0.0003  | \n",
       "| nLL | -0.0017 | 0.0321  |  0.0029 | 0.9570  | \n",
       "\n",
       "\n"
      ],
      "text/plain": [
       "            Estimate Std.err Wald    Pr(>|W|)\n",
       "(Intercept)  1.2229  0.3356  13.2776 0.0003  \n",
       "nLL         -0.0017  0.0321   0.0029 0.9570  "
      ]
     },
     "metadata": {},
     "output_type": "display_data"
    }
   ],
   "source": [
    "print('nlac ')\n",
    "nlac.glmm.fit = glmer(outcome ~ nlac + (1|t_number_y), data = recgli, family=\"binomial\")\n",
    "round(summary(nlac.glmm.fit)$coefficients, 4) \n",
    "print('nlac gee')\n",
    "nlac.gee.fit = geeglm(txe_rhgg ~ nlac, data = recgli[!is.na(recgli$nlac),], id = factor(t_number_y), family = binomial, corstr = \"exchangeable\")\n",
    "round(summary(nlac.gee.fit)$coefficients, 4)\n",
    "#########################\n",
    "print('nlip')\n",
    "nlip.glmm.fit = glmer(outcome ~nlip + (1|t_number_y), data = recgli, family=\"binomial\")\n",
    "round(summary(nlip.glmm.fit)$coefficients, 4) \n",
    "print('nlip gee')\n",
    "nlip.gee.fit = geeglm(txe_rhgg ~ nlip, data = recgli[!is.na(recgli$nlip),], id = factor(t_number_y), family = binomial, corstr = \"exchangeable\")\n",
    "round(summary(nlip.gee.fit)$coefficients, 4)\n",
    "#########################\n",
    "print('nLL')\n",
    "nLL.glmm.fit = glmer(outcome ~ nLL + (1|t_number_y), data = recgli, family=\"binomial\")\n",
    "round(summary(nLL.glmm.fit)$coefficients, 4) \n",
    "print('nLL gee')\n",
    "nLL.gee.fit = geeglm(txe_rhgg ~ nLL, data = recgli[!is.na(recgli$nLL),], id = factor(t_number_y), family = binomial, corstr = \"exchangeable\")\n",
    "round(summary(nLL.gee.fit)$coefficients, 4)\n",
    "#########################\n"
   ]
  },
  {
   "cell_type": "markdown",
   "metadata": {},
   "source": [
    "## Third  -- ML: We have 97 patients w/ 207 samples\n",
    "### Our goal is to maximize the specificity of detection of 0's "
   ]
  },
  {
   "cell_type": "code",
   "execution_count": 39,
   "metadata": {},
   "outputs": [
    {
     "data": {
      "text/html": [
       "<dl class=dl-horizontal>\n",
       "\t<dt>vialid</dt>\n",
       "\t\t<dd>0</dd>\n",
       "\t<dt>b_number</dt>\n",
       "\t\t<dd>0</dd>\n",
       "\t<dt>t_number_x</dt>\n",
       "\t\t<dd>0</dd>\n",
       "\t<dt>t_number_y</dt>\n",
       "\t\t<dd>0</dd>\n",
       "\t<dt>sf_number</dt>\n",
       "\t\t<dd>0</dd>\n",
       "\t<dt>current_scan_date</dt>\n",
       "\t\t<dd>0</dd>\n",
       "\t<dt>current_surgery_date</dt>\n",
       "\t\t<dd>0</dd>\n",
       "\t<dt>current_hist_grade</dt>\n",
       "\t\t<dd>0</dd>\n",
       "\t<dt>current_hist_type</dt>\n",
       "\t\t<dd>0</dd>\n",
       "\t<dt>tumor_cell_evaluation</dt>\n",
       "\t\t<dd>0</dd>\n",
       "\t<dt>necrosis</dt>\n",
       "\t\t<dd>0</dd>\n",
       "\t<dt>mv_hyperplasia</dt>\n",
       "\t\t<dd>0</dd>\n",
       "\t<dt>mv_delicate_vasculature</dt>\n",
       "\t\t<dd>92</dd>\n",
       "\t<dt>f8_delicate</dt>\n",
       "\t\t<dd>0</dd>\n",
       "\t<dt>f8_simple</dt>\n",
       "\t\t<dd>0</dd>\n",
       "\t<dt>f8_complex</dt>\n",
       "\t\t<dd>0</dd>\n",
       "\t<dt>mib_1</dt>\n",
       "\t\t<dd>2</dd>\n",
       "\t<dt>avgerage_cells</dt>\n",
       "\t\t<dd>3</dd>\n",
       "\t<dt>treatment_related_ab</dt>\n",
       "\t\t<dd>95</dd>\n",
       "\t<dt>bx_pure_treatment_effect</dt>\n",
       "\t\t<dd>0</dd>\n",
       "\t<dt>percent_tumor_nuclei</dt>\n",
       "\t\t<dd>38</dd>\n",
       "\t<dt>nfl</dt>\n",
       "\t\t<dd>0</dd>\n",
       "\t<dt>nfse</dt>\n",
       "\t\t<dd>0</dd>\n",
       "\t<dt>nt1c</dt>\n",
       "\t\t<dd>0</dd>\n",
       "\t<dt>nt1v</dt>\n",
       "\t\t<dd>10</dd>\n",
       "\t<dt>nt1d</dt>\n",
       "\t\t<dd>10</dd>\n",
       "\t<dt>nadc.1</dt>\n",
       "\t\t<dd>7</dd>\n",
       "\t<dt>nfa.1</dt>\n",
       "\t\t<dd>7</dd>\n",
       "\t<dt>nev1.1</dt>\n",
       "\t\t<dd>14</dd>\n",
       "\t<dt>nev2.1</dt>\n",
       "\t\t<dd>14</dd>\n",
       "\t<dt>nev3.1</dt>\n",
       "\t\t<dd>14</dd>\n",
       "\t<dt>nevrad.1</dt>\n",
       "\t\t<dd>14</dd>\n",
       "\t<dt>nadc.2</dt>\n",
       "\t\t<dd>21</dd>\n",
       "\t<dt>nfa.2</dt>\n",
       "\t\t<dd>21</dd>\n",
       "\t<dt>nev1.2</dt>\n",
       "\t\t<dd>37</dd>\n",
       "\t<dt>nev2.2</dt>\n",
       "\t\t<dd>37</dd>\n",
       "\t<dt>nev3.2</dt>\n",
       "\t\t<dd>37</dd>\n",
       "\t<dt>nevrad.2</dt>\n",
       "\t\t<dd>37</dd>\n",
       "\t<dt>cbvn_nlin</dt>\n",
       "\t\t<dd>39</dd>\n",
       "\t<dt>phn_nlin</dt>\n",
       "\t\t<dd>39</dd>\n",
       "\t<dt>recov_nlin</dt>\n",
       "\t\t<dd>39</dd>\n",
       "\t<dt>phn_npar</dt>\n",
       "\t\t<dd>39</dd>\n",
       "\t<dt>recov_npar</dt>\n",
       "\t\t<dd>39</dd>\n",
       "\t<dt>recovn_npar</dt>\n",
       "\t\t<dd>68</dd>\n",
       "\t<dt>ccri</dt>\n",
       "\t\t<dd>53</dd>\n",
       "\t<dt>cni</dt>\n",
       "\t\t<dd>53</dd>\n",
       "\t<dt>crni</dt>\n",
       "\t\t<dd>53</dd>\n",
       "\t<dt>ncho</dt>\n",
       "\t\t<dd>53</dd>\n",
       "\t<dt>ncre</dt>\n",
       "\t\t<dd>53</dd>\n",
       "\t<dt>nnaa</dt>\n",
       "\t\t<dd>53</dd>\n",
       "\t<dt>nlac</dt>\n",
       "\t\t<dd>53</dd>\n",
       "\t<dt>nlip</dt>\n",
       "\t\t<dd>53</dd>\n",
       "\t<dt>newdata</dt>\n",
       "\t\t<dd>0</dd>\n",
       "\t<dt>olddata</dt>\n",
       "\t\t<dd>0</dd>\n",
       "\t<dt>exclude_bc_hematoma_or_ventricle</dt>\n",
       "\t\t<dd>35</dd>\n",
       "\t<dt>exclude_perf</dt>\n",
       "\t\t<dd>35</dd>\n",
       "\t<dt>nLL</dt>\n",
       "\t\t<dd>53</dd>\n",
       "\t<dt>comments</dt>\n",
       "\t\t<dd>0</dd>\n",
       "\t<dt>perf_quant</dt>\n",
       "\t\t<dd>0</dd>\n",
       "\t<dt>include_perf</dt>\n",
       "\t\t<dd>78</dd>\n",
       "\t<dt>spec_quant</dt>\n",
       "\t\t<dd>0</dd>\n",
       "\t<dt>include_spec</dt>\n",
       "\t\t<dd>0</dd>\n",
       "\t<dt>diffu1000_quant</dt>\n",
       "\t\t<dd>0</dd>\n",
       "\t<dt>diffu2000_quant</dt>\n",
       "\t\t<dd>0</dd>\n",
       "\t<dt>exclude_bc_anat</dt>\n",
       "\t\t<dd>120</dd>\n",
       "\t<dt>exclude_bc_pathology</dt>\n",
       "\t\t<dd>120</dd>\n",
       "\t<dt>include_diffu1000</dt>\n",
       "\t\t<dd>0</dd>\n",
       "\t<dt>include_diffu2000</dt>\n",
       "\t\t<dd>0</dd>\n",
       "\t<dt>exclude_histology</dt>\n",
       "\t\t<dd>120</dd>\n",
       "\t<dt>txe_comments</dt>\n",
       "\t\t<dd>0</dd>\n",
       "\t<dt>outcome</dt>\n",
       "\t\t<dd>0</dd>\n",
       "\t<dt>in_CEL</dt>\n",
       "\t\t<dd>0</dd>\n",
       "\t<dt>in_T2all</dt>\n",
       "\t\t<dd>0</dd>\n",
       "\t<dt>in_NEL</dt>\n",
       "\t\t<dd>0</dd>\n",
       "\t<dt>CELorNEL</dt>\n",
       "\t\t<dd>0</dd>\n",
       "\t<dt>txe_rhgg</dt>\n",
       "\t\t<dd>0</dd>\n",
       "</dl>\n"
      ],
      "text/latex": [
       "\\begin{description*}\n",
       "\\item[vialid] 0\n",
       "\\item[b\\textbackslash{}\\_number] 0\n",
       "\\item[t\\textbackslash{}\\_number\\textbackslash{}\\_x] 0\n",
       "\\item[t\\textbackslash{}\\_number\\textbackslash{}\\_y] 0\n",
       "\\item[sf\\textbackslash{}\\_number] 0\n",
       "\\item[current\\textbackslash{}\\_scan\\textbackslash{}\\_date] 0\n",
       "\\item[current\\textbackslash{}\\_surgery\\textbackslash{}\\_date] 0\n",
       "\\item[current\\textbackslash{}\\_hist\\textbackslash{}\\_grade] 0\n",
       "\\item[current\\textbackslash{}\\_hist\\textbackslash{}\\_type] 0\n",
       "\\item[tumor\\textbackslash{}\\_cell\\textbackslash{}\\_evaluation] 0\n",
       "\\item[necrosis] 0\n",
       "\\item[mv\\textbackslash{}\\_hyperplasia] 0\n",
       "\\item[mv\\textbackslash{}\\_delicate\\textbackslash{}\\_vasculature] 92\n",
       "\\item[f8\\textbackslash{}\\_delicate] 0\n",
       "\\item[f8\\textbackslash{}\\_simple] 0\n",
       "\\item[f8\\textbackslash{}\\_complex] 0\n",
       "\\item[mib\\textbackslash{}\\_1] 2\n",
       "\\item[avgerage\\textbackslash{}\\_cells] 3\n",
       "\\item[treatment\\textbackslash{}\\_related\\textbackslash{}\\_ab] 95\n",
       "\\item[bx\\textbackslash{}\\_pure\\textbackslash{}\\_treatment\\textbackslash{}\\_effect] 0\n",
       "\\item[percent\\textbackslash{}\\_tumor\\textbackslash{}\\_nuclei] 38\n",
       "\\item[nfl] 0\n",
       "\\item[nfse] 0\n",
       "\\item[nt1c] 0\n",
       "\\item[nt1v] 10\n",
       "\\item[nt1d] 10\n",
       "\\item[nadc.1] 7\n",
       "\\item[nfa.1] 7\n",
       "\\item[nev1.1] 14\n",
       "\\item[nev2.1] 14\n",
       "\\item[nev3.1] 14\n",
       "\\item[nevrad.1] 14\n",
       "\\item[nadc.2] 21\n",
       "\\item[nfa.2] 21\n",
       "\\item[nev1.2] 37\n",
       "\\item[nev2.2] 37\n",
       "\\item[nev3.2] 37\n",
       "\\item[nevrad.2] 37\n",
       "\\item[cbvn\\textbackslash{}\\_nlin] 39\n",
       "\\item[phn\\textbackslash{}\\_nlin] 39\n",
       "\\item[recov\\textbackslash{}\\_nlin] 39\n",
       "\\item[phn\\textbackslash{}\\_npar] 39\n",
       "\\item[recov\\textbackslash{}\\_npar] 39\n",
       "\\item[recovn\\textbackslash{}\\_npar] 68\n",
       "\\item[ccri] 53\n",
       "\\item[cni] 53\n",
       "\\item[crni] 53\n",
       "\\item[ncho] 53\n",
       "\\item[ncre] 53\n",
       "\\item[nnaa] 53\n",
       "\\item[nlac] 53\n",
       "\\item[nlip] 53\n",
       "\\item[newdata] 0\n",
       "\\item[olddata] 0\n",
       "\\item[exclude\\textbackslash{}\\_bc\\textbackslash{}\\_hematoma\\textbackslash{}\\_or\\textbackslash{}\\_ventricle] 35\n",
       "\\item[exclude\\textbackslash{}\\_perf] 35\n",
       "\\item[nLL] 53\n",
       "\\item[comments] 0\n",
       "\\item[perf\\textbackslash{}\\_quant] 0\n",
       "\\item[include\\textbackslash{}\\_perf] 78\n",
       "\\item[spec\\textbackslash{}\\_quant] 0\n",
       "\\item[include\\textbackslash{}\\_spec] 0\n",
       "\\item[diffu1000\\textbackslash{}\\_quant] 0\n",
       "\\item[diffu2000\\textbackslash{}\\_quant] 0\n",
       "\\item[exclude\\textbackslash{}\\_bc\\textbackslash{}\\_anat] 120\n",
       "\\item[exclude\\textbackslash{}\\_bc\\textbackslash{}\\_pathology] 120\n",
       "\\item[include\\textbackslash{}\\_diffu1000] 0\n",
       "\\item[include\\textbackslash{}\\_diffu2000] 0\n",
       "\\item[exclude\\textbackslash{}\\_histology] 120\n",
       "\\item[txe\\textbackslash{}\\_comments] 0\n",
       "\\item[outcome] 0\n",
       "\\item[in\\textbackslash{}\\_CEL] 0\n",
       "\\item[in\\textbackslash{}\\_T2all] 0\n",
       "\\item[in\\textbackslash{}\\_NEL] 0\n",
       "\\item[CELorNEL] 0\n",
       "\\item[txe\\textbackslash{}\\_rhgg] 0\n",
       "\\end{description*}\n"
      ],
      "text/markdown": [
       "vialid\n",
       ":   0b_number\n",
       ":   0t_number_x\n",
       ":   0t_number_y\n",
       ":   0sf_number\n",
       ":   0current_scan_date\n",
       ":   0current_surgery_date\n",
       ":   0current_hist_grade\n",
       ":   0current_hist_type\n",
       ":   0tumor_cell_evaluation\n",
       ":   0necrosis\n",
       ":   0mv_hyperplasia\n",
       ":   0mv_delicate_vasculature\n",
       ":   92f8_delicate\n",
       ":   0f8_simple\n",
       ":   0f8_complex\n",
       ":   0mib_1\n",
       ":   2avgerage_cells\n",
       ":   3treatment_related_ab\n",
       ":   95bx_pure_treatment_effect\n",
       ":   0percent_tumor_nuclei\n",
       ":   38nfl\n",
       ":   0nfse\n",
       ":   0nt1c\n",
       ":   0nt1v\n",
       ":   10nt1d\n",
       ":   10nadc.1\n",
       ":   7nfa.1\n",
       ":   7nev1.1\n",
       ":   14nev2.1\n",
       ":   14nev3.1\n",
       ":   14nevrad.1\n",
       ":   14nadc.2\n",
       ":   21nfa.2\n",
       ":   21nev1.2\n",
       ":   37nev2.2\n",
       ":   37nev3.2\n",
       ":   37nevrad.2\n",
       ":   37cbvn_nlin\n",
       ":   39phn_nlin\n",
       ":   39recov_nlin\n",
       ":   39phn_npar\n",
       ":   39recov_npar\n",
       ":   39recovn_npar\n",
       ":   68ccri\n",
       ":   53cni\n",
       ":   53crni\n",
       ":   53ncho\n",
       ":   53ncre\n",
       ":   53nnaa\n",
       ":   53nlac\n",
       ":   53nlip\n",
       ":   53newdata\n",
       ":   0olddata\n",
       ":   0exclude_bc_hematoma_or_ventricle\n",
       ":   35exclude_perf\n",
       ":   35nLL\n",
       ":   53comments\n",
       ":   0perf_quant\n",
       ":   0include_perf\n",
       ":   78spec_quant\n",
       ":   0include_spec\n",
       ":   0diffu1000_quant\n",
       ":   0diffu2000_quant\n",
       ":   0exclude_bc_anat\n",
       ":   120exclude_bc_pathology\n",
       ":   120include_diffu1000\n",
       ":   0include_diffu2000\n",
       ":   0exclude_histology\n",
       ":   120txe_comments\n",
       ":   0outcome\n",
       ":   0in_CEL\n",
       ":   0in_T2all\n",
       ":   0in_NEL\n",
       ":   0CELorNEL\n",
       ":   0txe_rhgg\n",
       ":   0\n",
       "\n"
      ],
      "text/plain": [
       "                          vialid                         b_number \n",
       "                               0                                0 \n",
       "                      t_number_x                       t_number_y \n",
       "                               0                                0 \n",
       "                       sf_number                current_scan_date \n",
       "                               0                                0 \n",
       "            current_surgery_date               current_hist_grade \n",
       "                               0                                0 \n",
       "               current_hist_type            tumor_cell_evaluation \n",
       "                               0                                0 \n",
       "                        necrosis                   mv_hyperplasia \n",
       "                               0                                0 \n",
       "         mv_delicate_vasculature                      f8_delicate \n",
       "                              92                                0 \n",
       "                       f8_simple                       f8_complex \n",
       "                               0                                0 \n",
       "                           mib_1                   avgerage_cells \n",
       "                               2                                3 \n",
       "            treatment_related_ab         bx_pure_treatment_effect \n",
       "                              95                                0 \n",
       "            percent_tumor_nuclei                              nfl \n",
       "                              38                                0 \n",
       "                            nfse                             nt1c \n",
       "                               0                                0 \n",
       "                            nt1v                             nt1d \n",
       "                              10                               10 \n",
       "                          nadc.1                            nfa.1 \n",
       "                               7                                7 \n",
       "                          nev1.1                           nev2.1 \n",
       "                              14                               14 \n",
       "                          nev3.1                         nevrad.1 \n",
       "                              14                               14 \n",
       "                          nadc.2                            nfa.2 \n",
       "                              21                               21 \n",
       "                          nev1.2                           nev2.2 \n",
       "                              37                               37 \n",
       "                          nev3.2                         nevrad.2 \n",
       "                              37                               37 \n",
       "                       cbvn_nlin                         phn_nlin \n",
       "                              39                               39 \n",
       "                      recov_nlin                         phn_npar \n",
       "                              39                               39 \n",
       "                      recov_npar                      recovn_npar \n",
       "                              39                               68 \n",
       "                            ccri                              cni \n",
       "                              53                               53 \n",
       "                            crni                             ncho \n",
       "                              53                               53 \n",
       "                            ncre                             nnaa \n",
       "                              53                               53 \n",
       "                            nlac                             nlip \n",
       "                              53                               53 \n",
       "                         newdata                          olddata \n",
       "                               0                                0 \n",
       "exclude_bc_hematoma_or_ventricle                     exclude_perf \n",
       "                              35                               35 \n",
       "                             nLL                         comments \n",
       "                              53                                0 \n",
       "                      perf_quant                     include_perf \n",
       "                               0                               78 \n",
       "                      spec_quant                     include_spec \n",
       "                               0                                0 \n",
       "                 diffu1000_quant                  diffu2000_quant \n",
       "                               0                                0 \n",
       "                 exclude_bc_anat             exclude_bc_pathology \n",
       "                             120                              120 \n",
       "               include_diffu1000                include_diffu2000 \n",
       "                               0                                0 \n",
       "               exclude_histology                     txe_comments \n",
       "                             120                                0 \n",
       "                         outcome                           in_CEL \n",
       "                               0                                0 \n",
       "                        in_T2all                           in_NEL \n",
       "                               0                                0 \n",
       "                        CELorNEL                         txe_rhgg \n",
       "                               0                                0 "
      ]
     },
     "metadata": {},
     "output_type": "display_data"
    }
   ],
   "source": [
    "colSums(is.na(recgli))"
   ]
  },
  {
   "cell_type": "code",
   "execution_count": 40,
   "metadata": {},
   "outputs": [
    {
     "name": "stderr",
     "output_type": "stream",
     "text": [
      "randomForest 4.6-14\n",
      "Type rfNews() to see new features/changes/bug fixes.\n",
      "\n",
      " randomForestSRC 2.7.0 \n",
      " \n",
      " Type rfsrc.news() to see new features, changes, and bug fixes. \n",
      " \n",
      "\n",
      "Loading required package: lattice\n",
      "Loading required package: ggplot2\n",
      "\n",
      "Attaching package: ‘ggplot2’\n",
      "\n",
      "The following object is masked from ‘package:randomForest’:\n",
      "\n",
      "    margin\n",
      "\n"
     ]
    }
   ],
   "source": [
    "library(randomForest)\n",
    "library(randomForestSRC)\n",
    "library(caret)\n",
    "library(tictoc)"
   ]
  },
  {
   "cell_type": "code",
   "execution_count": 41,
   "metadata": {},
   "outputs": [
    {
     "data": {
      "text/html": [
       "77"
      ],
      "text/latex": [
       "77"
      ],
      "text/markdown": [
       "77"
      ],
      "text/plain": [
       "[1] 77"
      ]
     },
     "metadata": {},
     "output_type": "display_data"
    },
    {
     "data": {
      "text/html": [
       "<ol class=list-inline>\n",
       "\t<li>120</li>\n",
       "\t<li>76</li>\n",
       "</ol>\n"
      ],
      "text/latex": [
       "\\begin{enumerate*}\n",
       "\\item 120\n",
       "\\item 76\n",
       "\\end{enumerate*}\n"
      ],
      "text/markdown": [
       "1. 120\n",
       "2. 76\n",
       "\n",
       "\n"
      ],
      "text/plain": [
       "[1] 120  76"
      ]
     },
     "metadata": {},
     "output_type": "display_data"
    }
   ],
   "source": [
    "length(unique(recgli$t_number_y))\n",
    "dim(recgli)\n",
    "unique_tnums = unique(recgli$t_number_y)\n"
   ]
  },
  {
   "cell_type": "code",
   "execution_count": 42,
   "metadata": {},
   "outputs": [],
   "source": [
    "## Set seed & split by t_number_y\n",
    "set.seed(120)\n",
    "train_tnums = unique_tnums[sample(c(1:length(unique_tnums)), size = round(length(unique_tnums)*.75))]\n",
    "test_tnums = unique_tnums[! unique_tnums %in% train_tnums]"
   ]
  },
  {
   "cell_type": "code",
   "execution_count": 43,
   "metadata": {},
   "outputs": [
    {
     "data": {
      "text/html": [
       "<ol class=list-inline>\n",
       "\t<li>91</li>\n",
       "\t<li>76</li>\n",
       "</ol>\n"
      ],
      "text/latex": [
       "\\begin{enumerate*}\n",
       "\\item 91\n",
       "\\item 76\n",
       "\\end{enumerate*}\n"
      ],
      "text/markdown": [
       "1. 91\n",
       "2. 76\n",
       "\n",
       "\n"
      ],
      "text/plain": [
       "[1] 91 76"
      ]
     },
     "metadata": {},
     "output_type": "display_data"
    },
    {
     "data": {
      "text/html": [
       "<ol class=list-inline>\n",
       "\t<li>29</li>\n",
       "\t<li>76</li>\n",
       "</ol>\n"
      ],
      "text/latex": [
       "\\begin{enumerate*}\n",
       "\\item 29\n",
       "\\item 76\n",
       "\\end{enumerate*}\n"
      ],
      "text/markdown": [
       "1. 29\n",
       "2. 76\n",
       "\n",
       "\n"
      ],
      "text/plain": [
       "[1] 29 76"
      ]
     },
     "metadata": {},
     "output_type": "display_data"
    }
   ],
   "source": [
    "## split data by patient split above: \n",
    "recgli_train= recgli[recgli$t_number_y %in% train_tnums, ]\n",
    "dim(recgli_train)\n",
    "recgli_test= recgli[recgli$t_number_y %in% test_tnums, ]\n",
    "dim(recgli_test)"
   ]
  },
  {
   "cell_type": "code",
   "execution_count": 44,
   "metadata": {},
   "outputs": [
    {
     "data": {
      "text/plain": [
       "\n",
       "rHGG  txe \n",
       "  71   20 "
      ]
     },
     "metadata": {},
     "output_type": "display_data"
    },
    {
     "data": {
      "text/plain": [
       "\n",
       "rHGG  txe \n",
       "  25    4 "
      ]
     },
     "metadata": {},
     "output_type": "display_data"
    }
   ],
   "source": [
    "## make sure that the balance of outcome is good: \n",
    "table(recgli_train$outcome)\n",
    "table(recgli_test$outcome)\n",
    "## looks alright."
   ]
  },
  {
   "cell_type": "code",
   "execution_count": 45,
   "metadata": {},
   "outputs": [
    {
     "data": {
      "text/plain": [
       "\n",
       "rHGG  txe \n",
       "  96   24 "
      ]
     },
     "metadata": {},
     "output_type": "display_data"
    }
   ],
   "source": [
    "table(recgli$outcome)"
   ]
  },
  {
   "cell_type": "markdown",
   "metadata": {},
   "source": [
    "## All significant params: "
   ]
  },
  {
   "cell_type": "code",
   "execution_count": 46,
   "metadata": {},
   "outputs": [],
   "source": [
    "## let's extract confusion matrix and put that in a data frame: \n",
    "outcome_experiment_template = data.frame(expnum = NA,\n",
    "                                        node_size = NA,\n",
    "                                        mtry = NA,\n",
    "                                        cwtxe = NA, \n",
    "                                        cwrHGG = NA, \n",
    "                                        tr_outtxe_predtxe = NA, \n",
    "                                        tr_outtxe_predrHGG = NA, \n",
    "                                        tr_outrHGG_predtxe = NA, \n",
    "                                        tr_outrHGG_predrHGG = NA, \n",
    "                                        cv_outtxe_predtxe = NA, \n",
    "                                        cv_outtxe_predrHGG = NA, \n",
    "                                        cv_outrHGG_predtxe = NA, \n",
    "                                        cv_outrHGG_predrHGG = NA)"
   ]
  },
  {
   "cell_type": "code",
   "execution_count": 47,
   "metadata": {},
   "outputs": [],
   "source": [
    "outcome_all_experiment = outcome_experiment_template"
   ]
  },
  {
   "cell_type": "code",
   "execution_count": 64,
   "metadata": {},
   "outputs": [
    {
     "name": "stdout",
     "output_type": "stream",
     "text": [
      "25.434 sec elapsed\n"
     ]
    }
   ],
   "source": [
    "# let's begin by running experiments for allomic features only: \n",
    "## for each experiment, we'll run the random forest with a variety of parameters \n",
    "expnum = 1\n",
    "tic()\n",
    "for (i in 1:25){\n",
    "    set.seed(i)\n",
    "    \n",
    "    ## define features and outcome: \n",
    "    outcome = \"outcome\"\n",
    "    features = c('nt1d', 'cbvn_nlin', 'recov_npar', 'nnaa', 'cni')\n",
    "    features.addsign <- paste(features, collapse = \"+\")\n",
    "    rf_formula = as.formula(paste(outcome, features.addsign, sep = \"~\"))\n",
    "    \n",
    "    ## define training and testing (from the training) basically for x-val: \n",
    "    unique_tnums = unique(recgli_train$t_number_y)\n",
    "    train_tnums = unique_tnums[sample(c(1:length(unique_tnums)), size = round(length(unique_tnums)*.75))]\n",
    "    test_tnums = unique_tnums[! unique_tnums %in% train_tnums]\n",
    "    \n",
    "    recgli_exp_train= recgli_train[recgli_train$t_number_y %in% train_tnums, ]\n",
    "    recgli_exp_cv = recgli_train[! recgli_train$t_number_y %in% train_tnums, ]\n",
    "    \n",
    "    for (nodesize in c(1)){\n",
    "        for (mtry in c(2, 3, 4)){\n",
    "            for (cwtxe in c(1, 10, 100, 1000, 10000)){\n",
    "                for (cwrHGG in c(1, 10, .1)){\n",
    "                    rf = randomForest(formula = rf_formula, \n",
    "                         data = recgli_exp_train, nodesize = nodesize, mtry = mtry, cw = c(cwtxe, cwrHGG), na.action = na.omit)\n",
    "\n",
    "                    cv_preds = predict(rf, recgli_exp_cv)\n",
    "\n",
    "                    cv_conf_mat = confusionMatrix(cv_preds, recgli_exp_cv$outcome)\n",
    "\n",
    "                    outcome_all_experiment[expnum,'expnum'] = expnum\n",
    "                    outcome_all_experiment[expnum,'node_size'] = nodesize\n",
    "                    outcome_all_experiment[expnum,'mtry'] = mtry\n",
    "                    outcome_all_experiment[expnum,'cwtxe'] = cwtxe\n",
    "                    outcome_all_experiment[expnum,'cwrHGG'] = cwrHGG\n",
    "                    outcome_all_experiment[expnum,'tr_outtxe_predtxe'] = rf$confusion['txe', 'txe']\n",
    "                    outcome_all_experiment[expnum,'tr_outtxe_predrHGG'] = rf$confusion['txe', 'rHGG']\n",
    "                    outcome_all_experiment[expnum,'tr_outrHGG_predtxe'] = rf$confusion['rHGG', 'txe']\n",
    "                    outcome_all_experiment[expnum,'tr_outrHGG_predrHGG'] = rf$confusion['rHGG', 'rHGG']\n",
    "                    outcome_all_experiment[expnum,'cv_outtxe_predtxe'] = cv_conf_mat$table['txe', 'txe']\n",
    "                    outcome_all_experiment[expnum,'cv_outtxe_predrHGG'] = cv_conf_mat$table['txe', 'rHGG']\n",
    "                    outcome_all_experiment[expnum,'cv_outrHGG_predtxe'] = cv_conf_mat$table['rHGG', 'txe']\n",
    "                    outcome_all_experiment[expnum,'cv_outrHGG_predrHGG'] = cv_conf_mat$table['rHGG', 'rHGG']\n",
    "                    expnum = expnum + 1\n",
    "                }\n",
    "            }\n",
    "\n",
    "        }\n",
    "    }\n",
    "}\n",
    "toc()"
   ]
  },
  {
   "cell_type": "code",
   "execution_count": 65,
   "metadata": {},
   "outputs": [
    {
     "data": {
      "text/html": [
       "<table>\n",
       "<thead><tr><th></th><th scope=col>expnum</th><th scope=col>node_size</th><th scope=col>mtry</th><th scope=col>cwtxe</th><th scope=col>cwrHGG</th><th scope=col>tr_outtxe_predtxe</th><th scope=col>tr_outtxe_predrHGG</th><th scope=col>tr_outrHGG_predtxe</th><th scope=col>tr_outrHGG_predrHGG</th><th scope=col>cv_outtxe_predtxe</th><th scope=col>cv_outtxe_predrHGG</th><th scope=col>cv_outrHGG_predtxe</th><th scope=col>cv_outrHGG_predrHGG</th></tr></thead>\n",
       "<tbody>\n",
       "\t<tr><th scope=row>1075</th><td>1075 </td><td>1    </td><td>4    </td><td> 1000</td><td> 1.0 </td><td>0    </td><td>5    </td><td>5    </td><td>25   </td><td>1    </td><td>1    </td><td>1    </td><td>11   </td></tr>\n",
       "\t<tr><th scope=row>1076</th><td>1076 </td><td>1    </td><td>4    </td><td> 1000</td><td>10.0 </td><td>0    </td><td>5    </td><td>4    </td><td>26   </td><td>1    </td><td>1    </td><td>1    </td><td>11   </td></tr>\n",
       "\t<tr><th scope=row>1077</th><td>1077 </td><td>1    </td><td>4    </td><td> 1000</td><td> 0.1 </td><td>0    </td><td>5    </td><td>4    </td><td>26   </td><td>1    </td><td>1    </td><td>1    </td><td>11   </td></tr>\n",
       "\t<tr><th scope=row>1078</th><td>1078 </td><td>1    </td><td>4    </td><td>10000</td><td> 1.0 </td><td>0    </td><td>5    </td><td>4    </td><td>26   </td><td>1    </td><td>1    </td><td>1    </td><td>11   </td></tr>\n",
       "\t<tr><th scope=row>1079</th><td>1079 </td><td>1    </td><td>4    </td><td>10000</td><td>10.0 </td><td>0    </td><td>5    </td><td>5    </td><td>25   </td><td>1    </td><td>1    </td><td>1    </td><td>11   </td></tr>\n",
       "\t<tr><th scope=row>1080</th><td>1080 </td><td>1    </td><td>4    </td><td>10000</td><td> 0.1 </td><td>0    </td><td>5    </td><td>5    </td><td>25   </td><td>1    </td><td>1    </td><td>1    </td><td>11   </td></tr>\n",
       "</tbody>\n",
       "</table>\n"
      ],
      "text/latex": [
       "\\begin{tabular}{r|lllllllllllll}\n",
       "  & expnum & node\\_size & mtry & cwtxe & cwrHGG & tr\\_outtxe\\_predtxe & tr\\_outtxe\\_predrHGG & tr\\_outrHGG\\_predtxe & tr\\_outrHGG\\_predrHGG & cv\\_outtxe\\_predtxe & cv\\_outtxe\\_predrHGG & cv\\_outrHGG\\_predtxe & cv\\_outrHGG\\_predrHGG\\\\\n",
       "\\hline\n",
       "\t1075 & 1075  & 1     & 4     &  1000 &  1.0  & 0     & 5     & 5     & 25    & 1     & 1     & 1     & 11   \\\\\n",
       "\t1076 & 1076  & 1     & 4     &  1000 & 10.0  & 0     & 5     & 4     & 26    & 1     & 1     & 1     & 11   \\\\\n",
       "\t1077 & 1077  & 1     & 4     &  1000 &  0.1  & 0     & 5     & 4     & 26    & 1     & 1     & 1     & 11   \\\\\n",
       "\t1078 & 1078  & 1     & 4     & 10000 &  1.0  & 0     & 5     & 4     & 26    & 1     & 1     & 1     & 11   \\\\\n",
       "\t1079 & 1079  & 1     & 4     & 10000 & 10.0  & 0     & 5     & 5     & 25    & 1     & 1     & 1     & 11   \\\\\n",
       "\t1080 & 1080  & 1     & 4     & 10000 &  0.1  & 0     & 5     & 5     & 25    & 1     & 1     & 1     & 11   \\\\\n",
       "\\end{tabular}\n"
      ],
      "text/markdown": [
       "\n",
       "| <!--/--> | expnum | node_size | mtry | cwtxe | cwrHGG | tr_outtxe_predtxe | tr_outtxe_predrHGG | tr_outrHGG_predtxe | tr_outrHGG_predrHGG | cv_outtxe_predtxe | cv_outtxe_predrHGG | cv_outrHGG_predtxe | cv_outrHGG_predrHGG | \n",
       "|---|---|---|---|---|---|\n",
       "| 1075 | 1075  | 1     | 4     |  1000 |  1.0  | 0     | 5     | 5     | 25    | 1     | 1     | 1     | 11    | \n",
       "| 1076 | 1076  | 1     | 4     |  1000 | 10.0  | 0     | 5     | 4     | 26    | 1     | 1     | 1     | 11    | \n",
       "| 1077 | 1077  | 1     | 4     |  1000 |  0.1  | 0     | 5     | 4     | 26    | 1     | 1     | 1     | 11    | \n",
       "| 1078 | 1078  | 1     | 4     | 10000 |  1.0  | 0     | 5     | 4     | 26    | 1     | 1     | 1     | 11    | \n",
       "| 1079 | 1079  | 1     | 4     | 10000 | 10.0  | 0     | 5     | 5     | 25    | 1     | 1     | 1     | 11    | \n",
       "| 1080 | 1080  | 1     | 4     | 10000 |  0.1  | 0     | 5     | 5     | 25    | 1     | 1     | 1     | 11    | \n",
       "\n",
       "\n"
      ],
      "text/plain": [
       "     expnum node_size mtry cwtxe cwrHGG tr_outtxe_predtxe tr_outtxe_predrHGG\n",
       "1075 1075   1         4     1000  1.0   0                 5                 \n",
       "1076 1076   1         4     1000 10.0   0                 5                 \n",
       "1077 1077   1         4     1000  0.1   0                 5                 \n",
       "1078 1078   1         4    10000  1.0   0                 5                 \n",
       "1079 1079   1         4    10000 10.0   0                 5                 \n",
       "1080 1080   1         4    10000  0.1   0                 5                 \n",
       "     tr_outrHGG_predtxe tr_outrHGG_predrHGG cv_outtxe_predtxe\n",
       "1075 5                  25                  1                \n",
       "1076 4                  26                  1                \n",
       "1077 4                  26                  1                \n",
       "1078 4                  26                  1                \n",
       "1079 5                  25                  1                \n",
       "1080 5                  25                  1                \n",
       "     cv_outtxe_predrHGG cv_outrHGG_predtxe cv_outrHGG_predrHGG\n",
       "1075 1                  1                  11                 \n",
       "1076 1                  1                  11                 \n",
       "1077 1                  1                  11                 \n",
       "1078 1                  1                  11                 \n",
       "1079 1                  1                  11                 \n",
       "1080 1                  1                  11                 "
      ]
     },
     "metadata": {},
     "output_type": "display_data"
    }
   ],
   "source": [
    "tail(outcome_all_experiment[order(outcome_all_experiment$cv_outtxe_predtxe),])"
   ]
  },
  {
   "cell_type": "code",
   "execution_count": 49,
   "metadata": {},
   "outputs": [],
   "source": [
    "outcome_anat_experiment['tr_sensitivity'] = (outcome_anat_experiment$tr_outtxe_predtxe)/(outcome_anat_experiment$tr_outtxe_predtxe+outcome_anat_experiment$tr_outrHGG_predtxe)\n",
    "outcome_anat_experiment['cv_sensitivity'] = (outcome_anat_experiment$cv_outtxe_predtxe)/(outcome_anat_experiment$cv_outtxe_predtxe+outcome_anat_experiment$cv_outrHGG_predtxe)"
   ]
  },
  {
   "cell_type": "code",
   "execution_count": 50,
   "metadata": {},
   "outputs": [
    {
     "name": "stdout",
     "output_type": "stream",
     "text": [
      "[1] \"summary for cwtxe:  1 and cwrHGG:  1\"\n",
      "   Min. 1st Qu.  Median    Mean 3rd Qu.    Max. \n",
      " 0.0000  0.0000  0.0000  0.1247  0.2000  1.0000 \n",
      "[1] \"summary for cwtxe:  1 and cwrHGG:  10\"\n",
      "   Min. 1st Qu.  Median    Mean 3rd Qu.    Max. \n",
      " 0.0000  0.0000  0.0000  0.1388  0.2000  1.0000 \n",
      "[1] \"summary for cwtxe:  1 and cwrHGG:  0.1\"\n",
      "   Min. 1st Qu.  Median    Mean 3rd Qu.    Max. \n",
      " 0.0000  0.0000  0.0000  0.1395  0.2000  1.0000 \n",
      "[1] \"summary for cwtxe:  10 and cwrHGG:  1\"\n",
      "   Min. 1st Qu.  Median    Mean 3rd Qu.    Max. \n",
      " 0.0000  0.0000  0.0000  0.1518  0.2500  1.0000 \n",
      "[1] \"summary for cwtxe:  10 and cwrHGG:  10\"\n",
      "   Min. 1st Qu.  Median    Mean 3rd Qu.    Max. \n",
      " 0.0000  0.0000  0.0000  0.1235  0.2000  1.0000 \n",
      "[1] \"summary for cwtxe:  10 and cwrHGG:  0.1\"\n",
      "   Min. 1st Qu.  Median    Mean 3rd Qu.    Max. \n",
      " 0.0000  0.0000  0.0000  0.1194  0.2000  1.0000 \n",
      "[1] \"summary for cwtxe:  100 and cwrHGG:  1\"\n",
      "   Min. 1st Qu.  Median    Mean 3rd Qu.    Max. \n",
      " 0.0000  0.0000  0.0000  0.1328  0.2000  1.0000 \n",
      "[1] \"summary for cwtxe:  100 and cwrHGG:  10\"\n",
      "   Min. 1st Qu.  Median    Mean 3rd Qu.    Max. \n",
      " 0.0000  0.0000  0.0000  0.1269  0.2000  1.0000 \n",
      "[1] \"summary for cwtxe:  100 and cwrHGG:  0.1\"\n",
      "   Min. 1st Qu.  Median    Mean 3rd Qu.    Max. \n",
      " 0.0000  0.0000  0.0000  0.1335  0.2000  1.0000 \n",
      "[1] \"summary for cwtxe:  1000 and cwrHGG:  1\"\n",
      "   Min. 1st Qu.  Median    Mean 3rd Qu.    Max. \n",
      " 0.0000  0.0000  0.0000  0.1281  0.2000  1.0000 \n",
      "[1] \"summary for cwtxe:  1000 and cwrHGG:  10\"\n",
      "   Min. 1st Qu.  Median    Mean 3rd Qu.    Max. \n",
      "  0.000   0.000   0.000   0.137   0.200   1.000 \n",
      "[1] \"summary for cwtxe:  1000 and cwrHGG:  0.1\"\n",
      "   Min. 1st Qu.  Median    Mean 3rd Qu.    Max. \n",
      "  0.000   0.000   0.000   0.135   0.200   1.000 \n",
      "[1] \"summary for cwtxe:  10000 and cwrHGG:  1\"\n",
      "   Min. 1st Qu.  Median    Mean 3rd Qu.    Max. \n",
      " 0.0000  0.0000  0.0000  0.1229  0.2000  1.0000 \n",
      "[1] \"summary for cwtxe:  10000 and cwrHGG:  10\"\n",
      "   Min. 1st Qu.  Median    Mean 3rd Qu.    Max. \n",
      " 0.0000  0.0000  0.0000  0.1391  0.2000  1.0000 \n",
      "[1] \"summary for cwtxe:  10000 and cwrHGG:  0.1\"\n",
      "   Min. 1st Qu.  Median    Mean 3rd Qu.    Max. \n",
      " 0.0000  0.0000  0.0000  0.1381  0.2000  1.0000 \n"
     ]
    }
   ],
   "source": [
    "## let's see what mtry looks the best for exp2: \n",
    "for (cwtxe in c(1, 10, 100, 1000, 10000)){\n",
    "    for (cwrHGG in c(1, 10, .1)){\n",
    "        cwtxe_outcome = outcome_anat_experiment[which(outcome_anat_experiment$cwtxe==cwtxe),]\n",
    "        cwrHGG_outcome = cwtxe_outcome[which(cwtxe_outcome$cwrHGG==cwrHGG),]\n",
    "        print(paste('summary for cwtxe: ', as.character(cwtxe), 'and cwrHGG: ', as.character(cwrHGG)))\n",
    "        print(summary(cwrHGG_outcome[,grep('specificity', colnames(cwrHGG_outcome))]))\n",
    "    }\n",
    "}"
   ]
  },
  {
   "cell_type": "code",
   "execution_count": 51,
   "metadata": {},
   "outputs": [],
   "source": [
    "\n",
    "outcome = \"outcome\"\n",
    "features.addsign <- paste(anat, collapse = \"+\")\n",
    "rf_formula = as.formula(paste(outcome, features.addsign, sep = \"~\"))"
   ]
  },
  {
   "cell_type": "code",
   "execution_count": 53,
   "metadata": {},
   "outputs": [],
   "source": [
    "rf = randomForest(formula = rf_formula, \n",
    "                         data = recgli_train, nodesize = nodesize, mtry = mtry, cw = c(cw0, cw3), na.action = na.omit)\n",
    "\n",
    "                    cv_preds = predict(rf, recgli_test)\n",
    "\n",
    "                    cv_conf_mat = confusionMatrix(cv_preds, recgli_test$outcome)\n"
   ]
  },
  {
   "cell_type": "code",
   "execution_count": 54,
   "metadata": {
    "scrolled": true
   },
   "outputs": [
    {
     "data": {
      "text/plain": [
       "Confusion Matrix and Statistics\n",
       "\n",
       "          Reference\n",
       "Prediction rHGG txe\n",
       "      rHGG   24  10\n",
       "      txe     0   0\n",
       "                                         \n",
       "               Accuracy : 0.7059         \n",
       "                 95% CI : (0.5252, 0.849)\n",
       "    No Information Rate : 0.7059         \n",
       "    P-Value [Acc > NIR] : 0.584308       \n",
       "                                         \n",
       "                  Kappa : 0              \n",
       " Mcnemar's Test P-Value : 0.004427       \n",
       "                                         \n",
       "            Sensitivity : 1.0000         \n",
       "            Specificity : 0.0000         \n",
       "         Pos Pred Value : 0.7059         \n",
       "         Neg Pred Value :    NaN         \n",
       "             Prevalence : 0.7059         \n",
       "         Detection Rate : 0.7059         \n",
       "   Detection Prevalence : 1.0000         \n",
       "      Balanced Accuracy : 0.5000         \n",
       "                                         \n",
       "       'Positive' Class : rHGG           \n",
       "                                         "
      ]
     },
     "metadata": {},
     "output_type": "display_data"
    }
   ],
   "source": [
    "cv_conf_mat"
   ]
  },
  {
   "cell_type": "markdown",
   "metadata": {},
   "source": [
    "### Diffu: "
   ]
  },
  {
   "cell_type": "code",
   "execution_count": 61,
   "metadata": {},
   "outputs": [],
   "source": [
    "outcome_diffu_expt = outcome_experiment_template"
   ]
  },
  {
   "cell_type": "code",
   "execution_count": 62,
   "metadata": {},
   "outputs": [
    {
     "name": "stdout",
     "output_type": "stream",
     "text": [
      "55.677 sec elapsed\n"
     ]
    }
   ],
   "source": [
    "# let's begin by running expts for diffuomic features only: \n",
    "## for each expt, we'll run the random forest with a variety of parameters \n",
    "expnum = 1\n",
    "tic()\n",
    "for (i in 1:25){\n",
    "    set.seed(i)\n",
    "    \n",
    "    ## define features and outcome: \n",
    "    outcome = \"outcome\"\n",
    "    features = c(anat, diffu)\n",
    "    features.addsign <- paste(features, collapse = \"+\")\n",
    "    rf_formula = as.formula(paste(outcome, features.addsign, sep = \"~\"))\n",
    "    \n",
    "    ## define training and testing (from the training) basically for x-val: \n",
    "    unique_tnums = unique(recgli_train$t_number_y)\n",
    "    train_tnums = unique_tnums[sample(c(1:length(unique_tnums)), size = round(length(unique_tnums)*.75))]\n",
    "    test_tnums = unique_tnums[! unique_tnums %in% train_tnums]\n",
    "    \n",
    "    recgli_exp_train= recgli_train[recgli_train$t_number_y %in% train_tnums, ]\n",
    "    recgli_exp_cv = recgli_train[! recgli_train$t_number_y %in% train_tnums, ]\n",
    "    \n",
    "    for (nodesize in c(1)){\n",
    "        for (mtry in c(2, 3, 4)){\n",
    "            for (cwtxe in c(1, 10, 100, 1000, 10000)){\n",
    "                for (cwrHGG in c(1, .01, .1)){\n",
    "                    rf = randomForest(formula = rf_formula, \n",
    "                         data = recgli_exp_train, nodesize = nodesize, mtry = mtry, cw = c(cwtxe, cwrHGG), na.action = na.omit)\n",
    "\n",
    "                    cv_preds = predict(rf, recgli_exp_cv)\n",
    "\n",
    "                    cv_conf_mat = confusionMatrix(cv_preds, recgli_exp_cv$outcome)\n",
    "\n",
    "                    outcome_diffu_expt[expnum,'expnum'] = expnum\n",
    "                    outcome_diffu_expt[expnum,'node_size'] = nodesize\n",
    "                    outcome_diffu_expt[expnum,'mtry'] = mtry\n",
    "                    outcome_diffu_expt[expnum,'cwtxe'] = cwtxe\n",
    "                    outcome_diffu_expt[expnum,'cwrHGG'] = cwrHGG\n",
    "                    outcome_diffu_expt[expnum,'tr_outtxe_predtxe'] = rf$confusion['txe', 'txe']\n",
    "                    outcome_diffu_expt[expnum,'tr_outtxe_predrHGG'] = rf$confusion['txe', 'rHGG']\n",
    "                    outcome_diffu_expt[expnum,'tr_outrHGG_predtxe'] = rf$confusion['rHGG', 'txe']\n",
    "                    outcome_diffu_expt[expnum,'tr_outrHGG_predrHGG'] = rf$confusion['rHGG', 'rHGG']\n",
    "                    outcome_diffu_expt[expnum,'cv_outtxe_predtxe'] = cv_conf_mat$table['txe', 'txe']\n",
    "                    outcome_diffu_expt[expnum,'cv_outtxe_predrHGG'] = cv_conf_mat$table['txe', 'rHGG']\n",
    "                    outcome_diffu_expt[expnum,'cv_outrHGG_predtxe'] = cv_conf_mat$table['rHGG', 'txe']\n",
    "                    outcome_diffu_expt[expnum,'cv_outrHGG_predrHGG'] = cv_conf_mat$table['rHGG', 'rHGG']\n",
    "                    expnum = expnum + 1\n",
    "                }\n",
    "            }\n",
    "\n",
    "        }\n",
    "    }\n",
    "}\n",
    "toc()"
   ]
  },
  {
   "cell_type": "code",
   "execution_count": 63,
   "metadata": {},
   "outputs": [],
   "source": [
    "outcome_diffu_expt['tr_specificity'] = (outcome_diffu_expt$tr_out0_pred0)/(outcome_diffu_expt$tr_out0_pred0+outcome_diffu_expt$tr_out3_pred0)\n",
    "outcome_diffu_expt['cv_specificity'] = (outcome_diffu_expt$cv_out0_pred0)/(outcome_diffu_expt$cv_out0_pred0+outcome_diffu_expt$cv_out3_pred0)"
   ]
  },
  {
   "cell_type": "code",
   "execution_count": 68,
   "metadata": {},
   "outputs": [],
   "source": [
    "outcome_diffu_expt = outcome_diffu_expt[order(outcome_diffu_expt$cv_outtxe_predtxe),]"
   ]
  },
  {
   "cell_type": "code",
   "execution_count": 71,
   "metadata": {},
   "outputs": [
    {
     "data": {
      "text/plain": [
       "\n",
       "   0 \n",
       "1125 "
      ]
     },
     "metadata": {},
     "output_type": "display_data"
    }
   ],
   "source": [
    "table(outcome_diffu_expt$cv_outtxe_predtxe)"
   ]
  },
  {
   "cell_type": "code",
   "execution_count": 72,
   "metadata": {},
   "outputs": [],
   "source": [
    "outcome = \"outcome\"\n",
    "features = c(anat, diffu)\n",
    "features.addsign <- paste(features, collapse = \"+\")\n",
    "rf_formula = as.formula(paste(outcome, features.addsign, sep = \"~\"))"
   ]
  },
  {
   "cell_type": "code",
   "execution_count": 73,
   "metadata": {},
   "outputs": [],
   "source": [
    "cwtxe  = 10000 \n",
    "cwrHGG = 0.01"
   ]
  },
  {
   "cell_type": "code",
   "execution_count": 74,
   "metadata": {},
   "outputs": [],
   "source": [
    "rf = randomForest(formula = rf_formula, \n",
    "                         data = recgli_train, nodesize = nodesize, mtry = mtry, cw = c(cwtxe, cwrHGG), na.action = na.omit)\n",
    "\n",
    "                    cv_preds = predict(rf, recgli_test)\n",
    "\n",
    "                    cv_conf_mat = confusionMatrix(cv_preds, recgli_test$outcome)\n"
   ]
  },
  {
   "cell_type": "code",
   "execution_count": 75,
   "metadata": {
    "scrolled": true
   },
   "outputs": [
    {
     "data": {
      "text/plain": [
       "Confusion Matrix and Statistics\n",
       "\n",
       "          Reference\n",
       "Prediction rHGG txe\n",
       "      rHGG   19  10\n",
       "      txe     0   0\n",
       "                                          \n",
       "               Accuracy : 0.6552          \n",
       "                 95% CI : (0.4567, 0.8206)\n",
       "    No Information Rate : 0.6552          \n",
       "    P-Value [Acc > NIR] : 0.584911        \n",
       "                                          \n",
       "                  Kappa : 0               \n",
       " Mcnemar's Test P-Value : 0.004427        \n",
       "                                          \n",
       "            Sensitivity : 1.0000          \n",
       "            Specificity : 0.0000          \n",
       "         Pos Pred Value : 0.6552          \n",
       "         Neg Pred Value :    NaN          \n",
       "             Prevalence : 0.6552          \n",
       "         Detection Rate : 0.6552          \n",
       "   Detection Prevalence : 1.0000          \n",
       "      Balanced Accuracy : 0.5000          \n",
       "                                          \n",
       "       'Positive' Class : rHGG            \n",
       "                                          "
      ]
     },
     "metadata": {},
     "output_type": "display_data"
    }
   ],
   "source": [
    "cv_conf_mat"
   ]
  },
  {
   "cell_type": "markdown",
   "metadata": {},
   "source": [
    "### Perfusion: "
   ]
  },
  {
   "cell_type": "code",
   "execution_count": 76,
   "metadata": {},
   "outputs": [],
   "source": [
    "outcome_perf_expt = outcome_experiment_template"
   ]
  },
  {
   "cell_type": "code",
   "execution_count": 77,
   "metadata": {},
   "outputs": [
    {
     "name": "stdout",
     "output_type": "stream",
     "text": [
      "43.967 sec elapsed\n"
     ]
    }
   ],
   "source": [
    "# let's begin by running expts for diffuomic features only: \n",
    "## for each expt, we'll run the random forest with a variety of parameters \n",
    "expnum = 1\n",
    "tic()\n",
    "for (i in 1:25){\n",
    "    set.seed(i)\n",
    "    \n",
    "    ## define features and outcome: \n",
    "    outcome = \"outcome\"\n",
    "    features = c(anat, diffu, perf)\n",
    "    features.addsign <- paste(features, collapse = \"+\")\n",
    "    rf_formula = as.formula(paste(outcome, features.addsign, sep = \"~\"))\n",
    "    \n",
    "    ## define training and testing (from the training) basically for x-val: \n",
    "    unique_tnums = unique(recgli_train$t_number_y)\n",
    "    train_tnums = unique_tnums[sample(c(1:length(unique_tnums)), size = round(length(unique_tnums)*.75))]\n",
    "    test_tnums = unique_tnums[! unique_tnums %in% train_tnums]\n",
    "    \n",
    "    recgli_exp_train= recgli_train[recgli_train$t_number_y %in% train_tnums, ]\n",
    "    recgli_exp_cv = recgli_train[! recgli_train$t_number_y %in% train_tnums, ]\n",
    "    \n",
    "    for (nodesize in c(1)){\n",
    "        for (mtry in c(2, 3, 4)){\n",
    "            for (cwtxe in c(1, 10, 100, 1000, 10000)){\n",
    "                for (cwrHGG in c(1, .01, .1)){\n",
    "                    rf = randomForest(formula = rf_formula, \n",
    "                         data = recgli_exp_train, nodesize = nodesize, mtry = mtry, cw = c(cwtxe, cwrHGG), na.action = na.omit)\n",
    "\n",
    "                    cv_preds = predict(rf, recgli_exp_cv)\n",
    "\n",
    "                    cv_conf_mat = confusionMatrix(cv_preds, recgli_exp_cv$outcome)\n",
    "\n",
    "                    outcome_perf_expt[expnum,'expnum'] = expnum\n",
    "                    outcome_perf_expt[expnum,'node_size'] = nodesize\n",
    "                    outcome_perf_expt[expnum,'mtry'] = mtry\n",
    "                    outcome_perf_expt[expnum,'cwtxe'] = cwtxe\n",
    "                    outcome_perf_expt[expnum,'cwrHGG'] = cwrHGG\n",
    "                    outcome_perf_expt[expnum,'tr_outtxe_predtxe'] = rf$confusion['txe', 'txe']\n",
    "                    outcome_perf_expt[expnum,'tr_outtxe_predrHGG'] = rf$confusion['txe', 'rHGG']\n",
    "                    outcome_perf_expt[expnum,'tr_outrHGG_predtxe'] = rf$confusion['rHGG', 'txe']\n",
    "                    outcome_perf_expt[expnum,'tr_outrHGG_predrHGG'] = rf$confusion['rHGG', 'rHGG']\n",
    "                    outcome_perf_expt[expnum,'cv_outtxe_predtxe'] = cv_conf_mat$table['txe', 'txe']\n",
    "                    outcome_perf_expt[expnum,'cv_outtxe_predrHGG'] = cv_conf_mat$table['txe', 'rHGG']\n",
    "                    outcome_perf_expt[expnum,'cv_outrHGG_predtxe'] = cv_conf_mat$table['rHGG', 'txe']\n",
    "                    outcome_perf_expt[expnum,'cv_outrHGG_predrHGG'] = cv_conf_mat$table['rHGG', 'rHGG']\n",
    "                    expnum = expnum + 1\n",
    "                }\n",
    "            }\n",
    "\n",
    "        }\n",
    "    }\n",
    "}\n",
    "toc()"
   ]
  },
  {
   "cell_type": "code",
   "execution_count": 82,
   "metadata": {},
   "outputs": [
    {
     "data": {
      "text/plain": [
       "\n",
       "  0   1   2   3   4 \n",
       "655 255 122  84   9 "
      ]
     },
     "metadata": {},
     "output_type": "display_data"
    }
   ],
   "source": [
    "table(outcome_diffu_expt$cv_outtxe_predrHGG)"
   ]
  },
  {
   "cell_type": "code",
   "execution_count": 54,
   "metadata": {},
   "outputs": [
    {
     "name": "stdout",
     "output_type": "stream",
     "text": [
      "[1] \"summary for cw0:  1 and cw3:  1\"\n",
      " tr_specificity   cv_specificity  \n",
      " Min.   :0.5556   Min.   :0.1250  \n",
      " 1st Qu.:0.6250   1st Qu.:0.4444  \n",
      " Median :0.6667   Median :0.5385  \n",
      " Mean   :0.6637   Mean   :0.5470  \n",
      " 3rd Qu.:0.7000   3rd Qu.:0.6667  \n",
      " Max.   :0.7879   Max.   :1.0000  \n",
      "[1] \"summary for cw0:  1 and cw3:  10\"\n",
      " tr_specificity   cv_specificity  \n",
      " Min.   :0.5429   Min.   :0.1250  \n",
      " 1st Qu.:0.6228   1st Qu.:0.4444  \n",
      " Median :0.6667   Median :0.5000  \n",
      " Mean   :0.6603   Mean   :0.5503  \n",
      " 3rd Qu.:0.7037   3rd Qu.:0.6667  \n",
      " Max.   :0.8065   Max.   :1.0000  \n",
      "[1] \"summary for cw0:  1 and cw3:  0.1\"\n",
      " tr_specificity   cv_specificity  \n",
      " Min.   :0.5556   Min.   :0.1250  \n",
      " 1st Qu.:0.6207   1st Qu.:0.4365  \n",
      " Median :0.6667   Median :0.5000  \n",
      " Mean   :0.6641   Mean   :0.5482  \n",
      " 3rd Qu.:0.7060   3rd Qu.:0.6667  \n",
      " Max.   :0.7879   Max.   :1.0000  \n",
      "[1] \"summary for cw0:  10 and cw3:  1\"\n",
      " tr_specificity   cv_specificity  \n",
      " Min.   :0.5588   Min.   :0.1250  \n",
      " 1st Qu.:0.6120   1st Qu.:0.4365  \n",
      " Median :0.6667   Median :0.5000  \n",
      " Mean   :0.6597   Mean   :0.5481  \n",
      " 3rd Qu.:0.7000   3rd Qu.:0.6667  \n",
      " Max.   :0.7879   Max.   :1.0000  \n",
      "[1] \"summary for cw0:  10 and cw3:  10\"\n",
      " tr_specificity   cv_specificity  \n",
      " Min.   :0.5588   Min.   :0.1250  \n",
      " 1st Qu.:0.6296   1st Qu.:0.4365  \n",
      " Median :0.6667   Median :0.5000  \n",
      " Mean   :0.6653   Mean   :0.5471  \n",
      " 3rd Qu.:0.7037   3rd Qu.:0.6667  \n",
      " Max.   :0.8065   Max.   :1.0000  \n",
      "[1] \"summary for cw0:  10 and cw3:  0.1\"\n",
      " tr_specificity   cv_specificity  \n",
      " Min.   :0.5455   Min.   :0.1250  \n",
      " 1st Qu.:0.6296   1st Qu.:0.4286  \n",
      " Median :0.6667   Median :0.5000  \n",
      " Mean   :0.6641   Mean   :0.5480  \n",
      " 3rd Qu.:0.7000   3rd Qu.:0.6667  \n",
      " Max.   :0.8125   Max.   :1.0000  \n",
      "[1] \"summary for cw0:  100 and cw3:  1\"\n",
      " tr_specificity   cv_specificity  \n",
      " Min.   :0.5588   Min.   :0.1250  \n",
      " 1st Qu.:0.6087   1st Qu.:0.4365  \n",
      " Median :0.6562   Median :0.5000  \n",
      " Mean   :0.6565   Mean   :0.5438  \n",
      " 3rd Qu.:0.7000   3rd Qu.:0.6667  \n",
      " Max.   :0.7879   Max.   :1.0000  \n",
      "[1] \"summary for cw0:  100 and cw3:  10\"\n",
      " tr_specificity   cv_specificity  \n",
      " Min.   :0.5484   Min.   :0.1250  \n",
      " 1st Qu.:0.6273   1st Qu.:0.4444  \n",
      " Median :0.6667   Median :0.5000  \n",
      " Mean   :0.6652   Mean   :0.5505  \n",
      " 3rd Qu.:0.7019   3rd Qu.:0.6667  \n",
      " Max.   :0.8065   Max.   :1.0000  \n",
      "[1] \"summary for cw0:  100 and cw3:  0.1\"\n",
      " tr_specificity   cv_specificity  \n",
      " Min.   :0.5333   Min.   :0.1250  \n",
      " 1st Qu.:0.6250   1st Qu.:0.4444  \n",
      " Median :0.6571   Median :0.5000  \n",
      " Mean   :0.6645   Mean   :0.5521  \n",
      " 3rd Qu.:0.7090   3rd Qu.:0.6667  \n",
      " Max.   :0.7812   Max.   :1.0000  \n",
      "[1] \"summary for cw0:  1000 and cw3:  1\"\n",
      " tr_specificity   cv_specificity  \n",
      " Min.   :0.5455   Min.   :0.1250  \n",
      " 1st Qu.:0.6250   1st Qu.:0.4444  \n",
      " Median :0.6552   Median :0.5000  \n",
      " Mean   :0.6650   Mean   :0.5459  \n",
      " 3rd Qu.:0.7037   3rd Qu.:0.6410  \n",
      " Max.   :0.8125   Max.   :1.0000  \n",
      "[1] \"summary for cw0:  1000 and cw3:  10\"\n",
      " tr_specificity   cv_specificity  \n",
      " Min.   :0.5294   Min.   :0.1250  \n",
      " 1st Qu.:0.6296   1st Qu.:0.4444  \n",
      " Median :0.6562   Median :0.5385  \n",
      " Mean   :0.6589   Mean   :0.5511  \n",
      " 3rd Qu.:0.6985   3rd Qu.:0.6410  \n",
      " Max.   :0.7812   Max.   :1.0000  \n",
      "[1] \"summary for cw0:  1000 and cw3:  0.1\"\n",
      " tr_specificity   cv_specificity  \n",
      " Min.   :0.5294   Min.   :0.1250  \n",
      " 1st Qu.:0.6250   1st Qu.:0.4365  \n",
      " Median :0.6667   Median :0.5000  \n",
      " Mean   :0.6638   Mean   :0.5476  \n",
      " 3rd Qu.:0.7000   3rd Qu.:0.6667  \n",
      " Max.   :0.8125   Max.   :1.0000  \n",
      "[1] \"summary for cw0:  10000 and cw3:  1\"\n",
      " tr_specificity   cv_specificity  \n",
      " Min.   :0.5417   Min.   :0.1250  \n",
      " 1st Qu.:0.6273   1st Qu.:0.4444  \n",
      " Median :0.6667   Median :0.5000  \n",
      " Mean   :0.6660   Mean   :0.5454  \n",
      " 3rd Qu.:0.7019   3rd Qu.:0.6410  \n",
      " Max.   :0.8000   Max.   :1.0000  \n",
      "[1] \"summary for cw0:  10000 and cw3:  10\"\n",
      " tr_specificity   cv_specificity  \n",
      " Min.   :0.5517   Min.   :0.1250  \n",
      " 1st Qu.:0.6220   1st Qu.:0.4365  \n",
      " Median :0.6667   Median :0.5000  \n",
      " Mean   :0.6636   Mean   :0.5459  \n",
      " 3rd Qu.:0.7060   3rd Qu.:0.6667  \n",
      " Max.   :0.8000   Max.   :1.0000  \n",
      "[1] \"summary for cw0:  10000 and cw3:  0.1\"\n",
      " tr_specificity   cv_specificity  \n",
      " Min.   :0.5357   Min.   :0.1250  \n",
      " 1st Qu.:0.6180   1st Qu.:0.4286  \n",
      " Median :0.6667   Median :0.5000  \n",
      " Mean   :0.6676   Mean   :0.5392  \n",
      " 3rd Qu.:0.7090   3rd Qu.:0.6667  \n",
      " Max.   :0.7812   Max.   :1.0000  \n"
     ]
    }
   ],
   "source": [
    "## let's see what mtry looks the best for exp2: \n",
    "for (cw0 in c(1, 10, 100, 1000, 10000)){\n",
    "    for (cw3 in c(1, 10, .1)){\n",
    "        cw0_outcome = outcome_perf_expt[which(outcome_perf_expt$cw0==cw0),]\n",
    "        cw3_outcome = cw0_outcome[which(cw0_outcome$cw3==cw3),]\n",
    "        print(paste('summary for cw0: ', as.character(cw0), 'and cw3: ', as.character(cw3)))\n",
    "        print(summary(cw3_outcome[,grep('specificity', colnames(cw3_outcome))]))\n",
    "    }\n",
    "}\n"
   ]
  },
  {
   "cell_type": "code",
   "execution_count": 55,
   "metadata": {},
   "outputs": [],
   "source": [
    "\n",
    "outcome = \"tumor_cell_evaluation\"\n",
    "features.addsign <- paste(perf, collapse = \"+\")\n",
    "rf_formula = as.formula(paste(outcome, features.addsign, sep = \"~\"))"
   ]
  },
  {
   "cell_type": "code",
   "execution_count": 56,
   "metadata": {},
   "outputs": [],
   "source": [
    "rf = randomForest(formula = rf_formula, \n",
    "                         data = recgli_train, nodesize = nodesize, mtry = mtry, cw = c(cw0, cw3), na.action = na.omit)\n",
    "\n",
    "                    cv_preds = predict(rf, recgli_test)\n",
    "\n",
    "                    cv_conf_mat = confusionMatrix(cv_preds, recgli_test$tumor_cell_evaluation)\n"
   ]
  },
  {
   "cell_type": "code",
   "execution_count": 57,
   "metadata": {},
   "outputs": [
    {
     "data": {
      "text/html": [
       "<ol class=list-inline>\n",
       "\t<li>'cbvn_nlin'</li>\n",
       "\t<li>'phn_nlin'</li>\n",
       "\t<li>'recov_nlin'</li>\n",
       "\t<li>'phn_npar'</li>\n",
       "\t<li>'recov_npar'</li>\n",
       "</ol>\n"
      ],
      "text/latex": [
       "\\begin{enumerate*}\n",
       "\\item 'cbvn\\_nlin'\n",
       "\\item 'phn\\_nlin'\n",
       "\\item 'recov\\_nlin'\n",
       "\\item 'phn\\_npar'\n",
       "\\item 'recov\\_npar'\n",
       "\\end{enumerate*}\n"
      ],
      "text/markdown": [
       "1. 'cbvn_nlin'\n",
       "2. 'phn_nlin'\n",
       "3. 'recov_nlin'\n",
       "4. 'phn_npar'\n",
       "5. 'recov_npar'\n",
       "\n",
       "\n"
      ],
      "text/plain": [
       "[1] \"cbvn_nlin\"  \"phn_nlin\"   \"recov_nlin\" \"phn_npar\"   \"recov_npar\""
      ]
     },
     "metadata": {},
     "output_type": "display_data"
    }
   ],
   "source": [
    "perf"
   ]
  },
  {
   "cell_type": "code",
   "execution_count": 58,
   "metadata": {
    "scrolled": true
   },
   "outputs": [
    {
     "data": {
      "text/plain": [
       "Confusion Matrix and Statistics\n",
       "\n",
       "          Reference\n",
       "Prediction  0  3\n",
       "         0 11  3\n",
       "         3  4 13\n",
       "                                         \n",
       "               Accuracy : 0.7742         \n",
       "                 95% CI : (0.589, 0.9041)\n",
       "    No Information Rate : 0.5161         \n",
       "    P-Value [Acc > NIR] : 0.002897       \n",
       "                                         \n",
       "                  Kappa : 0.547          \n",
       " Mcnemar's Test P-Value : 1.000000       \n",
       "                                         \n",
       "            Sensitivity : 0.7333         \n",
       "            Specificity : 0.8125         \n",
       "         Pos Pred Value : 0.7857         \n",
       "         Neg Pred Value : 0.7647         \n",
       "             Prevalence : 0.4839         \n",
       "         Detection Rate : 0.3548         \n",
       "   Detection Prevalence : 0.4516         \n",
       "      Balanced Accuracy : 0.7729         \n",
       "                                         \n",
       "       'Positive' Class : 0              \n",
       "                                         "
      ]
     },
     "metadata": {},
     "output_type": "display_data"
    }
   ],
   "source": [
    "cv_conf_mat"
   ]
  },
  {
   "cell_type": "markdown",
   "metadata": {},
   "source": [
    "### Spec: "
   ]
  },
  {
   "cell_type": "code",
   "execution_count": 59,
   "metadata": {},
   "outputs": [],
   "source": [
    "outcome_spec_expt = outcome_experiment_template"
   ]
  },
  {
   "cell_type": "code",
   "execution_count": 60,
   "metadata": {},
   "outputs": [
    {
     "name": "stdout",
     "output_type": "stream",
     "text": [
      "20.497 sec elapsed\n"
     ]
    }
   ],
   "source": [
    "## let's begin by running expts for specomic features only: \n",
    "## for each expt, we'll run the random forest with a variety of parameters \n",
    "expnum = 1\n",
    "tic()\n",
    "for (i in 1:25){\n",
    "    set.seed(i)\n",
    "    \n",
    "    ## define features and outcome: \n",
    "    outcome = \"tumor_cell_evaluation\"\n",
    "    features.addsign <- paste(spec, collapse = \"+\")\n",
    "    rf_formula = as.formula(paste(outcome, features.addsign, sep = \"~\"))\n",
    "    \n",
    "    ## define training and testing (from the training) basically for x-val: \n",
    "    unique_tnums = unique(recgli_train$t_number_y)\n",
    "    train_tnums = unique_tnums[sample(c(1:length(unique_tnums)), size = round(length(unique_tnums)*.75))]\n",
    "    test_tnums = unique_tnums[! unique_tnums %in% train_tnums]\n",
    "    \n",
    "    recgli_exp_train= recgli_train[recgli_train$t_number_y %in% train_tnums, ]\n",
    "    recgli_exp_cv = recgli_train[! recgli_train$t_number_y %in% train_tnums, ]\n",
    "    #print(table(is.na((recgli_exp_train$cbvn_nlin))))\n",
    "    for (nodesize in c(1)){\n",
    "        for (mtry in c(2, 3, 4)){\n",
    "            for (cw0 in c(1, 10, 100, 1000, 10000)){\n",
    "                for (cw3 in c(1, 10, .1)){\n",
    "                    rf = randomForest(formula = rf_formula, \n",
    "                         data = recgli_exp_train, nodesize = nodesize, mtry = mtry, cw = c(cw0, cw3), na.action = na.omit)\n",
    "\n",
    "                    cv_preds = predict(rf, recgli_exp_cv)\n",
    "\n",
    "                    cv_conf_mat = confusionMatrix(cv_preds, recgli_exp_cv$tumor_cell_evaluation)\n",
    "\n",
    "                    outcome_spec_expt[expnum,'expnum'] = expnum\n",
    "                    outcome_spec_expt[expnum,'node_size'] = nodesize\n",
    "                    outcome_spec_expt[expnum,'mtry'] = mtry\n",
    "                    outcome_spec_expt[expnum,'cw0'] = cw0\n",
    "                    outcome_spec_expt[expnum,'cw3'] = cw3\n",
    "                    outcome_spec_expt[expnum,'tr_out0_pred0'] = rf$confusion['0', '0']\n",
    "                    outcome_spec_expt[expnum,'tr_out0_pred3'] = rf$confusion['0', '3']\n",
    "                    outcome_spec_expt[expnum,'tr_out3_pred0'] = rf$confusion['3', '0']\n",
    "                    outcome_spec_expt[expnum,'tr_out3_pred3'] = rf$confusion['3', '3']\n",
    "                    outcome_spec_expt[expnum,'cv_out0_pred0'] = cv_conf_mat$table['0', '0']\n",
    "                    outcome_spec_expt[expnum,'cv_out0_pred3'] = cv_conf_mat$table['0', '3']\n",
    "                    outcome_spec_expt[expnum,'cv_out3_pred0'] = cv_conf_mat$table['3', '0']\n",
    "                    outcome_spec_expt[expnum,'cv_out3_pred3'] = cv_conf_mat$table['3', '3']\n",
    "                    expnum = expnum + 1\n",
    "                }\n",
    "            }\n",
    "\n",
    "        }\n",
    "    }\n",
    "}\n",
    "toc()"
   ]
  },
  {
   "cell_type": "code",
   "execution_count": 61,
   "metadata": {},
   "outputs": [],
   "source": [
    "outcome_spec_expt['tr_specificity'] = (outcome_spec_expt$tr_out0_pred0)/(outcome_spec_expt$tr_out0_pred0+outcome_spec_expt$tr_out3_pred0)\n",
    "outcome_spec_expt['cv_specificity'] = (outcome_spec_expt$cv_out0_pred0)/(outcome_spec_expt$cv_out0_pred0+outcome_spec_expt$cv_out3_pred0)"
   ]
  },
  {
   "cell_type": "code",
   "execution_count": 62,
   "metadata": {},
   "outputs": [
    {
     "name": "stdout",
     "output_type": "stream",
     "text": [
      "[1] \"summary for cw0:  1 and cw3:  1\"\n",
      " tr_specificity   cv_specificity  \n",
      " Min.   :0.0000   Min.   :0.0000  \n",
      " 1st Qu.:0.0000   1st Qu.:0.0000  \n",
      " Median :0.1429   Median :0.0000  \n",
      " Mean   :0.1876   Mean   :0.1234  \n",
      " 3rd Qu.:0.2929   3rd Qu.:0.1667  \n",
      " Max.   :0.7500   Max.   :1.0000  \n",
      "                  NA's   :6       \n",
      "[1] \"summary for cw0:  1 and cw3:  10\"\n",
      " tr_specificity   cv_specificity  \n",
      " Min.   :0.0000   Min.   :0.0000  \n",
      " 1st Qu.:0.0000   1st Qu.:0.0000  \n",
      " Median :0.1667   Median :0.0000  \n",
      " Mean   :0.1904   Mean   :0.1397  \n",
      " 3rd Qu.:0.3000   3rd Qu.:0.2000  \n",
      " Max.   :0.6667   Max.   :1.0000  \n",
      "                  NA's   :6       \n",
      "[1] \"summary for cw0:  1 and cw3:  0.1\"\n",
      " tr_specificity   cv_specificity  \n",
      " Min.   :0.0000   Min.   :0.0000  \n",
      " 1st Qu.:0.0000   1st Qu.:0.0000  \n",
      " Median :0.1250   Median :0.0000  \n",
      " Mean   :0.1708   Mean   :0.1065  \n",
      " 3rd Qu.:0.3000   3rd Qu.:0.1250  \n",
      " Max.   :0.6364   Max.   :1.0000  \n",
      "                  NA's   :6       \n",
      "[1] \"summary for cw0:  10 and cw3:  1\"\n",
      " tr_specificity   cv_specificity  \n",
      " Min.   :0.0000   Min.   :0.0000  \n",
      " 1st Qu.:0.0000   1st Qu.:0.0000  \n",
      " Median :0.1429   Median :0.0000  \n",
      " Mean   :0.1927   Mean   :0.1132  \n",
      " 3rd Qu.:0.3333   3rd Qu.:0.1667  \n",
      " Max.   :0.6667   Max.   :1.0000  \n",
      "                  NA's   :6       \n",
      "[1] \"summary for cw0:  10 and cw3:  10\"\n",
      " tr_specificity   cv_specificity  \n",
      " Min.   :0.0000   Min.   :0.0000  \n",
      " 1st Qu.:0.0000   1st Qu.:0.0000  \n",
      " Median :0.1667   Median :0.0000  \n",
      " Mean   :0.1899   Mean   :0.1132  \n",
      " 3rd Qu.:0.3333   3rd Qu.:0.1667  \n",
      " Max.   :0.6667   Max.   :1.0000  \n",
      "                  NA's   :6       \n",
      "[1] \"summary for cw0:  10 and cw3:  0.1\"\n",
      " tr_specificity   cv_specificity  \n",
      " Min.   :0.0000   Min.   :0.0000  \n",
      " 1st Qu.:0.0000   1st Qu.:0.0000  \n",
      " Median :0.1667   Median :0.0000  \n",
      " Mean   :0.1912   Mean   :0.1234  \n",
      " 3rd Qu.:0.3205   3rd Qu.:0.1667  \n",
      " Max.   :0.6667   Max.   :1.0000  \n",
      "                  NA's   :6       \n",
      "[1] \"summary for cw0:  100 and cw3:  1\"\n",
      " tr_specificity   cv_specificity  \n",
      " Min.   :0.0000   Min.   :0.0000  \n",
      " 1st Qu.:0.0000   1st Qu.:0.0000  \n",
      " Median :0.1429   Median :0.0000  \n",
      " Mean   :0.1874   Mean   :0.1132  \n",
      " 3rd Qu.:0.3333   3rd Qu.:0.1667  \n",
      " Max.   :0.6667   Max.   :1.0000  \n",
      "                  NA's   :6       \n",
      "[1] \"summary for cw0:  100 and cw3:  10\"\n",
      " tr_specificity   cv_specificity  \n",
      " Min.   :0.0000   Min.   :0.0000  \n",
      " 1st Qu.:0.0000   1st Qu.:0.0000  \n",
      " Median :0.1667   Median :0.0000  \n",
      " Mean   :0.1953   Mean   :0.1107  \n",
      " 3rd Qu.:0.3333   3rd Qu.:0.1667  \n",
      " Max.   :0.6667   Max.   :1.0000  \n",
      "                  NA's   :6       \n",
      "[1] \"summary for cw0:  100 and cw3:  0.1\"\n",
      " tr_specificity   cv_specificity  \n",
      " Min.   :0.0000   Min.   :0.0000  \n",
      " 1st Qu.:0.0000   1st Qu.:0.0000  \n",
      " Median :0.1429   Median :0.0000  \n",
      " Mean   :0.1779   Mean   :0.1446  \n",
      " 3rd Qu.:0.2967   3rd Qu.:0.2000  \n",
      " Max.   :0.5455   Max.   :1.0000  \n",
      "                  NA's   :6       \n",
      "[1] \"summary for cw0:  1000 and cw3:  1\"\n",
      " tr_specificity   cv_specificity  \n",
      " Min.   :0.0000   Min.   :0.0000  \n",
      " 1st Qu.:0.0000   1st Qu.:0.0000  \n",
      " Median :0.1818   Median :0.0000  \n",
      " Mean   :0.2015   Mean   :0.1397  \n",
      " 3rd Qu.:0.3333   3rd Qu.:0.2000  \n",
      " Max.   :0.8000   Max.   :1.0000  \n",
      "                  NA's   :6       \n",
      "[1] \"summary for cw0:  1000 and cw3:  10\"\n",
      " tr_specificity   cv_specificity  \n",
      " Min.   :0.0000   Min.   :0.0000  \n",
      " 1st Qu.:0.0000   1st Qu.:0.0000  \n",
      " Median :0.1667   Median :0.0000  \n",
      " Mean   :0.1952   Mean   :0.1397  \n",
      " 3rd Qu.:0.3333   3rd Qu.:0.2000  \n",
      " Max.   :0.6667   Max.   :1.0000  \n",
      "                  NA's   :6       \n",
      "[1] \"summary for cw0:  1000 and cw3:  0.1\"\n",
      " tr_specificity   cv_specificity  \n",
      " Min.   :0.0000   Min.   :0.0000  \n",
      " 1st Qu.:0.0000   1st Qu.:0.0000  \n",
      " Median :0.1818   Median :0.0000  \n",
      " Mean   :0.1953   Mean   :0.1421  \n",
      " 3rd Qu.:0.3333   3rd Qu.:0.2000  \n",
      " Max.   :0.6000   Max.   :1.0000  \n",
      "                  NA's   :6       \n",
      "[1] \"summary for cw0:  10000 and cw3:  1\"\n",
      " tr_specificity   cv_specificity  \n",
      " Min.   :0.0000   Min.   :0.0000  \n",
      " 1st Qu.:0.0000   1st Qu.:0.0000  \n",
      " Median :0.1429   Median :0.0000  \n",
      " Mean   :0.1772   Mean   :0.1258  \n",
      " 3rd Qu.:0.3000   3rd Qu.:0.1667  \n",
      " Max.   :0.6000   Max.   :1.0000  \n",
      "                  NA's   :6       \n",
      "[1] \"summary for cw0:  10000 and cw3:  10\"\n",
      " tr_specificity   cv_specificity  \n",
      " Min.   :0.0000   Min.   :0.0000  \n",
      " 1st Qu.:0.0000   1st Qu.:0.0000  \n",
      " Median :0.1250   Median :0.0000  \n",
      " Mean   :0.1756   Mean   :0.1397  \n",
      " 3rd Qu.:0.3333   3rd Qu.:0.2000  \n",
      " Max.   :0.6667   Max.   :1.0000  \n",
      "                  NA's   :6       \n",
      "[1] \"summary for cw0:  10000 and cw3:  0.1\"\n",
      " tr_specificity   cv_specificity  \n",
      " Min.   :0.0000   Min.   :0.0000  \n",
      " 1st Qu.:0.0000   1st Qu.:0.0000  \n",
      " Median :0.1667   Median :0.0000  \n",
      " Mean   :0.1893   Mean   :0.1107  \n",
      " 3rd Qu.:0.2929   3rd Qu.:0.1667  \n",
      " Max.   :0.7500   Max.   :1.0000  \n",
      "                  NA's   :6       \n"
     ]
    }
   ],
   "source": [
    "## let's see what mtry looks the best for exp2: \n",
    "for (cw0 in c(1, 10, 100, 1000, 10000)){\n",
    "    for (cw3 in c(1, 10, .1)){\n",
    "        cw0_outcome = outcome_spec_expt[which(outcome_spec_expt$cw0==cw0),]\n",
    "        cw3_outcome = cw0_outcome[which(cw0_outcome$cw3==cw3),]\n",
    "        print(paste('summary for cw0: ', as.character(cw0), 'and cw3: ', as.character(cw3)))\n",
    "        print(summary(cw3_outcome[,grep('specificity', colnames(cw3_outcome))]))\n",
    "    }\n",
    "}\n"
   ]
  },
  {
   "cell_type": "code",
   "execution_count": 63,
   "metadata": {},
   "outputs": [],
   "source": [
    "outcome = \"tumor_cell_evaluation\"\n",
    "features.addsign <- paste(spec, collapse = \"+\")\n",
    "rf_formula = as.formula(paste(outcome, features.addsign, sep = \"~\"))"
   ]
  },
  {
   "cell_type": "code",
   "execution_count": 64,
   "metadata": {},
   "outputs": [],
   "source": [
    "rf = randomForest(formula = rf_formula, \n",
    "                         data = recgli_train, nodesize = nodesize, mtry = mtry, na.action = na.omit, ntree = 10000)\n",
    "\n",
    "                    cv_preds = predict(rf, recgli_test)\n",
    "\n",
    "                    cv_conf_mat = confusionMatrix(cv_preds, recgli_test$tumor_cell_evaluation)\n"
   ]
  },
  {
   "cell_type": "code",
   "execution_count": 65,
   "metadata": {},
   "outputs": [
    {
     "data": {
      "text/html": [
       "<ol class=list-inline>\n",
       "\t<li>'ccri'</li>\n",
       "\t<li>'cni'</li>\n",
       "\t<li>'crni'</li>\n",
       "\t<li>'ncho'</li>\n",
       "\t<li>'ncre'</li>\n",
       "\t<li>'nnaa'</li>\n",
       "\t<li>'nlac'</li>\n",
       "\t<li>'nlip'</li>\n",
       "\t<li>'nLL'</li>\n",
       "</ol>\n"
      ],
      "text/latex": [
       "\\begin{enumerate*}\n",
       "\\item 'ccri'\n",
       "\\item 'cni'\n",
       "\\item 'crni'\n",
       "\\item 'ncho'\n",
       "\\item 'ncre'\n",
       "\\item 'nnaa'\n",
       "\\item 'nlac'\n",
       "\\item 'nlip'\n",
       "\\item 'nLL'\n",
       "\\end{enumerate*}\n"
      ],
      "text/markdown": [
       "1. 'ccri'\n",
       "2. 'cni'\n",
       "3. 'crni'\n",
       "4. 'ncho'\n",
       "5. 'ncre'\n",
       "6. 'nnaa'\n",
       "7. 'nlac'\n",
       "8. 'nlip'\n",
       "9. 'nLL'\n",
       "\n",
       "\n"
      ],
      "text/plain": [
       "[1] \"ccri\" \"cni\"  \"crni\" \"ncho\" \"ncre\" \"nnaa\" \"nlac\" \"nlip\" \"nLL\" "
      ]
     },
     "metadata": {},
     "output_type": "display_data"
    }
   ],
   "source": [
    "spec\n"
   ]
  },
  {
   "cell_type": "code",
   "execution_count": 66,
   "metadata": {
    "scrolled": true
   },
   "outputs": [
    {
     "data": {
      "text/plain": [
       "Confusion Matrix and Statistics\n",
       "\n",
       "          Reference\n",
       "Prediction  0  3\n",
       "         0  3  2\n",
       "         3 11 28\n",
       "                                         \n",
       "               Accuracy : 0.7045         \n",
       "                 95% CI : (0.548, 0.8324)\n",
       "    No Information Rate : 0.6818         \n",
       "    P-Value [Acc > NIR] : 0.4435         \n",
       "                                         \n",
       "                  Kappa : 0.1782         \n",
       " Mcnemar's Test P-Value : 0.0265         \n",
       "                                         \n",
       "            Sensitivity : 0.21429        \n",
       "            Specificity : 0.93333        \n",
       "         Pos Pred Value : 0.60000        \n",
       "         Neg Pred Value : 0.71795        \n",
       "             Prevalence : 0.31818        \n",
       "         Detection Rate : 0.06818        \n",
       "   Detection Prevalence : 0.11364        \n",
       "      Balanced Accuracy : 0.57381        \n",
       "                                         \n",
       "       'Positive' Class : 0              \n",
       "                                         "
      ]
     },
     "metadata": {},
     "output_type": "display_data"
    }
   ],
   "source": [
    "cv_conf_mat"
   ]
  },
  {
   "cell_type": "markdown",
   "metadata": {},
   "source": [
    "## All features: "
   ]
  },
  {
   "cell_type": "code",
   "execution_count": 67,
   "metadata": {},
   "outputs": [],
   "source": [
    "outcome_all_expt = outcome_experiment_template"
   ]
  },
  {
   "cell_type": "code",
   "execution_count": 68,
   "metadata": {},
   "outputs": [],
   "source": [
    "features = c(anat, diffu, perf, spec)"
   ]
  },
  {
   "cell_type": "code",
   "execution_count": 69,
   "metadata": {},
   "outputs": [
    {
     "name": "stdout",
     "output_type": "stream",
     "text": [
      "53.515 sec elapsed\n"
     ]
    }
   ],
   "source": [
    "## let's begin by running expts for allomic features only: \n",
    "## for each expt, we'll run the random forest with a variety of parameters \n",
    "expnum = 1\n",
    "tic()\n",
    "for (i in 1:25){\n",
    "    set.seed(i)\n",
    "    \n",
    "    ## define features and outcome: \n",
    "    outcome = \"tumor_cell_evaluation\"\n",
    "    all_features = c(anat, diffu, perf, spec)\n",
    "    features.addsign <- paste(all_features, collapse = \"+\")\n",
    "    rf_formula = as.formula(paste(outcome, features.addsign, sep = \"~\"))\n",
    "    \n",
    "    ## define training and testing (from the training) basically for x-val: \n",
    "    unique_tnums = unique(recgli_train$t_number_y)\n",
    "    train_tnums = unique_tnums[sample(c(1:length(unique_tnums)), size = round(length(unique_tnums)*.75))]\n",
    "    test_tnums = unique_tnums[! unique_tnums %in% train_tnums]\n",
    "    \n",
    "    recgli_exp_train= recgli_train[recgli_train$t_number_y %in% train_tnums, ]\n",
    "    recgli_exp_cv = recgli_train[! recgli_train$t_number_y %in% train_tnums, ]\n",
    "    #print(table(is.na((recgli_exp_train$cbvn_nlin))))\n",
    "    for (nodesize in c(1, 2)){\n",
    "        for (mtry in c(2, 4, 6)){\n",
    "            for (cw0 in c(1, 10, 100, 1000, 10000)){\n",
    "                for (cw3 in c(1, 10, .1)){\n",
    "                    rf = randomForest(formula = rf_formula, \n",
    "                         data = recgli_exp_train, nodesize = nodesize, mtry = mtry, cw = c(cw0, cw3), na.action = na.omit)\n",
    "\n",
    "                    cv_preds = predict(rf, recgli_exp_cv)\n",
    "\n",
    "                    cv_conf_mat = confusionMatrix(cv_preds, recgli_exp_cv$tumor_cell_evaluation)\n",
    "\n",
    "                    outcome_all_expt[expnum,'expnum'] = expnum\n",
    "                    outcome_all_expt[expnum,'node_size'] = nodesize\n",
    "                    outcome_all_expt[expnum,'mtry'] = mtry\n",
    "                    outcome_all_expt[expnum,'cw0'] = cw0\n",
    "                    outcome_all_expt[expnum,'cw3'] = cw3\n",
    "                    outcome_all_expt[expnum,'tr_out0_pred0'] = rf$confusion['0', '0']\n",
    "                    outcome_all_expt[expnum,'tr_out0_pred3'] = rf$confusion['0', '3']\n",
    "                    outcome_all_expt[expnum,'tr_out3_pred0'] = rf$confusion['3', '0']\n",
    "                    outcome_all_expt[expnum,'tr_out3_pred3'] = rf$confusion['3', '3']\n",
    "                    outcome_all_expt[expnum,'cv_out0_pred0'] = cv_conf_mat$table['0', '0']\n",
    "                    outcome_all_expt[expnum,'cv_out0_pred3'] = cv_conf_mat$table['0', '3']\n",
    "                    outcome_all_expt[expnum,'cv_out3_pred0'] = cv_conf_mat$table['3', '0']\n",
    "                    outcome_all_expt[expnum,'cv_out3_pred3'] = cv_conf_mat$table['3', '3']\n",
    "                    expnum = expnum + 1\n",
    "                }\n",
    "            }\n",
    "\n",
    "        }\n",
    "    }\n",
    "}\n",
    "toc()"
   ]
  },
  {
   "cell_type": "code",
   "execution_count": 70,
   "metadata": {},
   "outputs": [],
   "source": [
    "outcome_all_expt['tr_specificity'] = (outcome_all_expt$tr_out0_pred0)/(outcome_all_expt$tr_out0_pred0+outcome_all_expt$tr_out3_pred0)\n",
    "outcome_all_expt['cv_specificity'] = (outcome_all_expt$cv_out0_pred0)/(outcome_all_expt$cv_out0_pred0+outcome_all_expt$cv_out3_pred0)"
   ]
  },
  {
   "cell_type": "code",
   "execution_count": 71,
   "metadata": {},
   "outputs": [
    {
     "name": "stdout",
     "output_type": "stream",
     "text": [
      "[1] \"summary for cw0:  1 and cw3:  1\"\n",
      " tr_specificity   cv_specificity  \n",
      " Min.   :0.2000   Min.   :0.0000  \n",
      " 1st Qu.:0.5833   1st Qu.:0.0000  \n",
      " Median :0.6667   Median :0.0000  \n",
      " Mean   :0.6389   Mean   :0.1804  \n",
      " 3rd Qu.:0.7143   3rd Qu.:0.2589  \n",
      " Max.   :1.0000   Max.   :1.0000  \n",
      "                  NA's   :18      \n",
      "[1] \"summary for cw0:  1 and cw3:  10\"\n",
      " tr_specificity   cv_specificity  \n",
      " Min.   :0.2000   Min.   :0.0000  \n",
      " 1st Qu.:0.5714   1st Qu.:0.0000  \n",
      " Median :0.6667   Median :0.0000  \n",
      " Mean   :0.6397   Mean   :0.1838  \n",
      " 3rd Qu.:0.7143   3rd Qu.:0.2500  \n",
      " Max.   :0.8571   Max.   :1.0000  \n",
      "                  NA's   :18      \n",
      "[1] \"summary for cw0:  1 and cw3:  0.1\"\n",
      " tr_specificity   cv_specificity  \n",
      " Min.   :0.0000   Min.   :0.0000  \n",
      " 1st Qu.:0.5833   1st Qu.:0.0000  \n",
      " Median :0.6364   Median :0.0000  \n",
      " Mean   :0.6335   Mean   :0.1872  \n",
      " 3rd Qu.:0.7143   3rd Qu.:0.2500  \n",
      " Max.   :0.8889   Max.   :1.0000  \n",
      "                  NA's   :18      \n",
      "[1] \"summary for cw0:  10 and cw3:  1\"\n",
      " tr_specificity   cv_specificity  \n",
      " Min.   :0.2500   Min.   :0.0000  \n",
      " 1st Qu.:0.5556   1st Qu.:0.0000  \n",
      " Median :0.6364   Median :0.0000  \n",
      " Mean   :0.6260   Mean   :0.1864  \n",
      " 3rd Qu.:0.7000   3rd Qu.:0.2500  \n",
      " Max.   :0.8571   Max.   :1.0000  \n",
      "                  NA's   :18      \n",
      "[1] \"summary for cw0:  10 and cw3:  10\"\n",
      " tr_specificity   cv_specificity  \n",
      " Min.   :0.2500   Min.   :0.0000  \n",
      " 1st Qu.:0.5833   1st Qu.:0.0000  \n",
      " Median :0.6307   Median :0.0000  \n",
      " Mean   :0.6331   Mean   :0.1777  \n",
      " 3rd Qu.:0.7143   3rd Qu.:0.2500  \n",
      " Max.   :1.0000   Max.   :1.0000  \n",
      "                  NA's   :18      \n",
      "[1] \"summary for cw0:  10 and cw3:  0.1\"\n",
      " tr_specificity   cv_specificity  \n",
      " Min.   :0.2500   Min.   :0.0000  \n",
      " 1st Qu.:0.5714   1st Qu.:0.0000  \n",
      " Median :0.6364   Median :0.0000  \n",
      " Mean   :0.6324   Mean   :0.1847  \n",
      " 3rd Qu.:0.7143   3rd Qu.:0.2857  \n",
      " Max.   :1.0000   Max.   :1.0000  \n",
      "                  NA's   :18      \n",
      "[1] \"summary for cw0:  100 and cw3:  1\"\n",
      " tr_specificity   cv_specificity  \n",
      " Min.   :0.2000   Min.   :0.0000  \n",
      " 1st Qu.:0.5714   1st Qu.:0.0000  \n",
      " Median :0.6364   Median :0.0000  \n",
      " Mean   :0.6334   Mean   :0.1917  \n",
      " 3rd Qu.:0.7143   3rd Qu.:0.2500  \n",
      " Max.   :1.0000   Max.   :1.0000  \n",
      "                  NA's   :18      \n",
      "[1] \"summary for cw0:  100 and cw3:  10\"\n",
      " tr_specificity   cv_specificity  \n",
      " Min.   :0.2500   Min.   :0.0000  \n",
      " 1st Qu.:0.5714   1st Qu.:0.0000  \n",
      " Median :0.6396   Median :0.0000  \n",
      " Mean   :0.6325   Mean   :0.1709  \n",
      " 3rd Qu.:0.7143   3rd Qu.:0.2500  \n",
      " Max.   :1.0000   Max.   :1.0000  \n",
      "                  NA's   :18      \n",
      "[1] \"summary for cw0:  100 and cw3:  0.1\"\n",
      " tr_specificity   cv_specificity  \n",
      " Min.   :0.3333   Min.   :0.0000  \n",
      " 1st Qu.:0.5833   1st Qu.:0.0000  \n",
      " Median :0.6667   Median :0.0000  \n",
      " Mean   :0.6434   Mean   :0.1937  \n",
      " 3rd Qu.:0.7143   3rd Qu.:0.2500  \n",
      " Max.   :0.8571   Max.   :1.0000  \n",
      "                  NA's   :18      \n",
      "[1] \"summary for cw0:  1000 and cw3:  1\"\n",
      " tr_specificity   cv_specificity  \n",
      " Min.   :0.2500   Min.   :0.0000  \n",
      " 1st Qu.:0.5714   1st Qu.:0.0000  \n",
      " Median :0.6364   Median :0.0000  \n",
      " Mean   :0.6353   Mean   :0.1781  \n",
      " 3rd Qu.:0.7143   3rd Qu.:0.2500  \n",
      " Max.   :0.8571   Max.   :1.0000  \n",
      "                  NA's   :18      \n",
      "[1] \"summary for cw0:  1000 and cw3:  10\"\n",
      " tr_specificity   cv_specificity  \n",
      " Min.   :0.3333   Min.   :0.0000  \n",
      " 1st Qu.:0.5480   1st Qu.:0.0000  \n",
      " Median :0.6250   Median :0.0000  \n",
      " Mean   :0.6257   Mean   :0.1879  \n",
      " 3rd Qu.:0.7107   3rd Qu.:0.2589  \n",
      " Max.   :0.8571   Max.   :1.0000  \n",
      "                  NA's   :18      \n",
      "[1] \"summary for cw0:  1000 and cw3:  0.1\"\n",
      " tr_specificity   cv_specificity \n",
      " Min.   :0.2500   Min.   :0.000  \n",
      " 1st Qu.:0.6000   1st Qu.:0.000  \n",
      " Median :0.6667   Median :0.000  \n",
      " Mean   :0.6416   Mean   :0.183  \n",
      " 3rd Qu.:0.7143   3rd Qu.:0.250  \n",
      " Max.   :0.8571   Max.   :1.000  \n",
      "                  NA's   :18     \n",
      "[1] \"summary for cw0:  10000 and cw3:  1\"\n",
      " tr_specificity   cv_specificity  \n",
      " Min.   :0.3333   Min.   :0.0000  \n",
      " 1st Qu.:0.5714   1st Qu.:0.0000  \n",
      " Median :0.6667   Median :0.0000  \n",
      " Mean   :0.6344   Mean   :0.1765  \n",
      " 3rd Qu.:0.7107   3rd Qu.:0.2857  \n",
      " Max.   :0.8571   Max.   :1.0000  \n",
      "                  NA's   :18      \n",
      "[1] \"summary for cw0:  10000 and cw3:  10\"\n",
      " tr_specificity   cv_specificity  \n",
      " Min.   :0.3333   Min.   :0.0000  \n",
      " 1st Qu.:0.5714   1st Qu.:0.0000  \n",
      " Median :0.6667   Median :0.0000  \n",
      " Mean   :0.6426   Mean   :0.1819  \n",
      " 3rd Qu.:0.7240   3rd Qu.:0.2500  \n",
      " Max.   :1.0000   Max.   :1.0000  \n",
      "                  NA's   :18      \n",
      "[1] \"summary for cw0:  10000 and cw3:  0.1\"\n",
      " tr_specificity   cv_specificity  \n",
      " Min.   :0.2500   Min.   :0.0000  \n",
      " 1st Qu.:0.5744   1st Qu.:0.0000  \n",
      " Median :0.6667   Median :0.0000  \n",
      " Mean   :0.6389   Mean   :0.1808  \n",
      " 3rd Qu.:0.7240   3rd Qu.:0.2708  \n",
      " Max.   :1.0000   Max.   :1.0000  \n",
      "                  NA's   :18      \n"
     ]
    }
   ],
   "source": [
    "## let's see what mtry looks the best for exp2: \n",
    "for (cw0 in c(1, 10, 100, 1000, 10000)){\n",
    "    for (cw3 in c(1, 10, .1)){\n",
    "        cw0_outcome = outcome_all_expt[which(outcome_all_expt$cw0==cw0),]\n",
    "        cw3_outcome = cw0_outcome[which(cw0_outcome$cw3==cw3),]\n",
    "        print(paste('summary for cw0: ', as.character(cw0), 'and cw3: ', as.character(cw3)))\n",
    "        print(summary(cw3_outcome[,grep('specificity', colnames(cw3_outcome))]))\n",
    "    }\n",
    "}\n"
   ]
  },
  {
   "cell_type": "code",
   "execution_count": 72,
   "metadata": {
    "scrolled": true
   },
   "outputs": [
    {
     "name": "stdout",
     "output_type": "stream",
     "text": [
      "[1] \"summary for nodesize:  1 and mtry:  2\"\n",
      " tr_specificity   cv_specificity  \n",
      " Min.   :0.2500   Min.   :0.0000  \n",
      " 1st Qu.:0.6000   1st Qu.:0.0000  \n",
      " Median :0.6667   Median :0.0000  \n",
      " Mean   :0.6578   Mean   :0.1665  \n",
      " 3rd Qu.:0.7500   3rd Qu.:0.2500  \n",
      " Max.   :1.0000   Max.   :1.0000  \n",
      "                  NA's   :45      \n",
      "[1] \"summary for nodesize:  1 and mtry:  4\"\n",
      " tr_specificity   cv_specificity  \n",
      " Min.   :0.2500   Min.   :0.0000  \n",
      " 1st Qu.:0.5714   1st Qu.:0.0000  \n",
      " Median :0.6667   Median :0.0000  \n",
      " Mean   :0.6330   Mean   :0.1817  \n",
      " 3rd Qu.:0.7143   3rd Qu.:0.2500  \n",
      " Max.   :0.8571   Max.   :1.0000  \n",
      "                  NA's   :45      \n",
      "[1] \"summary for nodesize:  1 and mtry:  6\"\n",
      " tr_specificity   cv_specificity  \n",
      " Min.   :0.2000   Min.   :0.0000  \n",
      " 1st Qu.:0.5556   1st Qu.:0.0000  \n",
      " Median :0.6364   Median :0.0000  \n",
      " Mean   :0.6214   Mean   :0.1869  \n",
      " 3rd Qu.:0.7000   3rd Qu.:0.2500  \n",
      " Max.   :0.8571   Max.   :1.0000  \n",
      "                  NA's   :45      \n",
      "[1] \"summary for nodesize:  2 and mtry:  2\"\n",
      " tr_specificity   cv_specificity  \n",
      " Min.   :0.0000   Min.   :0.0000  \n",
      " 1st Qu.:0.6000   1st Qu.:0.0000  \n",
      " Median :0.6667   Median :0.0000  \n",
      " Mean   :0.6524   Mean   :0.1742  \n",
      " 3rd Qu.:0.7500   3rd Qu.:0.2500  \n",
      " Max.   :1.0000   Max.   :1.0000  \n",
      "                  NA's   :45      \n",
      "[1] \"summary for nodesize:  2 and mtry:  4\"\n",
      " tr_specificity   cv_specificity  \n",
      " Min.   :0.2500   Min.   :0.0000  \n",
      " 1st Qu.:0.5714   1st Qu.:0.0000  \n",
      " Median :0.6667   Median :0.0000  \n",
      " Mean   :0.6349   Mean   :0.1873  \n",
      " 3rd Qu.:0.7000   3rd Qu.:0.3214  \n",
      " Max.   :0.8571   Max.   :1.0000  \n",
      "                  NA's   :45      \n",
      "[1] \"summary for nodesize:  2 and mtry:  6\"\n",
      " tr_specificity   cv_specificity   \n",
      " Min.   :0.2000   Min.   :0.00000  \n",
      " 1st Qu.:0.5455   1st Qu.:0.00000  \n",
      " Median :0.6154   Median :0.07143  \n",
      " Mean   :0.6131   Mean   :0.20132  \n",
      " 3rd Qu.:0.7000   3rd Qu.:0.28571  \n",
      " Max.   :0.8571   Max.   :1.00000  \n",
      "                  NA's   :45       \n"
     ]
    }
   ],
   "source": [
    "## let's see what mtry looks the best for exp2: \n",
    "for (nodesize in c(1, 2)){\n",
    "    for (mtry in c(2, 4, 6)){\n",
    "        nodesize_outcome = outcome_all_expt[which(outcome_all_expt$node_size==nodesize),]\n",
    "        mtry_outcome = nodesize_outcome[which(nodesize_outcome$mtry==mtry),]\n",
    "        print(paste('summary for nodesize: ', as.character(nodesize), 'and mtry: ', as.character(mtry)))\n",
    "        print(summary(mtry_outcome[,grep('specificity', colnames(mtry_outcome))]))\n",
    "    }\n",
    "}\n"
   ]
  },
  {
   "cell_type": "code",
   "execution_count": 73,
   "metadata": {},
   "outputs": [
    {
     "data": {
      "text/plain": [
       "tumor_cell_evaluation ~ nfl + nfse + nt1c + nt1v + nt1d + nadc.1 + \n",
       "    nfa.1 + nev1.1 + nev2.1 + nev3.1 + nevrad.1 + cbvn_nlin + \n",
       "    phn_nlin + recov_nlin + phn_npar + recov_npar + ccri + cni + \n",
       "    crni + ncho + ncre + nnaa + nlac + nlip + nLL"
      ]
     },
     "metadata": {},
     "output_type": "display_data"
    }
   ],
   "source": [
    "outcome = \"tumor_cell_evaluation\"\n",
    "all_features = c(anat, diffu, perf, spec)\n",
    "features.addsign <- paste(all_features, collapse = \"+\")\n",
    "rf_formula = as.formula(paste(outcome, features.addsign, sep = \"~\"))\n",
    "rf_formula"
   ]
  },
  {
   "cell_type": "code",
   "execution_count": 74,
   "metadata": {},
   "outputs": [],
   "source": [
    "set.seed(10)"
   ]
  },
  {
   "cell_type": "code",
   "execution_count": 75,
   "metadata": {},
   "outputs": [],
   "source": [
    "rf = randomForest(formula = rf_formula, \n",
    "     data = recgli_train, nodesize = 2, mtry = 4, cw = c(1, 10), na.action = na.omit)\n"
   ]
  },
  {
   "cell_type": "code",
   "execution_count": 76,
   "metadata": {},
   "outputs": [
    {
     "data": {
      "text/plain": [
       "Confusion Matrix and Statistics\n",
       "\n",
       "          Reference\n",
       "Prediction 0 3\n",
       "         0 4 2\n",
       "         3 2 8\n",
       "                                          \n",
       "               Accuracy : 0.75            \n",
       "                 95% CI : (0.4762, 0.9273)\n",
       "    No Information Rate : 0.625           \n",
       "    P-Value [Acc > NIR] : 0.2226          \n",
       "                                          \n",
       "                  Kappa : 0.4667          \n",
       " Mcnemar's Test P-Value : 1.0000          \n",
       "                                          \n",
       "            Sensitivity : 0.6667          \n",
       "            Specificity : 0.8000          \n",
       "         Pos Pred Value : 0.6667          \n",
       "         Neg Pred Value : 0.8000          \n",
       "             Prevalence : 0.3750          \n",
       "         Detection Rate : 0.2500          \n",
       "   Detection Prevalence : 0.3750          \n",
       "      Balanced Accuracy : 0.7333          \n",
       "                                          \n",
       "       'Positive' Class : 0               \n",
       "                                          "
      ]
     },
     "metadata": {},
     "output_type": "display_data"
    }
   ],
   "source": [
    "preds = predict(rf, recgli_test)\n",
    "preds_conf_mat = confusionMatrix(preds, recgli_test$tumor_cell_evaluation)\n",
    "preds_conf_mat"
   ]
  },
  {
   "cell_type": "markdown",
   "metadata": {},
   "source": [
    "## All features with RFSRC: "
   ]
  },
  {
   "cell_type": "code",
   "execution_count": 77,
   "metadata": {},
   "outputs": [],
   "source": [
    "# library(randomForestSRC)"
   ]
  },
  {
   "cell_type": "code",
   "execution_count": 78,
   "metadata": {},
   "outputs": [],
   "source": [
    "# outcome_all_SRC_expt = outcome_experiment_template"
   ]
  },
  {
   "cell_type": "code",
   "execution_count": 79,
   "metadata": {},
   "outputs": [],
   "source": [
    "# features = c(anat, diffu, perf, spec)"
   ]
  },
  {
   "cell_type": "code",
   "execution_count": 80,
   "metadata": {},
   "outputs": [],
   "source": [
    "# ## let's begin by running expts for all_SRComic features only: \n",
    "# ## for each expt, we'll run the random forest with a variety of parameters \n",
    "# expnum = 1\n",
    "# tic()\n",
    "# for (i in 1:25){\n",
    "#     set.seed(i)\n",
    "    \n",
    "#     ## define features and outcome: \n",
    "#     outcome = \"tumor_cell_evaluation\"\n",
    "#     all_SRC_features = c(anat, diffu, perf, spec)\n",
    "#     features.addsign <- paste(all_SRC_features, collapse = \"+\")\n",
    "#     rf_formula = as.formula(paste(outcome, features.addsign, sep = \"~\"))\n",
    "    \n",
    "#     ## define training and testing (from the training) basicall_SRCy for x-val: \n",
    "#     unique_tnums = unique(recgli_train$t_number_y)\n",
    "#     train_tnums = unique_tnums[sample(c(1:length(unique_tnums)), size = round(length(unique_tnums)*.75))]\n",
    "#     test_tnums = unique_tnums[! unique_tnums %in% train_tnums]\n",
    "    \n",
    "#     recgli_exp_train= recgli_train[recgli_train$t_number_y %in% train_tnums, ]\n",
    "#     recgli_exp_cv = recgli_train[! recgli_train$t_number_y %in% train_tnums, ]\n",
    "#     for (nodesize in c(1, 2)){\n",
    "#         for (mtry in c(2, 4, 6)){\n",
    "#             for (cw0 in c(1, 10, 100, 1000, 10000)){\n",
    "#                 for (cw3 in c(1, 10, .1)){\n",
    "#                     rf = rfsrc(formula = rf_formula, \n",
    "#                          data = recgli_exp_train, nodesize = nodesize, mtry = mtry, #yvar.wt = c(cw0, cw3), \n",
    "#                                na.action = \"na.impute\")\n",
    "                    \n",
    "#                     train_preds_logreg =round(rf$predicted)\n",
    "#                     train_preds_final = ifelse(train_preds_logreg[,c('0')]==1, 0, 3) \n",
    "#                     train_conf_mat = confusionMatrix(as.factor(cv_preds_final), as.factor(as.numeric(as.character(recgli_exp_cv$tumor_cell_evaluation))))\n",
    "                    \n",
    "\n",
    "#                     cv_preds = predict(rf, recgli_exp_cv, na.action = \"na.impute\")\n",
    "#                     cv_preds_logreg =round(cv_preds$predicted)\n",
    "#                     cv_preds_final = ifelse(cv_preds_logreg[,c('0')]==1, 0, 3) \n",
    "#                     cv_conf_mat = confusionMatrix(as.factor(cv_preds_final), as.factor(as.numeric(as.character(recgli_exp_cv$tumor_cell_evaluation))))\n",
    "                    \n",
    "#                     outcome_all_SRC_expt[expnum,'expnum'] = expnum\n",
    "#                     outcome_all_SRC_expt[expnum,'node_size'] = nodesize\n",
    "#                     outcome_all_SRC_expt[expnum,'mtry'] = mtry\n",
    "#                     outcome_all_SRC_expt[expnum,'cw0'] = cw0\n",
    "#                     outcome_all_SRC_expt[expnum,'cw3'] = cw3\n",
    "#                     outcome_all_SRC_expt[expnum,'tr_out0_pred0'] = train_conf_mat$table['0', '0']\n",
    "#                     outcome_all_SRC_expt[expnum,'tr_out0_pred3'] = train_conf_mat$table['0', '3']\n",
    "#                     outcome_all_SRC_expt[expnum,'tr_out3_pred0'] = train_conf_mat$table['3', '0']\n",
    "#                     outcome_all_SRC_expt[expnum,'tr_out3_pred3'] = train_conf_mat$table['3', '3']\n",
    "#                     outcome_all_SRC_expt[expnum,'cv_out0_pred0'] = cv_conf_mat$table['0', '0']\n",
    "#                     outcome_all_SRC_expt[expnum,'cv_out0_pred3'] = cv_conf_mat$table['0', '3']\n",
    "#                     outcome_all_SRC_expt[expnum,'cv_out3_pred0'] = cv_conf_mat$table['3', '0']\n",
    "#                     outcome_all_SRC_expt[expnum,'cv_out3_pred3'] = cv_conf_mat$table['3', '3']\n",
    "#                     expnum = expnum + 1\n",
    "#                 }\n",
    "#             }\n",
    "\n",
    "#         }\n",
    "#     }\n",
    "# }\n",
    "# toc()"
   ]
  },
  {
   "cell_type": "code",
   "execution_count": 81,
   "metadata": {},
   "outputs": [],
   "source": [
    "# outcome_all_SRC_expt"
   ]
  },
  {
   "cell_type": "code",
   "execution_count": 82,
   "metadata": {},
   "outputs": [],
   "source": [
    "# outcome_all_SRC_expt['tr_specificity'] = (outcome_all_SRC_expt$tr_out0_pred0)/(outcome_all_SRC_expt$tr_out0_pred0+outcome_all_SRC_expt$tr_out3_pred0)\n",
    "# outcome_all_SRC_expt['cv_specificity'] = (outcome_all_SRC_expt$cv_out0_pred0)/(outcome_all_SRC_expt$cv_out0_pred0+outcome_all_SRC_expt$cv_out3_pred0)"
   ]
  },
  {
   "cell_type": "code",
   "execution_count": 83,
   "metadata": {},
   "outputs": [],
   "source": [
    "# ## let's see what mtry looks the best for exp2: \n",
    "# for (nodesize in c(1, 2)){\n",
    "#     for (mtry in c(2, 4, 6)){\n",
    "#         nodesize_outcome = outcome_all_SRC_expt[which(outcome_all_SRC_expt$node_size==nodesize),]\n",
    "#         mtry_outcome = nodesize_outcome[which(nodesize_outcome$mtry==mtry),]\n",
    "#         print(paste('summary for nodesize: ', as.character(nodesize), 'and mtry: ', as.character(mtry)))\n",
    "#         print(summary(mtry_outcome[,grep('specificity', colnames(mtry_outcome))]))\n",
    "#     }\n",
    "# }\n"
   ]
  },
  {
   "cell_type": "markdown",
   "metadata": {},
   "source": [
    "## All features with median imputation: "
   ]
  },
  {
   "cell_type": "code",
   "execution_count": 84,
   "metadata": {},
   "outputs": [
    {
     "data": {
      "text/html": [
       "2.49"
      ],
      "text/latex": [
       "2.49"
      ],
      "text/markdown": [
       "2.49"
      ],
      "text/plain": [
       "[1] 2.49"
      ]
     },
     "metadata": {},
     "output_type": "display_data"
    },
    {
     "data": {
      "text/html": [
       "<ol class=list-inline>\n",
       "\t<li>TRUE</li>\n",
       "\t<li>FALSE</li>\n",
       "\t<li>FALSE</li>\n",
       "\t<li>FALSE</li>\n",
       "\t<li>TRUE</li>\n",
       "\t<li>FALSE</li>\n",
       "\t<li>FALSE</li>\n",
       "\t<li>FALSE</li>\n",
       "\t<li>FALSE</li>\n",
       "\t<li>FALSE</li>\n",
       "\t<li>TRUE</li>\n",
       "\t<li>FALSE</li>\n",
       "\t<li>FALSE</li>\n",
       "\t<li>FALSE</li>\n",
       "\t<li>FALSE</li>\n",
       "\t<li>TRUE</li>\n",
       "\t<li>TRUE</li>\n",
       "\t<li>TRUE</li>\n",
       "\t<li>FALSE</li>\n",
       "\t<li>TRUE</li>\n",
       "\t<li>TRUE</li>\n",
       "\t<li>TRUE</li>\n",
       "\t<li>FALSE</li>\n",
       "\t<li>FALSE</li>\n",
       "\t<li>TRUE</li>\n",
       "\t<li>TRUE</li>\n",
       "\t<li>TRUE</li>\n",
       "\t<li>TRUE</li>\n",
       "\t<li>TRUE</li>\n",
       "\t<li>TRUE</li>\n",
       "\t<li>FALSE</li>\n",
       "\t<li>FALSE</li>\n",
       "\t<li>TRUE</li>\n",
       "\t<li>TRUE</li>\n",
       "\t<li>TRUE</li>\n",
       "\t<li>FALSE</li>\n",
       "\t<li>TRUE</li>\n",
       "\t<li>FALSE</li>\n",
       "\t<li>FALSE</li>\n",
       "\t<li>FALSE</li>\n",
       "\t<li>TRUE</li>\n",
       "\t<li>TRUE</li>\n",
       "\t<li>TRUE</li>\n",
       "\t<li>TRUE</li>\n",
       "\t<li>TRUE</li>\n",
       "\t<li>FALSE</li>\n",
       "\t<li>TRUE</li>\n",
       "\t<li>TRUE</li>\n",
       "\t<li>TRUE</li>\n",
       "\t<li>TRUE</li>\n",
       "\t<li>TRUE</li>\n",
       "\t<li>FALSE</li>\n",
       "\t<li>FALSE</li>\n",
       "\t<li>FALSE</li>\n",
       "\t<li>TRUE</li>\n",
       "\t<li>FALSE</li>\n",
       "\t<li>FALSE</li>\n",
       "\t<li>TRUE</li>\n",
       "\t<li>TRUE</li>\n",
       "\t<li>TRUE</li>\n",
       "\t<li>TRUE</li>\n",
       "\t<li>FALSE</li>\n",
       "\t<li>TRUE</li>\n",
       "\t<li>TRUE</li>\n",
       "\t<li>FALSE</li>\n",
       "\t<li>TRUE</li>\n",
       "\t<li>TRUE</li>\n",
       "\t<li>TRUE</li>\n",
       "\t<li>FALSE</li>\n",
       "\t<li>TRUE</li>\n",
       "\t<li>FALSE</li>\n",
       "\t<li>FALSE</li>\n",
       "\t<li>TRUE</li>\n",
       "\t<li>TRUE</li>\n",
       "\t<li>FALSE</li>\n",
       "\t<li>TRUE</li>\n",
       "\t<li>FALSE</li>\n",
       "\t<li>FALSE</li>\n",
       "\t<li>TRUE</li>\n",
       "\t<li>TRUE</li>\n",
       "\t<li>TRUE</li>\n",
       "\t<li>FALSE</li>\n",
       "</ol>\n"
      ],
      "text/latex": [
       "\\begin{enumerate*}\n",
       "\\item TRUE\n",
       "\\item FALSE\n",
       "\\item FALSE\n",
       "\\item FALSE\n",
       "\\item TRUE\n",
       "\\item FALSE\n",
       "\\item FALSE\n",
       "\\item FALSE\n",
       "\\item FALSE\n",
       "\\item FALSE\n",
       "\\item TRUE\n",
       "\\item FALSE\n",
       "\\item FALSE\n",
       "\\item FALSE\n",
       "\\item FALSE\n",
       "\\item TRUE\n",
       "\\item TRUE\n",
       "\\item TRUE\n",
       "\\item FALSE\n",
       "\\item TRUE\n",
       "\\item TRUE\n",
       "\\item TRUE\n",
       "\\item FALSE\n",
       "\\item FALSE\n",
       "\\item TRUE\n",
       "\\item TRUE\n",
       "\\item TRUE\n",
       "\\item TRUE\n",
       "\\item TRUE\n",
       "\\item TRUE\n",
       "\\item FALSE\n",
       "\\item FALSE\n",
       "\\item TRUE\n",
       "\\item TRUE\n",
       "\\item TRUE\n",
       "\\item FALSE\n",
       "\\item TRUE\n",
       "\\item FALSE\n",
       "\\item FALSE\n",
       "\\item FALSE\n",
       "\\item TRUE\n",
       "\\item TRUE\n",
       "\\item TRUE\n",
       "\\item TRUE\n",
       "\\item TRUE\n",
       "\\item FALSE\n",
       "\\item TRUE\n",
       "\\item TRUE\n",
       "\\item TRUE\n",
       "\\item TRUE\n",
       "\\item TRUE\n",
       "\\item FALSE\n",
       "\\item FALSE\n",
       "\\item FALSE\n",
       "\\item TRUE\n",
       "\\item FALSE\n",
       "\\item FALSE\n",
       "\\item TRUE\n",
       "\\item TRUE\n",
       "\\item TRUE\n",
       "\\item TRUE\n",
       "\\item FALSE\n",
       "\\item TRUE\n",
       "\\item TRUE\n",
       "\\item FALSE\n",
       "\\item TRUE\n",
       "\\item TRUE\n",
       "\\item TRUE\n",
       "\\item FALSE\n",
       "\\item TRUE\n",
       "\\item FALSE\n",
       "\\item FALSE\n",
       "\\item TRUE\n",
       "\\item TRUE\n",
       "\\item FALSE\n",
       "\\item TRUE\n",
       "\\item FALSE\n",
       "\\item FALSE\n",
       "\\item TRUE\n",
       "\\item TRUE\n",
       "\\item TRUE\n",
       "\\item FALSE\n",
       "\\end{enumerate*}\n"
      ],
      "text/markdown": [
       "1. TRUE\n",
       "2. FALSE\n",
       "3. FALSE\n",
       "4. FALSE\n",
       "5. TRUE\n",
       "6. FALSE\n",
       "7. FALSE\n",
       "8. FALSE\n",
       "9. FALSE\n",
       "10. FALSE\n",
       "11. TRUE\n",
       "12. FALSE\n",
       "13. FALSE\n",
       "14. FALSE\n",
       "15. FALSE\n",
       "16. TRUE\n",
       "17. TRUE\n",
       "18. TRUE\n",
       "19. FALSE\n",
       "20. TRUE\n",
       "21. TRUE\n",
       "22. TRUE\n",
       "23. FALSE\n",
       "24. FALSE\n",
       "25. TRUE\n",
       "26. TRUE\n",
       "27. TRUE\n",
       "28. TRUE\n",
       "29. TRUE\n",
       "30. TRUE\n",
       "31. FALSE\n",
       "32. FALSE\n",
       "33. TRUE\n",
       "34. TRUE\n",
       "35. TRUE\n",
       "36. FALSE\n",
       "37. TRUE\n",
       "38. FALSE\n",
       "39. FALSE\n",
       "40. FALSE\n",
       "41. TRUE\n",
       "42. TRUE\n",
       "43. TRUE\n",
       "44. TRUE\n",
       "45. TRUE\n",
       "46. FALSE\n",
       "47. TRUE\n",
       "48. TRUE\n",
       "49. TRUE\n",
       "50. TRUE\n",
       "51. TRUE\n",
       "52. FALSE\n",
       "53. FALSE\n",
       "54. FALSE\n",
       "55. TRUE\n",
       "56. FALSE\n",
       "57. FALSE\n",
       "58. TRUE\n",
       "59. TRUE\n",
       "60. TRUE\n",
       "61. TRUE\n",
       "62. FALSE\n",
       "63. TRUE\n",
       "64. TRUE\n",
       "65. FALSE\n",
       "66. TRUE\n",
       "67. TRUE\n",
       "68. TRUE\n",
       "69. FALSE\n",
       "70. TRUE\n",
       "71. FALSE\n",
       "72. FALSE\n",
       "73. TRUE\n",
       "74. TRUE\n",
       "75. FALSE\n",
       "76. TRUE\n",
       "77. FALSE\n",
       "78. FALSE\n",
       "79. TRUE\n",
       "80. TRUE\n",
       "81. TRUE\n",
       "82. FALSE\n",
       "\n",
       "\n"
      ],
      "text/plain": [
       " [1]  TRUE FALSE FALSE FALSE  TRUE FALSE FALSE FALSE FALSE FALSE  TRUE FALSE\n",
       "[13] FALSE FALSE FALSE  TRUE  TRUE  TRUE FALSE  TRUE  TRUE  TRUE FALSE FALSE\n",
       "[25]  TRUE  TRUE  TRUE  TRUE  TRUE  TRUE FALSE FALSE  TRUE  TRUE  TRUE FALSE\n",
       "[37]  TRUE FALSE FALSE FALSE  TRUE  TRUE  TRUE  TRUE  TRUE FALSE  TRUE  TRUE\n",
       "[49]  TRUE  TRUE  TRUE FALSE FALSE FALSE  TRUE FALSE FALSE  TRUE  TRUE  TRUE\n",
       "[61]  TRUE FALSE  TRUE  TRUE FALSE  TRUE  TRUE  TRUE FALSE  TRUE FALSE FALSE\n",
       "[73]  TRUE  TRUE FALSE  TRUE FALSE FALSE  TRUE  TRUE  TRUE FALSE"
      ]
     },
     "metadata": {},
     "output_type": "display_data"
    }
   ],
   "source": [
    "recgli_exp_train_imp = recgli_exp_train\n",
    "feature = 'cni'\n",
    "recgli_exp_train_median_feature = median(recgli_exp_train[,feature], na.rm = T)\n",
    "recgli_exp_train_median_feature\n",
    "is.na(recgli_exp_train[,feature])                                                             "
   ]
  },
  {
   "cell_type": "code",
   "execution_count": 85,
   "metadata": {},
   "outputs": [
    {
     "name": "stderr",
     "output_type": "stream",
     "text": [
      "Warning message in is.na(recgli_exp_train_imp$feature):\n",
      "“is.na() applied to non-(list or vector) of type 'NULL'”"
     ]
    },
    {
     "data": {
      "text/html": [],
      "text/latex": [],
      "text/markdown": [],
      "text/plain": [
       "logical(0)"
      ]
     },
     "metadata": {},
     "output_type": "display_data"
    }
   ],
   "source": [
    "is.na(recgli_exp_train_imp$feature)"
   ]
  },
  {
   "cell_type": "code",
   "execution_count": 86,
   "metadata": {},
   "outputs": [],
   "source": [
    "outcome_all_expt = outcome_experiment_template"
   ]
  },
  {
   "cell_type": "code",
   "execution_count": 87,
   "metadata": {},
   "outputs": [],
   "source": [
    "features = c(anat, diffu, perf, spec)"
   ]
  },
  {
   "cell_type": "code",
   "execution_count": 88,
   "metadata": {},
   "outputs": [
    {
     "name": "stdout",
     "output_type": "stream",
     "text": [
      "53.188 sec elapsed\n"
     ]
    }
   ],
   "source": [
    "## let's begin by running expts for allomic features only: \n",
    "## for each expt, we'll run the random forest with a variety of parameters \n",
    "expnum = 1\n",
    "tic()\n",
    "for (i in 1:25){\n",
    "    set.seed(i)\n",
    "    \n",
    "    ## define features and outcome: \n",
    "    outcome = \"tumor_cell_evaluation\"\n",
    "    all_features = c(anat, diffu, perf, spec)\n",
    "    features.addsign <- paste(all_features, collapse = \"+\")\n",
    "    rf_formula = as.formula(paste(outcome, features.addsign, sep = \"~\"))\n",
    "    \n",
    "    ## define training and testing (from the training) basically for x-val: \n",
    "    unique_tnums = unique(recgli_train$t_number_y)\n",
    "    train_tnums = unique_tnums[sample(c(1:length(unique_tnums)), size = round(length(unique_tnums)*.75))]\n",
    "    test_tnums = unique_tnums[! unique_tnums %in% train_tnums]   \n",
    "    recgli_exp_train= recgli_train[recgli_train$t_number_y %in% train_tnums, ]\n",
    "    recgli_exp_cv = recgli_train[! recgli_train$t_number_y %in% train_tnums, ]\n",
    "    \n",
    "    ## median imputation: \n",
    "    for (feature in all_features){\n",
    "        recgli_exp_train_median_feature = median(recgli_exp_train[,feature])\n",
    "        which(is.na(recgli_exp_train[,feature]))\n",
    "    }\n",
    "    \n",
    "    #print(table(is.na((recgli_exp_train$cbvn_nlin))))\n",
    "    for (nodesize in c(1, 2)){\n",
    "        for (mtry in c(2, 4, 6)){\n",
    "            for (cw0 in c(1, 10, 100, 1000, 10000)){\n",
    "                for (cw3 in c(1, 10, .1)){\n",
    "                    rf = randomForest(formula = rf_formula, \n",
    "                         data = recgli_exp_train, nodesize = nodesize, mtry = mtry, cw = c(cw0, cw3), na.action = na.omit)\n",
    "\n",
    "                    cv_preds = predict(rf, recgli_exp_cv)\n",
    "\n",
    "                    cv_conf_mat = confusionMatrix(cv_preds, recgli_exp_cv$tumor_cell_evaluation)\n",
    "\n",
    "                    outcome_all_expt[expnum,'expnum'] = expnum\n",
    "                    outcome_all_expt[expnum,'node_size'] = nodesize\n",
    "                    outcome_all_expt[expnum,'mtry'] = mtry\n",
    "                    outcome_all_expt[expnum,'cw0'] = cw0\n",
    "                    outcome_all_expt[expnum,'cw3'] = cw3\n",
    "                    outcome_all_expt[expnum,'tr_out0_pred0'] = rf$confusion['0', '0']\n",
    "                    outcome_all_expt[expnum,'tr_out0_pred3'] = rf$confusion['0', '3']\n",
    "                    outcome_all_expt[expnum,'tr_out3_pred0'] = rf$confusion['3', '0']\n",
    "                    outcome_all_expt[expnum,'tr_out3_pred3'] = rf$confusion['3', '3']\n",
    "                    outcome_all_expt[expnum,'cv_out0_pred0'] = cv_conf_mat$table['0', '0']\n",
    "                    outcome_all_expt[expnum,'cv_out0_pred3'] = cv_conf_mat$table['0', '3']\n",
    "                    outcome_all_expt[expnum,'cv_out3_pred0'] = cv_conf_mat$table['3', '0']\n",
    "                    outcome_all_expt[expnum,'cv_out3_pred3'] = cv_conf_mat$table['3', '3']\n",
    "                    expnum = expnum + 1\n",
    "                }\n",
    "            }\n",
    "\n",
    "        }\n",
    "    }\n",
    "}\n",
    "toc()"
   ]
  },
  {
   "cell_type": "code",
   "execution_count": 89,
   "metadata": {},
   "outputs": [],
   "source": [
    "outcome_all_expt['tr_specificity'] = (outcome_all_expt$tr_out0_pred0)/(outcome_all_expt$tr_out0_pred0+outcome_all_expt$tr_out3_pred0)\n",
    "outcome_all_expt['cv_specificity'] = (outcome_all_expt$cv_out0_pred0)/(outcome_all_expt$cv_out0_pred0+outcome_all_expt$cv_out3_pred0)"
   ]
  },
  {
   "cell_type": "code",
   "execution_count": 90,
   "metadata": {},
   "outputs": [
    {
     "name": "stdout",
     "output_type": "stream",
     "text": [
      "[1] \"summary for nodesize:  1 and mtry:  2\"\n",
      " tr_specificity   cv_specificity  \n",
      " Min.   :0.2500   Min.   :0.0000  \n",
      " 1st Qu.:0.6000   1st Qu.:0.0000  \n",
      " Median :0.6667   Median :0.0000  \n",
      " Mean   :0.6578   Mean   :0.1665  \n",
      " 3rd Qu.:0.7500   3rd Qu.:0.2500  \n",
      " Max.   :1.0000   Max.   :1.0000  \n",
      "                  NA's   :45      \n",
      "[1] \"summary for nodesize:  1 and mtry:  4\"\n",
      " tr_specificity   cv_specificity  \n",
      " Min.   :0.2500   Min.   :0.0000  \n",
      " 1st Qu.:0.5714   1st Qu.:0.0000  \n",
      " Median :0.6667   Median :0.0000  \n",
      " Mean   :0.6330   Mean   :0.1817  \n",
      " 3rd Qu.:0.7143   3rd Qu.:0.2500  \n",
      " Max.   :0.8571   Max.   :1.0000  \n",
      "                  NA's   :45      \n",
      "[1] \"summary for nodesize:  1 and mtry:  6\"\n",
      " tr_specificity   cv_specificity  \n",
      " Min.   :0.2000   Min.   :0.0000  \n",
      " 1st Qu.:0.5556   1st Qu.:0.0000  \n",
      " Median :0.6364   Median :0.0000  \n",
      " Mean   :0.6214   Mean   :0.1869  \n",
      " 3rd Qu.:0.7000   3rd Qu.:0.2500  \n",
      " Max.   :0.8571   Max.   :1.0000  \n",
      "                  NA's   :45      \n",
      "[1] \"summary for nodesize:  2 and mtry:  2\"\n",
      " tr_specificity   cv_specificity  \n",
      " Min.   :0.0000   Min.   :0.0000  \n",
      " 1st Qu.:0.6000   1st Qu.:0.0000  \n",
      " Median :0.6667   Median :0.0000  \n",
      " Mean   :0.6524   Mean   :0.1742  \n",
      " 3rd Qu.:0.7500   3rd Qu.:0.2500  \n",
      " Max.   :1.0000   Max.   :1.0000  \n",
      "                  NA's   :45      \n",
      "[1] \"summary for nodesize:  2 and mtry:  4\"\n",
      " tr_specificity   cv_specificity  \n",
      " Min.   :0.2500   Min.   :0.0000  \n",
      " 1st Qu.:0.5714   1st Qu.:0.0000  \n",
      " Median :0.6667   Median :0.0000  \n",
      " Mean   :0.6349   Mean   :0.1873  \n",
      " 3rd Qu.:0.7000   3rd Qu.:0.3214  \n",
      " Max.   :0.8571   Max.   :1.0000  \n",
      "                  NA's   :45      \n",
      "[1] \"summary for nodesize:  2 and mtry:  6\"\n",
      " tr_specificity   cv_specificity   \n",
      " Min.   :0.2000   Min.   :0.00000  \n",
      " 1st Qu.:0.5455   1st Qu.:0.00000  \n",
      " Median :0.6154   Median :0.07143  \n",
      " Mean   :0.6131   Mean   :0.20132  \n",
      " 3rd Qu.:0.7000   3rd Qu.:0.28571  \n",
      " Max.   :0.8571   Max.   :1.00000  \n",
      "                  NA's   :45       \n"
     ]
    }
   ],
   "source": [
    "## let's see what mtry looks the best for exp2: \n",
    "for (nodesize in c(1, 2)){\n",
    "    for (mtry in c(2, 4, 6)){\n",
    "        nodesize_outcome = outcome_all_expt[which(outcome_all_expt$node_size==nodesize),]\n",
    "        mtry_outcome = nodesize_outcome[which(nodesize_outcome$mtry==mtry),]\n",
    "        print(paste('summary for nodesize: ', as.character(nodesize), 'and mtry: ', as.character(mtry)))\n",
    "        print(summary(mtry_outcome[,grep('specificity', colnames(mtry_outcome))]))\n",
    "    }\n",
    "}\n"
   ]
  },
  {
   "cell_type": "code",
   "execution_count": 91,
   "metadata": {},
   "outputs": [],
   "source": [
    "outcome = \"tumor_cell_evaluation\"\n",
    "features.addsign <- paste(spec, collapse = \"+\")\n",
    "rf_formula = as.formula(paste(outcome, features.addsign, sep = \"~\"))"
   ]
  },
  {
   "cell_type": "code",
   "execution_count": null,
   "metadata": {},
   "outputs": [],
   "source": []
  }
 ],
 "metadata": {
  "kernelspec": {
   "display_name": "R",
   "language": "R",
   "name": "ir"
  },
  "language_info": {
   "codemirror_mode": "r",
   "file_extension": ".r",
   "mimetype": "text/x-r-source",
   "name": "R",
   "pygments_lexer": "r",
   "version": "3.4.0"
  }
 },
 "nbformat": 4,
 "nbformat_minor": 2
}
