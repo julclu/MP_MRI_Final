{
 "cells": [
  {
   "cell_type": "markdown",
   "metadata": {},
   "source": [
    "## In this, CEL analysis for thresholding: "
   ]
  },
  {
   "cell_type": "code",
   "execution_count": 29,
   "metadata": {},
   "outputs": [],
   "source": [
    "library(caret)"
   ]
  },
  {
   "cell_type": "code",
   "execution_count": 1,
   "metadata": {},
   "outputs": [],
   "source": [
    "data_train = read.csv('../ML_TxEvsrHGG/data_train_lasso.csv')\n",
    "data_test = read.csv('../ML_TxEvsrHGG/data_test_lasso.csv')"
   ]
  },
  {
   "cell_type": "code",
   "execution_count": 46,
   "metadata": {},
   "outputs": [
    {
     "data": {
      "text/html": [
       "<ol class=list-inline>\n",
       "\t<li>221</li>\n",
       "\t<li>16</li>\n",
       "</ol>\n"
      ],
      "text/latex": [
       "\\begin{enumerate*}\n",
       "\\item 221\n",
       "\\item 16\n",
       "\\end{enumerate*}\n"
      ],
      "text/markdown": [
       "1. 221\n",
       "2. 16\n",
       "\n",
       "\n"
      ],
      "text/plain": [
       "[1] 221  16"
      ]
     },
     "metadata": {},
     "output_type": "display_data"
    },
    {
     "data": {
      "text/html": [
       "<ol class=list-inline>\n",
       "\t<li>70</li>\n",
       "\t<li>16</li>\n",
       "</ol>\n"
      ],
      "text/latex": [
       "\\begin{enumerate*}\n",
       "\\item 70\n",
       "\\item 16\n",
       "\\end{enumerate*}\n"
      ],
      "text/markdown": [
       "1. 70\n",
       "2. 16\n",
       "\n",
       "\n"
      ],
      "text/plain": [
       "[1] 70 16"
      ]
     },
     "metadata": {},
     "output_type": "display_data"
    }
   ],
   "source": [
    "dim(data_train)\n",
    "dim(data_test)"
   ]
  },
  {
   "cell_type": "code",
   "execution_count": 47,
   "metadata": {},
   "outputs": [
    {
     "data": {
      "text/html": [
       "<ol class=list-inline>\n",
       "\t<li>'t_number_y'</li>\n",
       "\t<li>'nadc.1'</li>\n",
       "\t<li>'nfa.1'</li>\n",
       "\t<li>'cbvn_nlin'</li>\n",
       "\t<li>'recov_npar'</li>\n",
       "\t<li>'ccri'</li>\n",
       "\t<li>'cni'</li>\n",
       "\t<li>'ncre'</li>\n",
       "\t<li>'ncho'</li>\n",
       "\t<li>'nnaa'</li>\n",
       "\t<li>'in_CEL'</li>\n",
       "\t<li>'newdata'</li>\n",
       "\t<li>'outcome'</li>\n",
       "\t<li>'hasDiffu'</li>\n",
       "\t<li>'hasPerf'</li>\n",
       "\t<li>'hasSpec'</li>\n",
       "</ol>\n"
      ],
      "text/latex": [
       "\\begin{enumerate*}\n",
       "\\item 't\\_number\\_y'\n",
       "\\item 'nadc.1'\n",
       "\\item 'nfa.1'\n",
       "\\item 'cbvn\\_nlin'\n",
       "\\item 'recov\\_npar'\n",
       "\\item 'ccri'\n",
       "\\item 'cni'\n",
       "\\item 'ncre'\n",
       "\\item 'ncho'\n",
       "\\item 'nnaa'\n",
       "\\item 'in\\_CEL'\n",
       "\\item 'newdata'\n",
       "\\item 'outcome'\n",
       "\\item 'hasDiffu'\n",
       "\\item 'hasPerf'\n",
       "\\item 'hasSpec'\n",
       "\\end{enumerate*}\n"
      ],
      "text/markdown": [
       "1. 't_number_y'\n",
       "2. 'nadc.1'\n",
       "3. 'nfa.1'\n",
       "4. 'cbvn_nlin'\n",
       "5. 'recov_npar'\n",
       "6. 'ccri'\n",
       "7. 'cni'\n",
       "8. 'ncre'\n",
       "9. 'ncho'\n",
       "10. 'nnaa'\n",
       "11. 'in_CEL'\n",
       "12. 'newdata'\n",
       "13. 'outcome'\n",
       "14. 'hasDiffu'\n",
       "15. 'hasPerf'\n",
       "16. 'hasSpec'\n",
       "\n",
       "\n"
      ],
      "text/plain": [
       " [1] \"t_number_y\" \"nadc.1\"     \"nfa.1\"      \"cbvn_nlin\"  \"recov_npar\"\n",
       " [6] \"ccri\"       \"cni\"        \"ncre\"       \"ncho\"       \"nnaa\"      \n",
       "[11] \"in_CEL\"     \"newdata\"    \"outcome\"    \"hasDiffu\"   \"hasPerf\"   \n",
       "[16] \"hasSpec\"   "
      ]
     },
     "metadata": {},
     "output_type": "display_data"
    }
   ],
   "source": [
    "names(data_train)"
   ]
  },
  {
   "cell_type": "code",
   "execution_count": 48,
   "metadata": {},
   "outputs": [],
   "source": [
    "data_train_cel = data_train[(data_train$in_CEL==1),]\n"
   ]
  },
  {
   "cell_type": "code",
   "execution_count": 49,
   "metadata": {},
   "outputs": [],
   "source": [
    "data_test_cel = data_test[(data_test$in_CEL==1),]\n"
   ]
  },
  {
   "cell_type": "code",
   "execution_count": 52,
   "metadata": {},
   "outputs": [
    {
     "data": {
      "text/html": [
       "<ol class=list-inline>\n",
       "\t<li>77</li>\n",
       "\t<li>16</li>\n",
       "</ol>\n"
      ],
      "text/latex": [
       "\\begin{enumerate*}\n",
       "\\item 77\n",
       "\\item 16\n",
       "\\end{enumerate*}\n"
      ],
      "text/markdown": [
       "1. 77\n",
       "2. 16\n",
       "\n",
       "\n"
      ],
      "text/plain": [
       "[1] 77 16"
      ]
     },
     "metadata": {},
     "output_type": "display_data"
    }
   ],
   "source": [
    "data_train_cel_perf = data_train_cel[data_train_cel$hasPerf ==1,]\n",
    "dim(data_train_cel_perf)\n"
   ]
  },
  {
   "cell_type": "code",
   "execution_count": 53,
   "metadata": {},
   "outputs": [
    {
     "data": {
      "text/html": [
       "<ol class=list-inline>\n",
       "\t<li>29</li>\n",
       "\t<li>16</li>\n",
       "</ol>\n"
      ],
      "text/latex": [
       "\\begin{enumerate*}\n",
       "\\item 29\n",
       "\\item 16\n",
       "\\end{enumerate*}\n"
      ],
      "text/markdown": [
       "1. 29\n",
       "2. 16\n",
       "\n",
       "\n"
      ],
      "text/plain": [
       "[1] 29 16"
      ]
     },
     "metadata": {},
     "output_type": "display_data"
    }
   ],
   "source": [
    "data_test_cel_perf = data_test_cel[data_test_cel$hasPerf ==1,]\n",
    "dim(data_test_cel_perf)\n"
   ]
  },
  {
   "cell_type": "code",
   "execution_count": 54,
   "metadata": {},
   "outputs": [
    {
     "data": {
      "text/plain": [
       "\n",
       "rHGG  txe \n",
       "  62   15 "
      ]
     },
     "metadata": {},
     "output_type": "display_data"
    }
   ],
   "source": [
    "table(data_train_cel_perf$outcome)"
   ]
  },
  {
   "cell_type": "code",
   "execution_count": 55,
   "metadata": {},
   "outputs": [
    {
     "data": {
      "text/plain": [
       "\n",
       "rHGG  txe \n",
       "  27    2 "
      ]
     },
     "metadata": {},
     "output_type": "display_data"
    }
   ],
   "source": [
    "table(data_test_cel_perf$outcome)"
   ]
  },
  {
   "cell_type": "markdown",
   "metadata": {},
   "source": [
    "### CEL "
   ]
  },
  {
   "cell_type": "code",
   "execution_count": 56,
   "metadata": {
    "scrolled": true
   },
   "outputs": [
    {
     "data": {
      "image/png": "[encoded data removed]",
      "text/plain": [
       "plot without title"
      ]
     },
     "metadata": {},
     "output_type": "display_data"
    }
   ],
   "source": [
    "par(mfrow = c(2,2))\n",
    "boxplot(cbvn_nlin ~ outcome, data = data_train_cel_perf)\n",
    "boxplot(recov_npar ~ outcome, data = data_train_cel_perf)\n",
    "\n",
    "boxplot(cbvn_nlin ~ outcome, data = data_test_cel_perf)\n",
    "boxplot(recov_npar ~ outcome, data = data_test_cel_perf)"
   ]
  },
  {
   "cell_type": "code",
   "execution_count": 6,
   "metadata": {},
   "outputs": [],
   "source": [
    "#install.packages('pROC')"
   ]
  },
  {
   "cell_type": "code",
   "execution_count": 7,
   "metadata": {},
   "outputs": [
    {
     "name": "stderr",
     "output_type": "stream",
     "text": [
      "Type 'citation(\"pROC\")' for a citation.\n",
      "\n",
      "Attaching package: ‘pROC’\n",
      "\n",
      "The following objects are masked from ‘package:stats’:\n",
      "\n",
      "    cov, smooth, var\n",
      "\n"
     ]
    }
   ],
   "source": [
    "library('pROC')"
   ]
  },
  {
   "cell_type": "markdown",
   "metadata": {},
   "source": [
    "## CBV: "
   ]
  },
  {
   "cell_type": "code",
   "execution_count": 57,
   "metadata": {},
   "outputs": [],
   "source": [
    "roc_cbvn_nlin = roc(data_train_cel_perf$outcome, data_train_cel_perf$cbvn_nlin, levels=c(\"rHGG\", \"txe\"))"
   ]
  },
  {
   "cell_type": "code",
   "execution_count": 58,
   "metadata": {},
   "outputs": [
    {
     "data": {
      "text/html": [
       "0.580645161290323"
      ],
      "text/latex": [
       "0.580645161290323"
      ],
      "text/markdown": [
       "0.580645161290323"
      ],
      "text/plain": [
       "Area under the curve: 0.5806"
      ]
     },
     "metadata": {},
     "output_type": "display_data"
    },
    {
     "data": {
      "text/html": [
       "<ol class=list-inline>\n",
       "\t<li>0.437526875414715</li>\n",
       "\t<li>0.580645161290323</li>\n",
       "\t<li>0.72376344716593</li>\n",
       "</ol>\n"
      ],
      "text/latex": [
       "\\begin{enumerate*}\n",
       "\\item 0.437526875414715\n",
       "\\item 0.580645161290323\n",
       "\\item 0.72376344716593\n",
       "\\end{enumerate*}\n"
      ],
      "text/markdown": [
       "1. 0.437526875414715\n",
       "2. 0.580645161290323\n",
       "3. 0.72376344716593\n",
       "\n",
       "\n"
      ],
      "text/plain": [
       "95% CI: 0.4375-0.7238 (DeLong)"
      ]
     },
     "metadata": {},
     "output_type": "display_data"
    },
    {
     "data": {
      "image/png": "[encoded data removed]",
      "text/plain": [
       "plot without title"
      ]
     },
     "metadata": {},
     "output_type": "display_data"
    }
   ],
   "source": [
    "plot(roc_cbvn_nlin)\n",
    "auc(roc_cbvn_nlin)\n",
    "ci.auc(roc_cbvn_nlin)"
   ]
  },
  {
   "cell_type": "code",
   "execution_count": 59,
   "metadata": {},
   "outputs": [
    {
     "data": {
      "text/html": [
       "<dl class=dl-horizontal>\n",
       "\t<dt>threshold</dt>\n",
       "\t\t<dd>1.83</dd>\n",
       "\t<dt>specificity</dt>\n",
       "\t\t<dd>0.451612903225806</dd>\n",
       "\t<dt>sensitivity</dt>\n",
       "\t\t<dd>0.733333333333333</dd>\n",
       "</dl>\n"
      ],
      "text/latex": [
       "\\begin{description*}\n",
       "\\item[threshold] 1.83\n",
       "\\item[specificity] 0.451612903225806\n",
       "\\item[sensitivity] 0.733333333333333\n",
       "\\end{description*}\n"
      ],
      "text/markdown": [
       "threshold\n",
       ":   1.83specificity\n",
       ":   0.451612903225806sensitivity\n",
       ":   0.733333333333333\n",
       "\n"
      ],
      "text/plain": [
       "  threshold specificity sensitivity \n",
       "  1.8300000   0.4516129   0.7333333 "
      ]
     },
     "metadata": {},
     "output_type": "display_data"
    },
    {
     "data": {
      "text/html": [
       "<dl class=dl-horizontal>\n",
       "\t<dt>threshold</dt>\n",
       "\t\t<dd>2.205</dd>\n",
       "\t<dt>specificity</dt>\n",
       "\t\t<dd>0.370967741935484</dd>\n",
       "\t<dt>sensitivity</dt>\n",
       "\t\t<dd>0.933333333333333</dd>\n",
       "</dl>\n"
      ],
      "text/latex": [
       "\\begin{description*}\n",
       "\\item[threshold] 2.205\n",
       "\\item[specificity] 0.370967741935484\n",
       "\\item[sensitivity] 0.933333333333333\n",
       "\\end{description*}\n"
      ],
      "text/markdown": [
       "threshold\n",
       ":   2.205specificity\n",
       ":   0.370967741935484sensitivity\n",
       ":   0.933333333333333\n",
       "\n"
      ],
      "text/plain": [
       "  threshold specificity sensitivity \n",
       "  2.2050000   0.3709677   0.9333333 "
      ]
     },
     "metadata": {},
     "output_type": "display_data"
    }
   ],
   "source": [
    "coords(roc_cbvn_nlin, \"best\", best.method=c(\"closest.topleft\"))\n",
    "\n",
    "coords(roc_cbvn_nlin, \"best\", best.method=c(\"youden\"))\n",
    "\n"
   ]
  },
  {
   "cell_type": "code",
   "execution_count": 60,
   "metadata": {},
   "outputs": [
    {
     "data": {
      "text/html": [
       "<table>\n",
       "<thead><tr><th></th><th scope=col>t_number_y</th><th scope=col>nadc.1</th><th scope=col>nfa.1</th><th scope=col>cbvn_nlin</th><th scope=col>recov_npar</th><th scope=col>ccri</th><th scope=col>cni</th><th scope=col>ncre</th><th scope=col>ncho</th><th scope=col>nnaa</th><th scope=col>in_CEL</th><th scope=col>newdata</th><th scope=col>outcome</th><th scope=col>hasDiffu</th><th scope=col>hasPerf</th><th scope=col>hasSpec</th></tr></thead>\n",
       "<tbody>\n",
       "\t<tr><th scope=row>4</th><td>10748 </td><td>1.89  </td><td>0.83  </td><td>0.81  </td><td>100.00</td><td>-0.62 </td><td>-2.22 </td><td>0.16  </td><td>-0.05 </td><td>0.53  </td><td>1     </td><td>1     </td><td>rHGG  </td><td>1     </td><td>1     </td><td>1     </td></tr>\n",
       "\t<tr><th scope=row>7</th><td> 5317 </td><td>1.87  </td><td>0.46  </td><td>2.24  </td><td> 87.55</td><td> 0.30 </td><td> 1.84 </td><td>0.74  </td><td> 0.78 </td><td>0.36  </td><td>1     </td><td>0     </td><td>rHGG  </td><td>1     </td><td>1     </td><td>1     </td></tr>\n",
       "\t<tr><th scope=row>8</th><td> 5317 </td><td>1.90  </td><td>0.46  </td><td>1.71  </td><td> 88.16</td><td> 1.20 </td><td> 2.04 </td><td>0.89  </td><td> 1.18 </td><td>0.73  </td><td>1     </td><td>0     </td><td>rHGG  </td><td>1     </td><td>1     </td><td>1     </td></tr>\n",
       "\t<tr><th scope=row>11</th><td> 5550 </td><td>  NA  </td><td>  NA  </td><td>0.81  </td><td> 42.43</td><td>   NA </td><td>   NA </td><td>  NA  </td><td>   NA </td><td>  NA  </td><td>1     </td><td>0     </td><td>rHGG  </td><td>0     </td><td>1     </td><td>0     </td></tr>\n",
       "\t<tr><th scope=row>12</th><td> 5550 </td><td>  NA  </td><td>  NA  </td><td>1.17  </td><td> 66.80</td><td>   NA </td><td>   NA </td><td>  NA  </td><td>   NA </td><td>  NA  </td><td>1     </td><td>0     </td><td>rHGG  </td><td>0     </td><td>1     </td><td>0     </td></tr>\n",
       "\t<tr><th scope=row>13</th><td> 5680 </td><td>1.48  </td><td>0.82  </td><td>1.54  </td><td> 92.24</td><td>   NA </td><td>   NA </td><td>  NA  </td><td>   NA </td><td>  NA  </td><td>1     </td><td>0     </td><td>rHGG  </td><td>1     </td><td>1     </td><td>0     </td></tr>\n",
       "</tbody>\n",
       "</table>\n"
      ],
      "text/latex": [
       "\\begin{tabular}{r|llllllllllllllll}\n",
       "  & t\\_number\\_y & nadc.1 & nfa.1 & cbvn\\_nlin & recov\\_npar & ccri & cni & ncre & ncho & nnaa & in\\_CEL & newdata & outcome & hasDiffu & hasPerf & hasSpec\\\\\n",
       "\\hline\n",
       "\t4 & 10748  & 1.89   & 0.83   & 0.81   & 100.00 & -0.62  & -2.22  & 0.16   & -0.05  & 0.53   & 1      & 1      & rHGG   & 1      & 1      & 1     \\\\\n",
       "\t7 &  5317  & 1.87   & 0.46   & 2.24   &  87.55 &  0.30  &  1.84  & 0.74   &  0.78  & 0.36   & 1      & 0      & rHGG   & 1      & 1      & 1     \\\\\n",
       "\t8 &  5317  & 1.90   & 0.46   & 1.71   &  88.16 &  1.20  &  2.04  & 0.89   &  1.18  & 0.73   & 1      & 0      & rHGG   & 1      & 1      & 1     \\\\\n",
       "\t11 &  5550  &   NA   &   NA   & 0.81   &  42.43 &    NA  &    NA  &   NA   &    NA  &   NA   & 1      & 0      & rHGG   & 0      & 1      & 0     \\\\\n",
       "\t12 &  5550  &   NA   &   NA   & 1.17   &  66.80 &    NA  &    NA  &   NA   &    NA  &   NA   & 1      & 0      & rHGG   & 0      & 1      & 0     \\\\\n",
       "\t13 &  5680  & 1.48   & 0.82   & 1.54   &  92.24 &    NA  &    NA  &   NA   &    NA  &   NA   & 1      & 0      & rHGG   & 1      & 1      & 0     \\\\\n",
       "\\end{tabular}\n"
      ],
      "text/markdown": [
       "\n",
       "| <!--/--> | t_number_y | nadc.1 | nfa.1 | cbvn_nlin | recov_npar | ccri | cni | ncre | ncho | nnaa | in_CEL | newdata | outcome | hasDiffu | hasPerf | hasSpec | \n",
       "|---|---|---|---|---|---|\n",
       "| 4 | 10748  | 1.89   | 0.83   | 0.81   | 100.00 | -0.62  | -2.22  | 0.16   | -0.05  | 0.53   | 1      | 1      | rHGG   | 1      | 1      | 1      | \n",
       "| 7 |  5317  | 1.87   | 0.46   | 2.24   |  87.55 |  0.30  |  1.84  | 0.74   |  0.78  | 0.36   | 1      | 0      | rHGG   | 1      | 1      | 1      | \n",
       "| 8 |  5317  | 1.90   | 0.46   | 1.71   |  88.16 |  1.20  |  2.04  | 0.89   |  1.18  | 0.73   | 1      | 0      | rHGG   | 1      | 1      | 1      | \n",
       "| 11 |  5550  |   NA   |   NA   | 0.81   |  42.43 |    NA  |    NA  |   NA   |    NA  |   NA   | 1      | 0      | rHGG   | 0      | 1      | 0      | \n",
       "| 12 |  5550  |   NA   |   NA   | 1.17   |  66.80 |    NA  |    NA  |   NA   |    NA  |   NA   | 1      | 0      | rHGG   | 0      | 1      | 0      | \n",
       "| 13 |  5680  | 1.48   | 0.82   | 1.54   |  92.24 |    NA  |    NA  |   NA   |    NA  |   NA   | 1      | 0      | rHGG   | 1      | 1      | 0      | \n",
       "\n",
       "\n"
      ],
      "text/plain": [
       "   t_number_y nadc.1 nfa.1 cbvn_nlin recov_npar ccri  cni   ncre ncho  nnaa\n",
       "4  10748      1.89   0.83  0.81      100.00     -0.62 -2.22 0.16 -0.05 0.53\n",
       "7   5317      1.87   0.46  2.24       87.55      0.30  1.84 0.74  0.78 0.36\n",
       "8   5317      1.90   0.46  1.71       88.16      1.20  2.04 0.89  1.18 0.73\n",
       "11  5550        NA     NA  0.81       42.43        NA    NA   NA    NA   NA\n",
       "12  5550        NA     NA  1.17       66.80        NA    NA   NA    NA   NA\n",
       "13  5680      1.48   0.82  1.54       92.24        NA    NA   NA    NA   NA\n",
       "   in_CEL newdata outcome hasDiffu hasPerf hasSpec\n",
       "4  1      1       rHGG    1        1       1      \n",
       "7  1      0       rHGG    1        1       1      \n",
       "8  1      0       rHGG    1        1       1      \n",
       "11 1      0       rHGG    0        1       0      \n",
       "12 1      0       rHGG    0        1       0      \n",
       "13 1      0       rHGG    1        1       0      "
      ]
     },
     "metadata": {},
     "output_type": "display_data"
    }
   ],
   "source": [
    "head(data_test_cel_perf)"
   ]
  },
  {
   "cell_type": "code",
   "execution_count": 62,
   "metadata": {},
   "outputs": [
    {
     "data": {
      "text/plain": [
       "\n",
       "rHGG  txe \n",
       "  27    2 "
      ]
     },
     "metadata": {},
     "output_type": "display_data"
    },
    {
     "data": {
      "text/plain": [
       "\n",
       "FALSE \n",
       "   29 "
      ]
     },
     "metadata": {},
     "output_type": "display_data"
    },
    {
     "data": {
      "text/html": [
       "<ol class=list-inline>\n",
       "\t<li>29</li>\n",
       "\t<li>16</li>\n",
       "</ol>\n"
      ],
      "text/latex": [
       "\\begin{enumerate*}\n",
       "\\item 29\n",
       "\\item 16\n",
       "\\end{enumerate*}\n"
      ],
      "text/markdown": [
       "1. 29\n",
       "2. 16\n",
       "\n",
       "\n"
      ],
      "text/plain": [
       "[1] 29 16"
      ]
     },
     "metadata": {},
     "output_type": "display_data"
    }
   ],
   "source": [
    "table(data_test_cel_perf$outcome)\n",
    "table(is.na(data_test_cel_perf$cbvn_nlin))\n",
    "dim(data_test_cel_perf)"
   ]
  },
  {
   "cell_type": "code",
   "execution_count": 91,
   "metadata": {},
   "outputs": [],
   "source": [
    "cbv_thresh_test_preds = as.factor(ifelse(data_test_cel_perf$cbvn_nlin > 1.83, 'rHGG', 'txe'))\n",
    "cbv_thresh_train_preds = as.factor(ifelse(data_train_cel_perf$cbvn_nlin > 1.83, 'rHGG', 'txe'))\n",
    "\n"
   ]
  },
  {
   "cell_type": "code",
   "execution_count": 92,
   "metadata": {},
   "outputs": [
    {
     "data": {
      "text/plain": [
       "Confusion Matrix and Statistics\n",
       "\n",
       "          Reference\n",
       "Prediction rHGG txe\n",
       "      rHGG   11   0\n",
       "      txe    16   2\n",
       "                                          \n",
       "               Accuracy : 0.4483          \n",
       "                 95% CI : (0.2645, 0.6431)\n",
       "    No Information Rate : 0.931           \n",
       "    P-Value [Acc > NIR] : 1.0000000       \n",
       "                                          \n",
       "                  Kappa : 0.0866          \n",
       " Mcnemar's Test P-Value : 0.0001768       \n",
       "                                          \n",
       "            Sensitivity : 0.4074          \n",
       "            Specificity : 1.0000          \n",
       "         Pos Pred Value : 1.0000          \n",
       "         Neg Pred Value : 0.1111          \n",
       "             Prevalence : 0.9310          \n",
       "         Detection Rate : 0.3793          \n",
       "   Detection Prevalence : 0.3793          \n",
       "      Balanced Accuracy : 0.7037          \n",
       "                                          \n",
       "       'Positive' Class : rHGG            \n",
       "                                          "
      ]
     },
     "metadata": {},
     "output_type": "display_data"
    },
    {
     "data": {
      "text/plain": [
       "Confusion Matrix and Statistics\n",
       "\n",
       "          Reference\n",
       "Prediction rHGG txe\n",
       "      rHGG   28   4\n",
       "      txe    34  11\n",
       "                                        \n",
       "               Accuracy : 0.5065        \n",
       "                 95% CI : (0.39, 0.6224)\n",
       "    No Information Rate : 0.8052        \n",
       "    P-Value [Acc > NIR] : 1             \n",
       "                                        \n",
       "                  Kappa : 0.1052        \n",
       " Mcnemar's Test P-Value : 2.546e-06     \n",
       "                                        \n",
       "            Sensitivity : 0.4516        \n",
       "            Specificity : 0.7333        \n",
       "         Pos Pred Value : 0.8750        \n",
       "         Neg Pred Value : 0.2444        \n",
       "             Prevalence : 0.8052        \n",
       "         Detection Rate : 0.3636        \n",
       "   Detection Prevalence : 0.4156        \n",
       "      Balanced Accuracy : 0.5925        \n",
       "                                        \n",
       "       'Positive' Class : rHGG          \n",
       "                                        "
      ]
     },
     "metadata": {},
     "output_type": "display_data"
    }
   ],
   "source": [
    "confusionMatrix(data = cbv_thresh_test_preds, reference = data_test_cel_perf$outcome)\n",
    "\n",
    "confusionMatrix(data = cbv_thresh_train_preds, reference = data_train_cel_perf$outcome)\n",
    "\n",
    "\n"
   ]
  },
  {
   "cell_type": "code",
   "execution_count": 90,
   "metadata": {},
   "outputs": [
    {
     "data": {
      "text/plain": [
       "\n",
       "rHGG  txe \n",
       "  62   15 "
      ]
     },
     "metadata": {},
     "output_type": "display_data"
    },
    {
     "data": {
      "text/plain": [
       "cbv_thresh_train_preds\n",
       "txe \n",
       " 77 "
      ]
     },
     "metadata": {},
     "output_type": "display_data"
    }
   ],
   "source": []
  },
  {
   "cell_type": "markdown",
   "metadata": {},
   "source": [
    "## % Recov\n"
   ]
  },
  {
   "cell_type": "code",
   "execution_count": 72,
   "metadata": {},
   "outputs": [],
   "source": [
    "roc_recov_npar = roc(data_train_cel_perf$outcome, data_train_cel_perf$recov_npar, levels=c(\"rHGG\", \"txe\"))"
   ]
  },
  {
   "cell_type": "code",
   "execution_count": 73,
   "metadata": {
    "scrolled": true
   },
   "outputs": [
    {
     "data": {
      "text/html": [
       "0.786559139784946"
      ],
      "text/latex": [
       "0.786559139784946"
      ],
      "text/markdown": [
       "0.786559139784946"
      ],
      "text/plain": [
       "Area under the curve: 0.7866"
      ]
     },
     "metadata": {},
     "output_type": "display_data"
    },
    {
     "data": {
      "text/html": [
       "<ol class=list-inline>\n",
       "\t<li>0.66818756770169</li>\n",
       "\t<li>0.786559139784946</li>\n",
       "\t<li>0.904930711868202</li>\n",
       "</ol>\n"
      ],
      "text/latex": [
       "\\begin{enumerate*}\n",
       "\\item 0.66818756770169\n",
       "\\item 0.786559139784946\n",
       "\\item 0.904930711868202\n",
       "\\end{enumerate*}\n"
      ],
      "text/markdown": [
       "1. 0.66818756770169\n",
       "2. 0.786559139784946\n",
       "3. 0.904930711868202\n",
       "\n",
       "\n"
      ],
      "text/plain": [
       "95% CI: 0.6682-0.9049 (DeLong)"
      ]
     },
     "metadata": {},
     "output_type": "display_data"
    },
    {
     "data": {
      "image/png": "[encoded data removed]",
      "text/plain": [
       "plot without title"
      ]
     },
     "metadata": {},
     "output_type": "display_data"
    }
   ],
   "source": [
    "plot(roc_recov_npar)\n",
    "auc(roc_recov_npar)\n",
    "ci.auc(roc_recov_npar)"
   ]
  },
  {
   "cell_type": "code",
   "execution_count": 74,
   "metadata": {},
   "outputs": [
    {
     "data": {
      "text/html": [
       "<dl class=dl-horizontal>\n",
       "\t<dt>threshold</dt>\n",
       "\t\t<dd>84.165</dd>\n",
       "\t<dt>specificity</dt>\n",
       "\t\t<dd>0.758064516129032</dd>\n",
       "\t<dt>sensitivity</dt>\n",
       "\t\t<dd>0.733333333333333</dd>\n",
       "</dl>\n"
      ],
      "text/latex": [
       "\\begin{description*}\n",
       "\\item[threshold] 84.165\n",
       "\\item[specificity] 0.758064516129032\n",
       "\\item[sensitivity] 0.733333333333333\n",
       "\\end{description*}\n"
      ],
      "text/markdown": [
       "threshold\n",
       ":   84.165specificity\n",
       ":   0.758064516129032sensitivity\n",
       ":   0.733333333333333\n",
       "\n"
      ],
      "text/plain": [
       "  threshold specificity sensitivity \n",
       " 84.1650000   0.7580645   0.7333333 "
      ]
     },
     "metadata": {},
     "output_type": "display_data"
    },
    {
     "data": {
      "text/html": [
       "<dl class=dl-horizontal>\n",
       "\t<dt>threshold</dt>\n",
       "\t\t<dd>94.82</dd>\n",
       "\t<dt>specificity</dt>\n",
       "\t\t<dd>0.612903225806452</dd>\n",
       "\t<dt>sensitivity</dt>\n",
       "\t\t<dd>0.933333333333333</dd>\n",
       "</dl>\n"
      ],
      "text/latex": [
       "\\begin{description*}\n",
       "\\item[threshold] 94.82\n",
       "\\item[specificity] 0.612903225806452\n",
       "\\item[sensitivity] 0.933333333333333\n",
       "\\end{description*}\n"
      ],
      "text/markdown": [
       "threshold\n",
       ":   94.82specificity\n",
       ":   0.612903225806452sensitivity\n",
       ":   0.933333333333333\n",
       "\n"
      ],
      "text/plain": [
       "  threshold specificity sensitivity \n",
       " 94.8200000   0.6129032   0.9333333 "
      ]
     },
     "metadata": {},
     "output_type": "display_data"
    }
   ],
   "source": [
    "coords(roc_recov_npar, \"best\", best.method=c(\"closest.topleft\"))\n",
    "\n",
    "coords(roc_recov_npar, \"best\", best.method=c(\"youden\"))\n",
    "\n"
   ]
  },
  {
   "cell_type": "code",
   "execution_count": 84,
   "metadata": {},
   "outputs": [],
   "source": [
    "recov_thresh_test_preds = as.factor(ifelse(data_test_cel_perf$recov_npar > 84.165, 'rHGG', 'txe'))\n",
    "recov_thresh_train_preds = as.factor(ifelse(data_train_cel_perf$recov_npar > 84.165, 'rHGG', 'txe'))\n",
    "\n"
   ]
  },
  {
   "cell_type": "code",
   "execution_count": 86,
   "metadata": {},
   "outputs": [
    {
     "data": {
      "text/plain": [
       "Confusion Matrix and Statistics\n",
       "\n",
       "          Reference\n",
       "Prediction rHGG txe\n",
       "      rHGG   18   2\n",
       "      txe     9   0\n",
       "                                          \n",
       "               Accuracy : 0.6207          \n",
       "                 95% CI : (0.4226, 0.7931)\n",
       "    No Information Rate : 0.931           \n",
       "    P-Value [Acc > NIR] : 1.00000         \n",
       "                                          \n",
       "                  Kappa : -0.1272         \n",
       " Mcnemar's Test P-Value : 0.07044         \n",
       "                                          \n",
       "            Sensitivity : 0.6667          \n",
       "            Specificity : 0.0000          \n",
       "         Pos Pred Value : 0.9000          \n",
       "         Neg Pred Value : 0.0000          \n",
       "             Prevalence : 0.9310          \n",
       "         Detection Rate : 0.6207          \n",
       "   Detection Prevalence : 0.6897          \n",
       "      Balanced Accuracy : 0.3333          \n",
       "                                          \n",
       "       'Positive' Class : rHGG            \n",
       "                                          "
      ]
     },
     "metadata": {},
     "output_type": "display_data"
    },
    {
     "data": {
      "text/plain": [
       "Confusion Matrix and Statistics\n",
       "\n",
       "          Reference\n",
       "Prediction rHGG txe\n",
       "      rHGG   47   4\n",
       "      txe    15  11\n",
       "                                          \n",
       "               Accuracy : 0.7532          \n",
       "                 95% CI : (0.6418, 0.8444)\n",
       "    No Information Rate : 0.8052          \n",
       "    P-Value [Acc > NIR] : 0.89955         \n",
       "                                          \n",
       "                  Kappa : 0.3845          \n",
       " Mcnemar's Test P-Value : 0.02178         \n",
       "                                          \n",
       "            Sensitivity : 0.7581          \n",
       "            Specificity : 0.7333          \n",
       "         Pos Pred Value : 0.9216          \n",
       "         Neg Pred Value : 0.4231          \n",
       "             Prevalence : 0.8052          \n",
       "         Detection Rate : 0.6104          \n",
       "   Detection Prevalence : 0.6623          \n",
       "      Balanced Accuracy : 0.7457          \n",
       "                                          \n",
       "       'Positive' Class : rHGG            \n",
       "                                          "
      ]
     },
     "metadata": {},
     "output_type": "display_data"
    }
   ],
   "source": [
    "confusionMatrix(data = recov_thresh_test_preds, reference = data_test_cel_perf$outcome)\n",
    "\n",
    "confusionMatrix(data = recov_thresh_train_preds, reference = data_train_cel_perf$outcome)\n",
    "\n",
    "\n"
   ]
  },
  {
   "cell_type": "code",
   "execution_count": 81,
   "metadata": {},
   "outputs": [
    {
     "data": {
      "image/png": "[encoded data removed]",
      "text/plain": [
       "Plot with title “ROC curve of rCBV and %Recov in the CEL”"
      ]
     },
     "metadata": {},
     "output_type": "display_data"
    }
   ],
   "source": [
    "roc_recov_obj1 = plot.roc(data_train_cel_perf$outcome, data_train_cel_perf$recov_npar,\n",
    "levels=c('rHGG', 'txe'), percent = TRUE, col = \"#1c61b6\", main = \"ROC curve of rCBV and %Recov in the CEL\")\n",
    "\n",
    "roc_cbv_obj2 <- lines.roc(data_train_cel_perf$outcome, data_train_cel_perf$cbvn_nlin, \n",
    "                          levels=c('rHGG', 'txe'), \n",
    "                          percent=TRUE,\n",
    "                          col=\"#008600\")\n",
    "\n",
    "testobj <- roc.test(roc_recov_obj1, roc_cbv_obj2)\n",
    "text(50, 50, labels=paste(\"p-value =\", format.pval(testobj$p.value)), adj=c(0, .5))\n",
    "legend(\"bottomright\", legend=c(\"%Recov\", \"CBV\"), col=c(\"#1c61b6\", \"#008600\"), lwd=2)\n",
    "\n"
   ]
  },
  {
   "cell_type": "code",
   "execution_count": 17,
   "metadata": {},
   "outputs": [
    {
     "data": {
      "image/png": "[encoded data removed]",
      "text/plain": [
       "Plot with title “ROC curve of rCBV and %Recov in the CEL”"
      ]
     },
     "metadata": {},
     "output_type": "display_data"
    }
   ],
   "source": [
    "roc_recov_obj1 = plot.roc(data_test_cel$outcome, data_test_cel$recov_npar,\n",
    "levels=c('rHGG', 'txe'), percent = TRUE, col = \"#1c61b6\", main = \"ROC curve of rCBV and %Recov in the CEL\")\n",
    "\n",
    "roc_cbv_obj2 <- lines.roc(data_test_cel$outcome, data_test_cel$cbvn_nlin, \n",
    "                          levels=c('rHGG', 'txe'), \n",
    "                          percent=TRUE,\n",
    "                          col=\"#008600\")\n",
    "\n",
    "testobj <- roc.test(roc_recov_obj1, roc_cbv_obj2)\n",
    "text(50, 50, labels=paste(\"p-value =\", format.pval(testobj$p.value)), adj=c(0, .5))\n",
    "legend(\"bottomright\", legend=c(\"%Recov\", \"CBV\"), col=c(\"#1c61b6\", \"#008600\"), lwd=2)\n",
    "\n"
   ]
  },
  {
   "cell_type": "code",
   "execution_count": null,
   "metadata": {},
   "outputs": [],
   "source": []
  }
 ],
 "metadata": {
  "kernelspec": {
   "display_name": "R",
   "language": "R",
   "name": "ir"
  },
  "language_info": {
   "codemirror_mode": "r",
   "file_extension": ".r",
   "mimetype": "text/x-r-source",
   "name": "R",
   "pygments_lexer": "r",
   "version": "3.4.0"
  }
 },
 "nbformat": 4,
 "nbformat_minor": 2
}
