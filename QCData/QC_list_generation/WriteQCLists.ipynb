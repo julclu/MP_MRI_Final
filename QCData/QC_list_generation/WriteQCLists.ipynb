{
 "cells": [
  {
   "cell_type": "code",
   "execution_count": 1,
   "metadata": {},
   "outputs": [],
   "source": [
    "## Since QC'ing takes a long time, I'm going to write a few lists to break down the work: "
   ]
  },
  {
   "cell_type": "code",
   "execution_count": 2,
   "metadata": {},
   "outputs": [],
   "source": [
    "import pandas as pd\n",
    "import glob\n",
    "import os"
   ]
  },
  {
   "cell_type": "code",
   "execution_count": 3,
   "metadata": {},
   "outputs": [],
   "source": [
    "pd.options.display.max_rows = 100\n",
    "pd.options.display.max_columns = 100"
   ]
  },
  {
   "cell_type": "code",
   "execution_count": 5,
   "metadata": {},
   "outputs": [],
   "source": [
    "os.getcwd()\n",
    "os.chdir('../QC_list_generation/')"
   ]
  },
  {
   "cell_type": "code",
   "execution_count": 6,
   "metadata": {},
   "outputs": [
    {
     "data": {
      "text/plain": [
       "(125, 3)"
      ]
     },
     "execution_count": 6,
     "metadata": {},
     "output_type": "execute_result"
    }
   ],
   "source": [
    "old_scans = pd.read_csv(\"../../GetMergeData/Get_Old_P01/po1_preop_recur_process_list.125.csv\", header=None)\n",
    "old_scans.shape"
   ]
  },
  {
   "cell_type": "code",
   "execution_count": 7,
   "metadata": {},
   "outputs": [],
   "source": [
    "new_scans = pd.read_csv('../../GetMergeData/Get_REC_HGG_Data/rec_hgg_process_list.79.csv', header = None)"
   ]
  },
  {
   "cell_type": "code",
   "execution_count": 80,
   "metadata": {},
   "outputs": [],
   "source": [
    "old_scans.loc[0:10].to_csv('old_scans_1-10.csv', index = False, header = False)"
   ]
  },
  {
   "cell_type": "code",
   "execution_count": 82,
   "metadata": {},
   "outputs": [],
   "source": [
    "old_scans.loc[11:20].to_csv('old_scans_10-20.csv', index = False, header = False)\n",
    "old_scans.loc[21:30].to_csv('old_scans_20-30.csv', index = False, header = False)\n",
    "old_scans.loc[31:40].to_csv('old_scans_30-40.csv', index = False, header = False)\n",
    "old_scans.loc[41:50].to_csv('old_scans_40-50.csv', index = False, header = False)\n",
    "old_scans.loc[51:60].to_csv('old_scans_50-60.csv', index = False, header = False)\n",
    "old_scans.loc[61:70].to_csv('old_scans_60-70.csv', index = False, header = False)\n",
    "old_scans.loc[71:80].to_csv('old_scans_70-80.csv', index = False, header = False)\n",
    "old_scans.loc[81:90].to_csv('old_scans_80-90.csv', index = False, header = False)\n",
    "old_scans.loc[91:100].to_csv('old_scans_90-100.csv', index = False, header = False)\n",
    "old_scans.loc[101:110].to_csv('old_scans_100-110.csv', index = False, header = False)\n",
    "old_scans.loc[111:126].to_csv('old_scans_110-126.csv', index = False, header = False)"
   ]
  },
  {
   "cell_type": "code",
   "execution_count": 85,
   "metadata": {},
   "outputs": [],
   "source": [
    "new_scans.loc[1:10].to_csv('new_scans_1-10.csv', index = False, header = False)\n",
    "new_scans.loc[11:20].to_csv('new_scans_10-20.csv', index = False, header = False)\n",
    "new_scans.loc[21:30].to_csv('new_scans_20-30.csv', index = False, header = False)\n",
    "new_scans.loc[31:40].to_csv('new_scans_30-40.csv', index = False, header = False)\n",
    "new_scans.loc[41:50].to_csv('new_scans_40-50.csv', index = False, header = False)\n",
    "new_scans.loc[51:60].to_csv('new_scans_50-60.csv', index = False, header = False)\n",
    "new_scans.loc[61:70].to_csv('new_scans_60-70.csv', index = False, header = False)\n",
    "new_scans.loc[71:80].to_csv('new_scans_70-80.csv', index = False, header = False)"
   ]
  },
  {
   "cell_type": "code",
   "execution_count": null,
   "metadata": {},
   "outputs": [],
   "source": [
    "batch_firsta_valid.dev.py --csv_name old_scans_1-10.csv --csv_root ~/MultiParametricMRI/MP_MRI_Jan2019/QCData/QC_list_generation/ --cohort_name po1_preop_recur --output_file qc_old_scans_1-10.out.csv --output_dir ~/MultiParametricMRI/MP_MRI_Jan2019/QCData/QC_output_perf_po1_preop_recur/"
   ]
  }
 ],
 "metadata": {
  "kernelspec": {
   "display_name": "python36",
   "language": "python",
   "name": "python36"
  },
  "language_info": {
   "codemirror_mode": {
    "name": "ipython",
    "version": 3
   },
   "file_extension": ".py",
   "mimetype": "text/x-python",
   "name": "python",
   "nbconvert_exporter": "python",
   "pygments_lexer": "ipython3",
   "version": "3.6.2"
  }
 },
 "nbformat": 4,
 "nbformat_minor": 2
}
