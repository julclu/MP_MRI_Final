{
 "cells": [
  {
   "cell_type": "code",
   "execution_count": 29,
   "metadata": {},
   "outputs": [],
   "source": [
    "import pandas as pd\n",
    "import os\n",
    "import glob"
   ]
  },
  {
   "cell_type": "code",
   "execution_count": 30,
   "metadata": {},
   "outputs": [
    {
     "data": {
      "text/plain": [
       "['oldP01_anat_stats.biopsy.csv',\n",
       " 'oldP01_diffu_stats.biopsy.csv',\n",
       " 'oldP01_spec_stats.biopsy.csv',\n",
       " 'oldP01_perfn_stats.biopsy.csv',\n",
       " 'old_po1_data_oct2018.csv',\n",
       " 'oldP01_perf_stats.biopsy.csv',\n",
       " 'oldP01_perf_model_stats.biopsy.csv',\n",
       " 'oldP01_perfn_model_stats.biopsy.csv']"
      ]
     },
     "execution_count": 30,
     "metadata": {},
     "output_type": "execute_result"
    }
   ],
   "source": [
    "glob.glob(\"*csv\")"
   ]
  },
  {
   "cell_type": "code",
   "execution_count": 31,
   "metadata": {},
   "outputs": [
    {
     "data": {
      "text/plain": [
       "(261, 13)"
      ]
     },
     "execution_count": 31,
     "metadata": {},
     "output_type": "execute_result"
    }
   ],
   "source": [
    "anat = pd.read_csv('oldP01_anat_stats.biopsy.csv', index_col = 0)\n",
    "anat.shape"
   ]
  },
  {
   "cell_type": "code",
   "execution_count": 32,
   "metadata": {},
   "outputs": [],
   "source": [
    "anat.columns = ['id_value', 'biopsy', 'vol_fvox', 't1c', 't1v', 't1d', 'fse', 'fl',\n",
    "       'nt1c', 'nt1v', 'nt1d', 'nfse', 'nfl']"
   ]
  },
  {
   "cell_type": "code",
   "execution_count": 33,
   "metadata": {},
   "outputs": [
    {
     "data": {
      "text/html": [
       "<div>\n",
       "<style>\n",
       "    .dataframe thead tr:only-child th {\n",
       "        text-align: right;\n",
       "    }\n",
       "\n",
       "    .dataframe thead th {\n",
       "        text-align: left;\n",
       "    }\n",
       "\n",
       "    .dataframe tbody tr th {\n",
       "        vertical-align: top;\n",
       "    }\n",
       "</style>\n",
       "<table border=\"1\" class=\"dataframe\">\n",
       "  <thead>\n",
       "    <tr style=\"text-align: right;\">\n",
       "      <th></th>\n",
       "      <th>id value</th>\n",
       "      <th>biopsy</th>\n",
       "      <th>vol/fvox</th>\n",
       "      <th>adc</th>\n",
       "      <th>fa</th>\n",
       "      <th>ev1</th>\n",
       "      <th>ev2</th>\n",
       "      <th>ev3</th>\n",
       "      <th>evr</th>\n",
       "      <th>nadc</th>\n",
       "      <th>nfa</th>\n",
       "      <th>nev1</th>\n",
       "      <th>nev2</th>\n",
       "      <th>nev3</th>\n",
       "      <th>nevr</th>\n",
       "    </tr>\n",
       "  </thead>\n",
       "  <tbody>\n",
       "    <tr>\n",
       "      <th>0</th>\n",
       "      <td>t4966</td>\n",
       "      <td>68B12</td>\n",
       "      <td>0.05</td>\n",
       "      <td>1593.0</td>\n",
       "      <td>104.5</td>\n",
       "      <td>1756.0</td>\n",
       "      <td>1613.5</td>\n",
       "      <td>1442.5</td>\n",
       "      <td>1520.0</td>\n",
       "      <td>2.11</td>\n",
       "      <td>0.39</td>\n",
       "      <td>1.76</td>\n",
       "      <td>2.15</td>\n",
       "      <td>2.86</td>\n",
       "      <td>2.45</td>\n",
       "    </tr>\n",
       "    <tr>\n",
       "      <th>1</th>\n",
       "      <td>t4966</td>\n",
       "      <td>21B12</td>\n",
       "      <td>0.06</td>\n",
       "      <td>1407.0</td>\n",
       "      <td>172.5</td>\n",
       "      <td>1636.0</td>\n",
       "      <td>1410.5</td>\n",
       "      <td>1167.5</td>\n",
       "      <td>1297.5</td>\n",
       "      <td>1.86</td>\n",
       "      <td>0.64</td>\n",
       "      <td>1.64</td>\n",
       "      <td>1.88</td>\n",
       "      <td>2.31</td>\n",
       "      <td>2.09</td>\n",
       "    </tr>\n",
       "    <tr>\n",
       "      <th>2</th>\n",
       "      <td>t5272</td>\n",
       "      <td>85B15</td>\n",
       "      <td>0.08</td>\n",
       "      <td>1830.5</td>\n",
       "      <td>101.5</td>\n",
       "      <td>2005.0</td>\n",
       "      <td>1876.0</td>\n",
       "      <td>1612.5</td>\n",
       "      <td>1743.0</td>\n",
       "      <td>2.36</td>\n",
       "      <td>0.39</td>\n",
       "      <td>1.97</td>\n",
       "      <td>2.42</td>\n",
       "      <td>2.83</td>\n",
       "      <td>2.67</td>\n",
       "    </tr>\n",
       "    <tr>\n",
       "      <th>3</th>\n",
       "      <td>t5272</td>\n",
       "      <td>86B15</td>\n",
       "      <td>0.08</td>\n",
       "      <td>899.5</td>\n",
       "      <td>177.5</td>\n",
       "      <td>1075.0</td>\n",
       "      <td>900.0</td>\n",
       "      <td>727.5</td>\n",
       "      <td>813.0</td>\n",
       "      <td>1.16</td>\n",
       "      <td>0.68</td>\n",
       "      <td>1.05</td>\n",
       "      <td>1.16</td>\n",
       "      <td>1.28</td>\n",
       "      <td>1.24</td>\n",
       "    </tr>\n",
       "    <tr>\n",
       "      <th>4</th>\n",
       "      <td>t5296</td>\n",
       "      <td>26B16</td>\n",
       "      <td>0.07</td>\n",
       "      <td>1269.0</td>\n",
       "      <td>0.0</td>\n",
       "      <td>0.0</td>\n",
       "      <td>0.0</td>\n",
       "      <td>0.0</td>\n",
       "      <td>0.0</td>\n",
       "      <td>1.75</td>\n",
       "      <td>0.00</td>\n",
       "      <td>0.00</td>\n",
       "      <td>0.00</td>\n",
       "      <td>0.00</td>\n",
       "      <td>0.00</td>\n",
       "    </tr>\n",
       "  </tbody>\n",
       "</table>\n",
       "</div>"
      ],
      "text/plain": [
       "  id value biopsy  vol/fvox     adc     fa     ev1     ev2     ev3     evr  \\\n",
       "0    t4966  68B12      0.05  1593.0  104.5  1756.0  1613.5  1442.5  1520.0   \n",
       "1    t4966  21B12      0.06  1407.0  172.5  1636.0  1410.5  1167.5  1297.5   \n",
       "2    t5272  85B15      0.08  1830.5  101.5  2005.0  1876.0  1612.5  1743.0   \n",
       "3    t5272  86B15      0.08   899.5  177.5  1075.0   900.0   727.5   813.0   \n",
       "4    t5296  26B16      0.07  1269.0    0.0     0.0     0.0     0.0     0.0   \n",
       "\n",
       "   nadc   nfa  nev1  nev2  nev3  nevr  \n",
       "0  2.11  0.39  1.76  2.15  2.86  2.45  \n",
       "1  1.86  0.64  1.64  1.88  2.31  2.09  \n",
       "2  2.36  0.39  1.97  2.42  2.83  2.67  \n",
       "3  1.16  0.68  1.05  1.16  1.28  1.24  \n",
       "4  1.75  0.00  0.00  0.00  0.00  0.00  "
      ]
     },
     "execution_count": 33,
     "metadata": {},
     "output_type": "execute_result"
    }
   ],
   "source": [
    "diffu = pd.read_csv('oldP01_diffu_stats.biopsy.csv', index_col = 0)\n",
    "diffu.shape\n",
    "diffu.head()"
   ]
  },
  {
   "cell_type": "code",
   "execution_count": 34,
   "metadata": {},
   "outputs": [],
   "source": [
    "diffu.columns = ['id_value', 'biopsy', 'vol_fvox', 'adc', 'fa', 'ev1', 'ev2', 'ev3',\n",
    "       'evr', 'nadc', 'nfa', 'nev1', 'nev2', 'nev3', 'nevr']"
   ]
  },
  {
   "cell_type": "code",
   "execution_count": 35,
   "metadata": {},
   "outputs": [],
   "source": [
    "perf = pd.read_csv('../../QCData/po1_preop_recur_perf_biopsies.csv')"
   ]
  },
  {
   "cell_type": "code",
   "execution_count": 36,
   "metadata": {},
   "outputs": [],
   "source": [
    "perf.columns = ['bnum', 'id_value', 'biopsy', 'phn_nlin', 'cbvn_nlin', 'recov_nlin',\n",
    "       'phn_npar', 'recov_npar', 'recovn_npar']"
   ]
  },
  {
   "cell_type": "code",
   "execution_count": 37,
   "metadata": {},
   "outputs": [
    {
     "data": {
      "text/html": [
       "<div>\n",
       "<style>\n",
       "    .dataframe thead tr:only-child th {\n",
       "        text-align: right;\n",
       "    }\n",
       "\n",
       "    .dataframe thead th {\n",
       "        text-align: left;\n",
       "    }\n",
       "\n",
       "    .dataframe tbody tr th {\n",
       "        vertical-align: top;\n",
       "    }\n",
       "</style>\n",
       "<table border=\"1\" class=\"dataframe\">\n",
       "  <thead>\n",
       "    <tr style=\"text-align: right;\">\n",
       "      <th></th>\n",
       "      <th>id value</th>\n",
       "      <th>biopsy</th>\n",
       "      <th>vol/fvox</th>\n",
       "      <th>cho</th>\n",
       "      <th>cre</th>\n",
       "      <th>naa</th>\n",
       "      <th>lip</th>\n",
       "      <th>lac</th>\n",
       "      <th>xschn</th>\n",
       "      <th>xsccr</th>\n",
       "      <th>...</th>\n",
       "      <th>ccri</th>\n",
       "      <th>crni</th>\n",
       "      <th>ncho</th>\n",
       "      <th>ncre</th>\n",
       "      <th>nnaa</th>\n",
       "      <th>nlip</th>\n",
       "      <th>nlac</th>\n",
       "      <th>nxschn</th>\n",
       "      <th>nxsccr</th>\n",
       "      <th>nxscrn</th>\n",
       "    </tr>\n",
       "  </thead>\n",
       "  <tbody>\n",
       "    <tr>\n",
       "      <th>0</th>\n",
       "      <td>t4966</td>\n",
       "      <td>68B12</td>\n",
       "      <td>0.08</td>\n",
       "      <td>6.51</td>\n",
       "      <td>1.87</td>\n",
       "      <td>4.40</td>\n",
       "      <td>7.20</td>\n",
       "      <td>2.47</td>\n",
       "      <td>3.85</td>\n",
       "      <td>4.69</td>\n",
       "      <td>...</td>\n",
       "      <td>1.89</td>\n",
       "      <td>-0.46</td>\n",
       "      <td>0.59</td>\n",
       "      <td>0.21</td>\n",
       "      <td>0.33</td>\n",
       "      <td>0.53</td>\n",
       "      <td>0.18</td>\n",
       "      <td>0.35</td>\n",
       "      <td>0.42</td>\n",
       "      <td>-0.10</td>\n",
       "    </tr>\n",
       "    <tr>\n",
       "      <th>1</th>\n",
       "      <td>t5272</td>\n",
       "      <td>85B15</td>\n",
       "      <td>0.06</td>\n",
       "      <td>7.61</td>\n",
       "      <td>7.35</td>\n",
       "      <td>9.59</td>\n",
       "      <td>1.54</td>\n",
       "      <td>1.75</td>\n",
       "      <td>1.87</td>\n",
       "      <td>0.29</td>\n",
       "      <td>...</td>\n",
       "      <td>-0.53</td>\n",
       "      <td>0.94</td>\n",
       "      <td>0.67</td>\n",
       "      <td>0.82</td>\n",
       "      <td>0.60</td>\n",
       "      <td>0.10</td>\n",
       "      <td>0.11</td>\n",
       "      <td>0.17</td>\n",
       "      <td>0.03</td>\n",
       "      <td>0.17</td>\n",
       "    </tr>\n",
       "    <tr>\n",
       "      <th>2</th>\n",
       "      <td>t5272</td>\n",
       "      <td>86B15</td>\n",
       "      <td>0.05</td>\n",
       "      <td>11.81</td>\n",
       "      <td>8.25</td>\n",
       "      <td>16.09</td>\n",
       "      <td>1.84</td>\n",
       "      <td>1.45</td>\n",
       "      <td>2.07</td>\n",
       "      <td>3.49</td>\n",
       "      <td>...</td>\n",
       "      <td>0.37</td>\n",
       "      <td>0.14</td>\n",
       "      <td>1.04</td>\n",
       "      <td>0.92</td>\n",
       "      <td>1.01</td>\n",
       "      <td>0.12</td>\n",
       "      <td>0.09</td>\n",
       "      <td>0.18</td>\n",
       "      <td>0.31</td>\n",
       "      <td>-0.14</td>\n",
       "    </tr>\n",
       "    <tr>\n",
       "      <th>3</th>\n",
       "      <td>t5317</td>\n",
       "      <td>11B16</td>\n",
       "      <td>0.08</td>\n",
       "      <td>6.63</td>\n",
       "      <td>-0.76</td>\n",
       "      <td>3.17</td>\n",
       "      <td>2.83</td>\n",
       "      <td>7.27</td>\n",
       "      <td>4.72</td>\n",
       "      <td>7.35</td>\n",
       "      <td>...</td>\n",
       "      <td>2.37</td>\n",
       "      <td>-0.96</td>\n",
       "      <td>0.63</td>\n",
       "      <td>-0.09</td>\n",
       "      <td>0.24</td>\n",
       "      <td>0.22</td>\n",
       "      <td>0.56</td>\n",
       "      <td>0.45</td>\n",
       "      <td>0.70</td>\n",
       "      <td>-0.31</td>\n",
       "    </tr>\n",
       "    <tr>\n",
       "      <th>4</th>\n",
       "      <td>t5317</td>\n",
       "      <td>12B16</td>\n",
       "      <td>0.05</td>\n",
       "      <td>11.13</td>\n",
       "      <td>6.54</td>\n",
       "      <td>6.77</td>\n",
       "      <td>0.13</td>\n",
       "      <td>6.17</td>\n",
       "      <td>7.22</td>\n",
       "      <td>4.65</td>\n",
       "      <td>...</td>\n",
       "      <td>1.37</td>\n",
       "      <td>0.54</td>\n",
       "      <td>1.06</td>\n",
       "      <td>0.76</td>\n",
       "      <td>0.52</td>\n",
       "      <td>0.01</td>\n",
       "      <td>0.47</td>\n",
       "      <td>0.69</td>\n",
       "      <td>0.44</td>\n",
       "      <td>0.28</td>\n",
       "    </tr>\n",
       "  </tbody>\n",
       "</table>\n",
       "<p>5 rows × 22 columns</p>\n",
       "</div>"
      ],
      "text/plain": [
       "  id value biopsy  vol/fvox    cho   cre    naa   lip   lac  xschn  xsccr  \\\n",
       "0    t4966  68B12      0.08   6.51  1.87   4.40  7.20  2.47   3.85   4.69   \n",
       "1    t5272  85B15      0.06   7.61  7.35   9.59  1.54  1.75   1.87   0.29   \n",
       "2    t5272  86B15      0.05  11.81  8.25  16.09  1.84  1.45   2.07   3.49   \n",
       "3    t5317  11B16      0.08   6.63 -0.76   3.17  2.83  7.27   4.72   7.35   \n",
       "4    t5317  12B16      0.05  11.13  6.54   6.77  0.13  6.17   7.22   4.65   \n",
       "\n",
       "    ...    ccri  crni  ncho  ncre  nnaa  nlip  nlac  nxschn  nxsccr  nxscrn  \n",
       "0   ...    1.89 -0.46  0.59  0.21  0.33  0.53  0.18    0.35    0.42   -0.10  \n",
       "1   ...   -0.53  0.94  0.67  0.82  0.60  0.10  0.11    0.17    0.03    0.17  \n",
       "2   ...    0.37  0.14  1.04  0.92  1.01  0.12  0.09    0.18    0.31   -0.14  \n",
       "3   ...    2.37 -0.96  0.63 -0.09  0.24  0.22  0.56    0.45    0.70   -0.31  \n",
       "4   ...    1.37  0.54  1.06  0.76  0.52  0.01  0.47    0.69    0.44    0.28  \n",
       "\n",
       "[5 rows x 22 columns]"
      ]
     },
     "execution_count": 37,
     "metadata": {},
     "output_type": "execute_result"
    }
   ],
   "source": [
    "spec = pd.read_csv('oldP01_spec_stats.biopsy.csv', index_col = 0)\n",
    "spec.head()"
   ]
  },
  {
   "cell_type": "code",
   "execution_count": 38,
   "metadata": {},
   "outputs": [],
   "source": [
    "spec.columns = ['id_value', 'biopsy', 'vol_fvox', 'cho', 'cre', 'naa', 'lip', 'lac',\n",
    "       'xschn', 'xsccr', 'xscrn', 'cni', 'ccri', 'crni', 'ncho', 'ncre',\n",
    "       'nnaa', 'nlip', 'nlac', 'nxschn', 'nxsccr', 'nxscrn']"
   ]
  },
  {
   "cell_type": "code",
   "execution_count": 39,
   "metadata": {},
   "outputs": [
    {
     "data": {
      "text/plain": [
       "(264, 25)"
      ]
     },
     "execution_count": 39,
     "metadata": {},
     "output_type": "execute_result"
    }
   ],
   "source": [
    "ad = pd.merge(anat, diffu, 'outer', on = ['id_value', 'biopsy', \"vol_fvox\"])\n",
    "ad.shape"
   ]
  },
  {
   "cell_type": "code",
   "execution_count": 40,
   "metadata": {},
   "outputs": [
    {
     "data": {
      "text/plain": [
       "(264, 32)"
      ]
     },
     "execution_count": 40,
     "metadata": {},
     "output_type": "execute_result"
    }
   ],
   "source": [
    "adp = pd.merge(ad, perf, 'outer', on = ['id_value', 'biopsy'])\n",
    "adp.shape"
   ]
  },
  {
   "cell_type": "code",
   "execution_count": 41,
   "metadata": {},
   "outputs": [
    {
     "data": {
      "text/plain": [
       "(353, 51)"
      ]
     },
     "execution_count": 41,
     "metadata": {},
     "output_type": "execute_result"
    }
   ],
   "source": [
    "adps = pd.merge(adp, spec, 'outer', on = ['id_value', 'biopsy', \"vol_fvox\"])\n",
    "adps.shape"
   ]
  },
  {
   "cell_type": "code",
   "execution_count": 42,
   "metadata": {},
   "outputs": [],
   "source": [
    "adps = adps.groupby(\"biopsy\", as_index=False).first()"
   ]
  },
  {
   "cell_type": "code",
   "execution_count": 43,
   "metadata": {},
   "outputs": [
    {
     "data": {
      "text/plain": [
       "51"
      ]
     },
     "execution_count": 43,
     "metadata": {},
     "output_type": "execute_result"
    }
   ],
   "source": [
    "len(adps.columns)"
   ]
  },
  {
   "cell_type": "code",
   "execution_count": 44,
   "metadata": {},
   "outputs": [
    {
     "data": {
      "text/plain": [
       "Index(['biopsy', 'id_value', 'vol_fvox', 't1c', 't1v', 't1d', 'fse', 'fl',\n",
       "       'nt1c', 'nt1v', 'nt1d', 'nfse', 'nfl', 'adc', 'fa', 'ev1', 'ev2', 'ev3',\n",
       "       'evr', 'nadc', 'nfa', 'nev1', 'nev2', 'nev3', 'nevr', 'bnum',\n",
       "       'phn_nlin', 'cbvn_nlin', 'recov_nlin', 'phn_npar', 'recov_npar',\n",
       "       'recovn_npar', 'cho', 'cre', 'naa', 'lip', 'lac', 'xschn', 'xsccr',\n",
       "       'xscrn', 'cni', 'ccri', 'crni', 'ncho', 'ncre', 'nnaa', 'nlip', 'nlac',\n",
       "       'nxschn', 'nxsccr', 'nxscrn'],\n",
       "      dtype='object')"
      ]
     },
     "execution_count": 44,
     "metadata": {},
     "output_type": "execute_result"
    }
   ],
   "source": [
    "adps.columns"
   ]
  },
  {
   "cell_type": "code",
   "execution_count": 45,
   "metadata": {},
   "outputs": [],
   "source": [
    "cols_of_interest = ['biopsy', \n",
    "                   'id_value', \n",
    "                   'nt1c', \n",
    "                   'nt1v', \n",
    "                   'nfse', \n",
    "                   'nfl', \n",
    "                   'nt1d',\n",
    "                   'nadc', 'nfa', \n",
    "                   'nev1', 'nev2', 'nev3', \n",
    "                   'nevr', 'phn_nlin', 'cbvn_nlin', 'recov_nlin', \n",
    "                   'phn_npar','recov_npar', 'cni', 'ccri', 'crni', \n",
    "                   'ncho', 'ncre', 'nnaa', 'nlip', 'nlac']"
   ]
  },
  {
   "cell_type": "code",
   "execution_count": 46,
   "metadata": {},
   "outputs": [],
   "source": [
    "old_data_final = adps[cols_of_interest]"
   ]
  },
  {
   "cell_type": "code",
   "execution_count": 47,
   "metadata": {},
   "outputs": [
    {
     "data": {
      "text/plain": [
       "(261, 26)"
      ]
     },
     "execution_count": 47,
     "metadata": {},
     "output_type": "execute_result"
    }
   ],
   "source": [
    "old_data_final.shape"
   ]
  },
  {
   "cell_type": "code",
   "execution_count": 48,
   "metadata": {},
   "outputs": [
    {
     "data": {
      "text/html": [
       "<div>\n",
       "<style>\n",
       "    .dataframe thead tr:only-child th {\n",
       "        text-align: right;\n",
       "    }\n",
       "\n",
       "    .dataframe thead th {\n",
       "        text-align: left;\n",
       "    }\n",
       "\n",
       "    .dataframe tbody tr th {\n",
       "        vertical-align: top;\n",
       "    }\n",
       "</style>\n",
       "<table border=\"1\" class=\"dataframe\">\n",
       "  <thead>\n",
       "    <tr style=\"text-align: right;\">\n",
       "      <th></th>\n",
       "      <th>biopsy</th>\n",
       "      <th>id_value</th>\n",
       "      <th>nt1c</th>\n",
       "      <th>nt1v</th>\n",
       "      <th>nfse</th>\n",
       "      <th>nfl</th>\n",
       "      <th>nt1d</th>\n",
       "      <th>nadc</th>\n",
       "      <th>nfa</th>\n",
       "      <th>nev1</th>\n",
       "      <th>...</th>\n",
       "      <th>phn_npar</th>\n",
       "      <th>recov_npar</th>\n",
       "      <th>cni</th>\n",
       "      <th>ccri</th>\n",
       "      <th>crni</th>\n",
       "      <th>ncho</th>\n",
       "      <th>ncre</th>\n",
       "      <th>nnaa</th>\n",
       "      <th>nlip</th>\n",
       "      <th>nlac</th>\n",
       "    </tr>\n",
       "  </thead>\n",
       "  <tbody>\n",
       "    <tr>\n",
       "      <th>0</th>\n",
       "      <td>10B28</td>\n",
       "      <td>t6369</td>\n",
       "      <td>1.25</td>\n",
       "      <td>0.82</td>\n",
       "      <td>2.16</td>\n",
       "      <td>1.95</td>\n",
       "      <td>0.41</td>\n",
       "      <td>1.35</td>\n",
       "      <td>0.74</td>\n",
       "      <td>1.21</td>\n",
       "      <td>...</td>\n",
       "      <td>0.79</td>\n",
       "      <td>84.71</td>\n",
       "      <td>5.25</td>\n",
       "      <td>4.48</td>\n",
       "      <td>-0.07</td>\n",
       "      <td>1.49</td>\n",
       "      <td>0.38</td>\n",
       "      <td>0.39</td>\n",
       "      <td>0.03</td>\n",
       "      <td>0.28</td>\n",
       "    </tr>\n",
       "    <tr>\n",
       "      <th>1</th>\n",
       "      <td>11B16</td>\n",
       "      <td>t5317</td>\n",
       "      <td>1.87</td>\n",
       "      <td>0.74</td>\n",
       "      <td>2.30</td>\n",
       "      <td>1.47</td>\n",
       "      <td>1.15</td>\n",
       "      <td>2.01</td>\n",
       "      <td>0.58</td>\n",
       "      <td>1.70</td>\n",
       "      <td>...</td>\n",
       "      <td>2.25</td>\n",
       "      <td>87.55</td>\n",
       "      <td>1.65</td>\n",
       "      <td>2.37</td>\n",
       "      <td>-0.96</td>\n",
       "      <td>0.63</td>\n",
       "      <td>-0.09</td>\n",
       "      <td>0.24</td>\n",
       "      <td>0.22</td>\n",
       "      <td>0.56</td>\n",
       "    </tr>\n",
       "    <tr>\n",
       "      <th>2</th>\n",
       "      <td>11B40</td>\n",
       "      <td>t7408</td>\n",
       "      <td>0.95</td>\n",
       "      <td>0.94</td>\n",
       "      <td>2.43</td>\n",
       "      <td>1.16</td>\n",
       "      <td>0.01</td>\n",
       "      <td>1.75</td>\n",
       "      <td>0.42</td>\n",
       "      <td>1.36</td>\n",
       "      <td>...</td>\n",
       "      <td>NaN</td>\n",
       "      <td>NaN</td>\n",
       "      <td>3.49</td>\n",
       "      <td>0.69</td>\n",
       "      <td>2.47</td>\n",
       "      <td>1.11</td>\n",
       "      <td>0.95</td>\n",
       "      <td>0.44</td>\n",
       "      <td>-0.02</td>\n",
       "      <td>-0.02</td>\n",
       "    </tr>\n",
       "    <tr>\n",
       "      <th>3</th>\n",
       "      <td>11B43</td>\n",
       "      <td>t7540</td>\n",
       "      <td>0.75</td>\n",
       "      <td>0.79</td>\n",
       "      <td>2.36</td>\n",
       "      <td>2.00</td>\n",
       "      <td>-0.04</td>\n",
       "      <td>1.34</td>\n",
       "      <td>0.63</td>\n",
       "      <td>1.13</td>\n",
       "      <td>...</td>\n",
       "      <td>0.60</td>\n",
       "      <td>100.00</td>\n",
       "      <td>NaN</td>\n",
       "      <td>NaN</td>\n",
       "      <td>NaN</td>\n",
       "      <td>NaN</td>\n",
       "      <td>NaN</td>\n",
       "      <td>NaN</td>\n",
       "      <td>NaN</td>\n",
       "      <td>NaN</td>\n",
       "    </tr>\n",
       "    <tr>\n",
       "      <th>4</th>\n",
       "      <td>12B16</td>\n",
       "      <td>t5317</td>\n",
       "      <td>2.06</td>\n",
       "      <td>0.70</td>\n",
       "      <td>2.28</td>\n",
       "      <td>1.58</td>\n",
       "      <td>1.34</td>\n",
       "      <td>2.17</td>\n",
       "      <td>0.82</td>\n",
       "      <td>1.90</td>\n",
       "      <td>...</td>\n",
       "      <td>1.88</td>\n",
       "      <td>88.16</td>\n",
       "      <td>2.50</td>\n",
       "      <td>1.37</td>\n",
       "      <td>0.54</td>\n",
       "      <td>1.06</td>\n",
       "      <td>0.76</td>\n",
       "      <td>0.52</td>\n",
       "      <td>0.01</td>\n",
       "      <td>0.47</td>\n",
       "    </tr>\n",
       "  </tbody>\n",
       "</table>\n",
       "<p>5 rows × 26 columns</p>\n",
       "</div>"
      ],
      "text/plain": [
       "  biopsy id_value  nt1c  nt1v  nfse   nfl  nt1d  nadc   nfa  nev1  ...   \\\n",
       "0  10B28    t6369  1.25  0.82  2.16  1.95  0.41  1.35  0.74  1.21  ...    \n",
       "1  11B16    t5317  1.87  0.74  2.30  1.47  1.15  2.01  0.58  1.70  ...    \n",
       "2  11B40    t7408  0.95  0.94  2.43  1.16  0.01  1.75  0.42  1.36  ...    \n",
       "3  11B43    t7540  0.75  0.79  2.36  2.00 -0.04  1.34  0.63  1.13  ...    \n",
       "4  12B16    t5317  2.06  0.70  2.28  1.58  1.34  2.17  0.82  1.90  ...    \n",
       "\n",
       "   phn_npar  recov_npar   cni  ccri  crni  ncho  ncre  nnaa  nlip  nlac  \n",
       "0      0.79       84.71  5.25  4.48 -0.07  1.49  0.38  0.39  0.03  0.28  \n",
       "1      2.25       87.55  1.65  2.37 -0.96  0.63 -0.09  0.24  0.22  0.56  \n",
       "2       NaN         NaN  3.49  0.69  2.47  1.11  0.95  0.44 -0.02 -0.02  \n",
       "3      0.60      100.00   NaN   NaN   NaN   NaN   NaN   NaN   NaN   NaN  \n",
       "4      1.88       88.16  2.50  1.37  0.54  1.06  0.76  0.52  0.01  0.47  \n",
       "\n",
       "[5 rows x 26 columns]"
      ]
     },
     "execution_count": 48,
     "metadata": {},
     "output_type": "execute_result"
    }
   ],
   "source": [
    "old_data_final.head()"
   ]
  },
  {
   "cell_type": "code",
   "execution_count": 49,
   "metadata": {},
   "outputs": [
    {
     "data": {
      "text/plain": [
       "Index(['biopsy', 'id_value', 'nt1c', 'nt1v', 'nfse', 'nfl', 'nt1d', 'nadc',\n",
       "       'nfa', 'nev1', 'nev2', 'nev3', 'nevr', 'phn_nlin', 'cbvn_nlin',\n",
       "       'recov_nlin', 'phn_npar', 'recov_npar', 'cni', 'ccri', 'crni', 'ncho',\n",
       "       'ncre', 'nnaa', 'nlip', 'nlac'],\n",
       "      dtype='object')"
      ]
     },
     "execution_count": 49,
     "metadata": {},
     "output_type": "execute_result"
    }
   ],
   "source": [
    "old_data_final.columns"
   ]
  },
  {
   "cell_type": "code",
   "execution_count": 50,
   "metadata": {},
   "outputs": [],
   "source": [
    "old_data_final.columns = ['roi.label', 't_number', 'nt1c', 'nt1v', 'nfse', 'nfl', 'nt1d', 'nadc.1',\n",
    "       'nfa.1', 'nev1.1', 'nev2.1', 'nev3.1', 'nevrad.1', 'phn_nlin', 'cbvn_nlin',\n",
    "       'recov_nlin', 'phn_npar','recov_npar', 'cni', 'ccri', 'crni', 'ncho', 'ncre', 'nnaa',\n",
    "       'nlip', 'nlac']"
   ]
  },
  {
   "cell_type": "code",
   "execution_count": 52,
   "metadata": {},
   "outputs": [],
   "source": [
    "old_data_final.to_csv('old_po1_data_nov2018.csv')"
   ]
  },
  {
   "cell_type": "code",
   "execution_count": null,
   "metadata": {},
   "outputs": [],
   "source": []
  }
 ],
 "metadata": {
  "kernelspec": {
   "display_name": "python36",
   "language": "python",
   "name": "python36"
  },
  "language_info": {
   "codemirror_mode": {
    "name": "ipython",
    "version": 3
   },
   "file_extension": ".py",
   "mimetype": "text/x-python",
   "name": "python",
   "nbconvert_exporter": "python",
   "pygments_lexer": "ipython3",
   "version": "3.6.2"
  }
 },
 "nbformat": 4,
 "nbformat_minor": 2
}
