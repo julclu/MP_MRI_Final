{
 "cells": [
  {
   "cell_type": "code",
   "execution_count": 1,
   "metadata": {},
   "outputs": [],
   "source": [
    "import pandas as pd\n",
    "import os\n",
    "import glob"
   ]
  },
  {
   "cell_type": "code",
   "execution_count": 2,
   "metadata": {},
   "outputs": [
    {
     "data": {
      "text/plain": [
       "['rec_hgg_path_jan_2019.csv',\n",
       " 'REC_HGG_diffu1000_biopsies.csv',\n",
       " 'rec_hgg_process_list.79.csv',\n",
       " 'REC_HGG_anat_error_log.csv',\n",
       " 'rec_hgg_anat_median_biopsy.csv',\n",
       " 'REC_HGG_diffu1000_error_log.csv',\n",
       " 'REC_HGG_diffu2000_biopsies.csv',\n",
       " 'REC_HGG_diffu2000_error_log.csv',\n",
       " 'rec_hgg_perf_biopsy.csv',\n",
       " 'REC_HGG_perf_error_log.csv',\n",
       " 'REC_HGG_spec_error_log.csv',\n",
       " 'rec_hgg_spec_median_biopsy.csv',\n",
       " 'rec_hgg_data_jan2019.csv']"
      ]
     },
     "execution_count": 2,
     "metadata": {},
     "output_type": "execute_result"
    }
   ],
   "source": [
    "glob.glob(\"*.csv\")"
   ]
  },
  {
   "cell_type": "code",
   "execution_count": 3,
   "metadata": {},
   "outputs": [
    {
     "data": {
      "text/plain": [
       "(228, 11)"
      ]
     },
     "execution_count": 3,
     "metadata": {},
     "output_type": "execute_result"
    }
   ],
   "source": [
    "anat = pd.read_csv(\"rec_hgg_anat_median_biopsy.csv\", index_col = 0)\n",
    "anat.shape"
   ]
  },
  {
   "cell_type": "code",
   "execution_count": 4,
   "metadata": {},
   "outputs": [
    {
     "data": {
      "text/html": [
       "<div>\n",
       "<style>\n",
       "    .dataframe thead tr:only-child th {\n",
       "        text-align: right;\n",
       "    }\n",
       "\n",
       "    .dataframe thead th {\n",
       "        text-align: left;\n",
       "    }\n",
       "\n",
       "    .dataframe tbody tr th {\n",
       "        vertical-align: top;\n",
       "    }\n",
       "</style>\n",
       "<table border=\"1\" class=\"dataframe\">\n",
       "  <thead>\n",
       "    <tr style=\"text-align: right;\">\n",
       "      <th></th>\n",
       "      <th>roi.label</th>\n",
       "      <th>fse</th>\n",
       "      <th>fl</th>\n",
       "      <th>t1c</th>\n",
       "      <th>t1v</th>\n",
       "      <th>t1d</th>\n",
       "      <th>nfse</th>\n",
       "      <th>nfl</th>\n",
       "      <th>nt1c</th>\n",
       "      <th>nt1v</th>\n",
       "      <th>nt1d</th>\n",
       "    </tr>\n",
       "    <tr>\n",
       "      <th>tnum</th>\n",
       "      <th></th>\n",
       "      <th></th>\n",
       "      <th></th>\n",
       "      <th></th>\n",
       "      <th></th>\n",
       "      <th></th>\n",
       "      <th></th>\n",
       "      <th></th>\n",
       "      <th></th>\n",
       "      <th></th>\n",
       "      <th></th>\n",
       "    </tr>\n",
       "  </thead>\n",
       "  <tbody>\n",
       "    <tr>\n",
       "      <th>t8773</th>\n",
       "      <td>61B60</td>\n",
       "      <td>845.0</td>\n",
       "      <td>2415.0</td>\n",
       "      <td>1950.0</td>\n",
       "      <td>NaN</td>\n",
       "      <td>NaN</td>\n",
       "      <td>1.51</td>\n",
       "      <td>1.74</td>\n",
       "      <td>0.91</td>\n",
       "      <td>NaN</td>\n",
       "      <td>NaN</td>\n",
       "    </tr>\n",
       "    <tr>\n",
       "      <th>t8773</th>\n",
       "      <td>62B60</td>\n",
       "      <td>885.0</td>\n",
       "      <td>2435.0</td>\n",
       "      <td>2750.0</td>\n",
       "      <td>NaN</td>\n",
       "      <td>NaN</td>\n",
       "      <td>1.58</td>\n",
       "      <td>1.75</td>\n",
       "      <td>1.29</td>\n",
       "      <td>NaN</td>\n",
       "      <td>NaN</td>\n",
       "    </tr>\n",
       "    <tr>\n",
       "      <th>t8773</th>\n",
       "      <td>63B60</td>\n",
       "      <td>685.0</td>\n",
       "      <td>1635.0</td>\n",
       "      <td>1970.0</td>\n",
       "      <td>NaN</td>\n",
       "      <td>NaN</td>\n",
       "      <td>1.22</td>\n",
       "      <td>1.18</td>\n",
       "      <td>0.92</td>\n",
       "      <td>NaN</td>\n",
       "      <td>NaN</td>\n",
       "    </tr>\n",
       "    <tr>\n",
       "      <th>t8775</th>\n",
       "      <td>2B61</td>\n",
       "      <td>835.0</td>\n",
       "      <td>2375.0</td>\n",
       "      <td>4410.0</td>\n",
       "      <td>NaN</td>\n",
       "      <td>NaN</td>\n",
       "      <td>1.61</td>\n",
       "      <td>1.80</td>\n",
       "      <td>2.12</td>\n",
       "      <td>NaN</td>\n",
       "      <td>NaN</td>\n",
       "    </tr>\n",
       "    <tr>\n",
       "      <th>t8775</th>\n",
       "      <td>1B61</td>\n",
       "      <td>765.0</td>\n",
       "      <td>2395.0</td>\n",
       "      <td>3950.0</td>\n",
       "      <td>NaN</td>\n",
       "      <td>NaN</td>\n",
       "      <td>1.47</td>\n",
       "      <td>1.81</td>\n",
       "      <td>1.90</td>\n",
       "      <td>NaN</td>\n",
       "      <td>NaN</td>\n",
       "    </tr>\n",
       "  </tbody>\n",
       "</table>\n",
       "</div>"
      ],
      "text/plain": [
       "      roi.label    fse      fl     t1c  t1v  t1d  nfse   nfl  nt1c  nt1v  nt1d\n",
       "tnum                                                                          \n",
       "t8773     61B60  845.0  2415.0  1950.0  NaN  NaN  1.51  1.74  0.91   NaN   NaN\n",
       "t8773     62B60  885.0  2435.0  2750.0  NaN  NaN  1.58  1.75  1.29   NaN   NaN\n",
       "t8773     63B60  685.0  1635.0  1970.0  NaN  NaN  1.22  1.18  0.92   NaN   NaN\n",
       "t8775      2B61  835.0  2375.0  4410.0  NaN  NaN  1.61  1.80  2.12   NaN   NaN\n",
       "t8775      1B61  765.0  2395.0  3950.0  NaN  NaN  1.47  1.81  1.90   NaN   NaN"
      ]
     },
     "execution_count": 4,
     "metadata": {},
     "output_type": "execute_result"
    }
   ],
   "source": [
    "anat.head()"
   ]
  },
  {
   "cell_type": "code",
   "execution_count": 5,
   "metadata": {},
   "outputs": [
    {
     "data": {
      "text/plain": [
       "Index(['roi.label', 'adc.1', 'fa.1', 'nadc.1', 'nfa.1', 'nev1.1', 'nev2.1',\n",
       "       'nev3.1', 'nevrad.1'],\n",
       "      dtype='object')"
      ]
     },
     "execution_count": 5,
     "metadata": {},
     "output_type": "execute_result"
    }
   ],
   "source": [
    "diffu1000 = pd.read_csv(\"REC_HGG_diffu1000_biopsies.csv\", index_col = 0)\n",
    "diffu1000.shape\n",
    "diffu1000.columns"
   ]
  },
  {
   "cell_type": "code",
   "execution_count": 6,
   "metadata": {},
   "outputs": [
    {
     "data": {
      "text/plain": [
       "Index(['roi.label', 'adc.2', 'fa.2', 'nadc.2', 'nfa.2', 'nev1.2', 'nev2.2',\n",
       "       'nev3.2', 'nevrad.2'],\n",
       "      dtype='object')"
      ]
     },
     "execution_count": 6,
     "metadata": {},
     "output_type": "execute_result"
    }
   ],
   "source": [
    "diffu2000 = pd.read_csv(\"REC_HGG_diffu2000_biopsies.csv\", index_col = 0)\n",
    "diffu2000.shape\n",
    "diffu2000.columns"
   ]
  },
  {
   "cell_type": "code",
   "execution_count": 7,
   "metadata": {},
   "outputs": [],
   "source": [
    "perf = pd.read_csv('rec_hgg_perf_biopsy.csv', index_col = 0)\n",
    "perf.shape\n",
    "perf.columns = ['tnum', 'roi.label', 'phn_nlin', 'cbvn_nlin', 'recov_nlin', 'phn_npar',\n",
    "       'recov_npar', 'recovn_npar']"
   ]
  },
  {
   "cell_type": "code",
   "execution_count": 8,
   "metadata": {},
   "outputs": [
    {
     "data": {
      "text/plain": [
       "(182, 9)"
      ]
     },
     "execution_count": 8,
     "metadata": {},
     "output_type": "execute_result"
    }
   ],
   "source": [
    "spec = pd.read_csv('rec_hgg_spec_median_biopsy.csv', index_col = 0)\n",
    "spec.shape"
   ]
  },
  {
   "cell_type": "code",
   "execution_count": 9,
   "metadata": {},
   "outputs": [
    {
     "data": {
      "text/plain": [
       "(228, 19)"
      ]
     },
     "execution_count": 9,
     "metadata": {},
     "output_type": "execute_result"
    }
   ],
   "source": [
    "ad = pd.merge(anat, diffu1000, how = 'outer', on = ['roi.label'])\n",
    "ad.shape"
   ]
  },
  {
   "cell_type": "code",
   "execution_count": 10,
   "metadata": {},
   "outputs": [
    {
     "data": {
      "text/plain": [
       "(228, 27)"
      ]
     },
     "execution_count": 10,
     "metadata": {},
     "output_type": "execute_result"
    }
   ],
   "source": [
    "add = pd.merge(ad, diffu2000, how = 'outer', on = ['roi.label'])\n",
    "add.shape"
   ]
  },
  {
   "cell_type": "code",
   "execution_count": 11,
   "metadata": {},
   "outputs": [
    {
     "data": {
      "text/plain": [
       "(228, 34)"
      ]
     },
     "execution_count": 11,
     "metadata": {},
     "output_type": "execute_result"
    }
   ],
   "source": [
    "addp = pd.merge(add, perf, how = 'outer', on = ['roi.label'])\n",
    "addp.shape"
   ]
  },
  {
   "cell_type": "code",
   "execution_count": 12,
   "metadata": {},
   "outputs": [
    {
     "data": {
      "text/plain": [
       "(228, 42)"
      ]
     },
     "execution_count": 12,
     "metadata": {},
     "output_type": "execute_result"
    }
   ],
   "source": [
    "addps = pd.merge(addp, spec, how = 'outer', on = ['roi.label'])\n",
    "addps.shape"
   ]
  },
  {
   "cell_type": "code",
   "execution_count": 13,
   "metadata": {},
   "outputs": [
    {
     "data": {
      "text/plain": [
       "Index(['roi.label', 'fse', 'fl', 't1c', 't1v', 't1d', 'nfse', 'nfl', 'nt1c',\n",
       "       'nt1v', 'nt1d', 'adc.1', 'fa.1', 'nadc.1', 'nfa.1', 'nev1.1', 'nev2.1',\n",
       "       'nev3.1', 'nevrad.1', 'adc.2', 'fa.2', 'nadc.2', 'nfa.2', 'nev1.2',\n",
       "       'nev2.2', 'nev3.2', 'nevrad.2', 'tnum', 'phn_nlin', 'cbvn_nlin',\n",
       "       'recov_nlin', 'phn_npar', 'recov_npar', 'recovn_npar', 'cni', 'ccri',\n",
       "       'crni', 'ncho', 'ncre', 'nnaa', 'nlac', 'nlip'],\n",
       "      dtype='object')"
      ]
     },
     "execution_count": 13,
     "metadata": {},
     "output_type": "execute_result"
    }
   ],
   "source": [
    "addps.columns"
   ]
  },
  {
   "cell_type": "code",
   "execution_count": 14,
   "metadata": {},
   "outputs": [],
   "source": [
    "addps = addps.groupby(\"roi.label\", as_index=False).first()"
   ]
  },
  {
   "cell_type": "code",
   "execution_count": 15,
   "metadata": {},
   "outputs": [],
   "source": [
    "cols_of_interest = ['roi.label','tnum', 'nfse', 'nfl', 'nt1c',\n",
    "       'nt1v', 'nt1d', 'nadc.1', 'nfa.1', 'nev1.1', 'nev2.1',\n",
    "       'nev3.1', 'nevrad.1', 'nadc.2', 'nfa.2', 'nev1.2',\n",
    "       'nev2.2', 'nev3.2', 'nevrad.2', 'phn_nlin', 'cbvn_nlin',\n",
    "       'recov_nlin', 'phn_npar', 'recov_npar', 'recovn_npar', 'cni', 'ccri',\n",
    "       'crni', 'ncho', 'ncre', 'nnaa', 'nlac', 'nlip']"
   ]
  },
  {
   "cell_type": "code",
   "execution_count": 16,
   "metadata": {},
   "outputs": [],
   "source": [
    "addps = addps[cols_of_interest]"
   ]
  },
  {
   "cell_type": "code",
   "execution_count": 17,
   "metadata": {},
   "outputs": [
    {
     "data": {
      "text/plain": [
       "(228, 33)"
      ]
     },
     "execution_count": 17,
     "metadata": {},
     "output_type": "execute_result"
    }
   ],
   "source": [
    "addps.shape"
   ]
  },
  {
   "cell_type": "code",
   "execution_count": 18,
   "metadata": {},
   "outputs": [],
   "source": [
    "addps.to_csv('rec_hgg_data.csv')"
   ]
  },
  {
   "cell_type": "code",
   "execution_count": null,
   "metadata": {},
   "outputs": [],
   "source": []
  },
  {
   "cell_type": "code",
   "execution_count": null,
   "metadata": {},
   "outputs": [],
   "source": []
  },
  {
   "cell_type": "code",
   "execution_count": null,
   "metadata": {},
   "outputs": [],
   "source": []
  }
 ],
 "metadata": {
  "kernelspec": {
   "display_name": "python36",
   "language": "python",
   "name": "python36"
  },
  "language_info": {
   "codemirror_mode": {
    "name": "ipython",
    "version": 3
   },
   "file_extension": ".py",
   "mimetype": "text/x-python",
   "name": "python",
   "nbconvert_exporter": "python",
   "pygments_lexer": "ipython3",
   "version": "3.6.2"
  }
 },
 "nbformat": 4,
 "nbformat_minor": 2
}
